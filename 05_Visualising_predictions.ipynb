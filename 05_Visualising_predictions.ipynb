{
 "cells": [
  {
   "cell_type": "markdown",
   "id": "f110e018",
   "metadata": {},
   "source": [
    "# Visualising predictions\n",
    "\n",
    "Splink contains a variety of tools to help you visualise your predictions.\n",
    "\n",
    "The idea is that, by developing an understanding of how your model works, you can gain confidence that the predictions it makes are sensible, or alternatively find examples of where your model isn't working, which may help you improve the model specification and fix these problems.\n",
    "\n"
   ]
  },
  {
   "cell_type": "code",
   "execution_count": null,
   "id": "fb29d421",
   "metadata": {},
   "outputs": [],
   "source": [
    "# Rerun our predictions to we're ready to view the charts\n",
    "from splink.duckdb.duckdb_linker import DuckDBLinker\n",
    "import pandas as pd \n",
    "import altair as alt\n",
    "alt.renderers.enable('mimetype')\n",
    "\n",
    "df = pd.read_csv(\"./data/fake_1000.csv\")\n",
    "linker = DuckDBLinker(df)\n",
    "linker.load_settings_from_json(\"./demo_settings/saved_model_from_demo.json\")\n",
    "df_predictions = linker.predict(threshold_match_probability=0.2)"
   ]
  },
  {
   "cell_type": "markdown",
   "id": "7b0dedd9",
   "metadata": {},
   "source": [
    "## Waterfall chart\n",
    "\n",
    "The waterfall chart provides a means of visualising individual predictions to understand how Splink computed the final matchweight for a particular pairwise record comparison.\n",
    "\n",
    "To plot a waterfall chart, the user chooses one or more records from the results of `linker.predict()`, and provides these records to the [`linker.waterfall_chart()`](https://moj-analytical-services.github.io/splink/linkerqa.html#splink.linker.Linker.waterfall_chart) function.\n",
    "\n",
    "For an introduction to waterfall charts and how to interpret them, please see [this](https://www.youtube.com/watch?v=msz3T741KQI&t=507s) video."
   ]
  },
  {
   "cell_type": "code",
   "execution_count": null,
   "id": "bbfdc70c",
   "metadata": {},
   "outputs": [],
   "source": [
    "records_to_view  = df_predictions.as_record_dict(limit=5)\n",
    "linker.waterfall_chart(records_to_view, filter_nulls=False)\n"
   ]
  },
  {
   "cell_type": "markdown",
   "id": "48b76176",
   "metadata": {},
   "source": [
    "## Comparison viewer dashboard\n",
    "\n",
    "The [comparison viewer dashboard](https://moj-analytical-services.github.io/splink/linkerqa.html#splink.linker.Linker.comparison_viewer_dashboard) takes this one step further by producing an interactive dashboard that contains example predictions from across the spectrum of match scores.\n",
    "\n",
    "An in-depth video describing how to interpret the dashboard can be found [here](https://www.youtube.com/watch?v=DNvCMqjipis).\n"
   ]
  },
  {
   "cell_type": "code",
   "execution_count": null,
   "id": "da85169c",
   "metadata": {},
   "outputs": [],
   "source": [
    "linker.comparison_viewer_dashboard(df_predictions, \"scv.html\", overwrite=True)\n",
    "\n",
    "# You can view the scv.html file in your browser, or inline in a notbook as follows\n",
    "from IPython.display import IFrame\n",
    "IFrame(\n",
    "    src=\"./scv.html\", width=\"100%\", height=1200\n",
    ")  "
   ]
  },
  {
   "cell_type": "markdown",
   "id": "d34df82c",
   "metadata": {},
   "source": [
    "## Cluster studio dashboard\n",
    "\n",
    "Cluster studio is an interactive dashboards that visualises the results of clustering your predictions.\n",
    "\n",
    "It provides examples of clusters of different sizes.  The shape and size of clusters can be indicative of problems with record linkage, so it provides a tool to help you find potential false positive and negative links."
   ]
  },
  {
   "cell_type": "code",
   "execution_count": null,
   "id": "e2153d91",
   "metadata": {},
   "outputs": [],
   "source": [
    "df_clusters = linker.cluster_pairwise_predictions_at_threshold(df_predictions, threshold_match_probability=0.5)\n",
    "\n",
    "linker.cluster_studio_dashboard(df_predictions, df_clusters, \"cluster_studio.html\", sampling_method=\"by_cluster_size\", overwrite=True)\n",
    "\n",
    "# You can view the scv.html file in your browser, or inline in a notbook as follows\n",
    "from IPython.display import IFrame\n",
    "IFrame(\n",
    "    src=\"./cluster_studio.html\", width=\"100%\", height=1200\n",
    ")"
   ]
  },
  {
   "cell_type": "markdown",
   "id": "9516568e",
   "metadata": {},
   "source": []
  }
 ],
 "metadata": {
  "kernelspec": {
   "display_name": "Python 3",
   "language": "python",
   "name": "python3"
  },
  "language_info": {
   "codemirror_mode": {
    "name": "ipython",
    "version": 3
   },
   "file_extension": ".py",
   "mimetype": "text/x-python",
   "name": "python",
   "nbconvert_exporter": "python",
   "pygments_lexer": "ipython3",
   "version": "3.9.4"
  },
  "vscode": {
   "interpreter": {
    "hash": "3b53fa520a31e303a9636a08ff10a3bbc14893ee50cb37445791fa59628fc75b"
   }
  }
 },
 "nbformat": 4,
 "nbformat_minor": 5
}
