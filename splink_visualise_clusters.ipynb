{
 "cells": [
  {
   "cell_type": "markdown",
   "metadata": {},
   "source": [
    "## Splink visualise clusters\n",
    "\n",
    "This demo shows how to create an interactive visualisation of clusters.\n",
    "\n",
    "The first few steps use the model trained in the deduplication quickstart example"
   ]
  },
  {
   "cell_type": "code",
   "execution_count": null,
   "metadata": {},
   "outputs": [],
   "source": [
    "import altair as alt\n",
    "import pandas as pd"
   ]
  },
  {
   "cell_type": "code",
   "execution_count": 2,
   "metadata": {},
   "outputs": [],
   "source": [
    "from utility_functions.demo_utils import get_spark\n",
    "spark = get_spark()  # See utility_functions/demo_utils.py for how to set up Spark\n",
    "df = spark.read.parquet(\"data/fake_1000.parquet\")"
   ]
  },
  {
   "cell_type": "code",
   "execution_count": 3,
   "metadata": {},
   "outputs": [],
   "source": [
    "from splink import Splink\n",
    "\n",
    "settings = {\n",
    "    \"link_type\": \"dedupe_only\",\n",
    "    \"blocking_rules\": [\"l.surname = r.surname\",\n",
    "                       \"l.first_name = r.first_name\",\n",
    "                       \"l.dob = r.dob\",\n",
    "                       \"l.email = r.email\",\n",
    "                        ],\n",
    "    \"comparison_columns\": [\n",
    "        {\n",
    "            \"col_name\": \"first_name\",\n",
    "            \"num_levels\": 3,\n",
    "            \"term_frequency_adjustments\": True,\n",
    "            \"m_probabilities\": [\n",
    "                0.3941434323787689,\n",
    "                0.14060422778129578,\n",
    "                0.4652523398399353,\n",
    "            ],\n",
    "            \"u_probabilities\": [\n",
    "                0.9941955208778381,\n",
    "                0.0028420439921319485,\n",
    "                0.002962463302537799,\n",
    "            ],\n",
    "        },\n",
    "        {\n",
    "            \"col_name\": \"surname\",\n",
    "            \"num_levels\": 3,\n",
    "            \"term_frequency_adjustments\": True,\n",
    "            \"m_probabilities\": [\n",
    "                0.3971782326698303,\n",
    "                0.11397389322519302,\n",
    "                0.48884785175323486,\n",
    "            ],\n",
    "            \"u_probabilities\": [\n",
    "                0.9930331110954285,\n",
    "                0.00222682929597795,\n",
    "                0.004740049596875906,\n",
    "            ],\n",
    "        },\n",
    "        {\n",
    "            \"col_name\": \"dob\",\n",
    "            \"m_probabilities\": [0.38818904757499695, 0.6118109226226807],\n",
    "            \"u_probabilities\": [0.9997655749320984, 0.00023440067889168859],\n",
    "        },\n",
    "        {\n",
    "            \"col_name\": \"city\",\n",
    "          \"case_expression\": \"case\\n    when city_l is null or city_r is null then -1\\n    when city_l = city_r then 1\\n    else 0 end as gamma_city\",\n",
    "            \"m_probabilities\": [0.29216697812080383, 0.7078329920768738],\n",
    "            \"u_probabilities\": [0.9105007648468018, 0.08949924260377884],\n",
    "        },\n",
    "        {\n",
    "            \"col_name\": \"email\",\n",
    "           \"m_probabilities\": [0.32461094856262207, 0.6753890514373779],\n",
    "            \"u_probabilities\": [0.999818742275238, 0.00018127892690245062],\n",
    "        },\n",
    "    ],\n",
    "    \"additional_columns_to_retain\": [\"group\"],\n",
    "    \"proportion_of_matches\": 0.005672720726579428,\n",
    "    }\n",
    "\n",
    "\n",
    "\n",
    "linker = Splink(settings, df, spark)\n",
    "df_e = linker.manually_apply_fellegi_sunter_weights()"
   ]
  },
  {
   "cell_type": "code",
   "execution_count": 4,
   "metadata": {},
   "outputs": [
    {
     "data": {
      "text/html": [
       "<div>\n",
       "<style scoped>\n",
       "    .dataframe tbody tr th:only-of-type {\n",
       "        vertical-align: middle;\n",
       "    }\n",
       "\n",
       "    .dataframe tbody tr th {\n",
       "        vertical-align: top;\n",
       "    }\n",
       "\n",
       "    .dataframe thead th {\n",
       "        text-align: right;\n",
       "    }\n",
       "</style>\n",
       "<table border=\"1\" class=\"dataframe\">\n",
       "  <thead>\n",
       "    <tr style=\"text-align: right;\">\n",
       "      <th></th>\n",
       "      <th>cluster_low</th>\n",
       "      <th>unique_id</th>\n",
       "      <th>first_name</th>\n",
       "      <th>surname</th>\n",
       "      <th>dob</th>\n",
       "      <th>city</th>\n",
       "      <th>email</th>\n",
       "      <th>group</th>\n",
       "    </tr>\n",
       "  </thead>\n",
       "  <tbody>\n",
       "    <tr>\n",
       "      <th>0</th>\n",
       "      <td>0</td>\n",
       "      <td>2</td>\n",
       "      <td>Julia</td>\n",
       "      <td>Taylor</td>\n",
       "      <td>2016-01-27</td>\n",
       "      <td>London</td>\n",
       "      <td>hannah88@powers.com</td>\n",
       "      <td>0</td>\n",
       "    </tr>\n",
       "    <tr>\n",
       "      <th>1</th>\n",
       "      <td>4</td>\n",
       "      <td>12</td>\n",
       "      <td>Noah</td>\n",
       "      <td>None</td>\n",
       "      <td>2008-03-23</td>\n",
       "      <td>Blotn</td>\n",
       "      <td>None</td>\n",
       "      <td>1</td>\n",
       "    </tr>\n",
       "  </tbody>\n",
       "</table>\n",
       "</div>"
      ],
      "text/plain": [
       "   cluster_low  unique_id first_name surname         dob    city  \\\n",
       "0            0          2     Julia   Taylor  2016-01-27  London   \n",
       "1            4         12      Noah     None  2008-03-23   Blotn   \n",
       "\n",
       "                 email  group  \n",
       "0  hannah88@powers.com      0  \n",
       "1                 None      1  "
      ]
     },
     "execution_count": 4,
     "metadata": {},
     "output_type": "execute_result"
    }
   ],
   "source": [
    "# Cluster at a probability threshold of 50%\n",
    "from utility_functions.cluster_utils import clusters_at_thresholds\n",
    "nodes_with_clusters = clusters_at_thresholds(df, df_e, [0.75], [\"cluster_low\"], spark)\n",
    "nodes_with_clusters.limit(2).toPandas()"
   ]
  },
  {
   "cell_type": "code",
   "execution_count": 5,
   "metadata": {},
   "outputs": [],
   "source": [
    "from splink_visualise_clusters.render_template import render_vis_template\n",
    "\n",
    "\n",
    "\n",
    "from splink_visualise_clusters.graph import (\n",
    "    cluster_basic_stats,\n",
    "    cluster_main_stats,\n",
    "    weight_from_prob,\n",
    ")\n"
   ]
  },
  {
   "cell_type": "code",
   "execution_count": 6,
   "metadata": {},
   "outputs": [
    {
     "data": {
      "text/html": [
       "<div>\n",
       "<style scoped>\n",
       "    .dataframe tbody tr th:only-of-type {\n",
       "        vertical-align: middle;\n",
       "    }\n",
       "\n",
       "    .dataframe tbody tr th {\n",
       "        vertical-align: top;\n",
       "    }\n",
       "\n",
       "    .dataframe thead th {\n",
       "        text-align: right;\n",
       "    }\n",
       "</style>\n",
       "<table border=\"1\" class=\"dataframe\">\n",
       "  <thead>\n",
       "    <tr style=\"text-align: right;\">\n",
       "      <th></th>\n",
       "      <th>count</th>\n",
       "      <th>cluster_low</th>\n",
       "    </tr>\n",
       "  </thead>\n",
       "  <tbody>\n",
       "    <tr>\n",
       "      <th>0</th>\n",
       "      <td>16</td>\n",
       "      <td>394</td>\n",
       "    </tr>\n",
       "    <tr>\n",
       "      <th>1</th>\n",
       "      <td>14</td>\n",
       "      <td>858</td>\n",
       "    </tr>\n",
       "    <tr>\n",
       "      <th>2</th>\n",
       "      <td>10</td>\n",
       "      <td>976</td>\n",
       "    </tr>\n",
       "  </tbody>\n",
       "</table>\n",
       "</div>"
      ],
      "text/plain": [
       "   count  cluster_low\n",
       "0     16          394\n",
       "1     14          858\n",
       "2     10          976"
      ]
     },
     "metadata": {},
     "output_type": "display_data"
    }
   ],
   "source": [
    "# Get a few of the largest clusters\n",
    "nodes_with_clusters.createOrReplaceTempView(\"nodes_with_clusters\")\n",
    "sql = \"\"\"\n",
    "select count(*) as count, cluster_low\n",
    "from nodes_with_clusters\n",
    "group by cluster_low\n",
    "order by count(*) desc\n",
    "limit 10\n",
    "\n",
    "\"\"\"\n",
    "largest_clusters = spark.sql(sql).toPandas().head(10)\n",
    "display(largest_clusters.head(3))\n",
    "cluster_ids = list(largest_clusters[\"cluster_low\"])"
   ]
  },
  {
   "cell_type": "markdown",
   "metadata": {},
   "source": [
    "The visualisation needs a list of edges and nodes.  `splink_visualise_clusters` contains functions to create and format these tables ready for input into the vis\n"
   ]
  },
  {
   "cell_type": "code",
   "execution_count": 7,
   "metadata": {},
   "outputs": [],
   "source": [
    "from splink_visualise_clusters.sql import (\n",
    "    get_edges_corresponding_to_clusters_spark,\n",
    "    get_nodes_corresponding_to_clusters_spark,\n",
    ")\n",
    "\n",
    "nodes_for_vis = get_nodes_corresponding_to_clusters_spark(\n",
    "    nodes_with_clusters, \"cluster_low\", cluster_ids\n",
    ")\n",
    "edges_for_vis = get_edges_corresponding_to_clusters_spark(\n",
    "    nodes_with_clusters, df_e, \"cluster_low\", cluster_ids\n",
    ")\n",
    "\n",
    "nodes_for_vis_pd = nodes_for_vis.toPandas()\n",
    "edges_for_vis_pd = edges_for_vis.toPandas()"
   ]
  },
  {
   "cell_type": "markdown",
   "metadata": {},
   "source": [
    "Optionally, we can compute graph metrics, which will then be displayed in the vis.  \n",
    "\n",
    "If we have ground truth clusters, this information will also be displayed in the vis\n",
    "\n",
    "Naming conventions are important here:\n",
    "- `ground truth cluster` contains the name of the real cluster\n",
    "- `is_false_positive` designates false positive nodes\n",
    "- `match_weight` contains the log2 Bayes Factor representation of the `match_probability` or `tf_adjusted_match_prob`\n",
    "- "
   ]
  },
  {
   "cell_type": "code",
   "execution_count": 8,
   "metadata": {},
   "outputs": [],
   "source": [
    "from splink_visualise_clusters.graph import (\n",
    "    edge_betweenness,\n",
    "    eigen_centrality,\n",
    "    is_bridge,\n",
    "    weight_from_prob,\n",
    ")\n",
    "\n",
    "\n",
    "# Edges\n",
    "edges_for_vis_pd = weight_from_prob(edges_for_vis_pd, \"match_probability\")\n",
    "edges_for_vis_pd = edge_betweenness(edges_for_vis_pd, \"cluster_low\", \"match_weight\")\n",
    "edges_for_vis_pd = is_bridge(edges_for_vis_pd, \"cluster_low\", \"match_weight\")\n",
    "\n",
    "\n",
    "nodes_for_vis_pd = eigen_centrality(\n",
    "    nodes_for_vis_pd, edges_for_vis_pd, \"cluster_low\", \"match_weight\"\n",
    ")\n",
    "\n",
    "edges_for_vis_pd[\"is_false_positive\"] = edges_for_vis_pd[\"group_l\"] != edges_for_vis_pd[\"group_r\"]\n",
    "\n",
    "nodes_for_vis_pd = nodes_for_vis_pd.rename(columns={\"group\": \"ground_truth_cluster\"})\n",
    "\n"
   ]
  },
  {
   "cell_type": "markdown",
   "metadata": {},
   "source": [
    "Optionally, you can derived a `df_cluster_stats`, containing graph metrics for each of the clusters"
   ]
  },
  {
   "cell_type": "code",
   "execution_count": 9,
   "metadata": {},
   "outputs": [
    {
     "data": {
      "text/html": [
       "<div>\n",
       "<style scoped>\n",
       "    .dataframe tbody tr th:only-of-type {\n",
       "        vertical-align: middle;\n",
       "    }\n",
       "\n",
       "    .dataframe tbody tr th {\n",
       "        vertical-align: top;\n",
       "    }\n",
       "\n",
       "    .dataframe thead th {\n",
       "        text-align: right;\n",
       "    }\n",
       "</style>\n",
       "<table border=\"1\" class=\"dataframe\">\n",
       "  <thead>\n",
       "    <tr style=\"text-align: right;\">\n",
       "      <th></th>\n",
       "      <th>cluster_low</th>\n",
       "      <th>num_nodes</th>\n",
       "      <th>num_edges</th>\n",
       "      <th>density</th>\n",
       "      <th>diameter</th>\n",
       "      <th>transitivity</th>\n",
       "      <th>tri_clustcoeff</th>\n",
       "      <th>sq_clustcoeff</th>\n",
       "      <th>node_conn</th>\n",
       "      <th>edge_conn</th>\n",
       "      <th>cluster_eb_modularity</th>\n",
       "    </tr>\n",
       "  </thead>\n",
       "  <tbody>\n",
       "    <tr>\n",
       "      <th>0</th>\n",
       "      <td>105</td>\n",
       "      <td>10</td>\n",
       "      <td>36</td>\n",
       "      <td>0.8</td>\n",
       "      <td>3</td>\n",
       "      <td>0.942857</td>\n",
       "      <td>0.85</td>\n",
       "      <td>0.874074</td>\n",
       "      <td>10</td>\n",
       "      <td>1</td>\n",
       "      <td>0.024306</td>\n",
       "    </tr>\n",
       "    <tr>\n",
       "      <th>1</th>\n",
       "      <td>194</td>\n",
       "      <td>10</td>\n",
       "      <td>45</td>\n",
       "      <td>1.0</td>\n",
       "      <td>1</td>\n",
       "      <td>1.000000</td>\n",
       "      <td>1.00</td>\n",
       "      <td>1.000000</td>\n",
       "      <td>10</td>\n",
       "      <td>9</td>\n",
       "      <td>-0.020000</td>\n",
       "    </tr>\n",
       "  </tbody>\n",
       "</table>\n",
       "</div>"
      ],
      "text/plain": [
       "   cluster_low  num_nodes  num_edges  density  diameter  transitivity  \\\n",
       "0          105         10         36      0.8         3      0.942857   \n",
       "1          194         10         45      1.0         1      1.000000   \n",
       "\n",
       "   tri_clustcoeff  sq_clustcoeff  node_conn  edge_conn  cluster_eb_modularity  \n",
       "0            0.85       0.874074         10          1               0.024306  \n",
       "1            1.00       1.000000         10          9              -0.020000  "
      ]
     },
     "execution_count": 9,
     "metadata": {},
     "output_type": "execute_result"
    }
   ],
   "source": [
    "df_cluster_stats = cluster_basic_stats(edges_for_vis_pd, \"cluster_low\")\n",
    "df_cluster_stats2 = cluster_main_stats(edges_for_vis_pd, \"cluster_low\", \"match_weight\")\n",
    "df_cluster_stats = df_cluster_stats.merge(\n",
    "    df_cluster_stats2, left_on=\"cluster_low\", right_on=\"cluster_low\", how=\"left\"\n",
    ")\n",
    "df_cluster_stats.head(2)"
   ]
  },
  {
   "cell_type": "markdown",
   "metadata": {},
   "source": [
    "The vis is rendered to a file, which you can load in your browser or dislplay in an iframe in Jupyter"
   ]
  },
  {
   "cell_type": "code",
   "execution_count": 10,
   "metadata": {},
   "outputs": [],
   "source": [
    "splink_settings_dict = linker.model.current_settings_obj.settings_dict\n",
    "render_vis_template(\n",
    "    nodes_for_vis_pd, edges_for_vis_pd, splink_settings_dict, \"interactive_clusters.html\", \"cluster_low\", overwrite=True, df_cluster_metrics=df_cluster_stats,)\n"
   ]
  },
  {
   "cell_type": "code",
   "execution_count": 11,
   "metadata": {},
   "outputs": [
    {
     "data": {
      "text/html": [
       "\n",
       "        <iframe\n",
       "            width=\"1400\"\n",
       "            height=\"1200\"\n",
       "            src=\"./interactive_clusters.html\"\n",
       "            frameborder=\"0\"\n",
       "            allowfullscreen\n",
       "        ></iframe>\n",
       "        "
      ],
      "text/plain": [
       "<IPython.lib.display.IFrame at 0x7ff38b395c70>"
      ]
     },
     "execution_count": 11,
     "metadata": {},
     "output_type": "execute_result"
    }
   ],
   "source": [
    "# Show outputted html file in iframe in Juptyer\n",
    "from IPython.display import IFrame\n",
    "\n",
    "IFrame(\n",
    "    src=\"./interactive_clusters.html\", width=1400, height=1200\n",
    ")  # Show outputted html file in iframe in Juptyer"
   ]
  }
 ],
 "metadata": {
  "kernelspec": {
   "display_name": "Python 3",
   "language": "python",
   "name": "python3"
  },
  "language_info": {
   "codemirror_mode": {
    "name": "ipython",
    "version": 3
   },
   "file_extension": ".py",
   "mimetype": "text/x-python",
   "name": "python",
   "nbconvert_exporter": "python",
   "pygments_lexer": "ipython3",
   "version": "3.8.3"
  }
 },
 "nbformat": 4,
 "nbformat_minor": 4
}
