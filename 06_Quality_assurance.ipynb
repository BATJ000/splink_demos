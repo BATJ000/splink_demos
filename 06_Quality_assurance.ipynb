{
 "cells": [
  {
   "cell_type": "markdown",
   "id": "57b58c35",
   "metadata": {},
   "source": [
    "## Quality assurance of prediction results\n",
    "\n",
    "In the previous tutorial, we looked at various ways to visualise the results of our model.  \n",
    "\n",
    "These are useful for quality assurance purposes because they allow us to understand how our model works and verify that it is doing something sensible.  They can also be useful to identify examples where the model is not performing as expected.  \n",
    "\n",
    "In addition to these spot checks, Splink also has functions to perform more formal accuracy analysis.  These functions allow you to understand the likely prevalence of false positives and false negatives in your linkage models.\n",
    "\n",
    "They rely on the existence of a sample of labelled (ground truth) matches, which may have been produced (for example) by human beings.  For the accuracy analysis to be unbiased, the sample should be representative of the overall dataset."
   ]
  },
  {
   "cell_type": "code",
   "execution_count": null,
   "id": "fb29d421",
   "metadata": {},
   "outputs": [],
   "source": [
    "# Rerun our predictions to we're ready to view the charts\n",
    "from splink.duckdb.duckdb_linker import DuckDBLinker\n",
    "import pandas as pd \n",
    "import altair as alt\n",
    "alt.renderers.enable('mimetype')\n",
    "\n",
    "df = pd.read_csv(\"./data/fake_1000.csv\")\n",
    "linker = DuckDBLinker(df)\n",
    "linker.load_settings_from_json(\"./demo_settings/saved_model_from_demo.json\")\n",
    "df_predictions = linker.predict(threshold_match_probability=0.2)"
   ]
  },
  {
   "cell_type": "markdown",
   "id": "7b0dedd9",
   "metadata": {},
   "source": [
    "## Load in labels\n",
    "\n",
    "The labels file contains a list of pairwise comparisons which represent matches and non-matches.\n",
    "\n",
    "The required format of the labels file is described [here](https://moj-analytical-services.github.io/splink/linkerqa.html#splink.linker.Linker.roc_chart_from_labels)."
   ]
  },
  {
   "cell_type": "code",
   "execution_count": null,
   "id": "bbfdc70c",
   "metadata": {},
   "outputs": [],
   "source": [
    "df_labels = pd.read_csv(\"./data/fake_1000_labels.csv\")\n",
    "df_labels.head(5)\n",
    "linker._con.register(\"labels\", df_labels)\n",
    "linker._initialise_df_concat_with_tf()"
   ]
  },
  {
   "cell_type": "markdown",
   "id": "81e4396d",
   "metadata": {},
   "source": [
    "## Receiver operating characteristic curve\n",
    "\n",
    "A [ROC chart](https://en.wikipedia.org/wiki/Receiver_operating_characteristic) shows how the number of false positives and false negatives varies depending on the match threshold chosen.  The match threshold is the match weight chosen as a cutoff for which pairwise comparisons to accept as matches.\n",
    "\n"
   ]
  },
  {
   "cell_type": "code",
   "execution_count": null,
   "id": "01dd7eec",
   "metadata": {},
   "outputs": [],
   "source": [
    "linker.roc_chart_from_labels(\"labels\")"
   ]
  },
  {
   "cell_type": "markdown",
   "id": "9f749c3c",
   "metadata": {},
   "source": [
    "### Precision-recall chart\n",
    "\n",
    "An alternative representation of truth space is called a [precision recall curve](https://stats.stackexchange.com/questions/7207/roc-vs-precision-and-recall-curves).\n",
    "\n",
    "This can be plotted as follows:"
   ]
  },
  {
   "cell_type": "code",
   "execution_count": null,
   "id": "18d25327",
   "metadata": {},
   "outputs": [],
   "source": [
    "linker.precision_recall_chart_from_labels(\"labels\")"
   ]
  },
  {
   "cell_type": "markdown",
   "id": "12e6ba74",
   "metadata": {},
   "source": [
    "## Truth table\n",
    "\n",
    "Finally, Splink can also report the underlying table used to construct the ROC and precision recall curves."
   ]
  },
  {
   "cell_type": "code",
   "execution_count": null,
   "id": "f7c283ba",
   "metadata": {},
   "outputs": [],
   "source": [
    "linker._initialise_df_concat_with_tf()\n",
    "roc_table = linker.roc_table_from_labels(\"labels\")\n",
    "roc_table.as_pandas_dataframe(limit=5)"
   ]
  }
 ],
 "metadata": {
  "kernelspec": {
   "display_name": "Python 3",
   "language": "python",
   "name": "python3"
  },
  "language_info": {
   "codemirror_mode": {
    "name": "ipython",
    "version": 3
   },
   "file_extension": ".py",
   "mimetype": "text/x-python",
   "name": "python",
   "nbconvert_exporter": "python",
   "pygments_lexer": "ipython3",
   "version": "3.9.4"
  },
  "vscode": {
   "interpreter": {
    "hash": "3b53fa520a31e303a9636a08ff10a3bbc14893ee50cb37445791fa59628fc75b"
   }
  }
 },
 "nbformat": 4,
 "nbformat_minor": 5
}
