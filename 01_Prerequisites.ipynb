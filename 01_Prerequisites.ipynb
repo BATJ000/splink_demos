{
 "cells": [
  {
   "cell_type": "code",
   "execution_count": 1,
   "id": "b3de697a-4a2b-403f-b36c-d5c64408f4df",
   "metadata": {},
   "outputs": [],
   "source": [
    "### Data Prerequisites"
   ]
  },
  {
   "cell_type": "markdown",
   "id": "a96d1679-1ebd-4e9f-a451-41cfc86b3865",
   "metadata": {},
   "source": [
    "Splink is a data linking package that allows users to link multiple datasets together by matching entries in unique id columns. In order to use this package effectively, it is important that certain prerequisites are met in the input datasets.\n",
    "\n",
    "\n",
    "### Unique IDs\n",
    "\n",
    "- Each input dataset must have a unique id column that's unique _within_ the dataset.  It need not be  This unique id column is used to match entries across datasets, so it is essential that each entry in this column is unique within its respective dataset. For example, one dataset might have a column called \"customer_id\" with unique values for each customer, while another dataset might have a column called \"employee_id\" with unique values for each employee.\n",
    "\n",
    "### Conformant input datasets\n",
    "\n",
    "- Input datasets must be conformant. This means that they should have the same column names, which correspond to the same data. For example, if one dataset has a column called \"date of birth\" and another has a column called \"dob\", these columns should be renamed to match in order to ensure that Splink can match entries across the datasets.\n",
    "\n",
    "### Pre-cleaning\n",
    "\n",
    "- Data should be pre-cleaned to ensure consistency. This includes things like ensuring that dates are in the same format, that text is in the same case (e.g. all uppercase or all lowercase), and that any missing or invalid data has been dealt with. For example, if one dataset has dates in the format \"yyyy-mm-dd\" and another has dates in the format \"mm/dd/yyyy\", these should be converted to the same format before using Splink.\n",
    "\n",
    "### Ensure nulls are consistently and correctly represented\n",
    "\n",
    "- Any null values in the datasets must be true nulls, not zero length strings. This is because Splink treats null values differently than zero length strings, and using true nulls will ensure that Splink functions properly when matching entries across datasets. For example, if a cell in a dataset contains an empty string, it should be replaced with a true null value in order for Splink to handle it correctly."
   ]
  },
  {
   "cell_type": "markdown",
   "id": "02c22976-080e-4503-a5e0-153179475dd5",
   "metadata": {},
   "source": [
    "Here are some additional examples of data cleaning rules that can improve the accuracy of data matching:\n",
    "\n",
    "Trimming leading and trailing whitespace from string values. For example, if a dataset contains the value \" john smith \" in a name column, it should be trimmed to \"john smith\" to avoid mismatches with the value \"john smith\" in another dataset.\n",
    "\n",
    "Removing special characters from string values. For example, if a dataset contains the value \"john smith!\" in a name column, it should be cleaned to \"john smith\" to avoid mismatches with the value \"john smith\" in another dataset.\n",
    "\n",
    "Converting string values to a consistent case. For example, if a dataset contains the values \"John Smith\" and \"john smith\" in a name column, they should be converted to a consistent case (e.g. all lowercase) to avoid mismatches.\n",
    "\n",
    "Standardizing date formats. For example, if a dataset contains dates in the formats \"yyyy-mm-dd\", \"mm/dd/yyyy\", and \"dd-mm-yyyy\", they should all be converted to a consistent format (e.g. \"yyyy-mm-dd\") to avoid mismatches.\n",
    "\n",
    "Replacing abbreviations with full words. For example, if a dataset contains the values \"St.\" and \"Street\" in an address column, they should be standardized to the full word (e.g. \"Street\") to avoid mismatches.\n",
    "\n",
    "Overall, implementing these data cleaning rules can help improve the accuracy of data matching by ensuring that the data is consistent and free of any anomalies that could cause mismatches."
   ]
  },
  {
   "cell_type": "code",
   "execution_count": null,
   "id": "29c9f2b6-57cf-40f4-bd98-7180d1523d0f",
   "metadata": {},
   "outputs": [],
   "source": []
  }
 ],
 "metadata": {
  "kernelspec": {
   "display_name": "splink_demos",
   "language": "python",
   "name": "splink_demos"
  },
  "language_info": {
   "codemirror_mode": {
    "name": "ipython",
    "version": 3
   },
   "file_extension": ".py",
   "mimetype": "text/x-python",
   "name": "python",
   "nbconvert_exporter": "python",
   "pygments_lexer": "ipython3",
   "version": "3.8.3"
  }
 },
 "nbformat": 4,
 "nbformat_minor": 5
}
