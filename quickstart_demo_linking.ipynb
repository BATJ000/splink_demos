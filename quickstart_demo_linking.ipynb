{
 "cells": [
  {
   "cell_type": "markdown",
   "metadata": {},
   "source": [
    "## Splink data linking demo \n",
    "\n",
    "In this demo we link two small datasets.  \n",
    "\n",
    "We assume we have a list of people in one table who we want to find in a larger table.  It is assumed that due to transcription or other errors, there will often not be an exact match.\n",
    "\n",
    "The larger table contains duplicates, but in this notebook we use the `link_only` setting, so `splink` makes no attempt to deduplicate these records.    Note it is possible to simultaneously link and dedupe using the `link_and_dedupe` setting.\n",
    "\n",
    "**Important** Where deduplication is not required, `link_only` can provide an important performance boost by dramatically reducing the number of records which need to be compared.\n",
    "\n",
    "For example, if you wanted to link 10 records to 1,000, then the maximum number of comparisons that need to be made (i.e. with no blocking rules) is 10,000.  If you need to dedupe as well, that number would be n(n-1)/2 = 509,545.\n",
    "\n",
    "I print the output at each stage using `spark_dataframe.show()`.  This is for instructional purposes only - it degrades performance and shouldn't be used in a production setting."
   ]
  },
  {
   "cell_type": "markdown",
   "metadata": {},
   "source": [
    "## Step 1:  Imports and setup\n",
    "\n",
    "The following is just boilerplate code that sets up the Spark session and sets some other non-essential configuration options"
   ]
  },
  {
   "cell_type": "code",
   "execution_count": 1,
   "metadata": {},
   "outputs": [],
   "source": [
    "import pandas as pd \n",
    "pd.options.display.max_columns = 500"
   ]
  },
  {
   "cell_type": "code",
   "execution_count": 2,
   "metadata": {},
   "outputs": [],
   "source": [
    "import logging \n",
    "logging.basicConfig()  # Means logs will print in Jupyter Lab\n",
    "\n",
    "# Set to DEBUG if you want splink to log the SQL statements it's executing under the hood\n",
    "logging.getLogger(\"splink\").setLevel(logging.INFO)"
   ]
  },
  {
   "cell_type": "code",
   "execution_count": 3,
   "metadata": {},
   "outputs": [],
   "source": [
    "from pyspark.context import SparkContext, SparkConf\n",
    "from pyspark.sql import SparkSession, Window\n",
    "from pyspark.sql.types import StructType\n",
    "import pyspark.sql.functions as f\n",
    "\n",
    "conf = SparkConf()\n",
    "\n",
    "# Load in a jar that provides extended string comparison functions such as Jaro Winkler.\n",
    "conf.set('spark.driver.extraClassPath', 'jars/scala-udf-similarity-0.0.6.jar')\n",
    "conf.set('spark.jars', 'jars/scala-udf-similarity-0.0.6.jar')   \n",
    "\n",
    "# WARNING:\n",
    "# These config options are appropriate only if you're running Spark locally!!!\n",
    "conf.set('spark.driver.memory', '4g')\n",
    "conf.set(\"spark.sql.shuffle.partitions\", \"8\") \n",
    "\n",
    "sc = SparkContext.getOrCreate(conf=conf)\n",
    "spark = SparkSession(sc)\n",
    "\n",
    " # Register UDFs\n",
    "from pyspark.sql import types\n",
    "spark.udf.registerJavaFunction('jaro_winkler_sim', 'uk.gov.moj.dash.linkage.JaroWinklerSimilarity', types.DoubleType())\n",
    "spark.udf.registerJavaFunction('Dmetaphone', 'uk.gov.moj.dash.linkage.DoubleMetaphone', types.StringType())"
   ]
  },
  {
   "cell_type": "markdown",
   "metadata": {},
   "source": [
    "## Step 2: Read in the data\n",
    "\n",
    "The `l` and `r` stand for 'left' and 'right.  It doesn't matter which of the two datasets you choose as the left, performance and results will be the same.\n",
    "\n",
    "⚠️ Note that `splink` makes the following assumptions about your data:\n",
    "\n",
    "-  There is a field containing a unique record identifier in each dataset\n",
    "-  The two datasets being linked have common column names - e.g. date of birth is represented in both datasets in a field of the same name.   In many cases, this means that the user needs to rename columns prior to using `splink`\n"
   ]
  },
  {
   "cell_type": "code",
   "execution_count": 4,
   "metadata": {},
   "outputs": [
    {
     "name": "stdout",
     "output_type": "stream",
     "text": [
      "+---------+----------+---------+----------+---------------+--------------------+-----+\n",
      "|unique_id|first_name|  surname|       dob|           city|               email|group|\n",
      "+---------+----------+---------+----------+---------------+--------------------+-----+\n",
      "|        0|    Julia |     null|2015-10-29|         London| hannah88@powers.com|    0|\n",
      "|        4|      oNah|   Watson|2008-03-23|         Bolton|matthew78@ballard...|    1|\n",
      "|       13|    Molly |     Bell|2002-01-05|   Peterborough|                null|    2|\n",
      "|       15| Alexander|  Amelia |1983-05-19|        Glasgow|ic-mpbell@alleale...|    3|\n",
      "|       20|    Ol vri|  ynnollC|1972-03-08|       Plymouth|derekwilliams@nor...|    4|\n",
      "|       23|      null| Thompson|1996-03-22|          Leeds|jefferyduke@brown...|    5|\n",
      "|       27|  Matilda |    Hsrir|1983-04-30|         London| patrcio47@davis.cam|    6|\n",
      "|       32|    Baxter|    Aria |1992-09-07|         London|christineshepherd...|    7|\n",
      "|       37|    Wilson| Charlie |1998-09-15|         London|samantha81@henry.com|    8|\n",
      "|       38|   Olivia |  Andrews|2009-01-23|           null|hesterkurt@taylor...|    9|\n",
      "|       43|    Chloe |Macdonald|2015-02-04|           null| jennifer25@hill.biz|   10|\n",
      "|       44|   Millie |    Harrs|1996-07-27|         London|    lynn04@jones.com|   11|\n",
      "|       49| Theodore |     null|1982-09-10|          Leeds|markstewart@gross...|   12|\n",
      "|       58|   Elijah |     null|1970-06-01|     Sunderland|barbaraolson@smit...|   13|\n",
      "|       63|     Maya |    Jones|2010-08-05|     Sunderland|     erin01@york.com|   14|\n",
      "|       69| Isabella |    Coepo|1987-11-18|Stockton-Tn-oee|imoore@turner-gon...|   15|\n",
      "|       79|      Carr|   Ethan |2013-01-21|         London|stacyball@medina.biz|   16|\n",
      "|       88|      Eva |   Harris|1971-01-29|     Birmingham|vwilson@reyes-tor...|   17|\n",
      "|       89|   Chirla |   Taylor|2006-06-28|         London|  mbrooks@booker.com|   18|\n",
      "|       91|    Lilly |    Jones|2003-12-30|           null|  samue91rcu@ry.info|   19|\n",
      "+---------+----------+---------+----------+---------------+--------------------+-----+\n",
      "only showing top 20 rows\n",
      "\n",
      "+---------+----------+---------+----------+------------+--------------------+-----+\n",
      "|unique_id|first_name|  surname|       dob|        city|               email|group|\n",
      "+---------+----------+---------+----------+------------+--------------------+-----+\n",
      "|        1|    Julia |   Taylor|2015-07-31|      London| hannah88@powers.com|    0|\n",
      "|        2|    Julia |   Taylor|2016-01-27|      London| hannah88@powers.com|    0|\n",
      "|        3|    Julia |   Taylor|2015-10-29|        null|  hannah88opowersc@m|    0|\n",
      "|        5|     Noah |   Watson|2008-03-23|      Bolton|matthew78@ballard...|    1|\n",
      "|        6|    Watson|    Noah |2008-03-23|        null|matthew78@ballard...|    1|\n",
      "|        7|     Noah |   Watson|2008-02-05|       tolon|matthew78@ballard...|    1|\n",
      "|        8|    Watson|    Noah |2008-06-15|      Bolton|matthew78@ballard...|    1|\n",
      "|        9|     Noah |   Watson|2008-01-19|      Bolton|                null|    1|\n",
      "|       10|    Watson|    Noah |2008-03-23|      Bolton|matthbw78eallard-...|    1|\n",
      "|       11|    Watson|    Noah |2008-01-21|       Bolno|matthea78@bwllar-...|    1|\n",
      "|       12|     Noah |     null|2008-03-23|       Blotn|                null|    1|\n",
      "|       14|     Moly |     Bell|2002-01-05|Peterborough|lricsaunders@siev...|    2|\n",
      "|       16|   Amelia |Alexander|1983-05-19|      Glaogw|                null|    3|\n",
      "|       17|   Amelia |Alexander|1983-04-30|     Glasgow|icampbeal@lllen-l...|    3|\n",
      "|       18|   Amelia |Alexander|1983-05-19|     Glasgow|icampbell@allen-l...|    3|\n",
      "|       19|    lmeAi |Alexander|1983-05-19|     Glasgow|icampbell@allen-l...|    3|\n",
      "|       21|   Oliver | Connolly|1972-03-08|    Plymouth|                null|    4|\n",
      "|       22|      null| Connolly|1972-03-08|     Plyohtu|derekwilliams@nor...|    4|\n",
      "|       24|  Thompson|   Ollie |1996-03-22|        null|jefferyduke@brown...|    5|\n",
      "|       25|      null| Thompson|1995-12-18|       Leeds|                null|    5|\n",
      "+---------+----------+---------+----------+------------+--------------------+-----+\n",
      "only showing top 20 rows\n",
      "\n"
     ]
    }
   ],
   "source": [
    "df_l = spark.read.parquet(\"data/fake_df_l.parquet\")\n",
    "df_r = spark.read.parquet(\"data/fake_df_r.parquet\")\n",
    "df_l.show()\n",
    "df_r.show()"
   ]
  },
  {
   "cell_type": "markdown",
   "metadata": {},
   "source": [
    "## Step 3:  Configure splink using the `settings` object\n",
    "\n",
    "Most of `splink` configuration options are stored in a settings dictionary.  This dictionary allows significant customisation, and can therefore get quite complex.  \n",
    "\n",
    "💥 We provide an tool for helping to author valid settings dictionaries, which includes tooltips and autocomplete, which you can find [here](http://robinlinacre.com/splink_settings_editor/).\n",
    "\n",
    "Customisation overrides default values built into splink.  For the purposes of this demo, we will specify a simple settings dictionary, which means we will be relying on these sensible defaults.\n",
    "\n",
    "To help with authoring and validation of the settings dictionary, we have written a [json schema](https://json-schema.org/), which can be found [here](https://github.com/moj-analytical-services/splink/blob/master/splink/files/settings_jsonschema.json).  \n",
    "\n",
    "\n"
   ]
  },
  {
   "cell_type": "code",
   "execution_count": 5,
   "metadata": {},
   "outputs": [],
   "source": [
    "settings = {\n",
    "    \"link_type\": \"link_only\", \n",
    "    \"max_iterations\": 5,\n",
    "    \"blocking_rules\": [\n",
    "        'l.first_name = r.first_name',\n",
    "        'l.surname = r.surname',\n",
    "        'l.dob = r.dob'\n",
    "    ],\n",
    "    \"comparison_columns\": [\n",
    "       {\n",
    "        \"custom_name\": \"name_inversion\",\n",
    "        \"custom_columns_used\": [\"first_name\", \"surname\", \"dob\"],\n",
    "        \"case_expression\": \"CASE WHEN first_name_l = first_name_r AND surname_l = surname_r THEN 2 WHEN first_name_l = surname_r AND surname_l = first_name_r THEN 1 ELSE 0 END\",\n",
    "        \"num_levels\": 3\n",
    "        },\n",
    "        {\n",
    "            \"col_name\": \"dob\"\n",
    "        },\n",
    "        {\n",
    "            \"col_name\": \"city\"\n",
    "        },\n",
    "        {\n",
    "            \"col_name\": \"email\"\n",
    "        }\n",
    "    ],\n",
    "    \"additional_columns_to_retain\": [\"group\"]\n",
    "    \n",
    "}"
   ]
  },
  {
   "cell_type": "markdown",
   "metadata": {},
   "source": [
    "In words, this setting dictionary says:\n",
    "\n",
    "- We are performing a data linking task (the other options are `dedupe_only`, or `link_and_dedupe`)\n",
    "- Rather than generate all possible comparisons (the cartesian product of the input datasets), we are going restrict record comparisons to those generated by at least one of the rules in the specified array\n",
    "- When comparing records, we will use information from the `first_name`, `surname`, `dob`, `city` and `email` columns to compute a match score.\n",
    "- For `first_name` and `surname`, string comparisons will have three levels:\n",
    "    - Level 2: Strings are (almost) exactly the same\n",
    "    - Level 1: Strings are similar \n",
    "    - Level 0: No match\n",
    "- We will make adjustments for term frequencies on the `first_name` and `surname` columns\n",
    "- We will retain the `group` column in the results even though this is not used as part of comparisons.  This is a labelled dataset and `group` contains the true match - i.e. where group matches, the records pertain to the same person"
   ]
  },
  {
   "cell_type": "markdown",
   "metadata": {},
   "source": [
    "## Step 4:  Estimate match scores using the Expectation Maximisation algorithm"
   ]
  },
  {
   "cell_type": "code",
   "execution_count": 6,
   "metadata": {},
   "outputs": [
    {
     "name": "stderr",
     "output_type": "stream",
     "text": [
      "INFO:splink.iterate:Iteration 0 complete\n",
      "INFO:splink.iterate:Iteration 1 complete\n",
      "INFO:splink.iterate:Iteration 2 complete\n",
      "INFO:splink.iterate:Iteration 3 complete\n",
      "INFO:splink.iterate:Iteration 4 complete\n"
     ]
    },
    {
     "data": {
      "text/plain": [
       "DataFrame[match_probability: double, unique_id_l: bigint, unique_id_r: bigint, first_name_l: string, first_name_r: string, surname_l: string, surname_r: string, dob_l: string, dob_r: string, gamma_name_inversion: int, prob_gamma_name_inversion_non_match: double, prob_gamma_name_inversion_match: double, gamma_dob: int, prob_gamma_dob_non_match: double, prob_gamma_dob_match: double, city_l: string, city_r: string, gamma_city: int, prob_gamma_city_non_match: double, prob_gamma_city_match: double, email_l: string, email_r: string, gamma_email: int, prob_gamma_email_non_match: double, prob_gamma_email_match: double, group_l: bigint, group_r: bigint]"
      ]
     },
     "execution_count": 6,
     "metadata": {},
     "output_type": "execute_result"
    }
   ],
   "source": [
    "from splink import Splink\n",
    "\n",
    "linker = Splink(settings, spark, df_l=df_l, df_r=df_r)\n",
    "df_e = linker.get_scored_comparisons()\n",
    "\n",
    "# Later, we will make term frequency adjustments.  \n",
    "# Persist caches these results in memory, preventing them having to be recomputed when we make these adjustments.\n",
    "df_e.persist()  \n"
   ]
  },
  {
   "cell_type": "markdown",
   "metadata": {},
   "source": [
    "## Step 5: Inspect results \n",
    "\n"
   ]
  },
  {
   "cell_type": "code",
   "execution_count": 7,
   "metadata": {},
   "outputs": [
    {
     "data": {
      "text/html": [
       "<div>\n",
       "<style scoped>\n",
       "    .dataframe tbody tr th:only-of-type {\n",
       "        vertical-align: middle;\n",
       "    }\n",
       "\n",
       "    .dataframe tbody tr th {\n",
       "        vertical-align: top;\n",
       "    }\n",
       "\n",
       "    .dataframe thead th {\n",
       "        text-align: right;\n",
       "    }\n",
       "</style>\n",
       "<table border=\"1\" class=\"dataframe\">\n",
       "  <thead>\n",
       "    <tr style=\"text-align: right;\">\n",
       "      <th></th>\n",
       "      <th>match_probability</th>\n",
       "      <th>unique_id_l</th>\n",
       "      <th>unique_id_r</th>\n",
       "      <th>first_name_l</th>\n",
       "      <th>first_name_r</th>\n",
       "      <th>surname_l</th>\n",
       "      <th>surname_r</th>\n",
       "      <th>dob_l</th>\n",
       "      <th>dob_r</th>\n",
       "      <th>gamma_name_inversion</th>\n",
       "      <th>prob_gamma_name_inversion_non_match</th>\n",
       "      <th>prob_gamma_name_inversion_match</th>\n",
       "      <th>gamma_dob</th>\n",
       "      <th>prob_gamma_dob_non_match</th>\n",
       "      <th>prob_gamma_dob_match</th>\n",
       "      <th>city_l</th>\n",
       "      <th>city_r</th>\n",
       "      <th>gamma_city</th>\n",
       "      <th>prob_gamma_city_non_match</th>\n",
       "      <th>prob_gamma_city_match</th>\n",
       "      <th>email_l</th>\n",
       "      <th>email_r</th>\n",
       "      <th>gamma_email</th>\n",
       "      <th>prob_gamma_email_non_match</th>\n",
       "      <th>prob_gamma_email_match</th>\n",
       "      <th>group_l</th>\n",
       "      <th>group_r</th>\n",
       "    </tr>\n",
       "  </thead>\n",
       "  <tbody>\n",
       "    <tr>\n",
       "      <td>1304</td>\n",
       "      <td>0.007762</td>\n",
       "      <td>133</td>\n",
       "      <td>881</td>\n",
       "      <td>Harriet</td>\n",
       "      <td>Leo</td>\n",
       "      <td>Jones</td>\n",
       "      <td>Jones</td>\n",
       "      <td>1980-06-23</td>\n",
       "      <td>2019-06-15</td>\n",
       "      <td>0</td>\n",
       "      <td>0.990152</td>\n",
       "      <td>0.587324</td>\n",
       "      <td>0</td>\n",
       "      <td>0.953222</td>\n",
       "      <td>0.145402</td>\n",
       "      <td>London</td>\n",
       "      <td>None</td>\n",
       "      <td>-1</td>\n",
       "      <td>1.000000</td>\n",
       "      <td>1.000000</td>\n",
       "      <td>trobinson@garza.com</td>\n",
       "      <td>tcarr@lewis-kline.com</td>\n",
       "      <td>0</td>\n",
       "      <td>0.986365</td>\n",
       "      <td>0.134991</td>\n",
       "      <td>25</td>\n",
       "      <td>156</td>\n",
       "    </tr>\n",
       "    <tr>\n",
       "      <td>243</td>\n",
       "      <td>0.054069</td>\n",
       "      <td>911</td>\n",
       "      <td>403</td>\n",
       "      <td>Tyler</td>\n",
       "      <td>Tyler</td>\n",
       "      <td>Huhgs</td>\n",
       "      <td>None</td>\n",
       "      <td>1971-10-26</td>\n",
       "      <td>2001-07-13</td>\n",
       "      <td>0</td>\n",
       "      <td>0.990152</td>\n",
       "      <td>0.587324</td>\n",
       "      <td>0</td>\n",
       "      <td>0.953222</td>\n",
       "      <td>0.145402</td>\n",
       "      <td>Leeds</td>\n",
       "      <td>None</td>\n",
       "      <td>-1</td>\n",
       "      <td>1.000000</td>\n",
       "      <td>1.000000</td>\n",
       "      <td>dawn74@mckay.com</td>\n",
       "      <td>None</td>\n",
       "      <td>-1</td>\n",
       "      <td>1.000000</td>\n",
       "      <td>1.000000</td>\n",
       "      <td>164</td>\n",
       "      <td>67</td>\n",
       "    </tr>\n",
       "    <tr>\n",
       "      <td>178</td>\n",
       "      <td>0.007762</td>\n",
       "      <td>876</td>\n",
       "      <td>302</td>\n",
       "      <td>Isabelle</td>\n",
       "      <td>Isabelle</td>\n",
       "      <td>Carter</td>\n",
       "      <td>Brown</td>\n",
       "      <td>2002-05-17</td>\n",
       "      <td>1979-01-22</td>\n",
       "      <td>0</td>\n",
       "      <td>0.990152</td>\n",
       "      <td>0.587324</td>\n",
       "      <td>0</td>\n",
       "      <td>0.953222</td>\n",
       "      <td>0.145402</td>\n",
       "      <td>Dudley</td>\n",
       "      <td>None</td>\n",
       "      <td>-1</td>\n",
       "      <td>1.000000</td>\n",
       "      <td>1.000000</td>\n",
       "      <td>caldwellmichell@green.biz</td>\n",
       "      <td>josepwatson@smith.com</td>\n",
       "      <td>0</td>\n",
       "      <td>0.986365</td>\n",
       "      <td>0.134991</td>\n",
       "      <td>155</td>\n",
       "      <td>51</td>\n",
       "    </tr>\n",
       "    <tr>\n",
       "      <td>373</td>\n",
       "      <td>0.999988</td>\n",
       "      <td>618</td>\n",
       "      <td>621</td>\n",
       "      <td>Arthur</td>\n",
       "      <td>Arthur</td>\n",
       "      <td>Bolton</td>\n",
       "      <td>Bolton</td>\n",
       "      <td>1998-03-07</td>\n",
       "      <td>1998-03-07</td>\n",
       "      <td>2</td>\n",
       "      <td>0.009846</td>\n",
       "      <td>0.264395</td>\n",
       "      <td>1</td>\n",
       "      <td>0.046778</td>\n",
       "      <td>0.854598</td>\n",
       "      <td>Nottingham</td>\n",
       "      <td>Nottingham</td>\n",
       "      <td>1</td>\n",
       "      <td>0.177488</td>\n",
       "      <td>0.779833</td>\n",
       "      <td>milesnine@floras.iz</td>\n",
       "      <td>milesnina@flores.biz</td>\n",
       "      <td>1</td>\n",
       "      <td>0.013635</td>\n",
       "      <td>0.865009</td>\n",
       "      <td>105</td>\n",
       "      <td>105</td>\n",
       "    </tr>\n",
       "    <tr>\n",
       "      <td>1406</td>\n",
       "      <td>0.999476</td>\n",
       "      <td>156</td>\n",
       "      <td>159</td>\n",
       "      <td>Enht</td>\n",
       "      <td>Brown</td>\n",
       "      <td>Brow</td>\n",
       "      <td>Ethan</td>\n",
       "      <td>2010-12-22</td>\n",
       "      <td>2010-12-22</td>\n",
       "      <td>0</td>\n",
       "      <td>0.990152</td>\n",
       "      <td>0.587324</td>\n",
       "      <td>1</td>\n",
       "      <td>0.046778</td>\n",
       "      <td>0.854598</td>\n",
       "      <td>Manchester</td>\n",
       "      <td>Manchester</td>\n",
       "      <td>1</td>\n",
       "      <td>0.177488</td>\n",
       "      <td>0.779833</td>\n",
       "      <td>petersbrandon@cox.com</td>\n",
       "      <td>petersbrandon@cox.com</td>\n",
       "      <td>1</td>\n",
       "      <td>0.013635</td>\n",
       "      <td>0.865009</td>\n",
       "      <td>28</td>\n",
       "      <td>28</td>\n",
       "    </tr>\n",
       "  </tbody>\n",
       "</table>\n",
       "</div>"
      ],
      "text/plain": [
       "      match_probability  unique_id_l  unique_id_r first_name_l first_name_r  \\\n",
       "1304           0.007762          133          881     Harriet          Leo    \n",
       "243            0.054069          911          403       Tyler        Tyler    \n",
       "178            0.007762          876          302    Isabelle     Isabelle    \n",
       "373            0.999988          618          621      Arthur       Arthur    \n",
       "1406           0.999476          156          159        Enht         Brown   \n",
       "\n",
       "     surname_l surname_r       dob_l       dob_r  gamma_name_inversion  \\\n",
       "1304     Jones     Jones  1980-06-23  2019-06-15                     0   \n",
       "243      Huhgs      None  1971-10-26  2001-07-13                     0   \n",
       "178     Carter     Brown  2002-05-17  1979-01-22                     0   \n",
       "373     Bolton    Bolton  1998-03-07  1998-03-07                     2   \n",
       "1406      Brow    Ethan   2010-12-22  2010-12-22                     0   \n",
       "\n",
       "      prob_gamma_name_inversion_non_match  prob_gamma_name_inversion_match  \\\n",
       "1304                             0.990152                         0.587324   \n",
       "243                              0.990152                         0.587324   \n",
       "178                              0.990152                         0.587324   \n",
       "373                              0.009846                         0.264395   \n",
       "1406                             0.990152                         0.587324   \n",
       "\n",
       "      gamma_dob  prob_gamma_dob_non_match  prob_gamma_dob_match      city_l  \\\n",
       "1304          0                  0.953222              0.145402      London   \n",
       "243           0                  0.953222              0.145402       Leeds   \n",
       "178           0                  0.953222              0.145402      Dudley   \n",
       "373           1                  0.046778              0.854598  Nottingham   \n",
       "1406          1                  0.046778              0.854598  Manchester   \n",
       "\n",
       "          city_r  gamma_city  prob_gamma_city_non_match  \\\n",
       "1304        None          -1                   1.000000   \n",
       "243         None          -1                   1.000000   \n",
       "178         None          -1                   1.000000   \n",
       "373   Nottingham           1                   0.177488   \n",
       "1406  Manchester           1                   0.177488   \n",
       "\n",
       "      prob_gamma_city_match                    email_l                email_r  \\\n",
       "1304               1.000000        trobinson@garza.com  tcarr@lewis-kline.com   \n",
       "243                1.000000           dawn74@mckay.com                   None   \n",
       "178                1.000000  caldwellmichell@green.biz  josepwatson@smith.com   \n",
       "373                0.779833        milesnine@floras.iz   milesnina@flores.biz   \n",
       "1406               0.779833      petersbrandon@cox.com  petersbrandon@cox.com   \n",
       "\n",
       "      gamma_email  prob_gamma_email_non_match  prob_gamma_email_match  \\\n",
       "1304            0                    0.986365                0.134991   \n",
       "243            -1                    1.000000                1.000000   \n",
       "178             0                    0.986365                0.134991   \n",
       "373             1                    0.013635                0.865009   \n",
       "1406            1                    0.013635                0.865009   \n",
       "\n",
       "      group_l  group_r  \n",
       "1304       25      156  \n",
       "243       164       67  \n",
       "178       155       51  \n",
       "373       105      105  \n",
       "1406       28       28  "
      ]
     },
     "execution_count": 7,
     "metadata": {},
     "output_type": "execute_result"
    }
   ],
   "source": [
    "# Inspect main dataframe that contains the match scores\n",
    "df_e.toPandas().sample(5)"
   ]
  },
  {
   "cell_type": "markdown",
   "metadata": {},
   "source": [
    "The `params` property of the `linker` is an object that contains a lot of diagnostic information about how the match probability was computed.  The following cells demonstrate some of its functionality"
   ]
  },
  {
   "cell_type": "code",
   "execution_count": 8,
   "metadata": {},
   "outputs": [
    {
     "data": {
      "application/vnd.vegalite.v3+json": {
       "$schema": "https://vega.github.io/schema/vega-lite/v3.4.0.json",
       "config": {
        "mark": {
         "tooltip": null
        },
        "title": {
         "anchor": "middle"
        },
        "view": {
         "height": 300,
         "width": 400
        }
       },
       "data": {
        "name": "data-280bbb2e24e3f3387ada52ddac571b8c"
       },
       "datasets": {
        "data-280bbb2e24e3f3387ada52ddac571b8c": [
         {
          "column": "name_inversion",
          "gamma": "gamma_name_inversion",
          "match": 1,
          "probability": 0.5873237252235413,
          "value": 0,
          "value_of_gamma": "level_0"
         },
         {
          "column": "name_inversion",
          "gamma": "gamma_name_inversion",
          "match": 1,
          "probability": 0.14828099310398102,
          "value": 1,
          "value_of_gamma": "level_1"
         },
         {
          "column": "name_inversion",
          "gamma": "gamma_name_inversion",
          "match": 1,
          "probability": 0.2643952965736389,
          "value": 2,
          "value_of_gamma": "level_2"
         },
         {
          "column": "name_inversion",
          "gamma": "gamma_name_inversion",
          "match": 0,
          "probability": 0.9901524186134338,
          "value": 0,
          "value_of_gamma": "level_0"
         },
         {
          "column": "name_inversion",
          "gamma": "gamma_name_inversion",
          "match": 0,
          "probability": 1.986683628274477e-06,
          "value": 1,
          "value_of_gamma": "level_1"
         },
         {
          "column": "name_inversion",
          "gamma": "gamma_name_inversion",
          "match": 0,
          "probability": 0.00984562374651432,
          "value": 2,
          "value_of_gamma": "level_2"
         },
         {
          "column": "dob",
          "gamma": "gamma_dob",
          "match": 1,
          "probability": 0.14540153741836548,
          "value": 0,
          "value_of_gamma": "level_0"
         },
         {
          "column": "dob",
          "gamma": "gamma_dob",
          "match": 1,
          "probability": 0.8545984625816345,
          "value": 1,
          "value_of_gamma": "level_1"
         },
         {
          "column": "dob",
          "gamma": "gamma_dob",
          "match": 0,
          "probability": 0.9532221555709839,
          "value": 0,
          "value_of_gamma": "level_0"
         },
         {
          "column": "dob",
          "gamma": "gamma_dob",
          "match": 0,
          "probability": 0.04677782580256462,
          "value": 1,
          "value_of_gamma": "level_1"
         },
         {
          "column": "city",
          "gamma": "gamma_city",
          "match": 1,
          "probability": 0.22016668319702148,
          "value": 0,
          "value_of_gamma": "level_0"
         },
         {
          "column": "city",
          "gamma": "gamma_city",
          "match": 1,
          "probability": 0.7798333168029785,
          "value": 1,
          "value_of_gamma": "level_1"
         },
         {
          "column": "city",
          "gamma": "gamma_city",
          "match": 0,
          "probability": 0.8225120902061462,
          "value": 0,
          "value_of_gamma": "level_0"
         },
         {
          "column": "city",
          "gamma": "gamma_city",
          "match": 0,
          "probability": 0.17748789489269257,
          "value": 1,
          "value_of_gamma": "level_1"
         },
         {
          "column": "email",
          "gamma": "gamma_email",
          "match": 1,
          "probability": 0.13499057292938232,
          "value": 0,
          "value_of_gamma": "level_0"
         },
         {
          "column": "email",
          "gamma": "gamma_email",
          "match": 1,
          "probability": 0.8650094270706177,
          "value": 1,
          "value_of_gamma": "level_1"
         },
         {
          "column": "email",
          "gamma": "gamma_email",
          "match": 0,
          "probability": 0.9863645434379578,
          "value": 0,
          "value_of_gamma": "level_0"
         },
         {
          "column": "email",
          "gamma": "gamma_email",
          "match": 0,
          "probability": 0.013635475188493729,
          "value": 1,
          "value_of_gamma": "level_1"
         }
        ]
       },
       "hconcat": [
        {
         "encoding": {
          "color": {
           "field": "match",
           "type": "nominal"
          },
          "row": {
           "field": "column",
           "sort": {
            "field": "gamma"
           },
           "type": "nominal"
          },
          "tooltip": [
           {
            "field": "column",
            "type": "nominal"
           },
           {
            "field": "probability",
            "format": ".4f",
            "type": "quantitative"
           },
           {
            "field": "value",
            "type": "ordinal"
           }
          ],
          "x": {
           "field": "probability",
           "type": "quantitative"
          },
          "y": {
           "axis": {
            "title": "𝛾 value"
           },
           "field": "value",
           "type": "nominal"
          }
         },
         "mark": "bar",
         "resolve": {
          "scale": {
           "y": "independent"
          }
         },
         "transform": [
          {
           "filter": "(datum.match === 0)"
          }
         ],
         "width": 150
        },
        {
         "encoding": {
          "color": {
           "field": "match",
           "type": "nominal"
          },
          "row": {
           "field": "column",
           "sort": {
            "field": "gamma"
           },
           "type": "nominal"
          },
          "tooltip": [
           {
            "field": "column",
            "type": "nominal"
           },
           {
            "field": "probability",
            "format": ".4f",
            "type": "quantitative"
           },
           {
            "field": "value",
            "type": "ordinal"
           }
          ],
          "x": {
           "field": "probability",
           "type": "quantitative"
          },
          "y": {
           "axis": {
            "title": "𝛾 value"
           },
           "field": "value",
           "type": "nominal"
          }
         },
         "mark": "bar",
         "resolve": {
          "scale": {
           "y": "independent"
          }
         },
         "transform": [
          {
           "filter": "(datum.match === 1)"
          }
         ],
         "width": 150
        }
       ],
       "title": "Probability distribution of comparison vector values, m=0 and m=1"
      },
      "image/png": "[encoded data removed]",
      "text/plain": [
       "<VegaLite 3 object>\n",
       "\n",
       "If you see this message, it means the renderer has not been properly enabled\n",
       "for the frontend that you are using. For more information, see\n",
       "https://altair-viz.github.io/user_guide/troubleshooting.html\n"
      ]
     },
     "execution_count": 8,
     "metadata": {},
     "output_type": "execute_result"
    }
   ],
   "source": [
    "params = linker.params\n",
    "params.probability_distribution_chart()"
   ]
  },
  {
   "cell_type": "markdown",
   "metadata": {},
   "source": [
    "An alternative representation of the parameters displays them in terms of the effect different values in the comparison vectors have on the match probability:"
   ]
  },
  {
   "cell_type": "code",
   "execution_count": 9,
   "metadata": {},
   "outputs": [
    {
     "data": {
      "application/vnd.vegalite.v3+json": {
       "$schema": "https://vega.github.io/schema/vega-lite/v3.4.0.json",
       "config": {
        "mark": {
         "tooltip": null
        },
        "title": {
         "anchor": "middle"
        },
        "view": {
         "height": 300,
         "width": 400
        }
       },
       "data": {
        "name": "data-6c8d27908e75a9bfcce97dcf4cd14dee"
       },
       "datasets": {
        "data-6c8d27908e75a9bfcce97dcf4cd14dee": [
         {
          "adjustment": 0.3723186100266239,
          "col_name": "name_inversion",
          "level": "level_0",
          "m": 0.5873237252235413,
          "normalised_adjustment": -0.12768138997337608,
          "u": 0.9901524186134338
         },
         {
          "adjustment": 0.9999866020791387,
          "col_name": "name_inversion",
          "level": "level_1",
          "m": 0.14828099310398102,
          "normalised_adjustment": 0.4999866020791387,
          "u": 1.986683628274477e-06
         },
         {
          "adjustment": 0.964098633657514,
          "col_name": "name_inversion",
          "level": "level_2",
          "m": 0.2643952965736389,
          "normalised_adjustment": 0.464098633657514,
          "u": 0.00984562374651432
         },
         {
          "adjustment": 0.13234880910198527,
          "col_name": "dob",
          "level": "level_0",
          "m": 0.14540153741836548,
          "normalised_adjustment": -0.36765119089801473,
          "u": 0.9532221555709839
         },
         {
          "adjustment": 0.9481039978470942,
          "col_name": "dob",
          "level": "level_1",
          "m": 0.8545984625816345,
          "normalised_adjustment": 0.4481039978470942,
          "u": 0.04677782580256462
         },
         {
          "adjustment": 0.2111548530698732,
          "col_name": "city",
          "level": "level_0",
          "m": 0.22016668319702148,
          "normalised_adjustment": -0.2888451469301268,
          "u": 0.8225120902061462
         },
         {
          "adjustment": 0.8145994335816353,
          "col_name": "city",
          "level": "level_1",
          "m": 0.7798333168029785,
          "normalised_adjustment": 0.31459943358163533,
          "u": 0.17748789489269257
         },
         {
          "adjustment": 0.12038164445772352,
          "col_name": "email",
          "level": "level_0",
          "m": 0.13499057292938232,
          "normalised_adjustment": -0.37961835554227646,
          "u": 0.9863645434379578
         },
         {
          "adjustment": 0.9844812447515087,
          "col_name": "email",
          "level": "level_1",
          "m": 0.8650094270706177,
          "normalised_adjustment": 0.48448124475150867,
          "u": 0.013635475188493729
         }
        ]
       },
       "encoding": {
        "color": {
         "field": "normalised_adjustment",
         "scale": {
          "domain": [
           -0.5,
           -0.4,
           0,
           0.4,
           0.5
          ],
          "range": [
           "red",
           "orange",
           "green",
           "orange",
           "red"
          ]
         },
         "type": "quantitative"
        },
        "row": {
         "field": "col_name",
         "sort": {
          "field": "gamma"
         },
         "type": "nominal"
        },
        "tooltip": [
         {
          "field": "col_name",
          "type": "nominal"
         },
         {
          "field": "normalised_adjustment",
          "type": "quantitative"
         }
        ],
        "x": {
         "axis": {
          "title": "Influence on match probabiity."
         },
         "field": "normalised_adjustment",
         "scale": {
          "domain": [
           -0.5,
           0.5
          ]
         },
         "type": "quantitative"
        },
        "y": {
         "field": "level",
         "type": "nominal"
        }
       },
       "height": 50,
       "mark": "bar",
       "resolve": {
        "scale": {
         "y": "independent"
        }
       },
       "title": "Influence of comparison vector values on match probability"
      },
      "image/png": "[encoded data removed]",
      "text/plain": [
       "<VegaLite 3 object>\n",
       "\n",
       "If you see this message, it means the renderer has not been properly enabled\n",
       "for the frontend that you are using. For more information, see\n",
       "https://altair-viz.github.io/user_guide/troubleshooting.html\n"
      ]
     },
     "execution_count": 9,
     "metadata": {},
     "output_type": "execute_result"
    }
   ],
   "source": [
    "params.adjustment_factor_chart()"
   ]
  },
  {
   "cell_type": "code",
   "execution_count": 10,
   "metadata": {},
   "outputs": [],
   "source": [
    "# If charts aren't displaying correctly in your notebook, you can write them to a file (by default splink_charts.html)\n",
    "params.all_charts_write_html_file()"
   ]
  },
  {
   "cell_type": "markdown",
   "metadata": {},
   "source": [
    "You can also generate a report which explains how the match probability was computed for an individual comparison row.  \n",
    "\n",
    "Note that you need to convert the row to a dictionary for this to work"
   ]
  },
  {
   "cell_type": "code",
   "execution_count": 11,
   "metadata": {},
   "outputs": [
    {
     "name": "stdout",
     "output_type": "stream",
     "text": [
      "\n",
      "Initial probability of match (prior) = λ = 0.38715508580207825\n",
      "\n",
      "Comparison of name_inversion.  Values are:\n",
      "name_inversion_l: Arthur , Bolton, 1998-03-07\n",
      "name_inversion_r: Clara , Bolton, 2013-06-26\n",
      "Comparison has 3 levels\n",
      "𝛾 for this comparison = gamma_name_inversion = 0\n",
      "Amongst matches, P(𝛾 = 0.5873237252235413):\n",
      "Amongst non matches, P(𝛾 = 0.9901524186134338):\n",
      "Adjustment factor = p1/(p1 + p2) = 0.3723186100266239\n",
      "New probability of match (updated belief): 0.27258051351254436\n",
      "\n",
      "Comparison of dob.  Values are:\n",
      "dob_l: 1998-03-07\n",
      "dob_r: 2013-06-26\n",
      "Comparison has 2 levels\n",
      "𝛾 for this comparison = gamma_dob = 0\n",
      "Amongst matches, P(𝛾 = 0.14540153741836548):\n",
      "Amongst non matches, P(𝛾 = 0.9532221555709839):\n",
      "Adjustment factor = p1/(p1 + p2) = 0.13234880910198527\n",
      "New probability of match (updated belief): 0.054068513144416824\n",
      "\n",
      "Comparison of city.  Values are:\n",
      "city_l: Nottingham\n",
      "city_r: London\n",
      "Comparison has 2 levels\n",
      "𝛾 for this comparison = gamma_city = 0\n",
      "Amongst matches, P(𝛾 = 0.22016668319702148):\n",
      "Amongst non matches, P(𝛾 = 0.8225120902061462):\n",
      "Adjustment factor = p1/(p1 + p2) = 0.2111548530698732\n",
      "New probability of match (updated belief): 0.015069527267576703\n",
      "\n",
      "Comparison of email.  Values are:\n",
      "email_l: milesnine@floras.iz\n",
      "email_r: judy30@smith.biz\n",
      "Comparison has 2 levels\n",
      "𝛾 for this comparison = gamma_email = 0\n",
      "Amongst matches, P(𝛾 = 0.13499057292938232):\n",
      "Amongst non matches, P(𝛾 = 0.9863645434379578):\n",
      "Adjustment factor = p1/(p1 + p2) = 0.12038164445772352\n",
      "New probability of match (updated belief): 0.0020895444565856556\n",
      "\n",
      "Final probability of match = 0.0020895444565856556\n",
      "\n"
     ]
    }
   ],
   "source": [
    "from splink.intuition import intuition_report\n",
    "row_dict = df_e.toPandas().sample(1).to_dict(orient=\"records\")[0]\n",
    "print(intuition_report(row_dict, params))"
   ]
  },
  {
   "cell_type": "markdown",
   "metadata": {},
   "source": [
    "## Step 7: Term frequency adjustments\n",
    "\n",
    "Splink enables you to make adjustments for term frequency on any number of columns\n",
    "\n",
    "This enables match probabilities to be adjusted for e.g. the fact John Smith is more prevalent than Robin Linacre"
   ]
  },
  {
   "cell_type": "code",
   "execution_count": 12,
   "metadata": {},
   "outputs": [
    {
     "name": "stderr",
     "output_type": "stream",
     "text": [
      "/Users/robinlinacre/anaconda3/lib/python3.6/site-packages/splink/term_frequencies.py:141: UserWarning: No term frequency adjustment columns are specified in your settings object.  Returning original df\n",
      "  \"No term frequency adjustment columns are specified in your settings object.  Returning original df\"\n"
     ]
    }
   ],
   "source": [
    "df_e_adj = linker.make_term_frequency_adjustments(df_e)"
   ]
  },
  {
   "cell_type": "code",
   "execution_count": 13,
   "metadata": {},
   "outputs": [
    {
     "ename": "KeyError",
     "evalue": "\"['tf_adjusted_match_prob'] not in index\"",
     "output_type": "error",
     "traceback": [
      "\u001b[0;31m---------------------------------------------------------------------------\u001b[0m",
      "\u001b[0;31mKeyError\u001b[0m                                  Traceback (most recent call last)",
      "\u001b[0;32m<ipython-input-13-129b7ec7e585>\u001b[0m in \u001b[0;36m<module>\u001b[0;34m\u001b[0m\n\u001b[1;32m      1\u001b[0m \u001b[0mpdtf\u001b[0m \u001b[0;34m=\u001b[0m \u001b[0mdf_e_adj\u001b[0m\u001b[0;34m.\u001b[0m\u001b[0mtoPandas\u001b[0m\u001b[0;34m(\u001b[0m\u001b[0;34m)\u001b[0m\u001b[0;34m\u001b[0m\u001b[0;34m\u001b[0m\u001b[0m\n\u001b[1;32m      2\u001b[0m \u001b[0msam\u001b[0m \u001b[0;34m=\u001b[0m \u001b[0mpdtf\u001b[0m\u001b[0;34m.\u001b[0m\u001b[0msample\u001b[0m\u001b[0;34m(\u001b[0m\u001b[0;36m10\u001b[0m\u001b[0;34m)\u001b[0m\u001b[0;34m\u001b[0m\u001b[0;34m\u001b[0m\u001b[0m\n\u001b[0;32m----> 3\u001b[0;31m \u001b[0msam\u001b[0m\u001b[0;34m[\u001b[0m\u001b[0;34m[\u001b[0m\u001b[0;34m\"match_probability\"\u001b[0m\u001b[0;34m,\u001b[0m \u001b[0;34m\"tf_adjusted_match_prob\"\u001b[0m\u001b[0;34m]\u001b[0m \u001b[0;34m+\u001b[0m \u001b[0mlist\u001b[0m\u001b[0;34m(\u001b[0m\u001b[0mpdtf\u001b[0m\u001b[0;34m.\u001b[0m\u001b[0mcolumns\u001b[0m\u001b[0;34m)\u001b[0m\u001b[0;34m]\u001b[0m\u001b[0;34m\u001b[0m\u001b[0;34m\u001b[0m\u001b[0m\n\u001b[0m",
      "\u001b[0;32m~/anaconda3/lib/python3.6/site-packages/pandas/core/frame.py\u001b[0m in \u001b[0;36m__getitem__\u001b[0;34m(self, key)\u001b[0m\n\u001b[1;32m   2984\u001b[0m             \u001b[0;32mif\u001b[0m \u001b[0mis_iterator\u001b[0m\u001b[0;34m(\u001b[0m\u001b[0mkey\u001b[0m\u001b[0;34m)\u001b[0m\u001b[0;34m:\u001b[0m\u001b[0;34m\u001b[0m\u001b[0;34m\u001b[0m\u001b[0m\n\u001b[1;32m   2985\u001b[0m                 \u001b[0mkey\u001b[0m \u001b[0;34m=\u001b[0m \u001b[0mlist\u001b[0m\u001b[0;34m(\u001b[0m\u001b[0mkey\u001b[0m\u001b[0;34m)\u001b[0m\u001b[0;34m\u001b[0m\u001b[0;34m\u001b[0m\u001b[0m\n\u001b[0;32m-> 2986\u001b[0;31m             \u001b[0mindexer\u001b[0m \u001b[0;34m=\u001b[0m \u001b[0mself\u001b[0m\u001b[0;34m.\u001b[0m\u001b[0mloc\u001b[0m\u001b[0;34m.\u001b[0m\u001b[0m_convert_to_indexer\u001b[0m\u001b[0;34m(\u001b[0m\u001b[0mkey\u001b[0m\u001b[0;34m,\u001b[0m \u001b[0maxis\u001b[0m\u001b[0;34m=\u001b[0m\u001b[0;36m1\u001b[0m\u001b[0;34m,\u001b[0m \u001b[0mraise_missing\u001b[0m\u001b[0;34m=\u001b[0m\u001b[0;32mTrue\u001b[0m\u001b[0;34m)\u001b[0m\u001b[0;34m\u001b[0m\u001b[0;34m\u001b[0m\u001b[0m\n\u001b[0m\u001b[1;32m   2987\u001b[0m \u001b[0;34m\u001b[0m\u001b[0m\n\u001b[1;32m   2988\u001b[0m         \u001b[0;31m# take() does not accept boolean indexers\u001b[0m\u001b[0;34m\u001b[0m\u001b[0;34m\u001b[0m\u001b[0;34m\u001b[0m\u001b[0m\n",
      "\u001b[0;32m~/anaconda3/lib/python3.6/site-packages/pandas/core/indexing.py\u001b[0m in \u001b[0;36m_convert_to_indexer\u001b[0;34m(self, obj, axis, is_setter, raise_missing)\u001b[0m\n\u001b[1;32m   1283\u001b[0m                 \u001b[0;31m# When setting, missing keys are not allowed, even with .loc:\u001b[0m\u001b[0;34m\u001b[0m\u001b[0;34m\u001b[0m\u001b[0;34m\u001b[0m\u001b[0m\n\u001b[1;32m   1284\u001b[0m                 \u001b[0mkwargs\u001b[0m \u001b[0;34m=\u001b[0m \u001b[0;34m{\u001b[0m\u001b[0;34m\"raise_missing\"\u001b[0m\u001b[0;34m:\u001b[0m \u001b[0;32mTrue\u001b[0m \u001b[0;32mif\u001b[0m \u001b[0mis_setter\u001b[0m \u001b[0;32melse\u001b[0m \u001b[0mraise_missing\u001b[0m\u001b[0;34m}\u001b[0m\u001b[0;34m\u001b[0m\u001b[0;34m\u001b[0m\u001b[0m\n\u001b[0;32m-> 1285\u001b[0;31m                 \u001b[0;32mreturn\u001b[0m \u001b[0mself\u001b[0m\u001b[0;34m.\u001b[0m\u001b[0m_get_listlike_indexer\u001b[0m\u001b[0;34m(\u001b[0m\u001b[0mobj\u001b[0m\u001b[0;34m,\u001b[0m \u001b[0maxis\u001b[0m\u001b[0;34m,\u001b[0m \u001b[0;34m**\u001b[0m\u001b[0mkwargs\u001b[0m\u001b[0;34m)\u001b[0m\u001b[0;34m[\u001b[0m\u001b[0;36m1\u001b[0m\u001b[0;34m]\u001b[0m\u001b[0;34m\u001b[0m\u001b[0;34m\u001b[0m\u001b[0m\n\u001b[0m\u001b[1;32m   1286\u001b[0m         \u001b[0;32melse\u001b[0m\u001b[0;34m:\u001b[0m\u001b[0;34m\u001b[0m\u001b[0;34m\u001b[0m\u001b[0m\n\u001b[1;32m   1287\u001b[0m             \u001b[0;32mtry\u001b[0m\u001b[0;34m:\u001b[0m\u001b[0;34m\u001b[0m\u001b[0;34m\u001b[0m\u001b[0m\n",
      "\u001b[0;32m~/anaconda3/lib/python3.6/site-packages/pandas/core/indexing.py\u001b[0m in \u001b[0;36m_get_listlike_indexer\u001b[0;34m(self, key, axis, raise_missing)\u001b[0m\n\u001b[1;32m   1090\u001b[0m \u001b[0;34m\u001b[0m\u001b[0m\n\u001b[1;32m   1091\u001b[0m         self._validate_read_indexer(\n\u001b[0;32m-> 1092\u001b[0;31m             \u001b[0mkeyarr\u001b[0m\u001b[0;34m,\u001b[0m \u001b[0mindexer\u001b[0m\u001b[0;34m,\u001b[0m \u001b[0mo\u001b[0m\u001b[0;34m.\u001b[0m\u001b[0m_get_axis_number\u001b[0m\u001b[0;34m(\u001b[0m\u001b[0maxis\u001b[0m\u001b[0;34m)\u001b[0m\u001b[0;34m,\u001b[0m \u001b[0mraise_missing\u001b[0m\u001b[0;34m=\u001b[0m\u001b[0mraise_missing\u001b[0m\u001b[0;34m\u001b[0m\u001b[0;34m\u001b[0m\u001b[0m\n\u001b[0m\u001b[1;32m   1093\u001b[0m         )\n\u001b[1;32m   1094\u001b[0m         \u001b[0;32mreturn\u001b[0m \u001b[0mkeyarr\u001b[0m\u001b[0;34m,\u001b[0m \u001b[0mindexer\u001b[0m\u001b[0;34m\u001b[0m\u001b[0;34m\u001b[0m\u001b[0m\n",
      "\u001b[0;32m~/anaconda3/lib/python3.6/site-packages/pandas/core/indexing.py\u001b[0m in \u001b[0;36m_validate_read_indexer\u001b[0;34m(self, key, indexer, axis, raise_missing)\u001b[0m\n\u001b[1;32m   1183\u001b[0m             \u001b[0;32mif\u001b[0m \u001b[0;32mnot\u001b[0m \u001b[0;34m(\u001b[0m\u001b[0mself\u001b[0m\u001b[0;34m.\u001b[0m\u001b[0mname\u001b[0m \u001b[0;34m==\u001b[0m \u001b[0;34m\"loc\"\u001b[0m \u001b[0;32mand\u001b[0m \u001b[0;32mnot\u001b[0m \u001b[0mraise_missing\u001b[0m\u001b[0;34m)\u001b[0m\u001b[0;34m:\u001b[0m\u001b[0;34m\u001b[0m\u001b[0;34m\u001b[0m\u001b[0m\n\u001b[1;32m   1184\u001b[0m                 \u001b[0mnot_found\u001b[0m \u001b[0;34m=\u001b[0m \u001b[0mlist\u001b[0m\u001b[0;34m(\u001b[0m\u001b[0mset\u001b[0m\u001b[0;34m(\u001b[0m\u001b[0mkey\u001b[0m\u001b[0;34m)\u001b[0m \u001b[0;34m-\u001b[0m \u001b[0mset\u001b[0m\u001b[0;34m(\u001b[0m\u001b[0max\u001b[0m\u001b[0;34m)\u001b[0m\u001b[0;34m)\u001b[0m\u001b[0;34m\u001b[0m\u001b[0;34m\u001b[0m\u001b[0m\n\u001b[0;32m-> 1185\u001b[0;31m                 \u001b[0;32mraise\u001b[0m \u001b[0mKeyError\u001b[0m\u001b[0;34m(\u001b[0m\u001b[0;34m\"{} not in index\"\u001b[0m\u001b[0;34m.\u001b[0m\u001b[0mformat\u001b[0m\u001b[0;34m(\u001b[0m\u001b[0mnot_found\u001b[0m\u001b[0;34m)\u001b[0m\u001b[0;34m)\u001b[0m\u001b[0;34m\u001b[0m\u001b[0;34m\u001b[0m\u001b[0m\n\u001b[0m\u001b[1;32m   1186\u001b[0m \u001b[0;34m\u001b[0m\u001b[0m\n\u001b[1;32m   1187\u001b[0m             \u001b[0;31m# we skip the warning on Categorical/Interval\u001b[0m\u001b[0;34m\u001b[0m\u001b[0;34m\u001b[0m\u001b[0;34m\u001b[0m\u001b[0m\n",
      "\u001b[0;31mKeyError\u001b[0m: \"['tf_adjusted_match_prob'] not in index\""
     ]
    }
   ],
   "source": [
    "pdtf = df_e_adj.toPandas()\n",
    "sam = pdtf.sample(10)\n",
    "sam[[\"match_probability\", \"tf_adjusted_match_prob\"] + list(pdtf.columns)]"
   ]
  },
  {
   "cell_type": "code",
   "execution_count": null,
   "metadata": {},
   "outputs": [],
   "source": []
  },
  {
   "cell_type": "code",
   "execution_count": null,
   "metadata": {},
   "outputs": [],
   "source": []
  },
  {
   "cell_type": "code",
   "execution_count": null,
   "metadata": {},
   "outputs": [],
   "source": []
  },
  {
   "cell_type": "code",
   "execution_count": null,
   "metadata": {},
   "outputs": [],
   "source": []
  },
  {
   "cell_type": "code",
   "execution_count": null,
   "metadata": {},
   "outputs": [],
   "source": []
  }
 ],
 "metadata": {
  "kernelspec": {
   "display_name": "Python 3",
   "language": "python",
   "name": "python3"
  },
  "language_info": {
   "codemirror_mode": {
    "name": "ipython",
    "version": 3
   },
   "file_extension": ".py",
   "mimetype": "text/x-python",
   "name": "python",
   "nbconvert_exporter": "python",
   "pygments_lexer": "ipython3",
   "version": "3.6.9"
  }
 },
 "nbformat": 4,
 "nbformat_minor": 4
}
