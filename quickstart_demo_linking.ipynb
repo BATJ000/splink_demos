{
 "cells": [
  {
   "cell_type": "markdown",
   "metadata": {},
   "source": [
    "## Splink data linking demo (link only)\n",
    "\n",
    "In this demo we link two small datasets.  \n",
    "\n",
    "We assume we have a list of people in one table who we want to find in a larger table.  It is assumed that due to transcription or other errors, there will often not be an exact match.\n",
    "\n",
    "The larger table contains duplicates, but in this notebook we use the `link_only` setting, so `splink` makes no attempt to deduplicate these records.    Note it is possible to simultaneously link and dedupe using the `link_and_dedupe` setting.\n",
    "\n",
    "**Important** Where deduplication is not required, `link_only` can provide an important performance boost by dramatically reducing the number of records which need to be compared.\n",
    "\n",
    "For example, if you wanted to link 10 records to 1,000, then the maximum number of comparisons that need to be made (i.e. with no blocking rules) is 10,000.  If you need to dedupe as well, that number would be n(n-1)/2 = 509,545.\n",
    "\n",
    "I print the output at each stage using `spark_dataframe.show()`.  This is for instructional purposes only - it degrades performance and shouldn't be used in a production setting."
   ]
  },
  {
   "cell_type": "markdown",
   "metadata": {},
   "source": [
    "## Step 1:  Imports and setup\n",
    "\n",
    "The following is just boilerplate code that sets up the Spark session and sets some other non-essential configuration options"
   ]
  },
  {
   "cell_type": "code",
   "execution_count": 1,
   "metadata": {},
   "outputs": [],
   "source": [
    "import pandas as pd \n",
    "pd.options.display.max_columns = 500"
   ]
  },
  {
   "cell_type": "code",
   "execution_count": 2,
   "metadata": {},
   "outputs": [],
   "source": [
    "import logging \n",
    "logging.basicConfig()  # Means logs will print in Jupyter Lab\n",
    "\n",
    "# Set to DEBUG if you want splink to log the SQL statements it's executing under the hood\n",
    "logging.getLogger(\"splink\").setLevel(logging.INFO)"
   ]
  },
  {
   "cell_type": "code",
   "execution_count": 3,
   "metadata": {},
   "outputs": [],
   "source": [
    "from utility_functions.demo_utils import get_spark\n",
    "spark = get_spark()"
   ]
  },
  {
   "cell_type": "markdown",
   "metadata": {},
   "source": [
    "## Step 2: Read in the data\n",
    "\n",
    "The `l` and `r` stand for 'left' and 'right.  It doesn't matter which of the two datasets you choose as the left, performance and results will be the same.\n",
    "\n",
    "⚠️ Note that `splink` makes the following assumptions about your data:\n",
    "\n",
    "-  There is a field containing a unique record identifier in each dataset\n",
    "-  The two datasets being linked have common column names - e.g. date of birth is represented in both datasets in a field of the same name.   In many cases, this means that the user needs to rename columns prior to using `splink`\n"
   ]
  },
  {
   "cell_type": "code",
   "execution_count": 4,
   "metadata": {},
   "outputs": [
    {
     "name": "stdout",
     "output_type": "stream",
     "text": [
      "+---------+----------+-------+----------+------------+--------------------+-----+\n",
      "|unique_id|first_name|surname|       dob|        city|               email|group|\n",
      "+---------+----------+-------+----------+------------+--------------------+-----+\n",
      "|        0|    Julia |   null|2015-10-29|      London| hannah88@powers.com|    0|\n",
      "|        4|      oNah| Watson|2008-03-23|      Bolton|matthew78@ballard...|    1|\n",
      "|       13|    Molly |   Bell|2002-01-05|Peterborough|                null|    2|\n",
      "|       15| Alexander|Amelia |1983-05-19|     Glasgow|ic-mpbell@alleale...|    3|\n",
      "|       20|    Ol vri|ynnollC|1972-03-08|    Plymouth|derekwilliams@nor...|    4|\n",
      "+---------+----------+-------+----------+------------+--------------------+-----+\n",
      "only showing top 5 rows\n",
      "\n",
      "+---------+----------+-------+----------+------+--------------------+-----+\n",
      "|unique_id|first_name|surname|       dob|  city|               email|group|\n",
      "+---------+----------+-------+----------+------+--------------------+-----+\n",
      "|        1|    Julia | Taylor|2015-07-31|London| hannah88@powers.com|    0|\n",
      "|        2|    Julia | Taylor|2016-01-27|London| hannah88@powers.com|    0|\n",
      "|        3|    Julia | Taylor|2015-10-29|  null|  hannah88opowersc@m|    0|\n",
      "|        5|     Noah | Watson|2008-03-23|Bolton|matthew78@ballard...|    1|\n",
      "|        6|    Watson|  Noah |2008-03-23|  null|matthew78@ballard...|    1|\n",
      "+---------+----------+-------+----------+------+--------------------+-----+\n",
      "only showing top 5 rows\n",
      "\n"
     ]
    }
   ],
   "source": [
    "df_l = spark.read.parquet(\"data/fake_df_l.parquet\")\n",
    "df_r = spark.read.parquet(\"data/fake_df_r.parquet\")\n",
    "df_l.show(5)\n",
    "df_r.show(5)"
   ]
  },
  {
   "cell_type": "markdown",
   "metadata": {},
   "source": [
    "## Step 3:  Configure splink using the `settings` object\n",
    "\n",
    "Most of `splink` configuration options are stored in a settings dictionary.  This dictionary allows significant customisation, and can therefore get quite complex.  \n",
    "\n",
    "💥 We provide an tool for helping to author valid settings dictionaries, which includes tooltips and autocomplete, which you can find [here](http://robinlinacre.com/splink_settings_editor/).\n",
    "\n",
    "Customisation overrides default values built into splink.  For the purposes of this demo, we will specify a simple settings dictionary, which means we will be relying on these sensible defaults.\n",
    "\n",
    "To help with authoring and validation of the settings dictionary, we have written a [json schema](https://json-schema.org/), which can be found [here](https://github.com/moj-analytical-services/splink/blob/master/splink/files/settings_jsonschema.json).  \n",
    "\n",
    "\n"
   ]
  },
  {
   "cell_type": "code",
   "execution_count": 5,
   "metadata": {},
   "outputs": [],
   "source": [
    "settings = {\n",
    "    \"link_type\": \"link_only\", \n",
    "    \"max_iterations\": 5,\n",
    "    \"blocking_rules\": [\n",
    "        'l.first_name = r.first_name',\n",
    "        'l.surname = r.surname',\n",
    "        'l.dob = r.dob'\n",
    "    ],\n",
    "    \"comparison_columns\": [\n",
    "       {\n",
    "        \"custom_name\": \"name_inversion\",\n",
    "        \"custom_columns_used\": [\"first_name\", \"surname\", \"dob\"],\n",
    "        \"case_expression\": \"CASE WHEN first_name_l = first_name_r AND surname_l = surname_r THEN 2 WHEN first_name_l = surname_r AND surname_l = first_name_r THEN 1 ELSE 0 END\",\n",
    "        \"num_levels\": 3\n",
    "        },\n",
    "        {\n",
    "            \"col_name\": \"dob\"\n",
    "        },\n",
    "        {\n",
    "            \"col_name\": \"city\"\n",
    "        },\n",
    "        {\n",
    "            \"col_name\": \"email\"\n",
    "        }\n",
    "    ],\n",
    "    \"additional_columns_to_retain\": [\"group\"]\n",
    "    \n",
    "}"
   ]
  },
  {
   "cell_type": "markdown",
   "metadata": {},
   "source": [
    "In words, this setting dictionary says:\n",
    "\n",
    "- We are performing a data linking task (the other options are `dedupe_only`, or `link_and_dedupe`)\n",
    "- Rather than generate all possible comparisons (the cartesian product of the input datasets), we are going restrict record comparisons to those generated by at least one of the rules in the specified array\n",
    "- When comparing records, we will use information from the `first_name`, `surname`, `dob`, `city` and `email` columns to compute a match score.\n",
    "- For `first_name` and `surname`, string comparisons will have three levels:\n",
    "    - Level 2: Strings are (almost) exactly the same\n",
    "    - Level 1: Strings are similar \n",
    "    - Level 0: No match\n",
    "- We will make adjustments for term frequencies on the `first_name` and `surname` columns\n",
    "- We will retain the `group` column in the results even though this is not used as part of comparisons.  This is a labelled dataset and `group` contains the true match - i.e. where group matches, the records pertain to the same person"
   ]
  },
  {
   "cell_type": "markdown",
   "metadata": {},
   "source": [
    "## Step 4:  Estimate match scores using the Expectation Maximisation algorithm"
   ]
  },
  {
   "cell_type": "code",
   "execution_count": 6,
   "metadata": {},
   "outputs": [
    {
     "name": "stderr",
     "output_type": "stream",
     "text": [
      "INFO:splink.iterate:Iteration 0 complete\n",
      "INFO:splink.params:The maximum change in parameters was 0.4944548845291138 for key π_gamma_name_inversion_prob_dist_match_level_0_probability\n",
      "INFO:splink.iterate:Iteration 1 complete\n",
      "INFO:splink.params:The maximum change in parameters was 0.054529160261154175 for key π_gamma_city_prob_dist_match_level_0_probability\n",
      "INFO:splink.iterate:Iteration 2 complete\n",
      "INFO:splink.params:The maximum change in parameters was 0.026873305439949036 for key π_gamma_city_prob_dist_match_level_0_probability\n",
      "INFO:splink.iterate:Iteration 3 complete\n",
      "INFO:splink.params:The maximum change in parameters was 0.016269318759441376 for key π_gamma_email_prob_dist_match_level_0_probability\n",
      "INFO:splink.iterate:Iteration 4 complete\n",
      "INFO:splink.params:The maximum change in parameters was 0.013959884643554688 for key π_gamma_email_prob_dist_match_level_1_probability\n"
     ]
    },
    {
     "data": {
      "text/plain": [
       "DataFrame[match_probability: double, unique_id_l: bigint, unique_id_r: bigint, first_name_l: string, first_name_r: string, surname_l: string, surname_r: string, dob_l: string, dob_r: string, gamma_name_inversion: int, prob_gamma_name_inversion_non_match: double, prob_gamma_name_inversion_match: double, gamma_dob: int, prob_gamma_dob_non_match: double, prob_gamma_dob_match: double, city_l: string, city_r: string, gamma_city: int, prob_gamma_city_non_match: double, prob_gamma_city_match: double, email_l: string, email_r: string, gamma_email: int, prob_gamma_email_non_match: double, prob_gamma_email_match: double, group_l: bigint, group_r: bigint]"
      ]
     },
     "execution_count": 6,
     "metadata": {},
     "output_type": "execute_result"
    }
   ],
   "source": [
    "from splink import Splink\n",
    "\n",
    "linker = Splink(settings, spark, df_l=df_l, df_r=df_r)\n",
    "df_e = linker.get_scored_comparisons()\n",
    "\n",
    "# Later, we will make term frequency adjustments.  \n",
    "# Persist caches these results in memory, preventing them having to be recomputed when we make these adjustments.\n",
    "df_e.persist()  \n"
   ]
  },
  {
   "cell_type": "markdown",
   "metadata": {},
   "source": [
    "## Step 5: Inspect results \n",
    "\n"
   ]
  },
  {
   "cell_type": "code",
   "execution_count": 7,
   "metadata": {},
   "outputs": [
    {
     "data": {
      "text/html": [
       "<div>\n",
       "<style scoped>\n",
       "    .dataframe tbody tr th:only-of-type {\n",
       "        vertical-align: middle;\n",
       "    }\n",
       "\n",
       "    .dataframe tbody tr th {\n",
       "        vertical-align: top;\n",
       "    }\n",
       "\n",
       "    .dataframe thead th {\n",
       "        text-align: right;\n",
       "    }\n",
       "</style>\n",
       "<table border=\"1\" class=\"dataframe\">\n",
       "  <thead>\n",
       "    <tr style=\"text-align: right;\">\n",
       "      <th></th>\n",
       "      <th>match_probability</th>\n",
       "      <th>unique_id_l</th>\n",
       "      <th>unique_id_r</th>\n",
       "      <th>first_name_l</th>\n",
       "      <th>first_name_r</th>\n",
       "      <th>surname_l</th>\n",
       "      <th>surname_r</th>\n",
       "      <th>dob_l</th>\n",
       "      <th>dob_r</th>\n",
       "      <th>gamma_name_inversion</th>\n",
       "      <th>prob_gamma_name_inversion_non_match</th>\n",
       "      <th>prob_gamma_name_inversion_match</th>\n",
       "      <th>gamma_dob</th>\n",
       "      <th>prob_gamma_dob_non_match</th>\n",
       "      <th>prob_gamma_dob_match</th>\n",
       "      <th>city_l</th>\n",
       "      <th>city_r</th>\n",
       "      <th>gamma_city</th>\n",
       "      <th>prob_gamma_city_non_match</th>\n",
       "      <th>prob_gamma_city_match</th>\n",
       "      <th>email_l</th>\n",
       "      <th>email_r</th>\n",
       "      <th>gamma_email</th>\n",
       "      <th>prob_gamma_email_non_match</th>\n",
       "      <th>prob_gamma_email_match</th>\n",
       "      <th>group_l</th>\n",
       "      <th>group_r</th>\n",
       "    </tr>\n",
       "  </thead>\n",
       "  <tbody>\n",
       "    <tr>\n",
       "      <th>1184</th>\n",
       "      <td>0.008382</td>\n",
       "      <td>89</td>\n",
       "      <td>746</td>\n",
       "      <td>Chirla</td>\n",
       "      <td>None</td>\n",
       "      <td>Taylor</td>\n",
       "      <td>Taylor</td>\n",
       "      <td>2006-06-28</td>\n",
       "      <td>1993-06-23</td>\n",
       "      <td>0</td>\n",
       "      <td>0.992115</td>\n",
       "      <td>0.655863</td>\n",
       "      <td>0</td>\n",
       "      <td>0.951687</td>\n",
       "      <td>0.143546</td>\n",
       "      <td>London</td>\n",
       "      <td>None</td>\n",
       "      <td>-1</td>\n",
       "      <td>1.000000</td>\n",
       "      <td>1.000000</td>\n",
       "      <td>mbrooks@booker.com</td>\n",
       "      <td>rhondawilliams@gonzalez-scott.com</td>\n",
       "      <td>0</td>\n",
       "      <td>0.985161</td>\n",
       "      <td>0.133354</td>\n",
       "      <td>18</td>\n",
       "      <td>129</td>\n",
       "    </tr>\n",
       "    <tr>\n",
       "      <th>1295</th>\n",
       "      <td>0.008382</td>\n",
       "      <td>220</td>\n",
       "      <td>870</td>\n",
       "      <td>Amber</td>\n",
       "      <td>Arabella</td>\n",
       "      <td>Smith</td>\n",
       "      <td>Smith</td>\n",
       "      <td>2003-05-12</td>\n",
       "      <td>2004-10-25</td>\n",
       "      <td>0</td>\n",
       "      <td>0.992115</td>\n",
       "      <td>0.655863</td>\n",
       "      <td>0</td>\n",
       "      <td>0.951687</td>\n",
       "      <td>0.143546</td>\n",
       "      <td>None</td>\n",
       "      <td>Leeds</td>\n",
       "      <td>-1</td>\n",
       "      <td>1.000000</td>\n",
       "      <td>1.000000</td>\n",
       "      <td>barrerakevin@sherman.org</td>\n",
       "      <td>kathryn20@goodman.com</td>\n",
       "      <td>0</td>\n",
       "      <td>0.985161</td>\n",
       "      <td>0.133354</td>\n",
       "      <td>39</td>\n",
       "      <td>152</td>\n",
       "    </tr>\n",
       "    <tr>\n",
       "      <th>744</th>\n",
       "      <td>0.002238</td>\n",
       "      <td>79</td>\n",
       "      <td>159</td>\n",
       "      <td>Carr</td>\n",
       "      <td>Brown</td>\n",
       "      <td>Ethan</td>\n",
       "      <td>Ethan</td>\n",
       "      <td>2013-01-21</td>\n",
       "      <td>2010-12-22</td>\n",
       "      <td>0</td>\n",
       "      <td>0.992115</td>\n",
       "      <td>0.655863</td>\n",
       "      <td>0</td>\n",
       "      <td>0.951687</td>\n",
       "      <td>0.143546</td>\n",
       "      <td>London</td>\n",
       "      <td>Manchester</td>\n",
       "      <td>0</td>\n",
       "      <td>0.821861</td>\n",
       "      <td>0.218104</td>\n",
       "      <td>stacyball@medina.biz</td>\n",
       "      <td>petersbrandon@cox.com</td>\n",
       "      <td>0</td>\n",
       "      <td>0.985161</td>\n",
       "      <td>0.133354</td>\n",
       "      <td>16</td>\n",
       "      <td>28</td>\n",
       "    </tr>\n",
       "    <tr>\n",
       "      <th>868</th>\n",
       "      <td>0.002238</td>\n",
       "      <td>721</td>\n",
       "      <td>364</td>\n",
       "      <td>Sienna</td>\n",
       "      <td>Nancy</td>\n",
       "      <td>Taylor</td>\n",
       "      <td>Taylor</td>\n",
       "      <td>2005-06-04</td>\n",
       "      <td>1989-07-25</td>\n",
       "      <td>0</td>\n",
       "      <td>0.992115</td>\n",
       "      <td>0.655863</td>\n",
       "      <td>0</td>\n",
       "      <td>0.951687</td>\n",
       "      <td>0.143546</td>\n",
       "      <td>Liverpool</td>\n",
       "      <td>London</td>\n",
       "      <td>0</td>\n",
       "      <td>0.821861</td>\n",
       "      <td>0.218104</td>\n",
       "      <td>javierfrederick@kelly.org</td>\n",
       "      <td>wagnershane@landry.com</td>\n",
       "      <td>0</td>\n",
       "      <td>0.985161</td>\n",
       "      <td>0.133354</td>\n",
       "      <td>124</td>\n",
       "      <td>62</td>\n",
       "    </tr>\n",
       "    <tr>\n",
       "      <th>1141</th>\n",
       "      <td>0.002238</td>\n",
       "      <td>682</td>\n",
       "      <td>672</td>\n",
       "      <td>None</td>\n",
       "      <td>Ivy</td>\n",
       "      <td>Taylor</td>\n",
       "      <td>Taylor</td>\n",
       "      <td>2014-03-20</td>\n",
       "      <td>1980-01-13</td>\n",
       "      <td>0</td>\n",
       "      <td>0.992115</td>\n",
       "      <td>0.655863</td>\n",
       "      <td>0</td>\n",
       "      <td>0.951687</td>\n",
       "      <td>0.143546</td>\n",
       "      <td>London</td>\n",
       "      <td>noLdo</td>\n",
       "      <td>0</td>\n",
       "      <td>0.821861</td>\n",
       "      <td>0.218104</td>\n",
       "      <td>eaul44@bpntly.com</td>\n",
       "      <td>jonesjennifer@pitts.com</td>\n",
       "      <td>0</td>\n",
       "      <td>0.985161</td>\n",
       "      <td>0.133354</td>\n",
       "      <td>115</td>\n",
       "      <td>113</td>\n",
       "    </tr>\n",
       "  </tbody>\n",
       "</table>\n",
       "</div>"
      ],
      "text/plain": [
       "      match_probability  unique_id_l  unique_id_r first_name_l first_name_r  \\\n",
       "1184           0.008382           89          746      Chirla          None   \n",
       "1295           0.008382          220          870       Amber     Arabella    \n",
       "744            0.002238           79          159         Carr        Brown   \n",
       "868            0.002238          721          364      Sienna        Nancy    \n",
       "1141           0.002238          682          672         None         Ivy    \n",
       "\n",
       "     surname_l surname_r       dob_l       dob_r  gamma_name_inversion  \\\n",
       "1184    Taylor    Taylor  2006-06-28  1993-06-23                     0   \n",
       "1295     Smith     Smith  2003-05-12  2004-10-25                     0   \n",
       "744     Ethan     Ethan   2013-01-21  2010-12-22                     0   \n",
       "868     Taylor    Taylor  2005-06-04  1989-07-25                     0   \n",
       "1141    Taylor    Taylor  2014-03-20  1980-01-13                     0   \n",
       "\n",
       "      prob_gamma_name_inversion_non_match  prob_gamma_name_inversion_match  \\\n",
       "1184                             0.992115                         0.655863   \n",
       "1295                             0.992115                         0.655863   \n",
       "744                              0.992115                         0.655863   \n",
       "868                              0.992115                         0.655863   \n",
       "1141                             0.992115                         0.655863   \n",
       "\n",
       "      gamma_dob  prob_gamma_dob_non_match  prob_gamma_dob_match     city_l  \\\n",
       "1184          0                  0.951687              0.143546     London   \n",
       "1295          0                  0.951687              0.143546       None   \n",
       "744           0                  0.951687              0.143546     London   \n",
       "868           0                  0.951687              0.143546  Liverpool   \n",
       "1141          0                  0.951687              0.143546     London   \n",
       "\n",
       "          city_r  gamma_city  prob_gamma_city_non_match  \\\n",
       "1184        None          -1                   1.000000   \n",
       "1295       Leeds          -1                   1.000000   \n",
       "744   Manchester           0                   0.821861   \n",
       "868       London           0                   0.821861   \n",
       "1141       noLdo           0                   0.821861   \n",
       "\n",
       "      prob_gamma_city_match                    email_l  \\\n",
       "1184               1.000000         mbrooks@booker.com   \n",
       "1295               1.000000   barrerakevin@sherman.org   \n",
       "744                0.218104       stacyball@medina.biz   \n",
       "868                0.218104  javierfrederick@kelly.org   \n",
       "1141               0.218104          eaul44@bpntly.com   \n",
       "\n",
       "                                email_r  gamma_email  \\\n",
       "1184  rhondawilliams@gonzalez-scott.com            0   \n",
       "1295              kathryn20@goodman.com            0   \n",
       "744               petersbrandon@cox.com            0   \n",
       "868              wagnershane@landry.com            0   \n",
       "1141            jonesjennifer@pitts.com            0   \n",
       "\n",
       "      prob_gamma_email_non_match  prob_gamma_email_match  group_l  group_r  \n",
       "1184                    0.985161                0.133354       18      129  \n",
       "1295                    0.985161                0.133354       39      152  \n",
       "744                     0.985161                0.133354       16       28  \n",
       "868                     0.985161                0.133354      124       62  \n",
       "1141                    0.985161                0.133354      115      113  "
      ]
     },
     "execution_count": 7,
     "metadata": {},
     "output_type": "execute_result"
    }
   ],
   "source": [
    "# Inspect main dataframe that contains the match scores\n",
    "df_e.toPandas().sample(5)"
   ]
  },
  {
   "cell_type": "markdown",
   "metadata": {},
   "source": [
    "The `params` property of the `linker` is an object that contains a lot of diagnostic information about how the match probability was computed.  The following cells demonstrate some of its functionality"
   ]
  },
  {
   "cell_type": "code",
   "execution_count": 13,
   "metadata": {},
   "outputs": [
    {
     "data": {
      "application/vnd.vegalite.v4+json": {
       "$schema": "https://vega.github.io/schema/vega-lite/v3.4.0.json",
       "config": {
        "mark": {
         "tooltip": null
        },
        "title": {
         "anchor": "middle"
        },
        "view": {
         "continuousHeight": 300,
         "continuousWidth": 400,
         "height": 300,
         "width": 400
        }
       },
       "data": {
        "name": "data-3f598d59b5be0e11e7759edca8b8fbf6"
       },
       "datasets": {
        "data-3f598d59b5be0e11e7759edca8b8fbf6": [
         {
          "column": "name_inversion",
          "gamma": "gamma_name_inversion",
          "match": 1,
          "probability": 0.6558628082275391,
          "value": 0,
          "value_of_gamma": "level_0"
         },
         {
          "column": "name_inversion",
          "gamma": "gamma_name_inversion",
          "match": 1,
          "probability": 0.12372622638940811,
          "value": 1,
          "value_of_gamma": "level_1"
         },
         {
          "column": "name_inversion",
          "gamma": "gamma_name_inversion",
          "match": 1,
          "probability": 0.22041095793247223,
          "value": 2,
          "value_of_gamma": "level_2"
         },
         {
          "column": "name_inversion",
          "gamma": "gamma_name_inversion",
          "match": 0,
          "probability": 0.9921151399612427,
          "value": 0,
          "value_of_gamma": "level_0"
         },
         {
          "column": "name_inversion",
          "gamma": "gamma_name_inversion",
          "match": 0,
          "probability": 2.1532594018935924e-06,
          "value": 1,
          "value_of_gamma": "level_1"
         },
         {
          "column": "name_inversion",
          "gamma": "gamma_name_inversion",
          "match": 0,
          "probability": 0.007882719859480858,
          "value": 2,
          "value_of_gamma": "level_2"
         },
         {
          "column": "dob",
          "gamma": "gamma_dob",
          "match": 1,
          "probability": 0.14354592561721802,
          "value": 0,
          "value_of_gamma": "level_0"
         },
         {
          "column": "dob",
          "gamma": "gamma_dob",
          "match": 1,
          "probability": 0.856454074382782,
          "value": 1,
          "value_of_gamma": "level_1"
         },
         {
          "column": "dob",
          "gamma": "gamma_dob",
          "match": 0,
          "probability": 0.9516867995262146,
          "value": 0,
          "value_of_gamma": "level_0"
         },
         {
          "column": "dob",
          "gamma": "gamma_dob",
          "match": 0,
          "probability": 0.048313207924366,
          "value": 1,
          "value_of_gamma": "level_1"
         },
         {
          "column": "city",
          "gamma": "gamma_city",
          "match": 1,
          "probability": 0.21810382604599,
          "value": 0,
          "value_of_gamma": "level_0"
         },
         {
          "column": "city",
          "gamma": "gamma_city",
          "match": 1,
          "probability": 0.78189617395401,
          "value": 1,
          "value_of_gamma": "level_1"
         },
         {
          "column": "city",
          "gamma": "gamma_city",
          "match": 0,
          "probability": 0.8218610286712646,
          "value": 0,
          "value_of_gamma": "level_0"
         },
         {
          "column": "city",
          "gamma": "gamma_city",
          "match": 0,
          "probability": 0.17813900113105774,
          "value": 1,
          "value_of_gamma": "level_1"
         },
         {
          "column": "email",
          "gamma": "gamma_email",
          "match": 1,
          "probability": 0.13335402309894562,
          "value": 0,
          "value_of_gamma": "level_0"
         },
         {
          "column": "email",
          "gamma": "gamma_email",
          "match": 1,
          "probability": 0.8666459918022156,
          "value": 1,
          "value_of_gamma": "level_1"
         },
         {
          "column": "email",
          "gamma": "gamma_email",
          "match": 0,
          "probability": 0.9851611852645874,
          "value": 0,
          "value_of_gamma": "level_0"
         },
         {
          "column": "email",
          "gamma": "gamma_email",
          "match": 0,
          "probability": 0.014838805422186852,
          "value": 1,
          "value_of_gamma": "level_1"
         }
        ]
       },
       "hconcat": [
        {
         "encoding": {
          "color": {
           "field": "match",
           "scale": {
            "domain": [
             0,
             1
            ],
            "range": [
             "red",
             "green"
            ]
           },
           "type": "nominal"
          },
          "row": {
           "field": "column",
           "sort": {
            "field": "gamma"
           },
           "type": "nominal"
          },
          "tooltip": [
           {
            "field": "column",
            "type": "nominal"
           },
           {
            "field": "probability",
            "format": ".4f",
            "type": "quantitative"
           },
           {
            "field": "value",
            "type": "ordinal"
           }
          ],
          "x": {
           "axis": {
            "title": "proportion of non-matches"
           },
           "field": "probability",
           "type": "quantitative"
          },
          "y": {
           "axis": {
            "title": "𝛾 value"
           },
           "field": "value",
           "type": "nominal"
          }
         },
         "height": 50,
         "mark": "bar",
         "resolve": {
          "scale": {
           "y": "independent"
          }
         },
         "transform": [
          {
           "filter": "(datum.match === 0)"
          }
         ],
         "width": 150
        },
        {
         "encoding": {
          "color": {
           "field": "match",
           "scale": {
            "domain": [
             0,
             1
            ],
            "range": [
             "red",
             "green"
            ]
           },
           "type": "nominal"
          },
          "row": {
           "field": "column",
           "sort": {
            "field": "gamma"
           },
           "type": "nominal"
          },
          "tooltip": [
           {
            "field": "column",
            "type": "nominal"
           },
           {
            "field": "probability",
            "format": ".4f",
            "type": "quantitative"
           },
           {
            "field": "value",
            "type": "ordinal"
           }
          ],
          "x": {
           "axis": {
            "title": "proportion of matches"
           },
           "field": "probability",
           "type": "quantitative"
          },
          "y": {
           "axis": {
            "title": "𝛾 value"
           },
           "field": "value",
           "type": "nominal"
          }
         },
         "height": 50,
         "mark": "bar",
         "resolve": {
          "scale": {
           "y": "independent"
          }
         },
         "transform": [
          {
           "filter": "(datum.match === 1)"
          }
         ],
         "width": 150
        }
       ],
       "title": "Probability distribution of comparison vector values, m=0 and m=1"
      },
      "image/png": "[encoded data removed]",
      "text/plain": [
       "<VegaLite 4 object>\n",
       "\n",
       "If you see this message, it means the renderer has not been properly enabled\n",
       "for the frontend that you are using. For more information, see\n",
       "https://altair-viz.github.io/user_guide/troubleshooting.html\n"
      ]
     },
     "execution_count": 13,
     "metadata": {},
     "output_type": "execute_result"
    }
   ],
   "source": [
    "params = linker.params\n",
    "params.probability_distribution_chart()"
   ]
  },
  {
   "cell_type": "markdown",
   "metadata": {},
   "source": [
    "An alternative representation of the parameters displays them in terms of the effect different values in the comparison vectors have on the match probability:"
   ]
  },
  {
   "cell_type": "code",
   "execution_count": 14,
   "metadata": {},
   "outputs": [
    {
     "data": {
      "application/vnd.vegalite.v4+json": {
       "$schema": "https://vega.github.io/schema/vega-lite/v3.4.0.json",
       "config": {
        "mark": {
         "tooltip": null
        },
        "title": {
         "anchor": "middle"
        },
        "view": {
         "continuousHeight": 300,
         "continuousWidth": 400,
         "height": 300,
         "width": 400
        }
       },
       "data": {
        "name": "data-00940021bd43d3caa4e96fb5586610ad"
       },
       "datasets": {
        "data-00940021bd43d3caa4e96fb5586610ad": [
         {
          "bayes_factor": 0.6610752943989551,
          "column": "name_inversion",
          "level": 0,
          "level_proportion": 0.8626237633715732,
          "m": 0.6558628082275391,
          "u": 0.9921151399612427
         },
         {
          "bayes_factor": 57459.97267240647,
          "column": "name_inversion",
          "level": 1,
          "level_proportion": 0.047648515930794444,
          "m": 0.12372622638940811,
          "u": 2.1532594018935924e-06
         },
         {
          "bayes_factor": 27.9612826361418,
          "column": "name_inversion",
          "level": 2,
          "level_proportion": 0.08972772587134603,
          "m": 0.22041095793247223,
          "u": 0.007882719859480858
         },
         {
          "bayes_factor": 0.15083315822882126,
          "column": "dob",
          "level": 0,
          "level_proportion": 0.6404702982121648,
          "m": 0.14354592561721802,
          "u": 0.9516867995262146
         },
         {
          "bayes_factor": 17.727120826328797,
          "column": "dob",
          "level": 1,
          "level_proportion": 0.3595297063691838,
          "m": 0.856454074382782,
          "u": 0.048313207924366
         },
         {
          "bayes_factor": 0.265377987807266,
          "column": "city",
          "level": 0,
          "level_proportion": 0.5893530460774343,
          "m": 0.21810382604599,
          "u": 0.8218610286712646
         },
         {
          "bayes_factor": 4.38924754820403,
          "column": "city",
          "level": 1,
          "level_proportion": 0.4106469722479602,
          "m": 0.78189617395401,
          "u": 0.17813900113105774
         },
         {
          "bayes_factor": 0.135362644299806,
          "column": "email",
          "level": 0,
          "level_proportion": 0.6571287179533343,
          "m": 0.13335402309894562,
          "u": 0.9851611852645874
         },
         {
          "bayes_factor": 58.404026951281004,
          "column": "email",
          "level": 1,
          "level_proportion": 0.34287128205844386,
          "m": 0.8666459918022156,
          "u": 0.014838805422186852
         }
        ]
       },
       "encoding": {
        "color": {
         "field": "logk",
         "scale": {
          "domainMid": 0,
          "scheme": "redyellowgreen"
         },
         "title": "log2(K)",
         "type": "quantitative"
        },
        "row": {
         "field": "column",
         "sort": {
          "field": "column"
         },
         "type": "nominal"
        },
        "tooltip": [
         {
          "field": "column",
          "type": "nominal"
         },
         {
          "field": "bayes_factor",
          "title": "Bayes factor, K",
          "type": "quantitative"
         },
         {
          "field": "logk",
          "title": "log2(K)",
          "type": "quantitative"
         }
        ],
        "x": {
         "axis": {
          "title": "log2(Bayes factor, K = m/u)",
          "values": [
           -10,
           -5,
           0,
           5,
           10
          ]
         },
         "field": "logk",
         "scale": {
          "domain": [
           -10,
           10
          ]
         },
         "type": "quantitative"
        },
        "y": {
         "field": "level",
         "type": "nominal"
        }
       },
       "height": 50,
       "mark": {
        "clip": true,
        "type": "bar"
       },
       "resolve": {
        "scale": {
         "y": "independent"
        }
       },
       "title": "Influence of comparison vector values on match probability",
       "transform": [
        {
         "as": "logk",
         "calculate": "(log(datum.bayes_factor) / log(2))"
        }
       ]
      },
      "image/png": "[encoded data removed]",
      "text/plain": [
       "<VegaLite 4 object>\n",
       "\n",
       "If you see this message, it means the renderer has not been properly enabled\n",
       "for the frontend that you are using. For more information, see\n",
       "https://altair-viz.github.io/user_guide/troubleshooting.html\n"
      ]
     },
     "execution_count": 14,
     "metadata": {},
     "output_type": "execute_result"
    }
   ],
   "source": [
    "params.bayes_factor_chart()"
   ]
  },
  {
   "cell_type": "code",
   "execution_count": 15,
   "metadata": {},
   "outputs": [],
   "source": [
    "# If charts aren't displaying correctly in your notebook, you can write them to a file (by default splink_charts.html)\n",
    "params.all_charts_write_html_file(\"splink_charts.html\", overwrite=True)"
   ]
  },
  {
   "cell_type": "markdown",
   "metadata": {},
   "source": [
    "You can also generate a report which explains how the match probability was computed for an individual comparison row.  \n",
    "\n",
    "Note that you need to convert the row to a dictionary for this to work"
   ]
  },
  {
   "cell_type": "code",
   "execution_count": 16,
   "metadata": {},
   "outputs": [
    {
     "name": "stdout",
     "output_type": "stream",
     "text": [
      "\n",
      "Initial probability of match (prior) = λ = 0.3851017951965332\n",
      "\n",
      "Comparison of name_inversion.  Values are:\n",
      "name_inversion_l: Adam , Berry, 1986-02-08\n",
      "name_inversion_r: Adam , Berry, 1986-04-25\n",
      "Comparison has 3 levels\n",
      "𝛾 for this comparison = gamma_name_inversion = 2\n",
      "Amongst matches, m = P(𝛾|match) = 0.22041095793247223\n",
      "Amongst non matches, u = P(𝛾|non-match) = 0.007882719859480858\n",
      "Bayes factor = m/u = 27.9612826361418\n",
      "New probability of match (updated belief): 0.9459802391792113\n",
      "\n",
      "Comparison of dob.  Values are:\n",
      "dob_l: 1986-02-08\n",
      "dob_r: 1986-04-25\n",
      "Comparison has 2 levels\n",
      "𝛾 for this comparison = gamma_dob = 0\n",
      "Amongst matches, m = P(𝛾|match) = 0.14354592561721802\n",
      "Amongst non matches, u = P(𝛾|non-match) = 0.9516867995262146\n",
      "Bayes factor = m/u = 0.15083315822882126\n",
      "New probability of match (updated belief): 0.7253767056066094\n",
      "\n",
      "Comparison of city.  Values are:\n",
      "city_l: London\n",
      "city_r: Londn\n",
      "Comparison has 2 levels\n",
      "𝛾 for this comparison = gamma_city = 1\n",
      "Amongst matches, m = P(𝛾|match) = 0.78189617395401\n",
      "Amongst non matches, u = P(𝛾|non-match) = 0.17813900113105774\n",
      "Bayes factor = m/u = 4.38924754820403\n",
      "New probability of match (updated belief): 0.920594250237431\n",
      "\n",
      "Comparison of email.  Values are:\n",
      "email_l: walterdunn@pham-hill.com\n",
      "email_r: walterdunn@pham-hill.com\n",
      "Comparison has 2 levels\n",
      "𝛾 for this comparison = gamma_email = 1\n",
      "Amongst matches, m = P(𝛾|match) = 0.8666459918022156\n",
      "Amongst non matches, u = P(𝛾|non-match) = 0.014838805422186852\n",
      "Bayes factor = m/u = 58.404026951281004\n",
      "New probability of match (updated belief): 0.9985253125690584\n",
      "\n",
      "Final probability of match = 0.9985253125690584\n",
      "\n"
     ]
    }
   ],
   "source": [
    "from splink.intuition import intuition_report\n",
    "row_dict = df_e.toPandas().sample(1).to_dict(orient=\"records\")[0]\n",
    "print(intuition_report(row_dict, params))"
   ]
  },
  {
   "cell_type": "code",
   "execution_count": null,
   "metadata": {},
   "outputs": [],
   "source": []
  }
 ],
 "metadata": {
  "kernelspec": {
   "display_name": "Python 3",
   "language": "python",
   "name": "python3"
  },
  "language_info": {
   "codemirror_mode": {
    "name": "ipython",
    "version": 3
   },
   "file_extension": ".py",
   "mimetype": "text/x-python",
   "name": "python",
   "nbconvert_exporter": "python",
   "pygments_lexer": "ipython3",
   "version": "3.7.6"
  }
 },
 "nbformat": 4,
 "nbformat_minor": 4
}
