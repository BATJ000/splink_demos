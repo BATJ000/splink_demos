{
 "cells": [
  {
   "cell_type": "markdown",
   "metadata": {},
   "source": [
    "## Splink data linking demo (link only)\n",
    "\n",
    "In this demo we link two small datasets.  \n",
    "\n",
    "We assume we have a list of people in one table who we want to find in a larger table.  It is assumed that due to transcription or other errors, there will often not be an exact match.\n",
    "\n",
    "The larger table contains duplicates, but in this notebook we use the `link_only` setting, so `splink` makes no attempt to deduplicate these records.    Note it is possible to simultaneously link and dedupe using the `link_and_dedupe` setting.\n",
    "\n",
    "**Important** Where deduplication is not required, `link_only` can provide an important performance boost by dramatically reducing the number of records which need to be compared.\n",
    "\n",
    "For example, if you wanted to link 10 records to 1,000, then the maximum number of comparisons that need to be made (i.e. with no blocking rules) is 10,000.  If you need to dedupe as well, that number would be n(n-1)/2 = 509,545.\n",
    "\n",
    "I print the output at each stage using `spark_dataframe.show()`.  This is for instructional purposes only - it degrades performance and shouldn't be used in a production setting."
   ]
  },
  {
   "cell_type": "markdown",
   "metadata": {},
   "source": [
    "## Step 1:  Imports and setup\n",
    "\n",
    "The following is just boilerplate code that sets up the Spark session and sets some other non-essential configuration options"
   ]
  },
  {
   "cell_type": "code",
   "execution_count": 1,
   "metadata": {},
   "outputs": [],
   "source": [
    "import pandas as pd \n",
    "pd.options.display.max_columns = 500"
   ]
  },
  {
   "cell_type": "code",
   "execution_count": 2,
   "metadata": {},
   "outputs": [],
   "source": [
    "import logging \n",
    "logging.basicConfig()  # Means logs will print in Jupyter Lab\n",
    "\n",
    "# Set to DEBUG if you want splink to log the SQL statements it's executing under the hood\n",
    "logging.getLogger(\"splink\").setLevel(logging.INFO)"
   ]
  },
  {
   "cell_type": "code",
   "execution_count": 3,
   "metadata": {},
   "outputs": [],
   "source": [
    "from utility_functions.demo_utils import get_spark\n",
    "spark = get_spark()"
   ]
  },
  {
   "cell_type": "markdown",
   "metadata": {},
   "source": [
    "## Step 2: Read in the data\n",
    "\n",
    "The `l` and `r` stand for 'left' and 'right.  It doesn't matter which of the two datasets you choose as the left, performance and results will be the same.\n",
    "\n",
    "⚠️ Note that `splink` makes the following assumptions about your data:\n",
    "\n",
    "-  There is a field containing a unique record identifier in each dataset\n",
    "-  The two datasets being linked have common column names - e.g. date of birth is represented in both datasets in a field of the same name.   In many cases, this means that the user needs to rename columns prior to using `splink`\n"
   ]
  },
  {
   "cell_type": "code",
   "execution_count": 4,
   "metadata": {},
   "outputs": [
    {
     "name": "stdout",
     "output_type": "stream",
     "text": [
      "+---------+----------+-------+----------+------------+--------------------+-----+\n",
      "|unique_id|first_name|surname|       dob|        city|               email|group|\n",
      "+---------+----------+-------+----------+------------+--------------------+-----+\n",
      "|        0|    Julia |   null|2015-10-29|      London| hannah88@powers.com|    0|\n",
      "|        4|      oNah| Watson|2008-03-23|      Bolton|matthew78@ballard...|    1|\n",
      "|       13|    Molly |   Bell|2002-01-05|Peterborough|                null|    2|\n",
      "|       15| Alexander|Amelia |1983-05-19|     Glasgow|ic-mpbell@alleale...|    3|\n",
      "|       20|    Ol vri|ynnollC|1972-03-08|    Plymouth|derekwilliams@nor...|    4|\n",
      "+---------+----------+-------+----------+------------+--------------------+-----+\n",
      "only showing top 5 rows\n",
      "\n",
      "+---------+----------+-------+----------+------+--------------------+-----+\n",
      "|unique_id|first_name|surname|       dob|  city|               email|group|\n",
      "+---------+----------+-------+----------+------+--------------------+-----+\n",
      "|        1|    Julia | Taylor|2015-07-31|London| hannah88@powers.com|    0|\n",
      "|        2|    Julia | Taylor|2016-01-27|London| hannah88@powers.com|    0|\n",
      "|        3|    Julia | Taylor|2015-10-29|  null|  hannah88opowersc@m|    0|\n",
      "|        5|     Noah | Watson|2008-03-23|Bolton|matthew78@ballard...|    1|\n",
      "|        6|    Watson|  Noah |2008-03-23|  null|matthew78@ballard...|    1|\n",
      "+---------+----------+-------+----------+------+--------------------+-----+\n",
      "only showing top 5 rows\n",
      "\n"
     ]
    }
   ],
   "source": [
    "df_l = spark.read.parquet(\"data/fake_df_l.parquet\")\n",
    "df_r = spark.read.parquet(\"data/fake_df_r.parquet\")\n",
    "df_l.show(5)\n",
    "df_r.show(5)"
   ]
  },
  {
   "cell_type": "markdown",
   "metadata": {},
   "source": [
    "## Step 3:  Configure splink using the `settings` object\n",
    "\n",
    "Most of `splink` configuration options are stored in a settings dictionary.  This dictionary allows significant customisation, and can therefore get quite complex.  \n",
    "\n",
    "💥 We provide an tool for helping to author valid settings dictionaries, which includes tooltips and autocomplete, which you can find [here](http://robinlinacre.com/splink_settings_editor/).\n",
    "\n",
    "Customisation overrides default values built into splink.  For the purposes of this demo, we will specify a simple settings dictionary, which means we will be relying on these sensible defaults.\n",
    "\n",
    "To help with authoring and validation of the settings dictionary, we have written a [json schema](https://json-schema.org/), which can be found [here](https://github.com/moj-analytical-services/splink/blob/master/splink/files/settings_jsonschema.json).  \n",
    "\n",
    "\n"
   ]
  },
  {
   "cell_type": "code",
   "execution_count": 5,
   "metadata": {},
   "outputs": [],
   "source": [
    "settings = {\n",
    "    \"link_type\": \"link_only\", \n",
    "    \"max_iterations\": 5,\n",
    "    \"blocking_rules\": [\n",
    "        'l.first_name = r.first_name',\n",
    "        'l.surname = r.surname',\n",
    "        'l.dob = r.dob'\n",
    "    ],\n",
    "    \"comparison_columns\": [\n",
    "       {\n",
    "        \"custom_name\": \"name_inversion\",\n",
    "        \"custom_columns_used\": [\"first_name\", \"surname\", \"dob\"],\n",
    "        \"case_expression\": \"CASE WHEN first_name_l = first_name_r AND surname_l = surname_r THEN 2 WHEN first_name_l = surname_r AND surname_l = first_name_r THEN 1 ELSE 0 END\",\n",
    "        \"num_levels\": 3\n",
    "        },\n",
    "        {\n",
    "            \"col_name\": \"dob\"\n",
    "        },\n",
    "        {\n",
    "            \"col_name\": \"city\"\n",
    "        },\n",
    "        {\n",
    "            \"col_name\": \"email\"\n",
    "        }\n",
    "    ],\n",
    "    \"additional_columns_to_retain\": [\"group\"]\n",
    "    \n",
    "}"
   ]
  },
  {
   "cell_type": "markdown",
   "metadata": {},
   "source": [
    "In words, this setting dictionary says:\n",
    "\n",
    "- We are performing a data linking task (the other options are `dedupe_only`, or `link_and_dedupe`)\n",
    "- Rather than generate all possible comparisons (the cartesian product of the input datasets), we are going restrict record comparisons to those generated by at least one of the rules in the specified array\n",
    "- When comparing records, we will use information from the `first_name`, `surname`, `dob`, `city` and `email` columns to compute a match score.\n",
    "- For `first_name` and `surname`, string comparisons will have three levels:\n",
    "    - Level 2: Strings are (almost) exactly the same\n",
    "    - Level 1: Strings are similar \n",
    "    - Level 0: No match\n",
    "- We will make adjustments for term frequencies on the `first_name` and `surname` columns\n",
    "- We will retain the `group` column in the results even though this is not used as part of comparisons.  This is a labelled dataset and `group` contains the true match - i.e. where group matches, the records pertain to the same person"
   ]
  },
  {
   "cell_type": "markdown",
   "metadata": {},
   "source": [
    "## Step 4:  Estimate match scores using the Expectation Maximisation algorithm"
   ]
  },
  {
   "cell_type": "code",
   "execution_count": 6,
   "metadata": {},
   "outputs": [
    {
     "name": "stderr",
     "output_type": "stream",
     "text": [
      "INFO:splink.iterate:Iteration 0 complete\n",
      "INFO:splink.params:The maximum change in parameters was 0.4944548845291138 for key π_gamma_name_inversion_prob_dist_match_level_0_probability\n",
      "INFO:splink.iterate:Iteration 1 complete\n",
      "INFO:splink.params:The maximum change in parameters was 0.054529160261154175 for key π_gamma_city_prob_dist_match_level_0_probability\n",
      "INFO:splink.iterate:Iteration 2 complete\n",
      "INFO:splink.params:The maximum change in parameters was 0.026873305439949036 for key π_gamma_city_prob_dist_match_level_0_probability\n",
      "INFO:splink.iterate:Iteration 3 complete\n",
      "INFO:splink.params:The maximum change in parameters was 0.016269318759441376 for key π_gamma_email_prob_dist_match_level_0_probability\n",
      "INFO:splink.iterate:Iteration 4 complete\n",
      "INFO:splink.params:The maximum change in parameters was 0.013959884643554688 for key π_gamma_email_prob_dist_match_level_1_probability\n",
      "/Users/robinlinacre/anaconda3/lib/python3.6/site-packages/splink/term_frequencies.py:141: UserWarning: No term frequency adjustment columns are specified in your settings object.  Returning original df\n",
      "  \"No term frequency adjustment columns are specified in your settings object.  Returning original df\"\n"
     ]
    },
    {
     "data": {
      "text/plain": [
       "DataFrame[match_probability: double, unique_id_l: bigint, unique_id_r: bigint, first_name_l: string, first_name_r: string, surname_l: string, surname_r: string, dob_l: string, dob_r: string, gamma_name_inversion: int, prob_gamma_name_inversion_non_match: double, prob_gamma_name_inversion_match: double, gamma_dob: int, prob_gamma_dob_non_match: double, prob_gamma_dob_match: double, city_l: string, city_r: string, gamma_city: int, prob_gamma_city_non_match: double, prob_gamma_city_match: double, email_l: string, email_r: string, gamma_email: int, prob_gamma_email_non_match: double, prob_gamma_email_match: double, group_l: bigint, group_r: bigint]"
      ]
     },
     "execution_count": 6,
     "metadata": {},
     "output_type": "execute_result"
    }
   ],
   "source": [
    "from splink import Splink\n",
    "\n",
    "linker = Splink(settings, spark, df_l=df_l, df_r=df_r)\n",
    "df_e = linker.get_scored_comparisons()\n",
    "\n",
    "# Later, we will make term frequency adjustments.  \n",
    "# Persist caches these results in memory, preventing them having to be recomputed when we make these adjustments.\n",
    "df_e.persist()  \n"
   ]
  },
  {
   "cell_type": "markdown",
   "metadata": {},
   "source": [
    "## Step 5: Inspect results \n",
    "\n"
   ]
  },
  {
   "cell_type": "code",
   "execution_count": 7,
   "metadata": {},
   "outputs": [
    {
     "data": {
      "text/html": [
       "<div>\n",
       "<style scoped>\n",
       "    .dataframe tbody tr th:only-of-type {\n",
       "        vertical-align: middle;\n",
       "    }\n",
       "\n",
       "    .dataframe tbody tr th {\n",
       "        vertical-align: top;\n",
       "    }\n",
       "\n",
       "    .dataframe thead th {\n",
       "        text-align: right;\n",
       "    }\n",
       "</style>\n",
       "<table border=\"1\" class=\"dataframe\">\n",
       "  <thead>\n",
       "    <tr style=\"text-align: right;\">\n",
       "      <th></th>\n",
       "      <th>match_probability</th>\n",
       "      <th>unique_id_l</th>\n",
       "      <th>unique_id_r</th>\n",
       "      <th>first_name_l</th>\n",
       "      <th>first_name_r</th>\n",
       "      <th>surname_l</th>\n",
       "      <th>surname_r</th>\n",
       "      <th>dob_l</th>\n",
       "      <th>dob_r</th>\n",
       "      <th>gamma_name_inversion</th>\n",
       "      <th>prob_gamma_name_inversion_non_match</th>\n",
       "      <th>prob_gamma_name_inversion_match</th>\n",
       "      <th>gamma_dob</th>\n",
       "      <th>prob_gamma_dob_non_match</th>\n",
       "      <th>prob_gamma_dob_match</th>\n",
       "      <th>city_l</th>\n",
       "      <th>city_r</th>\n",
       "      <th>gamma_city</th>\n",
       "      <th>prob_gamma_city_non_match</th>\n",
       "      <th>prob_gamma_city_match</th>\n",
       "      <th>email_l</th>\n",
       "      <th>email_r</th>\n",
       "      <th>gamma_email</th>\n",
       "      <th>prob_gamma_email_non_match</th>\n",
       "      <th>prob_gamma_email_match</th>\n",
       "      <th>group_l</th>\n",
       "      <th>group_r</th>\n",
       "    </tr>\n",
       "  </thead>\n",
       "  <tbody>\n",
       "    <tr>\n",
       "      <td>1546</td>\n",
       "      <td>0.999469</td>\n",
       "      <td>772</td>\n",
       "      <td>776</td>\n",
       "      <td>James</td>\n",
       "      <td>None</td>\n",
       "      <td>Hopkins</td>\n",
       "      <td>Honkis</td>\n",
       "      <td>1986-08-31</td>\n",
       "      <td>1986-08-31</td>\n",
       "      <td>0</td>\n",
       "      <td>0.992115</td>\n",
       "      <td>0.655863</td>\n",
       "      <td>1</td>\n",
       "      <td>0.048313</td>\n",
       "      <td>0.856454</td>\n",
       "      <td>Birmingham</td>\n",
       "      <td>Birmingham</td>\n",
       "      <td>1</td>\n",
       "      <td>0.178139</td>\n",
       "      <td>0.781896</td>\n",
       "      <td>david19@willis-bowman.org</td>\n",
       "      <td>david19@willis-bowman.org</td>\n",
       "      <td>1</td>\n",
       "      <td>0.014839</td>\n",
       "      <td>0.866646</td>\n",
       "      <td>136</td>\n",
       "      <td>136</td>\n",
       "    </tr>\n",
       "    <tr>\n",
       "      <td>1182</td>\n",
       "      <td>0.008382</td>\n",
       "      <td>362</td>\n",
       "      <td>746</td>\n",
       "      <td>None</td>\n",
       "      <td>None</td>\n",
       "      <td>Taylor</td>\n",
       "      <td>Taylor</td>\n",
       "      <td>1989-07-25</td>\n",
       "      <td>1993-06-23</td>\n",
       "      <td>0</td>\n",
       "      <td>0.992115</td>\n",
       "      <td>0.655863</td>\n",
       "      <td>0</td>\n",
       "      <td>0.951687</td>\n",
       "      <td>0.143546</td>\n",
       "      <td>London</td>\n",
       "      <td>None</td>\n",
       "      <td>-1</td>\n",
       "      <td>1.000000</td>\n",
       "      <td>1.000000</td>\n",
       "      <td>wagnershane@landry.com</td>\n",
       "      <td>rhondawilliams@gonzalez-scott.com</td>\n",
       "      <td>0</td>\n",
       "      <td>0.985161</td>\n",
       "      <td>0.133354</td>\n",
       "      <td>62</td>\n",
       "      <td>129</td>\n",
       "    </tr>\n",
       "    <tr>\n",
       "      <td>337</td>\n",
       "      <td>0.002238</td>\n",
       "      <td>933</td>\n",
       "      <td>576</td>\n",
       "      <td>George</td>\n",
       "      <td>George</td>\n",
       "      <td>Hodgson</td>\n",
       "      <td>Williams</td>\n",
       "      <td>1980-12-30</td>\n",
       "      <td>1981-08-06</td>\n",
       "      <td>0</td>\n",
       "      <td>0.992115</td>\n",
       "      <td>0.655863</td>\n",
       "      <td>0</td>\n",
       "      <td>0.951687</td>\n",
       "      <td>0.143546</td>\n",
       "      <td>Sheffield</td>\n",
       "      <td>London</td>\n",
       "      <td>0</td>\n",
       "      <td>0.821861</td>\n",
       "      <td>0.218104</td>\n",
       "      <td>lori88@huynh.biz</td>\n",
       "      <td>derek58@gibbs.biz</td>\n",
       "      <td>0</td>\n",
       "      <td>0.985161</td>\n",
       "      <td>0.133354</td>\n",
       "      <td>168</td>\n",
       "      <td>96</td>\n",
       "    </tr>\n",
       "    <tr>\n",
       "      <td>707</td>\n",
       "      <td>0.002238</td>\n",
       "      <td>382</td>\n",
       "      <td>131</td>\n",
       "      <td>None</td>\n",
       "      <td>Edward</td>\n",
       "      <td>Lewis</td>\n",
       "      <td>Lewis</td>\n",
       "      <td>2017-02-05</td>\n",
       "      <td>2005-05-26</td>\n",
       "      <td>0</td>\n",
       "      <td>0.992115</td>\n",
       "      <td>0.655863</td>\n",
       "      <td>0</td>\n",
       "      <td>0.951687</td>\n",
       "      <td>0.143546</td>\n",
       "      <td>Raeing</td>\n",
       "      <td>London</td>\n",
       "      <td>0</td>\n",
       "      <td>0.821861</td>\n",
       "      <td>0.218104</td>\n",
       "      <td>james08@hernandez.info</td>\n",
       "      <td>whitakernichole@booth.com</td>\n",
       "      <td>0</td>\n",
       "      <td>0.985161</td>\n",
       "      <td>0.133354</td>\n",
       "      <td>65</td>\n",
       "      <td>24</td>\n",
       "    </tr>\n",
       "    <tr>\n",
       "      <td>70</td>\n",
       "      <td>0.002238</td>\n",
       "      <td>142</td>\n",
       "      <td>113</td>\n",
       "      <td>Harry</td>\n",
       "      <td>Harry</td>\n",
       "      <td>Taylor</td>\n",
       "      <td>mhoTa</td>\n",
       "      <td>2017-11-24</td>\n",
       "      <td>2011-07-30</td>\n",
       "      <td>0</td>\n",
       "      <td>0.992115</td>\n",
       "      <td>0.655863</td>\n",
       "      <td>0</td>\n",
       "      <td>0.951687</td>\n",
       "      <td>0.143546</td>\n",
       "      <td>London</td>\n",
       "      <td>Belfast</td>\n",
       "      <td>0</td>\n",
       "      <td>0.821861</td>\n",
       "      <td>0.218104</td>\n",
       "      <td>coltonray@lee.com</td>\n",
       "      <td>sandra26@anderson-davis.com</td>\n",
       "      <td>0</td>\n",
       "      <td>0.985161</td>\n",
       "      <td>0.133354</td>\n",
       "      <td>26</td>\n",
       "      <td>21</td>\n",
       "    </tr>\n",
       "  </tbody>\n",
       "</table>\n",
       "</div>"
      ],
      "text/plain": [
       "      match_probability  unique_id_l  unique_id_r first_name_l first_name_r  \\\n",
       "1546           0.999469          772          776       James          None   \n",
       "1182           0.008382          362          746         None         None   \n",
       "337            0.002238          933          576      George       George    \n",
       "707            0.002238          382          131         None      Edward    \n",
       "70             0.002238          142          113       Harry        Harry    \n",
       "\n",
       "     surname_l surname_r       dob_l       dob_r  gamma_name_inversion  \\\n",
       "1546   Hopkins    Honkis  1986-08-31  1986-08-31                     0   \n",
       "1182    Taylor    Taylor  1989-07-25  1993-06-23                     0   \n",
       "337    Hodgson  Williams  1980-12-30  1981-08-06                     0   \n",
       "707      Lewis     Lewis  2017-02-05  2005-05-26                     0   \n",
       "70      Taylor     mhoTa  2017-11-24  2011-07-30                     0   \n",
       "\n",
       "      prob_gamma_name_inversion_non_match  prob_gamma_name_inversion_match  \\\n",
       "1546                             0.992115                         0.655863   \n",
       "1182                             0.992115                         0.655863   \n",
       "337                              0.992115                         0.655863   \n",
       "707                              0.992115                         0.655863   \n",
       "70                               0.992115                         0.655863   \n",
       "\n",
       "      gamma_dob  prob_gamma_dob_non_match  prob_gamma_dob_match      city_l  \\\n",
       "1546          1                  0.048313              0.856454  Birmingham   \n",
       "1182          0                  0.951687              0.143546      London   \n",
       "337           0                  0.951687              0.143546   Sheffield   \n",
       "707           0                  0.951687              0.143546      Raeing   \n",
       "70            0                  0.951687              0.143546      London   \n",
       "\n",
       "          city_r  gamma_city  prob_gamma_city_non_match  \\\n",
       "1546  Birmingham           1                   0.178139   \n",
       "1182        None          -1                   1.000000   \n",
       "337       London           0                   0.821861   \n",
       "707       London           0                   0.821861   \n",
       "70       Belfast           0                   0.821861   \n",
       "\n",
       "      prob_gamma_city_match                    email_l  \\\n",
       "1546               0.781896  david19@willis-bowman.org   \n",
       "1182               1.000000     wagnershane@landry.com   \n",
       "337                0.218104           lori88@huynh.biz   \n",
       "707                0.218104     james08@hernandez.info   \n",
       "70                 0.218104          coltonray@lee.com   \n",
       "\n",
       "                                email_r  gamma_email  \\\n",
       "1546          david19@willis-bowman.org            1   \n",
       "1182  rhondawilliams@gonzalez-scott.com            0   \n",
       "337                   derek58@gibbs.biz            0   \n",
       "707           whitakernichole@booth.com            0   \n",
       "70          sandra26@anderson-davis.com            0   \n",
       "\n",
       "      prob_gamma_email_non_match  prob_gamma_email_match  group_l  group_r  \n",
       "1546                    0.014839                0.866646      136      136  \n",
       "1182                    0.985161                0.133354       62      129  \n",
       "337                     0.985161                0.133354      168       96  \n",
       "707                     0.985161                0.133354       65       24  \n",
       "70                      0.985161                0.133354       26       21  "
      ]
     },
     "execution_count": 7,
     "metadata": {},
     "output_type": "execute_result"
    }
   ],
   "source": [
    "# Inspect main dataframe that contains the match scores\n",
    "df_e.toPandas().sample(5)"
   ]
  },
  {
   "cell_type": "markdown",
   "metadata": {},
   "source": [
    "The `params` property of the `linker` is an object that contains a lot of diagnostic information about how the match probability was computed.  The following cells demonstrate some of its functionality"
   ]
  },
  {
   "cell_type": "code",
   "execution_count": 8,
   "metadata": {},
   "outputs": [
    {
     "data": {
      "application/vnd.vegalite.v3+json": {
       "$schema": "https://vega.github.io/schema/vega-lite/v3.4.0.json",
       "config": {
        "mark": {
         "tooltip": null
        },
        "title": {
         "anchor": "middle"
        },
        "view": {
         "height": 300,
         "width": 400
        }
       },
       "data": {
        "name": "data-3f598d59b5be0e11e7759edca8b8fbf6"
       },
       "datasets": {
        "data-3f598d59b5be0e11e7759edca8b8fbf6": [
         {
          "column": "name_inversion",
          "gamma": "gamma_name_inversion",
          "match": 1,
          "probability": 0.6558628082275391,
          "value": 0,
          "value_of_gamma": "level_0"
         },
         {
          "column": "name_inversion",
          "gamma": "gamma_name_inversion",
          "match": 1,
          "probability": 0.12372622638940811,
          "value": 1,
          "value_of_gamma": "level_1"
         },
         {
          "column": "name_inversion",
          "gamma": "gamma_name_inversion",
          "match": 1,
          "probability": 0.22041095793247223,
          "value": 2,
          "value_of_gamma": "level_2"
         },
         {
          "column": "name_inversion",
          "gamma": "gamma_name_inversion",
          "match": 0,
          "probability": 0.9921151399612427,
          "value": 0,
          "value_of_gamma": "level_0"
         },
         {
          "column": "name_inversion",
          "gamma": "gamma_name_inversion",
          "match": 0,
          "probability": 2.1532594018935924e-06,
          "value": 1,
          "value_of_gamma": "level_1"
         },
         {
          "column": "name_inversion",
          "gamma": "gamma_name_inversion",
          "match": 0,
          "probability": 0.007882719859480858,
          "value": 2,
          "value_of_gamma": "level_2"
         },
         {
          "column": "dob",
          "gamma": "gamma_dob",
          "match": 1,
          "probability": 0.14354592561721802,
          "value": 0,
          "value_of_gamma": "level_0"
         },
         {
          "column": "dob",
          "gamma": "gamma_dob",
          "match": 1,
          "probability": 0.856454074382782,
          "value": 1,
          "value_of_gamma": "level_1"
         },
         {
          "column": "dob",
          "gamma": "gamma_dob",
          "match": 0,
          "probability": 0.9516867995262146,
          "value": 0,
          "value_of_gamma": "level_0"
         },
         {
          "column": "dob",
          "gamma": "gamma_dob",
          "match": 0,
          "probability": 0.048313207924366,
          "value": 1,
          "value_of_gamma": "level_1"
         },
         {
          "column": "city",
          "gamma": "gamma_city",
          "match": 1,
          "probability": 0.21810382604599,
          "value": 0,
          "value_of_gamma": "level_0"
         },
         {
          "column": "city",
          "gamma": "gamma_city",
          "match": 1,
          "probability": 0.78189617395401,
          "value": 1,
          "value_of_gamma": "level_1"
         },
         {
          "column": "city",
          "gamma": "gamma_city",
          "match": 0,
          "probability": 0.8218610286712646,
          "value": 0,
          "value_of_gamma": "level_0"
         },
         {
          "column": "city",
          "gamma": "gamma_city",
          "match": 0,
          "probability": 0.17813900113105774,
          "value": 1,
          "value_of_gamma": "level_1"
         },
         {
          "column": "email",
          "gamma": "gamma_email",
          "match": 1,
          "probability": 0.13335402309894562,
          "value": 0,
          "value_of_gamma": "level_0"
         },
         {
          "column": "email",
          "gamma": "gamma_email",
          "match": 1,
          "probability": 0.8666459918022156,
          "value": 1,
          "value_of_gamma": "level_1"
         },
         {
          "column": "email",
          "gamma": "gamma_email",
          "match": 0,
          "probability": 0.9851611852645874,
          "value": 0,
          "value_of_gamma": "level_0"
         },
         {
          "column": "email",
          "gamma": "gamma_email",
          "match": 0,
          "probability": 0.014838805422186852,
          "value": 1,
          "value_of_gamma": "level_1"
         }
        ]
       },
       "hconcat": [
        {
         "encoding": {
          "color": {
           "field": "match",
           "type": "nominal"
          },
          "row": {
           "field": "column",
           "sort": {
            "field": "gamma"
           },
           "type": "nominal"
          },
          "tooltip": [
           {
            "field": "column",
            "type": "nominal"
           },
           {
            "field": "probability",
            "format": ".4f",
            "type": "quantitative"
           },
           {
            "field": "value",
            "type": "ordinal"
           }
          ],
          "x": {
           "field": "probability",
           "type": "quantitative"
          },
          "y": {
           "axis": {
            "title": "𝛾 value"
           },
           "field": "value",
           "type": "nominal"
          }
         },
         "height": 50,
         "mark": "bar",
         "resolve": {
          "scale": {
           "y": "independent"
          }
         },
         "transform": [
          {
           "filter": "(datum.match === 0)"
          }
         ],
         "width": 150
        },
        {
         "encoding": {
          "color": {
           "field": "match",
           "type": "nominal"
          },
          "row": {
           "field": "column",
           "sort": {
            "field": "gamma"
           },
           "type": "nominal"
          },
          "tooltip": [
           {
            "field": "column",
            "type": "nominal"
           },
           {
            "field": "probability",
            "format": ".4f",
            "type": "quantitative"
           },
           {
            "field": "value",
            "type": "ordinal"
           }
          ],
          "x": {
           "field": "probability",
           "type": "quantitative"
          },
          "y": {
           "axis": {
            "title": "𝛾 value"
           },
           "field": "value",
           "type": "nominal"
          }
         },
         "height": 50,
         "mark": "bar",
         "resolve": {
          "scale": {
           "y": "independent"
          }
         },
         "transform": [
          {
           "filter": "(datum.match === 1)"
          }
         ],
         "width": 150
        }
       ],
       "title": "Probability distribution of comparison vector values, m=0 and m=1"
      },
      "image/png": "[encoded data removed]",
      "text/plain": [
       "<VegaLite 3 object>\n",
       "\n",
       "If you see this message, it means the renderer has not been properly enabled\n",
       "for the frontend that you are using. For more information, see\n",
       "https://altair-viz.github.io/user_guide/troubleshooting.html\n"
      ]
     },
     "execution_count": 8,
     "metadata": {},
     "output_type": "execute_result"
    }
   ],
   "source": [
    "params = linker.params\n",
    "params.probability_distribution_chart()"
   ]
  },
  {
   "cell_type": "markdown",
   "metadata": {},
   "source": [
    "An alternative representation of the parameters displays them in terms of the effect different values in the comparison vectors have on the match probability:"
   ]
  },
  {
   "cell_type": "code",
   "execution_count": 9,
   "metadata": {},
   "outputs": [
    {
     "data": {
      "application/vnd.vegalite.v3+json": {
       "$schema": "https://vega.github.io/schema/vega-lite/v3.4.0.json",
       "config": {
        "mark": {
         "tooltip": null
        },
        "title": {
         "anchor": "middle"
        },
        "view": {
         "height": 300,
         "width": 400
        }
       },
       "data": {
        "name": "data-1e86ac0b2726b48315b4a258ffc17d3f"
       },
       "datasets": {
        "data-1e86ac0b2726b48315b4a258ffc17d3f": [
         {
          "adjustment": 0.3979803303486969,
          "col_name": "name_inversion",
          "level": "level_0",
          "m": 0.6558628082275391,
          "normalised_adjustment": -0.1020196696513031,
          "u": 0.9921151399612427
         },
         {
          "adjustment": 0.9999825968835282,
          "col_name": "name_inversion",
          "level": "level_1",
          "m": 0.12372622638940811,
          "normalised_adjustment": 0.4999825968835282,
          "u": 2.1532594018935924e-06
         },
         {
          "adjustment": 0.9654711425400729,
          "col_name": "name_inversion",
          "level": "level_2",
          "m": 0.22041095793247223,
          "normalised_adjustment": 0.46547114254007294,
          "u": 0.007882719859480858
         },
         {
          "adjustment": 0.13106431384107803,
          "col_name": "dob",
          "level": "level_0",
          "m": 0.14354592561721802,
          "normalised_adjustment": -0.36893568615892197,
          "u": 0.9516867995262146
         },
         {
          "adjustment": 0.9466015086209044,
          "col_name": "dob",
          "level": "level_1",
          "m": 0.856454074382782,
          "normalised_adjustment": 0.4466015086209044,
          "u": 0.048313207924366
         },
         {
          "adjustment": 0.2097223046112342,
          "col_name": "city",
          "level": "level_0",
          "m": 0.21810382604599,
          "normalised_adjustment": -0.2902776953887658,
          "u": 0.8218610286712646
         },
         {
          "adjustment": 0.814445339343662,
          "col_name": "city",
          "level": "level_1",
          "m": 0.78189617395401,
          "normalised_adjustment": 0.31444533934366203,
          "u": 0.17813900113105774
         },
         {
          "adjustment": 0.11922414831895937,
          "col_name": "email",
          "level": "level_0",
          "m": 0.13335402309894562,
          "normalised_adjustment": -0.3807758516810406,
          "u": 0.9851611852645874
         },
         {
          "adjustment": 0.9831661243972546,
          "col_name": "email",
          "level": "level_1",
          "m": 0.8666459918022156,
          "normalised_adjustment": 0.4831661243972546,
          "u": 0.014838805422186852
         }
        ]
       },
       "encoding": {
        "color": {
         "field": "normalised_adjustment",
         "scale": {
          "domain": [
           -0.5,
           -0.4,
           0,
           0.4,
           0.5
          ],
          "range": [
           "red",
           "orange",
           "green",
           "orange",
           "red"
          ]
         },
         "type": "quantitative"
        },
        "row": {
         "field": "col_name",
         "sort": {
          "field": "gamma"
         },
         "type": "nominal"
        },
        "tooltip": [
         {
          "field": "col_name",
          "type": "nominal"
         },
         {
          "field": "normalised_adjustment",
          "type": "quantitative"
         }
        ],
        "x": {
         "axis": {
          "title": "Influence on match probabiity."
         },
         "field": "normalised_adjustment",
         "scale": {
          "domain": [
           -0.5,
           0.5
          ]
         },
         "type": "quantitative"
        },
        "y": {
         "field": "level",
         "type": "nominal"
        }
       },
       "height": 50,
       "mark": "bar",
       "resolve": {
        "scale": {
         "y": "independent"
        }
       },
       "title": "Influence of comparison vector values on match probability"
      },
      "image/png": "[encoded data removed]",
      "text/plain": [
       "<VegaLite 3 object>\n",
       "\n",
       "If you see this message, it means the renderer has not been properly enabled\n",
       "for the frontend that you are using. For more information, see\n",
       "https://altair-viz.github.io/user_guide/troubleshooting.html\n"
      ]
     },
     "execution_count": 9,
     "metadata": {},
     "output_type": "execute_result"
    }
   ],
   "source": [
    "params.adjustment_factor_chart()"
   ]
  },
  {
   "cell_type": "code",
   "execution_count": 11,
   "metadata": {},
   "outputs": [],
   "source": [
    "# If charts aren't displaying correctly in your notebook, you can write them to a file (by default splink_charts.html)\n",
    "params.all_charts_write_html_file(\"splink_charts.html\", overwrite=True)"
   ]
  },
  {
   "cell_type": "markdown",
   "metadata": {},
   "source": [
    "You can also generate a report which explains how the match probability was computed for an individual comparison row.  \n",
    "\n",
    "Note that you need to convert the row to a dictionary for this to work"
   ]
  },
  {
   "cell_type": "code",
   "execution_count": 12,
   "metadata": {},
   "outputs": [
    {
     "name": "stdout",
     "output_type": "stream",
     "text": [
      "\n",
      "Initial probability of match (prior) = λ = 0.3851017951965332\n",
      "\n",
      "Comparison of name_inversion.  Values are:\n",
      "name_inversion_l: King, Ryan , 1982-06-22\n",
      "name_inversion_r: King, Ryan , 1982-09-12\n",
      "Comparison has 3 levels\n",
      "𝛾 for this comparison = gamma_name_inversion = 2\n",
      "Amongst matches, P(𝛾 = 0.22041095793247223):\n",
      "Amongst non matches, P(𝛾 = 0.007882719859480858):\n",
      "Adjustment factor = p1/(p1 + p2) = 0.9654711425400729\n",
      "New probability of match (updated belief): 0.9459802391792111\n",
      "\n",
      "Comparison of dob.  Values are:\n",
      "dob_l: 1982-06-22\n",
      "dob_r: 1982-09-12\n",
      "Comparison has 2 levels\n",
      "𝛾 for this comparison = gamma_dob = 1\n",
      "Amongst matches, P(𝛾 = 0.856454074382782):\n",
      "Amongst non matches, P(𝛾 = 0.048313207924366):\n",
      "Adjustment factor = p1/(p1 + p2) = 0.9466015086209044\n",
      "New probability of match (updated belief): 0.9967890344989988\n",
      "\n",
      "Comparison of city.  Values are:\n",
      "city_l: None\n",
      "city_r: London\n",
      "Comparison has 2 levels\n",
      "𝛾 for this comparison = gamma_city = -1\n",
      "Amongst matches, P(𝛾 = 1.0):\n",
      "Amongst non matches, P(𝛾 = 1.0):\n",
      "Adjustment factor = p1/(p1 + p2) = 0.5\n",
      "New probability of match (updated belief): 0.9967890344989988\n",
      "\n",
      "Comparison of email.  Values are:\n",
      "email_l: cervantesjasmine@cole.net\n",
      "email_r: cervantesjasmie@cole.net\n",
      "Comparison has 2 levels\n",
      "𝛾 for this comparison = gamma_email = 1\n",
      "Amongst matches, P(𝛾 = 0.8666459918022156):\n",
      "Amongst non matches, P(𝛾 = 0.014838805422186852):\n",
      "Adjustment factor = p1/(p1 + p2) = 0.9831661243972546\n",
      "New probability of match (updated belief): 0.9999448474442975\n",
      "\n",
      "Final probability of match = 0.9999448474442975\n",
      "\n"
     ]
    }
   ],
   "source": [
    "from splink.intuition import intuition_report\n",
    "row_dict = df_e.toPandas().sample(1).to_dict(orient=\"records\")[0]\n",
    "print(intuition_report(row_dict, params))"
   ]
  }
 ],
 "metadata": {
  "kernelspec": {
   "display_name": "Python 3",
   "language": "python",
   "name": "python3"
  },
  "language_info": {
   "codemirror_mode": {
    "name": "ipython",
    "version": 3
   },
   "file_extension": ".py",
   "mimetype": "text/x-python",
   "name": "python",
   "nbconvert_exporter": "python",
   "pygments_lexer": "ipython3",
   "version": "3.6.9"
  }
 },
 "nbformat": 4,
 "nbformat_minor": 4
}
