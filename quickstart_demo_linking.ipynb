{
 "cells": [
  {
   "cell_type": "markdown",
   "metadata": {},
   "source": [
    "## Splink data linking demo \n",
    "\n",
    "In this demo we link two small datasets.  \n",
    "\n",
    "We assume we have a list of people in one table who we want to find in a larger table.  It is assumed that due to transcription or other errors, there will often not be an exact match.\n",
    "\n",
    "The larger table contains duplicates, but in this notebook we use the `link_only` setting, so `splink` makes no attempt to deduplicate these records.    Note it is possible to simultaneously link and dedupe using the `link_and_dedupe` setting.\n",
    "\n",
    "**Important** Where deduplication is not required, `link_only` can provide an important performance boost by dramatically reducing the number of records which need to be compared.\n",
    "\n",
    "For example, if you wanted to link 10 records to 1,000, then the maximum number of comparisons that need to be made (i.e. with no blocking rules) is 10,000.  If you need to dedupe as well, that number would be n(n-1)/2 = 509,545.\n",
    "\n",
    "I print the output at each stage using `spark_dataframe.show()`.  This is for instructional purposes only - it degrades performance and shouldn't be used in a production setting."
   ]
  },
  {
   "cell_type": "markdown",
   "metadata": {},
   "source": [
    "## Step 1:  Imports and setup\n",
    "\n",
    "The following is just boilerplate code that sets up the Spark session and sets some other non-essential configuration options"
   ]
  },
  {
   "cell_type": "code",
   "execution_count": 1,
   "metadata": {},
   "outputs": [],
   "source": [
    "import pandas as pd \n",
    "pd.options.display.max_columns = 500"
   ]
  },
  {
   "cell_type": "code",
   "execution_count": 2,
   "metadata": {},
   "outputs": [],
   "source": [
    "import logging \n",
    "logging.basicConfig()  # Means logs will print in Jupyter Lab\n",
    "\n",
    "# Set to DEBUG if you want splink to log the SQL statements it's executing under the hood\n",
    "logging.getLogger(\"splink\").setLevel(logging.INFO)"
   ]
  },
  {
   "cell_type": "code",
   "execution_count": 3,
   "metadata": {},
   "outputs": [],
   "source": [
    "from pyspark.context import SparkContext, SparkConf\n",
    "from pyspark.sql import SparkSession, Window\n",
    "from pyspark.sql.types import StructType\n",
    "import pyspark.sql.functions as f\n",
    "\n",
    "conf = SparkConf()\n",
    "\n",
    "# Load in a jar that provides extended string comparison functions such as Jaro Winkler.\n",
    "conf.set('spark.driver.extraClassPath', 'jars/scala-udf-similarity-0.0.6.jar')\n",
    "conf.set('spark.jars', 'jars/scala-udf-similarity-0.0.6.jar')   \n",
    "\n",
    "# WARNING:\n",
    "# These config options are appropriate only if you're running Spark locally!!!\n",
    "conf.set('spark.driver.memory', '4g')\n",
    "conf.set(\"spark.sql.shuffle.partitions\", \"8\") \n",
    "\n",
    "sc = SparkContext.getOrCreate(conf=conf)\n",
    "spark = SparkSession(sc)\n",
    "\n",
    " # Register UDFs\n",
    "from pyspark.sql import types\n",
    "spark.udf.registerJavaFunction('jaro_winkler_sim', 'uk.gov.moj.dash.linkage.JaroWinklerSimilarity', types.DoubleType())\n",
    "spark.udf.registerJavaFunction('Dmetaphone', 'uk.gov.moj.dash.linkage.DoubleMetaphone', types.StringType())"
   ]
  },
  {
   "cell_type": "markdown",
   "metadata": {},
   "source": [
    "## Step 2:  Configure `splink` using the `settings` object\n",
    "\n",
    "Most of `splink` configuration options are stored in a settings dictionary.  This dictionary allows significant customisation, and can therefore get quite complex.  For further details see the [configuration and settings](configuration_and_settings.ipynb) notebook.\n",
    "\n",
    "For the purposes of this demo, we will specify a simple settings dictionary, which means we will most be relying on the default settings which are built into `splink`."
   ]
  },
  {
   "cell_type": "code",
   "execution_count": 7,
   "metadata": {},
   "outputs": [],
   "source": [
    "settings = {\n",
    "    \"link_type\": \"link_only\", \n",
    "    \"max_iterations\": 5,\n",
    "    \"blocking_rules\": [\n",
    "        'l.first_name = r.first_name',\n",
    "        'l.surname = r.surname',\n",
    "        'l.dob = r.dob'\n",
    "    ],\n",
    "    \"comparison_columns\": [\n",
    "        {\n",
    "            \"col_name\": \"first_name\",\n",
    "            \"num_levels\": 3,\n",
    "            \"term_frequency_adjustments\": True\n",
    "        },\n",
    "        {\n",
    "            \"col_name\": \"surname\",\n",
    "            \"num_levels\": 3,\n",
    "            \"term_frequency_adjustments\": True\n",
    "        },\n",
    "        {\n",
    "            \"col_name\": \"dob\"\n",
    "        },\n",
    "        {\n",
    "            \"col_name\": \"city\"\n",
    "        },\n",
    "        {\n",
    "            \"col_name\": \"email\"\n",
    "        }\n",
    "    ],\n",
    "    \"additional_columns_to_retain\": [\"group\"]\n",
    "    \n",
    "}"
   ]
  },
  {
   "cell_type": "markdown",
   "metadata": {},
   "source": [
    "In words, this setting dictionary says:\n",
    "\n",
    "- We are performing a data linking task (the other options are `dedupe_only`, or `link_and_dedupe`)\n",
    "- Rather than generate all possible comparisons (the cartesian product of the input datasets), we are going restrict record comparisons to those generated by at least one of the rules in the specified array\n",
    "- When comparing records, we will use information from the `first_name`, `surname`, `dob`, `city` and `email` columns to compute a match score.\n",
    "- For `first_name` and `surname`, string comparisons will have three levels:\n",
    "    - Level 2: Strings are (almost) exactly the same\n",
    "    - Level 1: Strings are similar \n",
    "    - Level 0: No match\n",
    "- We will make adjustments for term frequencies on the `first_name` and `surname` columns\n",
    "- We will retain the `group` column in the results even though this is not used as part of comparisons.  This is a labelled dataset and `group` contains the true match - i.e. where group matches, the records pertain to the same person"
   ]
  },
  {
   "cell_type": "markdown",
   "metadata": {},
   "source": [
    "## Step 3: Read in the data\n",
    "\n",
    "Note the `l` and `r` stand for 'left' and 'right.  It doesn't matter which of the two datasets you choose as the left, performance and results will be the same."
   ]
  },
  {
   "cell_type": "code",
   "execution_count": 8,
   "metadata": {},
   "outputs": [],
   "source": [
    "df_l = spark.read.parquet(\"data/fake_df_l.parquet\")\n",
    "df_r = spark.read.parquet(\"data/fake_df_r.parquet\")"
   ]
  },
  {
   "cell_type": "markdown",
   "metadata": {},
   "source": [
    "## Step 4:  Estimate match scores using the Expectation Maximisation algorithm"
   ]
  },
  {
   "cell_type": "code",
   "execution_count": 9,
   "metadata": {},
   "outputs": [
    {
     "name": "stderr",
     "output_type": "stream",
     "text": [
      "INFO:splink.iterate:Iteration 0 complete\n",
      "INFO:splink.iterate:Iteration 1 complete\n",
      "INFO:splink.iterate:Iteration 2 complete\n",
      "INFO:splink.iterate:Iteration 3 complete\n",
      "INFO:splink.iterate:Iteration 4 complete\n"
     ]
    },
    {
     "data": {
      "text/plain": [
       "DataFrame[match_probability: double, unique_id_l: bigint, unique_id_r: bigint, first_name_l: string, first_name_r: string, gamma_first_name: int, prob_gamma_first_name_non_match: double, prob_gamma_first_name_match: double, surname_l: string, surname_r: string, gamma_surname: int, prob_gamma_surname_non_match: double, prob_gamma_surname_match: double, dob_l: string, dob_r: string, gamma_dob: int, prob_gamma_dob_non_match: double, prob_gamma_dob_match: double, city_l: string, city_r: string, gamma_city: int, prob_gamma_city_non_match: double, prob_gamma_city_match: double, email_l: string, email_r: string, gamma_email: int, prob_gamma_email_non_match: double, prob_gamma_email_match: double, group_l: bigint, group_r: bigint]"
      ]
     },
     "execution_count": 9,
     "metadata": {},
     "output_type": "execute_result"
    }
   ],
   "source": [
    "from splink import Splink\n",
    "\n",
    "linker = Splink(settings, spark, df_l=df_l, df_r=df_r)\n",
    "df_e = linker.get_scored_comparisons()\n",
    "\n",
    "# Later, we will make term frequency adjustments.  \n",
    "# Persist caches these results in memory, preventing them having to be recomputed when we make these adjustments.\n",
    "df_e.persist()  \n"
   ]
  },
  {
   "cell_type": "markdown",
   "metadata": {},
   "source": [
    "## Step 5: Inspect results \n",
    "\n"
   ]
  },
  {
   "cell_type": "code",
   "execution_count": 10,
   "metadata": {},
   "outputs": [
    {
     "data": {
      "text/html": [
       "<div>\n",
       "<style scoped>\n",
       "    .dataframe tbody tr th:only-of-type {\n",
       "        vertical-align: middle;\n",
       "    }\n",
       "\n",
       "    .dataframe tbody tr th {\n",
       "        vertical-align: top;\n",
       "    }\n",
       "\n",
       "    .dataframe thead th {\n",
       "        text-align: right;\n",
       "    }\n",
       "</style>\n",
       "<table border=\"1\" class=\"dataframe\">\n",
       "  <thead>\n",
       "    <tr style=\"text-align: right;\">\n",
       "      <th></th>\n",
       "      <th>match_probability</th>\n",
       "      <th>unique_id_l</th>\n",
       "      <th>unique_id_r</th>\n",
       "      <th>first_name_l</th>\n",
       "      <th>first_name_r</th>\n",
       "      <th>gamma_first_name</th>\n",
       "      <th>prob_gamma_first_name_non_match</th>\n",
       "      <th>prob_gamma_first_name_match</th>\n",
       "      <th>surname_l</th>\n",
       "      <th>surname_r</th>\n",
       "      <th>gamma_surname</th>\n",
       "      <th>prob_gamma_surname_non_match</th>\n",
       "      <th>prob_gamma_surname_match</th>\n",
       "      <th>dob_l</th>\n",
       "      <th>dob_r</th>\n",
       "      <th>gamma_dob</th>\n",
       "      <th>prob_gamma_dob_non_match</th>\n",
       "      <th>prob_gamma_dob_match</th>\n",
       "      <th>city_l</th>\n",
       "      <th>city_r</th>\n",
       "      <th>gamma_city</th>\n",
       "      <th>prob_gamma_city_non_match</th>\n",
       "      <th>prob_gamma_city_match</th>\n",
       "      <th>email_l</th>\n",
       "      <th>email_r</th>\n",
       "      <th>gamma_email</th>\n",
       "      <th>prob_gamma_email_non_match</th>\n",
       "      <th>prob_gamma_email_match</th>\n",
       "      <th>group_l</th>\n",
       "      <th>group_r</th>\n",
       "    </tr>\n",
       "  </thead>\n",
       "  <tbody>\n",
       "    <tr>\n",
       "      <td>857</td>\n",
       "      <td>0.003448</td>\n",
       "      <td>971</td>\n",
       "      <td>363</td>\n",
       "      <td>None</td>\n",
       "      <td>Nancy</td>\n",
       "      <td>-1</td>\n",
       "      <td>1.000000</td>\n",
       "      <td>1.000000</td>\n",
       "      <td>Taylor</td>\n",
       "      <td>Taylor</td>\n",
       "      <td>2</td>\n",
       "      <td>0.716467</td>\n",
       "      <td>0.548533</td>\n",
       "      <td>1978-05-09</td>\n",
       "      <td>1989-07-25</td>\n",
       "      <td>0</td>\n",
       "      <td>0.963625</td>\n",
       "      <td>0.156275</td>\n",
       "      <td>Ldnon</td>\n",
       "      <td>London</td>\n",
       "      <td>0</td>\n",
       "      <td>0.832317</td>\n",
       "      <td>0.225141</td>\n",
       "      <td>tiffanyrodriguez@rodriguez-yu.com</td>\n",
       "      <td>wagnershane@landry.com</td>\n",
       "      <td>0</td>\n",
       "      <td>0.991966</td>\n",
       "      <td>0.153135</td>\n",
       "      <td>175</td>\n",
       "      <td>62</td>\n",
       "    </tr>\n",
       "    <tr>\n",
       "      <td>67</td>\n",
       "      <td>0.997569</td>\n",
       "      <td>105</td>\n",
       "      <td>109</td>\n",
       "      <td>Harry</td>\n",
       "      <td>Harry</td>\n",
       "      <td>2</td>\n",
       "      <td>0.440930</td>\n",
       "      <td>0.535404</td>\n",
       "      <td>Tomas</td>\n",
       "      <td>Thomas</td>\n",
       "      <td>2</td>\n",
       "      <td>0.716467</td>\n",
       "      <td>0.548533</td>\n",
       "      <td>2011-07-30</td>\n",
       "      <td>2011-07-30</td>\n",
       "      <td>1</td>\n",
       "      <td>0.036375</td>\n",
       "      <td>0.843725</td>\n",
       "      <td>Belast</td>\n",
       "      <td>elfast</td>\n",
       "      <td>0</td>\n",
       "      <td>0.832317</td>\n",
       "      <td>0.225141</td>\n",
       "      <td>sandra26@anderson-davis.com</td>\n",
       "      <td>sandra26@anderson-davis.com</td>\n",
       "      <td>1</td>\n",
       "      <td>0.008034</td>\n",
       "      <td>0.846865</td>\n",
       "      <td>21</td>\n",
       "      <td>21</td>\n",
       "    </tr>\n",
       "    <tr>\n",
       "      <td>14</td>\n",
       "      <td>0.930601</td>\n",
       "      <td>27</td>\n",
       "      <td>28</td>\n",
       "      <td>Matilda</td>\n",
       "      <td>Matilda</td>\n",
       "      <td>2</td>\n",
       "      <td>0.440930</td>\n",
       "      <td>0.535404</td>\n",
       "      <td>Hsrir</td>\n",
       "      <td>None</td>\n",
       "      <td>-1</td>\n",
       "      <td>1.000000</td>\n",
       "      <td>1.000000</td>\n",
       "      <td>1983-04-30</td>\n",
       "      <td>1983-04-30</td>\n",
       "      <td>1</td>\n",
       "      <td>0.036375</td>\n",
       "      <td>0.843725</td>\n",
       "      <td>London</td>\n",
       "      <td>London</td>\n",
       "      <td>1</td>\n",
       "      <td>0.167683</td>\n",
       "      <td>0.774859</td>\n",
       "      <td>patrcio47@davis.cam</td>\n",
       "      <td>patricia47@davis.com</td>\n",
       "      <td>0</td>\n",
       "      <td>0.991966</td>\n",
       "      <td>0.153135</td>\n",
       "      <td>6</td>\n",
       "      <td>6</td>\n",
       "    </tr>\n",
       "    <tr>\n",
       "      <td>1201</td>\n",
       "      <td>0.002453</td>\n",
       "      <td>142</td>\n",
       "      <td>748</td>\n",
       "      <td>Harry</td>\n",
       "      <td>Mcheal</td>\n",
       "      <td>0</td>\n",
       "      <td>0.554061</td>\n",
       "      <td>0.393748</td>\n",
       "      <td>Taylor</td>\n",
       "      <td>Taylor</td>\n",
       "      <td>2</td>\n",
       "      <td>0.716467</td>\n",
       "      <td>0.548533</td>\n",
       "      <td>2017-11-24</td>\n",
       "      <td>1993-06-23</td>\n",
       "      <td>0</td>\n",
       "      <td>0.963625</td>\n",
       "      <td>0.156275</td>\n",
       "      <td>London</td>\n",
       "      <td>Brighton</td>\n",
       "      <td>0</td>\n",
       "      <td>0.832317</td>\n",
       "      <td>0.225141</td>\n",
       "      <td>coltonray@lee.com</td>\n",
       "      <td>rhondawilliams@gonzalez-scott.com</td>\n",
       "      <td>0</td>\n",
       "      <td>0.991966</td>\n",
       "      <td>0.153135</td>\n",
       "      <td>26</td>\n",
       "      <td>129</td>\n",
       "    </tr>\n",
       "    <tr>\n",
       "      <td>681</td>\n",
       "      <td>0.015680</td>\n",
       "      <td>858</td>\n",
       "      <td>92</td>\n",
       "      <td>Leo</td>\n",
       "      <td>Lilly</td>\n",
       "      <td>0</td>\n",
       "      <td>0.554061</td>\n",
       "      <td>0.393748</td>\n",
       "      <td>Jones</td>\n",
       "      <td>Jones</td>\n",
       "      <td>2</td>\n",
       "      <td>0.716467</td>\n",
       "      <td>0.548533</td>\n",
       "      <td>1983-08-31</td>\n",
       "      <td>2004-01-25</td>\n",
       "      <td>0</td>\n",
       "      <td>0.963625</td>\n",
       "      <td>0.156275</td>\n",
       "      <td>Manchester</td>\n",
       "      <td>Brighton</td>\n",
       "      <td>0</td>\n",
       "      <td>0.832317</td>\n",
       "      <td>0.225141</td>\n",
       "      <td>None</td>\n",
       "      <td>samuel91@curry.info</td>\n",
       "      <td>-1</td>\n",
       "      <td>1.000000</td>\n",
       "      <td>1.000000</td>\n",
       "      <td>151</td>\n",
       "      <td>19</td>\n",
       "    </tr>\n",
       "  </tbody>\n",
       "</table>\n",
       "</div>"
      ],
      "text/plain": [
       "      match_probability  unique_id_l  unique_id_r first_name_l first_name_r  \\\n",
       "857            0.003448          971          363         None       Nancy    \n",
       "67             0.997569          105          109       Harry        Harry    \n",
       "14             0.930601           27           28     Matilda      Matilda    \n",
       "1201           0.002453          142          748       Harry       Mcheal    \n",
       "681            0.015680          858           92         Leo        Lilly    \n",
       "\n",
       "      gamma_first_name  prob_gamma_first_name_non_match  \\\n",
       "857                 -1                         1.000000   \n",
       "67                   2                         0.440930   \n",
       "14                   2                         0.440930   \n",
       "1201                 0                         0.554061   \n",
       "681                  0                         0.554061   \n",
       "\n",
       "      prob_gamma_first_name_match surname_l surname_r  gamma_surname  \\\n",
       "857                      1.000000    Taylor    Taylor              2   \n",
       "67                       0.535404     Tomas    Thomas              2   \n",
       "14                       0.535404     Hsrir      None             -1   \n",
       "1201                     0.393748    Taylor    Taylor              2   \n",
       "681                      0.393748     Jones     Jones              2   \n",
       "\n",
       "      prob_gamma_surname_non_match  prob_gamma_surname_match       dob_l  \\\n",
       "857                       0.716467                  0.548533  1978-05-09   \n",
       "67                        0.716467                  0.548533  2011-07-30   \n",
       "14                        1.000000                  1.000000  1983-04-30   \n",
       "1201                      0.716467                  0.548533  2017-11-24   \n",
       "681                       0.716467                  0.548533  1983-08-31   \n",
       "\n",
       "           dob_r  gamma_dob  prob_gamma_dob_non_match  prob_gamma_dob_match  \\\n",
       "857   1989-07-25          0                  0.963625              0.156275   \n",
       "67    2011-07-30          1                  0.036375              0.843725   \n",
       "14    1983-04-30          1                  0.036375              0.843725   \n",
       "1201  1993-06-23          0                  0.963625              0.156275   \n",
       "681   2004-01-25          0                  0.963625              0.156275   \n",
       "\n",
       "          city_l    city_r  gamma_city  prob_gamma_city_non_match  \\\n",
       "857        Ldnon    London           0                   0.832317   \n",
       "67        Belast    elfast           0                   0.832317   \n",
       "14        London    London           1                   0.167683   \n",
       "1201      London  Brighton           0                   0.832317   \n",
       "681   Manchester  Brighton           0                   0.832317   \n",
       "\n",
       "      prob_gamma_city_match                            email_l  \\\n",
       "857                0.225141  tiffanyrodriguez@rodriguez-yu.com   \n",
       "67                 0.225141        sandra26@anderson-davis.com   \n",
       "14                 0.774859                patrcio47@davis.cam   \n",
       "1201               0.225141                  coltonray@lee.com   \n",
       "681                0.225141                               None   \n",
       "\n",
       "                                email_r  gamma_email  \\\n",
       "857              wagnershane@landry.com            0   \n",
       "67          sandra26@anderson-davis.com            1   \n",
       "14                 patricia47@davis.com            0   \n",
       "1201  rhondawilliams@gonzalez-scott.com            0   \n",
       "681                 samuel91@curry.info           -1   \n",
       "\n",
       "      prob_gamma_email_non_match  prob_gamma_email_match  group_l  group_r  \n",
       "857                     0.991966                0.153135      175       62  \n",
       "67                      0.008034                0.846865       21       21  \n",
       "14                      0.991966                0.153135        6        6  \n",
       "1201                    0.991966                0.153135       26      129  \n",
       "681                     1.000000                1.000000      151       19  "
      ]
     },
     "execution_count": 10,
     "metadata": {},
     "output_type": "execute_result"
    }
   ],
   "source": [
    "# Inspect main dataframe that contains the match scores\n",
    "df_e.toPandas().sample(5)"
   ]
  },
  {
   "cell_type": "markdown",
   "metadata": {},
   "source": [
    "The `params` property of the `linker` is an object that contains a lot of diagnostic information about how the match probability was computed.  The following cells demonstrate some of its functionality"
   ]
  },
  {
   "cell_type": "code",
   "execution_count": 11,
   "metadata": {},
   "outputs": [
    {
     "data": {
      "application/vnd.vegalite.v3+json": {
       "$schema": "https://vega.github.io/schema/vega-lite/v3.4.0.json",
       "config": {
        "mark": {
         "tooltip": null
        },
        "title": {
         "anchor": "middle"
        },
        "view": {
         "height": 300,
         "width": 400
        }
       },
       "data": {
        "name": "data-a0d51cff9ad990d370192db2f4183724"
       },
       "datasets": {
        "data-a0d51cff9ad990d370192db2f4183724": [
         {
          "column": "first_name",
          "gamma": "gamma_first_name",
          "match": 1,
          "probability": 0.39374828338623047,
          "value": 0,
          "value_of_gamma": "level_0"
         },
         {
          "column": "first_name",
          "gamma": "gamma_first_name",
          "match": 1,
          "probability": 0.07084765285253525,
          "value": 1,
          "value_of_gamma": "level_1"
         },
         {
          "column": "first_name",
          "gamma": "gamma_first_name",
          "match": 1,
          "probability": 0.5354040265083313,
          "value": 2,
          "value_of_gamma": "level_2"
         },
         {
          "column": "first_name",
          "gamma": "gamma_first_name",
          "match": 0,
          "probability": 0.5540610551834106,
          "value": 0,
          "value_of_gamma": "level_0"
         },
         {
          "column": "first_name",
          "gamma": "gamma_first_name",
          "match": 0,
          "probability": 0.005008868873119354,
          "value": 1,
          "value_of_gamma": "level_1"
         },
         {
          "column": "first_name",
          "gamma": "gamma_first_name",
          "match": 0,
          "probability": 0.440930038690567,
          "value": 2,
          "value_of_gamma": "level_2"
         },
         {
          "column": "surname",
          "gamma": "gamma_surname",
          "match": 1,
          "probability": 0.3870878517627716,
          "value": 0,
          "value_of_gamma": "level_0"
         },
         {
          "column": "surname",
          "gamma": "gamma_surname",
          "match": 1,
          "probability": 0.06437891721725464,
          "value": 1,
          "value_of_gamma": "level_1"
         },
         {
          "column": "surname",
          "gamma": "gamma_surname",
          "match": 1,
          "probability": 0.5485332012176514,
          "value": 2,
          "value_of_gamma": "level_2"
         },
         {
          "column": "surname",
          "gamma": "gamma_surname",
          "match": 0,
          "probability": 0.2834678292274475,
          "value": 0,
          "value_of_gamma": "level_0"
         },
         {
          "column": "surname",
          "gamma": "gamma_surname",
          "match": 0,
          "probability": 6.513988773804158e-05,
          "value": 1,
          "value_of_gamma": "level_1"
         },
         {
          "column": "surname",
          "gamma": "gamma_surname",
          "match": 0,
          "probability": 0.716467022895813,
          "value": 2,
          "value_of_gamma": "level_2"
         },
         {
          "column": "dob",
          "gamma": "gamma_dob",
          "match": 1,
          "probability": 0.15627521276474,
          "value": 0,
          "value_of_gamma": "level_0"
         },
         {
          "column": "dob",
          "gamma": "gamma_dob",
          "match": 1,
          "probability": 0.84372478723526,
          "value": 1,
          "value_of_gamma": "level_1"
         },
         {
          "column": "dob",
          "gamma": "gamma_dob",
          "match": 0,
          "probability": 0.9636249542236328,
          "value": 0,
          "value_of_gamma": "level_0"
         },
         {
          "column": "dob",
          "gamma": "gamma_dob",
          "match": 0,
          "probability": 0.03637504205107689,
          "value": 1,
          "value_of_gamma": "level_1"
         },
         {
          "column": "city",
          "gamma": "gamma_city",
          "match": 1,
          "probability": 0.22514097392559052,
          "value": 0,
          "value_of_gamma": "level_0"
         },
         {
          "column": "city",
          "gamma": "gamma_city",
          "match": 1,
          "probability": 0.7748590111732483,
          "value": 1,
          "value_of_gamma": "level_1"
         },
         {
          "column": "city",
          "gamma": "gamma_city",
          "match": 0,
          "probability": 0.8323174118995667,
          "value": 0,
          "value_of_gamma": "level_0"
         },
         {
          "column": "city",
          "gamma": "gamma_city",
          "match": 0,
          "probability": 0.16768257319927216,
          "value": 1,
          "value_of_gamma": "level_1"
         },
         {
          "column": "email",
          "gamma": "gamma_email",
          "match": 1,
          "probability": 0.15313491225242615,
          "value": 0,
          "value_of_gamma": "level_0"
         },
         {
          "column": "email",
          "gamma": "gamma_email",
          "match": 1,
          "probability": 0.8468651175498962,
          "value": 1,
          "value_of_gamma": "level_1"
         },
         {
          "column": "email",
          "gamma": "gamma_email",
          "match": 0,
          "probability": 0.9919662475585938,
          "value": 0,
          "value_of_gamma": "level_0"
         },
         {
          "column": "email",
          "gamma": "gamma_email",
          "match": 0,
          "probability": 0.008033737540245056,
          "value": 1,
          "value_of_gamma": "level_1"
         }
        ]
       },
       "hconcat": [
        {
         "encoding": {
          "color": {
           "field": "match",
           "type": "nominal"
          },
          "row": {
           "field": "column",
           "sort": {
            "field": "gamma"
           },
           "type": "nominal"
          },
          "tooltip": [
           {
            "field": "column",
            "type": "nominal"
           },
           {
            "field": "probability",
            "format": ".4f",
            "type": "quantitative"
           },
           {
            "field": "value",
            "type": "ordinal"
           }
          ],
          "x": {
           "field": "probability",
           "type": "quantitative"
          },
          "y": {
           "axis": {
            "title": "𝛾 value"
           },
           "field": "value",
           "type": "nominal"
          }
         },
         "mark": "bar",
         "resolve": {
          "scale": {
           "y": "independent"
          }
         },
         "transform": [
          {
           "filter": "(datum.match === 0)"
          }
         ],
         "width": 150
        },
        {
         "encoding": {
          "color": {
           "field": "match",
           "type": "nominal"
          },
          "row": {
           "field": "column",
           "sort": {
            "field": "gamma"
           },
           "type": "nominal"
          },
          "tooltip": [
           {
            "field": "column",
            "type": "nominal"
           },
           {
            "field": "probability",
            "format": ".4f",
            "type": "quantitative"
           },
           {
            "field": "value",
            "type": "ordinal"
           }
          ],
          "x": {
           "field": "probability",
           "type": "quantitative"
          },
          "y": {
           "axis": {
            "title": "𝛾 value"
           },
           "field": "value",
           "type": "nominal"
          }
         },
         "mark": "bar",
         "resolve": {
          "scale": {
           "y": "independent"
          }
         },
         "transform": [
          {
           "filter": "(datum.match === 1)"
          }
         ],
         "width": 150
        }
       ],
       "title": "Probability distribution of comparison vector values, m=0 and m=1"
      },
      "image/png": "[encoded data removed]",
      "text/plain": [
       "<VegaLite 3 object>\n",
       "\n",
       "If you see this message, it means the renderer has not been properly enabled\n",
       "for the frontend that you are using. For more information, see\n",
       "https://altair-viz.github.io/user_guide/troubleshooting.html\n"
      ]
     },
     "execution_count": 11,
     "metadata": {},
     "output_type": "execute_result"
    }
   ],
   "source": [
    "params = linker.params\n",
    "params.probability_distribution_chart()"
   ]
  },
  {
   "cell_type": "markdown",
   "metadata": {},
   "source": [
    "An alternative representation of the parameters displays them in terms of the effect different values in the comparison vectors have on the match probability:"
   ]
  },
  {
   "cell_type": "code",
   "execution_count": 12,
   "metadata": {},
   "outputs": [
    {
     "data": {
      "application/vnd.vegalite.v3+json": {
       "$schema": "https://vega.github.io/schema/vega-lite/v3.4.0.json",
       "config": {
        "mark": {
         "tooltip": null
        },
        "title": {
         "anchor": "middle"
        },
        "view": {
         "height": 300,
         "width": 400
        }
       },
       "data": {
        "name": "data-ab02ed6a78a3bfffe317dff2df4c053c"
       },
       "datasets": {
        "data-ab02ed6a78a3bfffe317dff2df4c053c": [
         {
          "adjustment": 0.4154298415970919,
          "col_name": "first_name",
          "level": "level_0",
          "m": 0.39374828338623047,
          "normalised_adjustment": -0.0845701584029081,
          "u": 0.5540610551834106
         },
         {
          "adjustment": 0.933969172865128,
          "col_name": "first_name",
          "level": "level_1",
          "m": 0.07084765285253525,
          "normalised_adjustment": 0.43396917286512804,
          "u": 0.005008868873119354
         },
         {
          "adjustment": 0.5483819991462237,
          "col_name": "first_name",
          "level": "level_2",
          "m": 0.5354040265083313,
          "normalised_adjustment": 0.04838199914622365,
          "u": 0.440930038690567
         },
         {
          "adjustment": 0.5772642939824975,
          "col_name": "surname",
          "level": "level_0",
          "m": 0.3870878517627716,
          "normalised_adjustment": 0.07726429398249746,
          "u": 0.2834678292274475
         },
         {
          "adjustment": 0.9989892025632106,
          "col_name": "surname",
          "level": "level_1",
          "m": 0.06437891721725464,
          "normalised_adjustment": 0.49898920256321055,
          "u": 6.513988773804158e-05
         },
         {
          "adjustment": 0.4336230071437921,
          "col_name": "surname",
          "level": "level_2",
          "m": 0.5485332012176514,
          "normalised_adjustment": -0.0663769928562079,
          "u": 0.716467022895813
         },
         {
          "adjustment": 0.13954387843783803,
          "col_name": "dob",
          "level": "level_0",
          "m": 0.15627521276474,
          "normalised_adjustment": -0.360456121562162,
          "u": 0.9636249542236328
         },
         {
          "adjustment": 0.9586694135816695,
          "col_name": "dob",
          "level": "level_1",
          "m": 0.84372478723526,
          "normalised_adjustment": 0.45866941358166946,
          "u": 0.03637504205107689
         },
         {
          "adjustment": 0.21290764435132664,
          "col_name": "city",
          "level": "level_0",
          "m": 0.22514097392559052,
          "normalised_adjustment": -0.28709235564867336,
          "u": 0.8323174118995667
         },
         {
          "adjustment": 0.8220953048868356,
          "col_name": "city",
          "level": "level_1",
          "m": 0.7748590111732483,
          "normalised_adjustment": 0.3220953048868356,
          "u": 0.16768257319927216
         },
         {
          "adjustment": 0.133730466466123,
          "col_name": "email",
          "level": "level_0",
          "m": 0.15313491225242615,
          "normalised_adjustment": -0.36626953353387703,
          "u": 0.9919662475585938
         },
         {
          "adjustment": 0.9906027040597709,
          "col_name": "email",
          "level": "level_1",
          "m": 0.8468651175498962,
          "normalised_adjustment": 0.4906027040597709,
          "u": 0.008033737540245056
         }
        ]
       },
       "encoding": {
        "color": {
         "field": "normalised_adjustment",
         "scale": {
          "domain": [
           -0.5,
           -0.4,
           0,
           0.4,
           0.5
          ],
          "range": [
           "red",
           "orange",
           "green",
           "orange",
           "red"
          ]
         },
         "type": "quantitative"
        },
        "row": {
         "field": "col_name",
         "sort": {
          "field": "gamma"
         },
         "type": "nominal"
        },
        "tooltip": [
         {
          "field": "col_name",
          "type": "nominal"
         },
         {
          "field": "normalised_adjustment",
          "type": "quantitative"
         }
        ],
        "x": {
         "axis": {
          "title": "Influence on match probabiity."
         },
         "field": "normalised_adjustment",
         "scale": {
          "domain": [
           -0.5,
           0.5
          ]
         },
         "type": "quantitative"
        },
        "y": {
         "field": "level",
         "type": "nominal"
        }
       },
       "height": 50,
       "mark": "bar",
       "resolve": {
        "scale": {
         "y": "independent"
        }
       },
       "title": "Influence of comparison vector values on match probability"
      },
      "image/png": "[encoded data removed]",
      "text/plain": [
       "<VegaLite 3 object>\n",
       "\n",
       "If you see this message, it means the renderer has not been properly enabled\n",
       "for the frontend that you are using. For more information, see\n",
       "https://altair-viz.github.io/user_guide/troubleshooting.html\n"
      ]
     },
     "execution_count": 12,
     "metadata": {},
     "output_type": "execute_result"
    }
   ],
   "source": [
    "params.adjustment_factor_chart()"
   ]
  },
  {
   "cell_type": "code",
   "execution_count": 13,
   "metadata": {},
   "outputs": [],
   "source": [
    "# If charts aren't displaying correctly in your notebook, you can write them to a file (by default splink_charts.html)\n",
    "params.all_charts_write_html_file()"
   ]
  },
  {
   "cell_type": "markdown",
   "metadata": {},
   "source": [
    "You can also generate a report which explains how the match probability was computed for an individual comparison row.  \n",
    "\n",
    "Note that you need to convert the row to a dictionary for this to work"
   ]
  },
  {
   "cell_type": "code",
   "execution_count": 14,
   "metadata": {},
   "outputs": [
    {
     "name": "stdout",
     "output_type": "stream",
     "text": [
      "\n",
      "Initial probability of match (prior) = λ = 0.40026602149009705\n",
      "\n",
      "Comparison of first_name.  Values are:\n",
      "first_name_l: Logan \n",
      "first_name_r: Logan \n",
      "Comparison has 3 levels\n",
      "𝛾 for this comparison = gamma_first_name = 2\n",
      "Amongst matches, P(𝛾 = 0.5354040265083313):\n",
      "Amongst non matches, P(𝛾 = 0.440930038690567):\n",
      "Adjustment factor = p1/(p1 + p2) = 0.5483819991462237\n",
      "New probability of match (updated belief): 0.4476373525766973\n",
      "\n",
      "Comparison of surname.  Values are:\n",
      "surname_l: Nichosno\n",
      "surname_r: Nicholson\n",
      "Comparison has 3 levels\n",
      "𝛾 for this comparison = gamma_surname = 2\n",
      "Amongst matches, P(𝛾 = 0.5485332012176514):\n",
      "Amongst non matches, P(𝛾 = 0.716467022895813):\n",
      "Adjustment factor = p1/(p1 + p2) = 0.4336230071437921\n",
      "New probability of match (updated belief): 0.3828885254523243\n",
      "\n",
      "Comparison of dob.  Values are:\n",
      "dob_l: 1999-04-14\n",
      "dob_r: 1999-04-19\n",
      "Comparison has 2 levels\n",
      "𝛾 for this comparison = gamma_dob = 1\n",
      "Amongst matches, P(𝛾 = 0.84372478723526):\n",
      "Amongst non matches, P(𝛾 = 0.03637504205107689):\n",
      "Adjustment factor = p1/(p1 + p2) = 0.9586694135816695\n",
      "New probability of match (updated belief): 0.9350290705393317\n",
      "\n",
      "Comparison of city.  Values are:\n",
      "city_l: Glasgow\n",
      "city_r: Glasgow\n",
      "Comparison has 2 levels\n",
      "𝛾 for this comparison = gamma_city = 1\n",
      "Amongst matches, P(𝛾 = 0.7748590111732483):\n",
      "Amongst non matches, P(𝛾 = 0.16768257319927216):\n",
      "Adjustment factor = p1/(p1 + p2) = 0.8220953048868356\n",
      "New probability of match (updated belief): 0.9851858286312025\n",
      "\n",
      "Comparison of email.  Values are:\n",
      "email_l: longdebra@dixon.com\n",
      "email_r: longdebra@dixon.com\n",
      "Comparison has 2 levels\n",
      "𝛾 for this comparison = gamma_email = 1\n",
      "Amongst matches, P(𝛾 = 0.8468651175498962):\n",
      "Amongst non matches, P(𝛾 = 0.008033737540245056):\n",
      "Adjustment factor = p1/(p1 + p2) = 0.9906027040597709\n",
      "New probability of match (updated belief): 0.9998573733582734\n",
      "\n",
      "Final probability of match = 0.9998573733582734\n",
      "\n"
     ]
    }
   ],
   "source": [
    "from splink.intuition import intuition_report\n",
    "row_dict = df_e.toPandas().sample(1).to_dict(orient=\"records\")[0]\n",
    "print(intuition_report(row_dict, params))"
   ]
  },
  {
   "cell_type": "markdown",
   "metadata": {},
   "source": [
    "## Step 7: Term frequency adjustments\n",
    "\n",
    "Splink enables you to make adjustments for term frequency on any number of columns\n",
    "\n",
    "This enables match probabilities to be adjusted for e.g. the fact John Smith is more prevalent than Robin Linacre"
   ]
  },
  {
   "cell_type": "code",
   "execution_count": 15,
   "metadata": {},
   "outputs": [
    {
     "name": "stdout",
     "output_type": "stream",
     "text": [
      "\n",
      "    select\n",
      "        \n",
      "    cast(match_probability as double) * cast(first_name_adj as double) * cast(surname_adj as double)/\n",
      "    (  cast(match_probability as double) * cast(first_name_adj as double) * cast(surname_adj as double) + (cast(1 - cast(match_probability as double) as double)) * (cast(1 - cast(first_name_adj as double) as double)) * (cast(1 - cast(surname_adj as double) as double)) )\n",
      "     as tf_adjusted_match_prob,\n",
      "        match_probability,\n",
      "        unique_id_l, unique_id_r, first_name_l, first_name_r, gamma_first_name, prob_gamma_first_name_non_match, prob_gamma_first_name_match, first_name_adj, surname_l, surname_r, gamma_surname, prob_gamma_surname_non_match, prob_gamma_surname_match, surname_adj, dob_l, dob_r, gamma_dob, prob_gamma_dob_non_match, prob_gamma_dob_match, city_l, city_r, gamma_city, prob_gamma_city_non_match, prob_gamma_city_match, email_l, email_r, gamma_email, prob_gamma_email_non_match, prob_gamma_email_match, group_l, group_r\n",
      "\n",
      "    from df_e_adj\n",
      "    \n"
     ]
    }
   ],
   "source": [
    "df_e_adj = linker.make_term_frequency_adjustments(df_e)"
   ]
  },
  {
   "cell_type": "code",
   "execution_count": 16,
   "metadata": {},
   "outputs": [
    {
     "data": {
      "text/html": [
       "<div>\n",
       "<style scoped>\n",
       "    .dataframe tbody tr th:only-of-type {\n",
       "        vertical-align: middle;\n",
       "    }\n",
       "\n",
       "    .dataframe tbody tr th {\n",
       "        vertical-align: top;\n",
       "    }\n",
       "\n",
       "    .dataframe thead th {\n",
       "        text-align: right;\n",
       "    }\n",
       "</style>\n",
       "<table border=\"1\" class=\"dataframe\">\n",
       "  <thead>\n",
       "    <tr style=\"text-align: right;\">\n",
       "      <th></th>\n",
       "      <th>match_probability</th>\n",
       "      <th>tf_adjusted_match_prob</th>\n",
       "      <th>tf_adjusted_match_prob</th>\n",
       "      <th>match_probability</th>\n",
       "      <th>unique_id_l</th>\n",
       "      <th>unique_id_r</th>\n",
       "      <th>first_name_l</th>\n",
       "      <th>first_name_r</th>\n",
       "      <th>gamma_first_name</th>\n",
       "      <th>prob_gamma_first_name_non_match</th>\n",
       "      <th>prob_gamma_first_name_match</th>\n",
       "      <th>first_name_adj</th>\n",
       "      <th>surname_l</th>\n",
       "      <th>surname_r</th>\n",
       "      <th>gamma_surname</th>\n",
       "      <th>prob_gamma_surname_non_match</th>\n",
       "      <th>prob_gamma_surname_match</th>\n",
       "      <th>surname_adj</th>\n",
       "      <th>dob_l</th>\n",
       "      <th>dob_r</th>\n",
       "      <th>gamma_dob</th>\n",
       "      <th>prob_gamma_dob_non_match</th>\n",
       "      <th>prob_gamma_dob_match</th>\n",
       "      <th>city_l</th>\n",
       "      <th>city_r</th>\n",
       "      <th>gamma_city</th>\n",
       "      <th>prob_gamma_city_non_match</th>\n",
       "      <th>prob_gamma_city_match</th>\n",
       "      <th>email_l</th>\n",
       "      <th>email_r</th>\n",
       "      <th>gamma_email</th>\n",
       "      <th>prob_gamma_email_non_match</th>\n",
       "      <th>prob_gamma_email_match</th>\n",
       "      <th>group_l</th>\n",
       "      <th>group_r</th>\n",
       "    </tr>\n",
       "  </thead>\n",
       "  <tbody>\n",
       "    <tr>\n",
       "      <td>964</td>\n",
       "      <td>0.003448</td>\n",
       "      <td>0.000571</td>\n",
       "      <td>0.000571</td>\n",
       "      <td>0.003448</td>\n",
       "      <td>744</td>\n",
       "      <td>511</td>\n",
       "      <td>Mcha le</td>\n",
       "      <td>None</td>\n",
       "      <td>-1</td>\n",
       "      <td>1.000000</td>\n",
       "      <td>1.000000</td>\n",
       "      <td>0.500000</td>\n",
       "      <td>Taylor</td>\n",
       "      <td>Taylor</td>\n",
       "      <td>2</td>\n",
       "      <td>0.716467</td>\n",
       "      <td>0.548533</td>\n",
       "      <td>0.141649</td>\n",
       "      <td>1993-06-23</td>\n",
       "      <td>2005-06-01</td>\n",
       "      <td>0</td>\n",
       "      <td>0.963625</td>\n",
       "      <td>0.156275</td>\n",
       "      <td>Brighton</td>\n",
       "      <td>London</td>\n",
       "      <td>0</td>\n",
       "      <td>0.832317</td>\n",
       "      <td>0.225141</td>\n",
       "      <td>rhondawilliams@gonzalez-scott.com</td>\n",
       "      <td>michellejackson@smith-trujillo.com</td>\n",
       "      <td>0</td>\n",
       "      <td>0.991966</td>\n",
       "      <td>0.153135</td>\n",
       "      <td>129</td>\n",
       "      <td>88</td>\n",
       "    </tr>\n",
       "    <tr>\n",
       "      <td>1286</td>\n",
       "      <td>0.002453</td>\n",
       "      <td>0.000548</td>\n",
       "      <td>0.000548</td>\n",
       "      <td>0.002453</td>\n",
       "      <td>986</td>\n",
       "      <td>866</td>\n",
       "      <td>Ellis</td>\n",
       "      <td>Leo</td>\n",
       "      <td>0</td>\n",
       "      <td>0.554061</td>\n",
       "      <td>0.393748</td>\n",
       "      <td>0.500000</td>\n",
       "      <td>Jones</td>\n",
       "      <td>Jones</td>\n",
       "      <td>2</td>\n",
       "      <td>0.716467</td>\n",
       "      <td>0.548533</td>\n",
       "      <td>0.182251</td>\n",
       "      <td>1997-11-18</td>\n",
       "      <td>1983-08-03</td>\n",
       "      <td>0</td>\n",
       "      <td>0.963625</td>\n",
       "      <td>0.156275</td>\n",
       "      <td>London</td>\n",
       "      <td>Manchester</td>\n",
       "      <td>0</td>\n",
       "      <td>0.832317</td>\n",
       "      <td>0.225141</td>\n",
       "      <td>tammy46@bailey-lee.net</td>\n",
       "      <td>smyers@andersen-lee.com</td>\n",
       "      <td>0</td>\n",
       "      <td>0.991966</td>\n",
       "      <td>0.153135</td>\n",
       "      <td>177</td>\n",
       "      <td>151</td>\n",
       "    </tr>\n",
       "    <tr>\n",
       "      <td>751</td>\n",
       "      <td>0.999988</td>\n",
       "      <td>1.000000</td>\n",
       "      <td>1.000000</td>\n",
       "      <td>0.999988</td>\n",
       "      <td>164</td>\n",
       "      <td>170</td>\n",
       "      <td>Nathan</td>\n",
       "      <td>Nthaa</td>\n",
       "      <td>1</td>\n",
       "      <td>0.005009</td>\n",
       "      <td>0.070848</td>\n",
       "      <td>0.500000</td>\n",
       "      <td>Mcdonald</td>\n",
       "      <td>Mcdonald</td>\n",
       "      <td>2</td>\n",
       "      <td>0.716467</td>\n",
       "      <td>0.548533</td>\n",
       "      <td>0.999461</td>\n",
       "      <td>1996-09-09</td>\n",
       "      <td>1996-09-09</td>\n",
       "      <td>1</td>\n",
       "      <td>0.036375</td>\n",
       "      <td>0.843725</td>\n",
       "      <td>London</td>\n",
       "      <td>Londo</td>\n",
       "      <td>1</td>\n",
       "      <td>0.167683</td>\n",
       "      <td>0.774859</td>\n",
       "      <td>barbara84@robbins.biz</td>\n",
       "      <td>barbara84@robbins.biz</td>\n",
       "      <td>1</td>\n",
       "      <td>0.008034</td>\n",
       "      <td>0.846865</td>\n",
       "      <td>29</td>\n",
       "      <td>29</td>\n",
       "    </tr>\n",
       "    <tr>\n",
       "      <td>1492</td>\n",
       "      <td>0.914653</td>\n",
       "      <td>0.914653</td>\n",
       "      <td>0.914653</td>\n",
       "      <td>0.914653</td>\n",
       "      <td>488</td>\n",
       "      <td>492</td>\n",
       "      <td>Cross</td>\n",
       "      <td>Thomas</td>\n",
       "      <td>0</td>\n",
       "      <td>0.554061</td>\n",
       "      <td>0.393748</td>\n",
       "      <td>0.500000</td>\n",
       "      <td>Thomas</td>\n",
       "      <td>Cross</td>\n",
       "      <td>0</td>\n",
       "      <td>0.283468</td>\n",
       "      <td>0.387088</td>\n",
       "      <td>0.500000</td>\n",
       "      <td>1992-10-16</td>\n",
       "      <td>1992-10-16</td>\n",
       "      <td>1</td>\n",
       "      <td>0.036375</td>\n",
       "      <td>0.843725</td>\n",
       "      <td>London</td>\n",
       "      <td>London</td>\n",
       "      <td>1</td>\n",
       "      <td>0.167683</td>\n",
       "      <td>0.774859</td>\n",
       "      <td>orusso@hanmck.com</td>\n",
       "      <td>mrusso@hancock.com</td>\n",
       "      <td>0</td>\n",
       "      <td>0.991966</td>\n",
       "      <td>0.153135</td>\n",
       "      <td>84</td>\n",
       "      <td>84</td>\n",
       "    </tr>\n",
       "    <tr>\n",
       "      <td>391</td>\n",
       "      <td>0.999857</td>\n",
       "      <td>0.999959</td>\n",
       "      <td>0.999959</td>\n",
       "      <td>0.999857</td>\n",
       "      <td>632</td>\n",
       "      <td>634</td>\n",
       "      <td>Noah</td>\n",
       "      <td>Noah</td>\n",
       "      <td>2</td>\n",
       "      <td>0.440930</td>\n",
       "      <td>0.535404</td>\n",
       "      <td>0.282884</td>\n",
       "      <td>Gibson</td>\n",
       "      <td>Gibson</td>\n",
       "      <td>2</td>\n",
       "      <td>0.716467</td>\n",
       "      <td>0.548533</td>\n",
       "      <td>0.898810</td>\n",
       "      <td>1987-05-18</td>\n",
       "      <td>1987-08-21</td>\n",
       "      <td>1</td>\n",
       "      <td>0.036375</td>\n",
       "      <td>0.843725</td>\n",
       "      <td>London</td>\n",
       "      <td>London</td>\n",
       "      <td>1</td>\n",
       "      <td>0.167683</td>\n",
       "      <td>0.774859</td>\n",
       "      <td>avazquez@banks.com</td>\n",
       "      <td>avazquez@banks.com</td>\n",
       "      <td>1</td>\n",
       "      <td>0.008034</td>\n",
       "      <td>0.846865</td>\n",
       "      <td>107</td>\n",
       "      <td>107</td>\n",
       "    </tr>\n",
       "    <tr>\n",
       "      <td>970</td>\n",
       "      <td>0.055815</td>\n",
       "      <td>0.009661</td>\n",
       "      <td>0.009661</td>\n",
       "      <td>0.055815</td>\n",
       "      <td>142</td>\n",
       "      <td>511</td>\n",
       "      <td>Harry</td>\n",
       "      <td>None</td>\n",
       "      <td>-1</td>\n",
       "      <td>1.000000</td>\n",
       "      <td>1.000000</td>\n",
       "      <td>0.500000</td>\n",
       "      <td>Taylor</td>\n",
       "      <td>Taylor</td>\n",
       "      <td>2</td>\n",
       "      <td>0.716467</td>\n",
       "      <td>0.548533</td>\n",
       "      <td>0.141649</td>\n",
       "      <td>2017-11-24</td>\n",
       "      <td>2005-06-01</td>\n",
       "      <td>0</td>\n",
       "      <td>0.963625</td>\n",
       "      <td>0.156275</td>\n",
       "      <td>London</td>\n",
       "      <td>London</td>\n",
       "      <td>1</td>\n",
       "      <td>0.167683</td>\n",
       "      <td>0.774859</td>\n",
       "      <td>coltonray@lee.com</td>\n",
       "      <td>michellejackson@smith-trujillo.com</td>\n",
       "      <td>0</td>\n",
       "      <td>0.991966</td>\n",
       "      <td>0.153135</td>\n",
       "      <td>26</td>\n",
       "      <td>88</td>\n",
       "    </tr>\n",
       "    <tr>\n",
       "      <td>683</td>\n",
       "      <td>0.002453</td>\n",
       "      <td>0.000548</td>\n",
       "      <td>0.000548</td>\n",
       "      <td>0.002453</td>\n",
       "      <td>63</td>\n",
       "      <td>92</td>\n",
       "      <td>Maya</td>\n",
       "      <td>Lilly</td>\n",
       "      <td>0</td>\n",
       "      <td>0.554061</td>\n",
       "      <td>0.393748</td>\n",
       "      <td>0.500000</td>\n",
       "      <td>Jones</td>\n",
       "      <td>Jones</td>\n",
       "      <td>2</td>\n",
       "      <td>0.716467</td>\n",
       "      <td>0.548533</td>\n",
       "      <td>0.182251</td>\n",
       "      <td>2010-08-05</td>\n",
       "      <td>2004-01-25</td>\n",
       "      <td>0</td>\n",
       "      <td>0.963625</td>\n",
       "      <td>0.156275</td>\n",
       "      <td>Sunderland</td>\n",
       "      <td>Brighton</td>\n",
       "      <td>0</td>\n",
       "      <td>0.832317</td>\n",
       "      <td>0.225141</td>\n",
       "      <td>erin01@york.com</td>\n",
       "      <td>samuel91@curry.info</td>\n",
       "      <td>0</td>\n",
       "      <td>0.991966</td>\n",
       "      <td>0.153135</td>\n",
       "      <td>14</td>\n",
       "      <td>19</td>\n",
       "    </tr>\n",
       "    <tr>\n",
       "      <td>920</td>\n",
       "      <td>0.999200</td>\n",
       "      <td>0.999991</td>\n",
       "      <td>0.999991</td>\n",
       "      <td>0.999200</td>\n",
       "      <td>431</td>\n",
       "      <td>435</td>\n",
       "      <td>Lucy</td>\n",
       "      <td>None</td>\n",
       "      <td>-1</td>\n",
       "      <td>1.000000</td>\n",
       "      <td>1.000000</td>\n",
       "      <td>0.500000</td>\n",
       "      <td>Stone</td>\n",
       "      <td>Stone</td>\n",
       "      <td>2</td>\n",
       "      <td>0.716467</td>\n",
       "      <td>0.548533</td>\n",
       "      <td>0.988972</td>\n",
       "      <td>2011-11-26</td>\n",
       "      <td>2011-11-26</td>\n",
       "      <td>1</td>\n",
       "      <td>0.036375</td>\n",
       "      <td>0.843725</td>\n",
       "      <td>Middbeslough</td>\n",
       "      <td>None</td>\n",
       "      <td>-1</td>\n",
       "      <td>1.000000</td>\n",
       "      <td>1.000000</td>\n",
       "      <td>ppruitt@kirby.org</td>\n",
       "      <td>ppruitt@kirby.org</td>\n",
       "      <td>1</td>\n",
       "      <td>0.008034</td>\n",
       "      <td>0.846865</td>\n",
       "      <td>73</td>\n",
       "      <td>73</td>\n",
       "    </tr>\n",
       "    <tr>\n",
       "      <td>137</td>\n",
       "      <td>0.999341</td>\n",
       "      <td>0.999771</td>\n",
       "      <td>0.999771</td>\n",
       "      <td>0.999341</td>\n",
       "      <td>220</td>\n",
       "      <td>224</td>\n",
       "      <td>Amber</td>\n",
       "      <td>Amber</td>\n",
       "      <td>2</td>\n",
       "      <td>0.440930</td>\n",
       "      <td>0.535404</td>\n",
       "      <td>0.859735</td>\n",
       "      <td>Smith</td>\n",
       "      <td>Smith</td>\n",
       "      <td>2</td>\n",
       "      <td>0.716467</td>\n",
       "      <td>0.548533</td>\n",
       "      <td>0.319330</td>\n",
       "      <td>2003-05-12</td>\n",
       "      <td>2003-05-12</td>\n",
       "      <td>1</td>\n",
       "      <td>0.036375</td>\n",
       "      <td>0.843725</td>\n",
       "      <td>None</td>\n",
       "      <td>Sunderland</td>\n",
       "      <td>-1</td>\n",
       "      <td>1.000000</td>\n",
       "      <td>1.000000</td>\n",
       "      <td>barrerakevin@sherman.org</td>\n",
       "      <td>barrerakevin@sherman.org</td>\n",
       "      <td>1</td>\n",
       "      <td>0.008034</td>\n",
       "      <td>0.846865</td>\n",
       "      <td>39</td>\n",
       "      <td>39</td>\n",
       "    </tr>\n",
       "    <tr>\n",
       "      <td>1449</td>\n",
       "      <td>0.999867</td>\n",
       "      <td>0.999867</td>\n",
       "      <td>0.999867</td>\n",
       "      <td>0.999867</td>\n",
       "      <td>341</td>\n",
       "      <td>343</td>\n",
       "      <td>rFddie</td>\n",
       "      <td>None</td>\n",
       "      <td>-1</td>\n",
       "      <td>1.000000</td>\n",
       "      <td>1.000000</td>\n",
       "      <td>0.500000</td>\n",
       "      <td>Lane</td>\n",
       "      <td>None</td>\n",
       "      <td>-1</td>\n",
       "      <td>1.000000</td>\n",
       "      <td>1.000000</td>\n",
       "      <td>0.500000</td>\n",
       "      <td>2016-02-18</td>\n",
       "      <td>2016-02-18</td>\n",
       "      <td>1</td>\n",
       "      <td>0.036375</td>\n",
       "      <td>0.843725</td>\n",
       "      <td>London</td>\n",
       "      <td>London</td>\n",
       "      <td>1</td>\n",
       "      <td>0.167683</td>\n",
       "      <td>0.774859</td>\n",
       "      <td>duanejames@reyes.net</td>\n",
       "      <td>duanejames@reyes.net</td>\n",
       "      <td>1</td>\n",
       "      <td>0.008034</td>\n",
       "      <td>0.846865</td>\n",
       "      <td>59</td>\n",
       "      <td>59</td>\n",
       "    </tr>\n",
       "  </tbody>\n",
       "</table>\n",
       "</div>"
      ],
      "text/plain": [
       "      match_probability  tf_adjusted_match_prob  tf_adjusted_match_prob  \\\n",
       "964            0.003448                0.000571                0.000571   \n",
       "1286           0.002453                0.000548                0.000548   \n",
       "751            0.999988                1.000000                1.000000   \n",
       "1492           0.914653                0.914653                0.914653   \n",
       "391            0.999857                0.999959                0.999959   \n",
       "970            0.055815                0.009661                0.009661   \n",
       "683            0.002453                0.000548                0.000548   \n",
       "920            0.999200                0.999991                0.999991   \n",
       "137            0.999341                0.999771                0.999771   \n",
       "1449           0.999867                0.999867                0.999867   \n",
       "\n",
       "      match_probability  unique_id_l  unique_id_r first_name_l first_name_r  \\\n",
       "964            0.003448          744          511      Mcha le         None   \n",
       "1286           0.002453          986          866       Ellis          Leo    \n",
       "751            0.999988          164          170      Nathan        Nthaa    \n",
       "1492           0.914653          488          492        Cross      Thomas    \n",
       "391            0.999857          632          634        Noah         Noah    \n",
       "970            0.055815          142          511       Harry          None   \n",
       "683            0.002453           63           92        Maya        Lilly    \n",
       "920            0.999200          431          435        Lucy          None   \n",
       "137            0.999341          220          224       Amber        Amber    \n",
       "1449           0.999867          341          343      rFddie          None   \n",
       "\n",
       "      gamma_first_name  prob_gamma_first_name_non_match  \\\n",
       "964                 -1                         1.000000   \n",
       "1286                 0                         0.554061   \n",
       "751                  1                         0.005009   \n",
       "1492                 0                         0.554061   \n",
       "391                  2                         0.440930   \n",
       "970                 -1                         1.000000   \n",
       "683                  0                         0.554061   \n",
       "920                 -1                         1.000000   \n",
       "137                  2                         0.440930   \n",
       "1449                -1                         1.000000   \n",
       "\n",
       "      prob_gamma_first_name_match  first_name_adj surname_l surname_r  \\\n",
       "964                      1.000000        0.500000    Taylor    Taylor   \n",
       "1286                     0.393748        0.500000     Jones     Jones   \n",
       "751                      0.070848        0.500000  Mcdonald  Mcdonald   \n",
       "1492                     0.393748        0.500000   Thomas      Cross   \n",
       "391                      0.535404        0.282884    Gibson    Gibson   \n",
       "970                      1.000000        0.500000    Taylor    Taylor   \n",
       "683                      0.393748        0.500000     Jones     Jones   \n",
       "920                      1.000000        0.500000     Stone     Stone   \n",
       "137                      0.535404        0.859735     Smith     Smith   \n",
       "1449                     1.000000        0.500000      Lane      None   \n",
       "\n",
       "      gamma_surname  prob_gamma_surname_non_match  prob_gamma_surname_match  \\\n",
       "964               2                      0.716467                  0.548533   \n",
       "1286              2                      0.716467                  0.548533   \n",
       "751               2                      0.716467                  0.548533   \n",
       "1492              0                      0.283468                  0.387088   \n",
       "391               2                      0.716467                  0.548533   \n",
       "970               2                      0.716467                  0.548533   \n",
       "683               2                      0.716467                  0.548533   \n",
       "920               2                      0.716467                  0.548533   \n",
       "137               2                      0.716467                  0.548533   \n",
       "1449             -1                      1.000000                  1.000000   \n",
       "\n",
       "      surname_adj       dob_l       dob_r  gamma_dob  \\\n",
       "964      0.141649  1993-06-23  2005-06-01          0   \n",
       "1286     0.182251  1997-11-18  1983-08-03          0   \n",
       "751      0.999461  1996-09-09  1996-09-09          1   \n",
       "1492     0.500000  1992-10-16  1992-10-16          1   \n",
       "391      0.898810  1987-05-18  1987-08-21          1   \n",
       "970      0.141649  2017-11-24  2005-06-01          0   \n",
       "683      0.182251  2010-08-05  2004-01-25          0   \n",
       "920      0.988972  2011-11-26  2011-11-26          1   \n",
       "137      0.319330  2003-05-12  2003-05-12          1   \n",
       "1449     0.500000  2016-02-18  2016-02-18          1   \n",
       "\n",
       "      prob_gamma_dob_non_match  prob_gamma_dob_match        city_l  \\\n",
       "964                   0.963625              0.156275      Brighton   \n",
       "1286                  0.963625              0.156275        London   \n",
       "751                   0.036375              0.843725        London   \n",
       "1492                  0.036375              0.843725        London   \n",
       "391                   0.036375              0.843725        London   \n",
       "970                   0.963625              0.156275        London   \n",
       "683                   0.963625              0.156275    Sunderland   \n",
       "920                   0.036375              0.843725  Middbeslough   \n",
       "137                   0.036375              0.843725          None   \n",
       "1449                  0.036375              0.843725        London   \n",
       "\n",
       "          city_r  gamma_city  prob_gamma_city_non_match  \\\n",
       "964       London           0                   0.832317   \n",
       "1286  Manchester           0                   0.832317   \n",
       "751        Londo           1                   0.167683   \n",
       "1492      London           1                   0.167683   \n",
       "391       London           1                   0.167683   \n",
       "970       London           1                   0.167683   \n",
       "683     Brighton           0                   0.832317   \n",
       "920         None          -1                   1.000000   \n",
       "137   Sunderland          -1                   1.000000   \n",
       "1449      London           1                   0.167683   \n",
       "\n",
       "      prob_gamma_city_match                            email_l  \\\n",
       "964                0.225141  rhondawilliams@gonzalez-scott.com   \n",
       "1286               0.225141             tammy46@bailey-lee.net   \n",
       "751                0.774859              barbara84@robbins.biz   \n",
       "1492               0.774859                  orusso@hanmck.com   \n",
       "391                0.774859                 avazquez@banks.com   \n",
       "970                0.774859                  coltonray@lee.com   \n",
       "683                0.225141                    erin01@york.com   \n",
       "920                1.000000                  ppruitt@kirby.org   \n",
       "137                1.000000           barrerakevin@sherman.org   \n",
       "1449               0.774859               duanejames@reyes.net   \n",
       "\n",
       "                                 email_r  gamma_email  \\\n",
       "964   michellejackson@smith-trujillo.com            0   \n",
       "1286             smyers@andersen-lee.com            0   \n",
       "751                barbara84@robbins.biz            1   \n",
       "1492                  mrusso@hancock.com            0   \n",
       "391                   avazquez@banks.com            1   \n",
       "970   michellejackson@smith-trujillo.com            0   \n",
       "683                  samuel91@curry.info            0   \n",
       "920                    ppruitt@kirby.org            1   \n",
       "137             barrerakevin@sherman.org            1   \n",
       "1449                duanejames@reyes.net            1   \n",
       "\n",
       "      prob_gamma_email_non_match  prob_gamma_email_match  group_l  group_r  \n",
       "964                     0.991966                0.153135      129       88  \n",
       "1286                    0.991966                0.153135      177      151  \n",
       "751                     0.008034                0.846865       29       29  \n",
       "1492                    0.991966                0.153135       84       84  \n",
       "391                     0.008034                0.846865      107      107  \n",
       "970                     0.991966                0.153135       26       88  \n",
       "683                     0.991966                0.153135       14       19  \n",
       "920                     0.008034                0.846865       73       73  \n",
       "137                     0.008034                0.846865       39       39  \n",
       "1449                    0.008034                0.846865       59       59  "
      ]
     },
     "execution_count": 16,
     "metadata": {},
     "output_type": "execute_result"
    }
   ],
   "source": [
    "pdtf = df_e_adj.toPandas()\n",
    "sam = pdtf.sample(10)\n",
    "sam[[\"match_probability\", \"tf_adjusted_match_prob\"] + list(pdtf.columns)]"
   ]
  }
 ],
 "metadata": {
  "kernelspec": {
   "display_name": "Python 3",
   "language": "python",
   "name": "python3"
  },
  "language_info": {
   "codemirror_mode": {
    "name": "ipython",
    "version": 3
   },
   "file_extension": ".py",
   "mimetype": "text/x-python",
   "name": "python",
   "nbconvert_exporter": "python",
   "pygments_lexer": "ipython3",
   "version": "3.6.9"
  }
 },
 "nbformat": 4,
 "nbformat_minor": 4
}
