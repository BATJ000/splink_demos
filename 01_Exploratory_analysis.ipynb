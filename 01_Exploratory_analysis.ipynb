{
 "cells": [
  {
   "cell_type": "markdown",
   "id": "26e50a28",
   "metadata": {},
   "source": [
    "# Exploratory analysis\n",
    "\n",
    "The purpose of exploratory analysis to understand your data and any idiosyncacies which may be relevant to the task of data linking.\n",
    "\n",
    "Splink includes functionality to visualise and summarise your data, to identify charactersics most salient to data linking.\n",
    "\n",
    "In this notebook we perform some basic exploratory analysis, and interpret the results."
   ]
  },
  {
   "cell_type": "markdown",
   "id": "96a3d08d",
   "metadata": {},
   "source": [
    "### Read in the data\n",
    "\n",
    "For the purpose of this tutorial we will use a 1,000 row synthetic dataset that contains duplicates.\n",
    "\n",
    "The first five rows of this dataset are printed below.\n",
    "\n",
    "Note that the cluster column represents the 'ground truth' - a column which tells us with which rows refer to the same person. In most real linkage scenarios, we wouldn't have this column (this is what Splink is trying to estimate.)"
   ]
  },
  {
   "cell_type": "code",
   "execution_count": null,
   "id": "ffceed65",
   "metadata": {},
   "outputs": [],
   "source": [
    "\n",
    "import pandas as pd \n",
    "import altair as alt\n",
    "alt.renderers.enable('mimetype')\n",
    "\n",
    "df = pd.read_csv(\"./data/fake_1000.csv\")\n",
    "df.head(5)"
   ]
  },
  {
   "cell_type": "markdown",
   "id": "2d53e50b",
   "metadata": {},
   "source": [
    "### Instantiate the linker\n",
    "\n",
    "Most of Splink's core functionality can be accessed as methods on a linker object.  For example, to make predictions, you would call `linker.predict()`.\n",
    "\n",
    "We therefore begin by instantiating the linker, passing in the data we wish to deduplicate."
   ]
  },
  {
   "cell_type": "code",
   "execution_count": null,
   "id": "8a1aa029",
   "metadata": {},
   "outputs": [],
   "source": [
    "# Initialise the linker, passing in the input dataset(s)\n",
    "from splink.duckdb.duckdb_linker import DuckDBLinker\n",
    "linker = DuckDBLinker(df)"
   ]
  },
  {
   "cell_type": "markdown",
   "id": "3d982939",
   "metadata": {},
   "source": [
    "## Analyse missingness"
   ]
  },
  {
   "cell_type": "markdown",
   "id": "bfab11e8",
   "metadata": {},
   "source": [
    "It's important to understand the level of missingness in your data, because columns with higher levels of missingness are less useful for data linking."
   ]
  },
  {
   "cell_type": "code",
   "execution_count": null,
   "id": "6dae307c",
   "metadata": {},
   "outputs": [],
   "source": [
    "linker.missingness_chart()"
   ]
  },
  {
   "cell_type": "markdown",
   "id": "2c35a4e0",
   "metadata": {},
   "source": [
    "The above summary chart shows that in this dataset, the `email`, `city`, `surname` and `forename` columns contain nulls, but the level of missingness is relatively low (less than 22%)."
   ]
  },
  {
   "cell_type": "markdown",
   "id": "f11cc6b6",
   "metadata": {},
   "source": [
    "## Analyse the distribution of values in your data"
   ]
  },
  {
   "cell_type": "markdown",
   "id": "973cb505",
   "metadata": {},
   "source": [
    "The distribution of values in your data is important for two main reasons:\n",
    "\n",
    "1. Columns with higher cardinality (number of distinct values) are usually more useful for data linking.  For instance, date of birth is a much stronger linkage variable than gender.\n",
    "\n",
    "2. The skew of values is important.  If you have a `city` column that has 1,000 distinct values, but 75% of them are `London`, this is much less useful for linkage than if the 1,000 values were equally distributed\n",
    "\n",
    "The `linker.profile_columns()` method creates summary charts to help you understand these aspects of your data. \n",
    "\n",
    "You may input column names (e.g. `first_name`), or arbitrary sql expressions like `concat(first_name, surname)`"
   ]
  },
  {
   "cell_type": "code",
   "execution_count": null,
   "id": "897d183c",
   "metadata": {},
   "outputs": [],
   "source": [
    "linker.profile_columns([\"first_name\", \"city\", \"surname\", \"email\", \"substr(dob, 1,4)\"], top_n=10, bottom_n=5)"
   ]
  },
  {
   "cell_type": "markdown",
   "id": "6c5d3a2d",
   "metadata": {},
   "source": [
    "This chart is very information-dense, but here are some key takehomes relevant to our linkage:\n",
    "\n",
    "- There is strong skew in the `city` field with around 20% of the values being `London`.  We therefore will probably want to use `term_frequency_adjustments` in our linkage model, so that it can weight a match on London differently to a match on, say, `Norwich`.\n",
    "\n",
    "- Looking at the \"Bottom 5 values by value count\", we can see typos in the data in most fields.  This tells us this information was possibly entered by hand, or using Optical Character Recognition, giving us an insight into the type of data entry errors we may see\n",
    "\n",
    "- Email is a much more uniquely-identifying field that any others, with a maximum value count of 6.  It's likely to be a strong linking variable."
   ]
  },
  {
   "cell_type": "markdown",
   "id": "1f37cb1e",
   "metadata": {},
   "source": [
    "## Next steps\n",
    "\n",
    "At this point, we have begin to develop a strong understanding of our data.  It's time to move on to estimating a linkage model\n"
   ]
  },
  {
   "cell_type": "markdown",
   "id": "be935e71",
   "metadata": {},
   "source": []
  }
 ],
 "metadata": {
  "kernelspec": {
   "display_name": "Python 3.8.3 ('venv': venv)",
   "language": "python",
   "name": "python3"
  },
  "language_info": {
   "codemirror_mode": {
    "name": "ipython",
    "version": 3
   },
   "file_extension": ".py",
   "mimetype": "text/x-python",
   "name": "python",
   "nbconvert_exporter": "python",
   "pygments_lexer": "ipython3",
   "version": "3.8.3"
  },
  "vscode": {
   "interpreter": {
    "hash": "3b53fa520a31e303a9636a08ff10a3bbc14893ee50cb37445791fa59628fc75b"
   }
  }
 },
 "nbformat": 4,
 "nbformat_minor": 5
}
