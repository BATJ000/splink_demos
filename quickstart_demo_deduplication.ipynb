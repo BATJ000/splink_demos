{
 "cells": [
  {
   "cell_type": "markdown",
   "metadata": {},
   "source": [
    "## Quickstart deduplication demo\n",
    "\n",
    "In this demo we de-duplicate a small dataset.\n",
    "\n",
    "The purpose is to demonstrate core Splink functionality as succinctly as possible."
   ]
  },
  {
   "cell_type": "markdown",
   "metadata": {},
   "source": [
    "## Step 1: Imports and setup\n",
    "The following is just boilerplate code that imports some basic packages and set our logging level."
   ]
  },
  {
   "cell_type": "code",
   "execution_count": 8,
   "metadata": {},
   "outputs": [
    {
     "data": {
      "text/plain": [
       "RendererRegistry.enable('mimetype')"
      ]
     },
     "execution_count": 8,
     "metadata": {},
     "output_type": "execute_result"
    }
   ],
   "source": [
    "import altair as alt\n",
    "import pandas as pd\n",
    "\n",
    "pd.options.display.max_columns = 500\n",
    "alt.renderers.enable(\"mimetype\")"
   ]
  },
  {
   "cell_type": "code",
   "execution_count": 9,
   "metadata": {},
   "outputs": [],
   "source": [
    "import logging \n",
    "logging.basicConfig()  # Means logs will print in Jupyter Lab\n",
    "\n",
    "# Set to DEBUG if you want splink to log the SQL statements it's executing under the hood\n",
    "logging.getLogger(\"splink\").setLevel(logging.INFO)"
   ]
  },
  {
   "cell_type": "markdown",
   "metadata": {},
   "source": [
    "## Step 2: Read in data\n",
    "Note that the `group` column is the truth - rows which share the same value refer to the same person. In the real world, we wouldn't have this field because this is the truth - the label which Splink is trying to estimate."
   ]
  },
  {
   "cell_type": "code",
   "execution_count": 10,
   "metadata": {},
   "outputs": [
    {
     "data": {
      "text/html": [
       "<div>\n",
       "<style scoped>\n",
       "    .dataframe tbody tr th:only-of-type {\n",
       "        vertical-align: middle;\n",
       "    }\n",
       "\n",
       "    .dataframe tbody tr th {\n",
       "        vertical-align: top;\n",
       "    }\n",
       "\n",
       "    .dataframe thead th {\n",
       "        text-align: right;\n",
       "    }\n",
       "</style>\n",
       "<table border=\"1\" class=\"dataframe\">\n",
       "  <thead>\n",
       "    <tr style=\"text-align: right;\">\n",
       "      <th></th>\n",
       "      <th>unique_id</th>\n",
       "      <th>first_name</th>\n",
       "      <th>surname</th>\n",
       "      <th>dob</th>\n",
       "      <th>city</th>\n",
       "      <th>email</th>\n",
       "      <th>group</th>\n",
       "    </tr>\n",
       "  </thead>\n",
       "  <tbody>\n",
       "    <tr>\n",
       "      <th>0</th>\n",
       "      <td>0</td>\n",
       "      <td>Robert</td>\n",
       "      <td>Alan</td>\n",
       "      <td>1971-06-24</td>\n",
       "      <td>NaN</td>\n",
       "      <td>robert255@smith.net</td>\n",
       "      <td>0</td>\n",
       "    </tr>\n",
       "    <tr>\n",
       "      <th>1</th>\n",
       "      <td>1</td>\n",
       "      <td>Robert</td>\n",
       "      <td>Allen</td>\n",
       "      <td>1971-05-24</td>\n",
       "      <td>NaN</td>\n",
       "      <td>roberta25@smith.net</td>\n",
       "      <td>0</td>\n",
       "    </tr>\n",
       "    <tr>\n",
       "      <th>2</th>\n",
       "      <td>2</td>\n",
       "      <td>Rob</td>\n",
       "      <td>Allen</td>\n",
       "      <td>1971-06-24</td>\n",
       "      <td>London</td>\n",
       "      <td>roberta25@smith.net</td>\n",
       "      <td>0</td>\n",
       "    </tr>\n",
       "    <tr>\n",
       "      <th>3</th>\n",
       "      <td>3</td>\n",
       "      <td>Robert</td>\n",
       "      <td>Alen</td>\n",
       "      <td>1971-06-24</td>\n",
       "      <td>Lonon</td>\n",
       "      <td>NaN</td>\n",
       "      <td>0</td>\n",
       "    </tr>\n",
       "    <tr>\n",
       "      <th>4</th>\n",
       "      <td>4</td>\n",
       "      <td>Grace</td>\n",
       "      <td>NaN</td>\n",
       "      <td>1997-04-26</td>\n",
       "      <td>Hull</td>\n",
       "      <td>grace.kelly52@jones.com</td>\n",
       "      <td>1</td>\n",
       "    </tr>\n",
       "  </tbody>\n",
       "</table>\n",
       "</div>"
      ],
      "text/plain": [
       "   unique_id first_name surname         dob    city                    email  \\\n",
       "0          0     Robert    Alan  1971-06-24     NaN      robert255@smith.net   \n",
       "1          1     Robert   Allen  1971-05-24     NaN      roberta25@smith.net   \n",
       "2          2        Rob   Allen  1971-06-24  London      roberta25@smith.net   \n",
       "3          3     Robert    Alen  1971-06-24   Lonon                      NaN   \n",
       "4          4      Grace     NaN  1997-04-26    Hull  grace.kelly52@jones.com   \n",
       "\n",
       "   group  \n",
       "0      0  \n",
       "1      0  \n",
       "2      0  \n",
       "3      0  \n",
       "4      1  "
      ]
     },
     "execution_count": 10,
     "metadata": {},
     "output_type": "execute_result"
    }
   ],
   "source": [
    "df = pd.read_csv(\"data/fake_1000.csv\")\n",
    "df.head(5)"
   ]
  },
  {
   "cell_type": "markdown",
   "metadata": {},
   "source": [
    "## Step 3: Configure `settings objects` to input into our main splink `settings` object\n",
    "\n",
    "`splink3` offers two different ways for users to approach creating their `settings` object:\n",
    "1. Construct a specific settings object manually (such as `comparions_exact_email` below). This offers more control to the user, at the expense of adding additional layers to the code base.\n",
    "2. Use a predefined settings object which can be imported from `splink.comparison_library`.\n",
    "\n",
    "Examples of both approaches are outlined below."
   ]
  },
  {
   "cell_type": "code",
   "execution_count": 11,
   "metadata": {},
   "outputs": [],
   "source": [
    "from splink.comparison_library import exact_match, levenshtein\n",
    "levenshtein_first_name = levenshtein(\"first_name\", distance_threshold=2, term_frequency_adjustments=True)\n",
    "comparions_exact_dob = exact_match(\"dob\")\n",
    "comparions_exact_city = exact_match(\"city\")\n",
    "\n",
    "# And a manual version. This is identical to: exact_match(\"email\")\n",
    "# Initial m values need to be defined and additional comparison levels (see waterfall chart) can be added depending on the needs of the user\n",
    "comparions_exact_email = {\n",
    "    \"column_name\": \"email\",\n",
    "    \"comparison_levels\": [\n",
    "        {\n",
    "            \"sql_condition\": \"email_l IS NULL OR email_r IS NULL\",\n",
    "            \"label_for_charts\": \"Comparison includes null\",\n",
    "            \"is_null_level\": True,\n",
    "        },\n",
    "        {\n",
    "            \"sql_condition\": \"email_l = email_r\",\n",
    "            \"label_for_charts\": \"Exact match\",\n",
    "            \"m_probability\": 0.9,\n",
    "        },\n",
    "        {\n",
    "            \"sql_condition\": \"ELSE\",\n",
    "            \"label_for_charts\": \"All other comparisons\",\n",
    "            \"m_probability\": 0.1,\n",
    "        },\n",
    "    ],\n",
    "}\n"
   ]
  },
  {
   "cell_type": "code",
   "execution_count": 15,
   "metadata": {},
   "outputs": [],
   "source": [
    "# Combine our individual settings objects into our settings\n",
    "settings = {\n",
    "    \"proportion_of_matches\": 0.01,\n",
    "    \"link_type\": \"dedupe_only\",\n",
    "    \"blocking_rules_to_generate_predictions\": [\n",
    "        \"l.surname = r.surname\"\n",
    "    ],\n",
    "    \"comparisons\": [\n",
    "        levenshtein_first_name,\n",
    "        comparions_exact_dob,\n",
    "        comparions_exact_email,\n",
    "        comparions_exact_city,\n",
    "    ],\n",
    "    \"retain_matching_columns\": True,\n",
    "    \"retain_intermediate_calculation_columns\": True,\n",
    "    \"additional_columns_to_retain\": [\"group\"],\n",
    "    \"max_iterations\": 4,\n",
    "}"
   ]
  },
  {
   "cell_type": "markdown",
   "metadata": {},
   "source": [
    "In words, this setting dictionary says:\n",
    "\n",
    "* We are performing a deduplication task (the other options are link_only, or link_and_dedupe)\n",
    "* The blocking rule states that we will only check for duplicates where the surnames are identical.\n",
    "* When comparing records, we will use information from the first_name, dob, city and email columns to compute a match score.\n",
    "* For first_name string comparisons will have three levels:\n",
    "* * Level 2: Strings are exactly the same\n",
    "* * Level 1: Strings are similar (levenshtein distance of 2 above)\n",
    "* * Level 0: No match\n",
    "* We will make adjustments for term frequencies on the first_name columns\n",
    "* We will retain the group column in the results even though this is not used as part of comparisons. This is a labelled dataset and group contains the true match - i.e. where group matches, the records pertain to the same person\n",
    "* Will will consider the algorithm to have converged when no parameter changes by more than 0.01 between iterations or four iterations. (Generally we would allow more than four, but this makes the demo run more quickly).\n",
    "\n",
    "Other variables:\n",
    "\n",
    "> `retain_matching_columns` - specify whether you want to keep the comparison values for each column. If you see Step 7, you'll notice we are requesting `_l` and `_r` versions of data, which represent the two names being compared.\n",
    "\n",
    "> `retain_intermediate_calculation_columns` - <notes>\n",
    "\n",
    "> `additional_columns_to_retain` - <notes>\n",
    "\n",
    "> `max_iterations` - "
   ]
  },
  {
   "cell_type": "markdown",
   "metadata": {},
   "source": [
    "## Step 5: Select your SQL engine\n",
    "\n",
    "With `splink3`, you now have the option to choose the specific SQL backend you'd like to run your linking job. \n",
    "\n",
    "As of the current version of splink, we offer three different options for linkers:\n",
    "> `duckdb` with: `from splink.duckdb.duckdb_linker import DuckDBInMemoryLinker`\n",
    "\n",
    "> `SQLite` with: `from splink.sqlite.sqlite_linker import SQLiteLinker`\n",
    "\n",
    "> `spark` with: `from splink.spark.spark_linker import SparkLinker`\n",
    "\n",
    "While `duckdb` is now the default recommendation, you are free to choose whichever linker best suits your setup.\n",
    "\n",
    "## Step 6: Using your selected linker, estimate match scores using the Expectation Maximisation algorithm and predict to get our final output\n",
    "\n",
    "This is equivalent to running `linker.get_scored_comparisons()` from within `splink2`."
   ]
  },
  {
   "cell_type": "code",
   "execution_count": 17,
   "metadata": {},
   "outputs": [
    {
     "name": "stdout",
     "output_type": "stream",
     "text": [
      "Iteration 0: Largest change in params was -0.324 in the m_probability of dob, level `exact_match`\n",
      "Iteration 1: Largest change in params was 0.119 in proportion_of_matches\n",
      "Iteration 2: Largest change in params was 0.0566 in proportion_of_matches\n",
      "Iteration 3: Largest change in params was 0.0315 in proportion_of_matches\n",
      "EM converged after 3 iterations\n",
      "Proportion of matches not fully trained, current estimates are [0.04992851502119216]\n"
     ]
    }
   ],
   "source": [
    "from splink.duckdb.duckdb_linker import DuckDBInMemoryLinker\n",
    "\n",
    "linker = DuckDBInMemoryLinker(settings, input_tables = {\"fake_1000\": df})\n",
    "linker.train_u_using_random_sampling(target_rows=1e6)\n",
    "blocking_rule = \"l.first_name = r.first_name and l.surname = r.surname\"\n",
    "linker.train_m_using_expectation_maximisation(blocking_rule)\n",
    "df_e = linker.predict()"
   ]
  },
  {
   "cell_type": "markdown",
   "metadata": {},
   "source": [
    "## Step 7: Inspect results"
   ]
  },
  {
   "cell_type": "code",
   "execution_count": 18,
   "metadata": {},
   "outputs": [
    {
     "data": {
      "text/html": [
       "<div>\n",
       "<style scoped>\n",
       "    .dataframe tbody tr th:only-of-type {\n",
       "        vertical-align: middle;\n",
       "    }\n",
       "\n",
       "    .dataframe tbody tr th {\n",
       "        vertical-align: top;\n",
       "    }\n",
       "\n",
       "    .dataframe thead th {\n",
       "        text-align: right;\n",
       "    }\n",
       "</style>\n",
       "<table border=\"1\" class=\"dataframe\">\n",
       "  <thead>\n",
       "    <tr style=\"text-align: right;\">\n",
       "      <th></th>\n",
       "      <th>match_probability</th>\n",
       "      <th>match_weight</th>\n",
       "      <th>unique_id_l</th>\n",
       "      <th>unique_id_r</th>\n",
       "      <th>group_l</th>\n",
       "      <th>group_r</th>\n",
       "      <th>first_name_l</th>\n",
       "      <th>first_name_r</th>\n",
       "      <th>dob_l</th>\n",
       "      <th>dob_r</th>\n",
       "      <th>city_l</th>\n",
       "      <th>city_r</th>\n",
       "      <th>email_l</th>\n",
       "      <th>email_r</th>\n",
       "    </tr>\n",
       "  </thead>\n",
       "  <tbody>\n",
       "    <tr>\n",
       "      <th>0</th>\n",
       "      <td>0.462605</td>\n",
       "      <td>-0.216200</td>\n",
       "      <td>1</td>\n",
       "      <td>2</td>\n",
       "      <td>0</td>\n",
       "      <td>0</td>\n",
       "      <td>Robert</td>\n",
       "      <td>Rob</td>\n",
       "      <td>1971-05-24</td>\n",
       "      <td>1971-06-24</td>\n",
       "      <td>NaN</td>\n",
       "      <td>London</td>\n",
       "      <td>roberta25@smith.net</td>\n",
       "      <td>roberta25@smith.net</td>\n",
       "    </tr>\n",
       "    <tr>\n",
       "      <th>1</th>\n",
       "      <td>0.001091</td>\n",
       "      <td>-9.838068</td>\n",
       "      <td>5</td>\n",
       "      <td>150</td>\n",
       "      <td>1</td>\n",
       "      <td>40</td>\n",
       "      <td>Grace</td>\n",
       "      <td>Alfie</td>\n",
       "      <td>1991-04-26</td>\n",
       "      <td>2020-09-05</td>\n",
       "      <td>NaN</td>\n",
       "      <td>Birminmhag</td>\n",
       "      <td>grace.kelly52@jones.com</td>\n",
       "      <td>alfiekelly@walters.com</td>\n",
       "    </tr>\n",
       "    <tr>\n",
       "      <th>790</th>\n",
       "      <td>0.930197</td>\n",
       "      <td>3.736171</td>\n",
       "      <td>8</td>\n",
       "      <td>9</td>\n",
       "      <td>3</td>\n",
       "      <td>3</td>\n",
       "      <td>NaN</td>\n",
       "      <td>Evie</td>\n",
       "      <td>2015-03-03</td>\n",
       "      <td>2015-03-03</td>\n",
       "      <td>NaN</td>\n",
       "      <td>Pootsmruth</td>\n",
       "      <td>NaN</td>\n",
       "      <td>evihd56@earris-bailey.net</td>\n",
       "    </tr>\n",
       "    <tr>\n",
       "      <th>296</th>\n",
       "      <td>0.930197</td>\n",
       "      <td>3.736171</td>\n",
       "      <td>8</td>\n",
       "      <td>10</td>\n",
       "      <td>3</td>\n",
       "      <td>3</td>\n",
       "      <td>NaN</td>\n",
       "      <td>NaN</td>\n",
       "      <td>2015-03-03</td>\n",
       "      <td>2015-03-03</td>\n",
       "      <td>NaN</td>\n",
       "      <td>Portsmouth</td>\n",
       "      <td>NaN</td>\n",
       "      <td>evied56@harris-bailey.net</td>\n",
       "    </tr>\n",
       "    <tr>\n",
       "      <th>2</th>\n",
       "      <td>0.655703</td>\n",
       "      <td>0.929386</td>\n",
       "      <td>9</td>\n",
       "      <td>10</td>\n",
       "      <td>3</td>\n",
       "      <td>3</td>\n",
       "      <td>Evie</td>\n",
       "      <td>NaN</td>\n",
       "      <td>2015-03-03</td>\n",
       "      <td>2015-03-03</td>\n",
       "      <td>Pootsmruth</td>\n",
       "      <td>Portsmouth</td>\n",
       "      <td>evihd56@earris-bailey.net</td>\n",
       "      <td>evied56@harris-bailey.net</td>\n",
       "    </tr>\n",
       "  </tbody>\n",
       "</table>\n",
       "</div>"
      ],
      "text/plain": [
       "     match_probability  match_weight  unique_id_l  unique_id_r  group_l  \\\n",
       "0             0.462605     -0.216200            1            2        0   \n",
       "1             0.001091     -9.838068            5          150        1   \n",
       "790           0.930197      3.736171            8            9        3   \n",
       "296           0.930197      3.736171            8           10        3   \n",
       "2             0.655703      0.929386            9           10        3   \n",
       "\n",
       "     group_r first_name_l first_name_r       dob_l       dob_r      city_l  \\\n",
       "0          0       Robert          Rob  1971-05-24  1971-06-24         NaN   \n",
       "1         40        Grace        Alfie  1991-04-26  2020-09-05         NaN   \n",
       "790        3          NaN         Evie  2015-03-03  2015-03-03         NaN   \n",
       "296        3          NaN          NaN  2015-03-03  2015-03-03         NaN   \n",
       "2          3         Evie          NaN  2015-03-03  2015-03-03  Pootsmruth   \n",
       "\n",
       "         city_r                    email_l                    email_r  \n",
       "0        London        roberta25@smith.net        roberta25@smith.net  \n",
       "1    Birminmhag    grace.kelly52@jones.com     alfiekelly@walters.com  \n",
       "790  Pootsmruth                        NaN  evihd56@earris-bailey.net  \n",
       "296  Portsmouth                        NaN  evied56@harris-bailey.net  \n",
       "2    Portsmouth  evihd56@earris-bailey.net  evied56@harris-bailey.net  "
      ]
     },
     "execution_count": 18,
     "metadata": {},
     "output_type": "execute_result"
    }
   ],
   "source": [
    "cols_to_inspect = [\"match_probability\", \"match_weight\", \"unique_id_l\", \"unique_id_r\", \"group_l\", \"group_r\", \"first_name_l\", \"first_name_r\", \"dob_l\", \"dob_r\", \"city_l\", \"city_r\", \"email_l\", \"email_r\"]\n",
    "\n",
    "df_e[cols_to_inspect].sort_values([\"unique_id_l\", \"unique_id_r\"]).head(5)"
   ]
  },
  {
   "cell_type": "markdown",
   "metadata": {},
   "source": [
    "===== Waterfall chart when integrated ====="
   ]
  }
 ],
 "metadata": {
  "interpreter": {
   "hash": "64f0b636ddc94cefc0f84a710cbf92dfc85efc2295bcb67f0639c8415892996c"
  },
  "kernelspec": {
   "display_name": "Python 3.8.9 ('venv': venv)",
   "language": "python",
   "name": "python3"
  },
  "language_info": {
   "codemirror_mode": {
    "name": "ipython",
    "version": 3
   },
   "file_extension": ".py",
   "mimetype": "text/x-python",
   "name": "python",
   "nbconvert_exporter": "python",
   "pygments_lexer": "ipython3",
   "version": "3.8.9"
  },
  "orig_nbformat": 4
 },
 "nbformat": 4,
 "nbformat_minor": 2
}
