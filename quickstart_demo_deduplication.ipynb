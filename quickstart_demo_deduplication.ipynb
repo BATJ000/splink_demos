{
 "cells": [
  {
   "cell_type": "markdown",
   "metadata": {},
   "source": [
    "## Splink deduplication demo \n",
    "\n",
    "In this demo we de-duplicate a small dataset.\n",
    "\n",
    "The purpose is to provide an end-to-end example of how to use the package\n",
    "\n",
    "I print the output at each stage using `spark_dataframe.show()`.  This is for instructional purposes only - it degrades performance and shouldn't be used in a production setting."
   ]
  },
  {
   "cell_type": "markdown",
   "metadata": {},
   "source": [
    "## Step 1:  Imports and setup\n",
    "\n",
    "The following is just boilerplate code that sets up the Spark session and sets some other non-essential configuration options"
   ]
  },
  {
   "cell_type": "code",
   "execution_count": 1,
   "metadata": {},
   "outputs": [],
   "source": [
    "import pandas as pd \n",
    "pd.options.display.max_columns = 500\n",
    "pd.options.display.max_rows = 100"
   ]
  },
  {
   "cell_type": "code",
   "execution_count": 2,
   "metadata": {},
   "outputs": [],
   "source": [
    "import logging \n",
    "logging.basicConfig()  # Means logs will print in Jupyter Lab\n",
    "\n",
    "# Set to DEBUG if you want splink to log the SQL statements it's executing under the hood\n",
    "logging.getLogger(\"splink\").setLevel(logging.INFO)"
   ]
  },
  {
   "cell_type": "code",
   "execution_count": 3,
   "metadata": {},
   "outputs": [],
   "source": [
    "from pyspark.context import SparkContext, SparkConf\n",
    "from pyspark.sql import SparkSession, Window\n",
    "from pyspark.sql.types import StructType\n",
    "import pyspark.sql.functions as f\n",
    "\n",
    "conf=SparkConf()\n",
    "\n",
    "# Load in a jar that provides extended string comparison functions such as Jaro Winkler.\n",
    "# Splink \n",
    "conf.set('spark.driver.extraClassPath', 'jars/scala-udf-similarity-0.0.6.jar')\n",
    "conf.set('spark.jars', 'jars/scala-udf-similarity-0.0.6.jar')   \n",
    "\n",
    "\n",
    "# WARNING:\n",
    "# These config options are appropriate only if you're running Spark locally!!!\n",
    "conf.set('spark.driver.memory', '4g')\n",
    "conf.set(\"spark.sql.shuffle.partitions\", \"8\") \n",
    "\n",
    "sc = SparkContext.getOrCreate(conf=conf)\n",
    "\n",
    "spark = SparkSession(sc)\n",
    "\n",
    " # Register UDFs\n",
    "from pyspark.sql import types\n",
    "spark.udf.registerJavaFunction('jaro_winkler_sim', 'uk.gov.moj.dash.linkage.JaroWinklerSimilarity', types.DoubleType())\n",
    "spark.udf.registerJavaFunction('Dmetaphone', 'uk.gov.moj.dash.linkage.DoubleMetaphone', types.StringType())"
   ]
  },
  {
   "cell_type": "markdown",
   "metadata": {},
   "source": [
    "## Step 2:  Read in data"
   ]
  },
  {
   "cell_type": "code",
   "execution_count": 4,
   "metadata": {},
   "outputs": [
    {
     "name": "stdout",
     "output_type": "stream",
     "text": [
      "+---------+----------+-------+----------+------+--------------------+-----+\n",
      "|unique_id|first_name|surname|       dob|  city|               email|group|\n",
      "+---------+----------+-------+----------+------+--------------------+-----+\n",
      "|        0|    Julia |   null|2015-10-29|London| hannah88@powers.com|    0|\n",
      "|        1|    Julia | Taylor|2015-07-31|London| hannah88@powers.com|    0|\n",
      "|        2|    Julia | Taylor|2016-01-27|London| hannah88@powers.com|    0|\n",
      "|        3|    Julia | Taylor|2015-10-29|  null|  hannah88opowersc@m|    0|\n",
      "|        4|      oNah| Watson|2008-03-23|Bolton|matthew78@ballard...|    1|\n",
      "+---------+----------+-------+----------+------+--------------------+-----+\n",
      "only showing top 5 rows\n",
      "\n"
     ]
    }
   ],
   "source": [
    "df = spark.read.parquet(\"data/fake_1000.parquet\")\n",
    "df.show(5)"
   ]
  },
  {
   "cell_type": "markdown",
   "metadata": {},
   "source": [
    "## Step 3:  Configure splink using the `settings` object\n",
    "\n",
    "Most of `splink` configuration options are stored in a settings dictionary.  This dictionary allows significant customisation, and can therefore get quite complex.  \n",
    "\n",
    "💥 We provide an tool for helping to author valid settings dictionaries, which includes tooltips and autocomplete, which you can find [here](https://robinlinacre.com/simple_sparklink_settings_editor/).\n",
    "\n",
    "Customisation overrides default values built into splink.  For the purposes of this demo, we will specify a simple settings dictionary, which means we will be relying on these sensible defaults.\n",
    "\n",
    "To help with authoring and validation of the settings dictionary, we have written a [json schema](https://json-schema.org/), which can be found [here](https://github.com/moj-analytical-services/splink/blob/dev/splink/files/settings_jsonschema.json).  \n",
    "\n",
    "\n"
   ]
  },
  {
   "cell_type": "code",
   "execution_count": 5,
   "metadata": {},
   "outputs": [],
   "source": [
    "settings = {\n",
    "    \"link_type\": \"dedupe_only\",\n",
    "    \"blocking_rules\": [\n",
    "        \"l.first_name = r.first_name\",\n",
    "        \"l.surname = r.surname\",\n",
    "        \"l.dob = r.dob\"\n",
    "    ],\n",
    "    \"comparison_columns\": [\n",
    "        {\n",
    "            \"col_name\": \"first_name\",\n",
    "            \"num_levels\": 3,\n",
    "            \"term_frequency_adjustments\": True\n",
    "        },\n",
    "        {\n",
    "            \"col_name\": \"surname\",\n",
    "            \"num_levels\": 3,\n",
    "            \"term_frequency_adjustments\": True\n",
    "        },\n",
    "        {\n",
    "            \"col_name\": \"dob\"\n",
    "        },\n",
    "        {\n",
    "            \"col_name\": \"city\"\n",
    "        },\n",
    "        {\n",
    "            \"col_name\": \"email\"\n",
    "        }\n",
    "    ],\n",
    "    \"additional_columns_to_retain\": [\"group\"]\n",
    "}"
   ]
  },
  {
   "cell_type": "markdown",
   "metadata": {},
   "source": [
    "In words, this setting dictionary says:\n",
    "- We are performing a deduplication task (the other options are `link_only`, or `link_and_dedupe`)\n",
    "- We are going generate comparisons subject to the blocking rules contained in the specified array\n",
    "- When comparing records, we will use information from the `first_name`, `surname`, `dob`, `city` and `email` columns to compute a match score.\n",
    "- For `first_name` and `surname`, string comparisons will have three levels:\n",
    "    - Level 2: Strings are (almost) exactly the same\n",
    "    - Level 1: Strings are similar \n",
    "    - Level 0: No match"
   ]
  },
  {
   "cell_type": "markdown",
   "metadata": {},
   "source": [
    "## Step 4:  Estimate match scores using the Expectation Maximisation algorithm\n",
    "Columns are assumed to be strings by default.  See the 'comparison vector settings' notebook for details of configuration options."
   ]
  },
  {
   "cell_type": "code",
   "execution_count": 6,
   "metadata": {},
   "outputs": [
    {
     "name": "stderr",
     "output_type": "stream",
     "text": [
      "INFO:splink.iterate:Iteration 0 complete\n",
      "INFO:splink.iterate:Iteration 1 complete\n",
      "INFO:splink.iterate:Iteration 2 complete\n",
      "INFO:splink.iterate:Iteration 3 complete\n",
      "INFO:splink.iterate:Iteration 4 complete\n",
      "INFO:splink.iterate:Iteration 5 complete\n",
      "INFO:splink.iterate:Iteration 6 complete\n",
      "INFO:splink.iterate:Iteration 7 complete\n",
      "INFO:splink.iterate:Iteration 8 complete\n",
      "INFO:splink.iterate:Iteration 9 complete\n"
     ]
    },
    {
     "data": {
      "text/plain": [
       "DataFrame[match_probability: double, unique_id_l: bigint, unique_id_r: bigint, first_name_l: string, first_name_r: string, gamma_first_name: int, prob_gamma_first_name_non_match: double, prob_gamma_first_name_match: double, surname_l: string, surname_r: string, gamma_surname: int, prob_gamma_surname_non_match: double, prob_gamma_surname_match: double, dob_l: string, dob_r: string, gamma_dob: int, prob_gamma_dob_non_match: double, prob_gamma_dob_match: double, city_l: string, city_r: string, gamma_city: int, prob_gamma_city_non_match: double, prob_gamma_city_match: double, email_l: string, email_r: string, gamma_email: int, prob_gamma_email_non_match: double, prob_gamma_email_match: double, group_l: bigint, group_r: bigint]"
      ]
     },
     "execution_count": 6,
     "metadata": {},
     "output_type": "execute_result"
    }
   ],
   "source": [
    "from splink import Splink\n",
    "\n",
    "linker = Splink(settings, spark, df=df)\n",
    "df_e = linker.get_scored_comparisons()\n",
    "df_e.persist()  # Later, we will make term frequency adjustments.  Persist caches these results in memory, preventing them having to be recomputed when we make these adjustments."
   ]
  },
  {
   "cell_type": "markdown",
   "metadata": {},
   "source": [
    "## Step 5: Inspect results \n",
    "\n"
   ]
  },
  {
   "cell_type": "code",
   "execution_count": 14,
   "metadata": {},
   "outputs": [
    {
     "data": {
      "text/html": [
       "<div>\n",
       "<style scoped>\n",
       "    .dataframe tbody tr th:only-of-type {\n",
       "        vertical-align: middle;\n",
       "    }\n",
       "\n",
       "    .dataframe tbody tr th {\n",
       "        vertical-align: top;\n",
       "    }\n",
       "\n",
       "    .dataframe thead th {\n",
       "        text-align: right;\n",
       "    }\n",
       "</style>\n",
       "<table border=\"1\" class=\"dataframe\">\n",
       "  <thead>\n",
       "    <tr style=\"text-align: right;\">\n",
       "      <th></th>\n",
       "      <th>match_probability</th>\n",
       "      <th>unique_id_l</th>\n",
       "      <th>unique_id_r</th>\n",
       "      <th>group_l</th>\n",
       "      <th>group_r</th>\n",
       "      <th>first_name_l</th>\n",
       "      <th>first_name_r</th>\n",
       "      <th>surname_l</th>\n",
       "      <th>surname_r</th>\n",
       "      <th>dob_l</th>\n",
       "      <th>dob_r</th>\n",
       "      <th>city_l</th>\n",
       "      <th>city_r</th>\n",
       "      <th>email_l</th>\n",
       "      <th>email_r</th>\n",
       "    </tr>\n",
       "  </thead>\n",
       "  <tbody>\n",
       "    <tr>\n",
       "      <td>2</td>\n",
       "      <td>0.997613</td>\n",
       "      <td>0</td>\n",
       "      <td>1</td>\n",
       "      <td>0</td>\n",
       "      <td>0</td>\n",
       "      <td>Julia</td>\n",
       "      <td>Julia</td>\n",
       "      <td>None</td>\n",
       "      <td>Taylor</td>\n",
       "      <td>2015-10-29</td>\n",
       "      <td>2015-07-31</td>\n",
       "      <td>London</td>\n",
       "      <td>London</td>\n",
       "      <td>hannah88@powers.com</td>\n",
       "      <td>hannah88@powers.com</td>\n",
       "    </tr>\n",
       "    <tr>\n",
       "      <td>1</td>\n",
       "      <td>0.997613</td>\n",
       "      <td>0</td>\n",
       "      <td>2</td>\n",
       "      <td>0</td>\n",
       "      <td>0</td>\n",
       "      <td>Julia</td>\n",
       "      <td>Julia</td>\n",
       "      <td>None</td>\n",
       "      <td>Taylor</td>\n",
       "      <td>2015-10-29</td>\n",
       "      <td>2016-01-27</td>\n",
       "      <td>London</td>\n",
       "      <td>London</td>\n",
       "      <td>hannah88@powers.com</td>\n",
       "      <td>hannah88@powers.com</td>\n",
       "    </tr>\n",
       "    <tr>\n",
       "      <td>0</td>\n",
       "      <td>0.999962</td>\n",
       "      <td>0</td>\n",
       "      <td>3</td>\n",
       "      <td>0</td>\n",
       "      <td>0</td>\n",
       "      <td>Julia</td>\n",
       "      <td>Julia</td>\n",
       "      <td>None</td>\n",
       "      <td>Taylor</td>\n",
       "      <td>2015-10-29</td>\n",
       "      <td>2015-10-29</td>\n",
       "      <td>London</td>\n",
       "      <td>None</td>\n",
       "      <td>hannah88@powers.com</td>\n",
       "      <td>hannah88opowersc@m</td>\n",
       "    </tr>\n",
       "    <tr>\n",
       "      <td>4</td>\n",
       "      <td>0.997146</td>\n",
       "      <td>1</td>\n",
       "      <td>2</td>\n",
       "      <td>0</td>\n",
       "      <td>0</td>\n",
       "      <td>Julia</td>\n",
       "      <td>Julia</td>\n",
       "      <td>Taylor</td>\n",
       "      <td>Taylor</td>\n",
       "      <td>2015-07-31</td>\n",
       "      <td>2016-01-27</td>\n",
       "      <td>London</td>\n",
       "      <td>London</td>\n",
       "      <td>hannah88@powers.com</td>\n",
       "      <td>hannah88@powers.com</td>\n",
       "    </tr>\n",
       "    <tr>\n",
       "      <td>3</td>\n",
       "      <td>0.984606</td>\n",
       "      <td>1</td>\n",
       "      <td>3</td>\n",
       "      <td>0</td>\n",
       "      <td>0</td>\n",
       "      <td>Julia</td>\n",
       "      <td>Julia</td>\n",
       "      <td>Taylor</td>\n",
       "      <td>Taylor</td>\n",
       "      <td>2015-07-31</td>\n",
       "      <td>2015-10-29</td>\n",
       "      <td>London</td>\n",
       "      <td>None</td>\n",
       "      <td>hannah88@powers.com</td>\n",
       "      <td>hannah88opowersc@m</td>\n",
       "    </tr>\n",
       "    <tr>\n",
       "      <td>2290</td>\n",
       "      <td>0.036772</td>\n",
       "      <td>1</td>\n",
       "      <td>89</td>\n",
       "      <td>0</td>\n",
       "      <td>18</td>\n",
       "      <td>Julia</td>\n",
       "      <td>Chirla</td>\n",
       "      <td>Taylor</td>\n",
       "      <td>Taylor</td>\n",
       "      <td>2015-07-31</td>\n",
       "      <td>2006-06-28</td>\n",
       "      <td>London</td>\n",
       "      <td>London</td>\n",
       "      <td>hannah88@powers.com</td>\n",
       "      <td>mbrooks@booker.com</td>\n",
       "    </tr>\n",
       "    <tr>\n",
       "      <td>2289</td>\n",
       "      <td>0.036772</td>\n",
       "      <td>1</td>\n",
       "      <td>142</td>\n",
       "      <td>0</td>\n",
       "      <td>26</td>\n",
       "      <td>Julia</td>\n",
       "      <td>Harry</td>\n",
       "      <td>Taylor</td>\n",
       "      <td>Taylor</td>\n",
       "      <td>2015-07-31</td>\n",
       "      <td>2017-11-24</td>\n",
       "      <td>London</td>\n",
       "      <td>London</td>\n",
       "      <td>hannah88@powers.com</td>\n",
       "      <td>coltonray@lee.com</td>\n",
       "    </tr>\n",
       "    <tr>\n",
       "      <td>2288</td>\n",
       "      <td>0.036772</td>\n",
       "      <td>1</td>\n",
       "      <td>148</td>\n",
       "      <td>0</td>\n",
       "      <td>26</td>\n",
       "      <td>Julia</td>\n",
       "      <td>Harry</td>\n",
       "      <td>Taylor</td>\n",
       "      <td>Taylor</td>\n",
       "      <td>2015-07-31</td>\n",
       "      <td>2017-09-01</td>\n",
       "      <td>London</td>\n",
       "      <td>London</td>\n",
       "      <td>hannah88@powers.com</td>\n",
       "      <td>coltonray@lee.com</td>\n",
       "    </tr>\n",
       "    <tr>\n",
       "      <td>4821</td>\n",
       "      <td>0.879235</td>\n",
       "      <td>1</td>\n",
       "      <td>246</td>\n",
       "      <td>0</td>\n",
       "      <td>43</td>\n",
       "      <td>Julia</td>\n",
       "      <td>Harrison</td>\n",
       "      <td>Taylor</td>\n",
       "      <td>Joshua</td>\n",
       "      <td>2015-07-31</td>\n",
       "      <td>2015-07-31</td>\n",
       "      <td>London</td>\n",
       "      <td>Southend-on-Sea</td>\n",
       "      <td>hannah88@powers.com</td>\n",
       "      <td>None</td>\n",
       "    </tr>\n",
       "    <tr>\n",
       "      <td>2287</td>\n",
       "      <td>0.052602</td>\n",
       "      <td>1</td>\n",
       "      <td>362</td>\n",
       "      <td>0</td>\n",
       "      <td>62</td>\n",
       "      <td>Julia</td>\n",
       "      <td>None</td>\n",
       "      <td>Taylor</td>\n",
       "      <td>Taylor</td>\n",
       "      <td>2015-07-31</td>\n",
       "      <td>1989-07-25</td>\n",
       "      <td>London</td>\n",
       "      <td>London</td>\n",
       "      <td>hannah88@powers.com</td>\n",
       "      <td>wagnershane@landry.com</td>\n",
       "    </tr>\n",
       "  </tbody>\n",
       "</table>\n",
       "</div>"
      ],
      "text/plain": [
       "      match_probability  unique_id_l  unique_id_r  group_l  group_r  \\\n",
       "2              0.997613            0            1        0        0   \n",
       "1              0.997613            0            2        0        0   \n",
       "0              0.999962            0            3        0        0   \n",
       "4              0.997146            1            2        0        0   \n",
       "3              0.984606            1            3        0        0   \n",
       "2290           0.036772            1           89        0       18   \n",
       "2289           0.036772            1          142        0       26   \n",
       "2288           0.036772            1          148        0       26   \n",
       "4821           0.879235            1          246        0       43   \n",
       "2287           0.052602            1          362        0       62   \n",
       "\n",
       "     first_name_l first_name_r surname_l surname_r       dob_l       dob_r  \\\n",
       "2          Julia        Julia       None    Taylor  2015-10-29  2015-07-31   \n",
       "1          Julia        Julia       None    Taylor  2015-10-29  2016-01-27   \n",
       "0          Julia        Julia       None    Taylor  2015-10-29  2015-10-29   \n",
       "4          Julia        Julia     Taylor    Taylor  2015-07-31  2016-01-27   \n",
       "3          Julia        Julia     Taylor    Taylor  2015-07-31  2015-10-29   \n",
       "2290       Julia       Chirla     Taylor    Taylor  2015-07-31  2006-06-28   \n",
       "2289       Julia        Harry     Taylor    Taylor  2015-07-31  2017-11-24   \n",
       "2288       Julia        Harry     Taylor    Taylor  2015-07-31  2017-09-01   \n",
       "4821       Julia      Harrison    Taylor   Joshua   2015-07-31  2015-07-31   \n",
       "2287       Julia          None    Taylor    Taylor  2015-07-31  1989-07-25   \n",
       "\n",
       "      city_l           city_r              email_l                 email_r  \n",
       "2     London           London  hannah88@powers.com     hannah88@powers.com  \n",
       "1     London           London  hannah88@powers.com     hannah88@powers.com  \n",
       "0     London             None  hannah88@powers.com      hannah88opowersc@m  \n",
       "4     London           London  hannah88@powers.com     hannah88@powers.com  \n",
       "3     London             None  hannah88@powers.com      hannah88opowersc@m  \n",
       "2290  London           London  hannah88@powers.com      mbrooks@booker.com  \n",
       "2289  London           London  hannah88@powers.com       coltonray@lee.com  \n",
       "2288  London           London  hannah88@powers.com       coltonray@lee.com  \n",
       "4821  London  Southend-on-Sea  hannah88@powers.com                    None  \n",
       "2287  London           London  hannah88@powers.com  wagnershane@landry.com  "
      ]
     },
     "execution_count": 14,
     "metadata": {},
     "output_type": "execute_result"
    }
   ],
   "source": [
    "# Inspect main dataframe that contains the match scores\n",
    "cols_to_inspect = [\"match_probability\",\"unique_id_l\",\"unique_id_r\",\"group_l\", \"group_r\", \"first_name_l\",\"first_name_r\",\"surname_l\",\"surname_r\",\"dob_l\",\"dob_r\",\"city_l\",\"city_r\",\"email_l\",\"email_r\",]\n",
    "\n",
    "df_e.toPandas()[cols_to_inspect].sort_values([\"unique_id_l\", \"unique_id_r\"]).head(10)"
   ]
  },
  {
   "cell_type": "markdown",
   "metadata": {},
   "source": [
    "The `params` property of the `linker` is an object that contains a lot of diagnostic information about how the match probability was computed.  The following cells demonstrate some of its functionality"
   ]
  },
  {
   "cell_type": "code",
   "execution_count": 9,
   "metadata": {},
   "outputs": [
    {
     "data": {
      "application/vnd.vegalite.v3+json": {
       "$schema": "https://vega.github.io/schema/vega-lite/v3.4.0.json",
       "config": {
        "mark": {
         "tooltip": null
        },
        "title": {
         "anchor": "middle"
        },
        "view": {
         "height": 300,
         "width": 400
        }
       },
       "data": {
        "name": "data-3d879fb7ec367c896d3082ae79a8eb75"
       },
       "datasets": {
        "data-3d879fb7ec367c896d3082ae79a8eb75": [
         {
          "column": "first_name",
          "gamma": "gamma_first_name",
          "match": 1,
          "probability": 0.36442041397094727,
          "value": 0,
          "value_of_gamma": "level_0"
         },
         {
          "column": "first_name",
          "gamma": "gamma_first_name",
          "match": 1,
          "probability": 0.06735251843929291,
          "value": 1,
          "value_of_gamma": "level_1"
         },
         {
          "column": "first_name",
          "gamma": "gamma_first_name",
          "match": 1,
          "probability": 0.5682270526885986,
          "value": 2,
          "value_of_gamma": "level_2"
         },
         {
          "column": "first_name",
          "gamma": "gamma_first_name",
          "match": 0,
          "probability": 0.5300622582435608,
          "value": 0,
          "value_of_gamma": "level_0"
         },
         {
          "column": "first_name",
          "gamma": "gamma_first_name",
          "match": 0,
          "probability": 0.0011414872715249658,
          "value": 1,
          "value_of_gamma": "level_1"
         },
         {
          "column": "first_name",
          "gamma": "gamma_first_name",
          "match": 0,
          "probability": 0.4687962830066681,
          "value": 2,
          "value_of_gamma": "level_2"
         },
         {
          "column": "surname",
          "gamma": "gamma_surname",
          "match": 1,
          "probability": 0.37815889716148376,
          "value": 0,
          "value_of_gamma": "level_0"
         },
         {
          "column": "surname",
          "gamma": "gamma_surname",
          "match": 1,
          "probability": 0.05691784992814064,
          "value": 1,
          "value_of_gamma": "level_1"
         },
         {
          "column": "surname",
          "gamma": "gamma_surname",
          "match": 1,
          "probability": 0.5649232268333435,
          "value": 2,
          "value_of_gamma": "level_2"
         },
         {
          "column": "surname",
          "gamma": "gamma_surname",
          "match": 0,
          "probability": 0.323834627866745,
          "value": 0,
          "value_of_gamma": "level_0"
         },
         {
          "column": "surname",
          "gamma": "gamma_surname",
          "match": 0,
          "probability": 8.295396582980175e-06,
          "value": 1,
          "value_of_gamma": "level_1"
         },
         {
          "column": "surname",
          "gamma": "gamma_surname",
          "match": 0,
          "probability": 0.6761570572853088,
          "value": 2,
          "value_of_gamma": "level_2"
         },
         {
          "column": "dob",
          "gamma": "gamma_dob",
          "match": 1,
          "probability": 0.13570363819599152,
          "value": 0,
          "value_of_gamma": "level_0"
         },
         {
          "column": "dob",
          "gamma": "gamma_dob",
          "match": 1,
          "probability": 0.8642963767051697,
          "value": 1,
          "value_of_gamma": "level_1"
         },
         {
          "column": "dob",
          "gamma": "gamma_dob",
          "match": 0,
          "probability": 0.9831767678260803,
          "value": 0,
          "value_of_gamma": "level_0"
         },
         {
          "column": "dob",
          "gamma": "gamma_dob",
          "match": 0,
          "probability": 0.016823219135403633,
          "value": 1,
          "value_of_gamma": "level_1"
         },
         {
          "column": "city",
          "gamma": "gamma_city",
          "match": 1,
          "probability": 0.23213356733322144,
          "value": 0,
          "value_of_gamma": "level_0"
         },
         {
          "column": "city",
          "gamma": "gamma_city",
          "match": 1,
          "probability": 0.7678664326667786,
          "value": 1,
          "value_of_gamma": "level_1"
         },
         {
          "column": "city",
          "gamma": "gamma_city",
          "match": 0,
          "probability": 0.8596056699752808,
          "value": 0,
          "value_of_gamma": "level_0"
         },
         {
          "column": "city",
          "gamma": "gamma_city",
          "match": 0,
          "probability": 0.14039430022239685,
          "value": 1,
          "value_of_gamma": "level_1"
         },
         {
          "column": "email",
          "gamma": "gamma_email",
          "match": 1,
          "probability": 0.1267288327217102,
          "value": 0,
          "value_of_gamma": "level_0"
         },
         {
          "column": "email",
          "gamma": "gamma_email",
          "match": 1,
          "probability": 0.8732711672782898,
          "value": 1,
          "value_of_gamma": "level_1"
         },
         {
          "column": "email",
          "gamma": "gamma_email",
          "match": 0,
          "probability": 0.9991353750228882,
          "value": 0,
          "value_of_gamma": "level_0"
         },
         {
          "column": "email",
          "gamma": "gamma_email",
          "match": 0,
          "probability": 0.0008646380738355219,
          "value": 1,
          "value_of_gamma": "level_1"
         }
        ]
       },
       "hconcat": [
        {
         "encoding": {
          "color": {
           "field": "match",
           "type": "nominal"
          },
          "row": {
           "field": "column",
           "sort": {
            "field": "gamma"
           },
           "type": "nominal"
          },
          "tooltip": [
           {
            "field": "column",
            "type": "nominal"
           },
           {
            "field": "probability",
            "format": ".4f",
            "type": "quantitative"
           },
           {
            "field": "value",
            "type": "ordinal"
           }
          ],
          "x": {
           "field": "probability",
           "type": "quantitative"
          },
          "y": {
           "axis": {
            "title": "𝛾 value"
           },
           "field": "value",
           "type": "nominal"
          }
         },
         "mark": "bar",
         "resolve": {
          "scale": {
           "y": "independent"
          }
         },
         "transform": [
          {
           "filter": "(datum.match === 0)"
          }
         ],
         "width": 150
        },
        {
         "encoding": {
          "color": {
           "field": "match",
           "type": "nominal"
          },
          "row": {
           "field": "column",
           "sort": {
            "field": "gamma"
           },
           "type": "nominal"
          },
          "tooltip": [
           {
            "field": "column",
            "type": "nominal"
           },
           {
            "field": "probability",
            "format": ".4f",
            "type": "quantitative"
           },
           {
            "field": "value",
            "type": "ordinal"
           }
          ],
          "x": {
           "field": "probability",
           "type": "quantitative"
          },
          "y": {
           "axis": {
            "title": "𝛾 value"
           },
           "field": "value",
           "type": "nominal"
          }
         },
         "mark": "bar",
         "resolve": {
          "scale": {
           "y": "independent"
          }
         },
         "transform": [
          {
           "filter": "(datum.match === 1)"
          }
         ],
         "width": 150
        }
       ],
       "title": "Probability distribution of comparison vector values, m=0 and m=1"
      },
      "image/png": "[encoded data removed]",
      "text/plain": [
       "<VegaLite 3 object>\n",
       "\n",
       "If you see this message, it means the renderer has not been properly enabled\n",
       "for the frontend that you are using. For more information, see\n",
       "https://altair-viz.github.io/user_guide/troubleshooting.html\n"
      ]
     },
     "execution_count": 9,
     "metadata": {},
     "output_type": "execute_result"
    }
   ],
   "source": [
    "params = linker.params\n",
    "params.probability_distribution_chart()"
   ]
  },
  {
   "cell_type": "markdown",
   "metadata": {},
   "source": [
    "An alternative representation of the parameters displays them in terms of the effect different values in the comparison vectors have on the match probability:"
   ]
  },
  {
   "cell_type": "code",
   "execution_count": 10,
   "metadata": {},
   "outputs": [
    {
     "data": {
      "application/vnd.vegalite.v3+json": {
       "$schema": "https://vega.github.io/schema/vega-lite/v3.4.0.json",
       "config": {
        "mark": {
         "tooltip": null
        },
        "title": {
         "anchor": "middle"
        },
        "view": {
         "height": 300,
         "width": 400
        }
       },
       "data": {
        "name": "data-f4280ca9fa7ebbbe807d0a49d2291610"
       },
       "datasets": {
        "data-f4280ca9fa7ebbbe807d0a49d2291610": [
         {
          "adjustment": 0.40740913747243024,
          "col_name": "first_name",
          "level": "level_0",
          "m": 0.36442041397094727,
          "normalised_adjustment": -0.09259086252756976,
          "u": 0.5300622582435608
         },
         {
          "adjustment": 0.983334493877547,
          "col_name": "first_name",
          "level": "level_1",
          "m": 0.06735251843929291,
          "normalised_adjustment": 0.483334493877547,
          "u": 0.0011414872715249658
         },
         {
          "adjustment": 0.5479404687722228,
          "col_name": "first_name",
          "level": "level_2",
          "m": 0.5682270526885986,
          "normalised_adjustment": 0.0479404687722228,
          "u": 0.4687962830066681
         },
         {
          "adjustment": 0.5386928563853594,
          "col_name": "surname",
          "level": "level_0",
          "m": 0.37815889716148376,
          "normalised_adjustment": 0.03869285638535935,
          "u": 0.323834627866745
         },
         {
          "adjustment": 0.9998542779150835,
          "col_name": "surname",
          "level": "level_1",
          "m": 0.05691784992814064,
          "normalised_adjustment": 0.4998542779150835,
          "u": 8.295396582980175e-06
         },
         {
          "adjustment": 0.455186690226508,
          "col_name": "surname",
          "level": "level_2",
          "m": 0.5649232268333435,
          "normalised_adjustment": -0.044813309773492016,
          "u": 0.6761570572853088
         },
         {
          "adjustment": 0.12128520391062647,
          "col_name": "dob",
          "level": "level_0",
          "m": 0.13570363819599152,
          "normalised_adjustment": -0.37871479608937353,
          "u": 0.9831767678260803
         },
         {
          "adjustment": 0.9809069969447739,
          "col_name": "dob",
          "level": "level_1",
          "m": 0.8642963767051697,
          "normalised_adjustment": 0.4809069969447739,
          "u": 0.016823219135403633
         },
         {
          "adjustment": 0.21262730091620352,
          "col_name": "city",
          "level": "level_0",
          "m": 0.23213356733322144,
          "normalised_adjustment": -0.2873726990837965,
          "u": 0.8596056699752808
         },
         {
          "adjustment": 0.8454251129234632,
          "col_name": "city",
          "level": "level_1",
          "m": 0.7678664326667786,
          "normalised_adjustment": 0.34542511292346323,
          "u": 0.14039430022239685
         },
         {
          "adjustment": 0.11256138337995604,
          "col_name": "email",
          "level": "level_0",
          "m": 0.1267288327217102,
          "normalised_adjustment": -0.387438616620044,
          "u": 0.9991353750228882
         },
         {
          "adjustment": 0.999010865281411,
          "col_name": "email",
          "level": "level_1",
          "m": 0.8732711672782898,
          "normalised_adjustment": 0.49901086528141103,
          "u": 0.0008646380738355219
         }
        ]
       },
       "encoding": {
        "color": {
         "field": "normalised_adjustment",
         "scale": {
          "domain": [
           -0.5,
           -0.4,
           0,
           0.4,
           0.5
          ],
          "range": [
           "red",
           "orange",
           "green",
           "orange",
           "red"
          ]
         },
         "type": "quantitative"
        },
        "row": {
         "field": "col_name",
         "sort": {
          "field": "gamma"
         },
         "type": "nominal"
        },
        "tooltip": [
         {
          "field": "col_name",
          "type": "nominal"
         },
         {
          "field": "normalised_adjustment",
          "type": "quantitative"
         }
        ],
        "x": {
         "axis": {
          "title": "Influence on match probabiity."
         },
         "field": "normalised_adjustment",
         "scale": {
          "domain": [
           -0.5,
           0.5
          ]
         },
         "type": "quantitative"
        },
        "y": {
         "field": "level",
         "type": "nominal"
        }
       },
       "height": 50,
       "mark": "bar",
       "resolve": {
        "scale": {
         "y": "independent"
        }
       },
       "title": "Influence of comparison vector values on match probability"
      },
      "image/png": "[encoded data removed]",
      "text/plain": [
       "<VegaLite 3 object>\n",
       "\n",
       "If you see this message, it means the renderer has not been properly enabled\n",
       "for the frontend that you are using. For more information, see\n",
       "https://altair-viz.github.io/user_guide/troubleshooting.html\n"
      ]
     },
     "execution_count": 10,
     "metadata": {},
     "output_type": "execute_result"
    }
   ],
   "source": [
    "params.adjustment_factor_chart()"
   ]
  },
  {
   "cell_type": "code",
   "execution_count": null,
   "metadata": {},
   "outputs": [],
   "source": [
    "# If charts aren't displaying correctly in your notebook, you can write them to a file (by default splink_charts.html)\n",
    "params.all_charts_write_html_file()"
   ]
  },
  {
   "cell_type": "markdown",
   "metadata": {},
   "source": [
    "You can also generate a report which explains how the match probability was computed for an individual comparison row.  \n",
    "\n",
    "Note that you need to convert the row to a dictionary for this to work"
   ]
  },
  {
   "cell_type": "code",
   "execution_count": 11,
   "metadata": {},
   "outputs": [
    {
     "name": "stdout",
     "output_type": "stream",
     "text": [
      "\n",
      "Initial probability of match (prior) = λ = 0.4163132905960083\n",
      "\n",
      "Comparison of first_name.  Values are:\n",
      "first_name_l: None\n",
      "first_name_r: Ryan \n",
      "Comparison has 3 levels\n",
      "𝛾 for this comparison = gamma_first_name = -1\n",
      "Amongst matches, P(𝛾 = 1.0):\n",
      "Amongst non matches, P(𝛾 = 1.0):\n",
      "Adjustment factor = p1/(p1 + p2) = 0.5\n",
      "New probability of match (updated belief): 0.4163132905960083\n",
      "\n",
      "Comparison of surname.  Values are:\n",
      "surname_l: Turner\n",
      "surname_r: None\n",
      "Comparison has 3 levels\n",
      "𝛾 for this comparison = gamma_surname = -1\n",
      "Amongst matches, P(𝛾 = 1.0):\n",
      "Amongst non matches, P(𝛾 = 1.0):\n",
      "Adjustment factor = p1/(p1 + p2) = 0.5\n",
      "New probability of match (updated belief): 0.4163132905960083\n",
      "\n",
      "Comparison of dob.  Values are:\n",
      "dob_l: 1990-03-21\n",
      "dob_r: 1990-03-21\n",
      "Comparison has 2 levels\n",
      "𝛾 for this comparison = gamma_dob = 1\n",
      "Amongst matches, P(𝛾 = 0.8642963767051697):\n",
      "Amongst non matches, P(𝛾 = 0.016823219135403633):\n",
      "Adjustment factor = p1/(p1 + p2) = 0.9809069969447739\n",
      "New probability of match (updated belief): 0.973434816877393\n",
      "\n",
      "Comparison of city.  Values are:\n",
      "city_l: London\n",
      "city_r: London\n",
      "Comparison has 2 levels\n",
      "𝛾 for this comparison = gamma_city = 1\n",
      "Amongst matches, P(𝛾 = 0.7678664326667786):\n",
      "Amongst non matches, P(𝛾 = 0.14039430022239685):\n",
      "Adjustment factor = p1/(p1 + p2) = 0.8454251129234632\n",
      "New probability of match (updated belief): 0.9950351269903317\n",
      "\n",
      "Comparison of email.  Values are:\n",
      "email_l: onorman@walker.info\n",
      "email_r: onorman@walker.info\n",
      "Comparison has 2 levels\n",
      "𝛾 for this comparison = gamma_email = 1\n",
      "Amongst matches, P(𝛾 = 0.8732711672782898):\n",
      "Amongst non matches, P(𝛾 = 0.0008646380738355219):\n",
      "Adjustment factor = p1/(p1 + p2) = 0.999010865281411\n",
      "New probability of match (updated belief): 0.9999950597057052\n",
      "\n",
      "Final probability of match = 0.9999950597057052\n",
      "\n"
     ]
    }
   ],
   "source": [
    "from splink.intuition import intuition_report\n",
    "row_dict = df_e.toPandas().sample(1).to_dict(orient=\"records\")[0]\n",
    "print(intuition_report(row_dict, params))"
   ]
  },
  {
   "cell_type": "markdown",
   "metadata": {},
   "source": [
    "## Step 7: Term frequency adjustments\n",
    "\n",
    "Splink enables you to make adjustments for term frequency on any number of columns\n",
    "\n",
    "This enables match probabilities to be adjusted for e.g. the fact John Smith is more prevalent than Robin Linacre"
   ]
  },
  {
   "cell_type": "code",
   "execution_count": null,
   "metadata": {},
   "outputs": [],
   "source": [
    "df_e_adj = linker.make_term_frequency_adjustments(df_e)"
   ]
  },
  {
   "cell_type": "code",
   "execution_count": null,
   "metadata": {},
   "outputs": [],
   "source": [
    "pdtf = df_e_adj.toPandas()\n",
    "sam = pdtf.sample(10)\n",
    "sam[[\"match_probability\", \"tf_adjusted_match_prob\"] + list(pdtf.columns)]"
   ]
  },
  {
   "cell_type": "code",
   "execution_count": null,
   "metadata": {},
   "outputs": [],
   "source": [
    "sam"
   ]
  },
  {
   "cell_type": "code",
   "execution_count": null,
   "metadata": {},
   "outputs": [],
   "source": []
  },
  {
   "cell_type": "code",
   "execution_count": null,
   "metadata": {},
   "outputs": [],
   "source": []
  },
  {
   "cell_type": "code",
   "execution_count": null,
   "metadata": {},
   "outputs": [],
   "source": []
  }
 ],
 "metadata": {
  "kernelspec": {
   "display_name": "Python 3",
   "language": "python",
   "name": "python3"
  },
  "language_info": {
   "codemirror_mode": {
    "name": "ipython",
    "version": 3
   },
   "file_extension": ".py",
   "mimetype": "text/x-python",
   "name": "python",
   "nbconvert_exporter": "python",
   "pygments_lexer": "ipython3",
   "version": "3.6.9"
  }
 },
 "nbformat": 4,
 "nbformat_minor": 4
}
