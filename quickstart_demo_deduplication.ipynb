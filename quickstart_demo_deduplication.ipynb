{
 "cells": [
  {
   "cell_type": "markdown",
   "metadata": {},
   "source": [
    "## Quickstart deduplication demo \n",
    "\n",
    "In this demo we de-duplicate a small dataset.\n",
    "\n",
    "The purpose is to demonstrate core Splink functionality as succinctly as possible.\n",
    "\n",
    "A more comprehensive example is provided [here](deduplication_detailed_example.ipynb)."
   ]
  },
  {
   "cell_type": "markdown",
   "metadata": {},
   "source": [
    "## Step 1:  Imports and setup\n",
    "\n",
    "The following is just boilerplate code that sets up the Spark session and sets some other non-essential configuration options"
   ]
  },
  {
   "cell_type": "code",
   "execution_count": 1,
   "metadata": {},
   "outputs": [
    {
     "data": {
      "text/plain": [
       "RendererRegistry.enable('mimetype')"
      ]
     },
     "execution_count": 1,
     "metadata": {},
     "output_type": "execute_result"
    }
   ],
   "source": [
    "import altair as alt\n",
    "import pandas as pd\n",
    "\n",
    "pd.options.display.max_columns = 500\n",
    "alt.renderers.enable(\"mimetype\")"
   ]
  },
  {
   "cell_type": "code",
   "execution_count": 2,
   "metadata": {},
   "outputs": [],
   "source": [
    "import logging\n",
    "\n",
    "logging.basicConfig()  # Means logs will print in Jupyter Lab\n",
    "\n",
    "# Set to DEBUG if you want splink to log the SQL statements it's executing under the hood\n",
    "logging.getLogger(\"splink\").setLevel(logging.INFO)"
   ]
  },
  {
   "cell_type": "code",
   "execution_count": 3,
   "metadata": {},
   "outputs": [
    {
     "name": "stderr",
     "output_type": "stream",
     "text": [
      "22/01/11 05:31:44 WARN NativeCodeLoader: Unable to load native-hadoop library for your platform... using builtin-java classes where applicable\n",
      "Using Spark's default log4j profile: org/apache/spark/log4j-defaults.properties\n",
      "Setting default log level to \"WARN\".\n",
      "To adjust logging level use sc.setLogLevel(newLevel). For SparkR, use setLogLevel(newLevel).\n",
      "22/01/11 05:31:45 WARN Utils: Service 'SparkUI' could not bind on port 4040. Attempting port 4041.\n"
     ]
    }
   ],
   "source": [
    "from utility_functions.demo_utils import get_spark\n",
    "\n",
    "spark = get_spark()  # See utility_functions/demo_utils.py for how to set up Spark"
   ]
  },
  {
   "cell_type": "markdown",
   "metadata": {},
   "source": [
    "## Step 2:  Read in data"
   ]
  },
  {
   "cell_type": "markdown",
   "metadata": {},
   "source": [
    "Note that the `group` column is the truth - rows which share the same value refer to the same person.  In the real world, we wouldn't have this field!"
   ]
  },
  {
   "cell_type": "code",
   "execution_count": 4,
   "metadata": {},
   "outputs": [
    {
     "name": "stderr",
     "output_type": "stream",
     "text": [
      "                                                                                \r"
     ]
    },
    {
     "name": "stdout",
     "output_type": "stream",
     "text": [
      "+---------+----------+-------+----------+------+--------------------+-----+\n",
      "|unique_id|first_name|surname|       dob|  city|               email|group|\n",
      "+---------+----------+-------+----------+------+--------------------+-----+\n",
      "|        0|    Julia |   null|2015-10-29|London| hannah88@powers.com|    0|\n",
      "|        1|    Julia | Taylor|2015-07-31|London| hannah88@powers.com|    0|\n",
      "|        2|    Julia | Taylor|2016-01-27|London| hannah88@powers.com|    0|\n",
      "|        3|    Julia | Taylor|2015-10-29|  null|  hannah88opowersc@m|    0|\n",
      "|        4|      oNah| Watson|2008-03-23|Bolton|matthew78@ballard...|    1|\n",
      "+---------+----------+-------+----------+------+--------------------+-----+\n",
      "only showing top 5 rows\n",
      "\n"
     ]
    }
   ],
   "source": [
    "df = spark.read.parquet(\"data/fake_1000.parquet\")\n",
    "df.show(5)"
   ]
  },
  {
   "cell_type": "markdown",
   "metadata": {
    "tags": []
   },
   "source": [
    "## Step 3:  Configure splink using the `settings` object\n",
    "\n",
    "Most of `splink` configuration options are stored in a settings dictionary.  This dictionary allows significant customisation, and can therefore get quite complex.  \n",
    "\n",
    "✅ We provide an tool for helping to author valid settings dictionaries, which includes tooltips and autocomplete, which you can find 👉 [here](http://robinlinacre.com/splink_settings_editor/) 👈.\n",
    "\n",
    "If no customisation is used, Splink will use sensible defaults."
   ]
  },
  {
   "cell_type": "code",
   "execution_count": 5,
   "metadata": {},
   "outputs": [],
   "source": [
    "settings = {\n",
    "    \"link_type\": \"dedupe_only\",\n",
    "    \"blocking_rules\": [\"l.surname = r.surname\"],\n",
    "    \"comparison_columns\": [\n",
    "        {\"col_name\": \"first_name\", \"num_levels\": 3, \"term_frequency_adjustments\": True},\n",
    "        {\"col_name\": \"dob\"},\n",
    "        {\"col_name\": \"city\"},\n",
    "        {\"col_name\": \"email\"},\n",
    "    ],\n",
    "    \"additional_columns_to_retain\": [\"group\"],\n",
    "    \"em_convergence\": 0.01,\n",
    "    \"max_iterations\": 4,\n",
    "}"
   ]
  },
  {
   "cell_type": "markdown",
   "metadata": {},
   "source": [
    "In words, this setting dictionary says:\n",
    "- We are performing a deduplication task (the other options are `link_only`, or `link_and_dedupe`)\n",
    "- The blocking rule states that we will all possibly record comparisons where the surname is equal.\n",
    "- When comparing records, we will use information from the `first_name`, `dob`, `city` and `email` columns to compute a match score.\n",
    "- For `first_name` string comparisons will have three levels:\n",
    "    - Level 2: Strings are exactly the same\n",
    "    - Level 1: Strings are similar \n",
    "    - Level 0: No match\n",
    "- We will make adjustments for term frequencies on the `first_name` columns\n",
    "- We will retain the `group` column in the results even though this is not used as part of comparisons.  This is a labelled dataset and `group` contains the true match - i.e. where group matches, the records pertain to the same person\n",
    "- Will will consider the algorithm to have converged when no parameter changes by more than 0.01 between iterations or four iterations.  (Generally we would allow more than four, but this makes the demo run more quickly)."
   ]
  },
  {
   "cell_type": "markdown",
   "metadata": {},
   "source": [
    "## Step 4:  Estimate match scores using the Expectation Maximisation algorithm\n",
    "Columns are assumed to be strings by default.  See the 'comparison vector settings' notebook for details of configuration options."
   ]
  },
  {
   "cell_type": "code",
   "execution_count": 6,
   "metadata": {},
   "outputs": [
    {
     "name": "stderr",
     "output_type": "stream",
     "text": [
      "INFO:splink.iterate:Iteration 0 complete                                        \n",
      "INFO:splink.model:The maximum change in parameters was 0.22152794522277064 for key first_name, level 0\n",
      "INFO:splink.iterate:Iteration 1 complete\n",
      "INFO:splink.model:The maximum change in parameters was 0.05266340978811679 for key city, level 1\n",
      "INFO:splink.iterate:Iteration 2 complete\n",
      "INFO:splink.model:The maximum change in parameters was 0.0244506360130074 for key email, level 0\n",
      "INFO:splink.iterate:Iteration 3 complete\n",
      "INFO:splink.model:The maximum change in parameters was 0.01397596095506537 for key email, level 1\n"
     ]
    }
   ],
   "source": [
    "from splink import Splink\n",
    "\n",
    "linker = Splink(settings, df, spark)\n",
    "df_e = linker.get_scored_comparisons()"
   ]
  },
  {
   "cell_type": "markdown",
   "metadata": {},
   "source": [
    "## Step 5: Inspect results \n",
    "\n"
   ]
  },
  {
   "cell_type": "code",
   "execution_count": 7,
   "metadata": {},
   "outputs": [
    {
     "data": {
      "text/html": [
       "<div>\n",
       "<style scoped>\n",
       "    .dataframe tbody tr th:only-of-type {\n",
       "        vertical-align: middle;\n",
       "    }\n",
       "\n",
       "    .dataframe tbody tr th {\n",
       "        vertical-align: top;\n",
       "    }\n",
       "\n",
       "    .dataframe thead th {\n",
       "        text-align: right;\n",
       "    }\n",
       "</style>\n",
       "<table border=\"1\" class=\"dataframe\">\n",
       "  <thead>\n",
       "    <tr style=\"text-align: right;\">\n",
       "      <th></th>\n",
       "      <th>match_probability</th>\n",
       "      <th>match_weight</th>\n",
       "      <th>unique_id_l</th>\n",
       "      <th>unique_id_r</th>\n",
       "      <th>group_l</th>\n",
       "      <th>group_r</th>\n",
       "      <th>first_name_l</th>\n",
       "      <th>first_name_r</th>\n",
       "      <th>dob_l</th>\n",
       "      <th>dob_r</th>\n",
       "      <th>city_l</th>\n",
       "      <th>city_r</th>\n",
       "      <th>email_l</th>\n",
       "      <th>email_r</th>\n",
       "    </tr>\n",
       "  </thead>\n",
       "  <tbody>\n",
       "    <tr>\n",
       "      <th>548</th>\n",
       "      <td>0.999952</td>\n",
       "      <td>14.345731</td>\n",
       "      <td>1</td>\n",
       "      <td>2</td>\n",
       "      <td>0</td>\n",
       "      <td>0</td>\n",
       "      <td>Julia</td>\n",
       "      <td>Julia</td>\n",
       "      <td>2015-07-31</td>\n",
       "      <td>2016-01-27</td>\n",
       "      <td>London</td>\n",
       "      <td>London</td>\n",
       "      <td>hannah88@powers.com</td>\n",
       "      <td>hannah88@powers.com</td>\n",
       "    </tr>\n",
       "    <tr>\n",
       "      <th>549</th>\n",
       "      <td>0.895912</td>\n",
       "      <td>3.105561</td>\n",
       "      <td>1</td>\n",
       "      <td>3</td>\n",
       "      <td>0</td>\n",
       "      <td>0</td>\n",
       "      <td>Julia</td>\n",
       "      <td>Julia</td>\n",
       "      <td>2015-07-31</td>\n",
       "      <td>2015-10-29</td>\n",
       "      <td>London</td>\n",
       "      <td>None</td>\n",
       "      <td>hannah88@powers.com</td>\n",
       "      <td>hannah88opowersc@m</td>\n",
       "    </tr>\n",
       "    <tr>\n",
       "      <th>550</th>\n",
       "      <td>0.036397</td>\n",
       "      <td>-4.726541</td>\n",
       "      <td>1</td>\n",
       "      <td>89</td>\n",
       "      <td>0</td>\n",
       "      <td>18</td>\n",
       "      <td>Julia</td>\n",
       "      <td>Chirla</td>\n",
       "      <td>2015-07-31</td>\n",
       "      <td>2006-06-28</td>\n",
       "      <td>London</td>\n",
       "      <td>London</td>\n",
       "      <td>hannah88@powers.com</td>\n",
       "      <td>mbrooks@booker.com</td>\n",
       "    </tr>\n",
       "    <tr>\n",
       "      <th>551</th>\n",
       "      <td>0.036397</td>\n",
       "      <td>-4.726541</td>\n",
       "      <td>1</td>\n",
       "      <td>142</td>\n",
       "      <td>0</td>\n",
       "      <td>26</td>\n",
       "      <td>Julia</td>\n",
       "      <td>Harry</td>\n",
       "      <td>2015-07-31</td>\n",
       "      <td>2017-11-24</td>\n",
       "      <td>London</td>\n",
       "      <td>London</td>\n",
       "      <td>hannah88@powers.com</td>\n",
       "      <td>coltonray@lee.com</td>\n",
       "    </tr>\n",
       "    <tr>\n",
       "      <th>552</th>\n",
       "      <td>0.036397</td>\n",
       "      <td>-4.726541</td>\n",
       "      <td>1</td>\n",
       "      <td>148</td>\n",
       "      <td>0</td>\n",
       "      <td>26</td>\n",
       "      <td>Julia</td>\n",
       "      <td>Harry</td>\n",
       "      <td>2015-07-31</td>\n",
       "      <td>2017-09-01</td>\n",
       "      <td>London</td>\n",
       "      <td>London</td>\n",
       "      <td>hannah88@powers.com</td>\n",
       "      <td>coltonray@lee.com</td>\n",
       "    </tr>\n",
       "  </tbody>\n",
       "</table>\n",
       "</div>"
      ],
      "text/plain": [
       "     match_probability  match_weight  unique_id_l  unique_id_r  group_l  \\\n",
       "548           0.999952     14.345731            1            2        0   \n",
       "549           0.895912      3.105561            1            3        0   \n",
       "550           0.036397     -4.726541            1           89        0   \n",
       "551           0.036397     -4.726541            1          142        0   \n",
       "552           0.036397     -4.726541            1          148        0   \n",
       "\n",
       "     group_r first_name_l first_name_r       dob_l       dob_r  city_l  \\\n",
       "548        0       Julia        Julia   2015-07-31  2016-01-27  London   \n",
       "549        0       Julia        Julia   2015-07-31  2015-10-29  London   \n",
       "550       18       Julia       Chirla   2015-07-31  2006-06-28  London   \n",
       "551       26       Julia        Harry   2015-07-31  2017-11-24  London   \n",
       "552       26       Julia        Harry   2015-07-31  2017-09-01  London   \n",
       "\n",
       "     city_r              email_l              email_r  \n",
       "548  London  hannah88@powers.com  hannah88@powers.com  \n",
       "549    None  hannah88@powers.com   hannah88opowersc@m  \n",
       "550  London  hannah88@powers.com   mbrooks@booker.com  \n",
       "551  London  hannah88@powers.com    coltonray@lee.com  \n",
       "552  London  hannah88@powers.com    coltonray@lee.com  "
      ]
     },
     "execution_count": 7,
     "metadata": {},
     "output_type": "execute_result"
    }
   ],
   "source": [
    "cols_to_inspect = [\"match_probability\", \"match_weight\", \"unique_id_l\", \"unique_id_r\", \"group_l\", \"group_r\", \"first_name_l\", \"first_name_r\", \"dob_l\", \"dob_r\", \"city_l\", \"city_r\", \"email_l\", \"email_r\"]\n",
    "\n",
    "df_e.toPandas()[cols_to_inspect].sort_values([\"unique_id_l\", \"unique_id_r\"]).head(5)"
   ]
  },
  {
   "cell_type": "markdown",
   "metadata": {},
   "source": [
    "The `model` property of the `linker` is an object that contains a lot of diagnostic information about how the match probability was computed.  The following cells demonstrate some of its functionality"
   ]
  },
  {
   "cell_type": "code",
   "execution_count": 8,
   "metadata": {},
   "outputs": [
    {
     "data": {
      "application/vnd.vegalite.v4+json": {
       "$schema": "https://vega.github.io/schema/vega-lite/v4.json",
       "config": {
        "header": {
         "title": null
        },
        "mark": {
         "tooltip": null
        },
        "title": {
         "anchor": "middle"
        },
        "view": {
         "continuousHeight": 300,
         "continuousWidth": 400,
         "height": 300,
         "width": 400
        }
       },
       "data": {
        "name": "data-85eef849402324f00e0a00a8098a9575"
       },
       "datasets": {
        "data-85eef849402324f00e0a00a8098a9575": [
         {
          "bayes_factor": 50.397127961932334,
          "column_name": "first_name",
          "comparison_vector_value": "2",
          "gamma_column_name": "gamma_first_name",
          "gamma_index": 2,
          "is_null": false,
          "label": "level_2",
          "level_name": "level_2",
          "level_proportion": 0.24000595503182787,
          "log2_bayes_factor": 5.6552696144629575,
          "m_probability": 0.6918067152960815,
          "num_levels": 3,
          "sql_expr": "WHEN JARO_WINKLER_SIM(first_name_l, first_name_r) >= 1.0 THEN 2",
          "u_probability": 0.013727105953709117
         },
         {
          "bayes_factor": 45.513686461468886,
          "column_name": "first_name",
          "comparison_vector_value": "1",
          "gamma_column_name": "gamma_first_name",
          "gamma_index": 1,
          "is_null": false,
          "label": "level_1",
          "level_name": "level_1",
          "level_proportion": 0.06053027906843116,
          "log2_bayes_factor": 5.508228539560539,
          "m_probability": 0.17376538340326467,
          "num_levels": 3,
          "sql_expr": "WHEN JARO_WINKLER_SIM(first_name_l, first_name_r) >= 0.88 THEN 1",
          "u_probability": 0.0038178709947033515
         },
         {
          "bayes_factor": 0.1368285551465851,
          "column_name": "first_name",
          "comparison_vector_value": "0",
          "gamma_column_name": "gamma_first_name",
          "gamma_index": 0,
          "is_null": false,
          "label": "level_0",
          "level_name": "level_0",
          "level_proportion": 0.699463765899741,
          "log2_bayes_factor": -2.869558753045302,
          "m_probability": 0.13442790130065368,
          "num_levels": 3,
          "sql_expr": "ELSE 0",
          "u_probability": 0.9824550230515876
         },
         {
          "bayes_factor": 82.88478922687156,
          "column_name": "dob",
          "comparison_vector_value": "1",
          "gamma_column_name": "gamma_dob",
          "gamma_index": 1,
          "is_null": false,
          "label": "level_1",
          "level_name": "level_1",
          "level_proportion": 0.22481844016419325,
          "log2_bayes_factor": 6.373035461741885,
          "m_probability": 0.6578558361220636,
          "num_levels": 2,
          "sql_expr": "WHEN dob_l = dob_r THEN 1",
          "u_probability": 0.00793699112054669
         },
         {
          "bayes_factor": 0.34488148516331857,
          "column_name": "dob",
          "comparison_vector_value": "0",
          "gamma_column_name": "gamma_dob",
          "gamma_index": 0,
          "is_null": false,
          "label": "level_0",
          "level_name": "level_0",
          "level_proportion": 0.7751815598358067,
          "log2_bayes_factor": -1.535827414566539,
          "m_probability": 0.3421441638779364,
          "num_levels": 2,
          "sql_expr": "ELSE 0",
          "u_probability": 0.9920630088794534
         },
         {
          "bayes_factor": 4.99221222223255,
          "column_name": "city",
          "comparison_vector_value": "1",
          "gamma_column_name": "gamma_city",
          "gamma_index": 1,
          "is_null": false,
          "label": "level_1",
          "level_name": "level_1",
          "level_proportion": 0.32181723015223,
          "log2_bayes_factor": 2.319679265421032,
          "m_probability": 0.6888620750206013,
          "num_levels": 2,
          "sql_expr": "WHEN city_l = city_r THEN 1",
          "u_probability": 0.13798733794865348
         },
         {
          "bayes_factor": 0.360943566929723,
          "column_name": "city",
          "comparison_vector_value": "0",
          "gamma_column_name": "gamma_city",
          "gamma_index": 0,
          "is_null": false,
          "label": "level_0",
          "level_name": "level_0",
          "level_proportion": 0.67818276984777,
          "log2_bayes_factor": -1.4701548036888241,
          "m_probability": 0.3111379249793989,
          "num_levels": 2,
          "sql_expr": "ELSE 0",
          "u_probability": 0.8620126620513465
         },
         {
          "bayes_factor": 155.1201367422808,
          "column_name": "email",
          "comparison_vector_value": "1",
          "gamma_column_name": "gamma_email",
          "gamma_index": 1,
          "is_null": false,
          "label": "level_1",
          "level_name": "level_1",
          "level_proportion": 0.23027023960848592,
          "log2_bayes_factor": 7.277242170104396,
          "m_probability": 0.6812713309661923,
          "num_levels": 2,
          "sql_expr": "WHEN email_l = email_r THEN 1",
          "u_probability": 0.0043918948582289345
         },
         {
          "bayes_factor": 0.3201346668310038,
          "column_name": "email",
          "comparison_vector_value": "0",
          "gamma_column_name": "gamma_email",
          "gamma_index": 0,
          "is_null": false,
          "label": "level_0",
          "level_name": "level_0",
          "level_proportion": 0.769729760391514,
          "log2_bayes_factor": -1.6432491825864113,
          "m_probability": 0.3187286690338078,
          "num_levels": 2,
          "sql_expr": "ELSE 0",
          "u_probability": 0.9956081051417709
         }
        ]
       },
       "encoding": {
        "color": {
         "field": "log2_bayes_factor",
         "scale": {
          "domain": [
           -10,
           0,
           10
          ],
          "range": [
           "red",
           "orange",
           "green"
          ]
         },
         "title": "Match weight",
         "type": "quantitative"
        },
        "row": {
         "field": "column_name",
         "header": {
          "labelAlign": "left",
          "labelAnchor": "middle",
          "labelAngle": 0
         },
         "sort": {
          "field": "gamma_index"
         },
         "type": "nominal"
        },
        "tooltip": [
         {
          "field": "column_name",
          "type": "nominal"
         },
         {
          "field": "label",
          "title": "level label",
          "type": "ordinal"
         },
         {
          "field": "sql_expr",
          "type": "nominal"
         },
         {
          "field": "m_probability",
          "format": ".4f",
          "type": "quantitative"
         },
         {
          "field": "u_probability",
          "format": ".4f",
          "type": "quantitative"
         },
         {
          "field": "bayes_factor",
          "format": ".4f",
          "title": "Bayes factor = m/u",
          "type": "quantitative"
         },
         {
          "field": "log2_bayes_factor",
          "format": ".4f",
          "title": "Match weight = log2(m/u)",
          "type": "quantitative"
         },
         {
          "field": "level_proportion",
          "format": ".2%",
          "title": "Percentage of non-null comparisons in this level",
          "type": "nominal"
         }
        ],
        "x": {
         "axis": {
          "title": "Match weight = log2(m/u)",
          "values": [
           -10,
           -5,
           0,
           5,
           10
          ]
         },
         "field": "log2_bayes_factor",
         "scale": {
          "domain": [
           -10,
           10
          ]
         },
         "type": "quantitative"
        },
        "y": {
         "axis": {
          "title": null
         },
         "field": "label",
         "sort": {
          "field": "gamma_index"
         },
         "type": "nominal"
        }
       },
       "height": 50,
       "mark": {
        "clip": true,
        "type": "bar"
       },
       "resolve": {
        "scale": {
         "y": "independent"
        }
       },
       "selection": {
        "selector076": {
         "bind": "scales",
         "encodings": [
          "x"
         ],
         "type": "interval"
        }
       },
       "title": {
        "subtitle": "Use mousewheeel to zoom",
        "text": "Influence of comparison vector values on match probability"
       }
      },
      "image/png": "[encoded data removed]",
      "text/plain": [
       "<VegaLite 4 object>\n",
       "\n",
       "If you see this message, it means the renderer has not been properly enabled\n",
       "for the frontend that you are using. For more information, see\n",
       "https://altair-viz.github.io/user_guide/troubleshooting.html\n"
      ]
     },
     "execution_count": 8,
     "metadata": {},
     "output_type": "execute_result"
    }
   ],
   "source": [
    "model = linker.model\n",
    "model.bayes_factor_chart()"
   ]
  },
  {
   "cell_type": "markdown",
   "metadata": {},
   "source": [
    "If charts aren't displaying correctly in your notebook, you can write them to an file, and view them in an IFrame."
   ]
  },
  {
   "cell_type": "code",
   "execution_count": 9,
   "metadata": {},
   "outputs": [
    {
     "name": "stdout",
     "output_type": "stream",
     "text": [
      "Chart saved to bf.html\n",
      "\n",
      "To view in Jupyter you can use the following command:\n",
      "\n",
      "from IPython.display import IFrame\n",
      "IFrame(src=\"./bf.html\", width=1000, height=500)\n",
      "\n"
     ]
    }
   ],
   "source": [
    "from splink.charts import save_offline_chart\n",
    "\n",
    "chart = model.bayes_factor_chart()\n",
    "save_offline_chart(chart, filename=\"bf.html\", overwrite=True)"
   ]
  },
  {
   "cell_type": "markdown",
   "metadata": {},
   "source": [
    "You can also output a dashboard of the main charts:"
   ]
  },
  {
   "cell_type": "code",
   "execution_count": 10,
   "metadata": {},
   "outputs": [],
   "source": [
    "model.all_charts_write_html_file(filename=\"splink_charts.html\", overwrite=True)"
   ]
  },
  {
   "cell_type": "markdown",
   "metadata": {},
   "source": [
    "# Use graphframes to resolve links into groups\n",
    "\n",
    "Finally, we can turn the pairwise record comparisons into estimated groups (clusters of records considered to be the same).\n",
    "\n",
    "You must provide one or more cluster thresholds, which is the match probability above which a pairwise comparison is considered a match"
   ]
  },
  {
   "cell_type": "code",
   "execution_count": 11,
   "metadata": {},
   "outputs": [
    {
     "data": {
      "text/html": [
       "<div>\n",
       "<style scoped>\n",
       "    .dataframe tbody tr th:only-of-type {\n",
       "        vertical-align: middle;\n",
       "    }\n",
       "\n",
       "    .dataframe tbody tr th {\n",
       "        vertical-align: top;\n",
       "    }\n",
       "\n",
       "    .dataframe thead th {\n",
       "        text-align: right;\n",
       "    }\n",
       "</style>\n",
       "<table border=\"1\" class=\"dataframe\">\n",
       "  <thead>\n",
       "    <tr style=\"text-align: right;\">\n",
       "      <th></th>\n",
       "      <th>cluster_0_5</th>\n",
       "      <th>cluster_0_9</th>\n",
       "      <th>unique_id</th>\n",
       "      <th>first_name</th>\n",
       "      <th>surname</th>\n",
       "      <th>dob</th>\n",
       "      <th>city</th>\n",
       "      <th>email</th>\n",
       "      <th>group</th>\n",
       "    </tr>\n",
       "  </thead>\n",
       "  <tbody>\n",
       "    <tr>\n",
       "      <th>0</th>\n",
       "      <td>1</td>\n",
       "      <td>1</td>\n",
       "      <td>2</td>\n",
       "      <td>Julia</td>\n",
       "      <td>Taylor</td>\n",
       "      <td>2016-01-27</td>\n",
       "      <td>London</td>\n",
       "      <td>hannah88@powers.com</td>\n",
       "      <td>0</td>\n",
       "    </tr>\n",
       "    <tr>\n",
       "      <th>1</th>\n",
       "      <td>12</td>\n",
       "      <td>12</td>\n",
       "      <td>12</td>\n",
       "      <td>Noah</td>\n",
       "      <td>None</td>\n",
       "      <td>2008-03-23</td>\n",
       "      <td>Blotn</td>\n",
       "      <td>None</td>\n",
       "      <td>1</td>\n",
       "    </tr>\n",
       "    <tr>\n",
       "      <th>2</th>\n",
       "      <td>23</td>\n",
       "      <td>23</td>\n",
       "      <td>26</td>\n",
       "      <td>Ollie</td>\n",
       "      <td>Thompson</td>\n",
       "      <td>1996-03-22</td>\n",
       "      <td>Leeds</td>\n",
       "      <td>jefferyduke@brown-alazar.org</td>\n",
       "      <td>5</td>\n",
       "    </tr>\n",
       "    <tr>\n",
       "      <th>3</th>\n",
       "      <td>28</td>\n",
       "      <td>28</td>\n",
       "      <td>28</td>\n",
       "      <td>Matilda</td>\n",
       "      <td>None</td>\n",
       "      <td>1983-04-30</td>\n",
       "      <td>London</td>\n",
       "      <td>patricia47@davis.com</td>\n",
       "      <td>6</td>\n",
       "    </tr>\n",
       "    <tr>\n",
       "      <th>4</th>\n",
       "      <td>29</td>\n",
       "      <td>29</td>\n",
       "      <td>29</td>\n",
       "      <td>Harris</td>\n",
       "      <td>Matilda</td>\n",
       "      <td>1983-04-30</td>\n",
       "      <td>London</td>\n",
       "      <td>patricia47@davis.com</td>\n",
       "      <td>6</td>\n",
       "    </tr>\n",
       "    <tr>\n",
       "      <th>...</th>\n",
       "      <td>...</td>\n",
       "      <td>...</td>\n",
       "      <td>...</td>\n",
       "      <td>...</td>\n",
       "      <td>...</td>\n",
       "      <td>...</td>\n",
       "      <td>...</td>\n",
       "      <td>...</td>\n",
       "      <td>...</td>\n",
       "    </tr>\n",
       "    <tr>\n",
       "      <th>995</th>\n",
       "      <td>947</td>\n",
       "      <td>947</td>\n",
       "      <td>951</td>\n",
       "      <td>Ael ai</td>\n",
       "      <td>Johnson</td>\n",
       "      <td>1985-05-04</td>\n",
       "      <td>Luton</td>\n",
       "      <td>oleondanisle@martinez.com</td>\n",
       "      <td>170</td>\n",
       "    </tr>\n",
       "    <tr>\n",
       "      <th>996</th>\n",
       "      <td>963</td>\n",
       "      <td>963</td>\n",
       "      <td>963</td>\n",
       "      <td>Gabriel</td>\n",
       "      <td>Bartltt</td>\n",
       "      <td>1973-12-09</td>\n",
       "      <td>Wolverhampton</td>\n",
       "      <td>ogomez@robinson-mckinney.com</td>\n",
       "      <td>173</td>\n",
       "    </tr>\n",
       "    <tr>\n",
       "      <th>997</th>\n",
       "      <td>971</td>\n",
       "      <td>971</td>\n",
       "      <td>971</td>\n",
       "      <td>None</td>\n",
       "      <td>Taylor</td>\n",
       "      <td>1978-05-09</td>\n",
       "      <td>Ldnon</td>\n",
       "      <td>tiffanyrodriguez@rodriguez-yu.com</td>\n",
       "      <td>175</td>\n",
       "    </tr>\n",
       "    <tr>\n",
       "      <th>998</th>\n",
       "      <td>977</td>\n",
       "      <td>977</td>\n",
       "      <td>980</td>\n",
       "      <td>Layla</td>\n",
       "      <td>Ball</td>\n",
       "      <td>1992-04-02</td>\n",
       "      <td>Newcastle-upon-Tyne</td>\n",
       "      <td>stacykelly@brown.info</td>\n",
       "      <td>176</td>\n",
       "    </tr>\n",
       "    <tr>\n",
       "      <th>999</th>\n",
       "      <td>982</td>\n",
       "      <td>982</td>\n",
       "      <td>983</td>\n",
       "      <td>Ball</td>\n",
       "      <td>Layla</td>\n",
       "      <td>1992-04-02</td>\n",
       "      <td>Newcastle-upon-Tyne</td>\n",
       "      <td>stacykelly@brown.info</td>\n",
       "      <td>176</td>\n",
       "    </tr>\n",
       "  </tbody>\n",
       "</table>\n",
       "<p>1000 rows × 9 columns</p>\n",
       "</div>"
      ],
      "text/plain": [
       "     cluster_0_5  cluster_0_9  unique_id first_name   surname         dob  \\\n",
       "0              1            1          2     Julia     Taylor  2016-01-27   \n",
       "1             12           12         12      Noah       None  2008-03-23   \n",
       "2             23           23         26     Ollie   Thompson  1996-03-22   \n",
       "3             28           28         28   Matilda       None  1983-04-30   \n",
       "4             29           29         29     Harris  Matilda   1983-04-30   \n",
       "..           ...          ...        ...        ...       ...         ...   \n",
       "995          947          947        951     Ael ai   Johnson  1985-05-04   \n",
       "996          963          963        963   Gabriel    Bartltt  1973-12-09   \n",
       "997          971          971        971       None    Taylor  1978-05-09   \n",
       "998          977          977        980     Layla       Ball  1992-04-02   \n",
       "999          982          982        983       Ball    Layla   1992-04-02   \n",
       "\n",
       "                    city                              email  group  \n",
       "0                 London                hannah88@powers.com      0  \n",
       "1                  Blotn                               None      1  \n",
       "2                  Leeds       jefferyduke@brown-alazar.org      5  \n",
       "3                 London               patricia47@davis.com      6  \n",
       "4                 London               patricia47@davis.com      6  \n",
       "..                   ...                                ...    ...  \n",
       "995                Luton          oleondanisle@martinez.com    170  \n",
       "996        Wolverhampton       ogomez@robinson-mckinney.com    173  \n",
       "997                Ldnon  tiffanyrodriguez@rodriguez-yu.com    175  \n",
       "998  Newcastle-upon-Tyne              stacykelly@brown.info    176  \n",
       "999  Newcastle-upon-Tyne              stacykelly@brown.info    176  \n",
       "\n",
       "[1000 rows x 9 columns]"
      ]
     },
     "execution_count": 11,
     "metadata": {},
     "output_type": "execute_result"
    }
   ],
   "source": [
    "from splink.cluster import clusters_at_thresholds\n",
    "\n",
    "thresholds = {\"cluster_0_5\": 0.5, \"cluster_0_9\": 0.9}\n",
    "clusters_at_thresholds(df, df_e, thresholds, linker.model).toPandas()"
   ]
  }
 ],
 "metadata": {
  "kernelspec": {
   "display_name": "Python 3 (ipykernel)",
   "language": "python",
   "name": "python3"
  },
  "language_info": {
   "codemirror_mode": {
    "name": "ipython",
    "version": 3
   },
   "file_extension": ".py",
   "mimetype": "text/x-python",
   "name": "python",
   "nbconvert_exporter": "python",
   "pygments_lexer": "ipython3",
   "version": "3.8.3"
  }
 },
 "nbformat": 4,
 "nbformat_minor": 4
}
