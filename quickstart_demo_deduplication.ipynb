{
 "cells": [
  {
   "cell_type": "markdown",
   "metadata": {
    "tags": []
   },
   "source": [
    "## Deduplication quickstart\n",
    "\n",
    "In this demo we de-duplicate a small dataset using simple settings. \n",
    "\n",
    "The aim is to demonstarate core Splink functionality succinctly, rather that comprehensively document all configuration options.\n",
    "\n",
    "We use the `duckdb` backend, which is the recommended option for smaller datasets.  Splink also offers a `pyspark` backend for larger record linkages."
   ]
  },
  {
   "cell_type": "code",
   "execution_count": 1,
   "metadata": {},
   "outputs": [],
   "source": [
    "from splink.duckdb.duckdb_linker import DuckDBLinker"
   ]
  },
  {
   "cell_type": "markdown",
   "metadata": {},
   "source": [
    "## Step 1: Read in data\n",
    "Read in a 1000-record dataset that contains duplicates.\n",
    "\n",
    "Note that the `cluster` column represents the 'ground truth' - a column which tells us with which rows refer to the same person.  In most real linkage scenarios, we wouldn't have this column - this is the information that Splink is trying to estimate."
   ]
  },
  {
   "cell_type": "code",
   "execution_count": 2,
   "metadata": {},
   "outputs": [
    {
     "data": {
      "text/html": [
       "<div>\n",
       "<style scoped>\n",
       "    .dataframe tbody tr th:only-of-type {\n",
       "        vertical-align: middle;\n",
       "    }\n",
       "\n",
       "    .dataframe tbody tr th {\n",
       "        vertical-align: top;\n",
       "    }\n",
       "\n",
       "    .dataframe thead th {\n",
       "        text-align: right;\n",
       "    }\n",
       "</style>\n",
       "<table border=\"1\" class=\"dataframe\">\n",
       "  <thead>\n",
       "    <tr style=\"text-align: right;\">\n",
       "      <th></th>\n",
       "      <th>unique_id</th>\n",
       "      <th>first_name</th>\n",
       "      <th>surname</th>\n",
       "      <th>dob</th>\n",
       "      <th>city</th>\n",
       "      <th>email</th>\n",
       "      <th>cluster</th>\n",
       "    </tr>\n",
       "  </thead>\n",
       "  <tbody>\n",
       "    <tr>\n",
       "      <th>0</th>\n",
       "      <td>0</td>\n",
       "      <td>Robert</td>\n",
       "      <td>Alan</td>\n",
       "      <td>1971-06-24</td>\n",
       "      <td>NaN</td>\n",
       "      <td>robert255@smith.net</td>\n",
       "      <td>0</td>\n",
       "    </tr>\n",
       "    <tr>\n",
       "      <th>1</th>\n",
       "      <td>1</td>\n",
       "      <td>Robert</td>\n",
       "      <td>Allen</td>\n",
       "      <td>1971-05-24</td>\n",
       "      <td>NaN</td>\n",
       "      <td>roberta25@smith.net</td>\n",
       "      <td>0</td>\n",
       "    </tr>\n",
       "    <tr>\n",
       "      <th>2</th>\n",
       "      <td>2</td>\n",
       "      <td>Rob</td>\n",
       "      <td>Allen</td>\n",
       "      <td>1971-06-24</td>\n",
       "      <td>London</td>\n",
       "      <td>roberta25@smith.net</td>\n",
       "      <td>0</td>\n",
       "    </tr>\n",
       "    <tr>\n",
       "      <th>3</th>\n",
       "      <td>3</td>\n",
       "      <td>Robert</td>\n",
       "      <td>Alen</td>\n",
       "      <td>1971-06-24</td>\n",
       "      <td>Lonon</td>\n",
       "      <td>NaN</td>\n",
       "      <td>0</td>\n",
       "    </tr>\n",
       "    <tr>\n",
       "      <th>4</th>\n",
       "      <td>4</td>\n",
       "      <td>Grace</td>\n",
       "      <td>NaN</td>\n",
       "      <td>1997-04-26</td>\n",
       "      <td>Hull</td>\n",
       "      <td>grace.kelly52@jones.com</td>\n",
       "      <td>1</td>\n",
       "    </tr>\n",
       "  </tbody>\n",
       "</table>\n",
       "</div>"
      ],
      "text/plain": [
       "   unique_id first_name surname         dob    city                    email  \\\n",
       "0          0     Robert    Alan  1971-06-24     NaN      robert255@smith.net   \n",
       "1          1     Robert   Allen  1971-05-24     NaN      roberta25@smith.net   \n",
       "2          2        Rob   Allen  1971-06-24  London      roberta25@smith.net   \n",
       "3          3     Robert    Alen  1971-06-24   Lonon                      NaN   \n",
       "4          4      Grace     NaN  1997-04-26    Hull  grace.kelly52@jones.com   \n",
       "\n",
       "   cluster  \n",
       "0        0  \n",
       "1        0  \n",
       "2        0  \n",
       "3        0  \n",
       "4        1  "
      ]
     },
     "execution_count": 2,
     "metadata": {},
     "output_type": "execute_result"
    }
   ],
   "source": [
    "import pandas as pd \n",
    "pd.options.display.max_rows = 1000\n",
    "df = pd.read_csv(\"./data/fake_1000.csv\")\n",
    "df.head(5)"
   ]
  },
  {
   "cell_type": "markdown",
   "metadata": {},
   "source": [
    "## Step 2: Profile columns\n",
    "\n",
    "Splink can perform exploratory analysis of columns (e.g. `first_name`, or arbitrary sql expressions like `concat(first_name, surname)`).  \n",
    "\n",
    "This is useful for understanding your data, whether it suffers from skew, and whether additional data cleaning may be necessary."
   ]
  },
  {
   "cell_type": "code",
   "execution_count": 3,
   "metadata": {},
   "outputs": [],
   "source": [
    "# Initialise the linker, passing in the input dataset(s)\n",
    "linker = DuckDBLinker(input_tables = {\"fake_1000\": df})\n",
    "\n"
   ]
  },
  {
   "cell_type": "code",
   "execution_count": 4,
   "metadata": {},
   "outputs": [
    {
     "data": {
      "text/html": [
       "\n",
       "<div id=\"altair-viz-ff6ca516d376461a889c0864e5d73d3e\"></div>\n",
       "<script type=\"text/javascript\">\n",
       "  var VEGA_DEBUG = (typeof VEGA_DEBUG == \"undefined\") ? {} : VEGA_DEBUG;\n",
       "  (function(spec, embedOpt){\n",
       "    let outputDiv = document.currentScript.previousElementSibling;\n",
       "    if (outputDiv.id !== \"altair-viz-ff6ca516d376461a889c0864e5d73d3e\") {\n",
       "      outputDiv = document.getElementById(\"altair-viz-ff6ca516d376461a889c0864e5d73d3e\");\n",
       "    }\n",
       "    const paths = {\n",
       "      \"vega\": \"https://cdn.jsdelivr.net/npm//vega@5?noext\",\n",
       "      \"vega-lib\": \"https://cdn.jsdelivr.net/npm//vega-lib?noext\",\n",
       "      \"vega-lite\": \"https://cdn.jsdelivr.net/npm//vega-lite@4.17.0?noext\",\n",
       "      \"vega-embed\": \"https://cdn.jsdelivr.net/npm//vega-embed@6?noext\",\n",
       "    };\n",
       "\n",
       "    function maybeLoadScript(lib, version) {\n",
       "      var key = `${lib.replace(\"-\", \"\")}_version`;\n",
       "      return (VEGA_DEBUG[key] == version) ?\n",
       "        Promise.resolve(paths[lib]) :\n",
       "        new Promise(function(resolve, reject) {\n",
       "          var s = document.createElement('script');\n",
       "          document.getElementsByTagName(\"head\")[0].appendChild(s);\n",
       "          s.async = true;\n",
       "          s.onload = () => {\n",
       "            VEGA_DEBUG[key] = version;\n",
       "            return resolve(paths[lib]);\n",
       "          };\n",
       "          s.onerror = () => reject(`Error loading script: ${paths[lib]}`);\n",
       "          s.src = paths[lib];\n",
       "        });\n",
       "    }\n",
       "\n",
       "    function showError(err) {\n",
       "      outputDiv.innerHTML = `<div class=\"error\" style=\"color:red;\">${err}</div>`;\n",
       "      throw err;\n",
       "    }\n",
       "\n",
       "    function displayChart(vegaEmbed) {\n",
       "      vegaEmbed(outputDiv, spec, embedOpt)\n",
       "        .catch(err => showError(`Javascript Error: ${err.message}<br>This usually means there's a typo in your chart specification. See the javascript console for the full traceback.`));\n",
       "    }\n",
       "\n",
       "    if(typeof define === \"function\" && define.amd) {\n",
       "      requirejs.config({paths});\n",
       "      require([\"vega-embed\"], displayChart, err => showError(`Error loading script: ${err.message}`));\n",
       "    } else {\n",
       "      maybeLoadScript(\"vega\", \"5\")\n",
       "        .then(() => maybeLoadScript(\"vega-lite\", \"4.17.0\"))\n",
       "        .then(() => maybeLoadScript(\"vega-embed\", \"6\"))\n",
       "        .catch(showError)\n",
       "        .then(() => displayChart(vegaEmbed));\n",
       "    }\n",
       "  })({\"config\": {\"view\": {\"continuousWidth\": 400, \"continuousHeight\": 300, \"width\": 400}, \"axis\": {\"labelFontSize\": 11}}, \"title\": \"\", \"layer\": [{\"mark\": \"bar\", \"encoding\": {\"color\": {\"type\": \"quantitative\", \"field\": \"null_proportion\", \"legend\": {\"format\": \".0%\"}, \"scale\": {\"range\": \"heatmap\"}, \"title\": \"Missingness\"}, \"tooltip\": [{\"type\": \"nominal\", \"field\": \"column_name\", \"title\": \"Column\"}, {\"type\": \"quantitative\", \"field\": \"null_count\", \"format\": \",.0f\", \"title\": \"Count of nulls\"}, {\"type\": \"quantitative\", \"field\": \"null_proportion\", \"format\": \".2%\", \"title\": \"Percentage of nulls\"}, {\"type\": \"quantitative\", \"field\": \"total_record_count\", \"format\": \",.0f\", \"title\": \"Total record count\"}], \"x\": {\"type\": \"quantitative\", \"axis\": {\"format\": \"%\", \"title\": \"Percentage of nulls\"}, \"field\": \"null_proportion\"}, \"y\": {\"type\": \"nominal\", \"axis\": {\"title\": \"\"}, \"field\": \"column_name\", \"sort\": \"-x\"}}, \"title\": \"Missingness per column out of 1,000 records\"}], \"data\": {\"values\": [{\"null_proportion\": 0.0, \"null_count\": 0, \"total_record_count\": 1000, \"column_name\": \"source_dataset\"}, {\"null_proportion\": 0.0, \"null_count\": 0, \"total_record_count\": 1000, \"column_name\": \"unique_id\"}, {\"null_proportion\": 0.1690000295639038, \"null_count\": 169, \"total_record_count\": 1000, \"column_name\": \"first_name\"}, {\"null_proportion\": 0.1809999942779541, \"null_count\": 181, \"total_record_count\": 1000, \"column_name\": \"surname\"}, {\"null_proportion\": 0.0, \"null_count\": 0, \"total_record_count\": 1000, \"column_name\": \"dob\"}, {\"null_proportion\": 0.18699997663497925, \"null_count\": 187, \"total_record_count\": 1000, \"column_name\": \"city\"}, {\"null_proportion\": 0.21100002527236938, \"null_count\": 211, \"total_record_count\": 1000, \"column_name\": \"email\"}, {\"null_proportion\": 0.0, \"null_count\": 0, \"total_record_count\": 1000, \"column_name\": \"cluster\"}], \"name\": \"data-0e7bce5a1d2f132e282789d6ef7780fe\"}, \"$schema\": \"https://vega.github.io/schema/vega-lite/v4.8.1.json\"}, {\"mode\": \"vega-lite\"});\n",
       "</script>"
      ],
      "text/plain": [
       "<altair.vegalite.v4.display.VegaLite at 0x7face852bbe0>"
      ]
     },
     "metadata": {},
     "output_type": "display_data"
    }
   ],
   "source": [
    "c = linker.missingness_chart()"
   ]
  },
  {
   "cell_type": "code",
   "execution_count": 5,
   "metadata": {},
   "outputs": [
    {
     "data": {
      "text/html": [
       "\n",
       "<div id=\"altair-viz-e3541816dce040f484632cd336232ddc\"></div>\n",
       "<script type=\"text/javascript\">\n",
       "  var VEGA_DEBUG = (typeof VEGA_DEBUG == \"undefined\") ? {} : VEGA_DEBUG;\n",
       "  (function(spec, embedOpt){\n",
       "    let outputDiv = document.currentScript.previousElementSibling;\n",
       "    if (outputDiv.id !== \"altair-viz-e3541816dce040f484632cd336232ddc\") {\n",
       "      outputDiv = document.getElementById(\"altair-viz-e3541816dce040f484632cd336232ddc\");\n",
       "    }\n",
       "    const paths = {\n",
       "      \"vega\": \"https://cdn.jsdelivr.net/npm//vega@5?noext\",\n",
       "      \"vega-lib\": \"https://cdn.jsdelivr.net/npm//vega-lib?noext\",\n",
       "      \"vega-lite\": \"https://cdn.jsdelivr.net/npm//vega-lite@4.17.0?noext\",\n",
       "      \"vega-embed\": \"https://cdn.jsdelivr.net/npm//vega-embed@6?noext\",\n",
       "    };\n",
       "\n",
       "    function maybeLoadScript(lib, version) {\n",
       "      var key = `${lib.replace(\"-\", \"\")}_version`;\n",
       "      return (VEGA_DEBUG[key] == version) ?\n",
       "        Promise.resolve(paths[lib]) :\n",
       "        new Promise(function(resolve, reject) {\n",
       "          var s = document.createElement('script');\n",
       "          document.getElementsByTagName(\"head\")[0].appendChild(s);\n",
       "          s.async = true;\n",
       "          s.onload = () => {\n",
       "            VEGA_DEBUG[key] = version;\n",
       "            return resolve(paths[lib]);\n",
       "          };\n",
       "          s.onerror = () => reject(`Error loading script: ${paths[lib]}`);\n",
       "          s.src = paths[lib];\n",
       "        });\n",
       "    }\n",
       "\n",
       "    function showError(err) {\n",
       "      outputDiv.innerHTML = `<div class=\"error\" style=\"color:red;\">${err}</div>`;\n",
       "      throw err;\n",
       "    }\n",
       "\n",
       "    function displayChart(vegaEmbed) {\n",
       "      vegaEmbed(outputDiv, spec, embedOpt)\n",
       "        .catch(err => showError(`Javascript Error: ${err.message}<br>This usually means there's a typo in your chart specification. See the javascript console for the full traceback.`));\n",
       "    }\n",
       "\n",
       "    if(typeof define === \"function\" && define.amd) {\n",
       "      requirejs.config({paths});\n",
       "      require([\"vega-embed\"], displayChart, err => showError(`Error loading script: ${err.message}`));\n",
       "    } else {\n",
       "      maybeLoadScript(\"vega\", \"5\")\n",
       "        .then(() => maybeLoadScript(\"vega-lite\", \"4.17.0\"))\n",
       "        .then(() => maybeLoadScript(\"vega-embed\", \"6\"))\n",
       "        .catch(showError)\n",
       "        .then(() => displayChart(vegaEmbed));\n",
       "    }\n",
       "  })({\"config\": {\"view\": {\"continuousWidth\": 400, \"continuousHeight\": 300}}, \"vconcat\": [{\"hconcat\": [{\"data\": {\"values\": [{\"percentile_ex_nulls\": 0.966305673122406, \"percentile_inc_nulls\": 0.972000002861023, \"value_count\": 28, \"group_name\": \"first_name\", \"total_non_null_rows\": 831, \"total_rows_inc_nulls\": 1000, \"sum_tokens_in_value_count_group\": 28.0, \"distinct_value_count\": 335}, {\"percentile_ex_nulls\": 0.9470517635345459, \"percentile_inc_nulls\": 0.9559999704360962, \"value_count\": 16, \"group_name\": \"first_name\", \"total_non_null_rows\": 831, \"total_rows_inc_nulls\": 1000, \"sum_tokens_in_value_count_group\": 16.0, \"distinct_value_count\": 335}, {\"percentile_ex_nulls\": 0.9290012121200562, \"percentile_inc_nulls\": 0.9409999847412109, \"value_count\": 15, \"group_name\": \"first_name\", \"total_non_null_rows\": 831, \"total_rows_inc_nulls\": 1000, \"sum_tokens_in_value_count_group\": 15.0, \"distinct_value_count\": 335}, {\"percentile_ex_nulls\": 0.9121540188789368, \"percentile_inc_nulls\": 0.9269999861717224, \"value_count\": 14, \"group_name\": \"first_name\", \"total_non_null_rows\": 831, \"total_rows_inc_nulls\": 1000, \"sum_tokens_in_value_count_group\": 14.0, \"distinct_value_count\": 335}, {\"percentile_ex_nulls\": 0.8965102434158325, \"percentile_inc_nulls\": 0.9139999747276306, \"value_count\": 13, \"group_name\": \"first_name\", \"total_non_null_rows\": 831, \"total_rows_inc_nulls\": 1000, \"sum_tokens_in_value_count_group\": 13.0, \"distinct_value_count\": 335}, {\"percentile_ex_nulls\": 0.8820698261260986, \"percentile_inc_nulls\": 0.9020000100135803, \"value_count\": 12, \"group_name\": \"first_name\", \"total_non_null_rows\": 831, \"total_rows_inc_nulls\": 1000, \"sum_tokens_in_value_count_group\": 12.0, \"distinct_value_count\": 335}, {\"percentile_ex_nulls\": 0.8423585891723633, \"percentile_inc_nulls\": 0.8690000176429749, \"value_count\": 11, \"group_name\": \"first_name\", \"total_non_null_rows\": 831, \"total_rows_inc_nulls\": 1000, \"sum_tokens_in_value_count_group\": 33.0, \"distinct_value_count\": 335}, {\"percentile_ex_nulls\": 0.818291187286377, \"percentile_inc_nulls\": 0.8489999771118164, \"value_count\": 10, \"group_name\": \"first_name\", \"total_non_null_rows\": 831, \"total_rows_inc_nulls\": 1000, \"sum_tokens_in_value_count_group\": 20.0, \"distinct_value_count\": 335}, {\"percentile_ex_nulls\": 0.7641395926475525, \"percentile_inc_nulls\": 0.8040000200271606, \"value_count\": 9, \"group_name\": \"first_name\", \"total_non_null_rows\": 831, \"total_rows_inc_nulls\": 1000, \"sum_tokens_in_value_count_group\": 45.0, \"distinct_value_count\": 335}, {\"percentile_ex_nulls\": 0.7352586984634399, \"percentile_inc_nulls\": 0.7799999713897705, \"value_count\": 8, \"group_name\": \"first_name\", \"total_non_null_rows\": 831, \"total_rows_inc_nulls\": 1000, \"sum_tokens_in_value_count_group\": 24.0, \"distinct_value_count\": 335}, {\"percentile_ex_nulls\": 0.701564371585846, \"percentile_inc_nulls\": 0.7519999742507935, \"value_count\": 7, \"group_name\": \"first_name\", \"total_non_null_rows\": 831, \"total_rows_inc_nulls\": 1000, \"sum_tokens_in_value_count_group\": 28.0, \"distinct_value_count\": 335}, {\"percentile_ex_nulls\": 0.6293622255325317, \"percentile_inc_nulls\": 0.6920000314712524, \"value_count\": 6, \"group_name\": \"first_name\", \"total_non_null_rows\": 831, \"total_rows_inc_nulls\": 1000, \"sum_tokens_in_value_count_group\": 60.0, \"distinct_value_count\": 335}, {\"percentile_ex_nulls\": 0.539109468460083, \"percentile_inc_nulls\": 0.6169999837875366, \"value_count\": 5, \"group_name\": \"first_name\", \"total_non_null_rows\": 831, \"total_rows_inc_nulls\": 1000, \"sum_tokens_in_value_count_group\": 75.0, \"distinct_value_count\": 335}, {\"percentile_ex_nulls\": 0.42358607053756714, \"percentile_inc_nulls\": 0.5210000276565552, \"value_count\": 4, \"group_name\": \"first_name\", \"total_non_null_rows\": 831, \"total_rows_inc_nulls\": 1000, \"sum_tokens_in_value_count_group\": 96.0, \"distinct_value_count\": 335}, {\"percentile_ex_nulls\": 0.33694344758987427, \"percentile_inc_nulls\": 0.4490000009536743, \"value_count\": 3, \"group_name\": \"first_name\", \"total_non_null_rows\": 831, \"total_rows_inc_nulls\": 1000, \"sum_tokens_in_value_count_group\": 72.0, \"distinct_value_count\": 335}, {\"percentile_ex_nulls\": 0.23826712369918823, \"percentile_inc_nulls\": 0.3669999837875366, \"value_count\": 2, \"group_name\": \"first_name\", \"total_non_null_rows\": 831, \"total_rows_inc_nulls\": 1000, \"sum_tokens_in_value_count_group\": 82.0, \"distinct_value_count\": 335}, {\"percentile_ex_nulls\": 0.0, \"percentile_inc_nulls\": 0.1690000295639038, \"value_count\": 1, \"group_name\": \"first_name\", \"total_non_null_rows\": 831, \"total_rows_inc_nulls\": 1000, \"sum_tokens_in_value_count_group\": 198.0, \"distinct_value_count\": 335}, {\"percentile_ex_nulls\": 1.0, \"percentile_inc_nulls\": 1.0, \"value_count\": 28, \"group_name\": \"first_name\", \"total_non_null_rows\": 831, \"total_rows_inc_nulls\": 1000, \"sum_tokens_in_value_count_group\": 28.0, \"distinct_value_count\": 335}]}, \"mark\": {\"type\": \"line\", \"interpolate\": \"step-after\"}, \"encoding\": {\"x\": {\"type\": \"quantitative\", \"field\": \"percentile_ex_nulls\", \"sort\": \"descending\", \"title\": \"Percentile\"}, \"y\": {\"type\": \"quantitative\", \"field\": \"value_count\", \"title\": \"Count of values\"}, \"tooltip\": [{\"field\": \"value_count\", \"type\": \"quantitative\"}, {\"field\": \"percentile_ex_nulls\", \"type\": \"quantitative\"}, {\"field\": \"percentile_inc_nulls\", \"type\": \"quantitative\"}, {\"field\": \"total_non_null_rows\", \"type\": \"quantitative\"}, {\"field\": \"total_rows_inc_nulls\", \"type\": \"quantitative\"}]}, \"title\": {\"text\": \"Distribution of counts of values in column first_name\", \"subtitle\": \"In this col, 169 values (16.9%) are null and there are 335 distinct values\"}}, {\"data\": {\"values\": [{\"value_count\": 28, \"group_name\": \"first_name\", \"value\": \"Oliver\", \"total_non_null_rows\": 831, \"total_rows_inc_nulls\": 1000, \"distinct_value_count\": 335}, {\"value_count\": 16, \"group_name\": \"first_name\", \"value\": \"Jacob\", \"total_non_null_rows\": 831, \"total_rows_inc_nulls\": 1000, \"distinct_value_count\": 335}, {\"value_count\": 15, \"group_name\": \"first_name\", \"value\": \"Freddie\", \"total_non_null_rows\": 831, \"total_rows_inc_nulls\": 1000, \"distinct_value_count\": 335}, {\"value_count\": 14, \"group_name\": \"first_name\", \"value\": \"Olivia\", \"total_non_null_rows\": 831, \"total_rows_inc_nulls\": 1000, \"distinct_value_count\": 335}, {\"value_count\": 13, \"group_name\": \"first_name\", \"value\": \"James\", \"total_non_null_rows\": 831, \"total_rows_inc_nulls\": 1000, \"distinct_value_count\": 335}, {\"value_count\": 12, \"group_name\": \"first_name\", \"value\": \"George\", \"total_non_null_rows\": 831, \"total_rows_inc_nulls\": 1000, \"distinct_value_count\": 335}, {\"value_count\": 11, \"group_name\": \"first_name\", \"value\": \"Elizabeth\", \"total_non_null_rows\": 831, \"total_rows_inc_nulls\": 1000, \"distinct_value_count\": 335}, {\"value_count\": 11, \"group_name\": \"first_name\", \"value\": \"Alfie\", \"total_non_null_rows\": 831, \"total_rows_inc_nulls\": 1000, \"distinct_value_count\": 335}, {\"value_count\": 11, \"group_name\": \"first_name\", \"value\": \"Jessica\", \"total_non_null_rows\": 831, \"total_rows_inc_nulls\": 1000, \"distinct_value_count\": 335}, {\"value_count\": 10, \"group_name\": \"first_name\", \"value\": \"Logan\", \"total_non_null_rows\": 831, \"total_rows_inc_nulls\": 1000, \"distinct_value_count\": 335}]}, \"mark\": \"bar\", \"encoding\": {\"x\": {\"type\": \"nominal\", \"field\": \"value\", \"sort\": \"-y\", \"title\": null}, \"y\": {\"type\": \"quantitative\", \"field\": \"value_count\", \"title\": \"Value count\"}, \"tooltip\": [{\"field\": \"value\", \"type\": \"nominal\"}, {\"field\": \"value_count\", \"type\": \"quantitative\"}, {\"field\": \"total_non_null_rows\", \"type\": \"quantitative\"}, {\"field\": \"total_rows_inc_nulls\", \"type\": \"quantitative\"}]}, \"title\": \"Top 10 values by value count\"}, {\"data\": {\"values\": [{\"value_count\": 1, \"group_name\": \"first_name\", \"value\": \"Rob\", \"total_non_null_rows\": 831, \"total_rows_inc_nulls\": 1000, \"distinct_value_count\": 335}, {\"value_count\": 1, \"group_name\": \"first_name\", \"value\": \"Hall\", \"total_non_null_rows\": 831, \"total_rows_inc_nulls\": 1000, \"distinct_value_count\": 335}, {\"value_count\": 1, \"group_name\": \"first_name\", \"value\": \"Lucas\", \"total_non_null_rows\": 831, \"total_rows_inc_nulls\": 1000, \"distinct_value_count\": 335}, {\"value_count\": 1, \"group_name\": \"first_name\", \"value\": \"Luas\", \"total_non_null_rows\": 831, \"total_rows_inc_nulls\": 1000, \"distinct_value_count\": 335}, {\"value_count\": 1, \"group_name\": \"first_name\", \"value\": \"Rowe\", \"total_non_null_rows\": 831, \"total_rows_inc_nulls\": 1000, \"distinct_value_count\": 335}]}, \"mark\": \"bar\", \"encoding\": {\"x\": {\"type\": \"nominal\", \"field\": \"value\", \"sort\": \"-y\", \"title\": null}, \"y\": {\"type\": \"quantitative\", \"field\": \"value_count\", \"title\": \"Value count\", \"scale\": {\"domain\": [0, 28]}}, \"tooltip\": [{\"field\": \"value\", \"type\": \"nominal\"}, {\"field\": \"value_count\", \"type\": \"quantitative\"}, {\"field\": \"total_non_null_rows\", \"type\": \"quantitative\"}, {\"field\": \"total_rows_inc_nulls\", \"type\": \"quantitative\"}]}, \"title\": \"Bottom 5 values by value count\"}]}, {\"hconcat\": [{\"data\": {\"values\": [{\"percentile_ex_nulls\": 0.787207841873169, \"percentile_inc_nulls\": 0.8270000219345093, \"value_count\": 173, \"group_name\": \"city\", \"total_non_null_rows\": 813, \"total_rows_inc_nulls\": 1000, \"sum_tokens_in_value_count_group\": 173.0, \"distinct_value_count\": 218}, {\"percentile_ex_nulls\": 0.7380073666572571, \"percentile_inc_nulls\": 0.7870000004768372, \"value_count\": 40, \"group_name\": \"city\", \"total_non_null_rows\": 813, \"total_rows_inc_nulls\": 1000, \"sum_tokens_in_value_count_group\": 40.0, \"distinct_value_count\": 218}, {\"percentile_ex_nulls\": 0.6974169611930847, \"percentile_inc_nulls\": 0.7540000081062317, \"value_count\": 33, \"group_name\": \"city\", \"total_non_null_rows\": 813, \"total_rows_inc_nulls\": 1000, \"sum_tokens_in_value_count_group\": 33.0, \"distinct_value_count\": 218}, {\"percentile_ex_nulls\": 0.6715867519378662, \"percentile_inc_nulls\": 0.7330000400543213, \"value_count\": 21, \"group_name\": \"city\", \"total_non_null_rows\": 813, \"total_rows_inc_nulls\": 1000, \"sum_tokens_in_value_count_group\": 21.0, \"distinct_value_count\": 218}, {\"percentile_ex_nulls\": 0.6494464874267578, \"percentile_inc_nulls\": 0.7150000333786011, \"value_count\": 18, \"group_name\": \"city\", \"total_non_null_rows\": 813, \"total_rows_inc_nulls\": 1000, \"sum_tokens_in_value_count_group\": 18.0, \"distinct_value_count\": 218}, {\"percentile_ex_nulls\": 0.6076260805130005, \"percentile_inc_nulls\": 0.6809999942779541, \"value_count\": 17, \"group_name\": \"city\", \"total_non_null_rows\": 813, \"total_rows_inc_nulls\": 1000, \"sum_tokens_in_value_count_group\": 34.0, \"distinct_value_count\": 218}, {\"percentile_ex_nulls\": 0.5682656764984131, \"percentile_inc_nulls\": 0.6489999890327454, \"value_count\": 16, \"group_name\": \"city\", \"total_non_null_rows\": 813, \"total_rows_inc_nulls\": 1000, \"sum_tokens_in_value_count_group\": 32.0, \"distinct_value_count\": 218}, {\"percentile_ex_nulls\": 0.5166051387786865, \"percentile_inc_nulls\": 0.6069999933242798, \"value_count\": 14, \"group_name\": \"city\", \"total_non_null_rows\": 813, \"total_rows_inc_nulls\": 1000, \"sum_tokens_in_value_count_group\": 42.0, \"distinct_value_count\": 218}, {\"percentile_ex_nulls\": 0.48462486267089844, \"percentile_inc_nulls\": 0.5809999704360962, \"value_count\": 13, \"group_name\": \"city\", \"total_non_null_rows\": 813, \"total_rows_inc_nulls\": 1000, \"sum_tokens_in_value_count_group\": 26.0, \"distinct_value_count\": 218}, {\"percentile_ex_nulls\": 0.4403443932533264, \"percentile_inc_nulls\": 0.5449999570846558, \"value_count\": 12, \"group_name\": \"city\", \"total_non_null_rows\": 813, \"total_rows_inc_nulls\": 1000, \"sum_tokens_in_value_count_group\": 36.0, \"distinct_value_count\": 218}, {\"percentile_ex_nulls\": 0.41574418544769287, \"percentile_inc_nulls\": 0.5249999761581421, \"value_count\": 10, \"group_name\": \"city\", \"total_non_null_rows\": 813, \"total_rows_inc_nulls\": 1000, \"sum_tokens_in_value_count_group\": 20.0, \"distinct_value_count\": 218}, {\"percentile_ex_nulls\": 0.3936039209365845, \"percentile_inc_nulls\": 0.5069999694824219, \"value_count\": 9, \"group_name\": \"city\", \"total_non_null_rows\": 813, \"total_rows_inc_nulls\": 1000, \"sum_tokens_in_value_count_group\": 18.0, \"distinct_value_count\": 218}, {\"percentile_ex_nulls\": 0.3640836477279663, \"percentile_inc_nulls\": 0.4829999804496765, \"value_count\": 8, \"group_name\": \"city\", \"total_non_null_rows\": 813, \"total_rows_inc_nulls\": 1000, \"sum_tokens_in_value_count_group\": 24.0, \"distinct_value_count\": 218}, {\"percentile_ex_nulls\": 0.31242311000823975, \"percentile_inc_nulls\": 0.44099998474121094, \"value_count\": 7, \"group_name\": \"city\", \"total_non_null_rows\": 813, \"total_rows_inc_nulls\": 1000, \"sum_tokens_in_value_count_group\": 42.0, \"distinct_value_count\": 218}, {\"percentile_ex_nulls\": 0.2829028367996216, \"percentile_inc_nulls\": 0.4169999957084656, \"value_count\": 6, \"group_name\": \"city\", \"total_non_null_rows\": 813, \"total_rows_inc_nulls\": 1000, \"sum_tokens_in_value_count_group\": 24.0, \"distinct_value_count\": 218}, {\"percentile_ex_nulls\": 0.25830256938934326, \"percentile_inc_nulls\": 0.3970000147819519, \"value_count\": 5, \"group_name\": \"city\", \"total_non_null_rows\": 813, \"total_rows_inc_nulls\": 1000, \"sum_tokens_in_value_count_group\": 20.0, \"distinct_value_count\": 218}, {\"percentile_ex_nulls\": 0.24354243278503418, \"percentile_inc_nulls\": 0.38499999046325684, \"value_count\": 4, \"group_name\": \"city\", \"total_non_null_rows\": 813, \"total_rows_inc_nulls\": 1000, \"sum_tokens_in_value_count_group\": 12.0, \"distinct_value_count\": 218}, {\"percentile_ex_nulls\": 0.2287822961807251, \"percentile_inc_nulls\": 0.37300002574920654, \"value_count\": 3, \"group_name\": \"city\", \"total_non_null_rows\": 813, \"total_rows_inc_nulls\": 1000, \"sum_tokens_in_value_count_group\": 12.0, \"distinct_value_count\": 218}, {\"percentile_ex_nulls\": 0.19680196046829224, \"percentile_inc_nulls\": 0.34700000286102295, \"value_count\": 2, \"group_name\": \"city\", \"total_non_null_rows\": 813, \"total_rows_inc_nulls\": 1000, \"sum_tokens_in_value_count_group\": 26.0, \"distinct_value_count\": 218}, {\"percentile_ex_nulls\": 0.0, \"percentile_inc_nulls\": 0.18699997663497925, \"value_count\": 1, \"group_name\": \"city\", \"total_non_null_rows\": 813, \"total_rows_inc_nulls\": 1000, \"sum_tokens_in_value_count_group\": 160.0, \"distinct_value_count\": 218}, {\"percentile_ex_nulls\": 1.0, \"percentile_inc_nulls\": 1.0, \"value_count\": 173, \"group_name\": \"city\", \"total_non_null_rows\": 813, \"total_rows_inc_nulls\": 1000, \"sum_tokens_in_value_count_group\": 173.0, \"distinct_value_count\": 218}]}, \"mark\": {\"type\": \"line\", \"interpolate\": \"step-after\"}, \"encoding\": {\"x\": {\"type\": \"quantitative\", \"field\": \"percentile_ex_nulls\", \"sort\": \"descending\", \"title\": \"Percentile\"}, \"y\": {\"type\": \"quantitative\", \"field\": \"value_count\", \"title\": \"Count of values\"}, \"tooltip\": [{\"field\": \"value_count\", \"type\": \"quantitative\"}, {\"field\": \"percentile_ex_nulls\", \"type\": \"quantitative\"}, {\"field\": \"percentile_inc_nulls\", \"type\": \"quantitative\"}, {\"field\": \"total_non_null_rows\", \"type\": \"quantitative\"}, {\"field\": \"total_rows_inc_nulls\", \"type\": \"quantitative\"}]}, \"title\": {\"text\": \"Distribution of counts of values in column city\", \"subtitle\": \"In this col, 187 values (18.7%) are null and there are 218 distinct values\"}}, {\"data\": {\"values\": [{\"value_count\": 173, \"group_name\": \"city\", \"value\": \"London\", \"total_non_null_rows\": 813, \"total_rows_inc_nulls\": 1000, \"distinct_value_count\": 218}, {\"value_count\": 40, \"group_name\": \"city\", \"value\": \"Birmingham\", \"total_non_null_rows\": 813, \"total_rows_inc_nulls\": 1000, \"distinct_value_count\": 218}, {\"value_count\": 33, \"group_name\": \"city\", \"value\": \"Liverpool\", \"total_non_null_rows\": 813, \"total_rows_inc_nulls\": 1000, \"distinct_value_count\": 218}, {\"value_count\": 21, \"group_name\": \"city\", \"value\": \"Coventry\", \"total_non_null_rows\": 813, \"total_rows_inc_nulls\": 1000, \"distinct_value_count\": 218}, {\"value_count\": 18, \"group_name\": \"city\", \"value\": \"Newcastle-upon-Tyne\", \"total_non_null_rows\": 813, \"total_rows_inc_nulls\": 1000, \"distinct_value_count\": 218}, {\"value_count\": 17, \"group_name\": \"city\", \"value\": \"Leeds\", \"total_non_null_rows\": 813, \"total_rows_inc_nulls\": 1000, \"distinct_value_count\": 218}, {\"value_count\": 17, \"group_name\": \"city\", \"value\": \"Manchester\", \"total_non_null_rows\": 813, \"total_rows_inc_nulls\": 1000, \"distinct_value_count\": 218}, {\"value_count\": 16, \"group_name\": \"city\", \"value\": \"Bristol\", \"total_non_null_rows\": 813, \"total_rows_inc_nulls\": 1000, \"distinct_value_count\": 218}, {\"value_count\": 16, \"group_name\": \"city\", \"value\": \"Aberdeen\", \"total_non_null_rows\": 813, \"total_rows_inc_nulls\": 1000, \"distinct_value_count\": 218}, {\"value_count\": 14, \"group_name\": \"city\", \"value\": \"Portsmouth\", \"total_non_null_rows\": 813, \"total_rows_inc_nulls\": 1000, \"distinct_value_count\": 218}]}, \"mark\": \"bar\", \"encoding\": {\"x\": {\"type\": \"nominal\", \"field\": \"value\", \"sort\": \"-y\", \"title\": null}, \"y\": {\"type\": \"quantitative\", \"field\": \"value_count\", \"title\": \"Value count\"}, \"tooltip\": [{\"field\": \"value\", \"type\": \"nominal\"}, {\"field\": \"value_count\", \"type\": \"quantitative\"}, {\"field\": \"total_non_null_rows\", \"type\": \"quantitative\"}, {\"field\": \"total_rows_inc_nulls\", \"type\": \"quantitative\"}]}, \"title\": \"Top 10 values by value count\"}, {\"data\": {\"values\": [{\"value_count\": 1, \"group_name\": \"city\", \"value\": \"Hull\", \"total_non_null_rows\": 813, \"total_rows_inc_nulls\": 1000, \"distinct_value_count\": 218}, {\"value_count\": 1, \"group_name\": \"city\", \"value\": \"Pootsmruth\", \"total_non_null_rows\": 813, \"total_rows_inc_nulls\": 1000, \"distinct_value_count\": 218}, {\"value_count\": 1, \"group_name\": \"city\", \"value\": \"Lunton\", \"total_non_null_rows\": 813, \"total_rows_inc_nulls\": 1000, \"distinct_value_count\": 218}, {\"value_count\": 1, \"group_name\": \"city\", \"value\": \"Lvpreool\", \"total_non_null_rows\": 813, \"total_rows_inc_nulls\": 1000, \"distinct_value_count\": 218}, {\"value_count\": 1, \"group_name\": \"city\", \"value\": \"Loodon\", \"total_non_null_rows\": 813, \"total_rows_inc_nulls\": 1000, \"distinct_value_count\": 218}]}, \"mark\": \"bar\", \"encoding\": {\"x\": {\"type\": \"nominal\", \"field\": \"value\", \"sort\": \"-y\", \"title\": null}, \"y\": {\"type\": \"quantitative\", \"field\": \"value_count\", \"title\": \"Value count\", \"scale\": {\"domain\": [0, 173]}}, \"tooltip\": [{\"field\": \"value\", \"type\": \"nominal\"}, {\"field\": \"value_count\", \"type\": \"quantitative\"}, {\"field\": \"total_non_null_rows\", \"type\": \"quantitative\"}, {\"field\": \"total_rows_inc_nulls\", \"type\": \"quantitative\"}]}, \"title\": \"Bottom 5 values by value count\"}]}, {\"hconcat\": [{\"data\": {\"values\": [{\"percentile_ex_nulls\": 0.9399999976158142, \"percentile_inc_nulls\": 0.9399999976158142, \"value_count\": 30, \"group_name\": \"substr(dob, 1,4)\", \"total_non_null_rows\": 1000, \"total_rows_inc_nulls\": 1000, \"sum_tokens_in_value_count_group\": 60.0, \"distinct_value_count\": 61}, {\"percentile_ex_nulls\": 0.9110000133514404, \"percentile_inc_nulls\": 0.9110000133514404, \"value_count\": 29, \"group_name\": \"substr(dob, 1,4)\", \"total_non_null_rows\": 1000, \"total_rows_inc_nulls\": 1000, \"sum_tokens_in_value_count_group\": 29.0, \"distinct_value_count\": 61}, {\"percentile_ex_nulls\": 0.8830000162124634, \"percentile_inc_nulls\": 0.8830000162124634, \"value_count\": 28, \"group_name\": \"substr(dob, 1,4)\", \"total_non_null_rows\": 1000, \"total_rows_inc_nulls\": 1000, \"sum_tokens_in_value_count_group\": 28.0, \"distinct_value_count\": 61}, {\"percentile_ex_nulls\": 0.8289999961853027, \"percentile_inc_nulls\": 0.8289999961853027, \"value_count\": 27, \"group_name\": \"substr(dob, 1,4)\", \"total_non_null_rows\": 1000, \"total_rows_inc_nulls\": 1000, \"sum_tokens_in_value_count_group\": 54.0, \"distinct_value_count\": 61}, {\"percentile_ex_nulls\": 0.7789999842643738, \"percentile_inc_nulls\": 0.7789999842643738, \"value_count\": 25, \"group_name\": \"substr(dob, 1,4)\", \"total_non_null_rows\": 1000, \"total_rows_inc_nulls\": 1000, \"sum_tokens_in_value_count_group\": 50.0, \"distinct_value_count\": 61}, {\"percentile_ex_nulls\": 0.7070000171661377, \"percentile_inc_nulls\": 0.7070000171661377, \"value_count\": 24, \"group_name\": \"substr(dob, 1,4)\", \"total_non_null_rows\": 1000, \"total_rows_inc_nulls\": 1000, \"sum_tokens_in_value_count_group\": 72.0, \"distinct_value_count\": 61}, {\"percentile_ex_nulls\": 0.5690000057220459, \"percentile_inc_nulls\": 0.5690000057220459, \"value_count\": 23, \"group_name\": \"substr(dob, 1,4)\", \"total_non_null_rows\": 1000, \"total_rows_inc_nulls\": 1000, \"sum_tokens_in_value_count_group\": 138.0, \"distinct_value_count\": 61}, {\"percentile_ex_nulls\": 0.48100000619888306, \"percentile_inc_nulls\": 0.48100000619888306, \"value_count\": 22, \"group_name\": \"substr(dob, 1,4)\", \"total_non_null_rows\": 1000, \"total_rows_inc_nulls\": 1000, \"sum_tokens_in_value_count_group\": 88.0, \"distinct_value_count\": 61}, {\"percentile_ex_nulls\": 0.4599999785423279, \"percentile_inc_nulls\": 0.4599999785423279, \"value_count\": 21, \"group_name\": \"substr(dob, 1,4)\", \"total_non_null_rows\": 1000, \"total_rows_inc_nulls\": 1000, \"sum_tokens_in_value_count_group\": 21.0, \"distinct_value_count\": 61}, {\"percentile_ex_nulls\": 0.3799999952316284, \"percentile_inc_nulls\": 0.3799999952316284, \"value_count\": 20, \"group_name\": \"substr(dob, 1,4)\", \"total_non_null_rows\": 1000, \"total_rows_inc_nulls\": 1000, \"sum_tokens_in_value_count_group\": 80.0, \"distinct_value_count\": 61}, {\"percentile_ex_nulls\": 0.3230000138282776, \"percentile_inc_nulls\": 0.3230000138282776, \"value_count\": 19, \"group_name\": \"substr(dob, 1,4)\", \"total_non_null_rows\": 1000, \"total_rows_inc_nulls\": 1000, \"sum_tokens_in_value_count_group\": 57.0, \"distinct_value_count\": 61}, {\"percentile_ex_nulls\": 0.26899999380111694, \"percentile_inc_nulls\": 0.26899999380111694, \"value_count\": 18, \"group_name\": \"substr(dob, 1,4)\", \"total_non_null_rows\": 1000, \"total_rows_inc_nulls\": 1000, \"sum_tokens_in_value_count_group\": 54.0, \"distinct_value_count\": 61}, {\"percentile_ex_nulls\": 0.23500001430511475, \"percentile_inc_nulls\": 0.23500001430511475, \"value_count\": 17, \"group_name\": \"substr(dob, 1,4)\", \"total_non_null_rows\": 1000, \"total_rows_inc_nulls\": 1000, \"sum_tokens_in_value_count_group\": 34.0, \"distinct_value_count\": 61}, {\"percentile_ex_nulls\": 0.203000009059906, \"percentile_inc_nulls\": 0.203000009059906, \"value_count\": 16, \"group_name\": \"substr(dob, 1,4)\", \"total_non_null_rows\": 1000, \"total_rows_inc_nulls\": 1000, \"sum_tokens_in_value_count_group\": 32.0, \"distinct_value_count\": 61}, {\"percentile_ex_nulls\": 0.15799999237060547, \"percentile_inc_nulls\": 0.15799999237060547, \"value_count\": 15, \"group_name\": \"substr(dob, 1,4)\", \"total_non_null_rows\": 1000, \"total_rows_inc_nulls\": 1000, \"sum_tokens_in_value_count_group\": 45.0, \"distinct_value_count\": 61}, {\"percentile_ex_nulls\": 0.14399999380111694, \"percentile_inc_nulls\": 0.14399999380111694, \"value_count\": 14, \"group_name\": \"substr(dob, 1,4)\", \"total_non_null_rows\": 1000, \"total_rows_inc_nulls\": 1000, \"sum_tokens_in_value_count_group\": 14.0, \"distinct_value_count\": 61}, {\"percentile_ex_nulls\": 0.07899999618530273, \"percentile_inc_nulls\": 0.07899999618530273, \"value_count\": 13, \"group_name\": \"substr(dob, 1,4)\", \"total_non_null_rows\": 1000, \"total_rows_inc_nulls\": 1000, \"sum_tokens_in_value_count_group\": 65.0, \"distinct_value_count\": 61}, {\"percentile_ex_nulls\": 0.05699998140335083, \"percentile_inc_nulls\": 0.05699998140335083, \"value_count\": 11, \"group_name\": \"substr(dob, 1,4)\", \"total_non_null_rows\": 1000, \"total_rows_inc_nulls\": 1000, \"sum_tokens_in_value_count_group\": 22.0, \"distinct_value_count\": 61}, {\"percentile_ex_nulls\": 0.04799997806549072, \"percentile_inc_nulls\": 0.04799997806549072, \"value_count\": 9, \"group_name\": \"substr(dob, 1,4)\", \"total_non_null_rows\": 1000, \"total_rows_inc_nulls\": 1000, \"sum_tokens_in_value_count_group\": 9.0, \"distinct_value_count\": 61}, {\"percentile_ex_nulls\": 0.04000002145767212, \"percentile_inc_nulls\": 0.04000002145767212, \"value_count\": 8, \"group_name\": \"substr(dob, 1,4)\", \"total_non_null_rows\": 1000, \"total_rows_inc_nulls\": 1000, \"sum_tokens_in_value_count_group\": 8.0, \"distinct_value_count\": 61}, {\"percentile_ex_nulls\": 0.03299999237060547, \"percentile_inc_nulls\": 0.03299999237060547, \"value_count\": 7, \"group_name\": \"substr(dob, 1,4)\", \"total_non_null_rows\": 1000, \"total_rows_inc_nulls\": 1000, \"sum_tokens_in_value_count_group\": 7.0, \"distinct_value_count\": 61}, {\"percentile_ex_nulls\": 0.027000010013580322, \"percentile_inc_nulls\": 0.027000010013580322, \"value_count\": 6, \"group_name\": \"substr(dob, 1,4)\", \"total_non_null_rows\": 1000, \"total_rows_inc_nulls\": 1000, \"sum_tokens_in_value_count_group\": 6.0, \"distinct_value_count\": 61}, {\"percentile_ex_nulls\": 0.017000019550323486, \"percentile_inc_nulls\": 0.017000019550323486, \"value_count\": 5, \"group_name\": \"substr(dob, 1,4)\", \"total_non_null_rows\": 1000, \"total_rows_inc_nulls\": 1000, \"sum_tokens_in_value_count_group\": 10.0, \"distinct_value_count\": 61}, {\"percentile_ex_nulls\": 0.013000011444091797, \"percentile_inc_nulls\": 0.013000011444091797, \"value_count\": 4, \"group_name\": \"substr(dob, 1,4)\", \"total_non_null_rows\": 1000, \"total_rows_inc_nulls\": 1000, \"sum_tokens_in_value_count_group\": 4.0, \"distinct_value_count\": 61}, {\"percentile_ex_nulls\": 0.009999990463256836, \"percentile_inc_nulls\": 0.009999990463256836, \"value_count\": 3, \"group_name\": \"substr(dob, 1,4)\", \"total_non_null_rows\": 1000, \"total_rows_inc_nulls\": 1000, \"sum_tokens_in_value_count_group\": 3.0, \"distinct_value_count\": 61}, {\"percentile_ex_nulls\": 0.001999974250793457, \"percentile_inc_nulls\": 0.001999974250793457, \"value_count\": 2, \"group_name\": \"substr(dob, 1,4)\", \"total_non_null_rows\": 1000, \"total_rows_inc_nulls\": 1000, \"sum_tokens_in_value_count_group\": 8.0, \"distinct_value_count\": 61}, {\"percentile_ex_nulls\": 0.0, \"percentile_inc_nulls\": 0.0, \"value_count\": 1, \"group_name\": \"substr(dob, 1,4)\", \"total_non_null_rows\": 1000, \"total_rows_inc_nulls\": 1000, \"sum_tokens_in_value_count_group\": 2.0, \"distinct_value_count\": 61}, {\"percentile_ex_nulls\": 1.0, \"percentile_inc_nulls\": 1.0, \"value_count\": 30, \"group_name\": \"substr(dob, 1,4)\", \"total_non_null_rows\": 1000, \"total_rows_inc_nulls\": 1000, \"sum_tokens_in_value_count_group\": 60.0, \"distinct_value_count\": 61}]}, \"mark\": {\"type\": \"line\", \"interpolate\": \"step-after\"}, \"encoding\": {\"x\": {\"type\": \"quantitative\", \"field\": \"percentile_ex_nulls\", \"sort\": \"descending\", \"title\": \"Percentile\"}, \"y\": {\"type\": \"quantitative\", \"field\": \"value_count\", \"title\": \"Count of values\"}, \"tooltip\": [{\"field\": \"value_count\", \"type\": \"quantitative\"}, {\"field\": \"percentile_ex_nulls\", \"type\": \"quantitative\"}, {\"field\": \"percentile_inc_nulls\", \"type\": \"quantitative\"}, {\"field\": \"total_non_null_rows\", \"type\": \"quantitative\"}, {\"field\": \"total_rows_inc_nulls\", \"type\": \"quantitative\"}]}, \"title\": {\"text\": \"Distribution of counts of values in column substr(dob, 1,4)\", \"subtitle\": \"In this col, 0 values (0.0%) are null and there are 61 distinct values\"}}, {\"data\": {\"values\": [{\"value_count\": 30, \"group_name\": \"substr(dob, 1,4)\", \"value\": \"2011\", \"total_non_null_rows\": 1000, \"total_rows_inc_nulls\": 1000, \"distinct_value_count\": 61}, {\"value_count\": 30, \"group_name\": \"substr(dob, 1,4)\", \"value\": \"2000\", \"total_non_null_rows\": 1000, \"total_rows_inc_nulls\": 1000, \"distinct_value_count\": 61}, {\"value_count\": 29, \"group_name\": \"substr(dob, 1,4)\", \"value\": \"1983\", \"total_non_null_rows\": 1000, \"total_rows_inc_nulls\": 1000, \"distinct_value_count\": 61}, {\"value_count\": 28, \"group_name\": \"substr(dob, 1,4)\", \"value\": \"1984\", \"total_non_null_rows\": 1000, \"total_rows_inc_nulls\": 1000, \"distinct_value_count\": 61}, {\"value_count\": 27, \"group_name\": \"substr(dob, 1,4)\", \"value\": \"1991\", \"total_non_null_rows\": 1000, \"total_rows_inc_nulls\": 1000, \"distinct_value_count\": 61}, {\"value_count\": 27, \"group_name\": \"substr(dob, 1,4)\", \"value\": \"1972\", \"total_non_null_rows\": 1000, \"total_rows_inc_nulls\": 1000, \"distinct_value_count\": 61}, {\"value_count\": 25, \"group_name\": \"substr(dob, 1,4)\", \"value\": \"2017\", \"total_non_null_rows\": 1000, \"total_rows_inc_nulls\": 1000, \"distinct_value_count\": 61}, {\"value_count\": 25, \"group_name\": \"substr(dob, 1,4)\", \"value\": \"2002\", \"total_non_null_rows\": 1000, \"total_rows_inc_nulls\": 1000, \"distinct_value_count\": 61}, {\"value_count\": 24, \"group_name\": \"substr(dob, 1,4)\", \"value\": \"1974\", \"total_non_null_rows\": 1000, \"total_rows_inc_nulls\": 1000, \"distinct_value_count\": 61}, {\"value_count\": 24, \"group_name\": \"substr(dob, 1,4)\", \"value\": \"2010\", \"total_non_null_rows\": 1000, \"total_rows_inc_nulls\": 1000, \"distinct_value_count\": 61}]}, \"mark\": \"bar\", \"encoding\": {\"x\": {\"type\": \"nominal\", \"field\": \"value\", \"sort\": \"-y\", \"title\": null}, \"y\": {\"type\": \"quantitative\", \"field\": \"value_count\", \"title\": \"Value count\"}, \"tooltip\": [{\"field\": \"value\", \"type\": \"nominal\"}, {\"field\": \"value_count\", \"type\": \"quantitative\"}, {\"field\": \"total_non_null_rows\", \"type\": \"quantitative\"}, {\"field\": \"total_rows_inc_nulls\", \"type\": \"quantitative\"}]}, \"title\": \"Top 10 values by value count\"}, {\"data\": {\"values\": [{\"value_count\": 1, \"group_name\": \"substr(dob, 1,4)\", \"value\": \"2031\", \"total_non_null_rows\": 1000, \"total_rows_inc_nulls\": 1000, \"distinct_value_count\": 61}, {\"value_count\": 1, \"group_name\": \"substr(dob, 1,4)\", \"value\": \"2027\", \"total_non_null_rows\": 1000, \"total_rows_inc_nulls\": 1000, \"distinct_value_count\": 61}, {\"value_count\": 2, \"group_name\": \"substr(dob, 1,4)\", \"value\": \"2026\", \"total_non_null_rows\": 1000, \"total_rows_inc_nulls\": 1000, \"distinct_value_count\": 61}, {\"value_count\": 2, \"group_name\": \"substr(dob, 1,4)\", \"value\": \"2030\", \"total_non_null_rows\": 1000, \"total_rows_inc_nulls\": 1000, \"distinct_value_count\": 61}, {\"value_count\": 2, \"group_name\": \"substr(dob, 1,4)\", \"value\": \"2028\", \"total_non_null_rows\": 1000, \"total_rows_inc_nulls\": 1000, \"distinct_value_count\": 61}]}, \"mark\": \"bar\", \"encoding\": {\"x\": {\"type\": \"nominal\", \"field\": \"value\", \"sort\": \"-y\", \"title\": null}, \"y\": {\"type\": \"quantitative\", \"field\": \"value_count\", \"title\": \"Value count\", \"scale\": {\"domain\": [0, 30]}}, \"tooltip\": [{\"field\": \"value\", \"type\": \"nominal\"}, {\"field\": \"value_count\", \"type\": \"quantitative\"}, {\"field\": \"total_non_null_rows\", \"type\": \"quantitative\"}, {\"field\": \"total_rows_inc_nulls\", \"type\": \"quantitative\"}]}, \"title\": \"Bottom 5 values by value count\"}]}], \"$schema\": \"https://vega.github.io/schema/vega-lite/v4.8.1.json\"}, {\"mode\": \"vega-lite\"});\n",
       "</script>"
      ],
      "text/plain": [
       "<altair.vegalite.v4.display.VegaLite at 0x7face4264e50>"
      ]
     },
     "metadata": {},
     "output_type": "display_data"
    }
   ],
   "source": [
    "c = linker.profile_columns([\"first_name\", \"city\", \"substr(dob, 1,4)\"], top_n=10, bottom_n=5)"
   ]
  },
  {
   "cell_type": "markdown",
   "metadata": {},
   "source": [
    "## Step 3: Configure how Splink compares records using a `settings` dictionary\n",
    "\n",
    "`splink` needs to know how to compare records from the input dataset:  Which columns should be compared, and how should Splink assess their similarity?\n",
    "\n",
    "This is configured using a `settings` dictionary.  In this introductory example, we will make these comparisons simple:  \n",
    "\n",
    "- For the `first_name` column, we will model three comparison levels:\n",
    "  - an 'exact match' (e.g. `John` vs `John`)\n",
    "  - similar but not the exactly the same (e.g. `John` vs `Jon`).  Specifically this will be defined as a levenshtein distance of either 1 or 2.\n",
    "  - all other comparisons \n",
    "\n",
    "- For all other comparisons, we will model just two comparison levels: an 'exact match' (e.g. `Smith` vs `Smith`), or 'anything else' (e.g. `Smith` vs `Jones`, or even `Smith` vs `Smyth`).\n",
    "\n",
    "- For `city`, we enable term frequency comparisons because we observed significant skew in the distribution of values"
   ]
  },
  {
   "cell_type": "code",
   "execution_count": 6,
   "metadata": {},
   "outputs": [],
   "source": [
    "from splink.comparison_library import exact_match, levenshtein\n",
    "settings = {\n",
    "    \"proportion_of_matches\": 0.01,\n",
    "    \"link_type\": \"dedupe_only\",\n",
    "    \"blocking_rules_to_generate_predictions\": [\n",
    "        \"l.first_name = r.first_name\",\n",
    "        \"l.surname = r.surname\",\n",
    "    ],\n",
    "    \"comparisons\": [\n",
    "        levenshtein(\"first_name\", 2),\n",
    "        exact_match(\"surname\"),\n",
    "        exact_match(\"dob\"),\n",
    "        exact_match(\"city\", term_frequency_adjustments=True),\n",
    "        exact_match(\"email\"),\n",
    "    ],\n",
    "    \"retain_matching_columns\": True,\n",
    "    \"retain_intermediate_calculation_columns\": True,\n",
    "    \"additional_columns_to_retain\": [\"cluster\"],\n",
    "    \"em_convergence\": 0.01\n",
    "}"
   ]
  },
  {
   "cell_type": "markdown",
   "metadata": {},
   "source": [
    "In words, this setting dictionary says:\n",
    "\n",
    "* We are performing a deduplication task (the other options are `link_only`, or `link_and_dedupe`, which may be used if there are multiple input datasets)\n",
    "* The blocking rule states that we will only check for duplicates amongst records where either the `first_name` or `surname` is identical.\n",
    "* When comparing records, we will use information from the `first_name`, `surname`, `dob`, `city` and `email` columns to compute a match score.\n",
    "* We have enabled term frequency adjustments for the 'city' column, because some values (e.g. `London`) appear much more frequently than others\n",
    "* We will retain the group column in the results even though this is not used as part of comparisons. This is a labelled dataset and group contains the true match status, so it is interesting to retain this information so it can be compared to the Splink estimates.\n",
    "* Will will consider the algorithm to have converged when no parameter changes by more than 0.01 between iterations.\n",
    "* We have set `retain_intermediate_calculation_columns` and `additional_columns_to_retain` to `True` for the purposes of the demo, because this will mean the output datasets contain additional information that, whilst not strictly needed by Splink, helps the user understand the calculations. If these were omitted from the settings dictionary, they would be set to `False` (their default value)."
   ]
  },
  {
   "cell_type": "markdown",
   "metadata": {},
   "source": [
    "## Step 4: Estimate the parameters of the model\n",
    "\n",
    "\n",
    "Use the `train_u_using_random_sampling` to compute the `u` values of the model."
   ]
  },
  {
   "cell_type": "code",
   "execution_count": 7,
   "metadata": {},
   "outputs": [
    {
     "name": "stderr",
     "output_type": "stream",
     "text": [
      "----- Training u probabilities using random sampling -----\n",
      "\n",
      "Trained u probabilities using random sampling\n",
      "\n",
      "Your model is not yet fully trained. Missing estimates for:\n",
      "    - first_name (no m values are trained).\n",
      "    - surname (no m values are trained).\n",
      "    - dob (no m values are trained).\n",
      "    - city (no m values are trained).\n",
      "    - email (no m values are trained).\n"
     ]
    }
   ],
   "source": [
    "linker.initialise_settings(settings)\n",
    "linker.train_u_using_random_sampling(target_rows=1e6)"
   ]
  },
  {
   "cell_type": "markdown",
   "metadata": {},
   "source": [
    "We then use the expectation maximisation algorithm to train the `m` values.\n",
    "\n",
    "Note that in this first EM training session we block on `first_name` and `surname`, meaning that all comparisons will have `first_name` and `surname` exactly equal.   This means that, in this training session, we cannot estimate parameter estimates for the `first_name` or `surname` columns, as seen in the log messages, and their absence from the match weights chart."
   ]
  },
  {
   "cell_type": "code",
   "execution_count": 8,
   "metadata": {},
   "outputs": [
    {
     "name": "stderr",
     "output_type": "stream",
     "text": [
      "\n",
      "----- Starting EM training session -----\n",
      "\n",
      "Training the m probabilities of the model by blocking on:\n",
      "l.first_name = r.first_name and l.surname = r.surname\n",
      "\n",
      "Parameter estimates will be made for the following comparison(s):\n",
      "    - dob\n",
      "    - city\n",
      "    - email\n",
      "\n",
      "Parameter estimates cannot be made for the following comparison(s) since they are used in the blocking rules: \n",
      "    - first_name\n",
      "    - surname\n",
      "\n",
      "Iteration 1: Largest change in params was -0.491 in the m_probability of dob, level `Exact match`\n",
      "Iteration 2: Largest change in params was 0.0292 in the m_probability of city, level `All other comparisons`\n",
      "Iteration 3: Largest change in params was 0.0185 in proportion_of_matches\n",
      "Iteration 4: Largest change in params was 0.0131 in proportion_of_matches\n",
      "Iteration 5: Largest change in params was 0.00966 in proportion_of_matches\n",
      "\n",
      "EM converged after 5 iterations\n",
      "\n",
      "Your model is not yet fully trained. Missing estimates for:\n",
      "    - first_name (no m values are trained).\n",
      "    - surname (no m values are trained).\n"
     ]
    },
    {
     "data": {
      "text/html": [
       "\n",
       "<div id=\"altair-viz-7fc86ad91f884214a3f21bddc43980be\"></div>\n",
       "<script type=\"text/javascript\">\n",
       "  var VEGA_DEBUG = (typeof VEGA_DEBUG == \"undefined\") ? {} : VEGA_DEBUG;\n",
       "  (function(spec, embedOpt){\n",
       "    let outputDiv = document.currentScript.previousElementSibling;\n",
       "    if (outputDiv.id !== \"altair-viz-7fc86ad91f884214a3f21bddc43980be\") {\n",
       "      outputDiv = document.getElementById(\"altair-viz-7fc86ad91f884214a3f21bddc43980be\");\n",
       "    }\n",
       "    const paths = {\n",
       "      \"vega\": \"https://cdn.jsdelivr.net/npm//vega@5?noext\",\n",
       "      \"vega-lib\": \"https://cdn.jsdelivr.net/npm//vega-lib?noext\",\n",
       "      \"vega-lite\": \"https://cdn.jsdelivr.net/npm//vega-lite@4.17.0?noext\",\n",
       "      \"vega-embed\": \"https://cdn.jsdelivr.net/npm//vega-embed@6?noext\",\n",
       "    };\n",
       "\n",
       "    function maybeLoadScript(lib, version) {\n",
       "      var key = `${lib.replace(\"-\", \"\")}_version`;\n",
       "      return (VEGA_DEBUG[key] == version) ?\n",
       "        Promise.resolve(paths[lib]) :\n",
       "        new Promise(function(resolve, reject) {\n",
       "          var s = document.createElement('script');\n",
       "          document.getElementsByTagName(\"head\")[0].appendChild(s);\n",
       "          s.async = true;\n",
       "          s.onload = () => {\n",
       "            VEGA_DEBUG[key] = version;\n",
       "            return resolve(paths[lib]);\n",
       "          };\n",
       "          s.onerror = () => reject(`Error loading script: ${paths[lib]}`);\n",
       "          s.src = paths[lib];\n",
       "        });\n",
       "    }\n",
       "\n",
       "    function showError(err) {\n",
       "      outputDiv.innerHTML = `<div class=\"error\" style=\"color:red;\">${err}</div>`;\n",
       "      throw err;\n",
       "    }\n",
       "\n",
       "    function displayChart(vegaEmbed) {\n",
       "      vegaEmbed(outputDiv, spec, embedOpt)\n",
       "        .catch(err => showError(`Javascript Error: ${err.message}<br>This usually means there's a typo in your chart specification. See the javascript console for the full traceback.`));\n",
       "    }\n",
       "\n",
       "    if(typeof define === \"function\" && define.amd) {\n",
       "      requirejs.config({paths});\n",
       "      require([\"vega-embed\"], displayChart, err => showError(`Error loading script: ${err.message}`));\n",
       "    } else {\n",
       "      maybeLoadScript(\"vega\", \"5\")\n",
       "        .then(() => maybeLoadScript(\"vega-lite\", \"4.17.0\"))\n",
       "        .then(() => maybeLoadScript(\"vega-embed\", \"6\"))\n",
       "        .catch(showError)\n",
       "        .then(() => displayChart(vegaEmbed));\n",
       "    }\n",
       "  })({\"config\": {\"view\": {\"width\": 400, \"height\": 50}, \"mark\": {\"tooltip\": null}, \"title\": {\"anchor\": \"middle\"}, \"header\": {\"title\": null}}, \"params\": [{\"name\": \"iteration_number\", \"value\": 5, \"bind\": {\"input\": \"range\", \"min\": 0, \"max\": 5, \"step\": 1}, \"description\": \"Filter by the interation number\"}], \"data\": {\"values\": [{\"comparison_name\": \"dob\", \"sql_condition\": \"dob_l = dob_r\", \"label_for_charts\": \"Exact match\", \"m_probability\": 0.95, \"u_probability\": 0.0017477477477477479, \"m_probability_description\": \"Amongst truly matching record comparisons, 95.00% of records are in the exact match comparison level\", \"u_probability_description\": \"Amongst truly non-matching record comparisons, 0.17% of records are in the exact match comparison level\", \"has_tf_adjustments\": false, \"tf_adjustment_column\": null, \"tf_adjustment_weight\": 1.0, \"is_null_level\": false, \"bayes_factor\": 543.5567010309278, \"log2_bayes_factor\": 9.086286727381289, \"comparison_vector_value\": 1, \"max_comparison_vector_value\": 1, \"bayes_factor_description\": \"If comparison level is `exact match` then comparison is 543.56 times more likely to be a match\", \"iteration\": 0, \"proportion_of_matches\": 0.9009958388440497}, {\"comparison_name\": \"dob\", \"sql_condition\": \"ELSE\", \"label_for_charts\": \"All other comparisons\", \"m_probability\": 0.05, \"u_probability\": 0.9982522522522522, \"m_probability_description\": \"Amongst truly matching record comparisons, 5.00% of records are in the all other comparisons comparison level\", \"u_probability_description\": \"Amongst truly non-matching record comparisons, 99.83% of records are in the all other comparisons comparison level\", \"has_tf_adjustments\": false, \"tf_adjustment_column\": null, \"tf_adjustment_weight\": 1.0, \"is_null_level\": false, \"bayes_factor\": 0.05008754038589969, \"log2_bayes_factor\": -4.319404421864073, \"comparison_vector_value\": 0, \"max_comparison_vector_value\": 1, \"bayes_factor_description\": \"If comparison level is `all other comparisons` then comparison is  19.97 times less likely to be a match\", \"iteration\": 0, \"proportion_of_matches\": 0.9009958388440497}, {\"comparison_name\": \"city\", \"sql_condition\": \"city_l = city_r\", \"label_for_charts\": \"Exact match\", \"m_probability\": 0.95, \"u_probability\": 0.0551475711801453, \"m_probability_description\": \"Amongst truly matching record comparisons, 95.00% of records are in the exact match comparison level\", \"u_probability_description\": \"Amongst truly non-matching record comparisons, 5.51% of records are in the exact match comparison level\", \"has_tf_adjustments\": true, \"tf_adjustment_column\": \"city\", \"tf_adjustment_weight\": 1.0, \"is_null_level\": false, \"bayes_factor\": 17.226506619787944, \"log2_bayes_factor\": 4.106558260565448, \"comparison_vector_value\": 1, \"max_comparison_vector_value\": 1, \"bayes_factor_description\": \"If comparison level is `exact match` then comparison is 17.23 times more likely to be a match\", \"iteration\": 0, \"proportion_of_matches\": 0.9009958388440497}, {\"comparison_name\": \"city\", \"sql_condition\": \"ELSE\", \"label_for_charts\": \"All other comparisons\", \"m_probability\": 0.05, \"u_probability\": 0.9448524288198547, \"m_probability_description\": \"Amongst truly matching record comparisons, 5.00% of records are in the all other comparisons comparison level\", \"u_probability_description\": \"Amongst truly non-matching record comparisons, 94.49% of records are in the all other comparisons comparison level\", \"has_tf_adjustments\": false, \"tf_adjustment_column\": null, \"tf_adjustment_weight\": 1.0, \"is_null_level\": false, \"bayes_factor\": 0.052918316633266536, \"log2_bayes_factor\": -4.240089020513868, \"comparison_vector_value\": 0, \"max_comparison_vector_value\": 1, \"bayes_factor_description\": \"If comparison level is `all other comparisons` then comparison is  18.90 times less likely to be a match\", \"iteration\": 0, \"proportion_of_matches\": 0.9009958388440497}, {\"comparison_name\": \"email\", \"sql_condition\": \"email_l = email_r\", \"label_for_charts\": \"Exact match\", \"m_probability\": 0.95, \"u_probability\": 0.0021938713143283602, \"m_probability_description\": \"Amongst truly matching record comparisons, 95.00% of records are in the exact match comparison level\", \"u_probability_description\": \"Amongst truly non-matching record comparisons, 0.22% of records are in the exact match comparison level\", \"has_tf_adjustments\": false, \"tf_adjustment_column\": null, \"tf_adjustment_weight\": 1.0, \"is_null_level\": false, \"bayes_factor\": 433.02448680351904, \"log2_bayes_factor\": 8.758304799001886, \"comparison_vector_value\": 1, \"max_comparison_vector_value\": 1, \"bayes_factor_description\": \"If comparison level is `exact match` then comparison is 433.02 times more likely to be a match\", \"iteration\": 0, \"proportion_of_matches\": 0.9009958388440497}, {\"comparison_name\": \"email\", \"sql_condition\": \"ELSE\", \"label_for_charts\": \"All other comparisons\", \"m_probability\": 0.05, \"u_probability\": 0.9978061286856716, \"m_probability_description\": \"Amongst truly matching record comparisons, 5.00% of records are in the all other comparisons comparison level\", \"u_probability_description\": \"Amongst truly non-matching record comparisons, 99.78% of records are in the all other comparisons comparison level\", \"has_tf_adjustments\": false, \"tf_adjustment_column\": null, \"tf_adjustment_weight\": 1.0, \"is_null_level\": false, \"bayes_factor\": 0.0501099347484074, \"log2_bayes_factor\": -4.318759530638452, \"comparison_vector_value\": 0, \"max_comparison_vector_value\": 1, \"bayes_factor_description\": \"If comparison level is `all other comparisons` then comparison is  19.96 times less likely to be a match\", \"iteration\": 0, \"proportion_of_matches\": 0.9009958388440497}, {\"comparison_name\": \"dob\", \"sql_condition\": \"dob_l = dob_r\", \"label_for_charts\": \"Exact match\", \"m_probability\": 0.4585082933124312, \"u_probability\": 0.0017477477477477479, \"m_probability_description\": \"Amongst truly matching record comparisons, 45.85% of records are in the exact match comparison level\", \"u_probability_description\": \"Amongst truly non-matching record comparisons, 0.17% of records are in the exact match comparison level\", \"has_tf_adjustments\": false, \"tf_adjustment_column\": null, \"tf_adjustment_weight\": 1.0, \"is_null_level\": false, \"bayes_factor\": 262.3423740086591, \"log2_bayes_factor\": 8.03530704287801, \"comparison_vector_value\": 1, \"max_comparison_vector_value\": 1, \"bayes_factor_description\": \"If comparison level is `exact match` then comparison is 262.34 times more likely to be a match\", \"iteration\": 1, \"proportion_of_matches\": 0.9009958388440497}, {\"comparison_name\": \"dob\", \"sql_condition\": \"ELSE\", \"label_for_charts\": \"All other comparisons\", \"m_probability\": 0.5414917066875685, \"u_probability\": 0.9982522522522522, \"m_probability_description\": \"Amongst truly matching record comparisons, 54.15% of records are in the all other comparisons comparison level\", \"u_probability_description\": \"Amongst truly non-matching record comparisons, 99.83% of records are in the all other comparisons comparison level\", \"has_tf_adjustments\": false, \"tf_adjustment_column\": null, \"tf_adjustment_weight\": 1.0, \"is_null_level\": false, \"bayes_factor\": 0.5424397545468667, \"log2_bayes_factor\": -0.8824651797134637, \"comparison_vector_value\": 0, \"max_comparison_vector_value\": 1, \"bayes_factor_description\": \"If comparison level is `all other comparisons` then comparison is  1.84 times less likely to be a match\", \"iteration\": 1, \"proportion_of_matches\": 0.9009958388440497}, {\"comparison_name\": \"city\", \"sql_condition\": \"city_l = city_r\", \"label_for_charts\": \"Exact match\", \"m_probability\": 0.6599205383526635, \"u_probability\": 0.0551475711801453, \"m_probability_description\": \"Amongst truly matching record comparisons, 65.99% of records are in the exact match comparison level\", \"u_probability_description\": \"Amongst truly non-matching record comparisons, 5.51% of records are in the exact match comparison level\", \"has_tf_adjustments\": true, \"tf_adjustment_column\": \"city\", \"tf_adjustment_weight\": 1.0, \"is_null_level\": false, \"bayes_factor\": 11.966447918385455, \"log2_bayes_factor\": 3.5809230657957327, \"comparison_vector_value\": 1, \"max_comparison_vector_value\": 1, \"bayes_factor_description\": \"If comparison level is `exact match` then comparison is 11.97 times more likely to be a match\", \"iteration\": 1, \"proportion_of_matches\": 0.9009958388440497}, {\"comparison_name\": \"city\", \"sql_condition\": \"ELSE\", \"label_for_charts\": \"All other comparisons\", \"m_probability\": 0.3400794616473364, \"u_probability\": 0.9448524288198547, \"m_probability_description\": \"Amongst truly matching record comparisons, 34.01% of records are in the all other comparisons comparison level\", \"u_probability_description\": \"Amongst truly non-matching record comparisons, 94.49% of records are in the all other comparisons comparison level\", \"has_tf_adjustments\": false, \"tf_adjustment_column\": null, \"tf_adjustment_weight\": 1.0, \"is_null_level\": false, \"bayes_factor\": 0.3599286526384914, \"log2_bayes_factor\": -1.474217140237754, \"comparison_vector_value\": 0, \"max_comparison_vector_value\": 1, \"bayes_factor_description\": \"If comparison level is `all other comparisons` then comparison is  2.78 times less likely to be a match\", \"iteration\": 1, \"proportion_of_matches\": 0.9009958388440497}, {\"comparison_name\": \"email\", \"sql_condition\": \"email_l = email_r\", \"label_for_charts\": \"Exact match\", \"m_probability\": 0.6655042947933041, \"u_probability\": 0.0021938713143283602, \"m_probability_description\": \"Amongst truly matching record comparisons, 66.55% of records are in the exact match comparison level\", \"u_probability_description\": \"Amongst truly non-matching record comparisons, 0.22% of records are in the exact match comparison level\", \"has_tf_adjustments\": false, \"tf_adjustment_column\": null, \"tf_adjustment_weight\": 1.0, \"is_null_level\": false, \"bayes_factor\": 303.3470060193772, \"log2_bayes_factor\": 8.244825262074142, \"comparison_vector_value\": 1, \"max_comparison_vector_value\": 1, \"bayes_factor_description\": \"If comparison level is `exact match` then comparison is 303.35 times more likely to be a match\", \"iteration\": 1, \"proportion_of_matches\": 0.9009958388440497}, {\"comparison_name\": \"email\", \"sql_condition\": \"ELSE\", \"label_for_charts\": \"All other comparisons\", \"m_probability\": 0.33449570520669597, \"u_probability\": 0.9978061286856716, \"m_probability_description\": \"Amongst truly matching record comparisons, 33.45% of records are in the all other comparisons comparison level\", \"u_probability_description\": \"Amongst truly non-matching record comparisons, 99.78% of records are in the all other comparisons comparison level\", \"has_tf_adjustments\": false, \"tf_adjustment_column\": null, \"tf_adjustment_weight\": 1.0, \"is_null_level\": false, \"bayes_factor\": 0.33523115923060104, \"log2_bayes_factor\": -1.5767718432897395, \"comparison_vector_value\": 0, \"max_comparison_vector_value\": 1, \"bayes_factor_description\": \"If comparison level is `all other comparisons` then comparison is  2.98 times less likely to be a match\", \"iteration\": 1, \"proportion_of_matches\": 0.9009958388440497}, {\"comparison_name\": \"dob\", \"sql_condition\": \"dob_l = dob_r\", \"label_for_charts\": \"Exact match\", \"m_probability\": 0.44530230056829695, \"u_probability\": 0.0017477477477477479, \"m_probability_description\": \"Amongst truly matching record comparisons, 44.53% of records are in the exact match comparison level\", \"u_probability_description\": \"Amongst truly non-matching record comparisons, 0.17% of records are in the exact match comparison level\", \"has_tf_adjustments\": false, \"tf_adjustment_column\": null, \"tf_adjustment_weight\": 1.0, \"is_null_level\": false, \"bayes_factor\": 254.78636785093278, \"log2_bayes_factor\": 7.9931442791429514, \"comparison_vector_value\": 1, \"max_comparison_vector_value\": 1, \"bayes_factor_description\": \"If comparison level is `exact match` then comparison is 254.79 times more likely to be a match\", \"iteration\": 2, \"proportion_of_matches\": 0.9009958388440497}, {\"comparison_name\": \"dob\", \"sql_condition\": \"ELSE\", \"label_for_charts\": \"All other comparisons\", \"m_probability\": 0.5546976994317051, \"u_probability\": 0.9982522522522522, \"m_probability_description\": \"Amongst truly matching record comparisons, 55.47% of records are in the all other comparisons comparison level\", \"u_probability_description\": \"Amongst truly non-matching record comparisons, 99.83% of records are in the all other comparisons comparison level\", \"has_tf_adjustments\": false, \"tf_adjustment_column\": null, \"tf_adjustment_weight\": 1.0, \"is_null_level\": false, \"bayes_factor\": 0.5556688684450235, \"log2_bayes_factor\": -0.8477026798609717, \"comparison_vector_value\": 0, \"max_comparison_vector_value\": 1, \"bayes_factor_description\": \"If comparison level is `all other comparisons` then comparison is  1.80 times less likely to be a match\", \"iteration\": 2, \"proportion_of_matches\": 0.9009958388440497}, {\"comparison_name\": \"city\", \"sql_condition\": \"city_l = city_r\", \"label_for_charts\": \"Exact match\", \"m_probability\": 0.6307651528242586, \"u_probability\": 0.0551475711801453, \"m_probability_description\": \"Amongst truly matching record comparisons, 63.08% of records are in the exact match comparison level\", \"u_probability_description\": \"Amongst truly non-matching record comparisons, 5.51% of records are in the exact match comparison level\", \"has_tf_adjustments\": true, \"tf_adjustment_column\": \"city\", \"tf_adjustment_weight\": 1.0, \"is_null_level\": false, \"bayes_factor\": 11.43776850595647, \"log2_bayes_factor\": 3.5157337064951864, \"comparison_vector_value\": 1, \"max_comparison_vector_value\": 1, \"bayes_factor_description\": \"If comparison level is `exact match` then comparison is 11.44 times more likely to be a match\", \"iteration\": 2, \"proportion_of_matches\": 0.9009958388440497}, {\"comparison_name\": \"city\", \"sql_condition\": \"ELSE\", \"label_for_charts\": \"All other comparisons\", \"m_probability\": 0.3692348471757421, \"u_probability\": 0.9448524288198547, \"m_probability_description\": \"Amongst truly matching record comparisons, 36.92% of records are in the all other comparisons comparison level\", \"u_probability_description\": \"Amongst truly non-matching record comparisons, 94.49% of records are in the all other comparisons comparison level\", \"has_tf_adjustments\": false, \"tf_adjustment_column\": null, \"tf_adjustment_weight\": 1.0, \"is_null_level\": false, \"bayes_factor\": 0.39078573109763404, \"log2_bayes_factor\": -1.355550304271197, \"comparison_vector_value\": 0, \"max_comparison_vector_value\": 1, \"bayes_factor_description\": \"If comparison level is `all other comparisons` then comparison is  2.56 times less likely to be a match\", \"iteration\": 2, \"proportion_of_matches\": 0.9009958388440497}, {\"comparison_name\": \"email\", \"sql_condition\": \"email_l = email_r\", \"label_for_charts\": \"Exact match\", \"m_probability\": 0.637745744329226, \"u_probability\": 0.0021938713143283602, \"m_probability_description\": \"Amongst truly matching record comparisons, 63.77% of records are in the exact match comparison level\", \"u_probability_description\": \"Amongst truly non-matching record comparisons, 0.22% of records are in the exact match comparison level\", \"has_tf_adjustments\": false, \"tf_adjustment_column\": null, \"tf_adjustment_weight\": 1.0, \"is_null_level\": false, \"bayes_factor\": 290.6942354203067, \"log2_bayes_factor\": 8.18335865232904, \"comparison_vector_value\": 1, \"max_comparison_vector_value\": 1, \"bayes_factor_description\": \"If comparison level is `exact match` then comparison is 290.69 times more likely to be a match\", \"iteration\": 2, \"proportion_of_matches\": 0.9009958388440497}, {\"comparison_name\": \"email\", \"sql_condition\": \"ELSE\", \"label_for_charts\": \"All other comparisons\", \"m_probability\": 0.36225425567077435, \"u_probability\": 0.9978061286856716, \"m_probability_description\": \"Amongst truly matching record comparisons, 36.23% of records are in the all other comparisons comparison level\", \"u_probability_description\": \"Amongst truly non-matching record comparisons, 99.78% of records are in the all other comparisons comparison level\", \"has_tf_adjustments\": false, \"tf_adjustment_column\": null, \"tf_adjustment_weight\": 1.0, \"is_null_level\": false, \"bayes_factor\": 0.36305074227990786, \"log2_bayes_factor\": -1.4617568923426296, \"comparison_vector_value\": 0, \"max_comparison_vector_value\": 1, \"bayes_factor_description\": \"If comparison level is `all other comparisons` then comparison is  2.75 times less likely to be a match\", \"iteration\": 2, \"proportion_of_matches\": 0.9009958388440497}, {\"comparison_name\": \"dob\", \"sql_condition\": \"dob_l = dob_r\", \"label_for_charts\": \"Exact match\", \"m_probability\": 0.43604624336022985, \"u_probability\": 0.0017477477477477479, \"m_probability_description\": \"Amongst truly matching record comparisons, 43.60% of records are in the exact match comparison level\", \"u_probability_description\": \"Amongst truly non-matching record comparisons, 0.17% of records are in the exact match comparison level\", \"has_tf_adjustments\": false, \"tf_adjustment_column\": null, \"tf_adjustment_weight\": 1.0, \"is_null_level\": false, \"bayes_factor\": 249.4903763555954, \"log2_bayes_factor\": 7.962840357033335, \"comparison_vector_value\": 1, \"max_comparison_vector_value\": 1, \"bayes_factor_description\": \"If comparison level is `exact match` then comparison is 249.49 times more likely to be a match\", \"iteration\": 3, \"proportion_of_matches\": 0.9009958388440497}, {\"comparison_name\": \"dob\", \"sql_condition\": \"ELSE\", \"label_for_charts\": \"All other comparisons\", \"m_probability\": 0.5639537566397694, \"u_probability\": 0.9982522522522522, \"m_probability_description\": \"Amongst truly matching record comparisons, 56.40% of records are in the all other comparisons comparison level\", \"u_probability_description\": \"Amongst truly non-matching record comparisons, 99.83% of records are in the all other comparisons comparison level\", \"has_tf_adjustments\": false, \"tf_adjustment_column\": null, \"tf_adjustment_weight\": 1.0, \"is_null_level\": false, \"bayes_factor\": 0.5649411312294859, \"log2_bayes_factor\": -0.8238275532145989, \"comparison_vector_value\": 0, \"max_comparison_vector_value\": 1, \"bayes_factor_description\": \"If comparison level is `all other comparisons` then comparison is  1.77 times less likely to be a match\", \"iteration\": 3, \"proportion_of_matches\": 0.9009958388440497}, {\"comparison_name\": \"city\", \"sql_condition\": \"city_l = city_r\", \"label_for_charts\": \"Exact match\", \"m_probability\": 0.6207662066247426, \"u_probability\": 0.0551475711801453, \"m_probability_description\": \"Amongst truly matching record comparisons, 62.08% of records are in the exact match comparison level\", \"u_probability_description\": \"Amongst truly non-matching record comparisons, 5.51% of records are in the exact match comparison level\", \"has_tf_adjustments\": true, \"tf_adjustment_column\": \"city\", \"tf_adjustment_weight\": 1.0, \"is_null_level\": false, \"bayes_factor\": 11.256455966065031, \"log2_bayes_factor\": 3.492680769109047, \"comparison_vector_value\": 1, \"max_comparison_vector_value\": 1, \"bayes_factor_description\": \"If comparison level is `exact match` then comparison is 11.26 times more likely to be a match\", \"iteration\": 3, \"proportion_of_matches\": 0.9009958388440497}, {\"comparison_name\": \"city\", \"sql_condition\": \"ELSE\", \"label_for_charts\": \"All other comparisons\", \"m_probability\": 0.3792337933752575, \"u_probability\": 0.9448524288198547, \"m_probability_description\": \"Amongst truly matching record comparisons, 37.92% of records are in the all other comparisons comparison level\", \"u_probability_description\": \"Amongst truly non-matching record comparisons, 94.49% of records are in the all other comparisons comparison level\", \"has_tf_adjustments\": false, \"tf_adjustment_column\": null, \"tf_adjustment_weight\": 1.0, \"is_null_level\": false, \"bayes_factor\": 0.401368279117333, \"log2_bayes_factor\": -1.31700149255768, \"comparison_vector_value\": 0, \"max_comparison_vector_value\": 1, \"bayes_factor_description\": \"If comparison level is `all other comparisons` then comparison is  2.49 times less likely to be a match\", \"iteration\": 3, \"proportion_of_matches\": 0.9009958388440497}, {\"comparison_name\": \"email\", \"sql_condition\": \"email_l = email_r\", \"label_for_charts\": \"Exact match\", \"m_probability\": 0.6255975570642349, \"u_probability\": 0.0021938713143283602, \"m_probability_description\": \"Amongst truly matching record comparisons, 62.56% of records are in the exact match comparison level\", \"u_probability_description\": \"Amongst truly non-matching record comparisons, 0.22% of records are in the exact match comparison level\", \"has_tf_adjustments\": false, \"tf_adjustment_column\": null, \"tf_adjustment_weight\": 1.0, \"is_null_level\": false, \"bayes_factor\": 285.15690641397424, \"log2_bayes_factor\": 8.155612164542768, \"comparison_vector_value\": 1, \"max_comparison_vector_value\": 1, \"bayes_factor_description\": \"If comparison level is `exact match` then comparison is 285.16 times more likely to be a match\", \"iteration\": 3, \"proportion_of_matches\": 0.9009958388440497}, {\"comparison_name\": \"email\", \"sql_condition\": \"ELSE\", \"label_for_charts\": \"All other comparisons\", \"m_probability\": 0.3744024429357649, \"u_probability\": 0.9978061286856716, \"m_probability_description\": \"Amongst truly matching record comparisons, 37.44% of records are in the all other comparisons comparison level\", \"u_probability_description\": \"Amongst truly non-matching record comparisons, 99.78% of records are in the all other comparisons comparison level\", \"has_tf_adjustments\": false, \"tf_adjustment_column\": null, \"tf_adjustment_weight\": 1.0, \"is_null_level\": false, \"bayes_factor\": 0.37522563970311007, \"log2_bayes_factor\": -1.4141696822560905, \"comparison_vector_value\": 0, \"max_comparison_vector_value\": 1, \"bayes_factor_description\": \"If comparison level is `all other comparisons` then comparison is  2.67 times less likely to be a match\", \"iteration\": 3, \"proportion_of_matches\": 0.9009958388440497}, {\"comparison_name\": \"dob\", \"sql_condition\": \"dob_l = dob_r\", \"label_for_charts\": \"Exact match\", \"m_probability\": 0.42970885264150693, \"u_probability\": 0.0017477477477477479, \"m_probability_description\": \"Amongst truly matching record comparisons, 42.97% of records are in the exact match comparison level\", \"u_probability_description\": \"Amongst truly non-matching record comparisons, 0.17% of records are in the exact match comparison level\", \"has_tf_adjustments\": false, \"tf_adjustment_column\": null, \"tf_adjustment_weight\": 1.0, \"is_null_level\": false, \"bayes_factor\": 245.86434352168695, \"log2_bayes_factor\": 7.941718713019399, \"comparison_vector_value\": 1, \"max_comparison_vector_value\": 1, \"bayes_factor_description\": \"If comparison level is `exact match` then comparison is 245.86 times more likely to be a match\", \"iteration\": 4, \"proportion_of_matches\": 0.9009958388440497}, {\"comparison_name\": \"dob\", \"sql_condition\": \"ELSE\", \"label_for_charts\": \"All other comparisons\", \"m_probability\": 0.5702911473584934, \"u_probability\": 0.9982522522522522, \"m_probability_description\": \"Amongst truly matching record comparisons, 57.03% of records are in the all other comparisons comparison level\", \"u_probability_description\": \"Amongst truly non-matching record comparisons, 99.83% of records are in the all other comparisons comparison level\", \"has_tf_adjustments\": false, \"tf_adjustment_column\": null, \"tf_adjustment_weight\": 1.0, \"is_null_level\": false, \"bayes_factor\": 0.5712896175007921, \"log2_bayes_factor\": -0.8077057839681775, \"comparison_vector_value\": 0, \"max_comparison_vector_value\": 1, \"bayes_factor_description\": \"If comparison level is `all other comparisons` then comparison is  1.75 times less likely to be a match\", \"iteration\": 4, \"proportion_of_matches\": 0.9009958388440497}, {\"comparison_name\": \"city\", \"sql_condition\": \"city_l = city_r\", \"label_for_charts\": \"Exact match\", \"m_probability\": 0.6141430673090714, \"u_probability\": 0.0551475711801453, \"m_probability_description\": \"Amongst truly matching record comparisons, 61.41% of records are in the exact match comparison level\", \"u_probability_description\": \"Amongst truly non-matching record comparisons, 5.51% of records are in the exact match comparison level\", \"has_tf_adjustments\": true, \"tf_adjustment_column\": \"city\", \"tf_adjustment_weight\": 1.0, \"is_null_level\": false, \"bayes_factor\": 11.136357488943782, \"log2_bayes_factor\": 3.477205523978331, \"comparison_vector_value\": 1, \"max_comparison_vector_value\": 1, \"bayes_factor_description\": \"If comparison level is `exact match` then comparison is 11.14 times more likely to be a match\", \"iteration\": 4, \"proportion_of_matches\": 0.9009958388440497}, {\"comparison_name\": \"city\", \"sql_condition\": \"ELSE\", \"label_for_charts\": \"All other comparisons\", \"m_probability\": 0.3858569326909292, \"u_probability\": 0.9448524288198547, \"m_probability_description\": \"Amongst truly matching record comparisons, 38.59% of records are in the all other comparisons comparison level\", \"u_probability_description\": \"Amongst truly non-matching record comparisons, 94.49% of records are in the all other comparisons comparison level\", \"has_tf_adjustments\": false, \"tf_adjustment_column\": null, \"tf_adjustment_weight\": 1.0, \"is_null_level\": false, \"bayes_factor\": 0.40837798678559206, \"log2_bayes_factor\": -1.2920229936354002, \"comparison_vector_value\": 0, \"max_comparison_vector_value\": 1, \"bayes_factor_description\": \"If comparison level is `all other comparisons` then comparison is  2.45 times less likely to be a match\", \"iteration\": 4, \"proportion_of_matches\": 0.9009958388440497}, {\"comparison_name\": \"email\", \"sql_condition\": \"email_l = email_r\", \"label_for_charts\": \"Exact match\", \"m_probability\": 0.617254389113464, \"u_probability\": 0.0021938713143283602, \"m_probability_description\": \"Amongst truly matching record comparisons, 61.73% of records are in the exact match comparison level\", \"u_probability_description\": \"Amongst truly non-matching record comparisons, 0.22% of records are in the exact match comparison level\", \"has_tf_adjustments\": false, \"tf_adjustment_column\": null, \"tf_adjustment_weight\": 1.0, \"is_null_level\": false, \"bayes_factor\": 281.3539632348183, \"log2_bayes_factor\": 8.136242475540719, \"comparison_vector_value\": 1, \"max_comparison_vector_value\": 1, \"bayes_factor_description\": \"If comparison level is `exact match` then comparison is 281.35 times more likely to be a match\", \"iteration\": 4, \"proportion_of_matches\": 0.9009958388440497}, {\"comparison_name\": \"email\", \"sql_condition\": \"ELSE\", \"label_for_charts\": \"All other comparisons\", \"m_probability\": 0.38274561088653525, \"u_probability\": 0.9978061286856716, \"m_probability_description\": \"Amongst truly matching record comparisons, 38.27% of records are in the all other comparisons comparison level\", \"u_probability_description\": \"Amongst truly non-matching record comparisons, 99.78% of records are in the all other comparisons comparison level\", \"has_tf_adjustments\": false, \"tf_adjustment_column\": null, \"tf_adjustment_weight\": 1.0, \"is_null_level\": false, \"bayes_factor\": 0.3835871517352722, \"log2_bayes_factor\": -1.3823736968416354, \"comparison_vector_value\": 0, \"max_comparison_vector_value\": 1, \"bayes_factor_description\": \"If comparison level is `all other comparisons` then comparison is  2.61 times less likely to be a match\", \"iteration\": 4, \"proportion_of_matches\": 0.9009958388440497}, {\"comparison_name\": \"dob\", \"sql_condition\": \"dob_l = dob_r\", \"label_for_charts\": \"Exact match\", \"m_probability\": 0.42513701832174805, \"u_probability\": 0.0017477477477477479, \"m_probability_description\": \"Amongst truly matching record comparisons, 42.51% of records are in the exact match comparison level\", \"u_probability_description\": \"Amongst truly non-matching record comparisons, 0.17% of records are in the exact match comparison level\", \"has_tf_adjustments\": false, \"tf_adjustment_column\": null, \"tf_adjustment_weight\": 1.0, \"is_null_level\": false, \"bayes_factor\": 243.24850017378367, \"log2_bayes_factor\": 7.926287099412087, \"comparison_vector_value\": 1, \"max_comparison_vector_value\": 1, \"bayes_factor_description\": \"If comparison level is `exact match` then comparison is 243.25 times more likely to be a match\", \"iteration\": 5, \"proportion_of_matches\": 0.9009958388440497}, {\"comparison_name\": \"dob\", \"sql_condition\": \"ELSE\", \"label_for_charts\": \"All other comparisons\", \"m_probability\": 0.5748629816782519, \"u_probability\": 0.9982522522522522, \"m_probability_description\": \"Amongst truly matching record comparisons, 57.49% of records are in the all other comparisons comparison level\", \"u_probability_description\": \"Amongst truly non-matching record comparisons, 99.83% of records are in the all other comparisons comparison level\", \"has_tf_adjustments\": false, \"tf_adjustment_column\": null, \"tf_adjustment_weight\": 1.0, \"is_null_level\": false, \"bayes_factor\": 0.575869456223363, \"log2_bayes_factor\": -0.7961862905190165, \"comparison_vector_value\": 0, \"max_comparison_vector_value\": 1, \"bayes_factor_description\": \"If comparison level is `all other comparisons` then comparison is  1.74 times less likely to be a match\", \"iteration\": 5, \"proportion_of_matches\": 0.9009958388440497}, {\"comparison_name\": \"city\", \"sql_condition\": \"city_l = city_r\", \"label_for_charts\": \"Exact match\", \"m_probability\": 0.6091923457002523, \"u_probability\": 0.0551475711801453, \"m_probability_description\": \"Amongst truly matching record comparisons, 60.92% of records are in the exact match comparison level\", \"u_probability_description\": \"Amongst truly non-matching record comparisons, 5.51% of records are in the exact match comparison level\", \"has_tf_adjustments\": true, \"tf_adjustment_column\": \"city\", \"tf_adjustment_weight\": 1.0, \"is_null_level\": false, \"bayes_factor\": 11.04658523782057, \"log2_bayes_factor\": 3.4655285620763165, \"comparison_vector_value\": 1, \"max_comparison_vector_value\": 1, \"bayes_factor_description\": \"If comparison level is `exact match` then comparison is 11.05 times more likely to be a match\", \"iteration\": 5, \"proportion_of_matches\": 0.9009958388440497}, {\"comparison_name\": \"city\", \"sql_condition\": \"ELSE\", \"label_for_charts\": \"All other comparisons\", \"m_probability\": 0.3908076542997482, \"u_probability\": 0.9448524288198547, \"m_probability_description\": \"Amongst truly matching record comparisons, 39.08% of records are in the all other comparisons comparison level\", \"u_probability_description\": \"Amongst truly non-matching record comparisons, 94.49% of records are in the all other comparisons comparison level\", \"has_tf_adjustments\": false, \"tf_adjustment_column\": null, \"tf_adjustment_weight\": 1.0, \"is_null_level\": false, \"bayes_factor\": 0.41361766385876486, \"log2_bayes_factor\": -1.2736302965234707, \"comparison_vector_value\": 0, \"max_comparison_vector_value\": 1, \"bayes_factor_description\": \"If comparison level is `all other comparisons` then comparison is  2.42 times less likely to be a match\", \"iteration\": 5, \"proportion_of_matches\": 0.9009958388440497}, {\"comparison_name\": \"email\", \"sql_condition\": \"email_l = email_r\", \"label_for_charts\": \"Exact match\", \"m_probability\": 0.6111262479119753, \"u_probability\": 0.0021938713143283602, \"m_probability_description\": \"Amongst truly matching record comparisons, 61.11% of records are in the exact match comparison level\", \"u_probability_description\": \"Amongst truly non-matching record comparisons, 0.22% of records are in the exact match comparison level\", \"has_tf_adjustments\": false, \"tf_adjustment_column\": null, \"tf_adjustment_weight\": 1.0, \"is_null_level\": false, \"bayes_factor\": 278.56066302551926, \"log2_bayes_factor\": 8.121847731759527, \"comparison_vector_value\": 1, \"max_comparison_vector_value\": 1, \"bayes_factor_description\": \"If comparison level is `exact match` then comparison is 278.56 times more likely to be a match\", \"iteration\": 5, \"proportion_of_matches\": 0.9009958388440497}, {\"comparison_name\": \"email\", \"sql_condition\": \"ELSE\", \"label_for_charts\": \"All other comparisons\", \"m_probability\": 0.38887375208802527, \"u_probability\": 0.9978061286856716, \"m_probability_description\": \"Amongst truly matching record comparisons, 38.89% of records are in the all other comparisons comparison level\", \"u_probability_description\": \"Amongst truly non-matching record comparisons, 99.78% of records are in the all other comparisons comparison level\", \"has_tf_adjustments\": false, \"tf_adjustment_column\": null, \"tf_adjustment_weight\": 1.0, \"is_null_level\": false, \"bayes_factor\": 0.38972876684998603, \"log2_bayes_factor\": -1.359457670539499, \"comparison_vector_value\": 0, \"max_comparison_vector_value\": 1, \"bayes_factor_description\": \"If comparison level is `all other comparisons` then comparison is  2.57 times less likely to be a match\", \"iteration\": 5, \"proportion_of_matches\": 0.9009958388440497}]}, \"transform\": [{\"filter\": \"(datum.iteration == iteration_number)\"}], \"mark\": {\"type\": \"bar\", \"clip\": true}, \"selection\": {\"zoom_selector\": {\"type\": \"interval\", \"bind\": \"scales\", \"encodings\": [\"x\"]}}, \"encoding\": {\"color\": {\"type\": \"quantitative\", \"field\": \"log2_bayes_factor\", \"title\": \"Match weight\", \"scale\": {\"range\": [\"red\", \"orange\", \"green\"], \"domain\": [-10, 0, 10]}}, \"row\": {\"type\": \"nominal\", \"field\": \"comparison_name\", \"sort\": {\"field\": \"comparison_sort_order\"}, \"header\": {\"labelAngle\": 0, \"labelAnchor\": \"middle\", \"labelAlign\": \"left\"}}, \"tooltip\": [{\"type\": \"nominal\", \"field\": \"comparison_name\", \"title\": \"Comparison name\"}, {\"type\": \"ordinal\", \"field\": \"label_for_charts\", \"title\": \"Label\"}, {\"type\": \"nominal\", \"field\": \"sql_condition\", \"title\": \"SQL condition\"}, {\"type\": \"quantitative\", \"field\": \"m_probability\", \"format\": \".4f\", \"title\": \"M probability\"}, {\"type\": \"quantitative\", \"field\": \"u_probability\", \"format\": \".4f\", \"title\": \"U probability\"}, {\"type\": \"quantitative\", \"field\": \"bayes_factor\", \"title\": \"Bayes factor = m/u\", \"format\": \",.4f\"}, {\"type\": \"quantitative\", \"field\": \"log2_bayes_factor\", \"title\": \"Match weight = log2(m/u)\", \"format\": \",.4f\"}, {\"type\": \"nominal\", \"field\": \"bayes_factor_description\", \"title\": \"Match weight description\"}], \"x\": {\"type\": \"quantitative\", \"axis\": {\"title\": \"Match weight = log2(m/u)\", \"values\": [-10, -5, 0, 5, 10]}, \"field\": \"log2_bayes_factor\", \"scale\": {\"domain\": [-10, 10]}}, \"y\": {\"type\": \"nominal\", \"field\": \"label_for_charts\", \"axis\": {\"title\": null}, \"sort\": {\"field\": \"comparison_vector_value\", \"order\": \"descending\"}}}, \"resolve\": {\"scale\": {\"y\": \"independent\"}}, \"title\": {\"text\": \"Influence of comparison levels on match weight\", \"subtitle\": \"Use mousewheel to zoom\"}, \"$schema\": \"https://vega.github.io/schema/vega-lite/v4.json\"}, {\"mode\": \"vega-lite\"});\n",
       "</script>"
      ],
      "text/plain": [
       "<altair.vegalite.v4.display.VegaLite at 0x7face92cfdc0>"
      ]
     },
     "metadata": {},
     "output_type": "display_data"
    }
   ],
   "source": [
    "training_blocking_rule = \"l.first_name = r.first_name and l.surname = r.surname\"\n",
    "training_session_names = linker.train_m_using_expectation_maximisation(training_blocking_rule)\n",
    "\n",
    "c = training_session_names.match_weights_interactive_history_chart()"
   ]
  },
  {
   "cell_type": "markdown",
   "metadata": {},
   "source": [
    "In a second training session, we block on `dob`.  This allows us to estimate parameters for the `first_name ` and `surname` comparisons.\n",
    "\n",
    "Between the two training sessions, we now have parameter estimates for all comparisons."
   ]
  },
  {
   "cell_type": "code",
   "execution_count": 9,
   "metadata": {},
   "outputs": [
    {
     "name": "stderr",
     "output_type": "stream",
     "text": [
      "\n",
      "----- Starting EM training session -----\n",
      "\n",
      "Training the m probabilities of the model by blocking on:\n",
      "l.dob = r.dob\n",
      "\n",
      "Parameter estimates will be made for the following comparison(s):\n",
      "    - first_name\n",
      "    - surname\n",
      "    - city\n",
      "    - email\n",
      "\n",
      "Parameter estimates cannot be made for the following comparison(s) since they are used in the blocking rules: \n",
      "    - dob\n",
      "\n",
      "Iteration 1: Largest change in params was 0.484 in proportion_of_matches\n",
      "Iteration 2: Largest change in params was 0.199 in proportion_of_matches\n",
      "Iteration 3: Largest change in params was 0.0705 in proportion_of_matches\n",
      "Iteration 4: Largest change in params was 0.0317 in proportion_of_matches\n",
      "Iteration 5: Largest change in params was 0.0173 in proportion_of_matches\n",
      "Iteration 6: Largest change in params was 0.0106 in proportion_of_matches\n",
      "Iteration 7: Largest change in params was 0.00692 in proportion_of_matches\n",
      "\n",
      "EM converged after 7 iterations\n",
      "\n",
      "Your model is fully trained. All comparisons have at least one estimate for their m and u values\n"
     ]
    },
    {
     "data": {
      "text/html": [
       "\n",
       "<div id=\"altair-viz-2b6d99771bb04b178638eabfa393fff7\"></div>\n",
       "<script type=\"text/javascript\">\n",
       "  var VEGA_DEBUG = (typeof VEGA_DEBUG == \"undefined\") ? {} : VEGA_DEBUG;\n",
       "  (function(spec, embedOpt){\n",
       "    let outputDiv = document.currentScript.previousElementSibling;\n",
       "    if (outputDiv.id !== \"altair-viz-2b6d99771bb04b178638eabfa393fff7\") {\n",
       "      outputDiv = document.getElementById(\"altair-viz-2b6d99771bb04b178638eabfa393fff7\");\n",
       "    }\n",
       "    const paths = {\n",
       "      \"vega\": \"https://cdn.jsdelivr.net/npm//vega@5?noext\",\n",
       "      \"vega-lib\": \"https://cdn.jsdelivr.net/npm//vega-lib?noext\",\n",
       "      \"vega-lite\": \"https://cdn.jsdelivr.net/npm//vega-lite@4.17.0?noext\",\n",
       "      \"vega-embed\": \"https://cdn.jsdelivr.net/npm//vega-embed@6?noext\",\n",
       "    };\n",
       "\n",
       "    function maybeLoadScript(lib, version) {\n",
       "      var key = `${lib.replace(\"-\", \"\")}_version`;\n",
       "      return (VEGA_DEBUG[key] == version) ?\n",
       "        Promise.resolve(paths[lib]) :\n",
       "        new Promise(function(resolve, reject) {\n",
       "          var s = document.createElement('script');\n",
       "          document.getElementsByTagName(\"head\")[0].appendChild(s);\n",
       "          s.async = true;\n",
       "          s.onload = () => {\n",
       "            VEGA_DEBUG[key] = version;\n",
       "            return resolve(paths[lib]);\n",
       "          };\n",
       "          s.onerror = () => reject(`Error loading script: ${paths[lib]}`);\n",
       "          s.src = paths[lib];\n",
       "        });\n",
       "    }\n",
       "\n",
       "    function showError(err) {\n",
       "      outputDiv.innerHTML = `<div class=\"error\" style=\"color:red;\">${err}</div>`;\n",
       "      throw err;\n",
       "    }\n",
       "\n",
       "    function displayChart(vegaEmbed) {\n",
       "      vegaEmbed(outputDiv, spec, embedOpt)\n",
       "        .catch(err => showError(`Javascript Error: ${err.message}<br>This usually means there's a typo in your chart specification. See the javascript console for the full traceback.`));\n",
       "    }\n",
       "\n",
       "    if(typeof define === \"function\" && define.amd) {\n",
       "      requirejs.config({paths});\n",
       "      require([\"vega-embed\"], displayChart, err => showError(`Error loading script: ${err.message}`));\n",
       "    } else {\n",
       "      maybeLoadScript(\"vega\", \"5\")\n",
       "        .then(() => maybeLoadScript(\"vega-lite\", \"4.17.0\"))\n",
       "        .then(() => maybeLoadScript(\"vega-embed\", \"6\"))\n",
       "        .catch(showError)\n",
       "        .then(() => displayChart(vegaEmbed));\n",
       "    }\n",
       "  })({\"config\": {\"view\": {\"width\": 400, \"height\": 50}, \"mark\": {\"tooltip\": null}, \"title\": {\"anchor\": \"middle\"}, \"header\": {\"title\": null}}, \"params\": [{\"name\": \"iteration_number\", \"value\": 5, \"bind\": {\"input\": \"range\", \"min\": 0, \"max\": 5, \"step\": 1}, \"description\": \"Filter by the interation number\"}], \"data\": {\"values\": [{\"comparison_name\": \"dob\", \"sql_condition\": \"dob_l = dob_r\", \"label_for_charts\": \"Exact match\", \"m_probability\": 0.95, \"u_probability\": 0.0017477477477477479, \"m_probability_description\": \"Amongst truly matching record comparisons, 95.00% of records are in the exact match comparison level\", \"u_probability_description\": \"Amongst truly non-matching record comparisons, 0.17% of records are in the exact match comparison level\", \"has_tf_adjustments\": false, \"tf_adjustment_column\": null, \"tf_adjustment_weight\": 1.0, \"is_null_level\": false, \"bayes_factor\": 543.5567010309278, \"log2_bayes_factor\": 9.086286727381289, \"comparison_vector_value\": 1, \"max_comparison_vector_value\": 1, \"bayes_factor_description\": \"If comparison level is `exact match` then comparison is 543.56 times more likely to be a match\", \"iteration\": 0, \"proportion_of_matches\": 0.9009958388440497}, {\"comparison_name\": \"dob\", \"sql_condition\": \"ELSE\", \"label_for_charts\": \"All other comparisons\", \"m_probability\": 0.05, \"u_probability\": 0.9982522522522522, \"m_probability_description\": \"Amongst truly matching record comparisons, 5.00% of records are in the all other comparisons comparison level\", \"u_probability_description\": \"Amongst truly non-matching record comparisons, 99.83% of records are in the all other comparisons comparison level\", \"has_tf_adjustments\": false, \"tf_adjustment_column\": null, \"tf_adjustment_weight\": 1.0, \"is_null_level\": false, \"bayes_factor\": 0.05008754038589969, \"log2_bayes_factor\": -4.319404421864073, \"comparison_vector_value\": 0, \"max_comparison_vector_value\": 1, \"bayes_factor_description\": \"If comparison level is `all other comparisons` then comparison is  19.97 times less likely to be a match\", \"iteration\": 0, \"proportion_of_matches\": 0.9009958388440497}, {\"comparison_name\": \"city\", \"sql_condition\": \"city_l = city_r\", \"label_for_charts\": \"Exact match\", \"m_probability\": 0.95, \"u_probability\": 0.0551475711801453, \"m_probability_description\": \"Amongst truly matching record comparisons, 95.00% of records are in the exact match comparison level\", \"u_probability_description\": \"Amongst truly non-matching record comparisons, 5.51% of records are in the exact match comparison level\", \"has_tf_adjustments\": true, \"tf_adjustment_column\": \"city\", \"tf_adjustment_weight\": 1.0, \"is_null_level\": false, \"bayes_factor\": 17.226506619787944, \"log2_bayes_factor\": 4.106558260565448, \"comparison_vector_value\": 1, \"max_comparison_vector_value\": 1, \"bayes_factor_description\": \"If comparison level is `exact match` then comparison is 17.23 times more likely to be a match\", \"iteration\": 0, \"proportion_of_matches\": 0.9009958388440497}, {\"comparison_name\": \"city\", \"sql_condition\": \"ELSE\", \"label_for_charts\": \"All other comparisons\", \"m_probability\": 0.05, \"u_probability\": 0.9448524288198547, \"m_probability_description\": \"Amongst truly matching record comparisons, 5.00% of records are in the all other comparisons comparison level\", \"u_probability_description\": \"Amongst truly non-matching record comparisons, 94.49% of records are in the all other comparisons comparison level\", \"has_tf_adjustments\": false, \"tf_adjustment_column\": null, \"tf_adjustment_weight\": 1.0, \"is_null_level\": false, \"bayes_factor\": 0.052918316633266536, \"log2_bayes_factor\": -4.240089020513868, \"comparison_vector_value\": 0, \"max_comparison_vector_value\": 1, \"bayes_factor_description\": \"If comparison level is `all other comparisons` then comparison is  18.90 times less likely to be a match\", \"iteration\": 0, \"proportion_of_matches\": 0.9009958388440497}, {\"comparison_name\": \"email\", \"sql_condition\": \"email_l = email_r\", \"label_for_charts\": \"Exact match\", \"m_probability\": 0.95, \"u_probability\": 0.0021938713143283602, \"m_probability_description\": \"Amongst truly matching record comparisons, 95.00% of records are in the exact match comparison level\", \"u_probability_description\": \"Amongst truly non-matching record comparisons, 0.22% of records are in the exact match comparison level\", \"has_tf_adjustments\": false, \"tf_adjustment_column\": null, \"tf_adjustment_weight\": 1.0, \"is_null_level\": false, \"bayes_factor\": 433.02448680351904, \"log2_bayes_factor\": 8.758304799001886, \"comparison_vector_value\": 1, \"max_comparison_vector_value\": 1, \"bayes_factor_description\": \"If comparison level is `exact match` then comparison is 433.02 times more likely to be a match\", \"iteration\": 0, \"proportion_of_matches\": 0.9009958388440497}, {\"comparison_name\": \"email\", \"sql_condition\": \"ELSE\", \"label_for_charts\": \"All other comparisons\", \"m_probability\": 0.05, \"u_probability\": 0.9978061286856716, \"m_probability_description\": \"Amongst truly matching record comparisons, 5.00% of records are in the all other comparisons comparison level\", \"u_probability_description\": \"Amongst truly non-matching record comparisons, 99.78% of records are in the all other comparisons comparison level\", \"has_tf_adjustments\": false, \"tf_adjustment_column\": null, \"tf_adjustment_weight\": 1.0, \"is_null_level\": false, \"bayes_factor\": 0.0501099347484074, \"log2_bayes_factor\": -4.318759530638452, \"comparison_vector_value\": 0, \"max_comparison_vector_value\": 1, \"bayes_factor_description\": \"If comparison level is `all other comparisons` then comparison is  19.96 times less likely to be a match\", \"iteration\": 0, \"proportion_of_matches\": 0.9009958388440497}, {\"comparison_name\": \"dob\", \"sql_condition\": \"dob_l = dob_r\", \"label_for_charts\": \"Exact match\", \"m_probability\": 0.4585082933124312, \"u_probability\": 0.0017477477477477479, \"m_probability_description\": \"Amongst truly matching record comparisons, 45.85% of records are in the exact match comparison level\", \"u_probability_description\": \"Amongst truly non-matching record comparisons, 0.17% of records are in the exact match comparison level\", \"has_tf_adjustments\": false, \"tf_adjustment_column\": null, \"tf_adjustment_weight\": 1.0, \"is_null_level\": false, \"bayes_factor\": 262.3423740086591, \"log2_bayes_factor\": 8.03530704287801, \"comparison_vector_value\": 1, \"max_comparison_vector_value\": 1, \"bayes_factor_description\": \"If comparison level is `exact match` then comparison is 262.34 times more likely to be a match\", \"iteration\": 1, \"proportion_of_matches\": 0.9009958388440497}, {\"comparison_name\": \"dob\", \"sql_condition\": \"ELSE\", \"label_for_charts\": \"All other comparisons\", \"m_probability\": 0.5414917066875685, \"u_probability\": 0.9982522522522522, \"m_probability_description\": \"Amongst truly matching record comparisons, 54.15% of records are in the all other comparisons comparison level\", \"u_probability_description\": \"Amongst truly non-matching record comparisons, 99.83% of records are in the all other comparisons comparison level\", \"has_tf_adjustments\": false, \"tf_adjustment_column\": null, \"tf_adjustment_weight\": 1.0, \"is_null_level\": false, \"bayes_factor\": 0.5424397545468667, \"log2_bayes_factor\": -0.8824651797134637, \"comparison_vector_value\": 0, \"max_comparison_vector_value\": 1, \"bayes_factor_description\": \"If comparison level is `all other comparisons` then comparison is  1.84 times less likely to be a match\", \"iteration\": 1, \"proportion_of_matches\": 0.9009958388440497}, {\"comparison_name\": \"city\", \"sql_condition\": \"city_l = city_r\", \"label_for_charts\": \"Exact match\", \"m_probability\": 0.6599205383526635, \"u_probability\": 0.0551475711801453, \"m_probability_description\": \"Amongst truly matching record comparisons, 65.99% of records are in the exact match comparison level\", \"u_probability_description\": \"Amongst truly non-matching record comparisons, 5.51% of records are in the exact match comparison level\", \"has_tf_adjustments\": true, \"tf_adjustment_column\": \"city\", \"tf_adjustment_weight\": 1.0, \"is_null_level\": false, \"bayes_factor\": 11.966447918385455, \"log2_bayes_factor\": 3.5809230657957327, \"comparison_vector_value\": 1, \"max_comparison_vector_value\": 1, \"bayes_factor_description\": \"If comparison level is `exact match` then comparison is 11.97 times more likely to be a match\", \"iteration\": 1, \"proportion_of_matches\": 0.9009958388440497}, {\"comparison_name\": \"city\", \"sql_condition\": \"ELSE\", \"label_for_charts\": \"All other comparisons\", \"m_probability\": 0.3400794616473364, \"u_probability\": 0.9448524288198547, \"m_probability_description\": \"Amongst truly matching record comparisons, 34.01% of records are in the all other comparisons comparison level\", \"u_probability_description\": \"Amongst truly non-matching record comparisons, 94.49% of records are in the all other comparisons comparison level\", \"has_tf_adjustments\": false, \"tf_adjustment_column\": null, \"tf_adjustment_weight\": 1.0, \"is_null_level\": false, \"bayes_factor\": 0.3599286526384914, \"log2_bayes_factor\": -1.474217140237754, \"comparison_vector_value\": 0, \"max_comparison_vector_value\": 1, \"bayes_factor_description\": \"If comparison level is `all other comparisons` then comparison is  2.78 times less likely to be a match\", \"iteration\": 1, \"proportion_of_matches\": 0.9009958388440497}, {\"comparison_name\": \"email\", \"sql_condition\": \"email_l = email_r\", \"label_for_charts\": \"Exact match\", \"m_probability\": 0.6655042947933041, \"u_probability\": 0.0021938713143283602, \"m_probability_description\": \"Amongst truly matching record comparisons, 66.55% of records are in the exact match comparison level\", \"u_probability_description\": \"Amongst truly non-matching record comparisons, 0.22% of records are in the exact match comparison level\", \"has_tf_adjustments\": false, \"tf_adjustment_column\": null, \"tf_adjustment_weight\": 1.0, \"is_null_level\": false, \"bayes_factor\": 303.3470060193772, \"log2_bayes_factor\": 8.244825262074142, \"comparison_vector_value\": 1, \"max_comparison_vector_value\": 1, \"bayes_factor_description\": \"If comparison level is `exact match` then comparison is 303.35 times more likely to be a match\", \"iteration\": 1, \"proportion_of_matches\": 0.9009958388440497}, {\"comparison_name\": \"email\", \"sql_condition\": \"ELSE\", \"label_for_charts\": \"All other comparisons\", \"m_probability\": 0.33449570520669597, \"u_probability\": 0.9978061286856716, \"m_probability_description\": \"Amongst truly matching record comparisons, 33.45% of records are in the all other comparisons comparison level\", \"u_probability_description\": \"Amongst truly non-matching record comparisons, 99.78% of records are in the all other comparisons comparison level\", \"has_tf_adjustments\": false, \"tf_adjustment_column\": null, \"tf_adjustment_weight\": 1.0, \"is_null_level\": false, \"bayes_factor\": 0.33523115923060104, \"log2_bayes_factor\": -1.5767718432897395, \"comparison_vector_value\": 0, \"max_comparison_vector_value\": 1, \"bayes_factor_description\": \"If comparison level is `all other comparisons` then comparison is  2.98 times less likely to be a match\", \"iteration\": 1, \"proportion_of_matches\": 0.9009958388440497}, {\"comparison_name\": \"dob\", \"sql_condition\": \"dob_l = dob_r\", \"label_for_charts\": \"Exact match\", \"m_probability\": 0.44530230056829695, \"u_probability\": 0.0017477477477477479, \"m_probability_description\": \"Amongst truly matching record comparisons, 44.53% of records are in the exact match comparison level\", \"u_probability_description\": \"Amongst truly non-matching record comparisons, 0.17% of records are in the exact match comparison level\", \"has_tf_adjustments\": false, \"tf_adjustment_column\": null, \"tf_adjustment_weight\": 1.0, \"is_null_level\": false, \"bayes_factor\": 254.78636785093278, \"log2_bayes_factor\": 7.9931442791429514, \"comparison_vector_value\": 1, \"max_comparison_vector_value\": 1, \"bayes_factor_description\": \"If comparison level is `exact match` then comparison is 254.79 times more likely to be a match\", \"iteration\": 2, \"proportion_of_matches\": 0.9009958388440497}, {\"comparison_name\": \"dob\", \"sql_condition\": \"ELSE\", \"label_for_charts\": \"All other comparisons\", \"m_probability\": 0.5546976994317051, \"u_probability\": 0.9982522522522522, \"m_probability_description\": \"Amongst truly matching record comparisons, 55.47% of records are in the all other comparisons comparison level\", \"u_probability_description\": \"Amongst truly non-matching record comparisons, 99.83% of records are in the all other comparisons comparison level\", \"has_tf_adjustments\": false, \"tf_adjustment_column\": null, \"tf_adjustment_weight\": 1.0, \"is_null_level\": false, \"bayes_factor\": 0.5556688684450235, \"log2_bayes_factor\": -0.8477026798609717, \"comparison_vector_value\": 0, \"max_comparison_vector_value\": 1, \"bayes_factor_description\": \"If comparison level is `all other comparisons` then comparison is  1.80 times less likely to be a match\", \"iteration\": 2, \"proportion_of_matches\": 0.9009958388440497}, {\"comparison_name\": \"city\", \"sql_condition\": \"city_l = city_r\", \"label_for_charts\": \"Exact match\", \"m_probability\": 0.6307651528242586, \"u_probability\": 0.0551475711801453, \"m_probability_description\": \"Amongst truly matching record comparisons, 63.08% of records are in the exact match comparison level\", \"u_probability_description\": \"Amongst truly non-matching record comparisons, 5.51% of records are in the exact match comparison level\", \"has_tf_adjustments\": true, \"tf_adjustment_column\": \"city\", \"tf_adjustment_weight\": 1.0, \"is_null_level\": false, \"bayes_factor\": 11.43776850595647, \"log2_bayes_factor\": 3.5157337064951864, \"comparison_vector_value\": 1, \"max_comparison_vector_value\": 1, \"bayes_factor_description\": \"If comparison level is `exact match` then comparison is 11.44 times more likely to be a match\", \"iteration\": 2, \"proportion_of_matches\": 0.9009958388440497}, {\"comparison_name\": \"city\", \"sql_condition\": \"ELSE\", \"label_for_charts\": \"All other comparisons\", \"m_probability\": 0.3692348471757421, \"u_probability\": 0.9448524288198547, \"m_probability_description\": \"Amongst truly matching record comparisons, 36.92% of records are in the all other comparisons comparison level\", \"u_probability_description\": \"Amongst truly non-matching record comparisons, 94.49% of records are in the all other comparisons comparison level\", \"has_tf_adjustments\": false, \"tf_adjustment_column\": null, \"tf_adjustment_weight\": 1.0, \"is_null_level\": false, \"bayes_factor\": 0.39078573109763404, \"log2_bayes_factor\": -1.355550304271197, \"comparison_vector_value\": 0, \"max_comparison_vector_value\": 1, \"bayes_factor_description\": \"If comparison level is `all other comparisons` then comparison is  2.56 times less likely to be a match\", \"iteration\": 2, \"proportion_of_matches\": 0.9009958388440497}, {\"comparison_name\": \"email\", \"sql_condition\": \"email_l = email_r\", \"label_for_charts\": \"Exact match\", \"m_probability\": 0.637745744329226, \"u_probability\": 0.0021938713143283602, \"m_probability_description\": \"Amongst truly matching record comparisons, 63.77% of records are in the exact match comparison level\", \"u_probability_description\": \"Amongst truly non-matching record comparisons, 0.22% of records are in the exact match comparison level\", \"has_tf_adjustments\": false, \"tf_adjustment_column\": null, \"tf_adjustment_weight\": 1.0, \"is_null_level\": false, \"bayes_factor\": 290.6942354203067, \"log2_bayes_factor\": 8.18335865232904, \"comparison_vector_value\": 1, \"max_comparison_vector_value\": 1, \"bayes_factor_description\": \"If comparison level is `exact match` then comparison is 290.69 times more likely to be a match\", \"iteration\": 2, \"proportion_of_matches\": 0.9009958388440497}, {\"comparison_name\": \"email\", \"sql_condition\": \"ELSE\", \"label_for_charts\": \"All other comparisons\", \"m_probability\": 0.36225425567077435, \"u_probability\": 0.9978061286856716, \"m_probability_description\": \"Amongst truly matching record comparisons, 36.23% of records are in the all other comparisons comparison level\", \"u_probability_description\": \"Amongst truly non-matching record comparisons, 99.78% of records are in the all other comparisons comparison level\", \"has_tf_adjustments\": false, \"tf_adjustment_column\": null, \"tf_adjustment_weight\": 1.0, \"is_null_level\": false, \"bayes_factor\": 0.36305074227990786, \"log2_bayes_factor\": -1.4617568923426296, \"comparison_vector_value\": 0, \"max_comparison_vector_value\": 1, \"bayes_factor_description\": \"If comparison level is `all other comparisons` then comparison is  2.75 times less likely to be a match\", \"iteration\": 2, \"proportion_of_matches\": 0.9009958388440497}, {\"comparison_name\": \"dob\", \"sql_condition\": \"dob_l = dob_r\", \"label_for_charts\": \"Exact match\", \"m_probability\": 0.43604624336022985, \"u_probability\": 0.0017477477477477479, \"m_probability_description\": \"Amongst truly matching record comparisons, 43.60% of records are in the exact match comparison level\", \"u_probability_description\": \"Amongst truly non-matching record comparisons, 0.17% of records are in the exact match comparison level\", \"has_tf_adjustments\": false, \"tf_adjustment_column\": null, \"tf_adjustment_weight\": 1.0, \"is_null_level\": false, \"bayes_factor\": 249.4903763555954, \"log2_bayes_factor\": 7.962840357033335, \"comparison_vector_value\": 1, \"max_comparison_vector_value\": 1, \"bayes_factor_description\": \"If comparison level is `exact match` then comparison is 249.49 times more likely to be a match\", \"iteration\": 3, \"proportion_of_matches\": 0.9009958388440497}, {\"comparison_name\": \"dob\", \"sql_condition\": \"ELSE\", \"label_for_charts\": \"All other comparisons\", \"m_probability\": 0.5639537566397694, \"u_probability\": 0.9982522522522522, \"m_probability_description\": \"Amongst truly matching record comparisons, 56.40% of records are in the all other comparisons comparison level\", \"u_probability_description\": \"Amongst truly non-matching record comparisons, 99.83% of records are in the all other comparisons comparison level\", \"has_tf_adjustments\": false, \"tf_adjustment_column\": null, \"tf_adjustment_weight\": 1.0, \"is_null_level\": false, \"bayes_factor\": 0.5649411312294859, \"log2_bayes_factor\": -0.8238275532145989, \"comparison_vector_value\": 0, \"max_comparison_vector_value\": 1, \"bayes_factor_description\": \"If comparison level is `all other comparisons` then comparison is  1.77 times less likely to be a match\", \"iteration\": 3, \"proportion_of_matches\": 0.9009958388440497}, {\"comparison_name\": \"city\", \"sql_condition\": \"city_l = city_r\", \"label_for_charts\": \"Exact match\", \"m_probability\": 0.6207662066247426, \"u_probability\": 0.0551475711801453, \"m_probability_description\": \"Amongst truly matching record comparisons, 62.08% of records are in the exact match comparison level\", \"u_probability_description\": \"Amongst truly non-matching record comparisons, 5.51% of records are in the exact match comparison level\", \"has_tf_adjustments\": true, \"tf_adjustment_column\": \"city\", \"tf_adjustment_weight\": 1.0, \"is_null_level\": false, \"bayes_factor\": 11.256455966065031, \"log2_bayes_factor\": 3.492680769109047, \"comparison_vector_value\": 1, \"max_comparison_vector_value\": 1, \"bayes_factor_description\": \"If comparison level is `exact match` then comparison is 11.26 times more likely to be a match\", \"iteration\": 3, \"proportion_of_matches\": 0.9009958388440497}, {\"comparison_name\": \"city\", \"sql_condition\": \"ELSE\", \"label_for_charts\": \"All other comparisons\", \"m_probability\": 0.3792337933752575, \"u_probability\": 0.9448524288198547, \"m_probability_description\": \"Amongst truly matching record comparisons, 37.92% of records are in the all other comparisons comparison level\", \"u_probability_description\": \"Amongst truly non-matching record comparisons, 94.49% of records are in the all other comparisons comparison level\", \"has_tf_adjustments\": false, \"tf_adjustment_column\": null, \"tf_adjustment_weight\": 1.0, \"is_null_level\": false, \"bayes_factor\": 0.401368279117333, \"log2_bayes_factor\": -1.31700149255768, \"comparison_vector_value\": 0, \"max_comparison_vector_value\": 1, \"bayes_factor_description\": \"If comparison level is `all other comparisons` then comparison is  2.49 times less likely to be a match\", \"iteration\": 3, \"proportion_of_matches\": 0.9009958388440497}, {\"comparison_name\": \"email\", \"sql_condition\": \"email_l = email_r\", \"label_for_charts\": \"Exact match\", \"m_probability\": 0.6255975570642349, \"u_probability\": 0.0021938713143283602, \"m_probability_description\": \"Amongst truly matching record comparisons, 62.56% of records are in the exact match comparison level\", \"u_probability_description\": \"Amongst truly non-matching record comparisons, 0.22% of records are in the exact match comparison level\", \"has_tf_adjustments\": false, \"tf_adjustment_column\": null, \"tf_adjustment_weight\": 1.0, \"is_null_level\": false, \"bayes_factor\": 285.15690641397424, \"log2_bayes_factor\": 8.155612164542768, \"comparison_vector_value\": 1, \"max_comparison_vector_value\": 1, \"bayes_factor_description\": \"If comparison level is `exact match` then comparison is 285.16 times more likely to be a match\", \"iteration\": 3, \"proportion_of_matches\": 0.9009958388440497}, {\"comparison_name\": \"email\", \"sql_condition\": \"ELSE\", \"label_for_charts\": \"All other comparisons\", \"m_probability\": 0.3744024429357649, \"u_probability\": 0.9978061286856716, \"m_probability_description\": \"Amongst truly matching record comparisons, 37.44% of records are in the all other comparisons comparison level\", \"u_probability_description\": \"Amongst truly non-matching record comparisons, 99.78% of records are in the all other comparisons comparison level\", \"has_tf_adjustments\": false, \"tf_adjustment_column\": null, \"tf_adjustment_weight\": 1.0, \"is_null_level\": false, \"bayes_factor\": 0.37522563970311007, \"log2_bayes_factor\": -1.4141696822560905, \"comparison_vector_value\": 0, \"max_comparison_vector_value\": 1, \"bayes_factor_description\": \"If comparison level is `all other comparisons` then comparison is  2.67 times less likely to be a match\", \"iteration\": 3, \"proportion_of_matches\": 0.9009958388440497}, {\"comparison_name\": \"dob\", \"sql_condition\": \"dob_l = dob_r\", \"label_for_charts\": \"Exact match\", \"m_probability\": 0.42970885264150693, \"u_probability\": 0.0017477477477477479, \"m_probability_description\": \"Amongst truly matching record comparisons, 42.97% of records are in the exact match comparison level\", \"u_probability_description\": \"Amongst truly non-matching record comparisons, 0.17% of records are in the exact match comparison level\", \"has_tf_adjustments\": false, \"tf_adjustment_column\": null, \"tf_adjustment_weight\": 1.0, \"is_null_level\": false, \"bayes_factor\": 245.86434352168695, \"log2_bayes_factor\": 7.941718713019399, \"comparison_vector_value\": 1, \"max_comparison_vector_value\": 1, \"bayes_factor_description\": \"If comparison level is `exact match` then comparison is 245.86 times more likely to be a match\", \"iteration\": 4, \"proportion_of_matches\": 0.9009958388440497}, {\"comparison_name\": \"dob\", \"sql_condition\": \"ELSE\", \"label_for_charts\": \"All other comparisons\", \"m_probability\": 0.5702911473584934, \"u_probability\": 0.9982522522522522, \"m_probability_description\": \"Amongst truly matching record comparisons, 57.03% of records are in the all other comparisons comparison level\", \"u_probability_description\": \"Amongst truly non-matching record comparisons, 99.83% of records are in the all other comparisons comparison level\", \"has_tf_adjustments\": false, \"tf_adjustment_column\": null, \"tf_adjustment_weight\": 1.0, \"is_null_level\": false, \"bayes_factor\": 0.5712896175007921, \"log2_bayes_factor\": -0.8077057839681775, \"comparison_vector_value\": 0, \"max_comparison_vector_value\": 1, \"bayes_factor_description\": \"If comparison level is `all other comparisons` then comparison is  1.75 times less likely to be a match\", \"iteration\": 4, \"proportion_of_matches\": 0.9009958388440497}, {\"comparison_name\": \"city\", \"sql_condition\": \"city_l = city_r\", \"label_for_charts\": \"Exact match\", \"m_probability\": 0.6141430673090714, \"u_probability\": 0.0551475711801453, \"m_probability_description\": \"Amongst truly matching record comparisons, 61.41% of records are in the exact match comparison level\", \"u_probability_description\": \"Amongst truly non-matching record comparisons, 5.51% of records are in the exact match comparison level\", \"has_tf_adjustments\": true, \"tf_adjustment_column\": \"city\", \"tf_adjustment_weight\": 1.0, \"is_null_level\": false, \"bayes_factor\": 11.136357488943782, \"log2_bayes_factor\": 3.477205523978331, \"comparison_vector_value\": 1, \"max_comparison_vector_value\": 1, \"bayes_factor_description\": \"If comparison level is `exact match` then comparison is 11.14 times more likely to be a match\", \"iteration\": 4, \"proportion_of_matches\": 0.9009958388440497}, {\"comparison_name\": \"city\", \"sql_condition\": \"ELSE\", \"label_for_charts\": \"All other comparisons\", \"m_probability\": 0.3858569326909292, \"u_probability\": 0.9448524288198547, \"m_probability_description\": \"Amongst truly matching record comparisons, 38.59% of records are in the all other comparisons comparison level\", \"u_probability_description\": \"Amongst truly non-matching record comparisons, 94.49% of records are in the all other comparisons comparison level\", \"has_tf_adjustments\": false, \"tf_adjustment_column\": null, \"tf_adjustment_weight\": 1.0, \"is_null_level\": false, \"bayes_factor\": 0.40837798678559206, \"log2_bayes_factor\": -1.2920229936354002, \"comparison_vector_value\": 0, \"max_comparison_vector_value\": 1, \"bayes_factor_description\": \"If comparison level is `all other comparisons` then comparison is  2.45 times less likely to be a match\", \"iteration\": 4, \"proportion_of_matches\": 0.9009958388440497}, {\"comparison_name\": \"email\", \"sql_condition\": \"email_l = email_r\", \"label_for_charts\": \"Exact match\", \"m_probability\": 0.617254389113464, \"u_probability\": 0.0021938713143283602, \"m_probability_description\": \"Amongst truly matching record comparisons, 61.73% of records are in the exact match comparison level\", \"u_probability_description\": \"Amongst truly non-matching record comparisons, 0.22% of records are in the exact match comparison level\", \"has_tf_adjustments\": false, \"tf_adjustment_column\": null, \"tf_adjustment_weight\": 1.0, \"is_null_level\": false, \"bayes_factor\": 281.3539632348183, \"log2_bayes_factor\": 8.136242475540719, \"comparison_vector_value\": 1, \"max_comparison_vector_value\": 1, \"bayes_factor_description\": \"If comparison level is `exact match` then comparison is 281.35 times more likely to be a match\", \"iteration\": 4, \"proportion_of_matches\": 0.9009958388440497}, {\"comparison_name\": \"email\", \"sql_condition\": \"ELSE\", \"label_for_charts\": \"All other comparisons\", \"m_probability\": 0.38274561088653525, \"u_probability\": 0.9978061286856716, \"m_probability_description\": \"Amongst truly matching record comparisons, 38.27% of records are in the all other comparisons comparison level\", \"u_probability_description\": \"Amongst truly non-matching record comparisons, 99.78% of records are in the all other comparisons comparison level\", \"has_tf_adjustments\": false, \"tf_adjustment_column\": null, \"tf_adjustment_weight\": 1.0, \"is_null_level\": false, \"bayes_factor\": 0.3835871517352722, \"log2_bayes_factor\": -1.3823736968416354, \"comparison_vector_value\": 0, \"max_comparison_vector_value\": 1, \"bayes_factor_description\": \"If comparison level is `all other comparisons` then comparison is  2.61 times less likely to be a match\", \"iteration\": 4, \"proportion_of_matches\": 0.9009958388440497}, {\"comparison_name\": \"dob\", \"sql_condition\": \"dob_l = dob_r\", \"label_for_charts\": \"Exact match\", \"m_probability\": 0.42513701832174805, \"u_probability\": 0.0017477477477477479, \"m_probability_description\": \"Amongst truly matching record comparisons, 42.51% of records are in the exact match comparison level\", \"u_probability_description\": \"Amongst truly non-matching record comparisons, 0.17% of records are in the exact match comparison level\", \"has_tf_adjustments\": false, \"tf_adjustment_column\": null, \"tf_adjustment_weight\": 1.0, \"is_null_level\": false, \"bayes_factor\": 243.24850017378367, \"log2_bayes_factor\": 7.926287099412087, \"comparison_vector_value\": 1, \"max_comparison_vector_value\": 1, \"bayes_factor_description\": \"If comparison level is `exact match` then comparison is 243.25 times more likely to be a match\", \"iteration\": 5, \"proportion_of_matches\": 0.9009958388440497}, {\"comparison_name\": \"dob\", \"sql_condition\": \"ELSE\", \"label_for_charts\": \"All other comparisons\", \"m_probability\": 0.5748629816782519, \"u_probability\": 0.9982522522522522, \"m_probability_description\": \"Amongst truly matching record comparisons, 57.49% of records are in the all other comparisons comparison level\", \"u_probability_description\": \"Amongst truly non-matching record comparisons, 99.83% of records are in the all other comparisons comparison level\", \"has_tf_adjustments\": false, \"tf_adjustment_column\": null, \"tf_adjustment_weight\": 1.0, \"is_null_level\": false, \"bayes_factor\": 0.575869456223363, \"log2_bayes_factor\": -0.7961862905190165, \"comparison_vector_value\": 0, \"max_comparison_vector_value\": 1, \"bayes_factor_description\": \"If comparison level is `all other comparisons` then comparison is  1.74 times less likely to be a match\", \"iteration\": 5, \"proportion_of_matches\": 0.9009958388440497}, {\"comparison_name\": \"city\", \"sql_condition\": \"city_l = city_r\", \"label_for_charts\": \"Exact match\", \"m_probability\": 0.6091923457002523, \"u_probability\": 0.0551475711801453, \"m_probability_description\": \"Amongst truly matching record comparisons, 60.92% of records are in the exact match comparison level\", \"u_probability_description\": \"Amongst truly non-matching record comparisons, 5.51% of records are in the exact match comparison level\", \"has_tf_adjustments\": true, \"tf_adjustment_column\": \"city\", \"tf_adjustment_weight\": 1.0, \"is_null_level\": false, \"bayes_factor\": 11.04658523782057, \"log2_bayes_factor\": 3.4655285620763165, \"comparison_vector_value\": 1, \"max_comparison_vector_value\": 1, \"bayes_factor_description\": \"If comparison level is `exact match` then comparison is 11.05 times more likely to be a match\", \"iteration\": 5, \"proportion_of_matches\": 0.9009958388440497}, {\"comparison_name\": \"city\", \"sql_condition\": \"ELSE\", \"label_for_charts\": \"All other comparisons\", \"m_probability\": 0.3908076542997482, \"u_probability\": 0.9448524288198547, \"m_probability_description\": \"Amongst truly matching record comparisons, 39.08% of records are in the all other comparisons comparison level\", \"u_probability_description\": \"Amongst truly non-matching record comparisons, 94.49% of records are in the all other comparisons comparison level\", \"has_tf_adjustments\": false, \"tf_adjustment_column\": null, \"tf_adjustment_weight\": 1.0, \"is_null_level\": false, \"bayes_factor\": 0.41361766385876486, \"log2_bayes_factor\": -1.2736302965234707, \"comparison_vector_value\": 0, \"max_comparison_vector_value\": 1, \"bayes_factor_description\": \"If comparison level is `all other comparisons` then comparison is  2.42 times less likely to be a match\", \"iteration\": 5, \"proportion_of_matches\": 0.9009958388440497}, {\"comparison_name\": \"email\", \"sql_condition\": \"email_l = email_r\", \"label_for_charts\": \"Exact match\", \"m_probability\": 0.6111262479119753, \"u_probability\": 0.0021938713143283602, \"m_probability_description\": \"Amongst truly matching record comparisons, 61.11% of records are in the exact match comparison level\", \"u_probability_description\": \"Amongst truly non-matching record comparisons, 0.22% of records are in the exact match comparison level\", \"has_tf_adjustments\": false, \"tf_adjustment_column\": null, \"tf_adjustment_weight\": 1.0, \"is_null_level\": false, \"bayes_factor\": 278.56066302551926, \"log2_bayes_factor\": 8.121847731759527, \"comparison_vector_value\": 1, \"max_comparison_vector_value\": 1, \"bayes_factor_description\": \"If comparison level is `exact match` then comparison is 278.56 times more likely to be a match\", \"iteration\": 5, \"proportion_of_matches\": 0.9009958388440497}, {\"comparison_name\": \"email\", \"sql_condition\": \"ELSE\", \"label_for_charts\": \"All other comparisons\", \"m_probability\": 0.38887375208802527, \"u_probability\": 0.9978061286856716, \"m_probability_description\": \"Amongst truly matching record comparisons, 38.89% of records are in the all other comparisons comparison level\", \"u_probability_description\": \"Amongst truly non-matching record comparisons, 99.78% of records are in the all other comparisons comparison level\", \"has_tf_adjustments\": false, \"tf_adjustment_column\": null, \"tf_adjustment_weight\": 1.0, \"is_null_level\": false, \"bayes_factor\": 0.38972876684998603, \"log2_bayes_factor\": -1.359457670539499, \"comparison_vector_value\": 0, \"max_comparison_vector_value\": 1, \"bayes_factor_description\": \"If comparison level is `all other comparisons` then comparison is  2.57 times less likely to be a match\", \"iteration\": 5, \"proportion_of_matches\": 0.9009958388440497}]}, \"transform\": [{\"filter\": \"(datum.iteration == iteration_number)\"}], \"mark\": {\"type\": \"bar\", \"clip\": true}, \"selection\": {\"zoom_selector\": {\"type\": \"interval\", \"bind\": \"scales\", \"encodings\": [\"x\"]}}, \"encoding\": {\"color\": {\"type\": \"quantitative\", \"field\": \"log2_bayes_factor\", \"title\": \"Match weight\", \"scale\": {\"range\": [\"red\", \"orange\", \"green\"], \"domain\": [-10, 0, 10]}}, \"row\": {\"type\": \"nominal\", \"field\": \"comparison_name\", \"sort\": {\"field\": \"comparison_sort_order\"}, \"header\": {\"labelAngle\": 0, \"labelAnchor\": \"middle\", \"labelAlign\": \"left\"}}, \"tooltip\": [{\"type\": \"nominal\", \"field\": \"comparison_name\", \"title\": \"Comparison name\"}, {\"type\": \"ordinal\", \"field\": \"label_for_charts\", \"title\": \"Label\"}, {\"type\": \"nominal\", \"field\": \"sql_condition\", \"title\": \"SQL condition\"}, {\"type\": \"quantitative\", \"field\": \"m_probability\", \"format\": \".4f\", \"title\": \"M probability\"}, {\"type\": \"quantitative\", \"field\": \"u_probability\", \"format\": \".4f\", \"title\": \"U probability\"}, {\"type\": \"quantitative\", \"field\": \"bayes_factor\", \"title\": \"Bayes factor = m/u\", \"format\": \",.4f\"}, {\"type\": \"quantitative\", \"field\": \"log2_bayes_factor\", \"title\": \"Match weight = log2(m/u)\", \"format\": \",.4f\"}, {\"type\": \"nominal\", \"field\": \"bayes_factor_description\", \"title\": \"Match weight description\"}], \"x\": {\"type\": \"quantitative\", \"axis\": {\"title\": \"Match weight = log2(m/u)\", \"values\": [-10, -5, 0, 5, 10]}, \"field\": \"log2_bayes_factor\", \"scale\": {\"domain\": [-10, 10]}}, \"y\": {\"type\": \"nominal\", \"field\": \"label_for_charts\", \"axis\": {\"title\": null}, \"sort\": {\"field\": \"comparison_vector_value\", \"order\": \"descending\"}}}, \"resolve\": {\"scale\": {\"y\": \"independent\"}}, \"title\": {\"text\": \"Influence of comparison levels on match weight\", \"subtitle\": \"Use mousewheel to zoom\"}, \"$schema\": \"https://vega.github.io/schema/vega-lite/v4.json\"}, {\"mode\": \"vega-lite\"});\n",
       "</script>"
      ],
      "text/plain": [
       "<altair.vegalite.v4.display.VegaLite at 0x7face941ed30>"
      ]
     },
     "metadata": {},
     "output_type": "display_data"
    }
   ],
   "source": [
    "training_blocking_rule = \"l.dob = r.dob\"\n",
    "training_session_dob = linker.train_m_using_expectation_maximisation(training_blocking_rule)\n",
    "c = training_session_names.match_weights_interactive_history_chart()"
   ]
  },
  {
   "cell_type": "markdown",
   "metadata": {},
   "source": [
    "The final match weights can be viewed in the match weights chart:"
   ]
  },
  {
   "cell_type": "code",
   "execution_count": 10,
   "metadata": {},
   "outputs": [
    {
     "data": {
      "text/html": [
       "\n",
       "<div id=\"altair-viz-d7e624aebc0642ee90045105b3ec9a19\"></div>\n",
       "<script type=\"text/javascript\">\n",
       "  var VEGA_DEBUG = (typeof VEGA_DEBUG == \"undefined\") ? {} : VEGA_DEBUG;\n",
       "  (function(spec, embedOpt){\n",
       "    let outputDiv = document.currentScript.previousElementSibling;\n",
       "    if (outputDiv.id !== \"altair-viz-d7e624aebc0642ee90045105b3ec9a19\") {\n",
       "      outputDiv = document.getElementById(\"altair-viz-d7e624aebc0642ee90045105b3ec9a19\");\n",
       "    }\n",
       "    const paths = {\n",
       "      \"vega\": \"https://cdn.jsdelivr.net/npm//vega@5?noext\",\n",
       "      \"vega-lib\": \"https://cdn.jsdelivr.net/npm//vega-lib?noext\",\n",
       "      \"vega-lite\": \"https://cdn.jsdelivr.net/npm//vega-lite@4.17.0?noext\",\n",
       "      \"vega-embed\": \"https://cdn.jsdelivr.net/npm//vega-embed@6?noext\",\n",
       "    };\n",
       "\n",
       "    function maybeLoadScript(lib, version) {\n",
       "      var key = `${lib.replace(\"-\", \"\")}_version`;\n",
       "      return (VEGA_DEBUG[key] == version) ?\n",
       "        Promise.resolve(paths[lib]) :\n",
       "        new Promise(function(resolve, reject) {\n",
       "          var s = document.createElement('script');\n",
       "          document.getElementsByTagName(\"head\")[0].appendChild(s);\n",
       "          s.async = true;\n",
       "          s.onload = () => {\n",
       "            VEGA_DEBUG[key] = version;\n",
       "            return resolve(paths[lib]);\n",
       "          };\n",
       "          s.onerror = () => reject(`Error loading script: ${paths[lib]}`);\n",
       "          s.src = paths[lib];\n",
       "        });\n",
       "    }\n",
       "\n",
       "    function showError(err) {\n",
       "      outputDiv.innerHTML = `<div class=\"error\" style=\"color:red;\">${err}</div>`;\n",
       "      throw err;\n",
       "    }\n",
       "\n",
       "    function displayChart(vegaEmbed) {\n",
       "      vegaEmbed(outputDiv, spec, embedOpt)\n",
       "        .catch(err => showError(`Javascript Error: ${err.message}<br>This usually means there's a typo in your chart specification. See the javascript console for the full traceback.`));\n",
       "    }\n",
       "\n",
       "    if(typeof define === \"function\" && define.amd) {\n",
       "      requirejs.config({paths});\n",
       "      require([\"vega-embed\"], displayChart, err => showError(`Error loading script: ${err.message}`));\n",
       "    } else {\n",
       "      maybeLoadScript(\"vega\", \"5\")\n",
       "        .then(() => maybeLoadScript(\"vega-lite\", \"4.17.0\"))\n",
       "        .then(() => maybeLoadScript(\"vega-embed\", \"6\"))\n",
       "        .catch(showError)\n",
       "        .then(() => displayChart(vegaEmbed));\n",
       "    }\n",
       "  })({\"config\": {\"view\": {\"width\": 400, \"height\": 50}, \"mark\": {\"tooltip\": null}, \"title\": {\"anchor\": \"middle\"}, \"header\": {\"title\": null}}, \"data\": {\"values\": [{\"comparison_name\": \"first_name\", \"sql_condition\": \"first_name_l = first_name_r\", \"label_for_charts\": \"Exact match\", \"m_probability\": 0.5030120006422105, \"u_probability\": 0.0057935713975033705, \"m_probability_description\": \"Amongst truly matching record comparisons, 50.30% of records are in the exact match comparison level\", \"u_probability_description\": \"Amongst truly non-matching record comparisons, 0.58% of records are in the exact match comparison level\", \"has_tf_adjustments\": false, \"tf_adjustment_column\": null, \"tf_adjustment_weight\": 1.0, \"is_null_level\": false, \"bayes_factor\": 86.82243923997795, \"log2_bayes_factor\": 6.439996049958987, \"comparison_vector_value\": 2, \"max_comparison_vector_value\": 2, \"bayes_factor_description\": \"If comparison level is `exact match` then comparison is 86.82 times more likely to be a match\", \"proportion_of_matches\": 0.02153261840517793, \"comparison_sort_order\": 0}, {\"comparison_name\": \"first_name\", \"sql_condition\": \"levenshtein(first_name_l, first_name_r) <= 2\", \"label_for_charts\": \"Levenstein <= 2\", \"m_probability\": 0.2745368115870832, \"u_probability\": 0.010119901990634016, \"m_probability_description\": \"Amongst truly matching record comparisons, 27.45% of records are in the levenstein <= 2 comparison level\", \"u_probability_description\": \"Amongst truly non-matching record comparisons, 1.01% of records are in the levenstein <= 2 comparison level\", \"has_tf_adjustments\": false, \"tf_adjustment_column\": null, \"tf_adjustment_weight\": 1.0, \"is_null_level\": false, \"bayes_factor\": 27.128406168475486, \"log2_bayes_factor\": 4.761732384660405, \"comparison_vector_value\": 1, \"max_comparison_vector_value\": 2, \"bayes_factor_description\": \"If comparison level is `levenstein <= 2` then comparison is 27.13 times more likely to be a match\", \"proportion_of_matches\": 0.02153261840517793, \"comparison_sort_order\": 0}, {\"comparison_name\": \"first_name\", \"sql_condition\": \"ELSE\", \"label_for_charts\": \"All other comparisons\", \"m_probability\": 0.22245118777070605, \"u_probability\": 0.9840865266118626, \"m_probability_description\": \"Amongst truly matching record comparisons, 22.25% of records are in the all other comparisons comparison level\", \"u_probability_description\": \"Amongst truly non-matching record comparisons, 98.41% of records are in the all other comparisons comparison level\", \"has_tf_adjustments\": false, \"tf_adjustment_column\": null, \"tf_adjustment_weight\": 1.0, \"is_null_level\": false, \"bayes_factor\": 0.22604840301654072, \"log2_bayes_factor\": -2.14529636952534, \"comparison_vector_value\": 0, \"max_comparison_vector_value\": 2, \"bayes_factor_description\": \"If comparison level is `all other comparisons` then comparison is  4.42 times less likely to be a match\", \"proportion_of_matches\": 0.02153261840517793, \"comparison_sort_order\": 0}, {\"comparison_name\": \"surname\", \"sql_condition\": \"surname_l = surname_r\", \"label_for_charts\": \"Exact match\", \"m_probability\": 0.4517320063577964, \"u_probability\": 0.004889975550122249, \"m_probability_description\": \"Amongst truly matching record comparisons, 45.17% of records are in the exact match comparison level\", \"u_probability_description\": \"Amongst truly non-matching record comparisons, 0.49% of records are in the exact match comparison level\", \"has_tf_adjustments\": false, \"tf_adjustment_column\": null, \"tf_adjustment_weight\": 1.0, \"is_null_level\": false, \"bayes_factor\": 92.37919530016937, \"log2_bayes_factor\": 6.529496074052106, \"comparison_vector_value\": 1, \"max_comparison_vector_value\": 1, \"bayes_factor_description\": \"If comparison level is `exact match` then comparison is 92.38 times more likely to be a match\", \"proportion_of_matches\": 0.02153261840517793, \"comparison_sort_order\": 1}, {\"comparison_name\": \"surname\", \"sql_condition\": \"ELSE\", \"label_for_charts\": \"All other comparisons\", \"m_probability\": 0.5482679936422037, \"u_probability\": 0.9951100244498777, \"m_probability_description\": \"Amongst truly matching record comparisons, 54.83% of records are in the all other comparisons comparison level\", \"u_probability_description\": \"Amongst truly non-matching record comparisons, 99.51% of records are in the all other comparisons comparison level\", \"has_tf_adjustments\": false, \"tf_adjustment_column\": null, \"tf_adjustment_weight\": 1.0, \"is_null_level\": false, \"bayes_factor\": 0.5509621852571531, \"log2_bayes_factor\": -0.8599747906355826, \"comparison_vector_value\": 0, \"max_comparison_vector_value\": 1, \"bayes_factor_description\": \"If comparison level is `all other comparisons` then comparison is  1.82 times less likely to be a match\", \"proportion_of_matches\": 0.02153261840517793, \"comparison_sort_order\": 1}, {\"comparison_name\": \"dob\", \"sql_condition\": \"dob_l = dob_r\", \"label_for_charts\": \"Exact match\", \"m_probability\": 0.42513701832174805, \"u_probability\": 0.0017477477477477479, \"m_probability_description\": \"Amongst truly matching record comparisons, 42.51% of records are in the exact match comparison level\", \"u_probability_description\": \"Amongst truly non-matching record comparisons, 0.17% of records are in the exact match comparison level\", \"has_tf_adjustments\": false, \"tf_adjustment_column\": null, \"tf_adjustment_weight\": 1.0, \"is_null_level\": false, \"bayes_factor\": 243.24850017378367, \"log2_bayes_factor\": 7.926287099412087, \"comparison_vector_value\": 1, \"max_comparison_vector_value\": 1, \"bayes_factor_description\": \"If comparison level is `exact match` then comparison is 243.25 times more likely to be a match\", \"proportion_of_matches\": 0.02153261840517793, \"comparison_sort_order\": 2}, {\"comparison_name\": \"dob\", \"sql_condition\": \"ELSE\", \"label_for_charts\": \"All other comparisons\", \"m_probability\": 0.5748629816782519, \"u_probability\": 0.9982522522522522, \"m_probability_description\": \"Amongst truly matching record comparisons, 57.49% of records are in the all other comparisons comparison level\", \"u_probability_description\": \"Amongst truly non-matching record comparisons, 99.83% of records are in the all other comparisons comparison level\", \"has_tf_adjustments\": false, \"tf_adjustment_column\": null, \"tf_adjustment_weight\": 1.0, \"is_null_level\": false, \"bayes_factor\": 0.575869456223363, \"log2_bayes_factor\": -0.7961862905190165, \"comparison_vector_value\": 0, \"max_comparison_vector_value\": 1, \"bayes_factor_description\": \"If comparison level is `all other comparisons` then comparison is  1.74 times less likely to be a match\", \"proportion_of_matches\": 0.02153261840517793, \"comparison_sort_order\": 2}, {\"comparison_name\": \"city\", \"sql_condition\": \"city_l = city_r\", \"label_for_charts\": \"Exact match\", \"m_probability\": 0.5918496284428665, \"u_probability\": 0.0551475711801453, \"m_probability_description\": \"Amongst truly matching record comparisons, 59.18% of records are in the exact match comparison level\", \"u_probability_description\": \"Amongst truly non-matching record comparisons, 5.51% of records are in the exact match comparison level\", \"has_tf_adjustments\": true, \"tf_adjustment_column\": \"city\", \"tf_adjustment_weight\": 1.0, \"is_null_level\": false, \"bayes_factor\": 10.732106886621132, \"log2_bayes_factor\": 3.4238614232184807, \"comparison_vector_value\": 1, \"max_comparison_vector_value\": 1, \"bayes_factor_description\": \"If comparison level is `exact match` then comparison is 10.73 times more likely to be a match\", \"proportion_of_matches\": 0.02153261840517793, \"comparison_sort_order\": 3}, {\"comparison_name\": \"city\", \"sql_condition\": \"ELSE\", \"label_for_charts\": \"All other comparisons\", \"m_probability\": 0.4081503715571333, \"u_probability\": 0.9448524288198547, \"m_probability_description\": \"Amongst truly matching record comparisons, 40.82% of records are in the all other comparisons comparison level\", \"u_probability_description\": \"Amongst truly non-matching record comparisons, 94.49% of records are in the all other comparisons comparison level\", \"has_tf_adjustments\": false, \"tf_adjustment_column\": null, \"tf_adjustment_weight\": 1.0, \"is_null_level\": false, \"bayes_factor\": 0.4319726119209153, \"log2_bayes_factor\": -1.210988249856132, \"comparison_vector_value\": 0, \"max_comparison_vector_value\": 1, \"bayes_factor_description\": \"If comparison level is `all other comparisons` then comparison is  2.31 times less likely to be a match\", \"proportion_of_matches\": 0.02153261840517793, \"comparison_sort_order\": 3}, {\"comparison_name\": \"email\", \"sql_condition\": \"email_l = email_r\", \"label_for_charts\": \"Exact match\", \"m_probability\": 0.5915336222555487, \"u_probability\": 0.0021938713143283602, \"m_probability_description\": \"Amongst truly matching record comparisons, 59.15% of records are in the exact match comparison level\", \"u_probability_description\": \"Amongst truly non-matching record comparisons, 0.22% of records are in the exact match comparison level\", \"has_tf_adjustments\": false, \"tf_adjustment_column\": null, \"tf_adjustment_weight\": 1.0, \"is_null_level\": false, \"bayes_factor\": 269.63004547814285, \"log2_bayes_factor\": 8.07483745798267, \"comparison_vector_value\": 1, \"max_comparison_vector_value\": 1, \"bayes_factor_description\": \"If comparison level is `exact match` then comparison is 269.63 times more likely to be a match\", \"proportion_of_matches\": 0.02153261840517793, \"comparison_sort_order\": 4}, {\"comparison_name\": \"email\", \"sql_condition\": \"ELSE\", \"label_for_charts\": \"All other comparisons\", \"m_probability\": 0.4084663777444506, \"u_probability\": 0.9978061286856716, \"m_probability_description\": \"Amongst truly matching record comparisons, 40.85% of records are in the all other comparisons comparison level\", \"u_probability_description\": \"Amongst truly non-matching record comparisons, 99.78% of records are in the all other comparisons comparison level\", \"has_tf_adjustments\": false, \"tf_adjustment_column\": null, \"tf_adjustment_weight\": 1.0, \"is_null_level\": false, \"bayes_factor\": 0.40936447071385496, \"log2_bayes_factor\": -1.288542200511469, \"comparison_vector_value\": 0, \"max_comparison_vector_value\": 1, \"bayes_factor_description\": \"If comparison level is `all other comparisons` then comparison is  2.44 times less likely to be a match\", \"proportion_of_matches\": 0.02153261840517793, \"comparison_sort_order\": 4}]}, \"mark\": {\"type\": \"bar\", \"clip\": true}, \"selection\": {\"zoom_selector\": {\"type\": \"interval\", \"bind\": \"scales\", \"encodings\": [\"x\"]}}, \"encoding\": {\"color\": {\"type\": \"quantitative\", \"field\": \"log2_bayes_factor\", \"title\": \"Match weight\", \"scale\": {\"range\": [\"red\", \"orange\", \"green\"], \"domain\": [-10, 0, 10]}}, \"row\": {\"type\": \"nominal\", \"field\": \"comparison_name\", \"sort\": {\"field\": \"comparison_sort_order\"}, \"header\": {\"labelAngle\": 0, \"labelAnchor\": \"middle\", \"labelAlign\": \"left\"}}, \"tooltip\": [{\"type\": \"nominal\", \"field\": \"comparison_name\", \"title\": \"Comparison name\"}, {\"type\": \"ordinal\", \"field\": \"label_for_charts\", \"title\": \"Label\"}, {\"type\": \"nominal\", \"field\": \"sql_condition\", \"title\": \"SQL condition\"}, {\"type\": \"quantitative\", \"field\": \"m_probability\", \"format\": \".4f\", \"title\": \"M probability\"}, {\"type\": \"quantitative\", \"field\": \"u_probability\", \"format\": \".4f\", \"title\": \"U probability\"}, {\"type\": \"quantitative\", \"field\": \"bayes_factor\", \"title\": \"Bayes factor = m/u\", \"format\": \",.4f\"}, {\"type\": \"quantitative\", \"field\": \"log2_bayes_factor\", \"title\": \"Match weight = log2(m/u)\", \"format\": \",.4f\"}, {\"type\": \"nominal\", \"field\": \"bayes_factor_description\", \"title\": \"Match weight description\"}], \"x\": {\"type\": \"quantitative\", \"axis\": {\"title\": \"Match weight = log2(m/u)\", \"values\": [-10, -5, 0, 5, 10]}, \"field\": \"log2_bayes_factor\", \"scale\": {\"domain\": [-10, 10]}}, \"y\": {\"type\": \"nominal\", \"field\": \"label_for_charts\", \"axis\": {\"title\": null}, \"sort\": {\"field\": \"comparison_vector_value\", \"order\": \"descending\"}}}, \"resolve\": {\"scale\": {\"y\": \"independent\"}}, \"title\": {\"text\": \"Influence of comparison levels on match weight\", \"subtitle\": \"Use mousewheel to zoom\"}, \"$schema\": \"https://vega.github.io/schema/vega-lite/v4.json\"}, {\"mode\": \"vega-lite\"});\n",
       "</script>"
      ],
      "text/plain": [
       "<altair.vegalite.v4.display.VegaLite at 0x7face4264be0>"
      ]
     },
     "metadata": {},
     "output_type": "display_data"
    }
   ],
   "source": [
    "c = linker.settings_obj.match_weights_chart()"
   ]
  },
  {
   "cell_type": "markdown",
   "metadata": {},
   "source": [
    "## Step 7: Predicting match weights using the trained model "
   ]
  },
  {
   "cell_type": "code",
   "execution_count": 11,
   "metadata": {},
   "outputs": [],
   "source": [
    "df_predictions = linker.predict()"
   ]
  },
  {
   "cell_type": "markdown",
   "metadata": {
    "tags": []
   },
   "source": [
    "## Step 8: Visualising results\n",
    "\n",
    "We can view the output table as follows"
   ]
  },
  {
   "cell_type": "markdown",
   "metadata": {},
   "source": [
    "You can also view rows in this dataset as a waterfall chart as follows:"
   ]
  },
  {
   "cell_type": "code",
   "execution_count": 12,
   "metadata": {},
   "outputs": [
    {
     "data": {
      "text/html": [
       "\n",
       "<div id=\"altair-viz-f66841e51e064076b5ac889818d31601\"></div>\n",
       "<script type=\"text/javascript\">\n",
       "  var VEGA_DEBUG = (typeof VEGA_DEBUG == \"undefined\") ? {} : VEGA_DEBUG;\n",
       "  (function(spec, embedOpt){\n",
       "    let outputDiv = document.currentScript.previousElementSibling;\n",
       "    if (outputDiv.id !== \"altair-viz-f66841e51e064076b5ac889818d31601\") {\n",
       "      outputDiv = document.getElementById(\"altair-viz-f66841e51e064076b5ac889818d31601\");\n",
       "    }\n",
       "    const paths = {\n",
       "      \"vega\": \"https://cdn.jsdelivr.net/npm//vega@5?noext\",\n",
       "      \"vega-lib\": \"https://cdn.jsdelivr.net/npm//vega-lib?noext\",\n",
       "      \"vega-lite\": \"https://cdn.jsdelivr.net/npm//vega-lite@4.17.0?noext\",\n",
       "      \"vega-embed\": \"https://cdn.jsdelivr.net/npm//vega-embed@6?noext\",\n",
       "    };\n",
       "\n",
       "    function maybeLoadScript(lib, version) {\n",
       "      var key = `${lib.replace(\"-\", \"\")}_version`;\n",
       "      return (VEGA_DEBUG[key] == version) ?\n",
       "        Promise.resolve(paths[lib]) :\n",
       "        new Promise(function(resolve, reject) {\n",
       "          var s = document.createElement('script');\n",
       "          document.getElementsByTagName(\"head\")[0].appendChild(s);\n",
       "          s.async = true;\n",
       "          s.onload = () => {\n",
       "            VEGA_DEBUG[key] = version;\n",
       "            return resolve(paths[lib]);\n",
       "          };\n",
       "          s.onerror = () => reject(`Error loading script: ${paths[lib]}`);\n",
       "          s.src = paths[lib];\n",
       "        });\n",
       "    }\n",
       "\n",
       "    function showError(err) {\n",
       "      outputDiv.innerHTML = `<div class=\"error\" style=\"color:red;\">${err}</div>`;\n",
       "      throw err;\n",
       "    }\n",
       "\n",
       "    function displayChart(vegaEmbed) {\n",
       "      vegaEmbed(outputDiv, spec, embedOpt)\n",
       "        .catch(err => showError(`Javascript Error: ${err.message}<br>This usually means there's a typo in your chart specification. See the javascript console for the full traceback.`));\n",
       "    }\n",
       "\n",
       "    if(typeof define === \"function\" && define.amd) {\n",
       "      requirejs.config({paths});\n",
       "      require([\"vega-embed\"], displayChart, err => showError(`Error loading script: ${err.message}`));\n",
       "    } else {\n",
       "      maybeLoadScript(\"vega\", \"5\")\n",
       "        .then(() => maybeLoadScript(\"vega-lite\", \"4.17.0\"))\n",
       "        .then(() => maybeLoadScript(\"vega-embed\", \"6\"))\n",
       "        .catch(showError)\n",
       "        .then(() => displayChart(vegaEmbed));\n",
       "    }\n",
       "  })({\"$schema\": \"https://vega.github.io/schema/vega-lite/v5.2.0.json\", \"height\": 450, \"resolve\": {\"axis\": {\"y\": \"independent\"}}, \"width\": {\"step\": 75}, \"data\": {\"values\": [{\"column_name\": \"Prior\", \"label_for_charts\": \"Starting match weight (prior)\", \"sql_condition\": null, \"log2_bayes_factor\": -5.505928088052078, \"bayes_factor\": 0.02200647544334234, \"comparison_vector_value\": null, \"m_probability\": null, \"u_probability\": null, \"bayes_factor_description\": null, \"value_l\": \"\", \"value_r\": \"\", \"term_frequency_adjustment\": null, \"bar_sort_order\": 0, \"record_number\": 0}, {\"column_name\": \"first_name\", \"label_for_charts\": \"Exact match\", \"sql_condition\": \"first_name_l = first_name_r\", \"log2_bayes_factor\": 6.439996049958987, \"bayes_factor\": 86.82243923997795, \"comparison_vector_value\": 2, \"m_probability\": 0.5030120006422105, \"u_probability\": 0.0057935713975033705, \"bayes_factor_description\": \"If comparison level is `exact match` then comparison is 86.82 times more likely to be a match\", \"value_l\": \"Grace\", \"value_r\": \"Grace\", \"term_frequency_adjustment\": false, \"bar_sort_order\": 1, \"record_number\": 0}, {\"column_name\": \"surname\", \"label_for_charts\": \"Null\", \"sql_condition\": \"surname_l IS NULL OR surname_r IS NULL\", \"log2_bayes_factor\": 0.0, \"bayes_factor\": 1.0, \"comparison_vector_value\": -1, \"m_probability\": null, \"u_probability\": null, \"bayes_factor_description\": \"If comparison level is `null` then comparison is 1.00 times more likely to be a match\", \"value_l\": \"nan\", \"value_r\": \"Kelly\", \"term_frequency_adjustment\": false, \"bar_sort_order\": 2, \"record_number\": 0}, {\"column_name\": \"dob\", \"label_for_charts\": \"All other comparisons\", \"sql_condition\": \"ELSE\", \"log2_bayes_factor\": -0.7961862905190165, \"bayes_factor\": 0.575869456223363, \"comparison_vector_value\": 0, \"m_probability\": 0.5748629816782519, \"u_probability\": 0.9982522522522522, \"bayes_factor_description\": \"If comparison level is `all other comparisons` then comparison is  1.74 times less likely to be a match\", \"value_l\": \"1997-04-26\", \"value_r\": \"1991-04-26\", \"term_frequency_adjustment\": false, \"bar_sort_order\": 3, \"record_number\": 0}, {\"column_name\": \"city\", \"label_for_charts\": \"Null\", \"sql_condition\": \"city_l IS NULL OR city_r IS NULL\", \"log2_bayes_factor\": 0.0, \"bayes_factor\": 1.0, \"comparison_vector_value\": -1, \"m_probability\": null, \"u_probability\": null, \"bayes_factor_description\": \"If comparison level is `null` then comparison is 1.00 times more likely to be a match\", \"value_l\": \"Hull\", \"value_r\": \"nan\", \"term_frequency_adjustment\": false, \"bar_sort_order\": 4, \"record_number\": 0}, {\"column_name\": \"tf_city\", \"label_for_charts\": \"Null\", \"sql_condition\": \"city_l IS NULL OR city_r IS NULL\", \"log2_bayes_factor\": 0.0, \"bayes_factor\": 1.0, \"comparison_vector_value\": -1, \"m_probability\": null, \"u_probability\": null, \"bayes_factor_description\": \"If comparison level is `null` then comparison is 1.00 times more likely to be a match\", \"value_l\": \"\", \"value_r\": \"\", \"term_frequency_adjustment\": true, \"bar_sort_order\": 5, \"record_number\": 0}, {\"column_name\": \"email\", \"label_for_charts\": \"Exact match\", \"sql_condition\": \"email_l = email_r\", \"log2_bayes_factor\": 8.07483745798267, \"bayes_factor\": 269.63004547814285, \"comparison_vector_value\": 1, \"m_probability\": 0.5915336222555487, \"u_probability\": 0.0021938713143283602, \"bayes_factor_description\": \"If comparison level is `exact match` then comparison is 269.63 times more likely to be a match\", \"value_l\": \"grace.kelly52@jones.com\", \"value_r\": \"grace.kelly52@jones.com\", \"term_frequency_adjustment\": false, \"bar_sort_order\": 6, \"record_number\": 0}, {\"column_name\": \"Final score\", \"label_for_charts\": \"Final score\", \"sql_condition\": null, \"log2_bayes_factor\": 8.212719129370562, \"bayes_factor\": 296.6708008035762, \"comparison_vector_value\": null, \"m_probability\": null, \"u_probability\": null, \"bayes_factor_description\": null, \"value_l\": \"\", \"value_r\": \"\", \"term_frequency_adjustment\": null, \"bar_sort_order\": 7, \"record_number\": 0}, {\"column_name\": \"Prior\", \"label_for_charts\": \"Starting match weight (prior)\", \"sql_condition\": null, \"log2_bayes_factor\": -5.505928088052078, \"bayes_factor\": 0.02200647544334234, \"comparison_vector_value\": null, \"m_probability\": null, \"u_probability\": null, \"bayes_factor_description\": null, \"value_l\": \"\", \"value_r\": \"\", \"term_frequency_adjustment\": null, \"bar_sort_order\": 0, \"record_number\": 1}, {\"column_name\": \"first_name\", \"label_for_charts\": \"Exact match\", \"sql_condition\": \"first_name_l = first_name_r\", \"log2_bayes_factor\": 6.439996049958987, \"bayes_factor\": 86.82243923997795, \"comparison_vector_value\": 2, \"m_probability\": 0.5030120006422105, \"u_probability\": 0.0057935713975033705, \"bayes_factor_description\": \"If comparison level is `exact match` then comparison is 86.82 times more likely to be a match\", \"value_l\": \"Evie\", \"value_r\": \"Evie\", \"term_frequency_adjustment\": false, \"bar_sort_order\": 1, \"record_number\": 1}, {\"column_name\": \"surname\", \"label_for_charts\": \"All other comparisons\", \"sql_condition\": \"ELSE\", \"log2_bayes_factor\": -0.8599747906355826, \"bayes_factor\": 0.5509621852571531, \"comparison_vector_value\": 0, \"m_probability\": 0.5482679936422037, \"u_probability\": 0.9951100244498777, \"bayes_factor_description\": \"If comparison level is `all other comparisons` then comparison is  1.82 times less likely to be a match\", \"value_l\": \"Dean\", \"value_r\": \"Jones\", \"term_frequency_adjustment\": false, \"bar_sort_order\": 2, \"record_number\": 1}, {\"column_name\": \"dob\", \"label_for_charts\": \"All other comparisons\", \"sql_condition\": \"ELSE\", \"log2_bayes_factor\": -0.7961862905190165, \"bayes_factor\": 0.575869456223363, \"comparison_vector_value\": 0, \"m_probability\": 0.5748629816782519, \"u_probability\": 0.9982522522522522, \"bayes_factor_description\": \"If comparison level is `all other comparisons` then comparison is  1.74 times less likely to be a match\", \"value_l\": \"2015-03-03\", \"value_r\": \"2002-07-22\", \"term_frequency_adjustment\": false, \"bar_sort_order\": 3, \"record_number\": 1}, {\"column_name\": \"city\", \"label_for_charts\": \"Null\", \"sql_condition\": \"city_l IS NULL OR city_r IS NULL\", \"log2_bayes_factor\": 0.0, \"bayes_factor\": 1.0, \"comparison_vector_value\": -1, \"m_probability\": null, \"u_probability\": null, \"bayes_factor_description\": \"If comparison level is `null` then comparison is 1.00 times more likely to be a match\", \"value_l\": \"Pootsmruth\", \"value_r\": \"nan\", \"term_frequency_adjustment\": false, \"bar_sort_order\": 4, \"record_number\": 1}, {\"column_name\": \"tf_city\", \"label_for_charts\": \"Null\", \"sql_condition\": \"city_l IS NULL OR city_r IS NULL\", \"log2_bayes_factor\": 0.0, \"bayes_factor\": 1.0, \"comparison_vector_value\": -1, \"m_probability\": null, \"u_probability\": null, \"bayes_factor_description\": \"If comparison level is `null` then comparison is 1.00 times more likely to be a match\", \"value_l\": \"\", \"value_r\": \"\", \"term_frequency_adjustment\": true, \"bar_sort_order\": 5, \"record_number\": 1}, {\"column_name\": \"email\", \"label_for_charts\": \"All other comparisons\", \"sql_condition\": \"ELSE\", \"log2_bayes_factor\": -1.288542200511469, \"bayes_factor\": 0.40936447071385496, \"comparison_vector_value\": 0, \"m_probability\": 0.4084663777444506, \"u_probability\": 0.9978061286856716, \"bayes_factor_description\": \"If comparison level is `all other comparisons` then comparison is  2.44 times less likely to be a match\", \"value_l\": \"evihd56@earris-bailey.net\", \"value_r\": \"eviejones@brewer-sparks.org\", \"term_frequency_adjustment\": false, \"bar_sort_order\": 6, \"record_number\": 1}, {\"column_name\": \"Final score\", \"label_for_charts\": \"Final score\", \"sql_condition\": null, \"log2_bayes_factor\": -2.010635319759158, \"bayes_factor\": 0.24816381586867567, \"comparison_vector_value\": null, \"m_probability\": null, \"u_probability\": null, \"bayes_factor_description\": null, \"value_l\": \"\", \"value_r\": \"\", \"term_frequency_adjustment\": null, \"bar_sort_order\": 7, \"record_number\": 1}, {\"column_name\": \"Prior\", \"label_for_charts\": \"Starting match weight (prior)\", \"sql_condition\": null, \"log2_bayes_factor\": -5.505928088052078, \"bayes_factor\": 0.02200647544334234, \"comparison_vector_value\": null, \"m_probability\": null, \"u_probability\": null, \"bayes_factor_description\": null, \"value_l\": \"\", \"value_r\": \"\", \"term_frequency_adjustment\": null, \"bar_sort_order\": 0, \"record_number\": 2}, {\"column_name\": \"first_name\", \"label_for_charts\": \"Exact match\", \"sql_condition\": \"first_name_l = first_name_r\", \"log2_bayes_factor\": 6.439996049958987, \"bayes_factor\": 86.82243923997795, \"comparison_vector_value\": 2, \"m_probability\": 0.5030120006422105, \"u_probability\": 0.0057935713975033705, \"bayes_factor_description\": \"If comparison level is `exact match` then comparison is 86.82 times more likely to be a match\", \"value_l\": \"Oliver\", \"value_r\": \"Oliver\", \"term_frequency_adjustment\": false, \"bar_sort_order\": 1, \"record_number\": 2}, {\"column_name\": \"surname\", \"label_for_charts\": \"All other comparisons\", \"sql_condition\": \"ELSE\", \"log2_bayes_factor\": -0.8599747906355826, \"bayes_factor\": 0.5509621852571531, \"comparison_vector_value\": 0, \"m_probability\": 0.5482679936422037, \"u_probability\": 0.9951100244498777, \"bayes_factor_description\": \"If comparison level is `all other comparisons` then comparison is  1.82 times less likely to be a match\", \"value_l\": \"Griffiths\", \"value_r\": \"Bird\", \"term_frequency_adjustment\": false, \"bar_sort_order\": 2, \"record_number\": 2}, {\"column_name\": \"dob\", \"label_for_charts\": \"All other comparisons\", \"sql_condition\": \"ELSE\", \"log2_bayes_factor\": -0.7961862905190165, \"bayes_factor\": 0.575869456223363, \"comparison_vector_value\": 0, \"m_probability\": 0.5748629816782519, \"u_probability\": 0.9982522522522522, \"bayes_factor_description\": \"If comparison level is `all other comparisons` then comparison is  1.74 times less likely to be a match\", \"value_l\": \"1991-10-26\", \"value_r\": \"2000-02-27\", \"term_frequency_adjustment\": false, \"bar_sort_order\": 3, \"record_number\": 2}, {\"column_name\": \"city\", \"label_for_charts\": \"Null\", \"sql_condition\": \"city_l IS NULL OR city_r IS NULL\", \"log2_bayes_factor\": 0.0, \"bayes_factor\": 1.0, \"comparison_vector_value\": -1, \"m_probability\": null, \"u_probability\": null, \"bayes_factor_description\": \"If comparison level is `null` then comparison is 1.00 times more likely to be a match\", \"value_l\": \"Lunton\", \"value_r\": \"nan\", \"term_frequency_adjustment\": false, \"bar_sort_order\": 4, \"record_number\": 2}, {\"column_name\": \"tf_city\", \"label_for_charts\": \"Null\", \"sql_condition\": \"city_l IS NULL OR city_r IS NULL\", \"log2_bayes_factor\": 0.0, \"bayes_factor\": 1.0, \"comparison_vector_value\": -1, \"m_probability\": null, \"u_probability\": null, \"bayes_factor_description\": \"If comparison level is `null` then comparison is 1.00 times more likely to be a match\", \"value_l\": \"\", \"value_r\": \"\", \"term_frequency_adjustment\": true, \"bar_sort_order\": 5, \"record_number\": 2}, {\"column_name\": \"email\", \"label_for_charts\": \"All other comparisons\", \"sql_condition\": \"ELSE\", \"log2_bayes_factor\": -1.288542200511469, \"bayes_factor\": 0.40936447071385496, \"comparison_vector_value\": 0, \"m_probability\": 0.4084663777444506, \"u_probability\": 0.9978061286856716, \"bayes_factor_description\": \"If comparison level is `all other comparisons` then comparison is  2.44 times less likely to be a match\", \"value_l\": \"o.griffiths90@reyes-coleman.com\", \"value_r\": \"oliver.b@smith.net\", \"term_frequency_adjustment\": false, \"bar_sort_order\": 6, \"record_number\": 2}, {\"column_name\": \"Final score\", \"label_for_charts\": \"Final score\", \"sql_condition\": null, \"log2_bayes_factor\": -2.010635319759158, \"bayes_factor\": 0.24816381586867567, \"comparison_vector_value\": null, \"m_probability\": null, \"u_probability\": null, \"bayes_factor_description\": null, \"value_l\": \"\", \"value_r\": \"\", \"term_frequency_adjustment\": null, \"bar_sort_order\": 7, \"record_number\": 2}, {\"column_name\": \"Prior\", \"label_for_charts\": \"Starting match weight (prior)\", \"sql_condition\": null, \"log2_bayes_factor\": -5.505928088052078, \"bayes_factor\": 0.02200647544334234, \"comparison_vector_value\": null, \"m_probability\": null, \"u_probability\": null, \"bayes_factor_description\": null, \"value_l\": \"\", \"value_r\": \"\", \"term_frequency_adjustment\": null, \"bar_sort_order\": 0, \"record_number\": 3}, {\"column_name\": \"first_name\", \"label_for_charts\": \"Exact match\", \"sql_condition\": \"first_name_l = first_name_r\", \"log2_bayes_factor\": 6.439996049958987, \"bayes_factor\": 86.82243923997795, \"comparison_vector_value\": 2, \"m_probability\": 0.5030120006422105, \"u_probability\": 0.0057935713975033705, \"bayes_factor_description\": \"If comparison level is `exact match` then comparison is 86.82 times more likely to be a match\", \"value_l\": \"Caleb\", \"value_r\": \"Caleb\", \"term_frequency_adjustment\": false, \"bar_sort_order\": 1, \"record_number\": 3}, {\"column_name\": \"surname\", \"label_for_charts\": \"All other comparisons\", \"sql_condition\": \"ELSE\", \"log2_bayes_factor\": -0.8599747906355826, \"bayes_factor\": 0.5509621852571531, \"comparison_vector_value\": 0, \"m_probability\": 0.5482679936422037, \"u_probability\": 0.9951100244498777, \"bayes_factor_description\": \"If comparison level is `all other comparisons` then comparison is  1.82 times less likely to be a match\", \"value_l\": \"Rwoe\", \"value_r\": \"Scott\", \"term_frequency_adjustment\": false, \"bar_sort_order\": 2, \"record_number\": 3}, {\"column_name\": \"dob\", \"label_for_charts\": \"All other comparisons\", \"sql_condition\": \"ELSE\", \"log2_bayes_factor\": -0.7961862905190165, \"bayes_factor\": 0.575869456223363, \"comparison_vector_value\": 0, \"m_probability\": 0.5748629816782519, \"u_probability\": 0.9982522522522522, \"bayes_factor_description\": \"If comparison level is `all other comparisons` then comparison is  1.74 times less likely to be a match\", \"value_l\": \"1992-11-20\", \"value_r\": \"2000-12-10\", \"term_frequency_adjustment\": false, \"bar_sort_order\": 3, \"record_number\": 3}, {\"column_name\": \"city\", \"label_for_charts\": \"Null\", \"sql_condition\": \"city_l IS NULL OR city_r IS NULL\", \"log2_bayes_factor\": 0.0, \"bayes_factor\": 1.0, \"comparison_vector_value\": -1, \"m_probability\": null, \"u_probability\": null, \"bayes_factor_description\": \"If comparison level is `null` then comparison is 1.00 times more likely to be a match\", \"value_l\": \"Liverpool\", \"value_r\": \"nan\", \"term_frequency_adjustment\": false, \"bar_sort_order\": 4, \"record_number\": 3}, {\"column_name\": \"tf_city\", \"label_for_charts\": \"Null\", \"sql_condition\": \"city_l IS NULL OR city_r IS NULL\", \"log2_bayes_factor\": 0.0, \"bayes_factor\": 1.0, \"comparison_vector_value\": -1, \"m_probability\": null, \"u_probability\": null, \"bayes_factor_description\": \"If comparison level is `null` then comparison is 1.00 times more likely to be a match\", \"value_l\": \"\", \"value_r\": \"\", \"term_frequency_adjustment\": true, \"bar_sort_order\": 5, \"record_number\": 3}, {\"column_name\": \"email\", \"label_for_charts\": \"Null\", \"sql_condition\": \"email_l IS NULL OR email_r IS NULL\", \"log2_bayes_factor\": 0.0, \"bayes_factor\": 1.0, \"comparison_vector_value\": -1, \"m_probability\": null, \"u_probability\": null, \"bayes_factor_description\": \"If comparison level is `null` then comparison is 1.00 times more likely to be a match\", \"value_l\": \"nan\", \"value_r\": \"c.scott@brooks.com\", \"term_frequency_adjustment\": false, \"bar_sort_order\": 6, \"record_number\": 3}, {\"column_name\": \"Final score\", \"label_for_charts\": \"Final score\", \"sql_condition\": null, \"log2_bayes_factor\": -0.7220931192476893, \"bayes_factor\": 0.6062172797652039, \"comparison_vector_value\": null, \"m_probability\": null, \"u_probability\": null, \"bayes_factor_description\": null, \"value_l\": \"\", \"value_r\": \"\", \"term_frequency_adjustment\": null, \"bar_sort_order\": 7, \"record_number\": 3}, {\"column_name\": \"Prior\", \"label_for_charts\": \"Starting match weight (prior)\", \"sql_condition\": null, \"log2_bayes_factor\": -5.505928088052078, \"bayes_factor\": 0.02200647544334234, \"comparison_vector_value\": null, \"m_probability\": null, \"u_probability\": null, \"bayes_factor_description\": null, \"value_l\": \"\", \"value_r\": \"\", \"term_frequency_adjustment\": null, \"bar_sort_order\": 0, \"record_number\": 4}, {\"column_name\": \"first_name\", \"label_for_charts\": \"Exact match\", \"sql_condition\": \"first_name_l = first_name_r\", \"log2_bayes_factor\": 6.439996049958987, \"bayes_factor\": 86.82243923997795, \"comparison_vector_value\": 2, \"m_probability\": 0.5030120006422105, \"u_probability\": 0.0057935713975033705, \"bayes_factor_description\": \"If comparison level is `exact match` then comparison is 86.82 times more likely to be a match\", \"value_l\": \"Darcy\", \"value_r\": \"Darcy\", \"term_frequency_adjustment\": false, \"bar_sort_order\": 1, \"record_number\": 4}, {\"column_name\": \"surname\", \"label_for_charts\": \"All other comparisons\", \"sql_condition\": \"ELSE\", \"log2_bayes_factor\": -0.8599747906355826, \"bayes_factor\": 0.5509621852571531, \"comparison_vector_value\": 0, \"m_probability\": 0.5482679936422037, \"u_probability\": 0.9951100244498777, \"bayes_factor_description\": \"If comparison level is `all other comparisons` then comparison is  1.82 times less likely to be a match\", \"value_l\": \"Bernass\", \"value_r\": \"Rhodes\", \"term_frequency_adjustment\": false, \"bar_sort_order\": 2, \"record_number\": 4}, {\"column_name\": \"dob\", \"label_for_charts\": \"All other comparisons\", \"sql_condition\": \"ELSE\", \"log2_bayes_factor\": -0.7961862905190165, \"bayes_factor\": 0.575869456223363, \"comparison_vector_value\": 0, \"m_probability\": 0.5748629816782519, \"u_probability\": 0.9982522522522522, \"bayes_factor_description\": \"If comparison level is `all other comparisons` then comparison is  1.74 times less likely to be a match\", \"value_l\": \"1986-02-04\", \"value_r\": \"1979-01-14\", \"term_frequency_adjustment\": false, \"bar_sort_order\": 3, \"record_number\": 4}, {\"column_name\": \"city\", \"label_for_charts\": \"All other comparisons\", \"sql_condition\": \"ELSE\", \"log2_bayes_factor\": -1.210988249856132, \"bayes_factor\": 0.4319726119209153, \"comparison_vector_value\": 0, \"m_probability\": 0.4081503715571333, \"u_probability\": 0.9448524288198547, \"bayes_factor_description\": \"If comparison level is `all other comparisons` then comparison is  2.31 times less likely to be a match\", \"value_l\": \"Southampton\", \"value_r\": \"Birmingham\", \"term_frequency_adjustment\": false, \"bar_sort_order\": 4, \"record_number\": 4}, {\"column_name\": \"tf_city\", \"label_for_charts\": \"All other comparisons\", \"sql_condition\": \"ELSE\", \"log2_bayes_factor\": 0.0, \"bayes_factor\": 1.0, \"comparison_vector_value\": 0, \"m_probability\": 0.4081503715571333, \"u_probability\": 0.9448524288198547, \"bayes_factor_description\": \"If comparison level is `all other comparisons` then comparison is  2.31 times less likely to be a match\", \"value_l\": \"\", \"value_r\": \"\", \"term_frequency_adjustment\": true, \"bar_sort_order\": 5, \"record_number\": 4}, {\"column_name\": \"email\", \"label_for_charts\": \"All other comparisons\", \"sql_condition\": \"ELSE\", \"log2_bayes_factor\": -1.288542200511469, \"bayes_factor\": 0.40936447071385496, \"comparison_vector_value\": 0, \"m_probability\": 0.4084663777444506, \"u_probability\": 0.9978061286856716, \"bayes_factor_description\": \"If comparison level is `all other comparisons` then comparison is  2.44 times less likely to be a match\", \"value_l\": \"darcy.b@silva.com\", \"value_r\": \"drhodes16@johnson-robinson.com\", \"term_frequency_adjustment\": false, \"bar_sort_order\": 6, \"record_number\": 4}, {\"column_name\": \"Final score\", \"label_for_charts\": \"Final score\", \"sql_condition\": null, \"log2_bayes_factor\": -3.2216235696152906, \"bayes_factor\": 0.10719997172505287, \"comparison_vector_value\": null, \"m_probability\": null, \"u_probability\": null, \"bayes_factor_description\": null, \"value_l\": \"\", \"value_r\": \"\", \"term_frequency_adjustment\": null, \"bar_sort_order\": 7, \"record_number\": 4}]}, \"config\": {\"view\": {\"continuousWidth\": 400, \"continuousHeight\": 300}}, \"params\": [{\"name\": \"record_number\", \"value\": 0, \"bind\": {\"input\": \"range\", \"min\": 0, \"max\": 4, \"step\": 1}, \"description\": \"Filter by the interation number\"}], \"title\": {\"text\": \"Match weights waterfall chart\", \"subtitle\": \"How each comparison contributes to the final match score\"}, \"transform\": [{\"filter\": \"(datum.record_number == record_number)\"}, {\"window\": [{\"op\": \"sum\", \"field\": \"log2_bayes_factor\", \"as\": \"sum\"}, {\"op\": \"lead\", \"field\": \"column_name\", \"as\": \"lead\"}], \"frame\": [null, 0]}, {\"calculate\": \"datum.column_name === \\\"Final score\\\" ? datum.sum - datum.log2_bayes_factor : datum.sum\", \"as\": \"sum\"}, {\"calculate\": \"datum.lead === null ? datum.column_name : datum.lead\", \"as\": \"lead\"}, {\"calculate\": \"datum.column_name === \\\"Final score\\\" || datum.column_name === \\\"Prior match weight\\\" ? 0 : datum.sum - datum.log2_bayes_factor\", \"as\": \"previous_sum\"}, {\"calculate\": \"datum.sum > datum.previous_sum ? datum.column_name : \\\"\\\"\", \"as\": \"top_label\"}, {\"calculate\": \"datum.sum < datum.previous_sum ? datum.column_name : \\\"\\\"\", \"as\": \"bottom_label\"}, {\"calculate\": \"datum.sum > datum.previous_sum ? datum.sum : datum.previous_sum\", \"as\": \"sum_top\"}, {\"calculate\": \"datum.sum < datum.previous_sum ? datum.sum : datum.previous_sum\", \"as\": \"sum_bottom\"}, {\"calculate\": \"(datum.sum + datum.previous_sum) / 2\", \"as\": \"center\"}, {\"calculate\": \"(datum.log2_bayes_factor > 0 ? \\\"+\\\" : \\\"\\\") + datum.log2_bayes_factor\", \"as\": \"text_log2_bayes_factor\"}, {\"calculate\": \"datum.sum < datum.previous_sum ? 4 : -4\", \"as\": \"dy\"}, {\"calculate\": \"datum.sum < datum.previous_sum ? \\\"top\\\" : \\\"bottom\\\"\", \"as\": \"baseline\"}, {\"calculate\": \"1. / (1 + pow(2, -1.*datum.sum))\", \"as\": \"prob\"}, {\"calculate\": \"0*datum.sum\", \"as\": \"zero\"}], \"layer\": [{\"layer\": [{\"mark\": \"rule\", \"encoding\": {\"y\": {\"field\": \"zero\", \"type\": \"quantitative\"}, \"size\": {\"value\": 0.5}, \"color\": {\"value\": \"black\"}}}, {\"mark\": {\"type\": \"bar\", \"width\": 60}, \"encoding\": {\"color\": {\"condition\": {\"value\": \"red\", \"test\": \"(datum.log2_bayes_factor < 0)\"}, \"value\": \"green\"}, \"opacity\": {\"condition\": {\"value\": 1, \"test\": \"datum.column_name == 'Prior match weight' || datum.column_name == 'Final score'\"}, \"value\": 0.5}, \"tooltip\": [{\"type\": \"nominal\", \"field\": \"column_name\", \"title\": \"Comparison column\"}, {\"type\": \"nominal\", \"field\": \"value_l\", \"title\": \"Value (L)\"}, {\"type\": \"nominal\", \"field\": \"value_r\", \"title\": \"Value (R)\"}, {\"type\": \"ordinal\", \"field\": \"label_for_charts\", \"title\": \"Label\"}, {\"type\": \"nominal\", \"field\": \"sql_condition\", \"title\": \"SQL condition\"}, {\"type\": \"nominal\", \"field\": \"comparison_vector_value\", \"title\": \"Comparison vector value\"}, {\"type\": \"quantitative\", \"field\": \"bayes_factor\", \"title\": \"Bayes factor = m/u\", \"format\": \",.4f\"}, {\"type\": \"quantitative\", \"field\": \"log2_bayes_factor\", \"title\": \"Match weight = log2(m/u)\", \"format\": \",.4f\"}, {\"type\": \"quantitative\", \"field\": \"prob\", \"format\": \".4f\", \"title\": \"Adjusted match score\"}, {\"type\": \"nominal\", \"field\": \"bayes_factor_description\", \"title\": \"Match weight description\"}], \"x\": {\"type\": \"nominal\", \"axis\": {\"labelExpr\": \"datum.value == 'Prior' || datum.value == 'Final score' ? '' : datum.value\", \"labelAngle\": -20, \"labelAlign\": \"center\", \"labelPadding\": 10, \"title\": \"Column\", \"grid\": true, \"tickBand\": \"extent\"}, \"field\": \"column_name\", \"sort\": {\"field\": \"bar_sort_order\", \"order\": \"ascending\"}}, \"y\": {\"type\": \"quantitative\", \"axis\": {\"grid\": false, \"orient\": \"left\", \"title\": \"log2(Bayes factor)\"}, \"field\": \"previous_sum\"}, \"y2\": {\"field\": \"sum\"}}}, {\"mark\": {\"type\": \"text\", \"fontWeight\": \"bold\"}, \"encoding\": {\"color\": {\"value\": \"white\"}, \"text\": {\"condition\": {\"type\": \"nominal\", \"field\": \"log2_bayes_factor\", \"format\": \".2f\", \"test\": \"abs(datum.log2_bayes_factor) > 1\"}, \"value\": \"\"}, \"x\": {\"type\": \"nominal\", \"axis\": {\"labelAngle\": 0, \"title\": \"Column\"}, \"field\": \"column_name\", \"sort\": {\"field\": \"bar_sort_order\", \"order\": \"ascending\"}}, \"y\": {\"type\": \"quantitative\", \"axis\": {\"orient\": \"left\"}, \"field\": \"center\"}}}, {\"mark\": {\"type\": \"text\", \"baseline\": \"bottom\", \"dy\": -25, \"fontWeight\": \"bold\"}, \"encoding\": {\"color\": {\"value\": \"black\"}, \"text\": {\"type\": \"nominal\", \"field\": \"column_name\"}, \"x\": {\"type\": \"nominal\", \"axis\": {\"labelAngle\": 0, \"title\": \"Column\"}, \"field\": \"column_name\", \"sort\": {\"field\": \"bar_sort_order\", \"order\": \"ascending\"}}, \"y\": {\"type\": \"quantitative\", \"field\": \"sum_top\"}}}, {\"mark\": {\"type\": \"text\", \"baseline\": \"bottom\", \"fontSize\": 8, \"dy\": -13}, \"encoding\": {\"color\": {\"value\": \"grey\"}, \"text\": {\"type\": \"nominal\", \"field\": \"value_l\"}, \"x\": {\"type\": \"nominal\", \"axis\": {\"labelAngle\": 0, \"title\": \"Column\"}, \"field\": \"column_name\", \"sort\": {\"field\": \"bar_sort_order\", \"order\": \"ascending\"}}, \"y\": {\"type\": \"quantitative\", \"field\": \"sum_top\"}}}, {\"mark\": {\"type\": \"text\", \"baseline\": \"bottom\", \"fontSize\": 8, \"dy\": -5}, \"encoding\": {\"color\": {\"value\": \"grey\"}, \"text\": {\"type\": \"nominal\", \"field\": \"value_r\"}, \"x\": {\"type\": \"nominal\", \"axis\": {\"labelAngle\": 0, \"title\": \"Column\"}, \"field\": \"column_name\", \"sort\": {\"field\": \"bar_sort_order\", \"order\": \"ascending\"}}, \"y\": {\"type\": \"quantitative\", \"field\": \"sum_top\"}}}]}, {\"mark\": {\"type\": \"rule\", \"color\": \"black\", \"strokeWidth\": 2, \"x2Offset\": 30, \"xOffset\": -30}, \"encoding\": {\"x\": {\"type\": \"nominal\", \"axis\": {\"labelAngle\": 0, \"title\": \"Column\"}, \"field\": \"column_name\", \"sort\": {\"field\": \"bar_sort_order\", \"order\": \"ascending\"}}, \"x2\": {\"field\": \"lead\"}, \"y\": {\"type\": \"quantitative\", \"axis\": {\"labelExpr\": \"format(1 / (1 + pow(2, -1*datum.value)), '.2r')\", \"orient\": \"right\", \"title\": \"Probability\"}, \"field\": \"sum\", \"scale\": {\"zero\": false}}}}]}, {\"mode\": \"vega-lite\"});\n",
       "</script>"
      ],
      "text/plain": [
       "<altair.vegalite.v4.display.VegaLite at 0x7face53730d0>"
      ]
     },
     "metadata": {},
     "output_type": "display_data"
    }
   ],
   "source": [
    "from splink.charts import waterfall_chart\n",
    "records_to_plot = df_predictions.as_pandas_dataframe().head(5).to_dict(orient=\"records\")\n",
    "c = waterfall_chart(records_to_plot, linker.settings_obj, filter_nulls=False)"
   ]
  },
  {
   "cell_type": "markdown",
   "metadata": {},
   "source": [
    "We can visualise a sample of individual record comparisons using a waterfall chart:"
   ]
  },
  {
   "cell_type": "markdown",
   "metadata": {},
   "source": [
    "A histogram showing the distribution of match weights can be viewed as follows"
   ]
  },
  {
   "cell_type": "code",
   "execution_count": 13,
   "metadata": {},
   "outputs": [
    {
     "data": {
      "text/html": [
       "\n",
       "<div id=\"altair-viz-9d823a7dfafb432287f940d5d8b0054d\"></div>\n",
       "<script type=\"text/javascript\">\n",
       "  var VEGA_DEBUG = (typeof VEGA_DEBUG == \"undefined\") ? {} : VEGA_DEBUG;\n",
       "  (function(spec, embedOpt){\n",
       "    let outputDiv = document.currentScript.previousElementSibling;\n",
       "    if (outputDiv.id !== \"altair-viz-9d823a7dfafb432287f940d5d8b0054d\") {\n",
       "      outputDiv = document.getElementById(\"altair-viz-9d823a7dfafb432287f940d5d8b0054d\");\n",
       "    }\n",
       "    const paths = {\n",
       "      \"vega\": \"https://cdn.jsdelivr.net/npm//vega@5?noext\",\n",
       "      \"vega-lib\": \"https://cdn.jsdelivr.net/npm//vega-lib?noext\",\n",
       "      \"vega-lite\": \"https://cdn.jsdelivr.net/npm//vega-lite@4.17.0?noext\",\n",
       "      \"vega-embed\": \"https://cdn.jsdelivr.net/npm//vega-embed@6?noext\",\n",
       "    };\n",
       "\n",
       "    function maybeLoadScript(lib, version) {\n",
       "      var key = `${lib.replace(\"-\", \"\")}_version`;\n",
       "      return (VEGA_DEBUG[key] == version) ?\n",
       "        Promise.resolve(paths[lib]) :\n",
       "        new Promise(function(resolve, reject) {\n",
       "          var s = document.createElement('script');\n",
       "          document.getElementsByTagName(\"head\")[0].appendChild(s);\n",
       "          s.async = true;\n",
       "          s.onload = () => {\n",
       "            VEGA_DEBUG[key] = version;\n",
       "            return resolve(paths[lib]);\n",
       "          };\n",
       "          s.onerror = () => reject(`Error loading script: ${paths[lib]}`);\n",
       "          s.src = paths[lib];\n",
       "        });\n",
       "    }\n",
       "\n",
       "    function showError(err) {\n",
       "      outputDiv.innerHTML = `<div class=\"error\" style=\"color:red;\">${err}</div>`;\n",
       "      throw err;\n",
       "    }\n",
       "\n",
       "    function displayChart(vegaEmbed) {\n",
       "      vegaEmbed(outputDiv, spec, embedOpt)\n",
       "        .catch(err => showError(`Javascript Error: ${err.message}<br>This usually means there's a typo in your chart specification. See the javascript console for the full traceback.`));\n",
       "    }\n",
       "\n",
       "    if(typeof define === \"function\" && define.amd) {\n",
       "      requirejs.config({paths});\n",
       "      require([\"vega-embed\"], displayChart, err => showError(`Error loading script: ${err.message}`));\n",
       "    } else {\n",
       "      maybeLoadScript(\"vega\", \"5\")\n",
       "        .then(() => maybeLoadScript(\"vega-lite\", \"4.17.0\"))\n",
       "        .then(() => maybeLoadScript(\"vega-embed\", \"6\"))\n",
       "        .catch(showError)\n",
       "        .then(() => displayChart(vegaEmbed));\n",
       "    }\n",
       "  })({\"$schema\": \"https://vega.github.io/schema/vega-lite/v4.8.1.json\", \"config\": {\"title\": {\"fontSize\": 14}}, \"data\": {\"values\": [{\"splink_score_bin_low\": -5.0, \"binwidth\": 1, \"count_rows\": 268, \"splink_score_bin_high\": -4.0}, {\"splink_score_bin_low\": -4.0, \"binwidth\": 1, \"count_rows\": 651, \"splink_score_bin_high\": -3.0}, {\"splink_score_bin_low\": -3.0, \"binwidth\": 1, \"count_rows\": 591, \"splink_score_bin_high\": -2.0}, {\"splink_score_bin_low\": -2.0, \"binwidth\": 1, \"count_rows\": 558, \"splink_score_bin_high\": -1.0}, {\"splink_score_bin_low\": -1.0, \"binwidth\": 1, \"count_rows\": 213, \"splink_score_bin_high\": 0.0}, {\"splink_score_bin_low\": 0.0, \"binwidth\": 1, \"count_rows\": 163, \"splink_score_bin_high\": 1.0}, {\"splink_score_bin_low\": 1.0, \"binwidth\": 1, \"count_rows\": 25, \"splink_score_bin_high\": 2.0}, {\"splink_score_bin_low\": 2.0, \"binwidth\": 1, \"count_rows\": 24, \"splink_score_bin_high\": 3.0}, {\"splink_score_bin_low\": 3.0, \"binwidth\": 1, \"count_rows\": 41, \"splink_score_bin_high\": 4.0}, {\"splink_score_bin_low\": 4.0, \"binwidth\": 1, \"count_rows\": 40, \"splink_score_bin_high\": 5.0}, {\"splink_score_bin_low\": 5.0, \"binwidth\": 1, \"count_rows\": 63, \"splink_score_bin_high\": 6.0}, {\"splink_score_bin_low\": 6.0, \"binwidth\": 1, \"count_rows\": 81, \"splink_score_bin_high\": 7.0}, {\"splink_score_bin_low\": 7.0, \"binwidth\": 1, \"count_rows\": 75, \"splink_score_bin_high\": 8.0}, {\"splink_score_bin_low\": 8.0, \"binwidth\": 1, \"count_rows\": 66, \"splink_score_bin_high\": 9.0}, {\"splink_score_bin_low\": 9.0, \"binwidth\": 1, \"count_rows\": 30, \"splink_score_bin_high\": 10.0}, {\"splink_score_bin_low\": 10.0, \"binwidth\": 1, \"count_rows\": 23, \"splink_score_bin_high\": 11.0}, {\"splink_score_bin_low\": 11.0, \"binwidth\": 1, \"count_rows\": 49, \"splink_score_bin_high\": 12.0}, {\"splink_score_bin_low\": 12.0, \"binwidth\": 1, \"count_rows\": 40, \"splink_score_bin_high\": 13.0}, {\"splink_score_bin_low\": 13.0, \"binwidth\": 1, \"count_rows\": 65, \"splink_score_bin_high\": 14.0}, {\"splink_score_bin_low\": 14.0, \"binwidth\": 1, \"count_rows\": 73, \"splink_score_bin_high\": 15.0}, {\"splink_score_bin_low\": 15.0, \"binwidth\": 1, \"count_rows\": 32, \"splink_score_bin_high\": 16.0}, {\"splink_score_bin_low\": 16.0, \"binwidth\": 1, \"count_rows\": 26, \"splink_score_bin_high\": 17.0}, {\"splink_score_bin_low\": 17.0, \"binwidth\": 1, \"count_rows\": 11, \"splink_score_bin_high\": 18.0}, {\"splink_score_bin_low\": 18.0, \"binwidth\": 1, \"count_rows\": 19, \"splink_score_bin_high\": 19.0}, {\"splink_score_bin_low\": 19.0, \"binwidth\": 1, \"count_rows\": 24, \"splink_score_bin_high\": 20.0}, {\"splink_score_bin_low\": 20.0, \"binwidth\": 1, \"count_rows\": 18, \"splink_score_bin_high\": 21.0}, {\"splink_score_bin_low\": 21.0, \"binwidth\": 1, \"count_rows\": 19, \"splink_score_bin_high\": 22.0}, {\"splink_score_bin_low\": 22.0, \"binwidth\": 1, \"count_rows\": 19, \"splink_score_bin_high\": 23.0}, {\"splink_score_bin_low\": 23.0, \"binwidth\": 1, \"count_rows\": 17, \"splink_score_bin_high\": 24.0}, {\"splink_score_bin_low\": 24.0, \"binwidth\": 1, \"count_rows\": 7, \"splink_score_bin_high\": 25.0}, {\"splink_score_bin_low\": 25.0, \"binwidth\": 1, \"count_rows\": 2, \"splink_score_bin_high\": 26.0}, {\"splink_score_bin_low\": 26.0, \"binwidth\": 1, \"count_rows\": 1, \"splink_score_bin_high\": 27.0}, {\"splink_score_bin_low\": 27.0, \"binwidth\": 1, \"count_rows\": 9, \"splink_score_bin_high\": 28.0}, {\"splink_score_bin_low\": 28.0, \"binwidth\": 1, \"count_rows\": 4, \"splink_score_bin_high\": 29.0}, {\"splink_score_bin_low\": 29.0, \"binwidth\": 1, \"count_rows\": 2, \"splink_score_bin_high\": 30.0}]}, \"height\": 250, \"width\": 600, \"mark\": \"bar\", \"title\": {\"text\": \"Histogram of match weights\", \"subtitle\": \"Use mousewheel to zoom\"}, \"encoding\": {\"tooltip\": [{\"field\": \"count_rows\", \"title\": \"Count in bin\", \"type\": \"quantitative\"}], \"x\": {\"axis\": {\"title\": \"Match weight\"}, \"bin\": \"binned\", \"field\": \"splink_score_bin_low\", \"type\": \"quantitative\"}, \"x2\": {\"field\": \"splink_score_bin_high\"}, \"y\": {\"field\": \"count_rows\", \"type\": \"quantitative\", \"axis\": {\"title\": \"Count of record comparisons in bin\"}}}, \"selection\": {\"selector076\": {\"type\": \"interval\", \"bind\": \"scales\", \"encodings\": [\"y\"]}}}, {\"mode\": \"vega-lite\"});\n",
       "</script>"
      ],
      "text/plain": [
       "<altair.vegalite.v4.display.VegaLite at 0x7face8870070>"
      ]
     },
     "metadata": {},
     "output_type": "display_data"
    }
   ],
   "source": [
    "c = linker.match_weight_histogram(df_predictions)"
   ]
  },
  {
   "cell_type": "markdown",
   "metadata": {},
   "source": [
    "If you have a sample of labels, you can output a ROC chart.  (A precision-recall chart is also available with `linker.precision_recall_from_labels`) \n",
    "\n",
    "Your labels need to be formatted as follows:"
   ]
  },
  {
   "cell_type": "markdown",
   "metadata": {},
   "source": [
    "## Step 9: Accuracy analysis\n",
    "\n",
    "Since we have labels in this dataset, we can compute the accuracy of our trained model"
   ]
  },
  {
   "cell_type": "code",
   "execution_count": 14,
   "metadata": {},
   "outputs": [
    {
     "data": {
      "text/html": [
       "<div>\n",
       "<style scoped>\n",
       "    .dataframe tbody tr th:only-of-type {\n",
       "        vertical-align: middle;\n",
       "    }\n",
       "\n",
       "    .dataframe tbody tr th {\n",
       "        vertical-align: top;\n",
       "    }\n",
       "\n",
       "    .dataframe thead th {\n",
       "        text-align: right;\n",
       "    }\n",
       "</style>\n",
       "<table border=\"1\" class=\"dataframe\">\n",
       "  <thead>\n",
       "    <tr style=\"text-align: right;\">\n",
       "      <th></th>\n",
       "      <th>unique_id_l</th>\n",
       "      <th>source_dataset_l</th>\n",
       "      <th>unique_id_r</th>\n",
       "      <th>source_dataset_r</th>\n",
       "      <th>clerical_match_score</th>\n",
       "    </tr>\n",
       "  </thead>\n",
       "  <tbody>\n",
       "    <tr>\n",
       "      <th>0</th>\n",
       "      <td>0</td>\n",
       "      <td>fake_1000</td>\n",
       "      <td>1</td>\n",
       "      <td>fake_1000</td>\n",
       "      <td>1.0</td>\n",
       "    </tr>\n",
       "    <tr>\n",
       "      <th>1</th>\n",
       "      <td>0</td>\n",
       "      <td>fake_1000</td>\n",
       "      <td>2</td>\n",
       "      <td>fake_1000</td>\n",
       "      <td>1.0</td>\n",
       "    </tr>\n",
       "    <tr>\n",
       "      <th>2</th>\n",
       "      <td>0</td>\n",
       "      <td>fake_1000</td>\n",
       "      <td>3</td>\n",
       "      <td>fake_1000</td>\n",
       "      <td>1.0</td>\n",
       "    </tr>\n",
       "    <tr>\n",
       "      <th>3</th>\n",
       "      <td>0</td>\n",
       "      <td>fake_1000</td>\n",
       "      <td>4</td>\n",
       "      <td>fake_1000</td>\n",
       "      <td>0.0</td>\n",
       "    </tr>\n",
       "    <tr>\n",
       "      <th>4</th>\n",
       "      <td>0</td>\n",
       "      <td>fake_1000</td>\n",
       "      <td>5</td>\n",
       "      <td>fake_1000</td>\n",
       "      <td>0.0</td>\n",
       "    </tr>\n",
       "  </tbody>\n",
       "</table>\n",
       "</div>"
      ],
      "text/plain": [
       "   unique_id_l source_dataset_l  unique_id_r source_dataset_r  \\\n",
       "0            0        fake_1000            1        fake_1000   \n",
       "1            0        fake_1000            2        fake_1000   \n",
       "2            0        fake_1000            3        fake_1000   \n",
       "3            0        fake_1000            4        fake_1000   \n",
       "4            0        fake_1000            5        fake_1000   \n",
       "\n",
       "   clerical_match_score  \n",
       "0                   1.0  \n",
       "1                   1.0  \n",
       "2                   1.0  \n",
       "3                   0.0  \n",
       "4                   0.0  "
      ]
     },
     "execution_count": 14,
     "metadata": {},
     "output_type": "execute_result"
    }
   ],
   "source": [
    "df_labels = pd.read_csv(\"./data/fake_1000_labels.csv\")\n",
    "df_labels.head(5)"
   ]
  },
  {
   "cell_type": "markdown",
   "metadata": {},
   "source": [
    "Then to produce the chart:"
   ]
  },
  {
   "cell_type": "code",
   "execution_count": 15,
   "metadata": {},
   "outputs": [
    {
     "data": {
      "text/html": [
       "\n",
       "<div id=\"altair-viz-13a3f72a9cf74e209a2d42d3902e2ad4\"></div>\n",
       "<script type=\"text/javascript\">\n",
       "  var VEGA_DEBUG = (typeof VEGA_DEBUG == \"undefined\") ? {} : VEGA_DEBUG;\n",
       "  (function(spec, embedOpt){\n",
       "    let outputDiv = document.currentScript.previousElementSibling;\n",
       "    if (outputDiv.id !== \"altair-viz-13a3f72a9cf74e209a2d42d3902e2ad4\") {\n",
       "      outputDiv = document.getElementById(\"altair-viz-13a3f72a9cf74e209a2d42d3902e2ad4\");\n",
       "    }\n",
       "    const paths = {\n",
       "      \"vega\": \"https://cdn.jsdelivr.net/npm//vega@5?noext\",\n",
       "      \"vega-lib\": \"https://cdn.jsdelivr.net/npm//vega-lib?noext\",\n",
       "      \"vega-lite\": \"https://cdn.jsdelivr.net/npm//vega-lite@4.17.0?noext\",\n",
       "      \"vega-embed\": \"https://cdn.jsdelivr.net/npm//vega-embed@6?noext\",\n",
       "    };\n",
       "\n",
       "    function maybeLoadScript(lib, version) {\n",
       "      var key = `${lib.replace(\"-\", \"\")}_version`;\n",
       "      return (VEGA_DEBUG[key] == version) ?\n",
       "        Promise.resolve(paths[lib]) :\n",
       "        new Promise(function(resolve, reject) {\n",
       "          var s = document.createElement('script');\n",
       "          document.getElementsByTagName(\"head\")[0].appendChild(s);\n",
       "          s.async = true;\n",
       "          s.onload = () => {\n",
       "            VEGA_DEBUG[key] = version;\n",
       "            return resolve(paths[lib]);\n",
       "          };\n",
       "          s.onerror = () => reject(`Error loading script: ${paths[lib]}`);\n",
       "          s.src = paths[lib];\n",
       "        });\n",
       "    }\n",
       "\n",
       "    function showError(err) {\n",
       "      outputDiv.innerHTML = `<div class=\"error\" style=\"color:red;\">${err}</div>`;\n",
       "      throw err;\n",
       "    }\n",
       "\n",
       "    function displayChart(vegaEmbed) {\n",
       "      vegaEmbed(outputDiv, spec, embedOpt)\n",
       "        .catch(err => showError(`Javascript Error: ${err.message}<br>This usually means there's a typo in your chart specification. See the javascript console for the full traceback.`));\n",
       "    }\n",
       "\n",
       "    if(typeof define === \"function\" && define.amd) {\n",
       "      requirejs.config({paths});\n",
       "      require([\"vega-embed\"], displayChart, err => showError(`Error loading script: ${err.message}`));\n",
       "    } else {\n",
       "      maybeLoadScript(\"vega\", \"5\")\n",
       "        .then(() => maybeLoadScript(\"vega-lite\", \"4.17.0\"))\n",
       "        .then(() => maybeLoadScript(\"vega-embed\", \"6\"))\n",
       "        .catch(showError)\n",
       "        .then(() => displayChart(vegaEmbed));\n",
       "    }\n",
       "  })({\"$schema\": \"https://vega.github.io/schema/vega-lite/v4.8.1.json\", \"title\": \"Receiver operating characteristic curve\", \"height\": 400, \"width\": 400, \"data\": {\"values\": [{\"truth_threshold\": -11.806915989099618, \"row_count\": 1225.0, \"P\": 80.0, \"N\": 1145.0, \"TP\": 80.0, \"TN\": 0.0, \"FP\": 1145.0, \"FN\": 0.0, \"P_rate\": 0.0, \"N_rate\": 0.9346938729286194, \"TP_rate\": 1.0, \"TN_rate\": 0.0, \"FP_rate\": 1.0, \"FN_rate\": 0.0, \"precision\": 0.06530611962080002, \"recall\": 1.0}, {\"truth_threshold\": -10.946941198464035, \"row_count\": 1225.0, \"P\": 80.0, \"N\": 1145.0, \"TP\": 79.0, \"TN\": 103.0, \"FP\": 1042.0, \"FN\": 1.0, \"P_rate\": 0.0, \"N_rate\": 0.9346938729286194, \"TP_rate\": 0.987500011920929, \"TN_rate\": 0.08995632827281952, \"FP_rate\": 0.9100436568260193, \"FN_rate\": 0.012500000186264515, \"precision\": 0.07047279179096222, \"recall\": 0.987500011920929}, {\"truth_threshold\": -10.595927739243486, \"row_count\": 1225.0, \"P\": 80.0, \"N\": 1145.0, \"TP\": 79.0, \"TN\": 145.0, \"FP\": 1000.0, \"FN\": 1.0, \"P_rate\": 0.0, \"N_rate\": 0.9346938729286194, \"TP_rate\": 0.987500011920929, \"TN_rate\": 0.1266375482082367, \"FP_rate\": 0.8733624219894409, \"FN_rate\": 0.012500000186264515, \"precision\": 0.07321593910455704, \"recall\": 0.987500011920929}, {\"truth_threshold\": -10.518373788588148, \"row_count\": 1225.0, \"P\": 80.0, \"N\": 1145.0, \"TP\": 79.0, \"TN\": 320.0, \"FP\": 825.0, \"FN\": 1.0, \"P_rate\": 0.0, \"N_rate\": 0.9346938729286194, \"TP_rate\": 0.987500011920929, \"TN_rate\": 0.27947598695755005, \"FP_rate\": 0.72052401304245, \"FN_rate\": 0.012500000186264515, \"precision\": 0.08738937973976135, \"recall\": 0.987500011920929}, {\"truth_threshold\": -9.735952948607903, \"row_count\": 1225.0, \"P\": 80.0, \"N\": 1145.0, \"TP\": 78.0, \"TN\": 401.0, \"FP\": 744.0, \"FN\": 2.0, \"P_rate\": 0.0, \"N_rate\": 0.9346938729286194, \"TP_rate\": 0.9750000238418579, \"TN_rate\": 0.3502183258533478, \"FP_rate\": 0.6497816443443298, \"FN_rate\": 0.02500000037252903, \"precision\": 0.09489051252603531, \"recall\": 0.9750000238418579}, {\"truth_threshold\": -9.661619619574276, \"row_count\": 1225.0, \"P\": 80.0, \"N\": 1145.0, \"TP\": 76.0, \"TN\": 510.0, \"FP\": 635.0, \"FN\": 4.0, \"P_rate\": 0.0, \"N_rate\": 0.9346938729286194, \"TP_rate\": 0.949999988079071, \"TN_rate\": 0.44541484117507935, \"FP_rate\": 0.5545851588249207, \"FN_rate\": 0.05000000074505806, \"precision\": 0.1068916991353035, \"recall\": 0.949999988079071}, {\"truth_threshold\": -9.658398997952565, \"row_count\": 1225.0, \"P\": 80.0, \"N\": 1145.0, \"TP\": 76.0, \"TN\": 598.0, \"FP\": 547.0, \"FN\": 4.0, \"P_rate\": 0.0, \"N_rate\": 0.9346938729286194, \"TP_rate\": 0.949999988079071, \"TN_rate\": 0.5222707390785217, \"FP_rate\": 0.47772926092147827, \"FN_rate\": 0.05000000074505806, \"precision\": 0.12199036777019501, \"recall\": 0.949999988079071}, {\"truth_threshold\": -9.307385538732017, \"row_count\": 1225.0, \"P\": 80.0, \"N\": 1145.0, \"TP\": 76.0, \"TN\": 611.0, \"FP\": 534.0, \"FN\": 4.0, \"P_rate\": 0.0, \"N_rate\": 0.9346938729286194, \"TP_rate\": 0.949999988079071, \"TN_rate\": 0.5336244702339172, \"FP_rate\": 0.46637555956840515, \"FN_rate\": 0.05000000074505806, \"precision\": 0.12459016591310501, \"recall\": 0.949999988079071}, {\"truth_threshold\": -9.120141843595928, \"row_count\": 1225.0, \"P\": 80.0, \"N\": 1145.0, \"TP\": 75.0, \"TN\": 705.0, \"FP\": 440.0, \"FN\": 5.0, \"P_rate\": 0.0, \"N_rate\": 0.9346938729286194, \"TP_rate\": 0.9375, \"TN_rate\": 0.6157205104827881, \"FP_rate\": 0.3842794895172119, \"FN_rate\": 0.0625, \"precision\": 0.1456310749053955, \"recall\": 0.9375}, {\"truth_threshold\": -8.801644828938695, \"row_count\": 1225.0, \"P\": 80.0, \"N\": 1145.0, \"TP\": 74.0, \"TN\": 721.0, \"FP\": 424.0, \"FN\": 6.0, \"P_rate\": 0.0, \"N_rate\": 0.9346938729286194, \"TP_rate\": 0.925000011920929, \"TN_rate\": 0.6296943426132202, \"FP_rate\": 0.3703056871891022, \"FN_rate\": 0.07500000298023224, \"precision\": 0.14859437942504883, \"recall\": 0.925000011920929}, {\"truth_threshold\": -8.450631369718145, \"row_count\": 1225.0, \"P\": 80.0, \"N\": 1145.0, \"TP\": 74.0, \"TN\": 759.0, \"FP\": 386.0, \"FN\": 6.0, \"P_rate\": 0.0, \"N_rate\": 0.9346938729286194, \"TP_rate\": 0.925000011920929, \"TN_rate\": 0.6628820896148682, \"FP_rate\": 0.33711791038513184, \"FN_rate\": 0.07500000298023224, \"precision\": 0.1608695685863495, \"recall\": 0.925000011920929}, {\"truth_threshold\": -8.447410748096434, \"row_count\": 1225.0, \"P\": 80.0, \"N\": 1145.0, \"TP\": 74.0, \"TN\": 801.0, \"FP\": 344.0, \"FN\": 6.0, \"P_rate\": 0.0, \"N_rate\": 0.9346938729286194, \"TP_rate\": 0.925000011920929, \"TN_rate\": 0.6995633244514465, \"FP_rate\": 0.30043667554855347, \"FN_rate\": 0.07500000298023224, \"precision\": 0.17703349888324738, \"recall\": 0.925000011920929}, {\"truth_threshold\": -8.373077419062808, \"row_count\": 1225.0, \"P\": 80.0, \"N\": 1145.0, \"TP\": 73.0, \"TN\": 826.0, \"FP\": 319.0, \"FN\": 7.0, \"P_rate\": 0.0, \"N_rate\": 0.9346938729286194, \"TP_rate\": 0.9125000238418579, \"TN_rate\": 0.7213973999023438, \"FP_rate\": 0.27860262989997864, \"FN_rate\": 0.08749999850988388, \"precision\": 0.18622449040412903, \"recall\": 0.9125000238418579}, {\"truth_threshold\": -8.260167052960345, \"row_count\": 1225.0, \"P\": 80.0, \"N\": 1145.0, \"TP\": 72.0, \"TN\": 918.0, \"FP\": 227.0, \"FN\": 8.0, \"P_rate\": 0.0, \"N_rate\": 0.9346938729286194, \"TP_rate\": 0.8999999761581421, \"TN_rate\": 0.8017467260360718, \"FP_rate\": 0.19825327396392822, \"FN_rate\": 0.10000000149011612, \"precision\": 0.24080267548561096, \"recall\": 0.8999999761581421}, {\"truth_threshold\": -7.831599643084458, \"row_count\": 1225.0, \"P\": 80.0, \"N\": 1145.0, \"TP\": 72.0, \"TN\": 924.0, \"FP\": 221.0, \"FN\": 8.0, \"P_rate\": 0.0, \"N_rate\": 0.9346938729286194, \"TP_rate\": 0.8999999761581421, \"TN_rate\": 0.806986927986145, \"FP_rate\": 0.19301310181617737, \"FN_rate\": 0.10000000149011612, \"precision\": 0.24573378264904022, \"recall\": 0.8999999761581421}, {\"truth_threshold\": -7.590656579082562, \"row_count\": 1225.0, \"P\": 80.0, \"N\": 1145.0, \"TP\": 72.0, \"TN\": 931.0, \"FP\": 214.0, \"FN\": 8.0, \"P_rate\": 0.0, \"N_rate\": 0.9346938729286194, \"TP_rate\": 0.8999999761581421, \"TN_rate\": 0.8131004571914673, \"FP_rate\": 0.1868995577096939, \"FN_rate\": 0.10000000149011612, \"precision\": 0.251748263835907, \"recall\": 0.8999999761581421}, {\"truth_threshold\": -7.513102628427226, \"row_count\": 1225.0, \"P\": 80.0, \"N\": 1145.0, \"TP\": 72.0, \"TN\": 957.0, \"FP\": 188.0, \"FN\": 8.0, \"P_rate\": 0.0, \"N_rate\": 0.9346938729286194, \"TP_rate\": 0.8999999761581421, \"TN_rate\": 0.8358078598976135, \"FP_rate\": 0.16419214010238647, \"FN_rate\": 0.10000000149011612, \"precision\": 0.2769230902194977, \"recall\": 0.8999999761581421}, {\"truth_threshold\": -7.162089169206676, \"row_count\": 1225.0, \"P\": 80.0, \"N\": 1145.0, \"TP\": 72.0, \"TN\": 973.0, \"FP\": 172.0, \"FN\": 8.0, \"P_rate\": 0.0, \"N_rate\": 0.9346938729286194, \"TP_rate\": 0.8999999761581421, \"TN_rate\": 0.8497816324234009, \"FP_rate\": 0.15021833777427673, \"FN_rate\": 0.10000000149011612, \"precision\": 0.2950819730758667, \"recall\": 0.8999999761581421}, {\"truth_threshold\": -6.971624852448875, \"row_count\": 1225.0, \"P\": 80.0, \"N\": 1145.0, \"TP\": 71.0, \"TN\": 1093.0, \"FP\": 52.0, \"FN\": 9.0, \"P_rate\": 0.0, \"N_rate\": 0.9346938729286194, \"TP_rate\": 0.887499988079071, \"TN_rate\": 0.9545851349830627, \"FP_rate\": 0.045414846390485764, \"FN_rate\": 0.11249999701976776, \"precision\": 0.577235758304596, \"recall\": 0.887499988079071}, {\"truth_threshold\": -6.302114378571094, \"row_count\": 1225.0, \"P\": 80.0, \"N\": 1145.0, \"TP\": 71.0, \"TN\": 1094.0, \"FP\": 51.0, \"FN\": 9.0, \"P_rate\": 0.0, \"N_rate\": 0.9346938729286194, \"TP_rate\": 0.887499988079071, \"TN_rate\": 0.9554585218429565, \"FP_rate\": 0.044541485607624054, \"FN_rate\": 0.11249999701976776, \"precision\": 0.5819672346115112, \"recall\": 0.887499988079071}, {\"truth_threshold\": -5.686303273559118, \"row_count\": 1225.0, \"P\": 80.0, \"N\": 1145.0, \"TP\": 71.0, \"TN\": 1118.0, \"FP\": 27.0, \"FN\": 9.0, \"P_rate\": 0.0, \"N_rate\": 0.9346938729286194, \"TP_rate\": 0.887499988079071, \"TN_rate\": 0.97641921043396, \"FP_rate\": 0.02358078584074974, \"FN_rate\": 0.11249999701976776, \"precision\": 0.7244898080825806, \"recall\": 0.887499988079071}, {\"truth_threshold\": -4.899887234913872, \"row_count\": 1225.0, \"P\": 80.0, \"N\": 1145.0, \"TP\": 69.0, \"TN\": 1123.0, \"FP\": 22.0, \"FN\": 11.0, \"P_rate\": 0.0, \"N_rate\": 0.9346938729286194, \"TP_rate\": 0.862500011920929, \"TN_rate\": 0.9807860255241394, \"FP_rate\": 0.019213974475860596, \"FN_rate\": 0.13750000298023224, \"precision\": 0.7582417726516724, \"recall\": 0.862500011920929}, {\"truth_threshold\": -4.826328482923536, \"row_count\": 1225.0, \"P\": 80.0, \"N\": 1145.0, \"TP\": 69.0, \"TN\": 1126.0, \"FP\": 19.0, \"FN\": 11.0, \"P_rate\": 0.0, \"N_rate\": 0.9346938729286194, \"TP_rate\": 0.862500011920929, \"TN_rate\": 0.983406126499176, \"FP_rate\": 0.01659388653934002, \"FN_rate\": 0.13750000298023224, \"precision\": 0.7840909361839294, \"recall\": 0.862500011920929}, {\"truth_threshold\": -4.039912444278289, \"row_count\": 1225.0, \"P\": 80.0, \"N\": 1145.0, \"TP\": 69.0, \"TN\": 1127.0, \"FP\": 18.0, \"FN\": 11.0, \"P_rate\": 0.0, \"N_rate\": 0.9346938729286194, \"TP_rate\": 0.862500011920929, \"TN_rate\": 0.984279453754425, \"FP_rate\": 0.01572052389383316, \"FN_rate\": 0.13750000298023224, \"precision\": 0.7931034564971924, \"recall\": 0.862500011920929}, {\"truth_threshold\": -3.68889898505774, \"row_count\": 1225.0, \"P\": 80.0, \"N\": 1145.0, \"TP\": 69.0, \"TN\": 1128.0, \"FP\": 17.0, \"FN\": 11.0, \"P_rate\": 0.0, \"N_rate\": 0.9346938729286194, \"TP_rate\": 0.862500011920929, \"TN_rate\": 0.9851528406143188, \"FP_rate\": 0.014847161248326302, \"FN_rate\": 0.13750000298023224, \"precision\": 0.8023256063461304, \"recall\": 0.862500011920929}, {\"truth_threshold\": -2.710142247876174, \"row_count\": 1225.0, \"P\": 80.0, \"N\": 1145.0, \"TP\": 69.0, \"TN\": 1133.0, \"FP\": 12.0, \"FN\": 11.0, \"P_rate\": 0.0, \"N_rate\": 0.9346938729286194, \"TP_rate\": 0.862500011920929, \"TN_rate\": 0.9895196557044983, \"FP_rate\": 0.010480348952114582, \"FN_rate\": 0.13750000298023224, \"precision\": 0.8518518805503845, \"recall\": 0.862500011920929}, {\"truth_threshold\": -2.400356784546271, \"row_count\": 1225.0, \"P\": 80.0, \"N\": 1145.0, \"TP\": 69.0, \"TN\": 1136.0, \"FP\": 9.0, \"FN\": 11.0, \"P_rate\": 0.0, \"N_rate\": 0.9346938729286194, \"TP_rate\": 0.862500011920929, \"TN_rate\": 0.9921397566795349, \"FP_rate\": 0.00786026194691658, \"FN_rate\": 0.13750000298023224, \"precision\": 0.8846153616905212, \"recall\": 0.862500011920929}, {\"truth_threshold\": -2.2131130894101814, \"row_count\": 1225.0, \"P\": 80.0, \"N\": 1145.0, \"TP\": 69.0, \"TN\": 1142.0, \"FP\": 3.0, \"FN\": 11.0, \"P_rate\": 0.0, \"N_rate\": 0.9346938729286194, \"TP_rate\": 0.862500011920929, \"TN_rate\": 0.9973798990249634, \"FP_rate\": 0.0026200872380286455, \"FN_rate\": 0.13750000298023224, \"precision\": 0.9583333134651184, \"recall\": 0.862500011920929}, {\"truth_threshold\": -2.010635319759158, \"row_count\": 1225.0, \"P\": 80.0, \"N\": 1145.0, \"TP\": 69.0, \"TN\": 1144.0, \"FP\": 1.0, \"FN\": 11.0, \"P_rate\": 0.0, \"N_rate\": 0.9346938729286194, \"TP_rate\": 0.862500011920929, \"TN_rate\": 0.9991266131401062, \"FP_rate\": 0.0008733624708838761, \"FN_rate\": 0.13750000298023224, \"precision\": 0.9857142567634583, \"recall\": 0.862500011920929}, {\"truth_threshold\": -1.9330813691038213, \"row_count\": 1225.0, \"P\": 80.0, \"N\": 1145.0, \"TP\": 68.0, \"TN\": 1144.0, \"FP\": 1.0, \"FN\": 12.0, \"P_rate\": 0.0, \"N_rate\": 0.9346938729286194, \"TP_rate\": 0.8500000238418579, \"TN_rate\": 0.9991266131401062, \"FP_rate\": 0.0008733624708838761, \"FN_rate\": 0.15000000596046448, \"precision\": 0.9855072498321533, \"recall\": 0.8500000238418579}, {\"truth_threshold\": -1.8734543493123823, \"row_count\": 1225.0, \"P\": 80.0, \"N\": 1145.0, \"TP\": 67.0, \"TN\": 1144.0, \"FP\": 1.0, \"FN\": 13.0, \"P_rate\": 0.0, \"N_rate\": 0.9346938729286194, \"TP_rate\": 0.8374999761581421, \"TN_rate\": 0.9991266131401062, \"FP_rate\": 0.0008733624708838761, \"FN_rate\": 0.16249999403953552, \"precision\": 0.9852941036224365, \"recall\": 0.8374999761581421}, {\"truth_threshold\": -1.7959003986570452, \"row_count\": 1225.0, \"P\": 80.0, \"N\": 1145.0, \"TP\": 66.0, \"TN\": 1144.0, \"FP\": 1.0, \"FN\": 14.0, \"P_rate\": 0.0, \"N_rate\": 0.9346938729286194, \"TP_rate\": 0.824999988079071, \"TN_rate\": 0.9991266131401062, \"FP_rate\": 0.0008733624708838761, \"FN_rate\": 0.17499999701976776, \"precision\": 0.9850746393203735, \"recall\": 0.824999988079071}, {\"truth_threshold\": -1.5403819939106884, \"row_count\": 1225.0, \"P\": 80.0, \"N\": 1145.0, \"TP\": 65.0, \"TN\": 1144.0, \"FP\": 1.0, \"FN\": 15.0, \"P_rate\": 0.0, \"N_rate\": 0.9346938729286194, \"TP_rate\": 0.8125, \"TN_rate\": 0.9991266131401062, \"FP_rate\": 0.0008733624708838761, \"FN_rate\": 0.1875, \"precision\": 0.9848484992980957, \"recall\": 0.8125}, {\"truth_threshold\": -1.4216000473647052, \"row_count\": 1225.0, \"P\": 80.0, \"N\": 1145.0, \"TP\": 64.0, \"TN\": 1144.0, \"FP\": 1.0, \"FN\": 16.0, \"P_rate\": 0.0, \"N_rate\": 0.9346938729286194, \"TP_rate\": 0.800000011920929, \"TN_rate\": 0.9991266131401062, \"FP_rate\": 0.0008733624708838761, \"FN_rate\": 0.20000000298023224, \"precision\": 0.9846153855323792, \"recall\": 0.800000011920929}, {\"truth_threshold\": -1.232548080749347, \"row_count\": 1225.0, \"P\": 80.0, \"N\": 1145.0, \"TP\": 64.0, \"TN\": 1145.0, \"FP\": 0.0, \"FN\": 16.0, \"P_rate\": 0.0, \"N_rate\": 0.9346938729286194, \"TP_rate\": 0.800000011920929, \"TN_rate\": 1.0, \"FP_rate\": 0.0, \"FN_rate\": 0.20000000298023224, \"precision\": 1.0, \"recall\": 0.800000011920929}, {\"truth_threshold\": -1.1506605291235759, \"row_count\": 1225.0, \"P\": 80.0, \"N\": 1145.0, \"TP\": 63.0, \"TN\": 1145.0, \"FP\": 0.0, \"FN\": 17.0, \"P_rate\": 0.0, \"N_rate\": 0.9346938729286194, \"TP_rate\": 0.7875000238418579, \"TN_rate\": 1.0, \"FP_rate\": 0.0, \"FN_rate\": 0.21250000596046448, \"precision\": 1.0, \"recall\": 0.7875000238418579}, {\"truth_threshold\": -1.073106578468239, \"row_count\": 1225.0, \"P\": 80.0, \"N\": 1145.0, \"TP\": 62.0, \"TN\": 1145.0, \"FP\": 0.0, \"FN\": 18.0, \"P_rate\": 0.0, \"N_rate\": 0.9346938729286194, \"TP_rate\": 0.7749999761581421, \"TN_rate\": 1.0, \"FP_rate\": 0.0, \"FN_rate\": 0.22499999403953552, \"precision\": 1.0, \"recall\": 0.7749999761581421}, {\"truth_threshold\": -1.0134795586767995, \"row_count\": 1225.0, \"P\": 80.0, \"N\": 1145.0, \"TP\": 61.0, \"TN\": 1145.0, \"FP\": 0.0, \"FN\": 19.0, \"P_rate\": 0.0, \"N_rate\": 0.9346938729286194, \"TP_rate\": 0.762499988079071, \"TN_rate\": 1.0, \"FP_rate\": 0.0, \"FN_rate\": 0.23749999701976776, \"precision\": 1.0, \"recall\": 0.762499988079071}, {\"truth_threshold\": -0.7220931192476893, \"row_count\": 1225.0, \"P\": 80.0, \"N\": 1145.0, \"TP\": 58.0, \"TN\": 1145.0, \"FP\": 0.0, \"FN\": 22.0, \"P_rate\": 0.0, \"N_rate\": 0.9346938729286194, \"TP_rate\": 0.7250000238418579, \"TN_rate\": 1.0, \"FP_rate\": 0.0, \"FN_rate\": 0.2750000059604645, \"precision\": 1.0, \"recall\": 0.7250000238418579}, {\"truth_threshold\": -0.07917143900759148, \"row_count\": 1225.0, \"P\": 80.0, \"N\": 1145.0, \"TP\": 56.0, \"TN\": 1145.0, \"FP\": 0.0, \"FN\": 24.0, \"P_rate\": 0.0, \"N_rate\": 0.9346938729286194, \"TP_rate\": 0.699999988079071, \"TN_rate\": 1.0, \"FP_rate\": 0.0, \"FN_rate\": 0.30000001192092896, \"precision\": 1.0, \"recall\": 0.699999988079071}, {\"truth_threshold\": 0.22738169548101195, \"row_count\": 1225.0, \"P\": 80.0, \"N\": 1145.0, \"TP\": 55.0, \"TN\": 1145.0, \"FP\": 0.0, \"FN\": 25.0, \"P_rate\": 0.0, \"N_rate\": 0.9346938729286194, \"TP_rate\": 0.6875, \"TN_rate\": 1.0, \"FP_rate\": 0.0, \"FN_rate\": 0.3125, \"precision\": 1.0, \"recall\": 0.6875}, {\"truth_threshold\": 0.24323781489821147, \"row_count\": 1225.0, \"P\": 80.0, \"N\": 1145.0, \"TP\": 53.0, \"TN\": 1145.0, \"FP\": 0.0, \"FN\": 27.0, \"P_rate\": 0.0, \"N_rate\": 0.9346938729286194, \"TP_rate\": 0.6625000238418579, \"TN_rate\": 1.0, \"FP_rate\": 0.0, \"FN_rate\": 0.3375000059604645, \"precision\": 1.0, \"recall\": 0.6625000238418579}, {\"truth_threshold\": 0.3251253665239824, \"row_count\": 1225.0, \"P\": 80.0, \"N\": 1145.0, \"TP\": 52.0, \"TN\": 1145.0, \"FP\": 0.0, \"FN\": 28.0, \"P_rate\": 0.0, \"N_rate\": 0.9346938729286194, \"TP_rate\": 0.6499999761581421, \"TN_rate\": 1.0, \"FP_rate\": 0.0, \"FN_rate\": 0.3499999940395355, \"precision\": 1.0, \"recall\": 0.6499999761581421}, {\"truth_threshold\": 0.3493959708682951, \"row_count\": 1225.0, \"P\": 80.0, \"N\": 1145.0, \"TP\": 51.0, \"TN\": 1145.0, \"FP\": 0.0, \"FN\": 29.0, \"P_rate\": 0.0, \"N_rate\": 0.9346938729286194, \"TP_rate\": 0.637499988079071, \"TN_rate\": 1.0, \"FP_rate\": 0.0, \"FN_rate\": 0.36250001192092896, \"precision\": 1.0, \"recall\": 0.637499988079071}, {\"truth_threshold\": 1.560384220724427, \"row_count\": 1225.0, \"P\": 80.0, \"N\": 1145.0, \"TP\": 49.0, \"TN\": 1145.0, \"FP\": 0.0, \"FN\": 31.0, \"P_rate\": 0.0, \"N_rate\": 0.9346938729286194, \"TP_rate\": 0.612500011920929, \"TN_rate\": 1.0, \"FP_rate\": 0.0, \"FN_rate\": 0.38749998807907104, \"precision\": 1.0, \"recall\": 0.612500011920929}, {\"truth_threshold\": 1.7031675911285704, \"row_count\": 1225.0, \"P\": 80.0, \"N\": 1145.0, \"TP\": 48.0, \"TN\": 1145.0, \"FP\": 0.0, \"FN\": 32.0, \"P_rate\": 0.0, \"N_rate\": 0.9346938729286194, \"TP_rate\": 0.6000000238418579, \"TN_rate\": 1.0, \"FP_rate\": 0.0, \"FN_rate\": 0.4000000059604645, \"precision\": 1.0, \"recall\": 0.6000000238418579}, {\"truth_threshold\": 2.4203590113600093, \"row_count\": 1225.0, \"P\": 80.0, \"N\": 1145.0, \"TP\": 47.0, \"TN\": 1145.0, \"FP\": 0.0, \"FN\": 33.0, \"P_rate\": 0.0, \"N_rate\": 0.9346938729286194, \"TP_rate\": 0.5874999761581421, \"TN_rate\": 1.0, \"FP_rate\": 0.0, \"FN_rate\": 0.4124999940395355, \"precision\": 1.0, \"recall\": 0.5874999761581421}, {\"truth_threshold\": 5.456389495583867, \"row_count\": 1225.0, \"P\": 80.0, \"N\": 1145.0, \"TP\": 46.0, \"TN\": 1145.0, \"FP\": 0.0, \"FN\": 34.0, \"P_rate\": 0.0, \"N_rate\": 0.9346938729286194, \"TP_rate\": 0.574999988079071, \"TN_rate\": 1.0, \"FP_rate\": 0.0, \"FN_rate\": 0.42500001192092896, \"precision\": 1.0, \"recall\": 0.574999988079071}, {\"truth_threshold\": 6.012331142054929, \"row_count\": 1225.0, \"P\": 80.0, \"N\": 1145.0, \"TP\": 43.0, \"TN\": 1145.0, \"FP\": 0.0, \"FN\": 37.0, \"P_rate\": 0.0, \"N_rate\": 0.9346938729286194, \"TP_rate\": 0.5375000238418579, \"TN_rate\": 1.0, \"FP_rate\": 0.0, \"FN_rate\": 0.4625000059604645, \"precision\": 1.0, \"recall\": 0.5375000238418579}, {\"truth_threshold\": 6.141756088878848, \"row_count\": 1225.0, \"P\": 80.0, \"N\": 1145.0, \"TP\": 42.0, \"TN\": 1145.0, \"FP\": 0.0, \"FN\": 38.0, \"P_rate\": 0.0, \"N_rate\": 0.9346938729286194, \"TP_rate\": 0.5249999761581421, \"TN_rate\": 1.0, \"FP_rate\": 0.0, \"FN_rate\": 0.4749999940395355, \"precision\": 1.0, \"recall\": 0.5249999761581421}, {\"truth_threshold\": 6.156922783938342, \"row_count\": 1225.0, \"P\": 80.0, \"N\": 1145.0, \"TP\": 39.0, \"TN\": 1145.0, \"FP\": 0.0, \"FN\": 41.0, \"P_rate\": 0.0, \"N_rate\": 0.9346938729286194, \"TP_rate\": 0.48750001192092896, \"TN_rate\": 1.0, \"FP_rate\": 0.0, \"FN_rate\": 0.512499988079071, \"precision\": 1.0, \"recall\": 0.48750001192092896}, {\"truth_threshold\": 6.450324635044514, \"row_count\": 1225.0, \"P\": 80.0, \"N\": 1145.0, \"TP\": 38.0, \"TN\": 1145.0, \"FP\": 0.0, \"FN\": 42.0, \"P_rate\": 0.0, \"N_rate\": 0.9346938729286194, \"TP_rate\": 0.4749999940395355, \"TN_rate\": 1.0, \"FP_rate\": 0.0, \"FN_rate\": 0.5249999761581421, \"precision\": 1.0, \"recall\": 0.4749999940395355}, {\"truth_threshold\": 6.667377745439999, \"row_count\": 1225.0, \"P\": 80.0, \"N\": 1145.0, \"TP\": 37.0, \"TN\": 1145.0, \"FP\": 0.0, \"FN\": 43.0, \"P_rate\": 0.0, \"N_rate\": 0.9346938729286194, \"TP_rate\": 0.4625000059604645, \"TN_rate\": 1.0, \"FP_rate\": 0.0, \"FN_rate\": 0.5375000238418579, \"precision\": 1.0, \"recall\": 0.4625000059604645}, {\"truth_threshold\": 7.00173087951443, \"row_count\": 1225.0, \"P\": 80.0, \"N\": 1145.0, \"TP\": 34.0, \"TN\": 1145.0, \"FP\": 0.0, \"FN\": 46.0, \"P_rate\": 0.0, \"N_rate\": 0.9346938729286194, \"TP_rate\": 0.42500001192092896, \"TN_rate\": 1.0, \"FP_rate\": 0.0, \"FN_rate\": 0.574999988079071, \"precision\": 1.0, \"recall\": 0.42500001192092896}, {\"truth_threshold\": 7.300873342566398, \"row_count\": 1225.0, \"P\": 80.0, \"N\": 1145.0, \"TP\": 30.0, \"TN\": 1145.0, \"FP\": 0.0, \"FN\": 50.0, \"P_rate\": 0.0, \"N_rate\": 0.9346938729286194, \"TP_rate\": 0.375, \"TN_rate\": 1.0, \"FP_rate\": 0.0, \"FN_rate\": 0.625, \"precision\": 1.0, \"recall\": 0.375}, {\"truth_threshold\": 7.489925309181756, \"row_count\": 1225.0, \"P\": 80.0, \"N\": 1145.0, \"TP\": 27.0, \"TN\": 1145.0, \"FP\": 0.0, \"FN\": 53.0, \"P_rate\": 0.0, \"N_rate\": 0.9346938729286194, \"TP_rate\": 0.3375000059604645, \"TN_rate\": 1.0, \"FP_rate\": 0.0, \"FN_rate\": 0.6625000238418579, \"precision\": 1.0, \"recall\": 0.3375000059604645}, {\"truth_threshold\": 7.738866835555983, \"row_count\": 1225.0, \"P\": 80.0, \"N\": 1145.0, \"TP\": 25.0, \"TN\": 1145.0, \"FP\": 0.0, \"FN\": 55.0, \"P_rate\": 0.0, \"N_rate\": 0.9346938729286194, \"TP_rate\": 0.3125, \"TN_rate\": 1.0, \"FP_rate\": 0.0, \"FN_rate\": 0.6875, \"precision\": 1.0, \"recall\": 0.3125}, {\"truth_threshold\": 8.000380270683413, \"row_count\": 1225.0, \"P\": 80.0, \"N\": 1145.0, \"TP\": 23.0, \"TN\": 1145.0, \"FP\": 0.0, \"FN\": 57.0, \"P_rate\": 0.0, \"N_rate\": 0.9346938729286194, \"TP_rate\": 0.2874999940395355, \"TN_rate\": 1.0, \"FP_rate\": 0.0, \"FN_rate\": 0.7124999761581421, \"precision\": 1.0, \"recall\": 0.2874999940395355}, {\"truth_threshold\": 8.212719129370562, \"row_count\": 1225.0, \"P\": 80.0, \"N\": 1145.0, \"TP\": 22.0, \"TN\": 1145.0, \"FP\": 0.0, \"FN\": 58.0, \"P_rate\": 0.0, \"N_rate\": 0.9346938729286194, \"TP_rate\": 0.2750000059604645, \"TN_rate\": 1.0, \"FP_rate\": 0.0, \"FN_rate\": 0.7250000238418579, \"precision\": 1.0, \"recall\": 0.2750000059604645}, {\"truth_threshold\": 8.302219153463682, \"row_count\": 1225.0, \"P\": 80.0, \"N\": 1145.0, \"TP\": 20.0, \"TN\": 1145.0, \"FP\": 0.0, \"FN\": 60.0, \"P_rate\": 0.0, \"N_rate\": 0.9346938729286194, \"TP_rate\": 0.25, \"TN_rate\": 1.0, \"FP_rate\": 0.0, \"FN_rate\": 0.75, \"precision\": 1.0, \"recall\": 0.25}, {\"truth_threshold\": 8.949855085412116, \"row_count\": 1225.0, \"P\": 80.0, \"N\": 1145.0, \"TP\": 19.0, \"TN\": 1145.0, \"FP\": 0.0, \"FN\": 61.0, \"P_rate\": 0.0, \"N_rate\": 0.9346938729286194, \"TP_rate\": 0.23749999701976776, \"TN_rate\": 1.0, \"FP_rate\": 0.0, \"FN_rate\": 0.762499988079071, \"precision\": 1.0, \"recall\": 0.23749999701976776}, {\"truth_threshold\": 9.635221678707097, \"row_count\": 1225.0, \"P\": 80.0, \"N\": 1145.0, \"TP\": 17.0, \"TN\": 1145.0, \"FP\": 0.0, \"FN\": 63.0, \"P_rate\": 0.0, \"N_rate\": 0.9346938729286194, \"TP_rate\": 0.21250000596046448, \"TN_rate\": 1.0, \"FP_rate\": 0.0, \"FN_rate\": 0.7875000238418579, \"precision\": 1.0, \"recall\": 0.21250000596046448}, {\"truth_threshold\": 10.495196469342678, \"row_count\": 1225.0, \"P\": 80.0, \"N\": 1145.0, \"TP\": 16.0, \"TN\": 1145.0, \"FP\": 0.0, \"FN\": 64.0, \"P_rate\": 0.0, \"N_rate\": 0.9346938729286194, \"TP_rate\": 0.20000000298023224, \"TN_rate\": 1.0, \"FP_rate\": 0.0, \"FN_rate\": 0.800000011920929, \"precision\": 1.0, \"recall\": 0.20000000298023224}, {\"truth_threshold\": 12.890320685003502, \"row_count\": 1225.0, \"P\": 80.0, \"N\": 1145.0, \"TP\": 15.0, \"TN\": 1145.0, \"FP\": 0.0, \"FN\": 65.0, \"P_rate\": 0.0, \"N_rate\": 0.9346938729286194, \"TP_rate\": 0.1875, \"TN_rate\": 1.0, \"FP_rate\": 0.0, \"FN_rate\": 0.8125, \"precision\": 1.0, \"recall\": 0.1875}, {\"truth_threshold\": 13.401802006742617, \"row_count\": 1225.0, \"P\": 80.0, \"N\": 1145.0, \"TP\": 13.0, \"TN\": 1145.0, \"FP\": 0.0, \"FN\": 67.0, \"P_rate\": 0.0, \"N_rate\": 0.9346938729286194, \"TP_rate\": 0.16249999403953552, \"TN_rate\": 1.0, \"FP_rate\": 0.0, \"FN_rate\": 0.8374999761581421, \"precision\": 1.0, \"recall\": 0.16249999403953552}, {\"truth_threshold\": 14.101308934859633, \"row_count\": 1225.0, \"P\": 80.0, \"N\": 1145.0, \"TP\": 12.0, \"TN\": 1145.0, \"FP\": 0.0, \"FN\": 68.0, \"P_rate\": 0.0, \"N_rate\": 0.9346938729286194, \"TP_rate\": 0.15000000596046448, \"TN_rate\": 1.0, \"FP_rate\": 0.0, \"FN_rate\": 0.8500000238418579, \"precision\": 1.0, \"recall\": 0.15000000596046448}, {\"truth_threshold\": 14.17886288551497, \"row_count\": 1225.0, \"P\": 80.0, \"N\": 1145.0, \"TP\": 11.0, \"TN\": 1145.0, \"FP\": 0.0, \"FN\": 69.0, \"P_rate\": 0.0, \"N_rate\": 0.9346938729286194, \"TP_rate\": 0.13750000298023224, \"TN_rate\": 1.0, \"FP_rate\": 0.0, \"FN_rate\": 0.862500011920929, \"precision\": 1.0, \"recall\": 0.13750000298023224}, {\"truth_threshold\": 14.742215203422669, \"row_count\": 1225.0, \"P\": 80.0, \"N\": 1145.0, \"TP\": 10.0, \"TN\": 1145.0, \"FP\": 0.0, \"FN\": 70.0, \"P_rate\": 0.0, \"N_rate\": 0.9346938729286194, \"TP_rate\": 0.125, \"TN_rate\": 1.0, \"FP_rate\": 0.0, \"FN_rate\": 0.875, \"precision\": 1.0, \"recall\": 0.125}, {\"truth_threshold\": 15.375710800549067, \"row_count\": 1225.0, \"P\": 80.0, \"N\": 1145.0, \"TP\": 9.0, \"TN\": 1145.0, \"FP\": 0.0, \"FN\": 71.0, \"P_rate\": 0.0, \"N_rate\": 0.9346938729286194, \"TP_rate\": 0.11249999701976776, \"TN_rate\": 1.0, \"FP_rate\": 0.0, \"FN_rate\": 0.887499988079071, \"precision\": 1.0, \"recall\": 0.11249999701976776}, {\"truth_threshold\": 15.389851135371103, \"row_count\": 1225.0, \"P\": 80.0, \"N\": 1145.0, \"TP\": 8.0, \"TN\": 1145.0, \"FP\": 0.0, \"FN\": 72.0, \"P_rate\": 0.0, \"N_rate\": 0.9346938729286194, \"TP_rate\": 0.10000000149011612, \"TN_rate\": 1.0, \"FP_rate\": 0.0, \"FN_rate\": 0.8999999761581421, \"precision\": 1.0, \"recall\": 0.10000000149011612}, {\"truth_threshold\": 15.577094830507193, \"row_count\": 1225.0, \"P\": 80.0, \"N\": 1145.0, \"TP\": 7.0, \"TN\": 1145.0, \"FP\": 0.0, \"FN\": 73.0, \"P_rate\": 0.0, \"N_rate\": 0.9346938729286194, \"TP_rate\": 0.08749999850988388, \"TN_rate\": 1.0, \"FP_rate\": 0.0, \"FN_rate\": 0.9125000238418579, \"precision\": 1.0, \"recall\": 0.08749999850988388}, {\"truth_threshold\": 15.598255670569358, \"row_count\": 1225.0, \"P\": 80.0, \"N\": 1145.0, \"TP\": 6.0, \"TN\": 1145.0, \"FP\": 0.0, \"FN\": 74.0, \"P_rate\": 0.0, \"N_rate\": 0.9346938729286194, \"TP_rate\": 0.07500000298023224, \"TN_rate\": 1.0, \"FP_rate\": 0.0, \"FN_rate\": 0.925000011920929, \"precision\": 1.0, \"recall\": 0.07500000298023224}, {\"truth_threshold\": 17.024692543394785, \"row_count\": 1225.0, \"P\": 80.0, \"N\": 1145.0, \"TP\": 5.0, \"TN\": 1145.0, \"FP\": 0.0, \"FN\": 75.0, \"P_rate\": 0.0, \"N_rate\": 0.9346938729286194, \"TP_rate\": 0.0625, \"TN_rate\": 1.0, \"FP_rate\": 0.0, \"FN_rate\": 0.9375, \"precision\": 1.0, \"recall\": 0.0625}, {\"truth_threshold\": 23.46468859335377, \"row_count\": 1225.0, \"P\": 80.0, \"N\": 1145.0, \"TP\": 4.0, \"TN\": 1145.0, \"FP\": 0.0, \"FN\": 76.0, \"P_rate\": 0.0, \"N_rate\": 0.9346938729286194, \"TP_rate\": 0.05000000074505806, \"TN_rate\": 1.0, \"FP_rate\": 0.0, \"FN_rate\": 0.949999988079071, \"precision\": 1.0, \"recall\": 0.05000000074505806}, {\"truth_threshold\": 27.053174621750692, \"row_count\": 1225.0, \"P\": 80.0, \"N\": 1145.0, \"TP\": 3.0, \"TN\": 1145.0, \"FP\": 0.0, \"FN\": 77.0, \"P_rate\": 0.0, \"N_rate\": 0.9346938729286194, \"TP_rate\": 0.03750000149011612, \"TN_rate\": 1.0, \"FP_rate\": 0.0, \"FN_rate\": 0.9624999761581421, \"precision\": 1.0, \"recall\": 0.03750000149011612}]}, \"mark\": {\"type\": \"line\", \"clip\": true, \"point\": true}, \"encoding\": {\"tooltip\": [{\"type\": \"quantitative\", \"field\": \"truth_threshold\", \"format\": \".4f\"}, {\"type\": \"quantitative\", \"field\": \"FP_rate\", \"format\": \".4f\"}, {\"type\": \"quantitative\", \"field\": \"TP_rate\", \"format\": \".4f\"}, {\"type\": \"quantitative\", \"field\": \"TP\", \"format\": \",.0f\"}, {\"type\": \"quantitative\", \"field\": \"TN\", \"format\": \",.0f\"}, {\"type\": \"quantitative\", \"field\": \"FP\", \"format\": \",.0f\"}, {\"type\": \"quantitative\", \"field\": \"FN\", \"format\": \",.0f\"}, {\"type\": \"quantitative\", \"field\": \"precision\", \"format\": \".4f\"}, {\"type\": \"quantitative\", \"field\": \"recall\", \"format\": \".4f\"}], \"x\": {\"type\": \"quantitative\", \"field\": \"FP_rate\", \"sort\": [\"truth_threshold\"], \"title\": \"False Positive Rate amongst clerically reviewed records\"}, \"y\": {\"type\": \"quantitative\", \"field\": \"TP_rate\", \"sort\": [\"truth_threshold\"], \"title\": \"True Positive Rate amongst clerically reviewed records\"}}, \"selection\": {\"selector076\": {\"type\": \"interval\", \"bind\": \"scales\", \"encodings\": [\"x\"]}}}, {\"mode\": \"vega-lite\"});\n",
       "</script>"
      ],
      "text/plain": [
       "<altair.vegalite.v4.display.VegaLite at 0x7face9186790>"
      ]
     },
     "metadata": {},
     "output_type": "display_data"
    }
   ],
   "source": [
    "linker.con.register(\"labels\", df_labels)\n",
    "\n",
    "c = linker.roc_from_labels(\"labels\")"
   ]
  },
  {
   "cell_type": "markdown",
   "metadata": {},
   "source": [
    "### Step 10: Splink comparison viewer\n",
    "\n",
    "Create a [splink_comparison_viewer](https://www.youtube.com/watch?v=DNvCMqjipis) interactive dashboard and display in an iframe"
   ]
  },
  {
   "cell_type": "code",
   "execution_count": 16,
   "metadata": {},
   "outputs": [
    {
     "data": {
      "text/html": [
       "\n",
       "        <iframe\n",
       "            width=\"1400\"\n",
       "            height=\"1200\"\n",
       "            src=\"./scv.html\"\n",
       "            frameborder=\"0\"\n",
       "            allowfullscreen\n",
       "            \n",
       "        ></iframe>\n",
       "        "
      ],
      "text/plain": [
       "<IPython.lib.display.IFrame at 0x7face536f7c0>"
      ]
     },
     "execution_count": 16,
     "metadata": {},
     "output_type": "execute_result"
    }
   ],
   "source": [
    "linker.splink_comparison_viewer(df_predictions, \"scv.html\", True,2)\n",
    "\n",
    "from IPython.display import IFrame\n",
    "\n",
    "IFrame(\n",
    "    src=\"./scv.html\", width=1400, height=1200\n",
    ")  "
   ]
  },
  {
   "cell_type": "code",
   "execution_count": null,
   "metadata": {},
   "outputs": [],
   "source": []
  }
 ],
 "metadata": {
  "interpreter": {
   "hash": "b7acd20079f690b8e4bd301d8b4d6cf58b4dbf05063e13f3b39ce70fc3c4110c"
  },
  "kernelspec": {
   "display_name": "Python 3 (ipykernel)",
   "language": "python",
   "name": "python3"
  },
  "language_info": {
   "codemirror_mode": {
    "name": "ipython",
    "version": 3
   },
   "file_extension": ".py",
   "mimetype": "text/x-python",
   "name": "python",
   "nbconvert_exporter": "python",
   "pygments_lexer": "ipython3",
   "version": "3.8.3"
  }
 },
 "nbformat": 4,
 "nbformat_minor": 4
}
