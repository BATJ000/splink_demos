{
 "cells": [
  {
   "cell_type": "markdown",
   "metadata": {},
   "source": [
    "## Quickstart deduplication demo \n",
    "\n",
    "In this demo we de-duplicate a small dataset.\n",
    "\n",
    "The purpose is to demonstrate core Splink functionality as quickly as possible.\n",
    "\n",
    "A more comprehensive, end to end example is provided elsewhere"
   ]
  },
  {
   "cell_type": "markdown",
   "metadata": {},
   "source": [
    "## Step 1:  Imports and setup\n",
    "\n",
    "The following is just boilerplate code that sets up the Spark session and sets some other non-essential configuration options"
   ]
  },
  {
   "cell_type": "code",
   "execution_count": 1,
   "metadata": {},
   "outputs": [
    {
     "data": {
      "text/plain": [
       "RendererRegistry.enable('mimetype')"
      ]
     },
     "execution_count": 1,
     "metadata": {},
     "output_type": "execute_result"
    }
   ],
   "source": [
    "import altair as alt\n",
    "import pandas as pd\n",
    "\n",
    "pd.options.display.max_columns = 500\n",
    "pd.options.display.max_rows = 100\n",
    "alt.renderers.enable(\"mimetype\")"
   ]
  },
  {
   "cell_type": "code",
   "execution_count": 2,
   "metadata": {},
   "outputs": [],
   "source": [
    "import logging\n",
    "\n",
    "logging.basicConfig()  # Means logs will print in Jupyter Lab\n",
    "\n",
    "# Set to DEBUG if you want splink to log the SQL statements it's executing under the hood\n",
    "logging.getLogger(\"splink\").setLevel(logging.INFO)"
   ]
  },
  {
   "cell_type": "code",
   "execution_count": 3,
   "metadata": {},
   "outputs": [],
   "source": [
    "from utility_functions.demo_utils import get_spark\n",
    "\n",
    "spark = get_spark()  # See utility_functions/demo_utils.py for how to set up Spark"
   ]
  },
  {
   "cell_type": "markdown",
   "metadata": {},
   "source": [
    "## Step 2:  Read in data"
   ]
  },
  {
   "cell_type": "markdown",
   "metadata": {},
   "source": [
    "Note that the `group` column is the truth - rows which share the same value refer to the same person.  In the real world, we wouldn't have this field!"
   ]
  },
  {
   "cell_type": "code",
   "execution_count": 4,
   "metadata": {},
   "outputs": [
    {
     "name": "stdout",
     "output_type": "stream",
     "text": [
      "+---------+----------+-------+----------+------+--------------------+-----+\n",
      "|unique_id|first_name|surname|       dob|  city|               email|group|\n",
      "+---------+----------+-------+----------+------+--------------------+-----+\n",
      "|        0|    Julia |   null|2015-10-29|London| hannah88@powers.com|    0|\n",
      "|        1|    Julia | Taylor|2015-07-31|London| hannah88@powers.com|    0|\n",
      "|        2|    Julia | Taylor|2016-01-27|London| hannah88@powers.com|    0|\n",
      "|        3|    Julia | Taylor|2015-10-29|  null|  hannah88opowersc@m|    0|\n",
      "|        4|      oNah| Watson|2008-03-23|Bolton|matthew78@ballard...|    1|\n",
      "+---------+----------+-------+----------+------+--------------------+-----+\n",
      "only showing top 5 rows\n",
      "\n"
     ]
    }
   ],
   "source": [
    "df = spark.read.parquet(\"data/fake_1000.parquet\")\n",
    "df.show(5)"
   ]
  },
  {
   "cell_type": "markdown",
   "metadata": {},
   "source": [
    "## Step 3:  Configure splink using the `settings` object\n",
    "\n",
    "Most of `splink` configuration options are stored in a settings dictionary.  This dictionary allows significant customisation, and can therefore get quite complex.  \n",
    "\n",
    "💥 We provide an tool for helping to author valid settings dictionaries, which includes tooltips and autocomplete, which you can find [here](http://robinlinacre.com/splink_settings_editor/).\n",
    "\n",
    "Customisation overrides default values built into splink.  For the purposes of this demo, we will specify a simple settings dictionary, which means we will be relying on these sensible defaults.\n",
    "\n",
    "To help with authoring and validation of the settings dictionary, we have written a [json schema](https://json-schema.org/), which can be found [here](https://github.com/moj-analytical-services/splink/blob/master/splink/files/settings_jsonschema.json).  \n",
    "\n",
    "\n"
   ]
  },
  {
   "cell_type": "code",
   "execution_count": 5,
   "metadata": {},
   "outputs": [],
   "source": [
    "settings = {\n",
    "    \"link_type\": \"dedupe_only\",\n",
    "    \"blocking_rules\": [\"l.surname = r.surname\"],\n",
    "    \"comparison_columns\": [\n",
    "        {\"col_name\": \"first_name\", \"num_levels\": 3, \"term_frequency_adjustments\": True},\n",
    "        {\"col_name\": \"dob\"},\n",
    "        {\"col_name\": \"city\"},\n",
    "        {\"col_name\": \"email\"},\n",
    "    ],\n",
    "    \"additional_columns_to_retain\": [\"group\"],\n",
    "    \"em_convergence\": 0.01,\n",
    "    \"max_iterations\":4\n",
    "}"
   ]
  },
  {
   "cell_type": "markdown",
   "metadata": {},
   "source": [
    "In words, this setting dictionary says:\n",
    "- We are performing a deduplication task (the other options are `link_only`, or `link_and_dedupe`)\n",
    "- We are going generate comparisons subject to the blocking rules contained in the specified array\n",
    "- When comparing records, we will use information from the `first_name`, `dob`, `city` and `email` columns to compute a match score.\n",
    "- For `first_name` and `surname`, string comparisons will have three levels:\n",
    "    - Level 2: Strings are (almost) exactly the same\n",
    "    - Level 1: Strings are similar \n",
    "    - Level 0: No match\n",
    "- We will make adjustments for term frequencies on the `first_name` columns\n",
    "- We will retain the `group` column in the results even though this is not used as part of comparisons.  This is a labelled dataset and `group` contains the true match - i.e. where group matches, the records pertain to the same person\n",
    "- Consider the algorithm to have converged when no parameter changes by more than 0.01 between iterations"
   ]
  },
  {
   "cell_type": "markdown",
   "metadata": {},
   "source": [
    "## Step 4:  Estimate match scores using the Expectation Maximisation algorithm\n",
    "Columns are assumed to be strings by default.  See the 'comparison vector settings' notebook for details of configuration options."
   ]
  },
  {
   "cell_type": "code",
   "execution_count": 6,
   "metadata": {},
   "outputs": [
    {
     "name": "stderr",
     "output_type": "stream",
     "text": [
      "INFO:splink.iterate:Iteration 0 complete\n",
      "INFO:splink.model:The maximum change in parameters was 0.1744965195655822 for key first_name, level 0\n",
      "INFO:splink.iterate:Iteration 1 complete\n",
      "INFO:splink.model:The maximum change in parameters was 0.060136497020721436 for key city, level 0\n",
      "INFO:splink.iterate:Iteration 2 complete\n",
      "INFO:splink.model:The maximum change in parameters was 0.02684040367603302 for key email, level 0\n",
      "INFO:splink.iterate:Iteration 3 complete\n",
      "INFO:splink.model:The maximum change in parameters was 0.02105182409286499 for key email, level 1\n"
     ]
    }
   ],
   "source": [
    "from splink import Splink\n",
    "\n",
    "linker = Splink(settings, df, spark)\n",
    "df_e = linker.get_scored_comparisons()"
   ]
  },
  {
   "cell_type": "markdown",
   "metadata": {},
   "source": [
    "## Step 5: Inspect results \n",
    "\n"
   ]
  },
  {
   "cell_type": "code",
   "execution_count": 7,
   "metadata": {},
   "outputs": [
    {
     "data": {
      "text/html": [
       "<div>\n",
       "<style scoped>\n",
       "    .dataframe tbody tr th:only-of-type {\n",
       "        vertical-align: middle;\n",
       "    }\n",
       "\n",
       "    .dataframe tbody tr th {\n",
       "        vertical-align: top;\n",
       "    }\n",
       "\n",
       "    .dataframe thead th {\n",
       "        text-align: right;\n",
       "    }\n",
       "</style>\n",
       "<table border=\"1\" class=\"dataframe\">\n",
       "  <thead>\n",
       "    <tr style=\"text-align: right;\">\n",
       "      <th></th>\n",
       "      <th>match_probability</th>\n",
       "      <th>unique_id_l</th>\n",
       "      <th>unique_id_r</th>\n",
       "      <th>group_l</th>\n",
       "      <th>group_r</th>\n",
       "      <th>first_name_l</th>\n",
       "      <th>first_name_r</th>\n",
       "      <th>dob_l</th>\n",
       "      <th>dob_r</th>\n",
       "      <th>city_l</th>\n",
       "      <th>city_r</th>\n",
       "      <th>email_l</th>\n",
       "      <th>email_r</th>\n",
       "    </tr>\n",
       "  </thead>\n",
       "  <tbody>\n",
       "    <tr>\n",
       "      <th>39</th>\n",
       "      <td>0.998854</td>\n",
       "      <td>1</td>\n",
       "      <td>2</td>\n",
       "      <td>0</td>\n",
       "      <td>0</td>\n",
       "      <td>Julia</td>\n",
       "      <td>Julia</td>\n",
       "      <td>2015-07-31</td>\n",
       "      <td>2016-01-27</td>\n",
       "      <td>London</td>\n",
       "      <td>London</td>\n",
       "      <td>hannah88@powers.com</td>\n",
       "      <td>hannah88@powers.com</td>\n",
       "    </tr>\n",
       "    <tr>\n",
       "      <th>38</th>\n",
       "      <td>0.352016</td>\n",
       "      <td>1</td>\n",
       "      <td>3</td>\n",
       "      <td>0</td>\n",
       "      <td>0</td>\n",
       "      <td>Julia</td>\n",
       "      <td>Julia</td>\n",
       "      <td>2015-07-31</td>\n",
       "      <td>2015-10-29</td>\n",
       "      <td>London</td>\n",
       "      <td>None</td>\n",
       "      <td>hannah88@powers.com</td>\n",
       "      <td>hannah88opowersc@m</td>\n",
       "    </tr>\n",
       "    <tr>\n",
       "      <th>37</th>\n",
       "      <td>0.023655</td>\n",
       "      <td>1</td>\n",
       "      <td>89</td>\n",
       "      <td>0</td>\n",
       "      <td>18</td>\n",
       "      <td>Julia</td>\n",
       "      <td>Chirla</td>\n",
       "      <td>2015-07-31</td>\n",
       "      <td>2006-06-28</td>\n",
       "      <td>London</td>\n",
       "      <td>London</td>\n",
       "      <td>hannah88@powers.com</td>\n",
       "      <td>mbrooks@booker.com</td>\n",
       "    </tr>\n",
       "    <tr>\n",
       "      <th>36</th>\n",
       "      <td>0.023655</td>\n",
       "      <td>1</td>\n",
       "      <td>142</td>\n",
       "      <td>0</td>\n",
       "      <td>26</td>\n",
       "      <td>Julia</td>\n",
       "      <td>Harry</td>\n",
       "      <td>2015-07-31</td>\n",
       "      <td>2017-11-24</td>\n",
       "      <td>London</td>\n",
       "      <td>London</td>\n",
       "      <td>hannah88@powers.com</td>\n",
       "      <td>coltonray@lee.com</td>\n",
       "    </tr>\n",
       "    <tr>\n",
       "      <th>35</th>\n",
       "      <td>0.023655</td>\n",
       "      <td>1</td>\n",
       "      <td>148</td>\n",
       "      <td>0</td>\n",
       "      <td>26</td>\n",
       "      <td>Julia</td>\n",
       "      <td>Harry</td>\n",
       "      <td>2015-07-31</td>\n",
       "      <td>2017-09-01</td>\n",
       "      <td>London</td>\n",
       "      <td>London</td>\n",
       "      <td>hannah88@powers.com</td>\n",
       "      <td>coltonray@lee.com</td>\n",
       "    </tr>\n",
       "    <tr>\n",
       "      <th>34</th>\n",
       "      <td>0.149882</td>\n",
       "      <td>1</td>\n",
       "      <td>362</td>\n",
       "      <td>0</td>\n",
       "      <td>62</td>\n",
       "      <td>Julia</td>\n",
       "      <td>None</td>\n",
       "      <td>2015-07-31</td>\n",
       "      <td>1989-07-25</td>\n",
       "      <td>London</td>\n",
       "      <td>London</td>\n",
       "      <td>hannah88@powers.com</td>\n",
       "      <td>wagnershane@landry.com</td>\n",
       "    </tr>\n",
       "    <tr>\n",
       "      <th>33</th>\n",
       "      <td>0.023655</td>\n",
       "      <td>1</td>\n",
       "      <td>363</td>\n",
       "      <td>0</td>\n",
       "      <td>62</td>\n",
       "      <td>Julia</td>\n",
       "      <td>Nancy</td>\n",
       "      <td>2015-07-31</td>\n",
       "      <td>1989-07-25</td>\n",
       "      <td>London</td>\n",
       "      <td>London</td>\n",
       "      <td>hannah88@powers.com</td>\n",
       "      <td>wagnershane@landry.com</td>\n",
       "    </tr>\n",
       "    <tr>\n",
       "      <th>32</th>\n",
       "      <td>0.023655</td>\n",
       "      <td>1</td>\n",
       "      <td>364</td>\n",
       "      <td>0</td>\n",
       "      <td>62</td>\n",
       "      <td>Julia</td>\n",
       "      <td>Nancy</td>\n",
       "      <td>2015-07-31</td>\n",
       "      <td>1989-07-25</td>\n",
       "      <td>London</td>\n",
       "      <td>London</td>\n",
       "      <td>hannah88@powers.com</td>\n",
       "      <td>wagnershane@landry.com</td>\n",
       "    </tr>\n",
       "    <tr>\n",
       "      <th>31</th>\n",
       "      <td>0.023655</td>\n",
       "      <td>1</td>\n",
       "      <td>365</td>\n",
       "      <td>0</td>\n",
       "      <td>62</td>\n",
       "      <td>Julia</td>\n",
       "      <td>Nancy</td>\n",
       "      <td>2015-07-31</td>\n",
       "      <td>1989-08-19</td>\n",
       "      <td>London</td>\n",
       "      <td>London</td>\n",
       "      <td>hannah88@powers.com</td>\n",
       "      <td>wagnershane@landry.com</td>\n",
       "    </tr>\n",
       "    <tr>\n",
       "      <th>30</th>\n",
       "      <td>0.023655</td>\n",
       "      <td>1</td>\n",
       "      <td>367</td>\n",
       "      <td>0</td>\n",
       "      <td>62</td>\n",
       "      <td>Julia</td>\n",
       "      <td>Nacy</td>\n",
       "      <td>2015-07-31</td>\n",
       "      <td>1989-07-25</td>\n",
       "      <td>London</td>\n",
       "      <td>London</td>\n",
       "      <td>hannah88@powers.com</td>\n",
       "      <td>wagnershane@landry.com</td>\n",
       "    </tr>\n",
       "  </tbody>\n",
       "</table>\n",
       "</div>"
      ],
      "text/plain": [
       "    match_probability  unique_id_l  unique_id_r  group_l  group_r  \\\n",
       "39           0.998854            1            2        0        0   \n",
       "38           0.352016            1            3        0        0   \n",
       "37           0.023655            1           89        0       18   \n",
       "36           0.023655            1          142        0       26   \n",
       "35           0.023655            1          148        0       26   \n",
       "34           0.149882            1          362        0       62   \n",
       "33           0.023655            1          363        0       62   \n",
       "32           0.023655            1          364        0       62   \n",
       "31           0.023655            1          365        0       62   \n",
       "30           0.023655            1          367        0       62   \n",
       "\n",
       "   first_name_l first_name_r       dob_l       dob_r  city_l  city_r  \\\n",
       "39       Julia        Julia   2015-07-31  2016-01-27  London  London   \n",
       "38       Julia        Julia   2015-07-31  2015-10-29  London    None   \n",
       "37       Julia       Chirla   2015-07-31  2006-06-28  London  London   \n",
       "36       Julia        Harry   2015-07-31  2017-11-24  London  London   \n",
       "35       Julia        Harry   2015-07-31  2017-09-01  London  London   \n",
       "34       Julia          None  2015-07-31  1989-07-25  London  London   \n",
       "33       Julia        Nancy   2015-07-31  1989-07-25  London  London   \n",
       "32       Julia        Nancy   2015-07-31  1989-07-25  London  London   \n",
       "31       Julia        Nancy   2015-07-31  1989-08-19  London  London   \n",
       "30       Julia         Nacy   2015-07-31  1989-07-25  London  London   \n",
       "\n",
       "                email_l                 email_r  \n",
       "39  hannah88@powers.com     hannah88@powers.com  \n",
       "38  hannah88@powers.com      hannah88opowersc@m  \n",
       "37  hannah88@powers.com      mbrooks@booker.com  \n",
       "36  hannah88@powers.com       coltonray@lee.com  \n",
       "35  hannah88@powers.com       coltonray@lee.com  \n",
       "34  hannah88@powers.com  wagnershane@landry.com  \n",
       "33  hannah88@powers.com  wagnershane@landry.com  \n",
       "32  hannah88@powers.com  wagnershane@landry.com  \n",
       "31  hannah88@powers.com  wagnershane@landry.com  \n",
       "30  hannah88@powers.com  wagnershane@landry.com  "
      ]
     },
     "execution_count": 7,
     "metadata": {},
     "output_type": "execute_result"
    }
   ],
   "source": [
    "# Inspect main dataframe that contains the match scores\n",
    "cols_to_inspect = [\n",
    "    \"match_probability\",\n",
    "    \"unique_id_l\",\n",
    "    \"unique_id_r\",\n",
    "    \"group_l\",\n",
    "    \"group_r\",\n",
    "    \"first_name_l\",\n",
    "    \"first_name_r\",\n",
    "    \"dob_l\",\n",
    "    \"dob_r\",\n",
    "    \"city_l\",\n",
    "    \"city_r\",\n",
    "    \"email_l\",\n",
    "    \"email_r\",\n",
    "]\n",
    "df_e.toPandas()[cols_to_inspect].sort_values([\"unique_id_l\", \"unique_id_r\"]).head(10)"
   ]
  },
  {
   "cell_type": "markdown",
   "metadata": {},
   "source": [
    "The `model` property of the `linker` is an object that contains a lot of diagnostic information about how the match probability was computed.  The following cells demonstrate some of its functionality"
   ]
  },
  {
   "cell_type": "code",
   "execution_count": 8,
   "metadata": {},
   "outputs": [
    {
     "data": {
      "application/vnd.vegalite.v4+json": {
       "$schema": "https://vega.github.io/schema/vega-lite/v4.json",
       "config": {
        "header": {
         "title": null
        },
        "mark": {
         "tooltip": null
        },
        "title": {
         "anchor": "middle"
        },
        "view": {
         "continuousHeight": 300,
         "continuousWidth": 400,
         "height": 300,
         "width": 400
        }
       },
       "data": {
        "name": "data-b3fcb1d53f99d93100d09d3d228a66e3"
       },
       "datasets": {
        "data-b3fcb1d53f99d93100d09d3d228a66e3": [
         {
          "bayes_factor": 0.1374231753813372,
          "column_name": "first_name",
          "gamma_column_name": "gamma_first_name",
          "gamma_index": 0,
          "level_name": "level_0",
          "level_proportion": 0.6971213523526014,
          "log2_bayes_factor": -2.8633027705837035,
          "m_probability": 0.13036057353019714,
          "max_gamma_index": 2,
          "num_levels": 3,
          "u_probability": 0.9486069083213806
         },
         {
          "bayes_factor": 36.73544035501178,
          "column_name": "first_name",
          "gamma_column_name": "gamma_first_name",
          "gamma_index": 1,
          "level_name": "level_1",
          "level_proportion": 0.06055987234103197,
          "log2_bayes_factor": 5.199100663485746,
          "m_probability": 0.18565134704113007,
          "max_gamma_index": 2,
          "num_levels": 3,
          "u_probability": 0.005053739529103041
         },
         {
          "bayes_factor": 14.760421637543493,
          "column_name": "first_name",
          "gamma_column_name": "gamma_first_name",
          "gamma_index": 2,
          "level_name": "level_2",
          "level_proportion": 0.2423187666619846,
          "log2_bayes_factor": 3.8836620280542946,
          "m_probability": 0.683988094329834,
          "max_gamma_index": 2,
          "num_levels": 3,
          "u_probability": 0.046339333057403564
         },
         {
          "bayes_factor": 0.3002248907910836,
          "column_name": "dob",
          "gamma_column_name": "gamma_dob",
          "gamma_index": 0,
          "level_name": "level_0",
          "level_proportion": 0.7751815542736562,
          "log2_bayes_factor": -1.7358845032311312,
          "m_probability": 0.2964976727962494,
          "max_gamma_index": 1,
          "num_levels": 2,
          "u_probability": 0.9875852465629578
         },
         {
          "bayes_factor": 56.66672873116338,
          "column_name": "dob",
          "gamma_column_name": "gamma_dob",
          "gamma_index": 1,
          "level_name": "level_1",
          "level_proportion": 0.22481844133924728,
          "log2_bayes_factor": 5.824430015535826,
          "m_probability": 0.703502357006073,
          "max_gamma_index": 1,
          "num_levels": 2,
          "u_probability": 0.01241473387926817
         },
         {
          "bayes_factor": 0.3407214023104595,
          "column_name": "city",
          "gamma_column_name": "gamma_city",
          "gamma_index": 0,
          "level_name": "level_0",
          "level_proportion": 0.679231077855535,
          "log2_bayes_factor": -1.5533355221599467,
          "m_probability": 0.2902388870716095,
          "max_gamma_index": 1,
          "num_levels": 2,
          "u_probability": 0.8518363833427429
         },
         {
          "bayes_factor": 4.790387055617402,
          "column_name": "city",
          "gamma_column_name": "gamma_city",
          "gamma_index": 1,
          "level_name": "level_1",
          "level_proportion": 0.32076894162545333,
          "log2_bayes_factor": 2.2601422281243204,
          "m_probability": 0.7097611427307129,
          "max_gamma_index": 1,
          "num_levels": 2,
          "u_probability": 0.14816363155841827
         },
         {
          "bayes_factor": 0.2762730391214495,
          "column_name": "email",
          "gamma_column_name": "gamma_email",
          "gamma_index": 0,
          "level_name": "level_0",
          "level_proportion": 0.7714647533927756,
          "log2_bayes_factor": -1.8558333153052693,
          "m_probability": 0.2741056978702545,
          "max_gamma_index": 1,
          "num_levels": 2,
          "u_probability": 0.9921550750732422
         },
         {
          "bayes_factor": 92.53029761251821,
          "column_name": "email",
          "gamma_column_name": "gamma_email",
          "gamma_index": 1,
          "level_name": "level_1",
          "level_proportion": 0.2285352451885705,
          "log2_bayes_factor": 6.531853926012887,
          "m_probability": 0.7258942723274231,
          "max_gamma_index": 1,
          "num_levels": 2,
          "u_probability": 0.007844936102628708
         }
        ]
       },
       "encoding": {
        "color": {
         "field": "log2_bayes_factor",
         "scale": {
          "domain": [
           -10,
           0,
           10
          ],
          "range": [
           "red",
           "orange",
           "green"
          ]
         },
         "type": "quantitative"
        },
        "row": {
         "field": "column_name",
         "header": {
          "labelAlign": "left",
          "labelAnchor": "middle",
          "labelAngle": 0
         },
         "sort": {
          "field": "gamma_index"
         },
         "type": "nominal"
        },
        "tooltip": [
         {
          "field": "column_name",
          "type": "nominal"
         },
         {
          "field": "level_name",
          "type": "ordinal"
         },
         {
          "field": "m_probability",
          "format": ".4f",
          "type": "quantitative"
         },
         {
          "field": "bayes_factor",
          "format": ".4f",
          "type": "quantitative"
         },
         {
          "field": "level_proportion",
          "format": ".2%",
          "title": "Percentage of record comparisons in this level",
          "type": "nominal"
         },
         {
          "field": "log2_bayes_factor",
          "format": ".4f",
          "title": "log2(Bayes factor, K = m/u)",
          "type": "quantitative"
         }
        ],
        "x": {
         "axis": {
          "title": "log2(Bayes factor, K = m/u)",
          "values": [
           -10,
           -5,
           0,
           5,
           10
          ]
         },
         "field": "log2_bayes_factor",
         "scale": {
          "domain": [
           -10,
           10
          ]
         },
         "type": "quantitative"
        },
        "y": {
         "axis": {
          "title": null
         },
         "field": "level_name",
         "type": "nominal"
        }
       },
       "height": 50,
       "mark": {
        "clip": true,
        "type": "bar"
       },
       "resolve": {
        "scale": {
         "y": "independent"
        }
       },
       "selection": {
        "selector076": {
         "bind": "scales",
         "encodings": [
          "x"
         ],
         "type": "interval"
        }
       },
       "title": {
        "subtitle": "Use mousewheeel to zoom",
        "text": "Influence of comparison vector values on match probability"
       }
      },
      "image/png": "[encoded data removed]",
      "text/plain": [
       "<VegaLite 4 object>\n",
       "\n",
       "If you see this message, it means the renderer has not been properly enabled\n",
       "for the frontend that you are using. For more information, see\n",
       "https://altair-viz.github.io/user_guide/troubleshooting.html\n"
      ]
     },
     "execution_count": 8,
     "metadata": {},
     "output_type": "execute_result"
    }
   ],
   "source": [
    "model = linker.model\n",
    "model.bayes_factor_chart()"
   ]
  },
  {
   "cell_type": "code",
   "execution_count": 9,
   "metadata": {},
   "outputs": [],
   "source": [
    "# If charts aren't displaying correctly in your notebook, you can write them to a file (by default splink_charts.html)\n",
    "model.all_charts_write_html_file(filename=\"splink_charts.html\", overwrite=True)"
   ]
  },
  {
   "cell_type": "markdown",
   "metadata": {},
   "source": [
    "You can also generate a report which explains how the match probability was computed for an individual comparison row.  \n",
    "\n",
    "Note that you need to convert the row to a dictionary for this to work"
   ]
  },
  {
   "cell_type": "markdown",
   "metadata": {},
   "source": [
    "# Use graphframes to resolve links into groups"
   ]
  },
  {
   "cell_type": "code",
   "execution_count": 10,
   "metadata": {},
   "outputs": [
    {
     "data": {
      "text/html": [
       "<div>\n",
       "<style scoped>\n",
       "    .dataframe tbody tr th:only-of-type {\n",
       "        vertical-align: middle;\n",
       "    }\n",
       "\n",
       "    .dataframe tbody tr th {\n",
       "        vertical-align: top;\n",
       "    }\n",
       "\n",
       "    .dataframe thead th {\n",
       "        text-align: right;\n",
       "    }\n",
       "</style>\n",
       "<table border=\"1\" class=\"dataframe\">\n",
       "  <thead>\n",
       "    <tr style=\"text-align: right;\">\n",
       "      <th></th>\n",
       "      <th>estimated_group</th>\n",
       "      <th>unique_id</th>\n",
       "      <th>first_name</th>\n",
       "      <th>surname</th>\n",
       "      <th>dob</th>\n",
       "      <th>city</th>\n",
       "      <th>email</th>\n",
       "      <th>group</th>\n",
       "    </tr>\n",
       "  </thead>\n",
       "  <tbody>\n",
       "    <tr>\n",
       "      <th>0</th>\n",
       "      <td>1</td>\n",
       "      <td>2</td>\n",
       "      <td>Julia</td>\n",
       "      <td>Taylor</td>\n",
       "      <td>2016-01-27</td>\n",
       "      <td>London</td>\n",
       "      <td>hannah88@powers.com</td>\n",
       "      <td>0</td>\n",
       "    </tr>\n",
       "    <tr>\n",
       "      <th>1</th>\n",
       "      <td>1</td>\n",
       "      <td>1</td>\n",
       "      <td>Julia</td>\n",
       "      <td>Taylor</td>\n",
       "      <td>2015-07-31</td>\n",
       "      <td>London</td>\n",
       "      <td>hannah88@powers.com</td>\n",
       "      <td>0</td>\n",
       "    </tr>\n",
       "    <tr>\n",
       "      <th>2</th>\n",
       "      <td>3</td>\n",
       "      <td>3</td>\n",
       "      <td>Julia</td>\n",
       "      <td>Taylor</td>\n",
       "      <td>2015-10-29</td>\n",
       "      <td>None</td>\n",
       "      <td>hannah88opowersc@m</td>\n",
       "      <td>0</td>\n",
       "    </tr>\n",
       "    <tr>\n",
       "      <th>3</th>\n",
       "      <td>4</td>\n",
       "      <td>4</td>\n",
       "      <td>oNah</td>\n",
       "      <td>Watson</td>\n",
       "      <td>2008-03-23</td>\n",
       "      <td>Bolton</td>\n",
       "      <td>matthew78@ballard-mcdonald.net</td>\n",
       "      <td>1</td>\n",
       "    </tr>\n",
       "    <tr>\n",
       "      <th>4</th>\n",
       "      <td>4</td>\n",
       "      <td>5</td>\n",
       "      <td>Noah</td>\n",
       "      <td>Watson</td>\n",
       "      <td>2008-03-23</td>\n",
       "      <td>Bolton</td>\n",
       "      <td>matthew78@ballard-mcdonald.net</td>\n",
       "      <td>1</td>\n",
       "    </tr>\n",
       "    <tr>\n",
       "      <th>5</th>\n",
       "      <td>6</td>\n",
       "      <td>6</td>\n",
       "      <td>Watson</td>\n",
       "      <td>Noah</td>\n",
       "      <td>2008-03-23</td>\n",
       "      <td>None</td>\n",
       "      <td>matthew78@ballard-mcdonald.net</td>\n",
       "      <td>1</td>\n",
       "    </tr>\n",
       "    <tr>\n",
       "      <th>6</th>\n",
       "      <td>7</td>\n",
       "      <td>7</td>\n",
       "      <td>Noah</td>\n",
       "      <td>Watson</td>\n",
       "      <td>2008-02-05</td>\n",
       "      <td>tolon</td>\n",
       "      <td>matthew78@ballard-mcdonald.net</td>\n",
       "      <td>1</td>\n",
       "    </tr>\n",
       "    <tr>\n",
       "      <th>7</th>\n",
       "      <td>8</td>\n",
       "      <td>8</td>\n",
       "      <td>Watson</td>\n",
       "      <td>Noah</td>\n",
       "      <td>2008-06-15</td>\n",
       "      <td>Bolton</td>\n",
       "      <td>matthew78@ballard-mcdonald.net</td>\n",
       "      <td>1</td>\n",
       "    </tr>\n",
       "    <tr>\n",
       "      <th>8</th>\n",
       "      <td>9</td>\n",
       "      <td>9</td>\n",
       "      <td>Noah</td>\n",
       "      <td>Watson</td>\n",
       "      <td>2008-01-19</td>\n",
       "      <td>Bolton</td>\n",
       "      <td>None</td>\n",
       "      <td>1</td>\n",
       "    </tr>\n",
       "    <tr>\n",
       "      <th>9</th>\n",
       "      <td>10</td>\n",
       "      <td>10</td>\n",
       "      <td>Watson</td>\n",
       "      <td>Noah</td>\n",
       "      <td>2008-03-23</td>\n",
       "      <td>Bolton</td>\n",
       "      <td>matthbw78eallard-mcdonald.net</td>\n",
       "      <td>1</td>\n",
       "    </tr>\n",
       "  </tbody>\n",
       "</table>\n",
       "</div>"
      ],
      "text/plain": [
       "   estimated_group  unique_id first_name surname         dob    city  \\\n",
       "0                1          2     Julia   Taylor  2016-01-27  London   \n",
       "1                1          1     Julia   Taylor  2015-07-31  London   \n",
       "2                3          3     Julia   Taylor  2015-10-29    None   \n",
       "3                4          4       oNah  Watson  2008-03-23  Bolton   \n",
       "4                4          5      Noah   Watson  2008-03-23  Bolton   \n",
       "5                6          6     Watson   Noah   2008-03-23    None   \n",
       "6                7          7      Noah   Watson  2008-02-05   tolon   \n",
       "7                8          8     Watson   Noah   2008-06-15  Bolton   \n",
       "8                9          9      Noah   Watson  2008-01-19  Bolton   \n",
       "9               10         10     Watson   Noah   2008-03-23  Bolton   \n",
       "\n",
       "                            email  group  \n",
       "0             hannah88@powers.com      0  \n",
       "1             hannah88@powers.com      0  \n",
       "2              hannah88opowersc@m      0  \n",
       "3  matthew78@ballard-mcdonald.net      1  \n",
       "4  matthew78@ballard-mcdonald.net      1  \n",
       "5  matthew78@ballard-mcdonald.net      1  \n",
       "6  matthew78@ballard-mcdonald.net      1  \n",
       "7  matthew78@ballard-mcdonald.net      1  \n",
       "8                            None      1  \n",
       "9   matthbw78eallard-mcdonald.net      1  "
      ]
     },
     "execution_count": 10,
     "metadata": {},
     "output_type": "execute_result"
    }
   ],
   "source": [
    "from graphframes import GraphFrame\n",
    "\n",
    "df_e.createOrReplaceTempView(\"df_e\")\n",
    "sql = \"\"\"\n",
    "select unique_id_l as id\n",
    "from df_e\n",
    "union\n",
    "select unique_id_r as id\n",
    "from df_e\n",
    "\"\"\"\n",
    "nodes = spark.sql(sql)\n",
    "\n",
    "sql = \"\"\"\n",
    "select\n",
    "unique_id_l as src,\n",
    "unique_id_r as dst,\n",
    "tf_adjusted_match_prob\n",
    "from df_e\n",
    "where tf_adjusted_match_prob > 0.99\n",
    "\"\"\"\n",
    "edges = spark.sql(sql)\n",
    "\n",
    "g = GraphFrame(nodes, edges)\n",
    "\n",
    "cc = g.connectedComponents()\n",
    "\n",
    "cc.createOrReplaceTempView(\"cc\")\n",
    "df.createOrReplaceTempView(\"df\")\n",
    "sql = \"\"\"\n",
    "select cc.component as estimated_group, df.*\n",
    "from cc\n",
    "left join\n",
    "df \n",
    "on cc.id = df.unique_id\n",
    "order by group, estimated_group\n",
    "\"\"\"\n",
    "nodes_with_clusters = spark.sql(sql)\n",
    "nodes_with_clusters.toPandas().head(10)"
   ]
  }
 ],
 "metadata": {
  "kernelspec": {
   "display_name": "Python 3",
   "language": "python",
   "name": "python3"
  },
  "language_info": {
   "codemirror_mode": {
    "name": "ipython",
    "version": 3
   },
   "file_extension": ".py",
   "mimetype": "text/x-python",
   "name": "python",
   "nbconvert_exporter": "python",
   "pygments_lexer": "ipython3",
   "version": "3.8.3"
  }
 },
 "nbformat": 4,
 "nbformat_minor": 4
}
