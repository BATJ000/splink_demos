{
 "cells": [
  {
   "cell_type": "code",
   "execution_count": 1,
   "id": "fb29d421",
   "metadata": {},
   "outputs": [],
   "source": [
    "from splink.duckdb.duckdb_linker import DuckDBLinker"
   ]
  },
  {
   "cell_type": "markdown",
   "id": "7b0dedd9",
   "metadata": {},
   "source": [
    "## Read in data"
   ]
  },
  {
   "cell_type": "code",
   "execution_count": 2,
   "id": "bbfdc70c",
   "metadata": {},
   "outputs": [
    {
     "data": {
      "text/html": [
       "<div>\n",
       "<style scoped>\n",
       "    .dataframe tbody tr th:only-of-type {\n",
       "        vertical-align: middle;\n",
       "    }\n",
       "\n",
       "    .dataframe tbody tr th {\n",
       "        vertical-align: top;\n",
       "    }\n",
       "\n",
       "    .dataframe thead th {\n",
       "        text-align: right;\n",
       "    }\n",
       "</style>\n",
       "<table border=\"1\" class=\"dataframe\">\n",
       "  <thead>\n",
       "    <tr style=\"text-align: right;\">\n",
       "      <th></th>\n",
       "      <th>unique_id</th>\n",
       "      <th>first_name</th>\n",
       "      <th>surname</th>\n",
       "      <th>dob</th>\n",
       "      <th>city</th>\n",
       "      <th>email</th>\n",
       "      <th>cluster</th>\n",
       "    </tr>\n",
       "  </thead>\n",
       "  <tbody>\n",
       "    <tr>\n",
       "      <th>0</th>\n",
       "      <td>0</td>\n",
       "      <td>Robert</td>\n",
       "      <td>Alan</td>\n",
       "      <td>1971-06-24</td>\n",
       "      <td>NaN</td>\n",
       "      <td>robert255@smith.net</td>\n",
       "      <td>0</td>\n",
       "    </tr>\n",
       "    <tr>\n",
       "      <th>1</th>\n",
       "      <td>1</td>\n",
       "      <td>Robert</td>\n",
       "      <td>Allen</td>\n",
       "      <td>1971-05-24</td>\n",
       "      <td>NaN</td>\n",
       "      <td>roberta25@smith.net</td>\n",
       "      <td>0</td>\n",
       "    </tr>\n",
       "    <tr>\n",
       "      <th>2</th>\n",
       "      <td>2</td>\n",
       "      <td>Rob</td>\n",
       "      <td>Allen</td>\n",
       "      <td>1971-06-24</td>\n",
       "      <td>London</td>\n",
       "      <td>roberta25@smith.net</td>\n",
       "      <td>0</td>\n",
       "    </tr>\n",
       "    <tr>\n",
       "      <th>3</th>\n",
       "      <td>3</td>\n",
       "      <td>Robert</td>\n",
       "      <td>Alen</td>\n",
       "      <td>1971-06-24</td>\n",
       "      <td>Lonon</td>\n",
       "      <td>NaN</td>\n",
       "      <td>0</td>\n",
       "    </tr>\n",
       "    <tr>\n",
       "      <th>4</th>\n",
       "      <td>4</td>\n",
       "      <td>Grace</td>\n",
       "      <td>NaN</td>\n",
       "      <td>1997-04-26</td>\n",
       "      <td>Hull</td>\n",
       "      <td>grace.kelly52@jones.com</td>\n",
       "      <td>1</td>\n",
       "    </tr>\n",
       "  </tbody>\n",
       "</table>\n",
       "</div>"
      ],
      "text/plain": [
       "   unique_id first_name surname         dob    city                    email  \\\n",
       "0          0     Robert    Alan  1971-06-24     NaN      robert255@smith.net   \n",
       "1          1     Robert   Allen  1971-05-24     NaN      roberta25@smith.net   \n",
       "2          2        Rob   Allen  1971-06-24  London      roberta25@smith.net   \n",
       "3          3     Robert    Alen  1971-06-24   Lonon                      NaN   \n",
       "4          4      Grace     NaN  1997-04-26    Hull  grace.kelly52@jones.com   \n",
       "\n",
       "   cluster  \n",
       "0        0  \n",
       "1        0  \n",
       "2        0  \n",
       "3        0  \n",
       "4        1  "
      ]
     },
     "execution_count": 2,
     "metadata": {},
     "output_type": "execute_result"
    }
   ],
   "source": [
    "import pandas as pd \n",
    "pd.options.display.max_rows = 1000\n",
    "df = pd.read_csv(\"./data/fake_1000.csv\")\n",
    "df.head(5)"
   ]
  },
  {
   "cell_type": "markdown",
   "id": "e10eb84f",
   "metadata": {},
   "source": [
    "## Initialise the linker, passing in the input dataset(s)"
   ]
  },
  {
   "cell_type": "code",
   "execution_count": 3,
   "id": "c6a8b5e9",
   "metadata": {},
   "outputs": [],
   "source": [
    "\n",
    "linker = DuckDBLinker(df)"
   ]
  },
  {
   "cell_type": "markdown",
   "id": "f39f379d",
   "metadata": {},
   "source": [
    "## Load estimated model parameters from previous notebook"
   ]
  },
  {
   "cell_type": "code",
   "execution_count": 4,
   "id": "c8d9f230",
   "metadata": {},
   "outputs": [],
   "source": [
    "linker.load_settings_from_json(\"./demo_settings/saved_model_from_demo.json\")"
   ]
  },
  {
   "cell_type": "code",
   "execution_count": null,
   "id": "2d8c3503",
   "metadata": {},
   "outputs": [],
   "source": []
  },
  {
   "cell_type": "markdown",
   "id": "f5b41cce",
   "metadata": {},
   "source": [
    "##  Accuracy analysis\n",
    "\n",
    "Since we have labels in this dataset, we can compute the accuracy of our trained model"
   ]
  },
  {
   "cell_type": "code",
   "execution_count": 12,
   "id": "fc562d19",
   "metadata": {},
   "outputs": [
    {
     "data": {
      "text/html": [
       "<div>\n",
       "<style scoped>\n",
       "    .dataframe tbody tr th:only-of-type {\n",
       "        vertical-align: middle;\n",
       "    }\n",
       "\n",
       "    .dataframe tbody tr th {\n",
       "        vertical-align: top;\n",
       "    }\n",
       "\n",
       "    .dataframe thead th {\n",
       "        text-align: right;\n",
       "    }\n",
       "</style>\n",
       "<table border=\"1\" class=\"dataframe\">\n",
       "  <thead>\n",
       "    <tr style=\"text-align: right;\">\n",
       "      <th></th>\n",
       "      <th>unique_id_l</th>\n",
       "      <th>source_dataset_l</th>\n",
       "      <th>unique_id_r</th>\n",
       "      <th>source_dataset_r</th>\n",
       "      <th>clerical_match_score</th>\n",
       "    </tr>\n",
       "  </thead>\n",
       "  <tbody>\n",
       "    <tr>\n",
       "      <th>0</th>\n",
       "      <td>0</td>\n",
       "      <td>fake_1000</td>\n",
       "      <td>1</td>\n",
       "      <td>fake_1000</td>\n",
       "      <td>1.0</td>\n",
       "    </tr>\n",
       "    <tr>\n",
       "      <th>1</th>\n",
       "      <td>0</td>\n",
       "      <td>fake_1000</td>\n",
       "      <td>2</td>\n",
       "      <td>fake_1000</td>\n",
       "      <td>1.0</td>\n",
       "    </tr>\n",
       "    <tr>\n",
       "      <th>2</th>\n",
       "      <td>0</td>\n",
       "      <td>fake_1000</td>\n",
       "      <td>3</td>\n",
       "      <td>fake_1000</td>\n",
       "      <td>1.0</td>\n",
       "    </tr>\n",
       "    <tr>\n",
       "      <th>3</th>\n",
       "      <td>0</td>\n",
       "      <td>fake_1000</td>\n",
       "      <td>4</td>\n",
       "      <td>fake_1000</td>\n",
       "      <td>0.0</td>\n",
       "    </tr>\n",
       "    <tr>\n",
       "      <th>4</th>\n",
       "      <td>0</td>\n",
       "      <td>fake_1000</td>\n",
       "      <td>5</td>\n",
       "      <td>fake_1000</td>\n",
       "      <td>0.0</td>\n",
       "    </tr>\n",
       "  </tbody>\n",
       "</table>\n",
       "</div>"
      ],
      "text/plain": [
       "   unique_id_l source_dataset_l  unique_id_r source_dataset_r  \\\n",
       "0            0        fake_1000            1        fake_1000   \n",
       "1            0        fake_1000            2        fake_1000   \n",
       "2            0        fake_1000            3        fake_1000   \n",
       "3            0        fake_1000            4        fake_1000   \n",
       "4            0        fake_1000            5        fake_1000   \n",
       "\n",
       "   clerical_match_score  \n",
       "0                   1.0  \n",
       "1                   1.0  \n",
       "2                   1.0  \n",
       "3                   0.0  \n",
       "4                   0.0  "
      ]
     },
     "execution_count": 12,
     "metadata": {},
     "output_type": "execute_result"
    }
   ],
   "source": [
    "df_labels = pd.read_csv(\"./data/fake_1000_labels.csv\")\n",
    "df_labels.head(5)"
   ]
  },
  {
   "cell_type": "markdown",
   "id": "81e4396d",
   "metadata": {},
   "source": [
    "Then to produce the chart:"
   ]
  },
  {
   "cell_type": "code",
   "execution_count": 31,
   "id": "7b308339",
   "metadata": {},
   "outputs": [
    {
     "data": {
      "text/plain": [
       "<duckdb.DuckDBPyConnection at 0x7fdb1411e770>"
      ]
     },
     "execution_count": 31,
     "metadata": {},
     "output_type": "execute_result"
    }
   ],
   "source": [
    "df_predictions = linker.predict()\n",
    "linker._initialise_df_concat_with_tf()\n",
    "linker._con.register(\"labels\", df_labels)"
   ]
  },
  {
   "cell_type": "markdown",
   "id": "72a122e1",
   "metadata": {},
   "source": [
    "### Plot ROC Curve\n",
    "using `roc_chart_from_labels`"
   ]
  },
  {
   "cell_type": "code",
   "execution_count": 32,
   "id": "01dd7eec",
   "metadata": {},
   "outputs": [
    {
     "data": {
      "text/html": [
       "\n",
       "<div id=\"altair-viz-223929c19b2e472ab749f18878303f17\"></div>\n",
       "<script type=\"text/javascript\">\n",
       "  var VEGA_DEBUG = (typeof VEGA_DEBUG == \"undefined\") ? {} : VEGA_DEBUG;\n",
       "  (function(spec, embedOpt){\n",
       "    let outputDiv = document.currentScript.previousElementSibling;\n",
       "    if (outputDiv.id !== \"altair-viz-223929c19b2e472ab749f18878303f17\") {\n",
       "      outputDiv = document.getElementById(\"altair-viz-223929c19b2e472ab749f18878303f17\");\n",
       "    }\n",
       "    const paths = {\n",
       "      \"vega\": \"https://cdn.jsdelivr.net/npm//vega@5?noext\",\n",
       "      \"vega-lib\": \"https://cdn.jsdelivr.net/npm//vega-lib?noext\",\n",
       "      \"vega-lite\": \"https://cdn.jsdelivr.net/npm//vega-lite@4.17.0?noext\",\n",
       "      \"vega-embed\": \"https://cdn.jsdelivr.net/npm//vega-embed@6?noext\",\n",
       "    };\n",
       "\n",
       "    function maybeLoadScript(lib, version) {\n",
       "      var key = `${lib.replace(\"-\", \"\")}_version`;\n",
       "      return (VEGA_DEBUG[key] == version) ?\n",
       "        Promise.resolve(paths[lib]) :\n",
       "        new Promise(function(resolve, reject) {\n",
       "          var s = document.createElement('script');\n",
       "          document.getElementsByTagName(\"head\")[0].appendChild(s);\n",
       "          s.async = true;\n",
       "          s.onload = () => {\n",
       "            VEGA_DEBUG[key] = version;\n",
       "            return resolve(paths[lib]);\n",
       "          };\n",
       "          s.onerror = () => reject(`Error loading script: ${paths[lib]}`);\n",
       "          s.src = paths[lib];\n",
       "        });\n",
       "    }\n",
       "\n",
       "    function showError(err) {\n",
       "      outputDiv.innerHTML = `<div class=\"error\" style=\"color:red;\">${err}</div>`;\n",
       "      throw err;\n",
       "    }\n",
       "\n",
       "    function displayChart(vegaEmbed) {\n",
       "      vegaEmbed(outputDiv, spec, embedOpt)\n",
       "        .catch(err => showError(`Javascript Error: ${err.message}<br>This usually means there's a typo in your chart specification. See the javascript console for the full traceback.`));\n",
       "    }\n",
       "\n",
       "    if(typeof define === \"function\" && define.amd) {\n",
       "      requirejs.config({paths});\n",
       "      require([\"vega-embed\"], displayChart, err => showError(`Error loading script: ${err.message}`));\n",
       "    } else {\n",
       "      maybeLoadScript(\"vega\", \"5\")\n",
       "        .then(() => maybeLoadScript(\"vega-lite\", \"4.17.0\"))\n",
       "        .then(() => maybeLoadScript(\"vega-embed\", \"6\"))\n",
       "        .catch(showError)\n",
       "        .then(() => displayChart(vegaEmbed));\n",
       "    }\n",
       "  })({\"$schema\": \"https://vega.github.io/schema/vega-lite/v4.8.1.json\", \"title\": \"Receiver operating characteristic curve\", \"height\": 400, \"width\": 400, \"data\": {\"values\": [{\"truth_threshold\": -13.903062442799735, \"row_count\": 1225.0, \"P\": 80.0, \"N\": 1145.0, \"TP\": 80.0, \"TN\": 0.0, \"FP\": 1145.0, \"FN\": 0.0, \"P_rate\": 0.0, \"N_rate\": 0.9346938729286194, \"TP_rate\": 1.0, \"TN_rate\": 0.0, \"FP_rate\": 1.0, \"FN_rate\": 0.0, \"precision\": 0.06530611962080002, \"recall\": 1.0}, {\"truth_threshold\": -13.058704668773524, \"row_count\": 1225.0, \"P\": 80.0, \"N\": 1145.0, \"TP\": 79.0, \"TN\": 103.0, \"FP\": 1042.0, \"FN\": 1.0, \"P_rate\": 0.0, \"N_rate\": 0.9346938729286194, \"TP_rate\": 0.987500011920929, \"TN_rate\": 0.08995632827281952, \"FP_rate\": 0.9100436568260193, \"FN_rate\": 0.012500000186264515, \"precision\": 0.07047279179096222, \"recall\": 0.987500011920929}, {\"truth_threshold\": -12.7763868075079, \"row_count\": 1225.0, \"P\": 80.0, \"N\": 1145.0, \"TP\": 79.0, \"TN\": 145.0, \"FP\": 1000.0, \"FN\": 1.0, \"P_rate\": 0.0, \"N_rate\": 0.9346938729286194, \"TP_rate\": 0.987500011920929, \"TN_rate\": 0.1266375482082367, \"FP_rate\": 0.8733624219894409, \"FN_rate\": 0.012500000186264515, \"precision\": 0.07321593910455704, \"recall\": 0.987500011920929}, {\"truth_threshold\": -12.710385493817329, \"row_count\": 1225.0, \"P\": 80.0, \"N\": 1145.0, \"TP\": 79.0, \"TN\": 320.0, \"FP\": 825.0, \"FN\": 1.0, \"P_rate\": 0.0, \"N_rate\": 0.9346938729286194, \"TP_rate\": 0.987500011920929, \"TN_rate\": 0.27947598695755005, \"FP_rate\": 0.72052401304245, \"FN_rate\": 0.012500000186264515, \"precision\": 0.08738937973976135, \"recall\": 0.987500011920929}, {\"truth_threshold\": -11.932029033481689, \"row_count\": 1225.0, \"P\": 80.0, \"N\": 1145.0, \"TP\": 78.0, \"TN\": 401.0, \"FP\": 744.0, \"FN\": 2.0, \"P_rate\": 0.0, \"N_rate\": 0.9346938729286194, \"TP_rate\": 0.9750000238418579, \"TN_rate\": 0.3502183258533478, \"FP_rate\": 0.6497816443443298, \"FN_rate\": 0.02500000037252903, \"precision\": 0.09489051252603531, \"recall\": 0.9750000238418579}, {\"truth_threshold\": -11.866027719791118, \"row_count\": 1225.0, \"P\": 80.0, \"N\": 1145.0, \"TP\": 76.0, \"TN\": 510.0, \"FP\": 635.0, \"FN\": 4.0, \"P_rate\": 0.0, \"N_rate\": 0.9346938729286194, \"TP_rate\": 0.949999988079071, \"TN_rate\": 0.44541484117507935, \"FP_rate\": 0.5545851588249207, \"FN_rate\": 0.05000000074505806, \"precision\": 0.1068916991353035, \"recall\": 0.949999988079071}, {\"truth_threshold\": -11.83041172765448, \"row_count\": 1225.0, \"P\": 80.0, \"N\": 1145.0, \"TP\": 76.0, \"TN\": 523.0, \"FP\": 622.0, \"FN\": 4.0, \"P_rate\": 0.0, \"N_rate\": 0.9346938729286194, \"TP_rate\": 0.949999988079071, \"TN_rate\": 0.45676857233047485, \"FP_rate\": 0.5432314276695251, \"FN_rate\": 0.05000000074505806, \"precision\": 0.10888252407312393, \"recall\": 0.949999988079071}, {\"truth_threshold\": -11.583709858525493, \"row_count\": 1225.0, \"P\": 80.0, \"N\": 1145.0, \"TP\": 76.0, \"TN\": 611.0, \"FP\": 534.0, \"FN\": 4.0, \"P_rate\": 0.0, \"N_rate\": 0.9346938729286194, \"TP_rate\": 0.949999988079071, \"TN_rate\": 0.5336244702339172, \"FP_rate\": 0.46637555956840515, \"FN_rate\": 0.05000000074505806, \"precision\": 0.12459016591310501, \"recall\": 0.949999988079071}, {\"truth_threshold\": -11.361755012505549, \"row_count\": 1225.0, \"P\": 80.0, \"N\": 1145.0, \"TP\": 75.0, \"TN\": 705.0, \"FP\": 440.0, \"FN\": 5.0, \"P_rate\": 0.0, \"N_rate\": 0.9346938729286194, \"TP_rate\": 0.9375, \"TN_rate\": 0.6157205104827881, \"FP_rate\": 0.3842794895172119, \"FN_rate\": 0.0625, \"precision\": 0.1456310749053955, \"recall\": 0.9375}, {\"truth_threshold\": -10.98605395362827, \"row_count\": 1225.0, \"P\": 80.0, \"N\": 1145.0, \"TP\": 74.0, \"TN\": 721.0, \"FP\": 424.0, \"FN\": 6.0, \"P_rate\": 0.0, \"N_rate\": 0.9346938729286194, \"TP_rate\": 0.925000011920929, \"TN_rate\": 0.6296943426132202, \"FP_rate\": 0.3703056871891022, \"FN_rate\": 0.07500000298023224, \"precision\": 0.14859437942504883, \"recall\": 0.925000011920929}, {\"truth_threshold\": -10.739352084499282, \"row_count\": 1225.0, \"P\": 80.0, \"N\": 1145.0, \"TP\": 74.0, \"TN\": 759.0, \"FP\": 386.0, \"FN\": 6.0, \"P_rate\": 0.0, \"N_rate\": 0.9346938729286194, \"TP_rate\": 0.925000011920929, \"TN_rate\": 0.6628820896148682, \"FP_rate\": 0.33711791038513184, \"FN_rate\": 0.07500000298023224, \"precision\": 0.1608695685863495, \"recall\": 0.925000011920929}, {\"truth_threshold\": -10.703736092362647, \"row_count\": 1225.0, \"P\": 80.0, \"N\": 1145.0, \"TP\": 73.0, \"TN\": 784.0, \"FP\": 361.0, \"FN\": 7.0, \"P_rate\": 0.0, \"N_rate\": 0.9346938729286194, \"TP_rate\": 0.9125000238418579, \"TN_rate\": 0.6847161650657654, \"FP_rate\": 0.3152838349342346, \"FN_rate\": 0.08749999850988388, \"precision\": 0.16820275783538818, \"recall\": 0.9125000238418579}, {\"truth_threshold\": -10.637734778672074, \"row_count\": 1225.0, \"P\": 80.0, \"N\": 1145.0, \"TP\": 73.0, \"TN\": 826.0, \"FP\": 319.0, \"FN\": 7.0, \"P_rate\": 0.0, \"N_rate\": 0.9346938729286194, \"TP_rate\": 0.9125000238418579, \"TN_rate\": 0.7213973999023438, \"FP_rate\": 0.27860262989997864, \"FN_rate\": 0.08749999850988388, \"precision\": 0.18622449040412903, \"recall\": 0.9125000238418579}, {\"truth_threshold\": -10.517397238479338, \"row_count\": 1225.0, \"P\": 80.0, \"N\": 1145.0, \"TP\": 72.0, \"TN\": 918.0, \"FP\": 227.0, \"FN\": 8.0, \"P_rate\": 0.0, \"N_rate\": 0.9346938729286194, \"TP_rate\": 0.8999999761581421, \"TN_rate\": 0.8017467260360718, \"FP_rate\": 0.19825327396392822, \"FN_rate\": 0.10000000149011612, \"precision\": 0.24080267548561096, \"recall\": 0.8999999761581421}, {\"truth_threshold\": -10.169078063523143, \"row_count\": 1225.0, \"P\": 80.0, \"N\": 1145.0, \"TP\": 72.0, \"TN\": 924.0, \"FP\": 221.0, \"FN\": 8.0, \"P_rate\": 0.0, \"N_rate\": 0.9346938729286194, \"TP_rate\": 0.8999999761581421, \"TN_rate\": 0.806986927986145, \"FP_rate\": 0.19301310181617737, \"FN_rate\": 0.10000000149011612, \"precision\": 0.24573378264904022, \"recall\": 0.8999999761581421}, {\"truth_threshold\": -9.859378318336436, \"row_count\": 1225.0, \"P\": 80.0, \"N\": 1145.0, \"TP\": 72.0, \"TN\": 931.0, \"FP\": 214.0, \"FN\": 8.0, \"P_rate\": 0.0, \"N_rate\": 0.9346938729286194, \"TP_rate\": 0.8999999761581421, \"TN_rate\": 0.8131004571914673, \"FP_rate\": 0.1868995577096939, \"FN_rate\": 0.10000000149011612, \"precision\": 0.251748263835907, \"recall\": 0.8999999761581421}, {\"truth_threshold\": -9.793377004645865, \"row_count\": 1225.0, \"P\": 80.0, \"N\": 1145.0, \"TP\": 72.0, \"TN\": 957.0, \"FP\": 188.0, \"FN\": 8.0, \"P_rate\": 0.0, \"N_rate\": 0.9346938729286194, \"TP_rate\": 0.8999999761581421, \"TN_rate\": 0.8358078598976135, \"FP_rate\": 0.16419214010238647, \"FN_rate\": 0.10000000149011612, \"precision\": 0.2769230902194977, \"recall\": 0.8999999761581421}, {\"truth_threshold\": -9.51105914338024, \"row_count\": 1225.0, \"P\": 80.0, \"N\": 1145.0, \"TP\": 72.0, \"TN\": 973.0, \"FP\": 172.0, \"FN\": 8.0, \"P_rate\": 0.0, \"N_rate\": 0.9346938729286194, \"TP_rate\": 0.8999999761581421, \"TN_rate\": 0.8497816324234009, \"FP_rate\": 0.15021833777427673, \"FN_rate\": 0.10000000149011612, \"precision\": 0.2950819730758667, \"recall\": 0.8999999761581421}, {\"truth_threshold\": -9.324720289496932, \"row_count\": 1225.0, \"P\": 80.0, \"N\": 1145.0, \"TP\": 71.0, \"TN\": 1093.0, \"FP\": 52.0, \"FN\": 9.0, \"P_rate\": 0.0, \"N_rate\": 0.9346938729286194, \"TP_rate\": 0.887499988079071, \"TN_rate\": 0.9545851349830627, \"FP_rate\": 0.045414846390485764, \"FN_rate\": 0.11249999701976776, \"precision\": 0.577235758304596, \"recall\": 0.887499988079071}, {\"truth_threshold\": -8.66670136935403, \"row_count\": 1225.0, \"P\": 80.0, \"N\": 1145.0, \"TP\": 71.0, \"TN\": 1094.0, \"FP\": 51.0, \"FN\": 9.0, \"P_rate\": 0.0, \"N_rate\": 0.9346938729286194, \"TP_rate\": 0.887499988079071, \"TN_rate\": 0.9554585218429565, \"FP_rate\": 0.044541485607624054, \"FN_rate\": 0.11249999701976776, \"precision\": 0.5819672346115112, \"recall\": 0.887499988079071}, {\"truth_threshold\": -8.096427348377889, \"row_count\": 1225.0, \"P\": 80.0, \"N\": 1145.0, \"TP\": 71.0, \"TN\": 1118.0, \"FP\": 27.0, \"FN\": 9.0, \"P_rate\": 0.0, \"N_rate\": 0.9346938729286194, \"TP_rate\": 0.887499988079071, \"TN_rate\": 0.97641921043396, \"FP_rate\": 0.02358078584074974, \"FN_rate\": 0.11249999701976776, \"precision\": 0.7244898080825806, \"recall\": 0.887499988079071}, {\"truth_threshold\": -7.252069574351679, \"row_count\": 1225.0, \"P\": 80.0, \"N\": 1145.0, \"TP\": 69.0, \"TN\": 1123.0, \"FP\": 22.0, \"FN\": 11.0, \"P_rate\": 0.0, \"N_rate\": 0.9346938729286194, \"TP_rate\": 0.862500011920929, \"TN_rate\": 0.9807860255241394, \"FP_rate\": 0.019213974475860596, \"FN_rate\": 0.13750000298023224, \"precision\": 0.7582417726516724, \"recall\": 0.862500011920929}, {\"truth_threshold\": -7.089702373794927, \"row_count\": 1225.0, \"P\": 80.0, \"N\": 1145.0, \"TP\": 69.0, \"TN\": 1124.0, \"FP\": 21.0, \"FN\": 11.0, \"P_rate\": 0.0, \"N_rate\": 0.9346938729286194, \"TP_rate\": 0.862500011920929, \"TN_rate\": 0.9816594123840332, \"FP_rate\": 0.018340611830353737, \"FN_rate\": 0.13750000298023224, \"precision\": 0.7666666507720947, \"recall\": 0.862500011920929}, {\"truth_threshold\": -6.245344599768718, \"row_count\": 1225.0, \"P\": 80.0, \"N\": 1145.0, \"TP\": 69.0, \"TN\": 1127.0, \"FP\": 18.0, \"FN\": 11.0, \"P_rate\": 0.0, \"N_rate\": 0.9346938729286194, \"TP_rate\": 0.862500011920929, \"TN_rate\": 0.984279453754425, \"FP_rate\": 0.01572052389383316, \"FN_rate\": 0.13750000298023224, \"precision\": 0.7931034564971924, \"recall\": 0.862500011920929}, {\"truth_threshold\": -5.963026738503093, \"row_count\": 1225.0, \"P\": 80.0, \"N\": 1145.0, \"TP\": 69.0, \"TN\": 1128.0, \"FP\": 17.0, \"FN\": 11.0, \"P_rate\": 0.0, \"N_rate\": 0.9346938729286194, \"TP_rate\": 0.862500011920929, \"TN_rate\": 0.9851528406143188, \"FP_rate\": 0.014847161248326302, \"FN_rate\": 0.13750000298023224, \"precision\": 0.8023256063461304, \"recall\": 0.862500011920929}, {\"truth_threshold\": -5.024401071165882, \"row_count\": 1225.0, \"P\": 80.0, \"N\": 1145.0, \"TP\": 69.0, \"TN\": 1133.0, \"FP\": 12.0, \"FN\": 11.0, \"P_rate\": 0.0, \"N_rate\": 0.9346938729286194, \"TP_rate\": 0.862500011920929, \"TN_rate\": 0.9895196557044983, \"FP_rate\": 0.010480348952114582, \"FN_rate\": 0.13750000298023224, \"precision\": 0.8518518805503845, \"recall\": 0.862500011920929}, {\"truth_threshold\": -4.7703497895206874, \"row_count\": 1225.0, \"P\": 80.0, \"N\": 1145.0, \"TP\": 69.0, \"TN\": 1136.0, \"FP\": 9.0, \"FN\": 11.0, \"P_rate\": 0.0, \"N_rate\": 0.9346938729286194, \"TP_rate\": 0.862500011920929, \"TN_rate\": 0.9921397566795349, \"FP_rate\": 0.00786026194691658, \"FN_rate\": 0.13750000298023224, \"precision\": 0.8846153616905212, \"recall\": 0.862500011920929}, {\"truth_threshold\": -4.548394943500742, \"row_count\": 1225.0, \"P\": 80.0, \"N\": 1145.0, \"TP\": 69.0, \"TN\": 1142.0, \"FP\": 3.0, \"FN\": 11.0, \"P_rate\": 0.0, \"N_rate\": 0.9346938729286194, \"TP_rate\": 0.862500011920929, \"TN_rate\": 0.9973798990249634, \"FP_rate\": 0.0026200872380286455, \"FN_rate\": 0.13750000298023224, \"precision\": 0.9583333134651184, \"recall\": 0.862500011920929}, {\"truth_threshold\": -4.285461162518124, \"row_count\": 1225.0, \"P\": 80.0, \"N\": 1145.0, \"TP\": 69.0, \"TN\": 1144.0, \"FP\": 1.0, \"FN\": 11.0, \"P_rate\": 0.0, \"N_rate\": 0.9346938729286194, \"TP_rate\": 0.862500011920929, \"TN_rate\": 0.9991266131401062, \"FP_rate\": 0.0008733624708838761, \"FN_rate\": 0.13750000298023224, \"precision\": 0.9857142567634583, \"recall\": 0.862500011920929}, {\"truth_threshold\": -4.219459848827554, \"row_count\": 1225.0, \"P\": 80.0, \"N\": 1145.0, \"TP\": 68.0, \"TN\": 1144.0, \"FP\": 1.0, \"FN\": 12.0, \"P_rate\": 0.0, \"N_rate\": 0.9346938729286194, \"TP_rate\": 0.8500000238418579, \"TN_rate\": 0.9991266131401062, \"FP_rate\": 0.0008733624708838761, \"FN_rate\": 0.15000000596046448, \"precision\": 0.9855072498321533, \"recall\": 0.8500000238418579}, {\"truth_threshold\": -4.121688164697996, \"row_count\": 1225.0, \"P\": 80.0, \"N\": 1145.0, \"TP\": 67.0, \"TN\": 1144.0, \"FP\": 1.0, \"FN\": 13.0, \"P_rate\": 0.0, \"N_rate\": 0.9346938729286194, \"TP_rate\": 0.8374999761581421, \"TN_rate\": 0.9991266131401062, \"FP_rate\": 0.0008733624708838761, \"FN_rate\": 0.16249999403953552, \"precision\": 0.9852941036224365, \"recall\": 0.8374999761581421}, {\"truth_threshold\": -4.055686851007426, \"row_count\": 1225.0, \"P\": 80.0, \"N\": 1145.0, \"TP\": 66.0, \"TN\": 1144.0, \"FP\": 1.0, \"FN\": 14.0, \"P_rate\": 0.0, \"N_rate\": 0.9346938729286194, \"TP_rate\": 0.824999988079071, \"TN_rate\": 0.9991266131401062, \"FP_rate\": 0.0008733624708838761, \"FN_rate\": 0.17499999701976776, \"precision\": 0.9850746393203735, \"recall\": 0.824999988079071}, {\"truth_threshold\": -3.9259920154944767, \"row_count\": 1225.0, \"P\": 80.0, \"N\": 1145.0, \"TP\": 65.0, \"TN\": 1144.0, \"FP\": 1.0, \"FN\": 15.0, \"P_rate\": 0.0, \"N_rate\": 0.9346938729286194, \"TP_rate\": 0.8125, \"TN_rate\": 0.9991266131401062, \"FP_rate\": 0.0008733624708838761, \"FN_rate\": 0.1875, \"precision\": 0.9848484992980957, \"recall\": 0.8125}, {\"truth_threshold\": -3.8317241221834766, \"row_count\": 1225.0, \"P\": 80.0, \"N\": 1145.0, \"TP\": 64.0, \"TN\": 1144.0, \"FP\": 1.0, \"FN\": 16.0, \"P_rate\": 0.0, \"N_rate\": 0.9346938729286194, \"TP_rate\": 0.800000011920929, \"TN_rate\": 0.9991266131401062, \"FP_rate\": 0.0008733624708838761, \"FN_rate\": 0.20000000298023224, \"precision\": 0.9846153855323792, \"recall\": 0.800000011920929}, {\"truth_threshold\": -3.5789951484084357, \"row_count\": 1225.0, \"P\": 80.0, \"N\": 1145.0, \"TP\": 64.0, \"TN\": 1145.0, \"FP\": 0.0, \"FN\": 16.0, \"P_rate\": 0.0, \"N_rate\": 0.9346938729286194, \"TP_rate\": 0.800000011920929, \"TN_rate\": 1.0, \"FP_rate\": 0.0, \"FN_rate\": 0.20000000298023224, \"precision\": 1.0, \"recall\": 0.800000011920929}, {\"truth_threshold\": -3.4411033884919133, \"row_count\": 1225.0, \"P\": 80.0, \"N\": 1145.0, \"TP\": 63.0, \"TN\": 1145.0, \"FP\": 0.0, \"FN\": 17.0, \"P_rate\": 0.0, \"N_rate\": 0.9346938729286194, \"TP_rate\": 0.7875000238418579, \"TN_rate\": 1.0, \"FP_rate\": 0.0, \"FN_rate\": 0.21250000596046448, \"precision\": 1.0, \"recall\": 0.7875000238418579}, {\"truth_threshold\": -3.3751020748013425, \"row_count\": 1225.0, \"P\": 80.0, \"N\": 1145.0, \"TP\": 62.0, \"TN\": 1145.0, \"FP\": 0.0, \"FN\": 18.0, \"P_rate\": 0.0, \"N_rate\": 0.9346938729286194, \"TP_rate\": 0.7749999761581421, \"TN_rate\": 1.0, \"FP_rate\": 0.0, \"FN_rate\": 0.22499999403953552, \"precision\": 1.0, \"recall\": 0.7749999761581421}, {\"truth_threshold\": -3.277330390671786, \"row_count\": 1225.0, \"P\": 80.0, \"N\": 1145.0, \"TP\": 61.0, \"TN\": 1145.0, \"FP\": 0.0, \"FN\": 19.0, \"P_rate\": 0.0, \"N_rate\": 0.9346938729286194, \"TP_rate\": 0.762499988079071, \"TN_rate\": 1.0, \"FP_rate\": 0.0, \"FN_rate\": 0.23749999701976776, \"precision\": 1.0, \"recall\": 0.762499988079071}, {\"truth_threshold\": -3.0927842135357184, \"row_count\": 1225.0, \"P\": 80.0, \"N\": 1145.0, \"TP\": 58.0, \"TN\": 1145.0, \"FP\": 0.0, \"FN\": 22.0, \"P_rate\": 0.0, \"N_rate\": 0.9346938729286194, \"TP_rate\": 0.7250000238418579, \"TN_rate\": 1.0, \"FP_rate\": 0.0, \"FN_rate\": 0.2750000059604645, \"precision\": 1.0, \"recall\": 0.7250000238418579}, {\"truth_threshold\": -2.3313553108183678, \"row_count\": 1225.0, \"P\": 80.0, \"N\": 1145.0, \"TP\": 56.0, \"TN\": 1145.0, \"FP\": 0.0, \"FN\": 24.0, \"P_rate\": 0.0, \"N_rate\": 0.9346938729286194, \"TP_rate\": 0.699999988079071, \"TN_rate\": 1.0, \"FP_rate\": 0.0, \"FN_rate\": 0.30000001192092896, \"precision\": 1.0, \"recall\": 0.699999988079071}, {\"truth_threshold\": -2.1643633534060847, \"row_count\": 1225.0, \"P\": 80.0, \"N\": 1145.0, \"TP\": 55.0, \"TN\": 1145.0, \"FP\": 0.0, \"FN\": 25.0, \"P_rate\": 0.0, \"N_rate\": 0.9346938729286194, \"TP_rate\": 0.6875, \"TN_rate\": 1.0, \"FP_rate\": 0.0, \"FN_rate\": 0.3125, \"precision\": 1.0, \"recall\": 0.6875}, {\"truth_threshold\": -2.1563896480834703, \"row_count\": 1225.0, \"P\": 80.0, \"N\": 1145.0, \"TP\": 54.0, \"TN\": 1145.0, \"FP\": 0.0, \"FN\": 26.0, \"P_rate\": 0.0, \"N_rate\": 0.9346938729286194, \"TP_rate\": 0.675000011920929, \"TN_rate\": 1.0, \"FP_rate\": 0.0, \"FN_rate\": 0.32499998807907104, \"precision\": 1.0, \"recall\": 0.675000011920929}, {\"truth_threshold\": -2.0264715934895623, \"row_count\": 1225.0, \"P\": 80.0, \"N\": 1145.0, \"TP\": 52.0, \"TN\": 1145.0, \"FP\": 0.0, \"FN\": 28.0, \"P_rate\": 0.0, \"N_rate\": 0.9346938729286194, \"TP_rate\": 0.6499999761581421, \"TN_rate\": 1.0, \"FP_rate\": 0.0, \"FN_rate\": 0.3499999940395355, \"precision\": 1.0, \"recall\": 0.6499999761581421}, {\"truth_threshold\": -1.9830361358621726, \"row_count\": 1225.0, \"P\": 80.0, \"N\": 1145.0, \"TP\": 51.0, \"TN\": 1145.0, \"FP\": 0.0, \"FN\": 29.0, \"P_rate\": 0.0, \"N_rate\": 0.9346938729286194, \"TP_rate\": 0.637499988079071, \"TN_rate\": 1.0, \"FP_rate\": 0.0, \"FN_rate\": 0.36250001192092896, \"precision\": 1.0, \"recall\": 0.637499988079071}, {\"truth_threshold\": -0.8563605005703377, \"row_count\": 1225.0, \"P\": 80.0, \"N\": 1145.0, \"TP\": 49.0, \"TN\": 1145.0, \"FP\": 0.0, \"FN\": 31.0, \"P_rate\": 0.0, \"N_rate\": 0.9346938729286194, \"TP_rate\": 0.612500011920929, \"TN_rate\": 1.0, \"FP_rate\": 0.0, \"FN_rate\": 0.38749998807907104, \"precision\": 1.0, \"recall\": 0.612500011920929}, {\"truth_threshold\": -0.7417578530811191, \"row_count\": 1225.0, \"P\": 80.0, \"N\": 1145.0, \"TP\": 48.0, \"TN\": 1145.0, \"FP\": 0.0, \"FN\": 32.0, \"P_rate\": 0.0, \"N_rate\": 0.9346938729286194, \"TP_rate\": 0.6000000238418579, \"TN_rate\": 1.0, \"FP_rate\": 0.0, \"FN_rate\": 0.4000000059604645, \"precision\": 1.0, \"recall\": 0.6000000238418579}, {\"truth_threshold\": -0.012002726544127233, \"row_count\": 1225.0, \"P\": 80.0, \"N\": 1145.0, \"TP\": 47.0, \"TN\": 1145.0, \"FP\": 0.0, \"FN\": 33.0, \"P_rate\": 0.0, \"N_rate\": 0.9346938729286194, \"TP_rate\": 0.5874999761581421, \"TN_rate\": 1.0, \"FP_rate\": 0.0, \"FN_rate\": 0.4124999940395355, \"precision\": 1.0, \"recall\": 0.5874999761581421}, {\"truth_threshold\": 3.1352096464692165, \"row_count\": 1225.0, \"P\": 80.0, \"N\": 1145.0, \"TP\": 46.0, \"TN\": 1145.0, \"FP\": 0.0, \"FN\": 34.0, \"P_rate\": 0.0, \"N_rate\": 0.9346938729286194, \"TP_rate\": 0.574999988079071, \"TN_rate\": 1.0, \"FP_rate\": 0.0, \"FN_rate\": 0.42500001192092896, \"precision\": 1.0, \"recall\": 0.574999988079071}, {\"truth_threshold\": 3.6302975716440202, \"row_count\": 1225.0, \"P\": 80.0, \"N\": 1145.0, \"TP\": 43.0, \"TN\": 1145.0, \"FP\": 0.0, \"FN\": 37.0, \"P_rate\": 0.0, \"N_rate\": 0.9346938729286194, \"TP_rate\": 0.5375000238418579, \"TN_rate\": 1.0, \"FP_rate\": 0.0, \"FN_rate\": 0.4625000059604645, \"precision\": 1.0, \"recall\": 0.5375000238418579}, {\"truth_threshold\": 3.775674346888334, \"row_count\": 1225.0, \"P\": 80.0, \"N\": 1145.0, \"TP\": 42.0, \"TN\": 1145.0, \"FP\": 0.0, \"FN\": 38.0, \"P_rate\": 0.0, \"N_rate\": 0.9346938729286194, \"TP_rate\": 0.5249999761581421, \"TN_rate\": 1.0, \"FP_rate\": 0.0, \"FN_rate\": 0.4749999940395355, \"precision\": 1.0, \"recall\": 0.5249999761581421}, {\"truth_threshold\": 3.7852548612895047, \"row_count\": 1225.0, \"P\": 80.0, \"N\": 1145.0, \"TP\": 41.0, \"TN\": 1145.0, \"FP\": 0.0, \"FN\": 39.0, \"P_rate\": 0.0, \"N_rate\": 0.9346938729286194, \"TP_rate\": 0.512499988079071, \"TN_rate\": 1.0, \"FP_rate\": 0.0, \"FN_rate\": 0.48750001192092896, \"precision\": 1.0, \"recall\": 0.512499988079071}, {\"truth_threshold\": 4.178956410452192, \"row_count\": 1225.0, \"P\": 80.0, \"N\": 1145.0, \"TP\": 38.0, \"TN\": 1145.0, \"FP\": 0.0, \"FN\": 42.0, \"P_rate\": 0.0, \"N_rate\": 0.9346938729286194, \"TP_rate\": 0.4749999940395355, \"TN_rate\": 1.0, \"FP_rate\": 0.0, \"FN_rate\": 0.5249999761581421, \"precision\": 1.0, \"recall\": 0.4749999940395355}, {\"truth_threshold\": 4.261885281761051, \"row_count\": 1225.0, \"P\": 80.0, \"N\": 1145.0, \"TP\": 37.0, \"TN\": 1145.0, \"FP\": 0.0, \"FN\": 43.0, \"P_rate\": 0.0, \"N_rate\": 0.9346938729286194, \"TP_rate\": 0.4625000059604645, \"TN_rate\": 1.0, \"FP_rate\": 0.0, \"FN_rate\": 0.5375000238418579, \"precision\": 1.0, \"recall\": 0.4625000059604645}, {\"truth_threshold\": 4.629612635315715, \"row_count\": 1225.0, \"P\": 80.0, \"N\": 1145.0, \"TP\": 34.0, \"TN\": 1145.0, \"FP\": 0.0, \"FN\": 46.0, \"P_rate\": 0.0, \"N_rate\": 0.9346938729286194, \"TP_rate\": 0.42500001192092896, \"TN_rate\": 1.0, \"FP_rate\": 0.0, \"FN_rate\": 0.574999988079071, \"precision\": 1.0, \"recall\": 0.42500001192092896}, {\"truth_threshold\": 4.822974520626426, \"row_count\": 1225.0, \"P\": 80.0, \"N\": 1145.0, \"TP\": 30.0, \"TN\": 1145.0, \"FP\": 0.0, \"FN\": 50.0, \"P_rate\": 0.0, \"N_rate\": 0.9346938729286194, \"TP_rate\": 0.375, \"TN_rate\": 1.0, \"FP_rate\": 0.0, \"FN_rate\": 0.625, \"precision\": 1.0, \"recall\": 0.375}, {\"truth_threshold\": 5.075703494401467, \"row_count\": 1225.0, \"P\": 80.0, \"N\": 1145.0, \"TP\": 27.0, \"TN\": 1145.0, \"FP\": 0.0, \"FN\": 53.0, \"P_rate\": 0.0, \"N_rate\": 0.9346938729286194, \"TP_rate\": 0.3375000059604645, \"TN_rate\": 1.0, \"FP_rate\": 0.0, \"FN_rate\": 0.6625000238418579, \"precision\": 1.0, \"recall\": 0.3375000059604645}, {\"truth_threshold\": 5.371633359434597, \"row_count\": 1225.0, \"P\": 80.0, \"N\": 1145.0, \"TP\": 25.0, \"TN\": 1145.0, \"FP\": 0.0, \"FN\": 55.0, \"P_rate\": 0.0, \"N_rate\": 0.9346938729286194, \"TP_rate\": 0.3125, \"TN_rate\": 1.0, \"FP_rate\": 0.0, \"FN_rate\": 0.6875, \"precision\": 1.0, \"recall\": 0.3125}, {\"truth_threshold\": 5.561914429274184, \"row_count\": 1225.0, \"P\": 80.0, \"N\": 1145.0, \"TP\": 23.0, \"TN\": 1145.0, \"FP\": 0.0, \"FN\": 57.0, \"P_rate\": 0.0, \"N_rate\": 0.9346938729286194, \"TP_rate\": 0.2874999940395355, \"TN_rate\": 1.0, \"FP_rate\": 0.0, \"FN_rate\": 0.7124999761581421, \"precision\": 1.0, \"recall\": 0.2874999940395355}, {\"truth_threshold\": 5.75628827060755, \"row_count\": 1225.0, \"P\": 80.0, \"N\": 1145.0, \"TP\": 22.0, \"TN\": 1145.0, \"FP\": 0.0, \"FN\": 58.0, \"P_rate\": 0.0, \"N_rate\": 0.9346938729286194, \"TP_rate\": 0.2750000059604645, \"TN_rate\": 1.0, \"FP_rate\": 0.0, \"FN_rate\": 0.7250000238418579, \"precision\": 1.0, \"recall\": 0.2750000059604645}, {\"truth_threshold\": 5.848325062033588, \"row_count\": 1225.0, \"P\": 80.0, \"N\": 1145.0, \"TP\": 20.0, \"TN\": 1145.0, \"FP\": 0.0, \"FN\": 60.0, \"P_rate\": 0.0, \"N_rate\": 0.9346938729286194, \"TP_rate\": 0.25, \"TN_rate\": 1.0, \"FP_rate\": 0.0, \"FN_rate\": 0.75, \"precision\": 1.0, \"recall\": 0.25}, {\"truth_threshold\": 6.4983089947264325, \"row_count\": 1225.0, \"P\": 80.0, \"N\": 1145.0, \"TP\": 19.0, \"TN\": 1145.0, \"FP\": 0.0, \"FN\": 61.0, \"P_rate\": 0.0, \"N_rate\": 0.9346938729286194, \"TP_rate\": 0.23749999701976776, \"TN_rate\": 1.0, \"FP_rate\": 0.0, \"FN_rate\": 0.762499988079071, \"precision\": 1.0, \"recall\": 0.23749999701976776}, {\"truth_threshold\": 7.14835420954672, \"row_count\": 1225.0, \"P\": 80.0, \"N\": 1145.0, \"TP\": 17.0, \"TN\": 1145.0, \"FP\": 0.0, \"FN\": 63.0, \"P_rate\": 0.0, \"N_rate\": 0.9346938729286194, \"TP_rate\": 0.21250000596046448, \"TN_rate\": 1.0, \"FP_rate\": 0.0, \"FN_rate\": 0.7875000238418579, \"precision\": 1.0, \"recall\": 0.21250000596046448}, {\"truth_threshold\": 7.992711983572931, \"row_count\": 1225.0, \"P\": 80.0, \"N\": 1145.0, \"TP\": 16.0, \"TN\": 1145.0, \"FP\": 0.0, \"FN\": 64.0, \"P_rate\": 0.0, \"N_rate\": 0.9346938729286194, \"TP_rate\": 0.20000000298023224, \"TN_rate\": 1.0, \"FP_rate\": 0.0, \"FN_rate\": 0.800000011920929, \"precision\": 1.0, \"recall\": 0.20000000298023224}, {\"truth_threshold\": 10.597231340296712, \"row_count\": 1225.0, \"P\": 80.0, \"N\": 1145.0, \"TP\": 15.0, \"TN\": 1145.0, \"FP\": 0.0, \"FN\": 65.0, \"P_rate\": 0.0, \"N_rate\": 0.9346938729286194, \"TP_rate\": 0.1875, \"TN_rate\": 1.0, \"FP_rate\": 0.0, \"FN_rate\": 0.8125, \"precision\": 1.0, \"recall\": 0.1875}, {\"truth_threshold\": 10.98496706694079, \"row_count\": 1225.0, \"P\": 80.0, \"N\": 1145.0, \"TP\": 13.0, \"TN\": 1145.0, \"FP\": 0.0, \"FN\": 67.0, \"P_rate\": 0.0, \"N_rate\": 0.9346938729286194, \"TP_rate\": 0.16249999403953552, \"TN_rate\": 1.0, \"FP_rate\": 0.0, \"FN_rate\": 0.8374999761581421, \"precision\": 1.0, \"recall\": 0.16249999403953552}, {\"truth_threshold\": 11.723906975588548, \"row_count\": 1225.0, \"P\": 80.0, \"N\": 1145.0, \"TP\": 12.0, \"TN\": 1145.0, \"FP\": 0.0, \"FN\": 68.0, \"P_rate\": 0.0, \"N_rate\": 0.9346938729286194, \"TP_rate\": 0.15000000596046448, \"TN_rate\": 1.0, \"FP_rate\": 0.0, \"FN_rate\": 0.8500000238418579, \"precision\": 1.0, \"recall\": 0.15000000596046448}, {\"truth_threshold\": 11.789908289279118, \"row_count\": 1225.0, \"P\": 80.0, \"N\": 1145.0, \"TP\": 11.0, \"TN\": 1145.0, \"FP\": 0.0, \"FN\": 69.0, \"P_rate\": 0.0, \"N_rate\": 0.9346938729286194, \"TP_rate\": 0.13750000298023224, \"TN_rate\": 1.0, \"FP_rate\": 0.0, \"FN_rate\": 0.862500011920929, \"precision\": 1.0, \"recall\": 0.13750000298023224}, {\"truth_threshold\": 12.26659999187811, \"row_count\": 1225.0, \"P\": 80.0, \"N\": 1145.0, \"TP\": 10.0, \"TN\": 1145.0, \"FP\": 0.0, \"FN\": 70.0, \"P_rate\": 0.0, \"N_rate\": 0.9346938729286194, \"TP_rate\": 0.125, \"TN_rate\": 1.0, \"FP_rate\": 0.0, \"FN_rate\": 0.875, \"precision\": 1.0, \"recall\": 0.125}, {\"truth_threshold\": 12.827689230743484, \"row_count\": 1225.0, \"P\": 80.0, \"N\": 1145.0, \"TP\": 9.0, \"TN\": 1145.0, \"FP\": 0.0, \"FN\": 71.0, \"P_rate\": 0.0, \"N_rate\": 0.9346938729286194, \"TP_rate\": 0.11249999701976776, \"TN_rate\": 1.0, \"FP_rate\": 0.0, \"FN_rate\": 0.887499988079071, \"precision\": 1.0, \"recall\": 0.11249999701976776}, {\"truth_threshold\": 12.916583924570954, \"row_count\": 1225.0, \"P\": 80.0, \"N\": 1145.0, \"TP\": 8.0, \"TN\": 1145.0, \"FP\": 0.0, \"FN\": 72.0, \"P_rate\": 0.0, \"N_rate\": 0.9346938729286194, \"TP_rate\": 0.10000000149011612, \"TN_rate\": 1.0, \"FP_rate\": 0.0, \"FN_rate\": 0.8999999761581421, \"precision\": 1.0, \"recall\": 0.10000000149011612}, {\"truth_threshold\": 13.034617084154403, \"row_count\": 1225.0, \"P\": 80.0, \"N\": 1145.0, \"TP\": 7.0, \"TN\": 1145.0, \"FP\": 0.0, \"FN\": 73.0, \"P_rate\": 0.0, \"N_rate\": 0.9346938729286194, \"TP_rate\": 0.08749999850988388, \"TN_rate\": 1.0, \"FP_rate\": 0.0, \"FN_rate\": 0.9125000238418579, \"precision\": 1.0, \"recall\": 0.08749999850988388}, {\"truth_threshold\": 13.1385387705909, \"row_count\": 1225.0, \"P\": 80.0, \"N\": 1145.0, \"TP\": 6.0, \"TN\": 1145.0, \"FP\": 0.0, \"FN\": 74.0, \"P_rate\": 0.0, \"N_rate\": 0.9346938729286194, \"TP_rate\": 0.07500000298023224, \"TN_rate\": 1.0, \"FP_rate\": 0.0, \"FN_rate\": 0.925000011920929, \"precision\": 1.0, \"recall\": 0.07500000298023224}, {\"truth_threshold\": 14.503023704843491, \"row_count\": 1225.0, \"P\": 80.0, \"N\": 1145.0, \"TP\": 5.0, \"TN\": 1145.0, \"FP\": 0.0, \"FN\": 75.0, \"P_rate\": 0.0, \"N_rate\": 0.9346938729286194, \"TP_rate\": 0.0625, \"TN_rate\": 1.0, \"FP_rate\": 0.0, \"FN_rate\": 0.9375, \"precision\": 1.0, \"recall\": 0.0625}, {\"truth_threshold\": 20.92129863468801, \"row_count\": 1225.0, \"P\": 80.0, \"N\": 1145.0, \"TP\": 4.0, \"TN\": 1145.0, \"FP\": 0.0, \"FN\": 76.0, \"P_rate\": 0.0, \"N_rate\": 0.9346938729286194, \"TP_rate\": 0.05000000074505806, \"TN_rate\": 1.0, \"FP_rate\": 0.0, \"FN_rate\": 0.949999988079071, \"precision\": 1.0, \"recall\": 0.05000000074505806}, {\"truth_threshold\": 24.448630562439725, \"row_count\": 1225.0, \"P\": 80.0, \"N\": 1145.0, \"TP\": 3.0, \"TN\": 1145.0, \"FP\": 0.0, \"FN\": 77.0, \"P_rate\": 0.0, \"N_rate\": 0.9346938729286194, \"TP_rate\": 0.03750000149011612, \"TN_rate\": 1.0, \"FP_rate\": 0.0, \"FN_rate\": 0.9624999761581421, \"precision\": 1.0, \"recall\": 0.03750000149011612}]}, \"mark\": {\"type\": \"line\", \"clip\": true, \"point\": true}, \"encoding\": {\"tooltip\": [{\"type\": \"quantitative\", \"field\": \"truth_threshold\", \"format\": \".4f\"}, {\"type\": \"quantitative\", \"field\": \"FP_rate\", \"format\": \".4f\"}, {\"type\": \"quantitative\", \"field\": \"TP_rate\", \"format\": \".4f\"}, {\"type\": \"quantitative\", \"field\": \"TP\", \"format\": \",.0f\"}, {\"type\": \"quantitative\", \"field\": \"TN\", \"format\": \",.0f\"}, {\"type\": \"quantitative\", \"field\": \"FP\", \"format\": \",.0f\"}, {\"type\": \"quantitative\", \"field\": \"FN\", \"format\": \",.0f\"}, {\"type\": \"quantitative\", \"field\": \"precision\", \"format\": \".4f\"}, {\"type\": \"quantitative\", \"field\": \"recall\", \"format\": \".4f\"}], \"x\": {\"type\": \"quantitative\", \"field\": \"FP_rate\", \"sort\": [\"truth_threshold\"], \"title\": \"False Positive Rate amongst clerically reviewed records\"}, \"y\": {\"type\": \"quantitative\", \"field\": \"TP_rate\", \"sort\": [\"truth_threshold\"], \"title\": \"True Positive Rate amongst clerically reviewed records\"}}, \"selection\": {\"selector076\": {\"type\": \"interval\", \"bind\": \"scales\", \"encodings\": [\"x\"]}}}, {\"mode\": \"vega-lite\"});\n",
       "</script>"
      ],
      "text/plain": [
       "<splink.charts.VegaliteNoValidate at 0x7fdb1580da10>"
      ]
     },
     "execution_count": 32,
     "metadata": {},
     "output_type": "execute_result"
    }
   ],
   "source": [
    "linker.roc_chart_from_labels(\"labels\")"
   ]
  },
  {
   "cell_type": "markdown",
   "id": "9f749c3c",
   "metadata": {},
   "source": [
    "### Plot precision-recall chart\n",
    "\n",
    "A precision-recall chart is also available with `linker.precision_recall_from_labels`"
   ]
  },
  {
   "cell_type": "code",
   "execution_count": 33,
   "id": "18d25327",
   "metadata": {},
   "outputs": [
    {
     "data": {
      "text/html": [
       "\n",
       "<div id=\"altair-viz-7771848f962e4ed385bd4da25cf84f25\"></div>\n",
       "<script type=\"text/javascript\">\n",
       "  var VEGA_DEBUG = (typeof VEGA_DEBUG == \"undefined\") ? {} : VEGA_DEBUG;\n",
       "  (function(spec, embedOpt){\n",
       "    let outputDiv = document.currentScript.previousElementSibling;\n",
       "    if (outputDiv.id !== \"altair-viz-7771848f962e4ed385bd4da25cf84f25\") {\n",
       "      outputDiv = document.getElementById(\"altair-viz-7771848f962e4ed385bd4da25cf84f25\");\n",
       "    }\n",
       "    const paths = {\n",
       "      \"vega\": \"https://cdn.jsdelivr.net/npm//vega@5?noext\",\n",
       "      \"vega-lib\": \"https://cdn.jsdelivr.net/npm//vega-lib?noext\",\n",
       "      \"vega-lite\": \"https://cdn.jsdelivr.net/npm//vega-lite@4.17.0?noext\",\n",
       "      \"vega-embed\": \"https://cdn.jsdelivr.net/npm//vega-embed@6?noext\",\n",
       "    };\n",
       "\n",
       "    function maybeLoadScript(lib, version) {\n",
       "      var key = `${lib.replace(\"-\", \"\")}_version`;\n",
       "      return (VEGA_DEBUG[key] == version) ?\n",
       "        Promise.resolve(paths[lib]) :\n",
       "        new Promise(function(resolve, reject) {\n",
       "          var s = document.createElement('script');\n",
       "          document.getElementsByTagName(\"head\")[0].appendChild(s);\n",
       "          s.async = true;\n",
       "          s.onload = () => {\n",
       "            VEGA_DEBUG[key] = version;\n",
       "            return resolve(paths[lib]);\n",
       "          };\n",
       "          s.onerror = () => reject(`Error loading script: ${paths[lib]}`);\n",
       "          s.src = paths[lib];\n",
       "        });\n",
       "    }\n",
       "\n",
       "    function showError(err) {\n",
       "      outputDiv.innerHTML = `<div class=\"error\" style=\"color:red;\">${err}</div>`;\n",
       "      throw err;\n",
       "    }\n",
       "\n",
       "    function displayChart(vegaEmbed) {\n",
       "      vegaEmbed(outputDiv, spec, embedOpt)\n",
       "        .catch(err => showError(`Javascript Error: ${err.message}<br>This usually means there's a typo in your chart specification. See the javascript console for the full traceback.`));\n",
       "    }\n",
       "\n",
       "    if(typeof define === \"function\" && define.amd) {\n",
       "      requirejs.config({paths});\n",
       "      require([\"vega-embed\"], displayChart, err => showError(`Error loading script: ${err.message}`));\n",
       "    } else {\n",
       "      maybeLoadScript(\"vega\", \"5\")\n",
       "        .then(() => maybeLoadScript(\"vega-lite\", \"4.17.0\"))\n",
       "        .then(() => maybeLoadScript(\"vega-embed\", \"6\"))\n",
       "        .catch(showError)\n",
       "        .then(() => displayChart(vegaEmbed));\n",
       "    }\n",
       "  })({\"$schema\": \"https://vega.github.io/schema/vega-lite/v4.8.1.json\", \"title\": \"Precision-recall curve\", \"data\": {\"values\": [{\"truth_threshold\": -13.903062442799735, \"row_count\": 1225.0, \"P\": 80.0, \"N\": 1145.0, \"TP\": 80.0, \"TN\": 0.0, \"FP\": 1145.0, \"FN\": 0.0, \"P_rate\": 0.0, \"N_rate\": 0.9346938729286194, \"TP_rate\": 1.0, \"TN_rate\": 0.0, \"FP_rate\": 1.0, \"FN_rate\": 0.0, \"precision\": 0.06530611962080002, \"recall\": 1.0}, {\"truth_threshold\": -13.058704668773524, \"row_count\": 1225.0, \"P\": 80.0, \"N\": 1145.0, \"TP\": 79.0, \"TN\": 103.0, \"FP\": 1042.0, \"FN\": 1.0, \"P_rate\": 0.0, \"N_rate\": 0.9346938729286194, \"TP_rate\": 0.987500011920929, \"TN_rate\": 0.08995632827281952, \"FP_rate\": 0.9100436568260193, \"FN_rate\": 0.012500000186264515, \"precision\": 0.07047279179096222, \"recall\": 0.987500011920929}, {\"truth_threshold\": -12.7763868075079, \"row_count\": 1225.0, \"P\": 80.0, \"N\": 1145.0, \"TP\": 79.0, \"TN\": 145.0, \"FP\": 1000.0, \"FN\": 1.0, \"P_rate\": 0.0, \"N_rate\": 0.9346938729286194, \"TP_rate\": 0.987500011920929, \"TN_rate\": 0.1266375482082367, \"FP_rate\": 0.8733624219894409, \"FN_rate\": 0.012500000186264515, \"precision\": 0.07321593910455704, \"recall\": 0.987500011920929}, {\"truth_threshold\": -12.710385493817329, \"row_count\": 1225.0, \"P\": 80.0, \"N\": 1145.0, \"TP\": 79.0, \"TN\": 320.0, \"FP\": 825.0, \"FN\": 1.0, \"P_rate\": 0.0, \"N_rate\": 0.9346938729286194, \"TP_rate\": 0.987500011920929, \"TN_rate\": 0.27947598695755005, \"FP_rate\": 0.72052401304245, \"FN_rate\": 0.012500000186264515, \"precision\": 0.08738937973976135, \"recall\": 0.987500011920929}, {\"truth_threshold\": -11.932029033481689, \"row_count\": 1225.0, \"P\": 80.0, \"N\": 1145.0, \"TP\": 78.0, \"TN\": 401.0, \"FP\": 744.0, \"FN\": 2.0, \"P_rate\": 0.0, \"N_rate\": 0.9346938729286194, \"TP_rate\": 0.9750000238418579, \"TN_rate\": 0.3502183258533478, \"FP_rate\": 0.6497816443443298, \"FN_rate\": 0.02500000037252903, \"precision\": 0.09489051252603531, \"recall\": 0.9750000238418579}, {\"truth_threshold\": -11.866027719791118, \"row_count\": 1225.0, \"P\": 80.0, \"N\": 1145.0, \"TP\": 76.0, \"TN\": 510.0, \"FP\": 635.0, \"FN\": 4.0, \"P_rate\": 0.0, \"N_rate\": 0.9346938729286194, \"TP_rate\": 0.949999988079071, \"TN_rate\": 0.44541484117507935, \"FP_rate\": 0.5545851588249207, \"FN_rate\": 0.05000000074505806, \"precision\": 0.1068916991353035, \"recall\": 0.949999988079071}, {\"truth_threshold\": -11.83041172765448, \"row_count\": 1225.0, \"P\": 80.0, \"N\": 1145.0, \"TP\": 76.0, \"TN\": 523.0, \"FP\": 622.0, \"FN\": 4.0, \"P_rate\": 0.0, \"N_rate\": 0.9346938729286194, \"TP_rate\": 0.949999988079071, \"TN_rate\": 0.45676857233047485, \"FP_rate\": 0.5432314276695251, \"FN_rate\": 0.05000000074505806, \"precision\": 0.10888252407312393, \"recall\": 0.949999988079071}, {\"truth_threshold\": -11.583709858525493, \"row_count\": 1225.0, \"P\": 80.0, \"N\": 1145.0, \"TP\": 76.0, \"TN\": 611.0, \"FP\": 534.0, \"FN\": 4.0, \"P_rate\": 0.0, \"N_rate\": 0.9346938729286194, \"TP_rate\": 0.949999988079071, \"TN_rate\": 0.5336244702339172, \"FP_rate\": 0.46637555956840515, \"FN_rate\": 0.05000000074505806, \"precision\": 0.12459016591310501, \"recall\": 0.949999988079071}, {\"truth_threshold\": -11.361755012505549, \"row_count\": 1225.0, \"P\": 80.0, \"N\": 1145.0, \"TP\": 75.0, \"TN\": 705.0, \"FP\": 440.0, \"FN\": 5.0, \"P_rate\": 0.0, \"N_rate\": 0.9346938729286194, \"TP_rate\": 0.9375, \"TN_rate\": 0.6157205104827881, \"FP_rate\": 0.3842794895172119, \"FN_rate\": 0.0625, \"precision\": 0.1456310749053955, \"recall\": 0.9375}, {\"truth_threshold\": -10.98605395362827, \"row_count\": 1225.0, \"P\": 80.0, \"N\": 1145.0, \"TP\": 74.0, \"TN\": 721.0, \"FP\": 424.0, \"FN\": 6.0, \"P_rate\": 0.0, \"N_rate\": 0.9346938729286194, \"TP_rate\": 0.925000011920929, \"TN_rate\": 0.6296943426132202, \"FP_rate\": 0.3703056871891022, \"FN_rate\": 0.07500000298023224, \"precision\": 0.14859437942504883, \"recall\": 0.925000011920929}, {\"truth_threshold\": -10.739352084499282, \"row_count\": 1225.0, \"P\": 80.0, \"N\": 1145.0, \"TP\": 74.0, \"TN\": 759.0, \"FP\": 386.0, \"FN\": 6.0, \"P_rate\": 0.0, \"N_rate\": 0.9346938729286194, \"TP_rate\": 0.925000011920929, \"TN_rate\": 0.6628820896148682, \"FP_rate\": 0.33711791038513184, \"FN_rate\": 0.07500000298023224, \"precision\": 0.1608695685863495, \"recall\": 0.925000011920929}, {\"truth_threshold\": -10.703736092362647, \"row_count\": 1225.0, \"P\": 80.0, \"N\": 1145.0, \"TP\": 73.0, \"TN\": 784.0, \"FP\": 361.0, \"FN\": 7.0, \"P_rate\": 0.0, \"N_rate\": 0.9346938729286194, \"TP_rate\": 0.9125000238418579, \"TN_rate\": 0.6847161650657654, \"FP_rate\": 0.3152838349342346, \"FN_rate\": 0.08749999850988388, \"precision\": 0.16820275783538818, \"recall\": 0.9125000238418579}, {\"truth_threshold\": -10.637734778672074, \"row_count\": 1225.0, \"P\": 80.0, \"N\": 1145.0, \"TP\": 73.0, \"TN\": 826.0, \"FP\": 319.0, \"FN\": 7.0, \"P_rate\": 0.0, \"N_rate\": 0.9346938729286194, \"TP_rate\": 0.9125000238418579, \"TN_rate\": 0.7213973999023438, \"FP_rate\": 0.27860262989997864, \"FN_rate\": 0.08749999850988388, \"precision\": 0.18622449040412903, \"recall\": 0.9125000238418579}, {\"truth_threshold\": -10.517397238479338, \"row_count\": 1225.0, \"P\": 80.0, \"N\": 1145.0, \"TP\": 72.0, \"TN\": 918.0, \"FP\": 227.0, \"FN\": 8.0, \"P_rate\": 0.0, \"N_rate\": 0.9346938729286194, \"TP_rate\": 0.8999999761581421, \"TN_rate\": 0.8017467260360718, \"FP_rate\": 0.19825327396392822, \"FN_rate\": 0.10000000149011612, \"precision\": 0.24080267548561096, \"recall\": 0.8999999761581421}, {\"truth_threshold\": -10.169078063523143, \"row_count\": 1225.0, \"P\": 80.0, \"N\": 1145.0, \"TP\": 72.0, \"TN\": 924.0, \"FP\": 221.0, \"FN\": 8.0, \"P_rate\": 0.0, \"N_rate\": 0.9346938729286194, \"TP_rate\": 0.8999999761581421, \"TN_rate\": 0.806986927986145, \"FP_rate\": 0.19301310181617737, \"FN_rate\": 0.10000000149011612, \"precision\": 0.24573378264904022, \"recall\": 0.8999999761581421}, {\"truth_threshold\": -9.859378318336436, \"row_count\": 1225.0, \"P\": 80.0, \"N\": 1145.0, \"TP\": 72.0, \"TN\": 931.0, \"FP\": 214.0, \"FN\": 8.0, \"P_rate\": 0.0, \"N_rate\": 0.9346938729286194, \"TP_rate\": 0.8999999761581421, \"TN_rate\": 0.8131004571914673, \"FP_rate\": 0.1868995577096939, \"FN_rate\": 0.10000000149011612, \"precision\": 0.251748263835907, \"recall\": 0.8999999761581421}, {\"truth_threshold\": -9.793377004645865, \"row_count\": 1225.0, \"P\": 80.0, \"N\": 1145.0, \"TP\": 72.0, \"TN\": 957.0, \"FP\": 188.0, \"FN\": 8.0, \"P_rate\": 0.0, \"N_rate\": 0.9346938729286194, \"TP_rate\": 0.8999999761581421, \"TN_rate\": 0.8358078598976135, \"FP_rate\": 0.16419214010238647, \"FN_rate\": 0.10000000149011612, \"precision\": 0.2769230902194977, \"recall\": 0.8999999761581421}, {\"truth_threshold\": -9.51105914338024, \"row_count\": 1225.0, \"P\": 80.0, \"N\": 1145.0, \"TP\": 72.0, \"TN\": 973.0, \"FP\": 172.0, \"FN\": 8.0, \"P_rate\": 0.0, \"N_rate\": 0.9346938729286194, \"TP_rate\": 0.8999999761581421, \"TN_rate\": 0.8497816324234009, \"FP_rate\": 0.15021833777427673, \"FN_rate\": 0.10000000149011612, \"precision\": 0.2950819730758667, \"recall\": 0.8999999761581421}, {\"truth_threshold\": -9.324720289496932, \"row_count\": 1225.0, \"P\": 80.0, \"N\": 1145.0, \"TP\": 71.0, \"TN\": 1093.0, \"FP\": 52.0, \"FN\": 9.0, \"P_rate\": 0.0, \"N_rate\": 0.9346938729286194, \"TP_rate\": 0.887499988079071, \"TN_rate\": 0.9545851349830627, \"FP_rate\": 0.045414846390485764, \"FN_rate\": 0.11249999701976776, \"precision\": 0.577235758304596, \"recall\": 0.887499988079071}, {\"truth_threshold\": -8.66670136935403, \"row_count\": 1225.0, \"P\": 80.0, \"N\": 1145.0, \"TP\": 71.0, \"TN\": 1094.0, \"FP\": 51.0, \"FN\": 9.0, \"P_rate\": 0.0, \"N_rate\": 0.9346938729286194, \"TP_rate\": 0.887499988079071, \"TN_rate\": 0.9554585218429565, \"FP_rate\": 0.044541485607624054, \"FN_rate\": 0.11249999701976776, \"precision\": 0.5819672346115112, \"recall\": 0.887499988079071}, {\"truth_threshold\": -8.096427348377889, \"row_count\": 1225.0, \"P\": 80.0, \"N\": 1145.0, \"TP\": 71.0, \"TN\": 1118.0, \"FP\": 27.0, \"FN\": 9.0, \"P_rate\": 0.0, \"N_rate\": 0.9346938729286194, \"TP_rate\": 0.887499988079071, \"TN_rate\": 0.97641921043396, \"FP_rate\": 0.02358078584074974, \"FN_rate\": 0.11249999701976776, \"precision\": 0.7244898080825806, \"recall\": 0.887499988079071}, {\"truth_threshold\": -7.252069574351679, \"row_count\": 1225.0, \"P\": 80.0, \"N\": 1145.0, \"TP\": 69.0, \"TN\": 1123.0, \"FP\": 22.0, \"FN\": 11.0, \"P_rate\": 0.0, \"N_rate\": 0.9346938729286194, \"TP_rate\": 0.862500011920929, \"TN_rate\": 0.9807860255241394, \"FP_rate\": 0.019213974475860596, \"FN_rate\": 0.13750000298023224, \"precision\": 0.7582417726516724, \"recall\": 0.862500011920929}, {\"truth_threshold\": -7.089702373794927, \"row_count\": 1225.0, \"P\": 80.0, \"N\": 1145.0, \"TP\": 69.0, \"TN\": 1124.0, \"FP\": 21.0, \"FN\": 11.0, \"P_rate\": 0.0, \"N_rate\": 0.9346938729286194, \"TP_rate\": 0.862500011920929, \"TN_rate\": 0.9816594123840332, \"FP_rate\": 0.018340611830353737, \"FN_rate\": 0.13750000298023224, \"precision\": 0.7666666507720947, \"recall\": 0.862500011920929}, {\"truth_threshold\": -6.245344599768718, \"row_count\": 1225.0, \"P\": 80.0, \"N\": 1145.0, \"TP\": 69.0, \"TN\": 1127.0, \"FP\": 18.0, \"FN\": 11.0, \"P_rate\": 0.0, \"N_rate\": 0.9346938729286194, \"TP_rate\": 0.862500011920929, \"TN_rate\": 0.984279453754425, \"FP_rate\": 0.01572052389383316, \"FN_rate\": 0.13750000298023224, \"precision\": 0.7931034564971924, \"recall\": 0.862500011920929}, {\"truth_threshold\": -5.963026738503093, \"row_count\": 1225.0, \"P\": 80.0, \"N\": 1145.0, \"TP\": 69.0, \"TN\": 1128.0, \"FP\": 17.0, \"FN\": 11.0, \"P_rate\": 0.0, \"N_rate\": 0.9346938729286194, \"TP_rate\": 0.862500011920929, \"TN_rate\": 0.9851528406143188, \"FP_rate\": 0.014847161248326302, \"FN_rate\": 0.13750000298023224, \"precision\": 0.8023256063461304, \"recall\": 0.862500011920929}, {\"truth_threshold\": -5.024401071165882, \"row_count\": 1225.0, \"P\": 80.0, \"N\": 1145.0, \"TP\": 69.0, \"TN\": 1133.0, \"FP\": 12.0, \"FN\": 11.0, \"P_rate\": 0.0, \"N_rate\": 0.9346938729286194, \"TP_rate\": 0.862500011920929, \"TN_rate\": 0.9895196557044983, \"FP_rate\": 0.010480348952114582, \"FN_rate\": 0.13750000298023224, \"precision\": 0.8518518805503845, \"recall\": 0.862500011920929}, {\"truth_threshold\": -4.7703497895206874, \"row_count\": 1225.0, \"P\": 80.0, \"N\": 1145.0, \"TP\": 69.0, \"TN\": 1136.0, \"FP\": 9.0, \"FN\": 11.0, \"P_rate\": 0.0, \"N_rate\": 0.9346938729286194, \"TP_rate\": 0.862500011920929, \"TN_rate\": 0.9921397566795349, \"FP_rate\": 0.00786026194691658, \"FN_rate\": 0.13750000298023224, \"precision\": 0.8846153616905212, \"recall\": 0.862500011920929}, {\"truth_threshold\": -4.548394943500742, \"row_count\": 1225.0, \"P\": 80.0, \"N\": 1145.0, \"TP\": 69.0, \"TN\": 1142.0, \"FP\": 3.0, \"FN\": 11.0, \"P_rate\": 0.0, \"N_rate\": 0.9346938729286194, \"TP_rate\": 0.862500011920929, \"TN_rate\": 0.9973798990249634, \"FP_rate\": 0.0026200872380286455, \"FN_rate\": 0.13750000298023224, \"precision\": 0.9583333134651184, \"recall\": 0.862500011920929}, {\"truth_threshold\": -4.285461162518124, \"row_count\": 1225.0, \"P\": 80.0, \"N\": 1145.0, \"TP\": 69.0, \"TN\": 1144.0, \"FP\": 1.0, \"FN\": 11.0, \"P_rate\": 0.0, \"N_rate\": 0.9346938729286194, \"TP_rate\": 0.862500011920929, \"TN_rate\": 0.9991266131401062, \"FP_rate\": 0.0008733624708838761, \"FN_rate\": 0.13750000298023224, \"precision\": 0.9857142567634583, \"recall\": 0.862500011920929}, {\"truth_threshold\": -4.219459848827554, \"row_count\": 1225.0, \"P\": 80.0, \"N\": 1145.0, \"TP\": 68.0, \"TN\": 1144.0, \"FP\": 1.0, \"FN\": 12.0, \"P_rate\": 0.0, \"N_rate\": 0.9346938729286194, \"TP_rate\": 0.8500000238418579, \"TN_rate\": 0.9991266131401062, \"FP_rate\": 0.0008733624708838761, \"FN_rate\": 0.15000000596046448, \"precision\": 0.9855072498321533, \"recall\": 0.8500000238418579}, {\"truth_threshold\": -4.121688164697996, \"row_count\": 1225.0, \"P\": 80.0, \"N\": 1145.0, \"TP\": 67.0, \"TN\": 1144.0, \"FP\": 1.0, \"FN\": 13.0, \"P_rate\": 0.0, \"N_rate\": 0.9346938729286194, \"TP_rate\": 0.8374999761581421, \"TN_rate\": 0.9991266131401062, \"FP_rate\": 0.0008733624708838761, \"FN_rate\": 0.16249999403953552, \"precision\": 0.9852941036224365, \"recall\": 0.8374999761581421}, {\"truth_threshold\": -4.055686851007426, \"row_count\": 1225.0, \"P\": 80.0, \"N\": 1145.0, \"TP\": 66.0, \"TN\": 1144.0, \"FP\": 1.0, \"FN\": 14.0, \"P_rate\": 0.0, \"N_rate\": 0.9346938729286194, \"TP_rate\": 0.824999988079071, \"TN_rate\": 0.9991266131401062, \"FP_rate\": 0.0008733624708838761, \"FN_rate\": 0.17499999701976776, \"precision\": 0.9850746393203735, \"recall\": 0.824999988079071}, {\"truth_threshold\": -3.9259920154944767, \"row_count\": 1225.0, \"P\": 80.0, \"N\": 1145.0, \"TP\": 65.0, \"TN\": 1144.0, \"FP\": 1.0, \"FN\": 15.0, \"P_rate\": 0.0, \"N_rate\": 0.9346938729286194, \"TP_rate\": 0.8125, \"TN_rate\": 0.9991266131401062, \"FP_rate\": 0.0008733624708838761, \"FN_rate\": 0.1875, \"precision\": 0.9848484992980957, \"recall\": 0.8125}, {\"truth_threshold\": -3.8317241221834766, \"row_count\": 1225.0, \"P\": 80.0, \"N\": 1145.0, \"TP\": 64.0, \"TN\": 1144.0, \"FP\": 1.0, \"FN\": 16.0, \"P_rate\": 0.0, \"N_rate\": 0.9346938729286194, \"TP_rate\": 0.800000011920929, \"TN_rate\": 0.9991266131401062, \"FP_rate\": 0.0008733624708838761, \"FN_rate\": 0.20000000298023224, \"precision\": 0.9846153855323792, \"recall\": 0.800000011920929}, {\"truth_threshold\": -3.5789951484084357, \"row_count\": 1225.0, \"P\": 80.0, \"N\": 1145.0, \"TP\": 64.0, \"TN\": 1145.0, \"FP\": 0.0, \"FN\": 16.0, \"P_rate\": 0.0, \"N_rate\": 0.9346938729286194, \"TP_rate\": 0.800000011920929, \"TN_rate\": 1.0, \"FP_rate\": 0.0, \"FN_rate\": 0.20000000298023224, \"precision\": 1.0, \"recall\": 0.800000011920929}, {\"truth_threshold\": -3.4411033884919133, \"row_count\": 1225.0, \"P\": 80.0, \"N\": 1145.0, \"TP\": 63.0, \"TN\": 1145.0, \"FP\": 0.0, \"FN\": 17.0, \"P_rate\": 0.0, \"N_rate\": 0.9346938729286194, \"TP_rate\": 0.7875000238418579, \"TN_rate\": 1.0, \"FP_rate\": 0.0, \"FN_rate\": 0.21250000596046448, \"precision\": 1.0, \"recall\": 0.7875000238418579}, {\"truth_threshold\": -3.3751020748013425, \"row_count\": 1225.0, \"P\": 80.0, \"N\": 1145.0, \"TP\": 62.0, \"TN\": 1145.0, \"FP\": 0.0, \"FN\": 18.0, \"P_rate\": 0.0, \"N_rate\": 0.9346938729286194, \"TP_rate\": 0.7749999761581421, \"TN_rate\": 1.0, \"FP_rate\": 0.0, \"FN_rate\": 0.22499999403953552, \"precision\": 1.0, \"recall\": 0.7749999761581421}, {\"truth_threshold\": -3.277330390671786, \"row_count\": 1225.0, \"P\": 80.0, \"N\": 1145.0, \"TP\": 61.0, \"TN\": 1145.0, \"FP\": 0.0, \"FN\": 19.0, \"P_rate\": 0.0, \"N_rate\": 0.9346938729286194, \"TP_rate\": 0.762499988079071, \"TN_rate\": 1.0, \"FP_rate\": 0.0, \"FN_rate\": 0.23749999701976776, \"precision\": 1.0, \"recall\": 0.762499988079071}, {\"truth_threshold\": -3.0927842135357184, \"row_count\": 1225.0, \"P\": 80.0, \"N\": 1145.0, \"TP\": 58.0, \"TN\": 1145.0, \"FP\": 0.0, \"FN\": 22.0, \"P_rate\": 0.0, \"N_rate\": 0.9346938729286194, \"TP_rate\": 0.7250000238418579, \"TN_rate\": 1.0, \"FP_rate\": 0.0, \"FN_rate\": 0.2750000059604645, \"precision\": 1.0, \"recall\": 0.7250000238418579}, {\"truth_threshold\": -2.3313553108183678, \"row_count\": 1225.0, \"P\": 80.0, \"N\": 1145.0, \"TP\": 56.0, \"TN\": 1145.0, \"FP\": 0.0, \"FN\": 24.0, \"P_rate\": 0.0, \"N_rate\": 0.9346938729286194, \"TP_rate\": 0.699999988079071, \"TN_rate\": 1.0, \"FP_rate\": 0.0, \"FN_rate\": 0.30000001192092896, \"precision\": 1.0, \"recall\": 0.699999988079071}, {\"truth_threshold\": -2.1643633534060847, \"row_count\": 1225.0, \"P\": 80.0, \"N\": 1145.0, \"TP\": 55.0, \"TN\": 1145.0, \"FP\": 0.0, \"FN\": 25.0, \"P_rate\": 0.0, \"N_rate\": 0.9346938729286194, \"TP_rate\": 0.6875, \"TN_rate\": 1.0, \"FP_rate\": 0.0, \"FN_rate\": 0.3125, \"precision\": 1.0, \"recall\": 0.6875}, {\"truth_threshold\": -2.1563896480834703, \"row_count\": 1225.0, \"P\": 80.0, \"N\": 1145.0, \"TP\": 54.0, \"TN\": 1145.0, \"FP\": 0.0, \"FN\": 26.0, \"P_rate\": 0.0, \"N_rate\": 0.9346938729286194, \"TP_rate\": 0.675000011920929, \"TN_rate\": 1.0, \"FP_rate\": 0.0, \"FN_rate\": 0.32499998807907104, \"precision\": 1.0, \"recall\": 0.675000011920929}, {\"truth_threshold\": -2.0264715934895623, \"row_count\": 1225.0, \"P\": 80.0, \"N\": 1145.0, \"TP\": 52.0, \"TN\": 1145.0, \"FP\": 0.0, \"FN\": 28.0, \"P_rate\": 0.0, \"N_rate\": 0.9346938729286194, \"TP_rate\": 0.6499999761581421, \"TN_rate\": 1.0, \"FP_rate\": 0.0, \"FN_rate\": 0.3499999940395355, \"precision\": 1.0, \"recall\": 0.6499999761581421}, {\"truth_threshold\": -1.9830361358621726, \"row_count\": 1225.0, \"P\": 80.0, \"N\": 1145.0, \"TP\": 51.0, \"TN\": 1145.0, \"FP\": 0.0, \"FN\": 29.0, \"P_rate\": 0.0, \"N_rate\": 0.9346938729286194, \"TP_rate\": 0.637499988079071, \"TN_rate\": 1.0, \"FP_rate\": 0.0, \"FN_rate\": 0.36250001192092896, \"precision\": 1.0, \"recall\": 0.637499988079071}, {\"truth_threshold\": -0.8563605005703377, \"row_count\": 1225.0, \"P\": 80.0, \"N\": 1145.0, \"TP\": 49.0, \"TN\": 1145.0, \"FP\": 0.0, \"FN\": 31.0, \"P_rate\": 0.0, \"N_rate\": 0.9346938729286194, \"TP_rate\": 0.612500011920929, \"TN_rate\": 1.0, \"FP_rate\": 0.0, \"FN_rate\": 0.38749998807907104, \"precision\": 1.0, \"recall\": 0.612500011920929}, {\"truth_threshold\": -0.7417578530811191, \"row_count\": 1225.0, \"P\": 80.0, \"N\": 1145.0, \"TP\": 48.0, \"TN\": 1145.0, \"FP\": 0.0, \"FN\": 32.0, \"P_rate\": 0.0, \"N_rate\": 0.9346938729286194, \"TP_rate\": 0.6000000238418579, \"TN_rate\": 1.0, \"FP_rate\": 0.0, \"FN_rate\": 0.4000000059604645, \"precision\": 1.0, \"recall\": 0.6000000238418579}, {\"truth_threshold\": -0.012002726544127233, \"row_count\": 1225.0, \"P\": 80.0, \"N\": 1145.0, \"TP\": 47.0, \"TN\": 1145.0, \"FP\": 0.0, \"FN\": 33.0, \"P_rate\": 0.0, \"N_rate\": 0.9346938729286194, \"TP_rate\": 0.5874999761581421, \"TN_rate\": 1.0, \"FP_rate\": 0.0, \"FN_rate\": 0.4124999940395355, \"precision\": 1.0, \"recall\": 0.5874999761581421}, {\"truth_threshold\": 3.1352096464692165, \"row_count\": 1225.0, \"P\": 80.0, \"N\": 1145.0, \"TP\": 46.0, \"TN\": 1145.0, \"FP\": 0.0, \"FN\": 34.0, \"P_rate\": 0.0, \"N_rate\": 0.9346938729286194, \"TP_rate\": 0.574999988079071, \"TN_rate\": 1.0, \"FP_rate\": 0.0, \"FN_rate\": 0.42500001192092896, \"precision\": 1.0, \"recall\": 0.574999988079071}, {\"truth_threshold\": 3.6302975716440202, \"row_count\": 1225.0, \"P\": 80.0, \"N\": 1145.0, \"TP\": 43.0, \"TN\": 1145.0, \"FP\": 0.0, \"FN\": 37.0, \"P_rate\": 0.0, \"N_rate\": 0.9346938729286194, \"TP_rate\": 0.5375000238418579, \"TN_rate\": 1.0, \"FP_rate\": 0.0, \"FN_rate\": 0.4625000059604645, \"precision\": 1.0, \"recall\": 0.5375000238418579}, {\"truth_threshold\": 3.775674346888334, \"row_count\": 1225.0, \"P\": 80.0, \"N\": 1145.0, \"TP\": 42.0, \"TN\": 1145.0, \"FP\": 0.0, \"FN\": 38.0, \"P_rate\": 0.0, \"N_rate\": 0.9346938729286194, \"TP_rate\": 0.5249999761581421, \"TN_rate\": 1.0, \"FP_rate\": 0.0, \"FN_rate\": 0.4749999940395355, \"precision\": 1.0, \"recall\": 0.5249999761581421}, {\"truth_threshold\": 3.7852548612895047, \"row_count\": 1225.0, \"P\": 80.0, \"N\": 1145.0, \"TP\": 41.0, \"TN\": 1145.0, \"FP\": 0.0, \"FN\": 39.0, \"P_rate\": 0.0, \"N_rate\": 0.9346938729286194, \"TP_rate\": 0.512499988079071, \"TN_rate\": 1.0, \"FP_rate\": 0.0, \"FN_rate\": 0.48750001192092896, \"precision\": 1.0, \"recall\": 0.512499988079071}, {\"truth_threshold\": 4.178956410452192, \"row_count\": 1225.0, \"P\": 80.0, \"N\": 1145.0, \"TP\": 38.0, \"TN\": 1145.0, \"FP\": 0.0, \"FN\": 42.0, \"P_rate\": 0.0, \"N_rate\": 0.9346938729286194, \"TP_rate\": 0.4749999940395355, \"TN_rate\": 1.0, \"FP_rate\": 0.0, \"FN_rate\": 0.5249999761581421, \"precision\": 1.0, \"recall\": 0.4749999940395355}, {\"truth_threshold\": 4.261885281761051, \"row_count\": 1225.0, \"P\": 80.0, \"N\": 1145.0, \"TP\": 37.0, \"TN\": 1145.0, \"FP\": 0.0, \"FN\": 43.0, \"P_rate\": 0.0, \"N_rate\": 0.9346938729286194, \"TP_rate\": 0.4625000059604645, \"TN_rate\": 1.0, \"FP_rate\": 0.0, \"FN_rate\": 0.5375000238418579, \"precision\": 1.0, \"recall\": 0.4625000059604645}, {\"truth_threshold\": 4.629612635315715, \"row_count\": 1225.0, \"P\": 80.0, \"N\": 1145.0, \"TP\": 34.0, \"TN\": 1145.0, \"FP\": 0.0, \"FN\": 46.0, \"P_rate\": 0.0, \"N_rate\": 0.9346938729286194, \"TP_rate\": 0.42500001192092896, \"TN_rate\": 1.0, \"FP_rate\": 0.0, \"FN_rate\": 0.574999988079071, \"precision\": 1.0, \"recall\": 0.42500001192092896}, {\"truth_threshold\": 4.822974520626426, \"row_count\": 1225.0, \"P\": 80.0, \"N\": 1145.0, \"TP\": 30.0, \"TN\": 1145.0, \"FP\": 0.0, \"FN\": 50.0, \"P_rate\": 0.0, \"N_rate\": 0.9346938729286194, \"TP_rate\": 0.375, \"TN_rate\": 1.0, \"FP_rate\": 0.0, \"FN_rate\": 0.625, \"precision\": 1.0, \"recall\": 0.375}, {\"truth_threshold\": 5.075703494401467, \"row_count\": 1225.0, \"P\": 80.0, \"N\": 1145.0, \"TP\": 27.0, \"TN\": 1145.0, \"FP\": 0.0, \"FN\": 53.0, \"P_rate\": 0.0, \"N_rate\": 0.9346938729286194, \"TP_rate\": 0.3375000059604645, \"TN_rate\": 1.0, \"FP_rate\": 0.0, \"FN_rate\": 0.6625000238418579, \"precision\": 1.0, \"recall\": 0.3375000059604645}, {\"truth_threshold\": 5.371633359434597, \"row_count\": 1225.0, \"P\": 80.0, \"N\": 1145.0, \"TP\": 25.0, \"TN\": 1145.0, \"FP\": 0.0, \"FN\": 55.0, \"P_rate\": 0.0, \"N_rate\": 0.9346938729286194, \"TP_rate\": 0.3125, \"TN_rate\": 1.0, \"FP_rate\": 0.0, \"FN_rate\": 0.6875, \"precision\": 1.0, \"recall\": 0.3125}, {\"truth_threshold\": 5.561914429274184, \"row_count\": 1225.0, \"P\": 80.0, \"N\": 1145.0, \"TP\": 23.0, \"TN\": 1145.0, \"FP\": 0.0, \"FN\": 57.0, \"P_rate\": 0.0, \"N_rate\": 0.9346938729286194, \"TP_rate\": 0.2874999940395355, \"TN_rate\": 1.0, \"FP_rate\": 0.0, \"FN_rate\": 0.7124999761581421, \"precision\": 1.0, \"recall\": 0.2874999940395355}, {\"truth_threshold\": 5.75628827060755, \"row_count\": 1225.0, \"P\": 80.0, \"N\": 1145.0, \"TP\": 22.0, \"TN\": 1145.0, \"FP\": 0.0, \"FN\": 58.0, \"P_rate\": 0.0, \"N_rate\": 0.9346938729286194, \"TP_rate\": 0.2750000059604645, \"TN_rate\": 1.0, \"FP_rate\": 0.0, \"FN_rate\": 0.7250000238418579, \"precision\": 1.0, \"recall\": 0.2750000059604645}, {\"truth_threshold\": 5.848325062033588, \"row_count\": 1225.0, \"P\": 80.0, \"N\": 1145.0, \"TP\": 20.0, \"TN\": 1145.0, \"FP\": 0.0, \"FN\": 60.0, \"P_rate\": 0.0, \"N_rate\": 0.9346938729286194, \"TP_rate\": 0.25, \"TN_rate\": 1.0, \"FP_rate\": 0.0, \"FN_rate\": 0.75, \"precision\": 1.0, \"recall\": 0.25}, {\"truth_threshold\": 6.4983089947264325, \"row_count\": 1225.0, \"P\": 80.0, \"N\": 1145.0, \"TP\": 19.0, \"TN\": 1145.0, \"FP\": 0.0, \"FN\": 61.0, \"P_rate\": 0.0, \"N_rate\": 0.9346938729286194, \"TP_rate\": 0.23749999701976776, \"TN_rate\": 1.0, \"FP_rate\": 0.0, \"FN_rate\": 0.762499988079071, \"precision\": 1.0, \"recall\": 0.23749999701976776}, {\"truth_threshold\": 7.14835420954672, \"row_count\": 1225.0, \"P\": 80.0, \"N\": 1145.0, \"TP\": 17.0, \"TN\": 1145.0, \"FP\": 0.0, \"FN\": 63.0, \"P_rate\": 0.0, \"N_rate\": 0.9346938729286194, \"TP_rate\": 0.21250000596046448, \"TN_rate\": 1.0, \"FP_rate\": 0.0, \"FN_rate\": 0.7875000238418579, \"precision\": 1.0, \"recall\": 0.21250000596046448}, {\"truth_threshold\": 7.992711983572931, \"row_count\": 1225.0, \"P\": 80.0, \"N\": 1145.0, \"TP\": 16.0, \"TN\": 1145.0, \"FP\": 0.0, \"FN\": 64.0, \"P_rate\": 0.0, \"N_rate\": 0.9346938729286194, \"TP_rate\": 0.20000000298023224, \"TN_rate\": 1.0, \"FP_rate\": 0.0, \"FN_rate\": 0.800000011920929, \"precision\": 1.0, \"recall\": 0.20000000298023224}, {\"truth_threshold\": 10.597231340296712, \"row_count\": 1225.0, \"P\": 80.0, \"N\": 1145.0, \"TP\": 15.0, \"TN\": 1145.0, \"FP\": 0.0, \"FN\": 65.0, \"P_rate\": 0.0, \"N_rate\": 0.9346938729286194, \"TP_rate\": 0.1875, \"TN_rate\": 1.0, \"FP_rate\": 0.0, \"FN_rate\": 0.8125, \"precision\": 1.0, \"recall\": 0.1875}, {\"truth_threshold\": 10.98496706694079, \"row_count\": 1225.0, \"P\": 80.0, \"N\": 1145.0, \"TP\": 13.0, \"TN\": 1145.0, \"FP\": 0.0, \"FN\": 67.0, \"P_rate\": 0.0, \"N_rate\": 0.9346938729286194, \"TP_rate\": 0.16249999403953552, \"TN_rate\": 1.0, \"FP_rate\": 0.0, \"FN_rate\": 0.8374999761581421, \"precision\": 1.0, \"recall\": 0.16249999403953552}, {\"truth_threshold\": 11.723906975588548, \"row_count\": 1225.0, \"P\": 80.0, \"N\": 1145.0, \"TP\": 12.0, \"TN\": 1145.0, \"FP\": 0.0, \"FN\": 68.0, \"P_rate\": 0.0, \"N_rate\": 0.9346938729286194, \"TP_rate\": 0.15000000596046448, \"TN_rate\": 1.0, \"FP_rate\": 0.0, \"FN_rate\": 0.8500000238418579, \"precision\": 1.0, \"recall\": 0.15000000596046448}, {\"truth_threshold\": 11.789908289279118, \"row_count\": 1225.0, \"P\": 80.0, \"N\": 1145.0, \"TP\": 11.0, \"TN\": 1145.0, \"FP\": 0.0, \"FN\": 69.0, \"P_rate\": 0.0, \"N_rate\": 0.9346938729286194, \"TP_rate\": 0.13750000298023224, \"TN_rate\": 1.0, \"FP_rate\": 0.0, \"FN_rate\": 0.862500011920929, \"precision\": 1.0, \"recall\": 0.13750000298023224}, {\"truth_threshold\": 12.26659999187811, \"row_count\": 1225.0, \"P\": 80.0, \"N\": 1145.0, \"TP\": 10.0, \"TN\": 1145.0, \"FP\": 0.0, \"FN\": 70.0, \"P_rate\": 0.0, \"N_rate\": 0.9346938729286194, \"TP_rate\": 0.125, \"TN_rate\": 1.0, \"FP_rate\": 0.0, \"FN_rate\": 0.875, \"precision\": 1.0, \"recall\": 0.125}, {\"truth_threshold\": 12.827689230743484, \"row_count\": 1225.0, \"P\": 80.0, \"N\": 1145.0, \"TP\": 9.0, \"TN\": 1145.0, \"FP\": 0.0, \"FN\": 71.0, \"P_rate\": 0.0, \"N_rate\": 0.9346938729286194, \"TP_rate\": 0.11249999701976776, \"TN_rate\": 1.0, \"FP_rate\": 0.0, \"FN_rate\": 0.887499988079071, \"precision\": 1.0, \"recall\": 0.11249999701976776}, {\"truth_threshold\": 12.916583924570954, \"row_count\": 1225.0, \"P\": 80.0, \"N\": 1145.0, \"TP\": 8.0, \"TN\": 1145.0, \"FP\": 0.0, \"FN\": 72.0, \"P_rate\": 0.0, \"N_rate\": 0.9346938729286194, \"TP_rate\": 0.10000000149011612, \"TN_rate\": 1.0, \"FP_rate\": 0.0, \"FN_rate\": 0.8999999761581421, \"precision\": 1.0, \"recall\": 0.10000000149011612}, {\"truth_threshold\": 13.034617084154403, \"row_count\": 1225.0, \"P\": 80.0, \"N\": 1145.0, \"TP\": 7.0, \"TN\": 1145.0, \"FP\": 0.0, \"FN\": 73.0, \"P_rate\": 0.0, \"N_rate\": 0.9346938729286194, \"TP_rate\": 0.08749999850988388, \"TN_rate\": 1.0, \"FP_rate\": 0.0, \"FN_rate\": 0.9125000238418579, \"precision\": 1.0, \"recall\": 0.08749999850988388}, {\"truth_threshold\": 13.1385387705909, \"row_count\": 1225.0, \"P\": 80.0, \"N\": 1145.0, \"TP\": 6.0, \"TN\": 1145.0, \"FP\": 0.0, \"FN\": 74.0, \"P_rate\": 0.0, \"N_rate\": 0.9346938729286194, \"TP_rate\": 0.07500000298023224, \"TN_rate\": 1.0, \"FP_rate\": 0.0, \"FN_rate\": 0.925000011920929, \"precision\": 1.0, \"recall\": 0.07500000298023224}, {\"truth_threshold\": 14.503023704843491, \"row_count\": 1225.0, \"P\": 80.0, \"N\": 1145.0, \"TP\": 5.0, \"TN\": 1145.0, \"FP\": 0.0, \"FN\": 75.0, \"P_rate\": 0.0, \"N_rate\": 0.9346938729286194, \"TP_rate\": 0.0625, \"TN_rate\": 1.0, \"FP_rate\": 0.0, \"FN_rate\": 0.9375, \"precision\": 1.0, \"recall\": 0.0625}, {\"truth_threshold\": 20.92129863468801, \"row_count\": 1225.0, \"P\": 80.0, \"N\": 1145.0, \"TP\": 4.0, \"TN\": 1145.0, \"FP\": 0.0, \"FN\": 76.0, \"P_rate\": 0.0, \"N_rate\": 0.9346938729286194, \"TP_rate\": 0.05000000074505806, \"TN_rate\": 1.0, \"FP_rate\": 0.0, \"FN_rate\": 0.949999988079071, \"precision\": 1.0, \"recall\": 0.05000000074505806}, {\"truth_threshold\": 24.448630562439725, \"row_count\": 1225.0, \"P\": 80.0, \"N\": 1145.0, \"TP\": 3.0, \"TN\": 1145.0, \"FP\": 0.0, \"FN\": 77.0, \"P_rate\": 0.0, \"N_rate\": 0.9346938729286194, \"TP_rate\": 0.03750000149011612, \"TN_rate\": 1.0, \"FP_rate\": 0.0, \"FN_rate\": 0.9624999761581421, \"precision\": 1.0, \"recall\": 0.03750000149011612}]}, \"mark\": {\"type\": \"line\", \"clip\": true, \"point\": true}, \"encoding\": {\"tooltip\": [{\"type\": \"quantitative\", \"field\": \"truth_threshold\", \"format\": \".4f\"}, {\"type\": \"quantitative\", \"field\": \"FP_rate\", \"format\": \".4f\"}, {\"type\": \"quantitative\", \"field\": \"TP_rate\", \"format\": \".4f\"}, {\"type\": \"quantitative\", \"field\": \"TP\", \"format\": \",.0f\"}, {\"type\": \"quantitative\", \"field\": \"TN\", \"format\": \",.0f\"}, {\"type\": \"quantitative\", \"field\": \"FP\", \"format\": \",.0f\"}, {\"type\": \"quantitative\", \"field\": \"FN\", \"format\": \",.0f\"}, {\"type\": \"quantitative\", \"field\": \"precision\", \"format\": \".4f\"}, {\"type\": \"quantitative\", \"field\": \"recall\", \"format\": \".4f\"}], \"x\": {\"type\": \"quantitative\", \"field\": \"recall\", \"sort\": [\"-recall\"], \"title\": \"Recall\"}, \"y\": {\"type\": \"quantitative\", \"field\": \"precision\", \"sort\": [\"-precision\"], \"title\": \"Precision\"}}, \"height\": 400, \"width\": 400}, {\"mode\": \"vega-lite\"});\n",
       "</script>"
      ],
      "text/plain": [
       "<splink.charts.VegaliteNoValidate at 0x7fdb15d20c10>"
      ]
     },
     "execution_count": 33,
     "metadata": {},
     "output_type": "execute_result"
    }
   ],
   "source": [
    "linker.precision_recall_chart_from_labels(\"labels\")"
   ]
  },
  {
   "cell_type": "markdown",
   "id": "dfc81001",
   "metadata": {},
   "source": [
    "## Splink comparison viewer\n",
    "\n",
    "Create a [splink_comparison_viewer](https://www.youtube.com/watch?v=DNvCMqjipis) interactive dashboard and display in an iframe"
   ]
  },
  {
   "cell_type": "code",
   "execution_count": 34,
   "id": "9e29f677",
   "metadata": {},
   "outputs": [
    {
     "data": {
      "text/html": [
       "\n",
       "        <iframe\n",
       "            width=\"100%\"\n",
       "            height=\"1200\"\n",
       "            src=\"./scv.html\"\n",
       "            frameborder=\"0\"\n",
       "            allowfullscreen\n",
       "        ></iframe>\n",
       "        "
      ],
      "text/plain": [
       "<IPython.lib.display.IFrame at 0x7fdb15b3e850>"
      ]
     },
     "execution_count": 34,
     "metadata": {},
     "output_type": "execute_result"
    }
   ],
   "source": [
    "linker.comparison_viewer_dashboard(df_predictions, \"scv.html\", True,2)\n",
    "\n",
    "from IPython.display import IFrame\n",
    "\n",
    "IFrame(\n",
    "    src=\"./scv.html\", width=\"100%\", height=1200\n",
    ")  "
   ]
  },
  {
   "cell_type": "markdown",
   "id": "51b954c4",
   "metadata": {},
   "source": [
    "## Clustering and visualising clusters"
   ]
  },
  {
   "cell_type": "code",
   "execution_count": 36,
   "id": "63d30ebc",
   "metadata": {},
   "outputs": [
    {
     "name": "stderr",
     "output_type": "stream",
     "text": [
      "Completed iteration 1, root rows count 32\n",
      "Completed iteration 2, root rows count 21\n",
      "Completed iteration 3, root rows count 11\n",
      "Completed iteration 4, root rows count 8\n",
      "Completed iteration 5, root rows count 3\n",
      "Completed iteration 6, root rows count 1\n",
      "Completed iteration 7, root rows count 0\n"
     ]
    },
    {
     "data": {
      "text/html": [
       "<div>\n",
       "<style scoped>\n",
       "    .dataframe tbody tr th:only-of-type {\n",
       "        vertical-align: middle;\n",
       "    }\n",
       "\n",
       "    .dataframe tbody tr th {\n",
       "        vertical-align: top;\n",
       "    }\n",
       "\n",
       "    .dataframe thead th {\n",
       "        text-align: right;\n",
       "    }\n",
       "</style>\n",
       "<table border=\"1\" class=\"dataframe\">\n",
       "  <thead>\n",
       "    <tr style=\"text-align: right;\">\n",
       "      <th></th>\n",
       "      <th>cluster_id</th>\n",
       "      <th>unique_id</th>\n",
       "      <th>first_name</th>\n",
       "      <th>surname</th>\n",
       "      <th>dob</th>\n",
       "      <th>city</th>\n",
       "      <th>email</th>\n",
       "      <th>cluster</th>\n",
       "      <th>tf_city</th>\n",
       "    </tr>\n",
       "  </thead>\n",
       "  <tbody>\n",
       "    <tr>\n",
       "      <th>0</th>\n",
       "      <td>0</td>\n",
       "      <td>0</td>\n",
       "      <td>Robert</td>\n",
       "      <td>Alan</td>\n",
       "      <td>1971-06-24</td>\n",
       "      <td>NaN</td>\n",
       "      <td>robert255@smith.net</td>\n",
       "      <td>0</td>\n",
       "      <td>NaN</td>\n",
       "    </tr>\n",
       "    <tr>\n",
       "      <th>1</th>\n",
       "      <td>1</td>\n",
       "      <td>1</td>\n",
       "      <td>Robert</td>\n",
       "      <td>Allen</td>\n",
       "      <td>1971-05-24</td>\n",
       "      <td>NaN</td>\n",
       "      <td>roberta25@smith.net</td>\n",
       "      <td>0</td>\n",
       "      <td>NaN</td>\n",
       "    </tr>\n",
       "    <tr>\n",
       "      <th>2</th>\n",
       "      <td>1</td>\n",
       "      <td>2</td>\n",
       "      <td>Rob</td>\n",
       "      <td>Allen</td>\n",
       "      <td>1971-06-24</td>\n",
       "      <td>London</td>\n",
       "      <td>roberta25@smith.net</td>\n",
       "      <td>0</td>\n",
       "      <td>0.212792</td>\n",
       "    </tr>\n",
       "    <tr>\n",
       "      <th>3</th>\n",
       "      <td>0</td>\n",
       "      <td>3</td>\n",
       "      <td>Robert</td>\n",
       "      <td>Alen</td>\n",
       "      <td>1971-06-24</td>\n",
       "      <td>Lonon</td>\n",
       "      <td>NaN</td>\n",
       "      <td>0</td>\n",
       "      <td>0.007380</td>\n",
       "    </tr>\n",
       "    <tr>\n",
       "      <th>4</th>\n",
       "      <td>4</td>\n",
       "      <td>4</td>\n",
       "      <td>Grace</td>\n",
       "      <td>NaN</td>\n",
       "      <td>1997-04-26</td>\n",
       "      <td>Hull</td>\n",
       "      <td>grace.kelly52@jones.com</td>\n",
       "      <td>1</td>\n",
       "      <td>0.001230</td>\n",
       "    </tr>\n",
       "  </tbody>\n",
       "</table>\n",
       "</div>"
      ],
      "text/plain": [
       "   cluster_id  unique_id first_name surname         dob    city  \\\n",
       "0           0          0     Robert    Alan  1971-06-24     NaN   \n",
       "1           1          1     Robert   Allen  1971-05-24     NaN   \n",
       "2           1          2        Rob   Allen  1971-06-24  London   \n",
       "3           0          3     Robert    Alen  1971-06-24   Lonon   \n",
       "4           4          4      Grace     NaN  1997-04-26    Hull   \n",
       "\n",
       "                     email  cluster   tf_city  \n",
       "0      robert255@smith.net        0       NaN  \n",
       "1      roberta25@smith.net        0       NaN  \n",
       "2      roberta25@smith.net        0  0.212792  \n",
       "3                      NaN        0  0.007380  \n",
       "4  grace.kelly52@jones.com        1  0.001230  "
      ]
     },
     "execution_count": 36,
     "metadata": {},
     "output_type": "execute_result"
    }
   ],
   "source": [
    "df_clustered = linker.cluster_pairwise_predictions_at_threshold(df_predictions, 0.2)\n",
    "df_clustered.as_pandas_dataframe(limit=5)"
   ]
  },
  {
   "cell_type": "code",
   "execution_count": 37,
   "id": "c1154d41",
   "metadata": {},
   "outputs": [
    {
     "data": {
      "text/html": [
       "\n",
       "        <iframe\n",
       "            width=\"100%\"\n",
       "            height=\"1200\"\n",
       "            src=\"./cluster_studio.html\"\n",
       "            frameborder=\"0\"\n",
       "            allowfullscreen\n",
       "        ></iframe>\n",
       "        "
      ],
      "text/plain": [
       "<IPython.lib.display.IFrame at 0x7fdb15d87b90>"
      ]
     },
     "execution_count": 37,
     "metadata": {},
     "output_type": "execute_result"
    }
   ],
   "source": [
    "linker.cluster_studio_dashboard(df_predictions,df_clustered, sampling_method=\"by_cluster_size\", out_path=\"cluster_studio.html\", overwrite=True)\n",
    "\n",
    "from IPython.display import IFrame\n",
    "\n",
    "IFrame(\n",
    "    src=\"./cluster_studio.html\", width=\"100%\", height=1200\n",
    ")  "
   ]
  },
  {
   "cell_type": "code",
   "execution_count": null,
   "id": "48b76176",
   "metadata": {},
   "outputs": [],
   "source": []
  }
 ],
 "metadata": {
  "kernelspec": {
   "display_name": "Python 3",
   "language": "python",
   "name": "python3"
  },
  "language_info": {
   "codemirror_mode": {
    "name": "ipython",
    "version": 3
   },
   "file_extension": ".py",
   "mimetype": "text/x-python",
   "name": "python",
   "nbconvert_exporter": "python",
   "pygments_lexer": "ipython3",
   "version": "3.7.4"
  }
 },
 "nbformat": 4,
 "nbformat_minor": 5
}
