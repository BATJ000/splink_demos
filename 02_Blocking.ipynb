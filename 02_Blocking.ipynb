{
 "cells": [
  {
   "cell_type": "markdown",
   "metadata": {},
   "source": [
    "# Analysing blocking rules to optimise runtimes\n",
    "\n",
    "For most large datasets, it will be computationally intractable to compare every row with every other row for the purpose of record linkage. We can use a technique called blocking to dramatically reduce the number of comparisons by comparing only records that adhere to certain rules, such as that the first name and date of birth must be equal.\n",
    "\n",
    "This is part of a two step process to link data:\n",
    "\n",
    "Step 1:  Use blocking rules to generate candidate pairwise record comparisons\n",
    "\n",
    "Step 2:  Use a probabilistic linkage model to score these candidate pairs, to determine which ones should be linked\n",
    "\n",
    "In Splink, blocking rules are specified as SQL expressions. For example, to generate the subset of record comparisons where the first name matches, we can specify the following blocking rule:\n",
    "\n",
    "`l.first_name = r.first_name`\n",
    "\n",
    "Since blocking rules are SQL expressions, they can be arbitrarily complex. A example is as follows:\n",
    "\n",
    "`substr(l.first_name, 1,1) = substr(r.first_name, 1,1) and l.surname = r.surname`\n",
    "\n"
   ]
  },
  {
   "cell_type": "markdown",
   "metadata": {},
   "source": [
    "## Devising effective blocking rules \n",
    "\n",
    "https://github.com/moj-analytical-services/splink_demos/blob/d391cd32128cd0d51e4a1275ea7d833f2c043462/deduplication_detailed_example.ipynb\n",
    "\n",
    "The aim of your blocking rules are twofold:\n",
    "1. Eliminate enough non-matching comparison pairs for your record linkage problem to be computationally tractable\n",
    "2. Retain all true matching pairs (or as close as possible).  \n",
    "\n",
    "It is usually impossible to find a single blocking rule which achieves both aims, so we recommend using multiple blocking rules.  \n",
    "\n",
    "For example, consider the following blocking rule:\n",
    "\n",
    "`l.first_name = r.first_name and l.dob = r.dob`\n",
    "\n",
    "This rule is likely to be effective in reducing the number of comparison pairs.  It will also retain many true matching pairs, including those with errors on other columns such as surname.\n",
    "\n",
    "However, it will eliminate any true matches where there are typos, nulls or other errors in the `first_name` or `dob` fields.\n",
    "\n",
    "Now consider a second blocking rule:\n",
    "\n",
    "`l.email and r.email`.\n",
    "\n",
    "This rule is also likely to be effective in reducing the number of comparison pairs, and will retain many true matching pairs.  However, it will eliminate true matches where there are typos or nulls in the `email` column.\n",
    "\n",
    "Neither one of these blocking rules achieves the two aims set out above.\n",
    "\n",
    "But between them, they might do quite a good job.  \n",
    "\n",
    "When we specify multiple blocking rules, Splink will generate all comparison pairs that meet any one of the rules.\n",
    "\n",
    "This means that, for a true match to be eliminated by the use of these two blocking rules, it would have to have an error in _both_ the email, and the first name or date of birth.  \n",
    "\n",
    "This is not completely implausible, but it is significantly less likely than if we'd just used a single rule.\n",
    "\n",
    "More generally, we can specify a longer list of many blocking rules such that it becomes almost compeltely implasible that a true match would not meet at least one of these blocking critera.\n",
    "\n"
   ]
  },
  {
   "cell_type": "markdown",
   "metadata": {},
   "source": []
  }
 ],
 "metadata": {
  "kernelspec": {
   "display_name": "Python 3.8.3 ('venv': venv)",
   "language": "python",
   "name": "python3"
  },
  "language_info": {
   "name": "python",
   "version": "3.8.3"
  },
  "orig_nbformat": 4,
  "vscode": {
   "interpreter": {
    "hash": "3b53fa520a31e303a9636a08ff10a3bbc14893ee50cb37445791fa59628fc75b"
   }
  }
 },
 "nbformat": 4,
 "nbformat_minor": 2
}
