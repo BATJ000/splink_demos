{
 "cells": [
  {
   "cell_type": "markdown",
   "metadata": {},
   "source": [
    "## Index of Splink demo notebooks"
   ]
  },
  {
   "cell_type": "markdown",
   "metadata": {
    "tags": []
   },
   "source": [
    "Click on the link below to access the demos:\n",
    "\n",
    "Three parts introductory demo:\n",
    "- [Data deduplication quick start](quickstart_demo_deduplication.ipynb)\n",
    "- [Data deduplication detailed example](deduplication_detailed_example.ipynb)\n",
    "- [Visualise clusters](splink_visualise_clusters.ipynb)\n",
    "- [Combining estimates](combining_estimates.ipynb)\n",
    "\n",
    "\n",
    "\n",
    "- [Data linking quick start](quickstart_demo_linking.ipynb)\n",
    "- [Data linking and duplication quick start](quickstart_demo_link_and_dedupe.ipynb)\n",
    "- [Working offline](working_offline.ipynb)"
   ]
  },
  {
   "cell_type": "code",
   "execution_count": null,
   "metadata": {},
   "outputs": [],
   "source": []
  }
 ],
 "metadata": {
  "kernelspec": {
   "display_name": "Python 3",
   "language": "python",
   "name": "python3"
  },
  "language_info": {
   "codemirror_mode": {
    "name": "ipython",
    "version": 3
   },
   "file_extension": ".py",
   "mimetype": "text/x-python",
   "name": "python",
   "nbconvert_exporter": "python",
   "pygments_lexer": "ipython3",
   "version": "3.8.3"
  }
 },
 "nbformat": 4,
 "nbformat_minor": 4
}
