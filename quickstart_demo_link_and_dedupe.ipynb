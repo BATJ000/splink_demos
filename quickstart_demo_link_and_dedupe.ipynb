{
 "cells": [
  {
   "cell_type": "markdown",
   "metadata": {},
   "source": [
    "## Splink data linking and deduplication demo \n",
    "\n",
    "In this demo we link and simultaneously dedupe two datasets which themselves contain duplicates.\n"
   ]
  },
  {
   "cell_type": "markdown",
   "metadata": {},
   "source": [
    "## Step 1:  Imports and setup\n",
    "\n",
    "The following is just boilerplate code that sets up the Spark session and sets some other non-essential configuration options"
   ]
  },
  {
   "cell_type": "code",
   "execution_count": 1,
   "metadata": {},
   "outputs": [
    {
     "data": {
      "text/plain": [
       "RendererRegistry.enable('mimetype')"
      ]
     },
     "execution_count": 1,
     "metadata": {},
     "output_type": "execute_result"
    }
   ],
   "source": [
    "import pandas as pd \n",
    "pd.options.display.max_columns = 500\n",
    "pd.options.display.max_rows = 100\n",
    "import altair as alt\n",
    "alt.renderers.enable('mimetype')"
   ]
  },
  {
   "cell_type": "code",
   "execution_count": 2,
   "metadata": {},
   "outputs": [],
   "source": [
    "import logging \n",
    "logging.basicConfig()  # Means logs will print in Jupyter Lab\n",
    "\n",
    "# Set to DEBUG if you want splink to log the SQL statements it's executing under the hood\n",
    "logging.getLogger(\"splink\").setLevel(logging.INFO)"
   ]
  },
  {
   "cell_type": "code",
   "execution_count": 3,
   "metadata": {},
   "outputs": [
    {
     "name": "stderr",
     "output_type": "stream",
     "text": [
      "22/01/11 05:39:49 WARN NativeCodeLoader: Unable to load native-hadoop library for your platform... using builtin-java classes where applicable\n",
      "Using Spark's default log4j profile: org/apache/spark/log4j-defaults.properties\n",
      "Setting default log level to \"WARN\".\n",
      "To adjust logging level use sc.setLogLevel(newLevel). For SparkR, use setLogLevel(newLevel).\n",
      "22/01/11 05:39:51 WARN Utils: Service 'SparkUI' could not bind on port 4040. Attempting port 4041.\n",
      "22/01/11 05:39:51 WARN Utils: Service 'SparkUI' could not bind on port 4041. Attempting port 4042.\n",
      "22/01/11 05:39:51 WARN Utils: Service 'SparkUI' could not bind on port 4042. Attempting port 4043.\n",
      "22/01/11 05:39:51 WARN Utils: Service 'SparkUI' could not bind on port 4043. Attempting port 4044.\n",
      "22/01/11 05:39:51 WARN Utils: Service 'SparkUI' could not bind on port 4044. Attempting port 4045.\n",
      "22/01/11 05:39:51 WARN Utils: Service 'SparkUI' could not bind on port 4045. Attempting port 4046.\n",
      "22/01/11 05:39:51 WARN Utils: Service 'SparkUI' could not bind on port 4046. Attempting port 4047.\n"
     ]
    }
   ],
   "source": [
    "from utility_functions.demo_utils import get_spark\n",
    "spark = get_spark()"
   ]
  },
  {
   "cell_type": "markdown",
   "metadata": {},
   "source": [
    "## Step 2:  Read in data\n",
    "\n",
    "In this example, we read in two datasets, `df_1` and `df_2`.  These will be provided to `Splink` as a list like `[df_1, df_2]`.  By adding additional elements to this link, you can use `Splink` to link and deduplicate as many datasets as you like.\n",
    "\n",
    "⚠️ Note that `splink` makes the following assumptions about your data:\n",
    "\n",
    "-  There is a field containing a unique record identifier in each dataset\n",
    "-  There is a field containing a dataset name in each dataset, to disambiguate the `unique_id` column if the same id values occur in more than one dataset.  By default, this column is called `source_dataset`, but you can change this in the settings.\n",
    "-  The two datasets being linked have common column names - e.g. date of birth is represented in both datasets in a field of the same name.   In many cases, this means that the user needs to rename columns prior to using `splink`\n"
   ]
  },
  {
   "cell_type": "code",
   "execution_count": 4,
   "metadata": {},
   "outputs": [
    {
     "name": "stderr",
     "output_type": "stream",
     "text": [
      "                                                                                \r"
     ]
    },
    {
     "name": "stdout",
     "output_type": "stream",
     "text": [
      "+---------+----------+-------+----------+------------+--------------------+-----+--------------+\n",
      "|unique_id|first_name|surname|       dob|        city|               email|group|source_dataset|\n",
      "+---------+----------+-------+----------+------------+--------------------+-----+--------------+\n",
      "|        0|    Julia |   null|2015-10-29|      London| hannah88@powers.com|    0|          df_1|\n",
      "|        1|    Julia | Taylor|2015-07-31|      London| hannah88@powers.com|    0|          df_1|\n",
      "|        2|      oNah| Watson|2008-03-23|      Bolton|matthew78@ballard...|    1|          df_1|\n",
      "|        3|     Noah | Watson|2008-03-23|      Bolton|matthew78@ballard...|    1|          df_1|\n",
      "|        4|    Molly |   Bell|2002-01-05|Peterborough|                null|    2|          df_1|\n",
      "+---------+----------+-------+----------+------------+--------------------+-----+--------------+\n",
      "only showing top 5 rows\n",
      "\n",
      "+---------+----------+-------+----------+------+--------------------+-----+--------------+\n",
      "|unique_id|first_name|surname|       dob|  city|               email|group|source_dataset|\n",
      "+---------+----------+-------+----------+------+--------------------+-----+--------------+\n",
      "|        0|    Julia | Taylor|2016-01-27|London| hannah88@powers.com|    0|          df_2|\n",
      "|        1|    Julia | Taylor|2015-10-29|  null|  hannah88opowersc@m|    0|          df_2|\n",
      "|        2|    Watson|  Noah |2008-03-23|  null|matthew78@ballard...|    1|          df_2|\n",
      "|        3|     Noah | Watson|2008-02-05| tolon|matthew78@ballard...|    1|          df_2|\n",
      "|        4|    Watson|  Noah |2008-06-15|Bolton|matthew78@ballard...|    1|          df_2|\n",
      "+---------+----------+-------+----------+------+--------------------+-----+--------------+\n",
      "only showing top 5 rows\n",
      "\n"
     ]
    }
   ],
   "source": [
    "from pyspark.sql.functions import lit \n",
    "from pyspark.sql import functions as f\n",
    "df_1 = spark.read.parquet(\"data/fake_df_l_link_dedupe_test.parquet\")\n",
    "df_1 = df_1.withColumn(\"source_dataset\", lit(\"df_1\"))\n",
    "df_2 = spark.read.parquet(\"data/fake_df_r_link_dedupe_test.parquet\")\n",
    "df_2 = df_2.withColumn(\"source_dataset\", lit(\"df_2\"))\n",
    "df_1.show(5)\n",
    "df_2.show(5)"
   ]
  },
  {
   "cell_type": "markdown",
   "metadata": {},
   "source": [
    "## Step 3:  Configure splink using the `settings` object\n",
    "\n",
    "Most of `splink` configuration options are stored in a settings dictionary.  This dictionary allows significant customisation, and can therefore get quite complex.  \n",
    "\n",
    "💥 We provide an tool for helping to author valid settings dictionaries, which includes tooltips and autocomplete, which you can find [here](http://robinlinacre.com/splink_settings_editor/).\n",
    "\n",
    "Customisation overrides default values built into splink.  For the purposes of this demo, we will specify a simple settings dictionary, which means we will be relying on these sensible defaults.\n",
    "\n",
    "To help with authoring and validation of the settings dictionary, we have written a [json schema](https://json-schema.org/), which can be found [here](https://github.com/moj-analytical-services/splink/blob/master/splink/files/settings_jsonschema.json).  \n",
    "\n",
    "\n"
   ]
  },
  {
   "cell_type": "code",
   "execution_count": 5,
   "metadata": {},
   "outputs": [],
   "source": [
    "settings = {\n",
    "    \"link_type\": \"link_and_dedupe\",\n",
    "    \"blocking_rules\": [\n",
    "        \"l.city = r.city\"\n",
    "    ],\n",
    "    \"comparison_columns\": [\n",
    "        {\n",
    "            \"col_name\": \"first_name\",\n",
    "            \"num_levels\": 3,\n",
    "            \"term_frequency_adjustments\": True\n",
    "        },\n",
    "        {\n",
    "            \"col_name\": \"surname\",\n",
    "            \"num_levels\": 3,\n",
    "            \"term_frequency_adjustments\": True\n",
    "        },\n",
    "        {\n",
    "            \"col_name\": \"dob\"\n",
    "        },\n",
    "        {\n",
    "            \"col_name\": \"email\"\n",
    "        }\n",
    "    ],\n",
    "    \"additional_columns_to_retain\": [\"group\"],\n",
    "    \"em_convergence\": 0.01,\n",
    "    \"max_iterations\": 4,\n",
    "}"
   ]
  },
  {
   "cell_type": "markdown",
   "metadata": {},
   "source": [
    "In words, this setting dictionary says:\n",
    "- We are performing a link and deduplication task (the other options are `link_only`, or `dedupe_only`)\n",
    "- We are going generate comparisons subject to the blocking rule `l.city = r.city` i.e. all pairwise record comparisons (both within and between datasets) where the city field matches\n",
    "- When comparing records, we will use information from the `first_name`, `surname`, `dob` and `email` columns to compute a match score.\n",
    "- For `first_name` and `surname`, string comparisons will have three levels:\n",
    "    - Level 2: Strings are (almost) exactly the same\n",
    "    - Level 1: Strings are similar \n",
    "    - Level 0: No match\n",
    "- We will make adjustments for term frequencies on the `first_name` and `surname` columns\n",
    "- We will retain the `group` column in the results even though this is not used as part of comparisons.  This is a labelled dataset and `group` contains the true match - i.e. where group matches, the records pertain to the same person"
   ]
  },
  {
   "cell_type": "markdown",
   "metadata": {},
   "source": [
    "## Step 4:  Estimate match scores using the Expectation Maximisation algorithm\n",
    "Columns are assumed to be strings by default.  See the 'comparison vector settings' notebook for details of configuration options."
   ]
  },
  {
   "cell_type": "code",
   "execution_count": 6,
   "metadata": {},
   "outputs": [
    {
     "name": "stderr",
     "output_type": "stream",
     "text": [
      "INFO:splink.iterate:Iteration 0 complete                                        \n",
      "INFO:splink.model:The maximum change in parameters was 0.29009395596527676 for key first_name, level 0\n",
      "INFO:splink.iterate:Iteration 1 complete\n",
      "INFO:splink.model:The maximum change in parameters was 0.0871209153154261 for key surname, level 2\n",
      "INFO:splink.iterate:Iteration 2 complete\n",
      "INFO:splink.model:The maximum change in parameters was 0.02978654516336643 for key surname, level 0\n",
      "INFO:splink.iterate:Iteration 3 complete\n",
      "INFO:splink.model:The maximum change in parameters was 0.01512228448436842 for key surname, level 0\n"
     ]
    }
   ],
   "source": [
    "from splink import Splink\n",
    "\n",
    "linker = Splink(settings, [df_1, df_2], spark)\n",
    "df_e = linker.get_scored_comparisons()"
   ]
  },
  {
   "cell_type": "markdown",
   "metadata": {},
   "source": [
    "## Step 5: Inspect results \n",
    "\n",
    "Each row in the results table represents a comparison of two input records.\n",
    "\n",
    "Note that since this is a link and dedupe task, there will be record comparisons of three types:\n",
    "-  Comparison between two records both originating from `df_l`.  \n",
    "-  Comparison between two records both originating from `df_r`.  \n",
    "-  Comparison between one record from `df_l` and one record from `df_r`\n",
    "\n",
    "Information about the source table is included in the `_source_table_l` and `_source_table_r` fields."
   ]
  },
  {
   "cell_type": "code",
   "execution_count": 7,
   "metadata": {},
   "outputs": [
    {
     "data": {
      "text/html": [
       "<div>\n",
       "<style scoped>\n",
       "    .dataframe tbody tr th:only-of-type {\n",
       "        vertical-align: middle;\n",
       "    }\n",
       "\n",
       "    .dataframe tbody tr th {\n",
       "        vertical-align: top;\n",
       "    }\n",
       "\n",
       "    .dataframe thead th {\n",
       "        text-align: right;\n",
       "    }\n",
       "</style>\n",
       "<table border=\"1\" class=\"dataframe\">\n",
       "  <thead>\n",
       "    <tr style=\"text-align: right;\">\n",
       "      <th></th>\n",
       "      <th>match_probability</th>\n",
       "      <th>unique_id_l</th>\n",
       "      <th>source_dataset_l</th>\n",
       "      <th>unique_id_r</th>\n",
       "      <th>source_dataset_r</th>\n",
       "      <th>group_l</th>\n",
       "      <th>group_r</th>\n",
       "      <th>first_name_l</th>\n",
       "      <th>first_name_r</th>\n",
       "      <th>surname_l</th>\n",
       "      <th>surname_r</th>\n",
       "      <th>dob_l</th>\n",
       "      <th>dob_r</th>\n",
       "      <th>email_l</th>\n",
       "      <th>email_r</th>\n",
       "    </tr>\n",
       "  </thead>\n",
       "  <tbody>\n",
       "    <tr>\n",
       "      <th>1641</th>\n",
       "      <td>0.994953</td>\n",
       "      <td>0</td>\n",
       "      <td>df_1</td>\n",
       "      <td>0</td>\n",
       "      <td>df_2</td>\n",
       "      <td>0</td>\n",
       "      <td>0</td>\n",
       "      <td>Julia</td>\n",
       "      <td>Julia</td>\n",
       "      <td>None</td>\n",
       "      <td>Taylor</td>\n",
       "      <td>2015-10-29</td>\n",
       "      <td>2016-01-27</td>\n",
       "      <td>hannah88@powers.com</td>\n",
       "      <td>hannah88@powers.com</td>\n",
       "    </tr>\n",
       "    <tr>\n",
       "      <th>1549</th>\n",
       "      <td>0.994953</td>\n",
       "      <td>0</td>\n",
       "      <td>df_1</td>\n",
       "      <td>1</td>\n",
       "      <td>df_1</td>\n",
       "      <td>0</td>\n",
       "      <td>0</td>\n",
       "      <td>Julia</td>\n",
       "      <td>Julia</td>\n",
       "      <td>None</td>\n",
       "      <td>Taylor</td>\n",
       "      <td>2015-10-29</td>\n",
       "      <td>2015-07-31</td>\n",
       "      <td>hannah88@powers.com</td>\n",
       "      <td>hannah88@powers.com</td>\n",
       "    </tr>\n",
       "    <tr>\n",
       "      <th>1550</th>\n",
       "      <td>0.000853</td>\n",
       "      <td>0</td>\n",
       "      <td>df_1</td>\n",
       "      <td>12</td>\n",
       "      <td>df_1</td>\n",
       "      <td>0</td>\n",
       "      <td>6</td>\n",
       "      <td>Julia</td>\n",
       "      <td>Matilda</td>\n",
       "      <td>None</td>\n",
       "      <td>Hsrir</td>\n",
       "      <td>2015-10-29</td>\n",
       "      <td>1983-04-30</td>\n",
       "      <td>hannah88@powers.com</td>\n",
       "      <td>patrcio47@davis.cam</td>\n",
       "    </tr>\n",
       "    <tr>\n",
       "      <th>1551</th>\n",
       "      <td>0.000853</td>\n",
       "      <td>0</td>\n",
       "      <td>df_1</td>\n",
       "      <td>13</td>\n",
       "      <td>df_1</td>\n",
       "      <td>0</td>\n",
       "      <td>6</td>\n",
       "      <td>Julia</td>\n",
       "      <td>Matilda</td>\n",
       "      <td>None</td>\n",
       "      <td>None</td>\n",
       "      <td>2015-10-29</td>\n",
       "      <td>1983-04-30</td>\n",
       "      <td>hannah88@powers.com</td>\n",
       "      <td>patricia47@davis.com</td>\n",
       "    </tr>\n",
       "    <tr>\n",
       "      <th>1552</th>\n",
       "      <td>0.000853</td>\n",
       "      <td>0</td>\n",
       "      <td>df_1</td>\n",
       "      <td>14</td>\n",
       "      <td>df_1</td>\n",
       "      <td>0</td>\n",
       "      <td>7</td>\n",
       "      <td>Julia</td>\n",
       "      <td>Baxter</td>\n",
       "      <td>None</td>\n",
       "      <td>Aria</td>\n",
       "      <td>2015-10-29</td>\n",
       "      <td>1992-09-07</td>\n",
       "      <td>hannah88@powers.com</td>\n",
       "      <td>christineshepherd@allen.com</td>\n",
       "    </tr>\n",
       "    <tr>\n",
       "      <th>1553</th>\n",
       "      <td>0.000853</td>\n",
       "      <td>0</td>\n",
       "      <td>df_1</td>\n",
       "      <td>15</td>\n",
       "      <td>df_1</td>\n",
       "      <td>0</td>\n",
       "      <td>7</td>\n",
       "      <td>Julia</td>\n",
       "      <td>Aria</td>\n",
       "      <td>None</td>\n",
       "      <td>Baxter</td>\n",
       "      <td>2015-10-29</td>\n",
       "      <td>1992-09-07</td>\n",
       "      <td>hannah88@powers.com</td>\n",
       "      <td>christineshepherd@allen.com</td>\n",
       "    </tr>\n",
       "    <tr>\n",
       "      <th>1642</th>\n",
       "      <td>0.000853</td>\n",
       "      <td>0</td>\n",
       "      <td>df_1</td>\n",
       "      <td>15</td>\n",
       "      <td>df_2</td>\n",
       "      <td>0</td>\n",
       "      <td>6</td>\n",
       "      <td>Julia</td>\n",
       "      <td>Harris</td>\n",
       "      <td>None</td>\n",
       "      <td>Matilda</td>\n",
       "      <td>2015-10-29</td>\n",
       "      <td>1983-04-30</td>\n",
       "      <td>hannah88@powers.com</td>\n",
       "      <td>patricia47@davis.com</td>\n",
       "    </tr>\n",
       "    <tr>\n",
       "      <th>21079</th>\n",
       "      <td>0.000273</td>\n",
       "      <td>0</td>\n",
       "      <td>df_2</td>\n",
       "      <td>15</td>\n",
       "      <td>df_2</td>\n",
       "      <td>0</td>\n",
       "      <td>6</td>\n",
       "      <td>Julia</td>\n",
       "      <td>Harris</td>\n",
       "      <td>Taylor</td>\n",
       "      <td>Matilda</td>\n",
       "      <td>2016-01-27</td>\n",
       "      <td>1983-04-30</td>\n",
       "      <td>hannah88@powers.com</td>\n",
       "      <td>patricia47@davis.com</td>\n",
       "    </tr>\n",
       "    <tr>\n",
       "      <th>1554</th>\n",
       "      <td>0.000853</td>\n",
       "      <td>0</td>\n",
       "      <td>df_1</td>\n",
       "      <td>16</td>\n",
       "      <td>df_1</td>\n",
       "      <td>0</td>\n",
       "      <td>8</td>\n",
       "      <td>Julia</td>\n",
       "      <td>Wilson</td>\n",
       "      <td>None</td>\n",
       "      <td>Charlie</td>\n",
       "      <td>2015-10-29</td>\n",
       "      <td>1998-09-15</td>\n",
       "      <td>hannah88@powers.com</td>\n",
       "      <td>samantha81@henry.com</td>\n",
       "    </tr>\n",
       "    <tr>\n",
       "      <th>1643</th>\n",
       "      <td>0.000853</td>\n",
       "      <td>0</td>\n",
       "      <td>df_1</td>\n",
       "      <td>16</td>\n",
       "      <td>df_2</td>\n",
       "      <td>0</td>\n",
       "      <td>6</td>\n",
       "      <td>Julia</td>\n",
       "      <td>Matilda</td>\n",
       "      <td>None</td>\n",
       "      <td>Harris</td>\n",
       "      <td>2015-10-29</td>\n",
       "      <td>1983-03-03</td>\n",
       "      <td>hannah88@powers.com</td>\n",
       "      <td>patricia47@davis.com</td>\n",
       "    </tr>\n",
       "  </tbody>\n",
       "</table>\n",
       "</div>"
      ],
      "text/plain": [
       "       match_probability  unique_id_l source_dataset_l  unique_id_r  \\\n",
       "1641            0.994953            0             df_1            0   \n",
       "1549            0.994953            0             df_1            1   \n",
       "1550            0.000853            0             df_1           12   \n",
       "1551            0.000853            0             df_1           13   \n",
       "1552            0.000853            0             df_1           14   \n",
       "1553            0.000853            0             df_1           15   \n",
       "1642            0.000853            0             df_1           15   \n",
       "21079           0.000273            0             df_2           15   \n",
       "1554            0.000853            0             df_1           16   \n",
       "1643            0.000853            0             df_1           16   \n",
       "\n",
       "      source_dataset_r  group_l  group_r first_name_l first_name_r surname_l  \\\n",
       "1641              df_2        0        0       Julia        Julia       None   \n",
       "1549              df_1        0        0       Julia        Julia       None   \n",
       "1550              df_1        0        6       Julia      Matilda       None   \n",
       "1551              df_1        0        6       Julia      Matilda       None   \n",
       "1552              df_1        0        7       Julia        Baxter      None   \n",
       "1553              df_1        0        7       Julia         Aria       None   \n",
       "1642              df_2        0        6       Julia        Harris      None   \n",
       "21079             df_2        0        6       Julia        Harris    Taylor   \n",
       "1554              df_1        0        8       Julia        Wilson      None   \n",
       "1643              df_2        0        6       Julia      Matilda       None   \n",
       "\n",
       "      surname_r       dob_l       dob_r              email_l  \\\n",
       "1641     Taylor  2015-10-29  2016-01-27  hannah88@powers.com   \n",
       "1549     Taylor  2015-10-29  2015-07-31  hannah88@powers.com   \n",
       "1550      Hsrir  2015-10-29  1983-04-30  hannah88@powers.com   \n",
       "1551       None  2015-10-29  1983-04-30  hannah88@powers.com   \n",
       "1552      Aria   2015-10-29  1992-09-07  hannah88@powers.com   \n",
       "1553     Baxter  2015-10-29  1992-09-07  hannah88@powers.com   \n",
       "1642   Matilda   2015-10-29  1983-04-30  hannah88@powers.com   \n",
       "21079  Matilda   2016-01-27  1983-04-30  hannah88@powers.com   \n",
       "1554   Charlie   2015-10-29  1998-09-15  hannah88@powers.com   \n",
       "1643     Harris  2015-10-29  1983-03-03  hannah88@powers.com   \n",
       "\n",
       "                           email_r  \n",
       "1641           hannah88@powers.com  \n",
       "1549           hannah88@powers.com  \n",
       "1550           patrcio47@davis.cam  \n",
       "1551          patricia47@davis.com  \n",
       "1552   christineshepherd@allen.com  \n",
       "1553   christineshepherd@allen.com  \n",
       "1642          patricia47@davis.com  \n",
       "21079         patricia47@davis.com  \n",
       "1554          samantha81@henry.com  \n",
       "1643          patricia47@davis.com  "
      ]
     },
     "execution_count": 7,
     "metadata": {},
     "output_type": "execute_result"
    }
   ],
   "source": [
    "# Inspect main dataframe that contains the match scores\n",
    "cols_to_inspect = [\"match_probability\",\"unique_id_l\", \"source_dataset_l\",\"unique_id_r\",\"source_dataset_r\",\"group_l\", \"group_r\", \"first_name_l\",\"first_name_r\",\"surname_l\",\"surname_r\",\"dob_l\",\"dob_r\",\"email_l\",\"email_r\"]\n",
    "\n",
    "df_e.toPandas()[cols_to_inspect].sort_values([\"unique_id_l\", \"unique_id_r\"]).head(10)"
   ]
  },
  {
   "cell_type": "markdown",
   "metadata": {},
   "source": [
    "The `params` property of the `linker` is an object that contains a lot of diagnostic information about how the match probability was computed.  The following cells demonstrate some of its functionality"
   ]
  },
  {
   "cell_type": "code",
   "execution_count": 8,
   "metadata": {},
   "outputs": [
    {
     "data": {
      "application/vnd.vegalite.v4+json": {
       "$schema": "https://vega.github.io/schema/vega-lite/v4.json",
       "config": {
        "header": {
         "title": null
        },
        "title": {
         "anchor": "middle",
         "offset": 10
        },
        "view": {
         "continuousHeight": 300,
         "continuousWidth": 400,
         "height": 300,
         "width": 400
        }
       },
       "data": {
        "name": "data-51d04c6bc8ec710437f2bf42a9e0f2db"
       },
       "datasets": {
        "data-51d04c6bc8ec710437f2bf42a9e0f2db": [
         {
          "bayes_factor": 89.26017954935999,
          "column_name": "first_name",
          "comparison_vector_value": "2",
          "gamma_column_name": "gamma_first_name",
          "gamma_index": 2,
          "is_null": false,
          "label": "level_2",
          "level_name": "level_2",
          "level_proportion": 0.02089197444022471,
          "log2_bayes_factor": 6.479944803501674,
          "m_probability": 0.4767051127040579,
          "num_levels": 3,
          "sql_expr": "WHEN JARO_WINKLER_SIM(first_name_l, first_name_r) >= 1.0 THEN 2",
          "u_probability": 0.005340624622432501
         },
         {
          "bayes_factor": 61.415619769272226,
          "column_name": "first_name",
          "comparison_vector_value": "1",
          "gamma_column_name": "gamma_first_name",
          "gamma_index": 1,
          "is_null": false,
          "label": "level_1",
          "level_name": "level_1",
          "level_proportion": 0.00918780602212961,
          "log2_bayes_factor": 5.940533716245522,
          "m_probability": 0.1885161387596094,
          "num_levels": 3,
          "sql_expr": "WHEN JARO_WINKLER_SIM(first_name_l, first_name_r) >= 0.88 THEN 1",
          "u_probability": 0.0030695145545682296
         },
         {
          "bayes_factor": 0.3376181642866671,
          "column_name": "first_name",
          "comparison_vector_value": "0",
          "gamma_column_name": "gamma_first_name",
          "gamma_index": 0,
          "is_null": false,
          "label": "level_0",
          "level_name": "level_0",
          "level_proportion": 0.9699202195376457,
          "log2_bayes_factor": -1.5665355699259789,
          "m_probability": 0.33477874853633277,
          "num_levels": 3,
          "sql_expr": "ELSE 0",
          "u_probability": 0.9915898608229994
         },
         {
          "bayes_factor": 66.8068805724274,
          "column_name": "surname",
          "comparison_vector_value": "2",
          "gamma_column_name": "gamma_surname",
          "gamma_index": 2,
          "is_null": false,
          "label": "level_2",
          "level_name": "level_2",
          "level_proportion": 0.026092249282686213,
          "log2_bayes_factor": 6.061924791247222,
          "m_probability": 0.549693904747839,
          "num_levels": 3,
          "sql_expr": "WHEN JARO_WINKLER_SIM(surname_l, surname_r) >= 1.0 THEN 2",
          "u_probability": 0.008228103154014186
         },
         {
          "bayes_factor": 42.98899180820343,
          "column_name": "surname",
          "comparison_vector_value": "1",
          "gamma_column_name": "gamma_surname",
          "gamma_index": 1,
          "is_null": false,
          "label": "level_1",
          "level_name": "level_1",
          "level_proportion": 0.0074604535996890195,
          "log2_bayes_factor": 5.425895371052706,
          "m_probability": 0.13445527158787635,
          "num_levels": 3,
          "sql_expr": "WHEN JARO_WINKLER_SIM(surname_l, surname_r) >= 0.88 THEN 1",
          "u_probability": 0.003127667477938358
         },
         {
          "bayes_factor": 0.31947875108337004,
          "column_name": "surname",
          "comparison_vector_value": "0",
          "gamma_column_name": "gamma_surname",
          "gamma_index": 0,
          "is_null": false,
          "label": "level_0",
          "level_name": "level_0",
          "level_proportion": 0.9664472971176247,
          "log2_bayes_factor": -1.6462081159094517,
          "m_probability": 0.31585082366428463,
          "num_levels": 3,
          "sql_expr": "ELSE 0",
          "u_probability": 0.9886442293680474
         },
         {
          "bayes_factor": 175.154141497302,
          "column_name": "dob",
          "comparison_vector_value": "1",
          "gamma_column_name": "gamma_dob",
          "gamma_index": 1,
          "is_null": false,
          "label": "level_1",
          "level_name": "level_1",
          "level_proportion": 0.02647337759111204,
          "log2_bayes_factor": 7.452481290657953,
          "m_probability": 0.6873864405595173,
          "num_levels": 2,
          "sql_expr": "WHEN dob_l = dob_r THEN 1",
          "u_probability": 0.003924465814415844
         },
         {
          "bayes_factor": 0.31384523433364236,
          "column_name": "dob",
          "comparison_vector_value": "0",
          "gamma_column_name": "gamma_dob",
          "gamma_index": 0,
          "is_null": false,
          "label": "level_0",
          "level_name": "level_0",
          "level_proportion": 0.9735266224088879,
          "log2_bayes_factor": -1.6718747927862545,
          "m_probability": 0.31261355944048264,
          "num_levels": 2,
          "sql_expr": "ELSE 0",
          "u_probability": 0.996075534185584
         },
         {
          "bayes_factor": 171.63569561990926,
          "column_name": "email",
          "comparison_vector_value": "1",
          "gamma_column_name": "gamma_email",
          "gamma_index": 1,
          "is_null": false,
          "label": "level_1",
          "level_name": "level_1",
          "level_proportion": 0.02954843662304423,
          "log2_bayes_factor": 7.423205815679568,
          "m_probability": 0.7649829519339653,
          "num_levels": 2,
          "sql_expr": "WHEN email_l = email_r THEN 1",
          "u_probability": 0.004457015477876092
         },
         {
          "bayes_factor": 0.23606921219865434,
          "column_name": "email",
          "comparison_vector_value": "0",
          "gamma_column_name": "gamma_email",
          "gamma_index": 0,
          "is_null": false,
          "label": "level_0",
          "level_name": "level_0",
          "level_proportion": 0.9704515633769558,
          "log2_bayes_factor": -2.0827181952294134,
          "m_probability": 0.23501704806603493,
          "num_levels": 2,
          "sql_expr": "ELSE 0",
          "u_probability": 0.995542984522124
         }
        ]
       },
       "hconcat": [
        {
         "encoding": {
          "color": {
           "value": "red"
          },
          "row": {
           "field": "column_name",
           "header": {
            "labelAlign": "left",
            "labelAnchor": "middle",
            "labelAngle": 0
           },
           "sort": {
            "field": "gamma_index"
           },
           "type": "nominal"
          },
          "tooltip": [
           {
            "field": "column_name",
            "type": "nominal"
           },
           {
            "field": "level_name",
            "type": "ordinal"
           },
           {
            "field": "u_probability",
            "format": ".4f",
            "type": "quantitative"
           },
           {
            "field": "bayes_factor",
            "format": ".4f",
            "type": "quantitative"
           },
           {
            "field": "level_proportion",
            "format": ".2%",
            "title": "Percentage of record comparisons in this level",
            "type": "nominal"
           },
           {
            "field": "log2_bayes_factor",
            "format": ".4f",
            "type": "quantitative"
           }
          ],
          "x": {
           "axis": {
            "title": "proportion"
           },
           "field": "u_probability",
           "type": "quantitative"
          },
          "y": {
           "axis": {
            "title": null
           },
           "field": "label",
           "sort": {
            "field": "gamma_index"
           },
           "type": "nominal"
          }
         },
         "height": 50,
         "mark": "bar",
         "resolve": {
          "scale": {
           "y": "independent"
          }
         },
         "title": {
          "fontWeight": "normal",
          "text": "Non-matches"
         },
         "transform": [
          {
           "filter": "(datum.bayes_factor != 'unnecessary filter2 due to vega lite issue 4680')"
          }
         ],
         "width": 150
        },
        {
         "encoding": {
          "color": {
           "value": "green"
          },
          "row": {
           "field": "column_name",
           "header": {
            "labels": false
           },
           "sort": {
            "field": "gamma_index"
           },
           "type": "nominal"
          },
          "tooltip": [
           {
            "field": "column_name",
            "type": "nominal"
           },
           {
            "field": "level_name",
            "type": "ordinal"
           },
           {
            "field": "m_probability",
            "format": ".4f",
            "type": "quantitative"
           },
           {
            "field": "bayes_factor",
            "format": ".4f",
            "type": "quantitative"
           },
           {
            "field": "level_proportion",
            "format": ".2%",
            "title": "Percentage of record comparisons in this level",
            "type": "nominal"
           },
           {
            "field": "log2_bayes_factor",
            "format": ".4f",
            "type": "quantitative"
           }
          ],
          "x": {
           "axis": {
            "title": "proportion"
           },
           "field": "m_probability",
           "type": "quantitative"
          },
          "y": {
           "axis": {
            "title": null
           },
           "field": "label",
           "sort": {
            "field": "gamma_index"
           },
           "type": "nominal"
          }
         },
         "height": 50,
         "mark": "bar",
         "resolve": {
          "scale": {
           "y": "independent"
          }
         },
         "title": {
          "fontWeight": "normal",
          "text": "Matches"
         },
         "transform": [
          {
           "filter": "(datum.bayes_factor != 'unnecessary filter due to vega lite issue 4680')"
          }
         ],
         "width": 150
        }
       ],
       "title": {
        "subtitle": "Estimated proportion of matches λ =  0.033",
        "text": "Probability distributions of non-matches and matches "
       },
       "transform": []
      },
      "text/plain": [
       "<VegaLite 4 object>\n",
       "\n",
       "If you see this message, it means the renderer has not been properly enabled\n",
       "for the frontend that you are using. For more information, see\n",
       "https://altair-viz.github.io/user_guide/troubleshooting.html\n"
      ]
     },
     "execution_count": 8,
     "metadata": {},
     "output_type": "execute_result"
    }
   ],
   "source": [
    "model = linker.model\n",
    "model.probability_distribution_chart()"
   ]
  },
  {
   "cell_type": "markdown",
   "metadata": {},
   "source": [
    "An alternative representation of the parameters displays them in terms of the effect different values in the comparison vectors have on the match probability:"
   ]
  },
  {
   "cell_type": "code",
   "execution_count": 9,
   "metadata": {},
   "outputs": [
    {
     "data": {
      "application/vnd.vegalite.v4+json": {
       "$schema": "https://vega.github.io/schema/vega-lite/v4.json",
       "config": {
        "header": {
         "title": null
        },
        "mark": {
         "tooltip": null
        },
        "title": {
         "anchor": "middle"
        },
        "view": {
         "continuousHeight": 300,
         "continuousWidth": 400,
         "height": 300,
         "width": 400
        }
       },
       "data": {
        "name": "data-51d04c6bc8ec710437f2bf42a9e0f2db"
       },
       "datasets": {
        "data-51d04c6bc8ec710437f2bf42a9e0f2db": [
         {
          "bayes_factor": 89.26017954935999,
          "column_name": "first_name",
          "comparison_vector_value": "2",
          "gamma_column_name": "gamma_first_name",
          "gamma_index": 2,
          "is_null": false,
          "label": "level_2",
          "level_name": "level_2",
          "level_proportion": 0.02089197444022471,
          "log2_bayes_factor": 6.479944803501674,
          "m_probability": 0.4767051127040579,
          "num_levels": 3,
          "sql_expr": "WHEN JARO_WINKLER_SIM(first_name_l, first_name_r) >= 1.0 THEN 2",
          "u_probability": 0.005340624622432501
         },
         {
          "bayes_factor": 61.415619769272226,
          "column_name": "first_name",
          "comparison_vector_value": "1",
          "gamma_column_name": "gamma_first_name",
          "gamma_index": 1,
          "is_null": false,
          "label": "level_1",
          "level_name": "level_1",
          "level_proportion": 0.00918780602212961,
          "log2_bayes_factor": 5.940533716245522,
          "m_probability": 0.1885161387596094,
          "num_levels": 3,
          "sql_expr": "WHEN JARO_WINKLER_SIM(first_name_l, first_name_r) >= 0.88 THEN 1",
          "u_probability": 0.0030695145545682296
         },
         {
          "bayes_factor": 0.3376181642866671,
          "column_name": "first_name",
          "comparison_vector_value": "0",
          "gamma_column_name": "gamma_first_name",
          "gamma_index": 0,
          "is_null": false,
          "label": "level_0",
          "level_name": "level_0",
          "level_proportion": 0.9699202195376457,
          "log2_bayes_factor": -1.5665355699259789,
          "m_probability": 0.33477874853633277,
          "num_levels": 3,
          "sql_expr": "ELSE 0",
          "u_probability": 0.9915898608229994
         },
         {
          "bayes_factor": 66.8068805724274,
          "column_name": "surname",
          "comparison_vector_value": "2",
          "gamma_column_name": "gamma_surname",
          "gamma_index": 2,
          "is_null": false,
          "label": "level_2",
          "level_name": "level_2",
          "level_proportion": 0.026092249282686213,
          "log2_bayes_factor": 6.061924791247222,
          "m_probability": 0.549693904747839,
          "num_levels": 3,
          "sql_expr": "WHEN JARO_WINKLER_SIM(surname_l, surname_r) >= 1.0 THEN 2",
          "u_probability": 0.008228103154014186
         },
         {
          "bayes_factor": 42.98899180820343,
          "column_name": "surname",
          "comparison_vector_value": "1",
          "gamma_column_name": "gamma_surname",
          "gamma_index": 1,
          "is_null": false,
          "label": "level_1",
          "level_name": "level_1",
          "level_proportion": 0.0074604535996890195,
          "log2_bayes_factor": 5.425895371052706,
          "m_probability": 0.13445527158787635,
          "num_levels": 3,
          "sql_expr": "WHEN JARO_WINKLER_SIM(surname_l, surname_r) >= 0.88 THEN 1",
          "u_probability": 0.003127667477938358
         },
         {
          "bayes_factor": 0.31947875108337004,
          "column_name": "surname",
          "comparison_vector_value": "0",
          "gamma_column_name": "gamma_surname",
          "gamma_index": 0,
          "is_null": false,
          "label": "level_0",
          "level_name": "level_0",
          "level_proportion": 0.9664472971176247,
          "log2_bayes_factor": -1.6462081159094517,
          "m_probability": 0.31585082366428463,
          "num_levels": 3,
          "sql_expr": "ELSE 0",
          "u_probability": 0.9886442293680474
         },
         {
          "bayes_factor": 175.154141497302,
          "column_name": "dob",
          "comparison_vector_value": "1",
          "gamma_column_name": "gamma_dob",
          "gamma_index": 1,
          "is_null": false,
          "label": "level_1",
          "level_name": "level_1",
          "level_proportion": 0.02647337759111204,
          "log2_bayes_factor": 7.452481290657953,
          "m_probability": 0.6873864405595173,
          "num_levels": 2,
          "sql_expr": "WHEN dob_l = dob_r THEN 1",
          "u_probability": 0.003924465814415844
         },
         {
          "bayes_factor": 0.31384523433364236,
          "column_name": "dob",
          "comparison_vector_value": "0",
          "gamma_column_name": "gamma_dob",
          "gamma_index": 0,
          "is_null": false,
          "label": "level_0",
          "level_name": "level_0",
          "level_proportion": 0.9735266224088879,
          "log2_bayes_factor": -1.6718747927862545,
          "m_probability": 0.31261355944048264,
          "num_levels": 2,
          "sql_expr": "ELSE 0",
          "u_probability": 0.996075534185584
         },
         {
          "bayes_factor": 171.63569561990926,
          "column_name": "email",
          "comparison_vector_value": "1",
          "gamma_column_name": "gamma_email",
          "gamma_index": 1,
          "is_null": false,
          "label": "level_1",
          "level_name": "level_1",
          "level_proportion": 0.02954843662304423,
          "log2_bayes_factor": 7.423205815679568,
          "m_probability": 0.7649829519339653,
          "num_levels": 2,
          "sql_expr": "WHEN email_l = email_r THEN 1",
          "u_probability": 0.004457015477876092
         },
         {
          "bayes_factor": 0.23606921219865434,
          "column_name": "email",
          "comparison_vector_value": "0",
          "gamma_column_name": "gamma_email",
          "gamma_index": 0,
          "is_null": false,
          "label": "level_0",
          "level_name": "level_0",
          "level_proportion": 0.9704515633769558,
          "log2_bayes_factor": -2.0827181952294134,
          "m_probability": 0.23501704806603493,
          "num_levels": 2,
          "sql_expr": "ELSE 0",
          "u_probability": 0.995542984522124
         }
        ]
       },
       "encoding": {
        "color": {
         "field": "log2_bayes_factor",
         "scale": {
          "domain": [
           -10,
           0,
           10
          ],
          "range": [
           "red",
           "orange",
           "green"
          ]
         },
         "title": "Match weight",
         "type": "quantitative"
        },
        "row": {
         "field": "column_name",
         "header": {
          "labelAlign": "left",
          "labelAnchor": "middle",
          "labelAngle": 0
         },
         "sort": {
          "field": "gamma_index"
         },
         "type": "nominal"
        },
        "tooltip": [
         {
          "field": "column_name",
          "type": "nominal"
         },
         {
          "field": "label",
          "title": "level label",
          "type": "ordinal"
         },
         {
          "field": "sql_expr",
          "type": "nominal"
         },
         {
          "field": "m_probability",
          "format": ".4f",
          "type": "quantitative"
         },
         {
          "field": "u_probability",
          "format": ".4f",
          "type": "quantitative"
         },
         {
          "field": "bayes_factor",
          "format": ".4f",
          "title": "Bayes factor = m/u",
          "type": "quantitative"
         },
         {
          "field": "log2_bayes_factor",
          "format": ".4f",
          "title": "Match weight = log2(m/u)",
          "type": "quantitative"
         },
         {
          "field": "level_proportion",
          "format": ".2%",
          "title": "Percentage of non-null comparisons in this level",
          "type": "nominal"
         }
        ],
        "x": {
         "axis": {
          "title": "Match weight = log2(m/u)",
          "values": [
           -10,
           -5,
           0,
           5,
           10
          ]
         },
         "field": "log2_bayes_factor",
         "scale": {
          "domain": [
           -10,
           10
          ]
         },
         "type": "quantitative"
        },
        "y": {
         "axis": {
          "title": null
         },
         "field": "label",
         "sort": {
          "field": "gamma_index"
         },
         "type": "nominal"
        }
       },
       "height": 50,
       "mark": {
        "clip": true,
        "type": "bar"
       },
       "resolve": {
        "scale": {
         "y": "independent"
        }
       },
       "selection": {
        "selector076": {
         "bind": "scales",
         "encodings": [
          "x"
         ],
         "type": "interval"
        }
       },
       "title": {
        "subtitle": "Use mousewheeel to zoom",
        "text": "Influence of comparison vector values on match probability"
       }
      },
      "text/plain": [
       "<VegaLite 4 object>\n",
       "\n",
       "If you see this message, it means the renderer has not been properly enabled\n",
       "for the frontend that you are using. For more information, see\n",
       "https://altair-viz.github.io/user_guide/troubleshooting.html\n"
      ]
     },
     "execution_count": 9,
     "metadata": {},
     "output_type": "execute_result"
    }
   ],
   "source": [
    "model.bayes_factor_chart()"
   ]
  },
  {
   "cell_type": "code",
   "execution_count": 10,
   "metadata": {},
   "outputs": [],
   "source": [
    "# If charts aren't displaying correctly in your notebook, you can write them to a file (by default splink_charts.html)\n",
    "model.all_charts_write_html_file(\"splink_charts.html\", overwrite=True)"
   ]
  },
  {
   "cell_type": "markdown",
   "metadata": {},
   "source": [
    "You can also generate a report which explains how the match probability was computed for an individual comparison row.  \n",
    "\n",
    "Note that you need to convert the row to a dictionary for this to work"
   ]
  },
  {
   "cell_type": "code",
   "execution_count": 11,
   "metadata": {},
   "outputs": [
    {
     "name": "stdout",
     "output_type": "stream",
     "text": [
      "\n",
      "Initial probability of match (prior) = λ = 0.03299\n",
      "------\n",
      "Comparison of first_name.  Values are:             \n",
      "first_name_l:                                      Jasper \n",
      "first_name_r:                                      Ivy \n",
      "Comparison has:                                    3 levels\n",
      "Level for this comparison:                         gamma_first_name = 0\n",
      "m probability = P(level|match):                    0.3348\n",
      "u probability = P(level|non-match):                0.9916\n",
      "Bayes factor = m/u:                                0.3376\n",
      "New probability of match (updated belief):         0.01139\n",
      "\n",
      "------\n",
      "Comparison of surname.  Values are:                \n",
      "surname_l:                                         None\n",
      "surname_r:                                         Parker\n",
      "Comparison has:                                    3 levels\n",
      "Level for this comparison:                         gamma_surname = -1\n",
      "m probability = P(level|match):                    1\n",
      "u probability = P(level|non-match):                1\n",
      "Bayes factor = m/u:                                1\n",
      "New probability of match (updated belief):         0.01139\n",
      "\n",
      "------\n",
      "Comparison of dob.  Values are:                    \n",
      "dob_l:                                             1981-07-25\n",
      "dob_r:                                             1989-03-02\n",
      "Comparison has:                                    2 levels\n",
      "Level for this comparison:                         gamma_dob = 0\n",
      "m probability = P(level|match):                    0.3126\n",
      "u probability = P(level|non-match):                0.9961\n",
      "Bayes factor = m/u:                                0.3138\n",
      "New probability of match (updated belief):         0.003602\n",
      "\n",
      "------\n",
      "Comparison of email.  Values are:                  \n",
      "email_l:                                           martinsusan@woods.com\n",
      "email_r:                                           bellsara@davis-fisher.com\n",
      "Comparison has:                                    2 levels\n",
      "Level for this comparison:                         gamma_email = 0\n",
      "m probability = P(level|match):                    0.235\n",
      "u probability = P(level|non-match):                0.9955\n",
      "Bayes factor = m/u:                                0.2361\n",
      "New probability of match (updated belief):         0.0008527\n",
      "\n",
      "\n",
      "Final probability of match = 0.0008527\n",
      "\n",
      "Reminder:\n",
      "\n",
      "The m probability for a given level is the proportion of matches which are in this level.\n",
      "We would generally expect the highest similarity level to have the largest proportion of matches.\n",
      "For example, we would expect first name field to match exactly amongst most matching records, except where nicknames, aliases or typos have occurred.\n",
      "For a comparison column that changes through time, like address, we may expect a lower proportion of comparisons to be in the highest similarity level.\n",
      "\n",
      "The u probability for a given level is the proportion of non-matches which are in this level.\n",
      "We would generally expect the lowest similarity level to have the highest proportion of non-matches, but the magnitude depends on the cardinality of the field.\n",
      "For example, we would expect that in the vast majority of non-matching records, the date of birth field would not match.  However, we would expect it to be common for gender to match amongst non-matches.\n",
      "\n"
     ]
    }
   ],
   "source": [
    "from splink.intuition import intuition_report\n",
    "row_dict = df_e.toPandas().sample(1).to_dict(orient=\"records\")[0]\n",
    "print(intuition_report(row_dict, model))"
   ]
  },
  {
   "cell_type": "markdown",
   "metadata": {},
   "source": [
    "# Use graphframes to resolve links into groups"
   ]
  },
  {
   "cell_type": "code",
   "execution_count": 12,
   "metadata": {},
   "outputs": [
    {
     "name": "stderr",
     "output_type": "stream",
     "text": [
      "22/01/11 05:40:25 WARN CacheManager: Asked to cache already cached data.        \n"
     ]
    },
    {
     "data": {
      "text/html": [
       "<div>\n",
       "<style scoped>\n",
       "    .dataframe tbody tr th:only-of-type {\n",
       "        vertical-align: middle;\n",
       "    }\n",
       "\n",
       "    .dataframe tbody tr th {\n",
       "        vertical-align: top;\n",
       "    }\n",
       "\n",
       "    .dataframe thead th {\n",
       "        text-align: right;\n",
       "    }\n",
       "</style>\n",
       "<table border=\"1\" class=\"dataframe\">\n",
       "  <thead>\n",
       "    <tr style=\"text-align: right;\">\n",
       "      <th></th>\n",
       "      <th>cluster_0_5</th>\n",
       "      <th>cluster_0_9</th>\n",
       "      <th>unique_id</th>\n",
       "      <th>first_name</th>\n",
       "      <th>surname</th>\n",
       "      <th>dob</th>\n",
       "      <th>city</th>\n",
       "      <th>email</th>\n",
       "      <th>group</th>\n",
       "      <th>source_dataset</th>\n",
       "    </tr>\n",
       "  </thead>\n",
       "  <tbody>\n",
       "    <tr>\n",
       "      <th>0</th>\n",
       "      <td>0</td>\n",
       "      <td>0</td>\n",
       "      <td>101</td>\n",
       "      <td>None</td>\n",
       "      <td>Lee</td>\n",
       "      <td>2000-07-29</td>\n",
       "      <td>London</td>\n",
       "      <td>zlynch@miller.com</td>\n",
       "      <td>53</td>\n",
       "      <td>df_1</td>\n",
       "    </tr>\n",
       "    <tr>\n",
       "      <th>1</th>\n",
       "      <td>1</td>\n",
       "      <td>1</td>\n",
       "      <td>103</td>\n",
       "      <td>Emily</td>\n",
       "      <td>Brooks</td>\n",
       "      <td>1974-02-11</td>\n",
       "      <td>None</td>\n",
       "      <td>millssamuel@alvarez-henry.com</td>\n",
       "      <td>54</td>\n",
       "      <td>df_1</td>\n",
       "    </tr>\n",
       "    <tr>\n",
       "      <th>2</th>\n",
       "      <td>2</td>\n",
       "      <td>2</td>\n",
       "      <td>111</td>\n",
       "      <td>rFddie</td>\n",
       "      <td>Lane</td>\n",
       "      <td>2016-02-18</td>\n",
       "      <td>London</td>\n",
       "      <td>duanejames@reyes.net</td>\n",
       "      <td>59</td>\n",
       "      <td>df_1</td>\n",
       "    </tr>\n",
       "    <tr>\n",
       "      <th>3</th>\n",
       "      <td>3</td>\n",
       "      <td>3</td>\n",
       "      <td>12</td>\n",
       "      <td>Matilda</td>\n",
       "      <td>Hsrir</td>\n",
       "      <td>1983-04-30</td>\n",
       "      <td>London</td>\n",
       "      <td>patrcio47@davis.cam</td>\n",
       "      <td>6</td>\n",
       "      <td>df_1</td>\n",
       "    </tr>\n",
       "    <tr>\n",
       "      <th>4</th>\n",
       "      <td>4</td>\n",
       "      <td>4</td>\n",
       "      <td>122</td>\n",
       "      <td>Berry</td>\n",
       "      <td>Adam</td>\n",
       "      <td>1986-02-08</td>\n",
       "      <td>Loonn</td>\n",
       "      <td>None</td>\n",
       "      <td>64</td>\n",
       "      <td>df_1</td>\n",
       "    </tr>\n",
       "    <tr>\n",
       "      <th>...</th>\n",
       "      <td>...</td>\n",
       "      <td>...</td>\n",
       "      <td>...</td>\n",
       "      <td>...</td>\n",
       "      <td>...</td>\n",
       "      <td>...</td>\n",
       "      <td>...</td>\n",
       "      <td>...</td>\n",
       "      <td>...</td>\n",
       "      <td>...</td>\n",
       "    </tr>\n",
       "    <tr>\n",
       "      <th>995</th>\n",
       "      <td>33</td>\n",
       "      <td>33</td>\n",
       "      <td>78</td>\n",
       "      <td>Daniel</td>\n",
       "      <td>Ellis</td>\n",
       "      <td>2013-01-14</td>\n",
       "      <td>Stoke-on-Trent</td>\n",
       "      <td>wmcdaniel@nelson.net</td>\n",
       "      <td>22</td>\n",
       "      <td>df_2</td>\n",
       "    </tr>\n",
       "    <tr>\n",
       "      <th>996</th>\n",
       "      <td>60129542261</td>\n",
       "      <td>60129542261</td>\n",
       "      <td>8</td>\n",
       "      <td>Noah</td>\n",
       "      <td>None</td>\n",
       "      <td>2008-03-23</td>\n",
       "      <td>Blotn</td>\n",
       "      <td>None</td>\n",
       "      <td>1</td>\n",
       "      <td>df_2</td>\n",
       "    </tr>\n",
       "    <tr>\n",
       "      <th>997</th>\n",
       "      <td>60129542262</td>\n",
       "      <td>60129542262</td>\n",
       "      <td>86</td>\n",
       "      <td>None</td>\n",
       "      <td>Jones</td>\n",
       "      <td>1980-06-23</td>\n",
       "      <td>Lnoon</td>\n",
       "      <td>trobinson@garza.com</td>\n",
       "      <td>25</td>\n",
       "      <td>df_2</td>\n",
       "    </tr>\n",
       "    <tr>\n",
       "      <th>998</th>\n",
       "      <td>60129542263</td>\n",
       "      <td>60129542263</td>\n",
       "      <td>96</td>\n",
       "      <td>Harry</td>\n",
       "      <td>Taylr</td>\n",
       "      <td>2017-11-24</td>\n",
       "      <td>noLdo</td>\n",
       "      <td>coltonray@lee.com</td>\n",
       "      <td>26</td>\n",
       "      <td>df_2</td>\n",
       "    </tr>\n",
       "    <tr>\n",
       "      <th>999</th>\n",
       "      <td>60129542264</td>\n",
       "      <td>60129542264</td>\n",
       "      <td>98</td>\n",
       "      <td>Harry</td>\n",
       "      <td>llH</td>\n",
       "      <td>2017-10-20</td>\n",
       "      <td>Sheffield</td>\n",
       "      <td>zportsr@robineo.com</td>\n",
       "      <td>27</td>\n",
       "      <td>df_2</td>\n",
       "    </tr>\n",
       "  </tbody>\n",
       "</table>\n",
       "<p>1000 rows × 10 columns</p>\n",
       "</div>"
      ],
      "text/plain": [
       "     cluster_0_5  cluster_0_9  unique_id first_name surname         dob  \\\n",
       "0              0            0        101       None     Lee  2000-07-29   \n",
       "1              1            1        103     Emily   Brooks  1974-02-11   \n",
       "2              2            2        111    rFddie     Lane  2016-02-18   \n",
       "3              3            3         12   Matilda    Hsrir  1983-04-30   \n",
       "4              4            4        122      Berry   Adam   1986-02-08   \n",
       "..           ...          ...        ...        ...     ...         ...   \n",
       "995           33           33         78     Daniel   Ellis  2013-01-14   \n",
       "996  60129542261  60129542261          8      Noah     None  2008-03-23   \n",
       "997  60129542262  60129542262         86       None   Jones  1980-06-23   \n",
       "998  60129542263  60129542263         96     Harry    Taylr  2017-11-24   \n",
       "999  60129542264  60129542264         98     Harry      llH  2017-10-20   \n",
       "\n",
       "               city                          email  group source_dataset  \n",
       "0            London              zlynch@miller.com     53           df_1  \n",
       "1              None  millssamuel@alvarez-henry.com     54           df_1  \n",
       "2            London           duanejames@reyes.net     59           df_1  \n",
       "3            London            patrcio47@davis.cam      6           df_1  \n",
       "4             Loonn                           None     64           df_1  \n",
       "..              ...                            ...    ...            ...  \n",
       "995  Stoke-on-Trent           wmcdaniel@nelson.net     22           df_2  \n",
       "996           Blotn                           None      1           df_2  \n",
       "997           Lnoon            trobinson@garza.com     25           df_2  \n",
       "998           noLdo              coltonray@lee.com     26           df_2  \n",
       "999       Sheffield            zportsr@robineo.com     27           df_2  \n",
       "\n",
       "[1000 rows x 10 columns]"
      ]
     },
     "execution_count": 12,
     "metadata": {},
     "output_type": "execute_result"
    }
   ],
   "source": [
    "from splink.cluster import clusters_at_thresholds\n",
    "\n",
    "thresholds = {\"cluster_0_5\": 0.5, \"cluster_0_9\": 0.9}\n",
    "clusters_at_thresholds([df_1, df_2], df_e, thresholds, linker.model).toPandas()"
   ]
  }
 ],
 "metadata": {
  "kernelspec": {
   "display_name": "Python 3",
   "language": "python",
   "name": "python3"
  },
  "language_info": {
   "codemirror_mode": {
    "name": "ipython",
    "version": 3
   },
   "file_extension": ".py",
   "mimetype": "text/x-python",
   "name": "python",
   "nbconvert_exporter": "python",
   "pygments_lexer": "ipython3",
   "version": "3.8.3"
  }
 },
 "nbformat": 4,
 "nbformat_minor": 4
}
