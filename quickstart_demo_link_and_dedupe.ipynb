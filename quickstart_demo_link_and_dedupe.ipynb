{
 "cells": [
  {
   "cell_type": "markdown",
   "metadata": {},
   "source": [
    "## Splink data linking and deduplication demo \n",
    "\n",
    "In this demo we link and simultaneously two datasets which themselves contain duplicates.\n",
    "\n",
    "The purpose is to provide an end-to-end example of how to use the package\n",
    "\n",
    "I print the output at each stage using `spark_dataframe.show()`.  This is for instructional purposes only - it degrades performance and shouldn't be used in a production setting."
   ]
  },
  {
   "cell_type": "markdown",
   "metadata": {},
   "source": [
    "## Step 1:  Imports and setup\n",
    "\n",
    "The following is just boilerplate code that sets up the Spark session and sets some other non-essential configuration options"
   ]
  },
  {
   "cell_type": "code",
   "execution_count": 1,
   "metadata": {},
   "outputs": [],
   "source": [
    "import pandas as pd \n",
    "pd.options.display.max_columns = 500\n",
    "pd.options.display.max_rows = 100"
   ]
  },
  {
   "cell_type": "code",
   "execution_count": 2,
   "metadata": {},
   "outputs": [],
   "source": [
    "import logging \n",
    "logging.basicConfig()  # Means logs will print in Jupyter Lab\n",
    "\n",
    "# Set to DEBUG if you want splink to log the SQL statements it's executing under the hood\n",
    "logging.getLogger(\"splink\").setLevel(logging.INFO)"
   ]
  },
  {
   "cell_type": "code",
   "execution_count": 3,
   "metadata": {},
   "outputs": [],
   "source": [
    "from utility_functions.demo_utils import get_spark\n",
    "spark = get_spark()"
   ]
  },
  {
   "cell_type": "markdown",
   "metadata": {},
   "source": [
    "## Step 2:  Read in data\n",
    "\n",
    "The `l` and `r` stand for 'left' and 'right.  It doesn't matter which of the two datasets you choose as the left, performance and results will be the same.\n",
    "\n",
    "\n",
    "⚠️ Note that `splink` makes the following assumptions about your data:\n",
    "\n",
    "-  There is a field containing a unique record identifier in each dataset\n",
    "-  The two datasets being linked have common column names - e.g. date of birth is represented in both datasets in a field of the same name.   In many cases, this means that the user needs to rename columns prior to using `splink`\n"
   ]
  },
  {
   "cell_type": "code",
   "execution_count": 5,
   "metadata": {},
   "outputs": [
    {
     "name": "stdout",
     "output_type": "stream",
     "text": [
      "+---------+----------+-------+----------+------------+--------------------+-----+\n",
      "|unique_id|first_name|surname|       dob|        city|               email|group|\n",
      "+---------+----------+-------+----------+------------+--------------------+-----+\n",
      "|        0|    Julia |   null|2015-10-29|      London| hannah88@powers.com|    0|\n",
      "|        1|    Julia | Taylor|2015-07-31|      London| hannah88@powers.com|    0|\n",
      "|        2|      oNah| Watson|2008-03-23|      Bolton|matthew78@ballard...|    1|\n",
      "|        3|     Noah | Watson|2008-03-23|      Bolton|matthew78@ballard...|    1|\n",
      "|        4|    Molly |   Bell|2002-01-05|Peterborough|                null|    2|\n",
      "+---------+----------+-------+----------+------------+--------------------+-----+\n",
      "only showing top 5 rows\n",
      "\n",
      "+---------+----------+-------+----------+------+--------------------+-----+\n",
      "|unique_id|first_name|surname|       dob|  city|               email|group|\n",
      "+---------+----------+-------+----------+------+--------------------+-----+\n",
      "|        0|    Julia | Taylor|2016-01-27|London| hannah88@powers.com|    0|\n",
      "|        1|    Julia | Taylor|2015-10-29|  null|  hannah88opowersc@m|    0|\n",
      "|        2|    Watson|  Noah |2008-03-23|  null|matthew78@ballard...|    1|\n",
      "|        3|     Noah | Watson|2008-02-05| tolon|matthew78@ballard...|    1|\n",
      "|        4|    Watson|  Noah |2008-06-15|Bolton|matthew78@ballard...|    1|\n",
      "+---------+----------+-------+----------+------+--------------------+-----+\n",
      "only showing top 5 rows\n",
      "\n"
     ]
    }
   ],
   "source": [
    "\n",
    "from pyspark.sql import functions as f\n",
    "df_l = spark.read.parquet(\"data/fake_df_l_link_dedupe_test.parquet\")\n",
    "df_r = spark.read.parquet(\"data/fake_df_r_link_dedupe_test.parquet\")\n",
    "df_l.show(5)\n",
    "df_r.show(5)"
   ]
  },
  {
   "cell_type": "markdown",
   "metadata": {},
   "source": [
    "## Step 3:  Configure splink using the `settings` object\n",
    "\n",
    "Most of `splink` configuration options are stored in a settings dictionary.  This dictionary allows significant customisation, and can therefore get quite complex.  \n",
    "\n",
    "💥 We provide an tool for helping to author valid settings dictionaries, which includes tooltips and autocomplete, which you can find [here](http://robinlinacre.com/splink_settings_editor/).\n",
    "\n",
    "Customisation overrides default values built into splink.  For the purposes of this demo, we will specify a simple settings dictionary, which means we will be relying on these sensible defaults.\n",
    "\n",
    "To help with authoring and validation of the settings dictionary, we have written a [json schema](https://json-schema.org/), which can be found [here](https://github.com/moj-analytical-services/splink/blob/master/splink/files/settings_jsonschema.json).  \n",
    "\n",
    "\n"
   ]
  },
  {
   "cell_type": "code",
   "execution_count": 8,
   "metadata": {},
   "outputs": [],
   "source": [
    "settings = {\n",
    "    \"link_type\": \"link_and_dedupe\",\n",
    "    \"blocking_rules\": [\n",
    "        \"l.first_name = r.first_name\",\n",
    "        \"l.surname = r.surname\",\n",
    "        \"l.dob = r.dob\"\n",
    "    ],\n",
    "    \"comparison_columns\": [\n",
    "       {\n",
    "        \"custom_name\": \"name_inversion\",\n",
    "        \"custom_columns_used\": [\"first_name\", \"surname\", \"dob\"],\n",
    "        \"case_expression\": \"CASE WHEN first_name_l = first_name_r AND surname_l = surname_r THEN 2 WHEN first_name_l = surname_r AND surname_l = first_name_r THEN 1 ELSE 0 END\",\n",
    "        \"num_levels\": 3\n",
    "        },\n",
    "        {\n",
    "            \"col_name\": \"dob\"\n",
    "        },\n",
    "        {\n",
    "            \"col_name\": \"city\"\n",
    "        },\n",
    "        {\n",
    "            \"col_name\": \"email\"\n",
    "        }\n",
    "    ],\n",
    "    \"additional_columns_to_retain\": [\"group\"]\n",
    "}"
   ]
  },
  {
   "cell_type": "markdown",
   "metadata": {},
   "source": [
    "In words, this setting dictionary says:\n",
    "- We are performing a link and deduplication task (the other options are `link_only`, or `dedupe_only`)\n",
    "- We are going generate comparisons subject to the blocking rules contained in the specified array\n",
    "- When comparing records, we will use information from the `first_name`, `surname`, `dob`, `city` and `email` columns to compute a match score.\n",
    "- For `first_name` and `surname`, string comparisons will have three levels:\n",
    "    - Level 2: Strings are (almost) exactly the same\n",
    "    - Level 1: Strings are similar \n",
    "    - Level 0: No match\n",
    "- We will make adjustments for term frequencies on the `first_name` and `surname` columns\n",
    "- We will retain the `group` column in the results even though this is not used as part of comparisons.  This is a labelled dataset and `group` contains the true match - i.e. where group matches, the records pertain to the same person"
   ]
  },
  {
   "cell_type": "markdown",
   "metadata": {},
   "source": [
    "## Step 4:  Estimate match scores using the Expectation Maximisation algorithm\n",
    "Columns are assumed to be strings by default.  See the 'comparison vector settings' notebook for details of configuration options."
   ]
  },
  {
   "cell_type": "code",
   "execution_count": 9,
   "metadata": {},
   "outputs": [
    {
     "name": "stderr",
     "output_type": "stream",
     "text": [
      "INFO:splink.iterate:Iteration 0 complete\n",
      "INFO:splink.params:The maximum change in parameters was 0.46443518400192263 for key π_gamma_name_inversion_prob_dist_match_level_0_probability\n",
      "INFO:splink.iterate:Iteration 1 complete\n",
      "INFO:splink.params:The maximum change in parameters was 0.05639684200286865 for key π_gamma_city_prob_dist_match_level_1_probability\n",
      "INFO:splink.iterate:Iteration 2 complete\n",
      "INFO:splink.params:The maximum change in parameters was 0.026586294174194336 for key π_gamma_city_prob_dist_match_level_1_probability\n",
      "INFO:splink.iterate:Iteration 3 complete\n",
      "INFO:splink.params:The maximum change in parameters was 0.01431041955947876 for key π_gamma_dob_prob_dist_non_match_level_0_probability\n",
      "INFO:splink.iterate:Iteration 4 complete\n",
      "INFO:splink.params:The maximum change in parameters was 0.011147737503051758 for key π_gamma_email_prob_dist_match_level_1_probability\n"
     ]
    }
   ],
   "source": [
    "from splink import Splink\n",
    "\n",
    "linker = Splink(settings, spark, df_l=df_l, df_r=df_r)\n",
    "df_e = linker.get_scored_comparisons()\n"
   ]
  },
  {
   "cell_type": "markdown",
   "metadata": {},
   "source": [
    "## Step 5: Inspect results \n",
    "\n",
    "Each row in the results table represents a comparison of two input records.\n",
    "\n",
    "Note that since this is a link and dedupe task, there will be record comparisons of three types:\n",
    "-  Comparison between two records both originating from `df_l`.  \n",
    "-  Comparison between two records both originating from `df_r`.  \n",
    "-  Comparison between one record from `df_l` and one record from `df_r`\n",
    "\n",
    "Information about the source table is included in the `_source_table_l` and `_source_table_r` fields."
   ]
  },
  {
   "cell_type": "code",
   "execution_count": 10,
   "metadata": {},
   "outputs": [
    {
     "data": {
      "text/html": [
       "<div>\n",
       "<style scoped>\n",
       "    .dataframe tbody tr th:only-of-type {\n",
       "        vertical-align: middle;\n",
       "    }\n",
       "\n",
       "    .dataframe tbody tr th {\n",
       "        vertical-align: top;\n",
       "    }\n",
       "\n",
       "    .dataframe thead th {\n",
       "        text-align: right;\n",
       "    }\n",
       "</style>\n",
       "<table border=\"1\" class=\"dataframe\">\n",
       "  <thead>\n",
       "    <tr style=\"text-align: right;\">\n",
       "      <th></th>\n",
       "      <th>match_probability</th>\n",
       "      <th>unique_id_l</th>\n",
       "      <th>_source_table_l</th>\n",
       "      <th>unique_id_r</th>\n",
       "      <th>_source_table_r</th>\n",
       "      <th>group_l</th>\n",
       "      <th>group_r</th>\n",
       "      <th>first_name_l</th>\n",
       "      <th>first_name_r</th>\n",
       "      <th>surname_l</th>\n",
       "      <th>surname_r</th>\n",
       "      <th>dob_l</th>\n",
       "      <th>dob_r</th>\n",
       "      <th>city_l</th>\n",
       "      <th>city_r</th>\n",
       "      <th>email_l</th>\n",
       "      <th>email_r</th>\n",
       "    </tr>\n",
       "  </thead>\n",
       "  <tbody>\n",
       "    <tr>\n",
       "      <td>1</td>\n",
       "      <td>0.962228</td>\n",
       "      <td>0</td>\n",
       "      <td>left</td>\n",
       "      <td>0</td>\n",
       "      <td>right</td>\n",
       "      <td>0</td>\n",
       "      <td>0</td>\n",
       "      <td>Julia</td>\n",
       "      <td>Julia</td>\n",
       "      <td>None</td>\n",
       "      <td>Taylor</td>\n",
       "      <td>2015-10-29</td>\n",
       "      <td>2016-01-27</td>\n",
       "      <td>London</td>\n",
       "      <td>London</td>\n",
       "      <td>hannah88@powers.com</td>\n",
       "      <td>hannah88@powers.com</td>\n",
       "    </tr>\n",
       "    <tr>\n",
       "      <td>0</td>\n",
       "      <td>0.998977</td>\n",
       "      <td>0</td>\n",
       "      <td>left</td>\n",
       "      <td>1</td>\n",
       "      <td>right</td>\n",
       "      <td>0</td>\n",
       "      <td>0</td>\n",
       "      <td>Julia</td>\n",
       "      <td>Julia</td>\n",
       "      <td>None</td>\n",
       "      <td>Taylor</td>\n",
       "      <td>2015-10-29</td>\n",
       "      <td>2015-10-29</td>\n",
       "      <td>London</td>\n",
       "      <td>None</td>\n",
       "      <td>hannah88@powers.com</td>\n",
       "      <td>hannah88opowersc@m</td>\n",
       "    </tr>\n",
       "    <tr>\n",
       "      <td>2</td>\n",
       "      <td>0.962228</td>\n",
       "      <td>0</td>\n",
       "      <td>left</td>\n",
       "      <td>1</td>\n",
       "      <td>left</td>\n",
       "      <td>0</td>\n",
       "      <td>0</td>\n",
       "      <td>Julia</td>\n",
       "      <td>Julia</td>\n",
       "      <td>None</td>\n",
       "      <td>Taylor</td>\n",
       "      <td>2015-10-29</td>\n",
       "      <td>2015-07-31</td>\n",
       "      <td>London</td>\n",
       "      <td>London</td>\n",
       "      <td>hannah88@powers.com</td>\n",
       "      <td>hannah88@powers.com</td>\n",
       "    </tr>\n",
       "    <tr>\n",
       "      <td>1213</td>\n",
       "      <td>0.994881</td>\n",
       "      <td>0</td>\n",
       "      <td>right</td>\n",
       "      <td>1</td>\n",
       "      <td>right</td>\n",
       "      <td>0</td>\n",
       "      <td>0</td>\n",
       "      <td>Julia</td>\n",
       "      <td>Julia</td>\n",
       "      <td>Taylor</td>\n",
       "      <td>Taylor</td>\n",
       "      <td>2016-01-27</td>\n",
       "      <td>2015-10-29</td>\n",
       "      <td>London</td>\n",
       "      <td>None</td>\n",
       "      <td>hannah88@powers.com</td>\n",
       "      <td>hannah88opowersc@m</td>\n",
       "    </tr>\n",
       "    <tr>\n",
       "      <td>3585</td>\n",
       "      <td>0.025179</td>\n",
       "      <td>0</td>\n",
       "      <td>right</td>\n",
       "      <td>97</td>\n",
       "      <td>right</td>\n",
       "      <td>0</td>\n",
       "      <td>26</td>\n",
       "      <td>Julia</td>\n",
       "      <td>Harry</td>\n",
       "      <td>Taylor</td>\n",
       "      <td>Taylor</td>\n",
       "      <td>2016-01-27</td>\n",
       "      <td>2017-09-01</td>\n",
       "      <td>London</td>\n",
       "      <td>London</td>\n",
       "      <td>hannah88@powers.com</td>\n",
       "      <td>coltonray@lee.com</td>\n",
       "    </tr>\n",
       "    <tr>\n",
       "      <td>3584</td>\n",
       "      <td>0.025179</td>\n",
       "      <td>0</td>\n",
       "      <td>right</td>\n",
       "      <td>245</td>\n",
       "      <td>right</td>\n",
       "      <td>0</td>\n",
       "      <td>62</td>\n",
       "      <td>Julia</td>\n",
       "      <td>Nancy</td>\n",
       "      <td>Taylor</td>\n",
       "      <td>Taylor</td>\n",
       "      <td>2016-01-27</td>\n",
       "      <td>1989-07-25</td>\n",
       "      <td>London</td>\n",
       "      <td>London</td>\n",
       "      <td>hannah88@powers.com</td>\n",
       "      <td>wagnershane@landry.com</td>\n",
       "    </tr>\n",
       "    <tr>\n",
       "      <td>3583</td>\n",
       "      <td>0.025179</td>\n",
       "      <td>0</td>\n",
       "      <td>right</td>\n",
       "      <td>246</td>\n",
       "      <td>right</td>\n",
       "      <td>0</td>\n",
       "      <td>62</td>\n",
       "      <td>Julia</td>\n",
       "      <td>Nancy</td>\n",
       "      <td>Taylor</td>\n",
       "      <td>Taylor</td>\n",
       "      <td>2016-01-27</td>\n",
       "      <td>1989-08-19</td>\n",
       "      <td>London</td>\n",
       "      <td>London</td>\n",
       "      <td>hannah88@powers.com</td>\n",
       "      <td>wagnershane@landry.com</td>\n",
       "    </tr>\n",
       "    <tr>\n",
       "      <td>3582</td>\n",
       "      <td>0.025179</td>\n",
       "      <td>0</td>\n",
       "      <td>right</td>\n",
       "      <td>248</td>\n",
       "      <td>right</td>\n",
       "      <td>0</td>\n",
       "      <td>62</td>\n",
       "      <td>Julia</td>\n",
       "      <td>Nacy</td>\n",
       "      <td>Taylor</td>\n",
       "      <td>Taylor</td>\n",
       "      <td>2016-01-27</td>\n",
       "      <td>1989-07-25</td>\n",
       "      <td>London</td>\n",
       "      <td>London</td>\n",
       "      <td>hannah88@powers.com</td>\n",
       "      <td>wagnershane@landry.com</td>\n",
       "    </tr>\n",
       "    <tr>\n",
       "      <td>3581</td>\n",
       "      <td>0.001306</td>\n",
       "      <td>0</td>\n",
       "      <td>right</td>\n",
       "      <td>313</td>\n",
       "      <td>right</td>\n",
       "      <td>0</td>\n",
       "      <td>79</td>\n",
       "      <td>Julia</td>\n",
       "      <td>Isaac</td>\n",
       "      <td>Taylor</td>\n",
       "      <td>Taylor</td>\n",
       "      <td>2016-01-27</td>\n",
       "      <td>2008-07-01</td>\n",
       "      <td>London</td>\n",
       "      <td>Swindon</td>\n",
       "      <td>hannah88@powers.com</td>\n",
       "      <td>xday@higgins-lewis.com</td>\n",
       "    </tr>\n",
       "    <tr>\n",
       "      <td>3580</td>\n",
       "      <td>0.001306</td>\n",
       "      <td>0</td>\n",
       "      <td>right</td>\n",
       "      <td>314</td>\n",
       "      <td>right</td>\n",
       "      <td>0</td>\n",
       "      <td>79</td>\n",
       "      <td>Julia</td>\n",
       "      <td>None</td>\n",
       "      <td>Taylor</td>\n",
       "      <td>Taylor</td>\n",
       "      <td>2016-01-27</td>\n",
       "      <td>2008-08-22</td>\n",
       "      <td>London</td>\n",
       "      <td>Swindon</td>\n",
       "      <td>hannah88@powers.com</td>\n",
       "      <td>xd-y@higginsalwis.com</td>\n",
       "    </tr>\n",
       "  </tbody>\n",
       "</table>\n",
       "</div>"
      ],
      "text/plain": [
       "      match_probability  unique_id_l _source_table_l  unique_id_r  \\\n",
       "1              0.962228            0            left            0   \n",
       "0              0.998977            0            left            1   \n",
       "2              0.962228            0            left            1   \n",
       "1213           0.994881            0           right            1   \n",
       "3585           0.025179            0           right           97   \n",
       "3584           0.025179            0           right          245   \n",
       "3583           0.025179            0           right          246   \n",
       "3582           0.025179            0           right          248   \n",
       "3581           0.001306            0           right          313   \n",
       "3580           0.001306            0           right          314   \n",
       "\n",
       "     _source_table_r  group_l  group_r first_name_l first_name_r surname_l  \\\n",
       "1              right        0        0       Julia        Julia       None   \n",
       "0              right        0        0       Julia        Julia       None   \n",
       "2               left        0        0       Julia        Julia       None   \n",
       "1213           right        0        0       Julia        Julia     Taylor   \n",
       "3585           right        0       26       Julia        Harry     Taylor   \n",
       "3584           right        0       62       Julia        Nancy     Taylor   \n",
       "3583           right        0       62       Julia        Nancy     Taylor   \n",
       "3582           right        0       62       Julia         Nacy     Taylor   \n",
       "3581           right        0       79       Julia        Isaac     Taylor   \n",
       "3580           right        0       79       Julia          None    Taylor   \n",
       "\n",
       "     surname_r       dob_l       dob_r  city_l   city_r              email_l  \\\n",
       "1       Taylor  2015-10-29  2016-01-27  London   London  hannah88@powers.com   \n",
       "0       Taylor  2015-10-29  2015-10-29  London     None  hannah88@powers.com   \n",
       "2       Taylor  2015-10-29  2015-07-31  London   London  hannah88@powers.com   \n",
       "1213    Taylor  2016-01-27  2015-10-29  London     None  hannah88@powers.com   \n",
       "3585    Taylor  2016-01-27  2017-09-01  London   London  hannah88@powers.com   \n",
       "3584    Taylor  2016-01-27  1989-07-25  London   London  hannah88@powers.com   \n",
       "3583    Taylor  2016-01-27  1989-08-19  London   London  hannah88@powers.com   \n",
       "3582    Taylor  2016-01-27  1989-07-25  London   London  hannah88@powers.com   \n",
       "3581    Taylor  2016-01-27  2008-07-01  London  Swindon  hannah88@powers.com   \n",
       "3580    Taylor  2016-01-27  2008-08-22  London  Swindon  hannah88@powers.com   \n",
       "\n",
       "                     email_r  \n",
       "1        hannah88@powers.com  \n",
       "0         hannah88opowersc@m  \n",
       "2        hannah88@powers.com  \n",
       "1213      hannah88opowersc@m  \n",
       "3585       coltonray@lee.com  \n",
       "3584  wagnershane@landry.com  \n",
       "3583  wagnershane@landry.com  \n",
       "3582  wagnershane@landry.com  \n",
       "3581  xday@higgins-lewis.com  \n",
       "3580   xd-y@higginsalwis.com  "
      ]
     },
     "execution_count": 10,
     "metadata": {},
     "output_type": "execute_result"
    }
   ],
   "source": [
    "# Inspect main dataframe that contains the match scores\n",
    "cols_to_inspect = [\"match_probability\",\"unique_id_l\", \"_source_table_l\",\"unique_id_r\",\"_source_table_r\",\"group_l\", \"group_r\", \"first_name_l\",\"first_name_r\",\"surname_l\",\"surname_r\",\"dob_l\",\"dob_r\",\"city_l\",\"city_r\",\"email_l\",\"email_r\"]\n",
    "\n",
    "df_e.toPandas()[cols_to_inspect].sort_values([\"unique_id_l\", \"unique_id_r\"]).head(10)"
   ]
  },
  {
   "cell_type": "markdown",
   "metadata": {},
   "source": [
    "The `params` property of the `linker` is an object that contains a lot of diagnostic information about how the match probability was computed.  The following cells demonstrate some of its functionality"
   ]
  },
  {
   "cell_type": "code",
   "execution_count": 11,
   "metadata": {},
   "outputs": [
    {
     "data": {
      "application/vnd.vegalite.v3+json": {
       "$schema": "https://vega.github.io/schema/vega-lite/v3.4.0.json",
       "config": {
        "mark": {
         "tooltip": null
        },
        "title": {
         "anchor": "middle"
        },
        "view": {
         "height": 300,
         "width": 400
        }
       },
       "data": {
        "name": "data-f7b7dd4203f4029e4116cc9f7496eee3"
       },
       "datasets": {
        "data-f7b7dd4203f4029e4116cc9f7496eee3": [
         {
          "column": "name_inversion",
          "gamma": "gamma_name_inversion",
          "match": 1,
          "probability": 0.625113308429718,
          "value": 0,
          "value_of_gamma": "level_0"
         },
         {
          "column": "name_inversion",
          "gamma": "gamma_name_inversion",
          "match": 1,
          "probability": 0.12494514137506485,
          "value": 1,
          "value_of_gamma": "level_1"
         },
         {
          "column": "name_inversion",
          "gamma": "gamma_name_inversion",
          "match": 1,
          "probability": 0.24994152784347534,
          "value": 2,
          "value_of_gamma": "level_2"
         },
         {
          "column": "name_inversion",
          "gamma": "gamma_name_inversion",
          "match": 0,
          "probability": 0.989872932434082,
          "value": 0,
          "value_of_gamma": "level_0"
         },
         {
          "column": "name_inversion",
          "gamma": "gamma_name_inversion",
          "match": 0,
          "probability": 9.378946742799599e-06,
          "value": 1,
          "value_of_gamma": "level_1"
         },
         {
          "column": "name_inversion",
          "gamma": "gamma_name_inversion",
          "match": 0,
          "probability": 0.010117674246430397,
          "value": 2,
          "value_of_gamma": "level_2"
         },
         {
          "column": "dob",
          "gamma": "gamma_dob",
          "match": 1,
          "probability": 0.11974082142114639,
          "value": 0,
          "value_of_gamma": "level_0"
         },
         {
          "column": "dob",
          "gamma": "gamma_dob",
          "match": 1,
          "probability": 0.8802591562271118,
          "value": 1,
          "value_of_gamma": "level_1"
         },
         {
          "column": "dob",
          "gamma": "gamma_dob",
          "match": 0,
          "probability": 0.9639600515365601,
          "value": 0,
          "value_of_gamma": "level_0"
         },
         {
          "column": "dob",
          "gamma": "gamma_dob",
          "match": 0,
          "probability": 0.03603995218873024,
          "value": 1,
          "value_of_gamma": "level_1"
         },
         {
          "column": "city",
          "gamma": "gamma_city",
          "match": 1,
          "probability": 0.2200467735528946,
          "value": 0,
          "value_of_gamma": "level_0"
         },
         {
          "column": "city",
          "gamma": "gamma_city",
          "match": 1,
          "probability": 0.7799532413482666,
          "value": 1,
          "value_of_gamma": "level_1"
         },
         {
          "column": "city",
          "gamma": "gamma_city",
          "match": 0,
          "probability": 0.8478792309761047,
          "value": 0,
          "value_of_gamma": "level_0"
         },
         {
          "column": "city",
          "gamma": "gamma_city",
          "match": 0,
          "probability": 0.15212078392505646,
          "value": 1,
          "value_of_gamma": "level_1"
         },
         {
          "column": "email",
          "gamma": "gamma_email",
          "match": 1,
          "probability": 0.0973832979798317,
          "value": 0,
          "value_of_gamma": "level_0"
         },
         {
          "column": "email",
          "gamma": "gamma_email",
          "match": 1,
          "probability": 0.9026166796684265,
          "value": 1,
          "value_of_gamma": "level_1"
         },
         {
          "column": "email",
          "gamma": "gamma_email",
          "match": 0,
          "probability": 0.990689754486084,
          "value": 0,
          "value_of_gamma": "level_0"
         },
         {
          "column": "email",
          "gamma": "gamma_email",
          "match": 0,
          "probability": 0.009310228750109673,
          "value": 1,
          "value_of_gamma": "level_1"
         }
        ]
       },
       "hconcat": [
        {
         "encoding": {
          "color": {
           "field": "match",
           "type": "nominal"
          },
          "row": {
           "field": "column",
           "sort": {
            "field": "gamma"
           },
           "type": "nominal"
          },
          "tooltip": [
           {
            "field": "column",
            "type": "nominal"
           },
           {
            "field": "probability",
            "format": ".4f",
            "type": "quantitative"
           },
           {
            "field": "value",
            "type": "ordinal"
           }
          ],
          "x": {
           "field": "probability",
           "type": "quantitative"
          },
          "y": {
           "axis": {
            "title": "𝛾 value"
           },
           "field": "value",
           "type": "nominal"
          }
         },
         "height": 50,
         "mark": "bar",
         "resolve": {
          "scale": {
           "y": "independent"
          }
         },
         "transform": [
          {
           "filter": "(datum.match === 0)"
          }
         ],
         "width": 150
        },
        {
         "encoding": {
          "color": {
           "field": "match",
           "type": "nominal"
          },
          "row": {
           "field": "column",
           "sort": {
            "field": "gamma"
           },
           "type": "nominal"
          },
          "tooltip": [
           {
            "field": "column",
            "type": "nominal"
           },
           {
            "field": "probability",
            "format": ".4f",
            "type": "quantitative"
           },
           {
            "field": "value",
            "type": "ordinal"
           }
          ],
          "x": {
           "field": "probability",
           "type": "quantitative"
          },
          "y": {
           "axis": {
            "title": "𝛾 value"
           },
           "field": "value",
           "type": "nominal"
          }
         },
         "height": 50,
         "mark": "bar",
         "resolve": {
          "scale": {
           "y": "independent"
          }
         },
         "transform": [
          {
           "filter": "(datum.match === 1)"
          }
         ],
         "width": 150
        }
       ],
       "title": "Probability distribution of comparison vector values, m=0 and m=1"
      },
      "image/png": "[encoded data removed]",
      "text/plain": [
       "<VegaLite 3 object>\n",
       "\n",
       "If you see this message, it means the renderer has not been properly enabled\n",
       "for the frontend that you are using. For more information, see\n",
       "https://altair-viz.github.io/user_guide/troubleshooting.html\n"
      ]
     },
     "execution_count": 11,
     "metadata": {},
     "output_type": "execute_result"
    }
   ],
   "source": [
    "params = linker.params\n",
    "params.probability_distribution_chart()"
   ]
  },
  {
   "cell_type": "markdown",
   "metadata": {},
   "source": [
    "An alternative representation of the parameters displays them in terms of the effect different values in the comparison vectors have on the match probability:"
   ]
  },
  {
   "cell_type": "code",
   "execution_count": 12,
   "metadata": {},
   "outputs": [
    {
     "data": {
      "application/vnd.vegalite.v3+json": {
       "$schema": "https://vega.github.io/schema/vega-lite/v3.4.0.json",
       "config": {
        "mark": {
         "tooltip": null
        },
        "title": {
         "anchor": "middle"
        },
        "view": {
         "height": 300,
         "width": 400
        }
       },
       "data": {
        "name": "data-1fea49c8f8dfa543ba8fa3afc3ee5b6c"
       },
       "datasets": {
        "data-1fea49c8f8dfa543ba8fa3afc3ee5b6c": [
         {
          "adjustment": 0.38707036172355663,
          "col_name": "name_inversion",
          "level": "level_0",
          "m": 0.625113308429718,
          "normalised_adjustment": -0.11292963827644337,
          "u": 0.989872932434082
         },
         {
          "adjustment": 0.9999249411168268,
          "col_name": "name_inversion",
          "level": "level_1",
          "m": 0.12494514137506485,
          "normalised_adjustment": 0.49992494111682684,
          "u": 9.378946742799599e-06
         },
         {
          "adjustment": 0.9610947270270691,
          "col_name": "name_inversion",
          "level": "level_2",
          "m": 0.24994152784347534,
          "normalised_adjustment": 0.4610947270270691,
          "u": 0.010117674246430397
         },
         {
          "adjustment": 0.11049250250610393,
          "col_name": "dob",
          "level": "level_0",
          "m": 0.11974082142114639,
          "normalised_adjustment": -0.38950749749389607,
          "u": 0.9639600515365601
         },
         {
          "adjustment": 0.960667917432509,
          "col_name": "dob",
          "level": "level_1",
          "m": 0.8802591562271118,
          "normalised_adjustment": 0.460667917432509,
          "u": 0.03603995218873024
         },
         {
          "adjustment": 0.20605058086392844,
          "col_name": "city",
          "level": "level_0",
          "m": 0.2200467735528946,
          "normalised_adjustment": -0.29394941913607153,
          "u": 0.8478792309761047
         },
         {
          "adjustment": 0.8367932376610878,
          "col_name": "city",
          "level": "level_1",
          "m": 0.7799532413482666,
          "normalised_adjustment": 0.3367932376610878,
          "u": 0.15212078392505646
         },
         {
          "adjustment": 0.08950069828411844,
          "col_name": "email",
          "level": "level_0",
          "m": 0.0973832979798317,
          "normalised_adjustment": -0.41049930171588156,
          "u": 0.990689754486084
         },
         {
          "adjustment": 0.9897905976189961,
          "col_name": "email",
          "level": "level_1",
          "m": 0.9026166796684265,
          "normalised_adjustment": 0.4897905976189961,
          "u": 0.009310228750109673
         }
        ]
       },
       "encoding": {
        "color": {
         "field": "normalised_adjustment",
         "scale": {
          "domain": [
           -0.5,
           -0.4,
           0,
           0.4,
           0.5
          ],
          "range": [
           "red",
           "orange",
           "green",
           "orange",
           "red"
          ]
         },
         "type": "quantitative"
        },
        "row": {
         "field": "col_name",
         "sort": {
          "field": "gamma"
         },
         "type": "nominal"
        },
        "tooltip": [
         {
          "field": "col_name",
          "type": "nominal"
         },
         {
          "field": "normalised_adjustment",
          "type": "quantitative"
         }
        ],
        "x": {
         "axis": {
          "title": "Influence on match probabiity."
         },
         "field": "normalised_adjustment",
         "scale": {
          "domain": [
           -0.5,
           0.5
          ]
         },
         "type": "quantitative"
        },
        "y": {
         "field": "level",
         "type": "nominal"
        }
       },
       "height": 50,
       "mark": "bar",
       "resolve": {
        "scale": {
         "y": "independent"
        }
       },
       "title": "Influence of comparison vector values on match probability"
      },
      "image/png": "[encoded data removed]",
      "text/plain": [
       "<VegaLite 3 object>\n",
       "\n",
       "If you see this message, it means the renderer has not been properly enabled\n",
       "for the frontend that you are using. For more information, see\n",
       "https://altair-viz.github.io/user_guide/troubleshooting.html\n"
      ]
     },
     "execution_count": 12,
     "metadata": {},
     "output_type": "execute_result"
    }
   ],
   "source": [
    "params.adjustment_factor_chart()"
   ]
  },
  {
   "cell_type": "code",
   "execution_count": 14,
   "metadata": {},
   "outputs": [],
   "source": [
    "# If charts aren't displaying correctly in your notebook, you can write them to a file (by default splink_charts.html)\n",
    "params.all_charts_write_html_file(\"splink_charts.html\", overwrite=True)"
   ]
  },
  {
   "cell_type": "markdown",
   "metadata": {},
   "source": [
    "You can also generate a report which explains how the match probability was computed for an individual comparison row.  \n",
    "\n",
    "Note that you need to convert the row to a dictionary for this to work"
   ]
  },
  {
   "cell_type": "code",
   "execution_count": 11,
   "metadata": {},
   "outputs": [
    {
     "name": "stdout",
     "output_type": "stream",
     "text": [
      "\n",
      "Initial probability of match (prior) = λ = 0.416987806558609\n",
      "\n",
      "Comparison of name_inversion.  Values are:\n",
      "name_inversion_l: Jones, Maya , 2010-06-21\n",
      "name_inversion_r: Jones, Leo , 1983-08-31\n",
      "Comparison has 3 levels\n",
      "𝛾 for this comparison = gamma_name_inversion = 0\n",
      "Amongst matches, P(𝛾 = 0.562960147857666):\n",
      "Amongst non matches, P(𝛾 = 0.9908139705657959):\n",
      "Adjustment factor = p1/(p1 + p2) = 0.36231788210558813\n",
      "New probability of match (updated belief): 0.2889541112157693\n",
      "\n",
      "Comparison of dob.  Values are:\n",
      "dob_l: 2010-06-21\n",
      "dob_r: 1983-08-31\n",
      "Comparison has 2 levels\n",
      "𝛾 for this comparison = gamma_dob = 0\n",
      "Amongst matches, P(𝛾 = 0.13539652526378632):\n",
      "Amongst non matches, P(𝛾 = 0.9843769073486328):\n",
      "Adjustment factor = p1/(p1 + p2) = 0.120914214715657\n",
      "New probability of match (updated belief): 0.052936641498986206\n",
      "\n",
      "Comparison of city.  Values are:\n",
      "city_l: Sunderland\n",
      "city_r: Manchester\n",
      "Comparison has 2 levels\n",
      "𝛾 for this comparison = gamma_city = 0\n",
      "Amongst matches, P(𝛾 = 0.2360900640487671):\n",
      "Amongst non matches, P(𝛾 = 0.8580018281936646):\n",
      "Adjustment factor = p1/(p1 + p2) = 0.21578632080426172\n",
      "New probability of match (updated belief): 0.01514739961482856\n",
      "\n",
      "Comparison of email.  Values are:\n",
      "email_l: erin01@york.com\n",
      "email_r: None\n",
      "Comparison has 2 levels\n",
      "𝛾 for this comparison = gamma_email = -1\n",
      "Amongst matches, P(𝛾 = 1.0):\n",
      "Amongst non matches, P(𝛾 = 1.0):\n",
      "Adjustment factor = p1/(p1 + p2) = 0.5\n",
      "New probability of match (updated belief): 0.01514739961482856\n",
      "\n",
      "Final probability of match = 0.01514739961482856\n",
      "\n"
     ]
    }
   ],
   "source": [
    "from splink.intuition import intuition_report\n",
    "row_dict = df_e.toPandas().sample(1).to_dict(orient=\"records\")[0]\n",
    "print(intuition_report(row_dict, params))"
   ]
  },
  {
   "cell_type": "markdown",
   "metadata": {},
   "source": [
    "# Use graphframes to resolve links into groups"
   ]
  },
  {
   "cell_type": "code",
   "execution_count": 32,
   "metadata": {},
   "outputs": [
    {
     "name": "stdout",
     "output_type": "stream",
     "text": [
      "+---------------+---------+----------+---------+----------+------------+--------------------+-----+------------+\n",
      "|estimated_group|unique_id|first_name|  surname|       dob|        city|               email|group|source_table|\n",
      "+---------------+---------+----------+---------+----------+------------+--------------------+-----+------------+\n",
      "|              0|        0|    Julia |   Taylor|2016-01-27|      London| hannah88@powers.com|    0|       right|\n",
      "|              0|        1|    Julia |   Taylor|2015-07-31|      London| hannah88@powers.com|    0|        left|\n",
      "|              0|        0|    Julia |     null|2015-10-29|      London| hannah88@powers.com|    0|        left|\n",
      "|              0|        1|    Julia |   Taylor|2015-10-29|        null|  hannah88opowersc@m|    0|       right|\n",
      "|              2|        4|    Watson|    Noah |2008-06-15|      Bolton|matthew78@ballard...|    1|       right|\n",
      "|              2|        3|     Noah |   Watson|2008-02-05|       tolon|matthew78@ballard...|    1|       right|\n",
      "|              2|        7|    Watson|    Noah |2008-01-21|       Bolno|matthea78@bwllar-...|    1|       right|\n",
      "|              2|        2|      oNah|   Watson|2008-03-23|      Bolton|matthew78@ballard...|    1|        left|\n",
      "|              2|        6|    Watson|    Noah |2008-03-23|      Bolton|matthbw78eallard-...|    1|       right|\n",
      "|              2|        2|    Watson|    Noah |2008-03-23|        null|matthew78@ballard...|    1|       right|\n",
      "|              2|        3|     Noah |   Watson|2008-03-23|      Bolton|matthew78@ballard...|    1|        left|\n",
      "|              5|        5|     Noah |   Watson|2008-01-19|      Bolton|                null|    1|       right|\n",
      "|              8|        8|     Noah |     null|2008-03-23|       Blotn|                null|    1|       right|\n",
      "|              2|        4|    Molly |     Bell|2002-01-05|Peterborough|                null|    2|        left|\n",
      "|              5|        5|     Moly |     Bell|2002-01-05|Peterborough|lricsaunders@siev...|    2|        left|\n",
      "|              2|       11|    lmeAi |Alexander|1983-05-19|     Glasgow|icampbell@allen-l...|    3|       right|\n",
      "|              2|        6| Alexander|  Amelia |1983-05-19|     Glasgow|ic-mpbell@alleale...|    3|        left|\n",
      "|              2|       10|   Amelia |Alexander|1983-05-19|     Glasgow|icampbell@allen-l...|    3|       right|\n",
      "|              2|        9|   Amelia |Alexander|1983-04-30|     Glasgow|icampbeal@lllen-l...|    3|       right|\n",
      "|              2|        7|   Amelia |Alexander|1983-05-19|      Glaogw|                null|    3|        left|\n",
      "+---------------+---------+----------+---------+----------+------------+--------------------+-----+------------+\n",
      "only showing top 20 rows\n",
      "\n"
     ]
    }
   ],
   "source": [
    "from graphframes import GraphFrame\n",
    "\n",
    "\n",
    "df_e.createOrReplaceTempView(\"df_e\")\n",
    "sql = \"\"\"\n",
    "select unique_id_l as id, 'left' as source_table\n",
    "from df_e\n",
    "union\n",
    "select unique_id_r as id, 'right' as source_table\n",
    "from df_e\n",
    "\"\"\"\n",
    "nodes = spark.sql(sql)\n",
    "\n",
    "sql = \"\"\"\n",
    "select\n",
    "unique_id_l as src,\n",
    "unique_id_r as dst,\n",
    "match_probability\n",
    "from df_e\n",
    "where match_probability > 0.99\n",
    "\"\"\"\n",
    "edges = spark.sql(sql)\n",
    "\n",
    "g = GraphFrame(nodes, edges)\n",
    "\n",
    "cc = g.connectedComponents()\n",
    "\n",
    "cc.createOrReplaceTempView(\"cc\")\n",
    "df_l.createOrReplaceTempView(\"df_l\")\n",
    "df_r.createOrReplaceTempView(\"df_r\")\n",
    "sql = \"\"\"\n",
    "select * from (\n",
    "select cc.component as estimated_group, \n",
    "df_l.*, 'left' as source_table\n",
    "from cc\n",
    "inner join df_l\n",
    "on cc.id = df_l.unique_id and cc.source_table = 'left'\n",
    "\n",
    "union\n",
    "\n",
    "select cc.component as estimated_group, \n",
    "df_r.* ,'right' as source_table\n",
    "from cc\n",
    "inner join df_r\n",
    "on cc.id = df_r.unique_id and cc.source_table = 'right')\n",
    "order by group, estimated_group\n",
    "\n",
    "\"\"\"\n",
    "results = spark.sql(sql)\n",
    "\n",
    "results.toPandas().head(30)\n",
    "\n",
    "results.show()"
   ]
  },
  {
   "cell_type": "code",
   "execution_count": null,
   "metadata": {},
   "outputs": [],
   "source": []
  },
  {
   "cell_type": "code",
   "execution_count": null,
   "metadata": {},
   "outputs": [],
   "source": []
  }
 ],
 "metadata": {
  "kernelspec": {
   "display_name": "Python 3",
   "language": "python",
   "name": "python3"
  },
  "language_info": {
   "codemirror_mode": {
    "name": "ipython",
    "version": 3
   },
   "file_extension": ".py",
   "mimetype": "text/x-python",
   "name": "python",
   "nbconvert_exporter": "python",
   "pygments_lexer": "ipython3",
   "version": "3.6.9"
  }
 },
 "nbformat": 4,
 "nbformat_minor": 4
}
