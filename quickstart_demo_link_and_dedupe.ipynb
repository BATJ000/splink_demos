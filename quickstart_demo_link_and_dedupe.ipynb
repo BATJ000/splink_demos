{
 "cells": [
  {
   "cell_type": "markdown",
   "metadata": {},
   "source": [
    "## Splink data linking and deduplication demo \n",
    "\n",
    "In this demo we link and simultaneously dedupe two datasets which themselves contain duplicates.\n"
   ]
  },
  {
   "cell_type": "markdown",
   "metadata": {},
   "source": [
    "## Step 1:  Imports and setup\n",
    "\n",
    "The following is just boilerplate code that sets up the Spark session and sets some other non-essential configuration options"
   ]
  },
  {
   "cell_type": "code",
   "execution_count": 1,
   "metadata": {},
   "outputs": [
    {
     "data": {
      "text/plain": [
       "RendererRegistry.enable('mimetype')"
      ]
     },
     "execution_count": 1,
     "metadata": {},
     "output_type": "execute_result"
    }
   ],
   "source": [
    "import pandas as pd \n",
    "pd.options.display.max_columns = 500\n",
    "pd.options.display.max_rows = 100\n",
    "import altair as alt\n",
    "alt.renderers.enable('mimetype')"
   ]
  },
  {
   "cell_type": "code",
   "execution_count": 2,
   "metadata": {},
   "outputs": [],
   "source": [
    "import logging \n",
    "logging.basicConfig()  # Means logs will print in Jupyter Lab\n",
    "\n",
    "# Set to DEBUG if you want splink to log the SQL statements it's executing under the hood\n",
    "logging.getLogger(\"splink\").setLevel(logging.INFO)"
   ]
  },
  {
   "cell_type": "code",
   "execution_count": 3,
   "metadata": {},
   "outputs": [],
   "source": [
    "from utility_functions.demo_utils import get_spark\n",
    "spark = get_spark()"
   ]
  },
  {
   "cell_type": "markdown",
   "metadata": {},
   "source": [
    "## Step 2:  Read in data\n",
    "\n",
    "In this example, we read in two datasets, `df_1` and `df_2`.  These will be provided to `Splink` as a list like `[df_1, df_2]`.  By adding additional elements to this link, you can use `Splink` to link and deduplicate as many datasets as you like.\n",
    "\n",
    "⚠️ Note that `splink` makes the following assumptions about your data:\n",
    "\n",
    "-  There is a field containing a unique record identifier in each dataset\n",
    "-  There is a field containing a dataset name in each dataset, to disambiguate the `unique_id` column if the same id values occur in more than one dataset.  By default, this column is called `source_dataset`, but you can change this in the settings.\n",
    "-  The two datasets being linked have common column names - e.g. date of birth is represented in both datasets in a field of the same name.   In many cases, this means that the user needs to rename columns prior to using `splink`\n"
   ]
  },
  {
   "cell_type": "code",
   "execution_count": 4,
   "metadata": {},
   "outputs": [
    {
     "name": "stdout",
     "output_type": "stream",
     "text": [
      "+---------+----------+-------+----------+------------+--------------------+-----+--------------+\n",
      "|unique_id|first_name|surname|       dob|        city|               email|group|source_dataset|\n",
      "+---------+----------+-------+----------+------------+--------------------+-----+--------------+\n",
      "|        0|    Julia |   null|2015-10-29|      London| hannah88@powers.com|    0|          df_1|\n",
      "|        1|    Julia | Taylor|2015-07-31|      London| hannah88@powers.com|    0|          df_1|\n",
      "|        2|      oNah| Watson|2008-03-23|      Bolton|matthew78@ballard...|    1|          df_1|\n",
      "|        3|     Noah | Watson|2008-03-23|      Bolton|matthew78@ballard...|    1|          df_1|\n",
      "|        4|    Molly |   Bell|2002-01-05|Peterborough|                null|    2|          df_1|\n",
      "+---------+----------+-------+----------+------------+--------------------+-----+--------------+\n",
      "only showing top 5 rows\n",
      "\n",
      "+---------+----------+-------+----------+------+--------------------+-----+--------------+\n",
      "|unique_id|first_name|surname|       dob|  city|               email|group|source_dataset|\n",
      "+---------+----------+-------+----------+------+--------------------+-----+--------------+\n",
      "|        0|    Julia | Taylor|2016-01-27|London| hannah88@powers.com|    0|          df_2|\n",
      "|        1|    Julia | Taylor|2015-10-29|  null|  hannah88opowersc@m|    0|          df_2|\n",
      "|        2|    Watson|  Noah |2008-03-23|  null|matthew78@ballard...|    1|          df_2|\n",
      "|        3|     Noah | Watson|2008-02-05| tolon|matthew78@ballard...|    1|          df_2|\n",
      "|        4|    Watson|  Noah |2008-06-15|Bolton|matthew78@ballard...|    1|          df_2|\n",
      "+---------+----------+-------+----------+------+--------------------+-----+--------------+\n",
      "only showing top 5 rows\n",
      "\n"
     ]
    }
   ],
   "source": [
    "from pyspark.sql.functions import lit \n",
    "from pyspark.sql import functions as f\n",
    "df_1 = spark.read.parquet(\"data/fake_df_l_link_dedupe_test.parquet\")\n",
    "df_1 = df_1.withColumn(\"source_dataset\", lit(\"df_1\"))\n",
    "df_2 = spark.read.parquet(\"data/fake_df_r_link_dedupe_test.parquet\")\n",
    "df_2 = df_2.withColumn(\"source_dataset\", lit(\"df_2\"))\n",
    "df_1.show(5)\n",
    "df_2.show(5)"
   ]
  },
  {
   "cell_type": "markdown",
   "metadata": {},
   "source": [
    "## Step 3:  Configure splink using the `settings` object\n",
    "\n",
    "Most of `splink` configuration options are stored in a settings dictionary.  This dictionary allows significant customisation, and can therefore get quite complex.  \n",
    "\n",
    "💥 We provide an tool for helping to author valid settings dictionaries, which includes tooltips and autocomplete, which you can find [here](http://robinlinacre.com/splink_settings_editor/).\n",
    "\n",
    "Customisation overrides default values built into splink.  For the purposes of this demo, we will specify a simple settings dictionary, which means we will be relying on these sensible defaults.\n",
    "\n",
    "To help with authoring and validation of the settings dictionary, we have written a [json schema](https://json-schema.org/), which can be found [here](https://github.com/moj-analytical-services/splink/blob/master/splink/files/settings_jsonschema.json).  \n",
    "\n",
    "\n"
   ]
  },
  {
   "cell_type": "code",
   "execution_count": 5,
   "metadata": {},
   "outputs": [],
   "source": [
    "settings = {\n",
    "    \"link_type\": \"link_and_dedupe\",\n",
    "    \"blocking_rules\": [\n",
    "        \"l.city = r.city\"\n",
    "    ],\n",
    "    \"comparison_columns\": [\n",
    "        {\n",
    "            \"col_name\": \"first_name\",\n",
    "            \"num_levels\": 3,\n",
    "            \"term_frequency_adjustments\": True\n",
    "        },\n",
    "        {\n",
    "            \"col_name\": \"surname\",\n",
    "            \"num_levels\": 3,\n",
    "            \"term_frequency_adjustments\": True\n",
    "        },\n",
    "        {\n",
    "            \"col_name\": \"dob\"\n",
    "        },\n",
    "        {\n",
    "            \"col_name\": \"email\"\n",
    "        }\n",
    "    ],\n",
    "    \"additional_columns_to_retain\": [\"group\"]\n",
    "}"
   ]
  },
  {
   "cell_type": "markdown",
   "metadata": {},
   "source": [
    "In words, this setting dictionary says:\n",
    "- We are performing a link and deduplication task (the other options are `link_only`, or `dedupe_only`)\n",
    "- We are going generate comparisons subject to the blocking rule `l.city = r.city` i.e. all pairwise record comparisons (both within and between datasets) where the city field matches\n",
    "- When comparing records, we will use information from the `first_name`, `surname`, `dob` and `email` columns to compute a match score.\n",
    "- For `first_name` and `surname`, string comparisons will have three levels:\n",
    "    - Level 2: Strings are (almost) exactly the same\n",
    "    - Level 1: Strings are similar \n",
    "    - Level 0: No match\n",
    "- We will make adjustments for term frequencies on the `first_name` and `surname` columns\n",
    "- We will retain the `group` column in the results even though this is not used as part of comparisons.  This is a labelled dataset and `group` contains the true match - i.e. where group matches, the records pertain to the same person"
   ]
  },
  {
   "cell_type": "markdown",
   "metadata": {},
   "source": [
    "## Step 4:  Estimate match scores using the Expectation Maximisation algorithm\n",
    "Columns are assumed to be strings by default.  See the 'comparison vector settings' notebook for details of configuration options."
   ]
  },
  {
   "cell_type": "code",
   "execution_count": 6,
   "metadata": {},
   "outputs": [
    {
     "name": "stderr",
     "output_type": "stream",
     "text": [
      "INFO:splink.iterate:Iteration 0 complete\n",
      "INFO:splink.model:The maximum change in parameters was 0.28655259609222417 for key first_name, level 0\n",
      "INFO:splink.iterate:Iteration 1 complete\n",
      "INFO:splink.model:The maximum change in parameters was 0.07504022121429443 for key surname, level 2\n",
      "INFO:splink.iterate:Iteration 2 complete\n",
      "INFO:splink.model:The maximum change in parameters was 0.032610535621643066 for key surname, level 0\n",
      "INFO:splink.iterate:Iteration 3 complete\n",
      "INFO:splink.model:The maximum change in parameters was 0.018751978874206543 for key surname, level 0\n",
      "INFO:splink.iterate:Iteration 4 complete\n",
      "INFO:splink.model:The maximum change in parameters was 0.01141306757926941 for key surname, level 0\n",
      "INFO:splink.iterate:Iteration 5 complete\n",
      "INFO:splink.model:The maximum change in parameters was 0.007352173328399658 for key surname, level 0\n",
      "INFO:splink.iterate:Iteration 6 complete\n",
      "INFO:splink.model:The maximum change in parameters was 0.004936426877975464 for key surname, level 0\n",
      "INFO:splink.iterate:Iteration 7 complete\n",
      "INFO:splink.model:The maximum change in parameters was 0.003407001495361328 for key surname, level 0\n",
      "INFO:splink.iterate:Iteration 8 complete\n",
      "INFO:splink.model:The maximum change in parameters was 0.0023947954177856445 for key surname, level 0\n",
      "INFO:splink.iterate:Iteration 9 complete\n",
      "INFO:splink.model:The maximum change in parameters was 0.0017041563987731934 for key surname, level 0\n",
      "INFO:splink.iterate:Iteration 10 complete\n",
      "INFO:splink.model:The maximum change in parameters was 0.0012229979038238525 for key surname, level 0\n",
      "INFO:splink.iterate:Iteration 11 complete\n",
      "INFO:splink.model:The maximum change in parameters was 0.0008828639984130859 for key surname, level 0\n",
      "INFO:splink.iterate:Iteration 12 complete\n",
      "INFO:splink.model:The maximum change in parameters was 0.0006399154663085938 for key surname, level 0\n",
      "INFO:splink.iterate:Iteration 13 complete\n",
      "INFO:splink.model:The maximum change in parameters was 0.00046521425247192383 for key surname, level 0\n",
      "INFO:splink.iterate:Iteration 14 complete\n",
      "INFO:splink.model:The maximum change in parameters was 0.0003389120101928711 for key surname, level 0\n",
      "INFO:splink.iterate:Iteration 15 complete\n",
      "INFO:splink.model:The maximum change in parameters was 0.000247269868850708 for key surname, level 0\n",
      "INFO:splink.iterate:Iteration 16 complete\n",
      "INFO:splink.model:The maximum change in parameters was 0.0001805722713470459 for key surname, level 0\n",
      "INFO:splink.iterate:Iteration 17 complete\n",
      "INFO:splink.model:The maximum change in parameters was 0.00013199448585510254 for key surname, level 0\n",
      "INFO:splink.iterate:Iteration 18 complete\n",
      "INFO:splink.model:The maximum change in parameters was 9.652972221374512e-05 for key surname, level 0\n",
      "INFO:splink.iterate:EM algorithm has converged\n"
     ]
    }
   ],
   "source": [
    "from splink import Splink\n",
    "\n",
    "linker = Splink(settings, [df_1, df_2], spark)\n",
    "df_e = linker.get_scored_comparisons()"
   ]
  },
  {
   "cell_type": "markdown",
   "metadata": {},
   "source": [
    "## Step 5: Inspect results \n",
    "\n",
    "Each row in the results table represents a comparison of two input records.\n",
    "\n",
    "Note that since this is a link and dedupe task, there will be record comparisons of three types:\n",
    "-  Comparison between two records both originating from `df_l`.  \n",
    "-  Comparison between two records both originating from `df_r`.  \n",
    "-  Comparison between one record from `df_l` and one record from `df_r`\n",
    "\n",
    "Information about the source table is included in the `_source_table_l` and `_source_table_r` fields."
   ]
  },
  {
   "cell_type": "code",
   "execution_count": 7,
   "metadata": {},
   "outputs": [
    {
     "data": {
      "text/html": [
       "<div>\n",
       "<style scoped>\n",
       "    .dataframe tbody tr th:only-of-type {\n",
       "        vertical-align: middle;\n",
       "    }\n",
       "\n",
       "    .dataframe tbody tr th {\n",
       "        vertical-align: top;\n",
       "    }\n",
       "\n",
       "    .dataframe thead th {\n",
       "        text-align: right;\n",
       "    }\n",
       "</style>\n",
       "<table border=\"1\" class=\"dataframe\">\n",
       "  <thead>\n",
       "    <tr style=\"text-align: right;\">\n",
       "      <th></th>\n",
       "      <th>match_probability</th>\n",
       "      <th>unique_id_l</th>\n",
       "      <th>source_dataset_l</th>\n",
       "      <th>unique_id_r</th>\n",
       "      <th>source_dataset_r</th>\n",
       "      <th>group_l</th>\n",
       "      <th>group_r</th>\n",
       "      <th>first_name_l</th>\n",
       "      <th>first_name_r</th>\n",
       "      <th>surname_l</th>\n",
       "      <th>surname_r</th>\n",
       "      <th>dob_l</th>\n",
       "      <th>dob_r</th>\n",
       "      <th>email_l</th>\n",
       "      <th>email_r</th>\n",
       "    </tr>\n",
       "  </thead>\n",
       "  <tbody>\n",
       "    <tr>\n",
       "      <th>163</th>\n",
       "      <td>0.996844</td>\n",
       "      <td>0</td>\n",
       "      <td>df_1</td>\n",
       "      <td>0</td>\n",
       "      <td>df_2</td>\n",
       "      <td>0</td>\n",
       "      <td>0</td>\n",
       "      <td>Julia</td>\n",
       "      <td>Julia</td>\n",
       "      <td>None</td>\n",
       "      <td>Taylor</td>\n",
       "      <td>2015-10-29</td>\n",
       "      <td>2016-01-27</td>\n",
       "      <td>hannah88@powers.com</td>\n",
       "      <td>hannah88@powers.com</td>\n",
       "    </tr>\n",
       "    <tr>\n",
       "      <th>255</th>\n",
       "      <td>0.996844</td>\n",
       "      <td>0</td>\n",
       "      <td>df_1</td>\n",
       "      <td>1</td>\n",
       "      <td>df_1</td>\n",
       "      <td>0</td>\n",
       "      <td>0</td>\n",
       "      <td>Julia</td>\n",
       "      <td>Julia</td>\n",
       "      <td>None</td>\n",
       "      <td>Taylor</td>\n",
       "      <td>2015-10-29</td>\n",
       "      <td>2015-07-31</td>\n",
       "      <td>hannah88@powers.com</td>\n",
       "      <td>hannah88@powers.com</td>\n",
       "    </tr>\n",
       "    <tr>\n",
       "      <th>254</th>\n",
       "      <td>0.001500</td>\n",
       "      <td>0</td>\n",
       "      <td>df_1</td>\n",
       "      <td>12</td>\n",
       "      <td>df_1</td>\n",
       "      <td>0</td>\n",
       "      <td>6</td>\n",
       "      <td>Julia</td>\n",
       "      <td>Matilda</td>\n",
       "      <td>None</td>\n",
       "      <td>Hsrir</td>\n",
       "      <td>2015-10-29</td>\n",
       "      <td>1983-04-30</td>\n",
       "      <td>hannah88@powers.com</td>\n",
       "      <td>patrcio47@davis.cam</td>\n",
       "    </tr>\n",
       "    <tr>\n",
       "      <th>253</th>\n",
       "      <td>0.001500</td>\n",
       "      <td>0</td>\n",
       "      <td>df_1</td>\n",
       "      <td>13</td>\n",
       "      <td>df_1</td>\n",
       "      <td>0</td>\n",
       "      <td>6</td>\n",
       "      <td>Julia</td>\n",
       "      <td>Matilda</td>\n",
       "      <td>None</td>\n",
       "      <td>None</td>\n",
       "      <td>2015-10-29</td>\n",
       "      <td>1983-04-30</td>\n",
       "      <td>hannah88@powers.com</td>\n",
       "      <td>patricia47@davis.com</td>\n",
       "    </tr>\n",
       "    <tr>\n",
       "      <th>252</th>\n",
       "      <td>0.001500</td>\n",
       "      <td>0</td>\n",
       "      <td>df_1</td>\n",
       "      <td>14</td>\n",
       "      <td>df_1</td>\n",
       "      <td>0</td>\n",
       "      <td>7</td>\n",
       "      <td>Julia</td>\n",
       "      <td>Baxter</td>\n",
       "      <td>None</td>\n",
       "      <td>Aria</td>\n",
       "      <td>2015-10-29</td>\n",
       "      <td>1992-09-07</td>\n",
       "      <td>hannah88@powers.com</td>\n",
       "      <td>christineshepherd@allen.com</td>\n",
       "    </tr>\n",
       "    <tr>\n",
       "      <th>162</th>\n",
       "      <td>0.001500</td>\n",
       "      <td>0</td>\n",
       "      <td>df_1</td>\n",
       "      <td>15</td>\n",
       "      <td>df_2</td>\n",
       "      <td>0</td>\n",
       "      <td>6</td>\n",
       "      <td>Julia</td>\n",
       "      <td>Harris</td>\n",
       "      <td>None</td>\n",
       "      <td>Matilda</td>\n",
       "      <td>2015-10-29</td>\n",
       "      <td>1983-04-30</td>\n",
       "      <td>hannah88@powers.com</td>\n",
       "      <td>patricia47@davis.com</td>\n",
       "    </tr>\n",
       "    <tr>\n",
       "      <th>251</th>\n",
       "      <td>0.001500</td>\n",
       "      <td>0</td>\n",
       "      <td>df_1</td>\n",
       "      <td>15</td>\n",
       "      <td>df_1</td>\n",
       "      <td>0</td>\n",
       "      <td>7</td>\n",
       "      <td>Julia</td>\n",
       "      <td>Aria</td>\n",
       "      <td>None</td>\n",
       "      <td>Baxter</td>\n",
       "      <td>2015-10-29</td>\n",
       "      <td>1992-09-07</td>\n",
       "      <td>hannah88@powers.com</td>\n",
       "      <td>christineshepherd@allen.com</td>\n",
       "    </tr>\n",
       "    <tr>\n",
       "      <th>21847</th>\n",
       "      <td>0.000525</td>\n",
       "      <td>0</td>\n",
       "      <td>df_2</td>\n",
       "      <td>15</td>\n",
       "      <td>df_2</td>\n",
       "      <td>0</td>\n",
       "      <td>6</td>\n",
       "      <td>Julia</td>\n",
       "      <td>Harris</td>\n",
       "      <td>Taylor</td>\n",
       "      <td>Matilda</td>\n",
       "      <td>2016-01-27</td>\n",
       "      <td>1983-04-30</td>\n",
       "      <td>hannah88@powers.com</td>\n",
       "      <td>patricia47@davis.com</td>\n",
       "    </tr>\n",
       "    <tr>\n",
       "      <th>161</th>\n",
       "      <td>0.001500</td>\n",
       "      <td>0</td>\n",
       "      <td>df_1</td>\n",
       "      <td>16</td>\n",
       "      <td>df_2</td>\n",
       "      <td>0</td>\n",
       "      <td>6</td>\n",
       "      <td>Julia</td>\n",
       "      <td>Matilda</td>\n",
       "      <td>None</td>\n",
       "      <td>Harris</td>\n",
       "      <td>2015-10-29</td>\n",
       "      <td>1983-03-03</td>\n",
       "      <td>hannah88@powers.com</td>\n",
       "      <td>patricia47@davis.com</td>\n",
       "    </tr>\n",
       "    <tr>\n",
       "      <th>250</th>\n",
       "      <td>0.001500</td>\n",
       "      <td>0</td>\n",
       "      <td>df_1</td>\n",
       "      <td>16</td>\n",
       "      <td>df_1</td>\n",
       "      <td>0</td>\n",
       "      <td>8</td>\n",
       "      <td>Julia</td>\n",
       "      <td>Wilson</td>\n",
       "      <td>None</td>\n",
       "      <td>Charlie</td>\n",
       "      <td>2015-10-29</td>\n",
       "      <td>1998-09-15</td>\n",
       "      <td>hannah88@powers.com</td>\n",
       "      <td>samantha81@henry.com</td>\n",
       "    </tr>\n",
       "  </tbody>\n",
       "</table>\n",
       "</div>"
      ],
      "text/plain": [
       "       match_probability  unique_id_l source_dataset_l  unique_id_r  \\\n",
       "163             0.996844            0             df_1            0   \n",
       "255             0.996844            0             df_1            1   \n",
       "254             0.001500            0             df_1           12   \n",
       "253             0.001500            0             df_1           13   \n",
       "252             0.001500            0             df_1           14   \n",
       "162             0.001500            0             df_1           15   \n",
       "251             0.001500            0             df_1           15   \n",
       "21847           0.000525            0             df_2           15   \n",
       "161             0.001500            0             df_1           16   \n",
       "250             0.001500            0             df_1           16   \n",
       "\n",
       "      source_dataset_r  group_l  group_r first_name_l first_name_r surname_l  \\\n",
       "163               df_2        0        0       Julia        Julia       None   \n",
       "255               df_1        0        0       Julia        Julia       None   \n",
       "254               df_1        0        6       Julia      Matilda       None   \n",
       "253               df_1        0        6       Julia      Matilda       None   \n",
       "252               df_1        0        7       Julia        Baxter      None   \n",
       "162               df_2        0        6       Julia        Harris      None   \n",
       "251               df_1        0        7       Julia         Aria       None   \n",
       "21847             df_2        0        6       Julia        Harris    Taylor   \n",
       "161               df_2        0        6       Julia      Matilda       None   \n",
       "250               df_1        0        8       Julia        Wilson      None   \n",
       "\n",
       "      surname_r       dob_l       dob_r              email_l  \\\n",
       "163      Taylor  2015-10-29  2016-01-27  hannah88@powers.com   \n",
       "255      Taylor  2015-10-29  2015-07-31  hannah88@powers.com   \n",
       "254       Hsrir  2015-10-29  1983-04-30  hannah88@powers.com   \n",
       "253        None  2015-10-29  1983-04-30  hannah88@powers.com   \n",
       "252       Aria   2015-10-29  1992-09-07  hannah88@powers.com   \n",
       "162    Matilda   2015-10-29  1983-04-30  hannah88@powers.com   \n",
       "251      Baxter  2015-10-29  1992-09-07  hannah88@powers.com   \n",
       "21847  Matilda   2016-01-27  1983-04-30  hannah88@powers.com   \n",
       "161      Harris  2015-10-29  1983-03-03  hannah88@powers.com   \n",
       "250    Charlie   2015-10-29  1998-09-15  hannah88@powers.com   \n",
       "\n",
       "                           email_r  \n",
       "163            hannah88@powers.com  \n",
       "255            hannah88@powers.com  \n",
       "254            patrcio47@davis.cam  \n",
       "253           patricia47@davis.com  \n",
       "252    christineshepherd@allen.com  \n",
       "162           patricia47@davis.com  \n",
       "251    christineshepherd@allen.com  \n",
       "21847         patricia47@davis.com  \n",
       "161           patricia47@davis.com  \n",
       "250           samantha81@henry.com  "
      ]
     },
     "execution_count": 7,
     "metadata": {},
     "output_type": "execute_result"
    }
   ],
   "source": [
    "# Inspect main dataframe that contains the match scores\n",
    "cols_to_inspect = [\"match_probability\",\"unique_id_l\", \"source_dataset_l\",\"unique_id_r\",\"source_dataset_r\",\"group_l\", \"group_r\", \"first_name_l\",\"first_name_r\",\"surname_l\",\"surname_r\",\"dob_l\",\"dob_r\",\"email_l\",\"email_r\"]\n",
    "\n",
    "df_e.toPandas()[cols_to_inspect].sort_values([\"unique_id_l\", \"unique_id_r\"]).head(10)"
   ]
  },
  {
   "cell_type": "markdown",
   "metadata": {},
   "source": [
    "The `params` property of the `linker` is an object that contains a lot of diagnostic information about how the match probability was computed.  The following cells demonstrate some of its functionality"
   ]
  },
  {
   "cell_type": "code",
   "execution_count": 8,
   "metadata": {},
   "outputs": [
    {
     "data": {
      "application/vnd.vegalite.v4+json": {
       "$schema": "https://vega.github.io/schema/vega-lite/v4.json",
       "config": {
        "header": {
         "title": null
        },
        "title": {
         "anchor": "middle",
         "offset": 10
        },
        "view": {
         "continuousHeight": 300,
         "continuousWidth": 400,
         "height": 300,
         "width": 400
        }
       },
       "data": {
        "name": "data-e960b8b083fa56b5a9d535453e7af0e8"
       },
       "datasets": {
        "data-e960b8b083fa56b5a9d535453e7af0e8": [
         {
          "bayes_factor": 0.3601818234308759,
          "column_name": "first_name",
          "gamma_column_name": "gamma_first_name",
          "gamma_index": 0,
          "level_name": "level_0",
          "level_proportion": 0.9693870484180609,
          "log2_bayes_factor": -1.4732027173849902,
          "m_probability": 0.3576868176460266,
          "max_gamma_index": 2,
          "num_levels": 3,
          "u_probability": 0.9930729269981384
         },
         {
          "bayes_factor": 64.68185565350407,
          "column_name": "first_name",
          "gamma_column_name": "gamma_first_name",
          "gamma_index": 1,
          "level_name": "level_1",
          "level_proportion": 0.009552881298058357,
          "log2_bayes_factor": 6.015289163675829,
          "m_probability": 0.18313910067081451,
          "max_gamma_index": 2,
          "num_levels": 3,
          "u_probability": 0.0028313829097896814
         },
         {
          "bayes_factor": 112.11141778531503,
          "column_name": "first_name",
          "gamma_column_name": "gamma_first_name",
          "gamma_index": 2,
          "level_name": "level_2",
          "level_proportion": 0.021060073538966703,
          "log2_bayes_factor": 6.80878940407706,
          "m_probability": 0.4591740667819977,
          "max_gamma_index": 2,
          "num_levels": 3,
          "u_probability": 0.004095694050192833
         },
         {
          "bayes_factor": 0.3498540949211502,
          "column_name": "surname",
          "gamma_column_name": "gamma_surname",
          "gamma_index": 0,
          "level_name": "level_0",
          "level_proportion": 0.9663043473461412,
          "log2_bayes_factor": -1.515174716889511,
          "m_probability": 0.3464624285697937,
          "max_gamma_index": 2,
          "num_levels": 3,
          "u_probability": 0.990305483341217
         },
         {
          "bayes_factor": 42.05144602735033,
          "column_name": "surname",
          "gamma_column_name": "gamma_surname",
          "gamma_index": 1,
          "level_name": "level_1",
          "level_proportion": 0.007511362059035971,
          "log2_bayes_factor": 5.39408350632184,
          "m_probability": 0.12483184784650803,
          "max_gamma_index": 2,
          "num_levels": 3,
          "u_probability": 0.0029685506597161293
         },
         {
          "bayes_factor": 78.60695838165553,
          "column_name": "surname",
          "gamma_column_name": "gamma_surname",
          "gamma_index": 2,
          "level_name": "level_2",
          "level_proportion": 0.02618426566044865,
          "log2_bayes_factor": 6.296585122108771,
          "m_probability": 0.5287057161331177,
          "max_gamma_index": 2,
          "num_levels": 3,
          "u_probability": 0.006725940387696028
         },
         {
          "bayes_factor": 0.37169604261745076,
          "column_name": "dob",
          "gamma_column_name": "gamma_dob",
          "gamma_index": 0,
          "level_name": "level_0",
          "level_proportion": 0.9735266021285711,
          "log2_bayes_factor": -1.427804766726894,
          "m_probability": 0.37053459882736206,
          "max_gamma_index": 1,
          "num_levels": 2,
          "u_probability": 0.9968752861022949
         },
         {
          "bayes_factor": 201.4487523967151,
          "column_name": "dob",
          "gamma_column_name": "gamma_dob",
          "gamma_index": 1,
          "level_name": "level_1",
          "level_proportion": 0.026473377249518544,
          "log2_bayes_factor": 7.65426906045535,
          "m_probability": 0.6294654011726379,
          "max_gamma_index": 1,
          "num_levels": 2,
          "u_probability": 0.003124692477285862
         },
         {
          "bayes_factor": 0.2897675740810544,
          "column_name": "email",
          "gamma_column_name": "gamma_email",
          "gamma_index": 0,
          "level_name": "level_0",
          "level_proportion": 0.9699864169331069,
          "log2_bayes_factor": -1.7870319331526896,
          "m_probability": 0.28871461749076843,
          "max_gamma_index": 1,
          "num_levels": 2,
          "u_probability": 0.9963662028312683
         },
         {
          "bayes_factor": 195.74210269582187,
          "column_name": "email",
          "gamma_column_name": "gamma_email",
          "gamma_index": 1,
          "level_name": "level_1",
          "level_proportion": 0.030013575884267556,
          "log2_bayes_factor": 7.612810292277467,
          "m_probability": 0.711285412311554,
          "max_gamma_index": 1,
          "num_levels": 2,
          "u_probability": 0.0036337885539978743
         }
        ]
       },
       "hconcat": [
        {
         "encoding": {
          "color": {
           "value": "red"
          },
          "row": {
           "field": "column_name",
           "header": {
            "labelAlign": "left",
            "labelAnchor": "middle",
            "labelAngle": 0
           },
           "sort": {
            "field": "gamma_index"
           },
           "type": "nominal"
          },
          "tooltip": [
           {
            "field": "column_name",
            "type": "nominal"
           },
           {
            "field": "level_name",
            "type": "ordinal"
           },
           {
            "field": "u_probability",
            "format": ".4f",
            "type": "quantitative"
           },
           {
            "field": "bayes_factor",
            "format": ".4f",
            "type": "quantitative"
           },
           {
            "field": "level_proportion",
            "format": ".2%",
            "title": "Percentage of record comparisons in this level",
            "type": "nominal"
           },
           {
            "field": "log2_bayes_factor",
            "format": ".4f",
            "type": "quantitative"
           }
          ],
          "x": {
           "axis": {
            "title": "proportion"
           },
           "field": "u_probability",
           "type": "quantitative"
          },
          "y": {
           "axis": {
            "title": null
           },
           "field": "level_name",
           "type": "nominal"
          }
         },
         "height": 50,
         "mark": "bar",
         "resolve": {
          "scale": {
           "y": "independent"
          }
         },
         "title": {
          "fontWeight": "normal",
          "text": "Non-matches"
         },
         "transform": [
          {
           "filter": "(datum.bayes_factor != 'unnecessary filter2 due to vega lite issue 4680')"
          }
         ],
         "width": 150
        },
        {
         "encoding": {
          "color": {
           "value": "green"
          },
          "row": {
           "field": "column_name",
           "header": {
            "labels": false
           },
           "sort": {
            "field": "gamma_index"
           },
           "type": "nominal"
          },
          "tooltip": [
           {
            "field": "column_name",
            "type": "nominal"
           },
           {
            "field": "level_name",
            "type": "ordinal"
           },
           {
            "field": "m_probability",
            "format": ".4f",
            "type": "quantitative"
           },
           {
            "field": "bayes_factor",
            "format": ".4f",
            "type": "quantitative"
           },
           {
            "field": "level_proportion",
            "format": ".2%",
            "title": "Percentage of record comparisons in this level",
            "type": "nominal"
           },
           {
            "field": "log2_bayes_factor",
            "format": ".4f",
            "type": "quantitative"
           }
          ],
          "x": {
           "axis": {
            "title": "proportion"
           },
           "field": "m_probability",
           "type": "quantitative"
          },
          "y": {
           "axis": {
            "title": null
           },
           "field": "level_name",
           "type": "nominal"
          }
         },
         "height": 50,
         "mark": "bar",
         "resolve": {
          "scale": {
           "y": "independent"
          }
         },
         "title": {
          "fontWeight": "normal",
          "text": "Matches"
         },
         "transform": [
          {
           "filter": "(datum.bayes_factor != 'unnecessary filter due to vega lite issue 4680')"
          }
         ],
         "width": 150
        }
       ],
       "title": {
        "subtitle": "Estimated proportion of matches λ =  0.0373",
        "text": "Probability distributions of non-matches and matches "
       },
       "transform": []
      },
      "image/png": "[encoded data removed]",
      "text/plain": [
       "<VegaLite 4 object>\n",
       "\n",
       "If you see this message, it means the renderer has not been properly enabled\n",
       "for the frontend that you are using. For more information, see\n",
       "https://altair-viz.github.io/user_guide/troubleshooting.html\n"
      ]
     },
     "execution_count": 8,
     "metadata": {},
     "output_type": "execute_result"
    }
   ],
   "source": [
    "model = linker.model\n",
    "model.probability_distribution_chart()"
   ]
  },
  {
   "cell_type": "markdown",
   "metadata": {},
   "source": [
    "An alternative representation of the parameters displays them in terms of the effect different values in the comparison vectors have on the match probability:"
   ]
  },
  {
   "cell_type": "code",
   "execution_count": 9,
   "metadata": {},
   "outputs": [
    {
     "data": {
      "application/vnd.vegalite.v4+json": {
       "$schema": "https://vega.github.io/schema/vega-lite/v4.json",
       "config": {
        "header": {
         "title": null
        },
        "mark": {
         "tooltip": null
        },
        "title": {
         "anchor": "middle"
        },
        "view": {
         "continuousHeight": 300,
         "continuousWidth": 400,
         "height": 300,
         "width": 400
        }
       },
       "data": {
        "name": "data-e960b8b083fa56b5a9d535453e7af0e8"
       },
       "datasets": {
        "data-e960b8b083fa56b5a9d535453e7af0e8": [
         {
          "bayes_factor": 0.3601818234308759,
          "column_name": "first_name",
          "gamma_column_name": "gamma_first_name",
          "gamma_index": 0,
          "level_name": "level_0",
          "level_proportion": 0.9693870484180609,
          "log2_bayes_factor": -1.4732027173849902,
          "m_probability": 0.3576868176460266,
          "max_gamma_index": 2,
          "num_levels": 3,
          "u_probability": 0.9930729269981384
         },
         {
          "bayes_factor": 64.68185565350407,
          "column_name": "first_name",
          "gamma_column_name": "gamma_first_name",
          "gamma_index": 1,
          "level_name": "level_1",
          "level_proportion": 0.009552881298058357,
          "log2_bayes_factor": 6.015289163675829,
          "m_probability": 0.18313910067081451,
          "max_gamma_index": 2,
          "num_levels": 3,
          "u_probability": 0.0028313829097896814
         },
         {
          "bayes_factor": 112.11141778531503,
          "column_name": "first_name",
          "gamma_column_name": "gamma_first_name",
          "gamma_index": 2,
          "level_name": "level_2",
          "level_proportion": 0.021060073538966703,
          "log2_bayes_factor": 6.80878940407706,
          "m_probability": 0.4591740667819977,
          "max_gamma_index": 2,
          "num_levels": 3,
          "u_probability": 0.004095694050192833
         },
         {
          "bayes_factor": 0.3498540949211502,
          "column_name": "surname",
          "gamma_column_name": "gamma_surname",
          "gamma_index": 0,
          "level_name": "level_0",
          "level_proportion": 0.9663043473461412,
          "log2_bayes_factor": -1.515174716889511,
          "m_probability": 0.3464624285697937,
          "max_gamma_index": 2,
          "num_levels": 3,
          "u_probability": 0.990305483341217
         },
         {
          "bayes_factor": 42.05144602735033,
          "column_name": "surname",
          "gamma_column_name": "gamma_surname",
          "gamma_index": 1,
          "level_name": "level_1",
          "level_proportion": 0.007511362059035971,
          "log2_bayes_factor": 5.39408350632184,
          "m_probability": 0.12483184784650803,
          "max_gamma_index": 2,
          "num_levels": 3,
          "u_probability": 0.0029685506597161293
         },
         {
          "bayes_factor": 78.60695838165553,
          "column_name": "surname",
          "gamma_column_name": "gamma_surname",
          "gamma_index": 2,
          "level_name": "level_2",
          "level_proportion": 0.02618426566044865,
          "log2_bayes_factor": 6.296585122108771,
          "m_probability": 0.5287057161331177,
          "max_gamma_index": 2,
          "num_levels": 3,
          "u_probability": 0.006725940387696028
         },
         {
          "bayes_factor": 0.37169604261745076,
          "column_name": "dob",
          "gamma_column_name": "gamma_dob",
          "gamma_index": 0,
          "level_name": "level_0",
          "level_proportion": 0.9735266021285711,
          "log2_bayes_factor": -1.427804766726894,
          "m_probability": 0.37053459882736206,
          "max_gamma_index": 1,
          "num_levels": 2,
          "u_probability": 0.9968752861022949
         },
         {
          "bayes_factor": 201.4487523967151,
          "column_name": "dob",
          "gamma_column_name": "gamma_dob",
          "gamma_index": 1,
          "level_name": "level_1",
          "level_proportion": 0.026473377249518544,
          "log2_bayes_factor": 7.65426906045535,
          "m_probability": 0.6294654011726379,
          "max_gamma_index": 1,
          "num_levels": 2,
          "u_probability": 0.003124692477285862
         },
         {
          "bayes_factor": 0.2897675740810544,
          "column_name": "email",
          "gamma_column_name": "gamma_email",
          "gamma_index": 0,
          "level_name": "level_0",
          "level_proportion": 0.9699864169331069,
          "log2_bayes_factor": -1.7870319331526896,
          "m_probability": 0.28871461749076843,
          "max_gamma_index": 1,
          "num_levels": 2,
          "u_probability": 0.9963662028312683
         },
         {
          "bayes_factor": 195.74210269582187,
          "column_name": "email",
          "gamma_column_name": "gamma_email",
          "gamma_index": 1,
          "level_name": "level_1",
          "level_proportion": 0.030013575884267556,
          "log2_bayes_factor": 7.612810292277467,
          "m_probability": 0.711285412311554,
          "max_gamma_index": 1,
          "num_levels": 2,
          "u_probability": 0.0036337885539978743
         }
        ]
       },
       "encoding": {
        "color": {
         "field": "log2_bayes_factor",
         "scale": {
          "domain": [
           -10,
           0,
           10
          ],
          "range": [
           "red",
           "orange",
           "green"
          ]
         },
         "type": "quantitative"
        },
        "row": {
         "field": "column_name",
         "header": {
          "labelAlign": "left",
          "labelAnchor": "middle",
          "labelAngle": 0
         },
         "sort": {
          "field": "gamma_index"
         },
         "type": "nominal"
        },
        "tooltip": [
         {
          "field": "column_name",
          "type": "nominal"
         },
         {
          "field": "level_name",
          "type": "ordinal"
         },
         {
          "field": "m_probability",
          "format": ".4f",
          "type": "quantitative"
         },
         {
          "field": "bayes_factor",
          "format": ".4f",
          "type": "quantitative"
         },
         {
          "field": "level_proportion",
          "format": ".2%",
          "title": "Percentage of record comparisons in this level",
          "type": "nominal"
         },
         {
          "field": "log2_bayes_factor",
          "format": ".4f",
          "title": "log2(Bayes factor, K = m/u)",
          "type": "quantitative"
         }
        ],
        "x": {
         "axis": {
          "title": "log2(Bayes factor, K = m/u)",
          "values": [
           -10,
           -5,
           0,
           5,
           10
          ]
         },
         "field": "log2_bayes_factor",
         "scale": {
          "domain": [
           -10,
           10
          ]
         },
         "type": "quantitative"
        },
        "y": {
         "axis": {
          "title": null
         },
         "field": "level_name",
         "type": "nominal"
        }
       },
       "height": 50,
       "mark": {
        "clip": true,
        "type": "bar"
       },
       "resolve": {
        "scale": {
         "y": "independent"
        }
       },
       "title": "Influence of comparison vector values on match probability"
      },
      "image/png": "[encoded data removed]",
      "text/plain": [
       "<VegaLite 4 object>\n",
       "\n",
       "If you see this message, it means the renderer has not been properly enabled\n",
       "for the frontend that you are using. For more information, see\n",
       "https://altair-viz.github.io/user_guide/troubleshooting.html\n"
      ]
     },
     "execution_count": 9,
     "metadata": {},
     "output_type": "execute_result"
    }
   ],
   "source": [
    "model.bayes_factor_chart()"
   ]
  },
  {
   "cell_type": "code",
   "execution_count": 10,
   "metadata": {},
   "outputs": [],
   "source": [
    "# If charts aren't displaying correctly in your notebook, you can write them to a file (by default splink_charts.html)\n",
    "model.all_charts_write_html_file(\"splink_charts.html\", overwrite=True)"
   ]
  },
  {
   "cell_type": "markdown",
   "metadata": {},
   "source": [
    "You can also generate a report which explains how the match probability was computed for an individual comparison row.  \n",
    "\n",
    "Note that you need to convert the row to a dictionary for this to work"
   ]
  },
  {
   "cell_type": "code",
   "execution_count": 11,
   "metadata": {},
   "outputs": [
    {
     "name": "stdout",
     "output_type": "stream",
     "text": [
      "\n",
      "Initial probability of match (prior) = λ = 0.03728\n",
      "------\n",
      "Comparison of first_name.  Values are:             \n",
      "first_name_l:                                      Gibson\n",
      "first_name_r:                                      yarH \n",
      "Comparison has:                                    3 levels\n",
      "Level for this comparison:                         gamma_first_name = 0\n",
      "m probability = P(level|match):                    0.3577\n",
      "u probability = P(level|non-match):                0.9931\n",
      "Bayes factor = m/u:                                0.3602\n",
      "New probability of match (updated belief):         0.01375\n",
      "\n",
      "------\n",
      "Comparison of surname.  Values are:                \n",
      "surname_l:                                         Noah \n",
      "surname_r:                                         None\n",
      "Comparison has:                                    3 levels\n",
      "Level for this comparison:                         gamma_surname = -1\n",
      "m probability = P(level|match):                    1\n",
      "u probability = P(level|non-match):                1\n",
      "Bayes factor = m/u:                                1\n",
      "New probability of match (updated belief):         0.01375\n",
      "\n",
      "------\n",
      "Comparison of dob.  Values are:                    \n",
      "dob_l:                                             1987-08-24\n",
      "dob_r:                                             2017-11-24\n",
      "Comparison has:                                    2 levels\n",
      "Level for this comparison:                         gamma_dob = 0\n",
      "m probability = P(level|match):                    0.3705\n",
      "u probability = P(level|non-match):                0.9969\n",
      "Bayes factor = m/u:                                0.3717\n",
      "New probability of match (updated belief):         0.005157\n",
      "\n",
      "------\n",
      "Comparison of email.  Values are:                  \n",
      "email_l:                                           avazquez@banks.com\n",
      "email_r:                                           coltonray@lee.com\n",
      "Comparison has:                                    2 levels\n",
      "Level for this comparison:                         gamma_email = 0\n",
      "m probability = P(level|match):                    0.2887\n",
      "u probability = P(level|non-match):                0.9964\n",
      "Bayes factor = m/u:                                0.2898\n",
      "New probability of match (updated belief):         0.0015\n",
      "\n",
      "\n",
      "Final probability of match = 0.0015\n",
      "\n",
      "Reminder:\n",
      "\n",
      "The m probability for a given level is the proportion of matches which are in this level.\n",
      "We would generally expect the highest similarity level to have the largest proportion of matches.\n",
      "For example, we would expect first name field to match exactly amongst most matching records, except where nicknames, aliases or typos have occurred.\n",
      "For a comparison column that changes through time, like address, we may expect a lower proportion of comparisons to be in the highest similarity level.\n",
      "\n",
      "The u probability for a given level is the proportion of non-matches which are in this level.\n",
      "We would generally expect the lowest similarity level to have the highest proportion of non-matches, but the magnitude depends on the cardinality of the field.\n",
      "For example, we would expect that in the vast majority of non-matching records, the date of birth field would not match.  However, we would expect it to be common for gender to match amongst non-matches.\n",
      "\n"
     ]
    }
   ],
   "source": [
    "from splink.intuition import intuition_report\n",
    "row_dict = df_e.toPandas().sample(1).to_dict(orient=\"records\")[0]\n",
    "print(intuition_report(row_dict, model))"
   ]
  },
  {
   "cell_type": "markdown",
   "metadata": {},
   "source": [
    "# Use graphframes to resolve links into groups"
   ]
  },
  {
   "cell_type": "code",
   "execution_count": 12,
   "metadata": {},
   "outputs": [
    {
     "name": "stdout",
     "output_type": "stream",
     "text": [
      "+---------+---------+----------+---------+----------+---------------+--------------------+-----+--------------+\n",
      "|component|unique_id|first_name|  surname|       dob|           city|               email|group|source_dataset|\n",
      "+---------+---------+----------+---------+----------+---------------+--------------------+-----+--------------+\n",
      "|        0|      107|  Gabriel |     null|1977-12-21|           Leds|rachelschtitm@geo...|   57|          df_1|\n",
      "|        1|      112|   Nathan |  lconaMd|1996-09-09|         London|birara84@robbins.baz|   29|          df_2|\n",
      "|        1|      111|    Ntaan | Mcdonald|1996-09-09|         London|                null|   29|          df_2|\n",
      "|        1|       56|   Nathan | Mcdonald|1996-09-09|         London|barbara84@robbins...|   29|          df_1|\n",
      "|        1|       55|   Nathan | Mcdonald|1996-09-09|         London|barbara84@robbins...|   29|          df_1|\n",
      "|        1|      109|      null| Mcdonald|1996-09-09|         London|barbara84@robbins...|   29|          df_2|\n",
      "|        2|      247|    Taylor|   Nancy |1989-07-25|         London|wagnershane@landr...|   62|          df_2|\n",
      "|        2|      118|    Nancy |   Taylor|1989-07-25|         London|wagnershane@landr...|   62|          df_1|\n",
      "|        2|      245|    Nancy |   Taylor|1989-07-25|         London|wagnershane@landr...|   62|          df_2|\n",
      "|        2|      248|     Nacy |   Taylor|1989-07-25|         London|wagnershane@landr...|   62|          df_2|\n",
      "|        2|      117|      null|   Taylor|1989-07-25|         London|wagnershane@landr...|   62|          df_1|\n",
      "|        2|      246|    Nancy |   Taylor|1989-08-19|         London|wagnershane@landr...|   62|          df_2|\n",
      "|        3|      119|     Lewis| Freddie |1971-12-19|Southend-on-Sea|tyler28@weaver-al...|   63|          df_1|\n",
      "|        3|      249|   Freddi |    Lewis|1971-12-19|Southend-on-Sea|tyler28@wecveralv...|   63|          df_2|\n",
      "|        3|      250|      null|    Lewis|1971-12-19|Southend-on-Sea|tyler28@weaver-al...|   63|          df_2|\n",
      "|        3|      120|     Lewis| Freddie |1971-09-14|Southend-on-Sea|tyler28@weaver-al...|   63|          df_1|\n",
      "|        4|       10|   Amelia |Alexander|1983-05-19|        Glasgow|icampbell@allen-l...|    3|          df_2|\n",
      "|        4|       11|    lmeAi |Alexander|1983-05-19|        Glasgow|icampbell@allen-l...|    3|          df_2|\n",
      "|        6|      253|      Aad |    Berry|1986-02-08|         London|walterdunn@pham-h...|   64|          df_2|\n",
      "|        6|      121|     Adam |    Berry|1986-02-08|         London|walterdunn@pham-h...|   64|          df_1|\n",
      "+---------+---------+----------+---------+----------+---------------+--------------------+-----+--------------+\n",
      "only showing top 20 rows\n",
      "\n"
     ]
    }
   ],
   "source": [
    "from graphframes import GraphFrame\n",
    "from splink.vertically_concat import vertically_concatenate_datasets\n",
    "\n",
    "df_1.createOrReplaceTempView(\"df_1\")\n",
    "df_2.createOrReplaceTempView(\"df_2\")\n",
    "df_e.createOrReplaceTempView(\"df_e\")\n",
    "\n",
    "sql = \"\"\"\n",
    "select unique_id, source_dataset, concat(unique_id, '__-__', source_dataset) as id \n",
    "from df_1\n",
    "union\n",
    "select unique_id, source_dataset, concat(unique_id, '__-__', source_dataset) as id \n",
    "from df_2\n",
    "\"\"\"\n",
    "nodes = spark.sql(sql)\n",
    "\n",
    "sql = \"\"\"\n",
    "select\n",
    "concat(unique_id_l, '__-__', source_dataset_l) as src,\n",
    "concat(unique_id_r, '__-__', source_dataset_r) as dst,\n",
    "match_probability\n",
    "from df_e\n",
    "where match_probability > 0.99\n",
    "\"\"\"\n",
    "edges = spark.sql(sql)\n",
    "\n",
    "g = GraphFrame(nodes, edges)\n",
    "\n",
    "cc = g.connectedComponents()\n",
    "\n",
    "cc.createOrReplaceTempView(\"cc\")\n",
    "\n",
    "df_nodes = vertically_concatenate_datasets([df_1, df_2])\n",
    "df_nodes.createOrReplaceTempView(\"df_nodes\")\n",
    "\n",
    "sql = \"\"\"\n",
    "select cc.component, df_nodes.*\n",
    "from cc\n",
    "left join\n",
    "df_nodes on \n",
    "cc.unique_id = df_nodes.unique_id and cc.source_dataset = df_nodes.source_dataset\n",
    "order by component\n",
    "\"\"\"\n",
    "results = spark.sql(sql)\n",
    "\n",
    "results.toPandas().head(30)\n",
    "\n",
    "results.show()"
   ]
  },
  {
   "cell_type": "code",
   "execution_count": null,
   "metadata": {},
   "outputs": [],
   "source": []
  },
  {
   "cell_type": "code",
   "execution_count": null,
   "metadata": {},
   "outputs": [],
   "source": []
  }
 ],
 "metadata": {
  "kernelspec": {
   "display_name": "Python 3",
   "language": "python",
   "name": "python3"
  },
  "language_info": {
   "codemirror_mode": {
    "name": "ipython",
    "version": 3
   },
   "file_extension": ".py",
   "mimetype": "text/x-python",
   "name": "python",
   "nbconvert_exporter": "python",
   "pygments_lexer": "ipython3",
   "version": "3.8.3"
  }
 },
 "nbformat": 4,
 "nbformat_minor": 4
}
