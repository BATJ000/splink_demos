{
 "cells": [
  {
   "cell_type": "code",
   "execution_count": 1,
   "metadata": {},
   "outputs": [],
   "source": [
    "from splink.duckdb.duckdb_linker import DuckDBLinker"
   ]
  },
  {
   "cell_type": "code",
   "execution_count": null,
   "metadata": {},
   "outputs": [],
   "source": [
    "import pandas as pd \n",
    "pd.options.display.max_rows = 1000\n",
    "df = pd.read_parquet(\"./data/historical_figures_with_errors_50k.parquet\")\n",
    "df.head(5)"
   ]
  },
  {
   "cell_type": "code",
   "execution_count": null,
   "metadata": {},
   "outputs": [],
   "source": [
    "import numpy as np\n",
    "import pandas as pd\n",
    "\n",
    "def clean_df(df):\n",
    "    cols = [\n",
    "        \"unique_id\",\n",
    "        \"cluster\",\n",
    "        \"full_name\",\n",
    "        \"dob\",\n",
    "        \"birth_place\",\n",
    "        \"postcode_fake\",\n",
    "        \"gender\",\n",
    "        \"occupation\",\n",
    "    ]\n",
    "\n",
    "    df = df[cols].copy()\n",
    "\n",
    "    df[\"name_split\"] = df[\"full_name\"].str.strip().str.split(\" \")\n",
    "    df[\"name_split_length\"] = df[\"name_split\"].str.len()\n",
    "    df[\"first_name\"] = df[\"name_split\"].str[0]\n",
    "    df[\"surname\"] = df[\"name_split\"].str[-1]\n",
    "    df[\"surname\"] = np.where(df[\"name_split_length\"] > 1, df[\"surname\"], \"\")\n",
    "    # df[\"middle_names\"] = df[\"name_split\"].str[1:-1]\n",
    "\n",
    "    df[\"first_and_surname\"] = df[\"first_name\"] + \" \" + df[\"surname\"]\n",
    "\n",
    "    for col in [\n",
    "        \"full_name\",\n",
    "        \"first_and_surname\",\n",
    "        \"first_name\",\n",
    "        \"surname\",\n",
    "        \"dob\",\n",
    "        \"birth_place\",\n",
    "        \"postcode_fake\",\n",
    "        \"gender\",\n",
    "        \"occupation\",\n",
    "    ]:\n",
    "        df[col] = df[col].str.lower().str.strip()\n",
    "        df[col] = df[col].replace({\"\": None})\n",
    "\n",
    "    cols = [\n",
    "        \"unique_id\",\n",
    "        \"cluster\",\n",
    "        \"full_name\",\n",
    "        \"first_and_surname\",\n",
    "        \"first_name\",\n",
    "        \"surname\",\n",
    "        \"dob\",\n",
    "        \"birth_place\",\n",
    "        \"postcode_fake\",\n",
    "        \"gender\",\n",
    "        \"occupation\",\n",
    "    ]\n",
    "    return df[cols]\n",
    "\n",
    "\n",
    "df_clean = clean_df(df)\n",
    "df_clean.head(2)"
   ]
  },
  {
   "cell_type": "code",
   "execution_count": null,
   "metadata": {},
   "outputs": [],
   "source": [
    "# Initialise the linker, passing in the input dataset(s)\n",
    "linker = DuckDBLinker(df_clean)\n",
    "\n",
    "c = linker.profile_columns([\"first_name\", \"postcode_fake\", \"substr(dob, 1,4)\"], top_n=10, bottom_n=5)"
   ]
  },
  {
   "cell_type": "code",
   "execution_count": null,
   "metadata": {},
   "outputs": [],
   "source": [
    "\n",
    "from splink.comparison_library import exact_match, levenshtein\n",
    "settings = {\n",
    "    \"proportion_of_matches\": 1e-5,\n",
    "    \"link_type\": \"dedupe_only\",\n",
    "    \"blocking_rules_to_generate_predictions\": [\n",
    "        \"l.first_name = r.first_name and l.surname = r.surname\",\n",
    "        \"l.surname = r.surname and l.dob = r.dob\",\n",
    "        \"l.first_name = r.first_name and l.dob = r.dob\",\n",
    "        \"l.postcode_fake = r.postcode_fake and l.first_name = r.first_name\",\n",
    "    ],\n",
    "    \"comparisons\": [\n",
    "        levenshtein(\"first_name\", 2, term_frequency_adjustments=True),\n",
    "        levenshtein(\"surname\", 2, term_frequency_adjustments=True),\n",
    "        levenshtein(\"dob\", 2, term_frequency_adjustments=True),\n",
    "        levenshtein(\"postcode_fake\", 2),\n",
    "        exact_match(\"birth_place\", term_frequency_adjustments=True),\n",
    "        exact_match(\"occupation\",  term_frequency_adjustments=True),\n",
    "    ],\n",
    "    \"retain_matching_columns\": True,\n",
    "    \"retain_intermediate_calculation_columns\": True,\n",
    "    \"max_iterations\": 10,\n",
    "    \"em_convergence\": 0.01\n",
    "}"
   ]
  },
  {
   "cell_type": "code",
   "execution_count": null,
   "metadata": {},
   "outputs": [],
   "source": [
    "linker.initialise_settings(settings)\n",
    "linker.train_u_using_random_sampling(target_rows=4e6)"
   ]
  },
  {
   "cell_type": "code",
   "execution_count": null,
   "metadata": {},
   "outputs": [],
   "source": [
    "blocking_rule = \"l.first_name = r.first_name and l.surname = r.surname\"\n",
    "training_session_names = linker.train_m_using_expectation_maximisation(blocking_rule)\n",
    "# training_session_names.match_weights_interactive_history_chart()"
   ]
  },
  {
   "cell_type": "code",
   "execution_count": null,
   "metadata": {},
   "outputs": [],
   "source": [
    "blocking_rule = \"l.dob = r.dob\"\n",
    "training_session_dob = linker.train_m_using_expectation_maximisation(blocking_rule)"
   ]
  },
  {
   "cell_type": "markdown",
   "metadata": {},
   "source": [
    "The final match weights can be viewed in the match weights chart:"
   ]
  },
  {
   "cell_type": "code",
   "execution_count": null,
   "metadata": {},
   "outputs": [],
   "source": [
    "c = linker.settings_obj.match_weights_chart()"
   ]
  },
  {
   "cell_type": "code",
   "execution_count": null,
   "metadata": {},
   "outputs": [],
   "source": [
    "df_e = linker.predict().as_pandas_dataframe()\n",
    "\n",
    "print(f\"{len(df_e):,.0f}\")"
   ]
  },
  {
   "cell_type": "code",
   "execution_count": null,
   "metadata": {},
   "outputs": [],
   "source": [
    "df_e.head(5)"
   ]
  },
  {
   "cell_type": "markdown",
   "metadata": {},
   "source": [
    "You can also view rows in this dataset as a waterfall chart as follows:"
   ]
  },
  {
   "cell_type": "code",
   "execution_count": null,
   "metadata": {},
   "outputs": [],
   "source": [
    "from splink.charts import waterfall_chart\n",
    "records_to_plot = df_e.head(50).to_dict(orient=\"records\")\n",
    "c= waterfall_chart(records_to_plot, linker.settings_obj, filter_nulls=False)"
   ]
  }
 ],
 "metadata": {
  "interpreter": {
   "hash": "b7acd20079f690b8e4bd301d8b4d6cf58b4dbf05063e13f3b39ce70fc3c4110c"
  },
  "kernelspec": {
   "display_name": "Python 3 (ipykernel)",
   "language": "python",
   "name": "python3"
  },
  "language_info": {
   "codemirror_mode": {
    "name": "ipython",
    "version": 3
   },
   "file_extension": ".py",
   "mimetype": "text/x-python",
   "name": "python",
   "nbconvert_exporter": "python",
   "pygments_lexer": "ipython3",
   "version": "3.8.3"
  }
 },
 "nbformat": 4,
 "nbformat_minor": 4
}
