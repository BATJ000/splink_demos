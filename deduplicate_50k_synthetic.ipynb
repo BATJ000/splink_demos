{
 "cells": [
  {
   "cell_type": "code",
   "execution_count": 1,
   "metadata": {},
   "outputs": [],
   "source": [
    "from splink.duckdb.duckdb_linker import DuckDBLinker"
   ]
  },
  {
   "cell_type": "code",
   "execution_count": 2,
   "metadata": {},
   "outputs": [
    {
     "data": {
      "text/html": [
       "<div>\n",
       "<style scoped>\n",
       "    .dataframe tbody tr th:only-of-type {\n",
       "        vertical-align: middle;\n",
       "    }\n",
       "\n",
       "    .dataframe tbody tr th {\n",
       "        vertical-align: top;\n",
       "    }\n",
       "\n",
       "    .dataframe thead th {\n",
       "        text-align: right;\n",
       "    }\n",
       "</style>\n",
       "<table border=\"1\" class=\"dataframe\">\n",
       "  <thead>\n",
       "    <tr style=\"text-align: right;\">\n",
       "      <th></th>\n",
       "      <th>uncorrupted_record</th>\n",
       "      <th>cluster</th>\n",
       "      <th>full_name</th>\n",
       "      <th>dob</th>\n",
       "      <th>birth_place</th>\n",
       "      <th>postcode_fake</th>\n",
       "      <th>lat</th>\n",
       "      <th>lng</th>\n",
       "      <th>gender</th>\n",
       "      <th>occupation</th>\n",
       "      <th>unique_id</th>\n",
       "    </tr>\n",
       "  </thead>\n",
       "  <tbody>\n",
       "    <tr>\n",
       "      <th>0</th>\n",
       "      <td>True</td>\n",
       "      <td>Q2296770</td>\n",
       "      <td>thomas clifford, 1st baron clifford of chudleigh</td>\n",
       "      <td>1630-08-01</td>\n",
       "      <td>Devon</td>\n",
       "      <td>TQ13 8DF</td>\n",
       "      <td>50.692449</td>\n",
       "      <td>-3.813964</td>\n",
       "      <td>male</td>\n",
       "      <td>politician</td>\n",
       "      <td>Q2296770-1</td>\n",
       "    </tr>\n",
       "    <tr>\n",
       "      <th>1</th>\n",
       "      <td>False</td>\n",
       "      <td>Q2296770</td>\n",
       "      <td>thomas of chudleigh</td>\n",
       "      <td>1630-08-01</td>\n",
       "      <td>Devon</td>\n",
       "      <td>TQ13 8DF</td>\n",
       "      <td>50.692449</td>\n",
       "      <td>-3.813964</td>\n",
       "      <td>male</td>\n",
       "      <td>politician</td>\n",
       "      <td>Q2296770-2</td>\n",
       "    </tr>\n",
       "    <tr>\n",
       "      <th>2</th>\n",
       "      <td>False</td>\n",
       "      <td>Q2296770</td>\n",
       "      <td>tom 1st baron clifford of chudleigh</td>\n",
       "      <td>1630-08-01</td>\n",
       "      <td>Devon</td>\n",
       "      <td>TQ13 8DF</td>\n",
       "      <td>50.692449</td>\n",
       "      <td>-3.813964</td>\n",
       "      <td>male</td>\n",
       "      <td>politician</td>\n",
       "      <td>Q2296770-3</td>\n",
       "    </tr>\n",
       "    <tr>\n",
       "      <th>3</th>\n",
       "      <td>False</td>\n",
       "      <td>Q2296770</td>\n",
       "      <td>thomas 1st chudleigh</td>\n",
       "      <td>1630-08-01</td>\n",
       "      <td>Devon</td>\n",
       "      <td>TQ13 8HU</td>\n",
       "      <td>50.687638</td>\n",
       "      <td>-3.895877</td>\n",
       "      <td>None</td>\n",
       "      <td>politician</td>\n",
       "      <td>Q2296770-4</td>\n",
       "    </tr>\n",
       "    <tr>\n",
       "      <th>4</th>\n",
       "      <td>False</td>\n",
       "      <td>Q2296770</td>\n",
       "      <td>thomas clifford, 1st baron chudleigh</td>\n",
       "      <td>1630-08-01</td>\n",
       "      <td>Devon</td>\n",
       "      <td>TQ13 8DF</td>\n",
       "      <td>50.692449</td>\n",
       "      <td>-3.813964</td>\n",
       "      <td>None</td>\n",
       "      <td>politician</td>\n",
       "      <td>Q2296770-5</td>\n",
       "    </tr>\n",
       "  </tbody>\n",
       "</table>\n",
       "</div>"
      ],
      "text/plain": [
       "   uncorrupted_record   cluster  \\\n",
       "0                True  Q2296770   \n",
       "1               False  Q2296770   \n",
       "2               False  Q2296770   \n",
       "3               False  Q2296770   \n",
       "4               False  Q2296770   \n",
       "\n",
       "                                          full_name         dob birth_place  \\\n",
       "0  thomas clifford, 1st baron clifford of chudleigh  1630-08-01       Devon   \n",
       "1                               thomas of chudleigh  1630-08-01       Devon   \n",
       "2               tom 1st baron clifford of chudleigh  1630-08-01       Devon   \n",
       "3                              thomas 1st chudleigh  1630-08-01       Devon   \n",
       "4              thomas clifford, 1st baron chudleigh  1630-08-01       Devon   \n",
       "\n",
       "  postcode_fake        lat       lng gender  occupation   unique_id  \n",
       "0      TQ13 8DF  50.692449 -3.813964   male  politician  Q2296770-1  \n",
       "1      TQ13 8DF  50.692449 -3.813964   male  politician  Q2296770-2  \n",
       "2      TQ13 8DF  50.692449 -3.813964   male  politician  Q2296770-3  \n",
       "3      TQ13 8HU  50.687638 -3.895877   None  politician  Q2296770-4  \n",
       "4      TQ13 8DF  50.692449 -3.813964   None  politician  Q2296770-5  "
      ]
     },
     "execution_count": 2,
     "metadata": {},
     "output_type": "execute_result"
    }
   ],
   "source": [
    "import pandas as pd \n",
    "pd.options.display.max_rows = 1000\n",
    "df = pd.read_parquet(\"./data/historical_figures_with_errors_50k.parquet\")\n",
    "df.head(5)"
   ]
  },
  {
   "cell_type": "code",
   "execution_count": 3,
   "metadata": {},
   "outputs": [
    {
     "data": {
      "text/html": [
       "<div>\n",
       "<style scoped>\n",
       "    .dataframe tbody tr th:only-of-type {\n",
       "        vertical-align: middle;\n",
       "    }\n",
       "\n",
       "    .dataframe tbody tr th {\n",
       "        vertical-align: top;\n",
       "    }\n",
       "\n",
       "    .dataframe thead th {\n",
       "        text-align: right;\n",
       "    }\n",
       "</style>\n",
       "<table border=\"1\" class=\"dataframe\">\n",
       "  <thead>\n",
       "    <tr style=\"text-align: right;\">\n",
       "      <th></th>\n",
       "      <th>unique_id</th>\n",
       "      <th>cluster</th>\n",
       "      <th>full_name</th>\n",
       "      <th>first_and_surname</th>\n",
       "      <th>first_name</th>\n",
       "      <th>surname</th>\n",
       "      <th>dob</th>\n",
       "      <th>birth_place</th>\n",
       "      <th>postcode_fake</th>\n",
       "      <th>gender</th>\n",
       "      <th>occupation</th>\n",
       "    </tr>\n",
       "  </thead>\n",
       "  <tbody>\n",
       "    <tr>\n",
       "      <th>0</th>\n",
       "      <td>Q2296770-1</td>\n",
       "      <td>Q2296770</td>\n",
       "      <td>thomas clifford, 1st baron clifford of chudleigh</td>\n",
       "      <td>thomas chudleigh</td>\n",
       "      <td>thomas</td>\n",
       "      <td>chudleigh</td>\n",
       "      <td>1630-08-01</td>\n",
       "      <td>devon</td>\n",
       "      <td>tq13 8df</td>\n",
       "      <td>male</td>\n",
       "      <td>politician</td>\n",
       "    </tr>\n",
       "    <tr>\n",
       "      <th>1</th>\n",
       "      <td>Q2296770-2</td>\n",
       "      <td>Q2296770</td>\n",
       "      <td>thomas of chudleigh</td>\n",
       "      <td>thomas chudleigh</td>\n",
       "      <td>thomas</td>\n",
       "      <td>chudleigh</td>\n",
       "      <td>1630-08-01</td>\n",
       "      <td>devon</td>\n",
       "      <td>tq13 8df</td>\n",
       "      <td>male</td>\n",
       "      <td>politician</td>\n",
       "    </tr>\n",
       "  </tbody>\n",
       "</table>\n",
       "</div>"
      ],
      "text/plain": [
       "    unique_id   cluster                                         full_name  \\\n",
       "0  Q2296770-1  Q2296770  thomas clifford, 1st baron clifford of chudleigh   \n",
       "1  Q2296770-2  Q2296770                               thomas of chudleigh   \n",
       "\n",
       "  first_and_surname first_name    surname         dob birth_place  \\\n",
       "0  thomas chudleigh     thomas  chudleigh  1630-08-01       devon   \n",
       "1  thomas chudleigh     thomas  chudleigh  1630-08-01       devon   \n",
       "\n",
       "  postcode_fake gender  occupation  \n",
       "0      tq13 8df   male  politician  \n",
       "1      tq13 8df   male  politician  "
      ]
     },
     "execution_count": 3,
     "metadata": {},
     "output_type": "execute_result"
    }
   ],
   "source": [
    "import numpy as np\n",
    "import pandas as pd\n",
    "\n",
    "def clean_df(df):\n",
    "    cols = [\n",
    "        \"unique_id\",\n",
    "        \"cluster\",\n",
    "        \"full_name\",\n",
    "        \"dob\",\n",
    "        \"birth_place\",\n",
    "        \"postcode_fake\",\n",
    "        \"gender\",\n",
    "        \"occupation\",\n",
    "    ]\n",
    "\n",
    "    df = df[cols].copy()\n",
    "\n",
    "    df[\"name_split\"] = df[\"full_name\"].str.strip().str.split(\" \")\n",
    "    df[\"name_split_length\"] = df[\"name_split\"].str.len()\n",
    "    df[\"first_name\"] = df[\"name_split\"].str[0]\n",
    "    df[\"surname\"] = df[\"name_split\"].str[-1]\n",
    "    df[\"surname\"] = np.where(df[\"name_split_length\"] > 1, df[\"surname\"], \"\")\n",
    "    # df[\"middle_names\"] = df[\"name_split\"].str[1:-1]\n",
    "\n",
    "    df[\"first_and_surname\"] = df[\"first_name\"] + \" \" + df[\"surname\"]\n",
    "\n",
    "    for col in [\n",
    "        \"full_name\",\n",
    "        \"first_and_surname\",\n",
    "        \"first_name\",\n",
    "        \"surname\",\n",
    "        \"dob\",\n",
    "        \"birth_place\",\n",
    "        \"postcode_fake\",\n",
    "        \"gender\",\n",
    "        \"occupation\",\n",
    "    ]:\n",
    "        df[col] = df[col].str.lower().str.strip()\n",
    "        df[col] = df[col].replace({\"\": None})\n",
    "\n",
    "    cols = [\n",
    "        \"unique_id\",\n",
    "        \"cluster\",\n",
    "        \"full_name\",\n",
    "        \"first_and_surname\",\n",
    "        \"first_name\",\n",
    "        \"surname\",\n",
    "        \"dob\",\n",
    "        \"birth_place\",\n",
    "        \"postcode_fake\",\n",
    "        \"gender\",\n",
    "        \"occupation\",\n",
    "    ]\n",
    "    return df[cols]\n",
    "\n",
    "\n",
    "df_clean = clean_df(df)\n",
    "df_clean.head(2)"
   ]
  },
  {
   "cell_type": "code",
   "execution_count": 4,
   "metadata": {},
   "outputs": [
    {
     "data": {
      "application/vnd.vegalite.v4+json": {
       "$schema": "https://vega.github.io/schema/vega-lite/v4.8.1.json",
       "config": {
        "view": {
         "continuousHeight": 300,
         "continuousWidth": 400
        }
       },
       "vconcat": [
        {
         "hconcat": [
          {
           "data": {
            "values": [
             {
              "distinct_value_count": 4413,
              "group_name": "first_name",
              "percentile_ex_nulls": 0.9449625015258789,
              "percentile_inc_nulls": 0.9450353980064392,
              "sum_tokens_in_value_count_group": 2780,
              "total_non_null_rows": 50511,
              "total_rows_inc_nulls": 50578,
              "value_count": 2780
             },
             {
              "distinct_value_count": 4413,
              "group_name": "first_name",
              "percentile_ex_nulls": 0.8907960653305054,
              "percentile_inc_nulls": 0.8909407258033752,
              "sum_tokens_in_value_count_group": 2736,
              "total_non_null_rows": 50511,
              "total_rows_inc_nulls": 50578,
              "value_count": 2736
             },
             {
              "distinct_value_count": 4413,
              "group_name": "first_name",
              "percentile_ex_nulls": 0.8621290326118469,
              "percentile_inc_nulls": 0.8623116612434387,
              "sum_tokens_in_value_count_group": 1448,
              "total_non_null_rows": 50511,
              "total_rows_inc_nulls": 50578,
              "value_count": 1448
             },
             {
              "distinct_value_count": 4413,
              "group_name": "first_name",
              "percentile_ex_nulls": 0.8341153264045715,
              "percentile_inc_nulls": 0.8343350887298584,
              "sum_tokens_in_value_count_group": 1415,
              "total_non_null_rows": 50511,
              "total_rows_inc_nulls": 50578,
              "value_count": 1415
             },
             {
              "distinct_value_count": 4413,
              "group_name": "first_name",
              "percentile_ex_nulls": 0.8082596063613892,
              "percentile_inc_nulls": 0.8085135817527771,
              "sum_tokens_in_value_count_group": 1306,
              "total_non_null_rows": 50511,
              "total_rows_inc_nulls": 50578,
              "value_count": 1306
             },
             {
              "distinct_value_count": 4413,
              "group_name": "first_name",
              "percentile_ex_nulls": 0.7832155227661133,
              "percentile_inc_nulls": 0.7835026979446411,
              "sum_tokens_in_value_count_group": 1265,
              "total_non_null_rows": 50511,
              "total_rows_inc_nulls": 50578,
              "value_count": 1265
             },
             {
              "distinct_value_count": 4413,
              "group_name": "first_name",
              "percentile_ex_nulls": 0.7582308650016785,
              "percentile_inc_nulls": 0.7585511207580566,
              "sum_tokens_in_value_count_group": 1262,
              "total_non_null_rows": 50511,
              "total_rows_inc_nulls": 50578,
              "value_count": 1262
             },
             {
              "distinct_value_count": 4413,
              "group_name": "first_name",
              "percentile_ex_nulls": 0.7341569066047668,
              "percentile_inc_nulls": 0.7345091104507446,
              "sum_tokens_in_value_count_group": 1216,
              "total_non_null_rows": 50511,
              "total_rows_inc_nulls": 50578,
              "value_count": 1216
             },
             {
              "distinct_value_count": 4413,
              "group_name": "first_name",
              "percentile_ex_nulls": 0.7161211967468262,
              "percentile_inc_nulls": 0.7164973020553589,
              "sum_tokens_in_value_count_group": 911,
              "total_non_null_rows": 50511,
              "total_rows_inc_nulls": 50578,
              "value_count": 911
             },
             {
              "distinct_value_count": 4413,
              "group_name": "first_name",
              "percentile_ex_nulls": 0.698620080947876,
              "percentile_inc_nulls": 0.6990193128585815,
              "sum_tokens_in_value_count_group": 884,
              "total_non_null_rows": 50511,
              "total_rows_inc_nulls": 50578,
              "value_count": 884
             },
             {
              "distinct_value_count": 4413,
              "group_name": "first_name",
              "percentile_ex_nulls": 0.6826632022857666,
              "percentile_inc_nulls": 0.6830835342407227,
              "sum_tokens_in_value_count_group": 806,
              "total_non_null_rows": 50511,
              "total_rows_inc_nulls": 50578,
              "value_count": 806
             },
             {
              "distinct_value_count": 4413,
              "group_name": "first_name",
              "percentile_ex_nulls": 0.6697155237197876,
              "percentile_inc_nulls": 0.670153021812439,
              "sum_tokens_in_value_count_group": 654,
              "total_non_null_rows": 50511,
              "total_rows_inc_nulls": 50578,
              "value_count": 654
             },
             {
              "distinct_value_count": 4413,
              "group_name": "first_name",
              "percentile_ex_nulls": 0.6573221683502197,
              "percentile_inc_nulls": 0.6577761173248291,
              "sum_tokens_in_value_count_group": 626,
              "total_non_null_rows": 50511,
              "total_rows_inc_nulls": 50578,
              "value_count": 626
             },
             {
              "distinct_value_count": 4413,
              "group_name": "first_name",
              "percentile_ex_nulls": 0.6471858024597168,
              "percentile_inc_nulls": 0.6476531028747559,
              "sum_tokens_in_value_count_group": 512,
              "total_non_null_rows": 50511,
              "total_rows_inc_nulls": 50578,
              "value_count": 512
             },
             {
              "distinct_value_count": 4413,
              "group_name": "first_name",
              "percentile_ex_nulls": 0.6370691657066345,
              "percentile_inc_nulls": 0.6375499367713928,
              "sum_tokens_in_value_count_group": 511,
              "total_non_null_rows": 50511,
              "total_rows_inc_nulls": 50578,
              "value_count": 511
             },
             {
              "distinct_value_count": 4413,
              "group_name": "first_name",
              "percentile_ex_nulls": 0.6269921064376831,
              "percentile_inc_nulls": 0.6274862289428711,
              "sum_tokens_in_value_count_group": 509,
              "total_non_null_rows": 50511,
              "total_rows_inc_nulls": 50578,
              "value_count": 509
             },
             {
              "distinct_value_count": 4413,
              "group_name": "first_name",
              "percentile_ex_nulls": 0.6171329021453857,
              "percentile_inc_nulls": 0.6176400780677795,
              "sum_tokens_in_value_count_group": 498,
              "total_non_null_rows": 50511,
              "total_rows_inc_nulls": 50578,
              "value_count": 498
             },
             {
              "distinct_value_count": 4413,
              "group_name": "first_name",
              "percentile_ex_nulls": 0.6079269647598267,
              "percentile_inc_nulls": 0.6084463596343994,
              "sum_tokens_in_value_count_group": 465,
              "total_non_null_rows": 50511,
              "total_rows_inc_nulls": 50578,
              "value_count": 465
             },
             {
              "distinct_value_count": 4413,
              "group_name": "first_name",
              "percentile_ex_nulls": 0.5987408757209778,
              "percentile_inc_nulls": 0.5992723703384399,
              "sum_tokens_in_value_count_group": 464,
              "total_non_null_rows": 50511,
              "total_rows_inc_nulls": 50578,
              "value_count": 464
             },
             {
              "distinct_value_count": 4413,
              "group_name": "first_name",
              "percentile_ex_nulls": 0.5904456377029419,
              "percentile_inc_nulls": 0.5909881591796875,
              "sum_tokens_in_value_count_group": 419,
              "total_non_null_rows": 50511,
              "total_rows_inc_nulls": 50578,
              "value_count": 419
             },
             {
              "distinct_value_count": 4413,
              "group_name": "first_name",
              "percentile_ex_nulls": 0.5831403136253357,
              "percentile_inc_nulls": 0.5836925506591797,
              "sum_tokens_in_value_count_group": 369,
              "total_non_null_rows": 50511,
              "total_rows_inc_nulls": 50578,
              "value_count": 369
             },
             {
              "distinct_value_count": 4413,
              "group_name": "first_name",
              "percentile_ex_nulls": 0.5762308835983276,
              "percentile_inc_nulls": 0.5767922401428223,
              "sum_tokens_in_value_count_group": 349,
              "total_non_null_rows": 50511,
              "total_rows_inc_nulls": 50578,
              "value_count": 349
             },
             {
              "distinct_value_count": 4413,
              "group_name": "first_name",
              "percentile_ex_nulls": 0.5698164701461792,
              "percentile_inc_nulls": 0.5703862905502319,
              "sum_tokens_in_value_count_group": 324,
              "total_non_null_rows": 50511,
              "total_rows_inc_nulls": 50578,
              "value_count": 324
             },
             {
              "distinct_value_count": 4413,
              "group_name": "first_name",
              "percentile_ex_nulls": 0.5634812116622925,
              "percentile_inc_nulls": 0.5640594959259033,
              "sum_tokens_in_value_count_group": 320,
              "total_non_null_rows": 50511,
              "total_rows_inc_nulls": 50578,
              "value_count": 320
             },
             {
              "distinct_value_count": 4413,
              "group_name": "first_name",
              "percentile_ex_nulls": 0.5573043823242188,
              "percentile_inc_nulls": 0.557890772819519,
              "sum_tokens_in_value_count_group": 312,
              "total_non_null_rows": 50511,
              "total_rows_inc_nulls": 50578,
              "value_count": 312
             },
             {
              "distinct_value_count": 4413,
              "group_name": "first_name",
              "percentile_ex_nulls": 0.5513848066329956,
              "percentile_inc_nulls": 0.551979124546051,
              "sum_tokens_in_value_count_group": 299,
              "total_non_null_rows": 50511,
              "total_rows_inc_nulls": 50578,
              "value_count": 299
             },
             {
              "distinct_value_count": 4413,
              "group_name": "first_name",
              "percentile_ex_nulls": 0.5457029342651367,
              "percentile_inc_nulls": 0.5463047027587891,
              "sum_tokens_in_value_count_group": 287,
              "total_non_null_rows": 50511,
              "total_rows_inc_nulls": 50578,
              "value_count": 287
             },
             {
              "distinct_value_count": 4413,
              "group_name": "first_name",
              "percentile_ex_nulls": 0.5401991605758667,
              "percentile_inc_nulls": 0.5408082604408264,
              "sum_tokens_in_value_count_group": 278,
              "total_non_null_rows": 50511,
              "total_rows_inc_nulls": 50578,
              "value_count": 278
             },
             {
              "distinct_value_count": 4413,
              "group_name": "first_name",
              "percentile_ex_nulls": 0.5348538160324097,
              "percentile_inc_nulls": 0.5354700088500977,
              "sum_tokens_in_value_count_group": 270,
              "total_non_null_rows": 50511,
              "total_rows_inc_nulls": 50578,
              "value_count": 270
             },
             {
              "distinct_value_count": 4413,
              "group_name": "first_name",
              "percentile_ex_nulls": 0.5298252105712891,
              "percentile_inc_nulls": 0.5304480195045471,
              "sum_tokens_in_value_count_group": 254,
              "total_non_null_rows": 50511,
              "total_rows_inc_nulls": 50578,
              "value_count": 254
             },
             {
              "distinct_value_count": 4413,
              "group_name": "first_name",
              "percentile_ex_nulls": 0.5250935554504395,
              "percentile_inc_nulls": 0.5257226228713989,
              "sum_tokens_in_value_count_group": 239,
              "total_non_null_rows": 50511,
              "total_rows_inc_nulls": 50578,
              "value_count": 239
             },
             {
              "distinct_value_count": 4413,
              "group_name": "first_name",
              "percentile_ex_nulls": 0.5204806923866272,
              "percentile_inc_nulls": 0.5211158990859985,
              "sum_tokens_in_value_count_group": 233,
              "total_non_null_rows": 50511,
              "total_rows_inc_nulls": 50578,
              "value_count": 233
             },
             {
              "distinct_value_count": 4413,
              "group_name": "first_name",
              "percentile_ex_nulls": 0.5164815187454224,
              "percentile_inc_nulls": 0.5171220302581787,
              "sum_tokens_in_value_count_group": 202,
              "total_non_null_rows": 50511,
              "total_rows_inc_nulls": 50578,
              "value_count": 202
             },
             {
              "distinct_value_count": 4413,
              "group_name": "first_name",
              "percentile_ex_nulls": 0.51287841796875,
              "percentile_inc_nulls": 0.5135236978530884,
              "sum_tokens_in_value_count_group": 182,
              "total_non_null_rows": 50511,
              "total_rows_inc_nulls": 50578,
              "value_count": 182
             },
             {
              "distinct_value_count": 4413,
              "group_name": "first_name",
              "percentile_ex_nulls": 0.5092949867248535,
              "percentile_inc_nulls": 0.5099450349807739,
              "sum_tokens_in_value_count_group": 181,
              "total_non_null_rows": 50511,
              "total_rows_inc_nulls": 50578,
              "value_count": 181
             },
             {
              "distinct_value_count": 4413,
              "group_name": "first_name",
              "percentile_ex_nulls": 0.5058304071426392,
              "percentile_inc_nulls": 0.5064850449562073,
              "sum_tokens_in_value_count_group": 175,
              "total_non_null_rows": 50511,
              "total_rows_inc_nulls": 50578,
              "value_count": 175
             },
             {
              "distinct_value_count": 4413,
              "group_name": "first_name",
              "percentile_ex_nulls": 0.49898040294647217,
              "percentile_inc_nulls": 0.49964410066604614,
              "sum_tokens_in_value_count_group": 346,
              "total_non_null_rows": 50511,
              "total_rows_inc_nulls": 50578,
              "value_count": 173
             },
             {
              "distinct_value_count": 4413,
              "group_name": "first_name",
              "percentile_ex_nulls": 0.49563461542129517,
              "percentile_inc_nulls": 0.4963027238845825,
              "sum_tokens_in_value_count_group": 169,
              "total_non_null_rows": 50511,
              "total_rows_inc_nulls": 50578,
              "value_count": 169
             },
             {
              "distinct_value_count": 4413,
              "group_name": "first_name",
              "percentile_ex_nulls": 0.4923086166381836,
              "percentile_inc_nulls": 0.4929811358451843,
              "sum_tokens_in_value_count_group": 168,
              "total_non_null_rows": 50511,
              "total_rows_inc_nulls": 50578,
              "value_count": 168
             },
             {
              "distinct_value_count": 4413,
              "group_name": "first_name",
              "percentile_ex_nulls": 0.4890221953392029,
              "percentile_inc_nulls": 0.4896990656852722,
              "sum_tokens_in_value_count_group": 166,
              "total_non_null_rows": 50511,
              "total_rows_inc_nulls": 50578,
              "value_count": 166
             },
             {
              "distinct_value_count": 4413,
              "group_name": "first_name",
              "percentile_ex_nulls": 0.48587435483932495,
              "percentile_inc_nulls": 0.48655539751052856,
              "sum_tokens_in_value_count_group": 159,
              "total_non_null_rows": 50511,
              "total_rows_inc_nulls": 50578,
              "value_count": 159
             },
             {
              "distinct_value_count": 4413,
              "group_name": "first_name",
              "percentile_ex_nulls": 0.4827859401702881,
              "percentile_inc_nulls": 0.4834710955619812,
              "sum_tokens_in_value_count_group": 156,
              "total_non_null_rows": 50511,
              "total_rows_inc_nulls": 50578,
              "value_count": 156
             },
             {
              "distinct_value_count": 4413,
              "group_name": "first_name",
              "percentile_ex_nulls": 0.47664862871170044,
              "percentile_inc_nulls": 0.4773419499397278,
              "sum_tokens_in_value_count_group": 310,
              "total_non_null_rows": 50511,
              "total_rows_inc_nulls": 50578,
              "value_count": 155
             },
             {
              "distinct_value_count": 4413,
              "group_name": "first_name",
              "percentile_ex_nulls": 0.4705509543418884,
              "percentile_inc_nulls": 0.47125232219696045,
              "sum_tokens_in_value_count_group": 308,
              "total_non_null_rows": 50511,
              "total_rows_inc_nulls": 50578,
              "value_count": 154
             },
             {
              "distinct_value_count": 4413,
              "group_name": "first_name",
              "percentile_ex_nulls": 0.4675813317298889,
              "percentile_inc_nulls": 0.4682866334915161,
              "sum_tokens_in_value_count_group": 150,
              "total_non_null_rows": 50511,
              "total_rows_inc_nulls": 50578,
              "value_count": 150
             },
             {
              "distinct_value_count": 4413,
              "group_name": "first_name",
              "percentile_ex_nulls": 0.46471065282821655,
              "percentile_inc_nulls": 0.4654197692871094,
              "sum_tokens_in_value_count_group": 145,
              "total_non_null_rows": 50511,
              "total_rows_inc_nulls": 50578,
              "value_count": 145
             },
             {
              "distinct_value_count": 4413,
              "group_name": "first_name",
              "percentile_ex_nulls": 0.46195876598358154,
              "percentile_inc_nulls": 0.46267151832580566,
              "sum_tokens_in_value_count_group": 139,
              "total_non_null_rows": 50511,
              "total_rows_inc_nulls": 50578,
              "value_count": 139
             },
             {
              "distinct_value_count": 4413,
              "group_name": "first_name",
              "percentile_ex_nulls": 0.459286093711853,
              "percentile_inc_nulls": 0.4600023627281189,
              "sum_tokens_in_value_count_group": 135,
              "total_non_null_rows": 50511,
              "total_rows_inc_nulls": 50578,
              "value_count": 135
             },
             {
              "distinct_value_count": 4413,
              "group_name": "first_name",
              "percentile_ex_nulls": 0.45405954122543335,
              "percentile_inc_nulls": 0.45478272438049316,
              "sum_tokens_in_value_count_group": 264,
              "total_non_null_rows": 50511,
              "total_rows_inc_nulls": 50578,
              "value_count": 132
             },
             {
              "distinct_value_count": 4413,
              "group_name": "first_name",
              "percentile_ex_nulls": 0.451485812664032,
              "percentile_inc_nulls": 0.45221245288848877,
              "sum_tokens_in_value_count_group": 130,
              "total_non_null_rows": 50511,
              "total_rows_inc_nulls": 50578,
              "value_count": 130
             },
             {
              "distinct_value_count": 4413,
              "group_name": "first_name",
              "percentile_ex_nulls": 0.4464572072029114,
              "percentile_inc_nulls": 0.44719046354293823,
              "sum_tokens_in_value_count_group": 254,
              "total_non_null_rows": 50511,
              "total_rows_inc_nulls": 50578,
              "value_count": 127
             },
             {
              "distinct_value_count": 4413,
              "group_name": "first_name",
              "percentile_ex_nulls": 0.44402211904525757,
              "percentile_inc_nulls": 0.4447585940361023,
              "sum_tokens_in_value_count_group": 123,
              "total_non_null_rows": 50511,
              "total_rows_inc_nulls": 50578,
              "value_count": 123
             },
             {
              "distinct_value_count": 4413,
              "group_name": "first_name",
              "percentile_ex_nulls": 0.44164639711380005,
              "percentile_inc_nulls": 0.44238603115081787,
              "sum_tokens_in_value_count_group": 120,
              "total_non_null_rows": 50511,
              "total_rows_inc_nulls": 50578,
              "value_count": 120
             },
             {
              "distinct_value_count": 4413,
              "group_name": "first_name",
              "percentile_ex_nulls": 0.4393102526664734,
              "percentile_inc_nulls": 0.44005298614501953,
              "sum_tokens_in_value_count_group": 118,
              "total_non_null_rows": 50511,
              "total_rows_inc_nulls": 50578,
              "value_count": 118
             },
             {
              "distinct_value_count": 4413,
              "group_name": "first_name",
              "percentile_ex_nulls": 0.4370335340499878,
              "percentile_inc_nulls": 0.4377792477607727,
              "sum_tokens_in_value_count_group": 115,
              "total_non_null_rows": 50511,
              "total_rows_inc_nulls": 50578,
              "value_count": 115
             },
             {
              "distinct_value_count": 4413,
              "group_name": "first_name",
              "percentile_ex_nulls": 0.4347766041755676,
              "percentile_inc_nulls": 0.4355252981185913,
              "sum_tokens_in_value_count_group": 114,
              "total_non_null_rows": 50511,
              "total_rows_inc_nulls": 50578,
              "value_count": 114
             },
             {
              "distinct_value_count": 4413,
              "group_name": "first_name",
              "percentile_ex_nulls": 0.4325592517852783,
              "percentile_inc_nulls": 0.43331092596054077,
              "sum_tokens_in_value_count_group": 112,
              "total_non_null_rows": 50511,
              "total_rows_inc_nulls": 50578,
              "value_count": 112
             },
             {
              "distinct_value_count": 4413,
              "group_name": "first_name",
              "percentile_ex_nulls": 0.4304013252258301,
              "percentile_inc_nulls": 0.43115586042404175,
              "sum_tokens_in_value_count_group": 109,
              "total_non_null_rows": 50511,
              "total_rows_inc_nulls": 50578,
              "value_count": 109
             },
             {
              "distinct_value_count": 4413,
              "group_name": "first_name",
              "percentile_ex_nulls": 0.4283621311187744,
              "percentile_inc_nulls": 0.42911940813064575,
              "sum_tokens_in_value_count_group": 103,
              "total_non_null_rows": 50511,
              "total_rows_inc_nulls": 50578,
              "value_count": 103
             },
             {
              "distinct_value_count": 4413,
              "group_name": "first_name",
              "percentile_ex_nulls": 0.42634278535842896,
              "percentile_inc_nulls": 0.4271026849746704,
              "sum_tokens_in_value_count_group": 102,
              "total_non_null_rows": 50511,
              "total_rows_inc_nulls": 50578,
              "value_count": 102
             },
             {
              "distinct_value_count": 4413,
              "group_name": "first_name",
              "percentile_ex_nulls": 0.4223436713218689,
              "percentile_inc_nulls": 0.42310887575149536,
              "sum_tokens_in_value_count_group": 202,
              "total_non_null_rows": 50511,
              "total_rows_inc_nulls": 50578,
              "value_count": 101
             },
             {
              "distinct_value_count": 4413,
              "group_name": "first_name",
              "percentile_ex_nulls": 0.4203639030456543,
              "percentile_inc_nulls": 0.4211317300796509,
              "sum_tokens_in_value_count_group": 100,
              "total_non_null_rows": 50511,
              "total_rows_inc_nulls": 50578,
              "value_count": 100
             },
             {
              "distinct_value_count": 4413,
              "group_name": "first_name",
              "percentile_ex_nulls": 0.418443500995636,
              "percentile_inc_nulls": 0.4192138910293579,
              "sum_tokens_in_value_count_group": 97,
              "total_non_null_rows": 50511,
              "total_rows_inc_nulls": 50578,
              "value_count": 97
             },
             {
              "distinct_value_count": 4413,
              "group_name": "first_name",
              "percentile_ex_nulls": 0.4165429472923279,
              "percentile_inc_nulls": 0.41731584072113037,
              "sum_tokens_in_value_count_group": 96,
              "total_non_null_rows": 50511,
              "total_rows_inc_nulls": 50578,
              "value_count": 96
             },
             {
              "distinct_value_count": 4413,
              "group_name": "first_name",
              "percentile_ex_nulls": 0.4146621823310852,
              "percentile_inc_nulls": 0.4154375195503235,
              "sum_tokens_in_value_count_group": 95,
              "total_non_null_rows": 50511,
              "total_rows_inc_nulls": 50578,
              "value_count": 95
             },
             {
              "distinct_value_count": 4413,
              "group_name": "first_name",
              "percentile_ex_nulls": 0.4128011465072632,
              "percentile_inc_nulls": 0.4135790467262268,
              "sum_tokens_in_value_count_group": 94,
              "total_non_null_rows": 50511,
              "total_rows_inc_nulls": 50578,
              "value_count": 94
             },
             {
              "distinct_value_count": 4413,
              "group_name": "first_name",
              "percentile_ex_nulls": 0.4055156111717224,
              "percentile_inc_nulls": 0.4063031077384949,
              "sum_tokens_in_value_count_group": 368,
              "total_non_null_rows": 50511,
              "total_rows_inc_nulls": 50578,
              "value_count": 92
             },
             {
              "distinct_value_count": 4413,
              "group_name": "first_name",
              "percentile_ex_nulls": 0.4001108407974243,
              "percentile_inc_nulls": 0.4009055495262146,
              "sum_tokens_in_value_count_group": 273,
              "total_non_null_rows": 50511,
              "total_rows_inc_nulls": 50578,
              "value_count": 91
             },
             {
              "distinct_value_count": 4413,
              "group_name": "first_name",
              "percentile_ex_nulls": 0.39832907915115356,
              "percentile_inc_nulls": 0.3991261124610901,
              "sum_tokens_in_value_count_group": 90,
              "total_non_null_rows": 50511,
              "total_rows_inc_nulls": 50578,
              "value_count": 90
             },
             {
              "distinct_value_count": 4413,
              "group_name": "first_name",
              "percentile_ex_nulls": 0.3948447108268738,
              "percentile_inc_nulls": 0.395646333694458,
              "sum_tokens_in_value_count_group": 176,
              "total_non_null_rows": 50511,
              "total_rows_inc_nulls": 50578,
              "value_count": 88
             },
             {
              "distinct_value_count": 4413,
              "group_name": "first_name",
              "percentile_ex_nulls": 0.39139991998672485,
              "percentile_inc_nulls": 0.392206072807312,
              "sum_tokens_in_value_count_group": 174,
              "total_non_null_rows": 50511,
              "total_rows_inc_nulls": 50578,
              "value_count": 87
             },
             {
              "distinct_value_count": 4413,
              "group_name": "first_name",
              "percentile_ex_nulls": 0.38971710205078125,
              "percentile_inc_nulls": 0.3905255198478699,
              "sum_tokens_in_value_count_group": 85,
              "total_non_null_rows": 50511,
              "total_rows_inc_nulls": 50578,
              "value_count": 85
             },
             {
              "distinct_value_count": 4413,
              "group_name": "first_name",
              "percentile_ex_nulls": 0.3864702582359314,
              "percentile_inc_nulls": 0.3872830271720886,
              "sum_tokens_in_value_count_group": 164,
              "total_non_null_rows": 50511,
              "total_rows_inc_nulls": 50578,
              "value_count": 82
             },
             {
              "distinct_value_count": 4413,
              "group_name": "first_name",
              "percentile_ex_nulls": 0.3848666548728943,
              "percentile_inc_nulls": 0.38568150997161865,
              "sum_tokens_in_value_count_group": 81,
              "total_non_null_rows": 50511,
              "total_rows_inc_nulls": 50578,
              "value_count": 81
             },
             {
              "distinct_value_count": 4413,
              "group_name": "first_name",
              "percentile_ex_nulls": 0.3816990256309509,
              "percentile_inc_nulls": 0.38251811265945435,
              "sum_tokens_in_value_count_group": 160,
              "total_non_null_rows": 50511,
              "total_rows_inc_nulls": 50578,
              "value_count": 80
             },
             {
              "distinct_value_count": 4413,
              "group_name": "first_name",
              "percentile_ex_nulls": 0.3801349997520447,
              "percentile_inc_nulls": 0.38095617294311523,
              "sum_tokens_in_value_count_group": 79,
              "total_non_null_rows": 50511,
              "total_rows_inc_nulls": 50578,
              "value_count": 79
             },
             {
              "distinct_value_count": 4413,
              "group_name": "first_name",
              "percentile_ex_nulls": 0.37859082221984863,
              "percentile_inc_nulls": 0.3794139623641968,
              "sum_tokens_in_value_count_group": 78,
              "total_non_null_rows": 50511,
              "total_rows_inc_nulls": 50578,
              "value_count": 78
             },
             {
              "distinct_value_count": 4413,
              "group_name": "first_name",
              "percentile_ex_nulls": 0.37706637382507324,
              "percentile_inc_nulls": 0.3778916001319885,
              "sum_tokens_in_value_count_group": 77,
              "total_non_null_rows": 50511,
              "total_rows_inc_nulls": 50578,
              "value_count": 77
             },
             {
              "distinct_value_count": 4413,
              "group_name": "first_name",
              "percentile_ex_nulls": 0.37556177377700806,
              "percentile_inc_nulls": 0.3763889670372009,
              "sum_tokens_in_value_count_group": 76,
              "total_non_null_rows": 50511,
              "total_rows_inc_nulls": 50578,
              "value_count": 76
             },
             {
              "distinct_value_count": 4413,
              "group_name": "first_name",
              "percentile_ex_nulls": 0.3740769624710083,
              "percentile_inc_nulls": 0.374906063079834,
              "sum_tokens_in_value_count_group": 75,
              "total_non_null_rows": 50511,
              "total_rows_inc_nulls": 50578,
              "value_count": 75
             },
             {
              "distinct_value_count": 4413,
              "group_name": "first_name",
              "percentile_ex_nulls": 0.3726118803024292,
              "percentile_inc_nulls": 0.37344300746917725,
              "sum_tokens_in_value_count_group": 74,
              "total_non_null_rows": 50511,
              "total_rows_inc_nulls": 50578,
              "value_count": 74
             },
             {
              "distinct_value_count": 4413,
              "group_name": "first_name",
              "percentile_ex_nulls": 0.3697214722633362,
              "percentile_inc_nulls": 0.3705563545227051,
              "sum_tokens_in_value_count_group": 146,
              "total_non_null_rows": 50511,
              "total_rows_inc_nulls": 50578,
              "value_count": 73
             },
             {
              "distinct_value_count": 4413,
              "group_name": "first_name",
              "percentile_ex_nulls": 0.36687058210372925,
              "percentile_inc_nulls": 0.36770927906036377,
              "sum_tokens_in_value_count_group": 144,
              "total_non_null_rows": 50511,
              "total_rows_inc_nulls": 50578,
              "value_count": 72
             },
             {
              "distinct_value_count": 4413,
              "group_name": "first_name",
              "percentile_ex_nulls": 0.3654649257659912,
              "percentile_inc_nulls": 0.36630553007125854,
              "sum_tokens_in_value_count_group": 71,
              "total_non_null_rows": 50511,
              "total_rows_inc_nulls": 50578,
              "value_count": 71
             },
             {
              "distinct_value_count": 4413,
              "group_name": "first_name",
              "percentile_ex_nulls": 0.3640791177749634,
              "percentile_inc_nulls": 0.364921510219574,
              "sum_tokens_in_value_count_group": 70,
              "total_non_null_rows": 50511,
              "total_rows_inc_nulls": 50578,
              "value_count": 70
             },
             {
              "distinct_value_count": 4413,
              "group_name": "first_name",
              "percentile_ex_nulls": 0.362713098526001,
              "percentile_inc_nulls": 0.36355727910995483,
              "sum_tokens_in_value_count_group": 69,
              "total_non_null_rows": 50511,
              "total_rows_inc_nulls": 50578,
              "value_count": 69
             },
             {
              "distinct_value_count": 4413,
              "group_name": "first_name",
              "percentile_ex_nulls": 0.3586743474006653,
              "percentile_inc_nulls": 0.3595238924026489,
              "sum_tokens_in_value_count_group": 204,
              "total_non_null_rows": 50511,
              "total_rows_inc_nulls": 50578,
              "value_count": 68
             },
             {
              "distinct_value_count": 4413,
              "group_name": "first_name",
              "percentile_ex_nulls": 0.35734790563583374,
              "percentile_inc_nulls": 0.35819923877716064,
              "sum_tokens_in_value_count_group": 67,
              "total_non_null_rows": 50511,
              "total_rows_inc_nulls": 50578,
              "value_count": 67
             },
             {
              "distinct_value_count": 4413,
              "group_name": "first_name",
              "percentile_ex_nulls": 0.35606104135513306,
              "percentile_inc_nulls": 0.35691410303115845,
              "sum_tokens_in_value_count_group": 65,
              "total_non_null_rows": 50511,
              "total_rows_inc_nulls": 50578,
              "value_count": 65
             },
             {
              "distinct_value_count": 4413,
              "group_name": "first_name",
              "percentile_ex_nulls": 0.3547940254211426,
              "percentile_inc_nulls": 0.3556486964225769,
              "sum_tokens_in_value_count_group": 64,
              "total_non_null_rows": 50511,
              "total_rows_inc_nulls": 50578,
              "value_count": 64
             },
             {
              "distinct_value_count": 4413,
              "group_name": "first_name",
              "percentile_ex_nulls": 0.3522995114326477,
              "percentile_inc_nulls": 0.35315752029418945,
              "sum_tokens_in_value_count_group": 126,
              "total_non_null_rows": 50511,
              "total_rows_inc_nulls": 50578,
              "value_count": 63
             },
             {
              "distinct_value_count": 4413,
              "group_name": "first_name",
              "percentile_ex_nulls": 0.3510720729827881,
              "percentile_inc_nulls": 0.35193169116973877,
              "sum_tokens_in_value_count_group": 62,
              "total_non_null_rows": 50511,
              "total_rows_inc_nulls": 50578,
              "value_count": 62
             },
             {
              "distinct_value_count": 4413,
              "group_name": "first_name",
              "percentile_ex_nulls": 0.34744906425476074,
              "percentile_inc_nulls": 0.34831351041793823,
              "sum_tokens_in_value_count_group": 183,
              "total_non_null_rows": 50511,
              "total_rows_inc_nulls": 50578,
              "value_count": 61
             },
             {
              "distinct_value_count": 4413,
              "group_name": "first_name",
              "percentile_ex_nulls": 0.3427768349647522,
              "percentile_inc_nulls": 0.34364742040634155,
              "sum_tokens_in_value_count_group": 236,
              "total_non_null_rows": 50511,
              "total_rows_inc_nulls": 50578,
              "value_count": 59
             },
             {
              "distinct_value_count": 4413,
              "group_name": "first_name",
              "percentile_ex_nulls": 0.33933204412460327,
              "percentile_inc_nulls": 0.34020721912384033,
              "sum_tokens_in_value_count_group": 174,
              "total_non_null_rows": 50511,
              "total_rows_inc_nulls": 50578,
              "value_count": 58
             },
             {
              "distinct_value_count": 4413,
              "group_name": "first_name",
              "percentile_ex_nulls": 0.3382035493850708,
              "percentile_inc_nulls": 0.33908021450042725,
              "sum_tokens_in_value_count_group": 57,
              "total_non_null_rows": 50511,
              "total_rows_inc_nulls": 50578,
              "value_count": 57
             },
             {
              "distinct_value_count": 4413,
              "group_name": "first_name",
              "percentile_ex_nulls": 0.33709490299224854,
              "percentile_inc_nulls": 0.33797305822372437,
              "sum_tokens_in_value_count_group": 56,
              "total_non_null_rows": 50511,
              "total_rows_inc_nulls": 50578,
              "value_count": 56
             },
             {
              "distinct_value_count": 4413,
              "group_name": "first_name",
              "percentile_ex_nulls": 0.33602583408355713,
              "percentile_inc_nulls": 0.3369053602218628,
              "sum_tokens_in_value_count_group": 54,
              "total_non_null_rows": 50511,
              "total_rows_inc_nulls": 50578,
              "value_count": 54
             },
             {
              "distinct_value_count": 4413,
              "group_name": "first_name",
              "percentile_ex_nulls": 0.3328779935836792,
              "percentile_inc_nulls": 0.33376169204711914,
              "sum_tokens_in_value_count_group": 159,
              "total_non_null_rows": 50511,
              "total_rows_inc_nulls": 50578,
              "value_count": 53
             },
             {
              "distinct_value_count": 4413,
              "group_name": "first_name",
              "percentile_ex_nulls": 0.3287600874900818,
              "percentile_inc_nulls": 0.32964926958084106,
              "sum_tokens_in_value_count_group": 208,
              "total_non_null_rows": 50511,
              "total_rows_inc_nulls": 50578,
              "value_count": 52
             },
             {
              "distinct_value_count": 4413,
              "group_name": "first_name",
              "percentile_ex_nulls": 0.32674068212509155,
              "percentile_inc_nulls": 0.3276325464248657,
              "sum_tokens_in_value_count_group": 102,
              "total_non_null_rows": 50511,
              "total_rows_inc_nulls": 50578,
              "value_count": 51
             },
             {
              "distinct_value_count": 4413,
              "group_name": "first_name",
              "percentile_ex_nulls": 0.32575082778930664,
              "percentile_inc_nulls": 0.32664400339126587,
              "sum_tokens_in_value_count_group": 50,
              "total_non_null_rows": 50511,
              "total_rows_inc_nulls": 50578,
              "value_count": 50
             },
             {
              "distinct_value_count": 4413,
              "group_name": "first_name",
              "percentile_ex_nulls": 0.3238106369972229,
              "percentile_inc_nulls": 0.32470637559890747,
              "sum_tokens_in_value_count_group": 98,
              "total_non_null_rows": 50511,
              "total_rows_inc_nulls": 50578,
              "value_count": 49
             },
             {
              "distinct_value_count": 4413,
              "group_name": "first_name",
              "percentile_ex_nulls": 0.32095980644226074,
              "percentile_inc_nulls": 0.32185930013656616,
              "sum_tokens_in_value_count_group": 144,
              "total_non_null_rows": 50511,
              "total_rows_inc_nulls": 50578,
              "value_count": 48
             },
             {
              "distinct_value_count": 4413,
              "group_name": "first_name",
              "percentile_ex_nulls": 0.3200293183326721,
              "percentile_inc_nulls": 0.3209300637245178,
              "sum_tokens_in_value_count_group": 47,
              "total_non_null_rows": 50511,
              "total_rows_inc_nulls": 50578,
              "value_count": 47
             },
             {
              "distinct_value_count": 4413,
              "group_name": "first_name",
              "percentile_ex_nulls": 0.31729722023010254,
              "percentile_inc_nulls": 0.31820160150527954,
              "sum_tokens_in_value_count_group": 138,
              "total_non_null_rows": 50511,
              "total_rows_inc_nulls": 50578,
              "value_count": 46
             },
             {
              "distinct_value_count": 4413,
              "group_name": "first_name",
              "percentile_ex_nulls": 0.31373363733291626,
              "percentile_inc_nulls": 0.3146427273750305,
              "sum_tokens_in_value_count_group": 180,
              "total_non_null_rows": 50511,
              "total_rows_inc_nulls": 50578,
              "value_count": 45
             },
             {
              "distinct_value_count": 4413,
              "group_name": "first_name",
              "percentile_ex_nulls": 0.30937814712524414,
              "percentile_inc_nulls": 0.3102930188179016,
              "sum_tokens_in_value_count_group": 220,
              "total_non_null_rows": 50511,
              "total_rows_inc_nulls": 50578,
              "value_count": 44
             },
             {
              "distinct_value_count": 4413,
              "group_name": "first_name",
              "percentile_ex_nulls": 0.3076755404472351,
              "percentile_inc_nulls": 0.30859267711639404,
              "sum_tokens_in_value_count_group": 86,
              "total_non_null_rows": 50511,
              "total_rows_inc_nulls": 50578,
              "value_count": 43
             },
             {
              "distinct_value_count": 4413,
              "group_name": "first_name",
              "percentile_ex_nulls": 0.30434954166412354,
              "percentile_inc_nulls": 0.30527108907699585,
              "sum_tokens_in_value_count_group": 168,
              "total_non_null_rows": 50511,
              "total_rows_inc_nulls": 50578,
              "value_count": 42
             },
             {
              "distinct_value_count": 4413,
              "group_name": "first_name",
              "percentile_ex_nulls": 0.30353784561157227,
              "percentile_inc_nulls": 0.30446046590805054,
              "sum_tokens_in_value_count_group": 41,
              "total_non_null_rows": 50511,
              "total_rows_inc_nulls": 50578,
              "value_count": 41
             },
             {
              "distinct_value_count": 4413,
              "group_name": "first_name",
              "percentile_ex_nulls": 0.2987864017486572,
              "percentile_inc_nulls": 0.2997152805328369,
              "sum_tokens_in_value_count_group": 240,
              "total_non_null_rows": 50511,
              "total_rows_inc_nulls": 50578,
              "value_count": 40
             },
             {
              "distinct_value_count": 4413,
              "group_name": "first_name",
              "percentile_ex_nulls": 0.29569798707962036,
              "percentile_inc_nulls": 0.2966309189796448,
              "sum_tokens_in_value_count_group": 156,
              "total_non_null_rows": 50511,
              "total_rows_inc_nulls": 50578,
              "value_count": 39
             },
             {
              "distinct_value_count": 4413,
              "group_name": "first_name",
              "percentile_ex_nulls": 0.2934410572052002,
              "percentile_inc_nulls": 0.29437702894210815,
              "sum_tokens_in_value_count_group": 114,
              "total_non_null_rows": 50511,
              "total_rows_inc_nulls": 50578,
              "value_count": 38
             },
             {
              "distinct_value_count": 4413,
              "group_name": "first_name",
              "percentile_ex_nulls": 0.2912434935569763,
              "percentile_inc_nulls": 0.29218238592147827,
              "sum_tokens_in_value_count_group": 111,
              "total_non_null_rows": 50511,
              "total_rows_inc_nulls": 50578,
              "value_count": 37
             },
             {
              "distinct_value_count": 4413,
              "group_name": "first_name",
              "percentile_ex_nulls": 0.2891647219657898,
              "percentile_inc_nulls": 0.2901063561439514,
              "sum_tokens_in_value_count_group": 105,
              "total_non_null_rows": 50511,
              "total_rows_inc_nulls": 50578,
              "value_count": 35
             },
             {
              "distinct_value_count": 4413,
              "group_name": "first_name",
              "percentile_ex_nulls": 0.28579914569854736,
              "percentile_inc_nulls": 0.28674525022506714,
              "sum_tokens_in_value_count_group": 170,
              "total_non_null_rows": 50511,
              "total_rows_inc_nulls": 50578,
              "value_count": 34
             },
             {
              "distinct_value_count": 4413,
              "group_name": "first_name",
              "percentile_ex_nulls": 0.281879186630249,
              "percentile_inc_nulls": 0.28283047676086426,
              "sum_tokens_in_value_count_group": 198,
              "total_non_null_rows": 50511,
              "total_rows_inc_nulls": 50578,
              "value_count": 33
             },
             {
              "distinct_value_count": 4413,
              "group_name": "first_name",
              "percentile_ex_nulls": 0.2799786329269409,
              "percentile_inc_nulls": 0.2809324264526367,
              "sum_tokens_in_value_count_group": 96,
              "total_non_null_rows": 50511,
              "total_rows_inc_nulls": 50578,
              "value_count": 32
             },
             {
              "distinct_value_count": 4413,
              "group_name": "first_name",
              "percentile_ex_nulls": 0.2775236964225769,
              "percentile_inc_nulls": 0.27848076820373535,
              "sum_tokens_in_value_count_group": 124,
              "total_non_null_rows": 50511,
              "total_rows_inc_nulls": 50578,
              "value_count": 31
             },
             {
              "distinct_value_count": 4413,
              "group_name": "first_name",
              "percentile_ex_nulls": 0.27336621284484863,
              "percentile_inc_nulls": 0.2743287682533264,
              "sum_tokens_in_value_count_group": 210,
              "total_non_null_rows": 50511,
              "total_rows_inc_nulls": 50578,
              "value_count": 30
             },
             {
              "distinct_value_count": 4413,
              "group_name": "first_name",
              "percentile_ex_nulls": 0.27049553394317627,
              "percentile_inc_nulls": 0.2714619040489197,
              "sum_tokens_in_value_count_group": 145,
              "total_non_null_rows": 50511,
              "total_rows_inc_nulls": 50578,
              "value_count": 29
             },
             {
              "distinct_value_count": 4413,
              "group_name": "first_name",
              "percentile_ex_nulls": 0.26772385835647583,
              "percentile_inc_nulls": 0.2686939239501953,
              "sum_tokens_in_value_count_group": 140,
              "total_non_null_rows": 50511,
              "total_rows_inc_nulls": 50578,
              "value_count": 28
             },
             {
              "distinct_value_count": 4413,
              "group_name": "first_name",
              "percentile_ex_nulls": 0.2639821171760559,
              "percentile_inc_nulls": 0.264957070350647,
              "sum_tokens_in_value_count_group": 189,
              "total_non_null_rows": 50511,
              "total_rows_inc_nulls": 50578,
              "value_count": 27
             },
             {
              "distinct_value_count": 4413,
              "group_name": "first_name",
              "percentile_ex_nulls": 0.26037895679473877,
              "percentile_inc_nulls": 0.26135867834091187,
              "sum_tokens_in_value_count_group": 182,
              "total_non_null_rows": 50511,
              "total_rows_inc_nulls": 50578,
              "value_count": 26
             },
             {
              "distinct_value_count": 4413,
              "group_name": "first_name",
              "percentile_ex_nulls": 0.2579042315483093,
              "percentile_inc_nulls": 0.25888729095458984,
              "sum_tokens_in_value_count_group": 125,
              "total_non_null_rows": 50511,
              "total_rows_inc_nulls": 50578,
              "value_count": 25
             },
             {
              "distinct_value_count": 4413,
              "group_name": "first_name",
              "percentile_ex_nulls": 0.25410306453704834,
              "percentile_inc_nulls": 0.25509113073349,
              "sum_tokens_in_value_count_group": 192,
              "total_non_null_rows": 50511,
              "total_rows_inc_nulls": 50578,
              "value_count": 24
             },
             {
              "distinct_value_count": 4413,
              "group_name": "first_name",
              "percentile_ex_nulls": 0.25091564655303955,
              "percentile_inc_nulls": 0.25190794467926025,
              "sum_tokens_in_value_count_group": 161,
              "total_non_null_rows": 50511,
              "total_rows_inc_nulls": 50578,
              "value_count": 23
             },
             {
              "distinct_value_count": 4413,
              "group_name": "first_name",
              "percentile_ex_nulls": 0.24612462520599365,
              "percentile_inc_nulls": 0.24712324142456055,
              "sum_tokens_in_value_count_group": 242,
              "total_non_null_rows": 50511,
              "total_rows_inc_nulls": 50578,
              "value_count": 22
             },
             {
              "distinct_value_count": 4413,
              "group_name": "first_name",
              "percentile_ex_nulls": 0.2411355972290039,
              "percentile_inc_nulls": 0.24214082956314087,
              "sum_tokens_in_value_count_group": 252,
              "total_non_null_rows": 50511,
              "total_rows_inc_nulls": 50578,
              "value_count": 21
             },
             {
              "distinct_value_count": 4413,
              "group_name": "first_name",
              "percentile_ex_nulls": 0.23638415336608887,
              "percentile_inc_nulls": 0.23739570379257202,
              "sum_tokens_in_value_count_group": 240,
              "total_non_null_rows": 50511,
              "total_rows_inc_nulls": 50578,
              "value_count": 20
             },
             {
              "distinct_value_count": 4413,
              "group_name": "first_name",
              "percentile_ex_nulls": 0.22998952865600586,
              "percentile_inc_nulls": 0.23100954294204712,
              "sum_tokens_in_value_count_group": 323,
              "total_non_null_rows": 50511,
              "total_rows_inc_nulls": 50578,
              "value_count": 19
             },
             {
              "distinct_value_count": 4413,
              "group_name": "first_name",
              "percentile_ex_nulls": 0.2228623628616333,
              "percentile_inc_nulls": 0.22389179468154907,
              "sum_tokens_in_value_count_group": 360,
              "total_non_null_rows": 50511,
              "total_rows_inc_nulls": 50578,
              "value_count": 18
             },
             {
              "distinct_value_count": 4413,
              "group_name": "first_name",
              "percentile_ex_nulls": 0.2188236117362976,
              "percentile_inc_nulls": 0.21985840797424316,
              "sum_tokens_in_value_count_group": 204,
              "total_non_null_rows": 50511,
              "total_rows_inc_nulls": 50578,
              "value_count": 17
             },
             {
              "distinct_value_count": 4413,
              "group_name": "first_name",
              "percentile_ex_nulls": 0.20995426177978516,
              "percentile_inc_nulls": 0.21100085973739624,
              "sum_tokens_in_value_count_group": 448,
              "total_non_null_rows": 50511,
              "total_rows_inc_nulls": 50578,
              "value_count": 16
             },
             {
              "distinct_value_count": 4413,
              "group_name": "first_name",
              "percentile_ex_nulls": 0.20193618535995483,
              "percentile_inc_nulls": 0.20299339294433594,
              "sum_tokens_in_value_count_group": 405,
              "total_non_null_rows": 50511,
              "total_rows_inc_nulls": 50578,
              "value_count": 15
             },
             {
              "distinct_value_count": 4413,
              "group_name": "first_name",
              "percentile_ex_nulls": 0.194452702999115,
              "percentile_inc_nulls": 0.1955198049545288,
              "sum_tokens_in_value_count_group": 378,
              "total_non_null_rows": 50511,
              "total_rows_inc_nulls": 50578,
              "value_count": 14
             },
             {
              "distinct_value_count": 4413,
              "group_name": "first_name",
              "percentile_ex_nulls": 0.18158423900604248,
              "percentile_inc_nulls": 0.18266832828521729,
              "sum_tokens_in_value_count_group": 650,
              "total_non_null_rows": 50511,
              "total_rows_inc_nulls": 50578,
              "value_count": 13
             },
             {
              "distinct_value_count": 4413,
              "group_name": "first_name",
              "percentile_ex_nulls": 0.17279404401779175,
              "percentile_inc_nulls": 0.17388981580734253,
              "sum_tokens_in_value_count_group": 444,
              "total_non_null_rows": 50511,
              "total_rows_inc_nulls": 50578,
              "value_count": 12
             },
             {
              "distinct_value_count": 4413,
              "group_name": "first_name",
              "percentile_ex_nulls": 0.16538971662521362,
              "percentile_inc_nulls": 0.16649532318115234,
              "sum_tokens_in_value_count_group": 374,
              "total_non_null_rows": 50511,
              "total_rows_inc_nulls": 50578,
              "value_count": 11
             },
             {
              "distinct_value_count": 4413,
              "group_name": "first_name",
              "percentile_ex_nulls": 0.15588682889938354,
              "percentile_inc_nulls": 0.15700501203536987,
              "sum_tokens_in_value_count_group": 480,
              "total_non_null_rows": 50511,
              "total_rows_inc_nulls": 50578,
              "value_count": 10
             },
             {
              "distinct_value_count": 4413,
              "group_name": "first_name",
              "percentile_ex_nulls": 0.14394885301589966,
              "percentile_inc_nulls": 0.14508283138275146,
              "sum_tokens_in_value_count_group": 603,
              "total_non_null_rows": 50511,
              "total_rows_inc_nulls": 50578,
              "value_count": 9
             },
             {
              "distinct_value_count": 4413,
              "group_name": "first_name",
              "percentile_ex_nulls": 0.13143670558929443,
              "percentile_inc_nulls": 0.13258731365203857,
              "sum_tokens_in_value_count_group": 632,
              "total_non_null_rows": 50511,
              "total_rows_inc_nulls": 50578,
              "value_count": 8
             },
             {
              "distinct_value_count": 4413,
              "group_name": "first_name",
              "percentile_ex_nulls": 0.12145870923995972,
              "percentile_inc_nulls": 0.12262248992919922,
              "sum_tokens_in_value_count_group": 504,
              "total_non_null_rows": 50511,
              "total_rows_inc_nulls": 50578,
              "value_count": 7
             },
             {
              "distinct_value_count": 4413,
              "group_name": "first_name",
              "percentile_ex_nulls": 0.11076796054840088,
              "percentile_inc_nulls": 0.11194592714309692,
              "sum_tokens_in_value_count_group": 540,
              "total_non_null_rows": 50511,
              "total_rows_inc_nulls": 50578,
              "value_count": 6
             },
             {
              "distinct_value_count": 4413,
              "group_name": "first_name",
              "percentile_ex_nulls": 0.10017621517181396,
              "percentile_inc_nulls": 0.10136818885803223,
              "sum_tokens_in_value_count_group": 535,
              "total_non_null_rows": 50511,
              "total_rows_inc_nulls": 50578,
              "value_count": 5
             },
             {
              "distinct_value_count": 4413,
              "group_name": "first_name",
              "percentile_ex_nulls": 0.08655542135238647,
              "percentile_inc_nulls": 0.08776545524597168,
              "sum_tokens_in_value_count_group": 688,
              "total_non_null_rows": 50511,
              "total_rows_inc_nulls": 50578,
              "value_count": 4
             },
             {
              "distinct_value_count": 4413,
              "group_name": "first_name",
              "percentile_ex_nulls": 0.0702817440032959,
              "percentile_inc_nulls": 0.07151329517364502,
              "sum_tokens_in_value_count_group": 822,
              "total_non_null_rows": 50511,
              "total_rows_inc_nulls": 50578,
              "value_count": 3
             },
             {
              "distinct_value_count": 4413,
              "group_name": "first_name",
              "percentile_ex_nulls": 0.047276854515075684,
              "percentile_inc_nulls": 0.04853886365890503,
              "sum_tokens_in_value_count_group": 1162,
              "total_non_null_rows": 50511,
              "total_rows_inc_nulls": 50578,
              "value_count": 2
             },
             {
              "distinct_value_count": 4413,
              "group_name": "first_name",
              "percentile_ex_nulls": 0,
              "percentile_inc_nulls": 0.0013247132301330566,
              "sum_tokens_in_value_count_group": 2388,
              "total_non_null_rows": 50511,
              "total_rows_inc_nulls": 50578,
              "value_count": 1
             },
             {
              "distinct_value_count": 4413,
              "group_name": "first_name",
              "percentile_ex_nulls": 1,
              "percentile_inc_nulls": 1,
              "sum_tokens_in_value_count_group": 2780,
              "total_non_null_rows": 50511,
              "total_rows_inc_nulls": 50578,
              "value_count": 2780
             }
            ]
           },
           "encoding": {
            "tooltip": [
             {
              "field": "value_count",
              "type": "quantitative"
             },
             {
              "field": "percentile_ex_nulls",
              "type": "quantitative"
             },
             {
              "field": "percentile_inc_nulls",
              "type": "quantitative"
             },
             {
              "field": "total_non_null_rows",
              "type": "quantitative"
             },
             {
              "field": "total_rows_inc_nulls",
              "type": "quantitative"
             }
            ],
            "x": {
             "field": "percentile_ex_nulls",
             "sort": "descending",
             "title": "Percentile",
             "type": "quantitative"
            },
            "y": {
             "field": "value_count",
             "title": "Count of values",
             "type": "quantitative"
            }
           },
           "mark": {
            "interpolate": "step-after",
            "type": "line"
           },
           "title": {
            "subtitle": "In this col, 67 values (0.1%) are null and there are 4413 distinct values",
            "text": "Distribution of counts of values in column first_name"
           }
          },
          {
           "data": {
            "values": [
             {
              "distinct_value_count": 4413,
              "group_name": "first_name",
              "total_non_null_rows": 50511,
              "total_rows_inc_nulls": 50578,
              "value": "william",
              "value_count": 2780
             },
             {
              "distinct_value_count": 4413,
              "group_name": "first_name",
              "total_non_null_rows": 50511,
              "total_rows_inc_nulls": 50578,
              "value": "john",
              "value_count": 2736
             },
             {
              "distinct_value_count": 4413,
              "group_name": "first_name",
              "total_non_null_rows": 50511,
              "total_rows_inc_nulls": 50578,
              "value": "thomas",
              "value_count": 1448
             },
             {
              "distinct_value_count": 4413,
              "group_name": "first_name",
              "total_non_null_rows": 50511,
              "total_rows_inc_nulls": 50578,
              "value": "george",
              "value_count": 1415
             },
             {
              "distinct_value_count": 4413,
              "group_name": "first_name",
              "total_non_null_rows": 50511,
              "total_rows_inc_nulls": 50578,
              "value": "henry",
              "value_count": 1306
             },
             {
              "distinct_value_count": 4413,
              "group_name": "first_name",
              "total_non_null_rows": 50511,
              "total_rows_inc_nulls": 50578,
              "value": "james",
              "value_count": 1265
             },
             {
              "distinct_value_count": 4413,
              "group_name": "first_name",
              "total_non_null_rows": 50511,
              "total_rows_inc_nulls": 50578,
              "value": "sir",
              "value_count": 1262
             },
             {
              "distinct_value_count": 4413,
              "group_name": "first_name",
              "total_non_null_rows": 50511,
              "total_rows_inc_nulls": 50578,
              "value": "charles",
              "value_count": 1216
             },
             {
              "distinct_value_count": 4413,
              "group_name": "first_name",
              "total_non_null_rows": 50511,
              "total_rows_inc_nulls": 50578,
              "value": "edward",
              "value_count": 911
             },
             {
              "distinct_value_count": 4413,
              "group_name": "first_name",
              "total_non_null_rows": 50511,
              "total_rows_inc_nulls": 50578,
              "value": "robert",
              "value_count": 884
             }
            ]
           },
           "encoding": {
            "tooltip": [
             {
              "field": "value",
              "type": "nominal"
             },
             {
              "field": "value_count",
              "type": "quantitative"
             },
             {
              "field": "total_non_null_rows",
              "type": "quantitative"
             },
             {
              "field": "total_rows_inc_nulls",
              "type": "quantitative"
             }
            ],
            "x": {
             "field": "value",
             "sort": "-y",
             "title": null,
             "type": "nominal"
            },
            "y": {
             "field": "value_count",
             "title": "Value count",
             "type": "quantitative"
            }
           },
           "mark": "bar",
           "title": "Top 10 values by value count"
          },
          {
           "data": {
            "values": [
             {
              "distinct_value_count": 4413,
              "group_name": "first_name",
              "total_non_null_rows": 50511,
              "total_rows_inc_nulls": 50578,
              "value": "clifford,",
              "value_count": 1
             },
             {
              "distinct_value_count": 4413,
              "group_name": "first_name",
              "total_non_null_rows": 50511,
              "total_rows_inc_nulls": 50578,
              "value": "feank",
              "value_count": 1
             },
             {
              "distinct_value_count": 4413,
              "group_name": "first_name",
              "total_non_null_rows": 50511,
              "total_rows_inc_nulls": 50578,
              "value": "jerald",
              "value_count": 1
             },
             {
              "distinct_value_count": 4413,
              "group_name": "first_name",
              "total_non_null_rows": 50511,
              "total_rows_inc_nulls": 50578,
              "value": "watts",
              "value_count": 1
             },
             {
              "distinct_value_count": 4413,
              "group_name": "first_name",
              "total_non_null_rows": 50511,
              "total_rows_inc_nulls": 50578,
              "value": "pzul",
              "value_count": 1
             }
            ]
           },
           "encoding": {
            "tooltip": [
             {
              "field": "value",
              "type": "nominal"
             },
             {
              "field": "value_count",
              "type": "quantitative"
             },
             {
              "field": "total_non_null_rows",
              "type": "quantitative"
             },
             {
              "field": "total_rows_inc_nulls",
              "type": "quantitative"
             }
            ],
            "x": {
             "field": "value",
             "sort": "-y",
             "title": null,
             "type": "nominal"
            },
            "y": {
             "field": "value_count",
             "scale": {
              "domain": [
               0,
               2780
              ]
             },
             "title": "Value count",
             "type": "quantitative"
            }
           },
           "mark": "bar",
           "title": "Bottom 5 values by value count"
          }
         ]
        },
        {
         "hconcat": [
          {
           "data": {
            "values": [
             {
              "distinct_value_count": 12363,
              "group_name": "postcode_fake",
              "percentile_ex_nulls": 0.9991315603256226,
              "percentile_inc_nulls": 0.9993277788162231,
              "sum_tokens_in_value_count_group": 34,
              "total_non_null_rows": 39152,
              "total_rows_inc_nulls": 50578,
              "value_count": 34
             },
             {
              "distinct_value_count": 12363,
              "group_name": "postcode_fake",
              "percentile_ex_nulls": 0.9955557584762573,
              "percentile_inc_nulls": 0.9965597987174988,
              "sum_tokens_in_value_count_group": 140,
              "total_non_null_rows": 39152,
              "total_rows_inc_nulls": 50578,
              "value_count": 28
             },
             {
              "distinct_value_count": 12363,
              "group_name": "postcode_fake",
              "percentile_ex_nulls": 0.9941765666007996,
              "percentile_inc_nulls": 0.9954921007156372,
              "sum_tokens_in_value_count_group": 54,
              "total_non_null_rows": 39152,
              "total_rows_inc_nulls": 50578,
              "value_count": 27
             },
             {
              "distinct_value_count": 12363,
              "group_name": "postcode_fake",
              "percentile_ex_nulls": 0.9935380220413208,
              "percentile_inc_nulls": 0.9949977993965149,
              "sum_tokens_in_value_count_group": 25,
              "total_non_null_rows": 39152,
              "total_rows_inc_nulls": 50578,
              "value_count": 25
             },
             {
              "distinct_value_count": 12363,
              "group_name": "postcode_fake",
              "percentile_ex_nulls": 0.9929249882698059,
              "percentile_inc_nulls": 0.994523286819458,
              "sum_tokens_in_value_count_group": 24,
              "total_non_null_rows": 39152,
              "total_rows_inc_nulls": 50578,
              "value_count": 24
             },
             {
              "distinct_value_count": 12363,
              "group_name": "postcode_fake",
              "percentile_ex_nulls": 0.9923630952835083,
              "percentile_inc_nulls": 0.994088351726532,
              "sum_tokens_in_value_count_group": 22,
              "total_non_null_rows": 39152,
              "total_rows_inc_nulls": 50578,
              "value_count": 22
             },
             {
              "distinct_value_count": 12363,
              "group_name": "postcode_fake",
              "percentile_ex_nulls": 0.9912903308868408,
              "percentile_inc_nulls": 0.9932579398155212,
              "sum_tokens_in_value_count_group": 42,
              "total_non_null_rows": 39152,
              "total_rows_inc_nulls": 50578,
              "value_count": 21
             },
             {
              "distinct_value_count": 12363,
              "group_name": "postcode_fake",
              "percentile_ex_nulls": 0.9902687072753906,
              "percentile_inc_nulls": 0.9924671053886414,
              "sum_tokens_in_value_count_group": 40,
              "total_non_null_rows": 39152,
              "total_rows_inc_nulls": 50578,
              "value_count": 20
             },
             {
              "distinct_value_count": 12363,
              "group_name": "postcode_fake",
              "percentile_ex_nulls": 0.9892981052398682,
              "percentile_inc_nulls": 0.9917157888412476,
              "sum_tokens_in_value_count_group": 38,
              "total_non_null_rows": 39152,
              "total_rows_inc_nulls": 50578,
              "value_count": 19
             },
             {
              "distinct_value_count": 12363,
              "group_name": "postcode_fake",
              "percentile_ex_nulls": 0.9856201410293579,
              "percentile_inc_nulls": 0.9888686537742615,
              "sum_tokens_in_value_count_group": 144,
              "total_non_null_rows": 39152,
              "total_rows_inc_nulls": 50578,
              "value_count": 18
             },
             {
              "distinct_value_count": 12363,
              "group_name": "postcode_fake",
              "percentile_ex_nulls": 0.9830149412155151,
              "percentile_inc_nulls": 0.9868519902229309,
              "sum_tokens_in_value_count_group": 102,
              "total_non_null_rows": 39152,
              "total_rows_inc_nulls": 50578,
              "value_count": 17
             },
             {
              "distinct_value_count": 12363,
              "group_name": "postcode_fake",
              "percentile_ex_nulls": 0.9772936105728149,
              "percentile_inc_nulls": 0.9824231863021851,
              "sum_tokens_in_value_count_group": 224,
              "total_non_null_rows": 39152,
              "total_rows_inc_nulls": 50578,
              "value_count": 16
             },
             {
              "distinct_value_count": 12363,
              "group_name": "postcode_fake",
              "percentile_ex_nulls": 0.9642674922943115,
              "percentile_inc_nulls": 0.9723397493362427,
              "sum_tokens_in_value_count_group": 510,
              "total_non_null_rows": 39152,
              "total_rows_inc_nulls": 50578,
              "value_count": 15
             },
             {
              "distinct_value_count": 12363,
              "group_name": "postcode_fake",
              "percentile_ex_nulls": 0.9413822889328003,
              "percentile_inc_nulls": 0.9546245336532593,
              "sum_tokens_in_value_count_group": 896,
              "total_non_null_rows": 39152,
              "total_rows_inc_nulls": 50578,
              "value_count": 14
             },
             {
              "distinct_value_count": 12363,
              "group_name": "postcode_fake",
              "percentile_ex_nulls": 0.9061861634254456,
              "percentile_inc_nulls": 0.9273794889450073,
              "sum_tokens_in_value_count_group": 1378,
              "total_non_null_rows": 39152,
              "total_rows_inc_nulls": 50578,
              "value_count": 13
             },
             {
              "distinct_value_count": 12363,
              "group_name": "postcode_fake",
              "percentile_ex_nulls": 0.8565335273742676,
              "percentile_inc_nulls": 0.8889437913894653,
              "sum_tokens_in_value_count_group": 1944,
              "total_non_null_rows": 39152,
              "total_rows_inc_nulls": 50578,
              "value_count": 12
             },
             {
              "distinct_value_count": 12363,
              "group_name": "postcode_fake",
              "percentile_ex_nulls": 0.7893849611282349,
              "percentile_inc_nulls": 0.8369646668434143,
              "sum_tokens_in_value_count_group": 2629,
              "total_non_null_rows": 39152,
              "total_rows_inc_nulls": 50578,
              "value_count": 11
             },
             {
              "distinct_value_count": 12363,
              "group_name": "postcode_fake",
              "percentile_ex_nulls": 0.7117388248443604,
              "percentile_inc_nulls": 0.7768595218658447,
              "sum_tokens_in_value_count_group": 3040,
              "total_non_null_rows": 39152,
              "total_rows_inc_nulls": 50578,
              "value_count": 10
             },
             {
              "distinct_value_count": 12363,
              "group_name": "postcode_fake",
              "percentile_ex_nulls": 0.6372599005699158,
              "percentile_inc_nulls": 0.7192059755325317,
              "sum_tokens_in_value_count_group": 2916,
              "total_non_null_rows": 39152,
              "total_rows_inc_nulls": 50578,
              "value_count": 9
             },
             {
              "distinct_value_count": 12363,
              "group_name": "postcode_fake",
              "percentile_ex_nulls": 0.5657438039779663,
              "percentile_inc_nulls": 0.6638458967208862,
              "sum_tokens_in_value_count_group": 2800,
              "total_non_null_rows": 39152,
              "total_rows_inc_nulls": 50578,
              "value_count": 8
             },
             {
              "distinct_value_count": 12363,
              "group_name": "postcode_fake",
              "percentile_ex_nulls": 0.4999489188194275,
              "percentile_inc_nulls": 0.6129146814346313,
              "sum_tokens_in_value_count_group": 2576,
              "total_non_null_rows": 39152,
              "total_rows_inc_nulls": 50578,
              "value_count": 7
             },
             {
              "distinct_value_count": 12363,
              "group_name": "postcode_fake",
              "percentile_ex_nulls": 0.4349713921546936,
              "percentile_inc_nulls": 0.5626161694526672,
              "sum_tokens_in_value_count_group": 2544,
              "total_non_null_rows": 39152,
              "total_rows_inc_nulls": 50578,
              "value_count": 6
             },
             {
              "distinct_value_count": 12363,
              "group_name": "postcode_fake",
              "percentile_ex_nulls": 0.3731610178947449,
              "percentile_inc_nulls": 0.5147692561149597,
              "sum_tokens_in_value_count_group": 2420,
              "total_non_null_rows": 39152,
              "total_rows_inc_nulls": 50578,
              "value_count": 5
             },
             {
              "distinct_value_count": 12363,
              "group_name": "postcode_fake",
              "percentile_ex_nulls": 0.3146199584007263,
              "percentile_inc_nulls": 0.4694530963897705,
              "sum_tokens_in_value_count_group": 2292,
              "total_non_null_rows": 39152,
              "total_rows_inc_nulls": 50578,
              "value_count": 4
             },
             {
              "distinct_value_count": 12363,
              "group_name": "postcode_fake",
              "percentile_ex_nulls": 0.24496835470199585,
              "percentile_inc_nulls": 0.41553640365600586,
              "sum_tokens_in_value_count_group": 2727,
              "total_non_null_rows": 39152,
              "total_rows_inc_nulls": 50578,
              "value_count": 3
             },
             {
              "distinct_value_count": 12363,
              "group_name": "postcode_fake",
              "percentile_ex_nulls": 0.1625204086303711,
              "percentile_inc_nulls": 0.35171419382095337,
              "sum_tokens_in_value_count_group": 3228,
              "total_non_null_rows": 39152,
              "total_rows_inc_nulls": 50578,
              "value_count": 2
             },
             {
              "distinct_value_count": 12363,
              "group_name": "postcode_fake",
              "percentile_ex_nulls": 0,
              "percentile_inc_nulls": 0.22590851783752441,
              "sum_tokens_in_value_count_group": 6363,
              "total_non_null_rows": 39152,
              "total_rows_inc_nulls": 50578,
              "value_count": 1
             },
             {
              "distinct_value_count": 12363,
              "group_name": "postcode_fake",
              "percentile_ex_nulls": 1,
              "percentile_inc_nulls": 1,
              "sum_tokens_in_value_count_group": 34,
              "total_non_null_rows": 39152,
              "total_rows_inc_nulls": 50578,
              "value_count": 34
             }
            ]
           },
           "encoding": {
            "tooltip": [
             {
              "field": "value_count",
              "type": "quantitative"
             },
             {
              "field": "percentile_ex_nulls",
              "type": "quantitative"
             },
             {
              "field": "percentile_inc_nulls",
              "type": "quantitative"
             },
             {
              "field": "total_non_null_rows",
              "type": "quantitative"
             },
             {
              "field": "total_rows_inc_nulls",
              "type": "quantitative"
             }
            ],
            "x": {
             "field": "percentile_ex_nulls",
             "sort": "descending",
             "title": "Percentile",
             "type": "quantitative"
            },
            "y": {
             "field": "value_count",
             "title": "Count of values",
             "type": "quantitative"
            }
           },
           "mark": {
            "interpolate": "step-after",
            "type": "line"
           },
           "title": {
            "subtitle": "In this col, 11,426 values (22.6%) are null and there are 12363 distinct values",
            "text": "Distribution of counts of values in column postcode_fake"
           }
          },
          {
           "data": {
            "values": [
             {
              "distinct_value_count": 12363,
              "group_name": "postcode_fake",
              "total_non_null_rows": 39152,
              "total_rows_inc_nulls": 50578,
              "value": "se1 7sg",
              "value_count": 34
             },
             {
              "distinct_value_count": 12363,
              "group_name": "postcode_fake",
              "total_non_null_rows": 39152,
              "total_rows_inc_nulls": 50578,
              "value": "sw1p 3pl",
              "value_count": 28
             },
             {
              "distinct_value_count": 12363,
              "group_name": "postcode_fake",
              "total_non_null_rows": 39152,
              "total_rows_inc_nulls": 50578,
              "value": "l3 0ah",
              "value_count": 28
             },
             {
              "distinct_value_count": 12363,
              "group_name": "postcode_fake",
              "total_non_null_rows": 39152,
              "total_rows_inc_nulls": 50578,
              "value": "sw1a 2jh",
              "value_count": 28
             },
             {
              "distinct_value_count": 12363,
              "group_name": "postcode_fake",
              "total_non_null_rows": 39152,
              "total_rows_inc_nulls": 50578,
              "value": "sw1h 9aa",
              "value_count": 28
             },
             {
              "distinct_value_count": 12363,
              "group_name": "postcode_fake",
              "total_non_null_rows": 39152,
              "total_rows_inc_nulls": 50578,
              "value": "se1 8xz",
              "value_count": 28
             },
             {
              "distinct_value_count": 12363,
              "group_name": "postcode_fake",
              "total_non_null_rows": 39152,
              "total_rows_inc_nulls": 50578,
              "value": "pl1 3dq",
              "value_count": 27
             },
             {
              "distinct_value_count": 12363,
              "group_name": "postcode_fake",
              "total_non_null_rows": 39152,
              "total_rows_inc_nulls": 50578,
              "value": "sw1a 2bj",
              "value_count": 27
             },
             {
              "distinct_value_count": 12363,
              "group_name": "postcode_fake",
              "total_non_null_rows": 39152,
              "total_rows_inc_nulls": 50578,
              "value": "se1 7eh",
              "value_count": 25
             },
             {
              "distinct_value_count": 12363,
              "group_name": "postcode_fake",
              "total_non_null_rows": 39152,
              "total_rows_inc_nulls": 50578,
              "value": "s8 8ly",
              "value_count": 24
             }
            ]
           },
           "encoding": {
            "tooltip": [
             {
              "field": "value",
              "type": "nominal"
             },
             {
              "field": "value_count",
              "type": "quantitative"
             },
             {
              "field": "total_non_null_rows",
              "type": "quantitative"
             },
             {
              "field": "total_rows_inc_nulls",
              "type": "quantitative"
             }
            ],
            "x": {
             "field": "value",
             "sort": "-y",
             "title": null,
             "type": "nominal"
            },
            "y": {
             "field": "value_count",
             "title": "Value count",
             "type": "quantitative"
            }
           },
           "mark": "bar",
           "title": "Top 10 values by value count"
          },
          {
           "data": {
            "values": [
             {
              "distinct_value_count": 12363,
              "group_name": "postcode_fake",
              "total_non_null_rows": 39152,
              "total_rows_inc_nulls": 50578,
              "value": "gl55 6js",
              "value_count": 1
             },
             {
              "distinct_value_count": 12363,
              "group_name": "postcode_fake",
              "total_non_null_rows": 39152,
              "total_rows_inc_nulls": 50578,
              "value": "b79 3tw",
              "value_count": 1
             },
             {
              "distinct_value_count": 12363,
              "group_name": "postcode_fake",
              "total_non_null_rows": 39152,
              "total_rows_inc_nulls": 50578,
              "value": "ch62 3ph",
              "value_count": 1
             },
             {
              "distinct_value_count": 12363,
              "group_name": "postcode_fake",
              "total_non_null_rows": 39152,
              "total_rows_inc_nulls": 50578,
              "value": "dn37 0pt",
              "value_count": 1
             },
             {
              "distinct_value_count": 12363,
              "group_name": "postcode_fake",
              "total_non_null_rows": 39152,
              "total_rows_inc_nulls": 50578,
              "value": "se1 9rq",
              "value_count": 1
             }
            ]
           },
           "encoding": {
            "tooltip": [
             {
              "field": "value",
              "type": "nominal"
             },
             {
              "field": "value_count",
              "type": "quantitative"
             },
             {
              "field": "total_non_null_rows",
              "type": "quantitative"
             },
             {
              "field": "total_rows_inc_nulls",
              "type": "quantitative"
             }
            ],
            "x": {
             "field": "value",
             "sort": "-y",
             "title": null,
             "type": "nominal"
            },
            "y": {
             "field": "value_count",
             "scale": {
              "domain": [
               0,
               34
              ]
             },
             "title": "Value count",
             "type": "quantitative"
            }
           },
           "mark": "bar",
           "title": "Bottom 5 values by value count"
          }
         ]
        },
        {
         "hconcat": [
          {
           "data": {
            "values": [
             {
              "distinct_value_count": 537,
              "group_name": "substr_dob_1_4_",
              "percentile_ex_nulls": 0.9430503845214844,
              "percentile_inc_nulls": 0.9558899402618408,
              "sum_tokens_in_value_count_group": 2231,
              "total_non_null_rows": 39175,
              "total_rows_inc_nulls": 50578,
              "value_count": 2231
             },
             {
              "distinct_value_count": 537,
              "group_name": "substr_dob_1_4_",
              "percentile_ex_nulls": 0.8983024954795837,
              "percentile_inc_nulls": 0.9212305545806885,
              "sum_tokens_in_value_count_group": 1753,
              "total_non_null_rows": 39175,
              "total_rows_inc_nulls": 50578,
              "value_count": 1753
             },
             {
              "distinct_value_count": 537,
              "group_name": "substr_dob_1_4_",
              "percentile_ex_nulls": 0.8536056280136108,
              "percentile_inc_nulls": 0.886610746383667,
              "sum_tokens_in_value_count_group": 1751,
              "total_non_null_rows": 39175,
              "total_rows_inc_nulls": 50578,
              "value_count": 1751
             },
             {
              "distinct_value_count": 537,
              "group_name": "substr_dob_1_4_",
              "percentile_ex_nulls": 0.8123548030853271,
              "percentile_inc_nulls": 0.854660153388977,
              "sum_tokens_in_value_count_group": 1616,
              "total_non_null_rows": 39175,
              "total_rows_inc_nulls": 50578,
              "value_count": 1616
             },
             {
              "distinct_value_count": 537,
              "group_name": "substr_dob_1_4_",
              "percentile_ex_nulls": 0.7715379595756531,
              "percentile_inc_nulls": 0.8230456113815308,
              "sum_tokens_in_value_count_group": 1599,
              "total_non_null_rows": 39175,
              "total_rows_inc_nulls": 50578,
              "value_count": 1599
             },
             {
              "distinct_value_count": 537,
              "group_name": "substr_dob_1_4_",
              "percentile_ex_nulls": 0.7308487892150879,
              "percentile_inc_nulls": 0.7915298938751221,
              "sum_tokens_in_value_count_group": 1594,
              "total_non_null_rows": 39175,
              "total_rows_inc_nulls": 50578,
              "value_count": 1594
             },
             {
              "distinct_value_count": 537,
              "group_name": "substr_dob_1_4_",
              "percentile_ex_nulls": 0.6960816979408264,
              "percentile_inc_nulls": 0.7646012306213379,
              "sum_tokens_in_value_count_group": 1362,
              "total_non_null_rows": 39175,
              "total_rows_inc_nulls": 50578,
              "value_count": 1362
             },
             {
              "distinct_value_count": 537,
              "group_name": "substr_dob_1_4_",
              "percentile_ex_nulls": 0.662922739982605,
              "percentile_inc_nulls": 0.7389180660247803,
              "sum_tokens_in_value_count_group": 1299,
              "total_non_null_rows": 39175,
              "total_rows_inc_nulls": 50578,
              "value_count": 1299
             },
             {
              "distinct_value_count": 537,
              "group_name": "substr_dob_1_4_",
              "percentile_ex_nulls": 0.6321889162063599,
              "percentile_inc_nulls": 0.7151132822036743,
              "sum_tokens_in_value_count_group": 1204,
              "total_non_null_rows": 39175,
              "total_rows_inc_nulls": 50578,
              "value_count": 1204
             },
             {
              "distinct_value_count": 537,
              "group_name": "substr_dob_1_4_",
              "percentile_ex_nulls": 0.6024760603904724,
              "percentile_inc_nulls": 0.6920993328094482,
              "sum_tokens_in_value_count_group": 1164,
              "total_non_null_rows": 39175,
              "total_rows_inc_nulls": 50578,
              "value_count": 1164
             },
             {
              "distinct_value_count": 537,
              "group_name": "substr_dob_1_4_",
              "percentile_ex_nulls": 0.5732482671737671,
              "percentile_inc_nulls": 0.6694610118865967,
              "sum_tokens_in_value_count_group": 1145,
              "total_non_null_rows": 39175,
              "total_rows_inc_nulls": 50578,
              "value_count": 1145
             },
             {
              "distinct_value_count": 537,
              "group_name": "substr_dob_1_4_",
              "percentile_ex_nulls": 0.5462412238121033,
              "percentile_inc_nulls": 0.6485428810119629,
              "sum_tokens_in_value_count_group": 1058,
              "total_non_null_rows": 39175,
              "total_rows_inc_nulls": 50578,
              "value_count": 1058
             },
             {
              "distinct_value_count": 537,
              "group_name": "substr_dob_1_4_",
              "percentile_ex_nulls": 0.5202552676200867,
              "percentile_inc_nulls": 0.6284155249595642,
              "sum_tokens_in_value_count_group": 1018,
              "total_non_null_rows": 39175,
              "total_rows_inc_nulls": 50578,
              "value_count": 1018
             },
             {
              "distinct_value_count": 537,
              "group_name": "substr_dob_1_4_",
              "percentile_ex_nulls": 0.500906229019165,
              "percentile_inc_nulls": 0.6134287714958191,
              "sum_tokens_in_value_count_group": 758,
              "total_non_null_rows": 39175,
              "total_rows_inc_nulls": 50578,
              "value_count": 758
             },
             {
              "distinct_value_count": 537,
              "group_name": "substr_dob_1_4_",
              "percentile_ex_nulls": 0.48467135429382324,
              "percentile_inc_nulls": 0.6008541584014893,
              "sum_tokens_in_value_count_group": 636,
              "total_non_null_rows": 39175,
              "total_rows_inc_nulls": 50578,
              "value_count": 636
             },
             {
              "distinct_value_count": 537,
              "group_name": "substr_dob_1_4_",
              "percentile_ex_nulls": 0.4693554639816284,
              "percentile_inc_nulls": 0.5889912843704224,
              "sum_tokens_in_value_count_group": 600,
              "total_non_null_rows": 39175,
              "total_rows_inc_nulls": 50578,
              "value_count": 600
             },
             {
              "distinct_value_count": 537,
              "group_name": "substr_dob_1_4_",
              "percentile_ex_nulls": 0.4556732773780823,
              "percentile_inc_nulls": 0.5783937573432922,
              "sum_tokens_in_value_count_group": 536,
              "total_non_null_rows": 39175,
              "total_rows_inc_nulls": 50578,
              "value_count": 536
             },
             {
              "distinct_value_count": 537,
              "group_name": "substr_dob_1_4_",
              "percentile_ex_nulls": 0.4441097378730774,
              "percentile_inc_nulls": 0.5694372653961182,
              "sum_tokens_in_value_count_group": 453,
              "total_non_null_rows": 39175,
              "total_rows_inc_nulls": 50578,
              "value_count": 453
             },
             {
              "distinct_value_count": 537,
              "group_name": "substr_dob_1_4_",
              "percentile_ex_nulls": 0.4328015446662903,
              "percentile_inc_nulls": 0.5606785416603088,
              "sum_tokens_in_value_count_group": 443,
              "total_non_null_rows": 39175,
              "total_rows_inc_nulls": 50578,
              "value_count": 443
             },
             {
              "distinct_value_count": 537,
              "group_name": "substr_dob_1_4_",
              "percentile_ex_nulls": 0.42269307374954224,
              "percentile_inc_nulls": 0.5528490543365479,
              "sum_tokens_in_value_count_group": 396,
              "total_non_null_rows": 39175,
              "total_rows_inc_nulls": 50578,
              "value_count": 396
             },
             {
              "distinct_value_count": 537,
              "group_name": "substr_dob_1_4_",
              "percentile_ex_nulls": 0.4129674434661865,
              "percentile_inc_nulls": 0.5453161597251892,
              "sum_tokens_in_value_count_group": 381,
              "total_non_null_rows": 39175,
              "total_rows_inc_nulls": 50578,
              "value_count": 381
             },
             {
              "distinct_value_count": 537,
              "group_name": "substr_dob_1_4_",
              "percentile_ex_nulls": 0.4039565920829773,
              "percentile_inc_nulls": 0.5383368134498596,
              "sum_tokens_in_value_count_group": 353,
              "total_non_null_rows": 39175,
              "total_rows_inc_nulls": 50578,
              "value_count": 353
             },
             {
              "distinct_value_count": 537,
              "group_name": "substr_dob_1_4_",
              "percentile_ex_nulls": 0.39514994621276855,
              "percentile_inc_nulls": 0.5315157175064087,
              "sum_tokens_in_value_count_group": 345,
              "total_non_null_rows": 39175,
              "total_rows_inc_nulls": 50578,
              "value_count": 345
             },
             {
              "distinct_value_count": 537,
              "group_name": "substr_dob_1_4_",
              "percentile_ex_nulls": 0.3872367739677429,
              "percentile_inc_nulls": 0.5253865718841553,
              "sum_tokens_in_value_count_group": 310,
              "total_non_null_rows": 39175,
              "total_rows_inc_nulls": 50578,
              "value_count": 310
             },
             {
              "distinct_value_count": 537,
              "group_name": "substr_dob_1_4_",
              "percentile_ex_nulls": 0.38008934259414673,
              "percentile_inc_nulls": 0.519850492477417,
              "sum_tokens_in_value_count_group": 280,
              "total_non_null_rows": 39175,
              "total_rows_inc_nulls": 50578,
              "value_count": 280
             },
             {
              "distinct_value_count": 537,
              "group_name": "substr_dob_1_4_",
              "percentile_ex_nulls": 0.3741927146911621,
              "percentile_inc_nulls": 0.5152833461761475,
              "sum_tokens_in_value_count_group": 231,
              "total_non_null_rows": 39175,
              "total_rows_inc_nulls": 50578,
              "value_count": 231
             },
             {
              "distinct_value_count": 537,
              "group_name": "substr_dob_1_4_",
              "percentile_ex_nulls": 0.36857688426971436,
              "percentile_inc_nulls": 0.5109336376190186,
              "sum_tokens_in_value_count_group": 220,
              "total_non_null_rows": 39175,
              "total_rows_inc_nulls": 50578,
              "value_count": 220
             },
             {
              "distinct_value_count": 537,
              "group_name": "substr_dob_1_4_",
              "percentile_ex_nulls": 0.36319082975387573,
              "percentile_inc_nulls": 0.5067617893218994,
              "sum_tokens_in_value_count_group": 211,
              "total_non_null_rows": 39175,
              "total_rows_inc_nulls": 50578,
              "value_count": 211
             },
             {
              "distinct_value_count": 537,
              "group_name": "substr_dob_1_4_",
              "percentile_ex_nulls": 0.35818761587142944,
              "percentile_inc_nulls": 0.5028866529464722,
              "sum_tokens_in_value_count_group": 196,
              "total_non_null_rows": 39175,
              "total_rows_inc_nulls": 50578,
              "value_count": 196
             },
             {
              "distinct_value_count": 537,
              "group_name": "substr_dob_1_4_",
              "percentile_ex_nulls": 0.3532865643501282,
              "percentile_inc_nulls": 0.4990904927253723,
              "sum_tokens_in_value_count_group": 192,
              "total_non_null_rows": 39175,
              "total_rows_inc_nulls": 50578,
              "value_count": 192
             },
             {
              "distinct_value_count": 537,
              "group_name": "substr_dob_1_4_",
              "percentile_ex_nulls": 0.34874284267425537,
              "percentile_inc_nulls": 0.49557119607925415,
              "sum_tokens_in_value_count_group": 178,
              "total_non_null_rows": 39175,
              "total_rows_inc_nulls": 50578,
              "value_count": 178
             },
             {
              "distinct_value_count": 537,
              "group_name": "substr_dob_1_4_",
              "percentile_ex_nulls": 0.34422463178634644,
              "percentile_inc_nulls": 0.49207162857055664,
              "sum_tokens_in_value_count_group": 177,
              "total_non_null_rows": 39175,
              "total_rows_inc_nulls": 50578,
              "value_count": 177
             },
             {
              "distinct_value_count": 537,
              "group_name": "substr_dob_1_4_",
              "percentile_ex_nulls": 0.33975750207901,
              "percentile_inc_nulls": 0.48861163854599,
              "sum_tokens_in_value_count_group": 175,
              "total_non_null_rows": 39175,
              "total_rows_inc_nulls": 50578,
              "value_count": 175
             },
             {
              "distinct_value_count": 537,
              "group_name": "substr_dob_1_4_",
              "percentile_ex_nulls": 0.33097636699676514,
              "percentile_inc_nulls": 0.4818102717399597,
              "sum_tokens_in_value_count_group": 344,
              "total_non_null_rows": 39175,
              "total_rows_inc_nulls": 50578,
              "value_count": 172
             },
             {
              "distinct_value_count": 537,
              "group_name": "substr_dob_1_4_",
              "percentile_ex_nulls": 0.32661134004592896,
              "percentile_inc_nulls": 0.47842937707901,
              "sum_tokens_in_value_count_group": 171,
              "total_non_null_rows": 39175,
              "total_rows_inc_nulls": 50578,
              "value_count": 171
             },
             {
              "distinct_value_count": 537,
              "group_name": "substr_dob_1_4_",
              "percentile_ex_nulls": 0.31823867559432983,
              "percentile_inc_nulls": 0.47194433212280273,
              "sum_tokens_in_value_count_group": 328,
              "total_non_null_rows": 39175,
              "total_rows_inc_nulls": 50578,
              "value_count": 164
             },
             {
              "distinct_value_count": 537,
              "group_name": "substr_dob_1_4_",
              "percentile_ex_nulls": 0.314103364944458,
              "percentile_inc_nulls": 0.46874135732650757,
              "sum_tokens_in_value_count_group": 162,
              "total_non_null_rows": 39175,
              "total_rows_inc_nulls": 50578,
              "value_count": 162
             },
             {
              "distinct_value_count": 537,
              "group_name": "substr_dob_1_4_",
              "percentile_ex_nulls": 0.31004464626312256,
              "percentile_inc_nulls": 0.4655976891517639,
              "sum_tokens_in_value_count_group": 159,
              "total_non_null_rows": 39175,
              "total_rows_inc_nulls": 50578,
              "value_count": 159
             },
             {
              "distinct_value_count": 537,
              "group_name": "substr_dob_1_4_",
              "percentile_ex_nulls": 0.3060370087623596,
              "percentile_inc_nulls": 0.4624935984611511,
              "sum_tokens_in_value_count_group": 157,
              "total_non_null_rows": 39175,
              "total_rows_inc_nulls": 50578,
              "value_count": 157
             },
             {
              "distinct_value_count": 537,
              "group_name": "substr_dob_1_4_",
              "percentile_ex_nulls": 0.3020803928375244,
              "percentile_inc_nulls": 0.4594290256500244,
              "sum_tokens_in_value_count_group": 155,
              "total_non_null_rows": 39175,
              "total_rows_inc_nulls": 50578,
              "value_count": 155
             },
             {
              "distinct_value_count": 537,
              "group_name": "substr_dob_1_4_",
              "percentile_ex_nulls": 0.29827696084976196,
              "percentile_inc_nulls": 0.45648306608200073,
              "sum_tokens_in_value_count_group": 149,
              "total_non_null_rows": 39175,
              "total_rows_inc_nulls": 50578,
              "value_count": 149
             },
             {
              "distinct_value_count": 537,
              "group_name": "substr_dob_1_4_",
              "percentile_ex_nulls": 0.2944990396499634,
              "percentile_inc_nulls": 0.4535568952560425,
              "sum_tokens_in_value_count_group": 148,
              "total_non_null_rows": 39175,
              "total_rows_inc_nulls": 50578,
              "value_count": 148
             },
             {
              "distinct_value_count": 537,
              "group_name": "substr_dob_1_4_",
              "percentile_ex_nulls": 0.29074662923812866,
              "percentile_inc_nulls": 0.4506504535675049,
              "sum_tokens_in_value_count_group": 147,
              "total_non_null_rows": 39175,
              "total_rows_inc_nulls": 50578,
              "value_count": 147
             },
             {
              "distinct_value_count": 537,
              "group_name": "substr_dob_1_4_",
              "percentile_ex_nulls": 0.28704530000686646,
              "percentile_inc_nulls": 0.4477836489677429,
              "sum_tokens_in_value_count_group": 145,
              "total_non_null_rows": 39175,
              "total_rows_inc_nulls": 50578,
              "value_count": 145
             },
             {
              "distinct_value_count": 537,
              "group_name": "substr_dob_1_4_",
              "percentile_ex_nulls": 0.2834460735321045,
              "percentile_inc_nulls": 0.44499582052230835,
              "sum_tokens_in_value_count_group": 141,
              "total_non_null_rows": 39175,
              "total_rows_inc_nulls": 50578,
              "value_count": 141
             },
             {
              "distinct_value_count": 537,
              "group_name": "substr_dob_1_4_",
              "percentile_ex_nulls": 0.2799489498138428,
              "percentile_inc_nulls": 0.4422871470451355,
              "sum_tokens_in_value_count_group": 137,
              "total_non_null_rows": 39175,
              "total_rows_inc_nulls": 50578,
              "value_count": 137
             },
             {
              "distinct_value_count": 537,
              "group_name": "substr_dob_1_4_",
              "percentile_ex_nulls": 0.2764773368835449,
              "percentile_inc_nulls": 0.4395982623100281,
              "sum_tokens_in_value_count_group": 136,
              "total_non_null_rows": 39175,
              "total_rows_inc_nulls": 50578,
              "value_count": 136
             },
             {
              "distinct_value_count": 537,
              "group_name": "substr_dob_1_4_",
              "percentile_ex_nulls": 0.2731078267097473,
              "percentile_inc_nulls": 0.4369884133338928,
              "sum_tokens_in_value_count_group": 132,
              "total_non_null_rows": 39175,
              "total_rows_inc_nulls": 50578,
              "value_count": 132
             },
             {
              "distinct_value_count": 537,
              "group_name": "substr_dob_1_4_",
              "percentile_ex_nulls": 0.2664709687232971,
              "percentile_inc_nulls": 0.43184781074523926,
              "sum_tokens_in_value_count_group": 260,
              "total_non_null_rows": 39175,
              "total_rows_inc_nulls": 50578,
              "value_count": 130
             },
             {
              "distinct_value_count": 537,
              "group_name": "substr_dob_1_4_",
              "percentile_ex_nulls": 0.2631780505180359,
              "percentile_inc_nulls": 0.4292973279953003,
              "sum_tokens_in_value_count_group": 129,
              "total_non_null_rows": 39175,
              "total_rows_inc_nulls": 50578,
              "value_count": 129
             },
             {
              "distinct_value_count": 537,
              "group_name": "substr_dob_1_4_",
              "percentile_ex_nulls": 0.25993621349334717,
              "percentile_inc_nulls": 0.4267863631248474,
              "sum_tokens_in_value_count_group": 127,
              "total_non_null_rows": 39175,
              "total_rows_inc_nulls": 50578,
              "value_count": 127
             },
             {
              "distinct_value_count": 537,
              "group_name": "substr_dob_1_4_",
              "percentile_ex_nulls": 0.256924033164978,
              "percentile_inc_nulls": 0.4244533181190491,
              "sum_tokens_in_value_count_group": 118,
              "total_non_null_rows": 39175,
              "total_rows_inc_nulls": 50578,
              "value_count": 118
             },
             {
              "distinct_value_count": 537,
              "group_name": "substr_dob_1_4_",
              "percentile_ex_nulls": 0.25398850440979004,
              "percentile_inc_nulls": 0.42217957973480225,
              "sum_tokens_in_value_count_group": 115,
              "total_non_null_rows": 39175,
              "total_rows_inc_nulls": 50578,
              "value_count": 115
             },
             {
              "distinct_value_count": 537,
              "group_name": "substr_dob_1_4_",
              "percentile_ex_nulls": 0.2512826919555664,
              "percentile_inc_nulls": 0.42008382081985474,
              "sum_tokens_in_value_count_group": 106,
              "total_non_null_rows": 39175,
              "total_rows_inc_nulls": 50578,
              "value_count": 106
             },
             {
              "distinct_value_count": 537,
              "group_name": "substr_dob_1_4_",
              "percentile_ex_nulls": 0.24862796068191528,
              "percentile_inc_nulls": 0.4180275797843933,
              "sum_tokens_in_value_count_group": 104,
              "total_non_null_rows": 39175,
              "total_rows_inc_nulls": 50578,
              "value_count": 104
             },
             {
              "distinct_value_count": 537,
              "group_name": "substr_dob_1_4_",
              "percentile_ex_nulls": 0.24599874019622803,
              "percentile_inc_nulls": 0.4159911274909973,
              "sum_tokens_in_value_count_group": 103,
              "total_non_null_rows": 39175,
              "total_rows_inc_nulls": 50578,
              "value_count": 103
             },
             {
              "distinct_value_count": 537,
              "group_name": "substr_dob_1_4_",
              "percentile_ex_nulls": 0.24339503049850464,
              "percentile_inc_nulls": 0.41397446393966675,
              "sum_tokens_in_value_count_group": 102,
              "total_non_null_rows": 39175,
              "total_rows_inc_nulls": 50578,
              "value_count": 102
             },
             {
              "distinct_value_count": 537,
              "group_name": "substr_dob_1_4_",
              "percentile_ex_nulls": 0.23308229446411133,
              "percentile_inc_nulls": 0.4059867858886719,
              "sum_tokens_in_value_count_group": 404,
              "total_non_null_rows": 39175,
              "total_rows_inc_nulls": 50578,
              "value_count": 101
             },
             {
              "distinct_value_count": 537,
              "group_name": "substr_dob_1_4_",
              "percentile_ex_nulls": 0.23058074712753296,
              "percentile_inc_nulls": 0.40404921770095825,
              "sum_tokens_in_value_count_group": 98,
              "total_non_null_rows": 39175,
              "total_rows_inc_nulls": 50578,
              "value_count": 98
             },
             {
              "distinct_value_count": 537,
              "group_name": "substr_dob_1_4_",
              "percentile_ex_nulls": 0.22810465097427368,
              "percentile_inc_nulls": 0.4021313786506653,
              "sum_tokens_in_value_count_group": 97,
              "total_non_null_rows": 39175,
              "total_rows_inc_nulls": 50578,
              "value_count": 97
             },
             {
              "distinct_value_count": 537,
              "group_name": "substr_dob_1_4_",
              "percentile_ex_nulls": 0.22567963600158691,
              "percentile_inc_nulls": 0.4002530574798584,
              "sum_tokens_in_value_count_group": 95,
              "total_non_null_rows": 39175,
              "total_rows_inc_nulls": 50578,
              "value_count": 95
             },
             {
              "distinct_value_count": 537,
              "group_name": "substr_dob_1_4_",
              "percentile_ex_nulls": 0.2208806872367859,
              "percentile_inc_nulls": 0.39653605222702026,
              "sum_tokens_in_value_count_group": 188,
              "total_non_null_rows": 39175,
              "total_rows_inc_nulls": 50578,
              "value_count": 94
             },
             {
              "distinct_value_count": 537,
              "group_name": "substr_dob_1_4_",
              "percentile_ex_nulls": 0.21850669384002686,
              "percentile_inc_nulls": 0.39469730854034424,
              "sum_tokens_in_value_count_group": 93,
              "total_non_null_rows": 39175,
              "total_rows_inc_nulls": 50578,
              "value_count": 93
             },
             {
              "distinct_value_count": 537,
              "group_name": "substr_dob_1_4_",
              "percentile_ex_nulls": 0.21618378162384033,
              "percentile_inc_nulls": 0.3928980827331543,
              "sum_tokens_in_value_count_group": 91,
              "total_non_null_rows": 39175,
              "total_rows_inc_nulls": 50578,
              "value_count": 91
             },
             {
              "distinct_value_count": 537,
              "group_name": "substr_dob_1_4_",
              "percentile_ex_nulls": 0.21393746137619019,
              "percentile_inc_nulls": 0.39115822315216064,
              "sum_tokens_in_value_count_group": 88,
              "total_non_null_rows": 39175,
              "total_rows_inc_nulls": 50578,
              "value_count": 88
             },
             {
              "distinct_value_count": 537,
              "group_name": "substr_dob_1_4_",
              "percentile_ex_nulls": 0.2117166519165039,
              "percentile_inc_nulls": 0.38943809270858765,
              "sum_tokens_in_value_count_group": 87,
              "total_non_null_rows": 39175,
              "total_rows_inc_nulls": 50578,
              "value_count": 87
             },
             {
              "distinct_value_count": 537,
              "group_name": "substr_dob_1_4_",
              "percentile_ex_nulls": 0.2095213532447815,
              "percentile_inc_nulls": 0.3877377510070801,
              "sum_tokens_in_value_count_group": 86,
              "total_non_null_rows": 39175,
              "total_rows_inc_nulls": 50578,
              "value_count": 86
             },
             {
              "distinct_value_count": 537,
              "group_name": "substr_dob_1_4_",
              "percentile_ex_nulls": 0.2052329182624817,
              "percentile_inc_nulls": 0.3844161629676819,
              "sum_tokens_in_value_count_group": 168,
              "total_non_null_rows": 39175,
              "total_rows_inc_nulls": 50578,
              "value_count": 84
             },
             {
              "distinct_value_count": 537,
              "group_name": "substr_dob_1_4_",
              "percentile_ex_nulls": 0.2032163143157959,
              "percentile_inc_nulls": 0.3828542232513428,
              "sum_tokens_in_value_count_group": 79,
              "total_non_null_rows": 39175,
              "total_rows_inc_nulls": 50578,
              "value_count": 79
             },
             {
              "distinct_value_count": 537,
              "group_name": "substr_dob_1_4_",
              "percentile_ex_nulls": 0.20122528076171875,
              "percentile_inc_nulls": 0.3813120126724243,
              "sum_tokens_in_value_count_group": 78,
              "total_non_null_rows": 39175,
              "total_rows_inc_nulls": 50578,
              "value_count": 78
             },
             {
              "distinct_value_count": 537,
              "group_name": "substr_dob_1_4_",
              "percentile_ex_nulls": 0.19933629035949707,
              "percentile_inc_nulls": 0.3798489570617676,
              "sum_tokens_in_value_count_group": 74,
              "total_non_null_rows": 39175,
              "total_rows_inc_nulls": 50578,
              "value_count": 74
             },
             {
              "distinct_value_count": 537,
              "group_name": "substr_dob_1_4_",
              "percentile_ex_nulls": 0.1974983811378479,
              "percentile_inc_nulls": 0.3784254193305969,
              "sum_tokens_in_value_count_group": 72,
              "total_non_null_rows": 39175,
              "total_rows_inc_nulls": 50578,
              "value_count": 72
             },
             {
              "distinct_value_count": 537,
              "group_name": "substr_dob_1_4_",
              "percentile_ex_nulls": 0.19568604230880737,
              "percentile_inc_nulls": 0.3770216107368469,
              "sum_tokens_in_value_count_group": 71,
              "total_non_null_rows": 39175,
              "total_rows_inc_nulls": 50578,
              "value_count": 71
             },
             {
              "distinct_value_count": 537,
              "group_name": "substr_dob_1_4_",
              "percentile_ex_nulls": 0.19211232662200928,
              "percentile_inc_nulls": 0.37425363063812256,
              "sum_tokens_in_value_count_group": 140,
              "total_non_null_rows": 39175,
              "total_rows_inc_nulls": 50578,
              "value_count": 70
             },
             {
              "distinct_value_count": 537,
              "group_name": "substr_dob_1_4_",
              "percentile_ex_nulls": 0.18858963251113892,
              "percentile_inc_nulls": 0.3715251684188843,
              "sum_tokens_in_value_count_group": 138,
              "total_non_null_rows": 39175,
              "total_rows_inc_nulls": 50578,
              "value_count": 69
             },
             {
              "distinct_value_count": 537,
              "group_name": "substr_dob_1_4_",
              "percentile_ex_nulls": 0.18685388565063477,
              "percentile_inc_nulls": 0.37018072605133057,
              "sum_tokens_in_value_count_group": 68,
              "total_non_null_rows": 39175,
              "total_rows_inc_nulls": 50578,
              "value_count": 68
             },
             {
              "distinct_value_count": 537,
              "group_name": "substr_dob_1_4_",
              "percentile_ex_nulls": 0.18343329429626465,
              "percentile_inc_nulls": 0.36753135919570923,
              "sum_tokens_in_value_count_group": 134,
              "total_non_null_rows": 39175,
              "total_rows_inc_nulls": 50578,
              "value_count": 67
             },
             {
              "distinct_value_count": 537,
              "group_name": "substr_dob_1_4_",
              "percentile_ex_nulls": 0.18174856901168823,
              "percentile_inc_nulls": 0.3662264347076416,
              "sum_tokens_in_value_count_group": 66,
              "total_non_null_rows": 39175,
              "total_rows_inc_nulls": 50578,
              "value_count": 66
             },
             {
              "distinct_value_count": 537,
              "group_name": "substr_dob_1_4_",
              "percentile_ex_nulls": 0.17541801929473877,
              "percentile_inc_nulls": 0.36132311820983887,
              "sum_tokens_in_value_count_group": 248,
              "total_non_null_rows": 39175,
              "total_rows_inc_nulls": 50578,
              "value_count": 62
             },
             {
              "distinct_value_count": 537,
              "group_name": "substr_dob_1_4_",
              "percentile_ex_nulls": 0.17386090755462646,
              "percentile_inc_nulls": 0.36011701822280884,
              "sum_tokens_in_value_count_group": 61,
              "total_non_null_rows": 39175,
              "total_rows_inc_nulls": 50578,
              "value_count": 61
             },
             {
              "distinct_value_count": 537,
              "group_name": "substr_dob_1_4_",
              "percentile_ex_nulls": 0.17232930660247803,
              "percentile_inc_nulls": 0.358930766582489,
              "sum_tokens_in_value_count_group": 60,
              "total_non_null_rows": 39175,
              "total_rows_inc_nulls": 50578,
              "value_count": 60
             },
             {
              "distinct_value_count": 537,
              "group_name": "substr_dob_1_4_",
              "percentile_ex_nulls": 0.16788768768310547,
              "percentile_inc_nulls": 0.355490505695343,
              "sum_tokens_in_value_count_group": 174,
              "total_non_null_rows": 39175,
              "total_rows_inc_nulls": 50578,
              "value_count": 58
             },
             {
              "distinct_value_count": 537,
              "group_name": "substr_dob_1_4_",
              "percentile_ex_nulls": 0.16497766971588135,
              "percentile_inc_nulls": 0.3532365560531616,
              "sum_tokens_in_value_count_group": 114,
              "total_non_null_rows": 39175,
              "total_rows_inc_nulls": 50578,
              "value_count": 57
             },
             {
              "distinct_value_count": 537,
              "group_name": "substr_dob_1_4_",
              "percentile_ex_nulls": 0.16216975450515747,
              "percentile_inc_nulls": 0.35106170177459717,
              "sum_tokens_in_value_count_group": 110,
              "total_non_null_rows": 39175,
              "total_rows_inc_nulls": 50578,
              "value_count": 55
             },
             {
              "distinct_value_count": 537,
              "group_name": "substr_dob_1_4_",
              "percentile_ex_nulls": 0.1607913374900818,
              "percentile_inc_nulls": 0.34999406337738037,
              "sum_tokens_in_value_count_group": 54,
              "total_non_null_rows": 39175,
              "total_rows_inc_nulls": 50578,
              "value_count": 54
             },
             {
              "distinct_value_count": 537,
              "group_name": "substr_dob_1_4_",
              "percentile_ex_nulls": 0.15808552503585815,
              "percentile_inc_nulls": 0.34789830446243286,
              "sum_tokens_in_value_count_group": 106,
              "total_non_null_rows": 39175,
              "total_rows_inc_nulls": 50578,
              "value_count": 53
             },
             {
              "distinct_value_count": 537,
              "group_name": "substr_dob_1_4_",
              "percentile_ex_nulls": 0.1567581295967102,
              "percentile_inc_nulls": 0.34687018394470215,
              "sum_tokens_in_value_count_group": 52,
              "total_non_null_rows": 39175,
              "total_rows_inc_nulls": 50578,
              "value_count": 52
             },
             {
              "distinct_value_count": 537,
              "group_name": "substr_dob_1_4_",
              "percentile_ex_nulls": 0.1554563045501709,
              "percentile_inc_nulls": 0.34586185216903687,
              "sum_tokens_in_value_count_group": 51,
              "total_non_null_rows": 39175,
              "total_rows_inc_nulls": 50578,
              "value_count": 51
             },
             {
              "distinct_value_count": 537,
              "group_name": "substr_dob_1_4_",
              "percentile_ex_nulls": 0.1516273021697998,
              "percentile_inc_nulls": 0.34289610385894775,
              "sum_tokens_in_value_count_group": 150,
              "total_non_null_rows": 39175,
              "total_rows_inc_nulls": 50578,
              "value_count": 50
             },
             {
              "distinct_value_count": 537,
              "group_name": "substr_dob_1_4_",
              "percentile_ex_nulls": 0.14912569522857666,
              "percentile_inc_nulls": 0.34095853567123413,
              "sum_tokens_in_value_count_group": 98,
              "total_non_null_rows": 39175,
              "total_rows_inc_nulls": 50578,
              "value_count": 49
             },
             {
              "distinct_value_count": 537,
              "group_name": "substr_dob_1_4_",
              "percentile_ex_nulls": 0.14667516946792603,
              "percentile_inc_nulls": 0.3390604853630066,
              "sum_tokens_in_value_count_group": 96,
              "total_non_null_rows": 39175,
              "total_rows_inc_nulls": 50578,
              "value_count": 48
             },
             {
              "distinct_value_count": 537,
              "group_name": "substr_dob_1_4_",
              "percentile_ex_nulls": 0.14427566528320312,
              "percentile_inc_nulls": 0.33720195293426514,
              "sum_tokens_in_value_count_group": 94,
              "total_non_null_rows": 39175,
              "total_rows_inc_nulls": 50578,
              "value_count": 47
             },
             {
              "distinct_value_count": 537,
              "group_name": "substr_dob_1_4_",
              "percentile_ex_nulls": 0.14310145378112793,
              "percentile_inc_nulls": 0.33629244565963745,
              "sum_tokens_in_value_count_group": 46,
              "total_non_null_rows": 39175,
              "total_rows_inc_nulls": 50578,
              "value_count": 46
             },
             {
              "distinct_value_count": 537,
              "group_name": "substr_dob_1_4_",
              "percentile_ex_nulls": 0.1419527530670166,
              "percentile_inc_nulls": 0.3354027271270752,
              "sum_tokens_in_value_count_group": 45,
              "total_non_null_rows": 39175,
              "total_rows_inc_nulls": 50578,
              "value_count": 45
             },
             {
              "distinct_value_count": 537,
              "group_name": "substr_dob_1_4_",
              "percentile_ex_nulls": 0.13858330249786377,
              "percentile_inc_nulls": 0.3327929377555847,
              "sum_tokens_in_value_count_group": 132,
              "total_non_null_rows": 39175,
              "total_rows_inc_nulls": 50578,
              "value_count": 44
             },
             {
              "distinct_value_count": 537,
              "group_name": "substr_dob_1_4_",
              "percentile_ex_nulls": 0.13638800382614136,
              "percentile_inc_nulls": 0.33109259605407715,
              "sum_tokens_in_value_count_group": 86,
              "total_non_null_rows": 39175,
              "total_rows_inc_nulls": 50578,
              "value_count": 43
             },
             {
              "distinct_value_count": 537,
              "group_name": "substr_dob_1_4_",
              "percentile_ex_nulls": 0.1331716775894165,
              "percentile_inc_nulls": 0.3286013603210449,
              "sum_tokens_in_value_count_group": 126,
              "total_non_null_rows": 39175,
              "total_rows_inc_nulls": 50578,
              "value_count": 42
             },
             {
              "distinct_value_count": 537,
              "group_name": "substr_dob_1_4_",
              "percentile_ex_nulls": 0.13107848167419434,
              "percentile_inc_nulls": 0.3269801139831543,
              "sum_tokens_in_value_count_group": 82,
              "total_non_null_rows": 39175,
              "total_rows_inc_nulls": 50578,
              "value_count": 41
             },
             {
              "distinct_value_count": 537,
              "group_name": "substr_dob_1_4_",
              "percentile_ex_nulls": 0.12903636693954468,
              "percentile_inc_nulls": 0.32539838552474976,
              "sum_tokens_in_value_count_group": 80,
              "total_non_null_rows": 39175,
              "total_rows_inc_nulls": 50578,
              "value_count": 40
             },
             {
              "distinct_value_count": 537,
              "group_name": "substr_dob_1_4_",
              "percentile_ex_nulls": 0.12704533338546753,
              "percentile_inc_nulls": 0.3238562345504761,
              "sum_tokens_in_value_count_group": 78,
              "total_non_null_rows": 39175,
              "total_rows_inc_nulls": 50578,
              "value_count": 39
             },
             {
              "distinct_value_count": 537,
              "group_name": "substr_dob_1_4_",
              "percentile_ex_nulls": 0.12510532140731812,
              "percentile_inc_nulls": 0.3223536014556885,
              "sum_tokens_in_value_count_group": 76,
              "total_non_null_rows": 39175,
              "total_rows_inc_nulls": 50578,
              "value_count": 38
             },
             {
              "distinct_value_count": 537,
              "group_name": "substr_dob_1_4_",
              "percentile_ex_nulls": 0.12038290500640869,
              "percentile_inc_nulls": 0.31869590282440186,
              "sum_tokens_in_value_count_group": 185,
              "total_non_null_rows": 39175,
              "total_rows_inc_nulls": 50578,
              "value_count": 37
             },
             {
              "distinct_value_count": 537,
              "group_name": "substr_dob_1_4_",
              "percentile_ex_nulls": 0.11946392059326172,
              "percentile_inc_nulls": 0.31798410415649414,
              "sum_tokens_in_value_count_group": 36,
              "total_non_null_rows": 39175,
              "total_rows_inc_nulls": 50578,
              "value_count": 36
             },
             {
              "distinct_value_count": 537,
              "group_name": "substr_dob_1_4_",
              "percentile_ex_nulls": 0.11499679088592529,
              "percentile_inc_nulls": 0.3145241141319275,
              "sum_tokens_in_value_count_group": 175,
              "total_non_null_rows": 39175,
              "total_rows_inc_nulls": 50578,
              "value_count": 35
             },
             {
              "distinct_value_count": 537,
              "group_name": "substr_dob_1_4_",
              "percentile_ex_nulls": 0.11152517795562744,
              "percentile_inc_nulls": 0.3118351697921753,
              "sum_tokens_in_value_count_group": 136,
              "total_non_null_rows": 39175,
              "total_rows_inc_nulls": 50578,
              "value_count": 34
             },
             {
              "distinct_value_count": 537,
              "group_name": "substr_dob_1_4_",
              "percentile_ex_nulls": 0.10899806022644043,
              "percentile_inc_nulls": 0.30987781286239624,
              "sum_tokens_in_value_count_group": 99,
              "total_non_null_rows": 39175,
              "total_rows_inc_nulls": 50578,
              "value_count": 33
             },
             {
              "distinct_value_count": 537,
              "group_name": "substr_dob_1_4_",
              "percentile_ex_nulls": 0.10409700870513916,
              "percentile_inc_nulls": 0.30608171224594116,
              "sum_tokens_in_value_count_group": 192,
              "total_non_null_rows": 39175,
              "total_rows_inc_nulls": 50578,
              "value_count": 32
             },
             {
              "distinct_value_count": 537,
              "group_name": "substr_dob_1_4_",
              "percentile_ex_nulls": 0.10093170404434204,
              "percentile_inc_nulls": 0.3036300539970398,
              "sum_tokens_in_value_count_group": 124,
              "total_non_null_rows": 39175,
              "total_rows_inc_nulls": 50578,
              "value_count": 31
             },
             {
              "distinct_value_count": 537,
              "group_name": "substr_dob_1_4_",
              "percentile_ex_nulls": 0.09786856174468994,
              "percentile_inc_nulls": 0.30125749111175537,
              "sum_tokens_in_value_count_group": 120,
              "total_non_null_rows": 39175,
              "total_rows_inc_nulls": 50578,
              "value_count": 30
             },
             {
              "distinct_value_count": 537,
              "group_name": "substr_dob_1_4_",
              "percentile_ex_nulls": 0.09268665313720703,
              "percentile_inc_nulls": 0.2972438335418701,
              "sum_tokens_in_value_count_group": 203,
              "total_non_null_rows": 39175,
              "total_rows_inc_nulls": 50578,
              "value_count": 29
             },
             {
              "distinct_value_count": 537,
              "group_name": "substr_dob_1_4_",
              "percentile_ex_nulls": 0.08982771635055542,
              "percentile_inc_nulls": 0.2950294613838196,
              "sum_tokens_in_value_count_group": 112,
              "total_non_null_rows": 39175,
              "total_rows_inc_nulls": 50578,
              "value_count": 28
             },
             {
              "distinct_value_count": 537,
              "group_name": "substr_dob_1_4_",
              "percentile_ex_nulls": 0.08638161420822144,
              "percentile_inc_nulls": 0.2923603057861328,
              "sum_tokens_in_value_count_group": 135,
              "total_non_null_rows": 39175,
              "total_rows_inc_nulls": 50578,
              "value_count": 27
             },
             {
              "distinct_value_count": 537,
              "group_name": "substr_dob_1_4_",
              "percentile_ex_nulls": 0.08306318521499634,
              "percentile_inc_nulls": 0.2897900342941284,
              "sum_tokens_in_value_count_group": 130,
              "total_non_null_rows": 39175,
              "total_rows_inc_nulls": 50578,
              "value_count": 26
             },
             {
              "distinct_value_count": 537,
              "group_name": "substr_dob_1_4_",
              "percentile_ex_nulls": 0.08051055669784546,
              "percentile_inc_nulls": 0.28781288862228394,
              "sum_tokens_in_value_count_group": 100,
              "total_non_null_rows": 39175,
              "total_rows_inc_nulls": 50578,
              "value_count": 25
             },
             {
              "distinct_value_count": 537,
              "group_name": "substr_dob_1_4_",
              "percentile_ex_nulls": 0.07622206211090088,
              "percentile_inc_nulls": 0.28449130058288574,
              "sum_tokens_in_value_count_group": 168,
              "total_non_null_rows": 39175,
              "total_rows_inc_nulls": 50578,
              "value_count": 24
             },
             {
              "distinct_value_count": 537,
              "group_name": "substr_dob_1_4_",
              "percentile_ex_nulls": 0.07328653335571289,
              "percentile_inc_nulls": 0.2822175621986389,
              "sum_tokens_in_value_count_group": 115,
              "total_non_null_rows": 39175,
              "total_rows_inc_nulls": 50578,
              "value_count": 23
             },
             {
              "distinct_value_count": 537,
              "group_name": "substr_dob_1_4_",
              "percentile_ex_nulls": 0.06935542821884155,
              "percentile_inc_nulls": 0.27917277812957764,
              "sum_tokens_in_value_count_group": 154,
              "total_non_null_rows": 39175,
              "total_rows_inc_nulls": 50578,
              "value_count": 22
             },
             {
              "distinct_value_count": 537,
              "group_name": "substr_dob_1_4_",
              "percentile_ex_nulls": 0.06506699323654175,
              "percentile_inc_nulls": 0.27585119009017944,
              "sum_tokens_in_value_count_group": 168,
              "total_non_null_rows": 39175,
              "total_rows_inc_nulls": 50578,
              "value_count": 21
             },
             {
              "distinct_value_count": 537,
              "group_name": "substr_dob_1_4_",
              "percentile_ex_nulls": 0.06047224998474121,
              "percentile_inc_nulls": 0.2722923159599304,
              "sum_tokens_in_value_count_group": 180,
              "total_non_null_rows": 39175,
              "total_rows_inc_nulls": 50578,
              "value_count": 20
             },
             {
              "distinct_value_count": 537,
              "group_name": "substr_dob_1_4_",
              "percentile_ex_nulls": 0.05465221405029297,
              "percentile_inc_nulls": 0.2677844166755676,
              "sum_tokens_in_value_count_group": 228,
              "total_non_null_rows": 39175,
              "total_rows_inc_nulls": 50578,
              "value_count": 19
             },
             {
              "distinct_value_count": 537,
              "group_name": "substr_dob_1_4_",
              "percentile_ex_nulls": 0.05097639560699463,
              "percentile_inc_nulls": 0.2649373412132263,
              "sum_tokens_in_value_count_group": 144,
              "total_non_null_rows": 39175,
              "total_rows_inc_nulls": 50578,
              "value_count": 18
             },
             {
              "distinct_value_count": 537,
              "group_name": "substr_dob_1_4_",
              "percentile_ex_nulls": 0.04533505439758301,
              "percentile_inc_nulls": 0.260567843914032,
              "sum_tokens_in_value_count_group": 221,
              "total_non_null_rows": 39175,
              "total_rows_inc_nulls": 50578,
              "value_count": 17
             },
             {
              "distinct_value_count": 537,
              "group_name": "substr_dob_1_4_",
              "percentile_ex_nulls": 0.04329293966293335,
              "percentile_inc_nulls": 0.25898611545562744,
              "sum_tokens_in_value_count_group": 80,
              "total_non_null_rows": 39175,
              "total_rows_inc_nulls": 50578,
              "value_count": 16
             },
             {
              "distinct_value_count": 537,
              "group_name": "substr_dob_1_4_",
              "percentile_ex_nulls": 0.03793233633041382,
              "percentile_inc_nulls": 0.2548341155052185,
              "sum_tokens_in_value_count_group": 210,
              "total_non_null_rows": 39175,
              "total_rows_inc_nulls": 50578,
              "value_count": 15
             },
             {
              "distinct_value_count": 537,
              "group_name": "substr_dob_1_4_",
              "percentile_ex_nulls": 0.033643901348114014,
              "percentile_inc_nulls": 0.2515125274658203,
              "sum_tokens_in_value_count_group": 168,
              "total_non_null_rows": 39175,
              "total_rows_inc_nulls": 50578,
              "value_count": 14
             },
             {
              "distinct_value_count": 537,
              "group_name": "substr_dob_1_4_",
              "percentile_ex_nulls": 0.029329955577850342,
              "percentile_inc_nulls": 0.2481711506843567,
              "sum_tokens_in_value_count_group": 169,
              "total_non_null_rows": 39175,
              "total_rows_inc_nulls": 50578,
              "value_count": 13
             },
             {
              "distinct_value_count": 537,
              "group_name": "substr_dob_1_4_",
              "percentile_ex_nulls": 0.02473515272140503,
              "percentile_inc_nulls": 0.24461227655410767,
              "sum_tokens_in_value_count_group": 180,
              "total_non_null_rows": 39175,
              "total_rows_inc_nulls": 50578,
              "value_count": 12
             },
             {
              "distinct_value_count": 537,
              "group_name": "substr_dob_1_4_",
              "percentile_ex_nulls": 0.020804107189178467,
              "percentile_inc_nulls": 0.2415674924850464,
              "sum_tokens_in_value_count_group": 154,
              "total_non_null_rows": 39175,
              "total_rows_inc_nulls": 50578,
              "value_count": 11
             },
             {
              "distinct_value_count": 537,
              "group_name": "substr_dob_1_4_",
              "percentile_ex_nulls": 0.01850670576095581,
              "percentile_inc_nulls": 0.23978805541992188,
              "sum_tokens_in_value_count_group": 90,
              "total_non_null_rows": 39175,
              "total_rows_inc_nulls": 50578,
              "value_count": 10
             },
             {
              "distinct_value_count": 537,
              "group_name": "substr_dob_1_4_",
              "percentile_ex_nulls": 0.015749812126159668,
              "percentile_inc_nulls": 0.2376527190208435,
              "sum_tokens_in_value_count_group": 108,
              "total_non_null_rows": 39175,
              "total_rows_inc_nulls": 50578,
              "value_count": 9
             },
             {
              "distinct_value_count": 537,
              "group_name": "substr_dob_1_4_",
              "percentile_ex_nulls": 0.01370769739151001,
              "percentile_inc_nulls": 0.23607099056243896,
              "sum_tokens_in_value_count_group": 80,
              "total_non_null_rows": 39175,
              "total_rows_inc_nulls": 50578,
              "value_count": 8
             },
             {
              "distinct_value_count": 537,
              "group_name": "substr_dob_1_4_",
              "percentile_ex_nulls": 0.010848760604858398,
              "percentile_inc_nulls": 0.23385661840438843,
              "sum_tokens_in_value_count_group": 112,
              "total_non_null_rows": 39175,
              "total_rows_inc_nulls": 50578,
              "value_count": 7
             },
             {
              "distinct_value_count": 537,
              "group_name": "substr_dob_1_4_",
              "percentile_ex_nulls": 0.007938742637634277,
              "percentile_inc_nulls": 0.23160266876220703,
              "sum_tokens_in_value_count_group": 114,
              "total_non_null_rows": 39175,
              "total_rows_inc_nulls": 50578,
              "value_count": 6
             },
             {
              "distinct_value_count": 537,
              "group_name": "substr_dob_1_4_",
              "percentile_ex_nulls": 0.0060242414474487305,
              "percentile_inc_nulls": 0.23011982440948486,
              "sum_tokens_in_value_count_group": 75,
              "total_non_null_rows": 39175,
              "total_rows_inc_nulls": 50578,
              "value_count": 5
             },
             {
              "distinct_value_count": 537,
              "group_name": "substr_dob_1_4_",
              "percentile_ex_nulls": 0.004084229469299316,
              "percentile_inc_nulls": 0.22861719131469727,
              "sum_tokens_in_value_count_group": 76,
              "total_non_null_rows": 39175,
              "total_rows_inc_nulls": 50578,
              "value_count": 4
             },
             {
              "distinct_value_count": 537,
              "group_name": "substr_dob_1_4_",
              "percentile_ex_nulls": 0.002552628517150879,
              "percentile_inc_nulls": 0.22743088006973267,
              "sum_tokens_in_value_count_group": 60,
              "total_non_null_rows": 39175,
              "total_rows_inc_nulls": 50578,
              "value_count": 3
             },
             {
              "distinct_value_count": 537,
              "group_name": "substr_dob_1_4_",
              "percentile_ex_nulls": 0.0017358064651489258,
              "percentile_inc_nulls": 0.22679823637008667,
              "sum_tokens_in_value_count_group": 32,
              "total_non_null_rows": 39175,
              "total_rows_inc_nulls": 50578,
              "value_count": 2
             },
             {
              "distinct_value_count": 537,
              "group_name": "substr_dob_1_4_",
              "percentile_ex_nulls": 0,
              "percentile_inc_nulls": 0.22545373439788818,
              "sum_tokens_in_value_count_group": 68,
              "total_non_null_rows": 39175,
              "total_rows_inc_nulls": 50578,
              "value_count": 1
             },
             {
              "distinct_value_count": 537,
              "group_name": "substr_dob_1_4_",
              "percentile_ex_nulls": 1,
              "percentile_inc_nulls": 1,
              "sum_tokens_in_value_count_group": 2231,
              "total_non_null_rows": 39175,
              "total_rows_inc_nulls": 50578,
              "value_count": 2231
             }
            ]
           },
           "encoding": {
            "tooltip": [
             {
              "field": "value_count",
              "type": "quantitative"
             },
             {
              "field": "percentile_ex_nulls",
              "type": "quantitative"
             },
             {
              "field": "percentile_inc_nulls",
              "type": "quantitative"
             },
             {
              "field": "total_non_null_rows",
              "type": "quantitative"
             },
             {
              "field": "total_rows_inc_nulls",
              "type": "quantitative"
             }
            ],
            "x": {
             "field": "percentile_ex_nulls",
             "sort": "descending",
             "title": "Percentile",
             "type": "quantitative"
            },
            "y": {
             "field": "value_count",
             "title": "Count of values",
             "type": "quantitative"
            }
           },
           "mark": {
            "interpolate": "step-after",
            "type": "line"
           },
           "title": {
            "subtitle": "In this col, 11,403 values (22.5%) are null and there are 537 distinct values",
            "text": "Distribution of counts of values in column substr(dob, 1,4)"
           }
          },
          {
           "data": {
            "values": [
             {
              "distinct_value_count": 537,
              "group_name": "substr_dob_1_4_",
              "total_non_null_rows": 39175,
              "total_rows_inc_nulls": 50578,
              "value": "1862",
              "value_count": 2231
             },
             {
              "distinct_value_count": 537,
              "group_name": "substr_dob_1_4_",
              "total_non_null_rows": 39175,
              "total_rows_inc_nulls": 50578,
              "value": "1860",
              "value_count": 1753
             },
             {
              "distinct_value_count": 537,
              "group_name": "substr_dob_1_4_",
              "total_non_null_rows": 39175,
              "total_rows_inc_nulls": 50578,
              "value": "1861",
              "value_count": 1751
             },
             {
              "distinct_value_count": 537,
              "group_name": "substr_dob_1_4_",
              "total_non_null_rows": 39175,
              "total_rows_inc_nulls": 50578,
              "value": "1859",
              "value_count": 1616
             },
             {
              "distinct_value_count": 537,
              "group_name": "substr_dob_1_4_",
              "total_non_null_rows": 39175,
              "total_rows_inc_nulls": 50578,
              "value": "1857",
              "value_count": 1599
             },
             {
              "distinct_value_count": 537,
              "group_name": "substr_dob_1_4_",
              "total_non_null_rows": 39175,
              "total_rows_inc_nulls": 50578,
              "value": "1858",
              "value_count": 1594
             },
             {
              "distinct_value_count": 537,
              "group_name": "substr_dob_1_4_",
              "total_non_null_rows": 39175,
              "total_rows_inc_nulls": 50578,
              "value": "1856",
              "value_count": 1362
             },
             {
              "distinct_value_count": 537,
              "group_name": "substr_dob_1_4_",
              "total_non_null_rows": 39175,
              "total_rows_inc_nulls": 50578,
              "value": "1855",
              "value_count": 1299
             },
             {
              "distinct_value_count": 537,
              "group_name": "substr_dob_1_4_",
              "total_non_null_rows": 39175,
              "total_rows_inc_nulls": 50578,
              "value": "1851",
              "value_count": 1204
             },
             {
              "distinct_value_count": 537,
              "group_name": "substr_dob_1_4_",
              "total_non_null_rows": 39175,
              "total_rows_inc_nulls": 50578,
              "value": "1850",
              "value_count": 1164
             }
            ]
           },
           "encoding": {
            "tooltip": [
             {
              "field": "value",
              "type": "nominal"
             },
             {
              "field": "value_count",
              "type": "quantitative"
             },
             {
              "field": "total_non_null_rows",
              "type": "quantitative"
             },
             {
              "field": "total_rows_inc_nulls",
              "type": "quantitative"
             }
            ],
            "x": {
             "field": "value",
             "sort": "-y",
             "title": null,
             "type": "nominal"
            },
            "y": {
             "field": "value_count",
             "title": "Value count",
             "type": "quantitative"
            }
           },
           "mark": "bar",
           "title": "Top 10 values by value count"
          },
          {
           "data": {
            "values": [
             {
              "distinct_value_count": 537,
              "group_name": "substr_dob_1_4_",
              "total_non_null_rows": 39175,
              "total_rows_inc_nulls": 50578,
              "value": "1092",
              "value_count": 1
             },
             {
              "distinct_value_count": 537,
              "group_name": "substr_dob_1_4_",
              "total_non_null_rows": 39175,
              "total_rows_inc_nulls": 50578,
              "value": "1085",
              "value_count": 1
             },
             {
              "distinct_value_count": 537,
              "group_name": "substr_dob_1_4_",
              "total_non_null_rows": 39175,
              "total_rows_inc_nulls": 50578,
              "value": "1338",
              "value_count": 1
             },
             {
              "distinct_value_count": 537,
              "group_name": "substr_dob_1_4_",
              "total_non_null_rows": 39175,
              "total_rows_inc_nulls": 50578,
              "value": "1262",
              "value_count": 1
             },
             {
              "distinct_value_count": 537,
              "group_name": "substr_dob_1_4_",
              "total_non_null_rows": 39175,
              "total_rows_inc_nulls": 50578,
              "value": "1295",
              "value_count": 1
             }
            ]
           },
           "encoding": {
            "tooltip": [
             {
              "field": "value",
              "type": "nominal"
             },
             {
              "field": "value_count",
              "type": "quantitative"
             },
             {
              "field": "total_non_null_rows",
              "type": "quantitative"
             },
             {
              "field": "total_rows_inc_nulls",
              "type": "quantitative"
             }
            ],
            "x": {
             "field": "value",
             "sort": "-y",
             "title": null,
             "type": "nominal"
            },
            "y": {
             "field": "value_count",
             "scale": {
              "domain": [
               0,
               2231
              ]
             },
             "title": "Value count",
             "type": "quantitative"
            }
           },
           "mark": "bar",
           "title": "Bottom 5 values by value count"
          }
         ]
        }
       ]
      },
      "image/png": "[encoded data removed]",
      "text/plain": [
       "<VegaLite 4 object>\n",
       "\n",
       "If you see this message, it means the renderer has not been properly enabled\n",
       "for the frontend that you are using. For more information, see\n",
       "https://altair-viz.github.io/user_guide/troubleshooting.html\n"
      ]
     },
     "execution_count": 4,
     "metadata": {},
     "output_type": "execute_result"
    }
   ],
   "source": [
    "# Initialise the linker, passing in the input dataset(s)\n",
    "linker = DuckDBLinker(df_clean, connection=\":temporary:\")\n",
    "\n",
    "import altair as alt\n",
    "alt.renderers.enable('mimetype')\n",
    "linker.profile_columns([\"first_name\", \"postcode_fake\", \"substr(dob, 1,4)\"], top_n=10, bottom_n=5)"
   ]
  },
  {
   "cell_type": "code",
   "execution_count": 5,
   "metadata": {},
   "outputs": [
    {
     "data": {
      "text/plain": [
       "{'count_of_pairwise_comparisons_generated': 16372982}"
      ]
     },
     "execution_count": 5,
     "metadata": {},
     "output_type": "execute_result"
    }
   ],
   "source": [
    "linker.compute_number_of_comparisons_generated_by_blocking_rule(\"l.first_name = r.first_name\")"
   ]
  },
  {
   "cell_type": "code",
   "execution_count": 6,
   "metadata": {},
   "outputs": [
    {
     "data": {
      "text/plain": [
       "{'count_of_pairwise_comparisons_generated': 243656}"
      ]
     },
     "execution_count": 6,
     "metadata": {},
     "output_type": "execute_result"
    }
   ],
   "source": [
    "linker.compute_number_of_comparisons_generated_by_blocking_rule(\"l.first_name = r.first_name and l.surname = r.surname\",)"
   ]
  },
  {
   "cell_type": "code",
   "execution_count": 7,
   "metadata": {},
   "outputs": [],
   "source": [
    "import splink.duckdb.duckdb_comparison_library as cl\n",
    "\n",
    "settings = {\n",
    "    \"probability_two_random_records_match\": 9/50_000,\n",
    "    \"link_type\": \"dedupe_only\",\n",
    "    \"blocking_rules_to_generate_predictions\": [\n",
    "        \"l.first_name = r.first_name and l.surname = r.surname\",\n",
    "        \"l.surname = r.surname and l.dob = r.dob\",\n",
    "        \"l.first_name = r.first_name and l.dob = r.dob\",\n",
    "        \"l.postcode_fake = r.postcode_fake and l.first_name = r.first_name\",\n",
    "    ],\n",
    "    \"comparisons\": [\n",
    "        cl.jaccard_at_thresholds(\"first_name\", [0.9, 0.5], term_frequency_adjustments=False),\n",
    "        cl.jaccard_at_thresholds(\"surname\", [0.9, 0.5], term_frequency_adjustments=False),\n",
    "        cl.levenshtein_at_thresholds(\"dob\", [1,2], term_frequency_adjustments=False),\n",
    "        cl.levenshtein_at_thresholds(\"postcode_fake\", 2),\n",
    "        cl.exact_match(\"birth_place\", term_frequency_adjustments=False),\n",
    "        cl.exact_match(\"occupation\",  term_frequency_adjustments=False),\n",
    "    ],\n",
    "    \"retain_matching_columns\": True,\n",
    "    \"retain_intermediate_calculation_columns\": True,\n",
    "    \"max_iterations\": 10,\n",
    "    \"em_convergence\": 0.01\n",
    "}"
   ]
  },
  {
   "cell_type": "code",
   "execution_count": 8,
   "metadata": {},
   "outputs": [],
   "source": [
    "linker.initialise_settings(settings)"
   ]
  },
  {
   "cell_type": "code",
   "execution_count": 9,
   "metadata": {},
   "outputs": [
    {
     "name": "stderr",
     "output_type": "stream",
     "text": [
      "----- Estimating u probabilities using random sampling -----\n",
      "\n",
      "Estimated u probabilities using random sampling\n",
      "\n",
      "Your model is not yet fully trained. Missing estimates for:\n",
      "    - first_name (no m values are trained).\n",
      "    - surname (no m values are trained).\n",
      "    - dob (no m values are trained).\n",
      "    - postcode_fake (no m values are trained).\n",
      "    - birth_place (no m values are trained).\n",
      "    - occupation (no m values are trained).\n"
     ]
    }
   ],
   "source": [
    "linker.estimate_u_using_random_sampling(target_rows=5e6)"
   ]
  },
  {
   "cell_type": "code",
   "execution_count": 10,
   "metadata": {},
   "outputs": [
    {
     "name": "stderr",
     "output_type": "stream",
     "text": [
      "\n",
      "----- Starting EM training session -----\n",
      "\n",
      "Estimating the m probabilities of the model by blocking on:\n",
      "l.first_name = r.first_name and l.surname = r.surname\n",
      "\n",
      "Parameter estimates will be made for the following comparison(s):\n",
      "    - dob\n",
      "    - postcode_fake\n",
      "    - birth_place\n",
      "    - occupation\n",
      "\n",
      "Parameter estimates cannot be made for the following comparison(s) since they are used in the blocking rules: \n",
      "    - first_name\n",
      "    - surname\n",
      "\n",
      "Iteration 1: Largest change in params was -0.529 in probability_two_random_records_match\n",
      "Iteration 2: Largest change in params was -0.037 in probability_two_random_records_match\n",
      "Iteration 3: Largest change in params was 0.0162 in the m_probability of birth_place, level `Exact match`\n",
      "Iteration 4: Largest change in params was -0.00771 in the m_probability of dob, level `All other comparisons`\n",
      "\n",
      "EM converged after 4 iterations\n",
      "\n",
      "Your model is not yet fully trained. Missing estimates for:\n",
      "    - first_name (no m values are trained).\n",
      "    - surname (no m values are trained).\n"
     ]
    },
    {
     "data": {
      "application/vnd.vegalite.v4+json": {
       "$schema": "https://vega.github.io/schema/vega-lite/v5.2.json",
       "config": {
        "header": {
         "title": null
        },
        "mark": {
         "tooltip": null
        },
        "title": {
         "anchor": "middle"
        },
        "view": {
         "height": 60,
         "width": 400
        }
       },
       "data": {
        "values": [
         {
          "bayes_factor": 17.346869108684928,
          "bayes_factor_description": "The probability that two random records drawn at random match is 0.945 or one in  1.1 records.This is equivalent to a starting match weight of 4.117.",
          "comparison_name": "probability_two_random_records_match",
          "comparison_sort_order": -1,
          "comparison_vector_value": 0,
          "has_tf_adjustments": false,
          "is_null_level": false,
          "iteration": 0,
          "label_for_charts": "",
          "log2_bayes_factor": 4.116603392908593,
          "m_probability": null,
          "m_probability_description": null,
          "max_comparison_vector_value": 0,
          "probability_two_random_records_match": 0.3663660264141615,
          "sql_condition": null,
          "tf_adjustment_column": null,
          "tf_adjustment_weight": null,
          "u_probability": null,
          "u_probability_description": null
         },
         {
          "bayes_factor": 402.4513672727273,
          "bayes_factor_description": "If comparison level is `exact match` then comparison is 402.45 times more likely to be a match",
          "comparison_name": "dob",
          "comparison_sort_order": 0,
          "comparison_vector_value": 3,
          "has_tf_adjustments": false,
          "is_null_level": false,
          "iteration": 0,
          "label_for_charts": "Exact match",
          "log2_bayes_factor": 8.652670646459038,
          "m_probability": 0.95,
          "m_probability_description": "Amongst matching record comparisons, 95.00% of records are in the exact match comparison level",
          "max_comparison_vector_value": 3,
          "probability_two_random_records_match": 0.3663660264141615,
          "sql_condition": "dob_l = dob_r",
          "tf_adjustment_column": null,
          "tf_adjustment_weight": 1,
          "u_probability": 0.0023605336625834297,
          "u_probability_description": "Amongst non-matching record comparisons, 0.24% of records are in the exact match comparison level"
         },
         {
          "bayes_factor": 0.7549071294899514,
          "bayes_factor_description": "If comparison level is `levenshtein <= 1` then comparison is  1.32 times less likely to be a match",
          "comparison_name": "dob",
          "comparison_sort_order": 0,
          "comparison_vector_value": 2,
          "has_tf_adjustments": false,
          "is_null_level": false,
          "iteration": 0,
          "label_for_charts": "levenshtein <= 1",
          "log2_bayes_factor": -0.40562892338403234,
          "m_probability": 0.01666666666666668,
          "m_probability_description": "Amongst matching record comparisons, 1.67% of records are in the levenshtein <= 1 comparison level",
          "max_comparison_vector_value": 3,
          "probability_two_random_records_match": 0.3663660264141615,
          "sql_condition": "levenshtein(dob_l, dob_r) <= 1",
          "tf_adjustment_column": null,
          "tf_adjustment_weight": 1,
          "u_probability": 0.022077770914585765,
          "u_probability_description": "Amongst non-matching record comparisons, 2.21% of records are in the levenshtein <= 1 comparison level"
         },
         {
          "bayes_factor": 0.19674485183053547,
          "bayes_factor_description": "If comparison level is `levenshtein <= 2` then comparison is  5.08 times less likely to be a match",
          "comparison_name": "dob",
          "comparison_sort_order": 0,
          "comparison_vector_value": 1,
          "has_tf_adjustments": false,
          "is_null_level": false,
          "iteration": 0,
          "label_for_charts": "levenshtein <= 2",
          "log2_bayes_factor": -2.345602209272662,
          "m_probability": 0.01666666666666668,
          "m_probability_description": "Amongst matching record comparisons, 1.67% of records are in the levenshtein <= 2 comparison level",
          "max_comparison_vector_value": 3,
          "probability_two_random_records_match": 0.3663660264141615,
          "sql_condition": "levenshtein(dob_l, dob_r) <= 2",
          "tf_adjustment_column": null,
          "tf_adjustment_weight": 1,
          "u_probability": 0.08471208527998676,
          "u_probability_description": "Amongst non-matching record comparisons, 8.47% of records are in the levenshtein <= 2 comparison level"
         },
         {
          "bayes_factor": 0.01870873206533059,
          "bayes_factor_description": "If comparison level is `all other comparisons` then comparison is  53.45 times less likely to be a match",
          "comparison_name": "dob",
          "comparison_sort_order": 0,
          "comparison_vector_value": 0,
          "has_tf_adjustments": false,
          "is_null_level": false,
          "iteration": 0,
          "label_for_charts": "All other comparisons",
          "log2_bayes_factor": -5.74014440271096,
          "m_probability": 0.01666666666666668,
          "m_probability_description": "Amongst matching record comparisons, 1.67% of records are in the all other comparisons comparison level",
          "max_comparison_vector_value": 3,
          "probability_two_random_records_match": 0.3663660264141615,
          "sql_condition": "ELSE",
          "tf_adjustment_column": null,
          "tf_adjustment_weight": 1,
          "u_probability": 0.890849610142844,
          "u_probability_description": "Amongst non-matching record comparisons, 89.08% of records are in the all other comparisons comparison level"
         },
         {
          "bayes_factor": 6365.856091954022,
          "bayes_factor_description": "If comparison level is `exact match` then comparison is 6,365.86 times more likely to be a match",
          "comparison_name": "postcode_fake",
          "comparison_sort_order": 1,
          "comparison_vector_value": 2,
          "has_tf_adjustments": false,
          "is_null_level": false,
          "iteration": 0,
          "label_for_charts": "Exact match",
          "log2_bayes_factor": 12.636138828099797,
          "m_probability": 0.95,
          "m_probability_description": "Amongst matching record comparisons, 95.00% of records are in the exact match comparison level",
          "max_comparison_vector_value": 2,
          "probability_two_random_records_match": 0.3663660264141615,
          "sql_condition": "postcode_fake_l = postcode_fake_r",
          "tf_adjustment_column": null,
          "tf_adjustment_weight": 1,
          "u_probability": 0.00014923365942889137,
          "u_probability_description": "Amongst non-matching record comparisons, 0.01% of records are in the exact match comparison level"
         },
         {
          "bayes_factor": 46.86321543408364,
          "bayes_factor_description": "If comparison level is `levenshtein <= 2` then comparison is 46.86 times more likely to be a match",
          "comparison_name": "postcode_fake",
          "comparison_sort_order": 1,
          "comparison_vector_value": 1,
          "has_tf_adjustments": false,
          "is_null_level": false,
          "iteration": 0,
          "label_for_charts": "levenshtein <= 2",
          "log2_bayes_factor": 5.55038404037434,
          "m_probability": 0.025000000000000022,
          "m_probability_description": "Amongst matching record comparisons, 2.50% of records are in the levenshtein <= 2 comparison level",
          "max_comparison_vector_value": 2,
          "probability_two_random_records_match": 0.3663660264141615,
          "sql_condition": "levenshtein(postcode_fake_l, postcode_fake_r) <= 2",
          "tf_adjustment_column": null,
          "tf_adjustment_weight": 1,
          "u_probability": 0.0005334674492228186,
          "u_probability_description": "Amongst non-matching record comparisons, 0.05% of records are in the levenshtein <= 2 comparison level"
         },
         {
          "bayes_factor": 0.025017079187696693,
          "bayes_factor_description": "If comparison level is `all other comparisons` then comparison is  39.97 times less likely to be a match",
          "comparison_name": "postcode_fake",
          "comparison_sort_order": 1,
          "comparison_vector_value": 0,
          "has_tf_adjustments": false,
          "is_null_level": false,
          "iteration": 0,
          "label_for_charts": "All other comparisons",
          "log2_bayes_factor": -5.320942829024171,
          "m_probability": 0.025000000000000022,
          "m_probability_description": "Amongst matching record comparisons, 2.50% of records are in the all other comparisons comparison level",
          "max_comparison_vector_value": 2,
          "probability_two_random_records_match": 0.3663660264141615,
          "sql_condition": "ELSE",
          "tf_adjustment_column": null,
          "tf_adjustment_weight": 1,
          "u_probability": 0.9993172988913482,
          "u_probability_description": "Amongst non-matching record comparisons, 99.93% of records are in the all other comparisons comparison level"
         },
         {
          "bayes_factor": 177.5887032989905,
          "bayes_factor_description": "If comparison level is `exact match` then comparison is 177.59 times more likely to be a match",
          "comparison_name": "birth_place",
          "comparison_sort_order": 2,
          "comparison_vector_value": 1,
          "has_tf_adjustments": false,
          "is_null_level": false,
          "iteration": 0,
          "label_for_charts": "Exact match",
          "log2_bayes_factor": 7.472396002246105,
          "m_probability": 0.95,
          "m_probability_description": "Amongst matching record comparisons, 95.00% of records are in the exact match comparison level",
          "max_comparison_vector_value": 1,
          "probability_two_random_records_match": 0.3663660264141615,
          "sql_condition": "birth_place_l = birth_place_r",
          "tf_adjustment_column": null,
          "tf_adjustment_weight": 1,
          "u_probability": 0.005349439363834806,
          "u_probability_description": "Amongst non-matching record comparisons, 0.53% of records are in the exact match comparison level"
         },
         {
          "bayes_factor": 0.05026891048854455,
          "bayes_factor_description": "If comparison level is `all other comparisons` then comparison is  19.89 times less likely to be a match",
          "comparison_name": "birth_place",
          "comparison_sort_order": 2,
          "comparison_vector_value": 0,
          "has_tf_adjustments": false,
          "is_null_level": false,
          "iteration": 0,
          "label_for_charts": "All other comparisons",
          "log2_bayes_factor": -4.314189768889592,
          "m_probability": 0.050000000000000044,
          "m_probability_description": "Amongst matching record comparisons, 5.00% of records are in the all other comparisons comparison level",
          "max_comparison_vector_value": 1,
          "probability_two_random_records_match": 0.3663660264141615,
          "sql_condition": "ELSE",
          "tf_adjustment_column": null,
          "tf_adjustment_weight": 1,
          "u_probability": 0.9946505606361652,
          "u_probability_description": "Amongst non-matching record comparisons, 99.47% of records are in the all other comparisons comparison level"
         },
         {
          "bayes_factor": 24.84217800131205,
          "bayes_factor_description": "If comparison level is `exact match` then comparison is 24.84 times more likely to be a match",
          "comparison_name": "occupation",
          "comparison_sort_order": 3,
          "comparison_vector_value": 1,
          "has_tf_adjustments": false,
          "is_null_level": false,
          "iteration": 0,
          "label_for_charts": "Exact match",
          "log2_bayes_factor": 4.634719760150443,
          "m_probability": 0.95,
          "m_probability_description": "Amongst matching record comparisons, 95.00% of records are in the exact match comparison level",
          "max_comparison_vector_value": 1,
          "probability_two_random_records_match": 0.3663660264141615,
          "sql_condition": "occupation_l = occupation_r",
          "tf_adjustment_column": null,
          "tf_adjustment_weight": 1,
          "u_probability": 0.0382414134521468,
          "u_probability_description": "Amongst non-matching record comparisons, 3.82% of records are in the exact match comparison level"
         },
         {
          "bayes_factor": 0.05198809836413376,
          "bayes_factor_description": "If comparison level is `all other comparisons` then comparison is  19.24 times less likely to be a match",
          "comparison_name": "occupation",
          "comparison_sort_order": 3,
          "comparison_vector_value": 0,
          "has_tf_adjustments": false,
          "is_null_level": false,
          "iteration": 0,
          "label_for_charts": "All other comparisons",
          "log2_bayes_factor": -4.265674804911499,
          "m_probability": 0.050000000000000044,
          "m_probability_description": "Amongst matching record comparisons, 5.00% of records are in the all other comparisons comparison level",
          "max_comparison_vector_value": 1,
          "probability_two_random_records_match": 0.3663660264141615,
          "sql_condition": "ELSE",
          "tf_adjustment_column": null,
          "tf_adjustment_weight": 1,
          "u_probability": 0.9617585865478532,
          "u_probability_description": "Amongst non-matching record comparisons, 96.18% of records are in the all other comparisons comparison level"
         },
         {
          "bayes_factor": 0.71279400682465,
          "bayes_factor_description": "The probability that two random records drawn at random match is 0.416 or one in  2.4 records.This is equivalent to a starting match weight of -0.488.",
          "comparison_name": "probability_two_random_records_match",
          "comparison_sort_order": -1,
          "comparison_vector_value": 0,
          "has_tf_adjustments": false,
          "is_null_level": false,
          "iteration": 1,
          "label_for_charts": "",
          "log2_bayes_factor": -0.4884428881631976,
          "m_probability": null,
          "m_probability_description": null,
          "max_comparison_vector_value": 0,
          "probability_two_random_records_match": 0.3663660264141615,
          "sql_condition": null,
          "tf_adjustment_column": null,
          "tf_adjustment_weight": null,
          "u_probability": null,
          "u_probability_description": null
         },
         {
          "bayes_factor": 250.66216842158238,
          "bayes_factor_description": "If comparison level is `exact match` then comparison is 250.66 times more likely to be a match",
          "comparison_name": "dob",
          "comparison_sort_order": 0,
          "comparison_vector_value": 3,
          "has_tf_adjustments": false,
          "is_null_level": false,
          "iteration": 1,
          "label_for_charts": "Exact match",
          "log2_bayes_factor": 7.969600461378936,
          "m_probability": 0.5916964864953024,
          "m_probability_description": "Amongst matching record comparisons, 59.17% of records are in the exact match comparison level",
          "max_comparison_vector_value": 3,
          "probability_two_random_records_match": 0.3663660264141615,
          "sql_condition": "dob_l = dob_r",
          "tf_adjustment_column": null,
          "tf_adjustment_weight": 1,
          "u_probability": 0.0023605336625834297,
          "u_probability_description": "Amongst non-matching record comparisons, 0.24% of records are in the exact match comparison level"
         },
         {
          "bayes_factor": 14.363316011319533,
          "bayes_factor_description": "If comparison level is `levenshtein <= 1` then comparison is 14.36 times more likely to be a match",
          "comparison_name": "dob",
          "comparison_sort_order": 0,
          "comparison_vector_value": 2,
          "has_tf_adjustments": false,
          "is_null_level": false,
          "iteration": 1,
          "label_for_charts": "levenshtein <= 1",
          "log2_bayes_factor": 3.844316952739927,
          "m_probability": 0.3171100004717144,
          "m_probability_description": "Amongst matching record comparisons, 31.71% of records are in the levenshtein <= 1 comparison level",
          "max_comparison_vector_value": 3,
          "probability_two_random_records_match": 0.3663660264141615,
          "sql_condition": "levenshtein(dob_l, dob_r) <= 1",
          "tf_adjustment_column": null,
          "tf_adjustment_weight": 1,
          "u_probability": 0.022077770914585765,
          "u_probability_description": "Amongst non-matching record comparisons, 2.21% of records are in the levenshtein <= 1 comparison level"
         },
         {
          "bayes_factor": 0.48131862754794014,
          "bayes_factor_description": "If comparison level is `levenshtein <= 2` then comparison is  2.08 times less likely to be a match",
          "comparison_name": "dob",
          "comparison_sort_order": 0,
          "comparison_vector_value": 1,
          "has_tf_adjustments": false,
          "is_null_level": false,
          "iteration": 1,
          "label_for_charts": "levenshtein <= 2",
          "log2_bayes_factor": -1.0549358366562442,
          "m_probability": 0.04077350462368729,
          "m_probability_description": "Amongst matching record comparisons, 4.08% of records are in the levenshtein <= 2 comparison level",
          "max_comparison_vector_value": 3,
          "probability_two_random_records_match": 0.3663660264141615,
          "sql_condition": "levenshtein(dob_l, dob_r) <= 2",
          "tf_adjustment_column": null,
          "tf_adjustment_weight": 1,
          "u_probability": 0.08471208527998676,
          "u_probability_description": "Amongst non-matching record comparisons, 8.47% of records are in the levenshtein <= 2 comparison level"
         },
         {
          "bayes_factor": 0.05659766568410369,
          "bayes_factor_description": "If comparison level is `all other comparisons` then comparison is  17.67 times less likely to be a match",
          "comparison_name": "dob",
          "comparison_sort_order": 0,
          "comparison_vector_value": 0,
          "has_tf_adjustments": false,
          "is_null_level": false,
          "iteration": 1,
          "label_for_charts": "All other comparisons",
          "log2_bayes_factor": -4.143113638049995,
          "m_probability": 0.05042000840967879,
          "m_probability_description": "Amongst matching record comparisons, 5.04% of records are in the all other comparisons comparison level",
          "max_comparison_vector_value": 3,
          "probability_two_random_records_match": 0.3663660264141615,
          "sql_condition": "ELSE",
          "tf_adjustment_column": null,
          "tf_adjustment_weight": 1,
          "u_probability": 0.890849610142844,
          "u_probability_description": "Amongst non-matching record comparisons, 89.08% of records are in the all other comparisons comparison level"
         },
         {
          "bayes_factor": 4502.53597676543,
          "bayes_factor_description": "If comparison level is `exact match` then comparison is 4,502.54 times more likely to be a match",
          "comparison_name": "postcode_fake",
          "comparison_sort_order": 1,
          "comparison_vector_value": 2,
          "has_tf_adjustments": false,
          "is_null_level": false,
          "iteration": 1,
          "label_for_charts": "Exact match",
          "log2_bayes_factor": 12.136522088454651,
          "m_probability": 0.6719299205229429,
          "m_probability_description": "Amongst matching record comparisons, 67.19% of records are in the exact match comparison level",
          "max_comparison_vector_value": 2,
          "probability_two_random_records_match": 0.3663660264141615,
          "sql_condition": "postcode_fake_l = postcode_fake_r",
          "tf_adjustment_column": null,
          "tf_adjustment_weight": 1,
          "u_probability": 0.00014923365942889137,
          "u_probability_description": "Amongst non-matching record comparisons, 0.01% of records are in the exact match comparison level"
         },
         {
          "bayes_factor": 259.21891845667665,
          "bayes_factor_description": "If comparison level is `levenshtein <= 2` then comparison is 259.22 times more likely to be a match",
          "comparison_name": "postcode_fake",
          "comparison_sort_order": 1,
          "comparison_vector_value": 1,
          "has_tf_adjustments": false,
          "is_null_level": false,
          "iteration": 1,
          "label_for_charts": "levenshtein <= 2",
          "log2_bayes_factor": 8.01802720339706,
          "m_probability": 0.1382848552193811,
          "m_probability_description": "Amongst matching record comparisons, 13.83% of records are in the levenshtein <= 2 comparison level",
          "max_comparison_vector_value": 2,
          "probability_two_random_records_match": 0.3663660264141615,
          "sql_condition": "levenshtein(postcode_fake_l, postcode_fake_r) <= 2",
          "tf_adjustment_column": null,
          "tf_adjustment_weight": 1,
          "u_probability": 0.0005334674492228186,
          "u_probability_description": "Amongst non-matching record comparisons, 0.05% of records are in the levenshtein <= 2 comparison level"
         },
         {
          "bayes_factor": 0.18991487935668247,
          "bayes_factor_description": "If comparison level is `all other comparisons` then comparison is  5.27 times less likely to be a match",
          "comparison_name": "postcode_fake",
          "comparison_sort_order": 1,
          "comparison_vector_value": 0,
          "has_tf_adjustments": false,
          "is_null_level": false,
          "iteration": 1,
          "label_for_charts": "All other comparisons",
          "log2_bayes_factor": -2.396575153417029,
          "m_probability": 0.1897852242579962,
          "m_probability_description": "Amongst matching record comparisons, 18.98% of records are in the all other comparisons comparison level",
          "max_comparison_vector_value": 2,
          "probability_two_random_records_match": 0.3663660264141615,
          "sql_condition": "ELSE",
          "tf_adjustment_column": null,
          "tf_adjustment_weight": 1,
          "u_probability": 0.9993172988913482,
          "u_probability_description": "Amongst non-matching record comparisons, 99.93% of records are in the all other comparisons comparison level"
         },
         {
          "bayes_factor": 144.46754279782954,
          "bayes_factor_description": "If comparison level is `exact match` then comparison is 144.47 times more likely to be a match",
          "comparison_name": "birth_place",
          "comparison_sort_order": 2,
          "comparison_vector_value": 1,
          "has_tf_adjustments": false,
          "is_null_level": false,
          "iteration": 1,
          "label_for_charts": "Exact match",
          "log2_bayes_factor": 7.1746015918131505,
          "m_probability": 0.7728203602391989,
          "m_probability_description": "Amongst matching record comparisons, 77.28% of records are in the exact match comparison level",
          "max_comparison_vector_value": 1,
          "probability_two_random_records_match": 0.3663660264141615,
          "sql_condition": "birth_place_l = birth_place_r",
          "tf_adjustment_column": null,
          "tf_adjustment_weight": 1,
          "u_probability": 0.005349439363834806,
          "u_probability_description": "Amongst non-matching record comparisons, 0.53% of records are in the exact match comparison level"
         },
         {
          "bayes_factor": 0.2284014595191055,
          "bayes_factor_description": "If comparison level is `all other comparisons` then comparison is  4.38 times less likely to be a match",
          "comparison_name": "birth_place",
          "comparison_sort_order": 2,
          "comparison_vector_value": 0,
          "has_tf_adjustments": false,
          "is_null_level": false,
          "iteration": 1,
          "label_for_charts": "All other comparisons",
          "log2_bayes_factor": -2.130356225122474,
          "m_probability": 0.2271796397607967,
          "m_probability_description": "Amongst matching record comparisons, 22.72% of records are in the all other comparisons comparison level",
          "max_comparison_vector_value": 1,
          "probability_two_random_records_match": 0.3663660264141615,
          "sql_condition": "ELSE",
          "tf_adjustment_column": null,
          "tf_adjustment_weight": 1,
          "u_probability": 0.9946505606361652,
          "u_probability_description": "Amongst non-matching record comparisons, 99.47% of records are in the all other comparisons comparison level"
         },
         {
          "bayes_factor": 23.462815248761363,
          "bayes_factor_description": "If comparison level is `exact match` then comparison is 23.46 times more likely to be a match",
          "comparison_name": "occupation",
          "comparison_sort_order": 3,
          "comparison_vector_value": 1,
          "has_tf_adjustments": false,
          "is_null_level": false,
          "iteration": 1,
          "label_for_charts": "Exact match",
          "log2_bayes_factor": 4.552304224270384,
          "m_probability": 0.8972512186792179,
          "m_probability_description": "Amongst matching record comparisons, 89.73% of records are in the exact match comparison level",
          "max_comparison_vector_value": 1,
          "probability_two_random_records_match": 0.3663660264141615,
          "sql_condition": "occupation_l = occupation_r",
          "tf_adjustment_column": null,
          "tf_adjustment_weight": 1,
          "u_probability": 0.0382414134521468,
          "u_probability_description": "Amongst non-matching record comparisons, 3.82% of records are in the exact match comparison level"
         },
         {
          "bayes_factor": 0.1068342750022456,
          "bayes_factor_description": "If comparison level is `all other comparisons` then comparison is  9.36 times less likely to be a match",
          "comparison_name": "occupation",
          "comparison_sort_order": 3,
          "comparison_vector_value": 0,
          "has_tf_adjustments": false,
          "is_null_level": false,
          "iteration": 1,
          "label_for_charts": "All other comparisons",
          "log2_bayes_factor": -3.2265535223674733,
          "m_probability": 0.10274878132102437,
          "m_probability_description": "Amongst matching record comparisons, 10.27% of records are in the all other comparisons comparison level",
          "max_comparison_vector_value": 1,
          "probability_two_random_records_match": 0.3663660264141615,
          "sql_condition": "ELSE",
          "tf_adjustment_column": null,
          "tf_adjustment_weight": 1,
          "u_probability": 0.9617585865478532,
          "u_probability_description": "Amongst non-matching record comparisons, 96.18% of records are in the all other comparisons comparison level"
         },
         {
          "bayes_factor": 0.6105980911642,
          "bayes_factor_description": "The probability that two random records drawn at random match is 0.379 or one in  2.6 records.This is equivalent to a starting match weight of -0.712.",
          "comparison_name": "probability_two_random_records_match",
          "comparison_sort_order": -1,
          "comparison_vector_value": 0,
          "has_tf_adjustments": false,
          "is_null_level": false,
          "iteration": 2,
          "label_for_charts": "",
          "log2_bayes_factor": -0.7117050154511643,
          "m_probability": null,
          "m_probability_description": null,
          "max_comparison_vector_value": 0,
          "probability_two_random_records_match": 0.3663660264141615,
          "sql_condition": null,
          "tf_adjustment_column": null,
          "tf_adjustment_weight": null,
          "u_probability": null,
          "u_probability_description": null
         },
         {
          "bayes_factor": 252.5450964422793,
          "bayes_factor_description": "If comparison level is `exact match` then comparison is 252.55 times more likely to be a match",
          "comparison_name": "dob",
          "comparison_sort_order": 0,
          "comparison_vector_value": 3,
          "has_tf_adjustments": false,
          "is_null_level": false,
          "iteration": 2,
          "label_for_charts": "Exact match",
          "log2_bayes_factor": 7.980397219636948,
          "m_probability": 0.596141201472379,
          "m_probability_description": "Amongst matching record comparisons, 59.61% of records are in the exact match comparison level",
          "max_comparison_vector_value": 3,
          "probability_two_random_records_match": 0.3663660264141615,
          "sql_condition": "dob_l = dob_r",
          "tf_adjustment_column": null,
          "tf_adjustment_weight": 1,
          "u_probability": 0.0023605336625834297,
          "u_probability_description": "Amongst non-matching record comparisons, 0.24% of records are in the exact match comparison level"
         },
         {
          "bayes_factor": 15.014157505755126,
          "bayes_factor_description": "If comparison level is `levenshtein <= 1` then comparison is 15.01 times more likely to be a match",
          "comparison_name": "dob",
          "comparison_sort_order": 0,
          "comparison_vector_value": 2,
          "has_tf_adjustments": false,
          "is_null_level": false,
          "iteration": 2,
          "label_for_charts": "levenshtein <= 1",
          "log2_bayes_factor": 3.9082516176432156,
          "m_probability": 0.33147912988757006,
          "m_probability_description": "Amongst matching record comparisons, 33.15% of records are in the levenshtein <= 1 comparison level",
          "max_comparison_vector_value": 3,
          "probability_two_random_records_match": 0.3663660264141615,
          "sql_condition": "levenshtein(dob_l, dob_r) <= 1",
          "tf_adjustment_column": null,
          "tf_adjustment_weight": 1,
          "u_probability": 0.022077770914585765,
          "u_probability_description": "Amongst non-matching record comparisons, 2.21% of records are in the levenshtein <= 1 comparison level"
         },
         {
          "bayes_factor": 0.4516250476996103,
          "bayes_factor_description": "If comparison level is `levenshtein <= 2` then comparison is  2.21 times less likely to be a match",
          "comparison_name": "dob",
          "comparison_sort_order": 0,
          "comparison_vector_value": 1,
          "has_tf_adjustments": false,
          "is_null_level": false,
          "iteration": 2,
          "label_for_charts": "levenshtein <= 2",
          "log2_bayes_factor": -1.1468025928554668,
          "m_probability": 0.03825809955530748,
          "m_probability_description": "Amongst matching record comparisons, 3.83% of records are in the levenshtein <= 2 comparison level",
          "max_comparison_vector_value": 3,
          "probability_two_random_records_match": 0.3663660264141615,
          "sql_condition": "levenshtein(dob_l, dob_r) <= 2",
          "tf_adjustment_column": null,
          "tf_adjustment_weight": 1,
          "u_probability": 0.08471208527998676,
          "u_probability_description": "Amongst non-matching record comparisons, 8.47% of records are in the levenshtein <= 2 comparison level"
         },
         {
          "bayes_factor": 0.0383022776198639,
          "bayes_factor_description": "If comparison level is `all other comparisons` then comparison is  26.11 times less likely to be a match",
          "comparison_name": "dob",
          "comparison_sort_order": 0,
          "comparison_vector_value": 0,
          "has_tf_adjustments": false,
          "is_null_level": false,
          "iteration": 2,
          "label_for_charts": "All other comparisons",
          "log2_bayes_factor": -4.706426006157561,
          "m_probability": 0.03412156908523874,
          "m_probability_description": "Amongst matching record comparisons, 3.41% of records are in the all other comparisons comparison level",
          "max_comparison_vector_value": 3,
          "probability_two_random_records_match": 0.3663660264141615,
          "sql_condition": "ELSE",
          "tf_adjustment_column": null,
          "tf_adjustment_weight": 1,
          "u_probability": 0.890849610142844,
          "u_probability_description": "Amongst non-matching record comparisons, 89.08% of records are in the all other comparisons comparison level"
         },
         {
          "bayes_factor": 4471.975585018928,
          "bayes_factor_description": "If comparison level is `exact match` then comparison is 4,471.98 times more likely to be a match",
          "comparison_name": "postcode_fake",
          "comparison_sort_order": 1,
          "comparison_vector_value": 2,
          "has_tf_adjustments": false,
          "is_null_level": false,
          "iteration": 2,
          "label_for_charts": "Exact match",
          "log2_bayes_factor": 12.126696596396798,
          "m_probability": 0.667369281429032,
          "m_probability_description": "Amongst matching record comparisons, 66.74% of records are in the exact match comparison level",
          "max_comparison_vector_value": 2,
          "probability_two_random_records_match": 0.3663660264141615,
          "sql_condition": "postcode_fake_l = postcode_fake_r",
          "tf_adjustment_column": null,
          "tf_adjustment_weight": 1,
          "u_probability": 0.00014923365942889137,
          "u_probability_description": "Amongst non-matching record comparisons, 0.01% of records are in the exact match comparison level"
         },
         {
          "bayes_factor": 258.2684680884507,
          "bayes_factor_description": "If comparison level is `levenshtein <= 2` then comparison is 258.27 times more likely to be a match",
          "comparison_name": "postcode_fake",
          "comparison_sort_order": 1,
          "comparison_vector_value": 1,
          "has_tf_adjustments": false,
          "is_null_level": false,
          "iteration": 2,
          "label_for_charts": "levenshtein <= 2",
          "log2_bayes_factor": 8.012727705823377,
          "m_probability": 0.1377778208858307,
          "m_probability_description": "Amongst matching record comparisons, 13.78% of records are in the levenshtein <= 2 comparison level",
          "max_comparison_vector_value": 2,
          "probability_two_random_records_match": 0.3663660264141615,
          "sql_condition": "levenshtein(postcode_fake_l, postcode_fake_r) <= 2",
          "tf_adjustment_column": null,
          "tf_adjustment_weight": 1,
          "u_probability": 0.0005334674492228186,
          "u_probability_description": "Amongst non-matching record comparisons, 0.05% of records are in the levenshtein <= 2 comparison level"
         },
         {
          "bayes_factor": 0.19498601485400127,
          "bayes_factor_description": "If comparison level is `all other comparisons` then comparison is  5.13 times less likely to be a match",
          "comparison_name": "postcode_fake",
          "comparison_sort_order": 1,
          "comparison_vector_value": 0,
          "has_tf_adjustments": false,
          "is_null_level": false,
          "iteration": 2,
          "label_for_charts": "All other comparisons",
          "log2_bayes_factor": -2.3585574428320766,
          "m_probability": 0.19485289768548886,
          "m_probability_description": "Amongst matching record comparisons, 19.49% of records are in the all other comparisons comparison level",
          "max_comparison_vector_value": 2,
          "probability_two_random_records_match": 0.3663660264141615,
          "sql_condition": "ELSE",
          "tf_adjustment_column": null,
          "tf_adjustment_weight": 1,
          "u_probability": 0.9993172988913482,
          "u_probability_description": "Amongst non-matching record comparisons, 99.93% of records are in the all other comparisons comparison level"
         },
         {
          "bayes_factor": 150.97857692761897,
          "bayes_factor_description": "If comparison level is `exact match` then comparison is 150.98 times more likely to be a match",
          "comparison_name": "birth_place",
          "comparison_sort_order": 2,
          "comparison_vector_value": 1,
          "has_tf_adjustments": false,
          "is_null_level": false,
          "iteration": 2,
          "label_for_charts": "Exact match",
          "log2_bayes_factor": 7.238200042947931,
          "m_probability": 0.8076507425123665,
          "m_probability_description": "Amongst matching record comparisons, 80.77% of records are in the exact match comparison level",
          "max_comparison_vector_value": 1,
          "probability_two_random_records_match": 0.3663660264141615,
          "sql_condition": "birth_place_l = birth_place_r",
          "tf_adjustment_column": null,
          "tf_adjustment_weight": 1,
          "u_probability": 0.005349439363834806,
          "u_probability_description": "Amongst non-matching record comparisons, 0.53% of records are in the exact match comparison level"
         },
         {
          "bayes_factor": 0.1933837521434914,
          "bayes_factor_description": "If comparison level is `all other comparisons` then comparison is  5.17 times less likely to be a match",
          "comparison_name": "birth_place",
          "comparison_sort_order": 2,
          "comparison_vector_value": 0,
          "has_tf_adjustments": false,
          "is_null_level": false,
          "iteration": 2,
          "label_for_charts": "All other comparisons",
          "log2_bayes_factor": -2.3704615083803198,
          "m_probability": 0.19234925748744894,
          "m_probability_description": "Amongst matching record comparisons, 19.23% of records are in the all other comparisons comparison level",
          "max_comparison_vector_value": 1,
          "probability_two_random_records_match": 0.3663660264141615,
          "sql_condition": "ELSE",
          "tf_adjustment_column": null,
          "tf_adjustment_weight": 1,
          "u_probability": 0.9946505606361652,
          "u_probability_description": "Amongst non-matching record comparisons, 99.47% of records are in the all other comparisons comparison level"
         },
         {
          "bayes_factor": 23.724292383899392,
          "bayes_factor_description": "If comparison level is `exact match` then comparison is 23.72 times more likely to be a match",
          "comparison_name": "occupation",
          "comparison_sort_order": 3,
          "comparison_vector_value": 1,
          "has_tf_adjustments": false,
          "is_null_level": false,
          "iteration": 2,
          "label_for_charts": "Exact match",
          "log2_bayes_factor": 4.568293152019367,
          "m_probability": 0.9072504739123142,
          "m_probability_description": "Amongst matching record comparisons, 90.73% of records are in the exact match comparison level",
          "max_comparison_vector_value": 1,
          "probability_two_random_records_match": 0.3663660264141615,
          "sql_condition": "occupation_l = occupation_r",
          "tf_adjustment_column": null,
          "tf_adjustment_weight": 1,
          "u_probability": 0.0382414134521468,
          "u_probability_description": "Amongst non-matching record comparisons, 3.82% of records are in the exact match comparison level"
         },
         {
          "bayes_factor": 0.096437429709736,
          "bayes_factor_description": "If comparison level is `all other comparisons` then comparison is  10.37 times less likely to be a match",
          "comparison_name": "occupation",
          "comparison_sort_order": 3,
          "comparison_vector_value": 0,
          "has_tf_adjustments": false,
          "is_null_level": false,
          "iteration": 2,
          "label_for_charts": "All other comparisons",
          "log2_bayes_factor": -3.374262989626826,
          "m_probability": 0.09274952608794364,
          "m_probability_description": "Amongst matching record comparisons, 9.27% of records are in the all other comparisons comparison level",
          "max_comparison_vector_value": 1,
          "probability_two_random_records_match": 0.3663660264141615,
          "sql_condition": "ELSE",
          "tf_adjustment_column": null,
          "tf_adjustment_weight": 1,
          "u_probability": 0.9617585865478532,
          "u_probability_description": "Amongst non-matching record comparisons, 96.18% of records are in the all other comparisons comparison level"
         },
         {
          "bayes_factor": 0.5883261895821096,
          "bayes_factor_description": "The probability that two random records drawn at random match is 0.370 or one in  2.7 records.This is equivalent to a starting match weight of -0.765.",
          "comparison_name": "probability_two_random_records_match",
          "comparison_sort_order": -1,
          "comparison_vector_value": 0,
          "has_tf_adjustments": false,
          "is_null_level": false,
          "iteration": 3,
          "label_for_charts": "",
          "log2_bayes_factor": -0.7653118350440243,
          "m_probability": null,
          "m_probability_description": null,
          "max_comparison_vector_value": 0,
          "probability_two_random_records_match": 0.3663660264141615,
          "sql_condition": null,
          "tf_adjustment_column": null,
          "tf_adjustment_weight": null,
          "u_probability": null,
          "u_probability_description": null
         },
         {
          "bayes_factor": 256.6390072494332,
          "bayes_factor_description": "If comparison level is `exact match` then comparison is 256.64 times more likely to be a match",
          "comparison_name": "dob",
          "comparison_sort_order": 0,
          "comparison_vector_value": 3,
          "has_tf_adjustments": false,
          "is_null_level": false,
          "iteration": 3,
          "label_for_charts": "Exact match",
          "log2_bayes_factor": 8.003596655948082,
          "m_probability": 0.6058050157442799,
          "m_probability_description": "Amongst matching record comparisons, 60.58% of records are in the exact match comparison level",
          "max_comparison_vector_value": 3,
          "probability_two_random_records_match": 0.3663660264141615,
          "sql_condition": "dob_l = dob_r",
          "tf_adjustment_column": null,
          "tf_adjustment_weight": 1,
          "u_probability": 0.0023605336625834297,
          "u_probability_description": "Amongst non-matching record comparisons, 0.24% of records are in the exact match comparison level"
         },
         {
          "bayes_factor": 15.19439234320566,
          "bayes_factor_description": "If comparison level is `levenshtein <= 1` then comparison is 15.19 times more likely to be a match",
          "comparison_name": "dob",
          "comparison_sort_order": 0,
          "comparison_vector_value": 2,
          "has_tf_adjustments": false,
          "is_null_level": false,
          "iteration": 3,
          "label_for_charts": "levenshtein <= 1",
          "log2_bayes_factor": 3.9254670743890068,
          "m_probability": 0.33545831333963055,
          "m_probability_description": "Amongst matching record comparisons, 33.55% of records are in the levenshtein <= 1 comparison level",
          "max_comparison_vector_value": 3,
          "probability_two_random_records_match": 0.3663660264141615,
          "sql_condition": "levenshtein(dob_l, dob_r) <= 1",
          "tf_adjustment_column": null,
          "tf_adjustment_weight": 1,
          "u_probability": 0.022077770914585765,
          "u_probability_description": "Amongst non-matching record comparisons, 2.21% of records are in the levenshtein <= 1 comparison level"
         },
         {
          "bayes_factor": 0.4432522451658991,
          "bayes_factor_description": "If comparison level is `levenshtein <= 2` then comparison is  2.26 times less likely to be a match",
          "comparison_name": "dob",
          "comparison_sort_order": 0,
          "comparison_vector_value": 1,
          "has_tf_adjustments": false,
          "is_null_level": false,
          "iteration": 3,
          "label_for_charts": "levenshtein <= 2",
          "log2_bayes_factor": -1.1738001561909104,
          "m_probability": 0.037548821993039244,
          "m_probability_description": "Amongst matching record comparisons, 3.75% of records are in the levenshtein <= 2 comparison level",
          "max_comparison_vector_value": 3,
          "probability_two_random_records_match": 0.3663660264141615,
          "sql_condition": "levenshtein(dob_l, dob_r) <= 2",
          "tf_adjustment_column": null,
          "tf_adjustment_weight": 1,
          "u_probability": 0.08471208527998676,
          "u_probability_description": "Amongst non-matching record comparisons, 8.47% of records are in the levenshtein <= 2 comparison level"
         },
         {
          "bayes_factor": 0.023783867312688337,
          "bayes_factor_description": "If comparison level is `all other comparisons` then comparison is  42.05 times less likely to be a match",
          "comparison_name": "dob",
          "comparison_sort_order": 0,
          "comparison_vector_value": 0,
          "has_tf_adjustments": false,
          "is_null_level": false,
          "iteration": 3,
          "label_for_charts": "All other comparisons",
          "log2_bayes_factor": -5.393872870014768,
          "m_probability": 0.021187848923197538,
          "m_probability_description": "Amongst matching record comparisons, 2.12% of records are in the all other comparisons comparison level",
          "max_comparison_vector_value": 3,
          "probability_two_random_records_match": 0.3663660264141615,
          "sql_condition": "ELSE",
          "tf_adjustment_column": null,
          "tf_adjustment_weight": 1,
          "u_probability": 0.890849610142844,
          "u_probability_description": "Amongst non-matching record comparisons, 89.08% of records are in the all other comparisons comparison level"
         },
         {
          "bayes_factor": 4526.74730246815,
          "bayes_factor_description": "If comparison level is `exact match` then comparison is 4,526.75 times more likely to be a match",
          "comparison_name": "postcode_fake",
          "comparison_sort_order": 1,
          "comparison_vector_value": 2,
          "has_tf_adjustments": false,
          "is_null_level": false,
          "iteration": 3,
          "label_for_charts": "Exact match",
          "log2_bayes_factor": 12.144259057638063,
          "m_probability": 0.6755430652571847,
          "m_probability_description": "Amongst matching record comparisons, 67.55% of records are in the exact match comparison level",
          "max_comparison_vector_value": 2,
          "probability_two_random_records_match": 0.3663660264141615,
          "sql_condition": "postcode_fake_l = postcode_fake_r",
          "tf_adjustment_column": null,
          "tf_adjustment_weight": 1,
          "u_probability": 0.00014923365942889137,
          "u_probability_description": "Amongst non-matching record comparisons, 0.01% of records are in the exact match comparison level"
         },
         {
          "bayes_factor": 261.06711771380475,
          "bayes_factor_description": "If comparison level is `levenshtein <= 2` then comparison is 261.07 times more likely to be a match",
          "comparison_name": "postcode_fake",
          "comparison_sort_order": 1,
          "comparison_vector_value": 1,
          "has_tf_adjustments": false,
          "is_null_level": false,
          "iteration": 3,
          "label_for_charts": "levenshtein <= 2",
          "log2_bayes_factor": 8.028276946549724,
          "m_probability": 0.13927080936273672,
          "m_probability_description": "Amongst matching record comparisons, 13.93% of records are in the levenshtein <= 2 comparison level",
          "max_comparison_vector_value": 2,
          "probability_two_random_records_match": 0.3663660264141615,
          "sql_condition": "levenshtein(postcode_fake_l, postcode_fake_r) <= 2",
          "tf_adjustment_column": null,
          "tf_adjustment_weight": 1,
          "u_probability": 0.0005334674492228186,
          "u_probability_description": "Amongst non-matching record comparisons, 0.05% of records are in the levenshtein <= 2 comparison level"
         },
         {
          "bayes_factor": 0.18531263852413762,
          "bayes_factor_description": "If comparison level is `all other comparisons` then comparison is  5.40 times less likely to be a match",
          "comparison_name": "postcode_fake",
          "comparison_sort_order": 1,
          "comparison_vector_value": 0,
          "has_tf_adjustments": false,
          "is_null_level": false,
          "iteration": 3,
          "label_for_charts": "All other comparisons",
          "log2_bayes_factor": -2.431966816790884,
          "m_probability": 0.18518612538037002,
          "m_probability_description": "Amongst matching record comparisons, 18.52% of records are in the all other comparisons comparison level",
          "max_comparison_vector_value": 2,
          "probability_two_random_records_match": 0.3663660264141615,
          "sql_condition": "ELSE",
          "tf_adjustment_column": null,
          "tf_adjustment_weight": 1,
          "u_probability": 0.9993172988913482,
          "u_probability_description": "Amongst non-matching record comparisons, 99.93% of records are in the all other comparisons comparison level"
         },
         {
          "bayes_factor": 154.00256242970238,
          "bayes_factor_description": "If comparison level is `exact match` then comparison is 154.00 times more likely to be a match",
          "comparison_name": "birth_place",
          "comparison_sort_order": 2,
          "comparison_vector_value": 1,
          "has_tf_adjustments": false,
          "is_null_level": false,
          "iteration": 3,
          "label_for_charts": "Exact match",
          "log2_bayes_factor": 7.266810545720023,
          "m_probability": 0.8238273695928771,
          "m_probability_description": "Amongst matching record comparisons, 82.38% of records are in the exact match comparison level",
          "max_comparison_vector_value": 1,
          "probability_two_random_records_match": 0.3663660264141615,
          "sql_condition": "birth_place_l = birth_place_r",
          "tf_adjustment_column": null,
          "tf_adjustment_weight": 1,
          "u_probability": 0.005349439363834806,
          "u_probability_description": "Amongst non-matching record comparisons, 0.53% of records are in the exact match comparison level"
         },
         {
          "bayes_factor": 0.17712012376952788,
          "bayes_factor_description": "If comparison level is `all other comparisons` then comparison is  5.65 times less likely to be a match",
          "comparison_name": "birth_place",
          "comparison_sort_order": 2,
          "comparison_vector_value": 0,
          "has_tf_adjustments": false,
          "is_null_level": false,
          "iteration": 3,
          "label_for_charts": "All other comparisons",
          "log2_bayes_factor": -2.4971999595160224,
          "m_probability": 0.17617263040730788,
          "m_probability_description": "Amongst matching record comparisons, 17.62% of records are in the all other comparisons comparison level",
          "max_comparison_vector_value": 1,
          "probability_two_random_records_match": 0.3663660264141615,
          "sql_condition": "ELSE",
          "tf_adjustment_column": null,
          "tf_adjustment_weight": 1,
          "u_probability": 0.9946505606361652,
          "u_probability_description": "Amongst non-matching record comparisons, 99.47% of records are in the all other comparisons comparison level"
         },
         {
          "bayes_factor": 23.724927101265873,
          "bayes_factor_description": "If comparison level is `exact match` then comparison is 23.72 times more likely to be a match",
          "comparison_name": "occupation",
          "comparison_sort_order": 3,
          "comparison_vector_value": 1,
          "has_tf_adjustments": false,
          "is_null_level": false,
          "iteration": 3,
          "label_for_charts": "Exact match",
          "log2_bayes_factor": 4.568331749223155,
          "m_probability": 0.907274746401551,
          "m_probability_description": "Amongst matching record comparisons, 90.73% of records are in the exact match comparison level",
          "max_comparison_vector_value": 1,
          "probability_two_random_records_match": 0.3663660264141615,
          "sql_condition": "occupation_l = occupation_r",
          "tf_adjustment_column": null,
          "tf_adjustment_weight": 1,
          "u_probability": 0.0382414134521468,
          "u_probability_description": "Amongst non-matching record comparisons, 3.82% of records are in the exact match comparison level"
         },
         {
          "bayes_factor": 0.0964121920983078,
          "bayes_factor_description": "If comparison level is `all other comparisons` then comparison is  10.37 times less likely to be a match",
          "comparison_name": "occupation",
          "comparison_sort_order": 3,
          "comparison_vector_value": 0,
          "has_tf_adjustments": false,
          "is_null_level": false,
          "iteration": 3,
          "label_for_charts": "All other comparisons",
          "log2_bayes_factor": -3.3746405913739057,
          "m_probability": 0.0927252535984486,
          "m_probability_description": "Amongst matching record comparisons, 9.27% of records are in the all other comparisons comparison level",
          "max_comparison_vector_value": 1,
          "probability_two_random_records_match": 0.3663660264141615,
          "sql_condition": "ELSE",
          "tf_adjustment_column": null,
          "tf_adjustment_weight": 1,
          "u_probability": 0.9617585865478532,
          "u_probability_description": "Amongst non-matching record comparisons, 96.18% of records are in the all other comparisons comparison level"
         },
         {
          "bayes_factor": 0.5781982054100352,
          "bayes_factor_description": "The probability that two random records drawn at random match is 0.366 or one in  2.7 records.This is equivalent to a starting match weight of -0.790.",
          "comparison_name": "probability_two_random_records_match",
          "comparison_sort_order": -1,
          "comparison_vector_value": 0,
          "has_tf_adjustments": false,
          "is_null_level": false,
          "iteration": 4,
          "label_for_charts": "",
          "log2_bayes_factor": -0.7903639638483607,
          "m_probability": null,
          "m_probability_description": null,
          "max_comparison_vector_value": 0,
          "probability_two_random_records_match": 0.3663660264141615,
          "sql_condition": null,
          "tf_adjustment_column": null,
          "tf_adjustment_weight": null,
          "u_probability": null,
          "u_probability_description": null
         },
         {
          "bayes_factor": 258.9744567541073,
          "bayes_factor_description": "If comparison level is `exact match` then comparison is 258.97 times more likely to be a match",
          "comparison_name": "dob",
          "comparison_sort_order": 0,
          "comparison_vector_value": 3,
          "has_tf_adjustments": false,
          "is_null_level": false,
          "iteration": 4,
          "label_for_charts": "Exact match",
          "log2_bayes_factor": 8.016665998375847,
          "m_probability": 0.6113179229173269,
          "m_probability_description": "Amongst matching record comparisons, 61.13% of records are in the exact match comparison level",
          "max_comparison_vector_value": 3,
          "probability_two_random_records_match": 0.3663660264141615,
          "sql_condition": "dob_l = dob_r",
          "tf_adjustment_column": null,
          "tf_adjustment_weight": 1,
          "u_probability": 0.0023605336625834297,
          "u_probability_description": "Amongst non-matching record comparisons, 0.24% of records are in the exact match comparison level"
         },
         {
          "bayes_factor": 15.301809491004427,
          "bayes_factor_description": "If comparison level is `levenshtein <= 1` then comparison is 15.30 times more likely to be a match",
          "comparison_name": "dob",
          "comparison_sort_order": 0,
          "comparison_vector_value": 2,
          "has_tf_adjustments": false,
          "is_null_level": false,
          "iteration": 4,
          "label_for_charts": "levenshtein <= 1",
          "log2_bayes_factor": 3.9356303614876227,
          "m_probability": 0.33782984452102993,
          "m_probability_description": "Amongst matching record comparisons, 33.78% of records are in the levenshtein <= 1 comparison level",
          "max_comparison_vector_value": 3,
          "probability_two_random_records_match": 0.3663660264141615,
          "sql_condition": "levenshtein(dob_l, dob_r) <= 1",
          "tf_adjustment_column": null,
          "tf_adjustment_weight": 1,
          "u_probability": 0.022077770914585765,
          "u_probability_description": "Amongst non-matching record comparisons, 2.21% of records are in the levenshtein <= 1 comparison level"
         },
         {
          "bayes_factor": 0.44117968530704904,
          "bayes_factor_description": "If comparison level is `levenshtein <= 2` then comparison is  2.27 times less likely to be a match",
          "comparison_name": "dob",
          "comparison_sort_order": 0,
          "comparison_vector_value": 1,
          "has_tf_adjustments": false,
          "is_null_level": false,
          "iteration": 4,
          "label_for_charts": "levenshtein <= 2",
          "log2_bayes_factor": -1.1805617331999696,
          "m_probability": 0.03737325112552846,
          "m_probability_description": "Amongst matching record comparisons, 3.74% of records are in the levenshtein <= 2 comparison level",
          "max_comparison_vector_value": 3,
          "probability_two_random_records_match": 0.3663660264141615,
          "sql_condition": "levenshtein(dob_l, dob_r) <= 2",
          "tf_adjustment_column": null,
          "tf_adjustment_weight": 1,
          "u_probability": 0.08471208527998676,
          "u_probability_description": "Amongst non-matching record comparisons, 8.47% of records are in the levenshtein <= 2 comparison level"
         },
         {
          "bayes_factor": 0.01513047913285622,
          "bayes_factor_description": "If comparison level is `all other comparisons` then comparison is  66.09 times less likely to be a match",
          "comparison_name": "dob",
          "comparison_sort_order": 0,
          "comparison_vector_value": 0,
          "has_tf_adjustments": false,
          "is_null_level": false,
          "iteration": 4,
          "label_for_charts": "All other comparisons",
          "log2_bayes_factor": -6.0463985160567715,
          "m_probability": 0.0134789814367794,
          "m_probability_description": "Amongst matching record comparisons, 1.35% of records are in the all other comparisons comparison level",
          "max_comparison_vector_value": 3,
          "probability_two_random_records_match": 0.3663660264141615,
          "sql_condition": "ELSE",
          "tf_adjustment_column": null,
          "tf_adjustment_weight": 1,
          "u_probability": 0.890849610142844,
          "u_probability_description": "Amongst non-matching record comparisons, 89.08% of records are in the all other comparisons comparison level"
         },
         {
          "bayes_factor": 4558.353490900614,
          "bayes_factor_description": "If comparison level is `exact match` then comparison is 4,558.35 times more likely to be a match",
          "comparison_name": "postcode_fake",
          "comparison_sort_order": 1,
          "comparison_vector_value": 2,
          "has_tf_adjustments": false,
          "is_null_level": false,
          "iteration": 4,
          "label_for_charts": "Exact match",
          "log2_bayes_factor": 12.154297091624857,
          "m_probability": 0.6802597724175603,
          "m_probability_description": "Amongst matching record comparisons, 68.03% of records are in the exact match comparison level",
          "max_comparison_vector_value": 2,
          "probability_two_random_records_match": 0.3663660264141615,
          "sql_condition": "postcode_fake_l = postcode_fake_r",
          "tf_adjustment_column": null,
          "tf_adjustment_weight": 1,
          "u_probability": 0.00014923365942889137,
          "u_probability_description": "Amongst non-matching record comparisons, 0.01% of records are in the exact match comparison level"
         },
         {
          "bayes_factor": 262.6777302221138,
          "bayes_factor_description": "If comparison level is `levenshtein <= 2` then comparison is 262.68 times more likely to be a match",
          "comparison_name": "postcode_fake",
          "comparison_sort_order": 1,
          "comparison_vector_value": 1,
          "has_tf_adjustments": false,
          "is_null_level": false,
          "iteration": 4,
          "label_for_charts": "levenshtein <= 2",
          "log2_bayes_factor": 8.037150083965324,
          "m_probability": 0.14013001870923072,
          "m_probability_description": "Amongst matching record comparisons, 14.01% of records are in the levenshtein <= 2 comparison level",
          "max_comparison_vector_value": 2,
          "probability_two_random_records_match": 0.3663660264141615,
          "sql_condition": "levenshtein(postcode_fake_l, postcode_fake_r) <= 2",
          "tf_adjustment_column": null,
          "tf_adjustment_weight": 1,
          "u_probability": 0.0005334674492228186,
          "u_probability_description": "Amongst non-matching record comparisons, 0.05% of records are in the levenshtein <= 2 comparison level"
         },
         {
          "bayes_factor": 0.17973291273263226,
          "bayes_factor_description": "If comparison level is `all other comparisons` then comparison is  5.56 times less likely to be a match",
          "comparison_name": "postcode_fake",
          "comparison_sort_order": 1,
          "comparison_vector_value": 0,
          "has_tf_adjustments": false,
          "is_null_level": false,
          "iteration": 4,
          "label_for_charts": "All other comparisons",
          "log2_bayes_factor": -2.4760734751973654,
          "m_probability": 0.1796102088738485,
          "m_probability_description": "Amongst matching record comparisons, 17.96% of records are in the all other comparisons comparison level",
          "max_comparison_vector_value": 2,
          "probability_two_random_records_match": 0.3663660264141615,
          "sql_condition": "ELSE",
          "tf_adjustment_column": null,
          "tf_adjustment_weight": 1,
          "u_probability": 0.9993172988913482,
          "u_probability_description": "Amongst non-matching record comparisons, 99.93% of records are in the all other comparisons comparison level"
         },
         {
          "bayes_factor": 155.40204461953167,
          "bayes_factor_description": "If comparison level is `exact match` then comparison is 155.40 times more likely to be a match",
          "comparison_name": "birth_place",
          "comparison_sort_order": 2,
          "comparison_vector_value": 1,
          "has_tf_adjustments": false,
          "is_null_level": false,
          "iteration": 4,
          "label_for_charts": "Exact match",
          "log2_bayes_factor": 7.279861675135881,
          "m_probability": 0.8313138147081357,
          "m_probability_description": "Amongst matching record comparisons, 83.13% of records are in the exact match comparison level",
          "max_comparison_vector_value": 1,
          "probability_two_random_records_match": 0.3663660264141615,
          "sql_condition": "birth_place_l = birth_place_r",
          "tf_adjustment_column": null,
          "tf_adjustment_weight": 1,
          "u_probability": 0.005349439363834806,
          "u_probability_description": "Amongst non-matching record comparisons, 0.53% of records are in the exact match comparison level"
         },
         {
          "bayes_factor": 0.1695934149822803,
          "bayes_factor_description": "If comparison level is `all other comparisons` then comparison is  5.90 times less likely to be a match",
          "comparison_name": "birth_place",
          "comparison_sort_order": 2,
          "comparison_vector_value": 0,
          "has_tf_adjustments": false,
          "is_null_level": false,
          "iteration": 4,
          "label_for_charts": "All other comparisons",
          "log2_bayes_factor": -2.559847941241224,
          "m_probability": 0.16868618529232693,
          "m_probability_description": "Amongst matching record comparisons, 16.87% of records are in the all other comparisons comparison level",
          "max_comparison_vector_value": 1,
          "probability_two_random_records_match": 0.3663660264141615,
          "sql_condition": "ELSE",
          "tf_adjustment_column": null,
          "tf_adjustment_weight": 1,
          "u_probability": 0.9946505606361652,
          "u_probability_description": "Amongst non-matching record comparisons, 99.47% of records are in the all other comparisons comparison level"
         },
         {
          "bayes_factor": 23.70877408066072,
          "bayes_factor_description": "If comparison level is `exact match` then comparison is 23.71 times more likely to be a match",
          "comparison_name": "occupation",
          "comparison_sort_order": 3,
          "comparison_vector_value": 1,
          "has_tf_adjustments": false,
          "is_null_level": false,
          "iteration": 4,
          "label_for_charts": "Exact match",
          "log2_bayes_factor": 4.567349161609599,
          "m_probability": 0.9066570320620883,
          "m_probability_description": "Amongst matching record comparisons, 90.67% of records are in the exact match comparison level",
          "max_comparison_vector_value": 1,
          "probability_two_random_records_match": 0.3663660264141615,
          "sql_condition": "occupation_l = occupation_r",
          "tf_adjustment_column": null,
          "tf_adjustment_weight": 1,
          "u_probability": 0.0382414134521468,
          "u_probability_description": "Amongst non-matching record comparisons, 3.82% of records are in the exact match comparison level"
         },
         {
          "bayes_factor": 0.09705446797563799,
          "bayes_factor_description": "If comparison level is `all other comparisons` then comparison is  10.30 times less likely to be a match",
          "comparison_name": "occupation",
          "comparison_sort_order": 3,
          "comparison_vector_value": 0,
          "has_tf_adjustments": false,
          "is_null_level": false,
          "iteration": 4,
          "label_for_charts": "All other comparisons",
          "log2_bayes_factor": -3.365061559752613,
          "m_probability": 0.09334296793840348,
          "m_probability_description": "Amongst matching record comparisons, 9.33% of records are in the all other comparisons comparison level",
          "max_comparison_vector_value": 1,
          "probability_two_random_records_match": 0.3663660264141615,
          "sql_condition": "ELSE",
          "tf_adjustment_column": null,
          "tf_adjustment_weight": 1,
          "u_probability": 0.9617585865478532,
          "u_probability_description": "Amongst non-matching record comparisons, 96.18% of records are in the all other comparisons comparison level"
         }
        ]
       },
       "params": [
        {
         "bind": {
          "input": "range",
          "max": 4,
          "min": 0,
          "step": 1
         },
         "description": "Filter by the interation number",
         "name": "iteration_number",
         "value": 4
        }
       ],
       "resolve": {
        "axis": {
         "y": "independent"
        },
        "scale": {
         "y": "independent"
        }
       },
       "selection": {
        "zoom_selector": {
         "bind": "scales",
         "encodings": [
          "x"
         ],
         "type": "interval"
        }
       },
       "title": {
        "subtitle": "Training session blocked on l.first_name = r.first_name and l.surname = r.surname",
        "text": "Model parameters (components of final match weight)"
       },
       "transform": [
        {
         "filter": "(datum.iteration == iteration_number)"
        }
       ],
       "vconcat": [
        {
         "encoding": {
          "color": {
           "field": "log2_bayes_factor",
           "scale": {
            "domain": [
             -10,
             0,
             10
            ],
            "range": [
             "red",
             "orange",
             "green"
            ]
           },
           "title": "Match weight",
           "type": "quantitative"
          },
          "tooltip": [
           {
            "field": "comparison_name",
            "title": "Comparison name",
            "type": "nominal"
           },
           {
            "field": "probability_two_random_records_match",
            "format": ".4f",
            "title": "Probability two random records match",
            "type": "nominal"
           },
           {
            "field": "log2_bayes_factor",
            "format": ",.4f",
            "title": "Equivalent match weight",
            "type": "quantitative"
           },
           {
            "field": "bayes_factor_description",
            "title": "Match weight description",
            "type": "nominal"
           }
          ],
          "x": {
           "axis": {
            "domain": false,
            "labels": false,
            "ticks": false,
            "title": ""
           },
           "field": "log2_bayes_factor",
           "scale": {
            "domain": [
             -10,
             10
            ]
           },
           "type": "quantitative"
          },
          "y": {
           "axis": {
            "title": "Prior (starting) match weight",
            "titleAlign": "right",
            "titleAngle": 0,
            "titleFontWeight": "normal"
           },
           "field": "label_for_charts",
           "sort": {
            "field": "comparison_vector_value",
            "order": "descending"
           },
           "type": "nominal"
          }
         },
         "height": 30,
         "mark": {
          "clip": true,
          "height": 20,
          "type": "bar"
         },
         "selection": {
          "zoom_selector": {
           "bind": "scales",
           "encodings": [
            "x"
           ],
           "type": "interval"
          }
         },
         "transform": [
          {
           "filter": "(datum.comparison_name == 'probability_two_random_records_match')"
          }
         ]
        },
        {
         "encoding": {
          "color": {
           "field": "log2_bayes_factor",
           "scale": {
            "domain": [
             -10,
             0,
             10
            ],
            "range": [
             "red",
             "orange",
             "green"
            ]
           },
           "title": "Match weight",
           "type": "quantitative"
          },
          "row": {
           "field": "comparison_name",
           "header": {
            "labelAlign": "left",
            "labelAnchor": "middle",
            "labelAngle": 0
           },
           "sort": {
            "field": "comparison_sort_order"
           },
           "type": "nominal"
          },
          "tooltip": [
           {
            "field": "comparison_name",
            "title": "Comparison name",
            "type": "nominal"
           },
           {
            "field": "label_for_charts",
            "title": "Label",
            "type": "ordinal"
           },
           {
            "field": "sql_condition",
            "title": "SQL condition",
            "type": "nominal"
           },
           {
            "field": "m_probability",
            "format": ".4f",
            "title": "M probability",
            "type": "quantitative"
           },
           {
            "field": "u_probability",
            "format": ".4f",
            "title": "U probability",
            "type": "quantitative"
           },
           {
            "field": "bayes_factor",
            "format": ",.4f",
            "title": "Bayes factor = m/u",
            "type": "quantitative"
           },
           {
            "field": "log2_bayes_factor",
            "format": ",.4f",
            "title": "Match weight = log2(m/u)",
            "type": "quantitative"
           },
           {
            "field": "bayes_factor_description",
            "title": "Match weight description",
            "type": "nominal"
           }
          ],
          "x": {
           "axis": {
            "title": "Comparison level match weight = log2(m/u)"
           },
           "field": "log2_bayes_factor",
           "scale": {
            "domain": [
             -10,
             10
            ]
           },
           "type": "quantitative"
          },
          "y": {
           "axis": {
            "title": null
           },
           "field": "label_for_charts",
           "sort": {
            "field": "comparison_vector_value",
            "order": "descending"
           },
           "type": "nominal"
          }
         },
         "mark": {
          "clip": true,
          "type": "bar"
         },
         "resolve": {
          "axis": {
           "y": "independent"
          },
          "scale": {
           "y": "independent"
          }
         },
         "selection": {
          "zoom_selector": {
           "bind": "scales",
           "encodings": [
            "x"
           ],
           "type": "interval"
          }
         },
         "transform": [
          {
           "filter": "(datum.comparison_name != 'probability_two_random_records_match')"
          }
         ]
        }
       ]
      },
      "image/png": "[encoded data removed]",
      "text/plain": [
       "<VegaLite 4 object>\n",
       "\n",
       "If you see this message, it means the renderer has not been properly enabled\n",
       "for the frontend that you are using. For more information, see\n",
       "https://altair-viz.github.io/user_guide/troubleshooting.html\n"
      ]
     },
     "execution_count": 10,
     "metadata": {},
     "output_type": "execute_result"
    }
   ],
   "source": [
    "blocking_rule = \"l.first_name = r.first_name and l.surname = r.surname\"\n",
    "training_session_names = linker.estimate_parameters_using_expectation_maximisation(blocking_rule)\n",
    "training_session_names.match_weights_interactive_history_chart()"
   ]
  },
  {
   "cell_type": "code",
   "execution_count": 11,
   "metadata": {},
   "outputs": [
    {
     "name": "stderr",
     "output_type": "stream",
     "text": [
      "\n",
      "----- Starting EM training session -----\n",
      "\n",
      "Estimating the m probabilities of the model by blocking on:\n",
      "l.dob = r.dob\n",
      "\n",
      "Parameter estimates will be made for the following comparison(s):\n",
      "    - first_name\n",
      "    - surname\n",
      "    - postcode_fake\n",
      "    - birth_place\n",
      "    - occupation\n",
      "\n",
      "Parameter estimates cannot be made for the following comparison(s) since they are used in the blocking rules: \n",
      "    - dob\n",
      "\n",
      "Iteration 1: Largest change in params was -0.311 in the m_probability of first_name, level `Exact match`\n",
      "Iteration 2: Largest change in params was -0.0718 in the m_probability of first_name, level `Exact match`\n",
      "Iteration 3: Largest change in params was -0.0115 in the m_probability of surname, level `Exact match`\n",
      "Iteration 4: Largest change in params was -0.00288 in the m_probability of surname, level `Exact match`\n",
      "\n",
      "EM converged after 4 iterations\n",
      "\n",
      "Your model is fully trained. All comparisons have at least one estimate for their m and u values\n"
     ]
    },
    {
     "data": {
      "application/vnd.vegalite.v4+json": {
       "$schema": "https://vega.github.io/schema/vega-lite/v5.2.json",
       "config": {
        "header": {
         "title": null
        },
        "mark": {
         "tooltip": null
        },
        "title": {
         "anchor": "middle"
        },
        "view": {
         "height": 60,
         "width": 400
        }
       },
       "data": {
        "values": [
         {
          "bayes_factor": 0.0015540437954354677,
          "bayes_factor_description": "The probability that two random records drawn at random match is 0.002 or one in  644.5 records.This is equivalent to a starting match weight of -9.330.",
          "comparison_name": "probability_two_random_records_match",
          "comparison_sort_order": -1,
          "comparison_vector_value": 0,
          "has_tf_adjustments": false,
          "is_null_level": false,
          "iteration": 0,
          "label_for_charts": "",
          "log2_bayes_factor": -9.329757122893781,
          "m_probability": null,
          "m_probability_description": null,
          "max_comparison_vector_value": 0,
          "probability_two_random_records_match": 0.05669636876770377,
          "sql_condition": null,
          "tf_adjustment_column": null,
          "tf_adjustment_weight": null,
          "u_probability": null,
          "u_probability_description": null
         },
         {
          "bayes_factor": 72.90484450609208,
          "bayes_factor_description": "If comparison level is `exact match` then comparison is 72.90 times more likely to be a match",
          "comparison_name": "first_name",
          "comparison_sort_order": 0,
          "comparison_vector_value": 3,
          "has_tf_adjustments": false,
          "is_null_level": false,
          "iteration": 0,
          "label_for_charts": "Exact match",
          "log2_bayes_factor": 6.187942779298232,
          "m_probability": 0.95,
          "m_probability_description": "Amongst matching record comparisons, 95.00% of records are in the exact match comparison level",
          "max_comparison_vector_value": 3,
          "probability_two_random_records_match": 0.05669636876770377,
          "sql_condition": "first_name_l = first_name_r",
          "tf_adjustment_column": null,
          "tf_adjustment_weight": 1,
          "u_probability": 0.013030684125807525,
          "u_probability_description": "Amongst non-matching record comparisons, 1.30% of records are in the exact match comparison level"
         },
         {
          "bayes_factor": 60.646973094170455,
          "bayes_factor_description": "If comparison level is `jaccard >= 0.9` then comparison is 60.65 times more likely to be a match",
          "comparison_name": "first_name",
          "comparison_sort_order": 0,
          "comparison_vector_value": 2,
          "has_tf_adjustments": false,
          "is_null_level": false,
          "iteration": 0,
          "label_for_charts": "jaccard >= 0.9",
          "log2_bayes_factor": 5.922363736754099,
          "m_probability": 0.01666666666666668,
          "m_probability_description": "Amongst matching record comparisons, 1.67% of records are in the jaccard >= 0.9 comparison level",
          "max_comparison_vector_value": 3,
          "probability_two_random_records_match": 0.05669636876770377,
          "sql_condition": "jaccard(first_name_l, first_name_r) >= 0.9",
          "tf_adjustment_column": null,
          "tf_adjustment_weight": 1,
          "u_probability": 0.00027481448481834824,
          "u_probability_description": "Amongst non-matching record comparisons, 0.03% of records are in the jaccard >= 0.9 comparison level"
         },
         {
          "bayes_factor": 0.4485514576630961,
          "bayes_factor_description": "If comparison level is `jaccard >= 0.5` then comparison is  2.23 times less likely to be a match",
          "comparison_name": "first_name",
          "comparison_sort_order": 0,
          "comparison_vector_value": 1,
          "has_tf_adjustments": false,
          "is_null_level": false,
          "iteration": 0,
          "label_for_charts": "jaccard >= 0.5",
          "log2_bayes_factor": -1.1566545947886686,
          "m_probability": 0.01666666666666668,
          "m_probability_description": "Amongst matching record comparisons, 1.67% of records are in the jaccard >= 0.5 comparison level",
          "max_comparison_vector_value": 3,
          "probability_two_random_records_match": 0.05669636876770377,
          "sql_condition": "jaccard(first_name_l, first_name_r) >= 0.5",
          "tf_adjustment_column": null,
          "tf_adjustment_weight": 1,
          "u_probability": 0.03715664364017048,
          "u_probability_description": "Amongst non-matching record comparisons, 3.72% of records are in the jaccard >= 0.5 comparison level"
         },
         {
          "bayes_factor": 0.017552398285807746,
          "bayes_factor_description": "If comparison level is `all other comparisons` then comparison is  56.97 times less likely to be a match",
          "comparison_name": "first_name",
          "comparison_sort_order": 0,
          "comparison_vector_value": 0,
          "has_tf_adjustments": false,
          "is_null_level": false,
          "iteration": 0,
          "label_for_charts": "All other comparisons",
          "log2_bayes_factor": -5.83218802199981,
          "m_probability": 0.01666666666666668,
          "m_probability_description": "Amongst matching record comparisons, 1.67% of records are in the all other comparisons comparison level",
          "max_comparison_vector_value": 3,
          "probability_two_random_records_match": 0.05669636876770377,
          "sql_condition": "ELSE",
          "tf_adjustment_column": null,
          "tf_adjustment_weight": 1,
          "u_probability": 0.9495378577492036,
          "u_probability_description": "Amongst non-matching record comparisons, 94.95% of records are in the all other comparisons comparison level"
         },
         {
          "bayes_factor": 1321.6425990880393,
          "bayes_factor_description": "If comparison level is `exact match` then comparison is 1,321.64 times more likely to be a match",
          "comparison_name": "surname",
          "comparison_sort_order": 1,
          "comparison_vector_value": 3,
          "has_tf_adjustments": false,
          "is_null_level": false,
          "iteration": 0,
          "label_for_charts": "Exact match",
          "log2_bayes_factor": 10.368116378123036,
          "m_probability": 0.95,
          "m_probability_description": "Amongst matching record comparisons, 95.00% of records are in the exact match comparison level",
          "max_comparison_vector_value": 3,
          "probability_two_random_records_match": 0.05669636876770377,
          "sql_condition": "surname_l = surname_r",
          "tf_adjustment_column": null,
          "tf_adjustment_weight": 1,
          "u_probability": 0.0007188024967230321,
          "u_probability_description": "Amongst non-matching record comparisons, 0.07% of records are in the exact match comparison level"
         },
         {
          "bayes_factor": 207.22669801462925,
          "bayes_factor_description": "If comparison level is `jaccard >= 0.9` then comparison is 207.23 times more likely to be a match",
          "comparison_name": "surname",
          "comparison_sort_order": 1,
          "comparison_vector_value": 2,
          "has_tf_adjustments": false,
          "is_null_level": false,
          "iteration": 0,
          "label_for_charts": "jaccard >= 0.9",
          "log2_bayes_factor": 7.695066074131379,
          "m_probability": 0.01666666666666668,
          "m_probability_description": "Amongst matching record comparisons, 1.67% of records are in the jaccard >= 0.9 comparison level",
          "max_comparison_vector_value": 3,
          "probability_two_random_records_match": 0.05669636876770377,
          "sql_condition": "jaccard(surname_l, surname_r) >= 0.9",
          "tf_adjustment_column": null,
          "tf_adjustment_weight": 1,
          "u_probability": 8.042721727627051e-05,
          "u_probability_description": "Amongst non-matching record comparisons, 0.01% of records are in the jaccard >= 0.9 comparison level"
         },
         {
          "bayes_factor": 0.4299980268949401,
          "bayes_factor_description": "If comparison level is `jaccard >= 0.5` then comparison is  2.33 times less likely to be a match",
          "comparison_name": "surname",
          "comparison_sort_order": 1,
          "comparison_vector_value": 1,
          "has_tf_adjustments": false,
          "is_null_level": false,
          "iteration": 0,
          "label_for_charts": "jaccard >= 0.5",
          "log2_bayes_factor": -1.2175980550619665,
          "m_probability": 0.01666666666666668,
          "m_probability_description": "Amongst matching record comparisons, 1.67% of records are in the jaccard >= 0.5 comparison level",
          "max_comparison_vector_value": 3,
          "probability_two_random_records_match": 0.05669636876770377,
          "sql_condition": "jaccard(surname_l, surname_r) >= 0.5",
          "tf_adjustment_column": null,
          "tf_adjustment_weight": 1,
          "u_probability": 0.038759867776646306,
          "u_probability_description": "Amongst non-matching record comparisons, 3.88% of records are in the jaccard >= 0.5 comparison level"
         },
         {
          "bayes_factor": 0.017353141274097653,
          "bayes_factor_description": "If comparison level is `all other comparisons` then comparison is  57.63 times less likely to be a match",
          "comparison_name": "surname",
          "comparison_sort_order": 1,
          "comparison_vector_value": 0,
          "has_tf_adjustments": false,
          "is_null_level": false,
          "iteration": 0,
          "label_for_charts": "All other comparisons",
          "log2_bayes_factor": -5.848659345970924,
          "m_probability": 0.01666666666666668,
          "m_probability_description": "Amongst matching record comparisons, 1.67% of records are in the all other comparisons comparison level",
          "max_comparison_vector_value": 3,
          "probability_two_random_records_match": 0.05669636876770377,
          "sql_condition": "ELSE",
          "tf_adjustment_column": null,
          "tf_adjustment_weight": 1,
          "u_probability": 0.9604409025093544,
          "u_probability_description": "Amongst non-matching record comparisons, 96.04% of records are in the all other comparisons comparison level"
         },
         {
          "bayes_factor": 4558.353490900614,
          "bayes_factor_description": "If comparison level is `exact match` then comparison is 4,558.35 times more likely to be a match",
          "comparison_name": "postcode_fake",
          "comparison_sort_order": 2,
          "comparison_vector_value": 2,
          "has_tf_adjustments": false,
          "is_null_level": false,
          "iteration": 0,
          "label_for_charts": "Exact match",
          "log2_bayes_factor": 12.154297091624857,
          "m_probability": 0.6802597724175603,
          "m_probability_description": "Amongst matching record comparisons, 68.03% of records are in the exact match comparison level",
          "max_comparison_vector_value": 2,
          "probability_two_random_records_match": 0.05669636876770377,
          "sql_condition": "postcode_fake_l = postcode_fake_r",
          "tf_adjustment_column": null,
          "tf_adjustment_weight": 1,
          "u_probability": 0.00014923365942889137,
          "u_probability_description": "Amongst non-matching record comparisons, 0.01% of records are in the exact match comparison level"
         },
         {
          "bayes_factor": 262.6777302221138,
          "bayes_factor_description": "If comparison level is `levenshtein <= 2` then comparison is 262.68 times more likely to be a match",
          "comparison_name": "postcode_fake",
          "comparison_sort_order": 2,
          "comparison_vector_value": 1,
          "has_tf_adjustments": false,
          "is_null_level": false,
          "iteration": 0,
          "label_for_charts": "levenshtein <= 2",
          "log2_bayes_factor": 8.037150083965324,
          "m_probability": 0.14013001870923072,
          "m_probability_description": "Amongst matching record comparisons, 14.01% of records are in the levenshtein <= 2 comparison level",
          "max_comparison_vector_value": 2,
          "probability_two_random_records_match": 0.05669636876770377,
          "sql_condition": "levenshtein(postcode_fake_l, postcode_fake_r) <= 2",
          "tf_adjustment_column": null,
          "tf_adjustment_weight": 1,
          "u_probability": 0.0005334674492228186,
          "u_probability_description": "Amongst non-matching record comparisons, 0.05% of records are in the levenshtein <= 2 comparison level"
         },
         {
          "bayes_factor": 0.17973291273263226,
          "bayes_factor_description": "If comparison level is `all other comparisons` then comparison is  5.56 times less likely to be a match",
          "comparison_name": "postcode_fake",
          "comparison_sort_order": 2,
          "comparison_vector_value": 0,
          "has_tf_adjustments": false,
          "is_null_level": false,
          "iteration": 0,
          "label_for_charts": "All other comparisons",
          "log2_bayes_factor": -2.4760734751973654,
          "m_probability": 0.1796102088738485,
          "m_probability_description": "Amongst matching record comparisons, 17.96% of records are in the all other comparisons comparison level",
          "max_comparison_vector_value": 2,
          "probability_two_random_records_match": 0.05669636876770377,
          "sql_condition": "ELSE",
          "tf_adjustment_column": null,
          "tf_adjustment_weight": 1,
          "u_probability": 0.9993172988913482,
          "u_probability_description": "Amongst non-matching record comparisons, 99.93% of records are in the all other comparisons comparison level"
         },
         {
          "bayes_factor": 155.40204461953167,
          "bayes_factor_description": "If comparison level is `exact match` then comparison is 155.40 times more likely to be a match",
          "comparison_name": "birth_place",
          "comparison_sort_order": 3,
          "comparison_vector_value": 1,
          "has_tf_adjustments": false,
          "is_null_level": false,
          "iteration": 0,
          "label_for_charts": "Exact match",
          "log2_bayes_factor": 7.279861675135881,
          "m_probability": 0.8313138147081357,
          "m_probability_description": "Amongst matching record comparisons, 83.13% of records are in the exact match comparison level",
          "max_comparison_vector_value": 1,
          "probability_two_random_records_match": 0.05669636876770377,
          "sql_condition": "birth_place_l = birth_place_r",
          "tf_adjustment_column": null,
          "tf_adjustment_weight": 1,
          "u_probability": 0.005349439363834806,
          "u_probability_description": "Amongst non-matching record comparisons, 0.53% of records are in the exact match comparison level"
         },
         {
          "bayes_factor": 0.1695934149822803,
          "bayes_factor_description": "If comparison level is `all other comparisons` then comparison is  5.90 times less likely to be a match",
          "comparison_name": "birth_place",
          "comparison_sort_order": 3,
          "comparison_vector_value": 0,
          "has_tf_adjustments": false,
          "is_null_level": false,
          "iteration": 0,
          "label_for_charts": "All other comparisons",
          "log2_bayes_factor": -2.559847941241224,
          "m_probability": 0.16868618529232693,
          "m_probability_description": "Amongst matching record comparisons, 16.87% of records are in the all other comparisons comparison level",
          "max_comparison_vector_value": 1,
          "probability_two_random_records_match": 0.05669636876770377,
          "sql_condition": "ELSE",
          "tf_adjustment_column": null,
          "tf_adjustment_weight": 1,
          "u_probability": 0.9946505606361652,
          "u_probability_description": "Amongst non-matching record comparisons, 99.47% of records are in the all other comparisons comparison level"
         },
         {
          "bayes_factor": 23.70877408066072,
          "bayes_factor_description": "If comparison level is `exact match` then comparison is 23.71 times more likely to be a match",
          "comparison_name": "occupation",
          "comparison_sort_order": 4,
          "comparison_vector_value": 1,
          "has_tf_adjustments": false,
          "is_null_level": false,
          "iteration": 0,
          "label_for_charts": "Exact match",
          "log2_bayes_factor": 4.567349161609599,
          "m_probability": 0.9066570320620883,
          "m_probability_description": "Amongst matching record comparisons, 90.67% of records are in the exact match comparison level",
          "max_comparison_vector_value": 1,
          "probability_two_random_records_match": 0.05669636876770377,
          "sql_condition": "occupation_l = occupation_r",
          "tf_adjustment_column": null,
          "tf_adjustment_weight": 1,
          "u_probability": 0.0382414134521468,
          "u_probability_description": "Amongst non-matching record comparisons, 3.82% of records are in the exact match comparison level"
         },
         {
          "bayes_factor": 0.09705446797563799,
          "bayes_factor_description": "If comparison level is `all other comparisons` then comparison is  10.30 times less likely to be a match",
          "comparison_name": "occupation",
          "comparison_sort_order": 4,
          "comparison_vector_value": 0,
          "has_tf_adjustments": false,
          "is_null_level": false,
          "iteration": 0,
          "label_for_charts": "All other comparisons",
          "log2_bayes_factor": -3.365061559752613,
          "m_probability": 0.09334296793840348,
          "m_probability_description": "Amongst matching record comparisons, 9.33% of records are in the all other comparisons comparison level",
          "max_comparison_vector_value": 1,
          "probability_two_random_records_match": 0.05669636876770377,
          "sql_condition": "ELSE",
          "tf_adjustment_column": null,
          "tf_adjustment_weight": 1,
          "u_probability": 0.9617585865478532,
          "u_probability_description": "Amongst non-matching record comparisons, 96.18% of records are in the all other comparisons comparison level"
         },
         {
          "bayes_factor": 0.04890729710321152,
          "bayes_factor_description": "The probability that two random records drawn at random match is 0.047 or one in  21.4 records.This is equivalent to a starting match weight of -4.354.",
          "comparison_name": "probability_two_random_records_match",
          "comparison_sort_order": -1,
          "comparison_vector_value": 0,
          "has_tf_adjustments": false,
          "is_null_level": false,
          "iteration": 1,
          "label_for_charts": "",
          "log2_bayes_factor": -4.353806454470192,
          "m_probability": null,
          "m_probability_description": null,
          "max_comparison_vector_value": 0,
          "probability_two_random_records_match": 0.05669636876770377,
          "sql_condition": null,
          "tf_adjustment_column": null,
          "tf_adjustment_weight": null,
          "u_probability": null,
          "u_probability_description": null
         },
         {
          "bayes_factor": 49.0718146592462,
          "bayes_factor_description": "If comparison level is `exact match` then comparison is 49.07 times more likely to be a match",
          "comparison_name": "first_name",
          "comparison_sort_order": 0,
          "comparison_vector_value": 3,
          "has_tf_adjustments": false,
          "is_null_level": false,
          "iteration": 1,
          "label_for_charts": "Exact match",
          "log2_bayes_factor": 5.616822717658663,
          "m_probability": 0.6394393163048084,
          "m_probability_description": "Amongst matching record comparisons, 63.94% of records are in the exact match comparison level",
          "max_comparison_vector_value": 3,
          "probability_two_random_records_match": 0.05669636876770377,
          "sql_condition": "first_name_l = first_name_r",
          "tf_adjustment_column": null,
          "tf_adjustment_weight": 1,
          "u_probability": 0.013030684125807525,
          "u_probability_description": "Amongst non-matching record comparisons, 1.30% of records are in the exact match comparison level"
         },
         {
          "bayes_factor": 30.406323148368532,
          "bayes_factor_description": "If comparison level is `jaccard >= 0.9` then comparison is 30.41 times more likely to be a match",
          "comparison_name": "first_name",
          "comparison_sort_order": 0,
          "comparison_vector_value": 2,
          "has_tf_adjustments": false,
          "is_null_level": false,
          "iteration": 1,
          "label_for_charts": "jaccard >= 0.9",
          "log2_bayes_factor": 4.926299465470907,
          "m_probability": 0.008356098031239115,
          "m_probability_description": "Amongst matching record comparisons, 0.84% of records are in the jaccard >= 0.9 comparison level",
          "max_comparison_vector_value": 3,
          "probability_two_random_records_match": 0.05669636876770377,
          "sql_condition": "jaccard(first_name_l, first_name_r) >= 0.9",
          "tf_adjustment_column": null,
          "tf_adjustment_weight": 1,
          "u_probability": 0.00027481448481834824,
          "u_probability_description": "Amongst non-matching record comparisons, 0.03% of records are in the jaccard >= 0.9 comparison level"
         },
         {
          "bayes_factor": 5.578395190052026,
          "bayes_factor_description": "If comparison level is `jaccard >= 0.5` then comparison is 5.58 times more likely to be a match",
          "comparison_name": "first_name",
          "comparison_sort_order": 0,
          "comparison_vector_value": 1,
          "has_tf_adjustments": false,
          "is_null_level": false,
          "iteration": 1,
          "label_for_charts": "jaccard >= 0.5",
          "log2_bayes_factor": 2.4798501427801067,
          "m_probability": 0.20727444216080423,
          "m_probability_description": "Amongst matching record comparisons, 20.73% of records are in the jaccard >= 0.5 comparison level",
          "max_comparison_vector_value": 3,
          "probability_two_random_records_match": 0.05669636876770377,
          "sql_condition": "jaccard(first_name_l, first_name_r) >= 0.5",
          "tf_adjustment_column": null,
          "tf_adjustment_weight": 1,
          "u_probability": 0.03715664364017048,
          "u_probability_description": "Amongst non-matching record comparisons, 3.72% of records are in the jaccard >= 0.5 comparison level"
         },
         {
          "bayes_factor": 0.15263229614303483,
          "bayes_factor_description": "If comparison level is `all other comparisons` then comparison is  6.55 times less likely to be a match",
          "comparison_name": "first_name",
          "comparison_sort_order": 0,
          "comparison_vector_value": 0,
          "has_tf_adjustments": false,
          "is_null_level": false,
          "iteration": 1,
          "label_for_charts": "All other comparisons",
          "log2_bayes_factor": -2.7118678341855116,
          "m_probability": 0.14493014350299932,
          "m_probability_description": "Amongst matching record comparisons, 14.49% of records are in the all other comparisons comparison level",
          "max_comparison_vector_value": 3,
          "probability_two_random_records_match": 0.05669636876770377,
          "sql_condition": "ELSE",
          "tf_adjustment_column": null,
          "tf_adjustment_weight": 1,
          "u_probability": 0.9495378577492036,
          "u_probability_description": "Amongst non-matching record comparisons, 94.95% of records are in the all other comparisons comparison level"
         },
         {
          "bayes_factor": 1190.3700243806632,
          "bayes_factor_description": "If comparison level is `exact match` then comparison is 1,190.37 times more likely to be a match",
          "comparison_name": "surname",
          "comparison_sort_order": 1,
          "comparison_vector_value": 3,
          "has_tf_adjustments": false,
          "is_null_level": false,
          "iteration": 1,
          "label_for_charts": "Exact match",
          "log2_bayes_factor": 10.21719438706924,
          "m_probability": 0.8556409455490772,
          "m_probability_description": "Amongst matching record comparisons, 85.56% of records are in the exact match comparison level",
          "max_comparison_vector_value": 3,
          "probability_two_random_records_match": 0.05669636876770377,
          "sql_condition": "surname_l = surname_r",
          "tf_adjustment_column": null,
          "tf_adjustment_weight": 1,
          "u_probability": 0.0007188024967230321,
          "u_probability_description": "Amongst non-matching record comparisons, 0.07% of records are in the exact match comparison level"
         },
         {
          "bayes_factor": 337.2517214954971,
          "bayes_factor_description": "If comparison level is `jaccard >= 0.9` then comparison is 337.25 times more likely to be a match",
          "comparison_name": "surname",
          "comparison_sort_order": 1,
          "comparison_vector_value": 2,
          "has_tf_adjustments": false,
          "is_null_level": false,
          "iteration": 1,
          "label_for_charts": "jaccard >= 0.9",
          "log2_bayes_factor": 8.397681997178594,
          "m_probability": 0.02712421748151462,
          "m_probability_description": "Amongst matching record comparisons, 2.71% of records are in the jaccard >= 0.9 comparison level",
          "max_comparison_vector_value": 3,
          "probability_two_random_records_match": 0.05669636876770377,
          "sql_condition": "jaccard(surname_l, surname_r) >= 0.9",
          "tf_adjustment_column": null,
          "tf_adjustment_weight": 1,
          "u_probability": 8.042721727627051e-05,
          "u_probability_description": "Amongst non-matching record comparisons, 0.01% of records are in the jaccard >= 0.9 comparison level"
         },
         {
          "bayes_factor": 2.357324635870543,
          "bayes_factor_description": "If comparison level is `jaccard >= 0.5` then comparison is 2.36 times more likely to be a match",
          "comparison_name": "surname",
          "comparison_sort_order": 1,
          "comparison_vector_value": 1,
          "has_tf_adjustments": false,
          "is_null_level": false,
          "iteration": 1,
          "label_for_charts": "jaccard >= 0.5",
          "log2_bayes_factor": 1.2371504511251636,
          "m_probability": 0.09136959119297315,
          "m_probability_description": "Amongst matching record comparisons, 9.14% of records are in the jaccard >= 0.5 comparison level",
          "max_comparison_vector_value": 3,
          "probability_two_random_records_match": 0.05669636876770377,
          "sql_condition": "jaccard(surname_l, surname_r) >= 0.5",
          "tf_adjustment_column": null,
          "tf_adjustment_weight": 1,
          "u_probability": 0.038759867776646306,
          "u_probability_description": "Amongst non-matching record comparisons, 3.88% of records are in the jaccard >= 0.5 comparison level"
         },
         {
          "bayes_factor": 0.026930595843089353,
          "bayes_factor_description": "If comparison level is `all other comparisons` then comparison is  37.13 times less likely to be a match",
          "comparison_name": "surname",
          "comparison_sort_order": 1,
          "comparison_vector_value": 0,
          "has_tf_adjustments": false,
          "is_null_level": false,
          "iteration": 1,
          "label_for_charts": "All other comparisons",
          "log2_bayes_factor": -5.214610039758368,
          "m_probability": 0.02586524577665141,
          "m_probability_description": "Amongst matching record comparisons, 2.59% of records are in the all other comparisons comparison level",
          "max_comparison_vector_value": 3,
          "probability_two_random_records_match": 0.05669636876770377,
          "sql_condition": "ELSE",
          "tf_adjustment_column": null,
          "tf_adjustment_weight": 1,
          "u_probability": 0.9604409025093544,
          "u_probability_description": "Amongst non-matching record comparisons, 96.04% of records are in the all other comparisons comparison level"
         },
         {
          "bayes_factor": 4970.567849452861,
          "bayes_factor_description": "If comparison level is `exact match` then comparison is 4,970.57 times more likely to be a match",
          "comparison_name": "postcode_fake",
          "comparison_sort_order": 2,
          "comparison_vector_value": 2,
          "has_tf_adjustments": false,
          "is_null_level": false,
          "iteration": 1,
          "label_for_charts": "Exact match",
          "log2_bayes_factor": 12.279194962765994,
          "m_probability": 0.7417760296134452,
          "m_probability_description": "Amongst matching record comparisons, 74.18% of records are in the exact match comparison level",
          "max_comparison_vector_value": 2,
          "probability_two_random_records_match": 0.05669636876770377,
          "sql_condition": "postcode_fake_l = postcode_fake_r",
          "tf_adjustment_column": null,
          "tf_adjustment_weight": 1,
          "u_probability": 0.00014923365942889137,
          "u_probability_description": "Amongst non-matching record comparisons, 0.01% of records are in the exact match comparison level"
         },
         {
          "bayes_factor": 262.9125722331483,
          "bayes_factor_description": "If comparison level is `levenshtein <= 2` then comparison is 262.91 times more likely to be a match",
          "comparison_name": "postcode_fake",
          "comparison_sort_order": 2,
          "comparison_vector_value": 1,
          "has_tf_adjustments": false,
          "is_null_level": false,
          "iteration": 1,
          "label_for_charts": "levenshtein <= 2",
          "log2_bayes_factor": 8.038439321706873,
          "m_probability": 0.14025529927782768,
          "m_probability_description": "Amongst matching record comparisons, 14.03% of records are in the levenshtein <= 2 comparison level",
          "max_comparison_vector_value": 2,
          "probability_two_random_records_match": 0.05669636876770377,
          "sql_condition": "levenshtein(postcode_fake_l, postcode_fake_r) <= 2",
          "tf_adjustment_column": null,
          "tf_adjustment_weight": 1,
          "u_probability": 0.0005334674492228186,
          "u_probability_description": "Amongst non-matching record comparisons, 0.05% of records are in the levenshtein <= 2 comparison level"
         },
         {
          "bayes_factor": 0.11804926347220607,
          "bayes_factor_description": "If comparison level is `all other comparisons` then comparison is  8.47 times less likely to be a match",
          "comparison_name": "postcode_fake",
          "comparison_sort_order": 2,
          "comparison_vector_value": 0,
          "has_tf_adjustments": false,
          "is_null_level": false,
          "iteration": 1,
          "label_for_charts": "All other comparisons",
          "log2_bayes_factor": -3.0825390544924343,
          "m_probability": 0.11796867110915807,
          "m_probability_description": "Amongst matching record comparisons, 11.80% of records are in the all other comparisons comparison level",
          "max_comparison_vector_value": 2,
          "probability_two_random_records_match": 0.05669636876770377,
          "sql_condition": "ELSE",
          "tf_adjustment_column": null,
          "tf_adjustment_weight": 1,
          "u_probability": 0.9993172988913482,
          "u_probability_description": "Amongst non-matching record comparisons, 99.93% of records are in the all other comparisons comparison level"
         },
         {
          "bayes_factor": 165.2220930668534,
          "bayes_factor_description": "If comparison level is `exact match` then comparison is 165.22 times more likely to be a match",
          "comparison_name": "birth_place",
          "comparison_sort_order": 3,
          "comparison_vector_value": 1,
          "has_tf_adjustments": false,
          "is_null_level": false,
          "iteration": 1,
          "label_for_charts": "Exact match",
          "log2_bayes_factor": 7.368262802844843,
          "m_probability": 0.8838455684270035,
          "m_probability_description": "Amongst matching record comparisons, 88.38% of records are in the exact match comparison level",
          "max_comparison_vector_value": 1,
          "probability_two_random_records_match": 0.05669636876770377,
          "sql_condition": "birth_place_l = birth_place_r",
          "tf_adjustment_column": null,
          "tf_adjustment_weight": 1,
          "u_probability": 0.005349439363834806,
          "u_probability_description": "Amongst non-matching record comparisons, 0.53% of records are in the exact match comparison level"
         },
         {
          "bayes_factor": 0.11677913447219568,
          "bayes_factor_description": "If comparison level is `all other comparisons` then comparison is  8.56 times less likely to be a match",
          "comparison_name": "birth_place",
          "comparison_sort_order": 3,
          "comparison_vector_value": 0,
          "has_tf_adjustments": false,
          "is_null_level": false,
          "iteration": 1,
          "label_for_charts": "All other comparisons",
          "log2_bayes_factor": -3.098145571376805,
          "m_probability": 0.11615443157337556,
          "m_probability_description": "Amongst matching record comparisons, 11.62% of records are in the all other comparisons comparison level",
          "max_comparison_vector_value": 1,
          "probability_two_random_records_match": 0.05669636876770377,
          "sql_condition": "ELSE",
          "tf_adjustment_column": null,
          "tf_adjustment_weight": 1,
          "u_probability": 0.9946505606361652,
          "u_probability_description": "Amongst non-matching record comparisons, 99.47% of records are in the all other comparisons comparison level"
         },
         {
          "bayes_factor": 23.89733114665266,
          "bayes_factor_description": "If comparison level is `exact match` then comparison is 23.90 times more likely to be a match",
          "comparison_name": "occupation",
          "comparison_sort_order": 4,
          "comparison_vector_value": 1,
          "has_tf_adjustments": false,
          "is_null_level": false,
          "iteration": 1,
          "label_for_charts": "Exact match",
          "log2_bayes_factor": 4.5787776019434245,
          "m_probability": 0.9138677207820098,
          "m_probability_description": "Amongst matching record comparisons, 91.39% of records are in the exact match comparison level",
          "max_comparison_vector_value": 1,
          "probability_two_random_records_match": 0.05669636876770377,
          "sql_condition": "occupation_l = occupation_r",
          "tf_adjustment_column": null,
          "tf_adjustment_weight": 1,
          "u_probability": 0.0382414134521468,
          "u_probability_description": "Amongst non-matching record comparisons, 3.82% of records are in the exact match comparison level"
         },
         {
          "bayes_factor": 0.08955706808652414,
          "bayes_factor_description": "If comparison level is `all other comparisons` then comparison is  11.17 times less likely to be a match",
          "comparison_name": "occupation",
          "comparison_sort_order": 4,
          "comparison_vector_value": 0,
          "has_tf_adjustments": false,
          "is_null_level": false,
          "iteration": 1,
          "label_for_charts": "All other comparisons",
          "log2_bayes_factor": -3.4810488916676174,
          "m_probability": 0.0861322792182653,
          "m_probability_description": "Amongst matching record comparisons, 8.61% of records are in the all other comparisons comparison level",
          "max_comparison_vector_value": 1,
          "probability_two_random_records_match": 0.05669636876770377,
          "sql_condition": "ELSE",
          "tf_adjustment_column": null,
          "tf_adjustment_weight": 1,
          "u_probability": 0.9617585865478532,
          "u_probability_description": "Amongst non-matching record comparisons, 96.18% of records are in the all other comparisons comparison level"
         },
         {
          "bayes_factor": 0.058227711269869246,
          "bayes_factor_description": "The probability that two random records drawn at random match is 0.055 or one in  18.2 records.This is equivalent to a starting match weight of -4.102.",
          "comparison_name": "probability_two_random_records_match",
          "comparison_sort_order": -1,
          "comparison_vector_value": 0,
          "has_tf_adjustments": false,
          "is_null_level": false,
          "iteration": 2,
          "label_for_charts": "",
          "log2_bayes_factor": -4.102150277244524,
          "m_probability": null,
          "m_probability_description": null,
          "max_comparison_vector_value": 0,
          "probability_two_random_records_match": 0.05669636876770377,
          "sql_condition": null,
          "tf_adjustment_column": null,
          "tf_adjustment_weight": null,
          "u_probability": null,
          "u_probability_description": null
         },
         {
          "bayes_factor": 43.5619408581218,
          "bayes_factor_description": "If comparison level is `exact match` then comparison is 43.56 times more likely to be a match",
          "comparison_name": "first_name",
          "comparison_sort_order": 0,
          "comparison_vector_value": 3,
          "has_tf_adjustments": false,
          "is_null_level": false,
          "iteration": 2,
          "label_for_charts": "Exact match",
          "log2_bayes_factor": 5.444996328189414,
          "m_probability": 0.567641891229294,
          "m_probability_description": "Amongst matching record comparisons, 56.76% of records are in the exact match comparison level",
          "max_comparison_vector_value": 3,
          "probability_two_random_records_match": 0.05669636876770377,
          "sql_condition": "first_name_l = first_name_r",
          "tf_adjustment_column": null,
          "tf_adjustment_weight": 1,
          "u_probability": 0.013030684125807525,
          "u_probability_description": "Amongst non-matching record comparisons, 1.30% of records are in the exact match comparison level"
         },
         {
          "bayes_factor": 27.70859185611518,
          "bayes_factor_description": "If comparison level is `jaccard >= 0.9` then comparison is 27.71 times more likely to be a match",
          "comparison_name": "first_name",
          "comparison_sort_order": 0,
          "comparison_vector_value": 2,
          "has_tf_adjustments": false,
          "is_null_level": false,
          "iteration": 2,
          "label_for_charts": "jaccard >= 0.9",
          "log2_bayes_factor": 4.79226149015926,
          "m_probability": 0.007614722395980173,
          "m_probability_description": "Amongst matching record comparisons, 0.76% of records are in the jaccard >= 0.9 comparison level",
          "max_comparison_vector_value": 3,
          "probability_two_random_records_match": 0.05669636876770377,
          "sql_condition": "jaccard(first_name_l, first_name_r) >= 0.9",
          "tf_adjustment_column": null,
          "tf_adjustment_weight": 1,
          "u_probability": 0.00027481448481834824,
          "u_probability_description": "Amongst non-matching record comparisons, 0.03% of records are in the jaccard >= 0.9 comparison level"
         },
         {
          "bayes_factor": 6.107723297671758,
          "bayes_factor_description": "If comparison level is `jaccard >= 0.5` then comparison is 6.11 times more likely to be a match",
          "comparison_name": "first_name",
          "comparison_sort_order": 0,
          "comparison_vector_value": 1,
          "has_tf_adjustments": false,
          "is_null_level": false,
          "iteration": 2,
          "label_for_charts": "jaccard >= 0.5",
          "log2_bayes_factor": 2.610634704223964,
          "m_probability": 0.22694249802435643,
          "m_probability_description": "Amongst matching record comparisons, 22.69% of records are in the jaccard >= 0.5 comparison level",
          "max_comparison_vector_value": 3,
          "probability_two_random_records_match": 0.05669636876770377,
          "sql_condition": "jaccard(first_name_l, first_name_r) >= 0.5",
          "tf_adjustment_column": null,
          "tf_adjustment_weight": 1,
          "u_probability": 0.03715664364017048,
          "u_probability_description": "Amongst non-matching record comparisons, 3.72% of records are in the jaccard >= 0.5 comparison level"
         },
         {
          "bayes_factor": 0.20831279841607742,
          "bayes_factor_description": "If comparison level is `all other comparisons` then comparison is  4.80 times less likely to be a match",
          "comparison_name": "first_name",
          "comparison_sort_order": 0,
          "comparison_vector_value": 0,
          "has_tf_adjustments": false,
          "is_null_level": false,
          "iteration": 2,
          "label_for_charts": "All other comparisons",
          "log2_bayes_factor": -2.263176615834351,
          "m_probability": 0.19780088834974385,
          "m_probability_description": "Amongst matching record comparisons, 19.78% of records are in the all other comparisons comparison level",
          "max_comparison_vector_value": 3,
          "probability_two_random_records_match": 0.05669636876770377,
          "sql_condition": "ELSE",
          "tf_adjustment_column": null,
          "tf_adjustment_weight": 1,
          "u_probability": 0.9495378577492036,
          "u_probability_description": "Amongst non-matching record comparisons, 94.95% of records are in the all other comparisons comparison level"
         },
         {
          "bayes_factor": 1117.3939910327697,
          "bayes_factor_description": "If comparison level is `exact match` then comparison is 1,117.39 times more likely to be a match",
          "comparison_name": "surname",
          "comparison_sort_order": 1,
          "comparison_vector_value": 3,
          "has_tf_adjustments": false,
          "is_null_level": false,
          "iteration": 2,
          "label_for_charts": "Exact match",
          "log2_bayes_factor": 10.125922251761194,
          "m_probability": 0.8031855905776683,
          "m_probability_description": "Amongst matching record comparisons, 80.32% of records are in the exact match comparison level",
          "max_comparison_vector_value": 3,
          "probability_two_random_records_match": 0.05669636876770377,
          "sql_condition": "surname_l = surname_r",
          "tf_adjustment_column": null,
          "tf_adjustment_weight": 1,
          "u_probability": 0.0007188024967230321,
          "u_probability_description": "Amongst non-matching record comparisons, 0.07% of records are in the exact match comparison level"
         },
         {
          "bayes_factor": 341.51853466472534,
          "bayes_factor_description": "If comparison level is `jaccard >= 0.9` then comparison is 341.52 times more likely to be a match",
          "comparison_name": "surname",
          "comparison_sort_order": 1,
          "comparison_vector_value": 2,
          "has_tf_adjustments": false,
          "is_null_level": false,
          "iteration": 2,
          "label_for_charts": "jaccard >= 0.9",
          "log2_bayes_factor": 8.415820067391897,
          "m_probability": 0.027467385391353388,
          "m_probability_description": "Amongst matching record comparisons, 2.75% of records are in the jaccard >= 0.9 comparison level",
          "max_comparison_vector_value": 3,
          "probability_two_random_records_match": 0.05669636876770377,
          "sql_condition": "jaccard(surname_l, surname_r) >= 0.9",
          "tf_adjustment_column": null,
          "tf_adjustment_weight": 1,
          "u_probability": 8.042721727627051e-05,
          "u_probability_description": "Amongst non-matching record comparisons, 0.01% of records are in the jaccard >= 0.9 comparison level"
         },
         {
          "bayes_factor": 3.163564376253099,
          "bayes_factor_description": "If comparison level is `jaccard >= 0.5` then comparison is 3.16 times more likely to be a match",
          "comparison_name": "surname",
          "comparison_sort_order": 1,
          "comparison_vector_value": 1,
          "has_tf_adjustments": false,
          "is_null_level": false,
          "iteration": 2,
          "label_for_charts": "jaccard >= 0.5",
          "log2_bayes_factor": 1.6615509539548998,
          "m_probability": 0.12261933692647867,
          "m_probability_description": "Amongst matching record comparisons, 12.26% of records are in the jaccard >= 0.5 comparison level",
          "max_comparison_vector_value": 3,
          "probability_two_random_records_match": 0.05669636876770377,
          "sql_condition": "jaccard(surname_l, surname_r) >= 0.5",
          "tf_adjustment_column": null,
          "tf_adjustment_weight": 1,
          "u_probability": 0.038759867776646306,
          "u_probability_description": "Amongst non-matching record comparisons, 3.88% of records are in the jaccard >= 0.5 comparison level"
         },
         {
          "bayes_factor": 0.048652329343721115,
          "bayes_factor_description": "If comparison level is `all other comparisons` then comparison is  20.55 times less likely to be a match",
          "comparison_name": "surname",
          "comparison_sort_order": 1,
          "comparison_vector_value": 0,
          "has_tf_adjustments": false,
          "is_null_level": false,
          "iteration": 2,
          "label_for_charts": "All other comparisons",
          "log2_bayes_factor": -4.3613473107254395,
          "m_probability": 0.04672768710406586,
          "m_probability_description": "Amongst matching record comparisons, 4.67% of records are in the all other comparisons comparison level",
          "max_comparison_vector_value": 3,
          "probability_two_random_records_match": 0.05669636876770377,
          "sql_condition": "ELSE",
          "tf_adjustment_column": null,
          "tf_adjustment_weight": 1,
          "u_probability": 0.9604409025093544,
          "u_probability_description": "Amongst non-matching record comparisons, 96.04% of records are in the all other comparisons comparison level"
         },
         {
          "bayes_factor": 4717.332344066187,
          "bayes_factor_description": "If comparison level is `exact match` then comparison is 4,717.33 times more likely to be a match",
          "comparison_name": "postcode_fake",
          "comparison_sort_order": 2,
          "comparison_vector_value": 2,
          "has_tf_adjustments": false,
          "is_null_level": false,
          "iteration": 2,
          "label_for_charts": "Exact match",
          "log2_bayes_factor": 12.20375552942317,
          "m_probability": 0.7039847684472672,
          "m_probability_description": "Amongst matching record comparisons, 70.40% of records are in the exact match comparison level",
          "max_comparison_vector_value": 2,
          "probability_two_random_records_match": 0.05669636876770377,
          "sql_condition": "postcode_fake_l = postcode_fake_r",
          "tf_adjustment_column": null,
          "tf_adjustment_weight": 1,
          "u_probability": 0.00014923365942889137,
          "u_probability_description": "Amongst non-matching record comparisons, 0.01% of records are in the exact match comparison level"
         },
         {
          "bayes_factor": 272.3111299763823,
          "bayes_factor_description": "If comparison level is `levenshtein <= 2` then comparison is 272.31 times more likely to be a match",
          "comparison_name": "postcode_fake",
          "comparison_sort_order": 2,
          "comparison_vector_value": 1,
          "has_tf_adjustments": false,
          "is_null_level": false,
          "iteration": 2,
          "label_for_charts": "levenshtein <= 2",
          "log2_bayes_factor": 8.089112139595219,
          "m_probability": 0.14526912390348407,
          "m_probability_description": "Amongst matching record comparisons, 14.53% of records are in the levenshtein <= 2 comparison level",
          "max_comparison_vector_value": 2,
          "probability_two_random_records_match": 0.05669636876770377,
          "sql_condition": "levenshtein(postcode_fake_l, postcode_fake_r) <= 2",
          "tf_adjustment_column": null,
          "tf_adjustment_weight": 1,
          "u_probability": 0.0005334674492228186,
          "u_probability_description": "Amongst non-matching record comparisons, 0.05% of records are in the levenshtein <= 2 comparison level"
         },
         {
          "bayes_factor": 0.15084909249216757,
          "bayes_factor_description": "If comparison level is `all other comparisons` then comparison is  6.63 times less likely to be a match",
          "comparison_name": "postcode_fake",
          "comparison_sort_order": 2,
          "comparison_vector_value": 0,
          "has_tf_adjustments": false,
          "is_null_level": false,
          "iteration": 2,
          "label_for_charts": "All other comparisons",
          "log2_bayes_factor": -2.7288220776270604,
          "m_probability": 0.15074610764948407,
          "m_probability_description": "Amongst matching record comparisons, 15.07% of records are in the all other comparisons comparison level",
          "max_comparison_vector_value": 2,
          "probability_two_random_records_match": 0.05669636876770377,
          "sql_condition": "ELSE",
          "tf_adjustment_column": null,
          "tf_adjustment_weight": 1,
          "u_probability": 0.9993172988913482,
          "u_probability_description": "Amongst non-matching record comparisons, 99.93% of records are in the all other comparisons comparison level"
         },
         {
          "bayes_factor": 160.3691960682497,
          "bayes_factor_description": "If comparison level is `exact match` then comparison is 160.37 times more likely to be a match",
          "comparison_name": "birth_place",
          "comparison_sort_order": 3,
          "comparison_vector_value": 1,
          "has_tf_adjustments": false,
          "is_null_level": false,
          "iteration": 2,
          "label_for_charts": "Exact match",
          "log2_bayes_factor": 7.325253243366712,
          "m_probability": 0.8578852901940369,
          "m_probability_description": "Amongst matching record comparisons, 85.79% of records are in the exact match comparison level",
          "max_comparison_vector_value": 1,
          "probability_two_random_records_match": 0.05669636876770377,
          "sql_condition": "birth_place_l = birth_place_r",
          "tf_adjustment_column": null,
          "tf_adjustment_weight": 1,
          "u_probability": 0.005349439363834806,
          "u_probability_description": "Amongst non-matching record comparisons, 0.53% of records are in the exact match comparison level"
         },
         {
          "bayes_factor": 0.1428790325265186,
          "bayes_factor_description": "If comparison level is `all other comparisons` then comparison is  7.00 times less likely to be a match",
          "comparison_name": "birth_place",
          "comparison_sort_order": 3,
          "comparison_vector_value": 0,
          "has_tf_adjustments": false,
          "is_null_level": false,
          "iteration": 2,
          "label_for_charts": "All other comparisons",
          "log2_bayes_factor": -2.8071338781700077,
          "m_probability": 0.1421147098056546,
          "m_probability_description": "Amongst matching record comparisons, 14.21% of records are in the all other comparisons comparison level",
          "max_comparison_vector_value": 1,
          "probability_two_random_records_match": 0.05669636876770377,
          "sql_condition": "ELSE",
          "tf_adjustment_column": null,
          "tf_adjustment_weight": 1,
          "u_probability": 0.9946505606361652,
          "u_probability_description": "Amongst non-matching record comparisons, 99.47% of records are in the all other comparisons comparison level"
         },
         {
          "bayes_factor": 23.520299948638897,
          "bayes_factor_description": "If comparison level is `exact match` then comparison is 23.52 times more likely to be a match",
          "comparison_name": "occupation",
          "comparison_sort_order": 4,
          "comparison_vector_value": 1,
          "has_tf_adjustments": false,
          "is_null_level": false,
          "iteration": 2,
          "label_for_charts": "Exact match",
          "log2_bayes_factor": 4.555834553516341,
          "m_probability": 0.8994495148544073,
          "m_probability_description": "Amongst matching record comparisons, 89.94% of records are in the exact match comparison level",
          "max_comparison_vector_value": 1,
          "probability_two_random_records_match": 0.05669636876770377,
          "sql_condition": "occupation_l = occupation_r",
          "tf_adjustment_column": null,
          "tf_adjustment_weight": 1,
          "u_probability": 0.0382414134521468,
          "u_probability_description": "Amongst non-matching record comparisons, 3.82% of records are in the exact match comparison level"
         },
         {
          "bayes_factor": 0.10454857024678861,
          "bayes_factor_description": "If comparison level is `all other comparisons` then comparison is  9.56 times less likely to be a match",
          "comparison_name": "occupation",
          "comparison_sort_order": 4,
          "comparison_vector_value": 0,
          "has_tf_adjustments": false,
          "is_null_level": false,
          "iteration": 2,
          "label_for_charts": "All other comparisons",
          "log2_bayes_factor": -3.257754762390496,
          "m_probability": 0.10055048514615035,
          "m_probability_description": "Amongst matching record comparisons, 10.06% of records are in the all other comparisons comparison level",
          "max_comparison_vector_value": 1,
          "probability_two_random_records_match": 0.05669636876770377,
          "sql_condition": "ELSE",
          "tf_adjustment_column": null,
          "tf_adjustment_weight": 1,
          "u_probability": 0.9617585865478532,
          "u_probability_description": "Amongst non-matching record comparisons, 96.18% of records are in the all other comparisons comparison level"
         },
         {
          "bayes_factor": 0.059754267789225365,
          "bayes_factor_description": "The probability that two random records drawn at random match is 0.056 or one in  17.7 records.This is equivalent to a starting match weight of -4.065.",
          "comparison_name": "probability_two_random_records_match",
          "comparison_sort_order": -1,
          "comparison_vector_value": 0,
          "has_tf_adjustments": false,
          "is_null_level": false,
          "iteration": 3,
          "label_for_charts": "",
          "log2_bayes_factor": -4.064814432355516,
          "m_probability": null,
          "m_probability_description": null,
          "max_comparison_vector_value": 0,
          "probability_two_random_records_match": 0.05669636876770377,
          "sql_condition": null,
          "tf_adjustment_column": null,
          "tf_adjustment_weight": null,
          "u_probability": null,
          "u_probability_description": null
         },
         {
          "bayes_factor": 42.82613063775756,
          "bayes_factor_description": "If comparison level is `exact match` then comparison is 42.83 times more likely to be a match",
          "comparison_name": "first_name",
          "comparison_sort_order": 0,
          "comparison_vector_value": 3,
          "has_tf_adjustments": false,
          "is_null_level": false,
          "iteration": 3,
          "label_for_charts": "Exact match",
          "log2_bayes_factor": 5.4204194297886685,
          "m_probability": 0.5580537806711867,
          "m_probability_description": "Amongst matching record comparisons, 55.81% of records are in the exact match comparison level",
          "max_comparison_vector_value": 3,
          "probability_two_random_records_match": 0.05669636876770377,
          "sql_condition": "first_name_l = first_name_r",
          "tf_adjustment_column": null,
          "tf_adjustment_weight": 1,
          "u_probability": 0.013030684125807525,
          "u_probability_description": "Amongst non-matching record comparisons, 1.30% of records are in the exact match comparison level"
         },
         {
          "bayes_factor": 27.408024301868643,
          "bayes_factor_description": "If comparison level is `jaccard >= 0.9` then comparison is 27.41 times more likely to be a match",
          "comparison_name": "first_name",
          "comparison_sort_order": 0,
          "comparison_vector_value": 2,
          "has_tf_adjustments": false,
          "is_null_level": false,
          "iteration": 3,
          "label_for_charts": "jaccard >= 0.9",
          "log2_bayes_factor": 4.776526430616666,
          "m_probability": 0.0075321220784068,
          "m_probability_description": "Amongst matching record comparisons, 0.75% of records are in the jaccard >= 0.9 comparison level",
          "max_comparison_vector_value": 3,
          "probability_two_random_records_match": 0.05669636876770377,
          "sql_condition": "jaccard(first_name_l, first_name_r) >= 0.9",
          "tf_adjustment_column": null,
          "tf_adjustment_weight": 1,
          "u_probability": 0.00027481448481834824,
          "u_probability_description": "Amongst non-matching record comparisons, 0.03% of records are in the jaccard >= 0.9 comparison level"
         },
         {
          "bayes_factor": 6.097889703785019,
          "bayes_factor_description": "If comparison level is `jaccard >= 0.5` then comparison is 6.10 times more likely to be a match",
          "comparison_name": "first_name",
          "comparison_sort_order": 0,
          "comparison_vector_value": 1,
          "has_tf_adjustments": false,
          "is_null_level": false,
          "iteration": 3,
          "label_for_charts": "jaccard >= 0.5",
          "log2_bayes_factor": 2.6083100556868777,
          "m_probability": 0.2265771146806047,
          "m_probability_description": "Amongst matching record comparisons, 22.66% of records are in the jaccard >= 0.5 comparison level",
          "max_comparison_vector_value": 3,
          "probability_two_random_records_match": 0.05669636876770377,
          "sql_condition": "jaccard(first_name_l, first_name_r) >= 0.5",
          "tf_adjustment_column": null,
          "tf_adjustment_weight": 1,
          "u_probability": 0.03715664364017048,
          "u_probability_description": "Amongst non-matching record comparisons, 3.72% of records are in the jaccard >= 0.5 comparison level"
         },
         {
          "bayes_factor": 0.21888224979408588,
          "bayes_factor_description": "If comparison level is `all other comparisons` then comparison is  4.57 times less likely to be a match",
          "comparison_name": "first_name",
          "comparison_sort_order": 0,
          "comparison_vector_value": 0,
          "has_tf_adjustments": false,
          "is_null_level": false,
          "iteration": 3,
          "label_for_charts": "All other comparisons",
          "log2_bayes_factor": -2.1917731306488224,
          "m_probability": 0.20783698256880237,
          "m_probability_description": "Amongst matching record comparisons, 20.78% of records are in the all other comparisons comparison level",
          "max_comparison_vector_value": 3,
          "probability_two_random_records_match": 0.05669636876770377,
          "sql_condition": "ELSE",
          "tf_adjustment_column": null,
          "tf_adjustment_weight": 1,
          "u_probability": 0.9495378577492036,
          "u_probability_description": "Amongst non-matching record comparisons, 94.95% of records are in the all other comparisons comparison level"
         },
         {
          "bayes_factor": 1101.3372774666384,
          "bayes_factor_description": "If comparison level is `exact match` then comparison is 1,101.34 times more likely to be a match",
          "comparison_name": "surname",
          "comparison_sort_order": 1,
          "comparison_vector_value": 3,
          "has_tf_adjustments": false,
          "is_null_level": false,
          "iteration": 3,
          "label_for_charts": "Exact match",
          "log2_bayes_factor": 10.105040637318783,
          "m_probability": 0.7916439847771665,
          "m_probability_description": "Amongst matching record comparisons, 79.16% of records are in the exact match comparison level",
          "max_comparison_vector_value": 3,
          "probability_two_random_records_match": 0.05669636876770377,
          "sql_condition": "surname_l = surname_r",
          "tf_adjustment_column": null,
          "tf_adjustment_weight": 1,
          "u_probability": 0.0007188024967230321,
          "u_probability_description": "Amongst non-matching record comparisons, 0.07% of records are in the exact match comparison level"
         },
         {
          "bayes_factor": 338.35780798581004,
          "bayes_factor_description": "If comparison level is `jaccard >= 0.9` then comparison is 338.36 times more likely to be a match",
          "comparison_name": "surname",
          "comparison_sort_order": 1,
          "comparison_vector_value": 2,
          "has_tf_adjustments": false,
          "is_null_level": false,
          "iteration": 3,
          "label_for_charts": "jaccard >= 0.9",
          "log2_bayes_factor": 8.402405870512053,
          "m_probability": 0.02721317693999736,
          "m_probability_description": "Amongst matching record comparisons, 2.72% of records are in the jaccard >= 0.9 comparison level",
          "max_comparison_vector_value": 3,
          "probability_two_random_records_match": 0.05669636876770377,
          "sql_condition": "jaccard(surname_l, surname_r) >= 0.9",
          "tf_adjustment_column": null,
          "tf_adjustment_weight": 1,
          "u_probability": 8.042721727627051e-05,
          "u_probability_description": "Amongst non-matching record comparisons, 0.01% of records are in the jaccard >= 0.9 comparison level"
         },
         {
          "bayes_factor": 3.275100138434927,
          "bayes_factor_description": "If comparison level is `jaccard >= 0.5` then comparison is 3.28 times more likely to be a match",
          "comparison_name": "surname",
          "comparison_sort_order": 1,
          "comparison_vector_value": 1,
          "has_tf_adjustments": false,
          "is_null_level": false,
          "iteration": 3,
          "label_for_charts": "jaccard >= 0.5",
          "log2_bayes_factor": 1.7115390187156838,
          "m_probability": 0.12694244832101378,
          "m_probability_description": "Amongst matching record comparisons, 12.69% of records are in the jaccard >= 0.5 comparison level",
          "max_comparison_vector_value": 3,
          "probability_two_random_records_match": 0.05669636876770377,
          "sql_condition": "jaccard(surname_l, surname_r) >= 0.5",
          "tf_adjustment_column": null,
          "tf_adjustment_weight": 1,
          "u_probability": 0.038759867776646306,
          "u_probability_description": "Amongst non-matching record comparisons, 3.88% of records are in the jaccard >= 0.5 comparison level"
         },
         {
          "bayes_factor": 0.056432821445835064,
          "bayes_factor_description": "If comparison level is `all other comparisons` then comparison is  17.72 times less likely to be a match",
          "comparison_name": "surname",
          "comparison_sort_order": 1,
          "comparison_vector_value": 0,
          "has_tf_adjustments": false,
          "is_null_level": false,
          "iteration": 3,
          "label_for_charts": "All other comparisons",
          "log2_bayes_factor": -4.147321708628442,
          "m_probability": 0.054200389960587084,
          "m_probability_description": "Amongst matching record comparisons, 5.42% of records are in the all other comparisons comparison level",
          "max_comparison_vector_value": 3,
          "probability_two_random_records_match": 0.05669636876770377,
          "sql_condition": "ELSE",
          "tf_adjustment_column": null,
          "tf_adjustment_weight": 1,
          "u_probability": 0.9604409025093544,
          "u_probability_description": "Amongst non-matching record comparisons, 96.04% of records are in the all other comparisons comparison level"
         },
         {
          "bayes_factor": 4654.760480632043,
          "bayes_factor_description": "If comparison level is `exact match` then comparison is 4,654.76 times more likely to be a match",
          "comparison_name": "postcode_fake",
          "comparison_sort_order": 2,
          "comparison_vector_value": 2,
          "has_tf_adjustments": false,
          "is_null_level": false,
          "iteration": 3,
          "label_for_charts": "Exact match",
          "log2_bayes_factor": 12.184491217796372,
          "m_probability": 0.6946469402897051,
          "m_probability_description": "Amongst matching record comparisons, 69.46% of records are in the exact match comparison level",
          "max_comparison_vector_value": 2,
          "probability_two_random_records_match": 0.05669636876770377,
          "sql_condition": "postcode_fake_l = postcode_fake_r",
          "tf_adjustment_column": null,
          "tf_adjustment_weight": 1,
          "u_probability": 0.00014923365942889137,
          "u_probability_description": "Amongst non-matching record comparisons, 0.01% of records are in the exact match comparison level"
         },
         {
          "bayes_factor": 271.19636456412667,
          "bayes_factor_description": "If comparison level is `levenshtein <= 2` then comparison is 271.20 times more likely to be a match",
          "comparison_name": "postcode_fake",
          "comparison_sort_order": 2,
          "comparison_vector_value": 1,
          "has_tf_adjustments": false,
          "is_null_level": false,
          "iteration": 3,
          "label_for_charts": "levenshtein <= 2",
          "log2_bayes_factor": 8.08319402879301,
          "m_probability": 0.14467443284252623,
          "m_probability_description": "Amongst matching record comparisons, 14.47% of records are in the levenshtein <= 2 comparison level",
          "max_comparison_vector_value": 2,
          "probability_two_random_records_match": 0.05669636876770377,
          "sql_condition": "levenshtein(postcode_fake_l, postcode_fake_r) <= 2",
          "tf_adjustment_column": null,
          "tf_adjustment_weight": 1,
          "u_probability": 0.0005334674492228186,
          "u_probability_description": "Amongst non-matching record comparisons, 0.05% of records are in the levenshtein <= 2 comparison level"
         },
         {
          "bayes_factor": 0.16078839728408964,
          "bayes_factor_description": "If comparison level is `all other comparisons` then comparison is  6.22 times less likely to be a match",
          "comparison_name": "postcode_fake",
          "comparison_sort_order": 2,
          "comparison_vector_value": 0,
          "has_tf_adjustments": false,
          "is_null_level": false,
          "iteration": 3,
          "label_for_charts": "All other comparisons",
          "log2_bayes_factor": -2.636764791508901,
          "m_probability": 0.16067862686700546,
          "m_probability_description": "Amongst matching record comparisons, 16.07% of records are in the all other comparisons comparison level",
          "max_comparison_vector_value": 2,
          "probability_two_random_records_match": 0.05669636876770377,
          "sql_condition": "ELSE",
          "tf_adjustment_column": null,
          "tf_adjustment_weight": 1,
          "u_probability": 0.9993172988913482,
          "u_probability_description": "Amongst non-matching record comparisons, 99.93% of records are in the all other comparisons comparison level"
         },
         {
          "bayes_factor": 158.88464035232687,
          "bayes_factor_description": "If comparison level is `exact match` then comparison is 158.88 times more likely to be a match",
          "comparison_name": "birth_place",
          "comparison_sort_order": 3,
          "comparison_vector_value": 1,
          "has_tf_adjustments": false,
          "is_null_level": false,
          "iteration": 3,
          "label_for_charts": "Exact match",
          "log2_bayes_factor": 7.311835853425403,
          "m_probability": 0.8499437494094735,
          "m_probability_description": "Amongst matching record comparisons, 84.99% of records are in the exact match comparison level",
          "max_comparison_vector_value": 1,
          "probability_two_random_records_match": 0.05669636876770377,
          "sql_condition": "birth_place_l = birth_place_r",
          "tf_adjustment_column": null,
          "tf_adjustment_weight": 1,
          "u_probability": 0.005349439363834806,
          "u_probability_description": "Amongst non-matching record comparisons, 0.53% of records are in the exact match comparison level"
         },
         {
          "bayes_factor": 0.15086328458229806,
          "bayes_factor_description": "If comparison level is `all other comparisons` then comparison is  6.63 times less likely to be a match",
          "comparison_name": "birth_place",
          "comparison_sort_order": 3,
          "comparison_vector_value": 0,
          "has_tf_adjustments": false,
          "is_null_level": false,
          "iteration": 3,
          "label_for_charts": "All other comparisons",
          "log2_bayes_factor": -2.728686353277501,
          "m_probability": 0.1500562505891961,
          "m_probability_description": "Amongst matching record comparisons, 15.01% of records are in the all other comparisons comparison level",
          "max_comparison_vector_value": 1,
          "probability_two_random_records_match": 0.05669636876770377,
          "sql_condition": "ELSE",
          "tf_adjustment_column": null,
          "tf_adjustment_weight": 1,
          "u_probability": 0.9946505606361652,
          "u_probability_description": "Amongst non-matching record comparisons, 99.47% of records are in the all other comparisons comparison level"
         },
         {
          "bayes_factor": 23.453154043917653,
          "bayes_factor_description": "If comparison level is `exact match` then comparison is 23.45 times more likely to be a match",
          "comparison_name": "occupation",
          "comparison_sort_order": 4,
          "comparison_vector_value": 1,
          "has_tf_adjustments": false,
          "is_null_level": false,
          "iteration": 3,
          "label_for_charts": "Exact match",
          "log2_bayes_factor": 4.551710048226526,
          "m_probability": 0.8968817605503436,
          "m_probability_description": "Amongst matching record comparisons, 89.69% of records are in the exact match comparison level",
          "max_comparison_vector_value": 1,
          "probability_two_random_records_match": 0.05669636876770377,
          "sql_condition": "occupation_l = occupation_r",
          "tf_adjustment_column": null,
          "tf_adjustment_weight": 1,
          "u_probability": 0.0382414134521468,
          "u_probability_description": "Amongst non-matching record comparisons, 3.82% of records are in the exact match comparison level"
         },
         {
          "bayes_factor": 0.1072184235127561,
          "bayes_factor_description": "If comparison level is `all other comparisons` then comparison is  9.33 times less likely to be a match",
          "comparison_name": "occupation",
          "comparison_sort_order": 4,
          "comparison_vector_value": 0,
          "has_tf_adjustments": false,
          "is_null_level": false,
          "iteration": 3,
          "label_for_charts": "All other comparisons",
          "log2_bayes_factor": -3.221375267200275,
          "m_probability": 0.10311823944951741,
          "m_probability_description": "Amongst matching record comparisons, 10.31% of records are in the all other comparisons comparison level",
          "max_comparison_vector_value": 1,
          "probability_two_random_records_match": 0.05669636876770377,
          "sql_condition": "ELSE",
          "tf_adjustment_column": null,
          "tf_adjustment_weight": 1,
          "u_probability": 0.9617585865478532,
          "u_probability_description": "Amongst non-matching record comparisons, 96.18% of records are in the all other comparisons comparison level"
         },
         {
          "bayes_factor": 0.06010405016000816,
          "bayes_factor_description": "The probability that two random records drawn at random match is 0.057 or one in  17.6 records.This is equivalent to a starting match weight of -4.056.",
          "comparison_name": "probability_two_random_records_match",
          "comparison_sort_order": -1,
          "comparison_vector_value": 0,
          "has_tf_adjustments": false,
          "is_null_level": false,
          "iteration": 4,
          "label_for_charts": "",
          "log2_bayes_factor": -4.056393978390982,
          "m_probability": null,
          "m_probability_description": null,
          "max_comparison_vector_value": 0,
          "probability_two_random_records_match": 0.05669636876770377,
          "sql_condition": null,
          "tf_adjustment_column": null,
          "tf_adjustment_weight": null,
          "u_probability": null,
          "u_probability_description": null
         },
         {
          "bayes_factor": 42.67278491140226,
          "bayes_factor_description": "If comparison level is `exact match` then comparison is 42.67 times more likely to be a match",
          "comparison_name": "first_name",
          "comparison_sort_order": 0,
          "comparison_vector_value": 3,
          "has_tf_adjustments": false,
          "is_null_level": false,
          "iteration": 4,
          "label_for_charts": "Exact match",
          "log2_bayes_factor": 5.415244361666424,
          "m_probability": 0.5560555809490083,
          "m_probability_description": "Amongst matching record comparisons, 55.61% of records are in the exact match comparison level",
          "max_comparison_vector_value": 3,
          "probability_two_random_records_match": 0.05669636876770377,
          "sql_condition": "first_name_l = first_name_r",
          "tf_adjustment_column": null,
          "tf_adjustment_weight": 1,
          "u_probability": 0.013030684125807525,
          "u_probability_description": "Amongst non-matching record comparisons, 1.30% of records are in the exact match comparison level"
         },
         {
          "bayes_factor": 27.344981036024013,
          "bayes_factor_description": "If comparison level is `jaccard >= 0.9` then comparison is 27.34 times more likely to be a match",
          "comparison_name": "first_name",
          "comparison_sort_order": 0,
          "comparison_vector_value": 2,
          "has_tf_adjustments": false,
          "is_null_level": false,
          "iteration": 4,
          "label_for_charts": "jaccard >= 0.9",
          "log2_bayes_factor": 4.773204156464681,
          "m_probability": 0.007514796875782442,
          "m_probability_description": "Amongst matching record comparisons, 0.75% of records are in the jaccard >= 0.9 comparison level",
          "max_comparison_vector_value": 3,
          "probability_two_random_records_match": 0.05669636876770377,
          "sql_condition": "jaccard(first_name_l, first_name_r) >= 0.9",
          "tf_adjustment_column": null,
          "tf_adjustment_weight": 1,
          "u_probability": 0.00027481448481834824,
          "u_probability_description": "Amongst non-matching record comparisons, 0.03% of records are in the jaccard >= 0.9 comparison level"
         },
         {
          "bayes_factor": 6.092826511777089,
          "bayes_factor_description": "If comparison level is `jaccard >= 0.5` then comparison is 6.09 times more likely to be a match",
          "comparison_name": "first_name",
          "comparison_sort_order": 0,
          "comparison_vector_value": 1,
          "has_tf_adjustments": false,
          "is_null_level": false,
          "iteration": 4,
          "label_for_charts": "jaccard >= 0.5",
          "log2_bayes_factor": 2.6071116613855483,
          "m_probability": 0.22638898345948427,
          "m_probability_description": "Amongst matching record comparisons, 22.64% of records are in the jaccard >= 0.5 comparison level",
          "max_comparison_vector_value": 3,
          "probability_two_random_records_match": 0.05669636876770377,
          "sql_condition": "jaccard(first_name_l, first_name_r) >= 0.5",
          "tf_adjustment_column": null,
          "tf_adjustment_weight": 1,
          "u_probability": 0.03715664364017048,
          "u_probability_description": "Amongst non-matching record comparisons, 3.72% of records are in the jaccard >= 0.5 comparison level"
         },
         {
          "bayes_factor": 0.22120301681733318,
          "bayes_factor_description": "If comparison level is `all other comparisons` then comparison is  4.52 times less likely to be a match",
          "comparison_name": "first_name",
          "comparison_sort_order": 0,
          "comparison_vector_value": 0,
          "has_tf_adjustments": false,
          "is_null_level": false,
          "iteration": 4,
          "label_for_charts": "All other comparisons",
          "log2_bayes_factor": -2.176557033375653,
          "m_probability": 0.21004063871639161,
          "m_probability_description": "Amongst matching record comparisons, 21.00% of records are in the all other comparisons comparison level",
          "max_comparison_vector_value": 3,
          "probability_two_random_records_match": 0.05669636876770377,
          "sql_condition": "ELSE",
          "tf_adjustment_column": null,
          "tf_adjustment_weight": 1,
          "u_probability": 0.9495378577492036,
          "u_probability_description": "Amongst non-matching record comparisons, 94.95% of records are in the all other comparisons comparison level"
         },
         {
          "bayes_factor": 1097.3291121301938,
          "bayes_factor_description": "If comparison level is `exact match` then comparison is 1,097.33 times more likely to be a match",
          "comparison_name": "surname",
          "comparison_sort_order": 1,
          "comparison_vector_value": 3,
          "has_tf_adjustments": false,
          "is_null_level": false,
          "iteration": 4,
          "label_for_charts": "Exact match",
          "log2_bayes_factor": 10.099780569955133,
          "m_probability": 0.7887629055260514,
          "m_probability_description": "Amongst matching record comparisons, 78.88% of records are in the exact match comparison level",
          "max_comparison_vector_value": 3,
          "probability_two_random_records_match": 0.05669636876770377,
          "sql_condition": "surname_l = surname_r",
          "tf_adjustment_column": null,
          "tf_adjustment_weight": 1,
          "u_probability": 0.0007188024967230321,
          "u_probability_description": "Amongst non-matching record comparisons, 0.07% of records are in the exact match comparison level"
         },
         {
          "bayes_factor": 337.38278936055025,
          "bayes_factor_description": "If comparison level is `jaccard >= 0.9` then comparison is 337.38 times more likely to be a match",
          "comparison_name": "surname",
          "comparison_sort_order": 1,
          "comparison_vector_value": 2,
          "has_tf_adjustments": false,
          "is_null_level": false,
          "iteration": 4,
          "label_for_charts": "jaccard >= 0.9",
          "log2_bayes_factor": 8.398242570224498,
          "m_probability": 0.02713475890517518,
          "m_probability_description": "Amongst matching record comparisons, 2.71% of records are in the jaccard >= 0.9 comparison level",
          "max_comparison_vector_value": 3,
          "probability_two_random_records_match": 0.05669636876770377,
          "sql_condition": "jaccard(surname_l, surname_r) >= 0.9",
          "tf_adjustment_column": null,
          "tf_adjustment_weight": 1,
          "u_probability": 8.042721727627051e-05,
          "u_probability_description": "Amongst non-matching record comparisons, 0.01% of records are in the jaccard >= 0.9 comparison level"
         },
         {
          "bayes_factor": 3.292592006383187,
          "bayes_factor_description": "If comparison level is `jaccard >= 0.5` then comparison is 3.29 times more likely to be a match",
          "comparison_name": "surname",
          "comparison_sort_order": 1,
          "comparison_vector_value": 1,
          "has_tf_adjustments": false,
          "is_null_level": false,
          "iteration": 4,
          "label_for_charts": "jaccard >= 0.5",
          "log2_bayes_factor": 1.719223754923147,
          "m_probability": 0.12762043080985488,
          "m_probability_description": "Amongst matching record comparisons, 12.76% of records are in the jaccard >= 0.5 comparison level",
          "max_comparison_vector_value": 3,
          "probability_two_random_records_match": 0.05669636876770377,
          "sql_condition": "jaccard(surname_l, surname_r) >= 0.5",
          "tf_adjustment_column": null,
          "tf_adjustment_weight": 1,
          "u_probability": 0.038759867776646306,
          "u_probability_description": "Amongst non-matching record comparisons, 3.88% of records are in the jaccard >= 0.5 comparison level"
         },
         {
          "bayes_factor": 0.058808308363459544,
          "bayes_factor_description": "If comparison level is `all other comparisons` then comparison is  17.00 times less likely to be a match",
          "comparison_name": "surname",
          "comparison_sort_order": 1,
          "comparison_vector_value": 0,
          "has_tf_adjustments": false,
          "is_null_level": false,
          "iteration": 4,
          "label_for_charts": "All other comparisons",
          "log2_bayes_factor": -4.087836198182355,
          "m_probability": 0.0564819047596495,
          "m_probability_description": "Amongst matching record comparisons, 5.65% of records are in the all other comparisons comparison level",
          "max_comparison_vector_value": 3,
          "probability_two_random_records_match": 0.05669636876770377,
          "sql_condition": "ELSE",
          "tf_adjustment_column": null,
          "tf_adjustment_weight": 1,
          "u_probability": 0.9604409025093544,
          "u_probability_description": "Amongst non-matching record comparisons, 96.04% of records are in the all other comparisons comparison level"
         },
         {
          "bayes_factor": 4638.792855400972,
          "bayes_factor_description": "If comparison level is `exact match` then comparison is 4,638.79 times more likely to be a match",
          "comparison_name": "postcode_fake",
          "comparison_sort_order": 2,
          "comparison_vector_value": 2,
          "has_tf_adjustments": false,
          "is_null_level": false,
          "iteration": 4,
          "label_for_charts": "Exact match",
          "log2_bayes_factor": 12.179533708957589,
          "m_probability": 0.6922640331440832,
          "m_probability_description": "Amongst matching record comparisons, 69.23% of records are in the exact match comparison level",
          "max_comparison_vector_value": 2,
          "probability_two_random_records_match": 0.05669636876770377,
          "sql_condition": "postcode_fake_l = postcode_fake_r",
          "tf_adjustment_column": null,
          "tf_adjustment_weight": 1,
          "u_probability": 0.00014923365942889137,
          "u_probability_description": "Amongst non-matching record comparisons, 0.01% of records are in the exact match comparison level"
         },
         {
          "bayes_factor": 270.68395851300784,
          "bayes_factor_description": "If comparison level is `levenshtein <= 2` then comparison is 270.68 times more likely to be a match",
          "comparison_name": "postcode_fake",
          "comparison_sort_order": 2,
          "comparison_vector_value": 1,
          "has_tf_adjustments": false,
          "is_null_level": false,
          "iteration": 4,
          "label_for_charts": "levenshtein <= 2",
          "log2_bayes_factor": 8.080465581725543,
          "m_probability": 0.14440108089346954,
          "m_probability_description": "Amongst matching record comparisons, 14.44% of records are in the levenshtein <= 2 comparison level",
          "max_comparison_vector_value": 2,
          "probability_two_random_records_match": 0.05669636876770377,
          "sql_condition": "levenshtein(postcode_fake_l, postcode_fake_r) <= 2",
          "tf_adjustment_column": null,
          "tf_adjustment_weight": 1,
          "u_probability": 0.0005334674492228186,
          "u_probability_description": "Amongst non-matching record comparisons, 0.05% of records are in the levenshtein <= 2 comparison level"
         },
         {
          "bayes_factor": 0.16344647105034849,
          "bayes_factor_description": "If comparison level is `all other comparisons` then comparison is  6.12 times less likely to be a match",
          "comparison_name": "postcode_fake",
          "comparison_sort_order": 2,
          "comparison_vector_value": 0,
          "has_tf_adjustments": false,
          "is_null_level": false,
          "iteration": 4,
          "label_for_charts": "All other comparisons",
          "log2_bayes_factor": -2.6131098664706083,
          "m_probability": 0.16333488596335718,
          "m_probability_description": "Amongst matching record comparisons, 16.33% of records are in the all other comparisons comparison level",
          "max_comparison_vector_value": 2,
          "probability_two_random_records_match": 0.05669636876770377,
          "sql_condition": "ELSE",
          "tf_adjustment_column": null,
          "tf_adjustment_weight": 1,
          "u_probability": 0.9993172988913482,
          "u_probability_description": "Amongst non-matching record comparisons, 99.93% of records are in the all other comparisons comparison level"
         },
         {
          "bayes_factor": 158.4855032921299,
          "bayes_factor_description": "If comparison level is `exact match` then comparison is 158.49 times more likely to be a match",
          "comparison_name": "birth_place",
          "comparison_sort_order": 3,
          "comparison_vector_value": 1,
          "has_tf_adjustments": false,
          "is_null_level": false,
          "iteration": 4,
          "label_for_charts": "Exact match",
          "log2_bayes_factor": 7.308207072505063,
          "m_probability": 0.8478085899080904,
          "m_probability_description": "Amongst matching record comparisons, 84.78% of records are in the exact match comparison level",
          "max_comparison_vector_value": 1,
          "probability_two_random_records_match": 0.05669636876770377,
          "sql_condition": "birth_place_l = birth_place_r",
          "tf_adjustment_column": null,
          "tf_adjustment_weight": 1,
          "u_probability": 0.005349439363834806,
          "u_probability_description": "Amongst non-matching record comparisons, 0.53% of records are in the exact match comparison level"
         },
         {
          "bayes_factor": 0.1530099274213948,
          "bayes_factor_description": "If comparison level is `all other comparisons` then comparison is  6.54 times less likely to be a match",
          "comparison_name": "birth_place",
          "comparison_sort_order": 3,
          "comparison_vector_value": 0,
          "has_tf_adjustments": false,
          "is_null_level": false,
          "iteration": 4,
          "label_for_charts": "All other comparisons",
          "log2_bayes_factor": -2.7083028355839116,
          "m_probability": 0.15219141009258927,
          "m_probability_description": "Amongst matching record comparisons, 15.22% of records are in the all other comparisons comparison level",
          "max_comparison_vector_value": 1,
          "probability_two_random_records_match": 0.05669636876770377,
          "sql_condition": "ELSE",
          "tf_adjustment_column": null,
          "tf_adjustment_weight": 1,
          "u_probability": 0.9946505606361652,
          "u_probability_description": "Amongst non-matching record comparisons, 99.47% of records are in the all other comparisons comparison level"
         },
         {
          "bayes_factor": 23.440498409016772,
          "bayes_factor_description": "If comparison level is `exact match` then comparison is 23.44 times more likely to be a match",
          "comparison_name": "occupation",
          "comparison_sort_order": 4,
          "comparison_vector_value": 1,
          "has_tf_adjustments": false,
          "is_null_level": false,
          "iteration": 4,
          "label_for_charts": "Exact match",
          "log2_bayes_factor": 4.550931340610504,
          "m_probability": 0.8963977911835996,
          "m_probability_description": "Amongst matching record comparisons, 89.64% of records are in the exact match comparison level",
          "max_comparison_vector_value": 1,
          "probability_two_random_records_match": 0.05669636876770377,
          "sql_condition": "occupation_l = occupation_r",
          "tf_adjustment_column": null,
          "tf_adjustment_weight": 1,
          "u_probability": 0.0382414134521468,
          "u_probability_description": "Amongst non-matching record comparisons, 3.82% of records are in the exact match comparison level"
         },
         {
          "bayes_factor": 0.10772163645425366,
          "bayes_factor_description": "If comparison level is `all other comparisons` then comparison is  9.28 times less likely to be a match",
          "comparison_name": "occupation",
          "comparison_sort_order": 4,
          "comparison_vector_value": 0,
          "has_tf_adjustments": false,
          "is_null_level": false,
          "iteration": 4,
          "label_for_charts": "All other comparisons",
          "log2_bayes_factor": -3.2146200430533773,
          "m_probability": 0.10360220881686469,
          "m_probability_description": "Amongst matching record comparisons, 10.36% of records are in the all other comparisons comparison level",
          "max_comparison_vector_value": 1,
          "probability_two_random_records_match": 0.05669636876770377,
          "sql_condition": "ELSE",
          "tf_adjustment_column": null,
          "tf_adjustment_weight": 1,
          "u_probability": 0.9617585865478532,
          "u_probability_description": "Amongst non-matching record comparisons, 96.18% of records are in the all other comparisons comparison level"
         }
        ]
       },
       "params": [
        {
         "bind": {
          "input": "range",
          "max": 4,
          "min": 0,
          "step": 1
         },
         "description": "Filter by the interation number",
         "name": "iteration_number",
         "value": 4
        }
       ],
       "resolve": {
        "axis": {
         "y": "independent"
        },
        "scale": {
         "y": "independent"
        }
       },
       "selection": {
        "zoom_selector": {
         "bind": "scales",
         "encodings": [
          "x"
         ],
         "type": "interval"
        }
       },
       "title": {
        "subtitle": "Training session blocked on l.dob = r.dob",
        "text": "Model parameters (components of final match weight)"
       },
       "transform": [
        {
         "filter": "(datum.iteration == iteration_number)"
        }
       ],
       "vconcat": [
        {
         "encoding": {
          "color": {
           "field": "log2_bayes_factor",
           "scale": {
            "domain": [
             -10,
             0,
             10
            ],
            "range": [
             "red",
             "orange",
             "green"
            ]
           },
           "title": "Match weight",
           "type": "quantitative"
          },
          "tooltip": [
           {
            "field": "comparison_name",
            "title": "Comparison name",
            "type": "nominal"
           },
           {
            "field": "probability_two_random_records_match",
            "format": ".4f",
            "title": "Probability two random records match",
            "type": "nominal"
           },
           {
            "field": "log2_bayes_factor",
            "format": ",.4f",
            "title": "Equivalent match weight",
            "type": "quantitative"
           },
           {
            "field": "bayes_factor_description",
            "title": "Match weight description",
            "type": "nominal"
           }
          ],
          "x": {
           "axis": {
            "domain": false,
            "labels": false,
            "ticks": false,
            "title": ""
           },
           "field": "log2_bayes_factor",
           "scale": {
            "domain": [
             -10,
             10
            ]
           },
           "type": "quantitative"
          },
          "y": {
           "axis": {
            "title": "Prior (starting) match weight",
            "titleAlign": "right",
            "titleAngle": 0,
            "titleFontWeight": "normal"
           },
           "field": "label_for_charts",
           "sort": {
            "field": "comparison_vector_value",
            "order": "descending"
           },
           "type": "nominal"
          }
         },
         "height": 30,
         "mark": {
          "clip": true,
          "height": 20,
          "type": "bar"
         },
         "selection": {
          "zoom_selector": {
           "bind": "scales",
           "encodings": [
            "x"
           ],
           "type": "interval"
          }
         },
         "transform": [
          {
           "filter": "(datum.comparison_name == 'probability_two_random_records_match')"
          }
         ]
        },
        {
         "encoding": {
          "color": {
           "field": "log2_bayes_factor",
           "scale": {
            "domain": [
             -10,
             0,
             10
            ],
            "range": [
             "red",
             "orange",
             "green"
            ]
           },
           "title": "Match weight",
           "type": "quantitative"
          },
          "row": {
           "field": "comparison_name",
           "header": {
            "labelAlign": "left",
            "labelAnchor": "middle",
            "labelAngle": 0
           },
           "sort": {
            "field": "comparison_sort_order"
           },
           "type": "nominal"
          },
          "tooltip": [
           {
            "field": "comparison_name",
            "title": "Comparison name",
            "type": "nominal"
           },
           {
            "field": "label_for_charts",
            "title": "Label",
            "type": "ordinal"
           },
           {
            "field": "sql_condition",
            "title": "SQL condition",
            "type": "nominal"
           },
           {
            "field": "m_probability",
            "format": ".4f",
            "title": "M probability",
            "type": "quantitative"
           },
           {
            "field": "u_probability",
            "format": ".4f",
            "title": "U probability",
            "type": "quantitative"
           },
           {
            "field": "bayes_factor",
            "format": ",.4f",
            "title": "Bayes factor = m/u",
            "type": "quantitative"
           },
           {
            "field": "log2_bayes_factor",
            "format": ",.4f",
            "title": "Match weight = log2(m/u)",
            "type": "quantitative"
           },
           {
            "field": "bayes_factor_description",
            "title": "Match weight description",
            "type": "nominal"
           }
          ],
          "x": {
           "axis": {
            "title": "Comparison level match weight = log2(m/u)"
           },
           "field": "log2_bayes_factor",
           "scale": {
            "domain": [
             -10,
             10
            ]
           },
           "type": "quantitative"
          },
          "y": {
           "axis": {
            "title": null
           },
           "field": "label_for_charts",
           "sort": {
            "field": "comparison_vector_value",
            "order": "descending"
           },
           "type": "nominal"
          }
         },
         "mark": {
          "clip": true,
          "type": "bar"
         },
         "resolve": {
          "axis": {
           "y": "independent"
          },
          "scale": {
           "y": "independent"
          }
         },
         "selection": {
          "zoom_selector": {
           "bind": "scales",
           "encodings": [
            "x"
           ],
           "type": "interval"
          }
         },
         "transform": [
          {
           "filter": "(datum.comparison_name != 'probability_two_random_records_match')"
          }
         ]
        }
       ]
      },
      "image/png": "[encoded data removed]",
      "text/plain": [
       "<VegaLite 4 object>\n",
       "\n",
       "If you see this message, it means the renderer has not been properly enabled\n",
       "for the frontend that you are using. For more information, see\n",
       "https://altair-viz.github.io/user_guide/troubleshooting.html\n"
      ]
     },
     "execution_count": 11,
     "metadata": {},
     "output_type": "execute_result"
    }
   ],
   "source": [
    "blocking_rule = \"l.dob = r.dob\"\n",
    "training_session_dob = linker.estimate_parameters_using_expectation_maximisation(blocking_rule)\n",
    "training_session_dob.match_weights_interactive_history_chart()"
   ]
  },
  {
   "cell_type": "markdown",
   "metadata": {},
   "source": [
    "The final match weights can be viewed in the match weights chart:"
   ]
  },
  {
   "cell_type": "code",
   "execution_count": 12,
   "metadata": {},
   "outputs": [
    {
     "data": {
      "application/vnd.vegalite.v4+json": {
       "$schema": "https://vega.github.io/schema/vega-lite/v5.2.json",
       "config": {
        "header": {
         "title": null
        },
        "mark": {
         "tooltip": null
        },
        "title": {
         "anchor": "middle"
        },
        "view": {
         "height": 60,
         "width": 400
        }
       },
       "data": {
        "values": [
         {
          "bayes_factor": 2.3448035367917972e-05,
          "bayes_factor_description": "The probability that two random records drawn at random match is 0.000 or one in  42,648.5 records.This is equivalent to a starting match weight of -15.380.",
          "comparison_name": "probability_two_random_records_match",
          "comparison_sort_order": -1,
          "comparison_vector_value": 0,
          "has_tf_adjustments": false,
          "is_null_level": false,
          "label_for_charts": "",
          "log2_bayes_factor": -15.380173425201471,
          "m_probability": null,
          "m_probability_description": null,
          "max_comparison_vector_value": 0,
          "probability_two_random_records_match": 2.3447485570447028e-05,
          "sql_condition": null,
          "tf_adjustment_column": null,
          "tf_adjustment_weight": null,
          "u_probability": null,
          "u_probability_description": null
         },
         {
          "bayes_factor": 42.67278491140226,
          "bayes_factor_description": "If comparison level is `exact match` then comparison is 42.67 times more likely to be a match",
          "comparison_name": "first_name",
          "comparison_sort_order": 0,
          "comparison_vector_value": 3,
          "has_tf_adjustments": false,
          "is_null_level": false,
          "label_for_charts": "Exact match",
          "log2_bayes_factor": 5.415244361666424,
          "m_probability": 0.5560555809490083,
          "m_probability_description": "Amongst matching record comparisons, 55.61% of records are in the exact match comparison level",
          "max_comparison_vector_value": 3,
          "probability_two_random_records_match": 2.3447485570447028e-05,
          "sql_condition": "first_name_l = first_name_r",
          "tf_adjustment_column": null,
          "tf_adjustment_weight": 1,
          "u_probability": 0.013030684125807525,
          "u_probability_description": "Amongst non-matching record comparisons, 1.30% of records are in the exact match comparison level"
         },
         {
          "bayes_factor": 27.344981036024013,
          "bayes_factor_description": "If comparison level is `jaccard >= 0.9` then comparison is 27.34 times more likely to be a match",
          "comparison_name": "first_name",
          "comparison_sort_order": 0,
          "comparison_vector_value": 2,
          "has_tf_adjustments": false,
          "is_null_level": false,
          "label_for_charts": "jaccard >= 0.9",
          "log2_bayes_factor": 4.773204156464681,
          "m_probability": 0.007514796875782442,
          "m_probability_description": "Amongst matching record comparisons, 0.75% of records are in the jaccard >= 0.9 comparison level",
          "max_comparison_vector_value": 3,
          "probability_two_random_records_match": 2.3447485570447028e-05,
          "sql_condition": "jaccard(first_name_l, first_name_r) >= 0.9",
          "tf_adjustment_column": null,
          "tf_adjustment_weight": 1,
          "u_probability": 0.00027481448481834824,
          "u_probability_description": "Amongst non-matching record comparisons, 0.03% of records are in the jaccard >= 0.9 comparison level"
         },
         {
          "bayes_factor": 6.092826511777089,
          "bayes_factor_description": "If comparison level is `jaccard >= 0.5` then comparison is 6.09 times more likely to be a match",
          "comparison_name": "first_name",
          "comparison_sort_order": 0,
          "comparison_vector_value": 1,
          "has_tf_adjustments": false,
          "is_null_level": false,
          "label_for_charts": "jaccard >= 0.5",
          "log2_bayes_factor": 2.6071116613855483,
          "m_probability": 0.22638898345948427,
          "m_probability_description": "Amongst matching record comparisons, 22.64% of records are in the jaccard >= 0.5 comparison level",
          "max_comparison_vector_value": 3,
          "probability_two_random_records_match": 2.3447485570447028e-05,
          "sql_condition": "jaccard(first_name_l, first_name_r) >= 0.5",
          "tf_adjustment_column": null,
          "tf_adjustment_weight": 1,
          "u_probability": 0.03715664364017048,
          "u_probability_description": "Amongst non-matching record comparisons, 3.72% of records are in the jaccard >= 0.5 comparison level"
         },
         {
          "bayes_factor": 0.22120301681733318,
          "bayes_factor_description": "If comparison level is `all other comparisons` then comparison is  4.52 times less likely to be a match",
          "comparison_name": "first_name",
          "comparison_sort_order": 0,
          "comparison_vector_value": 0,
          "has_tf_adjustments": false,
          "is_null_level": false,
          "label_for_charts": "All other comparisons",
          "log2_bayes_factor": -2.176557033375653,
          "m_probability": 0.21004063871639161,
          "m_probability_description": "Amongst matching record comparisons, 21.00% of records are in the all other comparisons comparison level",
          "max_comparison_vector_value": 3,
          "probability_two_random_records_match": 2.3447485570447028e-05,
          "sql_condition": "ELSE",
          "tf_adjustment_column": null,
          "tf_adjustment_weight": 1,
          "u_probability": 0.9495378577492036,
          "u_probability_description": "Amongst non-matching record comparisons, 94.95% of records are in the all other comparisons comparison level"
         },
         {
          "bayes_factor": 1097.3291121301938,
          "bayes_factor_description": "If comparison level is `exact match` then comparison is 1,097.33 times more likely to be a match",
          "comparison_name": "surname",
          "comparison_sort_order": 1,
          "comparison_vector_value": 3,
          "has_tf_adjustments": false,
          "is_null_level": false,
          "label_for_charts": "Exact match",
          "log2_bayes_factor": 10.099780569955133,
          "m_probability": 0.7887629055260514,
          "m_probability_description": "Amongst matching record comparisons, 78.88% of records are in the exact match comparison level",
          "max_comparison_vector_value": 3,
          "probability_two_random_records_match": 2.3447485570447028e-05,
          "sql_condition": "surname_l = surname_r",
          "tf_adjustment_column": null,
          "tf_adjustment_weight": 1,
          "u_probability": 0.0007188024967230321,
          "u_probability_description": "Amongst non-matching record comparisons, 0.07% of records are in the exact match comparison level"
         },
         {
          "bayes_factor": 337.38278936055025,
          "bayes_factor_description": "If comparison level is `jaccard >= 0.9` then comparison is 337.38 times more likely to be a match",
          "comparison_name": "surname",
          "comparison_sort_order": 1,
          "comparison_vector_value": 2,
          "has_tf_adjustments": false,
          "is_null_level": false,
          "label_for_charts": "jaccard >= 0.9",
          "log2_bayes_factor": 8.398242570224498,
          "m_probability": 0.02713475890517518,
          "m_probability_description": "Amongst matching record comparisons, 2.71% of records are in the jaccard >= 0.9 comparison level",
          "max_comparison_vector_value": 3,
          "probability_two_random_records_match": 2.3447485570447028e-05,
          "sql_condition": "jaccard(surname_l, surname_r) >= 0.9",
          "tf_adjustment_column": null,
          "tf_adjustment_weight": 1,
          "u_probability": 8.042721727627051e-05,
          "u_probability_description": "Amongst non-matching record comparisons, 0.01% of records are in the jaccard >= 0.9 comparison level"
         },
         {
          "bayes_factor": 3.292592006383187,
          "bayes_factor_description": "If comparison level is `jaccard >= 0.5` then comparison is 3.29 times more likely to be a match",
          "comparison_name": "surname",
          "comparison_sort_order": 1,
          "comparison_vector_value": 1,
          "has_tf_adjustments": false,
          "is_null_level": false,
          "label_for_charts": "jaccard >= 0.5",
          "log2_bayes_factor": 1.719223754923147,
          "m_probability": 0.12762043080985488,
          "m_probability_description": "Amongst matching record comparisons, 12.76% of records are in the jaccard >= 0.5 comparison level",
          "max_comparison_vector_value": 3,
          "probability_two_random_records_match": 2.3447485570447028e-05,
          "sql_condition": "jaccard(surname_l, surname_r) >= 0.5",
          "tf_adjustment_column": null,
          "tf_adjustment_weight": 1,
          "u_probability": 0.038759867776646306,
          "u_probability_description": "Amongst non-matching record comparisons, 3.88% of records are in the jaccard >= 0.5 comparison level"
         },
         {
          "bayes_factor": 0.058808308363459544,
          "bayes_factor_description": "If comparison level is `all other comparisons` then comparison is  17.00 times less likely to be a match",
          "comparison_name": "surname",
          "comparison_sort_order": 1,
          "comparison_vector_value": 0,
          "has_tf_adjustments": false,
          "is_null_level": false,
          "label_for_charts": "All other comparisons",
          "log2_bayes_factor": -4.087836198182355,
          "m_probability": 0.0564819047596495,
          "m_probability_description": "Amongst matching record comparisons, 5.65% of records are in the all other comparisons comparison level",
          "max_comparison_vector_value": 3,
          "probability_two_random_records_match": 2.3447485570447028e-05,
          "sql_condition": "ELSE",
          "tf_adjustment_column": null,
          "tf_adjustment_weight": 1,
          "u_probability": 0.9604409025093544,
          "u_probability_description": "Amongst non-matching record comparisons, 96.04% of records are in the all other comparisons comparison level"
         },
         {
          "bayes_factor": 258.9744567541073,
          "bayes_factor_description": "If comparison level is `exact match` then comparison is 258.97 times more likely to be a match",
          "comparison_name": "dob",
          "comparison_sort_order": 2,
          "comparison_vector_value": 3,
          "has_tf_adjustments": false,
          "is_null_level": false,
          "label_for_charts": "Exact match",
          "log2_bayes_factor": 8.016665998375847,
          "m_probability": 0.6113179229173269,
          "m_probability_description": "Amongst matching record comparisons, 61.13% of records are in the exact match comparison level",
          "max_comparison_vector_value": 3,
          "probability_two_random_records_match": 2.3447485570447028e-05,
          "sql_condition": "dob_l = dob_r",
          "tf_adjustment_column": null,
          "tf_adjustment_weight": 1,
          "u_probability": 0.0023605336625834297,
          "u_probability_description": "Amongst non-matching record comparisons, 0.24% of records are in the exact match comparison level"
         },
         {
          "bayes_factor": 15.301809491004427,
          "bayes_factor_description": "If comparison level is `levenshtein <= 1` then comparison is 15.30 times more likely to be a match",
          "comparison_name": "dob",
          "comparison_sort_order": 2,
          "comparison_vector_value": 2,
          "has_tf_adjustments": false,
          "is_null_level": false,
          "label_for_charts": "levenshtein <= 1",
          "log2_bayes_factor": 3.9356303614876227,
          "m_probability": 0.33782984452102993,
          "m_probability_description": "Amongst matching record comparisons, 33.78% of records are in the levenshtein <= 1 comparison level",
          "max_comparison_vector_value": 3,
          "probability_two_random_records_match": 2.3447485570447028e-05,
          "sql_condition": "levenshtein(dob_l, dob_r) <= 1",
          "tf_adjustment_column": null,
          "tf_adjustment_weight": 1,
          "u_probability": 0.022077770914585765,
          "u_probability_description": "Amongst non-matching record comparisons, 2.21% of records are in the levenshtein <= 1 comparison level"
         },
         {
          "bayes_factor": 0.44117968530704904,
          "bayes_factor_description": "If comparison level is `levenshtein <= 2` then comparison is  2.27 times less likely to be a match",
          "comparison_name": "dob",
          "comparison_sort_order": 2,
          "comparison_vector_value": 1,
          "has_tf_adjustments": false,
          "is_null_level": false,
          "label_for_charts": "levenshtein <= 2",
          "log2_bayes_factor": -1.1805617331999696,
          "m_probability": 0.03737325112552846,
          "m_probability_description": "Amongst matching record comparisons, 3.74% of records are in the levenshtein <= 2 comparison level",
          "max_comparison_vector_value": 3,
          "probability_two_random_records_match": 2.3447485570447028e-05,
          "sql_condition": "levenshtein(dob_l, dob_r) <= 2",
          "tf_adjustment_column": null,
          "tf_adjustment_weight": 1,
          "u_probability": 0.08471208527998676,
          "u_probability_description": "Amongst non-matching record comparisons, 8.47% of records are in the levenshtein <= 2 comparison level"
         },
         {
          "bayes_factor": 0.01513047913285622,
          "bayes_factor_description": "If comparison level is `all other comparisons` then comparison is  66.09 times less likely to be a match",
          "comparison_name": "dob",
          "comparison_sort_order": 2,
          "comparison_vector_value": 0,
          "has_tf_adjustments": false,
          "is_null_level": false,
          "label_for_charts": "All other comparisons",
          "log2_bayes_factor": -6.0463985160567715,
          "m_probability": 0.0134789814367794,
          "m_probability_description": "Amongst matching record comparisons, 1.35% of records are in the all other comparisons comparison level",
          "max_comparison_vector_value": 3,
          "probability_two_random_records_match": 2.3447485570447028e-05,
          "sql_condition": "ELSE",
          "tf_adjustment_column": null,
          "tf_adjustment_weight": 1,
          "u_probability": 0.890849610142844,
          "u_probability_description": "Amongst non-matching record comparisons, 89.08% of records are in the all other comparisons comparison level"
         },
         {
          "bayes_factor": 4598.573173150793,
          "bayes_factor_description": "If comparison level is `exact match` then comparison is 4,598.57 times more likely to be a match",
          "comparison_name": "postcode_fake",
          "comparison_sort_order": 3,
          "comparison_vector_value": 2,
          "has_tf_adjustments": false,
          "is_null_level": false,
          "label_for_charts": "Exact match",
          "log2_bayes_factor": 12.166970581628611,
          "m_probability": 0.6862619027808218,
          "m_probability_description": "Amongst matching record comparisons, 68.63% of records are in the exact match comparison level",
          "max_comparison_vector_value": 2,
          "probability_two_random_records_match": 2.3447485570447028e-05,
          "sql_condition": "postcode_fake_l = postcode_fake_r",
          "tf_adjustment_column": null,
          "tf_adjustment_weight": 1,
          "u_probability": 0.00014923365942889137,
          "u_probability_description": "Amongst non-matching record comparisons, 0.01% of records are in the exact match comparison level"
         },
         {
          "bayes_factor": 266.68084436756084,
          "bayes_factor_description": "If comparison level is `levenshtein <= 2` then comparison is 266.68 times more likely to be a match",
          "comparison_name": "postcode_fake",
          "comparison_sort_order": 3,
          "comparison_vector_value": 1,
          "has_tf_adjustments": false,
          "is_null_level": false,
          "label_for_charts": "levenshtein <= 2",
          "log2_bayes_factor": 8.058970389885026,
          "m_probability": 0.14226554980135014,
          "m_probability_description": "Amongst matching record comparisons, 14.23% of records are in the levenshtein <= 2 comparison level",
          "max_comparison_vector_value": 2,
          "probability_two_random_records_match": 2.3447485570447028e-05,
          "sql_condition": "levenshtein(postcode_fake_l, postcode_fake_r) <= 2",
          "tf_adjustment_column": null,
          "tf_adjustment_weight": 1,
          "u_probability": 0.0005334674492228186,
          "u_probability_description": "Amongst non-matching record comparisons, 0.05% of records are in the levenshtein <= 2 comparison level"
         },
         {
          "bayes_factor": 0.1715896918914904,
          "bayes_factor_description": "If comparison level is `all other comparisons` then comparison is  5.83 times less likely to be a match",
          "comparison_name": "postcode_fake",
          "comparison_sort_order": 3,
          "comparison_vector_value": 0,
          "has_tf_adjustments": false,
          "is_null_level": false,
          "label_for_charts": "All other comparisons",
          "log2_bayes_factor": -2.5429652081554632,
          "m_probability": 0.17147254741860285,
          "m_probability_description": "Amongst matching record comparisons, 17.15% of records are in the all other comparisons comparison level",
          "max_comparison_vector_value": 2,
          "probability_two_random_records_match": 2.3447485570447028e-05,
          "sql_condition": "ELSE",
          "tf_adjustment_column": null,
          "tf_adjustment_weight": 1,
          "u_probability": 0.9993172988913482,
          "u_probability_description": "Amongst non-matching record comparisons, 99.93% of records are in the all other comparisons comparison level"
         },
         {
          "bayes_factor": 156.94377395583078,
          "bayes_factor_description": "If comparison level is `exact match` then comparison is 156.94 times more likely to be a match",
          "comparison_name": "birth_place",
          "comparison_sort_order": 4,
          "comparison_vector_value": 1,
          "has_tf_adjustments": false,
          "is_null_level": false,
          "label_for_charts": "Exact match",
          "log2_bayes_factor": 7.294103987339475,
          "m_probability": 0.839561202308113,
          "m_probability_description": "Amongst matching record comparisons, 83.96% of records are in the exact match comparison level",
          "max_comparison_vector_value": 1,
          "probability_two_random_records_match": 2.3447485570447028e-05,
          "sql_condition": "birth_place_l = birth_place_r",
          "tf_adjustment_column": null,
          "tf_adjustment_weight": 1,
          "u_probability": 0.005349439363834806,
          "u_probability_description": "Amongst non-matching record comparisons, 0.53% of records are in the exact match comparison level"
         },
         {
          "bayes_factor": 0.16130167120183755,
          "bayes_factor_description": "If comparison level is `all other comparisons` then comparison is  6.20 times less likely to be a match",
          "comparison_name": "birth_place",
          "comparison_sort_order": 4,
          "comparison_vector_value": 0,
          "has_tf_adjustments": false,
          "is_null_level": false,
          "label_for_charts": "All other comparisons",
          "log2_bayes_factor": -2.6321667089535508,
          "m_probability": 0.1604387976924581,
          "m_probability_description": "Amongst matching record comparisons, 16.04% of records are in the all other comparisons comparison level",
          "max_comparison_vector_value": 1,
          "probability_two_random_records_match": 2.3447485570447028e-05,
          "sql_condition": "ELSE",
          "tf_adjustment_column": null,
          "tf_adjustment_weight": 1,
          "u_probability": 0.9946505606361652,
          "u_probability_description": "Amongst non-matching record comparisons, 99.47% of records are in the all other comparisons comparison level"
         },
         {
          "bayes_factor": 23.574636244838747,
          "bayes_factor_description": "If comparison level is `exact match` then comparison is 23.57 times more likely to be a match",
          "comparison_name": "occupation",
          "comparison_sort_order": 5,
          "comparison_vector_value": 1,
          "has_tf_adjustments": false,
          "is_null_level": false,
          "label_for_charts": "Exact match",
          "log2_bayes_factor": 4.559163605265319,
          "m_probability": 0.901527411622844,
          "m_probability_description": "Amongst matching record comparisons, 90.15% of records are in the exact match comparison level",
          "max_comparison_vector_value": 1,
          "probability_two_random_records_match": 2.3447485570447028e-05,
          "sql_condition": "occupation_l = occupation_r",
          "tf_adjustment_column": null,
          "tf_adjustment_weight": 1,
          "u_probability": 0.0382414134521468,
          "u_probability_description": "Amongst non-matching record comparisons, 3.82% of records are in the exact match comparison level"
         },
         {
          "bayes_factor": 0.10238805221494583,
          "bayes_factor_description": "If comparison level is `all other comparisons` then comparison is  9.77 times less likely to be a match",
          "comparison_name": "occupation",
          "comparison_sort_order": 5,
          "comparison_vector_value": 0,
          "has_tf_adjustments": false,
          "is_null_level": false,
          "label_for_charts": "All other comparisons",
          "log2_bayes_factor": -3.2878807195485886,
          "m_probability": 0.09847258837763409,
          "m_probability_description": "Amongst matching record comparisons, 9.85% of records are in the all other comparisons comparison level",
          "max_comparison_vector_value": 1,
          "probability_two_random_records_match": 2.3447485570447028e-05,
          "sql_condition": "ELSE",
          "tf_adjustment_column": null,
          "tf_adjustment_weight": 1,
          "u_probability": 0.9617585865478532,
          "u_probability_description": "Amongst non-matching record comparisons, 96.18% of records are in the all other comparisons comparison level"
         }
        ]
       },
       "resolve": {
        "axis": {
         "y": "independent"
        },
        "scale": {
         "y": "independent"
        }
       },
       "selection": {
        "zoom_selector": {
         "bind": "scales",
         "encodings": [
          "x"
         ],
         "type": "interval"
        }
       },
       "title": {
        "subtitle": "Use mousewheel to zoom",
        "text": "Model parameters (components of final match weight)"
       },
       "vconcat": [
        {
         "encoding": {
          "color": {
           "field": "log2_bayes_factor",
           "scale": {
            "domain": [
             -10,
             0,
             10
            ],
            "range": [
             "red",
             "orange",
             "green"
            ]
           },
           "title": "Match weight",
           "type": "quantitative"
          },
          "tooltip": [
           {
            "field": "comparison_name",
            "title": "Comparison name",
            "type": "nominal"
           },
           {
            "field": "probability_two_random_records_match",
            "format": ".4f",
            "title": "Probability two random records match",
            "type": "nominal"
           },
           {
            "field": "log2_bayes_factor",
            "format": ",.4f",
            "title": "Equivalent match weight",
            "type": "quantitative"
           },
           {
            "field": "bayes_factor_description",
            "title": "Match weight description",
            "type": "nominal"
           }
          ],
          "x": {
           "axis": {
            "domain": false,
            "labels": false,
            "ticks": false,
            "title": ""
           },
           "field": "log2_bayes_factor",
           "scale": {
            "domain": [
             -10,
             10
            ]
           },
           "type": "quantitative"
          },
          "y": {
           "axis": {
            "title": "Prior (starting) match weight",
            "titleAlign": "right",
            "titleAngle": 0,
            "titleFontWeight": "normal"
           },
           "field": "label_for_charts",
           "sort": {
            "field": "comparison_vector_value",
            "order": "descending"
           },
           "type": "nominal"
          }
         },
         "height": 30,
         "mark": {
          "clip": true,
          "height": 20,
          "type": "bar"
         },
         "selection": {
          "zoom_selector": {
           "bind": "scales",
           "encodings": [
            "x"
           ],
           "type": "interval"
          }
         },
         "transform": [
          {
           "filter": "(datum.comparison_name == 'probability_two_random_records_match')"
          }
         ]
        },
        {
         "encoding": {
          "color": {
           "field": "log2_bayes_factor",
           "scale": {
            "domain": [
             -10,
             0,
             10
            ],
            "range": [
             "red",
             "orange",
             "green"
            ]
           },
           "title": "Match weight",
           "type": "quantitative"
          },
          "row": {
           "field": "comparison_name",
           "header": {
            "labelAlign": "left",
            "labelAnchor": "middle",
            "labelAngle": 0
           },
           "sort": {
            "field": "comparison_sort_order"
           },
           "type": "nominal"
          },
          "tooltip": [
           {
            "field": "comparison_name",
            "title": "Comparison name",
            "type": "nominal"
           },
           {
            "field": "label_for_charts",
            "title": "Label",
            "type": "ordinal"
           },
           {
            "field": "sql_condition",
            "title": "SQL condition",
            "type": "nominal"
           },
           {
            "field": "m_probability",
            "format": ".4f",
            "title": "M probability",
            "type": "quantitative"
           },
           {
            "field": "u_probability",
            "format": ".4f",
            "title": "U probability",
            "type": "quantitative"
           },
           {
            "field": "bayes_factor",
            "format": ",.4f",
            "title": "Bayes factor = m/u",
            "type": "quantitative"
           },
           {
            "field": "log2_bayes_factor",
            "format": ",.4f",
            "title": "Match weight = log2(m/u)",
            "type": "quantitative"
           },
           {
            "field": "bayes_factor_description",
            "title": "Match weight description",
            "type": "nominal"
           }
          ],
          "x": {
           "axis": {
            "title": "Comparison level match weight = log2(m/u)"
           },
           "field": "log2_bayes_factor",
           "scale": {
            "domain": [
             -10,
             10
            ]
           },
           "type": "quantitative"
          },
          "y": {
           "axis": {
            "title": null
           },
           "field": "label_for_charts",
           "sort": {
            "field": "comparison_vector_value",
            "order": "descending"
           },
           "type": "nominal"
          }
         },
         "mark": {
          "clip": true,
          "type": "bar"
         },
         "resolve": {
          "axis": {
           "y": "independent"
          },
          "scale": {
           "y": "independent"
          }
         },
         "selection": {
          "zoom_selector": {
           "bind": "scales",
           "encodings": [
            "x"
           ],
           "type": "interval"
          }
         },
         "transform": [
          {
           "filter": "(datum.comparison_name != 'probability_two_random_records_match')"
          }
         ]
        }
       ]
      },
      "image/png": "[encoded data removed]",
      "text/plain": [
       "<VegaLite 4 object>\n",
       "\n",
       "If you see this message, it means the renderer has not been properly enabled\n",
       "for the frontend that you are using. For more information, see\n",
       "https://altair-viz.github.io/user_guide/troubleshooting.html\n"
      ]
     },
     "execution_count": 12,
     "metadata": {},
     "output_type": "execute_result"
    }
   ],
   "source": [
    "linker.match_weights_chart()"
   ]
  },
  {
   "cell_type": "code",
   "execution_count": 13,
   "metadata": {},
   "outputs": [
    {
     "data": {
      "text/html": [
       "<div>\n",
       "<style scoped>\n",
       "    .dataframe tbody tr th:only-of-type {\n",
       "        vertical-align: middle;\n",
       "    }\n",
       "\n",
       "    .dataframe tbody tr th {\n",
       "        vertical-align: top;\n",
       "    }\n",
       "\n",
       "    .dataframe thead th {\n",
       "        text-align: right;\n",
       "    }\n",
       "</style>\n",
       "<table border=\"1\" class=\"dataframe\">\n",
       "  <thead>\n",
       "    <tr style=\"text-align: right;\">\n",
       "      <th></th>\n",
       "      <th>match_weight</th>\n",
       "      <th>match_probability</th>\n",
       "      <th>unique_id_l</th>\n",
       "      <th>unique_id_r</th>\n",
       "      <th>first_name_l</th>\n",
       "      <th>first_name_r</th>\n",
       "      <th>gamma_first_name</th>\n",
       "      <th>bf_first_name</th>\n",
       "      <th>surname_l</th>\n",
       "      <th>surname_r</th>\n",
       "      <th>...</th>\n",
       "      <th>bf_postcode_fake</th>\n",
       "      <th>birth_place_l</th>\n",
       "      <th>birth_place_r</th>\n",
       "      <th>gamma_birth_place</th>\n",
       "      <th>bf_birth_place</th>\n",
       "      <th>occupation_l</th>\n",
       "      <th>occupation_r</th>\n",
       "      <th>gamma_occupation</th>\n",
       "      <th>bf_occupation</th>\n",
       "      <th>match_key</th>\n",
       "    </tr>\n",
       "  </thead>\n",
       "  <tbody>\n",
       "    <tr>\n",
       "      <th>0</th>\n",
       "      <td>16.688616</td>\n",
       "      <td>0.999991</td>\n",
       "      <td>Q2296770-1</td>\n",
       "      <td>Q2296770-14</td>\n",
       "      <td>thomas</td>\n",
       "      <td>thomas</td>\n",
       "      <td>3</td>\n",
       "      <td>42.672785</td>\n",
       "      <td>chudleigh</td>\n",
       "      <td>chudleigh</td>\n",
       "      <td>...</td>\n",
       "      <td>266.680844</td>\n",
       "      <td>devon</td>\n",
       "      <td>NaN</td>\n",
       "      <td>-1</td>\n",
       "      <td>1.000000</td>\n",
       "      <td>politician</td>\n",
       "      <td>politician</td>\n",
       "      <td>1</td>\n",
       "      <td>23.574636</td>\n",
       "      <td>0</td>\n",
       "    </tr>\n",
       "    <tr>\n",
       "      <th>1</th>\n",
       "      <td>2.151050</td>\n",
       "      <td>0.816227</td>\n",
       "      <td>Q2296770-10</td>\n",
       "      <td>Q2296770-14</td>\n",
       "      <td>thomas</td>\n",
       "      <td>thomas</td>\n",
       "      <td>3</td>\n",
       "      <td>42.672785</td>\n",
       "      <td>chudleigh</td>\n",
       "      <td>chudleigh</td>\n",
       "      <td>...</td>\n",
       "      <td>0.171590</td>\n",
       "      <td>devon</td>\n",
       "      <td>NaN</td>\n",
       "      <td>-1</td>\n",
       "      <td>1.000000</td>\n",
       "      <td>politician</td>\n",
       "      <td>politician</td>\n",
       "      <td>1</td>\n",
       "      <td>23.574636</td>\n",
       "      <td>0</td>\n",
       "    </tr>\n",
       "    <tr>\n",
       "      <th>2</th>\n",
       "      <td>22.245485</td>\n",
       "      <td>1.000000</td>\n",
       "      <td>Q1443188-1</td>\n",
       "      <td>Q1443188-3</td>\n",
       "      <td>frank</td>\n",
       "      <td>frank</td>\n",
       "      <td>3</td>\n",
       "      <td>42.672785</td>\n",
       "      <td>brightman</td>\n",
       "      <td>brightman</td>\n",
       "      <td>...</td>\n",
       "      <td>4598.573173</td>\n",
       "      <td>bristol</td>\n",
       "      <td>bristol, city of</td>\n",
       "      <td>0</td>\n",
       "      <td>0.161302</td>\n",
       "      <td>liturgist</td>\n",
       "      <td>liturgist</td>\n",
       "      <td>1</td>\n",
       "      <td>23.574636</td>\n",
       "      <td>0</td>\n",
       "    </tr>\n",
       "    <tr>\n",
       "      <th>3</th>\n",
       "      <td>22.245485</td>\n",
       "      <td>1.000000</td>\n",
       "      <td>Q1443188-2</td>\n",
       "      <td>Q1443188-3</td>\n",
       "      <td>frank</td>\n",
       "      <td>frank</td>\n",
       "      <td>3</td>\n",
       "      <td>42.672785</td>\n",
       "      <td>brightman</td>\n",
       "      <td>brightman</td>\n",
       "      <td>...</td>\n",
       "      <td>4598.573173</td>\n",
       "      <td>bristol</td>\n",
       "      <td>bristol, city of</td>\n",
       "      <td>0</td>\n",
       "      <td>0.161302</td>\n",
       "      <td>liturgist</td>\n",
       "      <td>liturgist</td>\n",
       "      <td>1</td>\n",
       "      <td>23.574636</td>\n",
       "      <td>0</td>\n",
       "    </tr>\n",
       "    <tr>\n",
       "      <th>4</th>\n",
       "      <td>6.086680</td>\n",
       "      <td>0.985499</td>\n",
       "      <td>Q1443188-4</td>\n",
       "      <td>Q1443188-5</td>\n",
       "      <td>francis</td>\n",
       "      <td>francis</td>\n",
       "      <td>3</td>\n",
       "      <td>42.672785</td>\n",
       "      <td>brightman</td>\n",
       "      <td>brightman</td>\n",
       "      <td>...</td>\n",
       "      <td>0.171590</td>\n",
       "      <td>NaN</td>\n",
       "      <td>bristol, city of</td>\n",
       "      <td>-1</td>\n",
       "      <td>1.000000</td>\n",
       "      <td>liturgist</td>\n",
       "      <td>liturgist</td>\n",
       "      <td>1</td>\n",
       "      <td>23.574636</td>\n",
       "      <td>0</td>\n",
       "    </tr>\n",
       "  </tbody>\n",
       "</table>\n",
       "<p>5 rows × 29 columns</p>\n",
       "</div>"
      ],
      "text/plain": [
       "   match_weight  match_probability  unique_id_l  unique_id_r first_name_l  \\\n",
       "0     16.688616           0.999991   Q2296770-1  Q2296770-14       thomas   \n",
       "1      2.151050           0.816227  Q2296770-10  Q2296770-14       thomas   \n",
       "2     22.245485           1.000000   Q1443188-1   Q1443188-3        frank   \n",
       "3     22.245485           1.000000   Q1443188-2   Q1443188-3        frank   \n",
       "4      6.086680           0.985499   Q1443188-4   Q1443188-5      francis   \n",
       "\n",
       "  first_name_r  gamma_first_name  bf_first_name  surname_l  surname_r  ...  \\\n",
       "0       thomas                 3      42.672785  chudleigh  chudleigh  ...   \n",
       "1       thomas                 3      42.672785  chudleigh  chudleigh  ...   \n",
       "2        frank                 3      42.672785  brightman  brightman  ...   \n",
       "3        frank                 3      42.672785  brightman  brightman  ...   \n",
       "4      francis                 3      42.672785  brightman  brightman  ...   \n",
       "\n",
       "   bf_postcode_fake  birth_place_l     birth_place_r gamma_birth_place  \\\n",
       "0        266.680844          devon               NaN                -1   \n",
       "1          0.171590          devon               NaN                -1   \n",
       "2       4598.573173        bristol  bristol, city of                 0   \n",
       "3       4598.573173        bristol  bristol, city of                 0   \n",
       "4          0.171590            NaN  bristol, city of                -1   \n",
       "\n",
       "   bf_birth_place  occupation_l occupation_r gamma_occupation  bf_occupation  \\\n",
       "0        1.000000    politician   politician                1      23.574636   \n",
       "1        1.000000    politician   politician                1      23.574636   \n",
       "2        0.161302     liturgist    liturgist                1      23.574636   \n",
       "3        0.161302     liturgist    liturgist                1      23.574636   \n",
       "4        1.000000     liturgist    liturgist                1      23.574636   \n",
       "\n",
       "   match_key  \n",
       "0          0  \n",
       "1          0  \n",
       "2          0  \n",
       "3          0  \n",
       "4          0  \n",
       "\n",
       "[5 rows x 29 columns]"
      ]
     },
     "execution_count": 13,
     "metadata": {},
     "output_type": "execute_result"
    }
   ],
   "source": [
    "df_e = linker.predict().as_pandas_dataframe(limit=20)\n",
    "\n",
    "df_e.head()"
   ]
  },
  {
   "cell_type": "markdown",
   "metadata": {},
   "source": [
    "You can also view rows in this dataset as a waterfall chart as follows:"
   ]
  },
  {
   "cell_type": "code",
   "execution_count": 14,
   "metadata": {},
   "outputs": [
    {
     "data": {
      "application/vnd.vegalite.v4+json": {
       "$schema": "https://vega.github.io/schema/vega-lite/v5.2.0.json",
       "config": {
        "view": {
         "continuousHeight": 300,
         "continuousWidth": 400
        }
       },
       "data": {
        "values": [
         {
          "bar_sort_order": 0,
          "bayes_factor": 2.3448035367917972e-05,
          "bayes_factor_description": null,
          "column_name": "Prior",
          "comparison_vector_value": null,
          "label_for_charts": "Starting match weight (prior)",
          "log2_bayes_factor": -15.380173425201471,
          "m_probability": null,
          "record_number": 0,
          "sql_condition": null,
          "term_frequency_adjustment": null,
          "u_probability": null,
          "value_l": "",
          "value_r": ""
         },
         {
          "bar_sort_order": 1,
          "bayes_factor": 42.67278491140226,
          "bayes_factor_description": "If comparison level is `exact match` then comparison is 42.67 times more likely to be a match",
          "column_name": "first_name",
          "comparison_vector_value": 3,
          "label_for_charts": "Exact match",
          "log2_bayes_factor": 5.415244361666424,
          "m_probability": 0.5560555809490083,
          "record_number": 0,
          "sql_condition": "first_name_l = first_name_r",
          "term_frequency_adjustment": false,
          "u_probability": 0.013030684125807525,
          "value_l": "thomas",
          "value_r": "thomas"
         },
         {
          "bar_sort_order": 2,
          "bayes_factor": 1097.3291121301938,
          "bayes_factor_description": "If comparison level is `exact match` then comparison is 1,097.33 times more likely to be a match",
          "column_name": "surname",
          "comparison_vector_value": 3,
          "label_for_charts": "Exact match",
          "log2_bayes_factor": 10.099780569955133,
          "m_probability": 0.7887629055260514,
          "record_number": 0,
          "sql_condition": "surname_l = surname_r",
          "term_frequency_adjustment": false,
          "u_probability": 0.0007188024967230321,
          "value_l": "chudleigh",
          "value_r": "chudleigh"
         },
         {
          "bar_sort_order": 3,
          "bayes_factor": 15.301809491004427,
          "bayes_factor_description": "If comparison level is `levenshtein <= 1` then comparison is 15.30 times more likely to be a match",
          "column_name": "dob",
          "comparison_vector_value": 2,
          "label_for_charts": "levenshtein <= 1",
          "log2_bayes_factor": 3.9356303614876227,
          "m_probability": 0.33782984452102993,
          "record_number": 0,
          "sql_condition": "levenshtein(dob_l, dob_r) <= 1",
          "term_frequency_adjustment": false,
          "u_probability": 0.022077770914585765,
          "value_l": "1630-08-01",
          "value_r": "1638-08-01"
         },
         {
          "bar_sort_order": 4,
          "bayes_factor": 266.68084436756084,
          "bayes_factor_description": "If comparison level is `levenshtein <= 2` then comparison is 266.68 times more likely to be a match",
          "column_name": "postcode_fake",
          "comparison_vector_value": 1,
          "label_for_charts": "levenshtein <= 2",
          "log2_bayes_factor": 8.058970389885026,
          "m_probability": 0.14226554980135014,
          "record_number": 0,
          "sql_condition": "levenshtein(postcode_fake_l, postcode_fake_r) <= 2",
          "term_frequency_adjustment": false,
          "u_probability": 0.0005334674492228186,
          "value_l": "tq13 8df",
          "value_r": "tq1w 8df"
         },
         {
          "bar_sort_order": 5,
          "bayes_factor": 1,
          "bayes_factor_description": "If comparison level is `null` then comparison is 1.00 times more likely to be a match",
          "column_name": "birth_place",
          "comparison_vector_value": -1,
          "label_for_charts": "Null",
          "log2_bayes_factor": 0,
          "m_probability": null,
          "record_number": 0,
          "sql_condition": "birth_place_l IS NULL OR birth_place_r IS NULL",
          "term_frequency_adjustment": false,
          "u_probability": null,
          "value_l": "devon",
          "value_r": "nan"
         },
         {
          "bar_sort_order": 6,
          "bayes_factor": 23.574636244838747,
          "bayes_factor_description": "If comparison level is `exact match` then comparison is 23.57 times more likely to be a match",
          "column_name": "occupation",
          "comparison_vector_value": 1,
          "label_for_charts": "Exact match",
          "log2_bayes_factor": 4.559163605265319,
          "m_probability": 0.901527411622844,
          "record_number": 0,
          "sql_condition": "occupation_l = occupation_r",
          "term_frequency_adjustment": false,
          "u_probability": 0.0382414134521468,
          "value_l": "politician",
          "value_r": "politician"
         },
         {
          "bar_sort_order": 7,
          "bayes_factor": 105626.76060039534,
          "bayes_factor_description": null,
          "column_name": "Final score",
          "comparison_vector_value": null,
          "label_for_charts": "Final score",
          "log2_bayes_factor": 16.688615863058054,
          "m_probability": null,
          "record_number": 0,
          "sql_condition": null,
          "term_frequency_adjustment": null,
          "u_probability": null,
          "value_l": "",
          "value_r": ""
         },
         {
          "bar_sort_order": 0,
          "bayes_factor": 2.3448035367917972e-05,
          "bayes_factor_description": null,
          "column_name": "Prior",
          "comparison_vector_value": null,
          "label_for_charts": "Starting match weight (prior)",
          "log2_bayes_factor": -15.380173425201471,
          "m_probability": null,
          "record_number": 1,
          "sql_condition": null,
          "term_frequency_adjustment": null,
          "u_probability": null,
          "value_l": "",
          "value_r": ""
         },
         {
          "bar_sort_order": 1,
          "bayes_factor": 42.67278491140226,
          "bayes_factor_description": "If comparison level is `exact match` then comparison is 42.67 times more likely to be a match",
          "column_name": "first_name",
          "comparison_vector_value": 3,
          "label_for_charts": "Exact match",
          "log2_bayes_factor": 5.415244361666424,
          "m_probability": 0.5560555809490083,
          "record_number": 1,
          "sql_condition": "first_name_l = first_name_r",
          "term_frequency_adjustment": false,
          "u_probability": 0.013030684125807525,
          "value_l": "thomas",
          "value_r": "thomas"
         },
         {
          "bar_sort_order": 2,
          "bayes_factor": 1097.3291121301938,
          "bayes_factor_description": "If comparison level is `exact match` then comparison is 1,097.33 times more likely to be a match",
          "column_name": "surname",
          "comparison_vector_value": 3,
          "label_for_charts": "Exact match",
          "log2_bayes_factor": 10.099780569955133,
          "m_probability": 0.7887629055260514,
          "record_number": 1,
          "sql_condition": "surname_l = surname_r",
          "term_frequency_adjustment": false,
          "u_probability": 0.0007188024967230321,
          "value_l": "chudleigh",
          "value_r": "chudleigh"
         },
         {
          "bar_sort_order": 3,
          "bayes_factor": 1,
          "bayes_factor_description": "If comparison level is `null` then comparison is 1.00 times more likely to be a match",
          "column_name": "dob",
          "comparison_vector_value": -1,
          "label_for_charts": "Null",
          "log2_bayes_factor": 0,
          "m_probability": null,
          "record_number": 1,
          "sql_condition": "dob_l IS NULL OR dob_r IS NULL",
          "term_frequency_adjustment": false,
          "u_probability": null,
          "value_l": "nan",
          "value_r": "1638-08-01"
         },
         {
          "bar_sort_order": 4,
          "bayes_factor": 0.1715896918914904,
          "bayes_factor_description": "If comparison level is `all other comparisons` then comparison is  5.83 times less likely to be a match",
          "column_name": "postcode_fake",
          "comparison_vector_value": 0,
          "label_for_charts": "All other comparisons",
          "log2_bayes_factor": -2.5429652081554632,
          "m_probability": 0.17147254741860285,
          "record_number": 1,
          "sql_condition": "ELSE",
          "term_frequency_adjustment": false,
          "u_probability": 0.9993172988913482,
          "value_l": "tq13 8jr",
          "value_r": "tq1w 8df"
         },
         {
          "bar_sort_order": 5,
          "bayes_factor": 1,
          "bayes_factor_description": "If comparison level is `null` then comparison is 1.00 times more likely to be a match",
          "column_name": "birth_place",
          "comparison_vector_value": -1,
          "label_for_charts": "Null",
          "log2_bayes_factor": 0,
          "m_probability": null,
          "record_number": 1,
          "sql_condition": "birth_place_l IS NULL OR birth_place_r IS NULL",
          "term_frequency_adjustment": false,
          "u_probability": null,
          "value_l": "devon",
          "value_r": "nan"
         },
         {
          "bar_sort_order": 6,
          "bayes_factor": 23.574636244838747,
          "bayes_factor_description": "If comparison level is `exact match` then comparison is 23.57 times more likely to be a match",
          "column_name": "occupation",
          "comparison_vector_value": 1,
          "label_for_charts": "Exact match",
          "log2_bayes_factor": 4.559163605265319,
          "m_probability": 0.901527411622844,
          "record_number": 1,
          "sql_condition": "occupation_l = occupation_r",
          "term_frequency_adjustment": false,
          "u_probability": 0.0382414134521468,
          "value_l": "politician",
          "value_r": "politician"
         },
         {
          "bar_sort_order": 7,
          "bayes_factor": 4.44150896583371,
          "bayes_factor_description": null,
          "column_name": "Final score",
          "comparison_vector_value": null,
          "label_for_charts": "Final score",
          "log2_bayes_factor": 2.1510499035299415,
          "m_probability": null,
          "record_number": 1,
          "sql_condition": null,
          "term_frequency_adjustment": null,
          "u_probability": null,
          "value_l": "",
          "value_r": ""
         },
         {
          "bar_sort_order": 0,
          "bayes_factor": 2.3448035367917972e-05,
          "bayes_factor_description": null,
          "column_name": "Prior",
          "comparison_vector_value": null,
          "label_for_charts": "Starting match weight (prior)",
          "log2_bayes_factor": -15.380173425201471,
          "m_probability": null,
          "record_number": 2,
          "sql_condition": null,
          "term_frequency_adjustment": null,
          "u_probability": null,
          "value_l": "",
          "value_r": ""
         },
         {
          "bar_sort_order": 1,
          "bayes_factor": 42.67278491140226,
          "bayes_factor_description": "If comparison level is `exact match` then comparison is 42.67 times more likely to be a match",
          "column_name": "first_name",
          "comparison_vector_value": 3,
          "label_for_charts": "Exact match",
          "log2_bayes_factor": 5.415244361666424,
          "m_probability": 0.5560555809490083,
          "record_number": 2,
          "sql_condition": "first_name_l = first_name_r",
          "term_frequency_adjustment": false,
          "u_probability": 0.013030684125807525,
          "value_l": "frank",
          "value_r": "frank"
         },
         {
          "bar_sort_order": 2,
          "bayes_factor": 1097.3291121301938,
          "bayes_factor_description": "If comparison level is `exact match` then comparison is 1,097.33 times more likely to be a match",
          "column_name": "surname",
          "comparison_vector_value": 3,
          "label_for_charts": "Exact match",
          "log2_bayes_factor": 10.099780569955133,
          "m_probability": 0.7887629055260514,
          "record_number": 2,
          "sql_condition": "surname_l = surname_r",
          "term_frequency_adjustment": false,
          "u_probability": 0.0007188024967230321,
          "value_l": "brightman",
          "value_r": "brightman"
         },
         {
          "bar_sort_order": 3,
          "bayes_factor": 258.9744567541073,
          "bayes_factor_description": "If comparison level is `exact match` then comparison is 258.97 times more likely to be a match",
          "column_name": "dob",
          "comparison_vector_value": 3,
          "label_for_charts": "Exact match",
          "log2_bayes_factor": 8.016665998375847,
          "m_probability": 0.6113179229173269,
          "record_number": 2,
          "sql_condition": "dob_l = dob_r",
          "term_frequency_adjustment": false,
          "u_probability": 0.0023605336625834297,
          "value_l": "1856-06-18",
          "value_r": "1856-06-18"
         },
         {
          "bar_sort_order": 4,
          "bayes_factor": 4598.573173150793,
          "bayes_factor_description": "If comparison level is `exact match` then comparison is 4,598.57 times more likely to be a match",
          "column_name": "postcode_fake",
          "comparison_vector_value": 2,
          "label_for_charts": "Exact match",
          "log2_bayes_factor": 12.166970581628611,
          "m_probability": 0.6862619027808218,
          "record_number": 2,
          "sql_condition": "postcode_fake_l = postcode_fake_r",
          "term_frequency_adjustment": false,
          "u_probability": 0.00014923365942889137,
          "value_l": "bs2 0el",
          "value_r": "bs2 0el"
         },
         {
          "bar_sort_order": 5,
          "bayes_factor": 0.16130167120183755,
          "bayes_factor_description": "If comparison level is `all other comparisons` then comparison is  6.20 times less likely to be a match",
          "column_name": "birth_place",
          "comparison_vector_value": 0,
          "label_for_charts": "All other comparisons",
          "log2_bayes_factor": -2.6321667089535508,
          "m_probability": 0.1604387976924581,
          "record_number": 2,
          "sql_condition": "ELSE",
          "term_frequency_adjustment": false,
          "u_probability": 0.9946505606361652,
          "value_l": "bristol",
          "value_r": "bristol, city of"
         },
         {
          "bar_sort_order": 6,
          "bayes_factor": 23.574636244838747,
          "bayes_factor_description": "If comparison level is `exact match` then comparison is 23.57 times more likely to be a match",
          "column_name": "occupation",
          "comparison_vector_value": 1,
          "label_for_charts": "Exact match",
          "log2_bayes_factor": 4.559163605265319,
          "m_probability": 0.901527411622844,
          "record_number": 2,
          "sql_condition": "occupation_l = occupation_r",
          "term_frequency_adjustment": false,
          "u_probability": 0.0382414134521468,
          "value_l": "liturgist",
          "value_r": "liturgist"
         },
         {
          "bar_sort_order": 7,
          "bayes_factor": 4972310.582495708,
          "bayes_factor_description": null,
          "column_name": "Final score",
          "comparison_vector_value": null,
          "label_for_charts": "Final score",
          "log2_bayes_factor": 22.245484982736315,
          "m_probability": null,
          "record_number": 2,
          "sql_condition": null,
          "term_frequency_adjustment": null,
          "u_probability": null,
          "value_l": "",
          "value_r": ""
         },
         {
          "bar_sort_order": 0,
          "bayes_factor": 2.3448035367917972e-05,
          "bayes_factor_description": null,
          "column_name": "Prior",
          "comparison_vector_value": null,
          "label_for_charts": "Starting match weight (prior)",
          "log2_bayes_factor": -15.380173425201471,
          "m_probability": null,
          "record_number": 3,
          "sql_condition": null,
          "term_frequency_adjustment": null,
          "u_probability": null,
          "value_l": "",
          "value_r": ""
         },
         {
          "bar_sort_order": 1,
          "bayes_factor": 42.67278491140226,
          "bayes_factor_description": "If comparison level is `exact match` then comparison is 42.67 times more likely to be a match",
          "column_name": "first_name",
          "comparison_vector_value": 3,
          "label_for_charts": "Exact match",
          "log2_bayes_factor": 5.415244361666424,
          "m_probability": 0.5560555809490083,
          "record_number": 3,
          "sql_condition": "first_name_l = first_name_r",
          "term_frequency_adjustment": false,
          "u_probability": 0.013030684125807525,
          "value_l": "frank",
          "value_r": "frank"
         },
         {
          "bar_sort_order": 2,
          "bayes_factor": 1097.3291121301938,
          "bayes_factor_description": "If comparison level is `exact match` then comparison is 1,097.33 times more likely to be a match",
          "column_name": "surname",
          "comparison_vector_value": 3,
          "label_for_charts": "Exact match",
          "log2_bayes_factor": 10.099780569955133,
          "m_probability": 0.7887629055260514,
          "record_number": 3,
          "sql_condition": "surname_l = surname_r",
          "term_frequency_adjustment": false,
          "u_probability": 0.0007188024967230321,
          "value_l": "brightman",
          "value_r": "brightman"
         },
         {
          "bar_sort_order": 3,
          "bayes_factor": 258.9744567541073,
          "bayes_factor_description": "If comparison level is `exact match` then comparison is 258.97 times more likely to be a match",
          "column_name": "dob",
          "comparison_vector_value": 3,
          "label_for_charts": "Exact match",
          "log2_bayes_factor": 8.016665998375847,
          "m_probability": 0.6113179229173269,
          "record_number": 3,
          "sql_condition": "dob_l = dob_r",
          "term_frequency_adjustment": false,
          "u_probability": 0.0023605336625834297,
          "value_l": "1856-06-18",
          "value_r": "1856-06-18"
         },
         {
          "bar_sort_order": 4,
          "bayes_factor": 4598.573173150793,
          "bayes_factor_description": "If comparison level is `exact match` then comparison is 4,598.57 times more likely to be a match",
          "column_name": "postcode_fake",
          "comparison_vector_value": 2,
          "label_for_charts": "Exact match",
          "log2_bayes_factor": 12.166970581628611,
          "m_probability": 0.6862619027808218,
          "record_number": 3,
          "sql_condition": "postcode_fake_l = postcode_fake_r",
          "term_frequency_adjustment": false,
          "u_probability": 0.00014923365942889137,
          "value_l": "bs2 0el",
          "value_r": "bs2 0el"
         },
         {
          "bar_sort_order": 5,
          "bayes_factor": 0.16130167120183755,
          "bayes_factor_description": "If comparison level is `all other comparisons` then comparison is  6.20 times less likely to be a match",
          "column_name": "birth_place",
          "comparison_vector_value": 0,
          "label_for_charts": "All other comparisons",
          "log2_bayes_factor": -2.6321667089535508,
          "m_probability": 0.1604387976924581,
          "record_number": 3,
          "sql_condition": "ELSE",
          "term_frequency_adjustment": false,
          "u_probability": 0.9946505606361652,
          "value_l": "bristol",
          "value_r": "bristol, city of"
         },
         {
          "bar_sort_order": 6,
          "bayes_factor": 23.574636244838747,
          "bayes_factor_description": "If comparison level is `exact match` then comparison is 23.57 times more likely to be a match",
          "column_name": "occupation",
          "comparison_vector_value": 1,
          "label_for_charts": "Exact match",
          "log2_bayes_factor": 4.559163605265319,
          "m_probability": 0.901527411622844,
          "record_number": 3,
          "sql_condition": "occupation_l = occupation_r",
          "term_frequency_adjustment": false,
          "u_probability": 0.0382414134521468,
          "value_l": "liturgist",
          "value_r": "liturgist"
         },
         {
          "bar_sort_order": 7,
          "bayes_factor": 4972310.582495708,
          "bayes_factor_description": null,
          "column_name": "Final score",
          "comparison_vector_value": null,
          "label_for_charts": "Final score",
          "log2_bayes_factor": 22.245484982736315,
          "m_probability": null,
          "record_number": 3,
          "sql_condition": null,
          "term_frequency_adjustment": null,
          "u_probability": null,
          "value_l": "",
          "value_r": ""
         },
         {
          "bar_sort_order": 0,
          "bayes_factor": 2.3448035367917972e-05,
          "bayes_factor_description": null,
          "column_name": "Prior",
          "comparison_vector_value": null,
          "label_for_charts": "Starting match weight (prior)",
          "log2_bayes_factor": -15.380173425201471,
          "m_probability": null,
          "record_number": 4,
          "sql_condition": null,
          "term_frequency_adjustment": null,
          "u_probability": null,
          "value_l": "",
          "value_r": ""
         },
         {
          "bar_sort_order": 1,
          "bayes_factor": 42.67278491140226,
          "bayes_factor_description": "If comparison level is `exact match` then comparison is 42.67 times more likely to be a match",
          "column_name": "first_name",
          "comparison_vector_value": 3,
          "label_for_charts": "Exact match",
          "log2_bayes_factor": 5.415244361666424,
          "m_probability": 0.5560555809490083,
          "record_number": 4,
          "sql_condition": "first_name_l = first_name_r",
          "term_frequency_adjustment": false,
          "u_probability": 0.013030684125807525,
          "value_l": "francis",
          "value_r": "francis"
         },
         {
          "bar_sort_order": 2,
          "bayes_factor": 1097.3291121301938,
          "bayes_factor_description": "If comparison level is `exact match` then comparison is 1,097.33 times more likely to be a match",
          "column_name": "surname",
          "comparison_vector_value": 3,
          "label_for_charts": "Exact match",
          "log2_bayes_factor": 10.099780569955133,
          "m_probability": 0.7887629055260514,
          "record_number": 4,
          "sql_condition": "surname_l = surname_r",
          "term_frequency_adjustment": false,
          "u_probability": 0.0007188024967230321,
          "value_l": "brightman",
          "value_r": "brightman"
         },
         {
          "bar_sort_order": 3,
          "bayes_factor": 15.301809491004427,
          "bayes_factor_description": "If comparison level is `levenshtein <= 1` then comparison is 15.30 times more likely to be a match",
          "column_name": "dob",
          "comparison_vector_value": 2,
          "label_for_charts": "levenshtein <= 1",
          "log2_bayes_factor": 3.9356303614876227,
          "m_probability": 0.33782984452102993,
          "record_number": 4,
          "sql_condition": "levenshtein(dob_l, dob_r) <= 1",
          "term_frequency_adjustment": false,
          "u_probability": 0.022077770914585765,
          "value_l": "1856-06-18",
          "value_r": "1856-86-18"
         },
         {
          "bar_sort_order": 4,
          "bayes_factor": 0.1715896918914904,
          "bayes_factor_description": "If comparison level is `all other comparisons` then comparison is  5.83 times less likely to be a match",
          "column_name": "postcode_fake",
          "comparison_vector_value": 0,
          "label_for_charts": "All other comparisons",
          "log2_bayes_factor": -2.5429652081554632,
          "m_probability": 0.17147254741860285,
          "record_number": 4,
          "sql_condition": "ELSE",
          "term_frequency_adjustment": false,
          "u_probability": 0.9993172988913482,
          "value_l": "bs2 0el",
          "value_r": "cf83 4jg"
         },
         {
          "bar_sort_order": 5,
          "bayes_factor": 1,
          "bayes_factor_description": "If comparison level is `null` then comparison is 1.00 times more likely to be a match",
          "column_name": "birth_place",
          "comparison_vector_value": -1,
          "label_for_charts": "Null",
          "log2_bayes_factor": 0,
          "m_probability": null,
          "record_number": 4,
          "sql_condition": "birth_place_l IS NULL OR birth_place_r IS NULL",
          "term_frequency_adjustment": false,
          "u_probability": null,
          "value_l": "nan",
          "value_r": "bristol, city of"
         },
         {
          "bar_sort_order": 6,
          "bayes_factor": 23.574636244838747,
          "bayes_factor_description": "If comparison level is `exact match` then comparison is 23.57 times more likely to be a match",
          "column_name": "occupation",
          "comparison_vector_value": 1,
          "label_for_charts": "Exact match",
          "log2_bayes_factor": 4.559163605265319,
          "m_probability": 0.901527411622844,
          "record_number": 4,
          "sql_condition": "occupation_l = occupation_r",
          "term_frequency_adjustment": false,
          "u_probability": 0.0382414134521468,
          "value_l": "liturgist",
          "value_r": "liturgist"
         },
         {
          "bar_sort_order": 7,
          "bayes_factor": 67.96312404777552,
          "bayes_factor_description": null,
          "column_name": "Final score",
          "comparison_vector_value": null,
          "label_for_charts": "Final score",
          "log2_bayes_factor": 6.086680265017565,
          "m_probability": null,
          "record_number": 4,
          "sql_condition": null,
          "term_frequency_adjustment": null,
          "u_probability": null,
          "value_l": "",
          "value_r": ""
         },
         {
          "bar_sort_order": 0,
          "bayes_factor": 2.3448035367917972e-05,
          "bayes_factor_description": null,
          "column_name": "Prior",
          "comparison_vector_value": null,
          "label_for_charts": "Starting match weight (prior)",
          "log2_bayes_factor": -15.380173425201471,
          "m_probability": null,
          "record_number": 5,
          "sql_condition": null,
          "term_frequency_adjustment": null,
          "u_probability": null,
          "value_l": "",
          "value_r": ""
         },
         {
          "bar_sort_order": 1,
          "bayes_factor": 42.67278491140226,
          "bayes_factor_description": "If comparison level is `exact match` then comparison is 42.67 times more likely to be a match",
          "column_name": "first_name",
          "comparison_vector_value": 3,
          "label_for_charts": "Exact match",
          "log2_bayes_factor": 5.415244361666424,
          "m_probability": 0.5560555809490083,
          "record_number": 5,
          "sql_condition": "first_name_l = first_name_r",
          "term_frequency_adjustment": false,
          "u_probability": 0.013030684125807525,
          "value_l": "emlie",
          "value_r": "emlie"
         },
         {
          "bar_sort_order": 2,
          "bayes_factor": 1097.3291121301938,
          "bayes_factor_description": "If comparison level is `exact match` then comparison is 1,097.33 times more likely to be a match",
          "column_name": "surname",
          "comparison_vector_value": 3,
          "label_for_charts": "Exact match",
          "log2_bayes_factor": 10.099780569955133,
          "m_probability": 0.7887629055260514,
          "record_number": 5,
          "sql_condition": "surname_l = surname_r",
          "term_frequency_adjustment": false,
          "u_probability": 0.0007188024967230321,
          "value_l": "clifford",
          "value_r": "clifford"
         },
         {
          "bar_sort_order": 3,
          "bayes_factor": 258.9744567541073,
          "bayes_factor_description": "If comparison level is `exact match` then comparison is 258.97 times more likely to be a match",
          "column_name": "dob",
          "comparison_vector_value": 3,
          "label_for_charts": "Exact match",
          "log2_bayes_factor": 8.016665998375847,
          "m_probability": 0.6113179229173269,
          "record_number": 5,
          "sql_condition": "dob_l = dob_r",
          "term_frequency_adjustment": false,
          "u_probability": 0.0023605336625834297,
          "value_l": "1861-01-01",
          "value_r": "1861-01-01"
         },
         {
          "bar_sort_order": 4,
          "bayes_factor": 266.68084436756084,
          "bayes_factor_description": "If comparison level is `levenshtein <= 2` then comparison is 266.68 times more likely to be a match",
          "column_name": "postcode_fake",
          "comparison_vector_value": 1,
          "label_for_charts": "levenshtein <= 2",
          "log2_bayes_factor": 8.058970389885026,
          "m_probability": 0.14226554980135014,
          "record_number": 5,
          "sql_condition": "levenshtein(postcode_fake_l, postcode_fake_r) <= 2",
          "term_frequency_adjustment": false,
          "u_probability": 0.0005334674492228186,
          "value_l": "wr11 7qp",
          "value_r": "wr11 7qw"
         },
         {
          "bar_sort_order": 5,
          "bayes_factor": 156.94377395583078,
          "bayes_factor_description": "If comparison level is `exact match` then comparison is 156.94 times more likely to be a match",
          "column_name": "birth_place",
          "comparison_vector_value": 1,
          "label_for_charts": "Exact match",
          "log2_bayes_factor": 7.294103987339475,
          "m_probability": 0.839561202308113,
          "record_number": 5,
          "sql_condition": "birth_place_l = birth_place_r",
          "term_frequency_adjustment": false,
          "u_probability": 0.005349439363834806,
          "value_l": "wychavon",
          "value_r": "wychavon"
         },
         {
          "bar_sort_order": 6,
          "bayes_factor": 23.574636244838747,
          "bayes_factor_description": "If comparison level is `exact match` then comparison is 23.57 times more likely to be a match",
          "column_name": "occupation",
          "comparison_vector_value": 1,
          "label_for_charts": "Exact match",
          "log2_bayes_factor": 4.559163605265319,
          "m_probability": 0.901527411622844,
          "record_number": 5,
          "sql_condition": "occupation_l = occupation_r",
          "term_frequency_adjustment": false,
          "u_probability": 0.0382414134521468,
          "value_l": "playwright",
          "value_r": "playwright"
         },
         {
          "bar_sort_order": 7,
          "bayes_factor": 280564160.2136951,
          "bayes_factor_description": null,
          "column_name": "Final score",
          "comparison_vector_value": null,
          "label_for_charts": "Final score",
          "log2_bayes_factor": 28.063755487285754,
          "m_probability": null,
          "record_number": 5,
          "sql_condition": null,
          "term_frequency_adjustment": null,
          "u_probability": null,
          "value_l": "",
          "value_r": ""
         },
         {
          "bar_sort_order": 0,
          "bayes_factor": 2.3448035367917972e-05,
          "bayes_factor_description": null,
          "column_name": "Prior",
          "comparison_vector_value": null,
          "label_for_charts": "Starting match weight (prior)",
          "log2_bayes_factor": -15.380173425201471,
          "m_probability": null,
          "record_number": 6,
          "sql_condition": null,
          "term_frequency_adjustment": null,
          "u_probability": null,
          "value_l": "",
          "value_r": ""
         },
         {
          "bar_sort_order": 1,
          "bayes_factor": 42.67278491140226,
          "bayes_factor_description": "If comparison level is `exact match` then comparison is 42.67 times more likely to be a match",
          "column_name": "first_name",
          "comparison_vector_value": 3,
          "label_for_charts": "Exact match",
          "log2_bayes_factor": 5.415244361666424,
          "m_probability": 0.5560555809490083,
          "record_number": 6,
          "sql_condition": "first_name_l = first_name_r",
          "term_frequency_adjustment": false,
          "u_probability": 0.013030684125807525,
          "value_l": "emlie",
          "value_r": "emlie"
         },
         {
          "bar_sort_order": 2,
          "bayes_factor": 1097.3291121301938,
          "bayes_factor_description": "If comparison level is `exact match` then comparison is 1,097.33 times more likely to be a match",
          "column_name": "surname",
          "comparison_vector_value": 3,
          "label_for_charts": "Exact match",
          "log2_bayes_factor": 10.099780569955133,
          "m_probability": 0.7887629055260514,
          "record_number": 6,
          "sql_condition": "surname_l = surname_r",
          "term_frequency_adjustment": false,
          "u_probability": 0.0007188024967230321,
          "value_l": "clifford",
          "value_r": "clifford"
         },
         {
          "bar_sort_order": 3,
          "bayes_factor": 258.9744567541073,
          "bayes_factor_description": "If comparison level is `exact match` then comparison is 258.97 times more likely to be a match",
          "column_name": "dob",
          "comparison_vector_value": 3,
          "label_for_charts": "Exact match",
          "log2_bayes_factor": 8.016665998375847,
          "m_probability": 0.6113179229173269,
          "record_number": 6,
          "sql_condition": "dob_l = dob_r",
          "term_frequency_adjustment": false,
          "u_probability": 0.0023605336625834297,
          "value_l": "1861-01-01",
          "value_r": "1861-01-01"
         },
         {
          "bar_sort_order": 4,
          "bayes_factor": 266.68084436756084,
          "bayes_factor_description": "If comparison level is `levenshtein <= 2` then comparison is 266.68 times more likely to be a match",
          "column_name": "postcode_fake",
          "comparison_vector_value": 1,
          "label_for_charts": "levenshtein <= 2",
          "log2_bayes_factor": 8.058970389885026,
          "m_probability": 0.14226554980135014,
          "record_number": 6,
          "sql_condition": "levenshtein(postcode_fake_l, postcode_fake_r) <= 2",
          "term_frequency_adjustment": false,
          "u_probability": 0.0005334674492228186,
          "value_l": "wr11 7qp",
          "value_r": "wr11 7qw"
         },
         {
          "bar_sort_order": 5,
          "bayes_factor": 156.94377395583078,
          "bayes_factor_description": "If comparison level is `exact match` then comparison is 156.94 times more likely to be a match",
          "column_name": "birth_place",
          "comparison_vector_value": 1,
          "label_for_charts": "Exact match",
          "log2_bayes_factor": 7.294103987339475,
          "m_probability": 0.839561202308113,
          "record_number": 6,
          "sql_condition": "birth_place_l = birth_place_r",
          "term_frequency_adjustment": false,
          "u_probability": 0.005349439363834806,
          "value_l": "wychavon",
          "value_r": "wychavon"
         },
         {
          "bar_sort_order": 6,
          "bayes_factor": 23.574636244838747,
          "bayes_factor_description": "If comparison level is `exact match` then comparison is 23.57 times more likely to be a match",
          "column_name": "occupation",
          "comparison_vector_value": 1,
          "label_for_charts": "Exact match",
          "log2_bayes_factor": 4.559163605265319,
          "m_probability": 0.901527411622844,
          "record_number": 6,
          "sql_condition": "occupation_l = occupation_r",
          "term_frequency_adjustment": false,
          "u_probability": 0.0382414134521468,
          "value_l": "playwright",
          "value_r": "playwright"
         },
         {
          "bar_sort_order": 7,
          "bayes_factor": 280564160.2136951,
          "bayes_factor_description": null,
          "column_name": "Final score",
          "comparison_vector_value": null,
          "label_for_charts": "Final score",
          "log2_bayes_factor": 28.063755487285754,
          "m_probability": null,
          "record_number": 6,
          "sql_condition": null,
          "term_frequency_adjustment": null,
          "u_probability": null,
          "value_l": "",
          "value_r": ""
         },
         {
          "bar_sort_order": 0,
          "bayes_factor": 2.3448035367917972e-05,
          "bayes_factor_description": null,
          "column_name": "Prior",
          "comparison_vector_value": null,
          "label_for_charts": "Starting match weight (prior)",
          "log2_bayes_factor": -15.380173425201471,
          "m_probability": null,
          "record_number": 7,
          "sql_condition": null,
          "term_frequency_adjustment": null,
          "u_probability": null,
          "value_l": "",
          "value_r": ""
         },
         {
          "bar_sort_order": 1,
          "bayes_factor": 42.67278491140226,
          "bayes_factor_description": "If comparison level is `exact match` then comparison is 42.67 times more likely to be a match",
          "column_name": "first_name",
          "comparison_vector_value": 3,
          "label_for_charts": "Exact match",
          "log2_bayes_factor": 5.415244361666424,
          "m_probability": 0.5560555809490083,
          "record_number": 7,
          "sql_condition": "first_name_l = first_name_r",
          "term_frequency_adjustment": false,
          "u_probability": 0.013030684125807525,
          "value_l": "emlie",
          "value_r": "emlie"
         },
         {
          "bar_sort_order": 2,
          "bayes_factor": 1097.3291121301938,
          "bayes_factor_description": "If comparison level is `exact match` then comparison is 1,097.33 times more likely to be a match",
          "column_name": "surname",
          "comparison_vector_value": 3,
          "label_for_charts": "Exact match",
          "log2_bayes_factor": 10.099780569955133,
          "m_probability": 0.7887629055260514,
          "record_number": 7,
          "sql_condition": "surname_l = surname_r",
          "term_frequency_adjustment": false,
          "u_probability": 0.0007188024967230321,
          "value_l": "bennet",
          "value_r": "bennet"
         },
         {
          "bar_sort_order": 3,
          "bayes_factor": 1,
          "bayes_factor_description": "If comparison level is `null` then comparison is 1.00 times more likely to be a match",
          "column_name": "dob",
          "comparison_vector_value": -1,
          "label_for_charts": "Null",
          "log2_bayes_factor": 0,
          "m_probability": null,
          "record_number": 7,
          "sql_condition": "dob_l IS NULL OR dob_r IS NULL",
          "term_frequency_adjustment": false,
          "u_probability": null,
          "value_l": "1861-01-01",
          "value_r": "nan"
         },
         {
          "bar_sort_order": 4,
          "bayes_factor": 1,
          "bayes_factor_description": "If comparison level is `null` then comparison is 1.00 times more likely to be a match",
          "column_name": "postcode_fake",
          "comparison_vector_value": -1,
          "label_for_charts": "Null",
          "log2_bayes_factor": 0,
          "m_probability": null,
          "record_number": 7,
          "sql_condition": "postcode_fake_l IS NULL OR postcode_fake_r IS NULL",
          "term_frequency_adjustment": false,
          "u_probability": null,
          "value_l": "nan",
          "value_r": "wr11 8qp"
         },
         {
          "bar_sort_order": 5,
          "bayes_factor": 1,
          "bayes_factor_description": "If comparison level is `null` then comparison is 1.00 times more likely to be a match",
          "column_name": "birth_place",
          "comparison_vector_value": -1,
          "label_for_charts": "Null",
          "log2_bayes_factor": 0,
          "m_probability": null,
          "record_number": 7,
          "sql_condition": "birth_place_l IS NULL OR birth_place_r IS NULL",
          "term_frequency_adjustment": false,
          "u_probability": null,
          "value_l": "nan",
          "value_r": "nan"
         },
         {
          "bar_sort_order": 6,
          "bayes_factor": 1,
          "bayes_factor_description": "If comparison level is `null` then comparison is 1.00 times more likely to be a match",
          "column_name": "occupation",
          "comparison_vector_value": -1,
          "label_for_charts": "Null",
          "log2_bayes_factor": 0,
          "m_probability": null,
          "record_number": 7,
          "sql_condition": "occupation_l IS NULL OR occupation_r IS NULL",
          "term_frequency_adjustment": false,
          "u_probability": null,
          "value_l": "nan",
          "value_r": "nan"
         },
         {
          "bar_sort_order": 7,
          "bayes_factor": 1.0979797952093424,
          "bayes_factor_description": null,
          "column_name": "Final score",
          "comparison_vector_value": null,
          "label_for_charts": "Final score",
          "log2_bayes_factor": 0.13485150642008578,
          "m_probability": null,
          "record_number": 7,
          "sql_condition": null,
          "term_frequency_adjustment": null,
          "u_probability": null,
          "value_l": "",
          "value_r": ""
         },
         {
          "bar_sort_order": 0,
          "bayes_factor": 2.3448035367917972e-05,
          "bayes_factor_description": null,
          "column_name": "Prior",
          "comparison_vector_value": null,
          "label_for_charts": "Starting match weight (prior)",
          "log2_bayes_factor": -15.380173425201471,
          "m_probability": null,
          "record_number": 8,
          "sql_condition": null,
          "term_frequency_adjustment": null,
          "u_probability": null,
          "value_l": "",
          "value_r": ""
         },
         {
          "bar_sort_order": 1,
          "bayes_factor": 42.67278491140226,
          "bayes_factor_description": "If comparison level is `exact match` then comparison is 42.67 times more likely to be a match",
          "column_name": "first_name",
          "comparison_vector_value": 3,
          "label_for_charts": "Exact match",
          "log2_bayes_factor": 5.415244361666424,
          "m_probability": 0.5560555809490083,
          "record_number": 8,
          "sql_condition": "first_name_l = first_name_r",
          "term_frequency_adjustment": false,
          "u_probability": 0.013030684125807525,
          "value_l": "gerald",
          "value_r": "gerald"
         },
         {
          "bar_sort_order": 2,
          "bayes_factor": 1097.3291121301938,
          "bayes_factor_description": "If comparison level is `exact match` then comparison is 1,097.33 times more likely to be a match",
          "column_name": "surname",
          "comparison_vector_value": 3,
          "label_for_charts": "Exact match",
          "log2_bayes_factor": 10.099780569955133,
          "m_probability": 0.7887629055260514,
          "record_number": 8,
          "sql_condition": "surname_l = surname_r",
          "term_frequency_adjustment": false,
          "u_probability": 0.0007188024967230321,
          "value_l": "burn",
          "value_r": "burn"
         },
         {
          "bar_sort_order": 3,
          "bayes_factor": 1,
          "bayes_factor_description": "If comparison level is `null` then comparison is 1.00 times more likely to be a match",
          "column_name": "dob",
          "comparison_vector_value": -1,
          "label_for_charts": "Null",
          "log2_bayes_factor": 0,
          "m_probability": null,
          "record_number": 8,
          "sql_condition": "dob_l IS NULL OR dob_r IS NULL",
          "term_frequency_adjustment": false,
          "u_probability": null,
          "value_l": "1862-04-01",
          "value_r": "nan"
         },
         {
          "bar_sort_order": 4,
          "bayes_factor": 4598.573173150793,
          "bayes_factor_description": "If comparison level is `exact match` then comparison is 4,598.57 times more likely to be a match",
          "column_name": "postcode_fake",
          "comparison_vector_value": 2,
          "label_for_charts": "Exact match",
          "log2_bayes_factor": 12.166970581628611,
          "m_probability": 0.6862619027808218,
          "record_number": 8,
          "sql_condition": "postcode_fake_l = postcode_fake_r",
          "term_frequency_adjustment": false,
          "u_probability": 0.00014923365942889137,
          "value_l": "sw1a 2bj",
          "value_r": "sw1a 2bj"
         },
         {
          "bar_sort_order": 5,
          "bayes_factor": 0.16130167120183755,
          "bayes_factor_description": "If comparison level is `all other comparisons` then comparison is  6.20 times less likely to be a match",
          "column_name": "birth_place",
          "comparison_vector_value": 0,
          "label_for_charts": "All other comparisons",
          "log2_bayes_factor": -2.6321667089535508,
          "m_probability": 0.1604387976924581,
          "record_number": 8,
          "sql_condition": "ELSE",
          "term_frequency_adjustment": false,
          "u_probability": 0.9946505606361652,
          "value_l": "london",
          "value_r": "westminster"
         },
         {
          "bar_sort_order": 6,
          "bayes_factor": 23.574636244838747,
          "bayes_factor_description": "If comparison level is `exact match` then comparison is 23.57 times more likely to be a match",
          "column_name": "occupation",
          "comparison_vector_value": 1,
          "label_for_charts": "Exact match",
          "log2_bayes_factor": 4.559163605265319,
          "m_probability": 0.901527411622844,
          "record_number": 8,
          "sql_condition": "occupation_l = occupation_r",
          "term_frequency_adjustment": false,
          "u_probability": 0.0382414134521468,
          "value_l": "etcher",
          "value_r": "etcher"
         },
         {
          "bar_sort_order": 7,
          "bayes_factor": 19200.00391087544,
          "bayes_factor_description": null,
          "column_name": "Final score",
          "comparison_vector_value": null,
          "label_for_charts": "Final score",
          "log2_bayes_factor": 14.228818984360466,
          "m_probability": null,
          "record_number": 8,
          "sql_condition": null,
          "term_frequency_adjustment": null,
          "u_probability": null,
          "value_l": "",
          "value_r": ""
         },
         {
          "bar_sort_order": 0,
          "bayes_factor": 2.3448035367917972e-05,
          "bayes_factor_description": null,
          "column_name": "Prior",
          "comparison_vector_value": null,
          "label_for_charts": "Starting match weight (prior)",
          "log2_bayes_factor": -15.380173425201471,
          "m_probability": null,
          "record_number": 9,
          "sql_condition": null,
          "term_frequency_adjustment": null,
          "u_probability": null,
          "value_l": "",
          "value_r": ""
         },
         {
          "bar_sort_order": 1,
          "bayes_factor": 42.67278491140226,
          "bayes_factor_description": "If comparison level is `exact match` then comparison is 42.67 times more likely to be a match",
          "column_name": "first_name",
          "comparison_vector_value": 3,
          "label_for_charts": "Exact match",
          "log2_bayes_factor": 5.415244361666424,
          "m_probability": 0.5560555809490083,
          "record_number": 9,
          "sql_condition": "first_name_l = first_name_r",
          "term_frequency_adjustment": false,
          "u_probability": 0.013030684125807525,
          "value_l": "gerald",
          "value_r": "gerald"
         },
         {
          "bar_sort_order": 2,
          "bayes_factor": 1097.3291121301938,
          "bayes_factor_description": "If comparison level is `exact match` then comparison is 1,097.33 times more likely to be a match",
          "column_name": "surname",
          "comparison_vector_value": 3,
          "label_for_charts": "Exact match",
          "log2_bayes_factor": 10.099780569955133,
          "m_probability": 0.7887629055260514,
          "record_number": 9,
          "sql_condition": "surname_l = surname_r",
          "term_frequency_adjustment": false,
          "u_probability": 0.0007188024967230321,
          "value_l": "burn",
          "value_r": "burn"
         },
         {
          "bar_sort_order": 3,
          "bayes_factor": 1,
          "bayes_factor_description": "If comparison level is `null` then comparison is 1.00 times more likely to be a match",
          "column_name": "dob",
          "comparison_vector_value": -1,
          "label_for_charts": "Null",
          "log2_bayes_factor": 0,
          "m_probability": null,
          "record_number": 9,
          "sql_condition": "dob_l IS NULL OR dob_r IS NULL",
          "term_frequency_adjustment": false,
          "u_probability": null,
          "value_l": "1862-04-01",
          "value_r": "nan"
         },
         {
          "bar_sort_order": 4,
          "bayes_factor": 4598.573173150793,
          "bayes_factor_description": "If comparison level is `exact match` then comparison is 4,598.57 times more likely to be a match",
          "column_name": "postcode_fake",
          "comparison_vector_value": 2,
          "label_for_charts": "Exact match",
          "log2_bayes_factor": 12.166970581628611,
          "m_probability": 0.6862619027808218,
          "record_number": 9,
          "sql_condition": "postcode_fake_l = postcode_fake_r",
          "term_frequency_adjustment": false,
          "u_probability": 0.00014923365942889137,
          "value_l": "sw1a 2bj",
          "value_r": "sw1a 2bj"
         },
         {
          "bar_sort_order": 5,
          "bayes_factor": 0.16130167120183755,
          "bayes_factor_description": "If comparison level is `all other comparisons` then comparison is  6.20 times less likely to be a match",
          "column_name": "birth_place",
          "comparison_vector_value": 0,
          "label_for_charts": "All other comparisons",
          "log2_bayes_factor": -2.6321667089535508,
          "m_probability": 0.1604387976924581,
          "record_number": 9,
          "sql_condition": "ELSE",
          "term_frequency_adjustment": false,
          "u_probability": 0.9946505606361652,
          "value_l": "london",
          "value_r": "westminster"
         },
         {
          "bar_sort_order": 6,
          "bayes_factor": 23.574636244838747,
          "bayes_factor_description": "If comparison level is `exact match` then comparison is 23.57 times more likely to be a match",
          "column_name": "occupation",
          "comparison_vector_value": 1,
          "label_for_charts": "Exact match",
          "log2_bayes_factor": 4.559163605265319,
          "m_probability": 0.901527411622844,
          "record_number": 9,
          "sql_condition": "occupation_l = occupation_r",
          "term_frequency_adjustment": false,
          "u_probability": 0.0382414134521468,
          "value_l": "etcher",
          "value_r": "etcher"
         },
         {
          "bar_sort_order": 7,
          "bayes_factor": 19200.00391087544,
          "bayes_factor_description": null,
          "column_name": "Final score",
          "comparison_vector_value": null,
          "label_for_charts": "Final score",
          "log2_bayes_factor": 14.228818984360466,
          "m_probability": null,
          "record_number": 9,
          "sql_condition": null,
          "term_frequency_adjustment": null,
          "u_probability": null,
          "value_l": "",
          "value_r": ""
         },
         {
          "bar_sort_order": 0,
          "bayes_factor": 2.3448035367917972e-05,
          "bayes_factor_description": null,
          "column_name": "Prior",
          "comparison_vector_value": null,
          "label_for_charts": "Starting match weight (prior)",
          "log2_bayes_factor": -15.380173425201471,
          "m_probability": null,
          "record_number": 10,
          "sql_condition": null,
          "term_frequency_adjustment": null,
          "u_probability": null,
          "value_l": "",
          "value_r": ""
         },
         {
          "bar_sort_order": 1,
          "bayes_factor": 42.67278491140226,
          "bayes_factor_description": "If comparison level is `exact match` then comparison is 42.67 times more likely to be a match",
          "column_name": "first_name",
          "comparison_vector_value": 3,
          "label_for_charts": "Exact match",
          "log2_bayes_factor": 5.415244361666424,
          "m_probability": 0.5560555809490083,
          "record_number": 10,
          "sql_condition": "first_name_l = first_name_r",
          "term_frequency_adjustment": false,
          "u_probability": 0.013030684125807525,
          "value_l": "gerald",
          "value_r": "gerald"
         },
         {
          "bar_sort_order": 2,
          "bayes_factor": 1097.3291121301938,
          "bayes_factor_description": "If comparison level is `exact match` then comparison is 1,097.33 times more likely to be a match",
          "column_name": "surname",
          "comparison_vector_value": 3,
          "label_for_charts": "Exact match",
          "log2_bayes_factor": 10.099780569955133,
          "m_probability": 0.7887629055260514,
          "record_number": 10,
          "sql_condition": "surname_l = surname_r",
          "term_frequency_adjustment": false,
          "u_probability": 0.0007188024967230321,
          "value_l": "burn",
          "value_r": "burn"
         },
         {
          "bar_sort_order": 3,
          "bayes_factor": 1,
          "bayes_factor_description": "If comparison level is `null` then comparison is 1.00 times more likely to be a match",
          "column_name": "dob",
          "comparison_vector_value": -1,
          "label_for_charts": "Null",
          "log2_bayes_factor": 0,
          "m_probability": null,
          "record_number": 10,
          "sql_condition": "dob_l IS NULL OR dob_r IS NULL",
          "term_frequency_adjustment": false,
          "u_probability": null,
          "value_l": "1862-05-01",
          "value_r": "nan"
         },
         {
          "bar_sort_order": 4,
          "bayes_factor": 4598.573173150793,
          "bayes_factor_description": "If comparison level is `exact match` then comparison is 4,598.57 times more likely to be a match",
          "column_name": "postcode_fake",
          "comparison_vector_value": 2,
          "label_for_charts": "Exact match",
          "log2_bayes_factor": 12.166970581628611,
          "m_probability": 0.6862619027808218,
          "record_number": 10,
          "sql_condition": "postcode_fake_l = postcode_fake_r",
          "term_frequency_adjustment": false,
          "u_probability": 0.00014923365942889137,
          "value_l": "sw1a 2bj",
          "value_r": "sw1a 2bj"
         },
         {
          "bar_sort_order": 5,
          "bayes_factor": 0.16130167120183755,
          "bayes_factor_description": "If comparison level is `all other comparisons` then comparison is  6.20 times less likely to be a match",
          "column_name": "birth_place",
          "comparison_vector_value": 0,
          "label_for_charts": "All other comparisons",
          "log2_bayes_factor": -2.6321667089535508,
          "m_probability": 0.1604387976924581,
          "record_number": 10,
          "sql_condition": "ELSE",
          "term_frequency_adjustment": false,
          "u_probability": 0.9946505606361652,
          "value_l": "london",
          "value_r": "westminster"
         },
         {
          "bar_sort_order": 6,
          "bayes_factor": 23.574636244838747,
          "bayes_factor_description": "If comparison level is `exact match` then comparison is 23.57 times more likely to be a match",
          "column_name": "occupation",
          "comparison_vector_value": 1,
          "label_for_charts": "Exact match",
          "log2_bayes_factor": 4.559163605265319,
          "m_probability": 0.901527411622844,
          "record_number": 10,
          "sql_condition": "occupation_l = occupation_r",
          "term_frequency_adjustment": false,
          "u_probability": 0.0382414134521468,
          "value_l": "etcher",
          "value_r": "etcher"
         },
         {
          "bar_sort_order": 7,
          "bayes_factor": 19200.00391087544,
          "bayes_factor_description": null,
          "column_name": "Final score",
          "comparison_vector_value": null,
          "label_for_charts": "Final score",
          "log2_bayes_factor": 14.228818984360466,
          "m_probability": null,
          "record_number": 10,
          "sql_condition": null,
          "term_frequency_adjustment": null,
          "u_probability": null,
          "value_l": "",
          "value_r": ""
         },
         {
          "bar_sort_order": 0,
          "bayes_factor": 2.3448035367917972e-05,
          "bayes_factor_description": null,
          "column_name": "Prior",
          "comparison_vector_value": null,
          "label_for_charts": "Starting match weight (prior)",
          "log2_bayes_factor": -15.380173425201471,
          "m_probability": null,
          "record_number": 11,
          "sql_condition": null,
          "term_frequency_adjustment": null,
          "u_probability": null,
          "value_l": "",
          "value_r": ""
         },
         {
          "bar_sort_order": 1,
          "bayes_factor": 42.67278491140226,
          "bayes_factor_description": "If comparison level is `exact match` then comparison is 42.67 times more likely to be a match",
          "column_name": "first_name",
          "comparison_vector_value": 3,
          "label_for_charts": "Exact match",
          "log2_bayes_factor": 5.415244361666424,
          "m_probability": 0.5560555809490083,
          "record_number": 11,
          "sql_condition": "first_name_l = first_name_r",
          "term_frequency_adjustment": false,
          "u_probability": 0.013030684125807525,
          "value_l": "gerald",
          "value_r": "gerald"
         },
         {
          "bar_sort_order": 2,
          "bayes_factor": 1097.3291121301938,
          "bayes_factor_description": "If comparison level is `exact match` then comparison is 1,097.33 times more likely to be a match",
          "column_name": "surname",
          "comparison_vector_value": 3,
          "label_for_charts": "Exact match",
          "log2_bayes_factor": 10.099780569955133,
          "m_probability": 0.7887629055260514,
          "record_number": 11,
          "sql_condition": "surname_l = surname_r",
          "term_frequency_adjustment": false,
          "u_probability": 0.0007188024967230321,
          "value_l": "burn",
          "value_r": "burn"
         },
         {
          "bar_sort_order": 3,
          "bayes_factor": 1,
          "bayes_factor_description": "If comparison level is `null` then comparison is 1.00 times more likely to be a match",
          "column_name": "dob",
          "comparison_vector_value": -1,
          "label_for_charts": "Null",
          "log2_bayes_factor": 0,
          "m_probability": null,
          "record_number": 11,
          "sql_condition": "dob_l IS NULL OR dob_r IS NULL",
          "term_frequency_adjustment": false,
          "u_probability": null,
          "value_l": "1862-04-01",
          "value_r": "nan"
         },
         {
          "bar_sort_order": 4,
          "bayes_factor": 4598.573173150793,
          "bayes_factor_description": "If comparison level is `exact match` then comparison is 4,598.57 times more likely to be a match",
          "column_name": "postcode_fake",
          "comparison_vector_value": 2,
          "label_for_charts": "Exact match",
          "log2_bayes_factor": 12.166970581628611,
          "m_probability": 0.6862619027808218,
          "record_number": 11,
          "sql_condition": "postcode_fake_l = postcode_fake_r",
          "term_frequency_adjustment": false,
          "u_probability": 0.00014923365942889137,
          "value_l": "sw1a 2bj",
          "value_r": "sw1a 2bj"
         },
         {
          "bar_sort_order": 5,
          "bayes_factor": 156.94377395583078,
          "bayes_factor_description": "If comparison level is `exact match` then comparison is 156.94 times more likely to be a match",
          "column_name": "birth_place",
          "comparison_vector_value": 1,
          "label_for_charts": "Exact match",
          "log2_bayes_factor": 7.294103987339475,
          "m_probability": 0.839561202308113,
          "record_number": 11,
          "sql_condition": "birth_place_l = birth_place_r",
          "term_frequency_adjustment": false,
          "u_probability": 0.005349439363834806,
          "value_l": "westminster",
          "value_r": "westminster"
         },
         {
          "bar_sort_order": 6,
          "bayes_factor": 1,
          "bayes_factor_description": "If comparison level is `null` then comparison is 1.00 times more likely to be a match",
          "column_name": "occupation",
          "comparison_vector_value": -1,
          "label_for_charts": "Null",
          "log2_bayes_factor": 0,
          "m_probability": null,
          "record_number": 11,
          "sql_condition": "occupation_l IS NULL OR occupation_r IS NULL",
          "term_frequency_adjustment": false,
          "u_probability": null,
          "value_l": "nan",
          "value_r": "etcher"
         },
         {
          "bar_sort_order": 7,
          "bayes_factor": 792431.1544601858,
          "bayes_factor_description": null,
          "column_name": "Final score",
          "comparison_vector_value": null,
          "label_for_charts": "Final score",
          "log2_bayes_factor": 19.59592607538817,
          "m_probability": null,
          "record_number": 11,
          "sql_condition": null,
          "term_frequency_adjustment": null,
          "u_probability": null,
          "value_l": "",
          "value_r": ""
         },
         {
          "bar_sort_order": 0,
          "bayes_factor": 2.3448035367917972e-05,
          "bayes_factor_description": null,
          "column_name": "Prior",
          "comparison_vector_value": null,
          "label_for_charts": "Starting match weight (prior)",
          "log2_bayes_factor": -15.380173425201471,
          "m_probability": null,
          "record_number": 12,
          "sql_condition": null,
          "term_frequency_adjustment": null,
          "u_probability": null,
          "value_l": "",
          "value_r": ""
         },
         {
          "bar_sort_order": 1,
          "bayes_factor": 42.67278491140226,
          "bayes_factor_description": "If comparison level is `exact match` then comparison is 42.67 times more likely to be a match",
          "column_name": "first_name",
          "comparison_vector_value": 3,
          "label_for_charts": "Exact match",
          "log2_bayes_factor": 5.415244361666424,
          "m_probability": 0.5560555809490083,
          "record_number": 12,
          "sql_condition": "first_name_l = first_name_r",
          "term_frequency_adjustment": false,
          "u_probability": 0.013030684125807525,
          "value_l": "william",
          "value_r": "william"
         },
         {
          "bar_sort_order": 2,
          "bayes_factor": 1097.3291121301938,
          "bayes_factor_description": "If comparison level is `exact match` then comparison is 1,097.33 times more likely to be a match",
          "column_name": "surname",
          "comparison_vector_value": 3,
          "label_for_charts": "Exact match",
          "log2_bayes_factor": 10.099780569955133,
          "m_probability": 0.7887629055260514,
          "record_number": 12,
          "sql_condition": "surname_l = surname_r",
          "term_frequency_adjustment": false,
          "u_probability": 0.0007188024967230321,
          "value_l": "watts",
          "value_r": "watts"
         },
         {
          "bar_sort_order": 3,
          "bayes_factor": 1,
          "bayes_factor_description": "If comparison level is `null` then comparison is 1.00 times more likely to be a match",
          "column_name": "dob",
          "comparison_vector_value": -1,
          "label_for_charts": "Null",
          "log2_bayes_factor": 0,
          "m_probability": null,
          "record_number": 12,
          "sql_condition": "dob_l IS NULL OR dob_r IS NULL",
          "term_frequency_adjustment": false,
          "u_probability": null,
          "value_l": "1860-06-07",
          "value_r": "nan"
         },
         {
          "bar_sort_order": 4,
          "bayes_factor": 4598.573173150793,
          "bayes_factor_description": "If comparison level is `exact match` then comparison is 4,598.57 times more likely to be a match",
          "column_name": "postcode_fake",
          "comparison_vector_value": 2,
          "label_for_charts": "Exact match",
          "log2_bayes_factor": 12.166970581628611,
          "m_probability": 0.6862619027808218,
          "record_number": 12,
          "sql_condition": "postcode_fake_l = postcode_fake_r",
          "term_frequency_adjustment": false,
          "u_probability": 0.00014923365942889137,
          "value_l": "sy5 7nt",
          "value_r": "sy5 7nt"
         },
         {
          "bar_sort_order": 5,
          "bayes_factor": 1,
          "bayes_factor_description": "If comparison level is `null` then comparison is 1.00 times more likely to be a match",
          "column_name": "birth_place",
          "comparison_vector_value": -1,
          "label_for_charts": "Null",
          "log2_bayes_factor": 0,
          "m_probability": null,
          "record_number": 12,
          "sql_condition": "birth_place_l IS NULL OR birth_place_r IS NULL",
          "term_frequency_adjustment": false,
          "u_probability": null,
          "value_l": "shropshire",
          "value_r": "nan"
         },
         {
          "bar_sort_order": 6,
          "bayes_factor": 1,
          "bayes_factor_description": "If comparison level is `null` then comparison is 1.00 times more likely to be a match",
          "column_name": "occupation",
          "comparison_vector_value": -1,
          "label_for_charts": "Null",
          "log2_bayes_factor": 0,
          "m_probability": null,
          "record_number": 12,
          "sql_condition": "occupation_l IS NULL OR occupation_r IS NULL",
          "term_frequency_adjustment": false,
          "u_probability": null,
          "value_l": "geologist",
          "value_r": "nan"
         },
         {
          "bar_sort_order": 7,
          "bayes_factor": 5049.140430911287,
          "bayes_factor_description": null,
          "column_name": "Final score",
          "comparison_vector_value": null,
          "label_for_charts": "Final score",
          "log2_bayes_factor": 12.301822088048699,
          "m_probability": null,
          "record_number": 12,
          "sql_condition": null,
          "term_frequency_adjustment": null,
          "u_probability": null,
          "value_l": "",
          "value_r": ""
         },
         {
          "bar_sort_order": 0,
          "bayes_factor": 2.3448035367917972e-05,
          "bayes_factor_description": null,
          "column_name": "Prior",
          "comparison_vector_value": null,
          "label_for_charts": "Starting match weight (prior)",
          "log2_bayes_factor": -15.380173425201471,
          "m_probability": null,
          "record_number": 13,
          "sql_condition": null,
          "term_frequency_adjustment": null,
          "u_probability": null,
          "value_l": "",
          "value_r": ""
         },
         {
          "bar_sort_order": 1,
          "bayes_factor": 42.67278491140226,
          "bayes_factor_description": "If comparison level is `exact match` then comparison is 42.67 times more likely to be a match",
          "column_name": "first_name",
          "comparison_vector_value": 3,
          "label_for_charts": "Exact match",
          "log2_bayes_factor": 5.415244361666424,
          "m_probability": 0.5560555809490083,
          "record_number": 13,
          "sql_condition": "first_name_l = first_name_r",
          "term_frequency_adjustment": false,
          "u_probability": 0.013030684125807525,
          "value_l": "william",
          "value_r": "william"
         },
         {
          "bar_sort_order": 2,
          "bayes_factor": 1097.3291121301938,
          "bayes_factor_description": "If comparison level is `exact match` then comparison is 1,097.33 times more likely to be a match",
          "column_name": "surname",
          "comparison_vector_value": 3,
          "label_for_charts": "Exact match",
          "log2_bayes_factor": 10.099780569955133,
          "m_probability": 0.7887629055260514,
          "record_number": 13,
          "sql_condition": "surname_l = surname_r",
          "term_frequency_adjustment": false,
          "u_probability": 0.0007188024967230321,
          "value_l": "watts",
          "value_r": "watts"
         },
         {
          "bar_sort_order": 3,
          "bayes_factor": 1,
          "bayes_factor_description": "If comparison level is `null` then comparison is 1.00 times more likely to be a match",
          "column_name": "dob",
          "comparison_vector_value": -1,
          "label_for_charts": "Null",
          "log2_bayes_factor": 0,
          "m_probability": null,
          "record_number": 13,
          "sql_condition": "dob_l IS NULL OR dob_r IS NULL",
          "term_frequency_adjustment": false,
          "u_probability": null,
          "value_l": "1860-06-07",
          "value_r": "nan"
         },
         {
          "bar_sort_order": 4,
          "bayes_factor": 4598.573173150793,
          "bayes_factor_description": "If comparison level is `exact match` then comparison is 4,598.57 times more likely to be a match",
          "column_name": "postcode_fake",
          "comparison_vector_value": 2,
          "label_for_charts": "Exact match",
          "log2_bayes_factor": 12.166970581628611,
          "m_probability": 0.6862619027808218,
          "record_number": 13,
          "sql_condition": "postcode_fake_l = postcode_fake_r",
          "term_frequency_adjustment": false,
          "u_probability": 0.00014923365942889137,
          "value_l": "sy5 7nt",
          "value_r": "sy5 7nt"
         },
         {
          "bar_sort_order": 5,
          "bayes_factor": 1,
          "bayes_factor_description": "If comparison level is `null` then comparison is 1.00 times more likely to be a match",
          "column_name": "birth_place",
          "comparison_vector_value": -1,
          "label_for_charts": "Null",
          "log2_bayes_factor": 0,
          "m_probability": null,
          "record_number": 13,
          "sql_condition": "birth_place_l IS NULL OR birth_place_r IS NULL",
          "term_frequency_adjustment": false,
          "u_probability": null,
          "value_l": "shropshire",
          "value_r": "nan"
         },
         {
          "bar_sort_order": 6,
          "bayes_factor": 1,
          "bayes_factor_description": "If comparison level is `null` then comparison is 1.00 times more likely to be a match",
          "column_name": "occupation",
          "comparison_vector_value": -1,
          "label_for_charts": "Null",
          "log2_bayes_factor": 0,
          "m_probability": null,
          "record_number": 13,
          "sql_condition": "occupation_l IS NULL OR occupation_r IS NULL",
          "term_frequency_adjustment": false,
          "u_probability": null,
          "value_l": "geologist",
          "value_r": "nan"
         },
         {
          "bar_sort_order": 7,
          "bayes_factor": 5049.140430911287,
          "bayes_factor_description": null,
          "column_name": "Final score",
          "comparison_vector_value": null,
          "label_for_charts": "Final score",
          "log2_bayes_factor": 12.301822088048699,
          "m_probability": null,
          "record_number": 13,
          "sql_condition": null,
          "term_frequency_adjustment": null,
          "u_probability": null,
          "value_l": "",
          "value_r": ""
         },
         {
          "bar_sort_order": 0,
          "bayes_factor": 2.3448035367917972e-05,
          "bayes_factor_description": null,
          "column_name": "Prior",
          "comparison_vector_value": null,
          "label_for_charts": "Starting match weight (prior)",
          "log2_bayes_factor": -15.380173425201471,
          "m_probability": null,
          "record_number": 14,
          "sql_condition": null,
          "term_frequency_adjustment": null,
          "u_probability": null,
          "value_l": "",
          "value_r": ""
         },
         {
          "bar_sort_order": 1,
          "bayes_factor": 42.67278491140226,
          "bayes_factor_description": "If comparison level is `exact match` then comparison is 42.67 times more likely to be a match",
          "column_name": "first_name",
          "comparison_vector_value": 3,
          "label_for_charts": "Exact match",
          "log2_bayes_factor": 5.415244361666424,
          "m_probability": 0.5560555809490083,
          "record_number": 14,
          "sql_condition": "first_name_l = first_name_r",
          "term_frequency_adjustment": false,
          "u_probability": 0.013030684125807525,
          "value_l": "william",
          "value_r": "william"
         },
         {
          "bar_sort_order": 2,
          "bayes_factor": 1097.3291121301938,
          "bayes_factor_description": "If comparison level is `exact match` then comparison is 1,097.33 times more likely to be a match",
          "column_name": "surname",
          "comparison_vector_value": 3,
          "label_for_charts": "Exact match",
          "log2_bayes_factor": 10.099780569955133,
          "m_probability": 0.7887629055260514,
          "record_number": 14,
          "sql_condition": "surname_l = surname_r",
          "term_frequency_adjustment": false,
          "u_probability": 0.0007188024967230321,
          "value_l": "watts",
          "value_r": "watts"
         },
         {
          "bar_sort_order": 3,
          "bayes_factor": 1,
          "bayes_factor_description": "If comparison level is `null` then comparison is 1.00 times more likely to be a match",
          "column_name": "dob",
          "comparison_vector_value": -1,
          "label_for_charts": "Null",
          "log2_bayes_factor": 0,
          "m_probability": null,
          "record_number": 14,
          "sql_condition": "dob_l IS NULL OR dob_r IS NULL",
          "term_frequency_adjustment": false,
          "u_probability": null,
          "value_l": "1860-06-07",
          "value_r": "nan"
         },
         {
          "bar_sort_order": 4,
          "bayes_factor": 4598.573173150793,
          "bayes_factor_description": "If comparison level is `exact match` then comparison is 4,598.57 times more likely to be a match",
          "column_name": "postcode_fake",
          "comparison_vector_value": 2,
          "label_for_charts": "Exact match",
          "log2_bayes_factor": 12.166970581628611,
          "m_probability": 0.6862619027808218,
          "record_number": 14,
          "sql_condition": "postcode_fake_l = postcode_fake_r",
          "term_frequency_adjustment": false,
          "u_probability": 0.00014923365942889137,
          "value_l": "sy5 7nt",
          "value_r": "sy5 7nt"
         },
         {
          "bar_sort_order": 5,
          "bayes_factor": 1,
          "bayes_factor_description": "If comparison level is `null` then comparison is 1.00 times more likely to be a match",
          "column_name": "birth_place",
          "comparison_vector_value": -1,
          "label_for_charts": "Null",
          "log2_bayes_factor": 0,
          "m_probability": null,
          "record_number": 14,
          "sql_condition": "birth_place_l IS NULL OR birth_place_r IS NULL",
          "term_frequency_adjustment": false,
          "u_probability": null,
          "value_l": "shropshire",
          "value_r": "nan"
         },
         {
          "bar_sort_order": 6,
          "bayes_factor": 1,
          "bayes_factor_description": "If comparison level is `null` then comparison is 1.00 times more likely to be a match",
          "column_name": "occupation",
          "comparison_vector_value": -1,
          "label_for_charts": "Null",
          "log2_bayes_factor": 0,
          "m_probability": null,
          "record_number": 14,
          "sql_condition": "occupation_l IS NULL OR occupation_r IS NULL",
          "term_frequency_adjustment": false,
          "u_probability": null,
          "value_l": "geologist",
          "value_r": "nan"
         },
         {
          "bar_sort_order": 7,
          "bayes_factor": 5049.140430911287,
          "bayes_factor_description": null,
          "column_name": "Final score",
          "comparison_vector_value": null,
          "label_for_charts": "Final score",
          "log2_bayes_factor": 12.301822088048699,
          "m_probability": null,
          "record_number": 14,
          "sql_condition": null,
          "term_frequency_adjustment": null,
          "u_probability": null,
          "value_l": "",
          "value_r": ""
         },
         {
          "bar_sort_order": 0,
          "bayes_factor": 2.3448035367917972e-05,
          "bayes_factor_description": null,
          "column_name": "Prior",
          "comparison_vector_value": null,
          "label_for_charts": "Starting match weight (prior)",
          "log2_bayes_factor": -15.380173425201471,
          "m_probability": null,
          "record_number": 15,
          "sql_condition": null,
          "term_frequency_adjustment": null,
          "u_probability": null,
          "value_l": "",
          "value_r": ""
         },
         {
          "bar_sort_order": 1,
          "bayes_factor": 42.67278491140226,
          "bayes_factor_description": "If comparison level is `exact match` then comparison is 42.67 times more likely to be a match",
          "column_name": "first_name",
          "comparison_vector_value": 3,
          "label_for_charts": "Exact match",
          "log2_bayes_factor": 5.415244361666424,
          "m_probability": 0.5560555809490083,
          "record_number": 15,
          "sql_condition": "first_name_l = first_name_r",
          "term_frequency_adjustment": false,
          "u_probability": 0.013030684125807525,
          "value_l": "william",
          "value_r": "william"
         },
         {
          "bar_sort_order": 2,
          "bayes_factor": 1097.3291121301938,
          "bayes_factor_description": "If comparison level is `exact match` then comparison is 1,097.33 times more likely to be a match",
          "column_name": "surname",
          "comparison_vector_value": 3,
          "label_for_charts": "Exact match",
          "log2_bayes_factor": 10.099780569955133,
          "m_probability": 0.7887629055260514,
          "record_number": 15,
          "sql_condition": "surname_l = surname_r",
          "term_frequency_adjustment": false,
          "u_probability": 0.0007188024967230321,
          "value_l": "watts",
          "value_r": "watts"
         },
         {
          "bar_sort_order": 3,
          "bayes_factor": 1,
          "bayes_factor_description": "If comparison level is `null` then comparison is 1.00 times more likely to be a match",
          "column_name": "dob",
          "comparison_vector_value": -1,
          "label_for_charts": "Null",
          "log2_bayes_factor": 0,
          "m_probability": null,
          "record_number": 15,
          "sql_condition": "dob_l IS NULL OR dob_r IS NULL",
          "term_frequency_adjustment": false,
          "u_probability": null,
          "value_l": "1860-06-01",
          "value_r": "nan"
         },
         {
          "bar_sort_order": 4,
          "bayes_factor": 1,
          "bayes_factor_description": "If comparison level is `null` then comparison is 1.00 times more likely to be a match",
          "column_name": "postcode_fake",
          "comparison_vector_value": -1,
          "label_for_charts": "Null",
          "log2_bayes_factor": 0,
          "m_probability": null,
          "record_number": 15,
          "sql_condition": "postcode_fake_l IS NULL OR postcode_fake_r IS NULL",
          "term_frequency_adjustment": false,
          "u_probability": null,
          "value_l": "nan",
          "value_r": "sy5 7nt"
         },
         {
          "bar_sort_order": 5,
          "bayes_factor": 1,
          "bayes_factor_description": "If comparison level is `null` then comparison is 1.00 times more likely to be a match",
          "column_name": "birth_place",
          "comparison_vector_value": -1,
          "label_for_charts": "Null",
          "log2_bayes_factor": 0,
          "m_probability": null,
          "record_number": 15,
          "sql_condition": "birth_place_l IS NULL OR birth_place_r IS NULL",
          "term_frequency_adjustment": false,
          "u_probability": null,
          "value_l": "frodesley",
          "value_r": "nan"
         },
         {
          "bar_sort_order": 6,
          "bayes_factor": 1,
          "bayes_factor_description": "If comparison level is `null` then comparison is 1.00 times more likely to be a match",
          "column_name": "occupation",
          "comparison_vector_value": -1,
          "label_for_charts": "Null",
          "log2_bayes_factor": 0,
          "m_probability": null,
          "record_number": 15,
          "sql_condition": "occupation_l IS NULL OR occupation_r IS NULL",
          "term_frequency_adjustment": false,
          "u_probability": null,
          "value_l": "geologist",
          "value_r": "nan"
         },
         {
          "bar_sort_order": 7,
          "bayes_factor": 1.0979797952093424,
          "bayes_factor_description": null,
          "column_name": "Final score",
          "comparison_vector_value": null,
          "label_for_charts": "Final score",
          "log2_bayes_factor": 0.13485150642008578,
          "m_probability": null,
          "record_number": 15,
          "sql_condition": null,
          "term_frequency_adjustment": null,
          "u_probability": null,
          "value_l": "",
          "value_r": ""
         },
         {
          "bar_sort_order": 0,
          "bayes_factor": 2.3448035367917972e-05,
          "bayes_factor_description": null,
          "column_name": "Prior",
          "comparison_vector_value": null,
          "label_for_charts": "Starting match weight (prior)",
          "log2_bayes_factor": -15.380173425201471,
          "m_probability": null,
          "record_number": 16,
          "sql_condition": null,
          "term_frequency_adjustment": null,
          "u_probability": null,
          "value_l": "",
          "value_r": ""
         },
         {
          "bar_sort_order": 1,
          "bayes_factor": 42.67278491140226,
          "bayes_factor_description": "If comparison level is `exact match` then comparison is 42.67 times more likely to be a match",
          "column_name": "first_name",
          "comparison_vector_value": 3,
          "label_for_charts": "Exact match",
          "log2_bayes_factor": 5.415244361666424,
          "m_probability": 0.5560555809490083,
          "record_number": 16,
          "sql_condition": "first_name_l = first_name_r",
          "term_frequency_adjustment": false,
          "u_probability": 0.013030684125807525,
          "value_l": "jaido",
          "value_r": "jaido"
         },
         {
          "bar_sort_order": 2,
          "bayes_factor": 1097.3291121301938,
          "bayes_factor_description": "If comparison level is `exact match` then comparison is 1,097.33 times more likely to be a match",
          "column_name": "surname",
          "comparison_vector_value": 3,
          "label_for_charts": "Exact match",
          "log2_bayes_factor": 10.099780569955133,
          "m_probability": 0.7887629055260514,
          "record_number": 16,
          "sql_condition": "surname_l = surname_r",
          "term_frequency_adjustment": false,
          "u_probability": 0.0007188024967230321,
          "value_l": "morata",
          "value_r": "morata"
         },
         {
          "bar_sort_order": 3,
          "bayes_factor": 258.9744567541073,
          "bayes_factor_description": "If comparison level is `exact match` then comparison is 258.97 times more likely to be a match",
          "column_name": "dob",
          "comparison_vector_value": 3,
          "label_for_charts": "Exact match",
          "log2_bayes_factor": 8.016665998375847,
          "m_probability": 0.6113179229173269,
          "record_number": 16,
          "sql_condition": "dob_l = dob_r",
          "term_frequency_adjustment": false,
          "u_probability": 0.0023605336625834297,
          "value_l": "1836-01-01",
          "value_r": "1836-01-01"
         },
         {
          "bar_sort_order": 4,
          "bayes_factor": 266.68084436756084,
          "bayes_factor_description": "If comparison level is `levenshtein <= 2` then comparison is 266.68 times more likely to be a match",
          "column_name": "postcode_fake",
          "comparison_vector_value": 1,
          "label_for_charts": "levenshtein <= 2",
          "log2_bayes_factor": 8.058970389885026,
          "m_probability": 0.14226554980135014,
          "record_number": 16,
          "sql_condition": "levenshtein(postcode_fake_l, postcode_fake_r) <= 2",
          "term_frequency_adjustment": false,
          "u_probability": 0.0005334674492228186,
          "value_l": "ta4 2uu",
          "value_r": "ta4 2ug"
         },
         {
          "bar_sort_order": 5,
          "bayes_factor": 156.94377395583078,
          "bayes_factor_description": "If comparison level is `exact match` then comparison is 156.94 times more likely to be a match",
          "column_name": "birth_place",
          "comparison_vector_value": 1,
          "label_for_charts": "Exact match",
          "log2_bayes_factor": 7.294103987339475,
          "m_probability": 0.839561202308113,
          "record_number": 16,
          "sql_condition": "birth_place_l = birth_place_r",
          "term_frequency_adjustment": false,
          "u_probability": 0.005349439363834806,
          "value_l": "somerset west and taunton",
          "value_r": "somerset west and taunton"
         },
         {
          "bar_sort_order": 6,
          "bayes_factor": 1,
          "bayes_factor_description": "If comparison level is `null` then comparison is 1.00 times more likely to be a match",
          "column_name": "occupation",
          "comparison_vector_value": -1,
          "label_for_charts": "Null",
          "log2_bayes_factor": 0,
          "m_probability": null,
          "record_number": 16,
          "sql_condition": "occupation_l IS NULL OR occupation_r IS NULL",
          "term_frequency_adjustment": false,
          "u_probability": null,
          "value_l": "writer",
          "value_r": "nan"
         },
         {
          "bar_sort_order": 7,
          "bayes_factor": 11901102.409379479,
          "bayes_factor_description": null,
          "column_name": "Final score",
          "comparison_vector_value": null,
          "label_for_charts": "Final score",
          "log2_bayes_factor": 23.504591882020435,
          "m_probability": null,
          "record_number": 16,
          "sql_condition": null,
          "term_frequency_adjustment": null,
          "u_probability": null,
          "value_l": "",
          "value_r": ""
         },
         {
          "bar_sort_order": 0,
          "bayes_factor": 2.3448035367917972e-05,
          "bayes_factor_description": null,
          "column_name": "Prior",
          "comparison_vector_value": null,
          "label_for_charts": "Starting match weight (prior)",
          "log2_bayes_factor": -15.380173425201471,
          "m_probability": null,
          "record_number": 17,
          "sql_condition": null,
          "term_frequency_adjustment": null,
          "u_probability": null,
          "value_l": "",
          "value_r": ""
         },
         {
          "bar_sort_order": 1,
          "bayes_factor": 42.67278491140226,
          "bayes_factor_description": "If comparison level is `exact match` then comparison is 42.67 times more likely to be a match",
          "column_name": "first_name",
          "comparison_vector_value": 3,
          "label_for_charts": "Exact match",
          "log2_bayes_factor": 5.415244361666424,
          "m_probability": 0.5560555809490083,
          "record_number": 17,
          "sql_condition": "first_name_l = first_name_r",
          "term_frequency_adjustment": false,
          "u_probability": 0.013030684125807525,
          "value_l": "jaido",
          "value_r": "jaido"
         },
         {
          "bar_sort_order": 2,
          "bayes_factor": 1097.3291121301938,
          "bayes_factor_description": "If comparison level is `exact match` then comparison is 1,097.33 times more likely to be a match",
          "column_name": "surname",
          "comparison_vector_value": 3,
          "label_for_charts": "Exact match",
          "log2_bayes_factor": 10.099780569955133,
          "m_probability": 0.7887629055260514,
          "record_number": 17,
          "sql_condition": "surname_l = surname_r",
          "term_frequency_adjustment": false,
          "u_probability": 0.0007188024967230321,
          "value_l": "morata",
          "value_r": "morata"
         },
         {
          "bar_sort_order": 3,
          "bayes_factor": 258.9744567541073,
          "bayes_factor_description": "If comparison level is `exact match` then comparison is 258.97 times more likely to be a match",
          "column_name": "dob",
          "comparison_vector_value": 3,
          "label_for_charts": "Exact match",
          "log2_bayes_factor": 8.016665998375847,
          "m_probability": 0.6113179229173269,
          "record_number": 17,
          "sql_condition": "dob_l = dob_r",
          "term_frequency_adjustment": false,
          "u_probability": 0.0023605336625834297,
          "value_l": "1836-01-01",
          "value_r": "1836-01-01"
         },
         {
          "bar_sort_order": 4,
          "bayes_factor": 266.68084436756084,
          "bayes_factor_description": "If comparison level is `levenshtein <= 2` then comparison is 266.68 times more likely to be a match",
          "column_name": "postcode_fake",
          "comparison_vector_value": 1,
          "label_for_charts": "levenshtein <= 2",
          "log2_bayes_factor": 8.058970389885026,
          "m_probability": 0.14226554980135014,
          "record_number": 17,
          "sql_condition": "levenshtein(postcode_fake_l, postcode_fake_r) <= 2",
          "term_frequency_adjustment": false,
          "u_probability": 0.0005334674492228186,
          "value_l": "ta4 2uu",
          "value_r": "ta4 2ug"
         },
         {
          "bar_sort_order": 5,
          "bayes_factor": 156.94377395583078,
          "bayes_factor_description": "If comparison level is `exact match` then comparison is 156.94 times more likely to be a match",
          "column_name": "birth_place",
          "comparison_vector_value": 1,
          "label_for_charts": "Exact match",
          "log2_bayes_factor": 7.294103987339475,
          "m_probability": 0.839561202308113,
          "record_number": 17,
          "sql_condition": "birth_place_l = birth_place_r",
          "term_frequency_adjustment": false,
          "u_probability": 0.005349439363834806,
          "value_l": "somerset west and taunton",
          "value_r": "somerset west and taunton"
         },
         {
          "bar_sort_order": 6,
          "bayes_factor": 1,
          "bayes_factor_description": "If comparison level is `null` then comparison is 1.00 times more likely to be a match",
          "column_name": "occupation",
          "comparison_vector_value": -1,
          "label_for_charts": "Null",
          "log2_bayes_factor": 0,
          "m_probability": null,
          "record_number": 17,
          "sql_condition": "occupation_l IS NULL OR occupation_r IS NULL",
          "term_frequency_adjustment": false,
          "u_probability": null,
          "value_l": "writer",
          "value_r": "nan"
         },
         {
          "bar_sort_order": 7,
          "bayes_factor": 11901102.409379479,
          "bayes_factor_description": null,
          "column_name": "Final score",
          "comparison_vector_value": null,
          "label_for_charts": "Final score",
          "log2_bayes_factor": 23.504591882020435,
          "m_probability": null,
          "record_number": 17,
          "sql_condition": null,
          "term_frequency_adjustment": null,
          "u_probability": null,
          "value_l": "",
          "value_r": ""
         },
         {
          "bar_sort_order": 0,
          "bayes_factor": 2.3448035367917972e-05,
          "bayes_factor_description": null,
          "column_name": "Prior",
          "comparison_vector_value": null,
          "label_for_charts": "Starting match weight (prior)",
          "log2_bayes_factor": -15.380173425201471,
          "m_probability": null,
          "record_number": 18,
          "sql_condition": null,
          "term_frequency_adjustment": null,
          "u_probability": null,
          "value_l": "",
          "value_r": ""
         },
         {
          "bar_sort_order": 1,
          "bayes_factor": 42.67278491140226,
          "bayes_factor_description": "If comparison level is `exact match` then comparison is 42.67 times more likely to be a match",
          "column_name": "first_name",
          "comparison_vector_value": 3,
          "label_for_charts": "Exact match",
          "log2_bayes_factor": 5.415244361666424,
          "m_probability": 0.5560555809490083,
          "record_number": 18,
          "sql_condition": "first_name_l = first_name_r",
          "term_frequency_adjustment": false,
          "u_probability": 0.013030684125807525,
          "value_l": "john",
          "value_r": "john"
         },
         {
          "bar_sort_order": 2,
          "bayes_factor": 1097.3291121301938,
          "bayes_factor_description": "If comparison level is `exact match` then comparison is 1,097.33 times more likely to be a match",
          "column_name": "surname",
          "comparison_vector_value": 3,
          "label_for_charts": "Exact match",
          "log2_bayes_factor": 10.099780569955133,
          "m_probability": 0.7887629055260514,
          "record_number": 18,
          "sql_condition": "surname_l = surname_r",
          "term_frequency_adjustment": false,
          "u_probability": 0.0007188024967230321,
          "value_l": "vickers",
          "value_r": "vickers"
         },
         {
          "bar_sort_order": 3,
          "bayes_factor": 1,
          "bayes_factor_description": "If comparison level is `null` then comparison is 1.00 times more likely to be a match",
          "column_name": "dob",
          "comparison_vector_value": -1,
          "label_for_charts": "Null",
          "log2_bayes_factor": 0,
          "m_probability": null,
          "record_number": 18,
          "sql_condition": "dob_l IS NULL OR dob_r IS NULL",
          "term_frequency_adjustment": false,
          "u_probability": null,
          "value_l": "nan",
          "value_r": "1886-01-01"
         },
         {
          "bar_sort_order": 4,
          "bayes_factor": 1,
          "bayes_factor_description": "If comparison level is `null` then comparison is 1.00 times more likely to be a match",
          "column_name": "postcode_fake",
          "comparison_vector_value": -1,
          "label_for_charts": "Null",
          "log2_bayes_factor": 0,
          "m_probability": null,
          "record_number": 18,
          "sql_condition": "postcode_fake_l IS NULL OR postcode_fake_r IS NULL",
          "term_frequency_adjustment": false,
          "u_probability": null,
          "value_l": "nan",
          "value_r": "nan"
         },
         {
          "bar_sort_order": 5,
          "bayes_factor": 0.16130167120183755,
          "bayes_factor_description": "If comparison level is `all other comparisons` then comparison is  6.20 times less likely to be a match",
          "column_name": "birth_place",
          "comparison_vector_value": 0,
          "label_for_charts": "All other comparisons",
          "log2_bayes_factor": -2.6321667089535508,
          "m_probability": 0.1604387976924581,
          "record_number": 18,
          "sql_condition": "ELSE",
          "term_frequency_adjustment": false,
          "u_probability": 0.9946505606361652,
          "value_l": "wiveliscombe",
          "value_r": "somerset west and taunton"
         },
         {
          "bar_sort_order": 6,
          "bayes_factor": 1,
          "bayes_factor_description": "If comparison level is `null` then comparison is 1.00 times more likely to be a match",
          "column_name": "occupation",
          "comparison_vector_value": -1,
          "label_for_charts": "Null",
          "log2_bayes_factor": 0,
          "m_probability": null,
          "record_number": 18,
          "sql_condition": "occupation_l IS NULL OR occupation_r IS NULL",
          "term_frequency_adjustment": false,
          "u_probability": null,
          "value_l": "nan",
          "value_r": "nan"
         },
         {
          "bar_sort_order": 7,
          "bayes_factor": 0.17710597591311827,
          "bayes_factor_description": null,
          "column_name": "Final score",
          "comparison_vector_value": null,
          "label_for_charts": "Final score",
          "log2_bayes_factor": -2.497315202533465,
          "m_probability": null,
          "record_number": 18,
          "sql_condition": null,
          "term_frequency_adjustment": null,
          "u_probability": null,
          "value_l": "",
          "value_r": ""
         },
         {
          "bar_sort_order": 0,
          "bayes_factor": 2.3448035367917972e-05,
          "bayes_factor_description": null,
          "column_name": "Prior",
          "comparison_vector_value": null,
          "label_for_charts": "Starting match weight (prior)",
          "log2_bayes_factor": -15.380173425201471,
          "m_probability": null,
          "record_number": 19,
          "sql_condition": null,
          "term_frequency_adjustment": null,
          "u_probability": null,
          "value_l": "",
          "value_r": ""
         },
         {
          "bar_sort_order": 1,
          "bayes_factor": 42.67278491140226,
          "bayes_factor_description": "If comparison level is `exact match` then comparison is 42.67 times more likely to be a match",
          "column_name": "first_name",
          "comparison_vector_value": 3,
          "label_for_charts": "Exact match",
          "log2_bayes_factor": 5.415244361666424,
          "m_probability": 0.5560555809490083,
          "record_number": 19,
          "sql_condition": "first_name_l = first_name_r",
          "term_frequency_adjustment": false,
          "u_probability": 0.013030684125807525,
          "value_l": "moses",
          "value_r": "moses"
         },
         {
          "bar_sort_order": 2,
          "bayes_factor": 1097.3291121301938,
          "bayes_factor_description": "If comparison level is `exact match` then comparison is 1,097.33 times more likely to be a match",
          "column_name": "surname",
          "comparison_vector_value": 3,
          "label_for_charts": "Exact match",
          "log2_bayes_factor": 10.099780569955133,
          "m_probability": 0.7887629055260514,
          "record_number": 19,
          "sql_condition": "surname_l = surname_r",
          "term_frequency_adjustment": false,
          "u_probability": 0.0007188024967230321,
          "value_l": "gaster",
          "value_r": "gaster"
         },
         {
          "bar_sort_order": 3,
          "bayes_factor": 258.9744567541073,
          "bayes_factor_description": "If comparison level is `exact match` then comparison is 258.97 times more likely to be a match",
          "column_name": "dob",
          "comparison_vector_value": 3,
          "label_for_charts": "Exact match",
          "log2_bayes_factor": 8.016665998375847,
          "m_probability": 0.6113179229173269,
          "record_number": 19,
          "sql_condition": "dob_l = dob_r",
          "term_frequency_adjustment": false,
          "u_probability": 0.0023605336625834297,
          "value_l": "1856-09-17",
          "value_r": "1856-09-17"
         },
         {
          "bar_sort_order": 4,
          "bayes_factor": 4598.573173150793,
          "bayes_factor_description": "If comparison level is `exact match` then comparison is 4,598.57 times more likely to be a match",
          "column_name": "postcode_fake",
          "comparison_vector_value": 2,
          "label_for_charts": "Exact match",
          "log2_bayes_factor": 12.166970581628611,
          "m_probability": 0.6862619027808218,
          "record_number": 19,
          "sql_condition": "postcode_fake_l = postcode_fake_r",
          "term_frequency_adjustment": false,
          "u_probability": 0.00014923365942889137,
          "value_l": "ex20 3pz",
          "value_r": "ex20 3pz"
         },
         {
          "bar_sort_order": 5,
          "bayes_factor": 156.94377395583078,
          "bayes_factor_description": "If comparison level is `exact match` then comparison is 156.94 times more likely to be a match",
          "column_name": "birth_place",
          "comparison_vector_value": 1,
          "label_for_charts": "Exact match",
          "log2_bayes_factor": 7.294103987339475,
          "m_probability": 0.839561202308113,
          "record_number": 19,
          "sql_condition": "birth_place_l = birth_place_r",
          "term_frequency_adjustment": false,
          "u_probability": 0.005349439363834806,
          "value_l": "bucharest",
          "value_r": "bucharest"
         },
         {
          "bar_sort_order": 6,
          "bayes_factor": 23.574636244838747,
          "bayes_factor_description": "If comparison level is `exact match` then comparison is 23.57 times more likely to be a match",
          "column_name": "occupation",
          "comparison_vector_value": 1,
          "label_for_charts": "Exact match",
          "log2_bayes_factor": 4.559163605265319,
          "m_probability": 0.901527411622844,
          "record_number": 19,
          "sql_condition": "occupation_l = occupation_r",
          "term_frequency_adjustment": false,
          "u_probability": 0.0382414134521468,
          "value_l": "rabbi",
          "value_r": "rabbi"
         },
         {
          "bar_sort_order": 7,
          "bayes_factor": 4837973359.376458,
          "bayes_factor_description": null,
          "column_name": "Final score",
          "comparison_vector_value": null,
          "label_for_charts": "Final score",
          "log2_bayes_factor": 32.17175567902934,
          "m_probability": null,
          "record_number": 19,
          "sql_condition": null,
          "term_frequency_adjustment": null,
          "u_probability": null,
          "value_l": "",
          "value_r": ""
         }
        ]
       },
       "height": 450,
       "layer": [
        {
         "layer": [
          {
           "encoding": {
            "color": {
             "value": "black"
            },
            "size": {
             "value": 0.5
            },
            "y": {
             "field": "zero",
             "type": "quantitative"
            }
           },
           "mark": "rule"
          },
          {
           "encoding": {
            "color": {
             "condition": {
              "test": "(datum.log2_bayes_factor < 0)",
              "value": "red"
             },
             "value": "green"
            },
            "opacity": {
             "condition": {
              "test": "datum.column_name == 'Prior match weight' || datum.column_name == 'Final score'",
              "value": 1
             },
             "value": 0.5
            },
            "tooltip": [
             {
              "field": "column_name",
              "title": "Comparison column",
              "type": "nominal"
             },
             {
              "field": "value_l",
              "title": "Value (L)",
              "type": "nominal"
             },
             {
              "field": "value_r",
              "title": "Value (R)",
              "type": "nominal"
             },
             {
              "field": "label_for_charts",
              "title": "Label",
              "type": "ordinal"
             },
             {
              "field": "sql_condition",
              "title": "SQL condition",
              "type": "nominal"
             },
             {
              "field": "comparison_vector_value",
              "title": "Comparison vector value",
              "type": "nominal"
             },
             {
              "field": "bayes_factor",
              "format": ",.4f",
              "title": "Bayes factor = m/u",
              "type": "quantitative"
             },
             {
              "field": "log2_bayes_factor",
              "format": ",.4f",
              "title": "Match weight = log2(m/u)",
              "type": "quantitative"
             },
             {
              "field": "prob",
              "format": ".4f",
              "title": "Adjusted match score",
              "type": "quantitative"
             },
             {
              "field": "bayes_factor_description",
              "title": "Match weight description",
              "type": "nominal"
             }
            ],
            "x": {
             "axis": {
              "grid": true,
              "labelAlign": "center",
              "labelAngle": -20,
              "labelExpr": "datum.value == 'Prior' || datum.value == 'Final score' ? '' : datum.value",
              "labelPadding": 10,
              "tickBand": "extent",
              "title": "Column"
             },
             "field": "column_name",
             "sort": {
              "field": "bar_sort_order",
              "order": "ascending"
             },
             "type": "nominal"
            },
            "y": {
             "axis": {
              "grid": false,
              "orient": "left",
              "title": "log2(Bayes factor)"
             },
             "field": "previous_sum",
             "type": "quantitative"
            },
            "y2": {
             "field": "sum"
            }
           },
           "mark": {
            "type": "bar",
            "width": 60
           }
          },
          {
           "encoding": {
            "color": {
             "value": "white"
            },
            "text": {
             "condition": {
              "field": "log2_bayes_factor",
              "format": ".2f",
              "test": "abs(datum.log2_bayes_factor) > 1",
              "type": "nominal"
             },
             "value": ""
            },
            "x": {
             "axis": {
              "labelAngle": 0,
              "title": "Column"
             },
             "field": "column_name",
             "sort": {
              "field": "bar_sort_order",
              "order": "ascending"
             },
             "type": "nominal"
            },
            "y": {
             "axis": {
              "orient": "left"
             },
             "field": "center",
             "type": "quantitative"
            }
           },
           "mark": {
            "fontWeight": "bold",
            "type": "text"
           }
          },
          {
           "encoding": {
            "color": {
             "value": "black"
            },
            "text": {
             "field": "column_name",
             "type": "nominal"
            },
            "x": {
             "axis": {
              "labelAngle": 0,
              "title": "Column"
             },
             "field": "column_name",
             "sort": {
              "field": "bar_sort_order",
              "order": "ascending"
             },
             "type": "nominal"
            },
            "y": {
             "field": "sum_top",
             "type": "quantitative"
            }
           },
           "mark": {
            "baseline": "bottom",
            "dy": -25,
            "fontWeight": "bold",
            "type": "text"
           }
          },
          {
           "encoding": {
            "color": {
             "value": "grey"
            },
            "text": {
             "field": "value_l",
             "type": "nominal"
            },
            "x": {
             "axis": {
              "labelAngle": 0,
              "title": "Column"
             },
             "field": "column_name",
             "sort": {
              "field": "bar_sort_order",
              "order": "ascending"
             },
             "type": "nominal"
            },
            "y": {
             "field": "sum_top",
             "type": "quantitative"
            }
           },
           "mark": {
            "baseline": "bottom",
            "dy": -13,
            "fontSize": 8,
            "type": "text"
           }
          },
          {
           "encoding": {
            "color": {
             "value": "grey"
            },
            "text": {
             "field": "value_r",
             "type": "nominal"
            },
            "x": {
             "axis": {
              "labelAngle": 0,
              "title": "Column"
             },
             "field": "column_name",
             "sort": {
              "field": "bar_sort_order",
              "order": "ascending"
             },
             "type": "nominal"
            },
            "y": {
             "field": "sum_top",
             "type": "quantitative"
            }
           },
           "mark": {
            "baseline": "bottom",
            "dy": -5,
            "fontSize": 8,
            "type": "text"
           }
          }
         ]
        },
        {
         "encoding": {
          "x": {
           "axis": {
            "labelAngle": 0,
            "title": "Column"
           },
           "field": "column_name",
           "sort": {
            "field": "bar_sort_order",
            "order": "ascending"
           },
           "type": "nominal"
          },
          "x2": {
           "field": "lead"
          },
          "y": {
           "axis": {
            "labelExpr": "format(1 / (1 + pow(2, -1*datum.value)), '.2r')",
            "orient": "right",
            "title": "Probability"
           },
           "field": "sum",
           "scale": {
            "zero": false
           },
           "type": "quantitative"
          }
         },
         "mark": {
          "color": "black",
          "strokeWidth": 2,
          "type": "rule",
          "x2Offset": 30,
          "xOffset": -30
         }
        }
       ],
       "params": [
        {
         "bind": {
          "input": "range",
          "max": 19,
          "min": 0,
          "step": 1
         },
         "description": "Filter by the interation number",
         "name": "record_number",
         "value": 0
        }
       ],
       "resolve": {
        "axis": {
         "y": "independent"
        }
       },
       "title": {
        "subtitle": "How each comparison contributes to the final match score",
        "text": "Match weights waterfall chart"
       },
       "transform": [
        {
         "filter": "(datum.record_number == record_number)"
        },
        {
         "frame": [
          null,
          0
         ],
         "window": [
          {
           "as": "sum",
           "field": "log2_bayes_factor",
           "op": "sum"
          },
          {
           "as": "lead",
           "field": "column_name",
           "op": "lead"
          }
         ]
        },
        {
         "as": "sum",
         "calculate": "datum.column_name === \"Final score\" ? datum.sum - datum.log2_bayes_factor : datum.sum"
        },
        {
         "as": "lead",
         "calculate": "datum.lead === null ? datum.column_name : datum.lead"
        },
        {
         "as": "previous_sum",
         "calculate": "datum.column_name === \"Final score\" || datum.column_name === \"Prior match weight\" ? 0 : datum.sum - datum.log2_bayes_factor"
        },
        {
         "as": "top_label",
         "calculate": "datum.sum > datum.previous_sum ? datum.column_name : \"\""
        },
        {
         "as": "bottom_label",
         "calculate": "datum.sum < datum.previous_sum ? datum.column_name : \"\""
        },
        {
         "as": "sum_top",
         "calculate": "datum.sum > datum.previous_sum ? datum.sum : datum.previous_sum"
        },
        {
         "as": "sum_bottom",
         "calculate": "datum.sum < datum.previous_sum ? datum.sum : datum.previous_sum"
        },
        {
         "as": "center",
         "calculate": "(datum.sum + datum.previous_sum) / 2"
        },
        {
         "as": "text_log2_bayes_factor",
         "calculate": "(datum.log2_bayes_factor > 0 ? \"+\" : \"\") + datum.log2_bayes_factor"
        },
        {
         "as": "dy",
         "calculate": "datum.sum < datum.previous_sum ? 4 : -4"
        },
        {
         "as": "baseline",
         "calculate": "datum.sum < datum.previous_sum ? \"top\" : \"bottom\""
        },
        {
         "as": "prob",
         "calculate": "1. / (1 + pow(2, -1.*datum.sum))"
        },
        {
         "as": "zero",
         "calculate": "0*datum.sum"
        }
       ],
       "width": {
        "step": 75
       }
      },
      "image/png": "[encoded data removed]",
      "text/plain": [
       "<VegaLite 4 object>\n",
       "\n",
       "If you see this message, it means the renderer has not been properly enabled\n",
       "for the frontend that you are using. For more information, see\n",
       "https://altair-viz.github.io/user_guide/troubleshooting.html\n"
      ]
     },
     "execution_count": 14,
     "metadata": {},
     "output_type": "execute_result"
    }
   ],
   "source": [
    "from splink.charts import waterfall_chart\n",
    "records_to_plot = df_e.to_dict(orient=\"records\")\n",
    "linker.waterfall_chart(records_to_plot, filter_nulls=False)"
   ]
  }
 ],
 "metadata": {
  "interpreter": {
   "hash": "b7acd20079f690b8e4bd301d8b4d6cf58b4dbf05063e13f3b39ce70fc3c4110c"
  },
  "kernelspec": {
   "display_name": "Python 3 (ipykernel)",
   "language": "python",
   "name": "python3"
  },
  "language_info": {
   "codemirror_mode": {
    "name": "ipython",
    "version": 3
   },
   "file_extension": ".py",
   "mimetype": "text/x-python",
   "name": "python",
   "nbconvert_exporter": "python",
   "pygments_lexer": "ipython3",
   "version": "3.8.3"
  }
 },
 "nbformat": 4,
 "nbformat_minor": 4
}
