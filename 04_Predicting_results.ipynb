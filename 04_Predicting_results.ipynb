{
 "cells": [
  {
   "cell_type": "markdown",
   "id": "84cca40c",
   "metadata": {},
   "source": [
    "# Predicting which records match\n",
    "\n",
    "In the previous tutorial, we built and estimated a linkage model.\n",
    "\n",
    "In this tutorial, we will load the estimated model and use it to make predictions of which pairwise record comparisons match."
   ]
  },
  {
   "cell_type": "code",
   "execution_count": null,
   "id": "48f57034",
   "metadata": {},
   "outputs": [],
   "source": [
    "from splink.duckdb.duckdb_linker import DuckDBLinker\n",
    "import pandas as pd \n",
    "pd.options.display.max_columns = 1000\n",
    "df = pd.read_csv(\"./data/fake_1000.csv\")\n"
   ]
  },
  {
   "cell_type": "markdown",
   "id": "d77b6eb8",
   "metadata": {},
   "source": [
    "## Load estimated model from previous tutorial"
   ]
  },
  {
   "cell_type": "code",
   "execution_count": null,
   "id": "619553a5",
   "metadata": {},
   "outputs": [],
   "source": [
    "linker = DuckDBLinker(df)\n",
    "linker.load_settings_from_json(\"./demo_settings/saved_model_from_demo.json\")"
   ]
  },
  {
   "cell_type": "markdown",
   "id": "c1d97518",
   "metadata": {},
   "source": [
    "# Predicting match weights using the trained model\n",
    "\n",
    "We use `linker.predict()` to run the model.  \n",
    "\n",
    "Under the hood this will:\n",
    "\n",
    "- Generate all pairwise record comparisons that match at least one of the `blocking_rules_to_generate_predictions`\n",
    "\n",
    "- Use the rules specified in the `Comparisons` to evaluate the similarity of the input data\n",
    "\n",
    "- Use the estimated match weights, applying term frequency adjustments where requested to produce the final `match_weight` and `match_probability` scores\n",
    "\n",
    "Optionally, a `threshold_match_probability` or `threshold_match_weight` can be provided, which will drop any row where the predicted score is below the threshold."
   ]
  },
  {
   "cell_type": "code",
   "execution_count": null,
   "id": "ead23f3e",
   "metadata": {},
   "outputs": [],
   "source": [
    "df_predictions = linker.predict(threshold_match_probability=0.2)\n",
    "df_predictions.as_pandas_dataframe(limit=5)"
   ]
  },
  {
   "cell_type": "markdown",
   "id": "f00370bb",
   "metadata": {},
   "source": [
    "## Clustering\n",
    "\n",
    "The result of `linker.predict()` is a list of pairwise record comparisons and their associated scores. For instance, if we have input records A, B, C and D, it could be represented conceptually as:\n",
    "```\n",
    "A -> B with score 0.9\n",
    "B -> C with score 0.95\n",
    "C -> D with score 0.1\n",
    "D -> E with score 0.99\n",
    "```\n",
    "\n",
    "Often, an alternative representation of this result is more useful, where each row is an input record, and where records link, they are assigned to the same cluster.\n",
    "\n",
    "With a score threshold of 0.5, the above data could be represented conceptually as:\n",
    "\n",
    "```\n",
    "ID, Cluster ID\n",
    "A,  1\n",
    "B,  1\n",
    "C,  1\n",
    "D,  2\n",
    "E,  2\n",
    "```\n",
    "\n",
    "The algorithm that converts between the pairwise results and the clusters is called connected components, and it is included in Splink.  You can use it as follows:"
   ]
  },
  {
   "cell_type": "code",
   "execution_count": null,
   "id": "257ae717",
   "metadata": {},
   "outputs": [],
   "source": [
    "clusters = linker.cluster_pairwise_predictions_at_threshold(df_predictions, threshold_match_probability=0.5)\n",
    "clusters.as_pandas_dataframe(limit=10)"
   ]
  }
 ],
 "metadata": {
  "kernelspec": {
   "display_name": "Python 3",
   "language": "python",
   "name": "python3"
  },
  "language_info": {
   "codemirror_mode": {
    "name": "ipython",
    "version": 3
   },
   "file_extension": ".py",
   "mimetype": "text/x-python",
   "name": "python",
   "nbconvert_exporter": "python",
   "pygments_lexer": "ipython3",
   "version": "3.9.4"
  },
  "vscode": {
   "interpreter": {
    "hash": "3b53fa520a31e303a9636a08ff10a3bbc14893ee50cb37445791fa59628fc75b"
   }
  }
 },
 "nbformat": 4,
 "nbformat_minor": 5
}
