{
 "cells": [
  {
   "cell_type": "markdown",
   "id": "26e50a28",
   "metadata": {},
   "source": [
    "# Introductory tutorial\n",
    "\n",
    "This is the introduction to a four part tutorial which demonstrates how to de-duplicate a small dataset using simple settings.\n",
    "\n",
    "The aim of the tutorial is to demonstarate core Splink functionality succinctly, rather that comprehensively document all configuration options.\n",
    "\n",
    "The four parts are:\n",
    "\n",
    "- [1. Exploratory analysis](https://moj-analytical-services.github.io/splink/demos/01_Exploratory_analysis.html)\n",
    "\n",
    "- [2. Estimating model parameters](https://moj-analytical-services.github.io/splink/demos/02_Estimating_model_parameters.html)\n",
    "\n",
    "- [3. Predicting results](https://moj-analytical-services.github.io/splink/demos/03_Predicting_results.html)\n",
    "\n",
    "- [4. Quality assurance](https://moj-analytical-services.github.io/splink/demos/04_Quality_assurance.html)\n",
    "\n",
    "\n",
    "Throughout the tutorial, we use the duckdb backend, which is the recommended option for smaller datasets of up to around 1 million records on a normal laptop.\n",
    "\n",
    "\n",
    "\n",
    "\n",
    "\n",
    "\n"
   ]
  },
  {
   "cell_type": "markdown",
   "id": "8cb762bf",
   "metadata": {},
   "source": []
  }
 ],
 "metadata": {
  "kernelspec": {
   "display_name": "Python 3",
   "language": "python",
   "name": "python3"
  },
  "language_info": {
   "codemirror_mode": {
    "name": "ipython",
    "version": 3
   },
   "file_extension": ".py",
   "mimetype": "text/x-python",
   "name": "python",
   "nbconvert_exporter": "python",
   "pygments_lexer": "ipython3",
   "version": "3.7.4"
  }
 },
 "nbformat": 4,
 "nbformat_minor": 5
}
