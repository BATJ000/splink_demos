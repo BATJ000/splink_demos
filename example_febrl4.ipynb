{
 "cells": [
  {
   "cell_type": "markdown",
   "id": "b624dcc9-a6be-4996-8f78-1568568c2e6a",
   "metadata": {},
   "source": [
    "## Linking the febrl4 datasets\n",
    "\n",
    "See A.2 [here](https://arxiv.org/pdf/2008.04443.pdf) and [here](https://recordlinkage.readthedocs.io/en/latest/ref-datasets.html) for the source of this data.\n",
    "\n",
    "It consists of two datasets, A and B, of 5000 records each, with each record in dataset A having a corresponding record in dataset B. The aim will be to capture as many of those 5000 true links as possible, with minimal false linkages.\n",
    "\n",
    "It is worth noting that we should not necessarily expect to capture _all_ links. There are some links that although we know they _do_ correspond to the same person, the data is so mismatched between them that we would not reasonably expect a model to link them, and indeed should a model do so may indicate that we have overengineered things using our knowledge of true links, which will not be a helpful reference in situations where we attempt to link unlabelled data, as will usually be the case."
   ]
  },
  {
   "cell_type": "markdown",
   "id": "3547f018-c884-4b9e-a042-3df09a576582",
   "metadata": {},
   "source": [
    "### Exploring data and defining model"
   ]
  },
  {
   "cell_type": "markdown",
   "id": "05a3c2d4-6da8-48d5-89c8-db24702783c7",
   "metadata": {},
   "source": [
    "Firstly let's read in the data and have a little look at it"
   ]
  },
  {
   "cell_type": "code",
   "execution_count": null,
   "id": "832113c9-13b2-43b7-86d0-6051a9db79e8",
   "metadata": {},
   "outputs": [],
   "source": [
    "import pandas as pd \n",
    "import altair as alt\n",
    "from IPython.display import IFrame\n",
    "alt.renderers.enable('mimetype')\n",
    "\n",
    "def read_and_prepare(fn):\n",
    "    df = pd.read_csv(\n",
    "        fn,\n",
    "        delimiter=\", \",\n",
    "        dtype={\"date_of_birth\": str},\n",
    "        engine=\"python\"\n",
    "    )\n",
    "    df[\"cluster\"] = df[\"rec_id\"].apply(lambda x: \"-\".join(x.split('-')[:2]))\n",
    "    return df\n",
    "dfs = [\n",
    "    read_and_prepare(f\"./data/febrl/dataset4{dataset}.csv\")\n",
    "    for dataset in [\"a\", \"b\"]\n",
    "]\n",
    "\n",
    "display(dfs[0].head(2))\n",
    "display(dfs[1].head(2))"
   ]
  },
  {
   "cell_type": "markdown",
   "id": "8aebb0dd-28c1-44b8-9e12-e872b97f7583",
   "metadata": {},
   "source": [
    "Next, to better understand which variables will prove useful in linking, we have a look at how populated each column is, as well as the distribution of unique values within each"
   ]
  },
  {
   "cell_type": "code",
   "execution_count": null,
   "id": "3233c3e1-3e6b-4abc-8bed-c26e8b463c2a",
   "metadata": {},
   "outputs": [],
   "source": [
    "from splink.duckdb.duckdb_linker import DuckDBLinker\n",
    "\n",
    "basic_settings = {\n",
    "    \"unique_id_column_name\": \"rec_id\",\n",
    "    \"link_type\": \"link_only\",\n",
    "    # NB as we are linking one-one, we know the probability that a random pair will be a match\n",
    "    # hence we could set:\n",
    "    # \"probability_two_random_records_match\": 1/5000,\n",
    "    # however we will not specify this here, as we will use this as a check that\n",
    "    # our estimation procedure returns something sensible\n",
    "}\n",
    "\n",
    "linker = DuckDBLinker(dfs, basic_settings)"
   ]
  },
  {
   "cell_type": "code",
   "execution_count": null,
   "id": "319ffdbc-7853-40a9-b331-e635d96b6fdc",
   "metadata": {},
   "outputs": [],
   "source": [
    "linker.missingness_chart()"
   ]
  },
  {
   "cell_type": "code",
   "execution_count": null,
   "id": "dff8dfca-57c8-42bf-878c-da9dd23d2682",
   "metadata": {},
   "outputs": [],
   "source": [
    "cols_to_profile = list(dfs[0].columns)\n",
    "cols_to_profile = [col for col in cols_to_profile if col not in (\"rec_id\", \"cluster\")]\n",
    "linker.profile_columns(cols_to_profile)"
   ]
  },
  {
   "cell_type": "markdown",
   "id": "935fc769-8678-494b-96d9-f499c34ae061",
   "metadata": {},
   "source": [
    "Next let's come up with some candidate blocking rules, which define which record comparisons are generated, and have a look at how many comparisons each will generate.\n",
    "\n",
    "For blocking rules that we use in prediction, our aim is to have the union of all rules cover all true matches, whilst avoiding generating so many comparisons that it becomes computationally intractable - i.e. each true match should have at least _one_ of the following conditions holding."
   ]
  },
  {
   "cell_type": "code",
   "execution_count": null,
   "id": "e745280e-fe2f-4563-bd7e-6e4c70d0c9de",
   "metadata": {},
   "outputs": [],
   "source": [
    "blocking_rules = [\n",
    "    \"l.given_name = r.given_name AND l.surname = r.surname\",\n",
    "    \"l.date_of_birth = r.date_of_birth\",\n",
    "    \"l.soc_sec_id = r.soc_sec_id\",\n",
    "    \"l.state = r.state AND l.address_1 = r.address_1\",\n",
    "    \"l.street_number = r.street_number AND l.address_1 = r.address_1\",\n",
    "    \"l.postcode = r.postcode\",\n",
    "]\n",
    "linker.cumulative_num_comparisons_from_blocking_rules_chart(blocking_rules)"
   ]
  },
  {
   "cell_type": "markdown",
   "id": "c91c8946-94e3-4ee0-b43f-2d9675339ac9",
   "metadata": {},
   "source": [
    "The broadest rule, having a matching postcode, unsurpisingly gives the largest number of comparisons.\n",
    "For this small dataset we still have a very manageable number, but if it was larger we might have needed to include a further `AND` condition with it to break the number of comparisons further."
   ]
  },
  {
   "cell_type": "markdown",
   "id": "8fe64895-9292-4c86-983e-2ec3f140d12c",
   "metadata": {},
   "source": [
    "Now we get the full settings by including the blocking rules, as well as deciding the actual comparisons we will be including in our model.\n",
    "\n",
    "We will define two models, each with a separate linker with different settings, so that we can compare performance. One will be a very basic model, whilst the other will include a lot more detail."
   ]
  },
  {
   "cell_type": "code",
   "execution_count": null,
   "id": "f6360b69-2d52-4f1a-9199-2edf2339ec63",
   "metadata": {},
   "outputs": [],
   "source": [
    "import splink.duckdb.duckdb_comparison_level_library as cll\n",
    "import splink.duckdb.duckdb_comparison_library as cl\n",
    "\n",
    "# the simple model only considers a few columns, and only two comparison levels for each\n",
    "simple_model_settings = {\n",
    "    **basic_settings,\n",
    "    \"blocking_rules_to_generate_predictions\": blocking_rules,\n",
    "    \"comparisons\": [\n",
    "        cl.exact_match(\"given_name\", term_frequency_adjustments=True),\n",
    "        cl.exact_match(\"surname\", term_frequency_adjustments=True),\n",
    "        cl.exact_match(\"street_number\", term_frequency_adjustments=True),\n",
    "    ],\n",
    "    \"retain_intermediate_calculation_columns\": True,\n",
    "}\n",
    "# the detailed model considers more columns, using the information we saw in the exploratory phase\n",
    "# we also include further comparison levels to account for typos and other differences\n",
    "detailed_model_settings = {\n",
    "    **basic_settings,\n",
    "    \"blocking_rules_to_generate_predictions\": blocking_rules,\n",
    "    \"comparisons\": [\n",
    "        {\n",
    "            \"output_column_name\": \"Given name\",\n",
    "            \"comparison_levels\": [\n",
    "                cll.null_level(\"given_name\"),\n",
    "                cll.exact_match_level(\"given_name\", term_frequency_adjustments=True),\n",
    "                cll.columns_reversed_level(\"given_name\", \"surname\"),\n",
    "                cll.distance_function_level(\"given_name\", \"jaro_winkler_similarity\", 0.9),\n",
    "                cll.distance_function_level(\"given_name\", \"jaro_winkler_similarity\", 0.7),\n",
    "                cll.else_level(),\n",
    "            ],\n",
    "        },\n",
    "        {\n",
    "            \"output_column_name\": \"Surname\",\n",
    "            \"comparison_levels\": [\n",
    "                cll.null_level(\"surname\"),\n",
    "                cll.exact_match_level(\"surname\", term_frequency_adjustments=True),\n",
    "                cll.distance_function_level(\"surname\", \"jaro_winkler_similarity\", 0.9),\n",
    "                cll.distance_function_level(\"surname\", \"jaro_winkler_similarity\", 0.7),\n",
    "                cll.else_level(),\n",
    "            ],\n",
    "        },\n",
    "        cl.levenshtein_at_thresholds(\n",
    "            \"date_of_birth\", [1, 2], term_frequency_adjustments=True\n",
    "        ),\n",
    "        cl.levenshtein_at_thresholds(\"soc_sec_id\", [1, 2]),\n",
    "        cl.exact_match(\"street_number\", term_frequency_adjustments=True),\n",
    "        cl.levenshtein_at_thresholds(\"postcode\", [1, 2], term_frequency_adjustments=True),\n",
    "        # we don't consider further location columns as they will be strongly correlated with postcode\n",
    "    ],\n",
    "    \"retain_intermediate_calculation_columns\": True,\n",
    "}\n",
    "\n",
    "\n",
    "linker_simple = DuckDBLinker(dfs, simple_model_settings)\n",
    "linker_detailed = DuckDBLinker(dfs, detailed_model_settings)"
   ]
  },
  {
   "cell_type": "markdown",
   "id": "4b151420-f53b-4dab-9d80-238892cffd53",
   "metadata": {},
   "source": [
    "### Estimating model parameters"
   ]
  },
  {
   "cell_type": "markdown",
   "id": "27f4d86a-3ec0-4d31-a8c7-eae2952e76a4",
   "metadata": {},
   "source": [
    "We need to furnish our models with parameter estimates so that we can generate results. We will focus on the detailed model, generating the values for the simple model at the end"
   ]
  },
  {
   "cell_type": "markdown",
   "id": "3684d83f-44ce-46af-b3bd-0725f001b8d4",
   "metadata": {},
   "source": [
    "We can instead estimate the probability two random records match, and compare with the known value of 1/5000 = 0.0002, to see how well our estimation procedure works.\n",
    "\n",
    "To do this we come up with some deterministic rules - the aim here is that we generate very true false positives (i.e. we expect that the majority of records with at least one of these conditions holding are true matches), whilst also capturing the majority of matches - our guess here is that these two rules should capture 80% of all matches."
   ]
  },
  {
   "cell_type": "code",
   "execution_count": null,
   "id": "7ad48419-4eda-4fe5-b00f-2ec9f798e0e8",
   "metadata": {},
   "outputs": [],
   "source": [
    "deterministic_rules = [\n",
    "    \"l.soc_sec_id = r.soc_sec_id\",\n",
    "    \"l.given_name = r.given_name and l.surname = r.surname and l.date_of_birth = r.date_of_birth\",\n",
    "]\n",
    "\n",
    "linker_detailed.estimate_probability_two_random_records_match(deterministic_rules, recall=0.8)"
   ]
  },
  {
   "cell_type": "markdown",
   "id": "0e035592-b1bb-4e27-a5b9-e890810088fb",
   "metadata": {},
   "source": [
    "Even playing around with changing these deterministic rules, or the nominal recall leaves us with an answer which is pretty close to our known value"
   ]
  },
  {
   "cell_type": "markdown",
   "id": "bdaaa245-4bd9-476c-9ead-c5f28597aa7e",
   "metadata": {},
   "source": [
    "Next we estimate `u` and `m` values for each comparison, so that we can move to generating predictions"
   ]
  },
  {
   "cell_type": "code",
   "execution_count": null,
   "id": "e40ee288-0c42-4cda-aaf1-3ffb2ea02383",
   "metadata": {},
   "outputs": [],
   "source": [
    "linker_detailed.estimate_u_using_random_sampling(target_rows=1e7)"
   ]
  },
  {
   "cell_type": "markdown",
   "id": "614f6e19-14bb-4d40-9b95-36593b6de9ba",
   "metadata": {},
   "source": [
    "When training the `m` values using expectation maximisation, we need somre more blocking rules to reduce the total number of comparisons. For each rule, we want to ensure that we have neither proportionally too many matches, or too few.\n",
    "\n",
    "We must run this multiple times using different rules so that we can obtain estimates for all comparisons - if we block on e.g. `date_of_birth`, then we cannot compute the `m` values for the `date_of_birth` comparison, as we have only looked at records where these match."
   ]
  },
  {
   "cell_type": "code",
   "execution_count": null,
   "id": "9ee0f49b-084c-45aa-8c6b-ec5da11c2cc4",
   "metadata": {},
   "outputs": [],
   "source": [
    "session_dob = linker_detailed.estimate_parameters_using_expectation_maximisation(\n",
    "    \"l.date_of_birth = r.date_of_birth\"\n",
    ")\n",
    "session_pc = linker_detailed.estimate_parameters_using_expectation_maximisation(\n",
    "    \"l.postcode = r.postcode\"\n",
    ")"
   ]
  },
  {
   "cell_type": "markdown",
   "id": "ba8ed5fa-7003-46a9-bc40-4ae7cfb40953",
   "metadata": {},
   "source": [
    "If we wish we can have a look at how our parameter estimates changes over these training sessions"
   ]
  },
  {
   "cell_type": "code",
   "execution_count": null,
   "id": "31ef6844-6be8-4f01-9ff7-5dfebcf12ae1",
   "metadata": {},
   "outputs": [],
   "source": [
    "# session_dob.m_u_values_interactive_history_chart()"
   ]
  },
  {
   "cell_type": "markdown",
   "id": "cffd7f8f-6cea-4ef7-87c7-c6a9c1775cf2",
   "metadata": {},
   "source": [
    "For variables that aren't used in the `m`-training blocking rules, we have two estimates --- one from each of the training sessions. We can have a look at how the values compare between them, to ensure that we don't have drastically different values, which may be indicative of an issue."
   ]
  },
  {
   "cell_type": "code",
   "execution_count": null,
   "id": "8d260a60-a4fa-4c0d-9853-8b8256a24257",
   "metadata": {},
   "outputs": [],
   "source": [
    "linker_detailed.parameter_estimate_comparisons_chart()"
   ]
  },
  {
   "cell_type": "markdown",
   "id": "25e3e343-603a-4aed-a5ac-5de42af5f8ad",
   "metadata": {},
   "source": [
    "We repeat our parameter estimations for the simple model in much the same fashion"
   ]
  },
  {
   "cell_type": "code",
   "execution_count": null,
   "id": "71f2f166-05cd-4038-a289-a053a1f0b5c5",
   "metadata": {},
   "outputs": [],
   "source": [
    "linker_simple.estimate_probability_two_random_records_match(deterministic_rules, recall=0.8)\n",
    "linker_simple.estimate_u_using_random_sampling(target_rows=1e7)\n",
    "session_ssid = linker_simple.estimate_parameters_using_expectation_maximisation(\n",
    "    \"l.given_name = r.given_name\"\n",
    ")\n",
    "session_pc = linker_simple.estimate_parameters_using_expectation_maximisation(\n",
    "    \"l.street_number = r.street_number\"\n",
    ")\n",
    "# linker_simple.parameter_estimate_comparisons_chart()"
   ]
  },
  {
   "cell_type": "code",
   "execution_count": null,
   "id": "3a87cb78-0e97-40a3-b757-6c99bb19d7b1",
   "metadata": {},
   "outputs": [],
   "source": [
    "# import json\n",
    "# we can have a look at the full settings if we wish, including the values of our estimated parameters:\n",
    "# print(json.dumps(linker_detailed._settings_obj.as_dict(), indent=2))\n",
    "# we can also get a handy summary of of the model in an easily readable format if we wish:\n",
    "# print(linker_detailed._settings_obj.human_readable_description)\n",
    "# (we suppress output here for brevity)"
   ]
  },
  {
   "cell_type": "markdown",
   "id": "76f453df-848b-4f06-bbb7-d88ee710ae64",
   "metadata": {},
   "source": [
    "We can now visualise some of the details of our models. We can look at the match weights, which tell us the relative importance for/against a match for each of our comparsion levels.\n",
    "\n",
    "Comparing the two models will show the added benefit we get in the more detailed model --- what in the simple model is classed as 'all other comparisons' is instead broken down further, and we can see that the detail of how this is broken down in fact gives us quite a bit of useful information about the likelihood of a match."
   ]
  },
  {
   "cell_type": "code",
   "execution_count": null,
   "id": "b17b131c-c83e-4c32-bfad-c12021d2c3b7",
   "metadata": {},
   "outputs": [],
   "source": [
    "linker_simple.match_weights_chart()"
   ]
  },
  {
   "cell_type": "code",
   "execution_count": null,
   "id": "c095ff2b-405b-427c-849f-1468f6ca98e0",
   "metadata": {},
   "outputs": [],
   "source": [
    "linker_detailed.match_weights_chart()"
   ]
  },
  {
   "cell_type": "markdown",
   "id": "e08287f4-711a-4960-b6e6-3f3d19ca8667",
   "metadata": {},
   "source": [
    "As well as the match weights, which give us an idea of the overall effect of each comparison level, we can also look at the individual `u` and `m` parameter estimates, which tells us about the prevalence of coincidences and mistakes. We might want to revise aspects of our model based on the information we ascertain here.\n",
    "\n",
    "Note however that some of these values are very small, which is why the match weight chart is often more useful for getting a decent picture of things."
   ]
  },
  {
   "cell_type": "code",
   "execution_count": null,
   "id": "26e5dbe5-a621-44ab-bdb4-0bcd53b220b6",
   "metadata": {},
   "outputs": [],
   "source": [
    "# linker_simple.m_u_parameters_chart()\n",
    "linker_detailed.m_u_parameters_chart()"
   ]
  },
  {
   "cell_type": "markdown",
   "id": "67321657-d2a0-4f7c-b68a-a906a210547e",
   "metadata": {},
   "source": [
    "It is also useful to have a look at unlinkable records - these are records which do not contain enough information to be linked at some match probability threshold. We can figure this out be seeing whether records are able to be matched with themselves.\n",
    "\n",
    "This is of course relative to the information we have put into the model - we see that in our simple model, at a 99% match threshold nearly 10% of records are unlinkable, as we have not included enough information in the model for distinct records to be adequately distinguished; this is not an issue in our more detailed model."
   ]
  },
  {
   "cell_type": "code",
   "execution_count": null,
   "id": "149962d6-a2ad-412f-aa05-8697beb12ed0",
   "metadata": {},
   "outputs": [],
   "source": [
    "linker_simple.unlinkables_chart()"
   ]
  },
  {
   "cell_type": "code",
   "execution_count": null,
   "id": "cac493dd-ea43-4550-8fd4-f758ae90ed75",
   "metadata": {},
   "outputs": [],
   "source": [
    "linker_detailed.unlinkables_chart()"
   ]
  },
  {
   "cell_type": "markdown",
   "id": "66244ba3-7397-466a-889e-c85f90db1e82",
   "metadata": {},
   "source": [
    "Our simple model doesn't do _terribly_, but suffers if we want to have a high match probability --- to be 99% certain of matches we have ~10% of records that we will be unable to link.\n",
    "\n",
    "Our detailed model, however, has enough nuance that we can at least self-link records."
   ]
  },
  {
   "cell_type": "markdown",
   "id": "061e1355-557a-457d-92b6-2589b32371da",
   "metadata": {},
   "source": [
    "### Predictions\n",
    "\n",
    "Now that we have had a look into the details of the models, we will focus on only our more detailed model, which should be able to capture more of the genuine links in our data"
   ]
  },
  {
   "cell_type": "code",
   "execution_count": null,
   "id": "03348477-c3c1-42e7-a8af-8f678acc9d58",
   "metadata": {},
   "outputs": [],
   "source": [
    "predictions = linker_detailed.predict()\n",
    "df_predictions = predictions.as_pandas_dataframe()\n",
    "df_predictions.head(5)"
   ]
  },
  {
   "cell_type": "markdown",
   "id": "fd32d127-5012-42e8-9f69-89237992a793",
   "metadata": {},
   "source": [
    "We can see how our model performs at different probability thresholds, with a couple of options depending on the space we wish to view things"
   ]
  },
  {
   "cell_type": "code",
   "execution_count": null,
   "id": "ce8d409c-7ef5-4485-9ec0-8b539fdecb1f",
   "metadata": {},
   "outputs": [],
   "source": [
    "# linker_detailed.roc_chart_from_labels_column(\"cluster\")\n",
    "linker_detailed.precision_recall_chart_from_labels_column(\"cluster\")"
   ]
  },
  {
   "cell_type": "markdown",
   "id": "568b990e-982a-4adc-9629-06ba30f872b0",
   "metadata": {},
   "source": [
    "and we can easily see how many individuals we identify and link by looking at clusters generated at some threshold match probability of interest - in this example 99%"
   ]
  },
  {
   "cell_type": "code",
   "execution_count": null,
   "id": "ade53248-212f-4776-8d7d-4632b1749425",
   "metadata": {},
   "outputs": [],
   "source": [
    "clusters = linker_detailed.cluster_pairwise_predictions_at_threshold(predictions, threshold_match_probability=0.99)\n",
    "df_clusters = clusters.as_pandas_dataframe().sort_values(\"cluster_id\")\n",
    "df_clusters.groupby(\"cluster_id\").size().value_counts()"
   ]
  },
  {
   "cell_type": "markdown",
   "id": "6f7dbde5-c588-4930-bace-21642f250395",
   "metadata": {},
   "source": [
    "In this case, we happen to know what the true links are, so we can manually inspect the ones that are doing worst to see what our model is not capturing - i.e. where we have false negatives.\n",
    "\n",
    "Similarly, we can look at the non-links which are performing the best, to see whether we have an issue with falst positives.\n",
    "\n",
    "Ordinarily we would not have this luxury, and so would need to dig a bit deeper for clues as to how to improve our model, such as manually inspecting records across threshold probabilities, "
   ]
  },
  {
   "cell_type": "code",
   "execution_count": null,
   "id": "ef77a8b1-1119-4cb0-b299-343a4022d65e",
   "metadata": {},
   "outputs": [],
   "source": [
    "df_predictions[\"cluster_l\"] = df_predictions[\"rec_id_l\"].apply(lambda x: \"-\".join(x.split('-')[:2]))\n",
    "df_predictions[\"cluster_r\"] = df_predictions[\"rec_id_r\"].apply(lambda x: \"-\".join(x.split('-')[:2]))\n",
    "df_true_links = df_predictions[df_predictions[\"cluster_l\"] == df_predictions[\"cluster_r\"]].sort_values(\"match_probability\")"
   ]
  },
  {
   "cell_type": "code",
   "execution_count": null,
   "id": "bc531ca3-fe0d-480d-b059-a7125474fb22",
   "metadata": {},
   "outputs": [],
   "source": [
    "records_to_view = 3\n",
    "linker_detailed.waterfall_chart(df_true_links.head(records_to_view).to_dict(orient=\"records\"))"
   ]
  },
  {
   "cell_type": "code",
   "execution_count": null,
   "id": "aacd9042-5672-4bc4-aa98-940d1f5fd28a",
   "metadata": {},
   "outputs": [],
   "source": [
    "df_non_links = df_predictions[df_predictions[\"cluster_l\"] != df_predictions[\"cluster_r\"]].sort_values(\"match_probability\", ascending=False)\n",
    "linker_detailed.waterfall_chart(df_non_links.head(records_to_view).to_dict(orient=\"records\"))"
   ]
  },
  {
   "cell_type": "markdown",
   "id": "99abfc68-61a0-4290-be22-7243680b5ee1",
   "metadata": {},
   "source": [
    "## Further refinements\n",
    "\n",
    "Looking at the non-links we have done well in having no false positives at any substantial match probability --- however looking at some of the true links we can see that there are a few that we are not capturing with sufficient match probability.\n",
    "\n",
    "We can see that there are a few features that we are not capturing/weighting appropriately\n",
    "* single-character transpostions, particularly in postcode (which is being lumped in with more 'severe typos'/probable non-matches)\n",
    "* given/sur-names being swapped with typos\n",
    "* given/sur-names being cross-matches on one only, with no match on the other cross\n",
    "\n",
    "We will quickly see if we can incorporate these features into a new model. As we are now going into more detail with the inter-relationship between given name and surname, it is probably no longer sensible to model them as independent comparisons, and so we will need to switch to a combined comparison on full name."
   ]
  },
  {
   "cell_type": "code",
   "execution_count": null,
   "id": "2a7229da-9f79-4151-a6b1-018d17205f5f",
   "metadata": {},
   "outputs": [],
   "source": [
    "def single_transposition_level(column, label_for_charts=None):\n",
    "    if label_for_charts is None:\n",
    "        label_for_charts = \"Single transposition\"\n",
    "    return {\n",
    "        # we have the same set of letters, and two levenshtein edits between them - i.e. a single transposition\n",
    "        \"sql_condition\": f\"jaccard({column}_l, {column}_r) = 1 AND levenshtein({column}_l, {column}_r) = 2\",\n",
    "        \"label_for_charts\": label_for_charts\n",
    "    }\n",
    "\n",
    "# we need to append a full name column to our source data frames\n",
    "# so that we can use it for term frequency adjustments\n",
    "dfs[0][\"full_name\"] = dfs[0][\"given_name\"] + \"_\" + dfs[0][\"surname\"]\n",
    "dfs[1][\"full_name\"] = dfs[1][\"given_name\"] + \"_\" + dfs[1][\"surname\"]\n",
    "\n",
    "\n",
    "extended_model_settings = {\n",
    "    **basic_settings,\n",
    "    \"blocking_rules_to_generate_predictions\": blocking_rules,\n",
    "    \"comparisons\": [\n",
    "        {\n",
    "            \"output_column_name\": \"Full name\",\n",
    "            \"comparison_levels\": [\n",
    "                {\n",
    "                    \"sql_condition\": \"(given_name_l IS NULL OR given_name_r IS NULL) and (surname_l IS NULL OR surname_r IS NULL)\",\n",
    "                    \"label_for_charts\": \"Null\",\n",
    "                    \"is_null_level\": True,\n",
    "                },\n",
    "                # full name match\n",
    "                {\n",
    "                    \"sql_condition\": \"full_name_l = full_name_r\",\n",
    "                    \"label_for_charts\": \"Both names match\",\n",
    "                    \"tf_adjustment_column\": \"full_name\",\n",
    "                    \"tf_adjustment_weight\": 1.0,\n",
    "                },\n",
    "                # typos - keep levels across full name rather than scoring separately\n",
    "                {\n",
    "                    \"sql_condition\": \"jaro_winkler_similarity(full_name_l, full_name_r) > 0.9\",\n",
    "                    \"label_for_charts\": \"JW (full name) > 0.9\",\n",
    "                },\n",
    "                {\n",
    "                    \"sql_condition\": \"jaro_winkler_similarity(full_name_l, full_name_r) > 0.7\",\n",
    "                    \"label_for_charts\": \"JW (full name) > 0.7\",\n",
    "                },\n",
    "                # name switched\n",
    "                {\n",
    "                    \"sql_condition\": \"given_name_l = surname_r AND surname_l = given_name_r\",\n",
    "                    \"label_for_charts\": \"Names switched\",\n",
    "                },\n",
    "                # name switched + typo\n",
    "                {\n",
    "                    \"sql_condition\": \"jaro_winkler_similarity(given_name_l, surname_r) + jaro_winkler_similarity(surname_l, given_name_r) >= 1.8\",\n",
    "                    \"label_for_charts\": \"switched + jaro_winkler_similarity >= 1.8\"\n",
    "                },\n",
    "                {\n",
    "                    \"sql_condition\": \"jaro_winkler_similarity(given_name_l, surname_r) + jaro_winkler_similarity(surname_l, given_name_r) >= 1.4\",\n",
    "                    \"label_for_charts\": \"switched + jaro_winkler_similarity >= 1.4\"\n",
    "                },\n",
    "                # single name match\n",
    "                {\n",
    "                    \"sql_condition\": \"given_name_l = given_name_r\",\n",
    "                    \"label_for_charts\": \"given name matches\",\n",
    "                    \"tf_adjustment_column\": \"given_name\",\n",
    "                    \"tf_adjustment_weight\": 1.0,\n",
    "                },\n",
    "                {\n",
    "                    \"sql_condition\": \"surname_l = surname_r\",\n",
    "                    \"label_for_charts\": \"surname matches\",\n",
    "                    \"tf_adjustment_column\": \"surname\",\n",
    "                    \"tf_adjustment_weight\": 1.0,\n",
    "                },\n",
    "                # single name cross-match\n",
    "                {\n",
    "                    \"sql_condition\": \"given_name_l = surname_r OR surname_l = given_name_r\",\n",
    "                    \"label_for_charts\": \"single name cross-matches\"\n",
    "                },\n",
    "                # single name typos\n",
    "                {\n",
    "                    \"sql_condition\": \"jaro_winkler_similarity(given_name_l, given_name_r) > 0.9\",\n",
    "                    \"label_for_charts\": \"JW (given name) > 0.9\",\n",
    "                },\n",
    "                {\n",
    "                    \"sql_condition\": \"jaro_winkler_similarity(surname_l, surname_r) > 0.9\",\n",
    "                    \"label_for_charts\": \"JW (surname) > 0.9\",\n",
    "                },\n",
    "                # the rest\n",
    "                cll.else_level()\n",
    "            ]\n",
    "        },\n",
    "        {\n",
    "            \"output_column_name\": \"Date of birth\",\n",
    "            \"comparison_levels\": [\n",
    "                cll.null_level(\"date_of_birth\"),\n",
    "                cll.exact_match_level(\"date_of_birth\", term_frequency_adjustments=True),\n",
    "                cll.distance_function_level(\"date_of_birth\", \"levenshtein\", 1, higher_is_more_similar=False),\n",
    "                # this is the extra level\n",
    "                single_transposition_level(\"date_of_birth\"),\n",
    "                cll.distance_function_level(\"date_of_birth\", \"levenshtein\", 2, higher_is_more_similar=False),\n",
    "                cll.else_level()\n",
    "            ]\n",
    "        },\n",
    "        {\n",
    "            \"output_column_name\": \"Social security ID\",\n",
    "            \"comparison_levels\": [\n",
    "                cll.null_level(\"soc_sec_id\"),\n",
    "                cll.exact_match_level(\"soc_sec_id\", term_frequency_adjustments=True),\n",
    "                cll.distance_function_level(\"soc_sec_id\", \"levenshtein\", 1, higher_is_more_similar=False),\n",
    "                single_transposition_level(\"soc_sec_id\"),\n",
    "                cll.distance_function_level(\"soc_sec_id\", \"levenshtein\", 2, higher_is_more_similar=False),\n",
    "                cll.else_level()\n",
    "            ]\n",
    "        },\n",
    "        {\n",
    "            \"output_column_name\": \"Street number\",\n",
    "            \"comparison_levels\": [\n",
    "                cll.null_level(\"street_number\"),\n",
    "                cll.exact_match_level(\"street_number\", term_frequency_adjustments=True),\n",
    "                cll.distance_function_level(\"street_number\", \"levenshtein\", 1, higher_is_more_similar=False),\n",
    "                single_transposition_level(\"street_number\"),\n",
    "                cll.else_level()\n",
    "            ]\n",
    "        },\n",
    "        {\n",
    "            \"output_column_name\": \"Postcode\",\n",
    "            \"comparison_levels\": [\n",
    "                cll.null_level(\"postcode\"),\n",
    "                cll.exact_match_level(\"postcode\", term_frequency_adjustments=True),\n",
    "                cll.distance_function_level(\"postcode\", \"levenshtein\", 1, higher_is_more_similar=False),\n",
    "                single_transposition_level(\"postcode\"),\n",
    "                cll.distance_function_level(\"postcode\", \"levenshtein\", 2, higher_is_more_similar=False),\n",
    "                cll.else_level()\n",
    "            ]\n",
    "        },\n",
    "        # we don't consider further location columns as they will be strongly correlated with postcode\n",
    "    ],\n",
    "    \"retain_intermediate_calculation_columns\": True,\n",
    "}"
   ]
  },
  {
   "cell_type": "code",
   "execution_count": null,
   "id": "1581eeeb-246b-46de-be88-ba4dc821fce7",
   "metadata": {},
   "outputs": [],
   "source": [
    "# train\n",
    "linker_advanced = DuckDBLinker(dfs, extended_model_settings)\n",
    "linker_advanced.estimate_probability_two_random_records_match(deterministic_rules, recall=0.8)\n",
    "# we increase target rows to improve accuracy for u values in full name comparison, as we have subdivided the data more finely\n",
    "linker_advanced.estimate_u_using_random_sampling(target_rows=1e8)\n",
    "session_dob = linker_advanced.estimate_parameters_using_expectation_maximisation(\n",
    "    \"l.date_of_birth = r.date_of_birth\"\n",
    ")\n",
    "session_pc = linker_advanced.estimate_parameters_using_expectation_maximisation(\n",
    "    \"l.postcode = r.postcode\"\n",
    ")"
   ]
  },
  {
   "cell_type": "code",
   "execution_count": null,
   "id": "d9d21e85-b89b-435a-8b75-142166ac3f31",
   "metadata": {},
   "outputs": [],
   "source": [
    "# linker_advanced.parameter_estimate_comparisons_chart()"
   ]
  },
  {
   "cell_type": "code",
   "execution_count": null,
   "id": "4a857c18-b0d5-48dc-b7f1-1f6389db5089",
   "metadata": {},
   "outputs": [],
   "source": [
    "linker_advanced.match_weights_chart()"
   ]
  },
  {
   "cell_type": "code",
   "execution_count": null,
   "id": "e1ee24d9-1def-4b8d-bb85-1c63b595e75e",
   "metadata": {},
   "outputs": [],
   "source": [
    "predictions_adv = linker_advanced.predict()\n",
    "df_predictions_adv = predictions_adv.as_pandas_dataframe()\n",
    "clusters_adv = linker_advanced.cluster_pairwise_predictions_at_threshold(predictions_adv, threshold_match_probability=0.99)\n",
    "df_clusters_adv = clusters_adv.as_pandas_dataframe().sort_values(\"cluster_id\")\n",
    "df_clusters_adv.groupby(\"cluster_id\").size().value_counts()"
   ]
  },
  {
   "cell_type": "markdown",
   "id": "8db464e7-c57b-48e1-9e7b-c01ce9ccbad9",
   "metadata": {},
   "source": [
    "This is a pretty modest improvement on our previous model - however it is worth re-iterating that we should not necessarily expect to recover _all_ matches, as in several cases it may be unreasonable for a model to have reasonable confidence that two records refer to the same entity.\n",
    "\n",
    "If we wished to improve matters we could iterate on this process - investigating where our model is not performing as we would hope, and seeing how we can adjust these areas to address these shortcomings."
   ]
  }
 ],
 "metadata": {
  "kernelspec": {
   "display_name": "splink_demos",
   "language": "python",
   "name": "venv"
  },
  "language_info": {
   "codemirror_mode": {
    "name": "ipython",
    "version": 3
   },
   "file_extension": ".py",
   "mimetype": "text/x-python",
   "name": "python",
   "nbconvert_exporter": "python",
   "pygments_lexer": "ipython3",
   "version": "3.9.4"
  }
 },
 "nbformat": 4,
 "nbformat_minor": 5
}
