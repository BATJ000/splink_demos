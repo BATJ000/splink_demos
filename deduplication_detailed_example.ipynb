{
 "cells": [
  {
   "cell_type": "markdown",
   "metadata": {
    "jp-MarkdownHeadingCollapsed": true,
    "tags": []
   },
   "source": [
    "## Splink deduplication demo \n",
    "\n",
    "In this demo we de-duplicate a dataset.  The dataset is small (1000) rows to enable the tutorial to be run interactively, but readers should imagine the true dataset is large (millions of rows).\n",
    "\n",
    "This is a comprehensive example in which we demonstrate the full range of functionality of Splink, and how it is intended to be used.  A quickstart notebook is provided [here](quickstart_demo_deduplication.ipynb)."
   ]
  },
  {
   "cell_type": "markdown",
   "metadata": {},
   "source": [
    "## Step 1:  Imports and setup\n",
    "\n",
    "The following is just boilerplate code that sets up the Spark session and sets some other non-essential configuration options"
   ]
  },
  {
   "cell_type": "code",
   "execution_count": 1,
   "metadata": {},
   "outputs": [],
   "source": [
    "import pandas as pd \n",
    "pd.options.display.max_columns = 500"
   ]
  },
  {
   "cell_type": "code",
   "execution_count": 2,
   "metadata": {},
   "outputs": [],
   "source": [
    "import logging \n",
    "logging.basicConfig()  # Means logs will print in Jupyter Lab\n",
    "\n",
    "# Set to DEBUG if you want splink to log the SQL statements it's executing under the hood\n",
    "logging.getLogger(\"splink\").setLevel(logging.INFO)"
   ]
  },
  {
   "cell_type": "code",
   "execution_count": 3,
   "metadata": {},
   "outputs": [
    {
     "name": "stderr",
     "output_type": "stream",
     "text": [
      "22/01/11 05:34:02 WARN NativeCodeLoader: Unable to load native-hadoop library for your platform... using builtin-java classes where applicable\n",
      "Using Spark's default log4j profile: org/apache/spark/log4j-defaults.properties\n",
      "Setting default log level to \"WARN\".\n",
      "To adjust logging level use sc.setLogLevel(newLevel). For SparkR, use setLogLevel(newLevel).\n",
      "22/01/11 05:34:03 WARN Utils: Service 'SparkUI' could not bind on port 4040. Attempting port 4041.\n",
      "22/01/11 05:34:03 WARN Utils: Service 'SparkUI' could not bind on port 4041. Attempting port 4042.\n",
      "22/01/11 05:34:03 WARN Utils: Service 'SparkUI' could not bind on port 4042. Attempting port 4043.\n",
      "22/01/11 05:34:03 WARN Utils: Service 'SparkUI' could not bind on port 4043. Attempting port 4044.\n"
     ]
    }
   ],
   "source": [
    "from utility_functions.demo_utils import get_spark\n",
    "spark = get_spark() # See utility_functions/demo_utils.py for how to set up Spark"
   ]
  },
  {
   "cell_type": "markdown",
   "metadata": {},
   "source": [
    "## Step 2:  Read in data"
   ]
  },
  {
   "cell_type": "markdown",
   "metadata": {},
   "source": [
    "Note that the `group` column is the truth - rows which share the same value refer to the same person.  In the real world, we wouldn't have this field because this is the truth - the label which Splink is trying to estimate."
   ]
  },
  {
   "cell_type": "code",
   "execution_count": 4,
   "metadata": {},
   "outputs": [
    {
     "name": "stdout",
     "output_type": "stream",
     "text": [
      "+---------+----------+-------+----------+------+--------------------+-----+\n",
      "|unique_id|first_name|surname|       dob|  city|               email|group|\n",
      "+---------+----------+-------+----------+------+--------------------+-----+\n",
      "|        0|    Robert|   Alan|1971-06-24|  null| robert255@smith.net|    0|\n",
      "|        1|    Robert|  Allen|1971-05-24|  null| roberta25@smith.net|    0|\n",
      "|        2|       Rob|  Allen|1971-06-24|London| roberta25@smith.net|    0|\n",
      "|        3|    Robert|   Alen|1971-06-24| Lonon|                null|    0|\n",
      "|        4|     Grace|   null|1997-04-26|  Hull|grace.kelly52@jon...|    1|\n",
      "+---------+----------+-------+----------+------+--------------------+-----+\n",
      "only showing top 5 rows\n",
      "\n"
     ]
    }
   ],
   "source": [
    "df = spark.read.csv(\"data/fake_1000.csv\", header=True)\n",
    "df.show(5)"
   ]
  },
  {
   "cell_type": "markdown",
   "metadata": {},
   "source": [
    "## Step 3:  Profile the data\n",
    "\n",
    "Understanding your data through the use of summary statistics is critical. \n",
    "\n",
    "For the purposes of data linking, one of the most important attributes of your data is cardinality.  Fields like date of birth which have a large number of unique values (high cardinality) are more useful than fields with low cardinality like gender.\n",
    "\n",
    "Another important attribute is skew, which can occur:\n",
    "1. because values (like a first name of John) occur more frequently in the real world\n",
    "2. due to data quality issues (such as a large number of date of birth fields containing the value '1970-01-01' due errors in date parsing)\n",
    "\n",
    "In the case of (1), you should turn on `term_frequency_adjustments` for the relevant column.  For (2), you shoud clean up these values prior to linkage.  For example, if a string value like `1970-01-01` indicates a null, you should explicitly null out these values.\n",
    "\n",
    "Splink provides a profiling tool to for you to visually inspect value frequencies, which we can see as follows:\n",
    "\n",
    "In the case of our test dataset, there is a moderate level of skew, partcularly on the first_name, surname and city columns.  We can see most of our fields have high cardinality.\n",
    "\n",
    "We also observe that misspellings are common across most fields."
   ]
  },
  {
   "cell_type": "code",
   "execution_count": 5,
   "metadata": {},
   "outputs": [],
   "source": [
    "from splink.profile import column_value_frequencies_chart"
   ]
  },
  {
   "cell_type": "code",
   "execution_count": 6,
   "metadata": {},
   "outputs": [
    {
     "data": {
      "application/vnd.vegalite.v4+json": {
       "$schema": "https://vega.github.io/schema/vega-lite/v4.8.1.json",
       "config": {
        "view": {
         "continuousHeight": 300,
         "continuousWidth": 400
        }
       },
       "vconcat": [
        {
         "hconcat": [
          {
           "data": {
            "values": [
             {
              "distinct_value_count": 335,
              "group_name": "first_name",
              "percentile_ex_nulls": 1,
              "percentile_inc_nulls": 1,
              "sum_tokens_in_value_count_group": 28,
              "total_non_null_rows": 831,
              "total_rows_inc_nulls": 1000,
              "value_count": 28
             },
             {
              "distinct_value_count": 335,
              "percentile_ex_nulls": 0.9663056558363418,
              "percentile_inc_nulls": 0.972,
              "proportion_of_non_null_rows": 0.03369434416365824,
              "sum_tokens_in_value_count_group": 28,
              "total_non_null_rows": 831,
              "total_rows_inc_nulls": 1000,
              "value_count": 28
             },
             {
              "distinct_value_count": 335,
              "percentile_ex_nulls": 0.9470517448856799,
              "percentile_inc_nulls": 0.956,
              "proportion_of_non_null_rows": 0.019253910950661854,
              "sum_tokens_in_value_count_group": 16,
              "total_non_null_rows": 831,
              "total_rows_inc_nulls": 1000,
              "value_count": 16
             },
             {
              "distinct_value_count": 335,
              "percentile_ex_nulls": 0.9290012033694344,
              "percentile_inc_nulls": 0.9410000000000001,
              "proportion_of_non_null_rows": 0.018050541516245487,
              "sum_tokens_in_value_count_group": 15,
              "total_non_null_rows": 831,
              "total_rows_inc_nulls": 1000,
              "value_count": 15
             },
             {
              "distinct_value_count": 335,
              "percentile_ex_nulls": 0.9121540312876053,
              "percentile_inc_nulls": 0.927,
              "proportion_of_non_null_rows": 0.01684717208182912,
              "sum_tokens_in_value_count_group": 14,
              "total_non_null_rows": 831,
              "total_rows_inc_nulls": 1000,
              "value_count": 14
             },
             {
              "distinct_value_count": 335,
              "percentile_ex_nulls": 0.8965102286401926,
              "percentile_inc_nulls": 0.914,
              "proportion_of_non_null_rows": 0.015643802647412757,
              "sum_tokens_in_value_count_group": 13,
              "total_non_null_rows": 831,
              "total_rows_inc_nulls": 1000,
              "value_count": 13
             },
             {
              "distinct_value_count": 335,
              "percentile_ex_nulls": 0.8820697954271961,
              "percentile_inc_nulls": 0.902,
              "proportion_of_non_null_rows": 0.01444043321299639,
              "sum_tokens_in_value_count_group": 12,
              "total_non_null_rows": 831,
              "total_rows_inc_nulls": 1000,
              "value_count": 12
             },
             {
              "distinct_value_count": 335,
              "percentile_ex_nulls": 0.8423586040914561,
              "percentile_inc_nulls": 0.869,
              "proportion_of_non_null_rows": 0.039711191335740074,
              "sum_tokens_in_value_count_group": 33,
              "total_non_null_rows": 831,
              "total_rows_inc_nulls": 1000,
              "value_count": 11
             },
             {
              "distinct_value_count": 335,
              "percentile_ex_nulls": 0.8182912154031288,
              "percentile_inc_nulls": 0.849,
              "proportion_of_non_null_rows": 0.024067388688327317,
              "sum_tokens_in_value_count_group": 20,
              "total_non_null_rows": 831,
              "total_rows_inc_nulls": 1000,
              "value_count": 10
             },
             {
              "distinct_value_count": 335,
              "percentile_ex_nulls": 0.7641395908543923,
              "percentile_inc_nulls": 0.804,
              "proportion_of_non_null_rows": 0.05415162454873646,
              "sum_tokens_in_value_count_group": 45,
              "total_non_null_rows": 831,
              "total_rows_inc_nulls": 1000,
              "value_count": 9
             },
             {
              "distinct_value_count": 335,
              "percentile_ex_nulls": 0.7352587244283995,
              "percentile_inc_nulls": 0.78,
              "proportion_of_non_null_rows": 0.02888086642599278,
              "sum_tokens_in_value_count_group": 24,
              "total_non_null_rows": 831,
              "total_rows_inc_nulls": 1000,
              "value_count": 8
             },
             {
              "distinct_value_count": 335,
              "percentile_ex_nulls": 0.7015643802647413,
              "percentile_inc_nulls": 0.752,
              "proportion_of_non_null_rows": 0.03369434416365824,
              "sum_tokens_in_value_count_group": 28,
              "total_non_null_rows": 831,
              "total_rows_inc_nulls": 1000,
              "value_count": 7
             },
             {
              "distinct_value_count": 335,
              "percentile_ex_nulls": 0.6293622141997594,
              "percentile_inc_nulls": 0.692,
              "proportion_of_non_null_rows": 0.07220216606498195,
              "sum_tokens_in_value_count_group": 60,
              "total_non_null_rows": 831,
              "total_rows_inc_nulls": 1000,
              "value_count": 6
             },
             {
              "distinct_value_count": 335,
              "percentile_ex_nulls": 0.5391095066185319,
              "percentile_inc_nulls": 0.617,
              "proportion_of_non_null_rows": 0.09025270758122744,
              "sum_tokens_in_value_count_group": 75,
              "total_non_null_rows": 831,
              "total_rows_inc_nulls": 1000,
              "value_count": 5
             },
             {
              "distinct_value_count": 335,
              "percentile_ex_nulls": 0.42358604091456076,
              "percentile_inc_nulls": 0.521,
              "proportion_of_non_null_rows": 0.11552346570397112,
              "sum_tokens_in_value_count_group": 96,
              "total_non_null_rows": 831,
              "total_rows_inc_nulls": 1000,
              "value_count": 4
             },
             {
              "distinct_value_count": 335,
              "percentile_ex_nulls": 0.3369434416365824,
              "percentile_inc_nulls": 0.44899999999999995,
              "proportion_of_non_null_rows": 0.08664259927797834,
              "sum_tokens_in_value_count_group": 72,
              "total_non_null_rows": 831,
              "total_rows_inc_nulls": 1000,
              "value_count": 3
             },
             {
              "distinct_value_count": 335,
              "percentile_ex_nulls": 0.2382671480144405,
              "percentile_inc_nulls": 0.367,
              "proportion_of_non_null_rows": 0.098676293622142,
              "sum_tokens_in_value_count_group": 82,
              "total_non_null_rows": 831,
              "total_rows_inc_nulls": 1000,
              "value_count": 2
             },
             {
              "distinct_value_count": 335,
              "percentile_ex_nulls": 0,
              "percentile_inc_nulls": 0.16900000000000004,
              "proportion_of_non_null_rows": 0.23826714801444043,
              "sum_tokens_in_value_count_group": 198,
              "total_non_null_rows": 831,
              "total_rows_inc_nulls": 1000,
              "value_count": 1
             }
            ]
           },
           "encoding": {
            "tooltip": [
             {
              "field": "value_count",
              "type": "quantitative"
             },
             {
              "field": "percentile_ex_nulls",
              "type": "quantitative"
             },
             {
              "field": "percentile_inc_nulls",
              "type": "quantitative"
             },
             {
              "field": "total_non_null_rows",
              "type": "quantitative"
             },
             {
              "field": "total_rows_inc_nulls",
              "type": "quantitative"
             },
             {
              "field": "proportion_of_non_null_rows",
              "type": "quantitative"
             }
            ],
            "x": {
             "field": "percentile_ex_nulls",
             "sort": "descending",
             "title": "Percentile",
             "type": "quantitative"
            },
            "y": {
             "field": "value_count",
             "title": "Count of values",
             "type": "quantitative"
            }
           },
           "mark": {
            "interpolate": "step-after",
            "type": "line"
           },
           "title": {
            "subtitle": "In this col, 169 values (16.9%) are null and there are 335 distinct values",
            "text": "Distribution of counts of values in column first_name"
           }
          },
          {
           "data": {
            "values": [
             {
              "distinct_value_count": 335,
              "total_non_null_rows": 831,
              "total_rows_inc_nulls": 1000,
              "value": "Oliver",
              "value_count": 28
             },
             {
              "distinct_value_count": 335,
              "total_non_null_rows": 831,
              "total_rows_inc_nulls": 1000,
              "value": "Jacob",
              "value_count": 16
             },
             {
              "distinct_value_count": 335,
              "total_non_null_rows": 831,
              "total_rows_inc_nulls": 1000,
              "value": "Freddie",
              "value_count": 15
             },
             {
              "distinct_value_count": 335,
              "total_non_null_rows": 831,
              "total_rows_inc_nulls": 1000,
              "value": "Olivia",
              "value_count": 14
             },
             {
              "distinct_value_count": 335,
              "total_non_null_rows": 831,
              "total_rows_inc_nulls": 1000,
              "value": "James",
              "value_count": 13
             },
             {
              "distinct_value_count": 335,
              "total_non_null_rows": 831,
              "total_rows_inc_nulls": 1000,
              "value": "George",
              "value_count": 12
             },
             {
              "distinct_value_count": 335,
              "total_non_null_rows": 831,
              "total_rows_inc_nulls": 1000,
              "value": "Elizabeth",
              "value_count": 11
             },
             {
              "distinct_value_count": 335,
              "total_non_null_rows": 831,
              "total_rows_inc_nulls": 1000,
              "value": "Alfie",
              "value_count": 11
             },
             {
              "distinct_value_count": 335,
              "total_non_null_rows": 831,
              "total_rows_inc_nulls": 1000,
              "value": "Jessica",
              "value_count": 11
             },
             {
              "distinct_value_count": 335,
              "total_non_null_rows": 831,
              "total_rows_inc_nulls": 1000,
              "value": "Theodore",
              "value_count": 10
             },
             {
              "distinct_value_count": 335,
              "total_non_null_rows": 831,
              "total_rows_inc_nulls": 1000,
              "value": "Logan",
              "value_count": 10
             },
             {
              "distinct_value_count": 335,
              "total_non_null_rows": 831,
              "total_rows_inc_nulls": 1000,
              "value": "Henry",
              "value_count": 9
             },
             {
              "distinct_value_count": 335,
              "total_non_null_rows": 831,
              "total_rows_inc_nulls": 1000,
              "value": "Isla",
              "value_count": 9
             },
             {
              "distinct_value_count": 335,
              "total_non_null_rows": 831,
              "total_rows_inc_nulls": 1000,
              "value": "Harry",
              "value_count": 9
             },
             {
              "distinct_value_count": 335,
              "total_non_null_rows": 831,
              "total_rows_inc_nulls": 1000,
              "value": "Amelia",
              "value_count": 9
             },
             {
              "distinct_value_count": 335,
              "total_non_null_rows": 831,
              "total_rows_inc_nulls": 1000,
              "value": "Mason",
              "value_count": 9
             },
             {
              "distinct_value_count": 335,
              "total_non_null_rows": 831,
              "total_rows_inc_nulls": 1000,
              "value": "Lola",
              "value_count": 8
             },
             {
              "distinct_value_count": 335,
              "total_non_null_rows": 831,
              "total_rows_inc_nulls": 1000,
              "value": "Isabelle",
              "value_count": 8
             },
             {
              "distinct_value_count": 335,
              "total_non_null_rows": 831,
              "total_rows_inc_nulls": 1000,
              "value": "Jayden",
              "value_count": 8
             },
             {
              "distinct_value_count": 335,
              "total_non_null_rows": 831,
              "total_rows_inc_nulls": 1000,
              "value": "Scarlett",
              "value_count": 7
             }
            ]
           },
           "encoding": {
            "tooltip": [
             {
              "field": "value",
              "type": "nominal"
             },
             {
              "field": "value_count",
              "type": "quantitative"
             },
             {
              "field": "total_non_null_rows",
              "type": "quantitative"
             },
             {
              "field": "total_rows_inc_nulls",
              "type": "quantitative"
             }
            ],
            "x": {
             "field": "value",
             "sort": "-y",
             "title": null,
             "type": "nominal"
            },
            "y": {
             "field": "value_count",
             "title": "Value count",
             "type": "quantitative"
            }
           },
           "mark": "bar",
           "title": "Top 20 values by value count"
          },
          {
           "data": {
            "values": [
             {
              "distinct_value_count": 335,
              "total_non_null_rows": 831,
              "total_rows_inc_nulls": 1000,
              "value": "eTheodroe",
              "value_count": 1
             },
             {
              "distinct_value_count": 335,
              "total_non_null_rows": 831,
              "total_rows_inc_nulls": 1000,
              "value": "Icsac",
              "value_count": 1
             },
             {
              "distinct_value_count": 335,
              "total_non_null_rows": 831,
              "total_rows_inc_nulls": 1000,
              "value": "Oievr",
              "value_count": 1
             },
             {
              "distinct_value_count": 335,
              "total_non_null_rows": 831,
              "total_rows_inc_nulls": 1000,
              "value": "Harr",
              "value_count": 1
             },
             {
              "distinct_value_count": 335,
              "total_non_null_rows": 831,
              "total_rows_inc_nulls": 1000,
              "value": "Molly",
              "value_count": 1
             },
             {
              "distinct_value_count": 335,
              "total_non_null_rows": 831,
              "total_rows_inc_nulls": 1000,
              "value": "Eloilt",
              "value_count": 1
             },
             {
              "distinct_value_count": 335,
              "total_non_null_rows": 831,
              "total_rows_inc_nulls": 1000,
              "value": "iElliot",
              "value_count": 1
             },
             {
              "distinct_value_count": 335,
              "total_non_null_rows": 831,
              "total_rows_inc_nulls": 1000,
              "value": "Fdedrie",
              "value_count": 1
             },
             {
              "distinct_value_count": 335,
              "total_non_null_rows": 831,
              "total_rows_inc_nulls": 1000,
              "value": "David",
              "value_count": 1
             },
             {
              "distinct_value_count": 335,
              "total_non_null_rows": 831,
              "total_rows_inc_nulls": 1000,
              "value": "Nicholson",
              "value_count": 1
             }
            ]
           },
           "encoding": {
            "tooltip": [
             {
              "field": "value",
              "type": "nominal"
             },
             {
              "field": "value_count",
              "type": "quantitative"
             },
             {
              "field": "total_non_null_rows",
              "type": "quantitative"
             },
             {
              "field": "total_rows_inc_nulls",
              "type": "quantitative"
             }
            ],
            "x": {
             "field": "value",
             "sort": "-y",
             "title": null,
             "type": "nominal"
            },
            "y": {
             "field": "value_count",
             "scale": {
              "domain": [
               0,
               28
              ]
             },
             "title": "Value count",
             "type": "quantitative"
            }
           },
           "mark": "bar",
           "title": "Bottom 10 values by value count"
          }
         ]
        },
        {
         "hconcat": [
          {
           "data": {
            "values": [
             {
              "distinct_value_count": 565,
              "group_name": "dob",
              "percentile_ex_nulls": 1,
              "percentile_inc_nulls": 1,
              "sum_tokens_in_value_count_group": 90,
              "total_non_null_rows": 1000,
              "total_rows_inc_nulls": 1000,
              "value_count": 6
             },
             {
              "distinct_value_count": 565,
              "percentile_ex_nulls": 0.91,
              "percentile_inc_nulls": 0.91,
              "proportion_of_non_null_rows": 0.09,
              "sum_tokens_in_value_count_group": 90,
              "total_non_null_rows": 1000,
              "total_rows_inc_nulls": 1000,
              "value_count": 6
             },
             {
              "distinct_value_count": 565,
              "percentile_ex_nulls": 0.8049999999999999,
              "percentile_inc_nulls": 0.8049999999999999,
              "proportion_of_non_null_rows": 0.105,
              "sum_tokens_in_value_count_group": 105,
              "total_non_null_rows": 1000,
              "total_rows_inc_nulls": 1000,
              "value_count": 5
             },
             {
              "distinct_value_count": 565,
              "percentile_ex_nulls": 0.653,
              "percentile_inc_nulls": 0.653,
              "proportion_of_non_null_rows": 0.152,
              "sum_tokens_in_value_count_group": 152,
              "total_non_null_rows": 1000,
              "total_rows_inc_nulls": 1000,
              "value_count": 4
             },
             {
              "distinct_value_count": 565,
              "percentile_ex_nulls": 0.509,
              "percentile_inc_nulls": 0.509,
              "proportion_of_non_null_rows": 0.144,
              "sum_tokens_in_value_count_group": 144,
              "total_non_null_rows": 1000,
              "total_rows_inc_nulls": 1000,
              "value_count": 3
             },
             {
              "distinct_value_count": 565,
              "percentile_ex_nulls": 0.377,
              "percentile_inc_nulls": 0.377,
              "proportion_of_non_null_rows": 0.132,
              "sum_tokens_in_value_count_group": 132,
              "total_non_null_rows": 1000,
              "total_rows_inc_nulls": 1000,
              "value_count": 2
             },
             {
              "distinct_value_count": 565,
              "percentile_ex_nulls": 0,
              "percentile_inc_nulls": 0,
              "proportion_of_non_null_rows": 0.377,
              "sum_tokens_in_value_count_group": 377,
              "total_non_null_rows": 1000,
              "total_rows_inc_nulls": 1000,
              "value_count": 1
             }
            ]
           },
           "encoding": {
            "tooltip": [
             {
              "field": "value_count",
              "type": "quantitative"
             },
             {
              "field": "percentile_ex_nulls",
              "type": "quantitative"
             },
             {
              "field": "percentile_inc_nulls",
              "type": "quantitative"
             },
             {
              "field": "total_non_null_rows",
              "type": "quantitative"
             },
             {
              "field": "total_rows_inc_nulls",
              "type": "quantitative"
             },
             {
              "field": "proportion_of_non_null_rows",
              "type": "quantitative"
             }
            ],
            "x": {
             "field": "percentile_ex_nulls",
             "sort": "descending",
             "title": "Percentile",
             "type": "quantitative"
            },
            "y": {
             "field": "value_count",
             "title": "Count of values",
             "type": "quantitative"
            }
           },
           "mark": {
            "interpolate": "step-after",
            "type": "line"
           },
           "title": {
            "subtitle": "In this col, 0 values (0.0%) are null and there are 565 distinct values",
            "text": "Distribution of counts of values in column dob"
           }
          },
          {
           "data": {
            "values": [
             {
              "distinct_value_count": 565,
              "total_non_null_rows": 1000,
              "total_rows_inc_nulls": 1000,
              "value": "2008-02-23",
              "value_count": 6
             },
             {
              "distinct_value_count": 565,
              "total_non_null_rows": 1000,
              "total_rows_inc_nulls": 1000,
              "value": "1972-06-12",
              "value_count": 6
             },
             {
              "distinct_value_count": 565,
              "total_non_null_rows": 1000,
              "total_rows_inc_nulls": 1000,
              "value": "2011-05-26",
              "value_count": 6
             },
             {
              "distinct_value_count": 565,
              "total_non_null_rows": 1000,
              "total_rows_inc_nulls": 1000,
              "value": "1973-03-23",
              "value_count": 6
             },
             {
              "distinct_value_count": 565,
              "total_non_null_rows": 1000,
              "total_rows_inc_nulls": 1000,
              "value": "2002-09-15",
              "value_count": 6
             },
             {
              "distinct_value_count": 565,
              "total_non_null_rows": 1000,
              "total_rows_inc_nulls": 1000,
              "value": "1990-03-08",
              "value_count": 6
             },
             {
              "distinct_value_count": 565,
              "total_non_null_rows": 1000,
              "total_rows_inc_nulls": 1000,
              "value": "2006-12-21",
              "value_count": 6
             },
             {
              "distinct_value_count": 565,
              "total_non_null_rows": 1000,
              "total_rows_inc_nulls": 1000,
              "value": "1983-11-06",
              "value_count": 6
             },
             {
              "distinct_value_count": 565,
              "total_non_null_rows": 1000,
              "total_rows_inc_nulls": 1000,
              "value": "1995-06-21",
              "value_count": 6
             },
             {
              "distinct_value_count": 565,
              "total_non_null_rows": 1000,
              "total_rows_inc_nulls": 1000,
              "value": "2000-04-03",
              "value_count": 6
             },
             {
              "distinct_value_count": 565,
              "total_non_null_rows": 1000,
              "total_rows_inc_nulls": 1000,
              "value": "2017-01-11",
              "value_count": 6
             },
             {
              "distinct_value_count": 565,
              "total_non_null_rows": 1000,
              "total_rows_inc_nulls": 1000,
              "value": "2010-06-22",
              "value_count": 6
             },
             {
              "distinct_value_count": 565,
              "total_non_null_rows": 1000,
              "total_rows_inc_nulls": 1000,
              "value": "1991-04-12",
              "value_count": 6
             },
             {
              "distinct_value_count": 565,
              "total_non_null_rows": 1000,
              "total_rows_inc_nulls": 1000,
              "value": "1973-09-29",
              "value_count": 6
             },
             {
              "distinct_value_count": 565,
              "total_non_null_rows": 1000,
              "total_rows_inc_nulls": 1000,
              "value": "2009-07-06",
              "value_count": 6
             },
             {
              "distinct_value_count": 565,
              "total_non_null_rows": 1000,
              "total_rows_inc_nulls": 1000,
              "value": "1980-06-29",
              "value_count": 5
             },
             {
              "distinct_value_count": 565,
              "total_non_null_rows": 1000,
              "total_rows_inc_nulls": 1000,
              "value": "1974-11-17",
              "value_count": 5
             },
             {
              "distinct_value_count": 565,
              "total_non_null_rows": 1000,
              "total_rows_inc_nulls": 1000,
              "value": "2013-10-15",
              "value_count": 5
             },
             {
              "distinct_value_count": 565,
              "total_non_null_rows": 1000,
              "total_rows_inc_nulls": 1000,
              "value": "1970-12-17",
              "value_count": 5
             },
             {
              "distinct_value_count": 565,
              "total_non_null_rows": 1000,
              "total_rows_inc_nulls": 1000,
              "value": "1983-03-16",
              "value_count": 5
             }
            ]
           },
           "encoding": {
            "tooltip": [
             {
              "field": "value",
              "type": "nominal"
             },
             {
              "field": "value_count",
              "type": "quantitative"
             },
             {
              "field": "total_non_null_rows",
              "type": "quantitative"
             },
             {
              "field": "total_rows_inc_nulls",
              "type": "quantitative"
             }
            ],
            "x": {
             "field": "value",
             "sort": "-y",
             "title": null,
             "type": "nominal"
            },
            "y": {
             "field": "value_count",
             "title": "Value count",
             "type": "quantitative"
            }
           },
           "mark": "bar",
           "title": "Top 20 values by value count"
          },
          {
           "data": {
            "values": [
             {
              "distinct_value_count": 565,
              "total_non_null_rows": 1000,
              "total_rows_inc_nulls": 1000,
              "value": "1981-10-11",
              "value_count": 1
             },
             {
              "distinct_value_count": 565,
              "total_non_null_rows": 1000,
              "total_rows_inc_nulls": 1000,
              "value": "1994-01-02",
              "value_count": 1
             },
             {
              "distinct_value_count": 565,
              "total_non_null_rows": 1000,
              "total_rows_inc_nulls": 1000,
              "value": "1991-04-05",
              "value_count": 1
             },
             {
              "distinct_value_count": 565,
              "total_non_null_rows": 1000,
              "total_rows_inc_nulls": 1000,
              "value": "1984-10-03",
              "value_count": 1
             },
             {
              "distinct_value_count": 565,
              "total_non_null_rows": 1000,
              "total_rows_inc_nulls": 1000,
              "value": "1978-09-18",
              "value_count": 1
             },
             {
              "distinct_value_count": 565,
              "total_non_null_rows": 1000,
              "total_rows_inc_nulls": 1000,
              "value": "2010-01-02",
              "value_count": 1
             },
             {
              "distinct_value_count": 565,
              "total_non_null_rows": 1000,
              "total_rows_inc_nulls": 1000,
              "value": "1978-04-01",
              "value_count": 1
             },
             {
              "distinct_value_count": 565,
              "total_non_null_rows": 1000,
              "total_rows_inc_nulls": 1000,
              "value": "1988-05-27",
              "value_count": 1
             },
             {
              "distinct_value_count": 565,
              "total_non_null_rows": 1000,
              "total_rows_inc_nulls": 1000,
              "value": "1973-10-27",
              "value_count": 1
             },
             {
              "distinct_value_count": 565,
              "total_non_null_rows": 1000,
              "total_rows_inc_nulls": 1000,
              "value": "1990-03-07",
              "value_count": 1
             }
            ]
           },
           "encoding": {
            "tooltip": [
             {
              "field": "value",
              "type": "nominal"
             },
             {
              "field": "value_count",
              "type": "quantitative"
             },
             {
              "field": "total_non_null_rows",
              "type": "quantitative"
             },
             {
              "field": "total_rows_inc_nulls",
              "type": "quantitative"
             }
            ],
            "x": {
             "field": "value",
             "sort": "-y",
             "title": null,
             "type": "nominal"
            },
            "y": {
             "field": "value_count",
             "scale": {
              "domain": [
               0,
               6
              ]
             },
             "title": "Value count",
             "type": "quantitative"
            }
           },
           "mark": "bar",
           "title": "Bottom 10 values by value count"
          }
         ]
        },
        {
         "hconcat": [
          {
           "data": {
            "values": [
             {
              "distinct_value_count": 371,
              "group_name": "surname",
              "percentile_ex_nulls": 1,
              "percentile_inc_nulls": 1,
              "sum_tokens_in_value_count_group": 23,
              "total_non_null_rows": 819,
              "total_rows_inc_nulls": 1000,
              "value_count": 23
             },
             {
              "distinct_value_count": 371,
              "percentile_ex_nulls": 0.9719169719169719,
              "percentile_inc_nulls": 0.977,
              "proportion_of_non_null_rows": 0.028083028083028084,
              "sum_tokens_in_value_count_group": 23,
              "total_non_null_rows": 819,
              "total_rows_inc_nulls": 1000,
              "value_count": 23
             },
             {
              "distinct_value_count": 371,
              "percentile_ex_nulls": 0.9377289377289377,
              "percentile_inc_nulls": 0.949,
              "proportion_of_non_null_rows": 0.03418803418803419,
              "sum_tokens_in_value_count_group": 28,
              "total_non_null_rows": 819,
              "total_rows_inc_nulls": 1000,
              "value_count": 14
             },
             {
              "distinct_value_count": 371,
              "percentile_ex_nulls": 0.905982905982906,
              "percentile_inc_nulls": 0.923,
              "proportion_of_non_null_rows": 0.031746031746031744,
              "sum_tokens_in_value_count_group": 26,
              "total_non_null_rows": 819,
              "total_rows_inc_nulls": 1000,
              "value_count": 13
             },
             {
              "distinct_value_count": 371,
              "percentile_ex_nulls": 0.8913308913308913,
              "percentile_inc_nulls": 0.911,
              "proportion_of_non_null_rows": 0.014652014652014652,
              "sum_tokens_in_value_count_group": 12,
              "total_non_null_rows": 819,
              "total_rows_inc_nulls": 1000,
              "value_count": 12
             },
             {
              "distinct_value_count": 371,
              "percentile_ex_nulls": 0.8778998778998779,
              "percentile_inc_nulls": 0.9,
              "proportion_of_non_null_rows": 0.013431013431013432,
              "sum_tokens_in_value_count_group": 11,
              "total_non_null_rows": 819,
              "total_rows_inc_nulls": 1000,
              "value_count": 11
             },
             {
              "distinct_value_count": 371,
              "percentile_ex_nulls": 0.8534798534798534,
              "percentile_inc_nulls": 0.88,
              "proportion_of_non_null_rows": 0.02442002442002442,
              "sum_tokens_in_value_count_group": 20,
              "total_non_null_rows": 819,
              "total_rows_inc_nulls": 1000,
              "value_count": 10
             },
             {
              "distinct_value_count": 371,
              "percentile_ex_nulls": 0.8315018315018314,
              "percentile_inc_nulls": 0.862,
              "proportion_of_non_null_rows": 0.02197802197802198,
              "sum_tokens_in_value_count_group": 18,
              "total_non_null_rows": 819,
              "total_rows_inc_nulls": 1000,
              "value_count": 9
             },
             {
              "distinct_value_count": 371,
              "percentile_ex_nulls": 0.7728937728937729,
              "percentile_inc_nulls": 0.8140000000000001,
              "proportion_of_non_null_rows": 0.05860805860805861,
              "sum_tokens_in_value_count_group": 48,
              "total_non_null_rows": 819,
              "total_rows_inc_nulls": 1000,
              "value_count": 8
             },
             {
              "distinct_value_count": 371,
              "percentile_ex_nulls": 0.7216117216117216,
              "percentile_inc_nulls": 0.772,
              "proportion_of_non_null_rows": 0.05128205128205128,
              "sum_tokens_in_value_count_group": 42,
              "total_non_null_rows": 819,
              "total_rows_inc_nulls": 1000,
              "value_count": 7
             },
             {
              "distinct_value_count": 371,
              "percentile_ex_nulls": 0.663003663003663,
              "percentile_inc_nulls": 0.724,
              "proportion_of_non_null_rows": 0.05860805860805861,
              "sum_tokens_in_value_count_group": 48,
              "total_non_null_rows": 819,
              "total_rows_inc_nulls": 1000,
              "value_count": 6
             },
             {
              "distinct_value_count": 371,
              "percentile_ex_nulls": 0.6080586080586081,
              "percentile_inc_nulls": 0.679,
              "proportion_of_non_null_rows": 0.054945054945054944,
              "sum_tokens_in_value_count_group": 45,
              "total_non_null_rows": 819,
              "total_rows_inc_nulls": 1000,
              "value_count": 5
             },
             {
              "distinct_value_count": 371,
              "percentile_ex_nulls": 0.5054945054945055,
              "percentile_inc_nulls": 0.595,
              "proportion_of_non_null_rows": 0.10256410256410256,
              "sum_tokens_in_value_count_group": 84,
              "total_non_null_rows": 819,
              "total_rows_inc_nulls": 1000,
              "value_count": 4
             },
             {
              "distinct_value_count": 371,
              "percentile_ex_nulls": 0.39560439560439564,
              "percentile_inc_nulls": 0.505,
              "proportion_of_non_null_rows": 0.10989010989010989,
              "sum_tokens_in_value_count_group": 90,
              "total_non_null_rows": 819,
              "total_rows_inc_nulls": 1000,
              "value_count": 3
             },
             {
              "distinct_value_count": 371,
              "percentile_ex_nulls": 0.28815628815628813,
              "percentile_inc_nulls": 0.41700000000000004,
              "proportion_of_non_null_rows": 0.10744810744810745,
              "sum_tokens_in_value_count_group": 88,
              "total_non_null_rows": 819,
              "total_rows_inc_nulls": 1000,
              "value_count": 2
             },
             {
              "distinct_value_count": 371,
              "percentile_ex_nulls": 0,
              "percentile_inc_nulls": 0.18100000000000005,
              "proportion_of_non_null_rows": 0.28815628815628813,
              "sum_tokens_in_value_count_group": 236,
              "total_non_null_rows": 819,
              "total_rows_inc_nulls": 1000,
              "value_count": 1
             }
            ]
           },
           "encoding": {
            "tooltip": [
             {
              "field": "value_count",
              "type": "quantitative"
             },
             {
              "field": "percentile_ex_nulls",
              "type": "quantitative"
             },
             {
              "field": "percentile_inc_nulls",
              "type": "quantitative"
             },
             {
              "field": "total_non_null_rows",
              "type": "quantitative"
             },
             {
              "field": "total_rows_inc_nulls",
              "type": "quantitative"
             },
             {
              "field": "proportion_of_non_null_rows",
              "type": "quantitative"
             }
            ],
            "x": {
             "field": "percentile_ex_nulls",
             "sort": "descending",
             "title": "Percentile",
             "type": "quantitative"
            },
            "y": {
             "field": "value_count",
             "title": "Count of values",
             "type": "quantitative"
            }
           },
           "mark": {
            "interpolate": "step-after",
            "type": "line"
           },
           "title": {
            "subtitle": "In this col, 181 values (18.1%) are null and there are 371 distinct values",
            "text": "Distribution of counts of values in column surname"
           }
          },
          {
           "data": {
            "values": [
             {
              "distinct_value_count": 371,
              "total_non_null_rows": 819,
              "total_rows_inc_nulls": 1000,
              "value": "Jones",
              "value_count": 23
             },
             {
              "distinct_value_count": 371,
              "total_non_null_rows": 819,
              "total_rows_inc_nulls": 1000,
              "value": "Davies",
              "value_count": 14
             },
             {
              "distinct_value_count": 371,
              "total_non_null_rows": 819,
              "total_rows_inc_nulls": 1000,
              "value": "Taylor",
              "value_count": 14
             },
             {
              "distinct_value_count": 371,
              "total_non_null_rows": 819,
              "total_rows_inc_nulls": 1000,
              "value": "Campbell",
              "value_count": 13
             },
             {
              "distinct_value_count": 371,
              "total_non_null_rows": 819,
              "total_rows_inc_nulls": 1000,
              "value": "Hall",
              "value_count": 13
             },
             {
              "distinct_value_count": 371,
              "total_non_null_rows": 819,
              "total_rows_inc_nulls": 1000,
              "value": "Morgan",
              "value_count": 12
             },
             {
              "distinct_value_count": 371,
              "total_non_null_rows": 819,
              "total_rows_inc_nulls": 1000,
              "value": "Smith",
              "value_count": 11
             },
             {
              "distinct_value_count": 371,
              "total_non_null_rows": 819,
              "total_rows_inc_nulls": 1000,
              "value": "King",
              "value_count": 10
             },
             {
              "distinct_value_count": 371,
              "total_non_null_rows": 819,
              "total_rows_inc_nulls": 1000,
              "value": "Russell",
              "value_count": 10
             },
             {
              "distinct_value_count": 371,
              "total_non_null_rows": 819,
              "total_rows_inc_nulls": 1000,
              "value": "Dixon",
              "value_count": 9
             },
             {
              "distinct_value_count": 371,
              "total_non_null_rows": 819,
              "total_rows_inc_nulls": 1000,
              "value": "Wright",
              "value_count": 9
             },
             {
              "distinct_value_count": 371,
              "total_non_null_rows": 819,
              "total_rows_inc_nulls": 1000,
              "value": "Kaur",
              "value_count": 8
             },
             {
              "distinct_value_count": 371,
              "total_non_null_rows": 819,
              "total_rows_inc_nulls": 1000,
              "value": "Lee",
              "value_count": 8
             },
             {
              "distinct_value_count": 371,
              "total_non_null_rows": 819,
              "total_rows_inc_nulls": 1000,
              "value": "May",
              "value_count": 8
             },
             {
              "distinct_value_count": 371,
              "total_non_null_rows": 819,
              "total_rows_inc_nulls": 1000,
              "value": "Williams",
              "value_count": 8
             },
             {
              "distinct_value_count": 371,
              "total_non_null_rows": 819,
              "total_rows_inc_nulls": 1000,
              "value": "Fox",
              "value_count": 8
             },
             {
              "distinct_value_count": 371,
              "total_non_null_rows": 819,
              "total_rows_inc_nulls": 1000,
              "value": "Edwards",
              "value_count": 8
             },
             {
              "distinct_value_count": 371,
              "total_non_null_rows": 819,
              "total_rows_inc_nulls": 1000,
              "value": "Brown",
              "value_count": 7
             },
             {
              "distinct_value_count": 371,
              "total_non_null_rows": 819,
              "total_rows_inc_nulls": 1000,
              "value": "Atkinson",
              "value_count": 7
             },
             {
              "distinct_value_count": 371,
              "total_non_null_rows": 819,
              "total_rows_inc_nulls": 1000,
              "value": "Hughes",
              "value_count": 7
             }
            ]
           },
           "encoding": {
            "tooltip": [
             {
              "field": "value",
              "type": "nominal"
             },
             {
              "field": "value_count",
              "type": "quantitative"
             },
             {
              "field": "total_non_null_rows",
              "type": "quantitative"
             },
             {
              "field": "total_rows_inc_nulls",
              "type": "quantitative"
             }
            ],
            "x": {
             "field": "value",
             "sort": "-y",
             "title": null,
             "type": "nominal"
            },
            "y": {
             "field": "value_count",
             "title": "Value count",
             "type": "quantitative"
            }
           },
           "mark": "bar",
           "title": "Top 20 values by value count"
          },
          {
           "data": {
            "values": [
             {
              "distinct_value_count": 371,
              "total_non_null_rows": 819,
              "total_rows_inc_nulls": 1000,
              "value": "pMurphy",
              "value_count": 1
             },
             {
              "distinct_value_count": 371,
              "total_non_null_rows": 819,
              "total_rows_inc_nulls": 1000,
              "value": "Bailey",
              "value_count": 1
             },
             {
              "distinct_value_count": 371,
              "total_non_null_rows": 819,
              "total_rows_inc_nulls": 1000,
              "value": "Gorodon",
              "value_count": 1
             },
             {
              "distinct_value_count": 371,
              "total_non_null_rows": 819,
              "total_rows_inc_nulls": 1000,
              "value": "Eavns",
              "value_count": 1
             },
             {
              "distinct_value_count": 371,
              "total_non_null_rows": 819,
              "total_rows_inc_nulls": 1000,
              "value": "Writhg",
              "value_count": 1
             },
             {
              "distinct_value_count": 371,
              "total_non_null_rows": 819,
              "total_rows_inc_nulls": 1000,
              "value": "Pcire",
              "value_count": 1
             },
             {
              "distinct_value_count": 371,
              "total_non_null_rows": 819,
              "total_rows_inc_nulls": 1000,
              "value": "hhS",
              "value_count": 1
             },
             {
              "distinct_value_count": 371,
              "total_non_null_rows": 819,
              "total_rows_inc_nulls": 1000,
              "value": "Breyr",
              "value_count": 1
             },
             {
              "distinct_value_count": 371,
              "total_non_null_rows": 819,
              "total_rows_inc_nulls": 1000,
              "value": "Hguehes",
              "value_count": 1
             },
             {
              "distinct_value_count": 371,
              "total_non_null_rows": 819,
              "total_rows_inc_nulls": 1000,
              "value": "Parker",
              "value_count": 1
             }
            ]
           },
           "encoding": {
            "tooltip": [
             {
              "field": "value",
              "type": "nominal"
             },
             {
              "field": "value_count",
              "type": "quantitative"
             },
             {
              "field": "total_non_null_rows",
              "type": "quantitative"
             },
             {
              "field": "total_rows_inc_nulls",
              "type": "quantitative"
             }
            ],
            "x": {
             "field": "value",
             "sort": "-y",
             "title": null,
             "type": "nominal"
            },
            "y": {
             "field": "value_count",
             "scale": {
              "domain": [
               0,
               23
              ]
             },
             "title": "Value count",
             "type": "quantitative"
            }
           },
           "mark": "bar",
           "title": "Bottom 10 values by value count"
          }
         ]
        },
        {
         "hconcat": [
          {
           "data": {
            "values": [
             {
              "distinct_value_count": 218,
              "group_name": "city",
              "percentile_ex_nulls": 1,
              "percentile_inc_nulls": 1,
              "sum_tokens_in_value_count_group": 173,
              "total_non_null_rows": 813,
              "total_rows_inc_nulls": 1000,
              "value_count": 173
             },
             {
              "distinct_value_count": 218,
              "percentile_ex_nulls": 0.7872078720787208,
              "percentile_inc_nulls": 0.827,
              "proportion_of_non_null_rows": 0.21279212792127922,
              "sum_tokens_in_value_count_group": 173,
              "total_non_null_rows": 813,
              "total_rows_inc_nulls": 1000,
              "value_count": 173
             },
             {
              "distinct_value_count": 218,
              "percentile_ex_nulls": 0.7380073800738007,
              "percentile_inc_nulls": 0.787,
              "proportion_of_non_null_rows": 0.04920049200492005,
              "sum_tokens_in_value_count_group": 40,
              "total_non_null_rows": 813,
              "total_rows_inc_nulls": 1000,
              "value_count": 40
             },
             {
              "distinct_value_count": 218,
              "percentile_ex_nulls": 0.6974169741697417,
              "percentile_inc_nulls": 0.754,
              "proportion_of_non_null_rows": 0.04059040590405904,
              "sum_tokens_in_value_count_group": 33,
              "total_non_null_rows": 813,
              "total_rows_inc_nulls": 1000,
              "value_count": 33
             },
             {
              "distinct_value_count": 218,
              "percentile_ex_nulls": 0.6715867158671587,
              "percentile_inc_nulls": 0.733,
              "proportion_of_non_null_rows": 0.025830258302583026,
              "sum_tokens_in_value_count_group": 21,
              "total_non_null_rows": 813,
              "total_rows_inc_nulls": 1000,
              "value_count": 21
             },
             {
              "distinct_value_count": 218,
              "percentile_ex_nulls": 0.6494464944649446,
              "percentile_inc_nulls": 0.7150000000000001,
              "proportion_of_non_null_rows": 0.02214022140221402,
              "sum_tokens_in_value_count_group": 18,
              "total_non_null_rows": 813,
              "total_rows_inc_nulls": 1000,
              "value_count": 18
             },
             {
              "distinct_value_count": 218,
              "percentile_ex_nulls": 0.6076260762607626,
              "percentile_inc_nulls": 0.681,
              "proportion_of_non_null_rows": 0.041820418204182044,
              "sum_tokens_in_value_count_group": 34,
              "total_non_null_rows": 813,
              "total_rows_inc_nulls": 1000,
              "value_count": 17
             },
             {
              "distinct_value_count": 218,
              "percentile_ex_nulls": 0.5682656826568266,
              "percentile_inc_nulls": 0.649,
              "proportion_of_non_null_rows": 0.03936039360393604,
              "sum_tokens_in_value_count_group": 32,
              "total_non_null_rows": 813,
              "total_rows_inc_nulls": 1000,
              "value_count": 16
             },
             {
              "distinct_value_count": 218,
              "percentile_ex_nulls": 0.5166051660516605,
              "percentile_inc_nulls": 0.607,
              "proportion_of_non_null_rows": 0.05166051660516605,
              "sum_tokens_in_value_count_group": 42,
              "total_non_null_rows": 813,
              "total_rows_inc_nulls": 1000,
              "value_count": 14
             },
             {
              "distinct_value_count": 218,
              "percentile_ex_nulls": 0.48462484624846247,
              "percentile_inc_nulls": 0.581,
              "proportion_of_non_null_rows": 0.03198031980319803,
              "sum_tokens_in_value_count_group": 26,
              "total_non_null_rows": 813,
              "total_rows_inc_nulls": 1000,
              "value_count": 13
             },
             {
              "distinct_value_count": 218,
              "percentile_ex_nulls": 0.44034440344403447,
              "percentile_inc_nulls": 0.5449999999999999,
              "proportion_of_non_null_rows": 0.04428044280442804,
              "sum_tokens_in_value_count_group": 36,
              "total_non_null_rows": 813,
              "total_rows_inc_nulls": 1000,
              "value_count": 12
             },
             {
              "distinct_value_count": 218,
              "percentile_ex_nulls": 0.41574415744157445,
              "percentile_inc_nulls": 0.525,
              "proportion_of_non_null_rows": 0.024600246002460024,
              "sum_tokens_in_value_count_group": 20,
              "total_non_null_rows": 813,
              "total_rows_inc_nulls": 1000,
              "value_count": 10
             },
             {
              "distinct_value_count": 218,
              "percentile_ex_nulls": 0.3936039360393604,
              "percentile_inc_nulls": 0.507,
              "proportion_of_non_null_rows": 0.02214022140221402,
              "sum_tokens_in_value_count_group": 18,
              "total_non_null_rows": 813,
              "total_rows_inc_nulls": 1000,
              "value_count": 9
             },
             {
              "distinct_value_count": 218,
              "percentile_ex_nulls": 0.3640836408364083,
              "percentile_inc_nulls": 0.483,
              "proportion_of_non_null_rows": 0.02952029520295203,
              "sum_tokens_in_value_count_group": 24,
              "total_non_null_rows": 813,
              "total_rows_inc_nulls": 1000,
              "value_count": 8
             },
             {
              "distinct_value_count": 218,
              "percentile_ex_nulls": 0.3124231242312423,
              "percentile_inc_nulls": 0.44099999999999995,
              "proportion_of_non_null_rows": 0.05166051660516605,
              "sum_tokens_in_value_count_group": 42,
              "total_non_null_rows": 813,
              "total_rows_inc_nulls": 1000,
              "value_count": 7
             },
             {
              "distinct_value_count": 218,
              "percentile_ex_nulls": 0.28290282902829034,
              "percentile_inc_nulls": 0.41700000000000004,
              "proportion_of_non_null_rows": 0.02952029520295203,
              "sum_tokens_in_value_count_group": 24,
              "total_non_null_rows": 813,
              "total_rows_inc_nulls": 1000,
              "value_count": 6
             },
             {
              "distinct_value_count": 218,
              "percentile_ex_nulls": 0.2583025830258303,
              "percentile_inc_nulls": 0.397,
              "proportion_of_non_null_rows": 0.024600246002460024,
              "sum_tokens_in_value_count_group": 20,
              "total_non_null_rows": 813,
              "total_rows_inc_nulls": 1000,
              "value_count": 5
             },
             {
              "distinct_value_count": 218,
              "percentile_ex_nulls": 0.24354243542435428,
              "percentile_inc_nulls": 0.385,
              "proportion_of_non_null_rows": 0.014760147601476014,
              "sum_tokens_in_value_count_group": 12,
              "total_non_null_rows": 813,
              "total_rows_inc_nulls": 1000,
              "value_count": 4
             },
             {
              "distinct_value_count": 218,
              "percentile_ex_nulls": 0.22878228782287824,
              "percentile_inc_nulls": 0.373,
              "proportion_of_non_null_rows": 0.014760147601476014,
              "sum_tokens_in_value_count_group": 12,
              "total_non_null_rows": 813,
              "total_rows_inc_nulls": 1000,
              "value_count": 3
             },
             {
              "distinct_value_count": 218,
              "percentile_ex_nulls": 0.1968019680196802,
              "percentile_inc_nulls": 0.347,
              "proportion_of_non_null_rows": 0.03198031980319803,
              "sum_tokens_in_value_count_group": 26,
              "total_non_null_rows": 813,
              "total_rows_inc_nulls": 1000,
              "value_count": 2
             },
             {
              "distinct_value_count": 218,
              "percentile_ex_nulls": 0,
              "percentile_inc_nulls": 0.18700000000000006,
              "proportion_of_non_null_rows": 0.1968019680196802,
              "sum_tokens_in_value_count_group": 160,
              "total_non_null_rows": 813,
              "total_rows_inc_nulls": 1000,
              "value_count": 1
             }
            ]
           },
           "encoding": {
            "tooltip": [
             {
              "field": "value_count",
              "type": "quantitative"
             },
             {
              "field": "percentile_ex_nulls",
              "type": "quantitative"
             },
             {
              "field": "percentile_inc_nulls",
              "type": "quantitative"
             },
             {
              "field": "total_non_null_rows",
              "type": "quantitative"
             },
             {
              "field": "total_rows_inc_nulls",
              "type": "quantitative"
             },
             {
              "field": "proportion_of_non_null_rows",
              "type": "quantitative"
             }
            ],
            "x": {
             "field": "percentile_ex_nulls",
             "sort": "descending",
             "title": "Percentile",
             "type": "quantitative"
            },
            "y": {
             "field": "value_count",
             "title": "Count of values",
             "type": "quantitative"
            }
           },
           "mark": {
            "interpolate": "step-after",
            "type": "line"
           },
           "title": {
            "subtitle": "In this col, 187 values (18.7%) are null and there are 218 distinct values",
            "text": "Distribution of counts of values in column city"
           }
          },
          {
           "data": {
            "values": [
             {
              "distinct_value_count": 218,
              "total_non_null_rows": 813,
              "total_rows_inc_nulls": 1000,
              "value": "London",
              "value_count": 173
             },
             {
              "distinct_value_count": 218,
              "total_non_null_rows": 813,
              "total_rows_inc_nulls": 1000,
              "value": "Birmingham",
              "value_count": 40
             },
             {
              "distinct_value_count": 218,
              "total_non_null_rows": 813,
              "total_rows_inc_nulls": 1000,
              "value": "Liverpool",
              "value_count": 33
             },
             {
              "distinct_value_count": 218,
              "total_non_null_rows": 813,
              "total_rows_inc_nulls": 1000,
              "value": "Coventry",
              "value_count": 21
             },
             {
              "distinct_value_count": 218,
              "total_non_null_rows": 813,
              "total_rows_inc_nulls": 1000,
              "value": "Newcastle-upon-Tyne",
              "value_count": 18
             },
             {
              "distinct_value_count": 218,
              "total_non_null_rows": 813,
              "total_rows_inc_nulls": 1000,
              "value": "Leeds",
              "value_count": 17
             },
             {
              "distinct_value_count": 218,
              "total_non_null_rows": 813,
              "total_rows_inc_nulls": 1000,
              "value": "Manchester",
              "value_count": 17
             },
             {
              "distinct_value_count": 218,
              "total_non_null_rows": 813,
              "total_rows_inc_nulls": 1000,
              "value": "Bristol",
              "value_count": 16
             },
             {
              "distinct_value_count": 218,
              "total_non_null_rows": 813,
              "total_rows_inc_nulls": 1000,
              "value": "Aberdeen",
              "value_count": 16
             },
             {
              "distinct_value_count": 218,
              "total_non_null_rows": 813,
              "total_rows_inc_nulls": 1000,
              "value": "Southend-on-Sea",
              "value_count": 14
             },
             {
              "distinct_value_count": 218,
              "total_non_null_rows": 813,
              "total_rows_inc_nulls": 1000,
              "value": "Salford",
              "value_count": 14
             },
             {
              "distinct_value_count": 218,
              "total_non_null_rows": 813,
              "total_rows_inc_nulls": 1000,
              "value": "Portsmouth",
              "value_count": 14
             },
             {
              "distinct_value_count": 218,
              "total_non_null_rows": 813,
              "total_rows_inc_nulls": 1000,
              "value": "Swansea",
              "value_count": 13
             },
             {
              "distinct_value_count": 218,
              "total_non_null_rows": 813,
              "total_rows_inc_nulls": 1000,
              "value": "Kingston-upon-Hull",
              "value_count": 13
             },
             {
              "distinct_value_count": 218,
              "total_non_null_rows": 813,
              "total_rows_inc_nulls": 1000,
              "value": "Reading",
              "value_count": 12
             },
             {
              "distinct_value_count": 218,
              "total_non_null_rows": 813,
              "total_rows_inc_nulls": 1000,
              "value": "Cardiff",
              "value_count": 12
             },
             {
              "distinct_value_count": 218,
              "total_non_null_rows": 813,
              "total_rows_inc_nulls": 1000,
              "value": "Plymouth",
              "value_count": 12
             },
             {
              "distinct_value_count": 218,
              "total_non_null_rows": 813,
              "total_rows_inc_nulls": 1000,
              "value": "Swindon",
              "value_count": 10
             },
             {
              "distinct_value_count": 218,
              "total_non_null_rows": 813,
              "total_rows_inc_nulls": 1000,
              "value": "Huddersfield",
              "value_count": 10
             },
             {
              "distinct_value_count": 218,
              "total_non_null_rows": 813,
              "total_rows_inc_nulls": 1000,
              "value": "Bradford",
              "value_count": 9
             }
            ]
           },
           "encoding": {
            "tooltip": [
             {
              "field": "value",
              "type": "nominal"
             },
             {
              "field": "value_count",
              "type": "quantitative"
             },
             {
              "field": "total_non_null_rows",
              "type": "quantitative"
             },
             {
              "field": "total_rows_inc_nulls",
              "type": "quantitative"
             }
            ],
            "x": {
             "field": "value",
             "sort": "-y",
             "title": null,
             "type": "nominal"
            },
            "y": {
             "field": "value_count",
             "title": "Value count",
             "type": "quantitative"
            }
           },
           "mark": "bar",
           "title": "Top 20 values by value count"
          },
          {
           "data": {
            "values": [
             {
              "distinct_value_count": 218,
              "total_non_null_rows": 813,
              "total_rows_inc_nulls": 1000,
              "value": "Pootsmruth",
              "value_count": 1
             },
             {
              "distinct_value_count": 218,
              "total_non_null_rows": 813,
              "total_rows_inc_nulls": 1000,
              "value": "Anberden",
              "value_count": 1
             },
             {
              "distinct_value_count": 218,
              "total_non_null_rows": 813,
              "total_rows_inc_nulls": 1000,
              "value": "Lunton",
              "value_count": 1
             },
             {
              "distinct_value_count": 218,
              "total_non_null_rows": 813,
              "total_rows_inc_nulls": 1000,
              "value": "Snawseaa",
              "value_count": 1
             },
             {
              "distinct_value_count": 218,
              "total_non_null_rows": 813,
              "total_rows_inc_nulls": 1000,
              "value": "Brritsol",
              "value_count": 1
             },
             {
              "distinct_value_count": 218,
              "total_non_null_rows": 813,
              "total_rows_inc_nulls": 1000,
              "value": "fTelford",
              "value_count": 1
             },
             {
              "distinct_value_count": 218,
              "total_non_null_rows": 813,
              "total_rows_inc_nulls": 1000,
              "value": "LondoLn",
              "value_count": 1
             },
             {
              "distinct_value_count": 218,
              "total_non_null_rows": 813,
              "total_rows_inc_nulls": 1000,
              "value": "LeicestLe",
              "value_count": 1
             },
             {
              "distinct_value_count": 218,
              "total_non_null_rows": 813,
              "total_rows_inc_nulls": 1000,
              "value": "Loonon",
              "value_count": 1
             },
             {
              "distinct_value_count": 218,
              "total_non_null_rows": 813,
              "total_rows_inc_nulls": 1000,
              "value": "Petberborough",
              "value_count": 1
             }
            ]
           },
           "encoding": {
            "tooltip": [
             {
              "field": "value",
              "type": "nominal"
             },
             {
              "field": "value_count",
              "type": "quantitative"
             },
             {
              "field": "total_non_null_rows",
              "type": "quantitative"
             },
             {
              "field": "total_rows_inc_nulls",
              "type": "quantitative"
             }
            ],
            "x": {
             "field": "value",
             "sort": "-y",
             "title": null,
             "type": "nominal"
            },
            "y": {
             "field": "value_count",
             "scale": {
              "domain": [
               0,
               173
              ]
             },
             "title": "Value count",
             "type": "quantitative"
            }
           },
           "mark": "bar",
           "title": "Bottom 10 values by value count"
          }
         ]
        },
        {
         "hconcat": [
          {
           "data": {
            "values": [
             {
              "distinct_value_count": 424,
              "group_name": "email",
              "percentile_ex_nulls": 1,
              "percentile_inc_nulls": 1,
              "sum_tokens_in_value_count_group": 30,
              "total_non_null_rows": 789,
              "total_rows_inc_nulls": 1000,
              "value_count": 6
             },
             {
              "distinct_value_count": 424,
              "percentile_ex_nulls": 0.9619771863117871,
              "percentile_inc_nulls": 0.97,
              "proportion_of_non_null_rows": 0.03802281368821293,
              "sum_tokens_in_value_count_group": 30,
              "total_non_null_rows": 789,
              "total_rows_inc_nulls": 1000,
              "value_count": 6
             },
             {
              "distinct_value_count": 424,
              "percentile_ex_nulls": 0.8479087452471483,
              "percentile_inc_nulls": 0.88,
              "proportion_of_non_null_rows": 0.11406844106463879,
              "sum_tokens_in_value_count_group": 90,
              "total_non_null_rows": 789,
              "total_rows_inc_nulls": 1000,
              "value_count": 5
             },
             {
              "distinct_value_count": 424,
              "percentile_ex_nulls": 0.6653992395437263,
              "percentile_inc_nulls": 0.736,
              "proportion_of_non_null_rows": 0.18250950570342206,
              "sum_tokens_in_value_count_group": 144,
              "total_non_null_rows": 789,
              "total_rows_inc_nulls": 1000,
              "value_count": 4
             },
             {
              "distinct_value_count": 424,
              "percentile_ex_nulls": 0.47148288973384034,
              "percentile_inc_nulls": 0.583,
              "proportion_of_non_null_rows": 0.19391634980988592,
              "sum_tokens_in_value_count_group": 153,
              "total_non_null_rows": 789,
              "total_rows_inc_nulls": 1000,
              "value_count": 3
             },
             {
              "distinct_value_count": 424,
              "percentile_ex_nulls": 0.32446134347275035,
              "percentile_inc_nulls": 0.46699999999999997,
              "proportion_of_non_null_rows": 0.14702154626108999,
              "sum_tokens_in_value_count_group": 116,
              "total_non_null_rows": 789,
              "total_rows_inc_nulls": 1000,
              "value_count": 2
             },
             {
              "distinct_value_count": 424,
              "percentile_ex_nulls": 0,
              "percentile_inc_nulls": 0.21099999999999997,
              "proportion_of_non_null_rows": 0.3244613434727503,
              "sum_tokens_in_value_count_group": 256,
              "total_non_null_rows": 789,
              "total_rows_inc_nulls": 1000,
              "value_count": 1
             }
            ]
           },
           "encoding": {
            "tooltip": [
             {
              "field": "value_count",
              "type": "quantitative"
             },
             {
              "field": "percentile_ex_nulls",
              "type": "quantitative"
             },
             {
              "field": "percentile_inc_nulls",
              "type": "quantitative"
             },
             {
              "field": "total_non_null_rows",
              "type": "quantitative"
             },
             {
              "field": "total_rows_inc_nulls",
              "type": "quantitative"
             },
             {
              "field": "proportion_of_non_null_rows",
              "type": "quantitative"
             }
            ],
            "x": {
             "field": "percentile_ex_nulls",
             "sort": "descending",
             "title": "Percentile",
             "type": "quantitative"
            },
            "y": {
             "field": "value_count",
             "title": "Count of values",
             "type": "quantitative"
            }
           },
           "mark": {
            "interpolate": "step-after",
            "type": "line"
           },
           "title": {
            "subtitle": "In this col, 211 values (21.1%) are null and there are 424 distinct values",
            "text": "Distribution of counts of values in column email"
           }
          },
          {
           "data": {
            "values": [
             {
              "distinct_value_count": 424,
              "total_non_null_rows": 789,
              "total_rows_inc_nulls": 1000,
              "value": "omoore64@randall.com",
              "value_count": 6
             },
             {
              "distinct_value_count": 424,
              "total_non_null_rows": 789,
              "total_rows_inc_nulls": 1000,
              "value": "j.williams@levine-johnson.com",
              "value_count": 6
             },
             {
              "distinct_value_count": 424,
              "total_non_null_rows": 789,
              "total_rows_inc_nulls": 1000,
              "value": "fb@nelson.com",
              "value_count": 6
             },
             {
              "distinct_value_count": 424,
              "total_non_null_rows": 789,
              "total_rows_inc_nulls": 1000,
              "value": "jessica.miller@johnson.com",
              "value_count": 6
             },
             {
              "distinct_value_count": 424,
              "total_non_null_rows": 789,
              "total_rows_inc_nulls": 1000,
              "value": "iwilkinson@bush.com",
              "value_count": 6
             },
             {
              "distinct_value_count": 424,
              "total_non_null_rows": 789,
              "total_rows_inc_nulls": 1000,
              "value": "elizataylor@marshall.com",
              "value_count": 5
             },
             {
              "distinct_value_count": 424,
              "total_non_null_rows": 789,
              "total_rows_inc_nulls": 1000,
              "value": "r.cole1@ramirez-anthony.com",
              "value_count": 5
             },
             {
              "distinct_value_count": 424,
              "total_non_null_rows": 789,
              "total_rows_inc_nulls": 1000,
              "value": "dh@powell.net",
              "value_count": 5
             },
             {
              "distinct_value_count": 424,
              "total_non_null_rows": 789,
              "total_rows_inc_nulls": 1000,
              "value": "riley.k@zavala.com",
              "value_count": 5
             },
             {
              "distinct_value_count": 424,
              "total_non_null_rows": 789,
              "total_rows_inc_nulls": 1000,
              "value": "hollythomson3@levine-jones.com",
              "value_count": 5
             },
             {
              "distinct_value_count": 424,
              "total_non_null_rows": 789,
              "total_rows_inc_nulls": 1000,
              "value": "jacob.a83@clark.com",
              "value_count": 5
             },
             {
              "distinct_value_count": 424,
              "total_non_null_rows": 789,
              "total_rows_inc_nulls": 1000,
              "value": "e.b30@little.biz",
              "value_count": 5
             },
             {
              "distinct_value_count": 424,
              "total_non_null_rows": 789,
              "total_rows_inc_nulls": 1000,
              "value": "lrobinson@wolf.org",
              "value_count": 5
             },
             {
              "distinct_value_count": 424,
              "total_non_null_rows": 789,
              "total_rows_inc_nulls": 1000,
              "value": "ohughes@page-kim.info",
              "value_count": 5
             },
             {
              "distinct_value_count": 424,
              "total_non_null_rows": 789,
              "total_rows_inc_nulls": 1000,
              "value": "james.d@merritt-scott.com",
              "value_count": 5
             },
             {
              "distinct_value_count": 424,
              "total_non_null_rows": 789,
              "total_rows_inc_nulls": 1000,
              "value": "a.s@humphrey.com",
              "value_count": 5
             },
             {
              "distinct_value_count": 424,
              "total_non_null_rows": 789,
              "total_rows_inc_nulls": 1000,
              "value": "noahh78@diaz-clark.com",
              "value_count": 5
             },
             {
              "distinct_value_count": 424,
              "total_non_null_rows": 789,
              "total_rows_inc_nulls": 1000,
              "value": "lily.robinson73@peterson.biz",
              "value_count": 5
             },
             {
              "distinct_value_count": 424,
              "total_non_null_rows": 789,
              "total_rows_inc_nulls": 1000,
              "value": "l.armstrong@reyes-campbell.net",
              "value_count": 5
             },
             {
              "distinct_value_count": 424,
              "total_non_null_rows": 789,
              "total_rows_inc_nulls": 1000,
              "value": "leahrussell@charles.net",
              "value_count": 5
             }
            ]
           },
           "encoding": {
            "tooltip": [
             {
              "field": "value",
              "type": "nominal"
             },
             {
              "field": "value_count",
              "type": "quantitative"
             },
             {
              "field": "total_non_null_rows",
              "type": "quantitative"
             },
             {
              "field": "total_rows_inc_nulls",
              "type": "quantitative"
             }
            ],
            "x": {
             "field": "value",
             "sort": "-y",
             "title": null,
             "type": "nominal"
            },
            "y": {
             "field": "value_count",
             "title": "Value count",
             "type": "quantitative"
            }
           },
           "mark": "bar",
           "title": "Top 20 values by value count"
          },
          {
           "data": {
            "values": [
             {
              "distinct_value_count": 424,
              "total_non_null_rows": 789,
              "total_rows_inc_nulls": 1000,
              "value": "o.griffiths90@reyes-coleman.com",
              "value_count": 1
             },
             {
              "distinct_value_count": 424,
              "total_non_null_rows": 789,
              "total_rows_inc_nulls": 1000,
              "value": "j.lee86@ro6berson.com",
              "value_count": 1
             },
             {
              "distinct_value_count": 424,
              "total_non_null_rows": 789,
              "total_rows_inc_nulls": 1000,
              "value": "charlottej68@lee-taylor.org",
              "value_count": 1
             },
             {
              "distinct_value_count": 424,
              "total_non_null_rows": 789,
              "total_rows_inc_nulls": 1000,
              "value": "e.e@ay.cod",
              "value_count": 1
             },
             {
              "distinct_value_count": 424,
              "total_non_null_rows": 789,
              "total_rows_inc_nulls": 1000,
              "value": "dracdonald@rivers-glass.biz",
              "value_count": 1
             },
             {
              "distinct_value_count": 424,
              "total_non_null_rows": 789,
              "total_rows_inc_nulls": 1000,
              "value": "lucas.harrington@com",
              "value_count": 1
             },
             {
              "distinct_value_count": 424,
              "total_non_null_rows": 789,
              "total_rows_inc_nulls": 1000,
              "value": "l.feruson46@sahh.com",
              "value_count": 1
             },
             {
              "distinct_value_count": 424,
              "total_non_null_rows": 789,
              "total_rows_inc_nulls": 1000,
              "value": "hsimmons@roberts.com",
              "value_count": 1
             },
             {
              "distinct_value_count": 424,
              "total_non_null_rows": 789,
              "total_rows_inc_nulls": 1000,
              "value": "lbrooks9@omiller.org",
              "value_count": 1
             },
             {
              "distinct_value_count": 424,
              "total_non_null_rows": 789,
              "total_rows_inc_nulls": 1000,
              "value": "lolat86@bishop-giles.om",
              "value_count": 1
             }
            ]
           },
           "encoding": {
            "tooltip": [
             {
              "field": "value",
              "type": "nominal"
             },
             {
              "field": "value_count",
              "type": "quantitative"
             },
             {
              "field": "total_non_null_rows",
              "type": "quantitative"
             },
             {
              "field": "total_rows_inc_nulls",
              "type": "quantitative"
             }
            ],
            "x": {
             "field": "value",
             "sort": "-y",
             "title": null,
             "type": "nominal"
            },
            "y": {
             "field": "value_count",
             "scale": {
              "domain": [
               0,
               6
              ]
             },
             "title": "Value count",
             "type": "quantitative"
            }
           },
           "mark": "bar",
           "title": "Bottom 10 values by value count"
          }
         ]
        }
       ]
      },
      "text/plain": [
       "<VegaLite 4 object>\n",
       "\n",
       "If you see this message, it means the renderer has not been properly enabled\n",
       "for the frontend that you are using. For more information, see\n",
       "https://altair-viz.github.io/user_guide/troubleshooting.html\n"
      ]
     },
     "execution_count": 6,
     "metadata": {},
     "output_type": "execute_result"
    }
   ],
   "source": [
    "import altair as alt\n",
    "alt.renderers.enable('mimetype')\n",
    "column_value_frequencies_chart(['first_name', \"surname\", \"dob\", \"city\", \"email\"], df, spark)"
   ]
  },
  {
   "cell_type": "markdown",
   "metadata": {},
   "source": [
    "In this step, with real world data, we would do quite a bit of data cleaning work to do things like standarise names (eg. making them all upper case, splitting out multiple names), cleaning up dates, etc.  Some useful functions are available in [splink_data_standardisation](https://github.com/moj-analytical-services/splink_data_standardisation)\n",
    "\n",
    "This will be different for every dataset, but the aim is to make it as easy as possible for Splink to spot similarities and difference between fields.\n",
    "\n",
    "Now that we understand the data, we are ready to start using Splink."
   ]
  },
  {
   "cell_type": "markdown",
   "metadata": {
    "jp-MarkdownHeadingCollapsed": true,
    "tags": []
   },
   "source": [
    "## Step 4: Decide on a blocking approach\n",
    "\n",
    "In most large datasets, it will be computationally intractable to compare every row with every other row.  We can use a technique called blocking to dramatically reduce the number of comparisons by comparing only records that adhere to certain rules, such as that the first name and date of birth must be equal .  Blocking is described further [here](https://toolkit.data.gov.au/Data_Linking_Information_Series_Sheet_4:_Probabilistic_linking.html).\n",
    "\n",
    "The above profling charts are useful to understand which blocking rules may be effective.  For example, we can see that that the forename 'George' is the most prevalant in the dataset, occurring 22 times.  If we block on forename, $\\frac{n\\left(n-1\\right)}2$ comparisons will be generated amongst Georges, with each instance being compared to each other.  This is probably viable in terms of the number of comparisons generated.  On the other hand, London appears over 250 times, and so blocking on city would generate a very large number of comparisons where both records had `city = London`.  \n",
    "\n",
    "Whilst blocking this is useful in reducing record comparisons, the problem is that its rare to find a blocking rule which eliminates enough record comparisons, and does not eliminate true matches (i.e. which has perfect recall).  \n",
    "\n",
    "The solution to this problem is generally to use several different blocking rules - so for example, to generate record comparisons based on either the rule that first name must be equal, or that surname must be equal.  This means that the blocking approach will only eliminate true comparisons when both first and surname match, which will happen much less often than either one individually.\n",
    "\n",
    "Unfortuantely, it is theoretically invalid to estimate the Fellegi Sunter model on comparisons generated from multiple blocking rules, becauase it breaks the assumption of conditional independece.\n",
    "\n",
    "The recommended approach is to estimate different models, one for each blocking rule, and combine the results. \n",
    "\n",
    "We will demonstrate how to combined models in a separate notebook.  In this notebook we demonstrate how to run the model for a single rule, `\"l.first_name = r.first_name\"`"
   ]
  },
  {
   "cell_type": "markdown",
   "metadata": {},
   "source": [
    "More generally, deciding on appropriate blocking rules can be challenging for large data.  Splink is able to analyse blocking rules to give the user feedback on the amount of computation they imply.\n",
    "\n",
    "For example:"
   ]
  },
  {
   "cell_type": "code",
   "execution_count": 7,
   "metadata": {},
   "outputs": [
    {
     "name": "stderr",
     "output_type": "stream",
     "text": [
      "/Users/robinlinacre/anaconda3/lib/python3.8/site-packages/splink/default_settings.py:262: UserWarning: You have not specified any blocking rules, meaning all comparisons between the input dataset(s) will be generated and blocking will not be used.For large input datasets, this will generally be computationally intractable because it will generate comparisons equal to the number of rows squared.\n",
      "  warnings.warn(\n"
     ]
    },
    {
     "data": {
      "text/html": [
       "<div>\n",
       "<style scoped>\n",
       "    .dataframe tbody tr th:only-of-type {\n",
       "        vertical-align: middle;\n",
       "    }\n",
       "\n",
       "    .dataframe tbody tr th {\n",
       "        vertical-align: top;\n",
       "    }\n",
       "\n",
       "    .dataframe thead th {\n",
       "        text-align: right;\n",
       "    }\n",
       "</style>\n",
       "<table border=\"1\" class=\"dataframe\">\n",
       "  <thead>\n",
       "    <tr style=\"text-align: right;\">\n",
       "      <th></th>\n",
       "      <th>blocking_rule</th>\n",
       "      <th>total_comparisons_generated_before_filter_applied</th>\n",
       "      <th>total_comparisons_generated_after_filters_applied</th>\n",
       "      <th>largest_group_expr</th>\n",
       "      <th>comparisons_generated_in_largest_group_before_filter_applied</th>\n",
       "      <th>message</th>\n",
       "      <th>join_strategy</th>\n",
       "      <th>join_type</th>\n",
       "      <th>join_hashpartition_columns_left</th>\n",
       "      <th>join_hashpartition_columns_right</th>\n",
       "      <th>post_join_filters</th>\n",
       "    </tr>\n",
       "  </thead>\n",
       "  <tbody>\n",
       "    <tr>\n",
       "      <th>0</th>\n",
       "      <td>l.first_name = r.first_name</td>\n",
       "      <td>4827</td>\n",
       "      <td>1998</td>\n",
       "      <td>Oliver</td>\n",
       "      <td>784.0</td>\n",
       "      <td></td>\n",
       "      <td>SortMergeJoin</td>\n",
       "      <td>Inner</td>\n",
       "      <td>[first_name]</td>\n",
       "      <td>[first_name]</td>\n",
       "      <td>(unique_id &lt; unique_id)</td>\n",
       "    </tr>\n",
       "    <tr>\n",
       "      <th>1</th>\n",
       "      <td>l.first_name = r.first_name and l.surname = r....</td>\n",
       "      <td>1260</td>\n",
       "      <td>287</td>\n",
       "      <td>Isabelle|Hall</td>\n",
       "      <td>36.0</td>\n",
       "      <td></td>\n",
       "      <td>SortMergeJoin</td>\n",
       "      <td>Inner</td>\n",
       "      <td>[first_name, surname]</td>\n",
       "      <td>[first_name, surname]</td>\n",
       "      <td>(unique_id &lt; unique_id)</td>\n",
       "    </tr>\n",
       "    <tr>\n",
       "      <th>2</th>\n",
       "      <td>l.first_name = r.first_name or l.surname = r.s...</td>\n",
       "      <td>1000000</td>\n",
       "      <td>3349</td>\n",
       "      <td>None</td>\n",
       "      <td>NaN</td>\n",
       "      <td>Blocking rule results in Cartesian join so lar...</td>\n",
       "      <td>Cartesian</td>\n",
       "      <td>Cartesian</td>\n",
       "      <td>[]</td>\n",
       "      <td>[]</td>\n",
       "      <td>(unique_id &lt; unique_id) AND ((first_name = fir...</td>\n",
       "    </tr>\n",
       "  </tbody>\n",
       "</table>\n",
       "</div>"
      ],
      "text/plain": [
       "                                       blocking_rule  \\\n",
       "0                        l.first_name = r.first_name   \n",
       "1  l.first_name = r.first_name and l.surname = r....   \n",
       "2  l.first_name = r.first_name or l.surname = r.s...   \n",
       "\n",
       "   total_comparisons_generated_before_filter_applied  \\\n",
       "0                                               4827   \n",
       "1                                               1260   \n",
       "2                                            1000000   \n",
       "\n",
       "   total_comparisons_generated_after_filters_applied largest_group_expr  \\\n",
       "0                                               1998             Oliver   \n",
       "1                                                287      Isabelle|Hall   \n",
       "2                                               3349               None   \n",
       "\n",
       "   comparisons_generated_in_largest_group_before_filter_applied  \\\n",
       "0                                              784.0              \n",
       "1                                               36.0              \n",
       "2                                                NaN              \n",
       "\n",
       "                                             message  join_strategy  \\\n",
       "0                                                     SortMergeJoin   \n",
       "1                                                     SortMergeJoin   \n",
       "2  Blocking rule results in Cartesian join so lar...      Cartesian   \n",
       "\n",
       "   join_type join_hashpartition_columns_left join_hashpartition_columns_right  \\\n",
       "0      Inner                    [first_name]                     [first_name]   \n",
       "1      Inner           [first_name, surname]            [first_name, surname]   \n",
       "2  Cartesian                              []                               []   \n",
       "\n",
       "                                   post_join_filters  \n",
       "0                            (unique_id < unique_id)  \n",
       "1                            (unique_id < unique_id)  \n",
       "2  (unique_id < unique_id) AND ((first_name = fir...  "
      ]
     },
     "execution_count": 7,
     "metadata": {},
     "output_type": "execute_result"
    }
   ],
   "source": [
    "from splink.analyse_blocking_rule import analyse_blocking_rule\n",
    "from splink.default_settings import complete_settings_dict\n",
    "\n",
    "# Usually you'd provide a full setting object, but this skeletal settings object is sufficient for this example \n",
    "splink_settings = {\"link_type\": \"dedupe_only\",\"blocking_rules\": [],\"comparison_columns\": [],}\n",
    "splink_settings = complete_settings_dict(splink_settings, None)\n",
    "blocking_rules = [\n",
    "    'l.first_name = r.first_name',\n",
    "    \"l.first_name = r.first_name and l.surname = r.surname \",\n",
    "    \"l.first_name = r.first_name or l.surname = r.surname \"\n",
    "]\n",
    "\n",
    "rows = []\n",
    "for b in blocking_rules:\n",
    "    row = {}\n",
    "    row[\"blocking_rule\"] = b\n",
    "    rowd = analyse_blocking_rule(df, b, splink_settings, compute_exact_comparisons=True, compute_largest_group=True)\n",
    "    row = {**row, **rowd}\n",
    "    rows.append(row)\n",
    "pd.DataFrame(rows)\n"
   ]
  },
  {
   "cell_type": "markdown",
   "metadata": {},
   "source": [
    "## Step 5:  Configure splink using the `settings` object\n",
    "\n",
    "`splink` configuration options are stored in a settings dictionary.  This dictionary allows significant customisation, and can therefore get quite complex.  \n",
    "\n",
    "💥 We provide an tool for helping to author valid settings dictionaries, which includes tooltips and autocomplete, which you can find [here](http://robinlinacre.com/splink_settings_editor/).\n",
    "\n",
    "Customisation overrides default values built into splink.  For the purposes of this demo, we will specify a simple settings dictionary, which means we will be relying on these sensible defaults.\n",
    "\n",
    "To help with authoring and validation of the settings dictionary, we have written a [json schema](https://json-schema.org/), which can be found [here](https://github.com/moj-analytical-services/splink/blob/master/splink/files/settings_jsonschema.json).  \n",
    "\n",
    "\n"
   ]
  },
  {
   "cell_type": "code",
   "execution_count": 8,
   "metadata": {},
   "outputs": [],
   "source": [
    "settings = {\n",
    "    \"link_type\": \"dedupe_only\",\n",
    "    \"blocking_rules\": [\n",
    "        \"l.first_name = r.first_name\"\n",
    "    ],\n",
    "    \"comparison_columns\": [\n",
    "        {\n",
    "            \"col_name\": \"surname\",\n",
    "            \"num_levels\": 3,\n",
    "            \"term_frequency_adjustments\": True\n",
    "        },\n",
    "        {\n",
    "            \"col_name\": \"dob\"\n",
    "        },\n",
    "        {\n",
    "            \"col_name\": \"city\",\n",
    "            \"term_frequency_adjustments\": True\n",
    "        },\n",
    "        {\n",
    "            \"col_name\": \"email\"\n",
    "        }\n",
    "    ],\n",
    "    \"additional_columns_to_retain\": [\"group\"],\n",
    "    \"em_convergence\": 0.01\n",
    "}"
   ]
  },
  {
   "cell_type": "markdown",
   "metadata": {},
   "source": [
    "In words, this setting dictionary says:\n",
    "- We are performing a deduplication task (the other options are `link_only`, or `link_and_dedupe`)\n",
    "- The blocking rule states that we will all possibly record comparisons where the first_name is equal.\n",
    "- When comparing records, we will use information from the `surname`, `dob`, `city` and `email` columns to compute a match score.\n",
    "- For `surname`, string comparisons will have three levels:\n",
    "    - Level 2: Strings are exactly the same\n",
    "    - Level 1: Strings are similar \n",
    "    - Level 0: No match\n",
    "- We will make adjustments for term frequencies on the `first_name` columns\n",
    "- We will retain the `group` column in the results even though this is not used as part of comparisons.  This is a labelled dataset and `group` contains the true match - i.e. where group matches, the records pertain to the same person\n",
    "- Will will consider the algorithm to have converged when no parameter changes by more than 0.01 between iterations or four iterations.  (Generally we would allow more than four, but this makes the demo run more quickly)."
   ]
  },
  {
   "cell_type": "markdown",
   "metadata": {},
   "source": [
    "## Step 6:  Estimate u probabilities directly\n",
    "\n",
    "The u probabilities are the probabilities that fields will match given the records do not match.  So, for example, a 'month of birth' column would be expected to match around 1/12 of the time amongst non-matching records\n",
    "\n",
    "For many datasets, the probability that two records selected at random will match is almost zero.  A sample of such pairs of records should therefore almost exclusively contain non-matches.  \n",
    "\n",
    "We can therefore simply assume this dataset contains non-matches only, and directly estimate u probabilities.\n"
   ]
  },
  {
   "cell_type": "code",
   "execution_count": 9,
   "metadata": {},
   "outputs": [
    {
     "name": "stderr",
     "output_type": "stream",
     "text": [
      "                                                                                \r"
     ]
    }
   ],
   "source": [
    "from splink.estimate import estimate_u_values\n",
    "settings_with_u = estimate_u_values(settings, df, spark, fix_u_probabilities=True)"
   ]
  },
  {
   "cell_type": "markdown",
   "metadata": {},
   "source": [
    "We can see that the `u_probabilities` of the settings dictionary are now populated"
   ]
  },
  {
   "cell_type": "code",
   "execution_count": 10,
   "metadata": {},
   "outputs": [
    {
     "name": "stdout",
     "output_type": "stream",
     "text": [
      "{'additional_columns_to_retain': ['group'],\n",
      " 'blocking_rules': ['l.first_name = r.first_name'],\n",
      " 'comparison_columns': [{'col_name': 'surname',\n",
      "                         'fix_u_probabilities': True,\n",
      "                         'num_levels': 3,\n",
      "                         'term_frequency_adjustments': True,\n",
      "                         'u_probabilities': [0.9911783408115926,\n",
      "                                             0.003931683638285105,\n",
      "                                             0.004889975550122249]},\n",
      "                        {'col_name': 'dob',\n",
      "                         'fix_u_probabilities': True,\n",
      "                         'u_probabilities': [0.9982522522522522,\n",
      "                                             0.0017477477477477479]},\n",
      "                        {'col_name': 'city',\n",
      "                         'fix_u_probabilities': True,\n",
      "                         'term_frequency_adjustments': True,\n",
      "                         'u_probabilities': [0.9448524288198547,\n",
      "                                             0.0551475711801453]},\n",
      "                        {'col_name': 'email',\n",
      "                         'fix_u_probabilities': True,\n",
      "                         'u_probabilities': [0.9978061286856716,\n",
      "                                             0.0021938713143283602]}],\n",
      " 'em_convergence': 0.01,\n",
      " 'link_type': 'dedupe_only'}\n"
     ]
    }
   ],
   "source": [
    "from pprint import pprint\n",
    "pprint(settings_with_u)"
   ]
  },
  {
   "cell_type": "markdown",
   "metadata": {},
   "source": [
    "## Step 7:  Estimate match scores using the Expectation Maximisation algorithm\n",
    "\n",
    "\n",
    "Columns are assumed to be strings by default.  See the 'comparison vector settings' notebook for details of configuration options.\n",
    "\n"
   ]
  },
  {
   "cell_type": "code",
   "execution_count": 11,
   "metadata": {},
   "outputs": [
    {
     "name": "stderr",
     "output_type": "stream",
     "text": [
      "INFO:splink.iterate:Iteration 0 complete\n",
      "INFO:splink.model:The maximum change in parameters was 0.38764194352781056 for key dob, level 1\n",
      "INFO:splink.iterate:Iteration 1 complete\n",
      "INFO:splink.model:The maximum change in parameters was 0.08719883014509955 for key email, level 0\n",
      "INFO:splink.iterate:Iteration 2 complete\n",
      "INFO:splink.model:The maximum change in parameters was 0.029532372546610786 for key email, level 1\n",
      "INFO:splink.iterate:Iteration 3 complete\n",
      "INFO:splink.model:The maximum change in parameters was 0.010158203954784617 for key email, level 0\n",
      "INFO:splink.iterate:Iteration 4 complete\n",
      "INFO:splink.model:The maximum change in parameters was 0.0045465469417107635 for key surname, level 0\n",
      "INFO:splink.iterate:EM algorithm has converged\n"
     ]
    }
   ],
   "source": [
    "from splink import Splink\n",
    "\n",
    "linker = Splink(settings_with_u, df, spark)\n",
    "df_e = linker.get_scored_comparisons()"
   ]
  },
  {
   "cell_type": "markdown",
   "metadata": {},
   "source": [
    "## Step 8: Inspect results \n",
    "\n"
   ]
  },
  {
   "cell_type": "code",
   "execution_count": 12,
   "metadata": {},
   "outputs": [
    {
     "data": {
      "text/html": [
       "<div>\n",
       "<style scoped>\n",
       "    .dataframe tbody tr th:only-of-type {\n",
       "        vertical-align: middle;\n",
       "    }\n",
       "\n",
       "    .dataframe tbody tr th {\n",
       "        vertical-align: top;\n",
       "    }\n",
       "\n",
       "    .dataframe thead th {\n",
       "        text-align: right;\n",
       "    }\n",
       "</style>\n",
       "<table border=\"1\" class=\"dataframe\">\n",
       "  <thead>\n",
       "    <tr style=\"text-align: right;\">\n",
       "      <th></th>\n",
       "      <th>match_probability</th>\n",
       "      <th>match_weight</th>\n",
       "      <th>unique_id_l</th>\n",
       "      <th>unique_id_r</th>\n",
       "      <th>group_l</th>\n",
       "      <th>group_r</th>\n",
       "      <th>surname_l</th>\n",
       "      <th>surname_r</th>\n",
       "      <th>dob_l</th>\n",
       "      <th>dob_r</th>\n",
       "      <th>city_l</th>\n",
       "      <th>city_r</th>\n",
       "      <th>email_l</th>\n",
       "      <th>email_r</th>\n",
       "    </tr>\n",
       "  </thead>\n",
       "  <tbody>\n",
       "    <tr>\n",
       "      <th>1547</th>\n",
       "      <td>0.010975</td>\n",
       "      <td>-6.493692</td>\n",
       "      <td>0</td>\n",
       "      <td>1</td>\n",
       "      <td>0</td>\n",
       "      <td>0</td>\n",
       "      <td>Alan</td>\n",
       "      <td>Allen</td>\n",
       "      <td>1971-06-24</td>\n",
       "      <td>1971-05-24</td>\n",
       "      <td>None</td>\n",
       "      <td>None</td>\n",
       "      <td>robert255@smith.net</td>\n",
       "      <td>roberta25@smith.net</td>\n",
       "    </tr>\n",
       "    <tr>\n",
       "      <th>1548</th>\n",
       "      <td>0.910519</td>\n",
       "      <td>3.347027</td>\n",
       "      <td>0</td>\n",
       "      <td>3</td>\n",
       "      <td>0</td>\n",
       "      <td>0</td>\n",
       "      <td>Alan</td>\n",
       "      <td>Alen</td>\n",
       "      <td>1971-06-24</td>\n",
       "      <td>1971-06-24</td>\n",
       "      <td>None</td>\n",
       "      <td>Lonon</td>\n",
       "      <td>robert255@smith.net</td>\n",
       "      <td>None</td>\n",
       "    </tr>\n",
       "    <tr>\n",
       "      <th>1549</th>\n",
       "      <td>0.956607</td>\n",
       "      <td>4.462391</td>\n",
       "      <td>1</td>\n",
       "      <td>3</td>\n",
       "      <td>0</td>\n",
       "      <td>0</td>\n",
       "      <td>Allen</td>\n",
       "      <td>Alen</td>\n",
       "      <td>1971-05-24</td>\n",
       "      <td>1971-06-24</td>\n",
       "      <td>None</td>\n",
       "      <td>Lonon</td>\n",
       "      <td>roberta25@smith.net</td>\n",
       "      <td>None</td>\n",
       "    </tr>\n",
       "    <tr>\n",
       "      <th>717</th>\n",
       "      <td>0.232815</td>\n",
       "      <td>-1.720389</td>\n",
       "      <td>100</td>\n",
       "      <td>330</td>\n",
       "      <td>28</td>\n",
       "      <td>88</td>\n",
       "      <td>None</td>\n",
       "      <td>Richards</td>\n",
       "      <td>2009-08-25</td>\n",
       "      <td>2014-07-10</td>\n",
       "      <td>None</td>\n",
       "      <td>None</td>\n",
       "      <td>e.e@day.com</td>\n",
       "      <td>None</td>\n",
       "    </tr>\n",
       "    <tr>\n",
       "      <th>718</th>\n",
       "      <td>0.112617</td>\n",
       "      <td>-2.978139</td>\n",
       "      <td>100</td>\n",
       "      <td>331</td>\n",
       "      <td>28</td>\n",
       "      <td>88</td>\n",
       "      <td>None</td>\n",
       "      <td>None</td>\n",
       "      <td>2009-08-25</td>\n",
       "      <td>2024-07-07</td>\n",
       "      <td>None</td>\n",
       "      <td>Manchester</td>\n",
       "      <td>e.e@day.com</td>\n",
       "      <td>e.richards16@finley.ifo</td>\n",
       "    </tr>\n",
       "    <tr>\n",
       "      <th>719</th>\n",
       "      <td>0.112617</td>\n",
       "      <td>-2.978139</td>\n",
       "      <td>100</td>\n",
       "      <td>333</td>\n",
       "      <td>28</td>\n",
       "      <td>88</td>\n",
       "      <td>None</td>\n",
       "      <td>Richards</td>\n",
       "      <td>2009-08-25</td>\n",
       "      <td>2014-07-10</td>\n",
       "      <td>None</td>\n",
       "      <td>Mancester</td>\n",
       "      <td>e.e@day.com</td>\n",
       "      <td>e.richards16@finley.info</td>\n",
       "    </tr>\n",
       "    <tr>\n",
       "      <th>268</th>\n",
       "      <td>0.999999</td>\n",
       "      <td>20.177111</td>\n",
       "      <td>101</td>\n",
       "      <td>102</td>\n",
       "      <td>29</td>\n",
       "      <td>29</td>\n",
       "      <td>Griffiths</td>\n",
       "      <td>None</td>\n",
       "      <td>2008-05-07</td>\n",
       "      <td>2008-05-07</td>\n",
       "      <td>Plymouth</td>\n",
       "      <td>Plymouth</td>\n",
       "      <td>a.griffiths@garner-bridges.com</td>\n",
       "      <td>a.griffiths@garner-bridges.com</td>\n",
       "    </tr>\n",
       "    <tr>\n",
       "      <th>269</th>\n",
       "      <td>0.910097</td>\n",
       "      <td>3.339577</td>\n",
       "      <td>101</td>\n",
       "      <td>103</td>\n",
       "      <td>29</td>\n",
       "      <td>29</td>\n",
       "      <td>Griffiths</td>\n",
       "      <td>Griffihs</td>\n",
       "      <td>2008-05-07</td>\n",
       "      <td>2009-04-07</td>\n",
       "      <td>Plymouth</td>\n",
       "      <td>Plyoutm</td>\n",
       "      <td>a.griffiths@garner-bridges.com</td>\n",
       "      <td>None</td>\n",
       "    </tr>\n",
       "    <tr>\n",
       "      <th>270</th>\n",
       "      <td>1.000000</td>\n",
       "      <td>27.598051</td>\n",
       "      <td>101</td>\n",
       "      <td>105</td>\n",
       "      <td>29</td>\n",
       "      <td>29</td>\n",
       "      <td>Griffiths</td>\n",
       "      <td>Griffiths</td>\n",
       "      <td>2008-05-07</td>\n",
       "      <td>2008-05-07</td>\n",
       "      <td>Plymouth</td>\n",
       "      <td>Plymouth</td>\n",
       "      <td>a.griffiths@garner-bridges.com</td>\n",
       "      <td>a.griffiths@garner-bridges.com</td>\n",
       "    </tr>\n",
       "    <tr>\n",
       "      <th>271</th>\n",
       "      <td>0.012038</td>\n",
       "      <td>-6.358757</td>\n",
       "      <td>101</td>\n",
       "      <td>149</td>\n",
       "      <td>29</td>\n",
       "      <td>40</td>\n",
       "      <td>Griffiths</td>\n",
       "      <td>eKelly</td>\n",
       "      <td>2008-05-07</td>\n",
       "      <td>2010-10-09</td>\n",
       "      <td>Plymouth</td>\n",
       "      <td>Birmimghan</td>\n",
       "      <td>a.griffiths@garner-bridges.com</td>\n",
       "      <td>None</td>\n",
       "    </tr>\n",
       "  </tbody>\n",
       "</table>\n",
       "</div>"
      ],
      "text/plain": [
       "      match_probability  match_weight unique_id_l unique_id_r group_l group_r  \\\n",
       "1547           0.010975     -6.493692           0           1       0       0   \n",
       "1548           0.910519      3.347027           0           3       0       0   \n",
       "1549           0.956607      4.462391           1           3       0       0   \n",
       "717            0.232815     -1.720389         100         330      28      88   \n",
       "718            0.112617     -2.978139         100         331      28      88   \n",
       "719            0.112617     -2.978139         100         333      28      88   \n",
       "268            0.999999     20.177111         101         102      29      29   \n",
       "269            0.910097      3.339577         101         103      29      29   \n",
       "270            1.000000     27.598051         101         105      29      29   \n",
       "271            0.012038     -6.358757         101         149      29      40   \n",
       "\n",
       "      surname_l  surname_r       dob_l       dob_r    city_l      city_r  \\\n",
       "1547       Alan      Allen  1971-06-24  1971-05-24      None        None   \n",
       "1548       Alan       Alen  1971-06-24  1971-06-24      None       Lonon   \n",
       "1549      Allen       Alen  1971-05-24  1971-06-24      None       Lonon   \n",
       "717        None   Richards  2009-08-25  2014-07-10      None        None   \n",
       "718        None       None  2009-08-25  2024-07-07      None  Manchester   \n",
       "719        None   Richards  2009-08-25  2014-07-10      None   Mancester   \n",
       "268   Griffiths       None  2008-05-07  2008-05-07  Plymouth    Plymouth   \n",
       "269   Griffiths   Griffihs  2008-05-07  2009-04-07  Plymouth     Plyoutm   \n",
       "270   Griffiths  Griffiths  2008-05-07  2008-05-07  Plymouth    Plymouth   \n",
       "271   Griffiths     eKelly  2008-05-07  2010-10-09  Plymouth  Birmimghan   \n",
       "\n",
       "                             email_l                         email_r  \n",
       "1547             robert255@smith.net             roberta25@smith.net  \n",
       "1548             robert255@smith.net                            None  \n",
       "1549             roberta25@smith.net                            None  \n",
       "717                      e.e@day.com                            None  \n",
       "718                      e.e@day.com         e.richards16@finley.ifo  \n",
       "719                      e.e@day.com        e.richards16@finley.info  \n",
       "268   a.griffiths@garner-bridges.com  a.griffiths@garner-bridges.com  \n",
       "269   a.griffiths@garner-bridges.com                            None  \n",
       "270   a.griffiths@garner-bridges.com  a.griffiths@garner-bridges.com  \n",
       "271   a.griffiths@garner-bridges.com                            None  "
      ]
     },
     "execution_count": 12,
     "metadata": {},
     "output_type": "execute_result"
    }
   ],
   "source": [
    "# Inspect main dataframe that contains the match scores\n",
    "cols_to_inspect = [\"match_probability\", \"match_weight\", \"unique_id_l\",\"unique_id_r\",\"group_l\", \"group_r\", \"surname_l\",\"surname_r\",\"dob_l\",\"dob_r\",\"city_l\",\"city_r\",\"email_l\",\"email_r\",]\n",
    "\n",
    "df_e.toPandas()[cols_to_inspect].sort_values([\"unique_id_l\", \"unique_id_r\"]).head(10)"
   ]
  },
  {
   "cell_type": "markdown",
   "metadata": {},
   "source": [
    "We can plot a histogram of the splink match probility.  This chart shows that, for the majority of record comparisons, the match score is estimated to be close to 0 or 1.  This indicates that there are few pairs of records where we are unsure whether it's a match or not."
   ]
  },
  {
   "cell_type": "code",
   "execution_count": 13,
   "metadata": {},
   "outputs": [
    {
     "name": "stderr",
     "output_type": "stream",
     "text": [
      "                                                                                \r"
     ]
    },
    {
     "data": {
      "application/vnd.vegalite.v4+json": {
       "$schema": "https://vega.github.io/schema/vega-lite/v4.8.1.json",
       "config": {
        "title": {
         "fontSize": 14
        },
        "view": {
         "continuousHeight": 300,
         "continuousWidth": 400
        }
       },
       "data": {
        "name": "data-cd30fe28dec1a7a74947cba6a2cbb9fc"
       },
       "datasets": {
        "data-cd30fe28dec1a7a74947cba6a2cbb9fc": [
         {
          "binwidth": 0.5689209679368794,
          "count_rows": 0,
          "freqdensity": 0,
          "normalised": 0,
          "splink_score_bin_high": -27.877127428907173,
          "splink_score_bin_low": -28.446048396844052
         },
         {
          "binwidth": 0.568920967936883,
          "count_rows": 0,
          "freqdensity": 0,
          "normalised": 0,
          "splink_score_bin_high": -27.30820646097029,
          "splink_score_bin_low": -27.877127428907173
         },
         {
          "binwidth": 0.5689209679368794,
          "count_rows": 0,
          "freqdensity": 0,
          "normalised": 0,
          "splink_score_bin_high": -26.73928549303341,
          "splink_score_bin_low": -27.30820646097029
         },
         {
          "binwidth": 0.568920967936883,
          "count_rows": 0,
          "freqdensity": 0,
          "normalised": 0,
          "splink_score_bin_high": -26.170364525096527,
          "splink_score_bin_low": -26.73928549303341
         },
         {
          "binwidth": 0.5689209679368794,
          "count_rows": 0,
          "freqdensity": 0,
          "normalised": 0,
          "splink_score_bin_high": -25.601443557159648,
          "splink_score_bin_low": -26.170364525096527
         },
         {
          "binwidth": 0.568920967936883,
          "count_rows": 0,
          "freqdensity": 0,
          "normalised": 0,
          "splink_score_bin_high": -25.032522589222765,
          "splink_score_bin_low": -25.601443557159648
         },
         {
          "binwidth": 0.5689209679368794,
          "count_rows": 0,
          "freqdensity": 0,
          "normalised": 0,
          "splink_score_bin_high": -24.463601621285886,
          "splink_score_bin_low": -25.032522589222765
         },
         {
          "binwidth": 0.568920967936883,
          "count_rows": 0,
          "freqdensity": 0,
          "normalised": 0,
          "splink_score_bin_high": -23.894680653349003,
          "splink_score_bin_low": -24.463601621285886
         },
         {
          "binwidth": 0.5689209679368794,
          "count_rows": 0,
          "freqdensity": 0,
          "normalised": 0,
          "splink_score_bin_high": -23.325759685412123,
          "splink_score_bin_low": -23.894680653349003
         },
         {
          "binwidth": 0.568920967936883,
          "count_rows": 0,
          "freqdensity": 0,
          "normalised": 0,
          "splink_score_bin_high": -22.75683871747524,
          "splink_score_bin_low": -23.325759685412123
         },
         {
          "binwidth": 0.5689209679368794,
          "count_rows": 0,
          "freqdensity": 0,
          "normalised": 0,
          "splink_score_bin_high": -22.18791774953836,
          "splink_score_bin_low": -22.75683871747524
         },
         {
          "binwidth": 0.5689209679368794,
          "count_rows": 0,
          "freqdensity": 0,
          "normalised": 0,
          "splink_score_bin_high": -21.61899678160148,
          "splink_score_bin_low": -22.18791774953836
         },
         {
          "binwidth": 0.568920967936883,
          "count_rows": 0,
          "freqdensity": 0,
          "normalised": 0,
          "splink_score_bin_high": -21.0500758136646,
          "splink_score_bin_low": -21.61899678160148
         },
         {
          "binwidth": 0.568920967936883,
          "count_rows": 0,
          "freqdensity": 0,
          "normalised": 0,
          "splink_score_bin_high": -20.481154845727715,
          "splink_score_bin_low": -21.0500758136646
         },
         {
          "binwidth": 0.5689209679368794,
          "count_rows": 0,
          "freqdensity": 0,
          "normalised": 0,
          "splink_score_bin_high": -19.912233877790836,
          "splink_score_bin_low": -20.481154845727715
         },
         {
          "binwidth": 0.5689209679368794,
          "count_rows": 0,
          "freqdensity": 0,
          "normalised": 0,
          "splink_score_bin_high": -19.343312909853957,
          "splink_score_bin_low": -19.912233877790836
         },
         {
          "binwidth": 0.568920967936883,
          "count_rows": 0,
          "freqdensity": 0,
          "normalised": 0,
          "splink_score_bin_high": -18.774391941917074,
          "splink_score_bin_low": -19.343312909853957
         },
         {
          "binwidth": 0.5689209679368794,
          "count_rows": 0,
          "freqdensity": 0,
          "normalised": 0,
          "splink_score_bin_high": -18.205470973980194,
          "splink_score_bin_low": -18.774391941917074
         },
         {
          "binwidth": 0.568920967936883,
          "count_rows": 0,
          "freqdensity": 0,
          "normalised": 0,
          "splink_score_bin_high": -17.63655000604331,
          "splink_score_bin_low": -18.205470973980194
         },
         {
          "binwidth": 0.5689209679368794,
          "count_rows": 0,
          "freqdensity": 0,
          "normalised": 0,
          "splink_score_bin_high": -17.067629038106432,
          "splink_score_bin_low": -17.63655000604331
         },
         {
          "binwidth": 0.568920967936883,
          "count_rows": 0,
          "freqdensity": 0,
          "normalised": 0,
          "splink_score_bin_high": -16.49870807016955,
          "splink_score_bin_low": -17.067629038106432
         },
         {
          "binwidth": 0.5689209679368794,
          "count_rows": 0,
          "freqdensity": 0,
          "normalised": 0,
          "splink_score_bin_high": -15.92978710223267,
          "splink_score_bin_low": -16.49870807016955
         },
         {
          "binwidth": 0.5689209679368812,
          "count_rows": 0,
          "freqdensity": 0,
          "normalised": 0,
          "splink_score_bin_high": -15.360866134295788,
          "splink_score_bin_low": -15.92978710223267
         },
         {
          "binwidth": 0.5689209679368812,
          "count_rows": 0,
          "freqdensity": 0,
          "normalised": 0,
          "splink_score_bin_high": -14.791945166358907,
          "splink_score_bin_low": -15.360866134295788
         },
         {
          "binwidth": 0.5689209679368812,
          "count_rows": 0,
          "freqdensity": 0,
          "normalised": 0,
          "splink_score_bin_high": -14.223024198422026,
          "splink_score_bin_low": -14.791945166358907
         },
         {
          "binwidth": 0.5689209679368812,
          "count_rows": 0,
          "freqdensity": 0,
          "normalised": 0,
          "splink_score_bin_high": -13.654103230485145,
          "splink_score_bin_low": -14.223024198422026
         },
         {
          "binwidth": 0.5689209679368812,
          "count_rows": 0,
          "freqdensity": 0,
          "normalised": 0,
          "splink_score_bin_high": -13.085182262548264,
          "splink_score_bin_low": -13.654103230485145
         },
         {
          "binwidth": 0.568920967936883,
          "count_rows": 0,
          "freqdensity": 0,
          "normalised": 0,
          "splink_score_bin_high": -12.51626129461138,
          "splink_score_bin_low": -13.085182262548264
         },
         {
          "binwidth": 0.5689209679368776,
          "count_rows": 0,
          "freqdensity": 0,
          "normalised": 0,
          "splink_score_bin_high": -11.947340326674503,
          "splink_score_bin_low": -12.51626129461138
         },
         {
          "binwidth": 0.568920967936883,
          "count_rows": 0,
          "freqdensity": 0,
          "normalised": 0,
          "splink_score_bin_high": -11.37841935873762,
          "splink_score_bin_low": -11.947340326674503
         },
         {
          "binwidth": 0.5689209679368794,
          "count_rows": 0,
          "freqdensity": 0,
          "normalised": 0,
          "splink_score_bin_high": -10.80949839080074,
          "splink_score_bin_low": -11.37841935873762
         },
         {
          "binwidth": 0.568920967936883,
          "count_rows": 0,
          "freqdensity": 0,
          "normalised": 0,
          "splink_score_bin_high": -10.240577422863858,
          "splink_score_bin_low": -10.80949839080074
         },
         {
          "binwidth": 0.5689209679368794,
          "count_rows": 0,
          "freqdensity": 0,
          "normalised": 0,
          "splink_score_bin_high": -9.671656454926978,
          "splink_score_bin_low": -10.240577422863858
         },
         {
          "binwidth": 0.568920967936883,
          "count_rows": 0,
          "freqdensity": 0,
          "normalised": 0,
          "splink_score_bin_high": -9.102735486990095,
          "splink_score_bin_low": -9.671656454926978
         },
         {
          "binwidth": 0.5689209679368794,
          "count_rows": 0,
          "freqdensity": 0,
          "normalised": 0,
          "splink_score_bin_high": -8.533814519053216,
          "splink_score_bin_low": -9.102735486990095
         },
         {
          "binwidth": 0.5689209679368794,
          "count_rows": 0,
          "freqdensity": 0,
          "normalised": 0,
          "splink_score_bin_high": -7.964893551116337,
          "splink_score_bin_low": -8.533814519053216
         },
         {
          "binwidth": 0.568920967936883,
          "count_rows": 346,
          "freqdensity": 608.1688309972534,
          "normalised": 0.17317317317317252,
          "splink_score_bin_high": -7.395972583179454,
          "splink_score_bin_low": -7.964893551116337
         },
         {
          "binwidth": 0.568920967936883,
          "count_rows": 0,
          "freqdensity": 0,
          "normalised": 0,
          "splink_score_bin_high": -6.827051615242571,
          "splink_score_bin_low": -7.395972583179454
         },
         {
          "binwidth": 0.5689209679368794,
          "count_rows": 435,
          "freqdensity": 764.6053222075343,
          "normalised": 0.21771771771771825,
          "splink_score_bin_high": -6.258130647305691,
          "splink_score_bin_low": -6.827051615242571
         },
         {
          "binwidth": 0.568920967936883,
          "count_rows": 0,
          "freqdensity": 0,
          "normalised": 0,
          "splink_score_bin_high": -5.689209679368808,
          "splink_score_bin_low": -6.258130647305691
         },
         {
          "binwidth": 0.5689209679368759,
          "count_rows": 84,
          "freqdensity": 147.64792428835239,
          "normalised": 0.04204204204204241,
          "splink_score_bin_high": -5.120288711431932,
          "splink_score_bin_low": -5.689209679368808
         },
         {
          "binwidth": 0.568920967936883,
          "count_rows": 15,
          "freqdensity": 26.365700765776882,
          "normalised": 0.00750750750750748,
          "splink_score_bin_high": -4.5513677434950495,
          "splink_score_bin_low": -5.120288711431932
         },
         {
          "binwidth": 0.568920967936883,
          "count_rows": 187,
          "freqdensity": 328.69240288001845,
          "normalised": 0.09359359359359325,
          "splink_score_bin_high": -3.9824467755581665,
          "splink_score_bin_low": -4.5513677434950495
         },
         {
          "binwidth": 0.5689209679368794,
          "count_rows": 12,
          "freqdensity": 21.092560612621636,
          "normalised": 0.006006006006006021,
          "splink_score_bin_high": -3.413525807621287,
          "splink_score_bin_low": -3.9824467755581665
         },
         {
          "binwidth": 0.568920967936883,
          "count_rows": 109,
          "freqdensity": 191.59075889797867,
          "normalised": 0.05455455455455435,
          "splink_score_bin_high": -2.844604839684404,
          "splink_score_bin_low": -3.413525807621287
         },
         {
          "binwidth": 0.5689209679368794,
          "count_rows": 78,
          "freqdensity": 137.10164398204066,
          "normalised": 0.039039039039039145,
          "splink_score_bin_high": -2.2756838717475247,
          "splink_score_bin_low": -2.844604839684404
         },
         {
          "binwidth": 0.5689209679368794,
          "count_rows": 86,
          "freqdensity": 151.16335105712173,
          "normalised": 0.04304304304304315,
          "splink_score_bin_high": -1.7067629038106453,
          "splink_score_bin_low": -2.2756838717475247
         },
         {
          "binwidth": 0.568920967936883,
          "count_rows": 10,
          "freqdensity": 17.577133843851254,
          "normalised": 0.005005005005004986,
          "splink_score_bin_high": -1.1378419358737624,
          "splink_score_bin_low": -1.7067629038106453
         },
         {
          "binwidth": 0.5689209679368794,
          "count_rows": 1,
          "freqdensity": 1.7577133843851365,
          "normalised": 0.0005005005005005018,
          "splink_score_bin_high": -0.568920967936883,
          "splink_score_bin_low": -1.1378419358737624
         },
         {
          "binwidth": 0.568920967936883,
          "count_rows": 8,
          "freqdensity": 14.061707075081003,
          "normalised": 0.004004004004003989,
          "splink_score_bin_high": 0,
          "splink_score_bin_low": -0.568920967936883
         },
         {
          "binwidth": 0.568920967936883,
          "count_rows": 1,
          "freqdensity": 1.7577133843851254,
          "normalised": 0.0005005005005004987,
          "splink_score_bin_high": 0.568920967936883,
          "splink_score_bin_low": 0
         },
         {
          "binwidth": 0.5689209679368794,
          "count_rows": 4,
          "freqdensity": 7.030853537540546,
          "normalised": 0.002002002002002007,
          "splink_score_bin_high": 1.1378419358737624,
          "splink_score_bin_low": 0.568920967936883
         },
         {
          "binwidth": 0.568920967936883,
          "count_rows": 16,
          "freqdensity": 28.123414150162006,
          "normalised": 0.008008008008007978,
          "splink_score_bin_high": 1.7067629038106453,
          "splink_score_bin_low": 1.1378419358737624
         },
         {
          "binwidth": 0.5689209679368794,
          "count_rows": 21,
          "freqdensity": 36.91198107208786,
          "normalised": 0.010510510510510536,
          "splink_score_bin_high": 2.2756838717475247,
          "splink_score_bin_low": 1.7067629038106453
         },
         {
          "binwidth": 0.568920967936883,
          "count_rows": 13,
          "freqdensity": 22.85027399700663,
          "normalised": 0.006506506506506482,
          "splink_score_bin_high": 2.8446048396844077,
          "splink_score_bin_low": 2.2756838717475247
         },
         {
          "binwidth": 0.568920967936883,
          "count_rows": 46,
          "freqdensity": 80.85481568171578,
          "normalised": 0.023023023023022938,
          "splink_score_bin_high": 3.4135258076212907,
          "splink_score_bin_low": 2.8446048396844077
         },
         {
          "binwidth": 0.5689209679368723,
          "count_rows": 11,
          "freqdensity": 19.334847228236743,
          "normalised": 0.005505505505505589,
          "splink_score_bin_high": 3.982446775558163,
          "splink_score_bin_low": 3.4135258076212907
         },
         {
          "binwidth": 0.568920967936883,
          "count_rows": 45,
          "freqdensity": 79.09710229733065,
          "normalised": 0.02252252252252244,
          "splink_score_bin_high": 4.551367743495046,
          "splink_score_bin_low": 3.982446775558163
         },
         {
          "binwidth": 0.568920967936883,
          "count_rows": 9,
          "freqdensity": 15.81942045946613,
          "normalised": 0.004504504504504488,
          "splink_score_bin_high": 5.120288711431929,
          "splink_score_bin_low": 4.551367743495046
         },
         {
          "binwidth": 0.568920967936883,
          "count_rows": 41,
          "freqdensity": 72.06624875979014,
          "normalised": 0.020520520520520443,
          "splink_score_bin_high": 5.689209679368812,
          "splink_score_bin_low": 5.120288711431929
         },
         {
          "binwidth": 0.5689209679368759,
          "count_rows": 19,
          "freqdensity": 33.3965543033178,
          "normalised": 0.009509509509509592,
          "splink_score_bin_high": 6.258130647305688,
          "splink_score_bin_low": 5.689209679368812
         },
         {
          "binwidth": 0.568920967936883,
          "count_rows": 14,
          "freqdensity": 24.607987381391755,
          "normalised": 0.007007007007006981,
          "splink_score_bin_high": 6.827051615242571,
          "splink_score_bin_low": 6.258130647305688
         },
         {
          "binwidth": 0.568920967936883,
          "count_rows": 23,
          "freqdensity": 40.42740784085789,
          "normalised": 0.011511511511511469,
          "splink_score_bin_high": 7.395972583179454,
          "splink_score_bin_low": 6.827051615242571
         },
         {
          "binwidth": 0.568920967936883,
          "count_rows": 12,
          "freqdensity": 21.092560612621504,
          "normalised": 0.006006006006005983,
          "splink_score_bin_high": 7.964893551116337,
          "splink_score_bin_low": 7.395972583179454
         },
         {
          "binwidth": 0.568920967936883,
          "count_rows": 15,
          "freqdensity": 26.365700765776882,
          "normalised": 0.00750750750750748,
          "splink_score_bin_high": 8.53381451905322,
          "splink_score_bin_low": 7.964893551116337
         },
         {
          "binwidth": 0.5689209679368759,
          "count_rows": 8,
          "freqdensity": 14.061707075081179,
          "normalised": 0.004004004004004039,
          "splink_score_bin_high": 9.102735486990095,
          "splink_score_bin_low": 8.53381451905322
         },
         {
          "binwidth": 0.568920967936883,
          "count_rows": 7,
          "freqdensity": 12.303993690695878,
          "normalised": 0.0035035035035034905,
          "splink_score_bin_high": 9.671656454926978,
          "splink_score_bin_low": 9.102735486990095
         },
         {
          "binwidth": 0.568920967936883,
          "count_rows": 13,
          "freqdensity": 22.85027399700663,
          "normalised": 0.006506506506506482,
          "splink_score_bin_high": 10.240577422863861,
          "splink_score_bin_low": 9.671656454926978
         },
         {
          "binwidth": 0.5689209679368759,
          "count_rows": 23,
          "freqdensity": 40.42740784085839,
          "normalised": 0.011511511511511613,
          "splink_score_bin_high": 10.809498390800737,
          "splink_score_bin_low": 10.240577422863861
         },
         {
          "binwidth": 0.568920967936883,
          "count_rows": 15,
          "freqdensity": 26.365700765776882,
          "normalised": 0.00750750750750748,
          "splink_score_bin_high": 11.37841935873762,
          "splink_score_bin_low": 10.809498390800737
         },
         {
          "binwidth": 0.568920967936883,
          "count_rows": 41,
          "freqdensity": 72.06624875979014,
          "normalised": 0.020520520520520443,
          "splink_score_bin_high": 11.947340326674503,
          "splink_score_bin_low": 11.37841935873762
         },
         {
          "binwidth": 0.5689209679368759,
          "count_rows": 24,
          "freqdensity": 42.185121225243535,
          "normalised": 0.012012012012012116,
          "splink_score_bin_high": 12.516261294611379,
          "splink_score_bin_low": 11.947340326674503
         },
         {
          "binwidth": 0.568920967936883,
          "count_rows": 36,
          "freqdensity": 63.27768183786452,
          "normalised": 0.018018018018017952,
          "splink_score_bin_high": 13.085182262548262,
          "splink_score_bin_low": 12.516261294611379
         },
         {
          "binwidth": 0.568920967936883,
          "count_rows": 9,
          "freqdensity": 15.81942045946613,
          "normalised": 0.004504504504504488,
          "splink_score_bin_high": 13.654103230485145,
          "splink_score_bin_low": 13.085182262548262
         },
         {
          "binwidth": 0.568920967936883,
          "count_rows": 15,
          "freqdensity": 26.365700765776882,
          "normalised": 0.00750750750750748,
          "splink_score_bin_high": 14.223024198422028,
          "splink_score_bin_low": 13.654103230485145
         },
         {
          "binwidth": 0.568920967936883,
          "count_rows": 9,
          "freqdensity": 15.81942045946613,
          "normalised": 0.004504504504504488,
          "splink_score_bin_high": 14.79194516635891,
          "splink_score_bin_low": 14.223024198422028
         },
         {
          "binwidth": 0.5689209679368759,
          "count_rows": 11,
          "freqdensity": 19.334847228236622,
          "normalised": 0.005505505505505554,
          "splink_score_bin_high": 15.360866134295787,
          "splink_score_bin_low": 14.79194516635891
         },
         {
          "binwidth": 0.568920967936883,
          "count_rows": 0,
          "freqdensity": 0,
          "normalised": 0,
          "splink_score_bin_high": 15.92978710223267,
          "splink_score_bin_low": 15.360866134295787
         },
         {
          "binwidth": 0.568920967936883,
          "count_rows": 9,
          "freqdensity": 15.81942045946613,
          "normalised": 0.004504504504504488,
          "splink_score_bin_high": 16.498708070169553,
          "splink_score_bin_low": 15.92978710223267
         },
         {
          "binwidth": 0.568920967936883,
          "count_rows": 13,
          "freqdensity": 22.85027399700663,
          "normalised": 0.006506506506506482,
          "splink_score_bin_high": 17.067629038106436,
          "splink_score_bin_low": 16.498708070169553
         },
         {
          "binwidth": 0.568920967936883,
          "count_rows": 8,
          "freqdensity": 14.061707075081003,
          "normalised": 0.004004004004003989,
          "splink_score_bin_high": 17.63655000604332,
          "splink_score_bin_low": 17.067629038106436
         },
         {
          "binwidth": 0.5689209679368687,
          "count_rows": 6,
          "freqdensity": 10.546280306311017,
          "normalised": 0.003003003003003067,
          "splink_score_bin_high": 18.205470973980187,
          "splink_score_bin_low": 17.63655000604332
         },
         {
          "binwidth": 0.568920967936883,
          "count_rows": 4,
          "freqdensity": 7.0308535375405015,
          "normalised": 0.0020020020020019946,
          "splink_score_bin_high": 18.77439194191707,
          "splink_score_bin_low": 18.205470973980187
         },
         {
          "binwidth": 0.568920967936883,
          "count_rows": 7,
          "freqdensity": 12.303993690695878,
          "normalised": 0.0035035035035034905,
          "splink_score_bin_high": 19.343312909853953,
          "splink_score_bin_low": 18.77439194191707
         },
         {
          "binwidth": 0.568920967936883,
          "count_rows": 8,
          "freqdensity": 14.061707075081003,
          "normalised": 0.004004004004003989,
          "splink_score_bin_high": 19.912233877790836,
          "splink_score_bin_low": 19.343312909853953
         },
         {
          "binwidth": 0.568920967936883,
          "count_rows": 18,
          "freqdensity": 31.63884091893226,
          "normalised": 0.009009009009008976,
          "splink_score_bin_high": 20.48115484572772,
          "splink_score_bin_low": 19.912233877790836
         },
         {
          "binwidth": 0.5689209679368759,
          "count_rows": 11,
          "freqdensity": 19.334847228236622,
          "normalised": 0.005505505505505554,
          "splink_score_bin_high": 21.050075813664595,
          "splink_score_bin_low": 20.48115484572772
         },
         {
          "binwidth": 0.568920967936883,
          "count_rows": 12,
          "freqdensity": 21.092560612621504,
          "normalised": 0.006006006006005983,
          "splink_score_bin_high": 21.618996781601478,
          "splink_score_bin_low": 21.050075813664595
         },
         {
          "binwidth": 0.568920967936883,
          "count_rows": 4,
          "freqdensity": 7.0308535375405015,
          "normalised": 0.0020020020020019946,
          "splink_score_bin_high": 22.18791774953836,
          "splink_score_bin_low": 21.618996781601478
         },
         {
          "binwidth": 0.568920967936883,
          "count_rows": 4,
          "freqdensity": 7.0308535375405015,
          "normalised": 0.0020020020020019946,
          "splink_score_bin_high": 22.756838717475244,
          "splink_score_bin_low": 22.18791774953836
         },
         {
          "binwidth": 0.568920967936883,
          "count_rows": 0,
          "freqdensity": 0,
          "normalised": 0,
          "splink_score_bin_high": 23.325759685412127,
          "splink_score_bin_low": 22.756838717475244
         },
         {
          "binwidth": 0.5689209679368759,
          "count_rows": 2,
          "freqdensity": 3.5154267687702947,
          "normalised": 0.0010010010010010097,
          "splink_score_bin_high": 23.894680653349003,
          "splink_score_bin_low": 23.325759685412127
         },
         {
          "binwidth": 0.568920967936883,
          "count_rows": 1,
          "freqdensity": 1.7577133843851254,
          "normalised": 0.0005005005005004987,
          "splink_score_bin_high": 24.463601621285886,
          "splink_score_bin_low": 23.894680653349003
         },
         {
          "binwidth": 0.5689209679368759,
          "count_rows": 2,
          "freqdensity": 3.5154267687702947,
          "normalised": 0.0010010010010010097,
          "splink_score_bin_high": 25.03252258922276,
          "splink_score_bin_low": 24.463601621285886
         },
         {
          "binwidth": 0.568920967936883,
          "count_rows": 6,
          "freqdensity": 10.546280306310752,
          "normalised": 0.0030030030030029917,
          "splink_score_bin_high": 25.601443557159644,
          "splink_score_bin_low": 25.03252258922276
         },
         {
          "binwidth": 0.568920967936883,
          "count_rows": 4,
          "freqdensity": 7.0308535375405015,
          "normalised": 0.0020020020020019946,
          "splink_score_bin_high": 26.170364525096527,
          "splink_score_bin_low": 25.601443557159644
         },
         {
          "binwidth": 0.568920967936883,
          "count_rows": 1,
          "freqdensity": 1.7577133843851254,
          "normalised": 0.0005005005005004987,
          "splink_score_bin_high": 26.73928549303341,
          "splink_score_bin_low": 26.170364525096527
         },
         {
          "binwidth": 0.5689209679368759,
          "count_rows": 3,
          "freqdensity": 5.273140153155442,
          "normalised": 0.0015015015015015145,
          "splink_score_bin_high": 27.308206460970286,
          "splink_score_bin_low": 26.73928549303341
         },
         {
          "binwidth": 0.568920967936883,
          "count_rows": 2,
          "freqdensity": 3.5154267687702507,
          "normalised": 0.0010010010010009973,
          "splink_score_bin_high": 27.87712742890717,
          "splink_score_bin_low": 27.308206460970286
         },
         {
          "binwidth": 0.568920967936883,
          "count_rows": 1,
          "freqdensity": 1.7577133843851254,
          "normalised": 0.0005005005005004987,
          "splink_score_bin_high": 28.446048396844052,
          "splink_score_bin_low": 27.87712742890717
         }
        ]
       },
       "encoding": {
        "tooltip": [
         {
          "field": "count_rows",
          "title": "count",
          "type": "quantitative"
         }
        ],
        "x": {
         "axis": {
          "title": "splink score"
         },
         "bin": "binned",
         "field": "splink_score_bin_low",
         "type": "quantitative"
        },
        "x2": {
         "field": "splink_score_bin_high"
        },
        "y": {
         "axis": {
          "title": "probability density"
         },
         "field": "normalised",
         "type": "quantitative"
        }
       },
       "height": 200,
       "mark": "bar",
       "selection": {
        "selector076": {
         "bind": "scales",
         "encodings": [
          "y"
         ],
         "type": "interval"
        }
       },
       "title": {
        "subtitle": "Use mousewheeel to zoom",
        "text": "Histogram of splink scores"
       },
       "width": 700
      },
      "text/plain": [
       "<VegaLite 4 object>\n",
       "\n",
       "If you see this message, it means the renderer has not been properly enabled\n",
       "for the frontend that you are using. For more information, see\n",
       "https://altair-viz.github.io/user_guide/troubleshooting.html\n"
      ]
     },
     "execution_count": 13,
     "metadata": {},
     "output_type": "execute_result"
    }
   ],
   "source": [
    "from splink.diagnostics import splink_score_histogram\n",
    "splink_score_histogram(df_e, spark, 100, \"match_weight\", symmetric=True)"
   ]
  },
  {
   "cell_type": "markdown",
   "metadata": {},
   "source": [
    "The `params` property of the `linker` is an object that contains a lot of diagnostic information about how the match probability was computed.  The following cells demonstrate some of its functionality"
   ]
  },
  {
   "cell_type": "code",
   "execution_count": 14,
   "metadata": {},
   "outputs": [
    {
     "data": {
      "application/vnd.vegalite.v4+json": {
       "$schema": "https://vega.github.io/schema/vega-lite/v4.json",
       "config": {
        "header": {
         "title": null
        },
        "title": {
         "anchor": "middle",
         "offset": 10
        },
        "view": {
         "continuousHeight": 300,
         "continuousWidth": 400,
         "height": 300,
         "width": 400
        }
       },
       "data": {
        "name": "data-8a2fa2a7ccd17219a56c25200911ff2f"
       },
       "datasets": {
        "data-8a2fa2a7ccd17219a56c25200911ff2f": [
         {
          "bayes_factor": 128.36790960927516,
          "column_name": "surname",
          "comparison_vector_value": "2",
          "gamma_column_name": "gamma_surname",
          "gamma_index": 2,
          "is_null": false,
          "label": "level_2",
          "level_name": "level_2",
          "level_proportion": 0.21424147714076955,
          "log2_bayes_factor": 7.004140781379243,
          "m_probability": 0.6277159394096584,
          "num_levels": 3,
          "sql_expr": "WHEN JARO_WINKLER_SIM(surname_l, surname_r) >= 1.0 THEN 2",
          "u_probability": 0.004889975550122249
         },
         {
          "bayes_factor": 72.6444199873424,
          "column_name": "surname",
          "comparison_vector_value": "1",
          "gamma_column_name": "gamma_surname",
          "gamma_index": 1,
          "is_null": false,
          "label": "level_1",
          "level_name": "level_1",
          "level_proportion": 0.09861431253439264,
          "log2_bayes_factor": 6.182780079727417,
          "m_probability": 0.2856148774769456,
          "num_levels": 3,
          "sql_expr": "WHEN JARO_WINKLER_SIM(surname_l, surname_r) >= 0.88 THEN 1",
          "u_probability": 0.003931683638285105
         },
         {
          "bayes_factor": 0.08744055387896166,
          "column_name": "surname",
          "comparison_vector_value": "0",
          "gamma_column_name": "gamma_surname",
          "gamma_index": 0,
          "is_null": false,
          "label": "level_0",
          "level_name": "level_0",
          "level_proportion": 0.6871442103248377,
          "log2_bayes_factor": -3.5155536502024596,
          "m_probability": 0.08666918311339589,
          "num_levels": 3,
          "sql_expr": "ELSE 0",
          "u_probability": 0.9911783408115926
         },
         {
          "bayes_factor": 229.83450512033318,
          "column_name": "dob",
          "comparison_vector_value": "1",
          "gamma_column_name": "gamma_dob",
          "gamma_index": 1,
          "is_null": false,
          "label": "level_1",
          "level_name": "level_1",
          "level_proportion": 0.13618190634675031,
          "log2_bayes_factor": 7.844451596240181,
          "m_probability": 0.4016927386787805,
          "num_levels": 2,
          "sql_expr": "WHEN dob_l = dob_r THEN 1",
          "u_probability": 0.0017477477477477479
         },
         {
          "bayes_factor": 0.5993547822920724,
          "column_name": "dob",
          "comparison_vector_value": "0",
          "gamma_column_name": "gamma_dob",
          "gamma_index": 0,
          "is_null": false,
          "label": "level_0",
          "level_name": "level_0",
          "level_proportion": 0.8638180936532497,
          "log2_bayes_factor": -0.7385178495806417,
          "m_probability": 0.5983072613212196,
          "num_levels": 2,
          "sql_expr": "ELSE 0",
          "u_probability": 0.9982522522522522
         },
         {
          "bayes_factor": 10.265665908872004,
          "column_name": "city",
          "comparison_vector_value": "1",
          "gamma_column_name": "gamma_city",
          "gamma_index": 1,
          "is_null": false,
          "label": "level_1",
          "level_name": "level_1",
          "level_proportion": 0.22690376136574608,
          "log2_bayes_factor": 3.3597553095006965,
          "m_probability": 0.5661265414211099,
          "num_levels": 2,
          "sql_expr": "WHEN city_l = city_r THEN 1",
          "u_probability": 0.0551475711801453
         },
         {
          "bayes_factor": 0.4591970611969633,
          "column_name": "city",
          "comparison_vector_value": "0",
          "gamma_column_name": "gamma_city",
          "gamma_index": 0,
          "is_null": false,
          "label": "level_0",
          "level_name": "level_0",
          "level_proportion": 0.7730962386342539,
          "log2_bayes_factor": -1.1228146859097683,
          "m_probability": 0.4338734585788902,
          "num_levels": 2,
          "sql_expr": "ELSE 0",
          "u_probability": 0.9448524288198547
         },
         {
          "bayes_factor": 265.6134616007337,
          "column_name": "email",
          "comparison_vector_value": "1",
          "gamma_column_name": "gamma_email",
          "gamma_index": 1,
          "is_null": false,
          "label": "level_1",
          "level_name": "level_1",
          "level_proportion": 0.19732765029875732,
          "log2_bayes_factor": 8.053184455783635,
          "m_probability": 0.582721754105307,
          "num_levels": 2,
          "sql_expr": "WHEN email_l = email_r THEN 1",
          "u_probability": 0.0021938713143283602
         },
         {
          "bayes_factor": 0.41819571347425905,
          "column_name": "email",
          "comparison_vector_value": "0",
          "gamma_column_name": "gamma_email",
          "gamma_index": 0,
          "is_null": false,
          "label": "level_0",
          "level_name": "level_0",
          "level_proportion": 0.8026723497012427,
          "log2_bayes_factor": -1.2577498205761373,
          "m_probability": 0.4172782458946928,
          "num_levels": 2,
          "sql_expr": "ELSE 0",
          "u_probability": 0.9978061286856716
         }
        ]
       },
       "hconcat": [
        {
         "encoding": {
          "color": {
           "value": "red"
          },
          "row": {
           "field": "column_name",
           "header": {
            "labelAlign": "left",
            "labelAnchor": "middle",
            "labelAngle": 0
           },
           "sort": {
            "field": "gamma_index"
           },
           "type": "nominal"
          },
          "tooltip": [
           {
            "field": "column_name",
            "type": "nominal"
           },
           {
            "field": "level_name",
            "type": "ordinal"
           },
           {
            "field": "u_probability",
            "format": ".4f",
            "type": "quantitative"
           },
           {
            "field": "bayes_factor",
            "format": ".4f",
            "type": "quantitative"
           },
           {
            "field": "level_proportion",
            "format": ".2%",
            "title": "Percentage of record comparisons in this level",
            "type": "nominal"
           },
           {
            "field": "log2_bayes_factor",
            "format": ".4f",
            "type": "quantitative"
           }
          ],
          "x": {
           "axis": {
            "title": "proportion"
           },
           "field": "u_probability",
           "type": "quantitative"
          },
          "y": {
           "axis": {
            "title": null
           },
           "field": "label",
           "sort": {
            "field": "gamma_index"
           },
           "type": "nominal"
          }
         },
         "height": 50,
         "mark": "bar",
         "resolve": {
          "scale": {
           "y": "independent"
          }
         },
         "title": {
          "fontWeight": "normal",
          "text": "Non-matches"
         },
         "transform": [
          {
           "filter": "(datum.bayes_factor != 'unnecessary filter2 due to vega lite issue 4680')"
          }
         ],
         "width": 150
        },
        {
         "encoding": {
          "color": {
           "value": "green"
          },
          "row": {
           "field": "column_name",
           "header": {
            "labels": false
           },
           "sort": {
            "field": "gamma_index"
           },
           "type": "nominal"
          },
          "tooltip": [
           {
            "field": "column_name",
            "type": "nominal"
           },
           {
            "field": "level_name",
            "type": "ordinal"
           },
           {
            "field": "m_probability",
            "format": ".4f",
            "type": "quantitative"
           },
           {
            "field": "bayes_factor",
            "format": ".4f",
            "type": "quantitative"
           },
           {
            "field": "level_proportion",
            "format": ".2%",
            "title": "Percentage of record comparisons in this level",
            "type": "nominal"
           },
           {
            "field": "log2_bayes_factor",
            "format": ".4f",
            "type": "quantitative"
           }
          ],
          "x": {
           "axis": {
            "title": "proportion"
           },
           "field": "m_probability",
           "type": "quantitative"
          },
          "y": {
           "axis": {
            "title": null
           },
           "field": "label",
           "sort": {
            "field": "gamma_index"
           },
           "type": "nominal"
          }
         },
         "height": 50,
         "mark": "bar",
         "resolve": {
          "scale": {
           "y": "independent"
          }
         },
         "title": {
          "fontWeight": "normal",
          "text": "Matches"
         },
         "transform": [
          {
           "filter": "(datum.bayes_factor != 'unnecessary filter due to vega lite issue 4680')"
          }
         ],
         "width": 150
        }
       ],
       "title": {
        "subtitle": "Estimated proportion of matches λ =  0.336",
        "text": "Probability distributions of non-matches and matches "
       },
       "transform": []
      },
      "text/plain": [
       "<VegaLite 4 object>\n",
       "\n",
       "If you see this message, it means the renderer has not been properly enabled\n",
       "for the frontend that you are using. For more information, see\n",
       "https://altair-viz.github.io/user_guide/troubleshooting.html\n"
      ]
     },
     "execution_count": 14,
     "metadata": {},
     "output_type": "execute_result"
    }
   ],
   "source": [
    "model = linker.model\n",
    "model.probability_distribution_chart()"
   ]
  },
  {
   "cell_type": "markdown",
   "metadata": {},
   "source": [
    "An alternative representation of the parameters displays them in terms of the effect different values in the comparison vectors have on the match probability:"
   ]
  },
  {
   "cell_type": "code",
   "execution_count": 15,
   "metadata": {},
   "outputs": [
    {
     "data": {
      "application/vnd.vegalite.v4+json": {
       "$schema": "https://vega.github.io/schema/vega-lite/v4.json",
       "config": {
        "header": {
         "title": null
        },
        "mark": {
         "tooltip": null
        },
        "title": {
         "anchor": "middle"
        },
        "view": {
         "continuousHeight": 300,
         "continuousWidth": 400,
         "height": 300,
         "width": 400
        }
       },
       "data": {
        "name": "data-8a2fa2a7ccd17219a56c25200911ff2f"
       },
       "datasets": {
        "data-8a2fa2a7ccd17219a56c25200911ff2f": [
         {
          "bayes_factor": 128.36790960927516,
          "column_name": "surname",
          "comparison_vector_value": "2",
          "gamma_column_name": "gamma_surname",
          "gamma_index": 2,
          "is_null": false,
          "label": "level_2",
          "level_name": "level_2",
          "level_proportion": 0.21424147714076955,
          "log2_bayes_factor": 7.004140781379243,
          "m_probability": 0.6277159394096584,
          "num_levels": 3,
          "sql_expr": "WHEN JARO_WINKLER_SIM(surname_l, surname_r) >= 1.0 THEN 2",
          "u_probability": 0.004889975550122249
         },
         {
          "bayes_factor": 72.6444199873424,
          "column_name": "surname",
          "comparison_vector_value": "1",
          "gamma_column_name": "gamma_surname",
          "gamma_index": 1,
          "is_null": false,
          "label": "level_1",
          "level_name": "level_1",
          "level_proportion": 0.09861431253439264,
          "log2_bayes_factor": 6.182780079727417,
          "m_probability": 0.2856148774769456,
          "num_levels": 3,
          "sql_expr": "WHEN JARO_WINKLER_SIM(surname_l, surname_r) >= 0.88 THEN 1",
          "u_probability": 0.003931683638285105
         },
         {
          "bayes_factor": 0.08744055387896166,
          "column_name": "surname",
          "comparison_vector_value": "0",
          "gamma_column_name": "gamma_surname",
          "gamma_index": 0,
          "is_null": false,
          "label": "level_0",
          "level_name": "level_0",
          "level_proportion": 0.6871442103248377,
          "log2_bayes_factor": -3.5155536502024596,
          "m_probability": 0.08666918311339589,
          "num_levels": 3,
          "sql_expr": "ELSE 0",
          "u_probability": 0.9911783408115926
         },
         {
          "bayes_factor": 229.83450512033318,
          "column_name": "dob",
          "comparison_vector_value": "1",
          "gamma_column_name": "gamma_dob",
          "gamma_index": 1,
          "is_null": false,
          "label": "level_1",
          "level_name": "level_1",
          "level_proportion": 0.13618190634675031,
          "log2_bayes_factor": 7.844451596240181,
          "m_probability": 0.4016927386787805,
          "num_levels": 2,
          "sql_expr": "WHEN dob_l = dob_r THEN 1",
          "u_probability": 0.0017477477477477479
         },
         {
          "bayes_factor": 0.5993547822920724,
          "column_name": "dob",
          "comparison_vector_value": "0",
          "gamma_column_name": "gamma_dob",
          "gamma_index": 0,
          "is_null": false,
          "label": "level_0",
          "level_name": "level_0",
          "level_proportion": 0.8638180936532497,
          "log2_bayes_factor": -0.7385178495806417,
          "m_probability": 0.5983072613212196,
          "num_levels": 2,
          "sql_expr": "ELSE 0",
          "u_probability": 0.9982522522522522
         },
         {
          "bayes_factor": 10.265665908872004,
          "column_name": "city",
          "comparison_vector_value": "1",
          "gamma_column_name": "gamma_city",
          "gamma_index": 1,
          "is_null": false,
          "label": "level_1",
          "level_name": "level_1",
          "level_proportion": 0.22690376136574608,
          "log2_bayes_factor": 3.3597553095006965,
          "m_probability": 0.5661265414211099,
          "num_levels": 2,
          "sql_expr": "WHEN city_l = city_r THEN 1",
          "u_probability": 0.0551475711801453
         },
         {
          "bayes_factor": 0.4591970611969633,
          "column_name": "city",
          "comparison_vector_value": "0",
          "gamma_column_name": "gamma_city",
          "gamma_index": 0,
          "is_null": false,
          "label": "level_0",
          "level_name": "level_0",
          "level_proportion": 0.7730962386342539,
          "log2_bayes_factor": -1.1228146859097683,
          "m_probability": 0.4338734585788902,
          "num_levels": 2,
          "sql_expr": "ELSE 0",
          "u_probability": 0.9448524288198547
         },
         {
          "bayes_factor": 265.6134616007337,
          "column_name": "email",
          "comparison_vector_value": "1",
          "gamma_column_name": "gamma_email",
          "gamma_index": 1,
          "is_null": false,
          "label": "level_1",
          "level_name": "level_1",
          "level_proportion": 0.19732765029875732,
          "log2_bayes_factor": 8.053184455783635,
          "m_probability": 0.582721754105307,
          "num_levels": 2,
          "sql_expr": "WHEN email_l = email_r THEN 1",
          "u_probability": 0.0021938713143283602
         },
         {
          "bayes_factor": 0.41819571347425905,
          "column_name": "email",
          "comparison_vector_value": "0",
          "gamma_column_name": "gamma_email",
          "gamma_index": 0,
          "is_null": false,
          "label": "level_0",
          "level_name": "level_0",
          "level_proportion": 0.8026723497012427,
          "log2_bayes_factor": -1.2577498205761373,
          "m_probability": 0.4172782458946928,
          "num_levels": 2,
          "sql_expr": "ELSE 0",
          "u_probability": 0.9978061286856716
         }
        ]
       },
       "encoding": {
        "color": {
         "field": "log2_bayes_factor",
         "scale": {
          "domain": [
           -10,
           0,
           10
          ],
          "range": [
           "red",
           "orange",
           "green"
          ]
         },
         "title": "Match weight",
         "type": "quantitative"
        },
        "row": {
         "field": "column_name",
         "header": {
          "labelAlign": "left",
          "labelAnchor": "middle",
          "labelAngle": 0
         },
         "sort": {
          "field": "gamma_index"
         },
         "type": "nominal"
        },
        "tooltip": [
         {
          "field": "column_name",
          "type": "nominal"
         },
         {
          "field": "label",
          "title": "level label",
          "type": "ordinal"
         },
         {
          "field": "sql_expr",
          "type": "nominal"
         },
         {
          "field": "m_probability",
          "format": ".4f",
          "type": "quantitative"
         },
         {
          "field": "u_probability",
          "format": ".4f",
          "type": "quantitative"
         },
         {
          "field": "bayes_factor",
          "format": ".4f",
          "title": "Bayes factor = m/u",
          "type": "quantitative"
         },
         {
          "field": "log2_bayes_factor",
          "format": ".4f",
          "title": "Match weight = log2(m/u)",
          "type": "quantitative"
         },
         {
          "field": "level_proportion",
          "format": ".2%",
          "title": "Percentage of non-null comparisons in this level",
          "type": "nominal"
         }
        ],
        "x": {
         "axis": {
          "title": "Match weight = log2(m/u)",
          "values": [
           -10,
           -5,
           0,
           5,
           10
          ]
         },
         "field": "log2_bayes_factor",
         "scale": {
          "domain": [
           -10,
           10
          ]
         },
         "type": "quantitative"
        },
        "y": {
         "axis": {
          "title": null
         },
         "field": "label",
         "sort": {
          "field": "gamma_index"
         },
         "type": "nominal"
        }
       },
       "height": 50,
       "mark": {
        "clip": true,
        "type": "bar"
       },
       "resolve": {
        "scale": {
         "y": "independent"
        }
       },
       "selection": {
        "selector076": {
         "bind": "scales",
         "encodings": [
          "x"
         ],
         "type": "interval"
        }
       },
       "title": {
        "subtitle": "Use mousewheeel to zoom",
        "text": "Influence of comparison vector values on match probability"
       }
      },
      "text/plain": [
       "<VegaLite 4 object>\n",
       "\n",
       "If you see this message, it means the renderer has not been properly enabled\n",
       "for the frontend that you are using. For more information, see\n",
       "https://altair-viz.github.io/user_guide/troubleshooting.html\n"
      ]
     },
     "execution_count": 15,
     "metadata": {},
     "output_type": "execute_result"
    }
   ],
   "source": [
    "model.bayes_factor_chart()"
   ]
  },
  {
   "cell_type": "markdown",
   "metadata": {},
   "source": [
    "If charts aren't displaying correctly in your notebook, you can write them to an file, and view them in an IFrame."
   ]
  },
  {
   "cell_type": "code",
   "execution_count": 16,
   "metadata": {},
   "outputs": [
    {
     "name": "stdout",
     "output_type": "stream",
     "text": [
      "Chart saved to bf.html\n",
      "\n",
      "To view in Jupyter you can use the following command:\n",
      "\n",
      "from IPython.display import IFrame\n",
      "IFrame(src=\"./bf.html\", width=1000, height=500)\n",
      "\n"
     ]
    }
   ],
   "source": [
    "from splink.charts import save_offline_chart\n",
    "\n",
    "chart = model.bayes_factor_chart()\n",
    "save_offline_chart(chart, filename=\"bf.html\", overwrite=True)"
   ]
  },
  {
   "cell_type": "markdown",
   "metadata": {},
   "source": [
    "You can also output a dashboard of the main charts:"
   ]
  },
  {
   "cell_type": "code",
   "execution_count": 17,
   "metadata": {},
   "outputs": [],
   "source": [
    "model.all_charts_write_html_file(filename=\"splink_charts.html\", overwrite=True)"
   ]
  },
  {
   "cell_type": "markdown",
   "metadata": {},
   "source": [
    "You can  generate a chart report which explains how the match probability was computed for an individual comparison row.  \n",
    "\n",
    "Note that you need to convert the row to a dictionary for this to work\n",
    "\n",
    "This uses the Bayes factor to show the relative influence on the final match probability of the λ parameter, and each comparison column for an individual comparison row.\n",
    "\n",
    "Columns that have no influence on the match score (due to missing data) are not shown."
   ]
  },
  {
   "cell_type": "code",
   "execution_count": 27,
   "metadata": {},
   "outputs": [
    {
     "data": {
      "text/html": [
       "<div>\n",
       "<style scoped>\n",
       "    .dataframe tbody tr th:only-of-type {\n",
       "        vertical-align: middle;\n",
       "    }\n",
       "\n",
       "    .dataframe tbody tr th {\n",
       "        vertical-align: top;\n",
       "    }\n",
       "\n",
       "    .dataframe thead th {\n",
       "        text-align: right;\n",
       "    }\n",
       "</style>\n",
       "<table border=\"1\" class=\"dataframe\">\n",
       "  <thead>\n",
       "    <tr style=\"text-align: right;\">\n",
       "      <th></th>\n",
       "      <th>match_weight</th>\n",
       "      <th>match_probability</th>\n",
       "      <th>unique_id_l</th>\n",
       "      <th>unique_id_r</th>\n",
       "      <th>surname_l</th>\n",
       "      <th>surname_r</th>\n",
       "      <th>gamma_surname</th>\n",
       "      <th>dob_l</th>\n",
       "      <th>dob_r</th>\n",
       "      <th>gamma_dob</th>\n",
       "      <th>city_l</th>\n",
       "      <th>city_r</th>\n",
       "      <th>gamma_city</th>\n",
       "      <th>email_l</th>\n",
       "      <th>email_r</th>\n",
       "      <th>gamma_email</th>\n",
       "      <th>group_l</th>\n",
       "      <th>group_r</th>\n",
       "    </tr>\n",
       "  </thead>\n",
       "  <tbody>\n",
       "    <tr>\n",
       "      <th>980</th>\n",
       "      <td>11.440809</td>\n",
       "      <td>0.99964</td>\n",
       "      <td>400</td>\n",
       "      <td>403</td>\n",
       "      <td>Dixon</td>\n",
       "      <td>Dixon</td>\n",
       "      <td>2</td>\n",
       "      <td>1991-04-12</td>\n",
       "      <td>1991-04-12</td>\n",
       "      <td>1</td>\n",
       "      <td>None</td>\n",
       "      <td>None</td>\n",
       "      <td>-1</td>\n",
       "      <td>james.d@merritot-scott.com</td>\n",
       "      <td>james.d@merritt-scott.com</td>\n",
       "      <td>0</td>\n",
       "      <td>103</td>\n",
       "      <td>103</td>\n",
       "    </tr>\n",
       "  </tbody>\n",
       "</table>\n",
       "</div>"
      ],
      "text/plain": [
       "     match_weight  match_probability unique_id_l unique_id_r surname_l  \\\n",
       "980     11.440809            0.99964         400         403     Dixon   \n",
       "\n",
       "    surname_r  gamma_surname       dob_l       dob_r  gamma_dob city_l city_r  \\\n",
       "980     Dixon              2  1991-04-12  1991-04-12          1   None   None   \n",
       "\n",
       "     gamma_city                     email_l                    email_r  \\\n",
       "980          -1  james.d@merritot-scott.com  james.d@merritt-scott.com   \n",
       "\n",
       "     gamma_email group_l group_r  \n",
       "980            0     103     103  "
      ]
     },
     "metadata": {},
     "output_type": "display_data"
    },
    {
     "data": {
      "application/vnd.vegalite.v4+json": {
       "$schema": "https://vega.github.io/schema/vega-lite/v4.8.1.json",
       "config": {
        "view": {
         "continuousHeight": 300,
         "continuousWidth": 400
        }
       },
       "data": {
        "name": "data-692a258c28933f7d46718e49d321dcdd"
       },
       "datasets": {
        "data-692a258c28933f7d46718e49d321dcdd": [
         {
          "bayes_factor": 0.5063226890528072,
          "column_name": "Prior lambda",
          "comparison_vector_value": "nan",
          "gamma_column_name": "nan",
          "gamma_index": "nan",
          "index": 0,
          "is_null": "nan",
          "label": "nan",
          "level_name": "nan",
          "level_proportion": "nan",
          "log2_bayes_factor": -0.9818709599374039,
          "m_probability": "nan",
          "num_levels": "nan",
          "sql_expr": "nan",
          "u_probability": "nan",
          "value_l": "nan",
          "value_r": "nan"
         },
         {
          "bayes_factor": 229.83450512033318,
          "column_name": "dob",
          "comparison_vector_value": "1",
          "gamma_column_name": "gamma_dob",
          "gamma_index": 1,
          "index": 1,
          "is_null": 0,
          "label": "level_1",
          "level_name": "level_1",
          "level_proportion": 0.13618190634675031,
          "log2_bayes_factor": 7.844451596240181,
          "m_probability": 0.4016927386787805,
          "num_levels": 2,
          "sql_expr": "WHEN dob_l = dob_r THEN 1",
          "u_probability": 0.0017477477477477479,
          "value_l": "1991-04-12",
          "value_r": "1991-04-12"
         },
         {
          "bayes_factor": 128.36790960927516,
          "column_name": "surname",
          "comparison_vector_value": "2",
          "gamma_column_name": "gamma_surname",
          "gamma_index": 2,
          "index": 2,
          "is_null": 0,
          "label": "level_2",
          "level_name": "level_2",
          "level_proportion": 0.21424147714076955,
          "log2_bayes_factor": 7.004140781379243,
          "m_probability": 0.6277159394096584,
          "num_levels": 3,
          "sql_expr": "WHEN JARO_WINKLER_SIM(surname_l, surname_r) >= 1.0 THEN 2",
          "u_probability": 0.004889975550122249,
          "value_l": "Dixon",
          "value_r": "Dixon"
         },
         {
          "bayes_factor": 0.41819571347425905,
          "column_name": "email",
          "comparison_vector_value": "0",
          "gamma_column_name": "gamma_email",
          "gamma_index": 0,
          "index": 3,
          "is_null": 0,
          "label": "level_0",
          "level_name": "level_0",
          "level_proportion": 0.8026723497012427,
          "log2_bayes_factor": -1.2577498205761373,
          "m_probability": 0.4172782458946928,
          "num_levels": 2,
          "sql_expr": "ELSE 0",
          "u_probability": 0.9978061286856716,
          "value_l": "james.d@merritot-scott.com",
          "value_r": "james.d@merritt-scott.com"
         },
         {
          "bayes_factor": 1,
          "column_name": "city",
          "comparison_vector_value": "-1",
          "gamma_column_name": "gamma_city",
          "gamma_index": -1,
          "index": 4,
          "is_null": 1,
          "label": "level_-1",
          "level_name": "level_-1",
          "level_proportion": 1,
          "log2_bayes_factor": 0,
          "m_probability": 1,
          "num_levels": 2,
          "sql_expr": "WHEN city_l IS NULL OR city_r IS NULL THEN -1",
          "u_probability": 1,
          "value_l": "None",
          "value_r": "None"
         },
         {
          "bayes_factor": 6247.102981399433,
          "column_name": "Final score",
          "comparison_vector_value": "nan",
          "gamma_column_name": "nan",
          "gamma_index": "nan",
          "index": 5,
          "is_null": "nan",
          "label": "nan",
          "level_name": "nan",
          "level_proportion": "nan",
          "log2_bayes_factor": 12.608971597105883,
          "m_probability": "nan",
          "num_levels": "nan",
          "sql_expr": "nan",
          "u_probability": "nan",
          "value_l": "nan",
          "value_r": "nan"
         }
        ]
       },
       "height": 450,
       "layer": [
        {
         "layer": [
          {
           "encoding": {
            "color": {
             "value": "black"
            },
            "size": {
             "value": 0.5
            },
            "y": {
             "field": "zero",
             "type": "quantitative"
            }
           },
           "mark": "rule"
          },
          {
           "encoding": {
            "color": {
             "condition": {
              "test": "(datum.log2_bayes_factor < 0)",
              "value": "red"
             },
             "value": "green"
            },
            "opacity": {
             "condition": {
              "test": "datum.column_name == 'Prior lambda' || datum.column_name == 'Final score'",
              "value": 1
             },
             "value": 0.5
            },
            "tooltip": [
             {
              "field": "column_name",
              "title": "Comparison column",
              "type": "nominal"
             },
             {
              "field": "value_l",
              "title": "Value (L)",
              "type": "nominal"
             },
             {
              "field": "value_r",
              "title": "Value (R)",
              "type": "nominal"
             },
             {
              "field": "label",
              "title": "Level label",
              "type": "nominal"
             },
             {
              "field": "sql_expr",
              "title": "SQL for level",
              "type": "nominal"
             },
             {
              "field": "gamma_index",
              "title": "Comparison vector value",
              "type": "nominal"
             },
             {
              "field": "bayes_factor",
              "format": ".3r",
              "title": "Bayes factor",
              "type": "quantitative"
             },
             {
              "field": "log2_bayes_factor",
              "format": ".3r",
              "title": "log2(Bayes factor)",
              "type": "quantitative"
             },
             {
              "field": "prob",
              "format": ".3r",
              "title": "Adjusted match score",
              "type": "quantitative"
             }
            ],
            "x": {
             "axis": {
              "grid": true,
              "labelAlign": "center",
              "labelAngle": -20,
              "labelExpr": "datum.value == 'Prior lambda' || datum.value == 'Final score' ? '' : datum.value",
              "labelPadding": 10,
              "tickBand": "extent",
              "title": "Column"
             },
             "field": "column_name",
             "sort": null,
             "type": "nominal"
            },
            "y": {
             "axis": {
              "grid": false,
              "orient": "left",
              "title": "log2(Bayes factor)"
             },
             "field": "previous_sum",
             "type": "quantitative"
            },
            "y2": {
             "field": "sum"
            }
           },
           "mark": {
            "type": "bar",
            "width": 60
           }
          },
          {
           "encoding": {
            "color": {
             "value": "white"
            },
            "text": {
             "condition": {
              "field": "log2_bayes_factor",
              "format": ".2f",
              "test": "abs(datum.log2_bayes_factor) > 1",
              "type": "nominal"
             },
             "value": ""
            },
            "x": {
             "axis": {
              "labelAngle": 0,
              "title": "Column"
             },
             "field": "column_name",
             "sort": null,
             "type": "nominal"
            },
            "y": {
             "axis": {
              "orient": "left"
             },
             "field": "center",
             "type": "quantitative"
            }
           },
           "mark": {
            "fontWeight": "bold",
            "type": "text"
           }
          },
          {
           "encoding": {
            "color": {
             "value": "black"
            },
            "text": {
             "condition": {
              "field": "top_label",
              "test": "abs(datum.log2_bayes_factor) > 1",
              "type": "nominal"
             },
             "value": ""
            },
            "x": {
             "axis": {
              "labelAngle": 0,
              "title": "Column"
             },
             "field": "column_name",
             "sort": null,
             "type": "nominal"
            },
            "y": {
             "field": "sum_top",
             "type": "quantitative"
            }
           },
           "mark": {
            "baseline": "bottom",
            "dy": -5,
            "fontWeight": "bold",
            "type": "text"
           }
          },
          {
           "encoding": {
            "color": {
             "value": "black"
            },
            "text": {
             "condition": {
              "field": "bottom_label",
              "test": "abs(datum.log2_bayes_factor) > 1",
              "type": "nominal"
             },
             "value": ""
            },
            "x": {
             "axis": {
              "labelAngle": 0,
              "title": "Column"
             },
             "field": "column_name",
             "sort": null,
             "type": "nominal"
            },
            "y": {
             "field": "sum_bottom",
             "type": "quantitative"
            }
           },
           "mark": {
            "baseline": "top",
            "dy": 5,
            "fontWeight": "bold",
            "type": "text"
           }
          }
         ]
        },
        {
         "encoding": {
          "x": {
           "axis": {
            "labelAngle": 0,
            "title": "Column"
           },
           "field": "column_name",
           "sort": null,
           "type": "nominal"
          },
          "x2": {
           "field": "lead"
          },
          "y": {
           "axis": {
            "labelExpr": "format(1 / (1 + pow(2, -1*datum.value)), '.2r')",
            "orient": "right",
            "title": "Probability"
           },
           "field": "sum",
           "scale": {
            "zero": false
           },
           "type": "quantitative"
          }
         },
         "mark": {
          "color": "black",
          "strokeWidth": 2,
          "type": "rule",
          "x2Offset": 30,
          "xOffset": -30
         }
        }
       ],
       "resolve": {
        "axis": {
         "y": "independent"
        }
       },
       "title": {
        "subtitle": "How each comparison column contributes to the final match score",
        "text": "Bayes factor intuition chart"
       },
       "transform": [
        {
         "filter": "(datum.bayes_factor !== 1.0)"
        },
        {
         "frame": [
          null,
          0
         ],
         "window": [
          {
           "as": "sum",
           "field": "log2_bayes_factor",
           "op": "sum"
          },
          {
           "as": "lead",
           "field": "column_name",
           "op": "lead"
          }
         ]
        },
        {
         "as": "sum",
         "calculate": "datum.column_name === \"Final score\" ? datum.sum - datum.log2_bayes_factor : datum.sum"
        },
        {
         "as": "lead",
         "calculate": "datum.lead === null ? datum.column_name : datum.lead"
        },
        {
         "as": "previous_sum",
         "calculate": "datum.column_name === \"Final score\" || datum.column_name === \"Prior lambda\" ? 0 : datum.sum - datum.log2_bayes_factor"
        },
        {
         "as": "top_label",
         "calculate": "datum.sum > datum.previous_sum ? datum.column_name : \"\""
        },
        {
         "as": "bottom_label",
         "calculate": "datum.sum < datum.previous_sum ? datum.column_name : \"\""
        },
        {
         "as": "sum_top",
         "calculate": "datum.sum > datum.previous_sum ? datum.sum : datum.previous_sum"
        },
        {
         "as": "sum_bottom",
         "calculate": "datum.sum < datum.previous_sum ? datum.sum : datum.previous_sum"
        },
        {
         "as": "center",
         "calculate": "(datum.sum + datum.previous_sum) / 2"
        },
        {
         "as": "text_log2_bayes_factor",
         "calculate": "(datum.log2_bayes_factor > 0 ? \"+\" : \"\") + datum.log2_bayes_factor"
        },
        {
         "as": "dy",
         "calculate": "datum.sum < datum.previous_sum ? 4 : -4"
        },
        {
         "as": "baseline",
         "calculate": "datum.sum < datum.previous_sum ? \"top\" : \"bottom\""
        },
        {
         "as": "prob",
         "calculate": "1. / (1 + pow(2, -1.*datum.sum))"
        },
        {
         "as": "zero",
         "calculate": "0*datum.sum"
        }
       ],
       "width": {
        "step": 75
       }
      },
      "text/plain": [
       "<VegaLite 4 object>\n",
       "\n",
       "If you see this message, it means the renderer has not been properly enabled\n",
       "for the frontend that you are using. For more information, see\n",
       "https://altair-viz.github.io/user_guide/troubleshooting.html\n"
      ]
     },
     "execution_count": 27,
     "metadata": {},
     "output_type": "execute_result"
    }
   ],
   "source": [
    "from splink.intuition import bayes_factor_intuition_chart\n",
    "sample = df_e.toPandas().sample(1)\n",
    "row_dict = sample.to_dict(orient=\"records\")[0]\n",
    "display(sample)\n",
    "bayes_factor_intuition_chart(row_dict, model)"
   ]
  },
  {
   "cell_type": "markdown",
   "metadata": {},
   "source": [
    "## Step 9: Measure accuracy of results \n",
    "\n",
    "If you have labelled data, Splink contains routines to compute various accuracy statistics.\n",
    "\n",
    "The labelled data should look like this:\n",
    "\n",
    "| unique_id_l | unique_id_r | clerical_match_score |\n",
    "|:------------|:------------|---------------------:|\n",
    "| id1         | id2         |                  0.9 |\n",
    "| id1         | id3         |                  0.1 |\n",
    "\n",
    "Since we have labelled data, in this noteboko I create this table from the 'group' field of the original data\n",
    "\n"
   ]
  },
  {
   "cell_type": "markdown",
   "metadata": {},
   "source": [
    "**Note: We will fine that the overall accuracy of these results is low because our blocking rule eliminates a large percentage of true matches**"
   ]
  },
  {
   "cell_type": "code",
   "execution_count": 19,
   "metadata": {},
   "outputs": [
    {
     "data": {
      "text/html": [
       "<div>\n",
       "<style scoped>\n",
       "    .dataframe tbody tr th:only-of-type {\n",
       "        vertical-align: middle;\n",
       "    }\n",
       "\n",
       "    .dataframe tbody tr th {\n",
       "        vertical-align: top;\n",
       "    }\n",
       "\n",
       "    .dataframe thead th {\n",
       "        text-align: right;\n",
       "    }\n",
       "</style>\n",
       "<table border=\"1\" class=\"dataframe\">\n",
       "  <thead>\n",
       "    <tr style=\"text-align: right;\">\n",
       "      <th></th>\n",
       "      <th>unique_id_l</th>\n",
       "      <th>unique_id_r</th>\n",
       "      <th>clerical_match_score</th>\n",
       "    </tr>\n",
       "  </thead>\n",
       "  <tbody>\n",
       "    <tr>\n",
       "      <th>1</th>\n",
       "      <td>645</td>\n",
       "      <td>391</td>\n",
       "      <td>0.0</td>\n",
       "    </tr>\n",
       "    <tr>\n",
       "      <th>2</th>\n",
       "      <td>645</td>\n",
       "      <td>166</td>\n",
       "      <td>0.0</td>\n",
       "    </tr>\n",
       "    <tr>\n",
       "      <th>4</th>\n",
       "      <td>645</td>\n",
       "      <td>568</td>\n",
       "      <td>0.0</td>\n",
       "    </tr>\n",
       "    <tr>\n",
       "      <th>5</th>\n",
       "      <td>645</td>\n",
       "      <td>369</td>\n",
       "      <td>0.0</td>\n",
       "    </tr>\n",
       "    <tr>\n",
       "      <th>6</th>\n",
       "      <td>645</td>\n",
       "      <td>462</td>\n",
       "      <td>0.0</td>\n",
       "    </tr>\n",
       "  </tbody>\n",
       "</table>\n",
       "</div>"
      ],
      "text/plain": [
       "  unique_id_l unique_id_r  clerical_match_score\n",
       "1         645         391                   0.0\n",
       "2         645         166                   0.0\n",
       "4         645         568                   0.0\n",
       "5         645         369                   0.0\n",
       "6         645         462                   0.0"
      ]
     },
     "execution_count": 19,
     "metadata": {},
     "output_type": "execute_result"
    }
   ],
   "source": [
    "cols = ['unique_id', 'group']\n",
    "dfpd_l = df.toPandas().sample(300)[cols]\n",
    "dfpd_l[\"join_col\"] = 1\n",
    "dfpd_r = dfpd_l.copy()\n",
    "labels = dfpd_l.merge(dfpd_r, on = \"join_col\", suffixes=('_l', '_r'))\n",
    "labels = labels[labels[\"unique_id_r\"]< labels[\"unique_id_l\"]]\n",
    "labels[\"clerical_match_score\"] = (labels[\"group_l\"] == labels[\"group_r\"]).astype(float)\n",
    "labels = labels.drop([\"group_l\", \"group_r\", \"join_col\"], axis=1)\n",
    "labels.head()"
   ]
  },
  {
   "cell_type": "code",
   "execution_count": 20,
   "metadata": {},
   "outputs": [
    {
     "name": "stdout",
     "output_type": "stream",
     "text": [
      "+-----------+-----------+--------------------+-----------------+-----------------+\n",
      "|unique_id_l|unique_id_r|clerical_match_score|match_probability|found_by_blocking|\n",
      "+-----------+-----------+--------------------+-----------------+-----------------+\n",
      "|        101|          1|                 0.0|              0.0|            false|\n",
      "|        111|          1|                 0.0|              0.0|            false|\n",
      "|        112|          1|                 0.0|              0.0|            false|\n",
      "|        113|          1|                 0.0|              0.0|            false|\n",
      "|        128|          1|                 0.0|              0.0|            false|\n",
      "|        153|          1|                 0.0|              0.0|            false|\n",
      "|        166|          1|                 0.0|              0.0|            false|\n",
      "|        211|          1|                 0.0|              0.0|            false|\n",
      "|        242|          1|                 0.0|              0.0|            false|\n",
      "|        266|          1|                 0.0|              0.0|            false|\n",
      "|        285|          1|                 0.0|              0.0|            false|\n",
      "|        303|          1|                 0.0|              0.0|            false|\n",
      "|        353|          1|                 0.0|              0.0|            false|\n",
      "|        369|          1|                 0.0|              0.0|            false|\n",
      "|        390|          1|                 0.0|              0.0|            false|\n",
      "|        401|          1|                 0.0|              0.0|            false|\n",
      "|        413|          1|                 0.0|              0.0|            false|\n",
      "|        428|          1|                 0.0|              0.0|            false|\n",
      "|        474|          1|                 0.0|              0.0|            false|\n",
      "|        475|          1|                 0.0|              0.0|            false|\n",
      "+-----------+-----------+--------------------+-----------------+-----------------+\n",
      "only showing top 20 rows\n",
      "\n"
     ]
    }
   ],
   "source": [
    "from splink.truth import labels_with_splink_scores, roc_chart, precision_recall_chart\n",
    "labels_sp = spark.createDataFrame(labels)\n",
    "labels_and_scores = labels_with_splink_scores(labels_sp, df_e, \"unique_id\", spark)\n",
    "labels_and_scores.show()"
   ]
  },
  {
   "cell_type": "code",
   "execution_count": 21,
   "metadata": {},
   "outputs": [
    {
     "data": {
      "text/html": [
       "<div>\n",
       "<style scoped>\n",
       "    .dataframe tbody tr th:only-of-type {\n",
       "        vertical-align: middle;\n",
       "    }\n",
       "\n",
       "    .dataframe tbody tr th {\n",
       "        vertical-align: top;\n",
       "    }\n",
       "\n",
       "    .dataframe thead th {\n",
       "        text-align: right;\n",
       "    }\n",
       "</style>\n",
       "<table border=\"1\" class=\"dataframe\">\n",
       "  <thead>\n",
       "    <tr style=\"text-align: right;\">\n",
       "      <th></th>\n",
       "      <th>unique_id_l</th>\n",
       "      <th>unique_id_r</th>\n",
       "      <th>clerical_match_score</th>\n",
       "      <th>match_probability</th>\n",
       "      <th>found_by_blocking</th>\n",
       "    </tr>\n",
       "  </thead>\n",
       "  <tbody>\n",
       "    <tr>\n",
       "      <th>10977</th>\n",
       "      <td>889</td>\n",
       "      <td>888</td>\n",
       "      <td>1.0</td>\n",
       "      <td>0.000000</td>\n",
       "      <td>False</td>\n",
       "    </tr>\n",
       "    <tr>\n",
       "      <th>7600</th>\n",
       "      <td>316</td>\n",
       "      <td>315</td>\n",
       "      <td>1.0</td>\n",
       "      <td>0.000000</td>\n",
       "      <td>False</td>\n",
       "    </tr>\n",
       "    <tr>\n",
       "      <th>6602</th>\n",
       "      <td>211</td>\n",
       "      <td>208</td>\n",
       "      <td>1.0</td>\n",
       "      <td>0.000000</td>\n",
       "      <td>False</td>\n",
       "    </tr>\n",
       "    <tr>\n",
       "      <th>10256</th>\n",
       "      <td>673</td>\n",
       "      <td>672</td>\n",
       "      <td>1.0</td>\n",
       "      <td>0.000000</td>\n",
       "      <td>False</td>\n",
       "    </tr>\n",
       "    <tr>\n",
       "      <th>43566</th>\n",
       "      <td>599</td>\n",
       "      <td>600</td>\n",
       "      <td>1.0</td>\n",
       "      <td>0.996780</td>\n",
       "      <td>True</td>\n",
       "    </tr>\n",
       "    <tr>\n",
       "      <th>36880</th>\n",
       "      <td>464</td>\n",
       "      <td>463</td>\n",
       "      <td>1.0</td>\n",
       "      <td>0.000000</td>\n",
       "      <td>False</td>\n",
       "    </tr>\n",
       "    <tr>\n",
       "      <th>23234</th>\n",
       "      <td>203</td>\n",
       "      <td>200</td>\n",
       "      <td>1.0</td>\n",
       "      <td>0.000000</td>\n",
       "      <td>False</td>\n",
       "    </tr>\n",
       "    <tr>\n",
       "      <th>5314</th>\n",
       "      <td>860</td>\n",
       "      <td>856</td>\n",
       "      <td>1.0</td>\n",
       "      <td>0.000000</td>\n",
       "      <td>False</td>\n",
       "    </tr>\n",
       "    <tr>\n",
       "      <th>19678</th>\n",
       "      <td>424</td>\n",
       "      <td>425</td>\n",
       "      <td>1.0</td>\n",
       "      <td>0.999999</td>\n",
       "      <td>True</td>\n",
       "    </tr>\n",
       "    <tr>\n",
       "      <th>33000</th>\n",
       "      <td>721</td>\n",
       "      <td>718</td>\n",
       "      <td>1.0</td>\n",
       "      <td>0.000000</td>\n",
       "      <td>False</td>\n",
       "    </tr>\n",
       "  </tbody>\n",
       "</table>\n",
       "</div>"
      ],
      "text/plain": [
       "      unique_id_l unique_id_r  clerical_match_score  match_probability  \\\n",
       "10977         889         888                   1.0           0.000000   \n",
       "7600          316         315                   1.0           0.000000   \n",
       "6602          211         208                   1.0           0.000000   \n",
       "10256         673         672                   1.0           0.000000   \n",
       "43566         599         600                   1.0           0.996780   \n",
       "36880         464         463                   1.0           0.000000   \n",
       "23234         203         200                   1.0           0.000000   \n",
       "5314          860         856                   1.0           0.000000   \n",
       "19678         424         425                   1.0           0.999999   \n",
       "33000         721         718                   1.0           0.000000   \n",
       "\n",
       "       found_by_blocking  \n",
       "10977              False  \n",
       "7600               False  \n",
       "6602               False  \n",
       "10256              False  \n",
       "43566               True  \n",
       "36880              False  \n",
       "23234              False  \n",
       "5314               False  \n",
       "19678               True  \n",
       "33000              False  "
      ]
     },
     "execution_count": 21,
     "metadata": {},
     "output_type": "execute_result"
    }
   ],
   "source": [
    "labels_and_scores_pd = labels_and_scores.toPandas()\n",
    "f1 = labels_and_scores_pd[\"clerical_match_score\"] == 1.0\n",
    "labels_and_scores_pd[f1].sample(10)"
   ]
  },
  {
   "cell_type": "code",
   "execution_count": 22,
   "metadata": {},
   "outputs": [
    {
     "name": "stderr",
     "output_type": "stream",
     "text": [
      "22/01/11 05:34:37 WARN WindowExec: No Partition Defined for Window operation! Moving all data to a single partition, this can cause serious performance degradation.\n",
      "22/01/11 05:34:37 WARN WindowExec: No Partition Defined for Window operation! Moving all data to a single partition, this can cause serious performance degradation.\n",
      "22/01/11 05:34:38 WARN WindowExec: No Partition Defined for Window operation! Moving all data to a single partition, this can cause serious performance degradation.\n",
      "22/01/11 05:34:38 WARN WindowExec: No Partition Defined for Window operation! Moving all data to a single partition, this can cause serious performance degradation.\n"
     ]
    },
    {
     "data": {
      "application/vnd.vegalite.v4+json": {
       "$schema": "https://vega.github.io/schema/vega-lite/v4.8.1.json",
       "config": {
        "view": {
         "continuousHeight": 300,
         "continuousWidth": 400
        }
       },
       "data": {
        "name": "data-fadd0e93e9546856cbc745a99e65285d",
        "values": [
         {
          "FN": 0,
          "FN_rate": 0,
          "FP": 44662,
          "FP_rate": 1,
          "N": 44662,
          "N_rate": 0.9958082497212932,
          "P": 188,
          "P_rate": 0.004191750278706801,
          "TN": 0,
          "TN_rate": 0,
          "TP": 188,
          "TP_rate": 1,
          "precision": 0.004191750278706801,
          "recall": 1,
          "roc_label": "model1",
          "row_count": 44850,
          "truth_threshold": 0
         },
         {
          "FN": 129,
          "FN_rate": 0.6861702127659575,
          "FP": 143,
          "FP_rate": 0.003201827056558148,
          "N": 44662,
          "N_rate": 0.9958082497212932,
          "P": 188,
          "P_rate": 0.004191750278706801,
          "TN": 44519,
          "TN_rate": 0.9967981729434419,
          "TP": 59,
          "TP_rate": 0.31382978723404253,
          "precision": 0.29207920792079206,
          "recall": 0.31382978723404253,
          "roc_label": "model1",
          "row_count": 44850,
          "truth_threshold": 0.005069854907864207
         },
         {
          "FN": 130,
          "FN_rate": 0.6914893617021277,
          "FP": 110,
          "FP_rate": 0.002462943889660114,
          "N": 44662,
          "N_rate": 0.9958082497212932,
          "P": 188,
          "P_rate": 0.004191750278706801,
          "TN": 44552,
          "TN_rate": 0.9975370561103399,
          "TP": 58,
          "TP_rate": 0.30851063829787234,
          "precision": 0.34523809523809523,
          "recall": 0.30851063829787234,
          "roc_label": "model1",
          "row_count": 44850,
          "truth_threshold": 0.01097516450071155
         },
         {
          "FN": 130,
          "FN_rate": 0.6914893617021277,
          "FP": 92,
          "FP_rate": 0.0020599167077157317,
          "N": 44662,
          "N_rate": 0.9958082497212932,
          "P": 188,
          "P_rate": 0.004191750278706801,
          "TN": 44570,
          "TN_rate": 0.9979400832922842,
          "TP": 58,
          "TP_rate": 0.30851063829787234,
          "precision": 0.38666666666666666,
          "recall": 0.30851063829787234,
          "roc_label": "model1",
          "row_count": 44850,
          "truth_threshold": 0.012038253741466474
         },
         {
          "FN": 131,
          "FN_rate": 0.6968085106382979,
          "FP": 67,
          "FP_rate": 0.0015001567327929783,
          "N": 44662,
          "N_rate": 0.9958082497212932,
          "P": 188,
          "P_rate": 0.004191750278706801,
          "TN": 44595,
          "TN_rate": 0.998499843267207,
          "TP": 57,
          "TP_rate": 0.30319148936170215,
          "precision": 0.4596774193548387,
          "recall": 0.30319148936170215,
          "roc_label": "model1",
          "row_count": 44850,
          "truth_threshold": 0.02584939416880241
         },
         {
          "FN": 132,
          "FN_rate": 0.7021276595744681,
          "FP": 60,
          "FP_rate": 0.0013434239398146075,
          "N": 44662,
          "N_rate": 0.9958082497212932,
          "P": 188,
          "P_rate": 0.004191750278706801,
          "TN": 44602,
          "TN_rate": 0.9986565760601854,
          "TP": 56,
          "TP_rate": 0.2978723404255319,
          "precision": 0.4827586206896552,
          "recall": 0.2978723404255319,
          "roc_label": "model1",
          "row_count": 44850,
          "truth_threshold": 0.028676471245015666
         },
         {
          "FN": 132,
          "FN_rate": 0.7021276595744681,
          "FP": 58,
          "FP_rate": 0.0012986431418207873,
          "N": 44662,
          "N_rate": 0.9958082497212932,
          "P": 188,
          "P_rate": 0.004191750278706801,
          "TN": 44604,
          "TN_rate": 0.9987013568581792,
          "TP": 56,
          "TP_rate": 0.2978723404255319,
          "precision": 0.49122807017543857,
          "recall": 0.2978723404255319,
          "roc_label": "model1",
          "row_count": 44850,
          "truth_threshold": 0.055066956876010285
         },
         {
          "FN": 132,
          "FN_rate": 0.7021276595744681,
          "FP": 38,
          "FP_rate": 0.0008508351618825848,
          "N": 44662,
          "N_rate": 0.9958082497212932,
          "P": 188,
          "P_rate": 0.004191750278706801,
          "TN": 44624,
          "TN_rate": 0.9991491648381174,
          "TP": 56,
          "TP_rate": 0.2978723404255319,
          "precision": 0.5957446808510638,
          "recall": 0.2978723404255319,
          "roc_label": "model1",
          "row_count": 44850,
          "truth_threshold": 0.06594114226327491
         },
         {
          "FN": 132,
          "FN_rate": 0.7021276595744681,
          "FP": 35,
          "FP_rate": 0.0007836639648918543,
          "N": 44662,
          "N_rate": 0.9958082497212932,
          "P": 188,
          "P_rate": 0.004191750278706801,
          "TN": 44627,
          "TN_rate": 0.9992163360351082,
          "TP": 56,
          "TP_rate": 0.2978723404255319,
          "precision": 0.6153846153846154,
          "recall": 0.2978723404255319,
          "roc_label": "model1",
          "row_count": 44850,
          "truth_threshold": 0.11261656085772564
         },
         {
          "FN": 133,
          "FN_rate": 0.7074468085106383,
          "FP": 26,
          "FP_rate": 0.0005821503739196633,
          "N": 44662,
          "N_rate": 0.9958082497212932,
          "P": 188,
          "P_rate": 0.004191750278706801,
          "TN": 44636,
          "TN_rate": 0.9994178496260804,
          "TP": 55,
          "TP_rate": 0.2925531914893617,
          "precision": 0.6790123456790124,
          "recall": 0.2925531914893617,
          "roc_label": "model1",
          "row_count": 44850,
          "truth_threshold": 0.12230744122271638
         },
         {
          "FN": 136,
          "FN_rate": 0.723404255319149,
          "FP": 14,
          "FP_rate": 0.00031346558595674175,
          "N": 44662,
          "N_rate": 0.9958082497212932,
          "P": 188,
          "P_rate": 0.004191750278706801,
          "TN": 44648,
          "TN_rate": 0.9996865344140432,
          "TP": 52,
          "TP_rate": 0.2765957446808511,
          "precision": 0.7878787878787878,
          "recall": 0.2765957446808511,
          "roc_label": "model1",
          "row_count": 44850,
          "truth_threshold": 0.23103000007995414
         },
         {
          "FN": 136,
          "FN_rate": 0.723404255319149,
          "FP": 13,
          "FP_rate": 0.00029107518695983164,
          "N": 44662,
          "N_rate": 0.9958082497212932,
          "P": 188,
          "P_rate": 0.004191750278706801,
          "TN": 44649,
          "TN_rate": 0.9997089248130402,
          "TP": 52,
          "TP_rate": 0.2765957446808511,
          "precision": 0.8,
          "recall": 0.2765957446808511,
          "roc_label": "model1",
          "row_count": 44850,
          "truth_threshold": 0.23281520937037514
         },
         {
          "FN": 137,
          "FN_rate": 0.7287234042553191,
          "FP": 8,
          "FP_rate": 0.000179123191975281,
          "N": 44662,
          "N_rate": 0.9958082497212932,
          "P": 188,
          "P_rate": 0.004191750278706801,
          "TN": 44654,
          "TN_rate": 0.9998208768080247,
          "TP": 51,
          "TP_rate": 0.2712765957446808,
          "precision": 0.864406779661017,
          "recall": 0.2712765957446808,
          "roc_label": "model1",
          "row_count": 44850,
          "truth_threshold": 0.2339097272411053
         },
         {
          "FN": 138,
          "FN_rate": 0.7340425531914894,
          "FP": 8,
          "FP_rate": 0.000179123191975281,
          "N": 44662,
          "N_rate": 0.9958082497212932,
          "P": 188,
          "P_rate": 0.004191750278706801,
          "TN": 44654,
          "TN_rate": 0.9998208768080247,
          "TP": 50,
          "TP_rate": 0.26595744680851063,
          "precision": 0.8620689655172413,
          "recall": 0.26595744680851063,
          "roc_label": "model1",
          "row_count": 44850,
          "truth_threshold": 0.6815263087506642
         },
         {
          "FN": 138,
          "FN_rate": 0.7340425531914894,
          "FP": 7,
          "FP_rate": 0.00015673279297837088,
          "N": 44662,
          "N_rate": 0.9958082497212932,
          "P": 188,
          "P_rate": 0.004191750278706801,
          "TN": 44655,
          "TN_rate": 0.9998432672070217,
          "TP": 50,
          "TP_rate": 0.26595744680851063,
          "precision": 0.8771929824561403,
          "recall": 0.26595744680851063,
          "roc_label": "model1",
          "row_count": 44850,
          "truth_threshold": 0.8089206979616866
         },
         {
          "FN": 139,
          "FN_rate": 0.7393617021276596,
          "FP": 5,
          "FP_rate": 0.00011195199498455063,
          "N": 44662,
          "N_rate": 0.9958082497212932,
          "P": 188,
          "P_rate": 0.004191750278706801,
          "TN": 44657,
          "TN_rate": 0.9998880480050154,
          "TP": 49,
          "TP_rate": 0.26063829787234044,
          "precision": 0.9074074074074074,
          "recall": 0.26063829787234044,
          "roc_label": "model1",
          "row_count": 44850,
          "truth_threshold": 0.809717648728658
         },
         {
          "FN": 140,
          "FN_rate": 0.7446808510638298,
          "FP": 5,
          "FP_rate": 0.00011195199498455063,
          "N": 44662,
          "N_rate": 0.9958082497212932,
          "P": 188,
          "P_rate": 0.004191750278706801,
          "TN": 44657,
          "TN_rate": 0.9998880480050154,
          "TP": 48,
          "TP_rate": 0.2553191489361702,
          "precision": 0.9056603773584906,
          "recall": 0.2553191489361702,
          "roc_label": "model1",
          "row_count": 44850,
          "truth_threshold": 0.823329609025091
         },
         {
          "FN": 140,
          "FN_rate": 0.7446808510638298,
          "FP": 4,
          "FP_rate": 0.0000895615959876405,
          "N": 44662,
          "N_rate": 0.9958082497212932,
          "P": 188,
          "P_rate": 0.004191750278706801,
          "TN": 44658,
          "TN_rate": 0.9999104384040124,
          "TP": 48,
          "TP_rate": 0.2553191489361702,
          "precision": 0.9230769230769231,
          "recall": 0.2553191489361702,
          "roc_label": "model1",
          "row_count": 44850,
          "truth_threshold": 0.8295722015610423
         },
         {
          "FN": 141,
          "FN_rate": 0.75,
          "FP": 4,
          "FP_rate": 0.0000895615959876405,
          "N": 44662,
          "N_rate": 0.9958082497212932,
          "P": 188,
          "P_rate": 0.004191750278706801,
          "TN": 44658,
          "TN_rate": 0.9999104384040124,
          "TP": 47,
          "TP_rate": 0.25,
          "precision": 0.9215686274509803,
          "recall": 0.25,
          "roc_label": "model1",
          "row_count": 44850,
          "truth_threshold": 0.8995483706125017
         },
         {
          "FN": 142,
          "FN_rate": 0.7553191489361702,
          "FP": 4,
          "FP_rate": 0.0000895615959876405,
          "N": 44662,
          "N_rate": 0.9958082497212932,
          "P": 188,
          "P_rate": 0.004191750278706801,
          "TN": 44658,
          "TN_rate": 0.9999104384040124,
          "TP": 46,
          "TP_rate": 0.24468085106382978,
          "precision": 0.92,
          "recall": 0.24468085106382978,
          "roc_label": "model1",
          "row_count": 44850,
          "truth_threshold": 0.9021449748979598
         },
         {
          "FN": 142,
          "FN_rate": 0.7553191489361702,
          "FP": 0,
          "FP_rate": 0,
          "N": 44662,
          "N_rate": 0.9958082497212932,
          "P": 188,
          "P_rate": 0.004191750278706801,
          "TN": 44662,
          "TN_rate": 1,
          "TP": 46,
          "TP_rate": 0.24468085106382978,
          "precision": 1,
          "recall": 0.24468085106382978,
          "roc_label": "model1",
          "row_count": 44850,
          "truth_threshold": 0.9100968541767724
         },
         {
          "FN": 143,
          "FN_rate": 0.7606382978723404,
          "FP": 0,
          "FP_rate": 0,
          "N": 44662,
          "N_rate": 0.9958082497212932,
          "P": 188,
          "P_rate": 0.004191750278706801,
          "TN": 44662,
          "TN_rate": 1,
          "TP": 45,
          "TP_rate": 0.2393617021276596,
          "precision": 1,
          "recall": 0.2393617021276596,
          "roc_label": "model1",
          "row_count": 44850,
          "truth_threshold": 0.910518500098578
         },
         {
          "FN": 144,
          "FN_rate": 0.7659574468085106,
          "FP": 0,
          "FP_rate": 0,
          "N": 44662,
          "N_rate": 0.9958082497212932,
          "P": 188,
          "P_rate": 0.004191750278706801,
          "TN": 44662,
          "TN_rate": 1,
          "TP": 44,
          "TP_rate": 0.23404255319148937,
          "precision": 1,
          "recall": 0.23404255319148937,
          "roc_label": "model1",
          "row_count": 44850,
          "truth_threshold": 0.9227205667113801
         },
         {
          "FN": 145,
          "FN_rate": 0.7712765957446809,
          "FP": 0,
          "FP_rate": 0,
          "N": 44662,
          "N_rate": 0.9958082497212932,
          "P": 188,
          "P_rate": 0.004191750278706801,
          "TN": 44662,
          "TN_rate": 1,
          "TP": 43,
          "TP_rate": 0.22872340425531915,
          "precision": 1,
          "recall": 0.22872340425531915,
          "roc_label": "model1",
          "row_count": 44850,
          "truth_threshold": 0.9288191506229363
         },
         {
          "FN": 146,
          "FN_rate": 0.776595744680851,
          "FP": 0,
          "FP_rate": 0,
          "N": 44662,
          "N_rate": 0.9958082497212932,
          "P": 188,
          "P_rate": 0.004191750278706801,
          "TN": 44662,
          "TN_rate": 1,
          "TP": 42,
          "TP_rate": 0.22340425531914893,
          "precision": 1,
          "recall": 0.22340425531914893,
          "roc_label": "model1",
          "row_count": 44850,
          "truth_threshold": 0.9471181513766306
         },
         {
          "FN": 147,
          "FN_rate": 0.7819148936170213,
          "FP": 0,
          "FP_rate": 0,
          "N": 44662,
          "N_rate": 0.9958082497212932,
          "P": 188,
          "P_rate": 0.004191750278706801,
          "TN": 44662,
          "TN_rate": 1,
          "TP": 41,
          "TP_rate": 0.21808510638297873,
          "precision": 1,
          "recall": 0.21808510638297873,
          "roc_label": "model1",
          "row_count": 44850,
          "truth_threshold": 0.9570584156506001
         },
         {
          "FN": 148,
          "FN_rate": 0.7872340425531915,
          "FP": 0,
          "FP_rate": 0,
          "N": 44662,
          "N_rate": 0.9958082497212932,
          "P": 188,
          "P_rate": 0.004191750278706801,
          "TN": 44662,
          "TN_rate": 1,
          "TP": 40,
          "TP_rate": 0.2127659574468085,
          "precision": 1,
          "recall": 0.2127659574468085,
          "roc_label": "model1",
          "row_count": 44850,
          "truth_threshold": 0.9598072467593154
         },
         {
          "FN": 150,
          "FN_rate": 0.7978723404255319,
          "FP": 0,
          "FP_rate": 0,
          "N": 44662,
          "N_rate": 0.9958082497212932,
          "P": 188,
          "P_rate": 0.004191750278706801,
          "TN": 44662,
          "TN_rate": 1,
          "TP": 38,
          "TP_rate": 0.20212765957446807,
          "precision": 1,
          "recall": 0.20212765957446807,
          "roc_label": "model1",
          "row_count": 44850,
          "truth_threshold": 0.9736935793530755
         },
         {
          "FN": 156,
          "FN_rate": 0.8297872340425532,
          "FP": 0,
          "FP_rate": 0,
          "N": 44662,
          "N_rate": 0.9958082497212932,
          "P": 188,
          "P_rate": 0.004191750278706801,
          "TN": 44662,
          "TN_rate": 1,
          "TP": 32,
          "TP_rate": 0.1702127659574468,
          "precision": 1,
          "recall": 0.1702127659574468,
          "roc_label": "model1",
          "row_count": 44850,
          "truth_threshold": 0.9816301267600368
         },
         {
          "FN": 158,
          "FN_rate": 0.8404255319148937,
          "FP": 0,
          "FP_rate": 0,
          "N": 44662,
          "N_rate": 0.9958082497212932,
          "P": 188,
          "P_rate": 0.004191750278706801,
          "TN": 44662,
          "TN_rate": 1,
          "TP": 30,
          "TP_rate": 0.1595744680851064,
          "precision": 1,
          "recall": 0.1595744680851064,
          "roc_label": "model1",
          "row_count": 44850,
          "truth_threshold": 0.9832356760331824
         },
         {
          "FN": 159,
          "FN_rate": 0.8457446808510638,
          "FP": 0,
          "FP_rate": 0,
          "N": 44662,
          "N_rate": 0.9958082497212932,
          "P": 188,
          "P_rate": 0.004191750278706801,
          "TN": 44662,
          "TN_rate": 1,
          "TP": 29,
          "TP_rate": 0.15425531914893617,
          "precision": 1,
          "recall": 0.15425531914893617,
          "roc_label": "model1",
          "row_count": 44850,
          "truth_threshold": 0.9834148869133785
         },
         {
          "FN": 162,
          "FN_rate": 0.8617021276595744,
          "FP": 0,
          "FP_rate": 0,
          "N": 44662,
          "N_rate": 0.9958082497212932,
          "P": 188,
          "P_rate": 0.004191750278706801,
          "TN": 44662,
          "TN_rate": 1,
          "TP": 26,
          "TP_rate": 0.13829787234042554,
          "precision": 1,
          "recall": 0.13829787234042554,
          "roc_label": "model1",
          "row_count": 44850,
          "truth_threshold": 0.9914799660748046
         },
         {
          "FN": 163,
          "FN_rate": 0.8670212765957447,
          "FP": 0,
          "FP_rate": 0,
          "N": 44662,
          "N_rate": 0.9958082497212932,
          "P": 188,
          "P_rate": 0.004191750278706801,
          "TN": 44662,
          "TN_rate": 1,
          "TP": 25,
          "TP_rate": 0.13297872340425532,
          "precision": 1,
          "recall": 0.13297872340425532,
          "roc_label": "model1",
          "row_count": 44850,
          "truth_threshold": 0.9953584811692694
         },
         {
          "FN": 164,
          "FN_rate": 0.8723404255319149,
          "FP": 0,
          "FP_rate": 0,
          "N": 44662,
          "N_rate": 0.9958082497212932,
          "P": 188,
          "P_rate": 0.004191750278706801,
          "TN": 44662,
          "TN_rate": 1,
          "TP": 24,
          "TP_rate": 0.1276595744680851,
          "precision": 1,
          "recall": 0.1276595744680851,
          "roc_label": "model1",
          "row_count": 44850,
          "truth_threshold": 0.9966688083120461
         },
         {
          "FN": 166,
          "FN_rate": 0.8829787234042553,
          "FP": 0,
          "FP_rate": 0,
          "N": 44662,
          "N_rate": 0.9958082497212932,
          "P": 188,
          "P_rate": 0.004191750278706801,
          "TN": 44662,
          "TN_rate": 1,
          "TP": 22,
          "TP_rate": 0.11702127659574468,
          "precision": 1,
          "recall": 0.11702127659574468,
          "roc_label": "model1",
          "row_count": 44850,
          "truth_threshold": 0.9967804222188497
         },
         {
          "FN": 167,
          "FN_rate": 0.8882978723404256,
          "FP": 0,
          "FP_rate": 0,
          "N": 44662,
          "N_rate": 0.9958082497212932,
          "P": 188,
          "P_rate": 0.004191750278706801,
          "TN": 44662,
          "TN_rate": 1,
          "TP": 21,
          "TP_rate": 0.11170212765957446,
          "precision": 1,
          "recall": 0.11170212765957446,
          "roc_label": "model1",
          "row_count": 44850,
          "truth_threshold": 0.9983709067823979
         },
         {
          "FN": 168,
          "FN_rate": 0.8936170212765957,
          "FP": 0,
          "FP_rate": 0,
          "N": 44662,
          "N_rate": 0.9958082497212932,
          "P": 188,
          "P_rate": 0.004191750278706801,
          "TN": 44662,
          "TN_rate": 1,
          "TP": 20,
          "TP_rate": 0.10638297872340426,
          "precision": 1,
          "recall": 0.10638297872340426,
          "roc_label": "model1",
          "row_count": 44850,
          "truth_threshold": 0.9986221195738859
         },
         {
          "FN": 169,
          "FN_rate": 0.898936170212766,
          "FP": 0,
          "FP_rate": 0,
          "N": 44662,
          "N_rate": 0.9958082497212932,
          "P": 188,
          "P_rate": 0.004191750278706801,
          "TN": 44662,
          "TN_rate": 1,
          "TP": 19,
          "TP_rate": 0.10106382978723404,
          "precision": 1,
          "recall": 0.10106382978723404,
          "roc_label": "model1",
          "row_count": 44850,
          "truth_threshold": 0.9989355007381993
         },
         {
          "FN": 170,
          "FN_rate": 0.9042553191489362,
          "FP": 0,
          "FP_rate": 0,
          "N": 44662,
          "N_rate": 0.9958082497212932,
          "P": 188,
          "P_rate": 0.004191750278706801,
          "TN": 44662,
          "TN_rate": 1,
          "TP": 18,
          "TP_rate": 0.09574468085106383,
          "precision": 1,
          "recall": 0.09574468085106383,
          "roc_label": "model1",
          "row_count": 44850,
          "truth_threshold": 0.9993105848211027
         },
         {
          "FN": 171,
          "FN_rate": 0.9095744680851063,
          "FP": 0,
          "FP_rate": 0,
          "N": 44662,
          "N_rate": 0.9958082497212932,
          "P": 188,
          "P_rate": 0.004191750278706801,
          "TN": 44662,
          "TN_rate": 1,
          "TP": 17,
          "TP_rate": 0.09042553191489362,
          "precision": 1,
          "recall": 0.09042553191489362,
          "roc_label": "model1",
          "row_count": 44850,
          "truth_threshold": 0.9996622675183972
         },
         {
          "FN": 172,
          "FN_rate": 0.9148936170212766,
          "FP": 0,
          "FP_rate": 0,
          "N": 44662,
          "N_rate": 0.9958082497212932,
          "P": 188,
          "P_rate": 0.004191750278706801,
          "TN": 44662,
          "TN_rate": 1,
          "TP": 16,
          "TP_rate": 0.0851063829787234,
          "precision": 1,
          "recall": 0.0851063829787234,
          "roc_label": "model1",
          "row_count": 44850,
          "truth_threshold": 0.9997172173793334
         },
         {
          "FN": 173,
          "FN_rate": 0.9202127659574468,
          "FP": 0,
          "FP_rate": 0,
          "N": 44662,
          "N_rate": 0.9958082497212932,
          "P": 188,
          "P_rate": 0.004191750278706801,
          "TN": 44662,
          "TN_rate": 1,
          "TP": 15,
          "TP_rate": 0.0797872340425532,
          "precision": 1,
          "recall": 0.0797872340425532,
          "roc_label": "model1",
          "row_count": 44850,
          "truth_threshold": 0.9997898346556463
         },
         {
          "FN": 174,
          "FN_rate": 0.925531914893617,
          "FP": 0,
          "FP_rate": 0,
          "N": 44662,
          "N_rate": 0.9958082497212932,
          "P": 188,
          "P_rate": 0.004191750278706801,
          "TN": 44662,
          "TN_rate": 1,
          "TP": 14,
          "TP_rate": 0.07446808510638298,
          "precision": 1,
          "recall": 0.07446808510638298,
          "roc_label": "model1",
          "row_count": 44850,
          "truth_threshold": 0.9998292494421896
         },
         {
          "FN": 175,
          "FN_rate": 0.9308510638297872,
          "FP": 0,
          "FP_rate": 0,
          "N": 44662,
          "N_rate": 0.9958082497212932,
          "P": 188,
          "P_rate": 0.004191750278706801,
          "TN": 44662,
          "TN_rate": 1,
          "TP": 13,
          "TP_rate": 0.06914893617021277,
          "precision": 1,
          "recall": 0.06914893617021277,
          "roc_label": "model1",
          "row_count": 44850,
          "truth_threshold": 0.9998311052385751
         },
         {
          "FN": 176,
          "FN_rate": 0.9361702127659575,
          "FP": 0,
          "FP_rate": 0,
          "N": 44662,
          "N_rate": 0.9958082497212932,
          "P": 188,
          "P_rate": 0.004191750278706801,
          "TN": 44662,
          "TN_rate": 1,
          "TP": 12,
          "TP_rate": 0.06382978723404255,
          "precision": 1,
          "recall": 0.06382978723404255,
          "roc_label": "model1",
          "row_count": 44850,
          "truth_threshold": 0.9998495862624251
         },
         {
          "FN": 177,
          "FN_rate": 0.9414893617021277,
          "FP": 0,
          "FP_rate": 0,
          "N": 44662,
          "N_rate": 0.9958082497212932,
          "P": 188,
          "P_rate": 0.004191750278706801,
          "TN": 44662,
          "TN_rate": 1,
          "TP": 11,
          "TP_rate": 0.05851063829787234,
          "precision": 1,
          "recall": 0.05851063829787234,
          "roc_label": "model1",
          "row_count": 44850,
          "truth_threshold": 0.9998544178987009
         },
         {
          "FN": 178,
          "FN_rate": 0.9468085106382979,
          "FP": 0,
          "FP_rate": 0,
          "N": 44662,
          "N_rate": 0.9958082497212932,
          "P": 188,
          "P_rate": 0.004191750278706801,
          "TN": 44662,
          "TN_rate": 1,
          "TP": 10,
          "TP_rate": 0.05319148936170213,
          "precision": 1,
          "recall": 0.05319148936170213,
          "roc_label": "model1",
          "row_count": 44850,
          "truth_threshold": 0.9998552295686405
         },
         {
          "FN": 179,
          "FN_rate": 0.9521276595744681,
          "FP": 0,
          "FP_rate": 0,
          "N": 44662,
          "N_rate": 0.9958082497212932,
          "P": 188,
          "P_rate": 0.004191750278706801,
          "TN": 44662,
          "TN_rate": 1,
          "TP": 9,
          "TP_rate": 0.047872340425531915,
          "precision": 1,
          "recall": 0.047872340425531915,
          "roc_label": "model1",
          "row_count": 44850,
          "truth_threshold": 0.9999358125004839
         },
         {
          "FN": 180,
          "FN_rate": 0.9574468085106383,
          "FP": 0,
          "FP_rate": 0,
          "N": 44662,
          "N_rate": 0.9958082497212932,
          "P": 188,
          "P_rate": 0.004191750278706801,
          "TN": 44662,
          "TN_rate": 1,
          "TP": 8,
          "TP_rate": 0.0425531914893617,
          "precision": 1,
          "recall": 0.0425531914893617,
          "roc_label": "model1",
          "row_count": 44850,
          "truth_threshold": 0.9999498570593502
         },
         {
          "FN": 181,
          "FN_rate": 0.9627659574468085,
          "FP": 0,
          "FP_rate": 0,
          "N": 44662,
          "N_rate": 0.9958082497212932,
          "P": 188,
          "P_rate": 0.004191750278706801,
          "TN": 44662,
          "TN_rate": 1,
          "TP": 7,
          "TP_rate": 0.03723404255319149,
          "precision": 1,
          "recall": 0.03723404255319149,
          "roc_label": "model1",
          "row_count": 44850,
          "truth_threshold": 0.9999555391407053
         },
         {
          "FN": 182,
          "FN_rate": 0.9680851063829787,
          "FP": 0,
          "FP_rate": 0,
          "N": 44662,
          "N_rate": 0.9958082497212932,
          "P": 188,
          "P_rate": 0.004191750278706801,
          "TN": 44662,
          "TN_rate": 1,
          "TP": 6,
          "TP_rate": 0.031914893617021274,
          "precision": 1,
          "recall": 0.031914893617021274,
          "roc_label": "model1",
          "row_count": 44850,
          "truth_threshold": 0.9999877555056872
         },
         {
          "FN": 183,
          "FN_rate": 0.973404255319149,
          "FP": 0,
          "FP_rate": 0,
          "N": 44662,
          "N_rate": 0.9958082497212932,
          "P": 188,
          "P_rate": 0.004191750278706801,
          "TN": 44662,
          "TN_rate": 1,
          "TP": 5,
          "TP_rate": 0.026595744680851064,
          "precision": 1,
          "recall": 0.026595744680851064,
          "roc_label": "model1",
          "row_count": 44850,
          "truth_threshold": 0.9999912840703342
         },
         {
          "FN": 184,
          "FN_rate": 0.9787234042553191,
          "FP": 0,
          "FP_rate": 0,
          "N": 44662,
          "N_rate": 0.9958082497212932,
          "P": 188,
          "P_rate": 0.004191750278706801,
          "TN": 44662,
          "TN_rate": 1,
          "TP": 4,
          "TP_rate": 0.02127659574468085,
          "precision": 1,
          "recall": 0.02127659574468085,
          "roc_label": "model1",
          "row_count": 44850,
          "truth_threshold": 0.9999989719586025
         },
         {
          "FN": 185,
          "FN_rate": 0.9840425531914894,
          "FP": 0,
          "FP_rate": 0,
          "N": 44662,
          "N_rate": 0.9958082497212932,
          "P": 188,
          "P_rate": 0.004191750278706801,
          "TN": 44662,
          "TN_rate": 1,
          "TP": 3,
          "TP_rate": 0.015957446808510637,
          "precision": 1,
          "recall": 0.015957446808510637,
          "roc_label": "model1",
          "row_count": 44850,
          "truth_threshold": 0.9999991777345663
         },
         {
          "FN": 186,
          "FN_rate": 0.9893617021276596,
          "FP": 0,
          "FP_rate": 0,
          "N": 44662,
          "N_rate": 0.9958082497212932,
          "P": 188,
          "P_rate": 0.004191750278706801,
          "TN": 44662,
          "TN_rate": 1,
          "TP": 2,
          "TP_rate": 0.010638297872340425,
          "precision": 1,
          "recall": 0.010638297872340425,
          "roc_label": "model1",
          "row_count": 44850,
          "truth_threshold": 0.999999433627049
         },
         {
          "FN": 187,
          "FN_rate": 0.9946808510638298,
          "FP": 0,
          "FP_rate": 0,
          "N": 44662,
          "N_rate": 0.9958082497212932,
          "P": 188,
          "P_rate": 0.004191750278706801,
          "TN": 44662,
          "TN_rate": 1,
          "TP": 1,
          "TP_rate": 0.005319148936170213,
          "precision": 1,
          "recall": 0.005319148936170213,
          "roc_label": "model1",
          "row_count": 44850,
          "truth_threshold": 0.999999588867114
         }
        ]
       },
       "encoding": {
        "tooltip": [
         {
          "field": "truth_threshold",
          "type": "quantitative"
         },
         {
          "field": "FP_rate",
          "type": "quantitative"
         },
         {
          "field": "TP_rate",
          "type": "quantitative"
         },
         {
          "field": "TP",
          "type": "quantitative"
         },
         {
          "field": "TN",
          "type": "quantitative"
         },
         {
          "field": "FP",
          "type": "quantitative"
         },
         {
          "field": "FN",
          "type": "quantitative"
         },
         {
          "field": "precision",
          "type": "quantitative"
         },
         {
          "field": "recall",
          "type": "quantitative"
         }
        ],
        "x": {
         "field": "FP_rate",
         "scale": {
          "domain": [
           0,
           0.004802740584837222
          ]
         },
         "sort": [
          "truth_threshold"
         ],
         "title": "False Positive Rate amongst clerically reviewed records",
         "type": "quantitative"
        },
        "y": {
         "field": "TP_rate",
         "sort": [
          "truth_threshold"
         ],
         "title": "True Positive Rate amongst clerically reviewed records",
         "type": "quantitative"
        }
       },
       "height": 400,
       "mark": {
        "clip": true,
        "point": true,
        "type": "line"
       },
       "selection": {
        "selector076": {
         "bind": "scales",
         "encodings": [
          "x"
         ],
         "type": "interval"
        }
       },
       "title": "Receiver operating characteristic curve",
       "width": 400
      },
      "text/plain": [
       "<VegaLite 4 object>\n",
       "\n",
       "If you see this message, it means the renderer has not been properly enabled\n",
       "for the frontend that you are using. For more information, see\n",
       "https://altair-viz.github.io/user_guide/troubleshooting.html\n"
      ]
     },
     "execution_count": 22,
     "metadata": {},
     "output_type": "execute_result"
    }
   ],
   "source": [
    "from splink.truth import labels_with_splink_scores, roc_chart, precision_recall_chart\n",
    "\n",
    "\n",
    "roc_chart(labels_and_scores, spark)"
   ]
  },
  {
   "cell_type": "code",
   "execution_count": 23,
   "metadata": {},
   "outputs": [
    {
     "name": "stderr",
     "output_type": "stream",
     "text": [
      "22/01/11 05:34:39 WARN WindowExec: No Partition Defined for Window operation! Moving all data to a single partition, this can cause serious performance degradation.\n",
      "22/01/11 05:34:39 WARN WindowExec: No Partition Defined for Window operation! Moving all data to a single partition, this can cause serious performance degradation.\n",
      "22/01/11 05:34:40 WARN WindowExec: No Partition Defined for Window operation! Moving all data to a single partition, this can cause serious performance degradation.\n",
      "22/01/11 05:34:40 WARN WindowExec: No Partition Defined for Window operation! Moving all data to a single partition, this can cause serious performance degradation.\n"
     ]
    },
    {
     "data": {
      "application/vnd.vegalite.v4+json": {
       "$schema": "https://vega.github.io/schema/vega-lite/v4.8.1.json",
       "config": {
        "view": {
         "continuousHeight": 300,
         "continuousWidth": 400
        }
       },
       "data": {
        "name": "data-fadd0e93e9546856cbc745a99e65285d",
        "values": [
         {
          "FN": 0,
          "FN_rate": 0,
          "FP": 44662,
          "FP_rate": 1,
          "N": 44662,
          "N_rate": 0.9958082497212932,
          "P": 188,
          "P_rate": 0.004191750278706801,
          "TN": 0,
          "TN_rate": 0,
          "TP": 188,
          "TP_rate": 1,
          "precision": 0.004191750278706801,
          "recall": 1,
          "row_count": 44850,
          "truth_threshold": 0
         },
         {
          "FN": 129,
          "FN_rate": 0.6861702127659575,
          "FP": 143,
          "FP_rate": 0.003201827056558148,
          "N": 44662,
          "N_rate": 0.9958082497212932,
          "P": 188,
          "P_rate": 0.004191750278706801,
          "TN": 44519,
          "TN_rate": 0.9967981729434419,
          "TP": 59,
          "TP_rate": 0.31382978723404253,
          "precision": 0.29207920792079206,
          "recall": 0.31382978723404253,
          "row_count": 44850,
          "truth_threshold": 0.005069854907864207
         },
         {
          "FN": 130,
          "FN_rate": 0.6914893617021277,
          "FP": 110,
          "FP_rate": 0.002462943889660114,
          "N": 44662,
          "N_rate": 0.9958082497212932,
          "P": 188,
          "P_rate": 0.004191750278706801,
          "TN": 44552,
          "TN_rate": 0.9975370561103399,
          "TP": 58,
          "TP_rate": 0.30851063829787234,
          "precision": 0.34523809523809523,
          "recall": 0.30851063829787234,
          "row_count": 44850,
          "truth_threshold": 0.01097516450071155
         },
         {
          "FN": 130,
          "FN_rate": 0.6914893617021277,
          "FP": 92,
          "FP_rate": 0.0020599167077157317,
          "N": 44662,
          "N_rate": 0.9958082497212932,
          "P": 188,
          "P_rate": 0.004191750278706801,
          "TN": 44570,
          "TN_rate": 0.9979400832922842,
          "TP": 58,
          "TP_rate": 0.30851063829787234,
          "precision": 0.38666666666666666,
          "recall": 0.30851063829787234,
          "row_count": 44850,
          "truth_threshold": 0.012038253741466474
         },
         {
          "FN": 131,
          "FN_rate": 0.6968085106382979,
          "FP": 67,
          "FP_rate": 0.0015001567327929783,
          "N": 44662,
          "N_rate": 0.9958082497212932,
          "P": 188,
          "P_rate": 0.004191750278706801,
          "TN": 44595,
          "TN_rate": 0.998499843267207,
          "TP": 57,
          "TP_rate": 0.30319148936170215,
          "precision": 0.4596774193548387,
          "recall": 0.30319148936170215,
          "row_count": 44850,
          "truth_threshold": 0.02584939416880241
         },
         {
          "FN": 132,
          "FN_rate": 0.7021276595744681,
          "FP": 60,
          "FP_rate": 0.0013434239398146075,
          "N": 44662,
          "N_rate": 0.9958082497212932,
          "P": 188,
          "P_rate": 0.004191750278706801,
          "TN": 44602,
          "TN_rate": 0.9986565760601854,
          "TP": 56,
          "TP_rate": 0.2978723404255319,
          "precision": 0.4827586206896552,
          "recall": 0.2978723404255319,
          "row_count": 44850,
          "truth_threshold": 0.028676471245015666
         },
         {
          "FN": 132,
          "FN_rate": 0.7021276595744681,
          "FP": 58,
          "FP_rate": 0.0012986431418207873,
          "N": 44662,
          "N_rate": 0.9958082497212932,
          "P": 188,
          "P_rate": 0.004191750278706801,
          "TN": 44604,
          "TN_rate": 0.9987013568581792,
          "TP": 56,
          "TP_rate": 0.2978723404255319,
          "precision": 0.49122807017543857,
          "recall": 0.2978723404255319,
          "row_count": 44850,
          "truth_threshold": 0.055066956876010285
         },
         {
          "FN": 132,
          "FN_rate": 0.7021276595744681,
          "FP": 38,
          "FP_rate": 0.0008508351618825848,
          "N": 44662,
          "N_rate": 0.9958082497212932,
          "P": 188,
          "P_rate": 0.004191750278706801,
          "TN": 44624,
          "TN_rate": 0.9991491648381174,
          "TP": 56,
          "TP_rate": 0.2978723404255319,
          "precision": 0.5957446808510638,
          "recall": 0.2978723404255319,
          "row_count": 44850,
          "truth_threshold": 0.06594114226327491
         },
         {
          "FN": 132,
          "FN_rate": 0.7021276595744681,
          "FP": 35,
          "FP_rate": 0.0007836639648918543,
          "N": 44662,
          "N_rate": 0.9958082497212932,
          "P": 188,
          "P_rate": 0.004191750278706801,
          "TN": 44627,
          "TN_rate": 0.9992163360351082,
          "TP": 56,
          "TP_rate": 0.2978723404255319,
          "precision": 0.6153846153846154,
          "recall": 0.2978723404255319,
          "row_count": 44850,
          "truth_threshold": 0.11261656085772564
         },
         {
          "FN": 133,
          "FN_rate": 0.7074468085106383,
          "FP": 26,
          "FP_rate": 0.0005821503739196633,
          "N": 44662,
          "N_rate": 0.9958082497212932,
          "P": 188,
          "P_rate": 0.004191750278706801,
          "TN": 44636,
          "TN_rate": 0.9994178496260804,
          "TP": 55,
          "TP_rate": 0.2925531914893617,
          "precision": 0.6790123456790124,
          "recall": 0.2925531914893617,
          "row_count": 44850,
          "truth_threshold": 0.12230744122271638
         },
         {
          "FN": 136,
          "FN_rate": 0.723404255319149,
          "FP": 14,
          "FP_rate": 0.00031346558595674175,
          "N": 44662,
          "N_rate": 0.9958082497212932,
          "P": 188,
          "P_rate": 0.004191750278706801,
          "TN": 44648,
          "TN_rate": 0.9996865344140432,
          "TP": 52,
          "TP_rate": 0.2765957446808511,
          "precision": 0.7878787878787878,
          "recall": 0.2765957446808511,
          "row_count": 44850,
          "truth_threshold": 0.23103000007995414
         },
         {
          "FN": 136,
          "FN_rate": 0.723404255319149,
          "FP": 13,
          "FP_rate": 0.00029107518695983164,
          "N": 44662,
          "N_rate": 0.9958082497212932,
          "P": 188,
          "P_rate": 0.004191750278706801,
          "TN": 44649,
          "TN_rate": 0.9997089248130402,
          "TP": 52,
          "TP_rate": 0.2765957446808511,
          "precision": 0.8,
          "recall": 0.2765957446808511,
          "row_count": 44850,
          "truth_threshold": 0.23281520937037514
         },
         {
          "FN": 137,
          "FN_rate": 0.7287234042553191,
          "FP": 8,
          "FP_rate": 0.000179123191975281,
          "N": 44662,
          "N_rate": 0.9958082497212932,
          "P": 188,
          "P_rate": 0.004191750278706801,
          "TN": 44654,
          "TN_rate": 0.9998208768080247,
          "TP": 51,
          "TP_rate": 0.2712765957446808,
          "precision": 0.864406779661017,
          "recall": 0.2712765957446808,
          "row_count": 44850,
          "truth_threshold": 0.2339097272411053
         },
         {
          "FN": 138,
          "FN_rate": 0.7340425531914894,
          "FP": 8,
          "FP_rate": 0.000179123191975281,
          "N": 44662,
          "N_rate": 0.9958082497212932,
          "P": 188,
          "P_rate": 0.004191750278706801,
          "TN": 44654,
          "TN_rate": 0.9998208768080247,
          "TP": 50,
          "TP_rate": 0.26595744680851063,
          "precision": 0.8620689655172413,
          "recall": 0.26595744680851063,
          "row_count": 44850,
          "truth_threshold": 0.6815263087506642
         },
         {
          "FN": 138,
          "FN_rate": 0.7340425531914894,
          "FP": 7,
          "FP_rate": 0.00015673279297837088,
          "N": 44662,
          "N_rate": 0.9958082497212932,
          "P": 188,
          "P_rate": 0.004191750278706801,
          "TN": 44655,
          "TN_rate": 0.9998432672070217,
          "TP": 50,
          "TP_rate": 0.26595744680851063,
          "precision": 0.8771929824561403,
          "recall": 0.26595744680851063,
          "row_count": 44850,
          "truth_threshold": 0.8089206979616866
         },
         {
          "FN": 139,
          "FN_rate": 0.7393617021276596,
          "FP": 5,
          "FP_rate": 0.00011195199498455063,
          "N": 44662,
          "N_rate": 0.9958082497212932,
          "P": 188,
          "P_rate": 0.004191750278706801,
          "TN": 44657,
          "TN_rate": 0.9998880480050154,
          "TP": 49,
          "TP_rate": 0.26063829787234044,
          "precision": 0.9074074074074074,
          "recall": 0.26063829787234044,
          "row_count": 44850,
          "truth_threshold": 0.809717648728658
         },
         {
          "FN": 140,
          "FN_rate": 0.7446808510638298,
          "FP": 5,
          "FP_rate": 0.00011195199498455063,
          "N": 44662,
          "N_rate": 0.9958082497212932,
          "P": 188,
          "P_rate": 0.004191750278706801,
          "TN": 44657,
          "TN_rate": 0.9998880480050154,
          "TP": 48,
          "TP_rate": 0.2553191489361702,
          "precision": 0.9056603773584906,
          "recall": 0.2553191489361702,
          "row_count": 44850,
          "truth_threshold": 0.823329609025091
         },
         {
          "FN": 140,
          "FN_rate": 0.7446808510638298,
          "FP": 4,
          "FP_rate": 0.0000895615959876405,
          "N": 44662,
          "N_rate": 0.9958082497212932,
          "P": 188,
          "P_rate": 0.004191750278706801,
          "TN": 44658,
          "TN_rate": 0.9999104384040124,
          "TP": 48,
          "TP_rate": 0.2553191489361702,
          "precision": 0.9230769230769231,
          "recall": 0.2553191489361702,
          "row_count": 44850,
          "truth_threshold": 0.8295722015610423
         },
         {
          "FN": 141,
          "FN_rate": 0.75,
          "FP": 4,
          "FP_rate": 0.0000895615959876405,
          "N": 44662,
          "N_rate": 0.9958082497212932,
          "P": 188,
          "P_rate": 0.004191750278706801,
          "TN": 44658,
          "TN_rate": 0.9999104384040124,
          "TP": 47,
          "TP_rate": 0.25,
          "precision": 0.9215686274509803,
          "recall": 0.25,
          "row_count": 44850,
          "truth_threshold": 0.8995483706125017
         },
         {
          "FN": 142,
          "FN_rate": 0.7553191489361702,
          "FP": 4,
          "FP_rate": 0.0000895615959876405,
          "N": 44662,
          "N_rate": 0.9958082497212932,
          "P": 188,
          "P_rate": 0.004191750278706801,
          "TN": 44658,
          "TN_rate": 0.9999104384040124,
          "TP": 46,
          "TP_rate": 0.24468085106382978,
          "precision": 0.92,
          "recall": 0.24468085106382978,
          "row_count": 44850,
          "truth_threshold": 0.9021449748979598
         },
         {
          "FN": 142,
          "FN_rate": 0.7553191489361702,
          "FP": 0,
          "FP_rate": 0,
          "N": 44662,
          "N_rate": 0.9958082497212932,
          "P": 188,
          "P_rate": 0.004191750278706801,
          "TN": 44662,
          "TN_rate": 1,
          "TP": 46,
          "TP_rate": 0.24468085106382978,
          "precision": 1,
          "recall": 0.24468085106382978,
          "row_count": 44850,
          "truth_threshold": 0.9100968541767724
         },
         {
          "FN": 143,
          "FN_rate": 0.7606382978723404,
          "FP": 0,
          "FP_rate": 0,
          "N": 44662,
          "N_rate": 0.9958082497212932,
          "P": 188,
          "P_rate": 0.004191750278706801,
          "TN": 44662,
          "TN_rate": 1,
          "TP": 45,
          "TP_rate": 0.2393617021276596,
          "precision": 1,
          "recall": 0.2393617021276596,
          "row_count": 44850,
          "truth_threshold": 0.910518500098578
         },
         {
          "FN": 144,
          "FN_rate": 0.7659574468085106,
          "FP": 0,
          "FP_rate": 0,
          "N": 44662,
          "N_rate": 0.9958082497212932,
          "P": 188,
          "P_rate": 0.004191750278706801,
          "TN": 44662,
          "TN_rate": 1,
          "TP": 44,
          "TP_rate": 0.23404255319148937,
          "precision": 1,
          "recall": 0.23404255319148937,
          "row_count": 44850,
          "truth_threshold": 0.9227205667113801
         },
         {
          "FN": 145,
          "FN_rate": 0.7712765957446809,
          "FP": 0,
          "FP_rate": 0,
          "N": 44662,
          "N_rate": 0.9958082497212932,
          "P": 188,
          "P_rate": 0.004191750278706801,
          "TN": 44662,
          "TN_rate": 1,
          "TP": 43,
          "TP_rate": 0.22872340425531915,
          "precision": 1,
          "recall": 0.22872340425531915,
          "row_count": 44850,
          "truth_threshold": 0.9288191506229363
         },
         {
          "FN": 146,
          "FN_rate": 0.776595744680851,
          "FP": 0,
          "FP_rate": 0,
          "N": 44662,
          "N_rate": 0.9958082497212932,
          "P": 188,
          "P_rate": 0.004191750278706801,
          "TN": 44662,
          "TN_rate": 1,
          "TP": 42,
          "TP_rate": 0.22340425531914893,
          "precision": 1,
          "recall": 0.22340425531914893,
          "row_count": 44850,
          "truth_threshold": 0.9471181513766306
         },
         {
          "FN": 147,
          "FN_rate": 0.7819148936170213,
          "FP": 0,
          "FP_rate": 0,
          "N": 44662,
          "N_rate": 0.9958082497212932,
          "P": 188,
          "P_rate": 0.004191750278706801,
          "TN": 44662,
          "TN_rate": 1,
          "TP": 41,
          "TP_rate": 0.21808510638297873,
          "precision": 1,
          "recall": 0.21808510638297873,
          "row_count": 44850,
          "truth_threshold": 0.9570584156506001
         },
         {
          "FN": 148,
          "FN_rate": 0.7872340425531915,
          "FP": 0,
          "FP_rate": 0,
          "N": 44662,
          "N_rate": 0.9958082497212932,
          "P": 188,
          "P_rate": 0.004191750278706801,
          "TN": 44662,
          "TN_rate": 1,
          "TP": 40,
          "TP_rate": 0.2127659574468085,
          "precision": 1,
          "recall": 0.2127659574468085,
          "row_count": 44850,
          "truth_threshold": 0.9598072467593154
         },
         {
          "FN": 150,
          "FN_rate": 0.7978723404255319,
          "FP": 0,
          "FP_rate": 0,
          "N": 44662,
          "N_rate": 0.9958082497212932,
          "P": 188,
          "P_rate": 0.004191750278706801,
          "TN": 44662,
          "TN_rate": 1,
          "TP": 38,
          "TP_rate": 0.20212765957446807,
          "precision": 1,
          "recall": 0.20212765957446807,
          "row_count": 44850,
          "truth_threshold": 0.9736935793530755
         },
         {
          "FN": 156,
          "FN_rate": 0.8297872340425532,
          "FP": 0,
          "FP_rate": 0,
          "N": 44662,
          "N_rate": 0.9958082497212932,
          "P": 188,
          "P_rate": 0.004191750278706801,
          "TN": 44662,
          "TN_rate": 1,
          "TP": 32,
          "TP_rate": 0.1702127659574468,
          "precision": 1,
          "recall": 0.1702127659574468,
          "row_count": 44850,
          "truth_threshold": 0.9816301267600368
         },
         {
          "FN": 158,
          "FN_rate": 0.8404255319148937,
          "FP": 0,
          "FP_rate": 0,
          "N": 44662,
          "N_rate": 0.9958082497212932,
          "P": 188,
          "P_rate": 0.004191750278706801,
          "TN": 44662,
          "TN_rate": 1,
          "TP": 30,
          "TP_rate": 0.1595744680851064,
          "precision": 1,
          "recall": 0.1595744680851064,
          "row_count": 44850,
          "truth_threshold": 0.9832356760331824
         },
         {
          "FN": 159,
          "FN_rate": 0.8457446808510638,
          "FP": 0,
          "FP_rate": 0,
          "N": 44662,
          "N_rate": 0.9958082497212932,
          "P": 188,
          "P_rate": 0.004191750278706801,
          "TN": 44662,
          "TN_rate": 1,
          "TP": 29,
          "TP_rate": 0.15425531914893617,
          "precision": 1,
          "recall": 0.15425531914893617,
          "row_count": 44850,
          "truth_threshold": 0.9834148869133785
         },
         {
          "FN": 162,
          "FN_rate": 0.8617021276595744,
          "FP": 0,
          "FP_rate": 0,
          "N": 44662,
          "N_rate": 0.9958082497212932,
          "P": 188,
          "P_rate": 0.004191750278706801,
          "TN": 44662,
          "TN_rate": 1,
          "TP": 26,
          "TP_rate": 0.13829787234042554,
          "precision": 1,
          "recall": 0.13829787234042554,
          "row_count": 44850,
          "truth_threshold": 0.9914799660748046
         },
         {
          "FN": 163,
          "FN_rate": 0.8670212765957447,
          "FP": 0,
          "FP_rate": 0,
          "N": 44662,
          "N_rate": 0.9958082497212932,
          "P": 188,
          "P_rate": 0.004191750278706801,
          "TN": 44662,
          "TN_rate": 1,
          "TP": 25,
          "TP_rate": 0.13297872340425532,
          "precision": 1,
          "recall": 0.13297872340425532,
          "row_count": 44850,
          "truth_threshold": 0.9953584811692694
         },
         {
          "FN": 164,
          "FN_rate": 0.8723404255319149,
          "FP": 0,
          "FP_rate": 0,
          "N": 44662,
          "N_rate": 0.9958082497212932,
          "P": 188,
          "P_rate": 0.004191750278706801,
          "TN": 44662,
          "TN_rate": 1,
          "TP": 24,
          "TP_rate": 0.1276595744680851,
          "precision": 1,
          "recall": 0.1276595744680851,
          "row_count": 44850,
          "truth_threshold": 0.9966688083120461
         },
         {
          "FN": 166,
          "FN_rate": 0.8829787234042553,
          "FP": 0,
          "FP_rate": 0,
          "N": 44662,
          "N_rate": 0.9958082497212932,
          "P": 188,
          "P_rate": 0.004191750278706801,
          "TN": 44662,
          "TN_rate": 1,
          "TP": 22,
          "TP_rate": 0.11702127659574468,
          "precision": 1,
          "recall": 0.11702127659574468,
          "row_count": 44850,
          "truth_threshold": 0.9967804222188497
         },
         {
          "FN": 167,
          "FN_rate": 0.8882978723404256,
          "FP": 0,
          "FP_rate": 0,
          "N": 44662,
          "N_rate": 0.9958082497212932,
          "P": 188,
          "P_rate": 0.004191750278706801,
          "TN": 44662,
          "TN_rate": 1,
          "TP": 21,
          "TP_rate": 0.11170212765957446,
          "precision": 1,
          "recall": 0.11170212765957446,
          "row_count": 44850,
          "truth_threshold": 0.9983709067823979
         },
         {
          "FN": 168,
          "FN_rate": 0.8936170212765957,
          "FP": 0,
          "FP_rate": 0,
          "N": 44662,
          "N_rate": 0.9958082497212932,
          "P": 188,
          "P_rate": 0.004191750278706801,
          "TN": 44662,
          "TN_rate": 1,
          "TP": 20,
          "TP_rate": 0.10638297872340426,
          "precision": 1,
          "recall": 0.10638297872340426,
          "row_count": 44850,
          "truth_threshold": 0.9986221195738859
         },
         {
          "FN": 169,
          "FN_rate": 0.898936170212766,
          "FP": 0,
          "FP_rate": 0,
          "N": 44662,
          "N_rate": 0.9958082497212932,
          "P": 188,
          "P_rate": 0.004191750278706801,
          "TN": 44662,
          "TN_rate": 1,
          "TP": 19,
          "TP_rate": 0.10106382978723404,
          "precision": 1,
          "recall": 0.10106382978723404,
          "row_count": 44850,
          "truth_threshold": 0.9989355007381993
         },
         {
          "FN": 170,
          "FN_rate": 0.9042553191489362,
          "FP": 0,
          "FP_rate": 0,
          "N": 44662,
          "N_rate": 0.9958082497212932,
          "P": 188,
          "P_rate": 0.004191750278706801,
          "TN": 44662,
          "TN_rate": 1,
          "TP": 18,
          "TP_rate": 0.09574468085106383,
          "precision": 1,
          "recall": 0.09574468085106383,
          "row_count": 44850,
          "truth_threshold": 0.9993105848211027
         },
         {
          "FN": 171,
          "FN_rate": 0.9095744680851063,
          "FP": 0,
          "FP_rate": 0,
          "N": 44662,
          "N_rate": 0.9958082497212932,
          "P": 188,
          "P_rate": 0.004191750278706801,
          "TN": 44662,
          "TN_rate": 1,
          "TP": 17,
          "TP_rate": 0.09042553191489362,
          "precision": 1,
          "recall": 0.09042553191489362,
          "row_count": 44850,
          "truth_threshold": 0.9996622675183972
         },
         {
          "FN": 172,
          "FN_rate": 0.9148936170212766,
          "FP": 0,
          "FP_rate": 0,
          "N": 44662,
          "N_rate": 0.9958082497212932,
          "P": 188,
          "P_rate": 0.004191750278706801,
          "TN": 44662,
          "TN_rate": 1,
          "TP": 16,
          "TP_rate": 0.0851063829787234,
          "precision": 1,
          "recall": 0.0851063829787234,
          "row_count": 44850,
          "truth_threshold": 0.9997172173793334
         },
         {
          "FN": 173,
          "FN_rate": 0.9202127659574468,
          "FP": 0,
          "FP_rate": 0,
          "N": 44662,
          "N_rate": 0.9958082497212932,
          "P": 188,
          "P_rate": 0.004191750278706801,
          "TN": 44662,
          "TN_rate": 1,
          "TP": 15,
          "TP_rate": 0.0797872340425532,
          "precision": 1,
          "recall": 0.0797872340425532,
          "row_count": 44850,
          "truth_threshold": 0.9997898346556463
         },
         {
          "FN": 174,
          "FN_rate": 0.925531914893617,
          "FP": 0,
          "FP_rate": 0,
          "N": 44662,
          "N_rate": 0.9958082497212932,
          "P": 188,
          "P_rate": 0.004191750278706801,
          "TN": 44662,
          "TN_rate": 1,
          "TP": 14,
          "TP_rate": 0.07446808510638298,
          "precision": 1,
          "recall": 0.07446808510638298,
          "row_count": 44850,
          "truth_threshold": 0.9998292494421896
         },
         {
          "FN": 175,
          "FN_rate": 0.9308510638297872,
          "FP": 0,
          "FP_rate": 0,
          "N": 44662,
          "N_rate": 0.9958082497212932,
          "P": 188,
          "P_rate": 0.004191750278706801,
          "TN": 44662,
          "TN_rate": 1,
          "TP": 13,
          "TP_rate": 0.06914893617021277,
          "precision": 1,
          "recall": 0.06914893617021277,
          "row_count": 44850,
          "truth_threshold": 0.9998311052385751
         },
         {
          "FN": 176,
          "FN_rate": 0.9361702127659575,
          "FP": 0,
          "FP_rate": 0,
          "N": 44662,
          "N_rate": 0.9958082497212932,
          "P": 188,
          "P_rate": 0.004191750278706801,
          "TN": 44662,
          "TN_rate": 1,
          "TP": 12,
          "TP_rate": 0.06382978723404255,
          "precision": 1,
          "recall": 0.06382978723404255,
          "row_count": 44850,
          "truth_threshold": 0.9998495862624251
         },
         {
          "FN": 177,
          "FN_rate": 0.9414893617021277,
          "FP": 0,
          "FP_rate": 0,
          "N": 44662,
          "N_rate": 0.9958082497212932,
          "P": 188,
          "P_rate": 0.004191750278706801,
          "TN": 44662,
          "TN_rate": 1,
          "TP": 11,
          "TP_rate": 0.05851063829787234,
          "precision": 1,
          "recall": 0.05851063829787234,
          "row_count": 44850,
          "truth_threshold": 0.9998544178987009
         },
         {
          "FN": 178,
          "FN_rate": 0.9468085106382979,
          "FP": 0,
          "FP_rate": 0,
          "N": 44662,
          "N_rate": 0.9958082497212932,
          "P": 188,
          "P_rate": 0.004191750278706801,
          "TN": 44662,
          "TN_rate": 1,
          "TP": 10,
          "TP_rate": 0.05319148936170213,
          "precision": 1,
          "recall": 0.05319148936170213,
          "row_count": 44850,
          "truth_threshold": 0.9998552295686405
         },
         {
          "FN": 179,
          "FN_rate": 0.9521276595744681,
          "FP": 0,
          "FP_rate": 0,
          "N": 44662,
          "N_rate": 0.9958082497212932,
          "P": 188,
          "P_rate": 0.004191750278706801,
          "TN": 44662,
          "TN_rate": 1,
          "TP": 9,
          "TP_rate": 0.047872340425531915,
          "precision": 1,
          "recall": 0.047872340425531915,
          "row_count": 44850,
          "truth_threshold": 0.9999358125004839
         },
         {
          "FN": 180,
          "FN_rate": 0.9574468085106383,
          "FP": 0,
          "FP_rate": 0,
          "N": 44662,
          "N_rate": 0.9958082497212932,
          "P": 188,
          "P_rate": 0.004191750278706801,
          "TN": 44662,
          "TN_rate": 1,
          "TP": 8,
          "TP_rate": 0.0425531914893617,
          "precision": 1,
          "recall": 0.0425531914893617,
          "row_count": 44850,
          "truth_threshold": 0.9999498570593502
         },
         {
          "FN": 181,
          "FN_rate": 0.9627659574468085,
          "FP": 0,
          "FP_rate": 0,
          "N": 44662,
          "N_rate": 0.9958082497212932,
          "P": 188,
          "P_rate": 0.004191750278706801,
          "TN": 44662,
          "TN_rate": 1,
          "TP": 7,
          "TP_rate": 0.03723404255319149,
          "precision": 1,
          "recall": 0.03723404255319149,
          "row_count": 44850,
          "truth_threshold": 0.9999555391407053
         },
         {
          "FN": 182,
          "FN_rate": 0.9680851063829787,
          "FP": 0,
          "FP_rate": 0,
          "N": 44662,
          "N_rate": 0.9958082497212932,
          "P": 188,
          "P_rate": 0.004191750278706801,
          "TN": 44662,
          "TN_rate": 1,
          "TP": 6,
          "TP_rate": 0.031914893617021274,
          "precision": 1,
          "recall": 0.031914893617021274,
          "row_count": 44850,
          "truth_threshold": 0.9999877555056872
         },
         {
          "FN": 183,
          "FN_rate": 0.973404255319149,
          "FP": 0,
          "FP_rate": 0,
          "N": 44662,
          "N_rate": 0.9958082497212932,
          "P": 188,
          "P_rate": 0.004191750278706801,
          "TN": 44662,
          "TN_rate": 1,
          "TP": 5,
          "TP_rate": 0.026595744680851064,
          "precision": 1,
          "recall": 0.026595744680851064,
          "row_count": 44850,
          "truth_threshold": 0.9999912840703342
         },
         {
          "FN": 184,
          "FN_rate": 0.9787234042553191,
          "FP": 0,
          "FP_rate": 0,
          "N": 44662,
          "N_rate": 0.9958082497212932,
          "P": 188,
          "P_rate": 0.004191750278706801,
          "TN": 44662,
          "TN_rate": 1,
          "TP": 4,
          "TP_rate": 0.02127659574468085,
          "precision": 1,
          "recall": 0.02127659574468085,
          "row_count": 44850,
          "truth_threshold": 0.9999989719586025
         },
         {
          "FN": 185,
          "FN_rate": 0.9840425531914894,
          "FP": 0,
          "FP_rate": 0,
          "N": 44662,
          "N_rate": 0.9958082497212932,
          "P": 188,
          "P_rate": 0.004191750278706801,
          "TN": 44662,
          "TN_rate": 1,
          "TP": 3,
          "TP_rate": 0.015957446808510637,
          "precision": 1,
          "recall": 0.015957446808510637,
          "row_count": 44850,
          "truth_threshold": 0.9999991777345663
         },
         {
          "FN": 186,
          "FN_rate": 0.9893617021276596,
          "FP": 0,
          "FP_rate": 0,
          "N": 44662,
          "N_rate": 0.9958082497212932,
          "P": 188,
          "P_rate": 0.004191750278706801,
          "TN": 44662,
          "TN_rate": 1,
          "TP": 2,
          "TP_rate": 0.010638297872340425,
          "precision": 1,
          "recall": 0.010638297872340425,
          "row_count": 44850,
          "truth_threshold": 0.999999433627049
         },
         {
          "FN": 187,
          "FN_rate": 0.9946808510638298,
          "FP": 0,
          "FP_rate": 0,
          "N": 44662,
          "N_rate": 0.9958082497212932,
          "P": 188,
          "P_rate": 0.004191750278706801,
          "TN": 44662,
          "TN_rate": 1,
          "TP": 1,
          "TP_rate": 0.005319148936170213,
          "precision": 1,
          "recall": 0.005319148936170213,
          "row_count": 44850,
          "truth_threshold": 0.999999588867114
         }
        ]
       },
       "encoding": {
        "tooltip": [
         {
          "field": "truth_threshold",
          "type": "quantitative"
         },
         {
          "field": "FP_rate",
          "type": "quantitative"
         },
         {
          "field": "TP_rate",
          "type": "quantitative"
         },
         {
          "field": "TP",
          "type": "quantitative"
         },
         {
          "field": "TN",
          "type": "quantitative"
         },
         {
          "field": "FP",
          "type": "quantitative"
         },
         {
          "field": "FN",
          "type": "quantitative"
         },
         {
          "field": "precision",
          "type": "quantitative"
         },
         {
          "field": "recall",
          "type": "quantitative"
         }
        ],
        "x": {
         "field": "recall",
         "sort": [
          "-recall"
         ],
         "title": "Recall",
         "type": "quantitative"
        },
        "y": {
         "field": "precision",
         "sort": [
          "-precision"
         ],
         "title": "Precision",
         "type": "quantitative"
        }
       },
       "height": 400,
       "mark": {
        "clip": true,
        "point": true,
        "type": "line"
       },
       "title": "Precision-recall curve",
       "width": 400
      },
      "text/plain": [
       "<VegaLite 4 object>\n",
       "\n",
       "If you see this message, it means the renderer has not been properly enabled\n",
       "for the frontend that you are using. For more information, see\n",
       "https://altair-viz.github.io/user_guide/troubleshooting.html\n"
      ]
     },
     "execution_count": 23,
     "metadata": {},
     "output_type": "execute_result"
    }
   ],
   "source": [
    "precision_recall_chart(labels_and_scores, spark)"
   ]
  },
  {
   "cell_type": "markdown",
   "metadata": {},
   "source": [
    "## Step 10: Use graphframes to resolve links into groups\n",
    "\n",
    "Finally, we can turn the pairwise record comparisons into estimated groups (clusters of records considered to be the same).\n",
    "\n",
    "You must provide one or more cluster thresholds, which is the match probability above which a pairwise comparison is considered a match"
   ]
  },
  {
   "cell_type": "code",
   "execution_count": 24,
   "metadata": {},
   "outputs": [
    {
     "name": "stderr",
     "output_type": "stream",
     "text": [
      "22/01/11 05:34:49 WARN CacheManager: Asked to cache already cached data.        \n"
     ]
    },
    {
     "data": {
      "text/html": [
       "<div>\n",
       "<style scoped>\n",
       "    .dataframe tbody tr th:only-of-type {\n",
       "        vertical-align: middle;\n",
       "    }\n",
       "\n",
       "    .dataframe tbody tr th {\n",
       "        vertical-align: top;\n",
       "    }\n",
       "\n",
       "    .dataframe thead th {\n",
       "        text-align: right;\n",
       "    }\n",
       "</style>\n",
       "<table border=\"1\" class=\"dataframe\">\n",
       "  <thead>\n",
       "    <tr style=\"text-align: right;\">\n",
       "      <th></th>\n",
       "      <th>cluster_0_5</th>\n",
       "      <th>cluster_0_9</th>\n",
       "      <th>unique_id</th>\n",
       "      <th>first_name</th>\n",
       "      <th>surname</th>\n",
       "      <th>dob</th>\n",
       "      <th>city</th>\n",
       "      <th>email</th>\n",
       "      <th>group</th>\n",
       "    </tr>\n",
       "  </thead>\n",
       "  <tbody>\n",
       "    <tr>\n",
       "      <th>0</th>\n",
       "      <td>0</td>\n",
       "      <td>0</td>\n",
       "      <td>1</td>\n",
       "      <td>Robert</td>\n",
       "      <td>Allen</td>\n",
       "      <td>1971-05-24</td>\n",
       "      <td>None</td>\n",
       "      <td>roberta25@smith.net</td>\n",
       "      <td>0</td>\n",
       "    </tr>\n",
       "    <tr>\n",
       "      <th>1</th>\n",
       "      <td>1</td>\n",
       "      <td>1</td>\n",
       "      <td>102</td>\n",
       "      <td>Alfie</td>\n",
       "      <td>None</td>\n",
       "      <td>2008-05-07</td>\n",
       "      <td>Plymouth</td>\n",
       "      <td>a.griffiths@garner-bridges.com</td>\n",
       "      <td>29</td>\n",
       "    </tr>\n",
       "    <tr>\n",
       "      <th>2</th>\n",
       "      <td>2</td>\n",
       "      <td>2</td>\n",
       "      <td>107</td>\n",
       "      <td>Maisie</td>\n",
       "      <td>Walsh</td>\n",
       "      <td>2005-08-20</td>\n",
       "      <td>Birmingham</td>\n",
       "      <td>maisie.walsh@hodge.com</td>\n",
       "      <td>30</td>\n",
       "    </tr>\n",
       "    <tr>\n",
       "      <th>3</th>\n",
       "      <td>3</td>\n",
       "      <td>3</td>\n",
       "      <td>110</td>\n",
       "      <td>Oliver</td>\n",
       "      <td>Atkinnos</td>\n",
       "      <td>2009-12-21</td>\n",
       "      <td>London</td>\n",
       "      <td>oliver.atkinson@moran-smith.com</td>\n",
       "      <td>31</td>\n",
       "    </tr>\n",
       "    <tr>\n",
       "      <th>4</th>\n",
       "      <td>4</td>\n",
       "      <td>4</td>\n",
       "      <td>120</td>\n",
       "      <td>Macdonald</td>\n",
       "      <td>Dylan</td>\n",
       "      <td>1986-09-15</td>\n",
       "      <td>Lonodnn</td>\n",
       "      <td>dracdonald@rivers-glass.biz</td>\n",
       "      <td>34</td>\n",
       "    </tr>\n",
       "    <tr>\n",
       "      <th>...</th>\n",
       "      <td>...</td>\n",
       "      <td>...</td>\n",
       "      <td>...</td>\n",
       "      <td>...</td>\n",
       "      <td>...</td>\n",
       "      <td>...</td>\n",
       "      <td>...</td>\n",
       "      <td>...</td>\n",
       "      <td>...</td>\n",
       "    </tr>\n",
       "    <tr>\n",
       "      <th>995</th>\n",
       "      <td>117</td>\n",
       "      <td>117</td>\n",
       "      <td>972</td>\n",
       "      <td>Leon</td>\n",
       "      <td>Arnmstrong</td>\n",
       "      <td>1970-04-11</td>\n",
       "      <td>Salford</td>\n",
       "      <td>l.armstrong@reyes-campbell.net</td>\n",
       "      <td>245</td>\n",
       "    </tr>\n",
       "    <tr>\n",
       "      <th>996</th>\n",
       "      <td>60129542268</td>\n",
       "      <td>60129542268</td>\n",
       "      <td>989</td>\n",
       "      <td>aNncy</td>\n",
       "      <td>Wiliams</td>\n",
       "      <td>1972-02-17</td>\n",
       "      <td>None</td>\n",
       "      <td>None</td>\n",
       "      <td>247</td>\n",
       "    </tr>\n",
       "    <tr>\n",
       "      <th>997</th>\n",
       "      <td>60129542269</td>\n",
       "      <td>60129542269</td>\n",
       "      <td>991</td>\n",
       "      <td>Williams</td>\n",
       "      <td>Nancy</td>\n",
       "      <td>1982-01-14</td>\n",
       "      <td>None</td>\n",
       "      <td>None</td>\n",
       "      <td>247</td>\n",
       "    </tr>\n",
       "    <tr>\n",
       "      <th>998</th>\n",
       "      <td>42949673090</td>\n",
       "      <td>42949673090</td>\n",
       "      <td>993</td>\n",
       "      <td>Emma</td>\n",
       "      <td>Lloyd</td>\n",
       "      <td>2028-03-13</td>\n",
       "      <td>London</td>\n",
       "      <td>emmallod@jimenez.com</td>\n",
       "      <td>249</td>\n",
       "    </tr>\n",
       "    <tr>\n",
       "      <th>999</th>\n",
       "      <td>42949673090</td>\n",
       "      <td>42949673090</td>\n",
       "      <td>996</td>\n",
       "      <td>Emma</td>\n",
       "      <td>Lloyd</td>\n",
       "      <td>2018-04-17</td>\n",
       "      <td>London</td>\n",
       "      <td>emmalloyd@jimenez.com</td>\n",
       "      <td>249</td>\n",
       "    </tr>\n",
       "  </tbody>\n",
       "</table>\n",
       "<p>1000 rows × 9 columns</p>\n",
       "</div>"
      ],
      "text/plain": [
       "     cluster_0_5  cluster_0_9 unique_id first_name     surname         dob  \\\n",
       "0              0            0         1     Robert       Allen  1971-05-24   \n",
       "1              1            1       102      Alfie        None  2008-05-07   \n",
       "2              2            2       107     Maisie       Walsh  2005-08-20   \n",
       "3              3            3       110     Oliver    Atkinnos  2009-12-21   \n",
       "4              4            4       120  Macdonald       Dylan  1986-09-15   \n",
       "..           ...          ...       ...        ...         ...         ...   \n",
       "995          117          117       972       Leon  Arnmstrong  1970-04-11   \n",
       "996  60129542268  60129542268       989      aNncy     Wiliams  1972-02-17   \n",
       "997  60129542269  60129542269       991   Williams       Nancy  1982-01-14   \n",
       "998  42949673090  42949673090       993       Emma       Lloyd  2028-03-13   \n",
       "999  42949673090  42949673090       996       Emma       Lloyd  2018-04-17   \n",
       "\n",
       "           city                            email group  \n",
       "0          None              roberta25@smith.net     0  \n",
       "1      Plymouth   a.griffiths@garner-bridges.com    29  \n",
       "2    Birmingham           maisie.walsh@hodge.com    30  \n",
       "3        London  oliver.atkinson@moran-smith.com    31  \n",
       "4       Lonodnn      dracdonald@rivers-glass.biz    34  \n",
       "..          ...                              ...   ...  \n",
       "995     Salford   l.armstrong@reyes-campbell.net   245  \n",
       "996        None                             None   247  \n",
       "997        None                             None   247  \n",
       "998      London             emmallod@jimenez.com   249  \n",
       "999      London            emmalloyd@jimenez.com   249  \n",
       "\n",
       "[1000 rows x 9 columns]"
      ]
     },
     "execution_count": 24,
     "metadata": {},
     "output_type": "execute_result"
    }
   ],
   "source": [
    "from splink.cluster import clusters_at_thresholds\n",
    "\n",
    "thresholds = {\"cluster_0_5\": 0.5, \"cluster_0_9\": 0.9}\n",
    "clusters_at_thresholds(df, df_e, thresholds, linker.model).toPandas()"
   ]
  },
  {
   "cell_type": "code",
   "execution_count": null,
   "metadata": {},
   "outputs": [],
   "source": []
  }
 ],
 "metadata": {
  "kernelspec": {
   "display_name": "Python 3",
   "language": "python",
   "name": "python3"
  },
  "language_info": {
   "codemirror_mode": {
    "name": "ipython",
    "version": 3
   },
   "file_extension": ".py",
   "mimetype": "text/x-python",
   "name": "python",
   "nbconvert_exporter": "python",
   "pygments_lexer": "ipython3",
   "version": "3.8.3"
  }
 },
 "nbformat": 4,
 "nbformat_minor": 4
}
