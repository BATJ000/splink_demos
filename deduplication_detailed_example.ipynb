{
 "cells": [
  {
   "cell_type": "markdown",
   "metadata": {},
   "source": [
    "## Splink deduplication demo \n",
    "\n",
    "In this demo we de-duplicate a dataset.  The dataset is small (1000) rows to enable the tutorial to be run interactively, but readers should imaging the true dataset is large (millions of rows).\n",
    "\n",
    "This is a comprehensive example in which we demonstrate the full range of functionality of Splink, and how it is intended to be used.  A quickstart notebook is provided elsewhere.\n",
    "\n",
    "Note that various outputs are printed interactively using e.g. `spark_dataframe.show()`.  This is for instructional purposes only - it degrades performance and shouldn't be used in a production setting."
   ]
  },
  {
   "cell_type": "markdown",
   "metadata": {},
   "source": [
    "## Step 1:  Imports and setup\n",
    "\n",
    "The following is just boilerplate code that sets up the Spark session and sets some other non-essential configuration options"
   ]
  },
  {
   "cell_type": "code",
   "execution_count": 53,
   "metadata": {},
   "outputs": [],
   "source": [
    "import pandas as pd \n",
    "pd.options.display.max_columns = 500\n",
    "pd.options.display.max_rows = 100\n"
   ]
  },
  {
   "cell_type": "code",
   "execution_count": 54,
   "metadata": {},
   "outputs": [],
   "source": [
    "import logging \n",
    "logging.basicConfig()  # Means logs will print in Jupyter Lab\n",
    "\n",
    "# Set to DEBUG if you want splink to log the SQL statements it's executing under the hood\n",
    "logging.getLogger(\"splink\").setLevel(logging.INFO)"
   ]
  },
  {
   "cell_type": "code",
   "execution_count": 55,
   "metadata": {},
   "outputs": [],
   "source": [
    "from utility_functions.demo_utils import get_spark\n",
    "spark = get_spark() # See utility_functions/demo_utils.py for how to set up Spark"
   ]
  },
  {
   "cell_type": "markdown",
   "metadata": {},
   "source": [
    "## Step 2:  Read in data"
   ]
  },
  {
   "cell_type": "markdown",
   "metadata": {},
   "source": [
    "Note that the `group` column is the truth - rows which share the same value refer to the same person.  In the real world, we wouldn't have this field because this is the truth - the label which Splink is trying to estimate."
   ]
  },
  {
   "cell_type": "code",
   "execution_count": 56,
   "metadata": {},
   "outputs": [
    {
     "name": "stdout",
     "output_type": "stream",
     "text": [
      "+---------+----------+-------+----------+------+--------------------+-----+\n",
      "|unique_id|first_name|surname|       dob|  city|               email|group|\n",
      "+---------+----------+-------+----------+------+--------------------+-----+\n",
      "|        0|    Robert|   Alan|1971-06-24|  null| robert255@smith.net|    0|\n",
      "|        1|    Robert|  Allen|1971-05-24|  null| roberta25@smith.net|    0|\n",
      "|        2|       Rob|  Allen|1971-06-24|London| roberta25@smith.net|    0|\n",
      "|        3|    Robert|   Alen|1971-06-24| Lonon|                null|    0|\n",
      "|        4|     Grace|   null|1997-04-26|  Hull|grace.kelly52@jon...|    1|\n",
      "+---------+----------+-------+----------+------+--------------------+-----+\n",
      "only showing top 5 rows\n",
      "\n"
     ]
    }
   ],
   "source": [
    "df = spark.read.csv(\"data/fake_1000.csv\", header=True)\n",
    "df.show(5)"
   ]
  },
  {
   "cell_type": "markdown",
   "metadata": {},
   "source": [
    "## Step 3:  Profile the data\n",
    "\n",
    "Understanding your data through the use of summary statistics is critical. \n",
    "\n",
    "For the purposes of data linking, one of the most important attributes of your data is cardinality.  Fields like date of birth which have a large number of unique values (high cardinality) are more useful than fields with low cardinality like gender.\n",
    "\n",
    "Another important attribute is skew, which can occur:\n",
    "- because values (like a first name of John) occur more frequently in the real world\n",
    "- due to data quality issues (such as a large number of date of birth fields containing the value '1970-01-01' due errors in date parsing)\n",
    "\n",
    "In general Splink will produce less accurate predictions when you have skew, especially in the case of extreme skew.  So, for example, different name frequences (John vs Robin) shouldn't cause a huge problem, but if you have 30,000 distinct dates of birth, but half of the values are '1970-01-01' Splink is unlikely to produce accuate predictions of match probability.\n",
    "\n",
    "It is imperative, therefore, that data quality issues are addressed prior to using Splink.  Note that Splink will correctly deal with nulls, so suspicious values should usually be nulled out.\n",
    "\n",
    "Splink provides a profiling tool to for you to visually inspect value frequencies, which we can see as follows:\n",
    "\n",
    "In the caes of our test dataset, there is a moderate level of skew, partcularly on the first_name, surname and city columns.  We can see most of our fields have high cardinality.\n",
    "\n",
    "We also observe that misspellings are common across most fields."
   ]
  },
  {
   "cell_type": "code",
   "execution_count": 57,
   "metadata": {},
   "outputs": [],
   "source": [
    "from splink.profile import column_value_frequencies_chart"
   ]
  },
  {
   "cell_type": "code",
   "execution_count": 58,
   "metadata": {},
   "outputs": [
    {
     "data": {
      "application/vnd.vegalite.v4+json": {
       "$schema": "https://vega.github.io/schema/vega-lite/v4.8.1.json",
       "config": {
        "view": {
         "continuousHeight": 300,
         "continuousWidth": 400
        }
       },
       "vconcat": [
        {
         "hconcat": [
          {
           "data": {
            "values": [
             {
              "group_name": "first_name",
              "percentile_ex_nulls": 1,
              "percentile_inc_nulls": 1,
              "sum_tokens_in_value_count_group": 28,
              "total_non_null_rows": 831,
              "total_rows_inc_nulls": 1000,
              "value_count": 28
             },
             {
              "percentile_ex_nulls": 0.9663056558363418,
              "percentile_inc_nulls": 0.972,
              "proportion_of_non_null_rows": 0.03369434416365824,
              "sum_tokens_in_value_count_group": 28,
              "total_non_null_rows": 831,
              "total_rows_inc_nulls": 1000,
              "value_count": 28
             },
             {
              "percentile_ex_nulls": 0.9470517448856799,
              "percentile_inc_nulls": 0.956,
              "proportion_of_non_null_rows": 0.019253910950661854,
              "sum_tokens_in_value_count_group": 16,
              "total_non_null_rows": 831,
              "total_rows_inc_nulls": 1000,
              "value_count": 16
             },
             {
              "percentile_ex_nulls": 0.9290012033694344,
              "percentile_inc_nulls": 0.9410000000000001,
              "proportion_of_non_null_rows": 0.018050541516245487,
              "sum_tokens_in_value_count_group": 15,
              "total_non_null_rows": 831,
              "total_rows_inc_nulls": 1000,
              "value_count": 15
             },
             {
              "percentile_ex_nulls": 0.9121540312876053,
              "percentile_inc_nulls": 0.927,
              "proportion_of_non_null_rows": 0.01684717208182912,
              "sum_tokens_in_value_count_group": 14,
              "total_non_null_rows": 831,
              "total_rows_inc_nulls": 1000,
              "value_count": 14
             },
             {
              "percentile_ex_nulls": 0.8965102286401926,
              "percentile_inc_nulls": 0.914,
              "proportion_of_non_null_rows": 0.015643802647412757,
              "sum_tokens_in_value_count_group": 13,
              "total_non_null_rows": 831,
              "total_rows_inc_nulls": 1000,
              "value_count": 13
             },
             {
              "percentile_ex_nulls": 0.8820697954271961,
              "percentile_inc_nulls": 0.902,
              "proportion_of_non_null_rows": 0.01444043321299639,
              "sum_tokens_in_value_count_group": 12,
              "total_non_null_rows": 831,
              "total_rows_inc_nulls": 1000,
              "value_count": 12
             },
             {
              "percentile_ex_nulls": 0.8423586040914561,
              "percentile_inc_nulls": 0.869,
              "proportion_of_non_null_rows": 0.039711191335740074,
              "sum_tokens_in_value_count_group": 33,
              "total_non_null_rows": 831,
              "total_rows_inc_nulls": 1000,
              "value_count": 11
             },
             {
              "percentile_ex_nulls": 0.8182912154031288,
              "percentile_inc_nulls": 0.849,
              "proportion_of_non_null_rows": 0.024067388688327317,
              "sum_tokens_in_value_count_group": 20,
              "total_non_null_rows": 831,
              "total_rows_inc_nulls": 1000,
              "value_count": 10
             },
             {
              "percentile_ex_nulls": 0.7641395908543923,
              "percentile_inc_nulls": 0.804,
              "proportion_of_non_null_rows": 0.05415162454873646,
              "sum_tokens_in_value_count_group": 45,
              "total_non_null_rows": 831,
              "total_rows_inc_nulls": 1000,
              "value_count": 9
             },
             {
              "percentile_ex_nulls": 0.7352587244283995,
              "percentile_inc_nulls": 0.78,
              "proportion_of_non_null_rows": 0.02888086642599278,
              "sum_tokens_in_value_count_group": 24,
              "total_non_null_rows": 831,
              "total_rows_inc_nulls": 1000,
              "value_count": 8
             },
             {
              "percentile_ex_nulls": 0.7015643802647413,
              "percentile_inc_nulls": 0.752,
              "proportion_of_non_null_rows": 0.03369434416365824,
              "sum_tokens_in_value_count_group": 28,
              "total_non_null_rows": 831,
              "total_rows_inc_nulls": 1000,
              "value_count": 7
             },
             {
              "percentile_ex_nulls": 0.6293622141997594,
              "percentile_inc_nulls": 0.692,
              "proportion_of_non_null_rows": 0.07220216606498195,
              "sum_tokens_in_value_count_group": 60,
              "total_non_null_rows": 831,
              "total_rows_inc_nulls": 1000,
              "value_count": 6
             },
             {
              "percentile_ex_nulls": 0.5391095066185319,
              "percentile_inc_nulls": 0.617,
              "proportion_of_non_null_rows": 0.09025270758122744,
              "sum_tokens_in_value_count_group": 75,
              "total_non_null_rows": 831,
              "total_rows_inc_nulls": 1000,
              "value_count": 5
             },
             {
              "percentile_ex_nulls": 0.42358604091456076,
              "percentile_inc_nulls": 0.521,
              "proportion_of_non_null_rows": 0.11552346570397112,
              "sum_tokens_in_value_count_group": 96,
              "total_non_null_rows": 831,
              "total_rows_inc_nulls": 1000,
              "value_count": 4
             },
             {
              "percentile_ex_nulls": 0.3369434416365824,
              "percentile_inc_nulls": 0.44899999999999995,
              "proportion_of_non_null_rows": 0.08664259927797834,
              "sum_tokens_in_value_count_group": 72,
              "total_non_null_rows": 831,
              "total_rows_inc_nulls": 1000,
              "value_count": 3
             },
             {
              "percentile_ex_nulls": 0.2382671480144405,
              "percentile_inc_nulls": 0.367,
              "proportion_of_non_null_rows": 0.098676293622142,
              "sum_tokens_in_value_count_group": 82,
              "total_non_null_rows": 831,
              "total_rows_inc_nulls": 1000,
              "value_count": 2
             },
             {
              "percentile_ex_nulls": 0,
              "percentile_inc_nulls": 0.16900000000000004,
              "proportion_of_non_null_rows": 0.23826714801444043,
              "sum_tokens_in_value_count_group": 198,
              "total_non_null_rows": 831,
              "total_rows_inc_nulls": 1000,
              "value_count": 1
             }
            ]
           },
           "encoding": {
            "tooltip": [
             {
              "field": "value_count",
              "type": "quantitative"
             },
             {
              "field": "percentile_ex_nulls",
              "type": "quantitative"
             },
             {
              "field": "percentile_inc_nulls",
              "type": "quantitative"
             },
             {
              "field": "total_non_null_rows",
              "type": "quantitative"
             },
             {
              "field": "total_rows_inc_nulls",
              "type": "quantitative"
             },
             {
              "field": "proportion_of_non_null_rows",
              "type": "quantitative"
             }
            ],
            "x": {
             "field": "percentile_ex_nulls",
             "sort": "descending",
             "title": "Percentile",
             "type": "quantitative"
            },
            "y": {
             "field": "value_count",
             "title": "Count of values",
             "type": "quantitative"
            }
           },
           "mark": {
            "interpolate": "step-after",
            "type": "line"
           },
           "title": {
            "subtitle": "Of the 1000 rows in the df, 831 (16.9%) are null for this column",
            "text": "Distribution of counts of values in column first_name"
           }
          },
          {
           "data": {
            "values": [
             {
              "total_non_null_rows": 831,
              "total_rows_inc_nulls": 1000,
              "value": "Oliver",
              "value_count": 28
             },
             {
              "total_non_null_rows": 831,
              "total_rows_inc_nulls": 1000,
              "value": "Jacob",
              "value_count": 16
             },
             {
              "total_non_null_rows": 831,
              "total_rows_inc_nulls": 1000,
              "value": "Freddie",
              "value_count": 15
             },
             {
              "total_non_null_rows": 831,
              "total_rows_inc_nulls": 1000,
              "value": "Olivia",
              "value_count": 14
             },
             {
              "total_non_null_rows": 831,
              "total_rows_inc_nulls": 1000,
              "value": "James",
              "value_count": 13
             },
             {
              "total_non_null_rows": 831,
              "total_rows_inc_nulls": 1000,
              "value": "George",
              "value_count": 12
             },
             {
              "total_non_null_rows": 831,
              "total_rows_inc_nulls": 1000,
              "value": "Elizabeth",
              "value_count": 11
             },
             {
              "total_non_null_rows": 831,
              "total_rows_inc_nulls": 1000,
              "value": "Alfie",
              "value_count": 11
             },
             {
              "total_non_null_rows": 831,
              "total_rows_inc_nulls": 1000,
              "value": "Jessica",
              "value_count": 11
             },
             {
              "total_non_null_rows": 831,
              "total_rows_inc_nulls": 1000,
              "value": "Theodore",
              "value_count": 10
             },
             {
              "total_non_null_rows": 831,
              "total_rows_inc_nulls": 1000,
              "value": "Logan",
              "value_count": 10
             },
             {
              "total_non_null_rows": 831,
              "total_rows_inc_nulls": 1000,
              "value": "Henry",
              "value_count": 9
             },
             {
              "total_non_null_rows": 831,
              "total_rows_inc_nulls": 1000,
              "value": "Isla",
              "value_count": 9
             },
             {
              "total_non_null_rows": 831,
              "total_rows_inc_nulls": 1000,
              "value": "Harry",
              "value_count": 9
             },
             {
              "total_non_null_rows": 831,
              "total_rows_inc_nulls": 1000,
              "value": "Amelia",
              "value_count": 9
             },
             {
              "total_non_null_rows": 831,
              "total_rows_inc_nulls": 1000,
              "value": "Mason",
              "value_count": 9
             },
             {
              "total_non_null_rows": 831,
              "total_rows_inc_nulls": 1000,
              "value": "Lola",
              "value_count": 8
             },
             {
              "total_non_null_rows": 831,
              "total_rows_inc_nulls": 1000,
              "value": "Isabelle",
              "value_count": 8
             },
             {
              "total_non_null_rows": 831,
              "total_rows_inc_nulls": 1000,
              "value": "Jayden",
              "value_count": 8
             },
             {
              "total_non_null_rows": 831,
              "total_rows_inc_nulls": 1000,
              "value": "Scarlett",
              "value_count": 7
             }
            ]
           },
           "encoding": {
            "tooltip": [
             {
              "field": "value",
              "type": "nominal"
             },
             {
              "field": "value_count",
              "type": "quantitative"
             },
             {
              "field": "total_non_null_rows",
              "type": "quantitative"
             },
             {
              "field": "total_rows_inc_nulls",
              "type": "quantitative"
             }
            ],
            "x": {
             "field": "value",
             "sort": "-y",
             "title": null,
             "type": "nominal"
            },
            "y": {
             "field": "value_count",
             "title": "Value count",
             "type": "quantitative"
            }
           },
           "mark": "bar",
           "title": "Top 20 values by value count"
          },
          {
           "data": {
            "values": [
             {
              "total_non_null_rows": 831,
              "total_rows_inc_nulls": 1000,
              "value": "eTheodroe",
              "value_count": 1
             },
             {
              "total_non_null_rows": 831,
              "total_rows_inc_nulls": 1000,
              "value": "Icsac",
              "value_count": 1
             },
             {
              "total_non_null_rows": 831,
              "total_rows_inc_nulls": 1000,
              "value": "Oievr",
              "value_count": 1
             },
             {
              "total_non_null_rows": 831,
              "total_rows_inc_nulls": 1000,
              "value": "Harr",
              "value_count": 1
             },
             {
              "total_non_null_rows": 831,
              "total_rows_inc_nulls": 1000,
              "value": "Molly",
              "value_count": 1
             },
             {
              "total_non_null_rows": 831,
              "total_rows_inc_nulls": 1000,
              "value": "Eloilt",
              "value_count": 1
             },
             {
              "total_non_null_rows": 831,
              "total_rows_inc_nulls": 1000,
              "value": "iElliot",
              "value_count": 1
             },
             {
              "total_non_null_rows": 831,
              "total_rows_inc_nulls": 1000,
              "value": "Fdedrie",
              "value_count": 1
             },
             {
              "total_non_null_rows": 831,
              "total_rows_inc_nulls": 1000,
              "value": "David",
              "value_count": 1
             },
             {
              "total_non_null_rows": 831,
              "total_rows_inc_nulls": 1000,
              "value": "Nicholson",
              "value_count": 1
             }
            ]
           },
           "encoding": {
            "tooltip": [
             {
              "field": "value",
              "type": "nominal"
             },
             {
              "field": "value_count",
              "type": "quantitative"
             },
             {
              "field": "total_non_null_rows",
              "type": "quantitative"
             },
             {
              "field": "total_rows_inc_nulls",
              "type": "quantitative"
             }
            ],
            "x": {
             "field": "value",
             "sort": "-y",
             "title": null,
             "type": "nominal"
            },
            "y": {
             "field": "value_count",
             "scale": {
              "domain": [
               0,
               28
              ]
             },
             "title": "Value count",
             "type": "quantitative"
            }
           },
           "mark": "bar",
           "title": "Bottom 10 values by value count"
          }
         ]
        },
        {
         "hconcat": [
          {
           "data": {
            "values": [
             {
              "group_name": "dob",
              "percentile_ex_nulls": 1,
              "percentile_inc_nulls": 1,
              "sum_tokens_in_value_count_group": 90,
              "total_non_null_rows": 1000,
              "total_rows_inc_nulls": 1000,
              "value_count": 6
             },
             {
              "percentile_ex_nulls": 0.91,
              "percentile_inc_nulls": 0.91,
              "proportion_of_non_null_rows": 0.09,
              "sum_tokens_in_value_count_group": 90,
              "total_non_null_rows": 1000,
              "total_rows_inc_nulls": 1000,
              "value_count": 6
             },
             {
              "percentile_ex_nulls": 0.8049999999999999,
              "percentile_inc_nulls": 0.8049999999999999,
              "proportion_of_non_null_rows": 0.105,
              "sum_tokens_in_value_count_group": 105,
              "total_non_null_rows": 1000,
              "total_rows_inc_nulls": 1000,
              "value_count": 5
             },
             {
              "percentile_ex_nulls": 0.653,
              "percentile_inc_nulls": 0.653,
              "proportion_of_non_null_rows": 0.152,
              "sum_tokens_in_value_count_group": 152,
              "total_non_null_rows": 1000,
              "total_rows_inc_nulls": 1000,
              "value_count": 4
             },
             {
              "percentile_ex_nulls": 0.509,
              "percentile_inc_nulls": 0.509,
              "proportion_of_non_null_rows": 0.144,
              "sum_tokens_in_value_count_group": 144,
              "total_non_null_rows": 1000,
              "total_rows_inc_nulls": 1000,
              "value_count": 3
             },
             {
              "percentile_ex_nulls": 0.377,
              "percentile_inc_nulls": 0.377,
              "proportion_of_non_null_rows": 0.132,
              "sum_tokens_in_value_count_group": 132,
              "total_non_null_rows": 1000,
              "total_rows_inc_nulls": 1000,
              "value_count": 2
             },
             {
              "percentile_ex_nulls": 0,
              "percentile_inc_nulls": 0,
              "proportion_of_non_null_rows": 0.377,
              "sum_tokens_in_value_count_group": 377,
              "total_non_null_rows": 1000,
              "total_rows_inc_nulls": 1000,
              "value_count": 1
             }
            ]
           },
           "encoding": {
            "tooltip": [
             {
              "field": "value_count",
              "type": "quantitative"
             },
             {
              "field": "percentile_ex_nulls",
              "type": "quantitative"
             },
             {
              "field": "percentile_inc_nulls",
              "type": "quantitative"
             },
             {
              "field": "total_non_null_rows",
              "type": "quantitative"
             },
             {
              "field": "total_rows_inc_nulls",
              "type": "quantitative"
             },
             {
              "field": "proportion_of_non_null_rows",
              "type": "quantitative"
             }
            ],
            "x": {
             "field": "percentile_ex_nulls",
             "sort": "descending",
             "title": "Percentile",
             "type": "quantitative"
            },
            "y": {
             "field": "value_count",
             "title": "Count of values",
             "type": "quantitative"
            }
           },
           "mark": {
            "interpolate": "step-after",
            "type": "line"
           },
           "title": {
            "subtitle": "Of the 1000 rows in the df, 1000 (0.0%) are null for this column",
            "text": "Distribution of counts of values in column dob"
           }
          },
          {
           "data": {
            "values": [
             {
              "total_non_null_rows": 1000,
              "total_rows_inc_nulls": 1000,
              "value": "2008-02-23",
              "value_count": 6
             },
             {
              "total_non_null_rows": 1000,
              "total_rows_inc_nulls": 1000,
              "value": "1972-06-12",
              "value_count": 6
             },
             {
              "total_non_null_rows": 1000,
              "total_rows_inc_nulls": 1000,
              "value": "2011-05-26",
              "value_count": 6
             },
             {
              "total_non_null_rows": 1000,
              "total_rows_inc_nulls": 1000,
              "value": "1973-03-23",
              "value_count": 6
             },
             {
              "total_non_null_rows": 1000,
              "total_rows_inc_nulls": 1000,
              "value": "2002-09-15",
              "value_count": 6
             },
             {
              "total_non_null_rows": 1000,
              "total_rows_inc_nulls": 1000,
              "value": "1990-03-08",
              "value_count": 6
             },
             {
              "total_non_null_rows": 1000,
              "total_rows_inc_nulls": 1000,
              "value": "2006-12-21",
              "value_count": 6
             },
             {
              "total_non_null_rows": 1000,
              "total_rows_inc_nulls": 1000,
              "value": "1983-11-06",
              "value_count": 6
             },
             {
              "total_non_null_rows": 1000,
              "total_rows_inc_nulls": 1000,
              "value": "1995-06-21",
              "value_count": 6
             },
             {
              "total_non_null_rows": 1000,
              "total_rows_inc_nulls": 1000,
              "value": "2000-04-03",
              "value_count": 6
             },
             {
              "total_non_null_rows": 1000,
              "total_rows_inc_nulls": 1000,
              "value": "2017-01-11",
              "value_count": 6
             },
             {
              "total_non_null_rows": 1000,
              "total_rows_inc_nulls": 1000,
              "value": "2010-06-22",
              "value_count": 6
             },
             {
              "total_non_null_rows": 1000,
              "total_rows_inc_nulls": 1000,
              "value": "1991-04-12",
              "value_count": 6
             },
             {
              "total_non_null_rows": 1000,
              "total_rows_inc_nulls": 1000,
              "value": "1973-09-29",
              "value_count": 6
             },
             {
              "total_non_null_rows": 1000,
              "total_rows_inc_nulls": 1000,
              "value": "2009-07-06",
              "value_count": 6
             },
             {
              "total_non_null_rows": 1000,
              "total_rows_inc_nulls": 1000,
              "value": "1980-06-29",
              "value_count": 5
             },
             {
              "total_non_null_rows": 1000,
              "total_rows_inc_nulls": 1000,
              "value": "1974-11-17",
              "value_count": 5
             },
             {
              "total_non_null_rows": 1000,
              "total_rows_inc_nulls": 1000,
              "value": "2013-10-15",
              "value_count": 5
             },
             {
              "total_non_null_rows": 1000,
              "total_rows_inc_nulls": 1000,
              "value": "1970-12-17",
              "value_count": 5
             },
             {
              "total_non_null_rows": 1000,
              "total_rows_inc_nulls": 1000,
              "value": "1983-03-16",
              "value_count": 5
             }
            ]
           },
           "encoding": {
            "tooltip": [
             {
              "field": "value",
              "type": "nominal"
             },
             {
              "field": "value_count",
              "type": "quantitative"
             },
             {
              "field": "total_non_null_rows",
              "type": "quantitative"
             },
             {
              "field": "total_rows_inc_nulls",
              "type": "quantitative"
             }
            ],
            "x": {
             "field": "value",
             "sort": "-y",
             "title": null,
             "type": "nominal"
            },
            "y": {
             "field": "value_count",
             "title": "Value count",
             "type": "quantitative"
            }
           },
           "mark": "bar",
           "title": "Top 20 values by value count"
          },
          {
           "data": {
            "values": [
             {
              "total_non_null_rows": 1000,
              "total_rows_inc_nulls": 1000,
              "value": "1981-10-11",
              "value_count": 1
             },
             {
              "total_non_null_rows": 1000,
              "total_rows_inc_nulls": 1000,
              "value": "1994-01-02",
              "value_count": 1
             },
             {
              "total_non_null_rows": 1000,
              "total_rows_inc_nulls": 1000,
              "value": "1991-04-05",
              "value_count": 1
             },
             {
              "total_non_null_rows": 1000,
              "total_rows_inc_nulls": 1000,
              "value": "1984-10-03",
              "value_count": 1
             },
             {
              "total_non_null_rows": 1000,
              "total_rows_inc_nulls": 1000,
              "value": "1978-09-18",
              "value_count": 1
             },
             {
              "total_non_null_rows": 1000,
              "total_rows_inc_nulls": 1000,
              "value": "2010-01-02",
              "value_count": 1
             },
             {
              "total_non_null_rows": 1000,
              "total_rows_inc_nulls": 1000,
              "value": "1978-04-01",
              "value_count": 1
             },
             {
              "total_non_null_rows": 1000,
              "total_rows_inc_nulls": 1000,
              "value": "1988-05-27",
              "value_count": 1
             },
             {
              "total_non_null_rows": 1000,
              "total_rows_inc_nulls": 1000,
              "value": "1973-10-27",
              "value_count": 1
             },
             {
              "total_non_null_rows": 1000,
              "total_rows_inc_nulls": 1000,
              "value": "1990-03-07",
              "value_count": 1
             }
            ]
           },
           "encoding": {
            "tooltip": [
             {
              "field": "value",
              "type": "nominal"
             },
             {
              "field": "value_count",
              "type": "quantitative"
             },
             {
              "field": "total_non_null_rows",
              "type": "quantitative"
             },
             {
              "field": "total_rows_inc_nulls",
              "type": "quantitative"
             }
            ],
            "x": {
             "field": "value",
             "sort": "-y",
             "title": null,
             "type": "nominal"
            },
            "y": {
             "field": "value_count",
             "scale": {
              "domain": [
               0,
               6
              ]
             },
             "title": "Value count",
             "type": "quantitative"
            }
           },
           "mark": "bar",
           "title": "Bottom 10 values by value count"
          }
         ]
        },
        {
         "hconcat": [
          {
           "data": {
            "values": [
             {
              "group_name": "surname",
              "percentile_ex_nulls": 1,
              "percentile_inc_nulls": 1,
              "sum_tokens_in_value_count_group": 23,
              "total_non_null_rows": 819,
              "total_rows_inc_nulls": 1000,
              "value_count": 23
             },
             {
              "percentile_ex_nulls": 0.9719169719169719,
              "percentile_inc_nulls": 0.977,
              "proportion_of_non_null_rows": 0.028083028083028084,
              "sum_tokens_in_value_count_group": 23,
              "total_non_null_rows": 819,
              "total_rows_inc_nulls": 1000,
              "value_count": 23
             },
             {
              "percentile_ex_nulls": 0.9377289377289377,
              "percentile_inc_nulls": 0.949,
              "proportion_of_non_null_rows": 0.03418803418803419,
              "sum_tokens_in_value_count_group": 28,
              "total_non_null_rows": 819,
              "total_rows_inc_nulls": 1000,
              "value_count": 14
             },
             {
              "percentile_ex_nulls": 0.905982905982906,
              "percentile_inc_nulls": 0.923,
              "proportion_of_non_null_rows": 0.031746031746031744,
              "sum_tokens_in_value_count_group": 26,
              "total_non_null_rows": 819,
              "total_rows_inc_nulls": 1000,
              "value_count": 13
             },
             {
              "percentile_ex_nulls": 0.8913308913308913,
              "percentile_inc_nulls": 0.911,
              "proportion_of_non_null_rows": 0.014652014652014652,
              "sum_tokens_in_value_count_group": 12,
              "total_non_null_rows": 819,
              "total_rows_inc_nulls": 1000,
              "value_count": 12
             },
             {
              "percentile_ex_nulls": 0.8778998778998779,
              "percentile_inc_nulls": 0.9,
              "proportion_of_non_null_rows": 0.013431013431013432,
              "sum_tokens_in_value_count_group": 11,
              "total_non_null_rows": 819,
              "total_rows_inc_nulls": 1000,
              "value_count": 11
             },
             {
              "percentile_ex_nulls": 0.8534798534798534,
              "percentile_inc_nulls": 0.88,
              "proportion_of_non_null_rows": 0.02442002442002442,
              "sum_tokens_in_value_count_group": 20,
              "total_non_null_rows": 819,
              "total_rows_inc_nulls": 1000,
              "value_count": 10
             },
             {
              "percentile_ex_nulls": 0.8315018315018314,
              "percentile_inc_nulls": 0.862,
              "proportion_of_non_null_rows": 0.02197802197802198,
              "sum_tokens_in_value_count_group": 18,
              "total_non_null_rows": 819,
              "total_rows_inc_nulls": 1000,
              "value_count": 9
             },
             {
              "percentile_ex_nulls": 0.7728937728937729,
              "percentile_inc_nulls": 0.8140000000000001,
              "proportion_of_non_null_rows": 0.05860805860805861,
              "sum_tokens_in_value_count_group": 48,
              "total_non_null_rows": 819,
              "total_rows_inc_nulls": 1000,
              "value_count": 8
             },
             {
              "percentile_ex_nulls": 0.7216117216117216,
              "percentile_inc_nulls": 0.772,
              "proportion_of_non_null_rows": 0.05128205128205128,
              "sum_tokens_in_value_count_group": 42,
              "total_non_null_rows": 819,
              "total_rows_inc_nulls": 1000,
              "value_count": 7
             },
             {
              "percentile_ex_nulls": 0.663003663003663,
              "percentile_inc_nulls": 0.724,
              "proportion_of_non_null_rows": 0.05860805860805861,
              "sum_tokens_in_value_count_group": 48,
              "total_non_null_rows": 819,
              "total_rows_inc_nulls": 1000,
              "value_count": 6
             },
             {
              "percentile_ex_nulls": 0.6080586080586081,
              "percentile_inc_nulls": 0.679,
              "proportion_of_non_null_rows": 0.054945054945054944,
              "sum_tokens_in_value_count_group": 45,
              "total_non_null_rows": 819,
              "total_rows_inc_nulls": 1000,
              "value_count": 5
             },
             {
              "percentile_ex_nulls": 0.5054945054945055,
              "percentile_inc_nulls": 0.595,
              "proportion_of_non_null_rows": 0.10256410256410256,
              "sum_tokens_in_value_count_group": 84,
              "total_non_null_rows": 819,
              "total_rows_inc_nulls": 1000,
              "value_count": 4
             },
             {
              "percentile_ex_nulls": 0.39560439560439564,
              "percentile_inc_nulls": 0.505,
              "proportion_of_non_null_rows": 0.10989010989010989,
              "sum_tokens_in_value_count_group": 90,
              "total_non_null_rows": 819,
              "total_rows_inc_nulls": 1000,
              "value_count": 3
             },
             {
              "percentile_ex_nulls": 0.28815628815628813,
              "percentile_inc_nulls": 0.41700000000000004,
              "proportion_of_non_null_rows": 0.10744810744810745,
              "sum_tokens_in_value_count_group": 88,
              "total_non_null_rows": 819,
              "total_rows_inc_nulls": 1000,
              "value_count": 2
             },
             {
              "percentile_ex_nulls": 0,
              "percentile_inc_nulls": 0.18100000000000005,
              "proportion_of_non_null_rows": 0.28815628815628813,
              "sum_tokens_in_value_count_group": 236,
              "total_non_null_rows": 819,
              "total_rows_inc_nulls": 1000,
              "value_count": 1
             }
            ]
           },
           "encoding": {
            "tooltip": [
             {
              "field": "value_count",
              "type": "quantitative"
             },
             {
              "field": "percentile_ex_nulls",
              "type": "quantitative"
             },
             {
              "field": "percentile_inc_nulls",
              "type": "quantitative"
             },
             {
              "field": "total_non_null_rows",
              "type": "quantitative"
             },
             {
              "field": "total_rows_inc_nulls",
              "type": "quantitative"
             },
             {
              "field": "proportion_of_non_null_rows",
              "type": "quantitative"
             }
            ],
            "x": {
             "field": "percentile_ex_nulls",
             "sort": "descending",
             "title": "Percentile",
             "type": "quantitative"
            },
            "y": {
             "field": "value_count",
             "title": "Count of values",
             "type": "quantitative"
            }
           },
           "mark": {
            "interpolate": "step-after",
            "type": "line"
           },
           "title": {
            "subtitle": "Of the 1000 rows in the df, 819 (18.1%) are null for this column",
            "text": "Distribution of counts of values in column surname"
           }
          },
          {
           "data": {
            "values": [
             {
              "total_non_null_rows": 819,
              "total_rows_inc_nulls": 1000,
              "value": "Jones",
              "value_count": 23
             },
             {
              "total_non_null_rows": 819,
              "total_rows_inc_nulls": 1000,
              "value": "Davies",
              "value_count": 14
             },
             {
              "total_non_null_rows": 819,
              "total_rows_inc_nulls": 1000,
              "value": "Taylor",
              "value_count": 14
             },
             {
              "total_non_null_rows": 819,
              "total_rows_inc_nulls": 1000,
              "value": "Campbell",
              "value_count": 13
             },
             {
              "total_non_null_rows": 819,
              "total_rows_inc_nulls": 1000,
              "value": "Hall",
              "value_count": 13
             },
             {
              "total_non_null_rows": 819,
              "total_rows_inc_nulls": 1000,
              "value": "Morgan",
              "value_count": 12
             },
             {
              "total_non_null_rows": 819,
              "total_rows_inc_nulls": 1000,
              "value": "Smith",
              "value_count": 11
             },
             {
              "total_non_null_rows": 819,
              "total_rows_inc_nulls": 1000,
              "value": "King",
              "value_count": 10
             },
             {
              "total_non_null_rows": 819,
              "total_rows_inc_nulls": 1000,
              "value": "Russell",
              "value_count": 10
             },
             {
              "total_non_null_rows": 819,
              "total_rows_inc_nulls": 1000,
              "value": "Dixon",
              "value_count": 9
             },
             {
              "total_non_null_rows": 819,
              "total_rows_inc_nulls": 1000,
              "value": "Wright",
              "value_count": 9
             },
             {
              "total_non_null_rows": 819,
              "total_rows_inc_nulls": 1000,
              "value": "Kaur",
              "value_count": 8
             },
             {
              "total_non_null_rows": 819,
              "total_rows_inc_nulls": 1000,
              "value": "Lee",
              "value_count": 8
             },
             {
              "total_non_null_rows": 819,
              "total_rows_inc_nulls": 1000,
              "value": "May",
              "value_count": 8
             },
             {
              "total_non_null_rows": 819,
              "total_rows_inc_nulls": 1000,
              "value": "Williams",
              "value_count": 8
             },
             {
              "total_non_null_rows": 819,
              "total_rows_inc_nulls": 1000,
              "value": "Fox",
              "value_count": 8
             },
             {
              "total_non_null_rows": 819,
              "total_rows_inc_nulls": 1000,
              "value": "Edwards",
              "value_count": 8
             },
             {
              "total_non_null_rows": 819,
              "total_rows_inc_nulls": 1000,
              "value": "Brown",
              "value_count": 7
             },
             {
              "total_non_null_rows": 819,
              "total_rows_inc_nulls": 1000,
              "value": "Atkinson",
              "value_count": 7
             },
             {
              "total_non_null_rows": 819,
              "total_rows_inc_nulls": 1000,
              "value": "Hughes",
              "value_count": 7
             }
            ]
           },
           "encoding": {
            "tooltip": [
             {
              "field": "value",
              "type": "nominal"
             },
             {
              "field": "value_count",
              "type": "quantitative"
             },
             {
              "field": "total_non_null_rows",
              "type": "quantitative"
             },
             {
              "field": "total_rows_inc_nulls",
              "type": "quantitative"
             }
            ],
            "x": {
             "field": "value",
             "sort": "-y",
             "title": null,
             "type": "nominal"
            },
            "y": {
             "field": "value_count",
             "title": "Value count",
             "type": "quantitative"
            }
           },
           "mark": "bar",
           "title": "Top 20 values by value count"
          },
          {
           "data": {
            "values": [
             {
              "total_non_null_rows": 819,
              "total_rows_inc_nulls": 1000,
              "value": "pMurphy",
              "value_count": 1
             },
             {
              "total_non_null_rows": 819,
              "total_rows_inc_nulls": 1000,
              "value": "Bailey",
              "value_count": 1
             },
             {
              "total_non_null_rows": 819,
              "total_rows_inc_nulls": 1000,
              "value": "Gorodon",
              "value_count": 1
             },
             {
              "total_non_null_rows": 819,
              "total_rows_inc_nulls": 1000,
              "value": "Eavns",
              "value_count": 1
             },
             {
              "total_non_null_rows": 819,
              "total_rows_inc_nulls": 1000,
              "value": "Writhg",
              "value_count": 1
             },
             {
              "total_non_null_rows": 819,
              "total_rows_inc_nulls": 1000,
              "value": "Pcire",
              "value_count": 1
             },
             {
              "total_non_null_rows": 819,
              "total_rows_inc_nulls": 1000,
              "value": "hhS",
              "value_count": 1
             },
             {
              "total_non_null_rows": 819,
              "total_rows_inc_nulls": 1000,
              "value": "Breyr",
              "value_count": 1
             },
             {
              "total_non_null_rows": 819,
              "total_rows_inc_nulls": 1000,
              "value": "Hguehes",
              "value_count": 1
             },
             {
              "total_non_null_rows": 819,
              "total_rows_inc_nulls": 1000,
              "value": "Parker",
              "value_count": 1
             }
            ]
           },
           "encoding": {
            "tooltip": [
             {
              "field": "value",
              "type": "nominal"
             },
             {
              "field": "value_count",
              "type": "quantitative"
             },
             {
              "field": "total_non_null_rows",
              "type": "quantitative"
             },
             {
              "field": "total_rows_inc_nulls",
              "type": "quantitative"
             }
            ],
            "x": {
             "field": "value",
             "sort": "-y",
             "title": null,
             "type": "nominal"
            },
            "y": {
             "field": "value_count",
             "scale": {
              "domain": [
               0,
               23
              ]
             },
             "title": "Value count",
             "type": "quantitative"
            }
           },
           "mark": "bar",
           "title": "Bottom 10 values by value count"
          }
         ]
        },
        {
         "hconcat": [
          {
           "data": {
            "values": [
             {
              "group_name": "city",
              "percentile_ex_nulls": 1,
              "percentile_inc_nulls": 1,
              "sum_tokens_in_value_count_group": 173,
              "total_non_null_rows": 813,
              "total_rows_inc_nulls": 1000,
              "value_count": 173
             },
             {
              "percentile_ex_nulls": 0.7872078720787208,
              "percentile_inc_nulls": 0.827,
              "proportion_of_non_null_rows": 0.21279212792127922,
              "sum_tokens_in_value_count_group": 173,
              "total_non_null_rows": 813,
              "total_rows_inc_nulls": 1000,
              "value_count": 173
             },
             {
              "percentile_ex_nulls": 0.7380073800738007,
              "percentile_inc_nulls": 0.787,
              "proportion_of_non_null_rows": 0.04920049200492005,
              "sum_tokens_in_value_count_group": 40,
              "total_non_null_rows": 813,
              "total_rows_inc_nulls": 1000,
              "value_count": 40
             },
             {
              "percentile_ex_nulls": 0.6974169741697417,
              "percentile_inc_nulls": 0.754,
              "proportion_of_non_null_rows": 0.04059040590405904,
              "sum_tokens_in_value_count_group": 33,
              "total_non_null_rows": 813,
              "total_rows_inc_nulls": 1000,
              "value_count": 33
             },
             {
              "percentile_ex_nulls": 0.6715867158671587,
              "percentile_inc_nulls": 0.733,
              "proportion_of_non_null_rows": 0.025830258302583026,
              "sum_tokens_in_value_count_group": 21,
              "total_non_null_rows": 813,
              "total_rows_inc_nulls": 1000,
              "value_count": 21
             },
             {
              "percentile_ex_nulls": 0.6494464944649446,
              "percentile_inc_nulls": 0.7150000000000001,
              "proportion_of_non_null_rows": 0.02214022140221402,
              "sum_tokens_in_value_count_group": 18,
              "total_non_null_rows": 813,
              "total_rows_inc_nulls": 1000,
              "value_count": 18
             },
             {
              "percentile_ex_nulls": 0.6076260762607626,
              "percentile_inc_nulls": 0.681,
              "proportion_of_non_null_rows": 0.041820418204182044,
              "sum_tokens_in_value_count_group": 34,
              "total_non_null_rows": 813,
              "total_rows_inc_nulls": 1000,
              "value_count": 17
             },
             {
              "percentile_ex_nulls": 0.5682656826568266,
              "percentile_inc_nulls": 0.649,
              "proportion_of_non_null_rows": 0.03936039360393604,
              "sum_tokens_in_value_count_group": 32,
              "total_non_null_rows": 813,
              "total_rows_inc_nulls": 1000,
              "value_count": 16
             },
             {
              "percentile_ex_nulls": 0.5166051660516605,
              "percentile_inc_nulls": 0.607,
              "proportion_of_non_null_rows": 0.05166051660516605,
              "sum_tokens_in_value_count_group": 42,
              "total_non_null_rows": 813,
              "total_rows_inc_nulls": 1000,
              "value_count": 14
             },
             {
              "percentile_ex_nulls": 0.48462484624846247,
              "percentile_inc_nulls": 0.581,
              "proportion_of_non_null_rows": 0.03198031980319803,
              "sum_tokens_in_value_count_group": 26,
              "total_non_null_rows": 813,
              "total_rows_inc_nulls": 1000,
              "value_count": 13
             },
             {
              "percentile_ex_nulls": 0.44034440344403447,
              "percentile_inc_nulls": 0.5449999999999999,
              "proportion_of_non_null_rows": 0.04428044280442804,
              "sum_tokens_in_value_count_group": 36,
              "total_non_null_rows": 813,
              "total_rows_inc_nulls": 1000,
              "value_count": 12
             },
             {
              "percentile_ex_nulls": 0.41574415744157445,
              "percentile_inc_nulls": 0.525,
              "proportion_of_non_null_rows": 0.024600246002460024,
              "sum_tokens_in_value_count_group": 20,
              "total_non_null_rows": 813,
              "total_rows_inc_nulls": 1000,
              "value_count": 10
             },
             {
              "percentile_ex_nulls": 0.3936039360393604,
              "percentile_inc_nulls": 0.507,
              "proportion_of_non_null_rows": 0.02214022140221402,
              "sum_tokens_in_value_count_group": 18,
              "total_non_null_rows": 813,
              "total_rows_inc_nulls": 1000,
              "value_count": 9
             },
             {
              "percentile_ex_nulls": 0.3640836408364083,
              "percentile_inc_nulls": 0.483,
              "proportion_of_non_null_rows": 0.02952029520295203,
              "sum_tokens_in_value_count_group": 24,
              "total_non_null_rows": 813,
              "total_rows_inc_nulls": 1000,
              "value_count": 8
             },
             {
              "percentile_ex_nulls": 0.3124231242312423,
              "percentile_inc_nulls": 0.44099999999999995,
              "proportion_of_non_null_rows": 0.05166051660516605,
              "sum_tokens_in_value_count_group": 42,
              "total_non_null_rows": 813,
              "total_rows_inc_nulls": 1000,
              "value_count": 7
             },
             {
              "percentile_ex_nulls": 0.28290282902829034,
              "percentile_inc_nulls": 0.41700000000000004,
              "proportion_of_non_null_rows": 0.02952029520295203,
              "sum_tokens_in_value_count_group": 24,
              "total_non_null_rows": 813,
              "total_rows_inc_nulls": 1000,
              "value_count": 6
             },
             {
              "percentile_ex_nulls": 0.2583025830258303,
              "percentile_inc_nulls": 0.397,
              "proportion_of_non_null_rows": 0.024600246002460024,
              "sum_tokens_in_value_count_group": 20,
              "total_non_null_rows": 813,
              "total_rows_inc_nulls": 1000,
              "value_count": 5
             },
             {
              "percentile_ex_nulls": 0.24354243542435428,
              "percentile_inc_nulls": 0.385,
              "proportion_of_non_null_rows": 0.014760147601476014,
              "sum_tokens_in_value_count_group": 12,
              "total_non_null_rows": 813,
              "total_rows_inc_nulls": 1000,
              "value_count": 4
             },
             {
              "percentile_ex_nulls": 0.22878228782287824,
              "percentile_inc_nulls": 0.373,
              "proportion_of_non_null_rows": 0.014760147601476014,
              "sum_tokens_in_value_count_group": 12,
              "total_non_null_rows": 813,
              "total_rows_inc_nulls": 1000,
              "value_count": 3
             },
             {
              "percentile_ex_nulls": 0.1968019680196802,
              "percentile_inc_nulls": 0.347,
              "proportion_of_non_null_rows": 0.03198031980319803,
              "sum_tokens_in_value_count_group": 26,
              "total_non_null_rows": 813,
              "total_rows_inc_nulls": 1000,
              "value_count": 2
             },
             {
              "percentile_ex_nulls": 0,
              "percentile_inc_nulls": 0.18700000000000006,
              "proportion_of_non_null_rows": 0.1968019680196802,
              "sum_tokens_in_value_count_group": 160,
              "total_non_null_rows": 813,
              "total_rows_inc_nulls": 1000,
              "value_count": 1
             }
            ]
           },
           "encoding": {
            "tooltip": [
             {
              "field": "value_count",
              "type": "quantitative"
             },
             {
              "field": "percentile_ex_nulls",
              "type": "quantitative"
             },
             {
              "field": "percentile_inc_nulls",
              "type": "quantitative"
             },
             {
              "field": "total_non_null_rows",
              "type": "quantitative"
             },
             {
              "field": "total_rows_inc_nulls",
              "type": "quantitative"
             },
             {
              "field": "proportion_of_non_null_rows",
              "type": "quantitative"
             }
            ],
            "x": {
             "field": "percentile_ex_nulls",
             "sort": "descending",
             "title": "Percentile",
             "type": "quantitative"
            },
            "y": {
             "field": "value_count",
             "title": "Count of values",
             "type": "quantitative"
            }
           },
           "mark": {
            "interpolate": "step-after",
            "type": "line"
           },
           "title": {
            "subtitle": "Of the 1000 rows in the df, 813 (18.7%) are null for this column",
            "text": "Distribution of counts of values in column city"
           }
          },
          {
           "data": {
            "values": [
             {
              "total_non_null_rows": 813,
              "total_rows_inc_nulls": 1000,
              "value": "London",
              "value_count": 173
             },
             {
              "total_non_null_rows": 813,
              "total_rows_inc_nulls": 1000,
              "value": "Birmingham",
              "value_count": 40
             },
             {
              "total_non_null_rows": 813,
              "total_rows_inc_nulls": 1000,
              "value": "Liverpool",
              "value_count": 33
             },
             {
              "total_non_null_rows": 813,
              "total_rows_inc_nulls": 1000,
              "value": "Coventry",
              "value_count": 21
             },
             {
              "total_non_null_rows": 813,
              "total_rows_inc_nulls": 1000,
              "value": "Newcastle-upon-Tyne",
              "value_count": 18
             },
             {
              "total_non_null_rows": 813,
              "total_rows_inc_nulls": 1000,
              "value": "Leeds",
              "value_count": 17
             },
             {
              "total_non_null_rows": 813,
              "total_rows_inc_nulls": 1000,
              "value": "Manchester",
              "value_count": 17
             },
             {
              "total_non_null_rows": 813,
              "total_rows_inc_nulls": 1000,
              "value": "Bristol",
              "value_count": 16
             },
             {
              "total_non_null_rows": 813,
              "total_rows_inc_nulls": 1000,
              "value": "Aberdeen",
              "value_count": 16
             },
             {
              "total_non_null_rows": 813,
              "total_rows_inc_nulls": 1000,
              "value": "Southend-on-Sea",
              "value_count": 14
             },
             {
              "total_non_null_rows": 813,
              "total_rows_inc_nulls": 1000,
              "value": "Salford",
              "value_count": 14
             },
             {
              "total_non_null_rows": 813,
              "total_rows_inc_nulls": 1000,
              "value": "Portsmouth",
              "value_count": 14
             },
             {
              "total_non_null_rows": 813,
              "total_rows_inc_nulls": 1000,
              "value": "Swansea",
              "value_count": 13
             },
             {
              "total_non_null_rows": 813,
              "total_rows_inc_nulls": 1000,
              "value": "Kingston-upon-Hull",
              "value_count": 13
             },
             {
              "total_non_null_rows": 813,
              "total_rows_inc_nulls": 1000,
              "value": "Reading",
              "value_count": 12
             },
             {
              "total_non_null_rows": 813,
              "total_rows_inc_nulls": 1000,
              "value": "Cardiff",
              "value_count": 12
             },
             {
              "total_non_null_rows": 813,
              "total_rows_inc_nulls": 1000,
              "value": "Plymouth",
              "value_count": 12
             },
             {
              "total_non_null_rows": 813,
              "total_rows_inc_nulls": 1000,
              "value": "Swindon",
              "value_count": 10
             },
             {
              "total_non_null_rows": 813,
              "total_rows_inc_nulls": 1000,
              "value": "Huddersfield",
              "value_count": 10
             },
             {
              "total_non_null_rows": 813,
              "total_rows_inc_nulls": 1000,
              "value": "Bradford",
              "value_count": 9
             }
            ]
           },
           "encoding": {
            "tooltip": [
             {
              "field": "value",
              "type": "nominal"
             },
             {
              "field": "value_count",
              "type": "quantitative"
             },
             {
              "field": "total_non_null_rows",
              "type": "quantitative"
             },
             {
              "field": "total_rows_inc_nulls",
              "type": "quantitative"
             }
            ],
            "x": {
             "field": "value",
             "sort": "-y",
             "title": null,
             "type": "nominal"
            },
            "y": {
             "field": "value_count",
             "title": "Value count",
             "type": "quantitative"
            }
           },
           "mark": "bar",
           "title": "Top 20 values by value count"
          },
          {
           "data": {
            "values": [
             {
              "total_non_null_rows": 813,
              "total_rows_inc_nulls": 1000,
              "value": "Pootsmruth",
              "value_count": 1
             },
             {
              "total_non_null_rows": 813,
              "total_rows_inc_nulls": 1000,
              "value": "Anberden",
              "value_count": 1
             },
             {
              "total_non_null_rows": 813,
              "total_rows_inc_nulls": 1000,
              "value": "Lunton",
              "value_count": 1
             },
             {
              "total_non_null_rows": 813,
              "total_rows_inc_nulls": 1000,
              "value": "Snawseaa",
              "value_count": 1
             },
             {
              "total_non_null_rows": 813,
              "total_rows_inc_nulls": 1000,
              "value": "Brritsol",
              "value_count": 1
             },
             {
              "total_non_null_rows": 813,
              "total_rows_inc_nulls": 1000,
              "value": "fTelford",
              "value_count": 1
             },
             {
              "total_non_null_rows": 813,
              "total_rows_inc_nulls": 1000,
              "value": "LondoLn",
              "value_count": 1
             },
             {
              "total_non_null_rows": 813,
              "total_rows_inc_nulls": 1000,
              "value": "LeicestLe",
              "value_count": 1
             },
             {
              "total_non_null_rows": 813,
              "total_rows_inc_nulls": 1000,
              "value": "Loonon",
              "value_count": 1
             },
             {
              "total_non_null_rows": 813,
              "total_rows_inc_nulls": 1000,
              "value": "Petberborough",
              "value_count": 1
             }
            ]
           },
           "encoding": {
            "tooltip": [
             {
              "field": "value",
              "type": "nominal"
             },
             {
              "field": "value_count",
              "type": "quantitative"
             },
             {
              "field": "total_non_null_rows",
              "type": "quantitative"
             },
             {
              "field": "total_rows_inc_nulls",
              "type": "quantitative"
             }
            ],
            "x": {
             "field": "value",
             "sort": "-y",
             "title": null,
             "type": "nominal"
            },
            "y": {
             "field": "value_count",
             "scale": {
              "domain": [
               0,
               173
              ]
             },
             "title": "Value count",
             "type": "quantitative"
            }
           },
           "mark": "bar",
           "title": "Bottom 10 values by value count"
          }
         ]
        },
        {
         "hconcat": [
          {
           "data": {
            "values": [
             {
              "group_name": "email",
              "percentile_ex_nulls": 1,
              "percentile_inc_nulls": 1,
              "sum_tokens_in_value_count_group": 30,
              "total_non_null_rows": 789,
              "total_rows_inc_nulls": 1000,
              "value_count": 6
             },
             {
              "percentile_ex_nulls": 0.9619771863117871,
              "percentile_inc_nulls": 0.97,
              "proportion_of_non_null_rows": 0.03802281368821293,
              "sum_tokens_in_value_count_group": 30,
              "total_non_null_rows": 789,
              "total_rows_inc_nulls": 1000,
              "value_count": 6
             },
             {
              "percentile_ex_nulls": 0.8479087452471483,
              "percentile_inc_nulls": 0.88,
              "proportion_of_non_null_rows": 0.11406844106463879,
              "sum_tokens_in_value_count_group": 90,
              "total_non_null_rows": 789,
              "total_rows_inc_nulls": 1000,
              "value_count": 5
             },
             {
              "percentile_ex_nulls": 0.6653992395437263,
              "percentile_inc_nulls": 0.736,
              "proportion_of_non_null_rows": 0.18250950570342206,
              "sum_tokens_in_value_count_group": 144,
              "total_non_null_rows": 789,
              "total_rows_inc_nulls": 1000,
              "value_count": 4
             },
             {
              "percentile_ex_nulls": 0.47148288973384034,
              "percentile_inc_nulls": 0.583,
              "proportion_of_non_null_rows": 0.19391634980988592,
              "sum_tokens_in_value_count_group": 153,
              "total_non_null_rows": 789,
              "total_rows_inc_nulls": 1000,
              "value_count": 3
             },
             {
              "percentile_ex_nulls": 0.32446134347275035,
              "percentile_inc_nulls": 0.46699999999999997,
              "proportion_of_non_null_rows": 0.14702154626108999,
              "sum_tokens_in_value_count_group": 116,
              "total_non_null_rows": 789,
              "total_rows_inc_nulls": 1000,
              "value_count": 2
             },
             {
              "percentile_ex_nulls": 0,
              "percentile_inc_nulls": 0.21099999999999997,
              "proportion_of_non_null_rows": 0.3244613434727503,
              "sum_tokens_in_value_count_group": 256,
              "total_non_null_rows": 789,
              "total_rows_inc_nulls": 1000,
              "value_count": 1
             }
            ]
           },
           "encoding": {
            "tooltip": [
             {
              "field": "value_count",
              "type": "quantitative"
             },
             {
              "field": "percentile_ex_nulls",
              "type": "quantitative"
             },
             {
              "field": "percentile_inc_nulls",
              "type": "quantitative"
             },
             {
              "field": "total_non_null_rows",
              "type": "quantitative"
             },
             {
              "field": "total_rows_inc_nulls",
              "type": "quantitative"
             },
             {
              "field": "proportion_of_non_null_rows",
              "type": "quantitative"
             }
            ],
            "x": {
             "field": "percentile_ex_nulls",
             "sort": "descending",
             "title": "Percentile",
             "type": "quantitative"
            },
            "y": {
             "field": "value_count",
             "title": "Count of values",
             "type": "quantitative"
            }
           },
           "mark": {
            "interpolate": "step-after",
            "type": "line"
           },
           "title": {
            "subtitle": "Of the 1000 rows in the df, 789 (21.1%) are null for this column",
            "text": "Distribution of counts of values in column email"
           }
          },
          {
           "data": {
            "values": [
             {
              "total_non_null_rows": 789,
              "total_rows_inc_nulls": 1000,
              "value": "omoore64@randall.com",
              "value_count": 6
             },
             {
              "total_non_null_rows": 789,
              "total_rows_inc_nulls": 1000,
              "value": "j.williams@levine-johnson.com",
              "value_count": 6
             },
             {
              "total_non_null_rows": 789,
              "total_rows_inc_nulls": 1000,
              "value": "fb@nelson.com",
              "value_count": 6
             },
             {
              "total_non_null_rows": 789,
              "total_rows_inc_nulls": 1000,
              "value": "jessica.miller@johnson.com",
              "value_count": 6
             },
             {
              "total_non_null_rows": 789,
              "total_rows_inc_nulls": 1000,
              "value": "iwilkinson@bush.com",
              "value_count": 6
             },
             {
              "total_non_null_rows": 789,
              "total_rows_inc_nulls": 1000,
              "value": "elizataylor@marshall.com",
              "value_count": 5
             },
             {
              "total_non_null_rows": 789,
              "total_rows_inc_nulls": 1000,
              "value": "r.cole1@ramirez-anthony.com",
              "value_count": 5
             },
             {
              "total_non_null_rows": 789,
              "total_rows_inc_nulls": 1000,
              "value": "dh@powell.net",
              "value_count": 5
             },
             {
              "total_non_null_rows": 789,
              "total_rows_inc_nulls": 1000,
              "value": "riley.k@zavala.com",
              "value_count": 5
             },
             {
              "total_non_null_rows": 789,
              "total_rows_inc_nulls": 1000,
              "value": "hollythomson3@levine-jones.com",
              "value_count": 5
             },
             {
              "total_non_null_rows": 789,
              "total_rows_inc_nulls": 1000,
              "value": "jacob.a83@clark.com",
              "value_count": 5
             },
             {
              "total_non_null_rows": 789,
              "total_rows_inc_nulls": 1000,
              "value": "e.b30@little.biz",
              "value_count": 5
             },
             {
              "total_non_null_rows": 789,
              "total_rows_inc_nulls": 1000,
              "value": "lrobinson@wolf.org",
              "value_count": 5
             },
             {
              "total_non_null_rows": 789,
              "total_rows_inc_nulls": 1000,
              "value": "ohughes@page-kim.info",
              "value_count": 5
             },
             {
              "total_non_null_rows": 789,
              "total_rows_inc_nulls": 1000,
              "value": "james.d@merritt-scott.com",
              "value_count": 5
             },
             {
              "total_non_null_rows": 789,
              "total_rows_inc_nulls": 1000,
              "value": "a.s@humphrey.com",
              "value_count": 5
             },
             {
              "total_non_null_rows": 789,
              "total_rows_inc_nulls": 1000,
              "value": "noahh78@diaz-clark.com",
              "value_count": 5
             },
             {
              "total_non_null_rows": 789,
              "total_rows_inc_nulls": 1000,
              "value": "lily.robinson73@peterson.biz",
              "value_count": 5
             },
             {
              "total_non_null_rows": 789,
              "total_rows_inc_nulls": 1000,
              "value": "l.armstrong@reyes-campbell.net",
              "value_count": 5
             },
             {
              "total_non_null_rows": 789,
              "total_rows_inc_nulls": 1000,
              "value": "leahrussell@charles.net",
              "value_count": 5
             }
            ]
           },
           "encoding": {
            "tooltip": [
             {
              "field": "value",
              "type": "nominal"
             },
             {
              "field": "value_count",
              "type": "quantitative"
             },
             {
              "field": "total_non_null_rows",
              "type": "quantitative"
             },
             {
              "field": "total_rows_inc_nulls",
              "type": "quantitative"
             }
            ],
            "x": {
             "field": "value",
             "sort": "-y",
             "title": null,
             "type": "nominal"
            },
            "y": {
             "field": "value_count",
             "title": "Value count",
             "type": "quantitative"
            }
           },
           "mark": "bar",
           "title": "Top 20 values by value count"
          },
          {
           "data": {
            "values": [
             {
              "total_non_null_rows": 789,
              "total_rows_inc_nulls": 1000,
              "value": "o.griffiths90@reyes-coleman.com",
              "value_count": 1
             },
             {
              "total_non_null_rows": 789,
              "total_rows_inc_nulls": 1000,
              "value": "j.lee86@ro6berson.com",
              "value_count": 1
             },
             {
              "total_non_null_rows": 789,
              "total_rows_inc_nulls": 1000,
              "value": "charlottej68@lee-taylor.org",
              "value_count": 1
             },
             {
              "total_non_null_rows": 789,
              "total_rows_inc_nulls": 1000,
              "value": "e.e@ay.cod",
              "value_count": 1
             },
             {
              "total_non_null_rows": 789,
              "total_rows_inc_nulls": 1000,
              "value": "dracdonald@rivers-glass.biz",
              "value_count": 1
             },
             {
              "total_non_null_rows": 789,
              "total_rows_inc_nulls": 1000,
              "value": "lucas.harrington@com",
              "value_count": 1
             },
             {
              "total_non_null_rows": 789,
              "total_rows_inc_nulls": 1000,
              "value": "l.feruson46@sahh.com",
              "value_count": 1
             },
             {
              "total_non_null_rows": 789,
              "total_rows_inc_nulls": 1000,
              "value": "hsimmons@roberts.com",
              "value_count": 1
             },
             {
              "total_non_null_rows": 789,
              "total_rows_inc_nulls": 1000,
              "value": "lbrooks9@omiller.org",
              "value_count": 1
             },
             {
              "total_non_null_rows": 789,
              "total_rows_inc_nulls": 1000,
              "value": "lolat86@bishop-giles.om",
              "value_count": 1
             }
            ]
           },
           "encoding": {
            "tooltip": [
             {
              "field": "value",
              "type": "nominal"
             },
             {
              "field": "value_count",
              "type": "quantitative"
             },
             {
              "field": "total_non_null_rows",
              "type": "quantitative"
             },
             {
              "field": "total_rows_inc_nulls",
              "type": "quantitative"
             }
            ],
            "x": {
             "field": "value",
             "sort": "-y",
             "title": null,
             "type": "nominal"
            },
            "y": {
             "field": "value_count",
             "scale": {
              "domain": [
               0,
               6
              ]
             },
             "title": "Value count",
             "type": "quantitative"
            }
           },
           "mark": "bar",
           "title": "Bottom 10 values by value count"
          }
         ]
        }
       ]
      },
      "text/plain": [
       "<VegaLite 4 object>\n",
       "\n",
       "If you see this message, it means the renderer has not been properly enabled\n",
       "for the frontend that you are using. For more information, see\n",
       "https://altair-viz.github.io/user_guide/troubleshooting.html\n"
      ]
     },
     "execution_count": 58,
     "metadata": {},
     "output_type": "execute_result"
    }
   ],
   "source": [
    "import altair as alt\n",
    "alt.renderers.enable('mimetype')\n",
    "#alt.renderers.enable('default')\n",
    "column_value_frequencies_chart(['first_name', \"surname\", \"dob\", \"city\", \"email\"], df, spark)"
   ]
  },
  {
   "cell_type": "markdown",
   "metadata": {},
   "source": [
    "In this step, with real world data, we would do quite a bit of data cleaning work to do things like standarise names (eg. making them all upper case, splitting out multiple names), cleaning up dates, etc.  Some useful functions are available in `[splink_data_standardisation](https://github.com/moj-analytical-services/splink_data_standardisation)`\n",
    "\n",
    "This will be different for every dataset, but the aim is to make it as easy as possible for Splink to spot similarities and difference between fields.\n",
    "\n",
    "Now that we understand the data, we are ready to start using Splink."
   ]
  },
  {
   "cell_type": "markdown",
   "metadata": {},
   "source": [
    "## Step 3: Decide on a blocking approach\n",
    "\n",
    "In most large datasets, it will be computationally intractable to compare every row with every other row.  We can use a technique called blocking to dramatically reduce the number of comparisons by comparing only records that adhere to certain rules, such as that the first name and date of birth must be equal .  Blocking is described further [here](https://toolkit.data.gov.au/Data_Linking_Information_Series_Sheet_4:_Probabilistic_linking.html).\n",
    "\n",
    "The above profling charts are useful to understand which blocking rules may be effective.  For example, we can see that that the forename 'George' is the most prevalant in the dataset, occurring 22 times.  If we block on forename, $\\frac{n\\left(n-1\\right)}2$ comparisons will be generated amongst Georges, with each instance being compared to each other.  This is probably viable in terms of the number of comparisons generated.  On the other hand, London appears over 250 times, and so blocking on city would generate a very large number of comparisons where both records had city = London.  \n",
    "\n",
    "Whilst blocking this is useful in reducing record comparisons, the problem is that its rare to find a blocking rule which eliminates enough record comparisons, and does not eliminate true matches (i.e. which has perfect recall).  \n",
    "\n",
    "The solution to this problem is generally to use several different blocking rules -s o for example, to generate record comparisons based on either the rule that first name must be equal, or that surname must be equal.  This means that the blocking approach will only eliminate true comparisons when both first and surname match, which will happen much less often than either one individually.\n",
    "\n",
    "Unfortuantely, it is theoretically invalid to estimate the Fellegi Sunter model on comparisons generated from multiple blocking rules, becauase it breaks the assumption of conditional independece.\n",
    "\n",
    "The recommended approach is to estimate different models, one for each blocking rule, and combine the results. \n",
    "\n",
    "We will demonstrate how to combined models in a separate notebook.  In this notebook we demonstrate how to run the model for a single rule"
   ]
  },
  {
   "cell_type": "markdown",
   "metadata": {},
   "source": [
    "## Step 4:  Configure splink using the `settings` object\n",
    "\n",
    "`splink` configuration options are stored in a settings dictionary.  This dictionary allows significant customisation, and can therefore get quite complex.  \n",
    "\n",
    "💥 We provide an tool for helping to author valid settings dictionaries, which includes tooltips and autocomplete, which you can find [here](http://robinlinacre.com/splink_settings_editor/).\n",
    "\n",
    "Customisation overrides default values built into splink.  For the purposes of this demo, we will specify a simple settings dictionary, which means we will be relying on these sensible defaults.\n",
    "\n",
    "To help with authoring and validation of the settings dictionary, we have written a [json schema](https://json-schema.org/), which can be found [here](https://github.com/moj-analytical-services/splink/blob/master/splink/files/settings_jsonschema.json).  \n",
    "\n",
    "\n"
   ]
  },
  {
   "cell_type": "code",
   "execution_count": 59,
   "metadata": {},
   "outputs": [],
   "source": [
    "settings = {\n",
    "    \"link_type\": \"dedupe_only\",\n",
    "    \"blocking_rules\": [\n",
    "        \"l.first_name = r.first_name\"\n",
    "    ],\n",
    "    \"comparison_columns\": [\n",
    "        {\n",
    "            \"col_name\": \"surname\",\n",
    "            \"num_levels\": 3,\n",
    "            \"term_frequency_adjustments\": True\n",
    "        },\n",
    "        {\n",
    "            \"col_name\": \"dob\"\n",
    "        },\n",
    "        {\n",
    "            \"col_name\": \"city\",\n",
    "            \"term_frequency_adjustments\": True\n",
    "        },\n",
    "        {\n",
    "            \"col_name\": \"email\"\n",
    "        }\n",
    "    ],\n",
    "    \"additional_columns_to_retain\": [\"group\"],\n",
    "    \"em_convergence\": 0.01\n",
    "}"
   ]
  },
  {
   "cell_type": "markdown",
   "metadata": {},
   "source": [
    "In words, this setting dictionary says:\n",
    "- We are performing a deduplication task (the other options are `link_only`, or `link_and_dedupe`)\n",
    "- We are going generate comparisons subject to the blocking rules contained in the specified array - in this case, only generate comparisons where the forename matches\n",
    "- When comparing records, we will use information from the `surname`, `dob`, `city` and `email` columns to compute a match score.\n",
    "- For `surname` string comparison will have three levels:\n",
    "    - Level 2: Strings are (almost) exactly the same\n",
    "    - Level 1: Strings are similar \n",
    "    - Level 0: No match\n",
    "- We will make adjustments for term frequencies on the `surname` columns\n",
    "- We will retain the `group` column in the results even though this is not used as part of comparisons.  This is a labelled dataset and `group` contains the true match - i.e. where group matches, the records pertain to the same person\n",
    "- Consider the algorithm to have converged when no parameter changes by more than 0.01 between iterations"
   ]
  },
  {
   "cell_type": "markdown",
   "metadata": {},
   "source": [
    "## Step 3:  Estimate u probabilities directly\n",
    "\n",
    "The u probabilities are the probabilities that fields will match given the records do not match.  So, for example, a 'month of birth' column would be expected to match around 1/12 of the time amongst non-matching records\n",
    "\n",
    "For many datasets, the probability that two records selected at random will match is almost zero.  A sample of such pairs of records should therefore almost exclusively contain non-matches.  \n",
    "\n",
    "We can therefore simply assume this dataset contains non-matches only, and directly estimate u probabilities.\n"
   ]
  },
  {
   "cell_type": "code",
   "execution_count": 60,
   "metadata": {},
   "outputs": [],
   "source": [
    "from splink.estimate import estimate_u_values\n",
    "settings_with_u = estimate_u_values(settings, df, spark, fix_u_probabilities=True)"
   ]
  },
  {
   "cell_type": "code",
   "execution_count": 61,
   "metadata": {},
   "outputs": [
    {
     "name": "stdout",
     "output_type": "stream",
     "text": [
      "{'additional_columns_to_retain': ['group'],\n",
      " 'blocking_rules': ['l.first_name = r.first_name'],\n",
      " 'comparison_columns': [{'col_name': 'surname',\n",
      "                         'fix_u_probabilities': True,\n",
      "                         'num_levels': 3,\n",
      "                         'term_frequency_adjustments': True,\n",
      "                         'u_probabilities': [0.9911395311355591,\n",
      "                                             0.003970493096858263,\n",
      "                                             0.004889975767582655]},\n",
      "                        {'col_name': 'dob',\n",
      "                         'fix_u_probabilities': True,\n",
      "                         'u_probabilities': [0.998252252268821,\n",
      "                                             0.001747747731179016]},\n",
      "                        {'col_name': 'city',\n",
      "                         'fix_u_probabilities': True,\n",
      "                         'term_frequency_adjustments': True,\n",
      "                         'u_probabilities': [0.9448524293462267,\n",
      "                                             0.0551475706537733]},\n",
      "                        {'col_name': 'email',\n",
      "                         'fix_u_probabilities': True,\n",
      "                         'u_probabilities': [0.9978061285872744,\n",
      "                                             0.002193871412725607]}],\n",
      " 'em_convergence': 0.01,\n",
      " 'link_type': 'dedupe_only'}\n"
     ]
    }
   ],
   "source": [
    "from pprint import pprint\n",
    "pprint(settings_with_u)"
   ]
  },
  {
   "cell_type": "markdown",
   "metadata": {},
   "source": [
    "## Step 4:  Estimate match scores using the Expectation Maximisation algorithm\n",
    "\n",
    "\n",
    "Columns are assumed to be strings by default.  See the 'comparison vector settings' notebook for details of configuration options.\n",
    "\n"
   ]
  },
  {
   "cell_type": "code",
   "execution_count": 62,
   "metadata": {},
   "outputs": [
    {
     "name": "stderr",
     "output_type": "stream",
     "text": [
      "INFO:splink.iterate:Iteration 0 complete\n",
      "INFO:splink.model:The maximum change in parameters was 0.38965016007423403 for key dob, level 0\n",
      "INFO:splink.iterate:Iteration 1 complete\n",
      "INFO:splink.model:The maximum change in parameters was 0.08626824617385864 for key email, level 0\n",
      "INFO:splink.iterate:Iteration 2 complete\n",
      "INFO:splink.model:The maximum change in parameters was 0.02818053960800171 for key email, level 0\n",
      "INFO:splink.iterate:Iteration 3 complete\n",
      "INFO:splink.model:The maximum change in parameters was 0.009459644556045532 for key email, level 0\n",
      "INFO:splink.iterate:EM algorithm has converged\n"
     ]
    }
   ],
   "source": [
    "from splink import Splink\n",
    "\n",
    "linker = Splink(settings_with_u, df, spark)\n",
    "df_e = linker.get_scored_comparisons()"
   ]
  },
  {
   "cell_type": "markdown",
   "metadata": {},
   "source": [
    "## Step 5: Inspect results \n",
    "\n"
   ]
  },
  {
   "cell_type": "code",
   "execution_count": 63,
   "metadata": {},
   "outputs": [
    {
     "data": {
      "text/html": [
       "<div>\n",
       "<style scoped>\n",
       "    .dataframe tbody tr th:only-of-type {\n",
       "        vertical-align: middle;\n",
       "    }\n",
       "\n",
       "    .dataframe tbody tr th {\n",
       "        vertical-align: top;\n",
       "    }\n",
       "\n",
       "    .dataframe thead th {\n",
       "        text-align: right;\n",
       "    }\n",
       "</style>\n",
       "<table border=\"1\" class=\"dataframe\">\n",
       "  <thead>\n",
       "    <tr style=\"text-align: right;\">\n",
       "      <th></th>\n",
       "      <th>tf_adjusted_match_prob</th>\n",
       "      <th>unique_id_l</th>\n",
       "      <th>unique_id_r</th>\n",
       "      <th>group_l</th>\n",
       "      <th>group_r</th>\n",
       "      <th>surname_l</th>\n",
       "      <th>surname_r</th>\n",
       "      <th>dob_l</th>\n",
       "      <th>dob_r</th>\n",
       "      <th>city_l</th>\n",
       "      <th>city_r</th>\n",
       "      <th>email_l</th>\n",
       "      <th>email_r</th>\n",
       "    </tr>\n",
       "  </thead>\n",
       "  <tbody>\n",
       "    <tr>\n",
       "      <th>1</th>\n",
       "      <td>0.009296</td>\n",
       "      <td>0</td>\n",
       "      <td>1</td>\n",
       "      <td>0</td>\n",
       "      <td>0</td>\n",
       "      <td>Alan</td>\n",
       "      <td>Allen</td>\n",
       "      <td>1971-06-24</td>\n",
       "      <td>1971-05-24</td>\n",
       "      <td>None</td>\n",
       "      <td>None</td>\n",
       "      <td>robert255@smith.net</td>\n",
       "      <td>roberta25@smith.net</td>\n",
       "    </tr>\n",
       "    <tr>\n",
       "      <th>0</th>\n",
       "      <td>0.897881</td>\n",
       "      <td>0</td>\n",
       "      <td>3</td>\n",
       "      <td>0</td>\n",
       "      <td>0</td>\n",
       "      <td>Alan</td>\n",
       "      <td>Alen</td>\n",
       "      <td>1971-06-24</td>\n",
       "      <td>1971-06-24</td>\n",
       "      <td>None</td>\n",
       "      <td>Lonon</td>\n",
       "      <td>robert255@smith.net</td>\n",
       "      <td>None</td>\n",
       "    </tr>\n",
       "    <tr>\n",
       "      <th>2</th>\n",
       "      <td>0.955836</td>\n",
       "      <td>1</td>\n",
       "      <td>3</td>\n",
       "      <td>0</td>\n",
       "      <td>0</td>\n",
       "      <td>Allen</td>\n",
       "      <td>Alen</td>\n",
       "      <td>1971-05-24</td>\n",
       "      <td>1971-06-24</td>\n",
       "      <td>None</td>\n",
       "      <td>Lonon</td>\n",
       "      <td>roberta25@smith.net</td>\n",
       "      <td>None</td>\n",
       "    </tr>\n",
       "    <tr>\n",
       "      <th>166</th>\n",
       "      <td>0.230009</td>\n",
       "      <td>100</td>\n",
       "      <td>330</td>\n",
       "      <td>28</td>\n",
       "      <td>88</td>\n",
       "      <td>None</td>\n",
       "      <td>Richards</td>\n",
       "      <td>2009-08-25</td>\n",
       "      <td>2014-07-10</td>\n",
       "      <td>None</td>\n",
       "      <td>None</td>\n",
       "      <td>e.e@day.com</td>\n",
       "      <td>None</td>\n",
       "    </tr>\n",
       "    <tr>\n",
       "      <th>165</th>\n",
       "      <td>0.110099</td>\n",
       "      <td>100</td>\n",
       "      <td>331</td>\n",
       "      <td>28</td>\n",
       "      <td>88</td>\n",
       "      <td>None</td>\n",
       "      <td>None</td>\n",
       "      <td>2009-08-25</td>\n",
       "      <td>2024-07-07</td>\n",
       "      <td>None</td>\n",
       "      <td>Manchester</td>\n",
       "      <td>e.e@day.com</td>\n",
       "      <td>e.richards16@finley.ifo</td>\n",
       "    </tr>\n",
       "    <tr>\n",
       "      <th>164</th>\n",
       "      <td>0.110099</td>\n",
       "      <td>100</td>\n",
       "      <td>333</td>\n",
       "      <td>28</td>\n",
       "      <td>88</td>\n",
       "      <td>None</td>\n",
       "      <td>Richards</td>\n",
       "      <td>2009-08-25</td>\n",
       "      <td>2014-07-10</td>\n",
       "      <td>None</td>\n",
       "      <td>Mancester</td>\n",
       "      <td>e.e@day.com</td>\n",
       "      <td>e.richards16@finley.info</td>\n",
       "    </tr>\n",
       "    <tr>\n",
       "      <th>176</th>\n",
       "      <td>1.000000</td>\n",
       "      <td>101</td>\n",
       "      <td>102</td>\n",
       "      <td>29</td>\n",
       "      <td>29</td>\n",
       "      <td>Griffiths</td>\n",
       "      <td>None</td>\n",
       "      <td>2008-05-07</td>\n",
       "      <td>2008-05-07</td>\n",
       "      <td>Plymouth</td>\n",
       "      <td>Plymouth</td>\n",
       "      <td>a.griffiths@garner-bridges.com</td>\n",
       "      <td>a.griffiths@garner-bridges.com</td>\n",
       "    </tr>\n",
       "    <tr>\n",
       "      <th>175</th>\n",
       "      <td>0.909611</td>\n",
       "      <td>101</td>\n",
       "      <td>103</td>\n",
       "      <td>29</td>\n",
       "      <td>29</td>\n",
       "      <td>Griffiths</td>\n",
       "      <td>Griffihs</td>\n",
       "      <td>2008-05-07</td>\n",
       "      <td>2009-04-07</td>\n",
       "      <td>Plymouth</td>\n",
       "      <td>Plyoutm</td>\n",
       "      <td>a.griffiths@garner-bridges.com</td>\n",
       "      <td>None</td>\n",
       "    </tr>\n",
       "    <tr>\n",
       "      <th>174</th>\n",
       "      <td>1.000000</td>\n",
       "      <td>101</td>\n",
       "      <td>105</td>\n",
       "      <td>29</td>\n",
       "      <td>29</td>\n",
       "      <td>Griffiths</td>\n",
       "      <td>Griffiths</td>\n",
       "      <td>2008-05-07</td>\n",
       "      <td>2008-05-07</td>\n",
       "      <td>Plymouth</td>\n",
       "      <td>Plymouth</td>\n",
       "      <td>a.griffiths@garner-bridges.com</td>\n",
       "      <td>a.griffiths@garner-bridges.com</td>\n",
       "    </tr>\n",
       "    <tr>\n",
       "      <th>173</th>\n",
       "      <td>0.010425</td>\n",
       "      <td>101</td>\n",
       "      <td>149</td>\n",
       "      <td>29</td>\n",
       "      <td>40</td>\n",
       "      <td>Griffiths</td>\n",
       "      <td>eKelly</td>\n",
       "      <td>2008-05-07</td>\n",
       "      <td>2010-10-09</td>\n",
       "      <td>Plymouth</td>\n",
       "      <td>Birmimghan</td>\n",
       "      <td>a.griffiths@garner-bridges.com</td>\n",
       "      <td>None</td>\n",
       "    </tr>\n",
       "  </tbody>\n",
       "</table>\n",
       "</div>"
      ],
      "text/plain": [
       "     tf_adjusted_match_prob unique_id_l unique_id_r group_l group_r  \\\n",
       "1                  0.009296           0           1       0       0   \n",
       "0                  0.897881           0           3       0       0   \n",
       "2                  0.955836           1           3       0       0   \n",
       "166                0.230009         100         330      28      88   \n",
       "165                0.110099         100         331      28      88   \n",
       "164                0.110099         100         333      28      88   \n",
       "176                1.000000         101         102      29      29   \n",
       "175                0.909611         101         103      29      29   \n",
       "174                1.000000         101         105      29      29   \n",
       "173                0.010425         101         149      29      40   \n",
       "\n",
       "     surname_l  surname_r       dob_l       dob_r    city_l      city_r  \\\n",
       "1         Alan      Allen  1971-06-24  1971-05-24      None        None   \n",
       "0         Alan       Alen  1971-06-24  1971-06-24      None       Lonon   \n",
       "2        Allen       Alen  1971-05-24  1971-06-24      None       Lonon   \n",
       "166       None   Richards  2009-08-25  2014-07-10      None        None   \n",
       "165       None       None  2009-08-25  2024-07-07      None  Manchester   \n",
       "164       None   Richards  2009-08-25  2014-07-10      None   Mancester   \n",
       "176  Griffiths       None  2008-05-07  2008-05-07  Plymouth    Plymouth   \n",
       "175  Griffiths   Griffihs  2008-05-07  2009-04-07  Plymouth     Plyoutm   \n",
       "174  Griffiths  Griffiths  2008-05-07  2008-05-07  Plymouth    Plymouth   \n",
       "173  Griffiths     eKelly  2008-05-07  2010-10-09  Plymouth  Birmimghan   \n",
       "\n",
       "                            email_l                         email_r  \n",
       "1               robert255@smith.net             roberta25@smith.net  \n",
       "0               robert255@smith.net                            None  \n",
       "2               roberta25@smith.net                            None  \n",
       "166                     e.e@day.com                            None  \n",
       "165                     e.e@day.com         e.richards16@finley.ifo  \n",
       "164                     e.e@day.com        e.richards16@finley.info  \n",
       "176  a.griffiths@garner-bridges.com  a.griffiths@garner-bridges.com  \n",
       "175  a.griffiths@garner-bridges.com                            None  \n",
       "174  a.griffiths@garner-bridges.com  a.griffiths@garner-bridges.com  \n",
       "173  a.griffiths@garner-bridges.com                            None  "
      ]
     },
     "execution_count": 63,
     "metadata": {},
     "output_type": "execute_result"
    }
   ],
   "source": [
    "# Inspect main dataframe that contains the match scores\n",
    "cols_to_inspect = [\"tf_adjusted_match_prob\",\"unique_id_l\",\"unique_id_r\",\"group_l\", \"group_r\", \"surname_l\",\"surname_r\",\"dob_l\",\"dob_r\",\"city_l\",\"city_r\",\"email_l\",\"email_r\",]\n",
    "\n",
    "df_e.toPandas()[cols_to_inspect].sort_values([\"unique_id_l\", \"unique_id_r\"]).head(10)"
   ]
  },
  {
   "cell_type": "markdown",
   "metadata": {},
   "source": [
    "We can plot a histogram of the splink match probility.  This chart shows that, for the majority of record comparisons, the match score is estimated to be close to 0 or 1.  This indicates that there are few pairs of records where we are unsure whether it's a match or not."
   ]
  },
  {
   "cell_type": "code",
   "execution_count": 64,
   "metadata": {},
   "outputs": [
    {
     "data": {
      "application/vnd.vegalite.v4+json": {
       "$schema": "https://vega.github.io/schema/vega-lite/v4.8.1.json",
       "config": {
        "title": {
         "fontSize": 14
        },
        "view": {
         "continuousHeight": 300,
         "continuousWidth": 400
        }
       },
       "data": {
        "name": "data-3bba8fada205b2e299b3680502ffb812"
       },
       "datasets": {
        "data-3bba8fada205b2e299b3680502ffb812": [
         {
          "binwidth": 0.01,
          "count_rows": 580,
          "freqdensity": 58000,
          "normalised": 0.29029029029029035,
          "splink_score_bin_high": 0.01,
          "splink_score_bin_low": 0
         },
         {
          "binwidth": 0.01,
          "count_rows": 202,
          "freqdensity": 20200,
          "normalised": 0.10110110110110111,
          "splink_score_bin_high": 0.02,
          "splink_score_bin_low": 0.01
         },
         {
          "binwidth": 0.009999999999999998,
          "count_rows": 87,
          "freqdensity": 8700.000000000002,
          "normalised": 0.04354354354354356,
          "splink_score_bin_high": 0.03,
          "splink_score_bin_low": 0.02
         },
         {
          "binwidth": 0.010000000000000002,
          "count_rows": 4,
          "freqdensity": 399.99999999999994,
          "normalised": 0.002002002002002002,
          "splink_score_bin_high": 0.04,
          "splink_score_bin_low": 0.03
         },
         {
          "binwidth": 0.010000000000000002,
          "count_rows": 6,
          "freqdensity": 599.9999999999999,
          "normalised": 0.003003003003003003,
          "splink_score_bin_high": 0.05,
          "splink_score_bin_low": 0.04
         },
         {
          "binwidth": 0.009999999999999995,
          "count_rows": 202,
          "freqdensity": 20200.00000000001,
          "normalised": 0.10110110110110117,
          "splink_score_bin_high": 0.06,
          "splink_score_bin_low": 0.05
         },
         {
          "binwidth": 0.010000000000000009,
          "count_rows": 1,
          "freqdensity": 99.99999999999991,
          "normalised": 0.0005005005005005002,
          "splink_score_bin_high": 0.07,
          "splink_score_bin_low": 0.06
         },
         {
          "binwidth": 0.009999999999999995,
          "count_rows": 1,
          "freqdensity": 100.00000000000006,
          "normalised": 0.0005005005005005008,
          "splink_score_bin_high": 0.08,
          "splink_score_bin_low": 0.07
         },
         {
          "binwidth": 0.009999999999999995,
          "count_rows": 0,
          "freqdensity": 0,
          "normalised": 0,
          "splink_score_bin_high": 0.09,
          "splink_score_bin_low": 0.08
         },
         {
          "binwidth": 0.010000000000000009,
          "count_rows": 7,
          "freqdensity": 699.9999999999994,
          "normalised": 0.0035035035035035013,
          "splink_score_bin_high": 0.1,
          "splink_score_bin_low": 0.09
         },
         {
          "binwidth": 0.009999999999999995,
          "count_rows": 0,
          "freqdensity": 0,
          "normalised": 0,
          "splink_score_bin_high": 0.11,
          "splink_score_bin_low": 0.1
         },
         {
          "binwidth": 0.009999999999999995,
          "count_rows": 105,
          "freqdensity": 10500.000000000005,
          "normalised": 0.05255255255255259,
          "splink_score_bin_high": 0.12,
          "splink_score_bin_low": 0.11
         },
         {
          "binwidth": 0.010000000000000009,
          "count_rows": 90,
          "freqdensity": 8999.999999999993,
          "normalised": 0.045045045045045015,
          "splink_score_bin_high": 0.13,
          "splink_score_bin_low": 0.12
         },
         {
          "binwidth": 0.010000000000000009,
          "count_rows": 0,
          "freqdensity": 0,
          "normalised": 0,
          "splink_score_bin_high": 0.14,
          "splink_score_bin_low": 0.13
         },
         {
          "binwidth": 0.009999999999999981,
          "count_rows": 0,
          "freqdensity": 0,
          "normalised": 0,
          "splink_score_bin_high": 0.15,
          "splink_score_bin_low": 0.14
         },
         {
          "binwidth": 0.010000000000000009,
          "count_rows": 0,
          "freqdensity": 0,
          "normalised": 0,
          "splink_score_bin_high": 0.16,
          "splink_score_bin_low": 0.15
         },
         {
          "binwidth": 0.010000000000000009,
          "count_rows": 0,
          "freqdensity": 0,
          "normalised": 0,
          "splink_score_bin_high": 0.17,
          "splink_score_bin_low": 0.16
         },
         {
          "binwidth": 0.009999999999999981,
          "count_rows": 0,
          "freqdensity": 0,
          "normalised": 0,
          "splink_score_bin_high": 0.18,
          "splink_score_bin_low": 0.17
         },
         {
          "binwidth": 0.010000000000000009,
          "count_rows": 0,
          "freqdensity": 0,
          "normalised": 0,
          "splink_score_bin_high": 0.19,
          "splink_score_bin_low": 0.18
         },
         {
          "binwidth": 0.010000000000000009,
          "count_rows": 0,
          "freqdensity": 0,
          "normalised": 0,
          "splink_score_bin_high": 0.2,
          "splink_score_bin_low": 0.19
         },
         {
          "binwidth": 0.009999999999999981,
          "count_rows": 0,
          "freqdensity": 0,
          "normalised": 0,
          "splink_score_bin_high": 0.21,
          "splink_score_bin_low": 0.2
         },
         {
          "binwidth": 0.010000000000000009,
          "count_rows": 0,
          "freqdensity": 0,
          "normalised": 0,
          "splink_score_bin_high": 0.22,
          "splink_score_bin_low": 0.21
         },
         {
          "binwidth": 0.010000000000000009,
          "count_rows": 0,
          "freqdensity": 0,
          "normalised": 0,
          "splink_score_bin_high": 0.23,
          "splink_score_bin_low": 0.22
         },
         {
          "binwidth": 0.009999999999999981,
          "count_rows": 75,
          "freqdensity": 7500.000000000015,
          "normalised": 0.037537537537537614,
          "splink_score_bin_high": 0.24,
          "splink_score_bin_low": 0.23
         },
         {
          "binwidth": 0.010000000000000009,
          "count_rows": 0,
          "freqdensity": 0,
          "normalised": 0,
          "splink_score_bin_high": 0.25,
          "splink_score_bin_low": 0.24
         },
         {
          "binwidth": 0.010000000000000009,
          "count_rows": 0,
          "freqdensity": 0,
          "normalised": 0,
          "splink_score_bin_high": 0.26,
          "splink_score_bin_low": 0.25
         },
         {
          "binwidth": 0.010000000000000009,
          "count_rows": 0,
          "freqdensity": 0,
          "normalised": 0,
          "splink_score_bin_high": 0.27,
          "splink_score_bin_low": 0.26
         },
         {
          "binwidth": 0.010000000000000009,
          "count_rows": 0,
          "freqdensity": 0,
          "normalised": 0,
          "splink_score_bin_high": 0.28,
          "splink_score_bin_low": 0.27
         },
         {
          "binwidth": 0.009999999999999953,
          "count_rows": 2,
          "freqdensity": 200.00000000000094,
          "normalised": 0.0010010010010010058,
          "splink_score_bin_high": 0.29,
          "splink_score_bin_low": 0.28
         },
         {
          "binwidth": 0.010000000000000009,
          "count_rows": 1,
          "freqdensity": 99.99999999999991,
          "normalised": 0.0005005005005005002,
          "splink_score_bin_high": 0.3,
          "splink_score_bin_low": 0.29
         },
         {
          "binwidth": 0.010000000000000009,
          "count_rows": 3,
          "freqdensity": 299.9999999999997,
          "normalised": 0.0015015015015015004,
          "splink_score_bin_high": 0.31,
          "splink_score_bin_low": 0.3
         },
         {
          "binwidth": 0.010000000000000009,
          "count_rows": 1,
          "freqdensity": 99.99999999999991,
          "normalised": 0.0005005005005005002,
          "splink_score_bin_high": 0.32,
          "splink_score_bin_low": 0.31
         },
         {
          "binwidth": 0.010000000000000009,
          "count_rows": 0,
          "freqdensity": 0,
          "normalised": 0,
          "splink_score_bin_high": 0.33,
          "splink_score_bin_low": 0.32
         },
         {
          "binwidth": 0.010000000000000009,
          "count_rows": 0,
          "freqdensity": 0,
          "normalised": 0,
          "splink_score_bin_high": 0.34,
          "splink_score_bin_low": 0.33
         },
         {
          "binwidth": 0.009999999999999953,
          "count_rows": 0,
          "freqdensity": 0,
          "normalised": 0,
          "splink_score_bin_high": 0.35,
          "splink_score_bin_low": 0.34
         },
         {
          "binwidth": 0.010000000000000009,
          "count_rows": 0,
          "freqdensity": 0,
          "normalised": 0,
          "splink_score_bin_high": 0.36,
          "splink_score_bin_low": 0.35
         },
         {
          "binwidth": 0.010000000000000009,
          "count_rows": 0,
          "freqdensity": 0,
          "normalised": 0,
          "splink_score_bin_high": 0.37,
          "splink_score_bin_low": 0.36
         },
         {
          "binwidth": 0.010000000000000009,
          "count_rows": 0,
          "freqdensity": 0,
          "normalised": 0,
          "splink_score_bin_high": 0.38,
          "splink_score_bin_low": 0.37
         },
         {
          "binwidth": 0.010000000000000009,
          "count_rows": 0,
          "freqdensity": 0,
          "normalised": 0,
          "splink_score_bin_high": 0.39,
          "splink_score_bin_low": 0.38
         },
         {
          "binwidth": 0.010000000000000009,
          "count_rows": 0,
          "freqdensity": 0,
          "normalised": 0,
          "splink_score_bin_high": 0.4,
          "splink_score_bin_low": 0.39
         },
         {
          "binwidth": 0.009999999999999953,
          "count_rows": 0,
          "freqdensity": 0,
          "normalised": 0,
          "splink_score_bin_high": 0.41,
          "splink_score_bin_low": 0.4
         },
         {
          "binwidth": 0.010000000000000009,
          "count_rows": 0,
          "freqdensity": 0,
          "normalised": 0,
          "splink_score_bin_high": 0.42,
          "splink_score_bin_low": 0.41
         },
         {
          "binwidth": 0.010000000000000009,
          "count_rows": 0,
          "freqdensity": 0,
          "normalised": 0,
          "splink_score_bin_high": 0.43,
          "splink_score_bin_low": 0.42
         },
         {
          "binwidth": 0.010000000000000009,
          "count_rows": 0,
          "freqdensity": 0,
          "normalised": 0,
          "splink_score_bin_high": 0.44,
          "splink_score_bin_low": 0.43
         },
         {
          "binwidth": 0.010000000000000009,
          "count_rows": 5,
          "freqdensity": 499.99999999999955,
          "normalised": 0.0025025025025025007,
          "splink_score_bin_high": 0.45,
          "splink_score_bin_low": 0.44
         },
         {
          "binwidth": 0.010000000000000009,
          "count_rows": 1,
          "freqdensity": 99.99999999999991,
          "normalised": 0.0005005005005005002,
          "splink_score_bin_high": 0.46,
          "splink_score_bin_low": 0.45
         },
         {
          "binwidth": 0.009999999999999953,
          "count_rows": 1,
          "freqdensity": 100.00000000000047,
          "normalised": 0.0005005005005005029,
          "splink_score_bin_high": 0.47,
          "splink_score_bin_low": 0.46
         },
         {
          "binwidth": 0.010000000000000009,
          "count_rows": 2,
          "freqdensity": 199.99999999999983,
          "normalised": 0.0010010010010010003,
          "splink_score_bin_high": 0.48,
          "splink_score_bin_low": 0.47
         },
         {
          "binwidth": 0.010000000000000009,
          "count_rows": 0,
          "freqdensity": 0,
          "normalised": 0,
          "splink_score_bin_high": 0.49,
          "splink_score_bin_low": 0.48
         },
         {
          "binwidth": 0.010000000000000009,
          "count_rows": 0,
          "freqdensity": 0,
          "normalised": 0,
          "splink_score_bin_high": 0.5,
          "splink_score_bin_low": 0.49
         },
         {
          "binwidth": 0.010000000000000009,
          "count_rows": 0,
          "freqdensity": 0,
          "normalised": 0,
          "splink_score_bin_high": 0.51,
          "splink_score_bin_low": 0.5
         },
         {
          "binwidth": 0.010000000000000009,
          "count_rows": 0,
          "freqdensity": 0,
          "normalised": 0,
          "splink_score_bin_high": 0.52,
          "splink_score_bin_low": 0.51
         },
         {
          "binwidth": 0.010000000000000009,
          "count_rows": 1,
          "freqdensity": 99.99999999999991,
          "normalised": 0.0005005005005005002,
          "splink_score_bin_high": 0.53,
          "splink_score_bin_low": 0.52
         },
         {
          "binwidth": 0.010000000000000009,
          "count_rows": 0,
          "freqdensity": 0,
          "normalised": 0,
          "splink_score_bin_high": 0.54,
          "splink_score_bin_low": 0.53
         },
         {
          "binwidth": 0.010000000000000009,
          "count_rows": 0,
          "freqdensity": 0,
          "normalised": 0,
          "splink_score_bin_high": 0.55,
          "splink_score_bin_low": 0.54
         },
         {
          "binwidth": 0.010000000000000009,
          "count_rows": 0,
          "freqdensity": 0,
          "normalised": 0,
          "splink_score_bin_high": 0.56,
          "splink_score_bin_low": 0.55
         },
         {
          "binwidth": 0.009999999999999898,
          "count_rows": 0,
          "freqdensity": 0,
          "normalised": 0,
          "splink_score_bin_high": 0.57,
          "splink_score_bin_low": 0.56
         },
         {
          "binwidth": 0.010000000000000009,
          "count_rows": 2,
          "freqdensity": 199.99999999999983,
          "normalised": 0.0010010010010010003,
          "splink_score_bin_high": 0.58,
          "splink_score_bin_low": 0.57
         },
         {
          "binwidth": 0.010000000000000009,
          "count_rows": 0,
          "freqdensity": 0,
          "normalised": 0,
          "splink_score_bin_high": 0.59,
          "splink_score_bin_low": 0.58
         },
         {
          "binwidth": 0.010000000000000009,
          "count_rows": 2,
          "freqdensity": 199.99999999999983,
          "normalised": 0.0010010010010010003,
          "splink_score_bin_high": 0.6,
          "splink_score_bin_low": 0.59
         },
         {
          "binwidth": 0.010000000000000009,
          "count_rows": 0,
          "freqdensity": 0,
          "normalised": 0,
          "splink_score_bin_high": 0.61,
          "splink_score_bin_low": 0.6
         },
         {
          "binwidth": 0.010000000000000009,
          "count_rows": 0,
          "freqdensity": 0,
          "normalised": 0,
          "splink_score_bin_high": 0.62,
          "splink_score_bin_low": 0.61
         },
         {
          "binwidth": 0.010000000000000009,
          "count_rows": 0,
          "freqdensity": 0,
          "normalised": 0,
          "splink_score_bin_high": 0.63,
          "splink_score_bin_low": 0.62
         },
         {
          "binwidth": 0.010000000000000009,
          "count_rows": 0,
          "freqdensity": 0,
          "normalised": 0,
          "splink_score_bin_high": 0.64,
          "splink_score_bin_low": 0.63
         },
         {
          "binwidth": 0.010000000000000009,
          "count_rows": 0,
          "freqdensity": 0,
          "normalised": 0,
          "splink_score_bin_high": 0.65,
          "splink_score_bin_low": 0.64
         },
         {
          "binwidth": 0.010000000000000009,
          "count_rows": 1,
          "freqdensity": 99.99999999999991,
          "normalised": 0.0005005005005005002,
          "splink_score_bin_high": 0.66,
          "splink_score_bin_low": 0.65
         },
         {
          "binwidth": 0.010000000000000009,
          "count_rows": 7,
          "freqdensity": 699.9999999999994,
          "normalised": 0.0035035035035035013,
          "splink_score_bin_high": 0.67,
          "splink_score_bin_low": 0.66
         },
         {
          "binwidth": 0.010000000000000009,
          "count_rows": 2,
          "freqdensity": 199.99999999999983,
          "normalised": 0.0010010010010010003,
          "splink_score_bin_high": 0.68,
          "splink_score_bin_low": 0.67
         },
         {
          "binwidth": 0.009999999999999898,
          "count_rows": 6,
          "freqdensity": 600.0000000000061,
          "normalised": 0.003003003003003034,
          "splink_score_bin_high": 0.69,
          "splink_score_bin_low": 0.68
         },
         {
          "binwidth": 0.010000000000000009,
          "count_rows": 2,
          "freqdensity": 199.99999999999983,
          "normalised": 0.0010010010010010003,
          "splink_score_bin_high": 0.7,
          "splink_score_bin_low": 0.69
         },
         {
          "binwidth": 0.010000000000000009,
          "count_rows": 0,
          "freqdensity": 0,
          "normalised": 0,
          "splink_score_bin_high": 0.71,
          "splink_score_bin_low": 0.7
         },
         {
          "binwidth": 0.010000000000000009,
          "count_rows": 0,
          "freqdensity": 0,
          "normalised": 0,
          "splink_score_bin_high": 0.72,
          "splink_score_bin_low": 0.71
         },
         {
          "binwidth": 0.010000000000000009,
          "count_rows": 0,
          "freqdensity": 0,
          "normalised": 0,
          "splink_score_bin_high": 0.73,
          "splink_score_bin_low": 0.72
         },
         {
          "binwidth": 0.010000000000000009,
          "count_rows": 6,
          "freqdensity": 599.9999999999994,
          "normalised": 0.003003003003003001,
          "splink_score_bin_high": 0.74,
          "splink_score_bin_low": 0.73
         },
         {
          "binwidth": 0.010000000000000009,
          "count_rows": 1,
          "freqdensity": 99.99999999999991,
          "normalised": 0.0005005005005005002,
          "splink_score_bin_high": 0.75,
          "splink_score_bin_low": 0.74
         },
         {
          "binwidth": 0.010000000000000009,
          "count_rows": 2,
          "freqdensity": 199.99999999999983,
          "normalised": 0.0010010010010010003,
          "splink_score_bin_high": 0.76,
          "splink_score_bin_low": 0.75
         },
         {
          "binwidth": 0.010000000000000009,
          "count_rows": 0,
          "freqdensity": 0,
          "normalised": 0,
          "splink_score_bin_high": 0.77,
          "splink_score_bin_low": 0.76
         },
         {
          "binwidth": 0.010000000000000009,
          "count_rows": 0,
          "freqdensity": 0,
          "normalised": 0,
          "splink_score_bin_high": 0.78,
          "splink_score_bin_low": 0.77
         },
         {
          "binwidth": 0.010000000000000009,
          "count_rows": 1,
          "freqdensity": 99.99999999999991,
          "normalised": 0.0005005005005005002,
          "splink_score_bin_high": 0.79,
          "splink_score_bin_low": 0.78
         },
         {
          "binwidth": 0.010000000000000009,
          "count_rows": 2,
          "freqdensity": 199.99999999999983,
          "normalised": 0.0010010010010010003,
          "splink_score_bin_high": 0.8,
          "splink_score_bin_low": 0.79
         },
         {
          "binwidth": 0.010000000000000009,
          "count_rows": 12,
          "freqdensity": 1199.9999999999989,
          "normalised": 0.006006006006006002,
          "splink_score_bin_high": 0.81,
          "splink_score_bin_low": 0.8
         },
         {
          "binwidth": 0.009999999999999898,
          "count_rows": 1,
          "freqdensity": 100.00000000000102,
          "normalised": 0.0005005005005005057,
          "splink_score_bin_high": 0.82,
          "splink_score_bin_low": 0.81
         },
         {
          "binwidth": 0.010000000000000009,
          "count_rows": 2,
          "freqdensity": 199.99999999999983,
          "normalised": 0.0010010010010010003,
          "splink_score_bin_high": 0.83,
          "splink_score_bin_low": 0.82
         },
         {
          "binwidth": 0.010000000000000009,
          "count_rows": 5,
          "freqdensity": 499.99999999999955,
          "normalised": 0.0025025025025025007,
          "splink_score_bin_high": 0.84,
          "splink_score_bin_low": 0.83
         },
         {
          "binwidth": 0.010000000000000009,
          "count_rows": 5,
          "freqdensity": 499.99999999999955,
          "normalised": 0.0025025025025025007,
          "splink_score_bin_high": 0.85,
          "splink_score_bin_low": 0.84
         },
         {
          "binwidth": 0.010000000000000009,
          "count_rows": 3,
          "freqdensity": 299.9999999999997,
          "normalised": 0.0015015015015015004,
          "splink_score_bin_high": 0.86,
          "splink_score_bin_low": 0.85
         },
         {
          "binwidth": 0.010000000000000009,
          "count_rows": 4,
          "freqdensity": 399.99999999999966,
          "normalised": 0.0020020020020020007,
          "splink_score_bin_high": 0.87,
          "splink_score_bin_low": 0.86
         },
         {
          "binwidth": 0.010000000000000009,
          "count_rows": 2,
          "freqdensity": 199.99999999999983,
          "normalised": 0.0010010010010010003,
          "splink_score_bin_high": 0.88,
          "splink_score_bin_low": 0.87
         },
         {
          "binwidth": 0.010000000000000009,
          "count_rows": 4,
          "freqdensity": 399.99999999999966,
          "normalised": 0.0020020020020020007,
          "splink_score_bin_high": 0.89,
          "splink_score_bin_low": 0.88
         },
         {
          "binwidth": 0.010000000000000009,
          "count_rows": 21,
          "freqdensity": 2099.999999999998,
          "normalised": 0.010510510510510503,
          "splink_score_bin_high": 0.9,
          "splink_score_bin_low": 0.89
         },
         {
          "binwidth": 0.010000000000000009,
          "count_rows": 8,
          "freqdensity": 799.9999999999993,
          "normalised": 0.004004004004004001,
          "splink_score_bin_high": 0.91,
          "splink_score_bin_low": 0.9
         },
         {
          "binwidth": 0.010000000000000009,
          "count_rows": 3,
          "freqdensity": 299.9999999999997,
          "normalised": 0.0015015015015015004,
          "splink_score_bin_high": 0.92,
          "splink_score_bin_low": 0.91
         },
         {
          "binwidth": 0.010000000000000009,
          "count_rows": 9,
          "freqdensity": 899.9999999999992,
          "normalised": 0.004504504504504501,
          "splink_score_bin_high": 0.93,
          "splink_score_bin_low": 0.92
         },
         {
          "binwidth": 0.009999999999999898,
          "count_rows": 1,
          "freqdensity": 100.00000000000102,
          "normalised": 0.0005005005005005057,
          "splink_score_bin_high": 0.94,
          "splink_score_bin_low": 0.93
         },
         {
          "binwidth": 0.010000000000000009,
          "count_rows": 1,
          "freqdensity": 99.99999999999991,
          "normalised": 0.0005005005005005002,
          "splink_score_bin_high": 0.95,
          "splink_score_bin_low": 0.94
         },
         {
          "binwidth": 0.010000000000000009,
          "count_rows": 34,
          "freqdensity": 3399.999999999997,
          "normalised": 0.017017017017017005,
          "splink_score_bin_high": 0.96,
          "splink_score_bin_low": 0.95
         },
         {
          "binwidth": 0.010000000000000009,
          "count_rows": 1,
          "freqdensity": 99.99999999999991,
          "normalised": 0.0005005005005005002,
          "splink_score_bin_high": 0.97,
          "splink_score_bin_low": 0.96
         },
         {
          "binwidth": 0.010000000000000009,
          "count_rows": 35,
          "freqdensity": 3499.999999999997,
          "normalised": 0.017517517517517504,
          "splink_score_bin_high": 0.98,
          "splink_score_bin_low": 0.97
         },
         {
          "binwidth": 0.010000000000000009,
          "count_rows": 37,
          "freqdensity": 3699.999999999997,
          "normalised": 0.018518518518518504,
          "splink_score_bin_high": 0.99,
          "splink_score_bin_low": 0.98
         },
         {
          "binwidth": 0.010000000000000009,
          "count_rows": 399,
          "freqdensity": 39899.99999999996,
          "normalised": 0.19969969969969956,
          "splink_score_bin_high": 1,
          "splink_score_bin_low": 0.99
         }
        ]
       },
       "encoding": {
        "tooltip": [
         {
          "field": "count_rows",
          "title": "count",
          "type": "quantitative"
         }
        ],
        "x": {
         "axis": {
          "title": "splink score"
         },
         "bin": "binned",
         "field": "splink_score_bin_low",
         "type": "quantitative"
        },
        "x2": {
         "field": "splink_score_bin_high"
        },
        "y": {
         "axis": {
          "title": "probability density"
         },
         "field": "normalised",
         "type": "quantitative"
        }
       },
       "height": 200,
       "mark": "bar",
       "selection": {
        "selector076": {
         "bind": "scales",
         "encodings": [
          "y"
         ],
         "type": "interval"
        }
       },
       "title": {
        "subtitle": "Use mousewheeel to zoom",
        "text": "Histogram of splink scores"
       },
       "width": 700
      },
      "text/plain": [
       "<VegaLite 4 object>\n",
       "\n",
       "If you see this message, it means the renderer has not been properly enabled\n",
       "for the frontend that you are using. For more information, see\n",
       "https://altair-viz.github.io/user_guide/troubleshooting.html\n"
      ]
     },
     "execution_count": 64,
     "metadata": {},
     "output_type": "execute_result"
    }
   ],
   "source": [
    "from splink.diagnostics import splink_score_histogram\n",
    "splink_score_histogram(df_e, spark, 100)"
   ]
  },
  {
   "cell_type": "markdown",
   "metadata": {},
   "source": [
    "The `params` property of the `linker` is an object that contains a lot of diagnostic information about how the match probability was computed.  The following cells demonstrate some of its functionality"
   ]
  },
  {
   "cell_type": "code",
   "execution_count": 65,
   "metadata": {},
   "outputs": [
    {
     "data": {
      "application/vnd.vegalite.v4+json": {
       "$schema": "https://vega.github.io/schema/vega-lite/v4.json",
       "config": {
        "header": {
         "title": null
        },
        "title": {
         "anchor": "middle",
         "offset": 10
        },
        "view": {
         "continuousHeight": 300,
         "continuousWidth": 400,
         "height": 300,
         "width": 400
        }
       },
       "data": {
        "name": "data-ab5e3f984c59e9669300ef3bfb48d33b"
       },
       "datasets": {
        "data-ab5e3f984c59e9669300ef3bfb48d33b": [
         {
          "bayes_factor": 0.07584504300492129,
          "column_name": "surname",
          "gamma_column_name": "gamma_surname",
          "gamma_index": 0,
          "level_name": "level_0",
          "level_proportion": 0.6854893944566669,
          "log2_bayes_factor": -3.720801296262341,
          "m_probability": 0.075173020362854,
          "max_gamma_index": 2,
          "num_levels": 3,
          "u_probability": 0.9911395311355591
         },
         {
          "bayes_factor": 72.45380879460426,
          "column_name": "surname",
          "gamma_column_name": "gamma_surname",
          "gamma_index": 1,
          "level_name": "level_1",
          "level_proportion": 0.09864102728574496,
          "log2_bayes_factor": 6.178989627107862,
          "m_probability": 0.2876773476600647,
          "max_gamma_index": 2,
          "num_levels": 3,
          "u_probability": 0.003970493096858263
         },
         {
          "bayes_factor": 130.29709394491627,
          "column_name": "surname",
          "gamma_column_name": "gamma_surname",
          "gamma_index": 2,
          "level_name": "level_2",
          "level_proportion": 0.21586957825758812,
          "log2_bayes_factor": 7.0256610971803015,
          "m_probability": 0.6371496319770813,
          "max_gamma_index": 2,
          "num_levels": 3,
          "u_probability": 0.004889975767582655
         },
         {
          "bayes_factor": 0.5964702310341434,
          "column_name": "dob",
          "gamma_column_name": "gamma_dob",
          "gamma_index": 0,
          "level_name": "level_0",
          "level_proportion": 0.8638331853521096,
          "log2_bayes_factor": -0.7454779579913696,
          "m_probability": 0.5954277515411377,
          "max_gamma_index": 1,
          "num_levels": 2,
          "u_probability": 0.998252252268821
         },
         {
          "bayes_factor": 231.48206187968628,
          "column_name": "dob",
          "gamma_column_name": "gamma_dob",
          "gamma_index": 1,
          "level_name": "level_1",
          "level_proportion": 0.13616681464789043,
          "log2_bayes_factor": 7.854756589567291,
          "m_probability": 0.4045722484588623,
          "max_gamma_index": 1,
          "num_levels": 2,
          "u_probability": 0.001747747731179016
         },
         {
          "bayes_factor": 0.4649658476830778,
          "column_name": "city",
          "gamma_column_name": "gamma_city",
          "gamma_index": 0,
          "level_name": "level_0",
          "level_proportion": 0.7761619828529978,
          "log2_bayes_factor": -1.104803342511287,
          "m_probability": 0.43932411074638367,
          "max_gamma_index": 1,
          "num_levels": 2,
          "u_probability": 0.9448524293462267
         },
         {
          "bayes_factor": 10.166827891138146,
          "column_name": "city",
          "gamma_column_name": "gamma_city",
          "gamma_index": 1,
          "level_name": "level_1",
          "level_proportion": 0.22383800720222385,
          "log2_bayes_factor": 3.345797715127095,
          "m_probability": 0.560675859451294,
          "max_gamma_index": 1,
          "num_levels": 2,
          "u_probability": 0.0551475706537733
         },
         {
          "bayes_factor": 0.41417354394390393,
          "column_name": "email",
          "gamma_column_name": "gamma_email",
          "gamma_index": 0,
          "level_name": "level_0",
          "level_proportion": 0.8027497546101015,
          "log2_bayes_factor": -1.2716926930429155,
          "m_probability": 0.4132649004459381,
          "max_gamma_index": 1,
          "num_levels": 2,
          "u_probability": 0.9978061285872744
         },
         {
          "bayes_factor": 267.44280724613674,
          "column_name": "email",
          "gamma_column_name": "gamma_email",
          "gamma_index": 1,
          "level_name": "level_1",
          "level_proportion": 0.19725025533467683,
          "log2_bayes_factor": 8.063086593347107,
          "m_probability": 0.5867351293563843,
          "max_gamma_index": 1,
          "num_levels": 2,
          "u_probability": 0.002193871412725607
         }
        ]
       },
       "hconcat": [
        {
         "encoding": {
          "color": {
           "value": "red"
          },
          "row": {
           "field": "column_name",
           "header": {
            "labelAlign": "left",
            "labelAnchor": "middle",
            "labelAngle": 0
           },
           "sort": {
            "field": "gamma_index"
           },
           "type": "nominal"
          },
          "tooltip": [
           {
            "field": "column_name",
            "type": "nominal"
           },
           {
            "field": "level_name",
            "type": "ordinal"
           },
           {
            "field": "u_probability",
            "format": ".4f",
            "type": "quantitative"
           },
           {
            "field": "bayes_factor",
            "format": ".4f",
            "type": "quantitative"
           },
           {
            "field": "level_proportion",
            "format": ".2%",
            "title": "Percentage of record comparisons in this level",
            "type": "nominal"
           },
           {
            "field": "log2_bayes_factor",
            "format": ".4f",
            "type": "quantitative"
           }
          ],
          "x": {
           "axis": {
            "title": "proportion"
           },
           "field": "u_probability",
           "type": "quantitative"
          },
          "y": {
           "axis": {
            "title": null
           },
           "field": "level_name",
           "type": "nominal"
          }
         },
         "height": 50,
         "mark": "bar",
         "resolve": {
          "scale": {
           "y": "independent"
          }
         },
         "title": {
          "fontWeight": "normal",
          "text": "Non-matches"
         },
         "transform": [
          {
           "filter": "(datum.bayes_factor != 'unnecessary filter2 due to vega lite issue 4680')"
          }
         ],
         "width": 150
        },
        {
         "encoding": {
          "color": {
           "value": "green"
          },
          "row": {
           "field": "column_name",
           "header": {
            "labels": false
           },
           "sort": {
            "field": "gamma_index"
           },
           "type": "nominal"
          },
          "tooltip": [
           {
            "field": "column_name",
            "type": "nominal"
           },
           {
            "field": "level_name",
            "type": "ordinal"
           },
           {
            "field": "m_probability",
            "format": ".4f",
            "type": "quantitative"
           },
           {
            "field": "bayes_factor",
            "format": ".4f",
            "type": "quantitative"
           },
           {
            "field": "level_proportion",
            "format": ".2%",
            "title": "Percentage of record comparisons in this level",
            "type": "nominal"
           },
           {
            "field": "log2_bayes_factor",
            "format": ".4f",
            "type": "quantitative"
           }
          ],
          "x": {
           "axis": {
            "title": "proportion"
           },
           "field": "m_probability",
           "type": "quantitative"
          },
          "y": {
           "axis": {
            "title": null
           },
           "field": "level_name",
           "type": "nominal"
          }
         },
         "height": 50,
         "mark": "bar",
         "resolve": {
          "scale": {
           "y": "independent"
          }
         },
         "title": {
          "fontWeight": "normal",
          "text": "Matches"
         },
         "transform": [
          {
           "filter": "(datum.bayes_factor != 'unnecessary filter due to vega lite issue 4680')"
          }
         ],
         "width": 150
        }
       ],
       "title": {
        "subtitle": "Estimated proportion of matches λ =  0.334",
        "text": "Probability distributions of non-matches and matches "
       },
       "transform": []
      },
      "text/plain": [
       "<VegaLite 4 object>\n",
       "\n",
       "If you see this message, it means the renderer has not been properly enabled\n",
       "for the frontend that you are using. For more information, see\n",
       "https://altair-viz.github.io/user_guide/troubleshooting.html\n"
      ]
     },
     "execution_count": 65,
     "metadata": {},
     "output_type": "execute_result"
    }
   ],
   "source": [
    "model = linker.model\n",
    "model.probability_distribution_chart()"
   ]
  },
  {
   "cell_type": "markdown",
   "metadata": {},
   "source": [
    "An alternative representation of the parameters displays them in terms of the effect different values in the comparison vectors have on the match probability:"
   ]
  },
  {
   "cell_type": "code",
   "execution_count": 66,
   "metadata": {},
   "outputs": [
    {
     "data": {
      "application/vnd.vegalite.v4+json": {
       "$schema": "https://vega.github.io/schema/vega-lite/v4.json",
       "config": {
        "header": {
         "title": null
        },
        "mark": {
         "tooltip": null
        },
        "title": {
         "anchor": "middle"
        },
        "view": {
         "continuousHeight": 300,
         "continuousWidth": 400,
         "height": 300,
         "width": 400
        }
       },
       "data": {
        "name": "data-ab5e3f984c59e9669300ef3bfb48d33b"
       },
       "datasets": {
        "data-ab5e3f984c59e9669300ef3bfb48d33b": [
         {
          "bayes_factor": 0.07584504300492129,
          "column_name": "surname",
          "gamma_column_name": "gamma_surname",
          "gamma_index": 0,
          "level_name": "level_0",
          "level_proportion": 0.6854893944566669,
          "log2_bayes_factor": -3.720801296262341,
          "m_probability": 0.075173020362854,
          "max_gamma_index": 2,
          "num_levels": 3,
          "u_probability": 0.9911395311355591
         },
         {
          "bayes_factor": 72.45380879460426,
          "column_name": "surname",
          "gamma_column_name": "gamma_surname",
          "gamma_index": 1,
          "level_name": "level_1",
          "level_proportion": 0.09864102728574496,
          "log2_bayes_factor": 6.178989627107862,
          "m_probability": 0.2876773476600647,
          "max_gamma_index": 2,
          "num_levels": 3,
          "u_probability": 0.003970493096858263
         },
         {
          "bayes_factor": 130.29709394491627,
          "column_name": "surname",
          "gamma_column_name": "gamma_surname",
          "gamma_index": 2,
          "level_name": "level_2",
          "level_proportion": 0.21586957825758812,
          "log2_bayes_factor": 7.0256610971803015,
          "m_probability": 0.6371496319770813,
          "max_gamma_index": 2,
          "num_levels": 3,
          "u_probability": 0.004889975767582655
         },
         {
          "bayes_factor": 0.5964702310341434,
          "column_name": "dob",
          "gamma_column_name": "gamma_dob",
          "gamma_index": 0,
          "level_name": "level_0",
          "level_proportion": 0.8638331853521096,
          "log2_bayes_factor": -0.7454779579913696,
          "m_probability": 0.5954277515411377,
          "max_gamma_index": 1,
          "num_levels": 2,
          "u_probability": 0.998252252268821
         },
         {
          "bayes_factor": 231.48206187968628,
          "column_name": "dob",
          "gamma_column_name": "gamma_dob",
          "gamma_index": 1,
          "level_name": "level_1",
          "level_proportion": 0.13616681464789043,
          "log2_bayes_factor": 7.854756589567291,
          "m_probability": 0.4045722484588623,
          "max_gamma_index": 1,
          "num_levels": 2,
          "u_probability": 0.001747747731179016
         },
         {
          "bayes_factor": 0.4649658476830778,
          "column_name": "city",
          "gamma_column_name": "gamma_city",
          "gamma_index": 0,
          "level_name": "level_0",
          "level_proportion": 0.7761619828529978,
          "log2_bayes_factor": -1.104803342511287,
          "m_probability": 0.43932411074638367,
          "max_gamma_index": 1,
          "num_levels": 2,
          "u_probability": 0.9448524293462267
         },
         {
          "bayes_factor": 10.166827891138146,
          "column_name": "city",
          "gamma_column_name": "gamma_city",
          "gamma_index": 1,
          "level_name": "level_1",
          "level_proportion": 0.22383800720222385,
          "log2_bayes_factor": 3.345797715127095,
          "m_probability": 0.560675859451294,
          "max_gamma_index": 1,
          "num_levels": 2,
          "u_probability": 0.0551475706537733
         },
         {
          "bayes_factor": 0.41417354394390393,
          "column_name": "email",
          "gamma_column_name": "gamma_email",
          "gamma_index": 0,
          "level_name": "level_0",
          "level_proportion": 0.8027497546101015,
          "log2_bayes_factor": -1.2716926930429155,
          "m_probability": 0.4132649004459381,
          "max_gamma_index": 1,
          "num_levels": 2,
          "u_probability": 0.9978061285872744
         },
         {
          "bayes_factor": 267.44280724613674,
          "column_name": "email",
          "gamma_column_name": "gamma_email",
          "gamma_index": 1,
          "level_name": "level_1",
          "level_proportion": 0.19725025533467683,
          "log2_bayes_factor": 8.063086593347107,
          "m_probability": 0.5867351293563843,
          "max_gamma_index": 1,
          "num_levels": 2,
          "u_probability": 0.002193871412725607
         }
        ]
       },
       "encoding": {
        "color": {
         "field": "log2_bayes_factor",
         "scale": {
          "domain": [
           -10,
           0,
           10
          ],
          "range": [
           "red",
           "orange",
           "green"
          ]
         },
         "type": "quantitative"
        },
        "row": {
         "field": "column_name",
         "header": {
          "labelAlign": "left",
          "labelAnchor": "middle",
          "labelAngle": 0
         },
         "sort": {
          "field": "gamma_index"
         },
         "type": "nominal"
        },
        "tooltip": [
         {
          "field": "column_name",
          "type": "nominal"
         },
         {
          "field": "level_name",
          "type": "ordinal"
         },
         {
          "field": "m_probability",
          "format": ".4f",
          "type": "quantitative"
         },
         {
          "field": "bayes_factor",
          "format": ".4f",
          "type": "quantitative"
         },
         {
          "field": "level_proportion",
          "format": ".2%",
          "title": "Percentage of record comparisons in this level",
          "type": "nominal"
         },
         {
          "field": "log2_bayes_factor",
          "format": ".4f",
          "title": "log2(Bayes factor, K = m/u)",
          "type": "quantitative"
         }
        ],
        "x": {
         "axis": {
          "title": "log2(Bayes factor, K = m/u)",
          "values": [
           -10,
           -5,
           0,
           5,
           10
          ]
         },
         "field": "log2_bayes_factor",
         "scale": {
          "domain": [
           -10,
           10
          ]
         },
         "type": "quantitative"
        },
        "y": {
         "axis": {
          "title": null
         },
         "field": "level_name",
         "type": "nominal"
        }
       },
       "height": 50,
       "mark": {
        "clip": true,
        "type": "bar"
       },
       "resolve": {
        "scale": {
         "y": "independent"
        }
       },
       "selection": {
        "selector076": {
         "bind": "scales",
         "encodings": [
          "x"
         ],
         "type": "interval"
        }
       },
       "title": {
        "subtitle": "Use mousewheeel to zoom",
        "text": "Influence of comparison vector values on match probability"
       }
      },
      "text/plain": [
       "<VegaLite 4 object>\n",
       "\n",
       "If you see this message, it means the renderer has not been properly enabled\n",
       "for the frontend that you are using. For more information, see\n",
       "https://altair-viz.github.io/user_guide/troubleshooting.html\n"
      ]
     },
     "execution_count": 66,
     "metadata": {},
     "output_type": "execute_result"
    }
   ],
   "source": [
    "model.bayes_factor_chart()"
   ]
  },
  {
   "cell_type": "code",
   "execution_count": 67,
   "metadata": {},
   "outputs": [],
   "source": [
    "# If charts aren't displaying correctly in your notebook, you can write them to a file (by default splink_charts.html)\n",
    "model.all_charts_write_html_file(filename=\"splink_charts.html\", overwrite=True)"
   ]
  },
  {
   "cell_type": "markdown",
   "metadata": {},
   "source": [
    "You can also generate a report which explains how the match probability was computed for an individual comparison row.  \n",
    "\n",
    "Note that you need to convert the row to a dictionary for this to work"
   ]
  },
  {
   "cell_type": "code",
   "execution_count": 68,
   "metadata": {},
   "outputs": [
    {
     "data": {
      "text/html": [
       "<div>\n",
       "<style scoped>\n",
       "    .dataframe tbody tr th:only-of-type {\n",
       "        vertical-align: middle;\n",
       "    }\n",
       "\n",
       "    .dataframe tbody tr th {\n",
       "        vertical-align: top;\n",
       "    }\n",
       "\n",
       "    .dataframe thead th {\n",
       "        text-align: right;\n",
       "    }\n",
       "</style>\n",
       "<table border=\"1\" class=\"dataframe\">\n",
       "  <thead>\n",
       "    <tr style=\"text-align: right;\">\n",
       "      <th></th>\n",
       "      <th>tf_adjusted_match_prob</th>\n",
       "      <th>match_probability</th>\n",
       "      <th>unique_id_l</th>\n",
       "      <th>unique_id_r</th>\n",
       "      <th>surname_l</th>\n",
       "      <th>surname_r</th>\n",
       "      <th>gamma_surname</th>\n",
       "      <th>dob_l</th>\n",
       "      <th>dob_r</th>\n",
       "      <th>gamma_dob</th>\n",
       "      <th>city_l</th>\n",
       "      <th>city_r</th>\n",
       "      <th>gamma_city</th>\n",
       "      <th>email_l</th>\n",
       "      <th>email_r</th>\n",
       "      <th>gamma_email</th>\n",
       "      <th>group_l</th>\n",
       "      <th>group_r</th>\n",
       "    </tr>\n",
       "  </thead>\n",
       "  <tbody>\n",
       "    <tr>\n",
       "      <th>1149</th>\n",
       "      <td>0.010425</td>\n",
       "      <td>0.010425</td>\n",
       "      <td>444</td>\n",
       "      <td>636</td>\n",
       "      <td>Campbell</td>\n",
       "      <td>Adasm</td>\n",
       "      <td>0</td>\n",
       "      <td>1997-05-04</td>\n",
       "      <td>2000-09-03</td>\n",
       "      <td>0</td>\n",
       "      <td>London</td>\n",
       "      <td>Londn</td>\n",
       "      <td>0</td>\n",
       "      <td>None</td>\n",
       "      <td>jacob.a83@clark.com</td>\n",
       "      <td>-1</td>\n",
       "      <td>113</td>\n",
       "      <td>160</td>\n",
       "    </tr>\n",
       "  </tbody>\n",
       "</table>\n",
       "</div>"
      ],
      "text/plain": [
       "      tf_adjusted_match_prob  match_probability unique_id_l unique_id_r  \\\n",
       "1149                0.010425           0.010425         444         636   \n",
       "\n",
       "     surname_l surname_r  gamma_surname       dob_l       dob_r  gamma_dob  \\\n",
       "1149  Campbell     Adasm              0  1997-05-04  2000-09-03          0   \n",
       "\n",
       "      city_l city_r  gamma_city email_l              email_r  gamma_email  \\\n",
       "1149  London  Londn           0    None  jacob.a83@clark.com           -1   \n",
       "\n",
       "     group_l group_r  \n",
       "1149     113     160  "
      ]
     },
     "metadata": {},
     "output_type": "display_data"
    },
    {
     "name": "stdout",
     "output_type": "stream",
     "text": [
      "\n",
      "Initial probability of match (prior) = λ = 0.3337\n",
      "------\n",
      "Comparison of surname.  Values are:                \n",
      "surname_l:                                         Campbell\n",
      "surname_r:                                         Adasm\n",
      "Comparison has:                                    3 levels\n",
      "Level for this comparison:                         gamma_surname = 0\n",
      "m probability = P(level|match):                    0.07517\n",
      "u probability = P(level|non-match):                0.9911\n",
      "Bayes factor = m/u:                                0.07585\n",
      "New probability of match (updated belief):         0.03659\n",
      "\n",
      "------\n",
      "Comparison of dob.  Values are:                    \n",
      "dob_l:                                             1997-05-04\n",
      "dob_r:                                             2000-09-03\n",
      "Comparison has:                                    2 levels\n",
      "Level for this comparison:                         gamma_dob = 0\n",
      "m probability = P(level|match):                    0.5954\n",
      "u probability = P(level|non-match):                0.9983\n",
      "Bayes factor = m/u:                                0.5965\n",
      "New probability of match (updated belief):         0.02215\n",
      "\n",
      "------\n",
      "Comparison of city.  Values are:                   \n",
      "city_l:                                            London\n",
      "city_r:                                            Londn\n",
      "Comparison has:                                    2 levels\n",
      "Level for this comparison:                         gamma_city = 0\n",
      "m probability = P(level|match):                    0.4393\n",
      "u probability = P(level|non-match):                0.9449\n",
      "Bayes factor = m/u:                                0.465\n",
      "New probability of match (updated belief):         0.01042\n",
      "\n",
      "------\n",
      "Comparison of email.  Values are:                  \n",
      "email_l:                                           None\n",
      "email_r:                                           jacob.a83@clark.com\n",
      "Comparison has:                                    2 levels\n",
      "Level for this comparison:                         gamma_email = -1\n",
      "m probability = P(level|match):                    1\n",
      "u probability = P(level|non-match):                1\n",
      "Bayes factor = m/u:                                1\n",
      "New probability of match (updated belief):         0.01042\n",
      "\n",
      "\n",
      "Final probability of match = 0.01042\n",
      "\n",
      "Reminder:\n",
      "\n",
      "The m probability for a given level is the proportion of matches which are in this level.\n",
      "We would generally expect the highest similarity level to have the largest proportion of matches.\n",
      "For example, we would expect first name field to match exactly amongst most matching records, except where nicknames, aliases or typos have occurred.\n",
      "For a comparison column that changes through time, like address, we may expect a lower proportion of comparisons to be in the highest similarity level.\n",
      "\n",
      "The u probability for a given level is the proportion of non-matches which are in this level.\n",
      "We would generally expect the lowest similarity level to have the highest proportion of non-matches, but the magnitude depends on the cardinality of the field.\n",
      "For example, we would expect that in the vast majority of non-matching records, the date of birth field would not match.  However, we would expect it to be common for gender to match amongst non-matches.\n",
      "\n"
     ]
    }
   ],
   "source": [
    "from splink.intuition import intuition_report\n",
    "\n",
    "sample = df_e.toPandas().sample(1)\n",
    "row_dict = sample.to_dict(orient=\"records\")[0]\n",
    "display(sample)\n",
    "print(intuition_report(row_dict, model))"
   ]
  },
  {
   "cell_type": "markdown",
   "metadata": {},
   "source": [
    "You can also create a visual representation of this intuition report as a waterfall chart. \n",
    "\n",
    "This uses the Bayes factor to show the relative influence on the final match probability of the λ parameter, and each comparison column for an individual comparison row.\n",
    "\n",
    "Columns that have no influence on the match score (due to missing data) are not shown."
   ]
  },
  {
   "cell_type": "code",
   "execution_count": 69,
   "metadata": {},
   "outputs": [
    {
     "data": {
      "application/vnd.vegalite.v4+json": {
       "$schema": "https://vega.github.io/schema/vega-lite/v4.8.1.json",
       "config": {
        "view": {
         "continuousHeight": 300,
         "continuousWidth": 400
        }
       },
       "data": {
        "name": "data-cdb202a9c1167c7b711c57ae93658d48"
       },
       "datasets": {
        "data-cdb202a9c1167c7b711c57ae93658d48": [
         {
          "bayes_factor": 0.500806056748381,
          "column_name": "Prior lambda",
          "gamma_column_name": "nan",
          "gamma_index": "nan",
          "index": 0,
          "level_name": "nan",
          "level_proportion": "nan",
          "log2_bayes_factor": -0.9976760845576977,
          "m_probability": "nan",
          "max_gamma_index": "nan",
          "num_levels": "nan",
          "u_probability": "nan",
          "value_l": "nan",
          "value_r": "nan"
         },
         {
          "bayes_factor": 0.07584504300492129,
          "column_name": "surname",
          "gamma_column_name": "gamma_surname",
          "gamma_index": 0,
          "index": 1,
          "level_name": "level_0",
          "level_proportion": 0.6854893944566669,
          "log2_bayes_factor": -3.720801296262341,
          "m_probability": 0.075173020362854,
          "max_gamma_index": 2,
          "num_levels": 3,
          "u_probability": 0.9911395311355591,
          "value_l": "Campbell",
          "value_r": "Adasm"
         },
         {
          "bayes_factor": 0.4649658476830778,
          "column_name": "city",
          "gamma_column_name": "gamma_city",
          "gamma_index": 0,
          "index": 2,
          "level_name": "level_0",
          "level_proportion": 0.7761619828529978,
          "log2_bayes_factor": -1.104803342511287,
          "m_probability": 0.43932411074638367,
          "max_gamma_index": 1,
          "num_levels": 2,
          "u_probability": 0.9448524293462267,
          "value_l": "London",
          "value_r": "Londn"
         },
         {
          "bayes_factor": 0.5964702310341434,
          "column_name": "dob",
          "gamma_column_name": "gamma_dob",
          "gamma_index": 0,
          "index": 3,
          "level_name": "level_0",
          "level_proportion": 0.8638331853521096,
          "log2_bayes_factor": -0.7454779579913696,
          "m_probability": 0.5954277515411377,
          "max_gamma_index": 1,
          "num_levels": 2,
          "u_probability": 0.998252252268821,
          "value_l": "1997-05-04",
          "value_r": "2000-09-03"
         },
         {
          "bayes_factor": 1,
          "column_name": "email",
          "gamma_column_name": "gamma_email",
          "gamma_index": -1,
          "index": 4,
          "level_name": "level_-1",
          "level_proportion": 1,
          "log2_bayes_factor": 0,
          "m_probability": 1,
          "max_gamma_index": 1,
          "num_levels": 2,
          "u_probability": 1,
          "value_l": "None",
          "value_r": "jacob.a83@clark.com"
         },
         {
          "bayes_factor": 0.01053432232619572,
          "column_name": "Final score",
          "gamma_column_name": "nan",
          "gamma_index": "nan",
          "index": 5,
          "level_name": "nan",
          "level_proportion": "nan",
          "log2_bayes_factor": -6.568758681322696,
          "m_probability": "nan",
          "max_gamma_index": "nan",
          "num_levels": "nan",
          "u_probability": "nan",
          "value_l": "nan",
          "value_r": "nan"
         }
        ]
       },
       "height": 450,
       "layer": [
        {
         "layer": [
          {
           "encoding": {
            "color": {
             "value": "black"
            },
            "size": {
             "value": 0.5
            },
            "y": {
             "field": "zero",
             "type": "quantitative"
            }
           },
           "mark": "rule"
          },
          {
           "encoding": {
            "color": {
             "condition": {
              "test": "(datum.log2_bayes_factor < 0)",
              "value": "red"
             },
             "value": "green"
            },
            "opacity": {
             "condition": {
              "test": "datum.column_name == 'Prior lambda' || datum.column_name == 'Final score'",
              "value": 1
             },
             "value": 0.5
            },
            "tooltip": [
             {
              "field": "column_name",
              "title": "Comparison column",
              "type": "nominal"
             },
             {
              "field": "value_l",
              "title": "Value (L)",
              "type": "nominal"
             },
             {
              "field": "value_r",
              "title": "Value (R)",
              "type": "nominal"
             },
             {
              "field": "gamma_index",
              "title": "Gamma level",
              "type": "nominal"
             },
             {
              "field": "max_gamma_index",
              "title": "Max gamma level",
              "type": "nominal"
             },
             {
              "field": "bayes_factor",
              "format": ".3r",
              "title": "Bayes factor",
              "type": "quantitative"
             },
             {
              "field": "log2_bayes_factor",
              "format": ".3r",
              "title": "log2(Bayes factor)",
              "type": "quantitative"
             },
             {
              "field": "prob",
              "format": ".3r",
              "title": "Adjusted match score",
              "type": "quantitative"
             }
            ],
            "x": {
             "axis": {
              "grid": true,
              "labelAlign": "center",
              "labelAngle": -20,
              "labelExpr": "datum.value == 'Prior lambda' || datum.value == 'Final score' ? '' : datum.value",
              "labelPadding": 10,
              "tickBand": "extent",
              "title": "Column"
             },
             "field": "column_name",
             "sort": null,
             "type": "nominal"
            },
            "y": {
             "axis": {
              "grid": false,
              "orient": "left",
              "title": "log2(Bayes factor)"
             },
             "field": "previous_sum",
             "type": "quantitative"
            },
            "y2": {
             "field": "sum"
            }
           },
           "mark": {
            "type": "bar",
            "width": 60
           }
          },
          {
           "encoding": {
            "color": {
             "value": "white"
            },
            "text": {
             "condition": {
              "field": "log2_bayes_factor",
              "format": ".2f",
              "test": "abs(datum.log2_bayes_factor) > 1",
              "type": "nominal"
             },
             "value": ""
            },
            "x": {
             "axis": {
              "labelAngle": 0,
              "title": "Column"
             },
             "field": "column_name",
             "sort": null,
             "type": "nominal"
            },
            "y": {
             "axis": {
              "orient": "left"
             },
             "field": "center",
             "type": "quantitative"
            }
           },
           "mark": {
            "fontWeight": "bold",
            "type": "text"
           }
          },
          {
           "encoding": {
            "color": {
             "value": "black"
            },
            "text": {
             "condition": {
              "field": "top_label",
              "test": "abs(datum.log2_bayes_factor) > 1",
              "type": "nominal"
             },
             "value": ""
            },
            "x": {
             "axis": {
              "labelAngle": 0,
              "title": "Column"
             },
             "field": "column_name",
             "sort": null,
             "type": "nominal"
            },
            "y": {
             "field": "sum_top",
             "type": "quantitative"
            }
           },
           "mark": {
            "baseline": "bottom",
            "dy": -5,
            "fontWeight": "bold",
            "type": "text"
           }
          },
          {
           "encoding": {
            "color": {
             "value": "black"
            },
            "text": {
             "condition": {
              "field": "bottom_label",
              "test": "abs(datum.log2_bayes_factor) > 1",
              "type": "nominal"
             },
             "value": ""
            },
            "x": {
             "axis": {
              "labelAngle": 0,
              "title": "Column"
             },
             "field": "column_name",
             "sort": null,
             "type": "nominal"
            },
            "y": {
             "field": "sum_bottom",
             "type": "quantitative"
            }
           },
           "mark": {
            "baseline": "top",
            "dy": 5,
            "fontWeight": "bold",
            "type": "text"
           }
          }
         ]
        },
        {
         "encoding": {
          "x": {
           "axis": {
            "labelAngle": 0,
            "title": "Column"
           },
           "field": "column_name",
           "sort": null,
           "type": "nominal"
          },
          "x2": {
           "field": "lead"
          },
          "y": {
           "axis": {
            "labelExpr": "format(1 / (1 + pow(2, -1*datum.value)), '.2r')",
            "orient": "right",
            "title": "Probability"
           },
           "field": "sum",
           "scale": {
            "zero": false
           },
           "type": "quantitative"
          }
         },
         "mark": {
          "color": "black",
          "strokeWidth": 2,
          "type": "rule",
          "x2Offset": 30,
          "xOffset": -30
         }
        }
       ],
       "resolve": {
        "axis": {
         "y": "independent"
        }
       },
       "title": {
        "subtitle": "How each comparison column contributes to the final match score",
        "text": "Bayes factor intuition chart"
       },
       "transform": [
        {
         "filter": "(datum.bayes_factor !== 1.0)"
        },
        {
         "frame": [
          null,
          0
         ],
         "window": [
          {
           "as": "sum",
           "field": "log2_bayes_factor",
           "op": "sum"
          },
          {
           "as": "lead",
           "field": "column_name",
           "op": "lead"
          }
         ]
        },
        {
         "as": "sum",
         "calculate": "datum.column_name === \"Final score\" ? datum.sum - datum.log2_bayes_factor : datum.sum"
        },
        {
         "as": "lead",
         "calculate": "datum.lead === null ? datum.column_name : datum.lead"
        },
        {
         "as": "previous_sum",
         "calculate": "datum.column_name === \"Final score\" || datum.column_name === \"Prior lambda\" ? 0 : datum.sum - datum.log2_bayes_factor"
        },
        {
         "as": "top_label",
         "calculate": "datum.sum > datum.previous_sum ? datum.column_name : \"\""
        },
        {
         "as": "bottom_label",
         "calculate": "datum.sum < datum.previous_sum ? datum.column_name : \"\""
        },
        {
         "as": "sum_top",
         "calculate": "datum.sum > datum.previous_sum ? datum.sum : datum.previous_sum"
        },
        {
         "as": "sum_bottom",
         "calculate": "datum.sum < datum.previous_sum ? datum.sum : datum.previous_sum"
        },
        {
         "as": "center",
         "calculate": "(datum.sum + datum.previous_sum) / 2"
        },
        {
         "as": "text_log2_bayes_factor",
         "calculate": "(datum.log2_bayes_factor > 0 ? \"+\" : \"\") + datum.log2_bayes_factor"
        },
        {
         "as": "dy",
         "calculate": "datum.sum < datum.previous_sum ? 4 : -4"
        },
        {
         "as": "baseline",
         "calculate": "datum.sum < datum.previous_sum ? \"top\" : \"bottom\""
        },
        {
         "as": "prob",
         "calculate": "1. / (1 + pow(2, -1.*datum.sum))"
        },
        {
         "as": "zero",
         "calculate": "0*datum.sum"
        }
       ],
       "width": {
        "step": 75
       }
      },
      "text/plain": [
       "<VegaLite 4 object>\n",
       "\n",
       "If you see this message, it means the renderer has not been properly enabled\n",
       "for the frontend that you are using. For more information, see\n",
       "https://altair-viz.github.io/user_guide/troubleshooting.html\n"
      ]
     },
     "execution_count": 69,
     "metadata": {},
     "output_type": "execute_result"
    }
   ],
   "source": [
    "from splink.intuition import bayes_factor_intuition_chart\n",
    "\n",
    "bayes_factor_intuition_chart(row_dict, model)"
   ]
  },
  {
   "cell_type": "markdown",
   "metadata": {},
   "source": [
    "## Step 6: Measure accuracy of results \n",
    "\n",
    "If you have labelled data, Splink contains routines to compute various accuracy statistics.\n",
    "\n",
    "The labelled data should look like this:\n",
    "\n",
    "| unique_id_l | unique_id_r | clerical_match_score |\n",
    "|:------------|:------------|---------------------:|\n",
    "| id1         | id2         |                  0.9 |\n",
    "| id1         | id3         |                  0.1 |\n",
    "\n",
    "Since we have labelled data, in this noteboko I create this table from the 'group' field of the original data\n",
    "\n"
   ]
  },
  {
   "cell_type": "markdown",
   "metadata": {},
   "source": [
    "**Note: We will fine that the overall accuracy of these results is low because our blocking rule eliminates a large percentage of true matches**"
   ]
  },
  {
   "cell_type": "code",
   "execution_count": 70,
   "metadata": {},
   "outputs": [
    {
     "data": {
      "text/html": [
       "<div>\n",
       "<style scoped>\n",
       "    .dataframe tbody tr th:only-of-type {\n",
       "        vertical-align: middle;\n",
       "    }\n",
       "\n",
       "    .dataframe tbody tr th {\n",
       "        vertical-align: top;\n",
       "    }\n",
       "\n",
       "    .dataframe thead th {\n",
       "        text-align: right;\n",
       "    }\n",
       "</style>\n",
       "<table border=\"1\" class=\"dataframe\">\n",
       "  <thead>\n",
       "    <tr style=\"text-align: right;\">\n",
       "      <th></th>\n",
       "      <th>unique_id_l</th>\n",
       "      <th>unique_id_r</th>\n",
       "      <th>clerical_match_score</th>\n",
       "    </tr>\n",
       "  </thead>\n",
       "  <tbody>\n",
       "    <tr>\n",
       "      <th>7</th>\n",
       "      <td>420</td>\n",
       "      <td>261</td>\n",
       "      <td>0.0</td>\n",
       "    </tr>\n",
       "    <tr>\n",
       "      <th>13</th>\n",
       "      <td>420</td>\n",
       "      <td>170</td>\n",
       "      <td>0.0</td>\n",
       "    </tr>\n",
       "    <tr>\n",
       "      <th>16</th>\n",
       "      <td>420</td>\n",
       "      <td>137</td>\n",
       "      <td>0.0</td>\n",
       "    </tr>\n",
       "    <tr>\n",
       "      <th>17</th>\n",
       "      <td>420</td>\n",
       "      <td>304</td>\n",
       "      <td>0.0</td>\n",
       "    </tr>\n",
       "    <tr>\n",
       "      <th>20</th>\n",
       "      <td>420</td>\n",
       "      <td>14</td>\n",
       "      <td>0.0</td>\n",
       "    </tr>\n",
       "  </tbody>\n",
       "</table>\n",
       "</div>"
      ],
      "text/plain": [
       "   unique_id_l unique_id_r  clerical_match_score\n",
       "7          420         261                   0.0\n",
       "13         420         170                   0.0\n",
       "16         420         137                   0.0\n",
       "17         420         304                   0.0\n",
       "20         420          14                   0.0"
      ]
     },
     "execution_count": 70,
     "metadata": {},
     "output_type": "execute_result"
    }
   ],
   "source": [
    "cols = ['unique_id', 'group']\n",
    "dfpd_l = df.toPandas().sample(300)[cols]\n",
    "dfpd_l[\"join_col\"] = 1\n",
    "dfpd_r = dfpd_l.copy()\n",
    "labels = dfpd_l.merge(dfpd_r, on = \"join_col\", suffixes=('_l', '_r'))\n",
    "labels = labels[labels[\"unique_id_r\"]< labels[\"unique_id_l\"]]\n",
    "labels[\"clerical_match_score\"] = (labels[\"group_l\"] == labels[\"group_r\"]).astype(float)\n",
    "labels = labels.drop([\"group_l\", \"group_r\", \"join_col\"], axis=1)\n",
    "labels.head()"
   ]
  },
  {
   "cell_type": "code",
   "execution_count": 71,
   "metadata": {},
   "outputs": [
    {
     "name": "stdout",
     "output_type": "stream",
     "text": [
      "+-----------+-----------+--------------------+----------------------+-----------------+\n",
      "|unique_id_l|unique_id_r|clerical_match_score|tf_adjusted_match_prob|found_by_blocking|\n",
      "+-----------+-----------+--------------------+----------------------+-----------------+\n",
      "|        179|          0|                 0.0|                   0.0|            false|\n",
      "|        209|          0|                 0.0|                   0.0|            false|\n",
      "|        269|          0|                 0.0|                   0.0|            false|\n",
      "|        273|          0|                 0.0|                   0.0|            false|\n",
      "|        275|          0|                 0.0|                   0.0|            false|\n",
      "|        289|          0|                 0.0|                   0.0|            false|\n",
      "|        312|          0|                 0.0|                   0.0|            false|\n",
      "|         34|          0|                 0.0|                   0.0|            false|\n",
      "|        381|          0|                 0.0|                   0.0|            false|\n",
      "|        386|          0|                 0.0|                   0.0|            false|\n",
      "|        409|          0|                 0.0|                   0.0|            false|\n",
      "|        420|          0|                 0.0|                   0.0|            false|\n",
      "|        425|          0|                 0.0|                   0.0|            false|\n",
      "|        434|          0|                 0.0|                   0.0|            false|\n",
      "|        467|          0|                 0.0|                   0.0|            false|\n",
      "|        491|          0|                 0.0|                   0.0|            false|\n",
      "|        501|          0|                 0.0|                   0.0|            false|\n",
      "|        514|          0|                 0.0|                   0.0|            false|\n",
      "|        528|          0|                 0.0|                   0.0|            false|\n",
      "|        579|          0|                 0.0|                   0.0|            false|\n",
      "+-----------+-----------+--------------------+----------------------+-----------------+\n",
      "only showing top 20 rows\n",
      "\n"
     ]
    }
   ],
   "source": [
    "from splink.truth import labels_with_splink_scores, roc_chart, precision_recall_chart\n",
    "labels_sp = spark.createDataFrame(labels)\n",
    "labels_and_scores = labels_with_splink_scores(labels_sp, df_e, \"unique_id\", spark)\n",
    "labels_and_scores.show()"
   ]
  },
  {
   "cell_type": "code",
   "execution_count": 72,
   "metadata": {},
   "outputs": [
    {
     "data": {
      "text/html": [
       "<div>\n",
       "<style scoped>\n",
       "    .dataframe tbody tr th:only-of-type {\n",
       "        vertical-align: middle;\n",
       "    }\n",
       "\n",
       "    .dataframe tbody tr th {\n",
       "        vertical-align: top;\n",
       "    }\n",
       "\n",
       "    .dataframe thead th {\n",
       "        text-align: right;\n",
       "    }\n",
       "</style>\n",
       "<table border=\"1\" class=\"dataframe\">\n",
       "  <thead>\n",
       "    <tr style=\"text-align: right;\">\n",
       "      <th></th>\n",
       "      <th>unique_id_l</th>\n",
       "      <th>unique_id_r</th>\n",
       "      <th>clerical_match_score</th>\n",
       "      <th>tf_adjusted_match_prob</th>\n",
       "      <th>found_by_blocking</th>\n",
       "    </tr>\n",
       "  </thead>\n",
       "  <tbody>\n",
       "    <tr>\n",
       "      <th>16650</th>\n",
       "      <td>804</td>\n",
       "      <td>801</td>\n",
       "      <td>1.0</td>\n",
       "      <td>0.000000</td>\n",
       "      <td>False</td>\n",
       "    </tr>\n",
       "    <tr>\n",
       "      <th>11198</th>\n",
       "      <td>920</td>\n",
       "      <td>919</td>\n",
       "      <td>1.0</td>\n",
       "      <td>0.000000</td>\n",
       "      <td>False</td>\n",
       "    </tr>\n",
       "    <tr>\n",
       "      <th>42908</th>\n",
       "      <td>484</td>\n",
       "      <td>481</td>\n",
       "      <td>1.0</td>\n",
       "      <td>0.000000</td>\n",
       "      <td>False</td>\n",
       "    </tr>\n",
       "    <tr>\n",
       "      <th>3959</th>\n",
       "      <td>519</td>\n",
       "      <td>518</td>\n",
       "      <td>1.0</td>\n",
       "      <td>0.000000</td>\n",
       "      <td>False</td>\n",
       "    </tr>\n",
       "    <tr>\n",
       "      <th>16026</th>\n",
       "      <td>653</td>\n",
       "      <td>655</td>\n",
       "      <td>1.0</td>\n",
       "      <td>0.571804</td>\n",
       "      <td>True</td>\n",
       "    </tr>\n",
       "    <tr>\n",
       "      <th>33257</th>\n",
       "      <td>699</td>\n",
       "      <td>697</td>\n",
       "      <td>1.0</td>\n",
       "      <td>0.000000</td>\n",
       "      <td>False</td>\n",
       "    </tr>\n",
       "    <tr>\n",
       "      <th>12900</th>\n",
       "      <td>261</td>\n",
       "      <td>262</td>\n",
       "      <td>1.0</td>\n",
       "      <td>0.987637</td>\n",
       "      <td>True</td>\n",
       "    </tr>\n",
       "    <tr>\n",
       "      <th>33842</th>\n",
       "      <td>938</td>\n",
       "      <td>939</td>\n",
       "      <td>1.0</td>\n",
       "      <td>1.000000</td>\n",
       "      <td>True</td>\n",
       "    </tr>\n",
       "    <tr>\n",
       "      <th>3411</th>\n",
       "      <td>449</td>\n",
       "      <td>446</td>\n",
       "      <td>1.0</td>\n",
       "      <td>0.000000</td>\n",
       "      <td>False</td>\n",
       "    </tr>\n",
       "    <tr>\n",
       "      <th>39049</th>\n",
       "      <td>84</td>\n",
       "      <td>80</td>\n",
       "      <td>1.0</td>\n",
       "      <td>0.000000</td>\n",
       "      <td>False</td>\n",
       "    </tr>\n",
       "  </tbody>\n",
       "</table>\n",
       "</div>"
      ],
      "text/plain": [
       "      unique_id_l unique_id_r  clerical_match_score  tf_adjusted_match_prob  \\\n",
       "16650         804         801                   1.0                0.000000   \n",
       "11198         920         919                   1.0                0.000000   \n",
       "42908         484         481                   1.0                0.000000   \n",
       "3959          519         518                   1.0                0.000000   \n",
       "16026         653         655                   1.0                0.571804   \n",
       "33257         699         697                   1.0                0.000000   \n",
       "12900         261         262                   1.0                0.987637   \n",
       "33842         938         939                   1.0                1.000000   \n",
       "3411          449         446                   1.0                0.000000   \n",
       "39049          84          80                   1.0                0.000000   \n",
       "\n",
       "       found_by_blocking  \n",
       "16650              False  \n",
       "11198              False  \n",
       "42908              False  \n",
       "3959               False  \n",
       "16026               True  \n",
       "33257              False  \n",
       "12900               True  \n",
       "33842               True  \n",
       "3411               False  \n",
       "39049              False  "
      ]
     },
     "execution_count": 72,
     "metadata": {},
     "output_type": "execute_result"
    }
   ],
   "source": [
    "labels_and_scores_pd = labels_and_scores.toPandas()\n",
    "f1 = labels_and_scores_pd[\"clerical_match_score\"] == 1.0\n",
    "labels_and_scores_pd[f1].sample(10)"
   ]
  },
  {
   "cell_type": "code",
   "execution_count": 73,
   "metadata": {},
   "outputs": [
    {
     "data": {
      "application/vnd.vegalite.v4+json": {
       "$schema": "https://vega.github.io/schema/vega-lite/v4.8.1.json",
       "config": {
        "view": {
         "continuousHeight": 300,
         "continuousWidth": 400
        }
       },
       "data": {
        "name": "data-fadd0e93e9546856cbc745a99e65285d",
        "values": [
         {
          "FN": 0,
          "FN_rate": 0,
          "FP": 44675,
          "FP_rate": 1,
          "N": 44675,
          "N_rate": 0.9960981047937569,
          "P": 175,
          "P_rate": 0.0039018952062430325,
          "TN": 0,
          "TN_rate": 0,
          "TP": 175,
          "TP_rate": 1,
          "precision": 0.0039018952062430325,
          "recall": 1,
          "row_count": 44850,
          "truth_threshold": 0
         },
         {
          "FN": 98,
          "FN_rate": 0.56,
          "FP": 94,
          "FP_rate": 0.0021040850587576944,
          "N": 44675,
          "N_rate": 0.9960981047937569,
          "P": 175,
          "P_rate": 0.0039018952062430325,
          "TN": 44581,
          "TN_rate": 0.9978959149412423,
          "TP": 77,
          "TP_rate": 0.44,
          "precision": 0.4502923976608187,
          "recall": 0.44,
          "row_count": 44850,
          "truth_threshold": 0.0043440842081030545
         },
         {
          "FN": 98,
          "FN_rate": 0.56,
          "FP": 73,
          "FP_rate": 0.001634023503077784,
          "N": 44675,
          "N_rate": 0.9960981047937569,
          "P": 175,
          "P_rate": 0.0039018952062430325,
          "TN": 44602,
          "TN_rate": 0.9983659764969223,
          "TP": 77,
          "TP_rate": 0.44,
          "precision": 0.5133333333333333,
          "recall": 0.44,
          "row_count": 44850,
          "truth_threshold": 0.009296333014225345
         },
         {
          "FN": 99,
          "FN_rate": 0.5657142857142857,
          "FP": 59,
          "FP_rate": 0.0013206491326245105,
          "N": 44675,
          "N_rate": 0.9960981047937569,
          "P": 175,
          "P_rate": 0.0039018952062430325,
          "TN": 44616,
          "TN_rate": 0.9986793508673755,
          "TP": 76,
          "TP_rate": 0.4342857142857143,
          "precision": 0.562962962962963,
          "recall": 0.4342857142857143,
          "row_count": 44850,
          "truth_threshold": 0.010424507207183503
         },
         {
          "FN": 99,
          "FN_rate": 0.5657142857142857,
          "FP": 41,
          "FP_rate": 0.0009177392277560156,
          "N": 44675,
          "N_rate": 0.9960981047937569,
          "P": 175,
          "P_rate": 0.0039018952062430325,
          "TN": 44634,
          "TN_rate": 0.9990822607722439,
          "TP": 76,
          "TP_rate": 0.4342857142857143,
          "precision": 0.6495726495726496,
          "recall": 0.4342857142857143,
          "row_count": 44850,
          "truth_threshold": 0.022154192554737207
         },
         {
          "FN": 100,
          "FN_rate": 0.5714285714285714,
          "FP": 38,
          "FP_rate": 0.0008505875769445999,
          "N": 44675,
          "N_rate": 0.9960981047937569,
          "P": 175,
          "P_rate": 0.0039018952062430325,
          "TN": 44637,
          "TN_rate": 0.9991494124230554,
          "TP": 75,
          "TP_rate": 0.42857142857142855,
          "precision": 0.6637168141592921,
          "recall": 0.42857142857142855,
          "row_count": 44850,
          "truth_threshold": 0.05439648446129141
         },
         {
          "FN": 100,
          "FN_rate": 0.5714285714285714,
          "FP": 23,
          "FP_rate": 0.0005148293228875209,
          "N": 44675,
          "N_rate": 0.9960981047937569,
          "P": 175,
          "P_rate": 0.0039018952062430325,
          "TN": 44652,
          "TN_rate": 0.9994851706771125,
          "TP": 75,
          "TP_rate": 0.42857142857142855,
          "precision": 0.7653061224489796,
          "recall": 0.42857142857142855,
          "row_count": 44850,
          "truth_threshold": 0.05757006734737914
         },
         {
          "FN": 100,
          "FN_rate": 0.5714285714285714,
          "FP": 21,
          "FP_rate": 0.0004700615556799105,
          "N": 44675,
          "N_rate": 0.9960981047937569,
          "P": 175,
          "P_rate": 0.0039018952062430325,
          "TN": 44654,
          "TN_rate": 0.9995299384443201,
          "TP": 75,
          "TP_rate": 0.42857142857142855,
          "precision": 0.78125,
          "recall": 0.42857142857142855,
          "row_count": 44850,
          "truth_threshold": 0.09196727993218454
         },
         {
          "FN": 100,
          "FN_rate": 0.5714285714285714,
          "FP": 19,
          "FP_rate": 0.00042529378847229997,
          "N": 44675,
          "N_rate": 0.9960981047937569,
          "P": 175,
          "P_rate": 0.0039018952062430325,
          "TN": 44656,
          "TN_rate": 0.9995747062115277,
          "TP": 75,
          "TP_rate": 0.42857142857142855,
          "precision": 0.7978723404255319,
          "recall": 0.42857142857142855,
          "row_count": 44850,
          "truth_threshold": 0.11009877905695696
         },
         {
          "FN": 102,
          "FN_rate": 0.5828571428571429,
          "FP": 8,
          "FP_rate": 0.00017907106883044207,
          "N": 44675,
          "N_rate": 0.9960981047937569,
          "P": 175,
          "P_rate": 0.0039018952062430325,
          "TN": 44667,
          "TN_rate": 0.9998209289311696,
          "TP": 73,
          "TP_rate": 0.41714285714285715,
          "precision": 0.9012345679012346,
          "recall": 0.41714285714285715,
          "row_count": 44850,
          "truth_threshold": 0.1219541528907353
         },
         {
          "FN": 102,
          "FN_rate": 0.5828571428571429,
          "FP": 2,
          "FP_rate": 4.476776720761052e-05,
          "N": 44675,
          "N_rate": 0.9960981047937569,
          "P": 175,
          "P_rate": 0.0039018952062430325,
          "TN": 44673,
          "TN_rate": 0.9999552322327924,
          "TP": 73,
          "TP_rate": 0.41714285714285715,
          "precision": 0.9733333333333334,
          "recall": 0.41714285714285715,
          "row_count": 44850,
          "truth_threshold": 0.23000865960477276
         },
         {
          "FN": 105,
          "FN_rate": 0.6,
          "FP": 0,
          "FP_rate": 0,
          "N": 44675,
          "N_rate": 0.9960981047937569,
          "P": 175,
          "P_rate": 0.0039018952062430325,
          "TN": 44675,
          "TN_rate": 1,
          "TP": 70,
          "TP_rate": 0.4,
          "precision": 1,
          "recall": 0.4,
          "row_count": 44850,
          "truth_threshold": 0.2864410899728678
         },
         {
          "FN": 106,
          "FN_rate": 0.6057142857142858,
          "FP": 0,
          "FP_rate": 0,
          "N": 44675,
          "N_rate": 0.9960981047937569,
          "P": 175,
          "P_rate": 0.0039018952062430325,
          "TN": 44675,
          "TN_rate": 1,
          "TP": 69,
          "TP_rate": 0.3942857142857143,
          "precision": 1,
          "recall": 0.3942857142857143,
          "row_count": 44850,
          "truth_threshold": 0.4461111550742408
         },
         {
          "FN": 107,
          "FN_rate": 0.6114285714285714,
          "FP": 0,
          "FP_rate": 0,
          "N": 44675,
          "N_rate": 0.9960981047937569,
          "P": 175,
          "P_rate": 0.0039018952062430325,
          "TN": 44675,
          "TN_rate": 1,
          "TP": 68,
          "TP_rate": 0.38857142857142857,
          "precision": 1,
          "recall": 0.38857142857142857,
          "row_count": 44850,
          "truth_threshold": 0.4763435359039293
         },
         {
          "FN": 108,
          "FN_rate": 0.6171428571428571,
          "FP": 0,
          "FP_rate": 0,
          "N": 44675,
          "N_rate": 0.9960981047937569,
          "P": 175,
          "P_rate": 0.0039018952062430325,
          "TN": 44675,
          "TN_rate": 1,
          "TP": 67,
          "TP_rate": 0.38285714285714284,
          "precision": 1,
          "recall": 0.38285714285714284,
          "row_count": 44850,
          "truth_threshold": 0.5718040330303462
         },
         {
          "FN": 109,
          "FN_rate": 0.6228571428571429,
          "FP": 0,
          "FP_rate": 0,
          "N": 44675,
          "N_rate": 0.9960981047937569,
          "P": 175,
          "P_rate": 0.0039018952062430325,
          "TN": 44675,
          "TN_rate": 1,
          "TP": 66,
          "TP_rate": 0.37714285714285717,
          "precision": 1,
          "recall": 0.37714285714285717,
          "row_count": 44850,
          "truth_threshold": 0.6603993426626866
         },
         {
          "FN": 110,
          "FN_rate": 0.6285714285714286,
          "FP": 0,
          "FP_rate": 0,
          "N": 44675,
          "N_rate": 0.9960981047937569,
          "P": 175,
          "P_rate": 0.0039018952062430325,
          "TN": 44675,
          "TN_rate": 1,
          "TP": 65,
          "TP_rate": 0.37142857142857144,
          "precision": 1,
          "recall": 0.37142857142857144,
          "row_count": 44850,
          "truth_threshold": 0.7509522667652223
         },
         {
          "FN": 111,
          "FN_rate": 0.6342857142857142,
          "FP": 0,
          "FP_rate": 0,
          "N": 44675,
          "N_rate": 0.9960981047937569,
          "P": 175,
          "P_rate": 0.0039018952062430325,
          "TN": 44675,
          "TN_rate": 1,
          "TP": 64,
          "TP_rate": 0.3657142857142857,
          "precision": 1,
          "recall": 0.3657142857142857,
          "row_count": 44850,
          "truth_threshold": 0.7845586957431309
         },
         {
          "FN": 112,
          "FN_rate": 0.64,
          "FP": 0,
          "FP_rate": 0,
          "N": 44675,
          "N_rate": 0.9960981047937569,
          "P": 175,
          "P_rate": 0.0039018952062430325,
          "TN": 44675,
          "TN_rate": 1,
          "TP": 63,
          "TP_rate": 0.36,
          "precision": 1,
          "recall": 0.36,
          "row_count": 44850,
          "truth_threshold": 0.8650643520844031
         },
         {
          "FN": 113,
          "FN_rate": 0.6457142857142857,
          "FP": 0,
          "FP_rate": 0,
          "N": 44675,
          "N_rate": 0.9960981047937569,
          "P": 175,
          "P_rate": 0.0039018952062430325,
          "TN": 44675,
          "TN_rate": 1,
          "TP": 62,
          "TP_rate": 0.35428571428571426,
          "precision": 1,
          "recall": 0.35428571428571426,
          "row_count": 44850,
          "truth_threshold": 0.8792309665865232
         },
         {
          "FN": 115,
          "FN_rate": 0.6571428571428571,
          "FP": 0,
          "FP_rate": 0,
          "N": 44675,
          "N_rate": 0.9960981047937569,
          "P": 175,
          "P_rate": 0.0039018952062430325,
          "TN": 44675,
          "TN_rate": 1,
          "TP": 60,
          "TP_rate": 0.34285714285714286,
          "precision": 1,
          "recall": 0.34285714285714286,
          "row_count": 44850,
          "truth_threshold": 0.8978813986795826
         },
         {
          "FN": 116,
          "FN_rate": 0.6628571428571428,
          "FP": 0,
          "FP_rate": 0,
          "N": 44675,
          "N_rate": 0.9960981047937569,
          "P": 175,
          "P_rate": 0.0039018952062430325,
          "TN": 44675,
          "TN_rate": 1,
          "TP": 59,
          "TP_rate": 0.33714285714285713,
          "precision": 1,
          "recall": 0.33714285714285713,
          "row_count": 44850,
          "truth_threshold": 0.9096110945447781
         },
         {
          "FN": 117,
          "FN_rate": 0.6685714285714286,
          "FP": 0,
          "FP_rate": 0,
          "N": 44675,
          "N_rate": 0.9960981047937569,
          "P": 175,
          "P_rate": 0.0039018952062430325,
          "TN": 44675,
          "TN_rate": 1,
          "TP": 58,
          "TP_rate": 0.3314285714285714,
          "precision": 1,
          "recall": 0.3314285714285714,
          "row_count": 44850,
          "truth_threshold": 0.9551109680514139
         },
         {
          "FN": 118,
          "FN_rate": 0.6742857142857143,
          "FP": 0,
          "FP_rate": 0,
          "N": 44675,
          "N_rate": 0.9960981047937569,
          "P": 175,
          "P_rate": 0.0039018952062430325,
          "TN": 44675,
          "TN_rate": 1,
          "TP": 57,
          "TP_rate": 0.32571428571428573,
          "precision": 1,
          "recall": 0.32571428571428573,
          "row_count": 44850,
          "truth_threshold": 0.955836445613414
         },
         {
          "FN": 121,
          "FN_rate": 0.6914285714285714,
          "FP": 0,
          "FP_rate": 0,
          "N": 44675,
          "N_rate": 0.9960981047937569,
          "P": 175,
          "P_rate": 0.0039018952062430325,
          "TN": 44675,
          "TN_rate": 1,
          "TP": 54,
          "TP_rate": 0.30857142857142855,
          "precision": 1,
          "recall": 0.30857142857142855,
          "row_count": 44850,
          "truth_threshold": 0.9571274374467531
         },
         {
          "FN": 122,
          "FN_rate": 0.6971428571428572,
          "FP": 0,
          "FP_rate": 0,
          "N": 44675,
          "N_rate": 0.9960981047937569,
          "P": 175,
          "P_rate": 0.0039018952062430325,
          "TN": 44675,
          "TN_rate": 1,
          "TP": 53,
          "TP_rate": 0.3028571428571429,
          "precision": 1,
          "recall": 0.3028571428571429,
          "row_count": 44850,
          "truth_threshold": 0.9702190443482207
         },
         {
          "FN": 125,
          "FN_rate": 0.7142857142857143,
          "FP": 0,
          "FP_rate": 0,
          "N": 44675,
          "N_rate": 0.9960981047937569,
          "P": 175,
          "P_rate": 0.0039018952062430325,
          "TN": 44675,
          "TN_rate": 1,
          "TP": 50,
          "TP_rate": 0.2857142857142857,
          "precision": 1,
          "recall": 0.2857142857142857,
          "row_count": 44850,
          "truth_threshold": 0.9737848298044658
         },
         {
          "FN": 126,
          "FN_rate": 0.72,
          "FP": 0,
          "FP_rate": 0,
          "N": 44675,
          "N_rate": 0.9960981047937569,
          "P": 175,
          "P_rate": 0.0039018952062430325,
          "TN": 44675,
          "TN_rate": 1,
          "TP": 49,
          "TP_rate": 0.28,
          "precision": 1,
          "recall": 0.28,
          "row_count": 44850,
          "truth_threshold": 0.9795977295116425
         },
         {
          "FN": 128,
          "FN_rate": 0.7314285714285714,
          "FP": 0,
          "FP_rate": 0,
          "N": 44675,
          "N_rate": 0.9960981047937569,
          "P": 175,
          "P_rate": 0.0039018952062430325,
          "TN": 44675,
          "TN_rate": 1,
          "TP": 47,
          "TP_rate": 0.26857142857142857,
          "precision": 1,
          "recall": 0.26857142857142857,
          "row_count": 44850,
          "truth_threshold": 0.9817858545117978
         },
         {
          "FN": 130,
          "FN_rate": 0.7428571428571429,
          "FP": 0,
          "FP_rate": 0,
          "N": 44675,
          "N_rate": 0.9960981047937569,
          "P": 175,
          "P_rate": 0.0039018952062430325,
          "TN": 44675,
          "TN_rate": 1,
          "TP": 45,
          "TP_rate": 0.2571428571428571,
          "precision": 1,
          "recall": 0.2571428571428571,
          "row_count": 44850,
          "truth_threshold": 0.9876374438143364
         },
         {
          "FN": 131,
          "FN_rate": 0.7485714285714286,
          "FP": 0,
          "FP_rate": 0,
          "N": 44675,
          "N_rate": 0.9960981047937569,
          "P": 175,
          "P_rate": 0.0039018952062430325,
          "TN": 44675,
          "TN_rate": 1,
          "TP": 44,
          "TP_rate": 0.25142857142857145,
          "precision": 1,
          "recall": 0.25142857142857145,
          "row_count": 44850,
          "truth_threshold": 0.9914477006218059
         },
         {
          "FN": 134,
          "FN_rate": 0.7657142857142857,
          "FP": 0,
          "FP_rate": 0,
          "N": 44675,
          "N_rate": 0.9960981047937569,
          "P": 175,
          "P_rate": 0.0039018952062430325,
          "TN": 44675,
          "TN_rate": 1,
          "TP": 41,
          "TP_rate": 0.2342857142857143,
          "precision": 1,
          "recall": 0.2342857142857143,
          "row_count": 44850,
          "truth_threshold": 0.9948646129553002
         },
         {
          "FN": 135,
          "FN_rate": 0.7714285714285715,
          "FP": 0,
          "FP_rate": 0,
          "N": 44675,
          "N_rate": 0.9960981047937569,
          "P": 175,
          "P_rate": 0.0039018952062430325,
          "TN": 44675,
          "TN_rate": 1,
          "TP": 40,
          "TP_rate": 0.22857142857142856,
          "precision": 1,
          "recall": 0.22857142857142856,
          "row_count": 44850,
          "truth_threshold": 0.9978124446949083
         },
         {
          "FN": 137,
          "FN_rate": 0.7828571428571428,
          "FP": 0,
          "FP_rate": 0,
          "N": 44675,
          "N_rate": 0.9960981047937569,
          "P": 175,
          "P_rate": 0.0039018952062430325,
          "TN": 44675,
          "TN_rate": 1,
          "TP": 38,
          "TP_rate": 0.21714285714285714,
          "precision": 1,
          "recall": 0.21714285714285714,
          "row_count": 44850,
          "truth_threshold": 0.9980809039388719
         },
         {
          "FN": 138,
          "FN_rate": 0.7885714285714286,
          "FP": 0,
          "FP_rate": 0,
          "N": 44675,
          "N_rate": 0.9960981047937569,
          "P": 175,
          "P_rate": 0.0039018952062430325,
          "TN": 44675,
          "TN_rate": 1,
          "TP": 37,
          "TP_rate": 0.21142857142857144,
          "precision": 1,
          "recall": 0.21142857142857144,
          "row_count": 44850,
          "truth_threshold": 0.9994020758752877
         },
         {
          "FN": 139,
          "FN_rate": 0.7942857142857143,
          "FP": 0,
          "FP_rate": 0,
          "N": 44675,
          "N_rate": 0.9960981047937569,
          "P": 175,
          "P_rate": 0.0039018952062430325,
          "TN": 44675,
          "TN_rate": 1,
          "TP": 36,
          "TP_rate": 0.2057142857142857,
          "precision": 1,
          "recall": 0.2057142857142857,
          "row_count": 44850,
          "truth_threshold": 0.9996285784311492
         },
         {
          "FN": 140,
          "FN_rate": 0.8,
          "FP": 0,
          "FP_rate": 0,
          "N": 44675,
          "N_rate": 0.9960981047937569,
          "P": 175,
          "P_rate": 0.0039018952062430325,
          "TN": 44675,
          "TN_rate": 1,
          "TP": 35,
          "TP_rate": 0.2,
          "precision": 1,
          "recall": 0.2,
          "row_count": 44850,
          "truth_threshold": 0.9996461897900478
         },
         {
          "FN": 141,
          "FN_rate": 0.8057142857142857,
          "FP": 0,
          "FP_rate": 0,
          "N": 44675,
          "N_rate": 0.9960981047937569,
          "P": 175,
          "P_rate": 0.0039018952062430325,
          "TN": 44675,
          "TN_rate": 1,
          "TP": 34,
          "TP_rate": 0.19428571428571428,
          "precision": 1,
          "recall": 0.19428571428571428,
          "row_count": 44850,
          "truth_threshold": 0.9996642209375052
         },
         {
          "FN": 143,
          "FN_rate": 0.8171428571428572,
          "FP": 0,
          "FP_rate": 0,
          "N": 44675,
          "N_rate": 0.9960981047937569,
          "P": 175,
          "P_rate": 0.0039018952062430325,
          "TN": 44675,
          "TN_rate": 1,
          "TP": 32,
          "TP_rate": 0.18285714285714286,
          "precision": 1,
          "recall": 0.18285714285714286,
          "row_count": 44850,
          "truth_threshold": 0.9997126278425595
         },
         {
          "FN": 144,
          "FN_rate": 0.8228571428571428,
          "FP": 0,
          "FP_rate": 0,
          "N": 44675,
          "N_rate": 0.9960981047937569,
          "P": 175,
          "P_rate": 0.0039018952062430325,
          "TN": 44675,
          "TN_rate": 1,
          "TP": 31,
          "TP_rate": 0.17714285714285713,
          "precision": 1,
          "recall": 0.17714285714285713,
          "row_count": 44850,
          "truth_threshold": 0.9997422327096607
         },
         {
          "FN": 145,
          "FN_rate": 0.8285714285714286,
          "FP": 0,
          "FP_rate": 0,
          "N": 44675,
          "N_rate": 0.9960981047937569,
          "P": 175,
          "P_rate": 0.0039018952062430325,
          "TN": 44675,
          "TN_rate": 1,
          "TP": 30,
          "TP_rate": 0.17142857142857143,
          "precision": 1,
          "recall": 0.17142857142857143,
          "row_count": 44850,
          "truth_threshold": 0.9998020610176195
         },
         {
          "FN": 146,
          "FN_rate": 0.8342857142857143,
          "FP": 0,
          "FP_rate": 0,
          "N": 44675,
          "N_rate": 0.9960981047937569,
          "P": 175,
          "P_rate": 0.0039018952062430325,
          "TN": 44675,
          "TN_rate": 1,
          "TP": 29,
          "TP_rate": 0.1657142857142857,
          "precision": 1,
          "recall": 0.1657142857142857,
          "row_count": 44850,
          "truth_threshold": 0.9998679724545987
         },
         {
          "FN": 147,
          "FN_rate": 0.84,
          "FP": 0,
          "FP_rate": 0,
          "N": 44675,
          "N_rate": 0.9960981047937569,
          "P": 175,
          "P_rate": 0.0039018952062430325,
          "TN": 44675,
          "TN_rate": 1,
          "TP": 28,
          "TP_rate": 0.16,
          "precision": 1,
          "recall": 0.16,
          "row_count": 44850,
          "truth_threshold": 0.9998852406524845
         },
         {
          "FN": 149,
          "FN_rate": 0.8514285714285714,
          "FP": 0,
          "FP_rate": 0,
          "N": 44675,
          "N_rate": 0.9960981047937569,
          "P": 175,
          "P_rate": 0.0039018952062430325,
          "TN": 44675,
          "TN_rate": 1,
          "TP": 26,
          "TP_rate": 0.14857142857142858,
          "precision": 1,
          "recall": 0.14857142857142858,
          "row_count": 44850,
          "truth_threshold": 0.9999209128514143
         },
         {
          "FN": 151,
          "FN_rate": 0.8628571428571429,
          "FP": 0,
          "FP_rate": 0,
          "N": 44675,
          "N_rate": 0.9960981047937569,
          "P": 175,
          "P_rate": 0.0039018952062430325,
          "TN": 44675,
          "TN_rate": 1,
          "TP": 24,
          "TP_rate": 0.13714285714285715,
          "precision": 1,
          "recall": 0.13714285714285715,
          "row_count": 44850,
          "truth_threshold": 0.9999306365025161
         },
         {
          "FN": 152,
          "FN_rate": 0.8685714285714285,
          "FP": 0,
          "FP_rate": 0,
          "N": 44675,
          "N_rate": 0.9960981047937569,
          "P": 175,
          "P_rate": 0.0039018952062430325,
          "TN": 44675,
          "TN_rate": 1,
          "TP": 23,
          "TP_rate": 0.13142857142857142,
          "precision": 1,
          "recall": 0.13142857142857142,
          "row_count": 44850,
          "truth_threshold": 0.9999677471456313
         },
         {
          "FN": 153,
          "FN_rate": 0.8742857142857143,
          "FP": 0,
          "FP_rate": 0,
          "N": 44675,
          "N_rate": 0.9960981047937569,
          "P": 175,
          "P_rate": 0.0039018952062430325,
          "TN": 44675,
          "TN_rate": 1,
          "TP": 22,
          "TP_rate": 0.12571428571428572,
          "precision": 1,
          "recall": 0.12571428571428572,
          "row_count": 44850,
          "truth_threshold": 0.9999857129768057
         },
         {
          "FN": 154,
          "FN_rate": 0.88,
          "FP": 0,
          "FP_rate": 0,
          "N": 44675,
          "N_rate": 0.9960981047937569,
          "P": 175,
          "P_rate": 0.0039018952062430325,
          "TN": 44675,
          "TN_rate": 1,
          "TP": 21,
          "TP_rate": 0.12,
          "precision": 1,
          "recall": 0.12,
          "row_count": 44850,
          "truth_threshold": 0.9999910259953333
         },
         {
          "FN": 155,
          "FN_rate": 0.8857142857142857,
          "FP": 0,
          "FP_rate": 0,
          "N": 44675,
          "N_rate": 0.9960981047937569,
          "P": 175,
          "P_rate": 0.0039018952062430325,
          "TN": 44675,
          "TN_rate": 1,
          "TP": 20,
          "TP_rate": 0.11428571428571428,
          "precision": 1,
          "recall": 0.11428571428571428,
          "row_count": 44850,
          "truth_threshold": 0.9999918026091426
         },
         {
          "FN": 157,
          "FN_rate": 0.8971428571428571,
          "FP": 0,
          "FP_rate": 0,
          "N": 44675,
          "N_rate": 0.9960981047937569,
          "P": 175,
          "P_rate": 0.0039018952062430325,
          "TN": 44675,
          "TN_rate": 1,
          "TP": 18,
          "TP_rate": 0.10285714285714286,
          "precision": 1,
          "recall": 0.10285714285714286,
          "row_count": 44850,
          "truth_threshold": 0.99999504549527
         },
         {
          "FN": 158,
          "FN_rate": 0.9028571428571428,
          "FP": 0,
          "FP_rate": 0,
          "N": 44675,
          "N_rate": 0.9960981047937569,
          "P": 175,
          "P_rate": 0.0039018952062430325,
          "TN": 44675,
          "TN_rate": 1,
          "TP": 17,
          "TP_rate": 0.09714285714285714,
          "precision": 1,
          "recall": 0.09714285714285714,
          "row_count": 44850,
          "truth_threshold": 0.9999956319819564
         },
         {
          "FN": 159,
          "FN_rate": 0.9085714285714286,
          "FP": 0,
          "FP_rate": 0,
          "N": 44675,
          "N_rate": 0.9960981047937569,
          "P": 175,
          "P_rate": 0.0039018952062430325,
          "TN": 44675,
          "TN_rate": 1,
          "TP": 16,
          "TP_rate": 0.09142857142857143,
          "precision": 1,
          "recall": 0.09142857142857143,
          "row_count": 44850,
          "truth_threshold": 0.9999963499444243
         },
         {
          "FN": 160,
          "FN_rate": 0.9142857142857143,
          "FP": 0,
          "FP_rate": 0,
          "N": 44675,
          "N_rate": 0.9960981047937569,
          "P": 175,
          "P_rate": 0.0039018952062430325,
          "TN": 44675,
          "TN_rate": 1,
          "TP": 15,
          "TP_rate": 0.08571428571428572,
          "precision": 1,
          "recall": 0.08571428571428572,
          "row_count": 44850,
          "truth_threshold": 0.9999977764969372
         },
         {
          "FN": 161,
          "FN_rate": 0.92,
          "FP": 0,
          "FP_rate": 0,
          "N": 44675,
          "N_rate": 0.9960981047937569,
          "P": 175,
          "P_rate": 0.0039018952062430325,
          "TN": 44675,
          "TN_rate": 1,
          "TP": 14,
          "TP_rate": 0.08,
          "precision": 1,
          "recall": 0.08,
          "row_count": 44850,
          "truth_threshold": 0.9999981468345897
         },
         {
          "FN": 162,
          "FN_rate": 0.9257142857142857,
          "FP": 0,
          "FP_rate": 0,
          "N": 44675,
          "N_rate": 0.9960981047937569,
          "P": 175,
          "P_rate": 0.0039018952062430325,
          "TN": 44675,
          "TN_rate": 1,
          "TP": 13,
          "TP_rate": 0.07428571428571429,
          "precision": 1,
          "recall": 0.07428571428571429,
          "row_count": 44850,
          "truth_threshold": 0.9999991344931305
         },
         {
          "FN": 163,
          "FN_rate": 0.9314285714285714,
          "FP": 0,
          "FP_rate": 0,
          "N": 44675,
          "N_rate": 0.9960981047937569,
          "P": 175,
          "P_rate": 0.0039018952062430325,
          "TN": 44675,
          "TN_rate": 1,
          "TP": 12,
          "TP_rate": 0.06857142857142857,
          "precision": 1,
          "recall": 0.06857142857142857,
          "row_count": 44850,
          "truth_threshold": 0.999999163756215
         },
         {
          "FN": 164,
          "FN_rate": 0.9371428571428572,
          "FP": 0,
          "FP_rate": 0,
          "N": 44675,
          "N_rate": 0.9960981047937569,
          "P": 175,
          "P_rate": 0.0039018952062430325,
          "TN": 44675,
          "TN_rate": 1,
          "TP": 11,
          "TP_rate": 0.06285714285714286,
          "precision": 1,
          "recall": 0.06285714285714286,
          "row_count": 44850,
          "truth_threshold": 0.9999993878839049
         },
         {
          "FN": 165,
          "FN_rate": 0.9428571428571428,
          "FP": 0,
          "FP_rate": 0,
          "N": 44675,
          "N_rate": 0.9960981047937569,
          "P": 175,
          "P_rate": 0.0039018952062430325,
          "TN": 44675,
          "TN_rate": 1,
          "TP": 10,
          "TP_rate": 0.05714285714285714,
          "precision": 1,
          "recall": 0.05714285714285714,
          "row_count": 44850,
          "truth_threshold": 0.9999995548352693
         },
         {
          "FN": 166,
          "FN_rate": 0.9485714285714286,
          "FP": 0,
          "FP_rate": 0,
          "N": 44675,
          "N_rate": 0.9960981047937569,
          "P": 175,
          "P_rate": 0.0039018952062430325,
          "TN": 44675,
          "TN_rate": 1,
          "TP": 9,
          "TP_rate": 0.05142857142857143,
          "precision": 1,
          "recall": 0.05142857142857143,
          "row_count": 44850,
          "truth_threshold": 0.9999995634046944
         },
         {
          "FN": 167,
          "FN_rate": 0.9542857142857143,
          "FP": 0,
          "FP_rate": 0,
          "N": 44675,
          "N_rate": 0.9960981047937569,
          "P": 175,
          "P_rate": 0.0039018952062430325,
          "TN": 44675,
          "TN_rate": 1,
          "TP": 8,
          "TP_rate": 0.045714285714285714,
          "precision": 1,
          "recall": 0.045714285714285714,
          "row_count": 44850,
          "truth_threshold": 0.9999999019938138
         },
         {
          "FN": 168,
          "FN_rate": 0.96,
          "FP": 0,
          "FP_rate": 0,
          "N": 44675,
          "N_rate": 0.9960981047937569,
          "P": 175,
          "P_rate": 0.0039018952062430325,
          "TN": 44675,
          "TN_rate": 1,
          "TP": 7,
          "TP_rate": 0.04,
          "precision": 1,
          "recall": 0.04,
          "row_count": 44850,
          "truth_threshold": 0.9999999788772419
         },
         {
          "FN": 170,
          "FN_rate": 0.9714285714285714,
          "FP": 0,
          "FP_rate": 0,
          "N": 44675,
          "N_rate": 0.9960981047937569,
          "P": 175,
          "P_rate": 0.0039018952062430325,
          "TN": 44675,
          "TN_rate": 1,
          "TP": 5,
          "TP_rate": 0.02857142857142857,
          "precision": 1,
          "recall": 0.02857142857142857,
          "row_count": 44850,
          "truth_threshold": 0.9999999920954105
         },
         {
          "FN": 171,
          "FN_rate": 0.9771428571428571,
          "FP": 0,
          "FP_rate": 0,
          "N": 44675,
          "N_rate": 0.9960981047937569,
          "P": 175,
          "P_rate": 0.0039018952062430325,
          "TN": 44675,
          "TN_rate": 1,
          "TP": 4,
          "TP_rate": 0.022857142857142857,
          "precision": 1,
          "recall": 0.022857142857142857,
          "row_count": 44850,
          "truth_threshold": 0.9999999965493545
         },
         {
          "FN": 172,
          "FN_rate": 0.9828571428571429,
          "FP": 0,
          "FP_rate": 0,
          "N": 44675,
          "N_rate": 0.9960981047937569,
          "P": 175,
          "P_rate": 0.0039018952062430325,
          "TN": 44675,
          "TN_rate": 1,
          "TP": 3,
          "TP_rate": 0.017142857142857144,
          "precision": 1,
          "recall": 0.017142857142857144,
          "row_count": 44850,
          "truth_threshold": 0.9999999983675183
         },
         {
          "FN": 173,
          "FN_rate": 0.9885714285714285,
          "FP": 0,
          "FP_rate": 0,
          "N": 44675,
          "N_rate": 0.9960981047937569,
          "P": 175,
          "P_rate": 0.0039018952062430325,
          "TN": 44675,
          "TN_rate": 1,
          "TP": 2,
          "TP_rate": 0.011428571428571429,
          "precision": 1,
          "recall": 0.011428571428571429,
          "row_count": 44850,
          "truth_threshold": 0.9999999988750048
         },
         {
          "FN": 174,
          "FN_rate": 0.9942857142857143,
          "FP": 0,
          "FP_rate": 0,
          "N": 44675,
          "N_rate": 0.9960981047937569,
          "P": 175,
          "P_rate": 0.0039018952062430325,
          "TN": 44675,
          "TN_rate": 1,
          "TP": 1,
          "TP_rate": 0.005714285714285714,
          "precision": 1,
          "recall": 0.005714285714285714,
          "row_count": 44850,
          "truth_threshold": 0.9999999997671003
         }
        ]
       },
       "encoding": {
        "tooltip": [
         {
          "field": "truth_threshold",
          "type": "quantitative"
         },
         {
          "field": "FP_rate",
          "type": "quantitative"
         },
         {
          "field": "TP_rate",
          "type": "quantitative"
         },
         {
          "field": "TP",
          "type": "quantitative"
         },
         {
          "field": "TN",
          "type": "quantitative"
         },
         {
          "field": "FP",
          "type": "quantitative"
         },
         {
          "field": "FN",
          "type": "quantitative"
         },
         {
          "field": "precision",
          "type": "quantitative"
         },
         {
          "field": "recall",
          "type": "quantitative"
         }
        ],
        "x": {
         "field": "FP_rate",
         "scale": {
          "domain": [
           0,
           0.0031561275881365415
          ]
         },
         "sort": [
          "truth_threshold"
         ],
         "title": "False Positive Rate amongst clerically reviewed records",
         "type": "quantitative"
        },
        "y": {
         "field": "TP_rate",
         "sort": [
          "truth_threshold"
         ],
         "title": "True Positive Rate amongst clerically reviewed records",
         "type": "quantitative"
        }
       },
       "height": 400,
       "mark": {
        "clip": true,
        "point": true,
        "type": "line"
       },
       "selection": {
        "selector076": {
         "bind": "scales",
         "encodings": [
          "x"
         ],
         "type": "interval"
        }
       },
       "title": "Receiver operating characteristic curve",
       "width": 400
      },
      "text/plain": [
       "<VegaLite 4 object>\n",
       "\n",
       "If you see this message, it means the renderer has not been properly enabled\n",
       "for the frontend that you are using. For more information, see\n",
       "https://altair-viz.github.io/user_guide/troubleshooting.html\n"
      ]
     },
     "execution_count": 73,
     "metadata": {},
     "output_type": "execute_result"
    }
   ],
   "source": [
    "from splink.truth import labels_with_splink_scores, roc_chart, precision_recall_chart\n",
    "\n",
    "\n",
    "roc_chart(labels_and_scores, spark)"
   ]
  },
  {
   "cell_type": "code",
   "execution_count": 74,
   "metadata": {},
   "outputs": [
    {
     "data": {
      "application/vnd.vegalite.v4+json": {
       "$schema": "https://vega.github.io/schema/vega-lite/v4.8.1.json",
       "config": {
        "view": {
         "continuousHeight": 300,
         "continuousWidth": 400
        }
       },
       "data": {
        "name": "data-fadd0e93e9546856cbc745a99e65285d",
        "values": [
         {
          "FN": 0,
          "FN_rate": 0,
          "FP": 44675,
          "FP_rate": 1,
          "N": 44675,
          "N_rate": 0.9960981047937569,
          "P": 175,
          "P_rate": 0.0039018952062430325,
          "TN": 0,
          "TN_rate": 0,
          "TP": 175,
          "TP_rate": 1,
          "precision": 0.0039018952062430325,
          "recall": 1,
          "row_count": 44850,
          "truth_threshold": 0
         },
         {
          "FN": 98,
          "FN_rate": 0.56,
          "FP": 94,
          "FP_rate": 0.0021040850587576944,
          "N": 44675,
          "N_rate": 0.9960981047937569,
          "P": 175,
          "P_rate": 0.0039018952062430325,
          "TN": 44581,
          "TN_rate": 0.9978959149412423,
          "TP": 77,
          "TP_rate": 0.44,
          "precision": 0.4502923976608187,
          "recall": 0.44,
          "row_count": 44850,
          "truth_threshold": 0.0043440842081030545
         },
         {
          "FN": 98,
          "FN_rate": 0.56,
          "FP": 73,
          "FP_rate": 0.001634023503077784,
          "N": 44675,
          "N_rate": 0.9960981047937569,
          "P": 175,
          "P_rate": 0.0039018952062430325,
          "TN": 44602,
          "TN_rate": 0.9983659764969223,
          "TP": 77,
          "TP_rate": 0.44,
          "precision": 0.5133333333333333,
          "recall": 0.44,
          "row_count": 44850,
          "truth_threshold": 0.009296333014225345
         },
         {
          "FN": 99,
          "FN_rate": 0.5657142857142857,
          "FP": 59,
          "FP_rate": 0.0013206491326245105,
          "N": 44675,
          "N_rate": 0.9960981047937569,
          "P": 175,
          "P_rate": 0.0039018952062430325,
          "TN": 44616,
          "TN_rate": 0.9986793508673755,
          "TP": 76,
          "TP_rate": 0.4342857142857143,
          "precision": 0.562962962962963,
          "recall": 0.4342857142857143,
          "row_count": 44850,
          "truth_threshold": 0.010424507207183503
         },
         {
          "FN": 99,
          "FN_rate": 0.5657142857142857,
          "FP": 41,
          "FP_rate": 0.0009177392277560156,
          "N": 44675,
          "N_rate": 0.9960981047937569,
          "P": 175,
          "P_rate": 0.0039018952062430325,
          "TN": 44634,
          "TN_rate": 0.9990822607722439,
          "TP": 76,
          "TP_rate": 0.4342857142857143,
          "precision": 0.6495726495726496,
          "recall": 0.4342857142857143,
          "row_count": 44850,
          "truth_threshold": 0.022154192554737207
         },
         {
          "FN": 100,
          "FN_rate": 0.5714285714285714,
          "FP": 38,
          "FP_rate": 0.0008505875769445999,
          "N": 44675,
          "N_rate": 0.9960981047937569,
          "P": 175,
          "P_rate": 0.0039018952062430325,
          "TN": 44637,
          "TN_rate": 0.9991494124230554,
          "TP": 75,
          "TP_rate": 0.42857142857142855,
          "precision": 0.6637168141592921,
          "recall": 0.42857142857142855,
          "row_count": 44850,
          "truth_threshold": 0.05439648446129141
         },
         {
          "FN": 100,
          "FN_rate": 0.5714285714285714,
          "FP": 23,
          "FP_rate": 0.0005148293228875209,
          "N": 44675,
          "N_rate": 0.9960981047937569,
          "P": 175,
          "P_rate": 0.0039018952062430325,
          "TN": 44652,
          "TN_rate": 0.9994851706771125,
          "TP": 75,
          "TP_rate": 0.42857142857142855,
          "precision": 0.7653061224489796,
          "recall": 0.42857142857142855,
          "row_count": 44850,
          "truth_threshold": 0.05757006734737914
         },
         {
          "FN": 100,
          "FN_rate": 0.5714285714285714,
          "FP": 21,
          "FP_rate": 0.0004700615556799105,
          "N": 44675,
          "N_rate": 0.9960981047937569,
          "P": 175,
          "P_rate": 0.0039018952062430325,
          "TN": 44654,
          "TN_rate": 0.9995299384443201,
          "TP": 75,
          "TP_rate": 0.42857142857142855,
          "precision": 0.78125,
          "recall": 0.42857142857142855,
          "row_count": 44850,
          "truth_threshold": 0.09196727993218454
         },
         {
          "FN": 100,
          "FN_rate": 0.5714285714285714,
          "FP": 19,
          "FP_rate": 0.00042529378847229997,
          "N": 44675,
          "N_rate": 0.9960981047937569,
          "P": 175,
          "P_rate": 0.0039018952062430325,
          "TN": 44656,
          "TN_rate": 0.9995747062115277,
          "TP": 75,
          "TP_rate": 0.42857142857142855,
          "precision": 0.7978723404255319,
          "recall": 0.42857142857142855,
          "row_count": 44850,
          "truth_threshold": 0.11009877905695696
         },
         {
          "FN": 102,
          "FN_rate": 0.5828571428571429,
          "FP": 8,
          "FP_rate": 0.00017907106883044207,
          "N": 44675,
          "N_rate": 0.9960981047937569,
          "P": 175,
          "P_rate": 0.0039018952062430325,
          "TN": 44667,
          "TN_rate": 0.9998209289311696,
          "TP": 73,
          "TP_rate": 0.41714285714285715,
          "precision": 0.9012345679012346,
          "recall": 0.41714285714285715,
          "row_count": 44850,
          "truth_threshold": 0.1219541528907353
         },
         {
          "FN": 102,
          "FN_rate": 0.5828571428571429,
          "FP": 2,
          "FP_rate": 4.476776720761052e-05,
          "N": 44675,
          "N_rate": 0.9960981047937569,
          "P": 175,
          "P_rate": 0.0039018952062430325,
          "TN": 44673,
          "TN_rate": 0.9999552322327924,
          "TP": 73,
          "TP_rate": 0.41714285714285715,
          "precision": 0.9733333333333334,
          "recall": 0.41714285714285715,
          "row_count": 44850,
          "truth_threshold": 0.23000865960477276
         },
         {
          "FN": 105,
          "FN_rate": 0.6,
          "FP": 0,
          "FP_rate": 0,
          "N": 44675,
          "N_rate": 0.9960981047937569,
          "P": 175,
          "P_rate": 0.0039018952062430325,
          "TN": 44675,
          "TN_rate": 1,
          "TP": 70,
          "TP_rate": 0.4,
          "precision": 1,
          "recall": 0.4,
          "row_count": 44850,
          "truth_threshold": 0.2864410899728678
         },
         {
          "FN": 106,
          "FN_rate": 0.6057142857142858,
          "FP": 0,
          "FP_rate": 0,
          "N": 44675,
          "N_rate": 0.9960981047937569,
          "P": 175,
          "P_rate": 0.0039018952062430325,
          "TN": 44675,
          "TN_rate": 1,
          "TP": 69,
          "TP_rate": 0.3942857142857143,
          "precision": 1,
          "recall": 0.3942857142857143,
          "row_count": 44850,
          "truth_threshold": 0.4461111550742408
         },
         {
          "FN": 107,
          "FN_rate": 0.6114285714285714,
          "FP": 0,
          "FP_rate": 0,
          "N": 44675,
          "N_rate": 0.9960981047937569,
          "P": 175,
          "P_rate": 0.0039018952062430325,
          "TN": 44675,
          "TN_rate": 1,
          "TP": 68,
          "TP_rate": 0.38857142857142857,
          "precision": 1,
          "recall": 0.38857142857142857,
          "row_count": 44850,
          "truth_threshold": 0.4763435359039293
         },
         {
          "FN": 108,
          "FN_rate": 0.6171428571428571,
          "FP": 0,
          "FP_rate": 0,
          "N": 44675,
          "N_rate": 0.9960981047937569,
          "P": 175,
          "P_rate": 0.0039018952062430325,
          "TN": 44675,
          "TN_rate": 1,
          "TP": 67,
          "TP_rate": 0.38285714285714284,
          "precision": 1,
          "recall": 0.38285714285714284,
          "row_count": 44850,
          "truth_threshold": 0.5718040330303462
         },
         {
          "FN": 109,
          "FN_rate": 0.6228571428571429,
          "FP": 0,
          "FP_rate": 0,
          "N": 44675,
          "N_rate": 0.9960981047937569,
          "P": 175,
          "P_rate": 0.0039018952062430325,
          "TN": 44675,
          "TN_rate": 1,
          "TP": 66,
          "TP_rate": 0.37714285714285717,
          "precision": 1,
          "recall": 0.37714285714285717,
          "row_count": 44850,
          "truth_threshold": 0.6603993426626866
         },
         {
          "FN": 110,
          "FN_rate": 0.6285714285714286,
          "FP": 0,
          "FP_rate": 0,
          "N": 44675,
          "N_rate": 0.9960981047937569,
          "P": 175,
          "P_rate": 0.0039018952062430325,
          "TN": 44675,
          "TN_rate": 1,
          "TP": 65,
          "TP_rate": 0.37142857142857144,
          "precision": 1,
          "recall": 0.37142857142857144,
          "row_count": 44850,
          "truth_threshold": 0.7509522667652223
         },
         {
          "FN": 111,
          "FN_rate": 0.6342857142857142,
          "FP": 0,
          "FP_rate": 0,
          "N": 44675,
          "N_rate": 0.9960981047937569,
          "P": 175,
          "P_rate": 0.0039018952062430325,
          "TN": 44675,
          "TN_rate": 1,
          "TP": 64,
          "TP_rate": 0.3657142857142857,
          "precision": 1,
          "recall": 0.3657142857142857,
          "row_count": 44850,
          "truth_threshold": 0.7845586957431309
         },
         {
          "FN": 112,
          "FN_rate": 0.64,
          "FP": 0,
          "FP_rate": 0,
          "N": 44675,
          "N_rate": 0.9960981047937569,
          "P": 175,
          "P_rate": 0.0039018952062430325,
          "TN": 44675,
          "TN_rate": 1,
          "TP": 63,
          "TP_rate": 0.36,
          "precision": 1,
          "recall": 0.36,
          "row_count": 44850,
          "truth_threshold": 0.8650643520844031
         },
         {
          "FN": 113,
          "FN_rate": 0.6457142857142857,
          "FP": 0,
          "FP_rate": 0,
          "N": 44675,
          "N_rate": 0.9960981047937569,
          "P": 175,
          "P_rate": 0.0039018952062430325,
          "TN": 44675,
          "TN_rate": 1,
          "TP": 62,
          "TP_rate": 0.35428571428571426,
          "precision": 1,
          "recall": 0.35428571428571426,
          "row_count": 44850,
          "truth_threshold": 0.8792309665865232
         },
         {
          "FN": 115,
          "FN_rate": 0.6571428571428571,
          "FP": 0,
          "FP_rate": 0,
          "N": 44675,
          "N_rate": 0.9960981047937569,
          "P": 175,
          "P_rate": 0.0039018952062430325,
          "TN": 44675,
          "TN_rate": 1,
          "TP": 60,
          "TP_rate": 0.34285714285714286,
          "precision": 1,
          "recall": 0.34285714285714286,
          "row_count": 44850,
          "truth_threshold": 0.8978813986795826
         },
         {
          "FN": 116,
          "FN_rate": 0.6628571428571428,
          "FP": 0,
          "FP_rate": 0,
          "N": 44675,
          "N_rate": 0.9960981047937569,
          "P": 175,
          "P_rate": 0.0039018952062430325,
          "TN": 44675,
          "TN_rate": 1,
          "TP": 59,
          "TP_rate": 0.33714285714285713,
          "precision": 1,
          "recall": 0.33714285714285713,
          "row_count": 44850,
          "truth_threshold": 0.9096110945447781
         },
         {
          "FN": 117,
          "FN_rate": 0.6685714285714286,
          "FP": 0,
          "FP_rate": 0,
          "N": 44675,
          "N_rate": 0.9960981047937569,
          "P": 175,
          "P_rate": 0.0039018952062430325,
          "TN": 44675,
          "TN_rate": 1,
          "TP": 58,
          "TP_rate": 0.3314285714285714,
          "precision": 1,
          "recall": 0.3314285714285714,
          "row_count": 44850,
          "truth_threshold": 0.9551109680514139
         },
         {
          "FN": 118,
          "FN_rate": 0.6742857142857143,
          "FP": 0,
          "FP_rate": 0,
          "N": 44675,
          "N_rate": 0.9960981047937569,
          "P": 175,
          "P_rate": 0.0039018952062430325,
          "TN": 44675,
          "TN_rate": 1,
          "TP": 57,
          "TP_rate": 0.32571428571428573,
          "precision": 1,
          "recall": 0.32571428571428573,
          "row_count": 44850,
          "truth_threshold": 0.955836445613414
         },
         {
          "FN": 121,
          "FN_rate": 0.6914285714285714,
          "FP": 0,
          "FP_rate": 0,
          "N": 44675,
          "N_rate": 0.9960981047937569,
          "P": 175,
          "P_rate": 0.0039018952062430325,
          "TN": 44675,
          "TN_rate": 1,
          "TP": 54,
          "TP_rate": 0.30857142857142855,
          "precision": 1,
          "recall": 0.30857142857142855,
          "row_count": 44850,
          "truth_threshold": 0.9571274374467531
         },
         {
          "FN": 122,
          "FN_rate": 0.6971428571428572,
          "FP": 0,
          "FP_rate": 0,
          "N": 44675,
          "N_rate": 0.9960981047937569,
          "P": 175,
          "P_rate": 0.0039018952062430325,
          "TN": 44675,
          "TN_rate": 1,
          "TP": 53,
          "TP_rate": 0.3028571428571429,
          "precision": 1,
          "recall": 0.3028571428571429,
          "row_count": 44850,
          "truth_threshold": 0.9702190443482207
         },
         {
          "FN": 125,
          "FN_rate": 0.7142857142857143,
          "FP": 0,
          "FP_rate": 0,
          "N": 44675,
          "N_rate": 0.9960981047937569,
          "P": 175,
          "P_rate": 0.0039018952062430325,
          "TN": 44675,
          "TN_rate": 1,
          "TP": 50,
          "TP_rate": 0.2857142857142857,
          "precision": 1,
          "recall": 0.2857142857142857,
          "row_count": 44850,
          "truth_threshold": 0.9737848298044658
         },
         {
          "FN": 126,
          "FN_rate": 0.72,
          "FP": 0,
          "FP_rate": 0,
          "N": 44675,
          "N_rate": 0.9960981047937569,
          "P": 175,
          "P_rate": 0.0039018952062430325,
          "TN": 44675,
          "TN_rate": 1,
          "TP": 49,
          "TP_rate": 0.28,
          "precision": 1,
          "recall": 0.28,
          "row_count": 44850,
          "truth_threshold": 0.9795977295116425
         },
         {
          "FN": 128,
          "FN_rate": 0.7314285714285714,
          "FP": 0,
          "FP_rate": 0,
          "N": 44675,
          "N_rate": 0.9960981047937569,
          "P": 175,
          "P_rate": 0.0039018952062430325,
          "TN": 44675,
          "TN_rate": 1,
          "TP": 47,
          "TP_rate": 0.26857142857142857,
          "precision": 1,
          "recall": 0.26857142857142857,
          "row_count": 44850,
          "truth_threshold": 0.9817858545117978
         },
         {
          "FN": 130,
          "FN_rate": 0.7428571428571429,
          "FP": 0,
          "FP_rate": 0,
          "N": 44675,
          "N_rate": 0.9960981047937569,
          "P": 175,
          "P_rate": 0.0039018952062430325,
          "TN": 44675,
          "TN_rate": 1,
          "TP": 45,
          "TP_rate": 0.2571428571428571,
          "precision": 1,
          "recall": 0.2571428571428571,
          "row_count": 44850,
          "truth_threshold": 0.9876374438143364
         },
         {
          "FN": 131,
          "FN_rate": 0.7485714285714286,
          "FP": 0,
          "FP_rate": 0,
          "N": 44675,
          "N_rate": 0.9960981047937569,
          "P": 175,
          "P_rate": 0.0039018952062430325,
          "TN": 44675,
          "TN_rate": 1,
          "TP": 44,
          "TP_rate": 0.25142857142857145,
          "precision": 1,
          "recall": 0.25142857142857145,
          "row_count": 44850,
          "truth_threshold": 0.9914477006218059
         },
         {
          "FN": 134,
          "FN_rate": 0.7657142857142857,
          "FP": 0,
          "FP_rate": 0,
          "N": 44675,
          "N_rate": 0.9960981047937569,
          "P": 175,
          "P_rate": 0.0039018952062430325,
          "TN": 44675,
          "TN_rate": 1,
          "TP": 41,
          "TP_rate": 0.2342857142857143,
          "precision": 1,
          "recall": 0.2342857142857143,
          "row_count": 44850,
          "truth_threshold": 0.9948646129553002
         },
         {
          "FN": 135,
          "FN_rate": 0.7714285714285715,
          "FP": 0,
          "FP_rate": 0,
          "N": 44675,
          "N_rate": 0.9960981047937569,
          "P": 175,
          "P_rate": 0.0039018952062430325,
          "TN": 44675,
          "TN_rate": 1,
          "TP": 40,
          "TP_rate": 0.22857142857142856,
          "precision": 1,
          "recall": 0.22857142857142856,
          "row_count": 44850,
          "truth_threshold": 0.9978124446949083
         },
         {
          "FN": 137,
          "FN_rate": 0.7828571428571428,
          "FP": 0,
          "FP_rate": 0,
          "N": 44675,
          "N_rate": 0.9960981047937569,
          "P": 175,
          "P_rate": 0.0039018952062430325,
          "TN": 44675,
          "TN_rate": 1,
          "TP": 38,
          "TP_rate": 0.21714285714285714,
          "precision": 1,
          "recall": 0.21714285714285714,
          "row_count": 44850,
          "truth_threshold": 0.9980809039388719
         },
         {
          "FN": 138,
          "FN_rate": 0.7885714285714286,
          "FP": 0,
          "FP_rate": 0,
          "N": 44675,
          "N_rate": 0.9960981047937569,
          "P": 175,
          "P_rate": 0.0039018952062430325,
          "TN": 44675,
          "TN_rate": 1,
          "TP": 37,
          "TP_rate": 0.21142857142857144,
          "precision": 1,
          "recall": 0.21142857142857144,
          "row_count": 44850,
          "truth_threshold": 0.9994020758752877
         },
         {
          "FN": 139,
          "FN_rate": 0.7942857142857143,
          "FP": 0,
          "FP_rate": 0,
          "N": 44675,
          "N_rate": 0.9960981047937569,
          "P": 175,
          "P_rate": 0.0039018952062430325,
          "TN": 44675,
          "TN_rate": 1,
          "TP": 36,
          "TP_rate": 0.2057142857142857,
          "precision": 1,
          "recall": 0.2057142857142857,
          "row_count": 44850,
          "truth_threshold": 0.9996285784311492
         },
         {
          "FN": 140,
          "FN_rate": 0.8,
          "FP": 0,
          "FP_rate": 0,
          "N": 44675,
          "N_rate": 0.9960981047937569,
          "P": 175,
          "P_rate": 0.0039018952062430325,
          "TN": 44675,
          "TN_rate": 1,
          "TP": 35,
          "TP_rate": 0.2,
          "precision": 1,
          "recall": 0.2,
          "row_count": 44850,
          "truth_threshold": 0.9996461897900478
         },
         {
          "FN": 141,
          "FN_rate": 0.8057142857142857,
          "FP": 0,
          "FP_rate": 0,
          "N": 44675,
          "N_rate": 0.9960981047937569,
          "P": 175,
          "P_rate": 0.0039018952062430325,
          "TN": 44675,
          "TN_rate": 1,
          "TP": 34,
          "TP_rate": 0.19428571428571428,
          "precision": 1,
          "recall": 0.19428571428571428,
          "row_count": 44850,
          "truth_threshold": 0.9996642209375052
         },
         {
          "FN": 143,
          "FN_rate": 0.8171428571428572,
          "FP": 0,
          "FP_rate": 0,
          "N": 44675,
          "N_rate": 0.9960981047937569,
          "P": 175,
          "P_rate": 0.0039018952062430325,
          "TN": 44675,
          "TN_rate": 1,
          "TP": 32,
          "TP_rate": 0.18285714285714286,
          "precision": 1,
          "recall": 0.18285714285714286,
          "row_count": 44850,
          "truth_threshold": 0.9997126278425595
         },
         {
          "FN": 144,
          "FN_rate": 0.8228571428571428,
          "FP": 0,
          "FP_rate": 0,
          "N": 44675,
          "N_rate": 0.9960981047937569,
          "P": 175,
          "P_rate": 0.0039018952062430325,
          "TN": 44675,
          "TN_rate": 1,
          "TP": 31,
          "TP_rate": 0.17714285714285713,
          "precision": 1,
          "recall": 0.17714285714285713,
          "row_count": 44850,
          "truth_threshold": 0.9997422327096607
         },
         {
          "FN": 145,
          "FN_rate": 0.8285714285714286,
          "FP": 0,
          "FP_rate": 0,
          "N": 44675,
          "N_rate": 0.9960981047937569,
          "P": 175,
          "P_rate": 0.0039018952062430325,
          "TN": 44675,
          "TN_rate": 1,
          "TP": 30,
          "TP_rate": 0.17142857142857143,
          "precision": 1,
          "recall": 0.17142857142857143,
          "row_count": 44850,
          "truth_threshold": 0.9998020610176195
         },
         {
          "FN": 146,
          "FN_rate": 0.8342857142857143,
          "FP": 0,
          "FP_rate": 0,
          "N": 44675,
          "N_rate": 0.9960981047937569,
          "P": 175,
          "P_rate": 0.0039018952062430325,
          "TN": 44675,
          "TN_rate": 1,
          "TP": 29,
          "TP_rate": 0.1657142857142857,
          "precision": 1,
          "recall": 0.1657142857142857,
          "row_count": 44850,
          "truth_threshold": 0.9998679724545987
         },
         {
          "FN": 147,
          "FN_rate": 0.84,
          "FP": 0,
          "FP_rate": 0,
          "N": 44675,
          "N_rate": 0.9960981047937569,
          "P": 175,
          "P_rate": 0.0039018952062430325,
          "TN": 44675,
          "TN_rate": 1,
          "TP": 28,
          "TP_rate": 0.16,
          "precision": 1,
          "recall": 0.16,
          "row_count": 44850,
          "truth_threshold": 0.9998852406524845
         },
         {
          "FN": 149,
          "FN_rate": 0.8514285714285714,
          "FP": 0,
          "FP_rate": 0,
          "N": 44675,
          "N_rate": 0.9960981047937569,
          "P": 175,
          "P_rate": 0.0039018952062430325,
          "TN": 44675,
          "TN_rate": 1,
          "TP": 26,
          "TP_rate": 0.14857142857142858,
          "precision": 1,
          "recall": 0.14857142857142858,
          "row_count": 44850,
          "truth_threshold": 0.9999209128514143
         },
         {
          "FN": 151,
          "FN_rate": 0.8628571428571429,
          "FP": 0,
          "FP_rate": 0,
          "N": 44675,
          "N_rate": 0.9960981047937569,
          "P": 175,
          "P_rate": 0.0039018952062430325,
          "TN": 44675,
          "TN_rate": 1,
          "TP": 24,
          "TP_rate": 0.13714285714285715,
          "precision": 1,
          "recall": 0.13714285714285715,
          "row_count": 44850,
          "truth_threshold": 0.9999306365025161
         },
         {
          "FN": 152,
          "FN_rate": 0.8685714285714285,
          "FP": 0,
          "FP_rate": 0,
          "N": 44675,
          "N_rate": 0.9960981047937569,
          "P": 175,
          "P_rate": 0.0039018952062430325,
          "TN": 44675,
          "TN_rate": 1,
          "TP": 23,
          "TP_rate": 0.13142857142857142,
          "precision": 1,
          "recall": 0.13142857142857142,
          "row_count": 44850,
          "truth_threshold": 0.9999677471456313
         },
         {
          "FN": 153,
          "FN_rate": 0.8742857142857143,
          "FP": 0,
          "FP_rate": 0,
          "N": 44675,
          "N_rate": 0.9960981047937569,
          "P": 175,
          "P_rate": 0.0039018952062430325,
          "TN": 44675,
          "TN_rate": 1,
          "TP": 22,
          "TP_rate": 0.12571428571428572,
          "precision": 1,
          "recall": 0.12571428571428572,
          "row_count": 44850,
          "truth_threshold": 0.9999857129768057
         },
         {
          "FN": 154,
          "FN_rate": 0.88,
          "FP": 0,
          "FP_rate": 0,
          "N": 44675,
          "N_rate": 0.9960981047937569,
          "P": 175,
          "P_rate": 0.0039018952062430325,
          "TN": 44675,
          "TN_rate": 1,
          "TP": 21,
          "TP_rate": 0.12,
          "precision": 1,
          "recall": 0.12,
          "row_count": 44850,
          "truth_threshold": 0.9999910259953333
         },
         {
          "FN": 155,
          "FN_rate": 0.8857142857142857,
          "FP": 0,
          "FP_rate": 0,
          "N": 44675,
          "N_rate": 0.9960981047937569,
          "P": 175,
          "P_rate": 0.0039018952062430325,
          "TN": 44675,
          "TN_rate": 1,
          "TP": 20,
          "TP_rate": 0.11428571428571428,
          "precision": 1,
          "recall": 0.11428571428571428,
          "row_count": 44850,
          "truth_threshold": 0.9999918026091426
         },
         {
          "FN": 157,
          "FN_rate": 0.8971428571428571,
          "FP": 0,
          "FP_rate": 0,
          "N": 44675,
          "N_rate": 0.9960981047937569,
          "P": 175,
          "P_rate": 0.0039018952062430325,
          "TN": 44675,
          "TN_rate": 1,
          "TP": 18,
          "TP_rate": 0.10285714285714286,
          "precision": 1,
          "recall": 0.10285714285714286,
          "row_count": 44850,
          "truth_threshold": 0.99999504549527
         },
         {
          "FN": 158,
          "FN_rate": 0.9028571428571428,
          "FP": 0,
          "FP_rate": 0,
          "N": 44675,
          "N_rate": 0.9960981047937569,
          "P": 175,
          "P_rate": 0.0039018952062430325,
          "TN": 44675,
          "TN_rate": 1,
          "TP": 17,
          "TP_rate": 0.09714285714285714,
          "precision": 1,
          "recall": 0.09714285714285714,
          "row_count": 44850,
          "truth_threshold": 0.9999956319819564
         },
         {
          "FN": 159,
          "FN_rate": 0.9085714285714286,
          "FP": 0,
          "FP_rate": 0,
          "N": 44675,
          "N_rate": 0.9960981047937569,
          "P": 175,
          "P_rate": 0.0039018952062430325,
          "TN": 44675,
          "TN_rate": 1,
          "TP": 16,
          "TP_rate": 0.09142857142857143,
          "precision": 1,
          "recall": 0.09142857142857143,
          "row_count": 44850,
          "truth_threshold": 0.9999963499444243
         },
         {
          "FN": 160,
          "FN_rate": 0.9142857142857143,
          "FP": 0,
          "FP_rate": 0,
          "N": 44675,
          "N_rate": 0.9960981047937569,
          "P": 175,
          "P_rate": 0.0039018952062430325,
          "TN": 44675,
          "TN_rate": 1,
          "TP": 15,
          "TP_rate": 0.08571428571428572,
          "precision": 1,
          "recall": 0.08571428571428572,
          "row_count": 44850,
          "truth_threshold": 0.9999977764969372
         },
         {
          "FN": 161,
          "FN_rate": 0.92,
          "FP": 0,
          "FP_rate": 0,
          "N": 44675,
          "N_rate": 0.9960981047937569,
          "P": 175,
          "P_rate": 0.0039018952062430325,
          "TN": 44675,
          "TN_rate": 1,
          "TP": 14,
          "TP_rate": 0.08,
          "precision": 1,
          "recall": 0.08,
          "row_count": 44850,
          "truth_threshold": 0.9999981468345897
         },
         {
          "FN": 162,
          "FN_rate": 0.9257142857142857,
          "FP": 0,
          "FP_rate": 0,
          "N": 44675,
          "N_rate": 0.9960981047937569,
          "P": 175,
          "P_rate": 0.0039018952062430325,
          "TN": 44675,
          "TN_rate": 1,
          "TP": 13,
          "TP_rate": 0.07428571428571429,
          "precision": 1,
          "recall": 0.07428571428571429,
          "row_count": 44850,
          "truth_threshold": 0.9999991344931305
         },
         {
          "FN": 163,
          "FN_rate": 0.9314285714285714,
          "FP": 0,
          "FP_rate": 0,
          "N": 44675,
          "N_rate": 0.9960981047937569,
          "P": 175,
          "P_rate": 0.0039018952062430325,
          "TN": 44675,
          "TN_rate": 1,
          "TP": 12,
          "TP_rate": 0.06857142857142857,
          "precision": 1,
          "recall": 0.06857142857142857,
          "row_count": 44850,
          "truth_threshold": 0.999999163756215
         },
         {
          "FN": 164,
          "FN_rate": 0.9371428571428572,
          "FP": 0,
          "FP_rate": 0,
          "N": 44675,
          "N_rate": 0.9960981047937569,
          "P": 175,
          "P_rate": 0.0039018952062430325,
          "TN": 44675,
          "TN_rate": 1,
          "TP": 11,
          "TP_rate": 0.06285714285714286,
          "precision": 1,
          "recall": 0.06285714285714286,
          "row_count": 44850,
          "truth_threshold": 0.9999993878839049
         },
         {
          "FN": 165,
          "FN_rate": 0.9428571428571428,
          "FP": 0,
          "FP_rate": 0,
          "N": 44675,
          "N_rate": 0.9960981047937569,
          "P": 175,
          "P_rate": 0.0039018952062430325,
          "TN": 44675,
          "TN_rate": 1,
          "TP": 10,
          "TP_rate": 0.05714285714285714,
          "precision": 1,
          "recall": 0.05714285714285714,
          "row_count": 44850,
          "truth_threshold": 0.9999995548352693
         },
         {
          "FN": 166,
          "FN_rate": 0.9485714285714286,
          "FP": 0,
          "FP_rate": 0,
          "N": 44675,
          "N_rate": 0.9960981047937569,
          "P": 175,
          "P_rate": 0.0039018952062430325,
          "TN": 44675,
          "TN_rate": 1,
          "TP": 9,
          "TP_rate": 0.05142857142857143,
          "precision": 1,
          "recall": 0.05142857142857143,
          "row_count": 44850,
          "truth_threshold": 0.9999995634046944
         },
         {
          "FN": 167,
          "FN_rate": 0.9542857142857143,
          "FP": 0,
          "FP_rate": 0,
          "N": 44675,
          "N_rate": 0.9960981047937569,
          "P": 175,
          "P_rate": 0.0039018952062430325,
          "TN": 44675,
          "TN_rate": 1,
          "TP": 8,
          "TP_rate": 0.045714285714285714,
          "precision": 1,
          "recall": 0.045714285714285714,
          "row_count": 44850,
          "truth_threshold": 0.9999999019938138
         },
         {
          "FN": 168,
          "FN_rate": 0.96,
          "FP": 0,
          "FP_rate": 0,
          "N": 44675,
          "N_rate": 0.9960981047937569,
          "P": 175,
          "P_rate": 0.0039018952062430325,
          "TN": 44675,
          "TN_rate": 1,
          "TP": 7,
          "TP_rate": 0.04,
          "precision": 1,
          "recall": 0.04,
          "row_count": 44850,
          "truth_threshold": 0.9999999788772419
         },
         {
          "FN": 170,
          "FN_rate": 0.9714285714285714,
          "FP": 0,
          "FP_rate": 0,
          "N": 44675,
          "N_rate": 0.9960981047937569,
          "P": 175,
          "P_rate": 0.0039018952062430325,
          "TN": 44675,
          "TN_rate": 1,
          "TP": 5,
          "TP_rate": 0.02857142857142857,
          "precision": 1,
          "recall": 0.02857142857142857,
          "row_count": 44850,
          "truth_threshold": 0.9999999920954105
         },
         {
          "FN": 171,
          "FN_rate": 0.9771428571428571,
          "FP": 0,
          "FP_rate": 0,
          "N": 44675,
          "N_rate": 0.9960981047937569,
          "P": 175,
          "P_rate": 0.0039018952062430325,
          "TN": 44675,
          "TN_rate": 1,
          "TP": 4,
          "TP_rate": 0.022857142857142857,
          "precision": 1,
          "recall": 0.022857142857142857,
          "row_count": 44850,
          "truth_threshold": 0.9999999965493545
         },
         {
          "FN": 172,
          "FN_rate": 0.9828571428571429,
          "FP": 0,
          "FP_rate": 0,
          "N": 44675,
          "N_rate": 0.9960981047937569,
          "P": 175,
          "P_rate": 0.0039018952062430325,
          "TN": 44675,
          "TN_rate": 1,
          "TP": 3,
          "TP_rate": 0.017142857142857144,
          "precision": 1,
          "recall": 0.017142857142857144,
          "row_count": 44850,
          "truth_threshold": 0.9999999983675183
         },
         {
          "FN": 173,
          "FN_rate": 0.9885714285714285,
          "FP": 0,
          "FP_rate": 0,
          "N": 44675,
          "N_rate": 0.9960981047937569,
          "P": 175,
          "P_rate": 0.0039018952062430325,
          "TN": 44675,
          "TN_rate": 1,
          "TP": 2,
          "TP_rate": 0.011428571428571429,
          "precision": 1,
          "recall": 0.011428571428571429,
          "row_count": 44850,
          "truth_threshold": 0.9999999988750048
         },
         {
          "FN": 174,
          "FN_rate": 0.9942857142857143,
          "FP": 0,
          "FP_rate": 0,
          "N": 44675,
          "N_rate": 0.9960981047937569,
          "P": 175,
          "P_rate": 0.0039018952062430325,
          "TN": 44675,
          "TN_rate": 1,
          "TP": 1,
          "TP_rate": 0.005714285714285714,
          "precision": 1,
          "recall": 0.005714285714285714,
          "row_count": 44850,
          "truth_threshold": 0.9999999997671003
         }
        ]
       },
       "encoding": {
        "tooltip": [
         {
          "field": "truth_threshold",
          "type": "quantitative"
         },
         {
          "field": "FP_rate",
          "type": "quantitative"
         },
         {
          "field": "TP_rate",
          "type": "quantitative"
         },
         {
          "field": "TP",
          "type": "quantitative"
         },
         {
          "field": "TN",
          "type": "quantitative"
         },
         {
          "field": "FP",
          "type": "quantitative"
         },
         {
          "field": "FN",
          "type": "quantitative"
         },
         {
          "field": "precision",
          "type": "quantitative"
         },
         {
          "field": "recall",
          "type": "quantitative"
         }
        ],
        "x": {
         "field": "recall",
         "sort": [
          "-recall"
         ],
         "title": "Recall",
         "type": "quantitative"
        },
        "y": {
         "field": "precision",
         "sort": [
          "-precision"
         ],
         "title": "Precision",
         "type": "quantitative"
        }
       },
       "height": 400,
       "mark": {
        "clip": true,
        "point": true,
        "type": "line"
       },
       "title": "Precision-recall curve",
       "width": 400
      },
      "text/plain": [
       "<VegaLite 4 object>\n",
       "\n",
       "If you see this message, it means the renderer has not been properly enabled\n",
       "for the frontend that you are using. For more information, see\n",
       "https://altair-viz.github.io/user_guide/troubleshooting.html\n"
      ]
     },
     "execution_count": 74,
     "metadata": {},
     "output_type": "execute_result"
    }
   ],
   "source": [
    "precision_recall_chart(labels_and_scores, spark)"
   ]
  },
  {
   "cell_type": "markdown",
   "metadata": {},
   "source": [
    "## Step 7: Use graphframes to resolve links into groups"
   ]
  },
  {
   "cell_type": "code",
   "execution_count": 75,
   "metadata": {},
   "outputs": [
    {
     "data": {
      "text/html": [
       "<div>\n",
       "<style scoped>\n",
       "    .dataframe tbody tr th:only-of-type {\n",
       "        vertical-align: middle;\n",
       "    }\n",
       "\n",
       "    .dataframe tbody tr th {\n",
       "        vertical-align: top;\n",
       "    }\n",
       "\n",
       "    .dataframe thead th {\n",
       "        text-align: right;\n",
       "    }\n",
       "</style>\n",
       "<table border=\"1\" class=\"dataframe\">\n",
       "  <thead>\n",
       "    <tr style=\"text-align: right;\">\n",
       "      <th></th>\n",
       "      <th>estimated_group</th>\n",
       "      <th>unique_id</th>\n",
       "      <th>first_name</th>\n",
       "      <th>surname</th>\n",
       "      <th>dob</th>\n",
       "      <th>city</th>\n",
       "      <th>email</th>\n",
       "      <th>group</th>\n",
       "    </tr>\n",
       "  </thead>\n",
       "  <tbody>\n",
       "    <tr>\n",
       "      <th>0</th>\n",
       "      <td>0</td>\n",
       "      <td>1</td>\n",
       "      <td>Robert</td>\n",
       "      <td>Allen</td>\n",
       "      <td>1971-05-24</td>\n",
       "      <td>None</td>\n",
       "      <td>roberta25@smith.net</td>\n",
       "      <td>0</td>\n",
       "    </tr>\n",
       "    <tr>\n",
       "      <th>1</th>\n",
       "      <td>17179869198</td>\n",
       "      <td>3</td>\n",
       "      <td>Robert</td>\n",
       "      <td>Alen</td>\n",
       "      <td>1971-06-24</td>\n",
       "      <td>Lonon</td>\n",
       "      <td>None</td>\n",
       "      <td>0</td>\n",
       "    </tr>\n",
       "    <tr>\n",
       "      <th>2</th>\n",
       "      <td>25769803776</td>\n",
       "      <td>0</td>\n",
       "      <td>Robert</td>\n",
       "      <td>Alan</td>\n",
       "      <td>1971-06-24</td>\n",
       "      <td>None</td>\n",
       "      <td>robert255@smith.net</td>\n",
       "      <td>0</td>\n",
       "    </tr>\n",
       "    <tr>\n",
       "      <th>3</th>\n",
       "      <td>8589934626</td>\n",
       "      <td>5</td>\n",
       "      <td>Grace</td>\n",
       "      <td>Kelly</td>\n",
       "      <td>1991-04-26</td>\n",
       "      <td>None</td>\n",
       "      <td>grace.kelly52@jones.com</td>\n",
       "      <td>1</td>\n",
       "    </tr>\n",
       "    <tr>\n",
       "      <th>4</th>\n",
       "      <td>51539607578</td>\n",
       "      <td>4</td>\n",
       "      <td>Grace</td>\n",
       "      <td>None</td>\n",
       "      <td>1997-04-26</td>\n",
       "      <td>Hull</td>\n",
       "      <td>grace.kelly52@jones.com</td>\n",
       "      <td>1</td>\n",
       "    </tr>\n",
       "    <tr>\n",
       "      <th>5</th>\n",
       "      <td>34359738390</td>\n",
       "      <td>385</td>\n",
       "      <td>Lottie</td>\n",
       "      <td>Davis</td>\n",
       "      <td>1972-06-12</td>\n",
       "      <td>None</td>\n",
       "      <td>lottie.d7@morgan-pierce.com</td>\n",
       "      <td>100</td>\n",
       "    </tr>\n",
       "    <tr>\n",
       "      <th>6</th>\n",
       "      <td>34359738390</td>\n",
       "      <td>386</td>\n",
       "      <td>Lottie</td>\n",
       "      <td>Davis</td>\n",
       "      <td>1972-06-12</td>\n",
       "      <td>StSockton-on-Tees</td>\n",
       "      <td>lottie.d7@morgan-pierce.com</td>\n",
       "      <td>100</td>\n",
       "    </tr>\n",
       "    <tr>\n",
       "      <th>7</th>\n",
       "      <td>34359738390</td>\n",
       "      <td>387</td>\n",
       "      <td>Lottie</td>\n",
       "      <td>Davis</td>\n",
       "      <td>1972-06-12</td>\n",
       "      <td>Stockton-onsTee-</td>\n",
       "      <td>None</td>\n",
       "      <td>100</td>\n",
       "    </tr>\n",
       "    <tr>\n",
       "      <th>8</th>\n",
       "      <td>26</td>\n",
       "      <td>391</td>\n",
       "      <td>Isaac</td>\n",
       "      <td>None</td>\n",
       "      <td>1991-05-06</td>\n",
       "      <td>Lodon</td>\n",
       "      <td>isaac.james@smich.tom</td>\n",
       "      <td>101</td>\n",
       "    </tr>\n",
       "    <tr>\n",
       "      <th>9</th>\n",
       "      <td>60129542170</td>\n",
       "      <td>393</td>\n",
       "      <td>Isaac</td>\n",
       "      <td>James</td>\n",
       "      <td>1991-05-06</td>\n",
       "      <td>London</td>\n",
       "      <td>None</td>\n",
       "      <td>101</td>\n",
       "    </tr>\n",
       "    <tr>\n",
       "      <th>10</th>\n",
       "      <td>27</td>\n",
       "      <td>395</td>\n",
       "      <td>Evie</td>\n",
       "      <td>Davidson</td>\n",
       "      <td>1982-07-18</td>\n",
       "      <td>Leeds</td>\n",
       "      <td>evied62@bishop.info</td>\n",
       "      <td>102</td>\n",
       "    </tr>\n",
       "    <tr>\n",
       "      <th>11</th>\n",
       "      <td>27</td>\n",
       "      <td>397</td>\n",
       "      <td>Evie</td>\n",
       "      <td>None</td>\n",
       "      <td>1982-07-18</td>\n",
       "      <td>Leeds</td>\n",
       "      <td>evied62@bishop.info</td>\n",
       "      <td>102</td>\n",
       "    </tr>\n",
       "    <tr>\n",
       "      <th>12</th>\n",
       "      <td>27</td>\n",
       "      <td>396</td>\n",
       "      <td>Evie</td>\n",
       "      <td>Davidson</td>\n",
       "      <td>1982-07-19</td>\n",
       "      <td>Leeds</td>\n",
       "      <td>evied62@bishop.info</td>\n",
       "      <td>102</td>\n",
       "    </tr>\n",
       "    <tr>\n",
       "      <th>13</th>\n",
       "      <td>51539607577</td>\n",
       "      <td>394</td>\n",
       "      <td>Evie</td>\n",
       "      <td>None</td>\n",
       "      <td>1992-08-14</td>\n",
       "      <td>Leeds</td>\n",
       "      <td>evieed62@bishop.info</td>\n",
       "      <td>102</td>\n",
       "    </tr>\n",
       "    <tr>\n",
       "      <th>14</th>\n",
       "      <td>8589934616</td>\n",
       "      <td>398</td>\n",
       "      <td>James</td>\n",
       "      <td>Dixon</td>\n",
       "      <td>1991-04-12</td>\n",
       "      <td>London</td>\n",
       "      <td>None</td>\n",
       "      <td>103</td>\n",
       "    </tr>\n",
       "    <tr>\n",
       "      <th>15</th>\n",
       "      <td>8589934616</td>\n",
       "      <td>400</td>\n",
       "      <td>James</td>\n",
       "      <td>Dixon</td>\n",
       "      <td>1991-04-12</td>\n",
       "      <td>None</td>\n",
       "      <td>james.d@merritot-scott.com</td>\n",
       "      <td>103</td>\n",
       "    </tr>\n",
       "    <tr>\n",
       "      <th>16</th>\n",
       "      <td>8589934616</td>\n",
       "      <td>401</td>\n",
       "      <td>James</td>\n",
       "      <td>Dixon</td>\n",
       "      <td>1991-04-12</td>\n",
       "      <td>None</td>\n",
       "      <td>james.d@merritt-scott.com</td>\n",
       "      <td>103</td>\n",
       "    </tr>\n",
       "    <tr>\n",
       "      <th>17</th>\n",
       "      <td>8589934616</td>\n",
       "      <td>403</td>\n",
       "      <td>James</td>\n",
       "      <td>Dixon</td>\n",
       "      <td>1991-04-12</td>\n",
       "      <td>None</td>\n",
       "      <td>james.d@merritt-scott.com</td>\n",
       "      <td>103</td>\n",
       "    </tr>\n",
       "    <tr>\n",
       "      <th>18</th>\n",
       "      <td>8589934616</td>\n",
       "      <td>402</td>\n",
       "      <td>James</td>\n",
       "      <td>Dixon</td>\n",
       "      <td>1991-04-12</td>\n",
       "      <td>Loodnon</td>\n",
       "      <td>james.d@merritt-scott.com</td>\n",
       "      <td>103</td>\n",
       "    </tr>\n",
       "    <tr>\n",
       "      <th>19</th>\n",
       "      <td>8589934617</td>\n",
       "      <td>399</td>\n",
       "      <td>Dixon</td>\n",
       "      <td>James</td>\n",
       "      <td>1991-04-12</td>\n",
       "      <td>None</td>\n",
       "      <td>james.d@merritt-scott.com</td>\n",
       "      <td>103</td>\n",
       "    </tr>\n",
       "    <tr>\n",
       "      <th>20</th>\n",
       "      <td>60129542171</td>\n",
       "      <td>407</td>\n",
       "      <td>Lexi</td>\n",
       "      <td>Cooe</td>\n",
       "      <td>1996-10-16</td>\n",
       "      <td>Sundarlend</td>\n",
       "      <td>l.cooke@thompson-williams.info</td>\n",
       "      <td>104</td>\n",
       "    </tr>\n",
       "    <tr>\n",
       "      <th>21</th>\n",
       "      <td>42949672989</td>\n",
       "      <td>408</td>\n",
       "      <td>Harry</td>\n",
       "      <td>Martin</td>\n",
       "      <td>2003-07-22</td>\n",
       "      <td>Derby</td>\n",
       "      <td>hm24@miller-roman.om</td>\n",
       "      <td>105</td>\n",
       "    </tr>\n",
       "    <tr>\n",
       "      <th>22</th>\n",
       "      <td>28</td>\n",
       "      <td>411</td>\n",
       "      <td>Emily</td>\n",
       "      <td>Atkinson</td>\n",
       "      <td>2008-05-05</td>\n",
       "      <td>None</td>\n",
       "      <td>emilya@roberts.com</td>\n",
       "      <td>106</td>\n",
       "    </tr>\n",
       "    <tr>\n",
       "      <th>23</th>\n",
       "      <td>28</td>\n",
       "      <td>409</td>\n",
       "      <td>Emily</td>\n",
       "      <td>Atkinson</td>\n",
       "      <td>2017-05-03</td>\n",
       "      <td>London</td>\n",
       "      <td>emilya@roberts.com</td>\n",
       "      <td>106</td>\n",
       "    </tr>\n",
       "    <tr>\n",
       "      <th>24</th>\n",
       "      <td>25769803807</td>\n",
       "      <td>414</td>\n",
       "      <td>Poppy</td>\n",
       "      <td>None</td>\n",
       "      <td>1973-01-16</td>\n",
       "      <td>None</td>\n",
       "      <td>poppy.owen71@diaz.com</td>\n",
       "      <td>107</td>\n",
       "    </tr>\n",
       "    <tr>\n",
       "      <th>25</th>\n",
       "      <td>25769803808</td>\n",
       "      <td>417</td>\n",
       "      <td>Florence</td>\n",
       "      <td>Brown</td>\n",
       "      <td>2002-02-24</td>\n",
       "      <td>London</td>\n",
       "      <td>fb@reose.cem</td>\n",
       "      <td>108</td>\n",
       "    </tr>\n",
       "    <tr>\n",
       "      <th>26</th>\n",
       "      <td>25769803808</td>\n",
       "      <td>419</td>\n",
       "      <td>Florence</td>\n",
       "      <td>Brown</td>\n",
       "      <td>1992-02-28</td>\n",
       "      <td>London</td>\n",
       "      <td>fb@reese.com</td>\n",
       "      <td>108</td>\n",
       "    </tr>\n",
       "    <tr>\n",
       "      <th>27</th>\n",
       "      <td>34359738392</td>\n",
       "      <td>415</td>\n",
       "      <td>Brown</td>\n",
       "      <td>Florence</td>\n",
       "      <td>2002-02-25</td>\n",
       "      <td>London</td>\n",
       "      <td>fb@reese.com</td>\n",
       "      <td>108</td>\n",
       "    </tr>\n",
       "    <tr>\n",
       "      <th>28</th>\n",
       "      <td>34359738393</td>\n",
       "      <td>418</td>\n",
       "      <td>Brown</td>\n",
       "      <td>Florence</td>\n",
       "      <td>1993-03-01</td>\n",
       "      <td>Loonon</td>\n",
       "      <td>f@b@reese.com</td>\n",
       "      <td>108</td>\n",
       "    </tr>\n",
       "    <tr>\n",
       "      <th>29</th>\n",
       "      <td>25769803809</td>\n",
       "      <td>420</td>\n",
       "      <td>Scarlett</td>\n",
       "      <td>Cunningam</td>\n",
       "      <td>2016-01-09</td>\n",
       "      <td>London</td>\n",
       "      <td>s.cunningham@pineda.com</td>\n",
       "      <td>109</td>\n",
       "    </tr>\n",
       "  </tbody>\n",
       "</table>\n",
       "</div>"
      ],
      "text/plain": [
       "    estimated_group unique_id first_name    surname         dob  \\\n",
       "0                 0         1     Robert      Allen  1971-05-24   \n",
       "1       17179869198         3     Robert       Alen  1971-06-24   \n",
       "2       25769803776         0     Robert       Alan  1971-06-24   \n",
       "3        8589934626         5      Grace      Kelly  1991-04-26   \n",
       "4       51539607578         4      Grace       None  1997-04-26   \n",
       "5       34359738390       385     Lottie      Davis  1972-06-12   \n",
       "6       34359738390       386     Lottie      Davis  1972-06-12   \n",
       "7       34359738390       387     Lottie      Davis  1972-06-12   \n",
       "8                26       391      Isaac       None  1991-05-06   \n",
       "9       60129542170       393      Isaac      James  1991-05-06   \n",
       "10               27       395       Evie   Davidson  1982-07-18   \n",
       "11               27       397       Evie       None  1982-07-18   \n",
       "12               27       396       Evie   Davidson  1982-07-19   \n",
       "13      51539607577       394       Evie       None  1992-08-14   \n",
       "14       8589934616       398      James      Dixon  1991-04-12   \n",
       "15       8589934616       400      James      Dixon  1991-04-12   \n",
       "16       8589934616       401      James      Dixon  1991-04-12   \n",
       "17       8589934616       403      James      Dixon  1991-04-12   \n",
       "18       8589934616       402      James      Dixon  1991-04-12   \n",
       "19       8589934617       399      Dixon      James  1991-04-12   \n",
       "20      60129542171       407       Lexi       Cooe  1996-10-16   \n",
       "21      42949672989       408      Harry     Martin  2003-07-22   \n",
       "22               28       411      Emily   Atkinson  2008-05-05   \n",
       "23               28       409      Emily   Atkinson  2017-05-03   \n",
       "24      25769803807       414      Poppy       None  1973-01-16   \n",
       "25      25769803808       417   Florence      Brown  2002-02-24   \n",
       "26      25769803808       419   Florence      Brown  1992-02-28   \n",
       "27      34359738392       415      Brown   Florence  2002-02-25   \n",
       "28      34359738393       418      Brown   Florence  1993-03-01   \n",
       "29      25769803809       420   Scarlett  Cunningam  2016-01-09   \n",
       "\n",
       "                 city                           email group  \n",
       "0                None             roberta25@smith.net     0  \n",
       "1               Lonon                            None     0  \n",
       "2                None             robert255@smith.net     0  \n",
       "3                None         grace.kelly52@jones.com     1  \n",
       "4                Hull         grace.kelly52@jones.com     1  \n",
       "5                None     lottie.d7@morgan-pierce.com   100  \n",
       "6   StSockton-on-Tees     lottie.d7@morgan-pierce.com   100  \n",
       "7    Stockton-onsTee-                            None   100  \n",
       "8               Lodon           isaac.james@smich.tom   101  \n",
       "9              London                            None   101  \n",
       "10              Leeds             evied62@bishop.info   102  \n",
       "11              Leeds             evied62@bishop.info   102  \n",
       "12              Leeds             evied62@bishop.info   102  \n",
       "13              Leeds            evieed62@bishop.info   102  \n",
       "14             London                            None   103  \n",
       "15               None      james.d@merritot-scott.com   103  \n",
       "16               None       james.d@merritt-scott.com   103  \n",
       "17               None       james.d@merritt-scott.com   103  \n",
       "18            Loodnon       james.d@merritt-scott.com   103  \n",
       "19               None       james.d@merritt-scott.com   103  \n",
       "20         Sundarlend  l.cooke@thompson-williams.info   104  \n",
       "21              Derby            hm24@miller-roman.om   105  \n",
       "22               None              emilya@roberts.com   106  \n",
       "23             London              emilya@roberts.com   106  \n",
       "24               None           poppy.owen71@diaz.com   107  \n",
       "25             London                    fb@reose.cem   108  \n",
       "26             London                    fb@reese.com   108  \n",
       "27             London                    fb@reese.com   108  \n",
       "28             Loonon                   f@b@reese.com   108  \n",
       "29             London         s.cunningham@pineda.com   109  "
      ]
     },
     "execution_count": 75,
     "metadata": {},
     "output_type": "execute_result"
    }
   ],
   "source": [
    "from graphframes import GraphFrame\n",
    "\n",
    "\n",
    "df_e.createOrReplaceTempView(\"df_e\")\n",
    "sql = \"\"\"\n",
    "select unique_id_l as id\n",
    "from df_e\n",
    "union\n",
    "select unique_id_r as id\n",
    "from df_e\n",
    "\"\"\"\n",
    "nodes = spark.sql(sql)\n",
    "\n",
    "sql = \"\"\"\n",
    "select\n",
    "unique_id_l as src,\n",
    "unique_id_r as dst,\n",
    "tf_adjusted_match_prob\n",
    "from df_e\n",
    "where tf_adjusted_match_prob > 0.99\n",
    "\"\"\"\n",
    "edges = spark.sql(sql)\n",
    "\n",
    "g = GraphFrame(nodes, edges)\n",
    "\n",
    "cc = g.connectedComponents()\n",
    "\n",
    "cc.createOrReplaceTempView(\"cc\")\n",
    "df.createOrReplaceTempView(\"df\")\n",
    "sql = \"\"\"\n",
    "select cc.component as estimated_group, df.*\n",
    "from cc\n",
    "left join\n",
    "df \n",
    "on cc.id = df.unique_id\n",
    "order by group, estimated_group\n",
    "\"\"\"\n",
    "results = spark.sql(sql)\n",
    "results.toPandas().head(30)"
   ]
  },
  {
   "cell_type": "code",
   "execution_count": 76,
   "metadata": {},
   "outputs": [],
   "source": [
    "## splink_graph functionality"
   ]
  },
  {
   "cell_type": "code",
   "execution_count": 77,
   "metadata": {},
   "outputs": [],
   "source": [
    "import splink_graph\n",
    "from splink_graph.splink_graph import subgraph_stats\n",
    "from splink_graph.splink_graph import _graphharmoniser\n",
    "from pyspark.sql import functions as f"
   ]
  },
  {
   "cell_type": "code",
   "execution_count": null,
   "metadata": {},
   "outputs": [],
   "source": []
  },
  {
   "cell_type": "code",
   "execution_count": 78,
   "metadata": {},
   "outputs": [],
   "source": [
    "\n",
    "edgesinfo = (df_e.drop(\"gamma_dob\",\"gamma_city\",\"gamma_surname\",\"gamma_email\",\"group_l\",\"group_r\").\n",
    "             withColumn( \"l_info\",f.concat_ws(\"_\",\"surname_l\",\"dob_l\",\"city_l\",\"email_l\")).\n",
    "             withColumn( \"r_info\",f.concat_ws(\"_\",\"surname_r\",\"dob_r\",\"city_r\",\"email_r\")))\n",
    "             \n",
    "            \n"
   ]
  },
  {
   "cell_type": "code",
   "execution_count": 79,
   "metadata": {},
   "outputs": [
    {
     "name": "stdout",
     "output_type": "stream",
     "text": [
      "root\n",
      " |-- tf_adjusted_match_prob: double (nullable = true)\n",
      " |-- match_probability: double (nullable = true)\n",
      " |-- unique_id_l: string (nullable = true)\n",
      " |-- unique_id_r: string (nullable = true)\n",
      " |-- surname_l: string (nullable = true)\n",
      " |-- surname_r: string (nullable = true)\n",
      " |-- dob_l: string (nullable = true)\n",
      " |-- dob_r: string (nullable = true)\n",
      " |-- city_l: string (nullable = true)\n",
      " |-- city_r: string (nullable = true)\n",
      " |-- email_l: string (nullable = true)\n",
      " |-- email_r: string (nullable = true)\n",
      " |-- l_info: string (nullable = false)\n",
      " |-- r_info: string (nullable = false)\n",
      "\n",
      "root\n",
      " |-- estimated_group: long (nullable = true)\n",
      " |-- unique_id: string (nullable = true)\n",
      "\n"
     ]
    }
   ],
   "source": [
    "edgesinfo.printSchema()\n",
    "ccresults=results.select(\"estimated_group\",\"unique_id\")\n",
    "ccresults.printSchema()"
   ]
  },
  {
   "cell_type": "code",
   "execution_count": 80,
   "metadata": {},
   "outputs": [],
   "source": [
    "import pyspark.sql.functions as f\n",
    "edge_df = edgesinfo.alias('a').join(ccresults.alias('b'),f.col(\"a.unique_id_l\")==f.col(\"b.unique_id\")).drop(\"unique_id\")"
   ]
  },
  {
   "cell_type": "code",
   "execution_count": 81,
   "metadata": {},
   "outputs": [],
   "source": [
    "\n",
    "edge_df = _graphharmoniser(edge_df,\"unique_id_l\",\"unique_id_r\")"
   ]
  },
  {
   "cell_type": "code",
   "execution_count": 82,
   "metadata": {},
   "outputs": [
    {
     "name": "stdout",
     "output_type": "stream",
     "text": [
      "root\n",
      " |-- tf_adjusted_match_prob: double (nullable = true)\n",
      " |-- match_probability: double (nullable = true)\n",
      " |-- surname_l: string (nullable = true)\n",
      " |-- surname_r: string (nullable = true)\n",
      " |-- dob_l: string (nullable = true)\n",
      " |-- dob_r: string (nullable = true)\n",
      " |-- city_l: string (nullable = true)\n",
      " |-- city_r: string (nullable = true)\n",
      " |-- email_l: string (nullable = true)\n",
      " |-- email_r: string (nullable = true)\n",
      " |-- l_info: string (nullable = false)\n",
      " |-- r_info: string (nullable = false)\n",
      " |-- estimated_group: long (nullable = true)\n",
      " |-- unique_id_l: string (nullable = true)\n",
      " |-- unique_id_r: string (nullable = true)\n",
      "\n"
     ]
    }
   ],
   "source": [
    "edge_df.printSchema()"
   ]
  },
  {
   "cell_type": "code",
   "execution_count": 83,
   "metadata": {},
   "outputs": [],
   "source": [
    "edge_df=edge_df.withColumn(\"component\" ,f.col(\"estimated_group\"))\n",
    "edge_df = edge_df.withColumn(\"distance\" ,1.01 - f.col(\"tf_adjusted_match_prob\"))\n"
   ]
  },
  {
   "cell_type": "code",
   "execution_count": 84,
   "metadata": {},
   "outputs": [],
   "source": [
    "\n",
    "sgs = subgraph_stats(edge_df,\"component\", \"tf_adjusted_match_prob\",\n",
    "               src=\"unique_id_l\", dst=\"unique_id_r\")"
   ]
  },
  {
   "cell_type": "code",
   "execution_count": 85,
   "metadata": {},
   "outputs": [
    {
     "name": "stdout",
     "output_type": "stream",
     "text": [
      "+-----------+--------------------+---------+---------+-------+\n",
      "|  component|               nodes|nodecount|edgecount|density|\n",
      "+-----------+--------------------+---------+---------+-------+\n",
      "|          3|[110, 111, 114, 1...|       28|      125|  0.331|\n",
      "|25769803783|[115, 546, 845, 5...|       23|       22|  0.087|\n",
      "| 8589934595|[14, 546, 845, 52...|       22|       21|  0.091|\n",
      "|34359738376|[258, 546, 845, 5...|       21|       20|  0.095|\n",
      "| 8589934605|[259, 546, 845, 5...|       20|       19|    0.1|\n",
      "|         14|[260, 546, 845, 5...|       19|       18|  0.105|\n",
      "|42949672972|[261, 546, 845, 5...|       18|       17|  0.111|\n",
      "|17179869195|[262, 546, 845, 5...|       17|       16|  0.118|\n",
      "|25769803820|[529, 528, 527, 5...|       16|       42|   0.35|\n",
      "| 8589934598|[153, 441, 591, 6...|       16|       15|  0.125|\n",
      "| 8589934600|[184, 182, 181, 1...|       15|       48|  0.457|\n",
      "|25769803812|[442, 441, 444, 4...|       15|       60|  0.571|\n",
      "|17179869214|[499, 623, 583, 6...|       14|       13|  0.143|\n",
      "|25769803784|[117, 398, 141, 7...|       13|       12|  0.154|\n",
      "|34359738407|[546, 544, 998, 8...|       13|       23|  0.295|\n",
      "|17179869215|[500, 623, 583, 6...|       13|       12|  0.154|\n",
      "|17179869187|[183, 184, 288, 7...|       13|       12|  0.154|\n",
      "|17179869190|[200, 625, 952, 5...|       12|       11|  0.167|\n",
      "|          4|[141, 140, 137, 1...|       12|       38|  0.576|\n",
      "|60129542185|[566, 623, 583, 6...|       12|       11|  0.167|\n",
      "| 8589934635|[644, 998, 845, 8...|       11|       10|  0.182|\n",
      "|17179869220|[576, 575, 580, 5...|       11|       40|  0.727|\n",
      "|          7|[165, 168, 170, 1...|       11|       34|  0.618|\n",
      "|17179869192|[229, 233, 230, 6...|       11|       27|  0.491|\n",
      "| 8589934631|[567, 623, 583, 6...|       11|       10|  0.182|\n",
      "|          1|[105, 102, 101, 6...|       11|       26|  0.473|\n",
      "|         16|[288, 744, 533, 8...|       10|        9|    0.2|\n",
      "|34359738410|[583, 587, 585, 6...|       10|       22|  0.489|\n",
      "|42949672971|[220, 816, 223, 8...|       10|        9|    0.2|\n",
      "|         29|[39, 37, 43, 40, ...|       10|       20|  0.444|\n",
      "|25769803826|[588, 592, 591, 8...|       10|       24|  0.533|\n",
      "|34359738417|[645, 998, 845, 8...|       10|        9|    0.2|\n",
      "|25769803815|[482, 744, 533, 8...|        9|        8|  0.222|\n",
      "|25769803805|[38, 40, 39, 858,...|        9|        8|  0.222|\n",
      "| 8589934596|[144, 143, 142, 1...|        9|       26|  0.722|\n",
      "|42949672977|[323, 320, 606, 6...|        9|       15|  0.417|\n",
      "|25769803825|[584, 623, 692, 6...|        9|        8|  0.222|\n",
      "|17179869243|[845, 843, 844, 9...|        9|       21|  0.583|\n",
      "| 8589934603|[222, 816, 223, 8...|        9|        8|  0.222|\n",
      "|         50|[631, 633, 830, 8...|        9|       14|  0.389|\n",
      "|25769803780|[13, 11, 192, 205...|        9|       15|  0.417|\n",
      "|         15|[266, 758, 603, 7...|        9|        8|  0.222|\n",
      "|25769803779|[103, 604, 421, 1...|        9|        8|  0.222|\n",
      "|25769803849|[908, 941, 938, 9...|        8|        7|   0.25|\n",
      "| 8589934612|[355, 356, 353, 3...|        8|       22|  0.786|\n",
      "|51539607569|[299, 398, 753, 4...|        8|        7|   0.25|\n",
      "| 8589934628|[521, 525, 523, 6...|        8|       18|  0.643|\n",
      "|         49|[632, 830, 832, 8...|        8|        7|   0.25|\n",
      "|         35|[483, 484, 744, 5...|        8|       13|  0.464|\n",
      "|42949672992|[461, 758, 603, 7...|        8|        7|   0.25|\n",
      "|25769803796|[274, 31, 277, 62...|        8|        7|   0.25|\n",
      "|51539607561|[223, 816, 806, 8...|        8|        7|   0.25|\n",
      "|          9|[190, 192, 205, 2...|        7|        6|  0.286|\n",
      "|         51|[637, 636, 639, 6...|        7|       20|  0.952|\n",
      "|34359738443|[910, 941, 938, 9...|        7|        6|  0.286|\n",
      "|34359738378|[277, 279, 280, 3...|        7|       15|  0.714|\n",
      "|51539607577|[394, 922, 919, 3...|        7|        6|  0.286|\n",
      "|34359738413|[603, 758, 756, 7...|        7|        6|  0.286|\n",
      "|17179869197|[294, 292, 293, 7...|        7|       10|  0.476|\n",
      "|25769803827|[6, 816, 806, 814...|        7|        6|  0.286|\n",
      "|         17|[300, 495, 493, 9...|        7|        6|  0.286|\n",
      "|25769803806|[40, 858, 855, 86...|        7|        6|  0.286|\n",
      "|25769803829|[614, 612, 681, 6...|        7|       11|  0.524|\n",
      "|          5|[149, 604, 421, 1...|        7|        6|  0.286|\n",
      "|         25|[372, 398, 753, 4...|        7|        6|  0.286|\n",
      "|42949672979|[335, 420, 352, 3...|        7|        6|  0.286|\n",
      "|17179869216|[514, 518, 606, 6...|        7|       11|  0.524|\n",
      "| 8589934616|[398, 401, 400, 4...|        6|       15|    1.0|\n",
      "|17179869196|[293, 787, 294, 7...|        6|        5|  0.333|\n",
      "|17179869242|[835, 841, 837, 8...|        6|        7|  0.467|\n",
      "|         18|[303, 304, 302, 3...|        6|       12|    0.8|\n",
      "|         38|[495, 493, 496, 4...|        6|       15|    1.0|\n",
      "|34359738409|[573, 853, 850, 8...|        6|        5|  0.333|\n",
      "|51539607575|[370, 867, 371, 8...|        6|        5|  0.333|\n",
      "|34359738405|[533, 536, 537, 7...|        6|       12|    0.8|\n",
      "|42949673030|[956, 954, 998, 9...|        6|        8|  0.533|\n",
      "|60129542200|[806, 816, 814, 8...|        6|        5|  0.333|\n",
      "|51539607557|[150, 604, 421, 4...|        6|        5|  0.333|\n",
      "|         72|[941, 938, 940, 9...|        6|       15|    1.0|\n",
      "|         59|[756, 761, 760, 7...|        6|       10|  0.667|\n",
      "|17179869227|[66, 65, 67, 63, ...|        6|       14|  0.933|\n",
      "| 8589934640|[704, 702, 763, 7...|        6|        8|  0.533|\n",
      "|34359738381|[312, 864, 862, 8...|        6|        5|  0.333|\n",
      "|         27|[396, 397, 395, 9...|        6|       12|    0.8|\n",
      "|17179869222|[620, 623, 692, 6...|        6|        5|  0.333|\n",
      "| 8589934602|[21, 917, 914, 91...|        6|        5|  0.333|\n",
      "|17179869184|[122, 121, 119, 6...|        6|       12|    0.8|\n",
      "| 8589934671|[981, 982, 978, 9...|        6|       15|    1.0|\n",
      "|60129542172|[42, 858, 855, 86...|        6|        5|  0.333|\n",
      "|17179869231|[695, 698, 822, 8...|        6|        9|    0.6|\n",
      "|42949672980|[337, 420, 352, 3...|        6|        5|  0.333|\n",
      "|         10|[191, 192, 205, 2...|        6|        5|  0.333|\n",
      "| 8589934634|[634, 830, 832, 8...|        6|        5|  0.333|\n",
      "|         26|[391, 727, 723, 7...|        5|        4|    0.4|\n",
      "|51539607590|[526, 625, 952, 6...|        5|        4|    0.4|\n",
      "|         46|[597, 606, 609, 6...|        5|        4|    0.4|\n",
      "|25769803792|[236, 239, 240, 2...|        5|        4|    0.4|\n",
      "|34359738420|[681, 679, 682, 7...|        5|        7|    0.7|\n",
      "|         61|[800, 802, 798, 7...|        5|       10|    1.0|\n",
      "|         23|[338, 420, 352, 3...|        5|        4|    0.4|\n",
      "|         62|[814, 816, 815, 8...|        5|        4|    0.4|\n",
      "|42949672960|[123, 307, 125, 3...|        5|        4|    0.4|\n",
      "|42949673031|[955, 998, 956, 9...|        5|        4|    0.4|\n",
      "|         13|[244, 248, 245, 2...|        5|       10|    1.0|\n",
      "|51539607609|[703, 704, 763, 7...|        5|        4|    0.4|\n",
      "| 8589934665|[930, 932, 928, 9...|        5|       10|    1.0|\n",
      "|34359738387|[376, 374, 378, 3...|        5|        6|    0.6|\n",
      "|         53|[686, 685, 683, 6...|        5|        7|    0.7|\n",
      "|25769803797|[26, 30, 28, 29, ...|        5|        8|    0.8|\n",
      "|         21|[324, 328, 325, 3...|        5|        4|    0.4|\n",
      "|42949672989|[408, 542, 538, 5...|        5|        4|    0.4|\n",
      "| 8589934658|[853, 854, 848, 8...|        5|        7|    0.7|\n",
      "|25769803833|[643, 84, 79, 81,...|        5|        4|    0.4|\n",
      "| 8589934594|[132, 130, 129, 1...|        5|       10|    1.0|\n",
      "|51539607578|[4, 595, 596, 5, ...|        5|        4|    0.4|\n",
      "|34359738372|[192, 194, 205, 2...|        5|        7|    0.7|\n",
      "|42949672965|[18, 20, 472, 471...|        5|        4|    0.4|\n",
      "|51539607596|[623, 692, 693, 6...|        5|        4|    0.4|\n",
      "|         63|[829, 830, 832, 8...|        5|        4|    0.4|\n",
      "|51539607571|[314, 864, 862, 8...|        5|        4|    0.4|\n",
      "|34359738445|[913, 917, 914, 9...|        5|        4|    0.4|\n",
      "| 8589934620|[421, 425, 424, 4...|        5|       10|    1.0|\n",
      "| 8589934629|[551, 552, 549, 5...|        5|       10|    1.0|\n",
      "|42949672984|[371, 867, 868, 4...|        5|        4|    0.4|\n",
      "|51539607613|[758, 761, 935, 9...|        5|        4|    0.4|\n",
      "|60129542202|[837, 85, 838, 86...|        5|        4|    0.4|\n",
      "|17179869235|[807, 808, 811, 813]|        4|        5|  0.833|\n",
      "|51539607570|[309, 894, 895, 897]|        4|        3|    0.5|\n",
      "|34359738379|[283, 448, 450, 446]|        4|        3|    0.5|\n",
      "|51539607558|[152, 733, 730, 731]|        4|        3|    0.5|\n",
      "| 8589934622|[451, 867, 868, 455]|        4|        3|    0.5|\n",
      "|25769803828|[606, 607, 608, 609]|        4|        6|    1.0|\n",
      "|17179869234|    [79, 81, 82, 84]|        4|        6|    1.0|\n",
      "|         75|[972, 975, 974, 977]|        4|        6|    1.0|\n",
      "| 8589934593|[125, 307, 308, 305]|        4|        3|    0.5|\n",
      "|17179869223|[625, 629, 952, 950]|        4|        5|  0.833|\n",
      "|         60|[780, 781, 779, 782]|        4|        6|    1.0|\n",
      "| 8589934639|[684, 687, 686, 685]|        4|        3|    0.5|\n",
      "| 8589934611|[352, 351, 349, 420]|        4|        6|    1.0|\n",
      "| 8589934617|[399, 568, 470, 466]|        4|        3|    0.5|\n",
      "| 8589934626|  [5, 595, 596, 594]|        4|        3|    0.5|\n",
      "| 8589934615|[364, 366, 365, 369]|        4|        6|    1.0|\n",
      "|34359738435|[850, 853, 854, 992]|        4|        3|    0.5|\n",
      "|17179869201|[378, 375, 376, 380]|        4|        4|  0.667|\n",
      "|         30|[432, 434, 433, 435]|        4|        6|    1.0|\n",
      "|17179869189| [20, 472, 471, 475]|        4|        3|    0.5|\n",
      "|60129542219|[993, 995, 996, 994]|        4|        3|    0.5|\n",
      "|60129542170|[393, 727, 723, 726]|        4|        3|    0.5|\n",
      "| 8589934641|[707, 710, 709, 708]|        4|        3|    0.5|\n",
      "|17179869219| [561, 73, 718, 722]|        4|        3|    0.5|\n",
      "|17179869199|    [31, 32, 34, 62]|        4|        6|    1.0|\n",
      "|17179869230|    [68, 69, 70, 71]|        4|        6|    1.0|\n",
      "|         45|    [51, 53, 54, 56]|        4|        6|    1.0|\n",
      "|         47|[601, 599, 600, 602]|        4|        6|    1.0|\n",
      "|         66|[888, 887, 890, 891]|        4|        6|    1.0|\n",
      "|         39|[502, 504, 503, 507]|        4|        6|    1.0|\n",
      "| 8589934659|[858, 855, 859, 860]|        4|        6|    1.0|\n",
      "|17179869237|[816, 815, 819, 820]|        4|        6|    1.0|\n",
      "|25769803777|[100, 331, 333, 330]|        4|        3|    0.5|\n",
      "|         65|[864, 862, 861, 865]|        4|        6|    1.0|\n",
      "|34359738432|[787, 790, 786, 791]|        4|        6|    1.0|\n",
      "| 8589934624|    [47, 48, 49, 50]|        4|        5|  0.833|\n",
      "|60129542203|  [838, 85, 86, 841]|        4|        3|    0.5|\n",
      "|25769803788|[187, 966, 961, 963]|        4|        3|    0.5|\n",
      "|         22|[325, 326, 327, 328]|        4|        6|    1.0|\n",
      "|         32|[453, 456, 454, 951]|        4|        6|    1.0|\n",
      "|25769803791|[239, 241, 240, 242]|        4|        4|  0.667|\n",
      "|17179869218|[538, 541, 542, 540]|        4|        4|  0.667|\n",
      "|51539607576|[382, 381, 658, 657]|        4|        5|  0.833|\n",
      "|          2|[107, 243, 827, 826]|        4|        3|    0.5|\n",
      "|25769803851|[914, 915, 916, 917]|        4|        6|    1.0|\n",
      "| 8589934653|[822, 824, 823, 825]|        4|        6|    1.0|\n",
      "|34359738384|[342, 343, 345, 344]|        4|        3|    0.5|\n",
      "| 8589934614|[359, 362, 361, 694]|        4|        6|    1.0|\n",
      "| 8589934654|[830, 832, 833, 834]|        4|        6|    1.0|\n",
      "|         54|[692, 691, 690, 693]|        4|        6|    1.0|\n",
      "|25769803841|     [716, 721, 717]|        3|        2|  0.667|\n",
      "|42949673001|     [594, 595, 596]|        3|        2|  0.667|\n",
      "|42949673009|     [744, 872, 878]|        3|        2|  0.667|\n",
      "|34359738426|      [718, 73, 722]|        3|        2|  0.667|\n",
      "| 8589934672|     [985, 990, 987]|        3|        2|  0.667|\n",
      "|25769803834|     [653, 655, 656]|        3|        3|    1.0|\n",
      "|25769803848|       [9, 922, 919]|        3|        2|  0.667|\n",
      "|60129542195|     [745, 880, 879]|        3|        2|  0.667|\n",
      "|51539607563|     [254, 256, 257]|        3|        2|  0.667|\n",
      "|51539607568|       [29, 905, 30]|        3|        2|  0.667|\n",
      "|         52|     [676, 675, 677]|        3|        3|    1.0|\n",
      "| 8589934637|     [650, 648, 651]|        3|        3|    1.0|\n",
      "|         48|     [616, 925, 924]|        3|        2|  0.667|\n",
      "|17179869188|     [198, 196, 272]|        3|        3|    1.0|\n",
      "|25769803840|     [708, 710, 709]|        3|        2|  0.667|\n",
      "|42949673037|     [995, 994, 996]|        3|        3|    1.0|\n",
      "|         42|     [511, 512, 513]|        3|        2|  0.667|\n",
      "|51539607583|     [455, 867, 868]|        3|        2|  0.667|\n",
      "|51539607584|     [470, 466, 568]|        3|        3|    1.0|\n",
      "|         67|     [894, 895, 897]|        3|        3|    1.0|\n",
      "|25769803835|     [669, 670, 671]|        3|        3|    1.0|\n",
      "| 8589934606|     [307, 305, 308]|        3|        3|    1.0|\n",
      "|25769803821|     [540, 542, 541]|        3|        2|  0.667|\n",
      "|         20|     [315, 319, 317]|        3|        2|  0.667|\n",
      "| 8589934623|     [472, 471, 475]|        3|        3|    1.0|\n",
      "|17179869233|     [763, 762, 764]|        3|        3|    1.0|\n",
      "|25769803837|       [682, 77, 78]|        3|        2|  0.667|\n",
      "|34359738390|     [386, 385, 387]|        3|        3|    1.0|\n",
      "|25769803801|     [330, 331, 333]|        3|        2|  0.667|\n",
      "|25769803854|     [997, 998, 999]|        3|        2|  0.667|\n",
      "|17179869185|     [161, 159, 163]|        3|        3|    1.0|\n",
      "|51539607573|     [343, 345, 344]|        3|        2|  0.667|\n",
      "| 8589934669|     [961, 963, 966]|        3|        3|    1.0|\n",
      "|51539607617|     [805, 969, 967]|        3|        2|  0.667|\n",
      "|60129542164|     [311, 659, 660]|        3|        2|  0.667|\n",
      "|60129542171|       [407, 89, 88]|        3|        2|  0.667|\n",
      "| 8589934601|     [205, 204, 206]|        3|        3|    1.0|\n",
      "|25769803793|     [243, 827, 826]|        3|        2|  0.667|\n",
      "|         12|     [226, 227, 228]|        3|        3|    1.0|\n",
      "|25769803807|     [414, 477, 480]|        3|        2|  0.667|\n",
      "|         56|     [723, 726, 727]|        3|        3|    1.0|\n",
      "|42949673024|     [900, 903, 901]|        3|        2|  0.667|\n",
      "|25769803790|     [240, 242, 241]|        3|        2|  0.667|\n",
      "|25769803776|           [0, 3, 1]|        3|        2|  0.667|\n",
      "| 8589934621|     [448, 446, 450]|        3|        3|    1.0|\n",
      "|25769803789|     [214, 215, 216]|        3|        2|  0.667|\n",
      "|17179869204|     [429, 428, 430]|        3|        3|    1.0|\n",
      "|42949673007|      [739, 870, 92]|        3|        2|  0.667|\n",
      "|25769803795|     [268, 610, 271]|        3|        2|  0.667|\n",
      "|         37|     [485, 486, 487]|        3|        2|  0.667|\n",
      "|60129542193|     [730, 733, 731]|        3|        2|  0.667|\n",
      "|         58|          [731, 733]|        2|        1|    1.0|\n",
      "|34359738441|          [879, 880]|        2|        1|    1.0|\n",
      "| 8589934643|          [717, 721]|        2|        1|    1.0|\n",
      "|42949673032|          [958, 959]|        2|        1|    1.0|\n",
      "| 8589934627|          [512, 513]|        2|        1|    1.0|\n",
      "| 8589934662|            [88, 89]|        2|        1|    1.0|\n",
      "| 8589934668|          [944, 945]|        2|        1|    1.0|\n",
      "|51539607564|          [271, 610]|        2|        1|    1.0|\n",
      "|60129542154|          [232, 957]|        2|        1|    1.0|\n",
      "|42949673006|           [722, 73]|        2|        1|    1.0|\n",
      "| 8589934647|          [774, 778]|        2|        1|    1.0|\n",
      "|51539607614|          [765, 766]|        2|        1|    1.0|\n",
      "|17179869228|          [659, 660]|        2|        1|    1.0|\n",
      "| 8589934673|          [987, 990]|        2|        1|    1.0|\n",
      "|17179869208|          [477, 480]|        2|        1|    1.0|\n",
      "|17179869254|          [950, 952]|        2|        1|    1.0|\n",
      "|51539607611|          [743, 991]|        2|        1|    1.0|\n",
      "|         28|          [409, 411]|        2|        1|    1.0|\n",
      "|         33|          [467, 468]|        2|        1|    1.0|\n",
      "|51539607619|          [811, 813]|        2|        1|    1.0|\n",
      "|         69|          [919, 922]|        2|        1|    1.0|\n",
      "|17179869209|          [478, 884]|        2|        1|    1.0|\n",
      "| 8589934599|          [177, 178]|        2|        1|    1.0|\n",
      "|34359738374|          [234, 235]|        2|        1|    1.0|\n",
      "| 8589934638|          [665, 666]|        2|        1|    1.0|\n",
      "|25769803802|          [350, 831]|        2|        1|    1.0|\n",
      "| 8589934648|          [776, 777]|        2|        1|    1.0|\n",
      "|          0|              [1, 3]|        2|        1|    1.0|\n",
      "|          6|          [157, 158]|        2|        1|    1.0|\n",
      "|34359738439|          [867, 868]|        2|        1|    1.0|\n",
      "|34359738396|          [440, 443]|        2|        1|    1.0|\n",
      "|42949672969|          [215, 216]|        2|        1|    1.0|\n",
      "|17179869206|          [473, 474]|        2|        1|    1.0|\n",
      "|34359738377|          [267, 757]|        2|        1|    1.0|\n",
      "|         11|          [210, 211]|        2|        1|    1.0|\n",
      "|         43|          [554, 556]|        2|        1|    1.0|\n",
      "|         74|          [967, 969]|        2|        1|    1.0|\n",
      "| 8589934666|            [91, 93]|        2|        1|    1.0|\n",
      "|42949673021|          [874, 875]|        2|        1|    1.0|\n",
      "|34359738412|          [595, 596]|        2|        1|    1.0|\n",
      "|42949672997|          [558, 559]|        2|        1|    1.0|\n",
      "|         64|            [85, 86]|        2|        1|    1.0|\n",
      "| 8589934636|          [646, 647]|        2|        1|    1.0|\n",
      "|17179869248|          [872, 878]|        2|        1|    1.0|\n",
      "|34359738373|          [221, 225]|        2|        1|    1.0|\n",
      "|17179869210|          [490, 491]|        2|        1|    1.0|\n",
      "|17179869247|           [870, 92]|        2|        1|    1.0|\n",
      "|25769803838|          [696, 701]|        2|        1|    1.0|\n",
      "| 8589934607|          [317, 319]|        2|        1|    1.0|\n",
      "| 8589934642|          [709, 710]|        2|        1|    1.0|\n",
      "|51539607567|          [286, 287]|        2|        1|    1.0|\n",
      "|         68|          [899, 904]|        2|        1|    1.0|\n",
      "|25769803794|          [256, 257]|        2|        1|    1.0|\n",
      "|51539607625|          [901, 903]|        2|        1|    1.0|\n",
      "| 8589934646|            [77, 78]|        2|        1|    1.0|\n",
      "| 8589934657|          [846, 847]|        2|        1|    1.0|\n",
      "|25769803808|          [417, 419]|        2|        1|    1.0|\n",
      "|34359738454|          [998, 999]|        2|        1|    1.0|\n",
      "|         36|          [486, 487]|        2|        1|    1.0|\n",
      "|42949673019|          [826, 827]|        2|        1|    1.0|\n",
      "|         71|          [935, 936]|        2|        1|    1.0|\n",
      "|34359738419|          [674, 759]|        2|        1|    1.0|\n",
      "|         24|          [339, 340]|        2|        1|    1.0|\n",
      "|34359738404|          [534, 535]|        2|        1|    1.0|\n",
      "|17179869225|          [657, 658]|        2|        1|    1.0|\n",
      "|34359738447|          [924, 925]|        2|        1|    1.0|\n",
      "|17179869249|          [911, 912]|        2|        1|    1.0|\n",
      "|42949673010|          [747, 749]|        2|        1|    1.0|\n",
      "|60129542210|          [882, 883]|        2|        1|    1.0|\n",
      "|34359738449|          [947, 949]|        2|        1|    1.0|\n",
      "|34359738392|          [415, 418]|        2|        1|    1.0|\n",
      "|42949672978|          [331, 333]|        2|        1|    1.0|\n",
      "|17179869186|          [172, 174]|        2|        1|    1.0|\n",
      "|51539607588|            [49, 50]|        2|        1|    1.0|\n",
      "|         31|            [44, 45]|        2|        1|    1.0|\n",
      "|42949673008|          [740, 742]|        2|        1|    1.0|\n",
      "|42949672973|          [278, 796]|        2|        1|    1.0|\n",
      "| 8589934609|          [344, 345]|        2|        1|    1.0|\n",
      "+-----------+--------------------+---------+---------+-------+\n",
      "\n"
     ]
    }
   ],
   "source": [
    "sgs.sort(sgs.nodecount.desc()).show(1000)"
   ]
  },
  {
   "cell_type": "code",
   "execution_count": 86,
   "metadata": {},
   "outputs": [],
   "source": [
    "from splink_graph.vectorised import diameter_radius_transitivity"
   ]
  },
  {
   "cell_type": "code",
   "execution_count": 87,
   "metadata": {},
   "outputs": [],
   "source": [
    "drt = diameter_radius_transitivity(edge_df,\"unique_id_l\", \"unique_id_r\")\n"
   ]
  },
  {
   "cell_type": "code",
   "execution_count": 88,
   "metadata": {},
   "outputs": [
    {
     "name": "stdout",
     "output_type": "stream",
     "text": [
      "+-----------+--------+------+------------+--------------+-------------+--------------------+\n",
      "|  component|diameter|radius|transitivity|tri_clustcoeff|sq_clustcoeff|           graphhash|\n",
      "+-----------+--------+------+------------+--------------+-------------+--------------------+\n",
      "| 8589934671|       1|     1|         1.0|           1.0|          1.0|7befbc1a93e06d1ba...|\n",
      "|         45|       1|     1|         1.0|           1.0|          1.0|faa092922b6078a79...|\n",
      "| 8589934616|       1|     1|         1.0|           1.0|          1.0|7befbc1a93e06d1ba...|\n",
      "|17179869234|       1|     1|         1.0|           1.0|          1.0|faa092922b6078a79...|\n",
      "|25769803828|       1|     1|         1.0|           1.0|          1.0|faa092922b6078a79...|\n",
      "|         47|       1|     1|         1.0|           1.0|          1.0|faa092922b6078a79...|\n",
      "| 8589934659|       1|     1|         1.0|           1.0|          1.0|faa092922b6078a79...|\n",
      "|17179869188|       1|     1|         1.0|           1.0|          0.0|7d2c307dbd866960f...|\n",
      "|         56|       1|     1|         1.0|           1.0|          0.0|7d2c307dbd866960f...|\n",
      "|17179869199|       1|     1|         1.0|           1.0|          1.0|faa092922b6078a79...|\n",
      "|17179869230|       1|     1|         1.0|           1.0|          1.0|faa092922b6078a79...|\n",
      "| 8589934669|       1|     1|         1.0|           1.0|          0.0|7d2c307dbd866960f...|\n",
      "|         52|       1|     1|         1.0|           1.0|          0.0|7d2c307dbd866960f...|\n",
      "|         54|       1|     1|         1.0|           1.0|          1.0|faa092922b6078a79...|\n",
      "| 8589934620|       1|     1|         1.0|           1.0|          1.0|b0df24c18b6c07ad0...|\n",
      "| 8589934629|       1|     1|         1.0|           1.0|          1.0|b0df24c18b6c07ad0...|\n",
      "|25769803851|       1|     1|         1.0|           1.0|          1.0|faa092922b6078a79...|\n",
      "|17179869185|       1|     1|         1.0|           1.0|          0.0|7d2c307dbd866960f...|\n",
      "|34359738390|       1|     1|         1.0|           1.0|          0.0|7d2c307dbd866960f...|\n",
      "|         61|       1|     1|         1.0|           1.0|          1.0|b0df24c18b6c07ad0...|\n",
      "|17179869204|       1|     1|         1.0|           1.0|          0.0|7d2c307dbd866960f...|\n",
      "| 8589934594|       1|     1|         1.0|           1.0|          1.0|b0df24c18b6c07ad0...|\n",
      "| 8589934611|       1|     1|         1.0|           1.0|          1.0|faa092922b6078a79...|\n",
      "| 8589934623|       1|     1|         1.0|           1.0|          0.0|7d2c307dbd866960f...|\n",
      "| 8589934654|       1|     1|         1.0|           1.0|          1.0|faa092922b6078a79...|\n",
      "|17179869233|       1|     1|         1.0|           1.0|          0.0|7d2c307dbd866960f...|\n",
      "| 8589934606|       1|     1|         1.0|           1.0|          0.0|7d2c307dbd866960f...|\n",
      "|         13|       1|     1|         1.0|           1.0|          1.0|b0df24c18b6c07ad0...|\n",
      "|         38|       1|     1|         1.0|           1.0|          1.0|7befbc1a93e06d1ba...|\n",
      "| 8589934621|       1|     1|         1.0|           1.0|          0.0|7d2c307dbd866960f...|\n",
      "|42949673037|       1|     1|         1.0|           1.0|          0.0|7d2c307dbd866960f...|\n",
      "|         72|       1|     1|         1.0|           1.0|          1.0|7befbc1a93e06d1ba...|\n",
      "|         65|       1|     1|         1.0|           1.0|          1.0|faa092922b6078a79...|\n",
      "|51539607584|       1|     1|         1.0|           1.0|          0.0|7d2c307dbd866960f...|\n",
      "|         66|       1|     1|         1.0|           1.0|          1.0|faa092922b6078a79...|\n",
      "|25769803835|       1|     1|         1.0|           1.0|          0.0|7d2c307dbd866960f...|\n",
      "|         22|       1|     1|         1.0|           1.0|          1.0|faa092922b6078a79...|\n",
      "|         32|       1|     1|         1.0|           1.0|          1.0|faa092922b6078a79...|\n",
      "| 8589934615|       1|     1|         1.0|           1.0|          1.0|faa092922b6078a79...|\n",
      "|         75|       1|     1|         1.0|           1.0|          1.0|faa092922b6078a79...|\n",
      "| 8589934637|       1|     1|         1.0|           1.0|          0.0|7d2c307dbd866960f...|\n",
      "|34359738432|       1|     1|         1.0|           1.0|          1.0|faa092922b6078a79...|\n",
      "| 8589934601|       1|     1|         1.0|           1.0|          0.0|7d2c307dbd866960f...|\n",
      "|         60|       1|     1|         1.0|           1.0|          1.0|faa092922b6078a79...|\n",
      "|25769803834|       1|     1|         1.0|           1.0|          0.0|7d2c307dbd866960f...|\n",
      "| 8589934653|       1|     1|         1.0|           1.0|          1.0|faa092922b6078a79...|\n",
      "|         39|       1|     1|         1.0|           1.0|          1.0|faa092922b6078a79...|\n",
      "|         67|       1|     1|         1.0|           1.0|          0.0|7d2c307dbd866960f...|\n",
      "|         12|       1|     1|         1.0|           1.0|          0.0|7d2c307dbd866960f...|\n",
      "| 8589934614|       1|     1|         1.0|           1.0|          1.0|faa092922b6078a79...|\n",
      "|17179869237|       1|     1|         1.0|           1.0|          1.0|faa092922b6078a79...|\n",
      "|         30|       1|     1|         1.0|           1.0|          1.0|faa092922b6078a79...|\n",
      "| 8589934665|       1|     1|         1.0|           1.0|          1.0|b0df24c18b6c07ad0...|\n",
      "|         51|       2|     1|       0.947|         0.952|          1.0|10fadd1e1c9ab6c22...|\n",
      "|17179869227|       2|     1|       0.923|         0.933|          1.0|e6216e307d2520d5f...|\n",
      "|         53|       2|     1|         0.8|           0.7|          0.8|0c6b3b7d16414b33f...|\n",
      "| 8589934658|       2|     1|         0.8|           0.7|          0.8|0c6b3b7d16414b33f...|\n",
      "|25769803797|       2|     1|       0.789|         0.867|          1.0|0d5397367d5798925...|\n",
      "| 8589934612|       2|     1|       0.778|         0.857|          1.0|f0d2dee88390f7b79...|\n",
      "|         27|       2|     1|       0.769|          0.85|          1.0|617b27a63be9c9e4c...|\n",
      "|34359738405|       2|     1|       0.769|          0.85|          1.0|617b27a63be9c9e4c...|\n",
      "|         18|       2|     1|       0.769|          0.85|          1.0|617b27a63be9c9e4c...|\n",
      "|17179869184|       2|     1|       0.769|          0.85|          1.0|617b27a63be9c9e4c...|\n",
      "|         59|       2|     1|        0.75|         0.694|        0.833|fd7b942801eab9c07...|\n",
      "|51539607576|       2|     1|        0.75|         0.833|          1.0|ae74c38ca2f4f8315...|\n",
      "|17179869223|       2|     1|        0.75|         0.833|          1.0|ae74c38ca2f4f8315...|\n",
      "|17179869235|       2|     1|        0.75|         0.833|          1.0|ae74c38ca2f4f8315...|\n",
      "| 8589934624|       2|     1|        0.75|         0.833|          1.0|ae74c38ca2f4f8315...|\n",
      "|17179869220|       2|     1|       0.737|         0.848|          1.0|814fd6491e62cfd95...|\n",
      "| 8589934596|       2|     1|       0.718|         0.841|          1.0|142a012e019943e2b...|\n",
      "|34359738378|       2|     1|       0.684|         0.829|          1.0|1b20a87939bdb070e...|\n",
      "|          7|       2|     1|       0.622|          0.83|          1.0|266df7f3741e1bc80...|\n",
      "| 8589934628|       2|     1|       0.615|         0.821|          1.0|3bfefb903a8255bd7...|\n",
      "|17179869218|       2|     1|         0.6|         0.583|          0.0|0db442538bb6dc81d...|\n",
      "|17179869201|       2|     1|         0.6|         0.583|          0.0|0db442538bb6dc81d...|\n",
      "|34359738372|       2|     1|         0.6|           0.8|          1.0|4afb3964482c6dc21...|\n",
      "|34359738420|       2|     1|         0.6|           0.8|          1.0|4afb3964482c6dc21...|\n",
      "|25769803791|       2|     1|         0.6|         0.583|          0.0|0db442538bb6dc81d...|\n",
      "|25769803812|       2|     1|       0.595|         0.835|          1.0|35e7736b330516c10...|\n",
      "|          4|       2|     1|       0.582|          0.83|          1.0|1dbb9ba945be98844...|\n",
      "|17179869243|       2|     1|       0.559|         0.821|          1.0|faebc76801aebb1c2...|\n",
      "|34359738387|       2|     1|       0.545|           0.6|          0.8|b7d2de8fbe2bf8de6...|\n",
      "|34359738410|       2|     1|       0.518|         0.729|          0.9|832d2c779083846e6...|\n",
      "|25769803826|       2|     1|       0.512|         0.825|          1.0|c9c15712c4447b166...|\n",
      "|17179869231|       2|     1|         0.5|           0.8|          1.0|d3ae5b827d65484e8...|\n",
      "| 8589934600|       2|     1|       0.489|          0.84|          1.0|4b8e9152b1670e620...|\n",
      "|         29|       2|     1|       0.484|          0.73|          0.9|7a3cb2869ccb010f0...|\n",
      "|42949673030|       2|     1|       0.474|         0.633|        0.833|d1e4fb20bbef95a7c...|\n",
      "| 8589934640|       2|     1|       0.474|         0.633|        0.833|d1e4fb20bbef95a7c...|\n",
      "|17179869192|       2|     1|       0.472|          0.83|          1.0|d02956e0894810363...|\n",
      "|          1|       2|     1|       0.466|          0.83|          1.0|21d3663e77b1240fa...|\n",
      "|25769803829|       2|     1|       0.429|          0.81|          1.0|73404bfaec40a29da...|\n",
      "|17179869216|       2|     1|       0.429|          0.81|          1.0|73404bfaec40a29da...|\n",
      "|17179869197|       2|     1|       0.414|         0.667|        0.857|563977067cb3597a1...|\n",
      "|17179869242|       2|     1|         0.4|         0.478|        0.667|bd90aa0d306409dc9...|\n",
      "|         35|       2|     1|       0.375|         0.821|          1.0|12fa5d82d662c5c4a...|\n",
      "|          3|       2|     1|       0.363|         0.871|          1.0|5275790a7352ea907...|\n",
      "|25769803820|       2|     1|       0.339|         0.861|          1.0|6b04a2a91f3774858...|\n",
      "|42949672977|       2|     1|       0.333|         0.833|          1.0|2c9d2efbc10596f86...|\n",
      "|25769803780|       2|     1|       0.333|         0.833|          1.0|2c9d2efbc10596f86...|\n",
      "|         50|       2|     1|       0.327|         0.722|        0.889|bd8aa380863bb666c...|\n",
      "|34359738407|       2|     1|       0.231|         0.872|          1.0|5a678907265602f1f...|\n",
      "|         20|       2|     1|         0.0|           0.0|          0.0|0f43d8cdd43b0b787...|\n",
      "|         21|       2|     1|         0.0|           0.0|          0.0|97181c87a84cb6c70...|\n",
      "| 8589934593|       2|     1|         0.0|           0.0|          0.0|5b6a1a47075309676...|\n",
      "|17179869196|       2|     1|         0.0|           0.0|          0.0|80a317e826601bdf0...|\n",
      "|         58|       1|     1|         0.0|           0.0|          0.0|2148f1da1ac29711e...|\n",
      "| 8589934631|       2|     1|         0.0|           0.0|          0.0|40e2f0d4aef6fe6ef...|\n",
      "| 8589934643|       1|     1|         0.0|           0.0|          0.0|2148f1da1ac29711e...|\n",
      "|17179869208|       1|     1|         0.0|           0.0|          0.0|2148f1da1ac29711e...|\n",
      "|25769803805|       2|     1|         0.0|           0.0|          0.0|396403360d038ffae...|\n",
      "|25769803827|       2|     1|         0.0|           0.0|          0.0|3cc14d942ce3e1ca7...|\n",
      "|25769803841|       2|     1|         0.0|           0.0|          0.0|0f43d8cdd43b0b787...|\n",
      "|34359738439|       1|     1|         0.0|           0.0|          0.0|2148f1da1ac29711e...|\n",
      "|42949672979|       2|     1|         0.0|           0.0|          0.0|3cc14d942ce3e1ca7...|\n",
      "|51539607564|       1|     1|         0.0|           0.0|          0.0|2148f1da1ac29711e...|\n",
      "| 8589934668|       1|     1|         0.0|           0.0|          0.0|2148f1da1ac29711e...|\n",
      "|60129542170|       2|     1|         0.0|           0.0|          0.0|5b6a1a47075309676...|\n",
      "|60129542195|       2|     1|         0.0|           0.0|          0.0|0f43d8cdd43b0b787...|\n",
      "|60129542202|       2|     1|         0.0|           0.0|          0.0|97181c87a84cb6c70...|\n",
      "|25769803821|       2|     1|         0.0|           0.0|          0.0|0f43d8cdd43b0b787...|\n",
      "|         64|       1|     1|         0.0|           0.0|          0.0|2148f1da1ac29711e...|\n",
      "|25769803833|       2|     1|         0.0|           0.0|          0.0|97181c87a84cb6c70...|\n",
      "|34359738447|       1|     1|         0.0|           0.0|          0.0|2148f1da1ac29711e...|\n",
      "|25769803849|       2|     1|         0.0|           0.0|          0.0|a63bc051387f5baf6...|\n",
      "|25769803825|       2|     1|         0.0|           0.0|          0.0|396403360d038ffae...|\n",
      "|34359738441|       1|     1|         0.0|           0.0|          0.0|2148f1da1ac29711e...|\n",
      "|42949673010|       1|     1|         0.0|           0.0|          0.0|2148f1da1ac29711e...|\n",
      "|42949673032|       1|     1|         0.0|           0.0|          0.0|2148f1da1ac29711e...|\n",
      "|          0|       1|     1|         0.0|           0.0|          0.0|2148f1da1ac29711e...|\n",
      "|51539607596|       2|     1|         0.0|           0.0|          0.0|97181c87a84cb6c70...|\n",
      "|51539607611|       1|     1|         0.0|           0.0|          0.0|2148f1da1ac29711e...|\n",
      "|60129542154|       1|     1|         0.0|           0.0|          0.0|2148f1da1ac29711e...|\n",
      "|42949673009|       2|     1|         0.0|           0.0|          0.0|0f43d8cdd43b0b787...|\n",
      "|60129542172|       2|     1|         0.0|           0.0|          0.0|80a317e826601bdf0...|\n",
      "|17179869254|       1|     1|         0.0|           0.0|          0.0|2148f1da1ac29711e...|\n",
      "|60129542200|       2|     1|         0.0|           0.0|          0.0|80a317e826601bdf0...|\n",
      "|          5|       2|     1|         0.0|           0.0|          0.0|3cc14d942ce3e1ca7...|\n",
      "|         16|       2|     1|         0.0|           0.0|          0.0|235d3c6d6788b8177...|\n",
      "|         46|       2|     1|         0.0|           0.0|          0.0|97181c87a84cb6c70...|\n",
      "|         24|       1|     1|         0.0|           0.0|          0.0|2148f1da1ac29711e...|\n",
      "| 8589934646|       1|     1|         0.0|           0.0|          0.0|2148f1da1ac29711e...|\n",
      "|17179869225|       1|     1|         0.0|           0.0|          0.0|2148f1da1ac29711e...|\n",
      "|25769803790|       2|     1|         0.0|           0.0|          0.0|0f43d8cdd43b0b787...|\n",
      "|34359738374|       1|     1|         0.0|           0.0|          0.0|2148f1da1ac29711e...|\n",
      "|51539607609|       2|     1|         0.0|           0.0|          0.0|97181c87a84cb6c70...|\n",
      "| 8589934636|       1|     1|         0.0|           0.0|          0.0|2148f1da1ac29711e...|\n",
      "|17179869248|       1|     1|         0.0|           0.0|          0.0|2148f1da1ac29711e...|\n",
      "|17179869249|       1|     1|         0.0|           0.0|          0.0|2148f1da1ac29711e...|\n",
      "|34359738379|       2|     1|         0.0|           0.0|          0.0|5b6a1a47075309676...|\n",
      "|25769803848|       2|     1|         0.0|           0.0|          0.0|0f43d8cdd43b0b787...|\n",
      "|34359738376|       2|     1|         0.0|           0.0|          0.0|3a8ab31c3265dece6...|\n",
      "|34359738404|       1|     1|         0.0|           0.0|          0.0|2148f1da1ac29711e...|\n",
      "|51539607575|       2|     1|         0.0|           0.0|          0.0|80a317e826601bdf0...|\n",
      "|51539607557|       2|     1|         0.0|           0.0|          0.0|80a317e826601bdf0...|\n",
      "|60129542164|       2|     1|         0.0|           0.0|          0.0|0f43d8cdd43b0b787...|\n",
      "| 8589934638|       1|     1|         0.0|           0.0|          0.0|2148f1da1ac29711e...|\n",
      "| 8589934607|       1|     1|         0.0|           0.0|          0.0|2148f1da1ac29711e...|\n",
      "|          6|       1|     1|         0.0|           0.0|          0.0|2148f1da1ac29711e...|\n",
      "| 8589934642|       1|     1|         0.0|           0.0|          0.0|2148f1da1ac29711e...|\n",
      "|25769803788|       2|     1|         0.0|           0.0|          0.0|5b6a1a47075309676...|\n",
      "| 8589934634|       2|     1|         0.0|           0.0|          0.0|80a317e826601bdf0...|\n",
      "|17179869189|       2|     1|         0.0|           0.0|          0.0|5b6a1a47075309676...|\n",
      "|25769803794|       1|     1|         0.0|           0.0|          0.0|2148f1da1ac29711e...|\n",
      "|34359738373|       1|     1|         0.0|           0.0|          0.0|2148f1da1ac29711e...|\n",
      "|42949673031|       2|     1|         0.0|           0.0|          0.0|97181c87a84cb6c70...|\n",
      "| 8589934635|       2|     1|         0.0|           0.0|          0.0|40e2f0d4aef6fe6ef...|\n",
      "|51539607614|       1|     1|         0.0|           0.0|          0.0|2148f1da1ac29711e...|\n",
      "|34359738413|       2|     1|         0.0|           0.0|          0.0|3cc14d942ce3e1ca7...|\n",
      "| 8589934639|       2|     1|         0.0|           0.0|          0.0|5b6a1a47075309676...|\n",
      "|25769803801|       2|     1|         0.0|           0.0|          0.0|0f43d8cdd43b0b787...|\n",
      "|34359738417|       2|     1|         0.0|           0.0|          0.0|235d3c6d6788b8177...|\n",
      "|51539607570|       2|     1|         0.0|           0.0|          0.0|5b6a1a47075309676...|\n",
      "| 8589934603|       2|     1|         0.0|           0.0|          0.0|396403360d038ffae...|\n",
      "|         15|       2|     1|         0.0|           0.0|          0.0|396403360d038ffae...|\n",
      "|         23|       2|     1|         0.0|           0.0|          0.0|97181c87a84cb6c70...|\n",
      "| 8589934609|       1|     1|         0.0|           0.0|          0.0|2148f1da1ac29711e...|\n",
      "|17179869206|       1|     1|         0.0|           0.0|          0.0|2148f1da1ac29711e...|\n",
      "|         25|       2|     1|         0.0|           0.0|          0.0|3cc14d942ce3e1ca7...|\n",
      "|         31|       1|     1|         0.0|           0.0|          0.0|2148f1da1ac29711e...|\n",
      "| 8589934622|       2|     1|         0.0|           0.0|          0.0|5b6a1a47075309676...|\n",
      "|25769803779|       2|     1|         0.0|           0.0|          0.0|396403360d038ffae...|\n",
      "|25769803795|       2|     1|         0.0|           0.0|          0.0|0f43d8cdd43b0b787...|\n",
      "|25769803808|       1|     1|         0.0|           0.0|          0.0|2148f1da1ac29711e...|\n",
      "|34359738384|       2|     1|         0.0|           0.0|          0.0|5b6a1a47075309676...|\n",
      "|34359738445|       2|     1|         0.0|           0.0|          0.0|97181c87a84cb6c70...|\n",
      "|         62|       2|     1|         0.0|           0.0|          0.0|97181c87a84cb6c70...|\n",
      "|51539607571|       2|     1|         0.0|           0.0|          0.0|97181c87a84cb6c70...|\n",
      "|51539607617|       2|     1|         0.0|           0.0|          0.0|0f43d8cdd43b0b787...|\n",
      "| 8589934657|       1|     1|         0.0|           0.0|          0.0|2148f1da1ac29711e...|\n",
      "|60129542193|       2|     1|         0.0|           0.0|          0.0|0f43d8cdd43b0b787...|\n",
      "|         14|       2|     1|         0.0|           0.0|          0.0|100618ea4ff35eb55...|\n",
      "|         17|       2|     1|         0.0|           0.0|          0.0|3cc14d942ce3e1ca7...|\n",
      "|25769803796|       2|     1|         0.0|           0.0|          0.0|a63bc051387f5baf6...|\n",
      "|25769803789|       2|     1|         0.0|           0.0|          0.0|0f43d8cdd43b0b787...|\n",
      "|34359738449|       1|     1|         0.0|           0.0|          0.0|2148f1da1ac29711e...|\n",
      "| 8589934648|       1|     1|         0.0|           0.0|          0.0|2148f1da1ac29711e...|\n",
      "|34359738435|       2|     1|         0.0|           0.0|          0.0|5b6a1a47075309676...|\n",
      "|25769803854|       2|     1|         0.0|           0.0|          0.0|0f43d8cdd43b0b787...|\n",
      "|34359738454|       1|     1|         0.0|           0.0|          0.0|2148f1da1ac29711e...|\n",
      "|42949673008|       1|     1|         0.0|           0.0|          0.0|2148f1da1ac29711e...|\n",
      "|51539607558|       2|     1|         0.0|           0.0|          0.0|5b6a1a47075309676...|\n",
      "|17179869222|       2|     1|         0.0|           0.0|          0.0|80a317e826601bdf0...|\n",
      "|25769803837|       2|     1|         0.0|           0.0|          0.0|0f43d8cdd43b0b787...|\n",
      "|51539607613|       2|     1|         0.0|           0.0|          0.0|97181c87a84cb6c70...|\n",
      "|34359738392|       1|     1|         0.0|           0.0|          0.0|2148f1da1ac29711e...|\n",
      "|60129542171|       2|     1|         0.0|           0.0|          0.0|0f43d8cdd43b0b787...|\n",
      "|60129542185|       2|     1|         0.0|           0.0|          0.0|0c805e848b7946de1...|\n",
      "|51539607563|       2|     1|         0.0|           0.0|          0.0|0f43d8cdd43b0b787...|\n",
      "|          9|       2|     1|         0.0|           0.0|          0.0|3cc14d942ce3e1ca7...|\n",
      "|         11|       1|     1|         0.0|           0.0|          0.0|2148f1da1ac29711e...|\n",
      "|         36|       1|     1|         0.0|           0.0|          0.0|2148f1da1ac29711e...|\n",
      "| 8589934626|       2|     1|         0.0|           0.0|          0.0|5b6a1a47075309676...|\n",
      "|34359738443|       2|     1|         0.0|           0.0|          0.0|3cc14d942ce3e1ca7...|\n",
      "|         10|       2|     1|         0.0|           0.0|          0.0|80a317e826601bdf0...|\n",
      "|         37|       2|     1|         0.0|           0.0|          0.0|0f43d8cdd43b0b787...|\n",
      "|42949672980|       2|     1|         0.0|           0.0|          0.0|80a317e826601bdf0...|\n",
      "|42949672971|       2|     1|         0.0|           0.0|          0.0|235d3c6d6788b8177...|\n",
      "|17179869186|       1|     1|         0.0|           0.0|          0.0|2148f1da1ac29711e...|\n",
      "|51539607590|       2|     1|         0.0|           0.0|          0.0|97181c87a84cb6c70...|\n",
      "|17179869215|       2|     1|         0.0|           0.0|          0.0|0b2ea0d3ac8492384...|\n",
      "|34359738396|       1|     1|         0.0|           0.0|          0.0|2148f1da1ac29711e...|\n",
      "|         68|       1|     1|         0.0|           0.0|          0.0|2148f1da1ac29711e...|\n",
      "|42949673001|       2|     1|         0.0|           0.0|          0.0|0f43d8cdd43b0b787...|\n",
      "|42949673006|       1|     1|         0.0|           0.0|          0.0|2148f1da1ac29711e...|\n",
      "|51539607569|       2|     1|         0.0|           0.0|          0.0|a63bc051387f5baf6...|\n",
      "|51539607588|       1|     1|         0.0|           0.0|          0.0|2148f1da1ac29711e...|\n",
      "|          2|       2|     1|         0.0|           0.0|          0.0|5b6a1a47075309676...|\n",
      "|17179869195|       2|     1|         0.0|           0.0|          0.0|b3376699f9f8d467a...|\n",
      "|         28|       1|     1|         0.0|           0.0|          0.0|2148f1da1ac29711e...|\n",
      "|17179869187|       2|     1|         0.0|           0.0|          0.0|0b2ea0d3ac8492384...|\n",
      "|25769803776|       2|     1|         0.0|           0.0|          0.0|0f43d8cdd43b0b787...|\n",
      "|         48|       2|     1|         0.0|           0.0|          0.0|0f43d8cdd43b0b787...|\n",
      "| 8589934647|       1|     1|         0.0|           0.0|          0.0|2148f1da1ac29711e...|\n",
      "|17179869209|       1|     1|         0.0|           0.0|          0.0|2148f1da1ac29711e...|\n",
      "|42949672960|       2|     1|         0.0|           0.0|          0.0|97181c87a84cb6c70...|\n",
      "|42949672969|       1|     1|         0.0|           0.0|          0.0|2148f1da1ac29711e...|\n",
      "|42949673019|       1|     1|         0.0|           0.0|          0.0|2148f1da1ac29711e...|\n",
      "|51539607561|       2|     1|         0.0|           0.0|          0.0|a63bc051387f5baf6...|\n",
      "|51539607567|       1|     1|         0.0|           0.0|          0.0|2148f1da1ac29711e...|\n",
      "|51539607568|       2|     1|         0.0|           0.0|          0.0|0f43d8cdd43b0b787...|\n",
      "|34359738377|       1|     1|         0.0|           0.0|          0.0|2148f1da1ac29711e...|\n",
      "|60129542219|       2|     1|         0.0|           0.0|          0.0|5b6a1a47075309676...|\n",
      "|         71|       1|     1|         0.0|           0.0|          0.0|2148f1da1ac29711e...|\n",
      "|         74|       1|     1|         0.0|           0.0|          0.0|2148f1da1ac29711e...|\n",
      "|25769803807|       2|     1|         0.0|           0.0|          0.0|0f43d8cdd43b0b787...|\n",
      "|51539607619|       1|     1|         0.0|           0.0|          0.0|2148f1da1ac29711e...|\n",
      "| 8589934666|       1|     1|         0.0|           0.0|          0.0|2148f1da1ac29711e...|\n",
      "|25769803815|       2|     1|         0.0|           0.0|          0.0|396403360d038ffae...|\n",
      "|42949672972|       2|     1|         0.0|           0.0|          0.0|06441f249234b035f...|\n",
      "|17179869190|       2|     1|         0.0|           0.0|          0.0|0c805e848b7946de1...|\n",
      "|34359738412|       1|     1|         0.0|           0.0|          0.0|2148f1da1ac29711e...|\n",
      "|42949672997|       1|     1|         0.0|           0.0|          0.0|2148f1da1ac29711e...|\n",
      "|42949673024|       2|     1|         0.0|           0.0|          0.0|0f43d8cdd43b0b787...|\n",
      "|17179869214|       2|     1|         0.0|           0.0|          0.0|bba57e50f724d8790...|\n",
      "|34359738419|       1|     1|         0.0|           0.0|          0.0|2148f1da1ac29711e...|\n",
      "|51539607583|       2|     1|         0.0|           0.0|          0.0|0f43d8cdd43b0b787...|\n",
      "|17179869247|       1|     1|         0.0|           0.0|          0.0|2148f1da1ac29711e...|\n",
      "|         63|       2|     1|         0.0|           0.0|          0.0|97181c87a84cb6c70...|\n",
      "| 8589934617|       2|     1|         0.0|           0.0|          0.0|5b6a1a47075309676...|\n",
      "|25769803838|       1|     1|         0.0|           0.0|          0.0|2148f1da1ac29711e...|\n",
      "| 8589934602|       2|     1|         0.0|           0.0|          0.0|80a317e826601bdf0...|\n",
      "|17179869210|       1|     1|         0.0|           0.0|          0.0|2148f1da1ac29711e...|\n",
      "|25769803806|       2|     1|         0.0|           0.0|          0.0|3cc14d942ce3e1ca7...|\n",
      "|34359738381|       2|     1|         0.0|           0.0|          0.0|80a317e826601bdf0...|\n",
      "|42949672965|       2|     1|         0.0|           0.0|          0.0|97181c87a84cb6c70...|\n",
      "|42949672973|       1|     1|         0.0|           0.0|          0.0|2148f1da1ac29711e...|\n",
      "|42949672992|       2|     1|         0.0|           0.0|          0.0|a63bc051387f5baf6...|\n",
      "| 8589934605|       2|     1|         0.0|           0.0|          0.0|4edc204f4e1666048...|\n",
      "|60129542210|       1|     1|         0.0|           0.0|          0.0|2148f1da1ac29711e...|\n",
      "|42949672978|       1|     1|         0.0|           0.0|          0.0|2148f1da1ac29711e...|\n",
      "|42949673007|       2|     1|         0.0|           0.0|          0.0|0f43d8cdd43b0b787...|\n",
      "|51539607625|       1|     1|         0.0|           0.0|          0.0|2148f1da1ac29711e...|\n",
      "| 8589934641|       2|     1|         0.0|           0.0|          0.0|5b6a1a47075309676...|\n",
      "|         49|       2|     1|         0.0|           0.0|          0.0|a63bc051387f5baf6...|\n",
      "| 8589934672|       2|     1|         0.0|           0.0|          0.0|0f43d8cdd43b0b787...|\n",
      "|25769803793|       2|     1|         0.0|           0.0|          0.0|0f43d8cdd43b0b787...|\n",
      "|         43|       1|     1|         0.0|           0.0|          0.0|2148f1da1ac29711e...|\n",
      "|         69|       1|     1|         0.0|           0.0|          0.0|2148f1da1ac29711e...|\n",
      "| 8589934598|       2|     1|         0.0|           0.0|          0.0|b52776320ff5b34f9...|\n",
      "| 8589934673|       1|     1|         0.0|           0.0|          0.0|2148f1da1ac29711e...|\n",
      "|25769803840|       2|     1|         0.0|           0.0|          0.0|0f43d8cdd43b0b787...|\n",
      "|34359738409|       2|     1|         0.0|           0.0|          0.0|80a317e826601bdf0...|\n",
      "|42949672989|       2|     1|         0.0|           0.0|          0.0|97181c87a84cb6c70...|\n",
      "|42949673021|       1|     1|         0.0|           0.0|          0.0|2148f1da1ac29711e...|\n",
      "|51539607577|       2|     1|         0.0|           0.0|          0.0|3cc14d942ce3e1ca7...|\n",
      "|60129542203|       2|     1|         0.0|           0.0|          0.0|5b6a1a47075309676...|\n",
      "| 8589934599|       1|     1|         0.0|           0.0|          0.0|2148f1da1ac29711e...|\n",
      "|25769803784|       2|     1|         0.0|           0.0|          0.0|0b2ea0d3ac8492384...|\n",
      "|34359738426|       2|     1|         0.0|           0.0|          0.0|0f43d8cdd43b0b787...|\n",
      "|51539607578|       2|     1|         0.0|           0.0|          0.0|97181c87a84cb6c70...|\n",
      "|         26|       2|     1|         0.0|           0.0|          0.0|97181c87a84cb6c70...|\n",
      "| 8589934627|       1|     1|         0.0|           0.0|          0.0|2148f1da1ac29711e...|\n",
      "|         42|       2|     1|         0.0|           0.0|          0.0|0f43d8cdd43b0b787...|\n",
      "|         33|       1|     1|         0.0|           0.0|          0.0|2148f1da1ac29711e...|\n",
      "| 8589934595|       2|     1|         0.0|           0.0|          0.0|194079a7950834715...|\n",
      "|17179869219|       2|     1|         0.0|           0.0|          0.0|5b6a1a47075309676...|\n",
      "|25769803777|       2|     1|         0.0|           0.0|          0.0|5b6a1a47075309676...|\n",
      "|25769803783|       2|     1|         0.0|           0.0|          0.0|54fcfbc89e9ac5c75...|\n",
      "|25769803802|       1|     1|         0.0|           0.0|          0.0|2148f1da1ac29711e...|\n",
      "|42949672984|       2|     1|         0.0|           0.0|          0.0|97181c87a84cb6c70...|\n",
      "| 8589934662|       1|     1|         0.0|           0.0|          0.0|2148f1da1ac29711e...|\n",
      "|17179869228|       1|     1|         0.0|           0.0|          0.0|2148f1da1ac29711e...|\n",
      "|25769803792|       2|     1|         0.0|           0.0|          0.0|97181c87a84cb6c70...|\n",
      "|51539607573|       2|     1|         0.0|           0.0|          0.0|0f43d8cdd43b0b787...|\n",
      "+-----------+--------+------+------------+--------------+-------------+--------------------+\n",
      "\n"
     ]
    }
   ],
   "source": [
    "drt.sort(drt.transitivity.desc()).show(400)"
   ]
  },
  {
   "cell_type": "code",
   "execution_count": 89,
   "metadata": {},
   "outputs": [],
   "source": [
    "graphstats = sgs.join(drt,on=\"component\")"
   ]
  },
  {
   "cell_type": "code",
   "execution_count": 90,
   "metadata": {},
   "outputs": [
    {
     "name": "stdout",
     "output_type": "stream",
     "text": [
      "+-----------+---------+---------+-------+--------+------+------------+--------------+-------------+\n",
      "|  component|nodecount|edgecount|density|diameter|radius|transitivity|tri_clustcoeff|sq_clustcoeff|\n",
      "+-----------+---------+---------+-------+--------+------+------------+--------------+-------------+\n",
      "|          3|       28|      125|  0.331|       2|     1|       0.363|         0.871|          1.0|\n",
      "|25769803783|       23|       22|  0.087|       2|     1|         0.0|           0.0|          0.0|\n",
      "| 8589934595|       22|       21|  0.091|       2|     1|         0.0|           0.0|          0.0|\n",
      "|34359738376|       21|       20|  0.095|       2|     1|         0.0|           0.0|          0.0|\n",
      "| 8589934605|       20|       19|    0.1|       2|     1|         0.0|           0.0|          0.0|\n",
      "|         14|       19|       18|  0.105|       2|     1|         0.0|           0.0|          0.0|\n",
      "|42949672972|       18|       17|  0.111|       2|     1|         0.0|           0.0|          0.0|\n",
      "|17179869195|       17|       16|  0.118|       2|     1|         0.0|           0.0|          0.0|\n",
      "| 8589934598|       16|       15|  0.125|       2|     1|         0.0|           0.0|          0.0|\n",
      "|25769803820|       16|       42|   0.35|       2|     1|       0.339|         0.861|          1.0|\n",
      "| 8589934600|       15|       48|  0.457|       2|     1|       0.489|          0.84|          1.0|\n",
      "|25769803812|       15|       60|  0.571|       2|     1|       0.595|         0.835|          1.0|\n",
      "|17179869214|       14|       13|  0.143|       2|     1|         0.0|           0.0|          0.0|\n",
      "|25769803784|       13|       12|  0.154|       2|     1|         0.0|           0.0|          0.0|\n",
      "|17179869215|       13|       12|  0.154|       2|     1|         0.0|           0.0|          0.0|\n",
      "|17179869187|       13|       12|  0.154|       2|     1|         0.0|           0.0|          0.0|\n",
      "|34359738407|       13|       23|  0.295|       2|     1|       0.231|         0.872|          1.0|\n",
      "|17179869190|       12|       11|  0.167|       2|     1|         0.0|           0.0|          0.0|\n",
      "|60129542185|       12|       11|  0.167|       2|     1|         0.0|           0.0|          0.0|\n",
      "|          4|       12|       38|  0.576|       2|     1|       0.582|          0.83|          1.0|\n",
      "| 8589934631|       11|       10|  0.182|       2|     1|         0.0|           0.0|          0.0|\n",
      "| 8589934635|       11|       10|  0.182|       2|     1|         0.0|           0.0|          0.0|\n",
      "|          1|       11|       26|  0.473|       2|     1|       0.466|          0.83|          1.0|\n",
      "|17179869192|       11|       27|  0.491|       2|     1|       0.472|          0.83|          1.0|\n",
      "|          7|       11|       34|  0.618|       2|     1|       0.622|          0.83|          1.0|\n",
      "|17179869220|       11|       40|  0.727|       2|     1|       0.737|         0.848|          1.0|\n",
      "|42949672971|       10|        9|    0.2|       2|     1|         0.0|           0.0|          0.0|\n",
      "|         16|       10|        9|    0.2|       2|     1|         0.0|           0.0|          0.0|\n",
      "|34359738417|       10|        9|    0.2|       2|     1|         0.0|           0.0|          0.0|\n",
      "|         29|       10|       20|  0.444|       2|     1|       0.484|          0.73|          0.9|\n",
      "|25769803826|       10|       24|  0.533|       2|     1|       0.512|         0.825|          1.0|\n",
      "|34359738410|       10|       22|  0.489|       2|     1|       0.518|         0.729|          0.9|\n",
      "|25769803779|        9|        8|  0.222|       2|     1|         0.0|           0.0|          0.0|\n",
      "|25769803815|        9|        8|  0.222|       2|     1|         0.0|           0.0|          0.0|\n",
      "|25769803805|        9|        8|  0.222|       2|     1|         0.0|           0.0|          0.0|\n",
      "|25769803825|        9|        8|  0.222|       2|     1|         0.0|           0.0|          0.0|\n",
      "|         15|        9|        8|  0.222|       2|     1|         0.0|           0.0|          0.0|\n",
      "| 8589934603|        9|        8|  0.222|       2|     1|         0.0|           0.0|          0.0|\n",
      "|         50|        9|       14|  0.389|       2|     1|       0.327|         0.722|        0.889|\n",
      "|42949672977|        9|       15|  0.417|       2|     1|       0.333|         0.833|          1.0|\n",
      "|25769803780|        9|       15|  0.417|       2|     1|       0.333|         0.833|          1.0|\n",
      "|17179869243|        9|       21|  0.583|       2|     1|       0.559|         0.821|          1.0|\n",
      "| 8589934596|        9|       26|  0.722|       2|     1|       0.718|         0.841|          1.0|\n",
      "|         49|        8|        7|   0.25|       2|     1|         0.0|           0.0|          0.0|\n",
      "|51539607569|        8|        7|   0.25|       2|     1|         0.0|           0.0|          0.0|\n",
      "|25769803849|        8|        7|   0.25|       2|     1|         0.0|           0.0|          0.0|\n",
      "|25769803796|        8|        7|   0.25|       2|     1|         0.0|           0.0|          0.0|\n",
      "|51539607561|        8|        7|   0.25|       2|     1|         0.0|           0.0|          0.0|\n",
      "|42949672992|        8|        7|   0.25|       2|     1|         0.0|           0.0|          0.0|\n",
      "|         35|        8|       13|  0.464|       2|     1|       0.375|         0.821|          1.0|\n",
      "| 8589934628|        8|       18|  0.643|       2|     1|       0.615|         0.821|          1.0|\n",
      "| 8589934612|        8|       22|  0.786|       2|     1|       0.778|         0.857|          1.0|\n",
      "|51539607577|        7|        6|  0.286|       2|     1|         0.0|           0.0|          0.0|\n",
      "|          9|        7|        6|  0.286|       2|     1|         0.0|           0.0|          0.0|\n",
      "|34359738443|        7|        6|  0.286|       2|     1|         0.0|           0.0|          0.0|\n",
      "|         25|        7|        6|  0.286|       2|     1|         0.0|           0.0|          0.0|\n",
      "|25769803827|        7|        6|  0.286|       2|     1|         0.0|           0.0|          0.0|\n",
      "|42949672979|        7|        6|  0.286|       2|     1|         0.0|           0.0|          0.0|\n",
      "|         17|        7|        6|  0.286|       2|     1|         0.0|           0.0|          0.0|\n",
      "|34359738413|        7|        6|  0.286|       2|     1|         0.0|           0.0|          0.0|\n",
      "|          5|        7|        6|  0.286|       2|     1|         0.0|           0.0|          0.0|\n",
      "|25769803806|        7|        6|  0.286|       2|     1|         0.0|           0.0|          0.0|\n",
      "|17179869197|        7|       10|  0.476|       2|     1|       0.414|         0.667|        0.857|\n",
      "|17179869216|        7|       11|  0.524|       2|     1|       0.429|          0.81|          1.0|\n",
      "|25769803829|        7|       11|  0.524|       2|     1|       0.429|          0.81|          1.0|\n",
      "|34359738378|        7|       15|  0.714|       2|     1|       0.684|         0.829|          1.0|\n",
      "|         51|        7|       20|  0.952|       2|     1|       0.947|         0.952|          1.0|\n",
      "|34359738381|        6|        5|  0.333|       2|     1|         0.0|           0.0|          0.0|\n",
      "|         10|        6|        5|  0.333|       2|     1|         0.0|           0.0|          0.0|\n",
      "| 8589934602|        6|        5|  0.333|       2|     1|         0.0|           0.0|          0.0|\n",
      "|51539607575|        6|        5|  0.333|       2|     1|         0.0|           0.0|          0.0|\n",
      "|34359738409|        6|        5|  0.333|       2|     1|         0.0|           0.0|          0.0|\n",
      "|17179869196|        6|        5|  0.333|       2|     1|         0.0|           0.0|          0.0|\n",
      "|60129542172|        6|        5|  0.333|       2|     1|         0.0|           0.0|          0.0|\n",
      "|60129542200|        6|        5|  0.333|       2|     1|         0.0|           0.0|          0.0|\n",
      "| 8589934634|        6|        5|  0.333|       2|     1|         0.0|           0.0|          0.0|\n",
      "|42949672980|        6|        5|  0.333|       2|     1|         0.0|           0.0|          0.0|\n",
      "|17179869222|        6|        5|  0.333|       2|     1|         0.0|           0.0|          0.0|\n",
      "|51539607557|        6|        5|  0.333|       2|     1|         0.0|           0.0|          0.0|\n",
      "|17179869242|        6|        7|  0.467|       2|     1|         0.4|         0.478|        0.667|\n",
      "|42949673030|        6|        8|  0.533|       2|     1|       0.474|         0.633|        0.833|\n",
      "| 8589934640|        6|        8|  0.533|       2|     1|       0.474|         0.633|        0.833|\n",
      "|17179869231|        6|        9|    0.6|       2|     1|         0.5|           0.8|          1.0|\n",
      "|         59|        6|       10|  0.667|       2|     1|        0.75|         0.694|        0.833|\n",
      "|         18|        6|       12|    0.8|       2|     1|       0.769|          0.85|          1.0|\n",
      "|34359738405|        6|       12|    0.8|       2|     1|       0.769|          0.85|          1.0|\n",
      "|         27|        6|       12|    0.8|       2|     1|       0.769|          0.85|          1.0|\n",
      "|17179869184|        6|       12|    0.8|       2|     1|       0.769|          0.85|          1.0|\n",
      "|17179869227|        6|       14|  0.933|       2|     1|       0.923|         0.933|          1.0|\n",
      "|         38|        6|       15|    1.0|       1|     1|         1.0|           1.0|          1.0|\n",
      "|         72|        6|       15|    1.0|       1|     1|         1.0|           1.0|          1.0|\n",
      "| 8589934616|        6|       15|    1.0|       1|     1|         1.0|           1.0|          1.0|\n",
      "| 8589934671|        6|       15|    1.0|       1|     1|         1.0|           1.0|          1.0|\n",
      "|51539607596|        5|        4|    0.4|       2|     1|         0.0|           0.0|          0.0|\n",
      "|         63|        5|        4|    0.4|       2|     1|         0.0|           0.0|          0.0|\n",
      "|42949672984|        5|        4|    0.4|       2|     1|         0.0|           0.0|          0.0|\n",
      "|51539607590|        5|        4|    0.4|       2|     1|         0.0|           0.0|          0.0|\n",
      "|42949672989|        5|        4|    0.4|       2|     1|         0.0|           0.0|          0.0|\n",
      "|51539607578|        5|        4|    0.4|       2|     1|         0.0|           0.0|          0.0|\n",
      "|         62|        5|        4|    0.4|       2|     1|         0.0|           0.0|          0.0|\n",
      "|34359738445|        5|        4|    0.4|       2|     1|         0.0|           0.0|          0.0|\n",
      "|         21|        5|        4|    0.4|       2|     1|         0.0|           0.0|          0.0|\n",
      "|25769803833|        5|        4|    0.4|       2|     1|         0.0|           0.0|          0.0|\n",
      "|60129542202|        5|        4|    0.4|       2|     1|         0.0|           0.0|          0.0|\n",
      "|51539607571|        5|        4|    0.4|       2|     1|         0.0|           0.0|          0.0|\n",
      "|42949672965|        5|        4|    0.4|       2|     1|         0.0|           0.0|          0.0|\n",
      "|51539607609|        5|        4|    0.4|       2|     1|         0.0|           0.0|          0.0|\n",
      "|42949672960|        5|        4|    0.4|       2|     1|         0.0|           0.0|          0.0|\n",
      "|42949673031|        5|        4|    0.4|       2|     1|         0.0|           0.0|          0.0|\n",
      "|25769803792|        5|        4|    0.4|       2|     1|         0.0|           0.0|          0.0|\n",
      "|         46|        5|        4|    0.4|       2|     1|         0.0|           0.0|          0.0|\n",
      "|         23|        5|        4|    0.4|       2|     1|         0.0|           0.0|          0.0|\n",
      "|         26|        5|        4|    0.4|       2|     1|         0.0|           0.0|          0.0|\n",
      "|51539607613|        5|        4|    0.4|       2|     1|         0.0|           0.0|          0.0|\n",
      "|34359738387|        5|        6|    0.6|       2|     1|       0.545|           0.6|          0.8|\n",
      "|34359738372|        5|        7|    0.7|       2|     1|         0.6|           0.8|          1.0|\n",
      "|34359738420|        5|        7|    0.7|       2|     1|         0.6|           0.8|          1.0|\n",
      "|25769803797|        5|        8|    0.8|       2|     1|       0.789|         0.867|          1.0|\n",
      "|         53|        5|        7|    0.7|       2|     1|         0.8|           0.7|          0.8|\n",
      "| 8589934658|        5|        7|    0.7|       2|     1|         0.8|           0.7|          0.8|\n",
      "|         61|        5|       10|    1.0|       1|     1|         1.0|           1.0|          1.0|\n",
      "| 8589934620|        5|       10|    1.0|       1|     1|         1.0|           1.0|          1.0|\n",
      "|         13|        5|       10|    1.0|       1|     1|         1.0|           1.0|          1.0|\n",
      "| 8589934665|        5|       10|    1.0|       1|     1|         1.0|           1.0|          1.0|\n",
      "| 8589934629|        5|       10|    1.0|       1|     1|         1.0|           1.0|          1.0|\n",
      "| 8589934594|        5|       10|    1.0|       1|     1|         1.0|           1.0|          1.0|\n",
      "| 8589934639|        4|        3|    0.5|       2|     1|         0.0|           0.0|          0.0|\n",
      "|34359738435|        4|        3|    0.5|       2|     1|         0.0|           0.0|          0.0|\n",
      "| 8589934622|        4|        3|    0.5|       2|     1|         0.0|           0.0|          0.0|\n",
      "|60129542219|        4|        3|    0.5|       2|     1|         0.0|           0.0|          0.0|\n",
      "|          2|        4|        3|    0.5|       2|     1|         0.0|           0.0|          0.0|\n",
      "|25769803777|        4|        3|    0.5|       2|     1|         0.0|           0.0|          0.0|\n",
      "| 8589934617|        4|        3|    0.5|       2|     1|         0.0|           0.0|          0.0|\n",
      "|60129542203|        4|        3|    0.5|       2|     1|         0.0|           0.0|          0.0|\n",
      "|34359738384|        4|        3|    0.5|       2|     1|         0.0|           0.0|          0.0|\n",
      "| 8589934641|        4|        3|    0.5|       2|     1|         0.0|           0.0|          0.0|\n",
      "| 8589934593|        4|        3|    0.5|       2|     1|         0.0|           0.0|          0.0|\n",
      "|60129542170|        4|        3|    0.5|       2|     1|         0.0|           0.0|          0.0|\n",
      "|51539607570|        4|        3|    0.5|       2|     1|         0.0|           0.0|          0.0|\n",
      "|51539607558|        4|        3|    0.5|       2|     1|         0.0|           0.0|          0.0|\n",
      "|25769803788|        4|        3|    0.5|       2|     1|         0.0|           0.0|          0.0|\n",
      "|17179869189|        4|        3|    0.5|       2|     1|         0.0|           0.0|          0.0|\n",
      "| 8589934626|        4|        3|    0.5|       2|     1|         0.0|           0.0|          0.0|\n",
      "|17179869219|        4|        3|    0.5|       2|     1|         0.0|           0.0|          0.0|\n",
      "|34359738379|        4|        3|    0.5|       2|     1|         0.0|           0.0|          0.0|\n",
      "|17179869218|        4|        4|  0.667|       2|     1|         0.6|         0.583|          0.0|\n",
      "|17179869201|        4|        4|  0.667|       2|     1|         0.6|         0.583|          0.0|\n",
      "|25769803791|        4|        4|  0.667|       2|     1|         0.6|         0.583|          0.0|\n",
      "|17179869223|        4|        5|  0.833|       2|     1|        0.75|         0.833|          1.0|\n",
      "|17179869235|        4|        5|  0.833|       2|     1|        0.75|         0.833|          1.0|\n",
      "|51539607576|        4|        5|  0.833|       2|     1|        0.75|         0.833|          1.0|\n",
      "| 8589934624|        4|        5|  0.833|       2|     1|        0.75|         0.833|          1.0|\n",
      "|25769803851|        4|        6|    1.0|       1|     1|         1.0|           1.0|          1.0|\n",
      "|         30|        4|        6|    1.0|       1|     1|         1.0|           1.0|          1.0|\n",
      "|         66|        4|        6|    1.0|       1|     1|         1.0|           1.0|          1.0|\n",
      "|17179869230|        4|        6|    1.0|       1|     1|         1.0|           1.0|          1.0|\n",
      "|25769803828|        4|        6|    1.0|       1|     1|         1.0|           1.0|          1.0|\n",
      "|         45|        4|        6|    1.0|       1|     1|         1.0|           1.0|          1.0|\n",
      "|         47|        4|        6|    1.0|       1|     1|         1.0|           1.0|          1.0|\n",
      "|17179869234|        4|        6|    1.0|       1|     1|         1.0|           1.0|          1.0|\n",
      "| 8589934659|        4|        6|    1.0|       1|     1|         1.0|           1.0|          1.0|\n",
      "| 8589934654|        4|        6|    1.0|       1|     1|         1.0|           1.0|          1.0|\n",
      "| 8589934653|        4|        6|    1.0|       1|     1|         1.0|           1.0|          1.0|\n",
      "|17179869237|        4|        6|    1.0|       1|     1|         1.0|           1.0|          1.0|\n",
      "|         65|        4|        6|    1.0|       1|     1|         1.0|           1.0|          1.0|\n",
      "|         32|        4|        6|    1.0|       1|     1|         1.0|           1.0|          1.0|\n",
      "|17179869199|        4|        6|    1.0|       1|     1|         1.0|           1.0|          1.0|\n",
      "|         75|        4|        6|    1.0|       1|     1|         1.0|           1.0|          1.0|\n",
      "|         22|        4|        6|    1.0|       1|     1|         1.0|           1.0|          1.0|\n",
      "|         39|        4|        6|    1.0|       1|     1|         1.0|           1.0|          1.0|\n",
      "| 8589934615|        4|        6|    1.0|       1|     1|         1.0|           1.0|          1.0|\n",
      "|         60|        4|        6|    1.0|       1|     1|         1.0|           1.0|          1.0|\n",
      "|         54|        4|        6|    1.0|       1|     1|         1.0|           1.0|          1.0|\n",
      "|34359738432|        4|        6|    1.0|       1|     1|         1.0|           1.0|          1.0|\n",
      "| 8589934611|        4|        6|    1.0|       1|     1|         1.0|           1.0|          1.0|\n",
      "| 8589934614|        4|        6|    1.0|       1|     1|         1.0|           1.0|          1.0|\n",
      "|51539607583|        3|        2|  0.667|       2|     1|         0.0|           0.0|          0.0|\n",
      "|25769803790|        3|        2|  0.667|       2|     1|         0.0|           0.0|          0.0|\n",
      "|25769803807|        3|        2|  0.667|       2|     1|         0.0|           0.0|          0.0|\n",
      "|42949673009|        3|        2|  0.667|       2|     1|         0.0|           0.0|          0.0|\n",
      "|25769803801|        3|        2|  0.667|       2|     1|         0.0|           0.0|          0.0|\n",
      "|51539607573|        3|        2|  0.667|       2|     1|         0.0|           0.0|          0.0|\n",
      "|42949673024|        3|        2|  0.667|       2|     1|         0.0|           0.0|          0.0|\n",
      "|34359738426|        3|        2|  0.667|       2|     1|         0.0|           0.0|          0.0|\n",
      "|         20|        3|        2|  0.667|       2|     1|         0.0|           0.0|          0.0|\n",
      "|25769803841|        3|        2|  0.667|       2|     1|         0.0|           0.0|          0.0|\n",
      "|60129542195|        3|        2|  0.667|       2|     1|         0.0|           0.0|          0.0|\n",
      "|25769803821|        3|        2|  0.667|       2|     1|         0.0|           0.0|          0.0|\n",
      "|         37|        3|        2|  0.667|       2|     1|         0.0|           0.0|          0.0|\n",
      "|42949673007|        3|        2|  0.667|       2|     1|         0.0|           0.0|          0.0|\n",
      "|60129542171|        3|        2|  0.667|       2|     1|         0.0|           0.0|          0.0|\n",
      "|60129542193|        3|        2|  0.667|       2|     1|         0.0|           0.0|          0.0|\n",
      "|25769803848|        3|        2|  0.667|       2|     1|         0.0|           0.0|          0.0|\n",
      "|51539607563|        3|        2|  0.667|       2|     1|         0.0|           0.0|          0.0|\n",
      "|25769803776|        3|        2|  0.667|       2|     1|         0.0|           0.0|          0.0|\n",
      "|         48|        3|        2|  0.667|       2|     1|         0.0|           0.0|          0.0|\n",
      "|25769803795|        3|        2|  0.667|       2|     1|         0.0|           0.0|          0.0|\n",
      "|         42|        3|        2|  0.667|       2|     1|         0.0|           0.0|          0.0|\n",
      "|25769803793|        3|        2|  0.667|       2|     1|         0.0|           0.0|          0.0|\n",
      "|25769803840|        3|        2|  0.667|       2|     1|         0.0|           0.0|          0.0|\n",
      "| 8589934672|        3|        2|  0.667|       2|     1|         0.0|           0.0|          0.0|\n",
      "|51539607617|        3|        2|  0.667|       2|     1|         0.0|           0.0|          0.0|\n",
      "|25769803789|        3|        2|  0.667|       2|     1|         0.0|           0.0|          0.0|\n",
      "|60129542164|        3|        2|  0.667|       2|     1|         0.0|           0.0|          0.0|\n",
      "|42949673001|        3|        2|  0.667|       2|     1|         0.0|           0.0|          0.0|\n",
      "|25769803854|        3|        2|  0.667|       2|     1|         0.0|           0.0|          0.0|\n",
      "|51539607568|        3|        2|  0.667|       2|     1|         0.0|           0.0|          0.0|\n",
      "|25769803837|        3|        2|  0.667|       2|     1|         0.0|           0.0|          0.0|\n",
      "| 8589934637|        3|        3|    1.0|       1|     1|         1.0|           1.0|          0.0|\n",
      "|25769803835|        3|        3|    1.0|       1|     1|         1.0|           1.0|          0.0|\n",
      "|17179869233|        3|        3|    1.0|       1|     1|         1.0|           1.0|          0.0|\n",
      "| 8589934606|        3|        3|    1.0|       1|     1|         1.0|           1.0|          0.0|\n",
      "| 8589934669|        3|        3|    1.0|       1|     1|         1.0|           1.0|          0.0|\n",
      "|25769803834|        3|        3|    1.0|       1|     1|         1.0|           1.0|          0.0|\n",
      "|42949673037|        3|        3|    1.0|       1|     1|         1.0|           1.0|          0.0|\n",
      "|         56|        3|        3|    1.0|       1|     1|         1.0|           1.0|          0.0|\n",
      "|17179869188|        3|        3|    1.0|       1|     1|         1.0|           1.0|          0.0|\n",
      "|         52|        3|        3|    1.0|       1|     1|         1.0|           1.0|          0.0|\n",
      "| 8589934623|        3|        3|    1.0|       1|     1|         1.0|           1.0|          0.0|\n",
      "|17179869204|        3|        3|    1.0|       1|     1|         1.0|           1.0|          0.0|\n",
      "|         12|        3|        3|    1.0|       1|     1|         1.0|           1.0|          0.0|\n",
      "|34359738390|        3|        3|    1.0|       1|     1|         1.0|           1.0|          0.0|\n",
      "| 8589934621|        3|        3|    1.0|       1|     1|         1.0|           1.0|          0.0|\n",
      "|51539607584|        3|        3|    1.0|       1|     1|         1.0|           1.0|          0.0|\n",
      "|17179869185|        3|        3|    1.0|       1|     1|         1.0|           1.0|          0.0|\n",
      "| 8589934601|        3|        3|    1.0|       1|     1|         1.0|           1.0|          0.0|\n",
      "|         67|        3|        3|    1.0|       1|     1|         1.0|           1.0|          0.0|\n",
      "|         31|        2|        1|    1.0|       1|     1|         0.0|           0.0|          0.0|\n",
      "| 8589934609|        2|        1|    1.0|       1|     1|         0.0|           0.0|          0.0|\n",
      "|34359738447|        2|        1|    1.0|       1|     1|         0.0|           0.0|          0.0|\n",
      "| 8589934646|        2|        1|    1.0|       1|     1|         0.0|           0.0|          0.0|\n",
      "|42949673008|        2|        1|    1.0|       1|     1|         0.0|           0.0|          0.0|\n",
      "| 8589934638|        2|        1|    1.0|       1|     1|         0.0|           0.0|          0.0|\n",
      "|42949673010|        2|        1|    1.0|       1|     1|         0.0|           0.0|          0.0|\n",
      "|34359738373|        2|        1|    1.0|       1|     1|         0.0|           0.0|          0.0|\n",
      "| 8589934657|        2|        1|    1.0|       1|     1|         0.0|           0.0|          0.0|\n",
      "|         24|        2|        1|    1.0|       1|     1|         0.0|           0.0|          0.0|\n",
      "|34359738404|        2|        1|    1.0|       1|     1|         0.0|           0.0|          0.0|\n",
      "| 8589934643|        2|        1|    1.0|       1|     1|         0.0|           0.0|          0.0|\n",
      "|17179869248|        2|        1|    1.0|       1|     1|         0.0|           0.0|          0.0|\n",
      "|60129542210|        2|        1|    1.0|       1|     1|         0.0|           0.0|          0.0|\n",
      "|34359738392|        2|        1|    1.0|       1|     1|         0.0|           0.0|          0.0|\n",
      "|42949673019|        2|        1|    1.0|       1|     1|         0.0|           0.0|          0.0|\n",
      "| 8589934647|        2|        1|    1.0|       1|     1|         0.0|           0.0|          0.0|\n",
      "|17179869206|        2|        1|    1.0|       1|     1|         0.0|           0.0|          0.0|\n",
      "|25769803808|        2|        1|    1.0|       1|     1|         0.0|           0.0|          0.0|\n",
      "| 8589934666|        2|        1|    1.0|       1|     1|         0.0|           0.0|          0.0|\n",
      "|34359738374|        2|        1|    1.0|       1|     1|         0.0|           0.0|          0.0|\n",
      "|34359738412|        2|        1|    1.0|       1|     1|         0.0|           0.0|          0.0|\n",
      "| 8589934636|        2|        1|    1.0|       1|     1|         0.0|           0.0|          0.0|\n",
      "|42949673032|        2|        1|    1.0|       1|     1|         0.0|           0.0|          0.0|\n",
      "|17179869208|        2|        1|    1.0|       1|     1|         0.0|           0.0|          0.0|\n",
      "|42949672997|        2|        1|    1.0|       1|     1|         0.0|           0.0|          0.0|\n",
      "|17179869249|        2|        1|    1.0|       1|     1|         0.0|           0.0|          0.0|\n",
      "|25769803838|        2|        1|    1.0|       1|     1|         0.0|           0.0|          0.0|\n",
      "|34359738449|        2|        1|    1.0|       1|     1|         0.0|           0.0|          0.0|\n",
      "|17179869254|        2|        1|    1.0|       1|     1|         0.0|           0.0|          0.0|\n",
      "|42949672973|        2|        1|    1.0|       1|     1|         0.0|           0.0|          0.0|\n",
      "|         28|        2|        1|    1.0|       1|     1|         0.0|           0.0|          0.0|\n",
      "|17179869209|        2|        1|    1.0|       1|     1|         0.0|           0.0|          0.0|\n",
      "| 8589934662|        2|        1|    1.0|       1|     1|         0.0|           0.0|          0.0|\n",
      "|51539607625|        2|        1|    1.0|       1|     1|         0.0|           0.0|          0.0|\n",
      "|         11|        2|        1|    1.0|       1|     1|         0.0|           0.0|          0.0|\n",
      "|         71|        2|        1|    1.0|       1|     1|         0.0|           0.0|          0.0|\n",
      "|34359738454|        2|        1|    1.0|       1|     1|         0.0|           0.0|          0.0|\n",
      "| 8589934599|        2|        1|    1.0|       1|     1|         0.0|           0.0|          0.0|\n",
      "|51539607614|        2|        1|    1.0|       1|     1|         0.0|           0.0|          0.0|\n",
      "|         64|        2|        1|    1.0|       1|     1|         0.0|           0.0|          0.0|\n",
      "|34359738419|        2|        1|    1.0|       1|     1|         0.0|           0.0|          0.0|\n",
      "| 8589934673|        2|        1|    1.0|       1|     1|         0.0|           0.0|          0.0|\n",
      "|17179869225|        2|        1|    1.0|       1|     1|         0.0|           0.0|          0.0|\n",
      "| 8589934668|        2|        1|    1.0|       1|     1|         0.0|           0.0|          0.0|\n",
      "|51539607611|        2|        1|    1.0|       1|     1|         0.0|           0.0|          0.0|\n",
      "| 8589934648|        2|        1|    1.0|       1|     1|         0.0|           0.0|          0.0|\n",
      "|17179869247|        2|        1|    1.0|       1|     1|         0.0|           0.0|          0.0|\n",
      "|          0|        2|        1|    1.0|       1|     1|         0.0|           0.0|          0.0|\n",
      "|          6|        2|        1|    1.0|       1|     1|         0.0|           0.0|          0.0|\n",
      "|         68|        2|        1|    1.0|       1|     1|         0.0|           0.0|          0.0|\n",
      "|34359738396|        2|        1|    1.0|       1|     1|         0.0|           0.0|          0.0|\n",
      "|42949672969|        2|        1|    1.0|       1|     1|         0.0|           0.0|          0.0|\n",
      "|42949672978|        2|        1|    1.0|       1|     1|         0.0|           0.0|          0.0|\n",
      "|         33|        2|        1|    1.0|       1|     1|         0.0|           0.0|          0.0|\n",
      "|17179869228|        2|        1|    1.0|       1|     1|         0.0|           0.0|          0.0|\n",
      "|         36|        2|        1|    1.0|       1|     1|         0.0|           0.0|          0.0|\n",
      "|         43|        2|        1|    1.0|       1|     1|         0.0|           0.0|          0.0|\n",
      "|42949673006|        2|        1|    1.0|       1|     1|         0.0|           0.0|          0.0|\n",
      "|51539607619|        2|        1|    1.0|       1|     1|         0.0|           0.0|          0.0|\n",
      "|         74|        2|        1|    1.0|       1|     1|         0.0|           0.0|          0.0|\n",
      "|         58|        2|        1|    1.0|       1|     1|         0.0|           0.0|          0.0|\n",
      "|51539607564|        2|        1|    1.0|       1|     1|         0.0|           0.0|          0.0|\n",
      "|60129542154|        2|        1|    1.0|       1|     1|         0.0|           0.0|          0.0|\n",
      "|17179869210|        2|        1|    1.0|       1|     1|         0.0|           0.0|          0.0|\n",
      "|34359738439|        2|        1|    1.0|       1|     1|         0.0|           0.0|          0.0|\n",
      "| 8589934607|        2|        1|    1.0|       1|     1|         0.0|           0.0|          0.0|\n",
      "| 8589934642|        2|        1|    1.0|       1|     1|         0.0|           0.0|          0.0|\n",
      "|51539607567|        2|        1|    1.0|       1|     1|         0.0|           0.0|          0.0|\n",
      "|17179869186|        2|        1|    1.0|       1|     1|         0.0|           0.0|          0.0|\n",
      "|25769803794|        2|        1|    1.0|       1|     1|         0.0|           0.0|          0.0|\n",
      "| 8589934627|        2|        1|    1.0|       1|     1|         0.0|           0.0|          0.0|\n",
      "|25769803802|        2|        1|    1.0|       1|     1|         0.0|           0.0|          0.0|\n",
      "|34359738377|        2|        1|    1.0|       1|     1|         0.0|           0.0|          0.0|\n",
      "|         69|        2|        1|    1.0|       1|     1|         0.0|           0.0|          0.0|\n",
      "|42949673021|        2|        1|    1.0|       1|     1|         0.0|           0.0|          0.0|\n",
      "|34359738441|        2|        1|    1.0|       1|     1|         0.0|           0.0|          0.0|\n",
      "|51539607588|        2|        1|    1.0|       1|     1|         0.0|           0.0|          0.0|\n",
      "+-----------+---------+---------+-------+--------+------+------------+--------------+-------------+\n",
      "\n"
     ]
    }
   ],
   "source": [
    "graphstats.sort(graphstats.nodecount.desc(),graphstats.transitivity.asc()).drop(\"graphhash\",\"nodes\").show(1000)"
   ]
  },
  {
   "cell_type": "code",
   "execution_count": 91,
   "metadata": {},
   "outputs": [],
   "source": [
    "import pyspark.sql.functions as f"
   ]
  },
  {
   "cell_type": "code",
   "execution_count": 92,
   "metadata": {},
   "outputs": [
    {
     "name": "stdout",
     "output_type": "stream",
     "text": [
      "+-----------+---------+---------+------------+--------------------+\n",
      "|  component|nodecount|edgecount|transitivity|           graphhash|\n",
      "+-----------+---------+---------+------------+--------------------+\n",
      "|          2|        4|        3|         0.0|5b6a1a47075309676...|\n",
      "|         12|        3|        3|         1.0|7d2c307dbd866960f...|\n",
      "|         26|        5|        4|         0.0|97181c87a84cb6c70...|\n",
      "|         28|        2|        1|         0.0|2148f1da1ac29711e...|\n",
      "|         29|       10|       20|       0.484|7a3cb2869ccb010f0...|\n",
      "|         30|        4|        6|         1.0|faa092922b6078a79...|\n",
      "|         33|        2|        1|         0.0|2148f1da1ac29711e...|\n",
      "|         42|        3|        2|         0.0|0f43d8cdd43b0b787...|\n",
      "|         48|        3|        2|         0.0|0f43d8cdd43b0b787...|\n",
      "|         67|        3|        3|         1.0|7d2c307dbd866960f...|\n",
      "| 8589934595|       22|       21|         0.0|194079a7950834715...|\n",
      "| 8589934603|        9|        8|         0.0|396403360d038ffae...|\n",
      "| 8589934627|        2|        1|         0.0|2148f1da1ac29711e...|\n",
      "| 8589934628|        8|       18|       0.615|3bfefb903a8255bd7...|\n",
      "| 8589934639|        4|        3|         0.0|5b6a1a47075309676...|\n",
      "| 8589934647|        2|        1|         0.0|2148f1da1ac29711e...|\n",
      "| 8589934658|        5|        7|         0.8|0c6b3b7d16414b33f...|\n",
      "| 8589934662|        2|        1|         0.0|2148f1da1ac29711e...|\n",
      "|17179869184|        6|       12|       0.769|617b27a63be9c9e4c...|\n",
      "|17179869187|       13|       12|         0.0|0b2ea0d3ac8492384...|\n",
      "|17179869192|       11|       27|       0.472|d02956e0894810363...|\n",
      "|17179869209|        2|        1|         0.0|2148f1da1ac29711e...|\n",
      "|17179869219|        4|        3|         0.0|5b6a1a47075309676...|\n",
      "|17179869227|        6|       14|       0.923|e6216e307d2520d5f...|\n",
      "|17179869228|        2|        1|         0.0|2148f1da1ac29711e...|\n",
      "|17179869237|        4|        6|         1.0|faa092922b6078a79...|\n",
      "|25769803776|        3|        2|         0.0|0f43d8cdd43b0b787...|\n",
      "|25769803777|        4|        3|         0.0|5b6a1a47075309676...|\n",
      "|25769803780|        9|       15|       0.333|2c9d2efbc10596f86...|\n",
      "|25769803783|       23|       22|         0.0|54fcfbc89e9ac5c75...|\n",
      "|25769803791|        4|        4|         0.6|0db442538bb6dc81d...|\n",
      "|25769803792|        5|        4|         0.0|97181c87a84cb6c70...|\n",
      "|25769803802|        2|        1|         0.0|2148f1da1ac29711e...|\n",
      "|25769803829|        7|       11|       0.429|73404bfaec40a29da...|\n",
      "|25769803834|        3|        3|         1.0|7d2c307dbd866960f...|\n",
      "|34359738377|        2|        1|         0.0|2148f1da1ac29711e...|\n",
      "|34359738407|       13|       23|       0.231|5a678907265602f1f...|\n",
      "|42949672984|        5|        4|         0.0|97181c87a84cb6c70...|\n",
      "|51539607573|        3|        2|         0.0|0f43d8cdd43b0b787...|\n",
      "|          9|        7|        6|         0.0|3cc14d942ce3e1ca7...|\n",
      "|         11|        2|        1|         0.0|2148f1da1ac29711e...|\n",
      "|         22|        4|        6|         1.0|faa092922b6078a79...|\n",
      "|         32|        4|        6|         1.0|faa092922b6078a79...|\n",
      "|         36|        2|        1|         0.0|2148f1da1ac29711e...|\n",
      "|         43|        2|        1|         0.0|2148f1da1ac29711e...|\n",
      "|         49|        8|        7|         0.0|a63bc051387f5baf6...|\n",
      "|         59|        6|       10|        0.75|fd7b942801eab9c07...|\n",
      "|         65|        4|        6|         1.0|faa092922b6078a79...|\n",
      "|         66|        4|        6|         1.0|faa092922b6078a79...|\n",
      "|         69|        2|        1|         0.0|2148f1da1ac29711e...|\n",
      "|         75|        4|        6|         1.0|faa092922b6078a79...|\n",
      "| 8589934596|        9|       26|       0.718|142a012e019943e2b...|\n",
      "| 8589934598|       16|       15|         0.0|b52776320ff5b34f9...|\n",
      "| 8589934599|        2|        1|         0.0|2148f1da1ac29711e...|\n",
      "| 8589934612|        8|       22|       0.778|f0d2dee88390f7b79...|\n",
      "| 8589934641|        4|        3|         0.0|5b6a1a47075309676...|\n",
      "| 8589934672|        3|        2|         0.0|0f43d8cdd43b0b787...|\n",
      "| 8589934673|        2|        1|         0.0|2148f1da1ac29711e...|\n",
      "|17179869197|        7|       10|       0.414|563977067cb3597a1...|\n",
      "|17179869235|        4|        5|        0.75|ae74c38ca2f4f8315...|\n",
      "|17179869243|        9|       21|       0.559|faebc76801aebb1c2...|\n",
      "|25769803784|       13|       12|         0.0|0b2ea0d3ac8492384...|\n",
      "|25769803793|        3|        2|         0.0|0f43d8cdd43b0b787...|\n",
      "|25769803840|        3|        2|         0.0|0f43d8cdd43b0b787...|\n",
      "|34359738378|        7|       15|       0.684|1b20a87939bdb070e...|\n",
      "|34359738409|        6|        5|         0.0|80a317e826601bdf0...|\n",
      "|34359738426|        3|        2|         0.0|0f43d8cdd43b0b787...|\n",
      "|34359738443|        7|        6|         0.0|3cc14d942ce3e1ca7...|\n",
      "|42949672971|       10|        9|         0.0|235d3c6d6788b8177...|\n",
      "|42949672977|        9|       15|       0.333|2c9d2efbc10596f86...|\n",
      "|42949672989|        5|        4|         0.0|97181c87a84cb6c70...|\n",
      "|42949673006|        2|        1|         0.0|2148f1da1ac29711e...|\n",
      "|42949673021|        2|        1|         0.0|2148f1da1ac29711e...|\n",
      "|42949673037|        3|        3|         1.0|7d2c307dbd866960f...|\n",
      "|51539607569|        8|        7|         0.0|a63bc051387f5baf6...|\n",
      "|51539607577|        7|        6|         0.0|3cc14d942ce3e1ca7...|\n",
      "|51539607578|        5|        4|         0.0|97181c87a84cb6c70...|\n",
      "|51539607584|        3|        3|         1.0|7d2c307dbd866960f...|\n",
      "|51539607590|        5|        4|         0.0|97181c87a84cb6c70...|\n",
      "|51539607614|        2|        1|         0.0|2148f1da1ac29711e...|\n",
      "|60129542203|        4|        3|         0.0|5b6a1a47075309676...|\n",
      "|         14|       19|       18|         0.0|100618ea4ff35eb55...|\n",
      "|         17|        7|        6|         0.0|3cc14d942ce3e1ca7...|\n",
      "|         27|        6|       12|       0.769|617b27a63be9c9e4c...|\n",
      "|         35|        8|       13|       0.375|12fa5d82d662c5c4a...|\n",
      "|         50|        9|       14|       0.327|bd8aa380863bb666c...|\n",
      "|         63|        5|        4|         0.0|97181c87a84cb6c70...|\n",
      "| 8589934602|        6|        5|         0.0|80a317e826601bdf0...|\n",
      "| 8589934605|       20|       19|         0.0|4edc204f4e1666048...|\n",
      "| 8589934611|        4|        6|         1.0|faa092922b6078a79...|\n",
      "| 8589934617|        4|        3|         0.0|5b6a1a47075309676...|\n",
      "| 8589934623|        3|        3|         1.0|7d2c307dbd866960f...|\n",
      "| 8589934640|        6|        8|       0.474|d1e4fb20bbef95a7c...|\n",
      "| 8589934648|        2|        1|         0.0|2148f1da1ac29711e...|\n",
      "|17179869185|        3|        3|         1.0|7d2c307dbd866960f...|\n",
      "|17179869204|        3|        3|         1.0|7d2c307dbd866960f...|\n",
      "|17179869210|        2|        1|         0.0|2148f1da1ac29711e...|\n",
      "|17179869218|        4|        4|         0.6|0db442538bb6dc81d...|\n",
      "|17179869222|        6|        5|         0.0|80a317e826601bdf0...|\n",
      "|17179869233|        3|        3|         1.0|7d2c307dbd866960f...|\n",
      "|17179869247|        2|        1|         0.0|2148f1da1ac29711e...|\n",
      "|25769803789|        3|        2|         0.0|0f43d8cdd43b0b787...|\n",
      "|25769803806|        7|        6|         0.0|3cc14d942ce3e1ca7...|\n",
      "|25769803826|       10|       24|       0.512|c9c15712c4447b166...|\n",
      "|25769803837|        3|        2|         0.0|0f43d8cdd43b0b787...|\n",
      "|25769803838|        2|        1|         0.0|2148f1da1ac29711e...|\n",
      "|25769803851|        4|        6|         1.0|faa092922b6078a79...|\n",
      "|25769803854|        3|        2|         0.0|0f43d8cdd43b0b787...|\n",
      "|34359738381|        6|        5|         0.0|80a317e826601bdf0...|\n",
      "|34359738390|        3|        3|         1.0|7d2c307dbd866960f...|\n",
      "|34359738392|        2|        1|         0.0|2148f1da1ac29711e...|\n",
      "|34359738449|        2|        1|         0.0|2148f1da1ac29711e...|\n",
      "|42949672965|        5|        4|         0.0|97181c87a84cb6c70...|\n",
      "|42949672973|        2|        1|         0.0|2148f1da1ac29711e...|\n",
      "|42949672978|        2|        1|         0.0|2148f1da1ac29711e...|\n",
      "|42949672992|        8|        7|         0.0|a63bc051387f5baf6...|\n",
      "|42949673007|        3|        2|         0.0|0f43d8cdd43b0b787...|\n",
      "|51539607563|        3|        2|         0.0|0f43d8cdd43b0b787...|\n",
      "|51539607576|        4|        5|        0.75|ae74c38ca2f4f8315...|\n",
      "|51539607625|        2|        1|         0.0|2148f1da1ac29711e...|\n",
      "|60129542210|        2|        1|         0.0|2148f1da1ac29711e...|\n",
      "|          3|       28|      125|       0.363|5275790a7352ea907...|\n",
      "|          7|       11|       34|       0.622|266df7f3741e1bc80...|\n",
      "|         45|        4|        6|         1.0|faa092922b6078a79...|\n",
      "|         47|        4|        6|         1.0|faa092922b6078a79...|\n",
      "|         51|        7|       20|       0.947|10fadd1e1c9ab6c22...|\n",
      "|         53|        5|        7|         0.8|0c6b3b7d16414b33f...|\n",
      "|         56|        3|        3|         1.0|7d2c307dbd866960f...|\n",
      "|         71|        2|        1|         0.0|2148f1da1ac29711e...|\n",
      "|         74|        2|        1|         0.0|2148f1da1ac29711e...|\n",
      "| 8589934600|       15|       48|       0.489|4b8e9152b1670e620...|\n",
      "| 8589934616|        6|       15|         1.0|7befbc1a93e06d1ba...|\n",
      "| 8589934659|        4|        6|         1.0|faa092922b6078a79...|\n",
      "| 8589934666|        2|        1|         0.0|2148f1da1ac29711e...|\n",
      "|17179869188|        3|        3|         1.0|7d2c307dbd866960f...|\n",
      "|17179869190|       12|       11|         0.0|0c805e848b7946de1...|\n",
      "|17179869199|        4|        6|         1.0|faa092922b6078a79...|\n",
      "|17179869214|       14|       13|         0.0|bba57e50f724d8790...|\n",
      "|17179869230|        4|        6|         1.0|faa092922b6078a79...|\n",
      "|17179869234|        4|        6|         1.0|faa092922b6078a79...|\n",
      "|25769803797|        5|        8|       0.789|0d5397367d5798925...|\n",
      "|25769803807|        3|        2|         0.0|0f43d8cdd43b0b787...|\n",
      "|25769803812|       15|       60|       0.595|35e7736b330516c10...|\n",
      "|25769803815|        9|        8|         0.0|396403360d038ffae...|\n",
      "|25769803828|        4|        6|         1.0|faa092922b6078a79...|\n",
      "|34359738387|        5|        6|       0.545|b7d2de8fbe2bf8de6...|\n",
      "|34359738412|        2|        1|         0.0|2148f1da1ac29711e...|\n",
      "|34359738419|        2|        1|         0.0|2148f1da1ac29711e...|\n",
      "|42949672972|       18|       17|         0.0|06441f249234b035f...|\n",
      "|42949672997|        2|        1|         0.0|2148f1da1ac29711e...|\n",
      "|42949673024|        3|        2|         0.0|0f43d8cdd43b0b787...|\n",
      "|51539607583|        3|        2|         0.0|0f43d8cdd43b0b787...|\n",
      "|51539607619|        2|        1|         0.0|2148f1da1ac29711e...|\n",
      "|          4|       12|       38|       0.582|1dbb9ba945be98844...|\n",
      "|          5|        7|        6|         0.0|3cc14d942ce3e1ca7...|\n",
      "|         15|        9|        8|         0.0|396403360d038ffae...|\n",
      "|         23|        5|        4|         0.0|97181c87a84cb6c70...|\n",
      "|         25|        7|        6|         0.0|3cc14d942ce3e1ca7...|\n",
      "|         31|        2|        1|         0.0|2148f1da1ac29711e...|\n",
      "|         54|        4|        6|         1.0|faa092922b6078a79...|\n",
      "|         61|        5|       10|         1.0|b0df24c18b6c07ad0...|\n",
      "|         62|        5|        4|         0.0|97181c87a84cb6c70...|\n",
      "| 8589934609|        2|        1|         0.0|2148f1da1ac29711e...|\n",
      "| 8589934620|        5|       10|         1.0|b0df24c18b6c07ad0...|\n",
      "| 8589934622|        4|        3|         0.0|5b6a1a47075309676...|\n",
      "| 8589934629|        5|       10|         1.0|b0df24c18b6c07ad0...|\n",
      "| 8589934646|        2|        1|         0.0|2148f1da1ac29711e...|\n",
      "| 8589934654|        4|        6|         1.0|faa092922b6078a79...|\n",
      "| 8589934657|        2|        1|         0.0|2148f1da1ac29711e...|\n",
      "| 8589934669|        3|        3|         1.0|7d2c307dbd866960f...|\n",
      "|17179869206|        2|        1|         0.0|2148f1da1ac29711e...|\n",
      "|17179869216|        7|       11|       0.429|73404bfaec40a29da...|\n",
      "|25769803779|        9|        8|         0.0|396403360d038ffae...|\n",
      "|25769803795|        3|        2|         0.0|0f43d8cdd43b0b787...|\n",
      "|25769803796|        8|        7|         0.0|a63bc051387f5baf6...|\n",
      "|25769803808|        2|        1|         0.0|2148f1da1ac29711e...|\n",
      "|34359738379|        4|        3|         0.0|5b6a1a47075309676...|\n",
      "|34359738384|        4|        3|         0.0|5b6a1a47075309676...|\n",
      "|34359738405|        6|       12|       0.769|617b27a63be9c9e4c...|\n",
      "|34359738435|        4|        3|         0.0|5b6a1a47075309676...|\n",
      "|34359738445|        5|        4|         0.0|97181c87a84cb6c70...|\n",
      "|34359738454|        2|        1|         0.0|2148f1da1ac29711e...|\n",
      "|42949673008|        2|        1|         0.0|2148f1da1ac29711e...|\n",
      "|51539607558|        4|        3|         0.0|5b6a1a47075309676...|\n",
      "|51539607571|        5|        4|         0.0|97181c87a84cb6c70...|\n",
      "|51539607575|        6|        5|         0.0|80a317e826601bdf0...|\n",
      "|51539607609|        5|        4|         0.0|97181c87a84cb6c70...|\n",
      "|51539607613|        5|        4|         0.0|97181c87a84cb6c70...|\n",
      "|51539607617|        3|        2|         0.0|0f43d8cdd43b0b787...|\n",
      "|60129542164|        3|        2|         0.0|0f43d8cdd43b0b787...|\n",
      "|60129542171|        3|        2|         0.0|0f43d8cdd43b0b787...|\n",
      "|60129542185|       12|       11|         0.0|0c805e848b7946de1...|\n",
      "|60129542193|        3|        2|         0.0|0f43d8cdd43b0b787...|\n",
      "|          0|        2|        1|         0.0|2148f1da1ac29711e...|\n",
      "|          1|       11|       26|       0.466|21d3663e77b1240fa...|\n",
      "|          6|        2|        1|         0.0|2148f1da1ac29711e...|\n",
      "|         10|        6|        5|         0.0|80a317e826601bdf0...|\n",
      "|         37|        3|        2|         0.0|0f43d8cdd43b0b787...|\n",
      "|         68|        2|        1|         0.0|2148f1da1ac29711e...|\n",
      "| 8589934601|        3|        3|         1.0|7d2c307dbd866960f...|\n",
      "| 8589934607|        2|        1|         0.0|2148f1da1ac29711e...|\n",
      "| 8589934614|        4|        6|         1.0|faa092922b6078a79...|\n",
      "| 8589934626|        4|        3|         0.0|5b6a1a47075309676...|\n",
      "| 8589934634|        6|        5|         0.0|80a317e826601bdf0...|\n",
      "| 8589934635|       11|       10|         0.0|40e2f0d4aef6fe6ef...|\n",
      "| 8589934637|        3|        3|         1.0|7d2c307dbd866960f...|\n",
      "| 8589934642|        2|        1|         0.0|2148f1da1ac29711e...|\n",
      "| 8589934653|        4|        6|         1.0|faa092922b6078a79...|\n",
      "| 8589934665|        5|       10|         1.0|b0df24c18b6c07ad0...|\n",
      "|17179869186|        2|        1|         0.0|2148f1da1ac29711e...|\n",
      "|17179869189|        4|        3|         0.0|5b6a1a47075309676...|\n",
      "|17179869195|       17|       16|         0.0|b3376699f9f8d467a...|\n",
      "|17179869201|        4|        4|         0.6|0db442538bb6dc81d...|\n",
      "|17179869215|       13|       12|         0.0|0b2ea0d3ac8492384...|\n",
      "|17179869220|       11|       40|       0.737|814fd6491e62cfd95...|\n",
      "|17179869231|        6|        9|         0.5|d3ae5b827d65484e8...|\n",
      "|17179869254|        2|        1|         0.0|2148f1da1ac29711e...|\n",
      "|25769803794|        2|        1|         0.0|2148f1da1ac29711e...|\n",
      "|25769803801|        3|        2|         0.0|0f43d8cdd43b0b787...|\n",
      "|34359738396|        2|        1|         0.0|2148f1da1ac29711e...|\n",
      "|34359738417|       10|        9|         0.0|235d3c6d6788b8177...|\n",
      "|34359738420|        5|        7|         0.6|4afb3964482c6dc21...|\n",
      "|42949672960|        5|        4|         0.0|97181c87a84cb6c70...|\n",
      "|42949672969|        2|        1|         0.0|2148f1da1ac29711e...|\n",
      "|42949672980|        6|        5|         0.0|80a317e826601bdf0...|\n",
      "|42949673001|        3|        2|         0.0|0f43d8cdd43b0b787...|\n",
      "|42949673009|        3|        2|         0.0|0f43d8cdd43b0b787...|\n",
      "|42949673019|        2|        1|         0.0|2148f1da1ac29711e...|\n",
      "|42949673031|        5|        4|         0.0|97181c87a84cb6c70...|\n",
      "|51539607561|        8|        7|         0.0|a63bc051387f5baf6...|\n",
      "|51539607567|        2|        1|         0.0|2148f1da1ac29711e...|\n",
      "|51539607568|        3|        2|         0.0|0f43d8cdd43b0b787...|\n",
      "|51539607588|        2|        1|         0.0|2148f1da1ac29711e...|\n",
      "|60129542219|        4|        3|         0.0|5b6a1a47075309676...|\n",
      "|         16|       10|        9|         0.0|235d3c6d6788b8177...|\n",
      "|         18|        6|       12|       0.769|617b27a63be9c9e4c...|\n",
      "|         24|        2|        1|         0.0|2148f1da1ac29711e...|\n",
      "|         38|        6|       15|         1.0|7befbc1a93e06d1ba...|\n",
      "|         46|        5|        4|         0.0|97181c87a84cb6c70...|\n",
      "|         60|        4|        6|         1.0|faa092922b6078a79...|\n",
      "|         64|        2|        1|         0.0|2148f1da1ac29711e...|\n",
      "|         72|        6|       15|         1.0|7befbc1a93e06d1ba...|\n",
      "| 8589934594|        5|       10|         1.0|b0df24c18b6c07ad0...|\n",
      "| 8589934606|        3|        3|         1.0|7d2c307dbd866960f...|\n",
      "| 8589934621|        3|        3|         1.0|7d2c307dbd866960f...|\n",
      "| 8589934624|        4|        5|        0.75|ae74c38ca2f4f8315...|\n",
      "| 8589934636|        2|        1|         0.0|2148f1da1ac29711e...|\n",
      "| 8589934638|        2|        1|         0.0|2148f1da1ac29711e...|\n",
      "|17179869225|        2|        1|         0.0|2148f1da1ac29711e...|\n",
      "|17179869242|        6|        7|         0.4|bd90aa0d306409dc9...|\n",
      "|17179869248|        2|        1|         0.0|2148f1da1ac29711e...|\n",
      "|17179869249|        2|        1|         0.0|2148f1da1ac29711e...|\n",
      "|25769803788|        4|        3|         0.0|5b6a1a47075309676...|\n",
      "|25769803790|        3|        2|         0.0|0f43d8cdd43b0b787...|\n",
      "|25769803820|       16|       42|       0.339|6b04a2a91f3774858...|\n",
      "|25769803825|        9|        8|         0.0|396403360d038ffae...|\n",
      "|25769803835|        3|        3|         1.0|7d2c307dbd866960f...|\n",
      "|25769803848|        3|        2|         0.0|0f43d8cdd43b0b787...|\n",
      "|34359738373|        2|        1|         0.0|2148f1da1ac29711e...|\n",
      "|34359738374|        2|        1|         0.0|2148f1da1ac29711e...|\n",
      "|34359738376|       21|       20|         0.0|3a8ab31c3265dece6...|\n",
      "|34359738404|        2|        1|         0.0|2148f1da1ac29711e...|\n",
      "|34359738410|       10|       22|       0.518|832d2c779083846e6...|\n",
      "|34359738413|        7|        6|         0.0|3cc14d942ce3e1ca7...|\n",
      "|34359738432|        4|        6|         1.0|faa092922b6078a79...|\n",
      "|34359738447|        2|        1|         0.0|2148f1da1ac29711e...|\n",
      "|42949673010|        2|        1|         0.0|2148f1da1ac29711e...|\n",
      "|51539607557|        6|        5|         0.0|80a317e826601bdf0...|\n",
      "|51539607570|        4|        3|         0.0|5b6a1a47075309676...|\n",
      "|         13|        5|       10|         1.0|b0df24c18b6c07ad0...|\n",
      "|         20|        3|        2|         0.0|0f43d8cdd43b0b787...|\n",
      "|         21|        5|        4|         0.0|97181c87a84cb6c70...|\n",
      "|         39|        4|        6|         1.0|faa092922b6078a79...|\n",
      "|         52|        3|        3|         1.0|7d2c307dbd866960f...|\n",
      "|         58|        2|        1|         0.0|2148f1da1ac29711e...|\n",
      "| 8589934593|        4|        3|         0.0|5b6a1a47075309676...|\n",
      "| 8589934615|        4|        6|         1.0|faa092922b6078a79...|\n",
      "| 8589934631|       11|       10|         0.0|40e2f0d4aef6fe6ef...|\n",
      "| 8589934643|        2|        1|         0.0|2148f1da1ac29711e...|\n",
      "| 8589934668|        2|        1|         0.0|2148f1da1ac29711e...|\n",
      "| 8589934671|        6|       15|         1.0|7befbc1a93e06d1ba...|\n",
      "|17179869196|        6|        5|         0.0|80a317e826601bdf0...|\n",
      "|17179869208|        2|        1|         0.0|2148f1da1ac29711e...|\n",
      "|17179869223|        4|        5|        0.75|ae74c38ca2f4f8315...|\n",
      "|25769803805|        9|        8|         0.0|396403360d038ffae...|\n",
      "|25769803821|        3|        2|         0.0|0f43d8cdd43b0b787...|\n",
      "|25769803827|        7|        6|         0.0|3cc14d942ce3e1ca7...|\n",
      "|25769803833|        5|        4|         0.0|97181c87a84cb6c70...|\n",
      "|25769803841|        3|        2|         0.0|0f43d8cdd43b0b787...|\n",
      "|25769803849|        8|        7|         0.0|a63bc051387f5baf6...|\n",
      "|34359738372|        5|        7|         0.6|4afb3964482c6dc21...|\n",
      "|34359738439|        2|        1|         0.0|2148f1da1ac29711e...|\n",
      "|34359738441|        2|        1|         0.0|2148f1da1ac29711e...|\n",
      "|42949672979|        7|        6|         0.0|3cc14d942ce3e1ca7...|\n",
      "|42949673030|        6|        8|       0.474|d1e4fb20bbef95a7c...|\n",
      "|42949673032|        2|        1|         0.0|2148f1da1ac29711e...|\n",
      "|51539607564|        2|        1|         0.0|2148f1da1ac29711e...|\n",
      "|51539607596|        5|        4|         0.0|97181c87a84cb6c70...|\n",
      "|51539607611|        2|        1|         0.0|2148f1da1ac29711e...|\n",
      "|60129542154|        2|        1|         0.0|2148f1da1ac29711e...|\n",
      "|60129542170|        4|        3|         0.0|5b6a1a47075309676...|\n",
      "|60129542172|        6|        5|         0.0|80a317e826601bdf0...|\n",
      "|60129542195|        3|        2|         0.0|0f43d8cdd43b0b787...|\n",
      "|60129542200|        6|        5|         0.0|80a317e826601bdf0...|\n",
      "|60129542202|        5|        4|         0.0|97181c87a84cb6c70...|\n",
      "+-----------+---------+---------+------------+--------------------+\n",
      "\n"
     ]
    }
   ],
   "source": [
    "graphstats.select(\"component\",\"nodecount\",\"edgecount\",\"transitivity\",\"graphhash\").show(1000)"
   ]
  },
  {
   "cell_type": "code",
   "execution_count": null,
   "metadata": {},
   "outputs": [],
   "source": [
    "#graphhash"
   ]
  },
  {
   "cell_type": "code",
   "execution_count": 93,
   "metadata": {},
   "outputs": [
    {
     "name": "stdout",
     "output_type": "stream",
     "text": [
      "+--------------------+-----+\n",
      "|           graphhash|count|\n",
      "+--------------------+-----+\n",
      "|2c9d2efbc10596f86...|    2|\n",
      "|fd7b942801eab9c07...|    1|\n",
      "|f0d2dee88390f7b79...|    1|\n",
      "|80a317e826601bdf0...|   12|\n",
      "|bd8aa380863bb666c...|    1|\n",
      "|4b8e9152b1670e620...|    1|\n",
      "|6b04a2a91f3774858...|    1|\n",
      "|faa092922b6078a79...|   24|\n",
      "|ae74c38ca2f4f8315...|    4|\n",
      "|235d3c6d6788b8177...|    3|\n",
      "|12fa5d82d662c5c4a...|    1|\n",
      "|5b6a1a47075309676...|   19|\n",
      "|7d2c307dbd866960f...|   19|\n",
      "|97181c87a84cb6c70...|   21|\n",
      "|194079a7950834715...|    1|\n",
      "|0b2ea0d3ac8492384...|    3|\n",
      "|b52776320ff5b34f9...|    1|\n",
      "|563977067cb3597a1...|    1|\n",
      "|faebc76801aebb1c2...|    1|\n",
      "|d1e4fb20bbef95a7c...|    2|\n",
      "|7befbc1a93e06d1ba...|    4|\n",
      "|0c805e848b7946de1...|    2|\n",
      "|35e7736b330516c10...|    1|\n",
      "|21d3663e77b1240fa...|    1|\n",
      "|7a3cb2869ccb010f0...|    1|\n",
      "|0f43d8cdd43b0b787...|   32|\n",
      "|e6216e307d2520d5f...|    1|\n",
      "|54fcfbc89e9ac5c75...|    1|\n",
      "|73404bfaec40a29da...|    2|\n",
      "|a63bc051387f5baf6...|    6|\n",
      "|142a012e019943e2b...|    1|\n",
      "|10fadd1e1c9ab6c22...|    1|\n",
      "|d02956e0894810363...|    1|\n",
      "|3cc14d942ce3e1ca7...|   10|\n",
      "|1b20a87939bdb070e...|    1|\n",
      "|100618ea4ff35eb55...|    1|\n",
      "|4edc204f4e1666048...|    1|\n",
      "|0d5397367d5798925...|    1|\n",
      "|06441f249234b035f...|    1|\n",
      "|b3376699f9f8d467a...|    1|\n",
      "|3a8ab31c3265dece6...|    1|\n",
      "|832d2c779083846e6...|    1|\n",
      "|396403360d038ffae...|    6|\n",
      "|3bfefb903a8255bd7...|    1|\n",
      "|0c6b3b7d16414b33f...|    2|\n",
      "|266df7f3741e1bc80...|    1|\n",
      "|bba57e50f724d8790...|    1|\n",
      "|814fd6491e62cfd95...|    1|\n",
      "|bd90aa0d306409dc9...|    1|\n",
      "|2148f1da1ac29711e...|   78|\n",
      "|617b27a63be9c9e4c...|    4|\n",
      "|0db442538bb6dc81d...|    3|\n",
      "|b7d2de8fbe2bf8de6...|    1|\n",
      "|40e2f0d4aef6fe6ef...|    2|\n",
      "|5a678907265602f1f...|    1|\n",
      "|c9c15712c4447b166...|    1|\n",
      "|5275790a7352ea907...|    1|\n",
      "|1dbb9ba945be98844...|    1|\n",
      "|b0df24c18b6c07ad0...|    6|\n",
      "|d3ae5b827d65484e8...|    1|\n",
      "|4afb3964482c6dc21...|    2|\n",
      "+--------------------+-----+\n",
      "\n"
     ]
    }
   ],
   "source": [
    "graphstats.groupby(\"graphhash\").count().show(1000)"
   ]
  },
  {
   "cell_type": "code",
   "execution_count": null,
   "metadata": {},
   "outputs": [],
   "source": []
  },
  {
   "cell_type": "code",
   "execution_count": null,
   "metadata": {},
   "outputs": [],
   "source": []
  },
  {
   "cell_type": "code",
   "execution_count": 94,
   "metadata": {},
   "outputs": [],
   "source": [
    "from splink_graph.vectorised import edgebetweeness\n"
   ]
  },
  {
   "cell_type": "code",
   "execution_count": null,
   "metadata": {},
   "outputs": [],
   "source": []
  },
  {
   "cell_type": "code",
   "execution_count": 95,
   "metadata": {},
   "outputs": [
    {
     "name": "stdout",
     "output_type": "stream",
     "text": [
      "+---+---+-----------+---------+\n",
      "|src|dst|         eb|component|\n",
      "+---+---+-----------+---------+\n",
      "|107|827|        0.5|        2|\n",
      "|107|826|        0.5|        2|\n",
      "|107|243|        0.5|        2|\n",
      "|226|228| 0.33333334|       12|\n",
      "|226|227| 0.33333334|       12|\n",
      "|228|227| 0.33333334|       12|\n",
      "|391|727|        0.4|       26|\n",
      "|391|726|        0.4|       26|\n",
      "|391|723|        0.4|       26|\n",
      "|391|393|        0.4|       26|\n",
      "|409|411|        1.0|       28|\n",
      "| 43|860|0.044444446|       29|\n",
      "| 43|859|0.044444446|       29|\n",
      "| 43|858|0.044444446|       29|\n",
      "| 43|855|0.044444446|       29|\n",
      "| 43| 37| 0.06666667|       29|\n",
      "| 43| 39|0.044444446|       29|\n",
      "|860| 37| 0.08888889|       29|\n",
      "|860| 39| 0.06666667|       29|\n",
      "|859| 37| 0.08888889|       29|\n",
      "+---+---+-----------+---------+\n",
      "only showing top 20 rows\n",
      "\n"
     ]
    }
   ],
   "source": [
    "ebdf = edgebetweeness(edge_df, src=\"unique_id_l\", dst=\"unique_id_r\")\n",
    "ebdf.show()"
   ]
  },
  {
   "cell_type": "code",
   "execution_count": 96,
   "metadata": {},
   "outputs": [],
   "source": [
    "\n",
    "edge_df=edge_df.drop(\"component\")\n",
    "\n",
    "joined_edgedf= edge_df.join(ebdf, (ebdf.src == edge_df.unique_id_l) & (ebdf.dst==edge_df.unique_id_r)  \n",
    "                         &  ( edge_df.estimated_group== ebdf.component)\n",
    "                    )"
   ]
  },
  {
   "cell_type": "code",
   "execution_count": 97,
   "metadata": {},
   "outputs": [
    {
     "name": "stdout",
     "output_type": "stream",
     "text": [
      "root\n",
      " |-- tf_adjusted_match_prob: double (nullable = true)\n",
      " |-- match_probability: double (nullable = true)\n",
      " |-- surname_l: string (nullable = true)\n",
      " |-- surname_r: string (nullable = true)\n",
      " |-- dob_l: string (nullable = true)\n",
      " |-- dob_r: string (nullable = true)\n",
      " |-- city_l: string (nullable = true)\n",
      " |-- city_r: string (nullable = true)\n",
      " |-- email_l: string (nullable = true)\n",
      " |-- email_r: string (nullable = true)\n",
      " |-- l_info: string (nullable = false)\n",
      " |-- r_info: string (nullable = false)\n",
      " |-- estimated_group: long (nullable = true)\n",
      " |-- unique_id_l: string (nullable = true)\n",
      " |-- unique_id_r: string (nullable = true)\n",
      " |-- distance: double (nullable = true)\n",
      " |-- src: string (nullable = true)\n",
      " |-- dst: string (nullable = true)\n",
      " |-- eb: float (nullable = true)\n",
      " |-- component: long (nullable = true)\n",
      "\n"
     ]
    }
   ],
   "source": [
    "#ready to plot\n",
    "joined_edgedf.printSchema()\n"
   ]
  },
  {
   "cell_type": "code",
   "execution_count": null,
   "metadata": {},
   "outputs": [],
   "source": [
    "#currently not working"
   ]
  },
  {
   "cell_type": "code",
   "execution_count": 98,
   "metadata": {},
   "outputs": [],
   "source": [
    "from splink_graph.vectorised import bridge_edges"
   ]
  },
  {
   "cell_type": "code",
   "execution_count": 99,
   "metadata": {},
   "outputs": [
    {
     "name": "stdout",
     "output_type": "stream",
     "text": [
      "root\n",
      " |-- tf_adjusted_match_prob: double (nullable = true)\n",
      " |-- match_probability: double (nullable = true)\n",
      " |-- surname_l: string (nullable = true)\n",
      " |-- surname_r: string (nullable = true)\n",
      " |-- dob_l: string (nullable = true)\n",
      " |-- dob_r: string (nullable = true)\n",
      " |-- city_l: string (nullable = true)\n",
      " |-- city_r: string (nullable = true)\n",
      " |-- email_l: string (nullable = true)\n",
      " |-- email_r: string (nullable = true)\n",
      " |-- l_info: string (nullable = false)\n",
      " |-- r_info: string (nullable = false)\n",
      " |-- estimated_group: long (nullable = true)\n",
      " |-- unique_id_l: string (nullable = true)\n",
      " |-- unique_id_r: string (nullable = true)\n",
      " |-- distance: double (nullable = true)\n",
      "\n"
     ]
    }
   ],
   "source": [
    "edge_df.printSchema()"
   ]
  },
  {
   "cell_type": "code",
   "execution_count": 100,
   "metadata": {},
   "outputs": [],
   "source": [
    "bridge_edges_to_sample_from = bridge_edges(edge_df,src=\"unique_id_l\",dst=\"unique_id_r\",weight=\"tf_adjusted_match_prob\",component=\"estimated_group\")"
   ]
  },
  {
   "cell_type": "code",
   "execution_count": 101,
   "metadata": {},
   "outputs": [
    {
     "ename": "Py4JJavaError",
     "evalue": "An error occurred while calling o13973.showString.\n: org.apache.spark.SparkException: Job aborted due to stage failure: Task 0 in stage 2573.0 failed 1 times, most recent failure: Lost task 0.0 in stage 2573.0 (TID 8446, localhost, executor driver): org.apache.spark.api.python.PythonException: Traceback (most recent call last):\n  File \"/Users/theodoremanassis/anaconda3/lib/python3.7/site-packages/pyspark/python/lib/pyspark.zip/pyspark/worker.py\", line 377, in main\n    process()\n  File \"/Users/theodoremanassis/anaconda3/lib/python3.7/site-packages/pyspark/python/lib/pyspark.zip/pyspark/worker.py\", line 372, in process\n    serializer.dump_stream(func(split_index, iterator), outfile)\n  File \"/Users/theodoremanassis/anaconda3/lib/python3.7/site-packages/pyspark/python/lib/pyspark.zip/pyspark/serializers.py\", line 290, in dump_stream\n    for series in iterator:\n  File \"<string>\", line 1, in <lambda>\n  File \"/Users/theodoremanassis/anaconda3/lib/python3.7/site-packages/pyspark/python/lib/pyspark.zip/pyspark/worker.py\", line 125, in wrapped\n    \"Expected: {} Actual: {}\".format(len(return_type), len(result.columns)))\nRuntimeError: Number of columns of the returned pandas.DataFrame doesn't match specified schema. Expected: 5 Actual: 16\n\n\tat org.apache.spark.api.python.BasePythonRunner$ReaderIterator.handlePythonException(PythonRunner.scala:456)\n\tat org.apache.spark.sql.execution.python.ArrowPythonRunner$$anon$1.read(ArrowPythonRunner.scala:172)\n\tat org.apache.spark.sql.execution.python.ArrowPythonRunner$$anon$1.read(ArrowPythonRunner.scala:122)\n\tat org.apache.spark.api.python.BasePythonRunner$ReaderIterator.hasNext(PythonRunner.scala:410)\n\tat org.apache.spark.InterruptibleIterator.hasNext(InterruptibleIterator.scala:37)\n\tat scala.collection.Iterator$$anon$12.hasNext(Iterator.scala:440)\n\tat scala.collection.Iterator$$anon$11.hasNext(Iterator.scala:409)\n\tat org.apache.spark.sql.catalyst.expressions.GeneratedClass$GeneratedIteratorForCodegenStage20.processNext(Unknown Source)\n\tat org.apache.spark.sql.execution.BufferedRowIterator.hasNext(BufferedRowIterator.java:43)\n\tat org.apache.spark.sql.execution.WholeStageCodegenExec$$anonfun$13$$anon$1.hasNext(WholeStageCodegenExec.scala:636)\n\tat org.apache.spark.sql.execution.SparkPlan$$anonfun$2.apply(SparkPlan.scala:255)\n\tat org.apache.spark.sql.execution.SparkPlan$$anonfun$2.apply(SparkPlan.scala:247)\n\tat org.apache.spark.rdd.RDD$$anonfun$mapPartitionsInternal$1$$anonfun$apply$24.apply(RDD.scala:858)\n\tat org.apache.spark.rdd.RDD$$anonfun$mapPartitionsInternal$1$$anonfun$apply$24.apply(RDD.scala:858)\n\tat org.apache.spark.rdd.MapPartitionsRDD.compute(MapPartitionsRDD.scala:52)\n\tat org.apache.spark.rdd.RDD.computeOrReadCheckpoint(RDD.scala:346)\n\tat org.apache.spark.rdd.RDD.iterator(RDD.scala:310)\n\tat org.apache.spark.rdd.MapPartitionsRDD.compute(MapPartitionsRDD.scala:52)\n\tat org.apache.spark.rdd.RDD.computeOrReadCheckpoint(RDD.scala:346)\n\tat org.apache.spark.rdd.RDD.iterator(RDD.scala:310)\n\tat org.apache.spark.scheduler.ResultTask.runTask(ResultTask.scala:90)\n\tat org.apache.spark.scheduler.Task.run(Task.scala:123)\n\tat org.apache.spark.executor.Executor$TaskRunner$$anonfun$10.apply(Executor.scala:408)\n\tat org.apache.spark.util.Utils$.tryWithSafeFinally(Utils.scala:1360)\n\tat org.apache.spark.executor.Executor$TaskRunner.run(Executor.scala:414)\n\tat java.util.concurrent.ThreadPoolExecutor.runWorker(ThreadPoolExecutor.java:1149)\n\tat java.util.concurrent.ThreadPoolExecutor$Worker.run(ThreadPoolExecutor.java:624)\n\tat java.lang.Thread.run(Thread.java:748)\n\nDriver stacktrace:\n\tat org.apache.spark.scheduler.DAGScheduler.org$apache$spark$scheduler$DAGScheduler$$failJobAndIndependentStages(DAGScheduler.scala:1891)\n\tat org.apache.spark.scheduler.DAGScheduler$$anonfun$abortStage$1.apply(DAGScheduler.scala:1879)\n\tat org.apache.spark.scheduler.DAGScheduler$$anonfun$abortStage$1.apply(DAGScheduler.scala:1878)\n\tat scala.collection.mutable.ResizableArray$class.foreach(ResizableArray.scala:59)\n\tat scala.collection.mutable.ArrayBuffer.foreach(ArrayBuffer.scala:48)\n\tat org.apache.spark.scheduler.DAGScheduler.abortStage(DAGScheduler.scala:1878)\n\tat org.apache.spark.scheduler.DAGScheduler$$anonfun$handleTaskSetFailed$1.apply(DAGScheduler.scala:927)\n\tat org.apache.spark.scheduler.DAGScheduler$$anonfun$handleTaskSetFailed$1.apply(DAGScheduler.scala:927)\n\tat scala.Option.foreach(Option.scala:257)\n\tat org.apache.spark.scheduler.DAGScheduler.handleTaskSetFailed(DAGScheduler.scala:927)\n\tat org.apache.spark.scheduler.DAGSchedulerEventProcessLoop.doOnReceive(DAGScheduler.scala:2112)\n\tat org.apache.spark.scheduler.DAGSchedulerEventProcessLoop.onReceive(DAGScheduler.scala:2061)\n\tat org.apache.spark.scheduler.DAGSchedulerEventProcessLoop.onReceive(DAGScheduler.scala:2050)\n\tat org.apache.spark.util.EventLoop$$anon$1.run(EventLoop.scala:49)\n\tat org.apache.spark.scheduler.DAGScheduler.runJob(DAGScheduler.scala:738)\n\tat org.apache.spark.SparkContext.runJob(SparkContext.scala:2061)\n\tat org.apache.spark.SparkContext.runJob(SparkContext.scala:2082)\n\tat org.apache.spark.SparkContext.runJob(SparkContext.scala:2101)\n\tat org.apache.spark.sql.execution.SparkPlan.executeTake(SparkPlan.scala:365)\n\tat org.apache.spark.sql.execution.CollectLimitExec.executeCollect(limit.scala:38)\n\tat org.apache.spark.sql.Dataset.org$apache$spark$sql$Dataset$$collectFromPlan(Dataset.scala:3389)\n\tat org.apache.spark.sql.Dataset$$anonfun$head$1.apply(Dataset.scala:2550)\n\tat org.apache.spark.sql.Dataset$$anonfun$head$1.apply(Dataset.scala:2550)\n\tat org.apache.spark.sql.Dataset$$anonfun$52.apply(Dataset.scala:3370)\n\tat org.apache.spark.sql.execution.SQLExecution$$anonfun$withNewExecutionId$1.apply(SQLExecution.scala:80)\n\tat org.apache.spark.sql.execution.SQLExecution$.withSQLConfPropagated(SQLExecution.scala:127)\n\tat org.apache.spark.sql.execution.SQLExecution$.withNewExecutionId(SQLExecution.scala:75)\n\tat org.apache.spark.sql.Dataset.withAction(Dataset.scala:3369)\n\tat org.apache.spark.sql.Dataset.head(Dataset.scala:2550)\n\tat org.apache.spark.sql.Dataset.take(Dataset.scala:2764)\n\tat org.apache.spark.sql.Dataset.getRows(Dataset.scala:254)\n\tat org.apache.spark.sql.Dataset.showString(Dataset.scala:291)\n\tat sun.reflect.GeneratedMethodAccessor180.invoke(Unknown Source)\n\tat sun.reflect.DelegatingMethodAccessorImpl.invoke(DelegatingMethodAccessorImpl.java:43)\n\tat java.lang.reflect.Method.invoke(Method.java:498)\n\tat py4j.reflection.MethodInvoker.invoke(MethodInvoker.java:244)\n\tat py4j.reflection.ReflectionEngine.invoke(ReflectionEngine.java:357)\n\tat py4j.Gateway.invoke(Gateway.java:282)\n\tat py4j.commands.AbstractCommand.invokeMethod(AbstractCommand.java:132)\n\tat py4j.commands.CallCommand.execute(CallCommand.java:79)\n\tat py4j.GatewayConnection.run(GatewayConnection.java:238)\n\tat java.lang.Thread.run(Thread.java:748)\nCaused by: org.apache.spark.api.python.PythonException: Traceback (most recent call last):\n  File \"/Users/theodoremanassis/anaconda3/lib/python3.7/site-packages/pyspark/python/lib/pyspark.zip/pyspark/worker.py\", line 377, in main\n    process()\n  File \"/Users/theodoremanassis/anaconda3/lib/python3.7/site-packages/pyspark/python/lib/pyspark.zip/pyspark/worker.py\", line 372, in process\n    serializer.dump_stream(func(split_index, iterator), outfile)\n  File \"/Users/theodoremanassis/anaconda3/lib/python3.7/site-packages/pyspark/python/lib/pyspark.zip/pyspark/serializers.py\", line 290, in dump_stream\n    for series in iterator:\n  File \"<string>\", line 1, in <lambda>\n  File \"/Users/theodoremanassis/anaconda3/lib/python3.7/site-packages/pyspark/python/lib/pyspark.zip/pyspark/worker.py\", line 125, in wrapped\n    \"Expected: {} Actual: {}\".format(len(return_type), len(result.columns)))\nRuntimeError: Number of columns of the returned pandas.DataFrame doesn't match specified schema. Expected: 5 Actual: 16\n\n\tat org.apache.spark.api.python.BasePythonRunner$ReaderIterator.handlePythonException(PythonRunner.scala:456)\n\tat org.apache.spark.sql.execution.python.ArrowPythonRunner$$anon$1.read(ArrowPythonRunner.scala:172)\n\tat org.apache.spark.sql.execution.python.ArrowPythonRunner$$anon$1.read(ArrowPythonRunner.scala:122)\n\tat org.apache.spark.api.python.BasePythonRunner$ReaderIterator.hasNext(PythonRunner.scala:410)\n\tat org.apache.spark.InterruptibleIterator.hasNext(InterruptibleIterator.scala:37)\n\tat scala.collection.Iterator$$anon$12.hasNext(Iterator.scala:440)\n\tat scala.collection.Iterator$$anon$11.hasNext(Iterator.scala:409)\n\tat org.apache.spark.sql.catalyst.expressions.GeneratedClass$GeneratedIteratorForCodegenStage20.processNext(Unknown Source)\n\tat org.apache.spark.sql.execution.BufferedRowIterator.hasNext(BufferedRowIterator.java:43)\n\tat org.apache.spark.sql.execution.WholeStageCodegenExec$$anonfun$13$$anon$1.hasNext(WholeStageCodegenExec.scala:636)\n\tat org.apache.spark.sql.execution.SparkPlan$$anonfun$2.apply(SparkPlan.scala:255)\n\tat org.apache.spark.sql.execution.SparkPlan$$anonfun$2.apply(SparkPlan.scala:247)\n\tat org.apache.spark.rdd.RDD$$anonfun$mapPartitionsInternal$1$$anonfun$apply$24.apply(RDD.scala:858)\n\tat org.apache.spark.rdd.RDD$$anonfun$mapPartitionsInternal$1$$anonfun$apply$24.apply(RDD.scala:858)\n\tat org.apache.spark.rdd.MapPartitionsRDD.compute(MapPartitionsRDD.scala:52)\n\tat org.apache.spark.rdd.RDD.computeOrReadCheckpoint(RDD.scala:346)\n\tat org.apache.spark.rdd.RDD.iterator(RDD.scala:310)\n\tat org.apache.spark.rdd.MapPartitionsRDD.compute(MapPartitionsRDD.scala:52)\n\tat org.apache.spark.rdd.RDD.computeOrReadCheckpoint(RDD.scala:346)\n\tat org.apache.spark.rdd.RDD.iterator(RDD.scala:310)\n\tat org.apache.spark.scheduler.ResultTask.runTask(ResultTask.scala:90)\n\tat org.apache.spark.scheduler.Task.run(Task.scala:123)\n\tat org.apache.spark.executor.Executor$TaskRunner$$anonfun$10.apply(Executor.scala:408)\n\tat org.apache.spark.util.Utils$.tryWithSafeFinally(Utils.scala:1360)\n\tat org.apache.spark.executor.Executor$TaskRunner.run(Executor.scala:414)\n\tat java.util.concurrent.ThreadPoolExecutor.runWorker(ThreadPoolExecutor.java:1149)\n\tat java.util.concurrent.ThreadPoolExecutor$Worker.run(ThreadPoolExecutor.java:624)\n\t... 1 more\n",
     "output_type": "error",
     "traceback": [
      "\u001b[0;31m---------------------------------------------------------------------------\u001b[0m",
      "\u001b[0;31mPy4JJavaError\u001b[0m                             Traceback (most recent call last)",
      "\u001b[0;32m<ipython-input-101-c838499ed631>\u001b[0m in \u001b[0;36m<module>\u001b[0;34m\u001b[0m\n\u001b[0;32m----> 1\u001b[0;31m \u001b[0mbridge_edges_to_sample_from\u001b[0m\u001b[0;34m.\u001b[0m\u001b[0mshow\u001b[0m\u001b[0;34m(\u001b[0m\u001b[0;34m)\u001b[0m\u001b[0;34m\u001b[0m\u001b[0;34m\u001b[0m\u001b[0m\n\u001b[0m",
      "\u001b[0;32m~/anaconda3/lib/python3.7/site-packages/pyspark/sql/dataframe.py\u001b[0m in \u001b[0;36mshow\u001b[0;34m(self, n, truncate, vertical)\u001b[0m\n\u001b[1;32m    378\u001b[0m         \"\"\"\n\u001b[1;32m    379\u001b[0m         \u001b[0;32mif\u001b[0m \u001b[0misinstance\u001b[0m\u001b[0;34m(\u001b[0m\u001b[0mtruncate\u001b[0m\u001b[0;34m,\u001b[0m \u001b[0mbool\u001b[0m\u001b[0;34m)\u001b[0m \u001b[0;32mand\u001b[0m \u001b[0mtruncate\u001b[0m\u001b[0;34m:\u001b[0m\u001b[0;34m\u001b[0m\u001b[0;34m\u001b[0m\u001b[0m\n\u001b[0;32m--> 380\u001b[0;31m             \u001b[0mprint\u001b[0m\u001b[0;34m(\u001b[0m\u001b[0mself\u001b[0m\u001b[0;34m.\u001b[0m\u001b[0m_jdf\u001b[0m\u001b[0;34m.\u001b[0m\u001b[0mshowString\u001b[0m\u001b[0;34m(\u001b[0m\u001b[0mn\u001b[0m\u001b[0;34m,\u001b[0m \u001b[0;36m20\u001b[0m\u001b[0;34m,\u001b[0m \u001b[0mvertical\u001b[0m\u001b[0;34m)\u001b[0m\u001b[0;34m)\u001b[0m\u001b[0;34m\u001b[0m\u001b[0;34m\u001b[0m\u001b[0m\n\u001b[0m\u001b[1;32m    381\u001b[0m         \u001b[0;32melse\u001b[0m\u001b[0;34m:\u001b[0m\u001b[0;34m\u001b[0m\u001b[0;34m\u001b[0m\u001b[0m\n\u001b[1;32m    382\u001b[0m             \u001b[0mprint\u001b[0m\u001b[0;34m(\u001b[0m\u001b[0mself\u001b[0m\u001b[0;34m.\u001b[0m\u001b[0m_jdf\u001b[0m\u001b[0;34m.\u001b[0m\u001b[0mshowString\u001b[0m\u001b[0;34m(\u001b[0m\u001b[0mn\u001b[0m\u001b[0;34m,\u001b[0m \u001b[0mint\u001b[0m\u001b[0;34m(\u001b[0m\u001b[0mtruncate\u001b[0m\u001b[0;34m)\u001b[0m\u001b[0;34m,\u001b[0m \u001b[0mvertical\u001b[0m\u001b[0;34m)\u001b[0m\u001b[0;34m)\u001b[0m\u001b[0;34m\u001b[0m\u001b[0;34m\u001b[0m\u001b[0m\n",
      "\u001b[0;32m~/anaconda3/lib/python3.7/site-packages/py4j/java_gateway.py\u001b[0m in \u001b[0;36m__call__\u001b[0;34m(self, *args)\u001b[0m\n\u001b[1;32m   1255\u001b[0m         \u001b[0manswer\u001b[0m \u001b[0;34m=\u001b[0m \u001b[0mself\u001b[0m\u001b[0;34m.\u001b[0m\u001b[0mgateway_client\u001b[0m\u001b[0;34m.\u001b[0m\u001b[0msend_command\u001b[0m\u001b[0;34m(\u001b[0m\u001b[0mcommand\u001b[0m\u001b[0;34m)\u001b[0m\u001b[0;34m\u001b[0m\u001b[0;34m\u001b[0m\u001b[0m\n\u001b[1;32m   1256\u001b[0m         return_value = get_return_value(\n\u001b[0;32m-> 1257\u001b[0;31m             answer, self.gateway_client, self.target_id, self.name)\n\u001b[0m\u001b[1;32m   1258\u001b[0m \u001b[0;34m\u001b[0m\u001b[0m\n\u001b[1;32m   1259\u001b[0m         \u001b[0;32mfor\u001b[0m \u001b[0mtemp_arg\u001b[0m \u001b[0;32min\u001b[0m \u001b[0mtemp_args\u001b[0m\u001b[0;34m:\u001b[0m\u001b[0;34m\u001b[0m\u001b[0;34m\u001b[0m\u001b[0m\n",
      "\u001b[0;32m~/anaconda3/lib/python3.7/site-packages/pyspark/sql/utils.py\u001b[0m in \u001b[0;36mdeco\u001b[0;34m(*a, **kw)\u001b[0m\n\u001b[1;32m     61\u001b[0m     \u001b[0;32mdef\u001b[0m \u001b[0mdeco\u001b[0m\u001b[0;34m(\u001b[0m\u001b[0;34m*\u001b[0m\u001b[0ma\u001b[0m\u001b[0;34m,\u001b[0m \u001b[0;34m**\u001b[0m\u001b[0mkw\u001b[0m\u001b[0;34m)\u001b[0m\u001b[0;34m:\u001b[0m\u001b[0;34m\u001b[0m\u001b[0;34m\u001b[0m\u001b[0m\n\u001b[1;32m     62\u001b[0m         \u001b[0;32mtry\u001b[0m\u001b[0;34m:\u001b[0m\u001b[0;34m\u001b[0m\u001b[0;34m\u001b[0m\u001b[0m\n\u001b[0;32m---> 63\u001b[0;31m             \u001b[0;32mreturn\u001b[0m \u001b[0mf\u001b[0m\u001b[0;34m(\u001b[0m\u001b[0;34m*\u001b[0m\u001b[0ma\u001b[0m\u001b[0;34m,\u001b[0m \u001b[0;34m**\u001b[0m\u001b[0mkw\u001b[0m\u001b[0;34m)\u001b[0m\u001b[0;34m\u001b[0m\u001b[0;34m\u001b[0m\u001b[0m\n\u001b[0m\u001b[1;32m     64\u001b[0m         \u001b[0;32mexcept\u001b[0m \u001b[0mpy4j\u001b[0m\u001b[0;34m.\u001b[0m\u001b[0mprotocol\u001b[0m\u001b[0;34m.\u001b[0m\u001b[0mPy4JJavaError\u001b[0m \u001b[0;32mas\u001b[0m \u001b[0me\u001b[0m\u001b[0;34m:\u001b[0m\u001b[0;34m\u001b[0m\u001b[0;34m\u001b[0m\u001b[0m\n\u001b[1;32m     65\u001b[0m             \u001b[0ms\u001b[0m \u001b[0;34m=\u001b[0m \u001b[0me\u001b[0m\u001b[0;34m.\u001b[0m\u001b[0mjava_exception\u001b[0m\u001b[0;34m.\u001b[0m\u001b[0mtoString\u001b[0m\u001b[0;34m(\u001b[0m\u001b[0;34m)\u001b[0m\u001b[0;34m\u001b[0m\u001b[0;34m\u001b[0m\u001b[0m\n",
      "\u001b[0;32m~/anaconda3/lib/python3.7/site-packages/py4j/protocol.py\u001b[0m in \u001b[0;36mget_return_value\u001b[0;34m(answer, gateway_client, target_id, name)\u001b[0m\n\u001b[1;32m    326\u001b[0m                 raise Py4JJavaError(\n\u001b[1;32m    327\u001b[0m                     \u001b[0;34m\"An error occurred while calling {0}{1}{2}.\\n\"\u001b[0m\u001b[0;34m.\u001b[0m\u001b[0;34m\u001b[0m\u001b[0;34m\u001b[0m\u001b[0m\n\u001b[0;32m--> 328\u001b[0;31m                     format(target_id, \".\", name), value)\n\u001b[0m\u001b[1;32m    329\u001b[0m             \u001b[0;32melse\u001b[0m\u001b[0;34m:\u001b[0m\u001b[0;34m\u001b[0m\u001b[0;34m\u001b[0m\u001b[0m\n\u001b[1;32m    330\u001b[0m                 raise Py4JError(\n",
      "\u001b[0;31mPy4JJavaError\u001b[0m: An error occurred while calling o13973.showString.\n: org.apache.spark.SparkException: Job aborted due to stage failure: Task 0 in stage 2573.0 failed 1 times, most recent failure: Lost task 0.0 in stage 2573.0 (TID 8446, localhost, executor driver): org.apache.spark.api.python.PythonException: Traceback (most recent call last):\n  File \"/Users/theodoremanassis/anaconda3/lib/python3.7/site-packages/pyspark/python/lib/pyspark.zip/pyspark/worker.py\", line 377, in main\n    process()\n  File \"/Users/theodoremanassis/anaconda3/lib/python3.7/site-packages/pyspark/python/lib/pyspark.zip/pyspark/worker.py\", line 372, in process\n    serializer.dump_stream(func(split_index, iterator), outfile)\n  File \"/Users/theodoremanassis/anaconda3/lib/python3.7/site-packages/pyspark/python/lib/pyspark.zip/pyspark/serializers.py\", line 290, in dump_stream\n    for series in iterator:\n  File \"<string>\", line 1, in <lambda>\n  File \"/Users/theodoremanassis/anaconda3/lib/python3.7/site-packages/pyspark/python/lib/pyspark.zip/pyspark/worker.py\", line 125, in wrapped\n    \"Expected: {} Actual: {}\".format(len(return_type), len(result.columns)))\nRuntimeError: Number of columns of the returned pandas.DataFrame doesn't match specified schema. Expected: 5 Actual: 16\n\n\tat org.apache.spark.api.python.BasePythonRunner$ReaderIterator.handlePythonException(PythonRunner.scala:456)\n\tat org.apache.spark.sql.execution.python.ArrowPythonRunner$$anon$1.read(ArrowPythonRunner.scala:172)\n\tat org.apache.spark.sql.execution.python.ArrowPythonRunner$$anon$1.read(ArrowPythonRunner.scala:122)\n\tat org.apache.spark.api.python.BasePythonRunner$ReaderIterator.hasNext(PythonRunner.scala:410)\n\tat org.apache.spark.InterruptibleIterator.hasNext(InterruptibleIterator.scala:37)\n\tat scala.collection.Iterator$$anon$12.hasNext(Iterator.scala:440)\n\tat scala.collection.Iterator$$anon$11.hasNext(Iterator.scala:409)\n\tat org.apache.spark.sql.catalyst.expressions.GeneratedClass$GeneratedIteratorForCodegenStage20.processNext(Unknown Source)\n\tat org.apache.spark.sql.execution.BufferedRowIterator.hasNext(BufferedRowIterator.java:43)\n\tat org.apache.spark.sql.execution.WholeStageCodegenExec$$anonfun$13$$anon$1.hasNext(WholeStageCodegenExec.scala:636)\n\tat org.apache.spark.sql.execution.SparkPlan$$anonfun$2.apply(SparkPlan.scala:255)\n\tat org.apache.spark.sql.execution.SparkPlan$$anonfun$2.apply(SparkPlan.scala:247)\n\tat org.apache.spark.rdd.RDD$$anonfun$mapPartitionsInternal$1$$anonfun$apply$24.apply(RDD.scala:858)\n\tat org.apache.spark.rdd.RDD$$anonfun$mapPartitionsInternal$1$$anonfun$apply$24.apply(RDD.scala:858)\n\tat org.apache.spark.rdd.MapPartitionsRDD.compute(MapPartitionsRDD.scala:52)\n\tat org.apache.spark.rdd.RDD.computeOrReadCheckpoint(RDD.scala:346)\n\tat org.apache.spark.rdd.RDD.iterator(RDD.scala:310)\n\tat org.apache.spark.rdd.MapPartitionsRDD.compute(MapPartitionsRDD.scala:52)\n\tat org.apache.spark.rdd.RDD.computeOrReadCheckpoint(RDD.scala:346)\n\tat org.apache.spark.rdd.RDD.iterator(RDD.scala:310)\n\tat org.apache.spark.scheduler.ResultTask.runTask(ResultTask.scala:90)\n\tat org.apache.spark.scheduler.Task.run(Task.scala:123)\n\tat org.apache.spark.executor.Executor$TaskRunner$$anonfun$10.apply(Executor.scala:408)\n\tat org.apache.spark.util.Utils$.tryWithSafeFinally(Utils.scala:1360)\n\tat org.apache.spark.executor.Executor$TaskRunner.run(Executor.scala:414)\n\tat java.util.concurrent.ThreadPoolExecutor.runWorker(ThreadPoolExecutor.java:1149)\n\tat java.util.concurrent.ThreadPoolExecutor$Worker.run(ThreadPoolExecutor.java:624)\n\tat java.lang.Thread.run(Thread.java:748)\n\nDriver stacktrace:\n\tat org.apache.spark.scheduler.DAGScheduler.org$apache$spark$scheduler$DAGScheduler$$failJobAndIndependentStages(DAGScheduler.scala:1891)\n\tat org.apache.spark.scheduler.DAGScheduler$$anonfun$abortStage$1.apply(DAGScheduler.scala:1879)\n\tat org.apache.spark.scheduler.DAGScheduler$$anonfun$abortStage$1.apply(DAGScheduler.scala:1878)\n\tat scala.collection.mutable.ResizableArray$class.foreach(ResizableArray.scala:59)\n\tat scala.collection.mutable.ArrayBuffer.foreach(ArrayBuffer.scala:48)\n\tat org.apache.spark.scheduler.DAGScheduler.abortStage(DAGScheduler.scala:1878)\n\tat org.apache.spark.scheduler.DAGScheduler$$anonfun$handleTaskSetFailed$1.apply(DAGScheduler.scala:927)\n\tat org.apache.spark.scheduler.DAGScheduler$$anonfun$handleTaskSetFailed$1.apply(DAGScheduler.scala:927)\n\tat scala.Option.foreach(Option.scala:257)\n\tat org.apache.spark.scheduler.DAGScheduler.handleTaskSetFailed(DAGScheduler.scala:927)\n\tat org.apache.spark.scheduler.DAGSchedulerEventProcessLoop.doOnReceive(DAGScheduler.scala:2112)\n\tat org.apache.spark.scheduler.DAGSchedulerEventProcessLoop.onReceive(DAGScheduler.scala:2061)\n\tat org.apache.spark.scheduler.DAGSchedulerEventProcessLoop.onReceive(DAGScheduler.scala:2050)\n\tat org.apache.spark.util.EventLoop$$anon$1.run(EventLoop.scala:49)\n\tat org.apache.spark.scheduler.DAGScheduler.runJob(DAGScheduler.scala:738)\n\tat org.apache.spark.SparkContext.runJob(SparkContext.scala:2061)\n\tat org.apache.spark.SparkContext.runJob(SparkContext.scala:2082)\n\tat org.apache.spark.SparkContext.runJob(SparkContext.scala:2101)\n\tat org.apache.spark.sql.execution.SparkPlan.executeTake(SparkPlan.scala:365)\n\tat org.apache.spark.sql.execution.CollectLimitExec.executeCollect(limit.scala:38)\n\tat org.apache.spark.sql.Dataset.org$apache$spark$sql$Dataset$$collectFromPlan(Dataset.scala:3389)\n\tat org.apache.spark.sql.Dataset$$anonfun$head$1.apply(Dataset.scala:2550)\n\tat org.apache.spark.sql.Dataset$$anonfun$head$1.apply(Dataset.scala:2550)\n\tat org.apache.spark.sql.Dataset$$anonfun$52.apply(Dataset.scala:3370)\n\tat org.apache.spark.sql.execution.SQLExecution$$anonfun$withNewExecutionId$1.apply(SQLExecution.scala:80)\n\tat org.apache.spark.sql.execution.SQLExecution$.withSQLConfPropagated(SQLExecution.scala:127)\n\tat org.apache.spark.sql.execution.SQLExecution$.withNewExecutionId(SQLExecution.scala:75)\n\tat org.apache.spark.sql.Dataset.withAction(Dataset.scala:3369)\n\tat org.apache.spark.sql.Dataset.head(Dataset.scala:2550)\n\tat org.apache.spark.sql.Dataset.take(Dataset.scala:2764)\n\tat org.apache.spark.sql.Dataset.getRows(Dataset.scala:254)\n\tat org.apache.spark.sql.Dataset.showString(Dataset.scala:291)\n\tat sun.reflect.GeneratedMethodAccessor180.invoke(Unknown Source)\n\tat sun.reflect.DelegatingMethodAccessorImpl.invoke(DelegatingMethodAccessorImpl.java:43)\n\tat java.lang.reflect.Method.invoke(Method.java:498)\n\tat py4j.reflection.MethodInvoker.invoke(MethodInvoker.java:244)\n\tat py4j.reflection.ReflectionEngine.invoke(ReflectionEngine.java:357)\n\tat py4j.Gateway.invoke(Gateway.java:282)\n\tat py4j.commands.AbstractCommand.invokeMethod(AbstractCommand.java:132)\n\tat py4j.commands.CallCommand.execute(CallCommand.java:79)\n\tat py4j.GatewayConnection.run(GatewayConnection.java:238)\n\tat java.lang.Thread.run(Thread.java:748)\nCaused by: org.apache.spark.api.python.PythonException: Traceback (most recent call last):\n  File \"/Users/theodoremanassis/anaconda3/lib/python3.7/site-packages/pyspark/python/lib/pyspark.zip/pyspark/worker.py\", line 377, in main\n    process()\n  File \"/Users/theodoremanassis/anaconda3/lib/python3.7/site-packages/pyspark/python/lib/pyspark.zip/pyspark/worker.py\", line 372, in process\n    serializer.dump_stream(func(split_index, iterator), outfile)\n  File \"/Users/theodoremanassis/anaconda3/lib/python3.7/site-packages/pyspark/python/lib/pyspark.zip/pyspark/serializers.py\", line 290, in dump_stream\n    for series in iterator:\n  File \"<string>\", line 1, in <lambda>\n  File \"/Users/theodoremanassis/anaconda3/lib/python3.7/site-packages/pyspark/python/lib/pyspark.zip/pyspark/worker.py\", line 125, in wrapped\n    \"Expected: {} Actual: {}\".format(len(return_type), len(result.columns)))\nRuntimeError: Number of columns of the returned pandas.DataFrame doesn't match specified schema. Expected: 5 Actual: 16\n\n\tat org.apache.spark.api.python.BasePythonRunner$ReaderIterator.handlePythonException(PythonRunner.scala:456)\n\tat org.apache.spark.sql.execution.python.ArrowPythonRunner$$anon$1.read(ArrowPythonRunner.scala:172)\n\tat org.apache.spark.sql.execution.python.ArrowPythonRunner$$anon$1.read(ArrowPythonRunner.scala:122)\n\tat org.apache.spark.api.python.BasePythonRunner$ReaderIterator.hasNext(PythonRunner.scala:410)\n\tat org.apache.spark.InterruptibleIterator.hasNext(InterruptibleIterator.scala:37)\n\tat scala.collection.Iterator$$anon$12.hasNext(Iterator.scala:440)\n\tat scala.collection.Iterator$$anon$11.hasNext(Iterator.scala:409)\n\tat org.apache.spark.sql.catalyst.expressions.GeneratedClass$GeneratedIteratorForCodegenStage20.processNext(Unknown Source)\n\tat org.apache.spark.sql.execution.BufferedRowIterator.hasNext(BufferedRowIterator.java:43)\n\tat org.apache.spark.sql.execution.WholeStageCodegenExec$$anonfun$13$$anon$1.hasNext(WholeStageCodegenExec.scala:636)\n\tat org.apache.spark.sql.execution.SparkPlan$$anonfun$2.apply(SparkPlan.scala:255)\n\tat org.apache.spark.sql.execution.SparkPlan$$anonfun$2.apply(SparkPlan.scala:247)\n\tat org.apache.spark.rdd.RDD$$anonfun$mapPartitionsInternal$1$$anonfun$apply$24.apply(RDD.scala:858)\n\tat org.apache.spark.rdd.RDD$$anonfun$mapPartitionsInternal$1$$anonfun$apply$24.apply(RDD.scala:858)\n\tat org.apache.spark.rdd.MapPartitionsRDD.compute(MapPartitionsRDD.scala:52)\n\tat org.apache.spark.rdd.RDD.computeOrReadCheckpoint(RDD.scala:346)\n\tat org.apache.spark.rdd.RDD.iterator(RDD.scala:310)\n\tat org.apache.spark.rdd.MapPartitionsRDD.compute(MapPartitionsRDD.scala:52)\n\tat org.apache.spark.rdd.RDD.computeOrReadCheckpoint(RDD.scala:346)\n\tat org.apache.spark.rdd.RDD.iterator(RDD.scala:310)\n\tat org.apache.spark.scheduler.ResultTask.runTask(ResultTask.scala:90)\n\tat org.apache.spark.scheduler.Task.run(Task.scala:123)\n\tat org.apache.spark.executor.Executor$TaskRunner$$anonfun$10.apply(Executor.scala:408)\n\tat org.apache.spark.util.Utils$.tryWithSafeFinally(Utils.scala:1360)\n\tat org.apache.spark.executor.Executor$TaskRunner.run(Executor.scala:414)\n\tat java.util.concurrent.ThreadPoolExecutor.runWorker(ThreadPoolExecutor.java:1149)\n\tat java.util.concurrent.ThreadPoolExecutor$Worker.run(ThreadPoolExecutor.java:624)\n\t... 1 more\n"
     ]
    }
   ],
   "source": [
    "bridge_edges_to_sample_from.show()"
   ]
  },
  {
   "cell_type": "code",
   "execution_count": null,
   "metadata": {},
   "outputs": [],
   "source": []
  },
  {
   "cell_type": "code",
   "execution_count": null,
   "metadata": {},
   "outputs": [],
   "source": []
  },
  {
   "cell_type": "code",
   "execution_count": null,
   "metadata": {},
   "outputs": [],
   "source": []
  },
  {
   "cell_type": "code",
   "execution_count": null,
   "metadata": {},
   "outputs": [],
   "source": []
  },
  {
   "cell_type": "code",
   "execution_count": null,
   "metadata": {},
   "outputs": [],
   "source": []
  },
  {
   "cell_type": "code",
   "execution_count": null,
   "metadata": {},
   "outputs": [],
   "source": []
  },
  {
   "cell_type": "code",
   "execution_count": null,
   "metadata": {},
   "outputs": [],
   "source": []
  },
  {
   "cell_type": "code",
   "execution_count": null,
   "metadata": {},
   "outputs": [],
   "source": []
  },
  {
   "cell_type": "code",
   "execution_count": null,
   "metadata": {},
   "outputs": [],
   "source": []
  },
  {
   "cell_type": "code",
   "execution_count": null,
   "metadata": {},
   "outputs": [],
   "source": []
  },
  {
   "cell_type": "code",
   "execution_count": null,
   "metadata": {},
   "outputs": [],
   "source": []
  },
  {
   "cell_type": "code",
   "execution_count": null,
   "metadata": {},
   "outputs": [],
   "source": []
  },
  {
   "cell_type": "code",
   "execution_count": null,
   "metadata": {},
   "outputs": [],
   "source": []
  },
  {
   "cell_type": "code",
   "execution_count": null,
   "metadata": {},
   "outputs": [],
   "source": []
  }
 ],
 "metadata": {
  "kernelspec": {
   "display_name": "Python 3",
   "language": "python",
   "name": "python3"
  },
  "language_info": {
   "codemirror_mode": {
    "name": "ipython",
    "version": 3
   },
   "file_extension": ".py",
   "mimetype": "text/x-python",
   "name": "python",
   "nbconvert_exporter": "python",
   "pygments_lexer": "ipython3",
   "version": "3.7.4"
  }
 },
 "nbformat": 4,
 "nbformat_minor": 4
}
