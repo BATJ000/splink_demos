{
 "cells": [
  {
   "cell_type": "markdown",
   "metadata": {},
   "source": [
    "## Splink deduplication demo \n",
    "\n",
    "In this demo we de-duplicate a dataset.  The dataset is small (1000) rows to enable the tutorial to be run interactively, but readers should imaging the true dataset is large (millions of rows).\n",
    "\n",
    "This is a comprehensive example in which we demonstrate the full range of functionality of Splink, and how it is intended to be used.  A quickstart notebook is provided elsewhere.\n",
    "\n",
    "Note that various outputs are printed interactively using e.g. `spark_dataframe.show()`.  This is for instructional purposes only - it degrades performance and shouldn't be used in a production setting."
   ]
  },
  {
   "cell_type": "markdown",
   "metadata": {},
   "source": [
    "## Step 1:  Imports and setup\n",
    "\n",
    "The following is just boilerplate code that sets up the Spark session and sets some other non-essential configuration options"
   ]
  },
  {
   "cell_type": "code",
   "execution_count": 1,
   "metadata": {},
   "outputs": [],
   "source": [
    "import pandas as pd \n",
    "pd.options.display.max_columns = 500\n",
    "pd.options.display.max_rows = 100"
   ]
  },
  {
   "cell_type": "code",
   "execution_count": 2,
   "metadata": {},
   "outputs": [],
   "source": [
    "import logging \n",
    "logging.basicConfig()  # Means logs will print in Jupyter Lab\n",
    "\n",
    "# Set to DEBUG if you want splink to log the SQL statements it's executing under the hood\n",
    "logging.getLogger(\"splink\").setLevel(logging.INFO)"
   ]
  },
  {
   "cell_type": "code",
   "execution_count": 3,
   "metadata": {},
   "outputs": [],
   "source": [
    "from utility_functions.demo_utils import get_spark\n",
    "spark = get_spark() # See utility_functions/demo_utils.py for how to set up Spark"
   ]
  },
  {
   "cell_type": "markdown",
   "metadata": {},
   "source": [
    "## Step 2:  Read in data"
   ]
  },
  {
   "cell_type": "markdown",
   "metadata": {},
   "source": [
    "Note that the `group` column is the truth - rows which share the same value refer to the same person.  In the real world, we wouldn't have this field because this is the truth - the label which Splink is trying to estimate."
   ]
  },
  {
   "cell_type": "code",
   "execution_count": 4,
   "metadata": {},
   "outputs": [
    {
     "name": "stdout",
     "output_type": "stream",
     "text": [
      "+---------+----------+-------+----------+------+--------------------+-----+\n",
      "|unique_id|first_name|surname|       dob|  city|               email|group|\n",
      "+---------+----------+-------+----------+------+--------------------+-----+\n",
      "|        0|    Julia |   null|2015-10-29|London| hannah88@powers.com|    0|\n",
      "|        1|    Julia | Taylor|2015-07-31|London| hannah88@powers.com|    0|\n",
      "|        2|    Julia | Taylor|2016-01-27|London| hannah88@powers.com|    0|\n",
      "|        3|    Julia | Taylor|2015-10-29|  null|  hannah88opowersc@m|    0|\n",
      "|        4|      oNah| Watson|2008-03-23|Bolton|matthew78@ballard...|    1|\n",
      "+---------+----------+-------+----------+------+--------------------+-----+\n",
      "only showing top 5 rows\n",
      "\n"
     ]
    }
   ],
   "source": [
    "df = spark.read.parquet(\"data/fake_1000.parquet\")\n",
    "df.show(5)"
   ]
  },
  {
   "cell_type": "markdown",
   "metadata": {},
   "source": [
    "## Step 3:  Profile the data\n",
    "\n",
    "Understanding your data through the use of summary statistics is critical. \n",
    "\n",
    "For the purposes of data linking, one of the most important attributes of your data is cardinality.  Fields like date of birth which have a large number of unique values (high cardinality) are more useful than fields with low cardinality like gender.\n",
    "\n",
    "Another important attribute is skew, which can occur:\n",
    "- because values (like a first name of John) occur more frequently in the real world\n",
    "- due to data quality issues (such as a large number of date of birth fields containing the value '1970-01-01' due errors in date parsing)\n",
    "\n",
    "In general Splink will produce less accurate predictions when you have skew, especially in the case of extreme skew.  So, for example, different name frequences (John vs Robin) shouldn't cause a huge problem, but if you have 30,000 distinct dates of birth, but half of the values are '1970-01-01' Splink is unlikely to produce accuate predictions of match probability.\n",
    "\n",
    "It is imperative, therefore, that data quality issues are addressed prior to using Splink.  Note that Splink will correctly deal with nulls, so suspicious values should usually be nulled out.\n",
    "\n",
    "Splink provides a profiling tool to for you to visually inspect value frequencies, which we can see as follows:\n",
    "\n",
    "In the caes of our test dataset, there is a moderate level of skew, partcularly on the first_name, surname and city columns.  We can see most of our fields have high cardinality.\n",
    "\n",
    "We also observe that misspellings are common across most fields."
   ]
  },
  {
   "cell_type": "code",
   "execution_count": 5,
   "metadata": {},
   "outputs": [],
   "source": [
    "from splink.profile import column_value_frequencies_chart"
   ]
  },
  {
   "cell_type": "code",
   "execution_count": 6,
   "metadata": {},
   "outputs": [
    {
     "data": {
      "application/vnd.vegalite.v4+json": {
       "$schema": "https://vega.github.io/schema/vega-lite/v4.8.1.json",
       "config": {
        "view": {
         "continuousHeight": 300,
         "continuousWidth": 400
        }
       },
       "vconcat": [
        {
         "hconcat": [
          {
           "data": {
            "values": [
             {
              "group_name": "first_name",
              "percentile_ex_nulls": 1,
              "percentile_inc_nulls": 1,
              "sum_tokens_in_value_count_group": 22,
              "total_non_null_rows": 900,
              "total_rows_inc_nulls": 1000,
              "value_count": 22
             },
             {
              "percentile_ex_nulls": 0.9755555555555555,
              "percentile_inc_nulls": 0.978,
              "proportion_of_non_null_rows": 0.024444444444444446,
              "sum_tokens_in_value_count_group": 22,
              "total_non_null_rows": 900,
              "total_rows_inc_nulls": 1000,
              "value_count": 22
             },
             {
              "percentile_ex_nulls": 0.9355555555555556,
              "percentile_inc_nulls": 0.942,
              "proportion_of_non_null_rows": 0.04,
              "sum_tokens_in_value_count_group": 36,
              "total_non_null_rows": 900,
              "total_rows_inc_nulls": 1000,
              "value_count": 18
             },
             {
              "percentile_ex_nulls": 0.9166666666666666,
              "percentile_inc_nulls": 0.925,
              "proportion_of_non_null_rows": 0.01888888888888889,
              "sum_tokens_in_value_count_group": 17,
              "total_non_null_rows": 900,
              "total_rows_inc_nulls": 1000,
              "value_count": 17
             },
             {
              "percentile_ex_nulls": 0.9,
              "percentile_inc_nulls": 0.91,
              "proportion_of_non_null_rows": 0.016666666666666666,
              "sum_tokens_in_value_count_group": 15,
              "total_non_null_rows": 900,
              "total_rows_inc_nulls": 1000,
              "value_count": 15
             },
             {
              "percentile_ex_nulls": 0.8855555555555555,
              "percentile_inc_nulls": 0.897,
              "proportion_of_non_null_rows": 0.014444444444444444,
              "sum_tokens_in_value_count_group": 13,
              "total_non_null_rows": 900,
              "total_rows_inc_nulls": 1000,
              "value_count": 13
             },
             {
              "percentile_ex_nulls": 0.8722222222222222,
              "percentile_inc_nulls": 0.885,
              "proportion_of_non_null_rows": 0.013333333333333334,
              "sum_tokens_in_value_count_group": 12,
              "total_non_null_rows": 900,
              "total_rows_inc_nulls": 1000,
              "value_count": 12
             },
             {
              "percentile_ex_nulls": 0.8477777777777777,
              "percentile_inc_nulls": 0.863,
              "proportion_of_non_null_rows": 0.024444444444444446,
              "sum_tokens_in_value_count_group": 22,
              "total_non_null_rows": 900,
              "total_rows_inc_nulls": 1000,
              "value_count": 11
             },
             {
              "percentile_ex_nulls": 0.7922222222222222,
              "percentile_inc_nulls": 0.813,
              "proportion_of_non_null_rows": 0.05555555555555555,
              "sum_tokens_in_value_count_group": 50,
              "total_non_null_rows": 900,
              "total_rows_inc_nulls": 1000,
              "value_count": 10
             },
             {
              "percentile_ex_nulls": 0.7822222222222223,
              "percentile_inc_nulls": 0.804,
              "proportion_of_non_null_rows": 0.01,
              "sum_tokens_in_value_count_group": 9,
              "total_non_null_rows": 900,
              "total_rows_inc_nulls": 1000,
              "value_count": 9
             },
             {
              "percentile_ex_nulls": 0.7022222222222223,
              "percentile_inc_nulls": 0.732,
              "proportion_of_non_null_rows": 0.08,
              "sum_tokens_in_value_count_group": 72,
              "total_non_null_rows": 900,
              "total_rows_inc_nulls": 1000,
              "value_count": 8
             },
             {
              "percentile_ex_nulls": 0.6711111111111111,
              "percentile_inc_nulls": 0.704,
              "proportion_of_non_null_rows": 0.03111111111111111,
              "sum_tokens_in_value_count_group": 28,
              "total_non_null_rows": 900,
              "total_rows_inc_nulls": 1000,
              "value_count": 7
             },
             {
              "percentile_ex_nulls": 0.5844444444444444,
              "percentile_inc_nulls": 0.626,
              "proportion_of_non_null_rows": 0.08666666666666667,
              "sum_tokens_in_value_count_group": 78,
              "total_non_null_rows": 900,
              "total_rows_inc_nulls": 1000,
              "value_count": 6
             },
             {
              "percentile_ex_nulls": 0.49,
              "percentile_inc_nulls": 0.5409999999999999,
              "proportion_of_non_null_rows": 0.09444444444444444,
              "sum_tokens_in_value_count_group": 85,
              "total_non_null_rows": 900,
              "total_rows_inc_nulls": 1000,
              "value_count": 5
             },
             {
              "percentile_ex_nulls": 0.3877777777777778,
              "percentile_inc_nulls": 0.44899999999999995,
              "proportion_of_non_null_rows": 0.10222222222222223,
              "sum_tokens_in_value_count_group": 92,
              "total_non_null_rows": 900,
              "total_rows_inc_nulls": 1000,
              "value_count": 4
             },
             {
              "percentile_ex_nulls": 0.3011111111111111,
              "percentile_inc_nulls": 0.371,
              "proportion_of_non_null_rows": 0.08666666666666667,
              "sum_tokens_in_value_count_group": 78,
              "total_non_null_rows": 900,
              "total_rows_inc_nulls": 1000,
              "value_count": 3
             },
             {
              "percentile_ex_nulls": 0.2055555555555556,
              "percentile_inc_nulls": 0.28500000000000003,
              "proportion_of_non_null_rows": 0.09555555555555556,
              "sum_tokens_in_value_count_group": 86,
              "total_non_null_rows": 900,
              "total_rows_inc_nulls": 1000,
              "value_count": 2
             },
             {
              "percentile_ex_nulls": 0,
              "percentile_inc_nulls": 0.09999999999999998,
              "proportion_of_non_null_rows": 0.20555555555555555,
              "sum_tokens_in_value_count_group": 185,
              "total_non_null_rows": 900,
              "total_rows_inc_nulls": 1000,
              "value_count": 1
             }
            ]
           },
           "encoding": {
            "tooltip": [
             {
              "field": "value_count",
              "type": "quantitative"
             },
             {
              "field": "percentile_ex_nulls",
              "type": "quantitative"
             },
             {
              "field": "percentile_inc_nulls",
              "type": "quantitative"
             },
             {
              "field": "total_non_null_rows",
              "type": "quantitative"
             },
             {
              "field": "total_rows_inc_nulls",
              "type": "quantitative"
             },
             {
              "field": "proportion_of_non_null_rows",
              "type": "quantitative"
             }
            ],
            "x": {
             "field": "percentile_ex_nulls",
             "sort": "descending",
             "title": "Percentile",
             "type": "quantitative"
            },
            "y": {
             "field": "value_count",
             "title": "Count of values",
             "type": "quantitative"
            }
           },
           "mark": {
            "interpolate": "step-after",
            "type": "line"
           },
           "title": {
            "subtitle": "Of the 1000 rows in the df, 900 (10.0%) are null for this column",
            "text": "Distribution of counts of values in column first_name"
           }
          },
          {
           "data": {
            "values": [
             {
              "total_non_null_rows": 900,
              "total_rows_inc_nulls": 1000,
              "value": "George ",
              "value_count": 22
             },
             {
              "total_non_null_rows": 900,
              "total_rows_inc_nulls": 1000,
              "value": "Harry ",
              "value_count": 18
             },
             {
              "total_non_null_rows": 900,
              "total_rows_inc_nulls": 1000,
              "value": "Ivy ",
              "value_count": 18
             },
             {
              "total_non_null_rows": 900,
              "total_rows_inc_nulls": 1000,
              "value": "Noah ",
              "value_count": 17
             },
             {
              "total_non_null_rows": 900,
              "total_rows_inc_nulls": 1000,
              "value": "Alfie ",
              "value_count": 15
             },
             {
              "total_non_null_rows": 900,
              "total_rows_inc_nulls": 1000,
              "value": "Freddie ",
              "value_count": 13
             },
             {
              "total_non_null_rows": 900,
              "total_rows_inc_nulls": 1000,
              "value": "Oscar ",
              "value_count": 12
             },
             {
              "total_non_null_rows": 900,
              "total_rows_inc_nulls": 1000,
              "value": "Emily ",
              "value_count": 11
             },
             {
              "total_non_null_rows": 900,
              "total_rows_inc_nulls": 1000,
              "value": "Charlie ",
              "value_count": 11
             },
             {
              "total_non_null_rows": 900,
              "total_rows_inc_nulls": 1000,
              "value": "Taylor",
              "value_count": 10
             },
             {
              "total_non_null_rows": 900,
              "total_rows_inc_nulls": 1000,
              "value": "Gabriel ",
              "value_count": 10
             },
             {
              "total_non_null_rows": 900,
              "total_rows_inc_nulls": 1000,
              "value": "Isabella ",
              "value_count": 10
             },
             {
              "total_non_null_rows": 900,
              "total_rows_inc_nulls": 1000,
              "value": "Mohammed ",
              "value_count": 10
             },
             {
              "total_non_null_rows": 900,
              "total_rows_inc_nulls": 1000,
              "value": "Thomas ",
              "value_count": 10
             },
             {
              "total_non_null_rows": 900,
              "total_rows_inc_nulls": 1000,
              "value": "Oliver ",
              "value_count": 9
             },
             {
              "total_non_null_rows": 900,
              "total_rows_inc_nulls": 1000,
              "value": "Isabelle ",
              "value_count": 8
             },
             {
              "total_non_null_rows": 900,
              "total_rows_inc_nulls": 1000,
              "value": "Daniel ",
              "value_count": 8
             },
             {
              "total_non_null_rows": 900,
              "total_rows_inc_nulls": 1000,
              "value": "Jones",
              "value_count": 8
             },
             {
              "total_non_null_rows": 900,
              "total_rows_inc_nulls": 1000,
              "value": "Tyler ",
              "value_count": 8
             },
             {
              "total_non_null_rows": 900,
              "total_rows_inc_nulls": 1000,
              "value": "Jack ",
              "value_count": 8
             }
            ]
           },
           "encoding": {
            "tooltip": [
             {
              "field": "value",
              "type": "nominal"
             },
             {
              "field": "value_count",
              "type": "quantitative"
             },
             {
              "field": "total_non_null_rows",
              "type": "quantitative"
             },
             {
              "field": "total_rows_inc_nulls",
              "type": "quantitative"
             }
            ],
            "x": {
             "field": "value",
             "sort": "-y",
             "title": null,
             "type": "nominal"
            },
            "y": {
             "field": "value_count",
             "title": "Value count",
             "type": "quantitative"
            }
           },
           "mark": "bar",
           "title": "Top 20 values by value count"
          },
          {
           "data": {
            "values": [
             {
              "total_non_null_rows": 900,
              "total_rows_inc_nulls": 1000,
              "value": "Alexander",
              "value_count": 1
             },
             {
              "total_non_null_rows": 900,
              "total_rows_inc_nulls": 1000,
              "value": "Tylr ",
              "value_count": 1
             },
             {
              "total_non_null_rows": 900,
              "total_rows_inc_nulls": 1000,
              "value": "lmeAi ",
              "value_count": 1
             },
             {
              "total_non_null_rows": 900,
              "total_rows_inc_nulls": 1000,
              "value": "ddwaE ",
              "value_count": 1
             },
             {
              "total_non_null_rows": 900,
              "total_rows_inc_nulls": 1000,
              "value": "Hill",
              "value_count": 1
             },
             {
              "total_non_null_rows": 900,
              "total_rows_inc_nulls": 1000,
              "value": "Ellit ",
              "value_count": 1
             },
             {
              "total_non_null_rows": 900,
              "total_rows_inc_nulls": 1000,
              "value": " acob",
              "value_count": 1
             },
             {
              "total_non_null_rows": 900,
              "total_rows_inc_nulls": 1000,
              "value": "Ilabsle ",
              "value_count": 1
             },
             {
              "total_non_null_rows": 900,
              "total_rows_inc_nulls": 1000,
              "value": "ilEz ",
              "value_count": 1
             },
             {
              "total_non_null_rows": 900,
              "total_rows_inc_nulls": 1000,
              "value": "Freddi ",
              "value_count": 1
             }
            ]
           },
           "encoding": {
            "tooltip": [
             {
              "field": "value",
              "type": "nominal"
             },
             {
              "field": "value_count",
              "type": "quantitative"
             },
             {
              "field": "total_non_null_rows",
              "type": "quantitative"
             },
             {
              "field": "total_rows_inc_nulls",
              "type": "quantitative"
             }
            ],
            "x": {
             "field": "value",
             "sort": "-y",
             "title": null,
             "type": "nominal"
            },
            "y": {
             "field": "value_count",
             "scale": {
              "domain": [
               0,
               22
              ]
             },
             "title": "Value count",
             "type": "quantitative"
            }
           },
           "mark": "bar",
           "title": "Bottom 10 values by value count"
          }
         ]
        },
        {
         "hconcat": [
          {
           "data": {
            "values": [
             {
              "group_name": "dob",
              "percentile_ex_nulls": 1,
              "percentile_inc_nulls": 1,
              "sum_tokens_in_value_count_group": 40,
              "total_non_null_rows": 1000,
              "total_rows_inc_nulls": 1000,
              "value_count": 10
             },
             {
              "percentile_ex_nulls": 0.96,
              "percentile_inc_nulls": 0.96,
              "proportion_of_non_null_rows": 0.04,
              "sum_tokens_in_value_count_group": 40,
              "total_non_null_rows": 1000,
              "total_rows_inc_nulls": 1000,
              "value_count": 10
             },
             {
              "percentile_ex_nulls": 0.915,
              "percentile_inc_nulls": 0.915,
              "proportion_of_non_null_rows": 0.045,
              "sum_tokens_in_value_count_group": 45,
              "total_non_null_rows": 1000,
              "total_rows_inc_nulls": 1000,
              "value_count": 9
             },
             {
              "percentile_ex_nulls": 0.827,
              "percentile_inc_nulls": 0.827,
              "proportion_of_non_null_rows": 0.088,
              "sum_tokens_in_value_count_group": 88,
              "total_non_null_rows": 1000,
              "total_rows_inc_nulls": 1000,
              "value_count": 8
             },
             {
              "percentile_ex_nulls": 0.6799999999999999,
              "percentile_inc_nulls": 0.6799999999999999,
              "proportion_of_non_null_rows": 0.147,
              "sum_tokens_in_value_count_group": 147,
              "total_non_null_rows": 1000,
              "total_rows_inc_nulls": 1000,
              "value_count": 7
             },
             {
              "percentile_ex_nulls": 0.5780000000000001,
              "percentile_inc_nulls": 0.5780000000000001,
              "proportion_of_non_null_rows": 0.102,
              "sum_tokens_in_value_count_group": 102,
              "total_non_null_rows": 1000,
              "total_rows_inc_nulls": 1000,
              "value_count": 6
             },
             {
              "percentile_ex_nulls": 0.45299999999999996,
              "percentile_inc_nulls": 0.45299999999999996,
              "proportion_of_non_null_rows": 0.125,
              "sum_tokens_in_value_count_group": 125,
              "total_non_null_rows": 1000,
              "total_rows_inc_nulls": 1000,
              "value_count": 5
             },
             {
              "percentile_ex_nulls": 0.357,
              "percentile_inc_nulls": 0.357,
              "proportion_of_non_null_rows": 0.096,
              "sum_tokens_in_value_count_group": 96,
              "total_non_null_rows": 1000,
              "total_rows_inc_nulls": 1000,
              "value_count": 4
             },
             {
              "percentile_ex_nulls": 0.29100000000000004,
              "percentile_inc_nulls": 0.29100000000000004,
              "proportion_of_non_null_rows": 0.066,
              "sum_tokens_in_value_count_group": 66,
              "total_non_null_rows": 1000,
              "total_rows_inc_nulls": 1000,
              "value_count": 3
             },
             {
              "percentile_ex_nulls": 0.239,
              "percentile_inc_nulls": 0.239,
              "proportion_of_non_null_rows": 0.052,
              "sum_tokens_in_value_count_group": 52,
              "total_non_null_rows": 1000,
              "total_rows_inc_nulls": 1000,
              "value_count": 2
             },
             {
              "percentile_ex_nulls": 0,
              "percentile_inc_nulls": 0,
              "proportion_of_non_null_rows": 0.239,
              "sum_tokens_in_value_count_group": 239,
              "total_non_null_rows": 1000,
              "total_rows_inc_nulls": 1000,
              "value_count": 1
             }
            ]
           },
           "encoding": {
            "tooltip": [
             {
              "field": "value_count",
              "type": "quantitative"
             },
             {
              "field": "percentile_ex_nulls",
              "type": "quantitative"
             },
             {
              "field": "percentile_inc_nulls",
              "type": "quantitative"
             },
             {
              "field": "total_non_null_rows",
              "type": "quantitative"
             },
             {
              "field": "total_rows_inc_nulls",
              "type": "quantitative"
             },
             {
              "field": "proportion_of_non_null_rows",
              "type": "quantitative"
             }
            ],
            "x": {
             "field": "percentile_ex_nulls",
             "sort": "descending",
             "title": "Percentile",
             "type": "quantitative"
            },
            "y": {
             "field": "value_count",
             "title": "Count of values",
             "type": "quantitative"
            }
           },
           "mark": {
            "interpolate": "step-after",
            "type": "line"
           },
           "title": {
            "subtitle": "Of the 1000 rows in the df, 1000 (0.0%) are null for this column",
            "text": "Distribution of counts of values in column dob"
           }
          },
          {
           "data": {
            "values": [
             {
              "total_non_null_rows": 1000,
              "total_rows_inc_nulls": 1000,
              "value": "2001-07-13",
              "value_count": 10
             },
             {
              "total_non_null_rows": 1000,
              "total_rows_inc_nulls": 1000,
              "value": "1979-01-22",
              "value_count": 10
             },
             {
              "total_non_null_rows": 1000,
              "total_rows_inc_nulls": 1000,
              "value": "1987-02-06",
              "value_count": 10
             },
             {
              "total_non_null_rows": 1000,
              "total_rows_inc_nulls": 1000,
              "value": "1987-11-18",
              "value_count": 10
             },
             {
              "total_non_null_rows": 1000,
              "total_rows_inc_nulls": 1000,
              "value": "1970-03-09",
              "value_count": 9
             },
             {
              "total_non_null_rows": 1000,
              "total_rows_inc_nulls": 1000,
              "value": "1983-07-20",
              "value_count": 9
             },
             {
              "total_non_null_rows": 1000,
              "total_rows_inc_nulls": 1000,
              "value": "1984-02-07",
              "value_count": 9
             },
             {
              "total_non_null_rows": 1000,
              "total_rows_inc_nulls": 1000,
              "value": "1980-01-13",
              "value_count": 9
             },
             {
              "total_non_null_rows": 1000,
              "total_rows_inc_nulls": 1000,
              "value": "1982-09-29",
              "value_count": 9
             },
             {
              "total_non_null_rows": 1000,
              "total_rows_inc_nulls": 1000,
              "value": "1974-02-11",
              "value_count": 8
             },
             {
              "total_non_null_rows": 1000,
              "total_rows_inc_nulls": 1000,
              "value": "1982-03-24",
              "value_count": 8
             },
             {
              "total_non_null_rows": 1000,
              "total_rows_inc_nulls": 1000,
              "value": "2011-07-30",
              "value_count": 8
             },
             {
              "total_non_null_rows": 1000,
              "total_rows_inc_nulls": 1000,
              "value": "1979-03-31",
              "value_count": 8
             },
             {
              "total_non_null_rows": 1000,
              "total_rows_inc_nulls": 1000,
              "value": "2018-06-18",
              "value_count": 8
             },
             {
              "total_non_null_rows": 1000,
              "total_rows_inc_nulls": 1000,
              "value": "1985-05-04",
              "value_count": 8
             },
             {
              "total_non_null_rows": 1000,
              "total_rows_inc_nulls": 1000,
              "value": "1996-09-09",
              "value_count": 8
             },
             {
              "total_non_null_rows": 1000,
              "total_rows_inc_nulls": 1000,
              "value": "1999-09-18",
              "value_count": 8
             },
             {
              "total_non_null_rows": 1000,
              "total_rows_inc_nulls": 1000,
              "value": "2016-11-08",
              "value_count": 8
             },
             {
              "total_non_null_rows": 1000,
              "total_rows_inc_nulls": 1000,
              "value": "2016-01-10",
              "value_count": 8
             },
             {
              "total_non_null_rows": 1000,
              "total_rows_inc_nulls": 1000,
              "value": "2010-12-22",
              "value_count": 8
             }
            ]
           },
           "encoding": {
            "tooltip": [
             {
              "field": "value",
              "type": "nominal"
             },
             {
              "field": "value_count",
              "type": "quantitative"
             },
             {
              "field": "total_non_null_rows",
              "type": "quantitative"
             },
             {
              "field": "total_rows_inc_nulls",
              "type": "quantitative"
             }
            ],
            "x": {
             "field": "value",
             "sort": "-y",
             "title": null,
             "type": "nominal"
            },
            "y": {
             "field": "value_count",
             "title": "Value count",
             "type": "quantitative"
            }
           },
           "mark": "bar",
           "title": "Top 20 values by value count"
          },
          {
           "data": {
            "values": [
             {
              "total_non_null_rows": 1000,
              "total_rows_inc_nulls": 1000,
              "value": "2016-01-27",
              "value_count": 1
             },
             {
              "total_non_null_rows": 1000,
              "total_rows_inc_nulls": 1000,
              "value": "2002-10-23",
              "value_count": 1
             },
             {
              "total_non_null_rows": 1000,
              "total_rows_inc_nulls": 1000,
              "value": "1998-09-15",
              "value_count": 1
             },
             {
              "total_non_null_rows": 1000,
              "total_rows_inc_nulls": 1000,
              "value": "1971-01-29",
              "value_count": 1
             },
             {
              "total_non_null_rows": 1000,
              "total_rows_inc_nulls": 1000,
              "value": "2006-06-28",
              "value_count": 1
             },
             {
              "total_non_null_rows": 1000,
              "total_rows_inc_nulls": 1000,
              "value": "2005-04-09",
              "value_count": 1
             },
             {
              "total_non_null_rows": 1000,
              "total_rows_inc_nulls": 1000,
              "value": "1980-06-19",
              "value_count": 1
             },
             {
              "total_non_null_rows": 1000,
              "total_rows_inc_nulls": 1000,
              "value": "2017-12-05",
              "value_count": 1
             },
             {
              "total_non_null_rows": 1000,
              "total_rows_inc_nulls": 1000,
              "value": "2001-08-09",
              "value_count": 1
             },
             {
              "total_non_null_rows": 1000,
              "total_rows_inc_nulls": 1000,
              "value": "2007-07-06",
              "value_count": 1
             }
            ]
           },
           "encoding": {
            "tooltip": [
             {
              "field": "value",
              "type": "nominal"
             },
             {
              "field": "value_count",
              "type": "quantitative"
             },
             {
              "field": "total_non_null_rows",
              "type": "quantitative"
             },
             {
              "field": "total_rows_inc_nulls",
              "type": "quantitative"
             }
            ],
            "x": {
             "field": "value",
             "sort": "-y",
             "title": null,
             "type": "nominal"
            },
            "y": {
             "field": "value_count",
             "scale": {
              "domain": [
               0,
               10
              ]
             },
             "title": "Value count",
             "type": "quantitative"
            }
           },
           "mark": "bar",
           "title": "Bottom 10 values by value count"
          }
         ]
        },
        {
         "hconcat": [
          {
           "data": {
            "values": [
             {
              "group_name": "surname",
              "percentile_ex_nulls": 1,
              "percentile_inc_nulls": 1,
              "sum_tokens_in_value_count_group": 41,
              "total_non_null_rows": 923,
              "total_rows_inc_nulls": 1000,
              "value_count": 41
             },
             {
              "percentile_ex_nulls": 0.9555796316359697,
              "percentile_inc_nulls": 0.959,
              "proportion_of_non_null_rows": 0.044420368364030335,
              "sum_tokens_in_value_count_group": 41,
              "total_non_null_rows": 923,
              "total_rows_inc_nulls": 1000,
              "value_count": 41
             },
             {
              "percentile_ex_nulls": 0.9230769230769231,
              "percentile_inc_nulls": 0.929,
              "proportion_of_non_null_rows": 0.032502708559046585,
              "sum_tokens_in_value_count_group": 30,
              "total_non_null_rows": 923,
              "total_rows_inc_nulls": 1000,
              "value_count": 30
             },
             {
              "percentile_ex_nulls": 0.894907908992416,
              "percentile_inc_nulls": 0.903,
              "proportion_of_non_null_rows": 0.028169014084507043,
              "sum_tokens_in_value_count_group": 26,
              "total_non_null_rows": 923,
              "total_rows_inc_nulls": 1000,
              "value_count": 26
             },
             {
              "percentile_ex_nulls": 0.8797399783315276,
              "percentile_inc_nulls": 0.889,
              "proportion_of_non_null_rows": 0.015167930660888408,
              "sum_tokens_in_value_count_group": 14,
              "total_non_null_rows": 923,
              "total_rows_inc_nulls": 1000,
              "value_count": 14
             },
             {
              "percentile_ex_nulls": 0.8656554712892741,
              "percentile_inc_nulls": 0.876,
              "proportion_of_non_null_rows": 0.014084507042253521,
              "sum_tokens_in_value_count_group": 13,
              "total_non_null_rows": 923,
              "total_rows_inc_nulls": 1000,
              "value_count": 13
             },
             {
              "percentile_ex_nulls": 0.8526543878656555,
              "percentile_inc_nulls": 0.864,
              "proportion_of_non_null_rows": 0.013001083423618635,
              "sum_tokens_in_value_count_group": 12,
              "total_non_null_rows": 923,
              "total_rows_inc_nulls": 1000,
              "value_count": 12
             },
             {
              "percentile_ex_nulls": 0.8407367280606717,
              "percentile_inc_nulls": 0.853,
              "proportion_of_non_null_rows": 0.011917659804983749,
              "sum_tokens_in_value_count_group": 11,
              "total_non_null_rows": 923,
              "total_rows_inc_nulls": 1000,
              "value_count": 11
             },
             {
              "percentile_ex_nulls": 0.8082340195016251,
              "percentile_inc_nulls": 0.823,
              "proportion_of_non_null_rows": 0.032502708559046585,
              "sum_tokens_in_value_count_group": 30,
              "total_non_null_rows": 923,
              "total_rows_inc_nulls": 1000,
              "value_count": 10
             },
             {
              "percentile_ex_nulls": 0.7887323943661972,
              "percentile_inc_nulls": 0.8049999999999999,
              "proportion_of_non_null_rows": 0.01950162513542795,
              "sum_tokens_in_value_count_group": 18,
              "total_non_null_rows": 923,
              "total_rows_inc_nulls": 1000,
              "value_count": 9
             },
             {
              "percentile_ex_nulls": 0.7280606717226435,
              "percentile_inc_nulls": 0.749,
              "proportion_of_non_null_rows": 0.06067172264355363,
              "sum_tokens_in_value_count_group": 56,
              "total_non_null_rows": 923,
              "total_rows_inc_nulls": 1000,
              "value_count": 8
             },
             {
              "percentile_ex_nulls": 0.6143011917659805,
              "percentile_inc_nulls": 0.644,
              "proportion_of_non_null_rows": 0.11375947995666305,
              "sum_tokens_in_value_count_group": 105,
              "total_non_null_rows": 923,
              "total_rows_inc_nulls": 1000,
              "value_count": 7
             },
             {
              "percentile_ex_nulls": 0.5557963163596966,
              "percentile_inc_nulls": 0.5900000000000001,
              "proportion_of_non_null_rows": 0.05850487540628386,
              "sum_tokens_in_value_count_group": 54,
              "total_non_null_rows": 923,
              "total_rows_inc_nulls": 1000,
              "value_count": 6
             },
             {
              "percentile_ex_nulls": 0.46370530877573135,
              "percentile_inc_nulls": 0.505,
              "proportion_of_non_null_rows": 0.09209100758396534,
              "sum_tokens_in_value_count_group": 85,
              "total_non_null_rows": 923,
              "total_rows_inc_nulls": 1000,
              "value_count": 5
             },
             {
              "percentile_ex_nulls": 0.3423618634886241,
              "percentile_inc_nulls": 0.393,
              "proportion_of_non_null_rows": 0.12134344528710726,
              "sum_tokens_in_value_count_group": 112,
              "total_non_null_rows": 923,
              "total_rows_inc_nulls": 1000,
              "value_count": 4
             },
             {
              "percentile_ex_nulls": 0.2676056338028169,
              "percentile_inc_nulls": 0.32399999999999995,
              "proportion_of_non_null_rows": 0.07475622968580715,
              "sum_tokens_in_value_count_group": 69,
              "total_non_null_rows": 923,
              "total_rows_inc_nulls": 1000,
              "value_count": 3
             },
             {
              "percentile_ex_nulls": 0.18743228602383533,
              "percentile_inc_nulls": 0.25,
              "proportion_of_non_null_rows": 0.08017334777898158,
              "sum_tokens_in_value_count_group": 74,
              "total_non_null_rows": 923,
              "total_rows_inc_nulls": 1000,
              "value_count": 2
             },
             {
              "percentile_ex_nulls": 0,
              "percentile_inc_nulls": 0.07699999999999996,
              "proportion_of_non_null_rows": 0.18743228602383533,
              "sum_tokens_in_value_count_group": 173,
              "total_non_null_rows": 923,
              "total_rows_inc_nulls": 1000,
              "value_count": 1
             }
            ]
           },
           "encoding": {
            "tooltip": [
             {
              "field": "value_count",
              "type": "quantitative"
             },
             {
              "field": "percentile_ex_nulls",
              "type": "quantitative"
             },
             {
              "field": "percentile_inc_nulls",
              "type": "quantitative"
             },
             {
              "field": "total_non_null_rows",
              "type": "quantitative"
             },
             {
              "field": "total_rows_inc_nulls",
              "type": "quantitative"
             },
             {
              "field": "proportion_of_non_null_rows",
              "type": "quantitative"
             }
            ],
            "x": {
             "field": "percentile_ex_nulls",
             "sort": "descending",
             "title": "Percentile",
             "type": "quantitative"
            },
            "y": {
             "field": "value_count",
             "title": "Count of values",
             "type": "quantitative"
            }
           },
           "mark": {
            "interpolate": "step-after",
            "type": "line"
           },
           "title": {
            "subtitle": "Of the 1000 rows in the df, 923 (7.7%) are null for this column",
            "text": "Distribution of counts of values in column surname"
           }
          },
          {
           "data": {
            "values": [
             {
              "total_non_null_rows": 923,
              "total_rows_inc_nulls": 1000,
              "value": "Taylor",
              "value_count": 41
             },
             {
              "total_non_null_rows": 923,
              "total_rows_inc_nulls": 1000,
              "value": "Jones",
              "value_count": 30
             },
             {
              "total_non_null_rows": 923,
              "total_rows_inc_nulls": 1000,
              "value": "Brown",
              "value_count": 26
             },
             {
              "total_non_null_rows": 923,
              "total_rows_inc_nulls": 1000,
              "value": "Thomas",
              "value_count": 14
             },
             {
              "total_non_null_rows": 923,
              "total_rows_inc_nulls": 1000,
              "value": "Owen",
              "value_count": 13
             },
             {
              "total_non_null_rows": 923,
              "total_rows_inc_nulls": 1000,
              "value": "Cooper",
              "value_count": 12
             },
             {
              "total_non_null_rows": 923,
              "total_rows_inc_nulls": 1000,
              "value": "Roberts",
              "value_count": 11
             },
             {
              "total_non_null_rows": 923,
              "total_rows_inc_nulls": 1000,
              "value": "Hill",
              "value_count": 10
             },
             {
              "total_non_null_rows": 923,
              "total_rows_inc_nulls": 1000,
              "value": "Smith",
              "value_count": 10
             },
             {
              "total_non_null_rows": 923,
              "total_rows_inc_nulls": 1000,
              "value": "Noah ",
              "value_count": 10
             },
             {
              "total_non_null_rows": 923,
              "total_rows_inc_nulls": 1000,
              "value": "Foster",
              "value_count": 9
             },
             {
              "total_non_null_rows": 923,
              "total_rows_inc_nulls": 1000,
              "value": "Thompson",
              "value_count": 9
             },
             {
              "total_non_null_rows": 923,
              "total_rows_inc_nulls": 1000,
              "value": "King",
              "value_count": 8
             },
             {
              "total_non_null_rows": 923,
              "total_rows_inc_nulls": 1000,
              "value": "Harry ",
              "value_count": 8
             },
             {
              "total_non_null_rows": 923,
              "total_rows_inc_nulls": 1000,
              "value": "Palmer",
              "value_count": 8
             },
             {
              "total_non_null_rows": 923,
              "total_rows_inc_nulls": 1000,
              "value": "Charlie ",
              "value_count": 8
             },
             {
              "total_non_null_rows": 923,
              "total_rows_inc_nulls": 1000,
              "value": "Maxwell",
              "value_count": 8
             },
             {
              "total_non_null_rows": 923,
              "total_rows_inc_nulls": 1000,
              "value": "Gibson",
              "value_count": 8
             },
             {
              "total_non_null_rows": 923,
              "total_rows_inc_nulls": 1000,
              "value": "Cunningham",
              "value_count": 8
             },
             {
              "total_non_null_rows": 923,
              "total_rows_inc_nulls": 1000,
              "value": "Bolton",
              "value_count": 7
             }
            ]
           },
           "encoding": {
            "tooltip": [
             {
              "field": "value",
              "type": "nominal"
             },
             {
              "field": "value_count",
              "type": "quantitative"
             },
             {
              "field": "total_non_null_rows",
              "type": "quantitative"
             },
             {
              "field": "total_rows_inc_nulls",
              "type": "quantitative"
             }
            ],
            "x": {
             "field": "value",
             "sort": "-y",
             "title": null,
             "type": "nominal"
            },
            "y": {
             "field": "value_count",
             "title": "Value count",
             "type": "quantitative"
            }
           },
           "mark": "bar",
           "title": "Top 20 values by value count"
          },
          {
           "data": {
            "values": [
             {
              "total_non_null_rows": 923,
              "total_rows_inc_nulls": 1000,
              "value": "Harrs",
              "value_count": 1
             },
             {
              "total_non_null_rows": 923,
              "total_rows_inc_nulls": 1000,
              "value": "Fiher",
              "value_count": 1
             },
             {
              "total_non_null_rows": 923,
              "total_rows_inc_nulls": 1000,
              "value": "Mxwell",
              "value_count": 1
             },
             {
              "total_non_null_rows": 923,
              "total_rows_inc_nulls": 1000,
              "value": "ropeC",
              "value_count": 1
             },
             {
              "total_non_null_rows": 923,
              "total_rows_inc_nulls": 1000,
              "value": "Msrio",
              "value_count": 1
             },
             {
              "total_non_null_rows": 923,
              "total_rows_inc_nulls": 1000,
              "value": "Morir",
              "value_count": 1
             },
             {
              "total_non_null_rows": 923,
              "total_rows_inc_nulls": 1000,
              "value": "Ells",
              "value_count": 1
             },
             {
              "total_non_null_rows": 923,
              "total_rows_inc_nulls": 1000,
              "value": "wLis",
              "value_count": 1
             },
             {
              "total_non_null_rows": 923,
              "total_rows_inc_nulls": 1000,
              "value": "llH",
              "value_count": 1
             },
             {
              "total_non_null_rows": 923,
              "total_rows_inc_nulls": 1000,
              "value": "lconaMd",
              "value_count": 1
             }
            ]
           },
           "encoding": {
            "tooltip": [
             {
              "field": "value",
              "type": "nominal"
             },
             {
              "field": "value_count",
              "type": "quantitative"
             },
             {
              "field": "total_non_null_rows",
              "type": "quantitative"
             },
             {
              "field": "total_rows_inc_nulls",
              "type": "quantitative"
             }
            ],
            "x": {
             "field": "value",
             "sort": "-y",
             "title": null,
             "type": "nominal"
            },
            "y": {
             "field": "value_count",
             "scale": {
              "domain": [
               0,
               41
              ]
             },
             "title": "Value count",
             "type": "quantitative"
            }
           },
           "mark": "bar",
           "title": "Bottom 10 values by value count"
          }
         ]
        },
        {
         "hconcat": [
          {
           "data": {
            "values": [
             {
              "group_name": "city",
              "percentile_ex_nulls": 1,
              "percentile_inc_nulls": 1,
              "sum_tokens_in_value_count_group": 257,
              "total_non_null_rows": 891,
              "total_rows_inc_nulls": 1000,
              "value_count": 257
             },
             {
              "percentile_ex_nulls": 0.7115600448933782,
              "percentile_inc_nulls": 0.743,
              "proportion_of_non_null_rows": 0.2884399551066218,
              "sum_tokens_in_value_count_group": 257,
              "total_non_null_rows": 891,
              "total_rows_inc_nulls": 1000,
              "value_count": 257
             },
             {
              "percentile_ex_nulls": 0.6711560044893379,
              "percentile_inc_nulls": 0.7070000000000001,
              "proportion_of_non_null_rows": 0.04040404040404041,
              "sum_tokens_in_value_count_group": 36,
              "total_non_null_rows": 891,
              "total_rows_inc_nulls": 1000,
              "value_count": 36
             },
             {
              "percentile_ex_nulls": 0.6341189674523008,
              "percentile_inc_nulls": 0.6739999999999999,
              "proportion_of_non_null_rows": 0.037037037037037035,
              "sum_tokens_in_value_count_group": 33,
              "total_non_null_rows": 891,
              "total_rows_inc_nulls": 1000,
              "value_count": 33
             },
             {
              "percentile_ex_nulls": 0.5993265993265993,
              "percentile_inc_nulls": 0.643,
              "proportion_of_non_null_rows": 0.03479236812570146,
              "sum_tokens_in_value_count_group": 31,
              "total_non_null_rows": 891,
              "total_rows_inc_nulls": 1000,
              "value_count": 31
             },
             {
              "percentile_ex_nulls": 0.5679012345679013,
              "percentile_inc_nulls": 0.615,
              "proportion_of_non_null_rows": 0.031425364758698095,
              "sum_tokens_in_value_count_group": 28,
              "total_non_null_rows": 891,
              "total_rows_inc_nulls": 1000,
              "value_count": 28
             },
             {
              "percentile_ex_nulls": 0.5375982042648709,
              "percentile_inc_nulls": 0.5880000000000001,
              "proportion_of_non_null_rows": 0.030303030303030304,
              "sum_tokens_in_value_count_group": 27,
              "total_non_null_rows": 891,
              "total_rows_inc_nulls": 1000,
              "value_count": 27
             },
             {
              "percentile_ex_nulls": 0.5095398428731762,
              "percentile_inc_nulls": 0.563,
              "proportion_of_non_null_rows": 0.028058361391694726,
              "sum_tokens_in_value_count_group": 25,
              "total_non_null_rows": 891,
              "total_rows_inc_nulls": 1000,
              "value_count": 25
             },
             {
              "percentile_ex_nulls": 0.49158249158249157,
              "percentile_inc_nulls": 0.5469999999999999,
              "proportion_of_non_null_rows": 0.017957351290684626,
              "sum_tokens_in_value_count_group": 16,
              "total_non_null_rows": 891,
              "total_rows_inc_nulls": 1000,
              "value_count": 16
             },
             {
              "percentile_ex_nulls": 0.4747474747474747,
              "percentile_inc_nulls": 0.532,
              "proportion_of_non_null_rows": 0.016835016835016835,
              "sum_tokens_in_value_count_group": 15,
              "total_non_null_rows": 891,
              "total_rows_inc_nulls": 1000,
              "value_count": 15
             },
             {
              "percentile_ex_nulls": 0.4590347923681257,
              "percentile_inc_nulls": 0.518,
              "proportion_of_non_null_rows": 0.015712682379349047,
              "sum_tokens_in_value_count_group": 14,
              "total_non_null_rows": 891,
              "total_rows_inc_nulls": 1000,
              "value_count": 14
             },
             {
              "percentile_ex_nulls": 0.4152637485970819,
              "percentile_inc_nulls": 0.479,
              "proportion_of_non_null_rows": 0.04377104377104377,
              "sum_tokens_in_value_count_group": 39,
              "total_non_null_rows": 891,
              "total_rows_inc_nulls": 1000,
              "value_count": 13
             },
             {
              "percentile_ex_nulls": 0.3748597081930415,
              "percentile_inc_nulls": 0.44299999999999995,
              "proportion_of_non_null_rows": 0.04040404040404041,
              "sum_tokens_in_value_count_group": 36,
              "total_non_null_rows": 891,
              "total_rows_inc_nulls": 1000,
              "value_count": 12
             },
             {
              "percentile_ex_nulls": 0.36251402918069586,
              "percentile_inc_nulls": 0.43200000000000005,
              "proportion_of_non_null_rows": 0.012345679012345678,
              "sum_tokens_in_value_count_group": 11,
              "total_non_null_rows": 891,
              "total_rows_inc_nulls": 1000,
              "value_count": 11
             },
             {
              "percentile_ex_nulls": 0.3176206509539843,
              "percentile_inc_nulls": 0.392,
              "proportion_of_non_null_rows": 0.04489337822671156,
              "sum_tokens_in_value_count_group": 40,
              "total_non_null_rows": 891,
              "total_rows_inc_nulls": 1000,
              "value_count": 10
             },
             {
              "percentile_ex_nulls": 0.29741863075196406,
              "percentile_inc_nulls": 0.374,
              "proportion_of_non_null_rows": 0.020202020202020204,
              "sum_tokens_in_value_count_group": 18,
              "total_non_null_rows": 891,
              "total_rows_inc_nulls": 1000,
              "value_count": 9
             },
             {
              "percentile_ex_nulls": 0.27048260381593714,
              "percentile_inc_nulls": 0.35,
              "proportion_of_non_null_rows": 0.026936026936026935,
              "sum_tokens_in_value_count_group": 24,
              "total_non_null_rows": 891,
              "total_rows_inc_nulls": 1000,
              "value_count": 8
             },
             {
              "percentile_ex_nulls": 0.24691358024691357,
              "percentile_inc_nulls": 0.32899999999999996,
              "proportion_of_non_null_rows": 0.02356902356902357,
              "sum_tokens_in_value_count_group": 21,
              "total_non_null_rows": 891,
              "total_rows_inc_nulls": 1000,
              "value_count": 7
             },
             {
              "percentile_ex_nulls": 0.22671156004489335,
              "percentile_inc_nulls": 0.31100000000000005,
              "proportion_of_non_null_rows": 0.020202020202020204,
              "sum_tokens_in_value_count_group": 18,
              "total_non_null_rows": 891,
              "total_rows_inc_nulls": 1000,
              "value_count": 6
             },
             {
              "percentile_ex_nulls": 0.19865319865319864,
              "percentile_inc_nulls": 0.28600000000000003,
              "proportion_of_non_null_rows": 0.028058361391694726,
              "sum_tokens_in_value_count_group": 25,
              "total_non_null_rows": 891,
              "total_rows_inc_nulls": 1000,
              "value_count": 5
             },
             {
              "percentile_ex_nulls": 0.17620650953984285,
              "percentile_inc_nulls": 0.266,
              "proportion_of_non_null_rows": 0.02244668911335578,
              "sum_tokens_in_value_count_group": 20,
              "total_non_null_rows": 891,
              "total_rows_inc_nulls": 1000,
              "value_count": 4
             },
             {
              "percentile_ex_nulls": 0.1593714927048261,
              "percentile_inc_nulls": 0.251,
              "proportion_of_non_null_rows": 0.016835016835016835,
              "sum_tokens_in_value_count_group": 15,
              "total_non_null_rows": 891,
              "total_rows_inc_nulls": 1000,
              "value_count": 3
             },
             {
              "percentile_ex_nulls": 0.12570145903479235,
              "percentile_inc_nulls": 0.22099999999999997,
              "proportion_of_non_null_rows": 0.03367003367003367,
              "sum_tokens_in_value_count_group": 30,
              "total_non_null_rows": 891,
              "total_rows_inc_nulls": 1000,
              "value_count": 2
             },
             {
              "percentile_ex_nulls": 0,
              "percentile_inc_nulls": 0.10899999999999999,
              "proportion_of_non_null_rows": 0.12570145903479238,
              "sum_tokens_in_value_count_group": 112,
              "total_non_null_rows": 891,
              "total_rows_inc_nulls": 1000,
              "value_count": 1
             }
            ]
           },
           "encoding": {
            "tooltip": [
             {
              "field": "value_count",
              "type": "quantitative"
             },
             {
              "field": "percentile_ex_nulls",
              "type": "quantitative"
             },
             {
              "field": "percentile_inc_nulls",
              "type": "quantitative"
             },
             {
              "field": "total_non_null_rows",
              "type": "quantitative"
             },
             {
              "field": "total_rows_inc_nulls",
              "type": "quantitative"
             },
             {
              "field": "proportion_of_non_null_rows",
              "type": "quantitative"
             }
            ],
            "x": {
             "field": "percentile_ex_nulls",
             "sort": "descending",
             "title": "Percentile",
             "type": "quantitative"
            },
            "y": {
             "field": "value_count",
             "title": "Count of values",
             "type": "quantitative"
            }
           },
           "mark": {
            "interpolate": "step-after",
            "type": "line"
           },
           "title": {
            "subtitle": "Of the 1000 rows in the df, 891 (10.9%) are null for this column",
            "text": "Distribution of counts of values in column city"
           }
          },
          {
           "data": {
            "values": [
             {
              "total_non_null_rows": 891,
              "total_rows_inc_nulls": 1000,
              "value": "London",
              "value_count": 257
             },
             {
              "total_non_null_rows": 891,
              "total_rows_inc_nulls": 1000,
              "value": "Birmingham",
              "value_count": 36
             },
             {
              "total_non_null_rows": 891,
              "total_rows_inc_nulls": 1000,
              "value": "Leeds",
              "value_count": 33
             },
             {
              "total_non_null_rows": 891,
              "total_rows_inc_nulls": 1000,
              "value": "Sheffield",
              "value_count": 31
             },
             {
              "total_non_null_rows": 891,
              "total_rows_inc_nulls": 1000,
              "value": "Sunderland",
              "value_count": 28
             },
             {
              "total_non_null_rows": 891,
              "total_rows_inc_nulls": 1000,
              "value": "Southend-on-Sea",
              "value_count": 27
             },
             {
              "total_non_null_rows": 891,
              "total_rows_inc_nulls": 1000,
              "value": "Stoke-on-Trent",
              "value_count": 25
             },
             {
              "total_non_null_rows": 891,
              "total_rows_inc_nulls": 1000,
              "value": "Brighton",
              "value_count": 16
             },
             {
              "total_non_null_rows": 891,
              "total_rows_inc_nulls": 1000,
              "value": "Newcastle-upon-Tyne",
              "value_count": 15
             },
             {
              "total_non_null_rows": 891,
              "total_rows_inc_nulls": 1000,
              "value": "Bolton",
              "value_count": 14
             },
             {
              "total_non_null_rows": 891,
              "total_rows_inc_nulls": 1000,
              "value": "Leicester",
              "value_count": 13
             },
             {
              "total_non_null_rows": 891,
              "total_rows_inc_nulls": 1000,
              "value": "Peterborough",
              "value_count": 13
             },
             {
              "total_non_null_rows": 891,
              "total_rows_inc_nulls": 1000,
              "value": "Glasgow",
              "value_count": 13
             },
             {
              "total_non_null_rows": 891,
              "total_rows_inc_nulls": 1000,
              "value": "Manchester",
              "value_count": 12
             },
             {
              "total_non_null_rows": 891,
              "total_rows_inc_nulls": 1000,
              "value": "Belfast",
              "value_count": 12
             },
             {
              "total_non_null_rows": 891,
              "total_rows_inc_nulls": 1000,
              "value": "Northampton",
              "value_count": 12
             },
             {
              "total_non_null_rows": 891,
              "total_rows_inc_nulls": 1000,
              "value": "Liverpool",
              "value_count": 11
             },
             {
              "total_non_null_rows": 891,
              "total_rows_inc_nulls": 1000,
              "value": "Bristol",
              "value_count": 10
             },
             {
              "total_non_null_rows": 891,
              "total_rows_inc_nulls": 1000,
              "value": "Colchester",
              "value_count": 10
             },
             {
              "total_non_null_rows": 891,
              "total_rows_inc_nulls": 1000,
              "value": "Stockton-on-Tees",
              "value_count": 10
             }
            ]
           },
           "encoding": {
            "tooltip": [
             {
              "field": "value",
              "type": "nominal"
             },
             {
              "field": "value_count",
              "type": "quantitative"
             },
             {
              "field": "total_non_null_rows",
              "type": "quantitative"
             },
             {
              "field": "total_rows_inc_nulls",
              "type": "quantitative"
             }
            ],
            "x": {
             "field": "value",
             "sort": "-y",
             "title": null,
             "type": "nominal"
            },
            "y": {
             "field": "value_count",
             "title": "Value count",
             "type": "quantitative"
            }
           },
           "mark": "bar",
           "title": "Top 20 values by value count"
          },
          {
           "data": {
            "values": [
             {
              "total_non_null_rows": 891,
              "total_rows_inc_nulls": 1000,
              "value": "Plyohtu",
              "value_count": 1
             },
             {
              "total_non_null_rows": 891,
              "total_rows_inc_nulls": 1000,
              "value": "ewnsSa",
              "value_count": 1
             },
             {
              "total_non_null_rows": 891,
              "total_rows_inc_nulls": 1000,
              "value": "nodon",
              "value_count": 1
             },
             {
              "total_non_null_rows": 891,
              "total_rows_inc_nulls": 1000,
              "value": "Belast",
              "value_count": 1
             },
             {
              "total_non_null_rows": 891,
              "total_rows_inc_nulls": 1000,
              "value": "Souhend-oS-nea",
              "value_count": 1
             },
             {
              "total_non_null_rows": 891,
              "total_rows_inc_nulls": 1000,
              "value": "Shefidle",
              "value_count": 1
             },
             {
              "total_non_null_rows": 891,
              "total_rows_inc_nulls": 1000,
              "value": "Mansfied",
              "value_count": 1
             },
             {
              "total_non_null_rows": 891,
              "total_rows_inc_nulls": 1000,
              "value": "bAedeen",
              "value_count": 1
             },
             {
              "total_non_null_rows": 891,
              "total_rows_inc_nulls": 1000,
              "value": "Birminmag",
              "value_count": 1
             },
             {
              "total_non_null_rows": 891,
              "total_rows_inc_nulls": 1000,
              "value": "Sumhatpton",
              "value_count": 1
             }
            ]
           },
           "encoding": {
            "tooltip": [
             {
              "field": "value",
              "type": "nominal"
             },
             {
              "field": "value_count",
              "type": "quantitative"
             },
             {
              "field": "total_non_null_rows",
              "type": "quantitative"
             },
             {
              "field": "total_rows_inc_nulls",
              "type": "quantitative"
             }
            ],
            "x": {
             "field": "value",
             "sort": "-y",
             "title": null,
             "type": "nominal"
            },
            "y": {
             "field": "value_count",
             "scale": {
              "domain": [
               0,
               257
              ]
             },
             "title": "Value count",
             "type": "quantitative"
            }
           },
           "mark": "bar",
           "title": "Bottom 10 values by value count"
          }
         ]
        },
        {
         "hconcat": [
          {
           "data": {
            "values": [
             {
              "group_name": "email",
              "percentile_ex_nulls": 1,
              "percentile_inc_nulls": 1,
              "sum_tokens_in_value_count_group": 36,
              "total_non_null_rows": 888,
              "total_rows_inc_nulls": 1000,
              "value_count": 9
             },
             {
              "percentile_ex_nulls": 0.9594594594594594,
              "percentile_inc_nulls": 0.964,
              "proportion_of_non_null_rows": 0.04054054054054054,
              "sum_tokens_in_value_count_group": 36,
              "total_non_null_rows": 888,
              "total_rows_inc_nulls": 1000,
              "value_count": 9
             },
             {
              "percentile_ex_nulls": 0.8693693693693694,
              "percentile_inc_nulls": 0.884,
              "proportion_of_non_null_rows": 0.09009009009009009,
              "sum_tokens_in_value_count_group": 80,
              "total_non_null_rows": 888,
              "total_rows_inc_nulls": 1000,
              "value_count": 8
             },
             {
              "percentile_ex_nulls": 0.7274774774774775,
              "percentile_inc_nulls": 0.758,
              "proportion_of_non_null_rows": 0.14189189189189189,
              "sum_tokens_in_value_count_group": 126,
              "total_non_null_rows": 888,
              "total_rows_inc_nulls": 1000,
              "value_count": 7
             },
             {
              "percentile_ex_nulls": 0.5788288288288288,
              "percentile_inc_nulls": 0.626,
              "proportion_of_non_null_rows": 0.14864864864864866,
              "sum_tokens_in_value_count_group": 132,
              "total_non_null_rows": 888,
              "total_rows_inc_nulls": 1000,
              "value_count": 6
             },
             {
              "percentile_ex_nulls": 0.4436936936936937,
              "percentile_inc_nulls": 0.506,
              "proportion_of_non_null_rows": 0.13513513513513514,
              "sum_tokens_in_value_count_group": 120,
              "total_non_null_rows": 888,
              "total_rows_inc_nulls": 1000,
              "value_count": 5
             },
             {
              "percentile_ex_nulls": 0.33108108108108103,
              "percentile_inc_nulls": 0.406,
              "proportion_of_non_null_rows": 0.11261261261261261,
              "sum_tokens_in_value_count_group": 100,
              "total_non_null_rows": 888,
              "total_rows_inc_nulls": 1000,
              "value_count": 4
             },
             {
              "percentile_ex_nulls": 0.2635135135135135,
              "percentile_inc_nulls": 0.346,
              "proportion_of_non_null_rows": 0.06756756756756757,
              "sum_tokens_in_value_count_group": 60,
              "total_non_null_rows": 888,
              "total_rows_inc_nulls": 1000,
              "value_count": 3
             },
             {
              "percentile_ex_nulls": 0.21621621621621623,
              "percentile_inc_nulls": 0.30400000000000005,
              "proportion_of_non_null_rows": 0.0472972972972973,
              "sum_tokens_in_value_count_group": 42,
              "total_non_null_rows": 888,
              "total_rows_inc_nulls": 1000,
              "value_count": 2
             },
             {
              "percentile_ex_nulls": 0,
              "percentile_inc_nulls": 0.11199999999999999,
              "proportion_of_non_null_rows": 0.21621621621621623,
              "sum_tokens_in_value_count_group": 192,
              "total_non_null_rows": 888,
              "total_rows_inc_nulls": 1000,
              "value_count": 1
             }
            ]
           },
           "encoding": {
            "tooltip": [
             {
              "field": "value_count",
              "type": "quantitative"
             },
             {
              "field": "percentile_ex_nulls",
              "type": "quantitative"
             },
             {
              "field": "percentile_inc_nulls",
              "type": "quantitative"
             },
             {
              "field": "total_non_null_rows",
              "type": "quantitative"
             },
             {
              "field": "total_rows_inc_nulls",
              "type": "quantitative"
             },
             {
              "field": "proportion_of_non_null_rows",
              "type": "quantitative"
             }
            ],
            "x": {
             "field": "percentile_ex_nulls",
             "sort": "descending",
             "title": "Percentile",
             "type": "quantitative"
            },
            "y": {
             "field": "value_count",
             "title": "Count of values",
             "type": "quantitative"
            }
           },
           "mark": {
            "interpolate": "step-after",
            "type": "line"
           },
           "title": {
            "subtitle": "Of the 1000 rows in the df, 888 (11.2%) are null for this column",
            "text": "Distribution of counts of values in column email"
           }
          },
          {
           "data": {
            "values": [
             {
              "total_non_null_rows": 888,
              "total_rows_inc_nulls": 1000,
              "value": "stacykelly@brown.info",
              "value_count": 9
             },
             {
              "total_non_null_rows": 888,
              "total_rows_inc_nulls": 1000,
              "value": "avazquez@banks.com",
              "value_count": 9
             },
             {
              "total_non_null_rows": 888,
              "total_rows_inc_nulls": 1000,
              "value": "jonathan74@glover.com",
              "value_count": 9
             },
             {
              "total_non_null_rows": 888,
              "total_rows_inc_nulls": 1000,
              "value": "trobinson@garza.com",
              "value_count": 9
             },
             {
              "total_non_null_rows": 888,
              "total_rows_inc_nulls": 1000,
              "value": "jose33@trujillo.net",
              "value_count": 8
             },
             {
              "total_non_null_rows": 888,
              "total_rows_inc_nulls": 1000,
              "value": "kimashley@nguyen.info",
              "value_count": 8
             },
             {
              "total_non_null_rows": 888,
              "total_rows_inc_nulls": 1000,
              "value": "josephwatson@smith.com",
              "value_count": 8
             },
             {
              "total_non_null_rows": 888,
              "total_rows_inc_nulls": 1000,
              "value": "virginiarodriguez@holmes.org",
              "value_count": 8
             },
             {
              "total_non_null_rows": 888,
              "total_rows_inc_nulls": 1000,
              "value": "petersbrandon@cox.com",
              "value_count": 8
             },
             {
              "total_non_null_rows": 888,
              "total_rows_inc_nulls": 1000,
              "value": "stacyball@medina.biz",
              "value_count": 8
             },
             {
              "total_non_null_rows": 888,
              "total_rows_inc_nulls": 1000,
              "value": "markstewart@gross.com",
              "value_count": 8
             },
             {
              "total_non_null_rows": 888,
              "total_rows_inc_nulls": 1000,
              "value": "gkennedy@vincent.com",
              "value_count": 8
             },
             {
              "total_non_null_rows": 888,
              "total_rows_inc_nulls": 1000,
              "value": "fisherdaniel@smith.com",
              "value_count": 8
             },
             {
              "total_non_null_rows": 888,
              "total_rows_inc_nulls": 1000,
              "value": "stephanieromero@smith.com",
              "value_count": 8
             },
             {
              "total_non_null_rows": 888,
              "total_rows_inc_nulls": 1000,
              "value": "imoore@turner-gonzalez.info",
              "value_count": 7
             },
             {
              "total_non_null_rows": 888,
              "total_rows_inc_nulls": 1000,
              "value": "coltonray@lee.com",
              "value_count": 7
             },
             {
              "total_non_null_rows": 888,
              "total_rows_inc_nulls": 1000,
              "value": "longdebra@dixon.com",
              "value_count": 7
             },
             {
              "total_non_null_rows": 888,
              "total_rows_inc_nulls": 1000,
              "value": "stephaniewebb@hart.net",
              "value_count": 7
             },
             {
              "total_non_null_rows": 888,
              "total_rows_inc_nulls": 1000,
              "value": "michellejackson@smith-trujillo.com",
              "value_count": 7
             },
             {
              "total_non_null_rows": 888,
              "total_rows_inc_nulls": 1000,
              "value": "heather69@martin-bradford.biz",
              "value_count": 7
             }
            ]
           },
           "encoding": {
            "tooltip": [
             {
              "field": "value",
              "type": "nominal"
             },
             {
              "field": "value_count",
              "type": "quantitative"
             },
             {
              "field": "total_non_null_rows",
              "type": "quantitative"
             },
             {
              "field": "total_rows_inc_nulls",
              "type": "quantitative"
             }
            ],
            "x": {
             "field": "value",
             "sort": "-y",
             "title": null,
             "type": "nominal"
            },
            "y": {
             "field": "value_count",
             "title": "Value count",
             "type": "quantitative"
            }
           },
           "mark": "bar",
           "title": "Top 20 values by value count"
          },
          {
           "data": {
            "values": [
             {
              "total_non_null_rows": 888,
              "total_rows_inc_nulls": 1000,
              "value": "hilltheesa@peaoson.rrg",
              "value_count": 1
             },
             {
              "total_non_null_rows": 888,
              "total_rows_inc_nulls": 1000,
              "value": "jcobstafford@hmailton.com",
              "value_count": 1
             },
             {
              "total_non_null_rows": 888,
              "total_rows_inc_nulls": 1000,
              "value": "juym0@s3ith.biz",
              "value_count": 1
             },
             {
              "total_non_null_rows": 888,
              "total_rows_inc_nulls": 1000,
              "value": "phumphrey@han-onsjohnsn.net",
              "value_count": 1
             },
             {
              "total_non_null_rows": 888,
              "total_rows_inc_nulls": 1000,
              "value": "toddseon@wilkins-buran.biz",
              "value_count": 1
             },
             {
              "total_non_null_rows": 888,
              "total_rows_inc_nulls": 1000,
              "value": "lewischristopher@black-thomas.net",
              "value_count": 1
             },
             {
              "total_non_null_rows": 888,
              "total_rows_inc_nulls": 1000,
              "value": "lewischristophr@black-thomas.net",
              "value_count": 1
             },
             {
              "total_non_null_rows": 888,
              "total_rows_inc_nulls": 1000,
              "value": "zlynch@miller.com",
              "value_count": 1
             },
             {
              "total_non_null_rows": 888,
              "total_rows_inc_nulls": 1000,
              "value": "millsamoel@alvarez-henry.cum",
              "value_count": 1
             },
             {
              "total_non_null_rows": 888,
              "total_rows_inc_nulls": 1000,
              "value": "sarahbron@mckinney.com",
              "value_count": 1
             }
            ]
           },
           "encoding": {
            "tooltip": [
             {
              "field": "value",
              "type": "nominal"
             },
             {
              "field": "value_count",
              "type": "quantitative"
             },
             {
              "field": "total_non_null_rows",
              "type": "quantitative"
             },
             {
              "field": "total_rows_inc_nulls",
              "type": "quantitative"
             }
            ],
            "x": {
             "field": "value",
             "sort": "-y",
             "title": null,
             "type": "nominal"
            },
            "y": {
             "field": "value_count",
             "scale": {
              "domain": [
               0,
               9
              ]
             },
             "title": "Value count",
             "type": "quantitative"
            }
           },
           "mark": "bar",
           "title": "Bottom 10 values by value count"
          }
         ]
        }
       ]
      },
      "image/png": "[encoded data removed]",
      "text/plain": [
       "<VegaLite 4 object>\n",
       "\n",
       "If you see this message, it means the renderer has not been properly enabled\n",
       "for the frontend that you are using. For more information, see\n",
       "https://altair-viz.github.io/user_guide/troubleshooting.html\n"
      ]
     },
     "execution_count": 6,
     "metadata": {},
     "output_type": "execute_result"
    }
   ],
   "source": [
    "import altair as alt\n",
    "alt.renderers.enable('mimetype')\n",
    "column_value_frequencies_chart(['first_name', \"surname\", \"dob\", \"city\", \"email\"], df, spark)"
   ]
  },
  {
   "cell_type": "markdown",
   "metadata": {},
   "source": [
    "In this step, with real world data, we would do quite a bit of data cleaning work to do things like standarise names (eg. making them all upper case, splitting out multiple names), cleaning up dates, etc.  Some useful functions are available in `[splink_data_standardisation](https://github.com/moj-analytical-services/splink_data_standardisation)`\n",
    "\n",
    "This will be different for every dataset, but the aim is to make it as easy as possible for Splink to spot similarities and difference between fields.\n",
    "\n",
    "Now that we understand the data, we are ready to start using Splink."
   ]
  },
  {
   "cell_type": "markdown",
   "metadata": {},
   "source": [
    "## Step 3: Decide on a blocking approach\n",
    "\n",
    "In most large datasets, it will be computationally intractable to compare every row with every other row.  We can use a technique called blocking to dramatically reduce the number of comparisons by comparing only records that adhere to certain rules, such as that the first name and date of birth must be equal .  Blocking is described further [here](https://toolkit.data.gov.au/Data_Linking_Information_Series_Sheet_4:_Probabilistic_linking.html).\n",
    "\n",
    "The above profling charts are useful to understand which blocking rules may be effective.  For example, we can see that that the forename 'George' is the most prevalant in the dataset, occurring 22 times.  If we block on forename, $\\frac{n\\left(n-1\\right)}2$ comparisons will be generated amongst Georges, with each instance being compared to each other.  This is probably viable in terms of the number of comparisons generated.  On the other hand, London appears over 250 times, and so blocking on city would generate a very large number of comparisons where both records had city = London.  \n",
    "\n",
    "Whilst blocking this is useful in reducing record comparisons, the problem is that its rare to find a blocking rule which eliminates enough record comparisons, and does not eliminate true matches (i.e. which has perfect recall).  \n",
    "\n",
    "The solution to this problem is generally to use several different blocking rules -s o for example, to generate record comparisons based on either the rule that first name must be equal, or that surname must be equal.  This means that the blocking approach will only eliminate true comparisons when both first and surname match, which will happen much less often than either one individually.\n",
    "\n",
    "Unfortuantely, it is theoretically invalid to estimate the Fellegi Sunter model on comparisons generated from multiple blocking rules, becauase it breaks the assumption of conditional independece.\n",
    "\n",
    "The recommended approach is to estimate different models, one for each blocking rule, and combine the results. \n",
    "\n",
    "We will demonstrate how to combined models in a separate notebook.  In this notebook we demonstrate how to run the model for a single rule"
   ]
  },
  {
   "cell_type": "markdown",
   "metadata": {},
   "source": [
    "## Step 4:  Configure splink using the `settings` object\n",
    "\n",
    "`splink` configuration options are stored in a settings dictionary.  This dictionary allows significant customisation, and can therefore get quite complex.  \n",
    "\n",
    "💥 We provide an tool for helping to author valid settings dictionaries, which includes tooltips and autocomplete, which you can find [here](http://robinlinacre.com/splink_settings_editor/).\n",
    "\n",
    "Customisation overrides default values built into splink.  For the purposes of this demo, we will specify a simple settings dictionary, which means we will be relying on these sensible defaults.\n",
    "\n",
    "To help with authoring and validation of the settings dictionary, we have written a [json schema](https://json-schema.org/), which can be found [here](https://github.com/moj-analytical-services/splink/blob/master/splink/files/settings_jsonschema.json).  \n",
    "\n",
    "\n"
   ]
  },
  {
   "cell_type": "code",
   "execution_count": 7,
   "metadata": {},
   "outputs": [],
   "source": [
    "settings = {\n",
    "    \"link_type\": \"dedupe_only\",\n",
    "    \"blocking_rules\": [\n",
    "        \"l.first_name = r.first_name\"\n",
    "    ],\n",
    "    \"comparison_columns\": [\n",
    "        {\n",
    "            \"col_name\": \"surname\",\n",
    "            \"num_levels\": 3,\n",
    "            \"term_frequency_adjustments\": True\n",
    "        },\n",
    "        {\n",
    "            \"col_name\": \"dob\"\n",
    "        },\n",
    "        {\n",
    "            \"col_name\": \"city\",\n",
    "            \"term_frequency_adjustments\": True\n",
    "        },\n",
    "        {\n",
    "            \"col_name\": \"email\"\n",
    "        }\n",
    "    ],\n",
    "    \"additional_columns_to_retain\": [\"group\"],\n",
    "    \"em_convergence\": 0.01\n",
    "}"
   ]
  },
  {
   "cell_type": "markdown",
   "metadata": {},
   "source": [
    "In words, this setting dictionary says:\n",
    "- We are performing a deduplication task (the other options are `link_only`, or `link_and_dedupe`)\n",
    "- We are going generate comparisons subject to the blocking rules contained in the specified array - in this case, only generate comparisons where the forename matches\n",
    "- When comparing records, we will use information from the `surname`, `dob`, `city` and `email` columns to compute a match score.\n",
    "- For `surname` string comparison will have three levels:\n",
    "    - Level 2: Strings are (almost) exactly the same\n",
    "    - Level 1: Strings are similar \n",
    "    - Level 0: No match\n",
    "- We will make adjustments for term frequencies on the `surname` columns\n",
    "- We will retain the `group` column in the results even though this is not used as part of comparisons.  This is a labelled dataset and `group` contains the true match - i.e. where group matches, the records pertain to the same person\n",
    "- Consider the algorithm to have converged when no parameter changes by more than 0.01 between iterations"
   ]
  },
  {
   "cell_type": "markdown",
   "metadata": {},
   "source": [
    "## Step 3:  Estimate u probabilities directly\n",
    "\n",
    "The u probabilities are the probabilities that fields will match given the records do not match.  So, for example, a 'month of birth' column would be expected to match around 1/12 of the time amongst non-matching records\n",
    "\n",
    "For many datasets, the probability that two records selected at random will match is almost zero.  A sample of such pairs of records should therefore almost exclusively contain non-matches.  \n",
    "\n",
    "We can therefore simply assume this dataset contains non-matches only, and directly estimate u probabilities.\n"
   ]
  },
  {
   "cell_type": "code",
   "execution_count": 8,
   "metadata": {},
   "outputs": [],
   "source": [
    "from splink.estimate import estimate_u_values\n",
    "settings_with_u = estimate_u_values(settings, df, spark, fix_u_probabilities=True)"
   ]
  },
  {
   "cell_type": "code",
   "execution_count": 9,
   "metadata": {},
   "outputs": [
    {
     "name": "stdout",
     "output_type": "stream",
     "text": [
      "{'additional_columns_to_retain': ['group'],\n",
      " 'blocking_rules': ['l.first_name = r.first_name'],\n",
      " 'comparison_columns': [{'col_name': 'surname',\n",
      "                         'fix_u_probabilities': True,\n",
      "                         'num_levels': 3,\n",
      "                         'term_frequency_adjustments': True,\n",
      "                         'u_probabilities': [0.989692211151123,\n",
      "                                             0.0028648446314036846,\n",
      "                                             0.007442955859005451]},\n",
      "                        {'col_name': 'dob',\n",
      "                         'fix_u_probabilities': True,\n",
      "                         'u_probabilities': [0.9962962865829468,\n",
      "                                             0.003703703638166189]},\n",
      "                        {'col_name': 'city',\n",
      "                         'fix_u_probabilities': True,\n",
      "                         'term_frequency_adjustments': True,\n",
      "                         'u_probabilities': [0.906921923160553,\n",
      "                                             0.09307809919118881]},\n",
      "                        {'col_name': 'email',\n",
      "                         'fix_u_probabilities': True,\n",
      "                         'u_probabilities': [0.9959297180175781,\n",
      "                                             0.004070304799824953]}],\n",
      " 'em_convergence': 0.01,\n",
      " 'link_type': 'dedupe_only'}\n"
     ]
    }
   ],
   "source": [
    "from pprint import pprint\n",
    "pprint(settings_with_u)"
   ]
  },
  {
   "cell_type": "markdown",
   "metadata": {},
   "source": [
    "## Step 4:  Estimate match scores using the Expectation Maximisation algorithm\n",
    "\n",
    "\n",
    "Columns are assumed to be strings by default.  See the 'comparison vector settings' notebook for details of configuration options.\n",
    "\n"
   ]
  },
  {
   "cell_type": "code",
   "execution_count": 10,
   "metadata": {},
   "outputs": [
    {
     "name": "stderr",
     "output_type": "stream",
     "text": [
      "INFO:splink.iterate:Iteration 0 complete\n",
      "INFO:splink.model:The maximum change in parameters was 0.22885468006134035 for key dob, level 1\n",
      "INFO:splink.iterate:Iteration 1 complete\n",
      "INFO:splink.model:The maximum change in parameters was 0.06432151794433594 for key dob, level 0\n",
      "INFO:splink.iterate:Iteration 2 complete\n",
      "INFO:splink.model:The maximum change in parameters was 0.01809200644493103 for key email, level 0\n",
      "INFO:splink.iterate:Iteration 3 complete\n",
      "INFO:splink.model:The maximum change in parameters was 0.0058144330978393555 for key email, level 0\n",
      "INFO:splink.iterate:EM algorithm has converged\n"
     ]
    }
   ],
   "source": [
    "from splink import Splink\n",
    "\n",
    "linker = Splink(settings_with_u, df, spark)\n",
    "df_e = linker.get_scored_comparisons()"
   ]
  },
  {
   "cell_type": "markdown",
   "metadata": {},
   "source": [
    "## Step 5: Inspect results \n",
    "\n"
   ]
  },
  {
   "cell_type": "code",
   "execution_count": 11,
   "metadata": {},
   "outputs": [
    {
     "data": {
      "text/html": [
       "<div>\n",
       "<style scoped>\n",
       "    .dataframe tbody tr th:only-of-type {\n",
       "        vertical-align: middle;\n",
       "    }\n",
       "\n",
       "    .dataframe tbody tr th {\n",
       "        vertical-align: top;\n",
       "    }\n",
       "\n",
       "    .dataframe thead th {\n",
       "        text-align: right;\n",
       "    }\n",
       "</style>\n",
       "<table border=\"1\" class=\"dataframe\">\n",
       "  <thead>\n",
       "    <tr style=\"text-align: right;\">\n",
       "      <th></th>\n",
       "      <th>tf_adjusted_match_prob</th>\n",
       "      <th>unique_id_l</th>\n",
       "      <th>unique_id_r</th>\n",
       "      <th>group_l</th>\n",
       "      <th>group_r</th>\n",
       "      <th>surname_l</th>\n",
       "      <th>surname_r</th>\n",
       "      <th>dob_l</th>\n",
       "      <th>dob_r</th>\n",
       "      <th>city_l</th>\n",
       "      <th>city_r</th>\n",
       "      <th>email_l</th>\n",
       "      <th>email_r</th>\n",
       "    </tr>\n",
       "  </thead>\n",
       "  <tbody>\n",
       "    <tr>\n",
       "      <th>2</th>\n",
       "      <td>0.992053</td>\n",
       "      <td>0</td>\n",
       "      <td>1</td>\n",
       "      <td>0</td>\n",
       "      <td>0</td>\n",
       "      <td>None</td>\n",
       "      <td>Taylor</td>\n",
       "      <td>2015-10-29</td>\n",
       "      <td>2015-07-31</td>\n",
       "      <td>London</td>\n",
       "      <td>London</td>\n",
       "      <td>hannah88@powers.com</td>\n",
       "      <td>hannah88@powers.com</td>\n",
       "    </tr>\n",
       "    <tr>\n",
       "      <th>1</th>\n",
       "      <td>0.992053</td>\n",
       "      <td>0</td>\n",
       "      <td>2</td>\n",
       "      <td>0</td>\n",
       "      <td>0</td>\n",
       "      <td>None</td>\n",
       "      <td>Taylor</td>\n",
       "      <td>2015-10-29</td>\n",
       "      <td>2016-01-27</td>\n",
       "      <td>London</td>\n",
       "      <td>London</td>\n",
       "      <td>hannah88@powers.com</td>\n",
       "      <td>hannah88@powers.com</td>\n",
       "    </tr>\n",
       "    <tr>\n",
       "      <th>0</th>\n",
       "      <td>0.978881</td>\n",
       "      <td>0</td>\n",
       "      <td>3</td>\n",
       "      <td>0</td>\n",
       "      <td>0</td>\n",
       "      <td>None</td>\n",
       "      <td>Taylor</td>\n",
       "      <td>2015-10-29</td>\n",
       "      <td>2015-10-29</td>\n",
       "      <td>London</td>\n",
       "      <td>None</td>\n",
       "      <td>hannah88@powers.com</td>\n",
       "      <td>hannah88opowersc@m</td>\n",
       "    </tr>\n",
       "    <tr>\n",
       "      <th>4</th>\n",
       "      <td>0.999916</td>\n",
       "      <td>1</td>\n",
       "      <td>2</td>\n",
       "      <td>0</td>\n",
       "      <td>0</td>\n",
       "      <td>Taylor</td>\n",
       "      <td>Taylor</td>\n",
       "      <td>2015-07-31</td>\n",
       "      <td>2016-01-27</td>\n",
       "      <td>London</td>\n",
       "      <td>London</td>\n",
       "      <td>hannah88@powers.com</td>\n",
       "      <td>hannah88@powers.com</td>\n",
       "    </tr>\n",
       "    <tr>\n",
       "      <th>3</th>\n",
       "      <td>0.920980</td>\n",
       "      <td>1</td>\n",
       "      <td>3</td>\n",
       "      <td>0</td>\n",
       "      <td>0</td>\n",
       "      <td>Taylor</td>\n",
       "      <td>Taylor</td>\n",
       "      <td>2015-07-31</td>\n",
       "      <td>2015-10-29</td>\n",
       "      <td>London</td>\n",
       "      <td>None</td>\n",
       "      <td>hannah88@powers.com</td>\n",
       "      <td>hannah88opowersc@m</td>\n",
       "    </tr>\n",
       "    <tr>\n",
       "      <th>5</th>\n",
       "      <td>0.920980</td>\n",
       "      <td>2</td>\n",
       "      <td>3</td>\n",
       "      <td>0</td>\n",
       "      <td>0</td>\n",
       "      <td>Taylor</td>\n",
       "      <td>Taylor</td>\n",
       "      <td>2016-01-27</td>\n",
       "      <td>2015-10-29</td>\n",
       "      <td>London</td>\n",
       "      <td>None</td>\n",
       "      <td>hannah88@powers.com</td>\n",
       "      <td>hannah88opowersc@m</td>\n",
       "    </tr>\n",
       "    <tr>\n",
       "      <th>21</th>\n",
       "      <td>0.999041</td>\n",
       "      <td>5</td>\n",
       "      <td>7</td>\n",
       "      <td>1</td>\n",
       "      <td>1</td>\n",
       "      <td>Watson</td>\n",
       "      <td>Watson</td>\n",
       "      <td>2008-03-23</td>\n",
       "      <td>2008-02-05</td>\n",
       "      <td>Bolton</td>\n",
       "      <td>tolon</td>\n",
       "      <td>matthew78@ballard-mcdonald.net</td>\n",
       "      <td>matthew78@ballard-mcdonald.net</td>\n",
       "    </tr>\n",
       "    <tr>\n",
       "      <th>20</th>\n",
       "      <td>0.997225</td>\n",
       "      <td>5</td>\n",
       "      <td>9</td>\n",
       "      <td>1</td>\n",
       "      <td>1</td>\n",
       "      <td>Watson</td>\n",
       "      <td>Watson</td>\n",
       "      <td>2008-03-23</td>\n",
       "      <td>2008-01-19</td>\n",
       "      <td>Bolton</td>\n",
       "      <td>Bolton</td>\n",
       "      <td>matthew78@ballard-mcdonald.net</td>\n",
       "      <td>None</td>\n",
       "    </tr>\n",
       "    <tr>\n",
       "      <th>19</th>\n",
       "      <td>0.981742</td>\n",
       "      <td>5</td>\n",
       "      <td>12</td>\n",
       "      <td>1</td>\n",
       "      <td>1</td>\n",
       "      <td>Watson</td>\n",
       "      <td>None</td>\n",
       "      <td>2008-03-23</td>\n",
       "      <td>2008-03-23</td>\n",
       "      <td>Bolton</td>\n",
       "      <td>Blotn</td>\n",
       "      <td>matthew78@ballard-mcdonald.net</td>\n",
       "      <td>None</td>\n",
       "    </tr>\n",
       "    <tr>\n",
       "      <th>18</th>\n",
       "      <td>0.008006</td>\n",
       "      <td>5</td>\n",
       "      <td>97</td>\n",
       "      <td>1</td>\n",
       "      <td>20</td>\n",
       "      <td>Watson</td>\n",
       "      <td>Morris</td>\n",
       "      <td>2008-03-23</td>\n",
       "      <td>1983-07-20</td>\n",
       "      <td>Bolton</td>\n",
       "      <td>Birmingham</td>\n",
       "      <td>matthew78@ballard-mcdonald.net</td>\n",
       "      <td>emilysmith@irwin-medina.biz</td>\n",
       "    </tr>\n",
       "  </tbody>\n",
       "</table>\n",
       "</div>"
      ],
      "text/plain": [
       "    tf_adjusted_match_prob  unique_id_l  unique_id_r  group_l  group_r  \\\n",
       "2                 0.992053            0            1        0        0   \n",
       "1                 0.992053            0            2        0        0   \n",
       "0                 0.978881            0            3        0        0   \n",
       "4                 0.999916            1            2        0        0   \n",
       "3                 0.920980            1            3        0        0   \n",
       "5                 0.920980            2            3        0        0   \n",
       "21                0.999041            5            7        1        1   \n",
       "20                0.997225            5            9        1        1   \n",
       "19                0.981742            5           12        1        1   \n",
       "18                0.008006            5           97        1       20   \n",
       "\n",
       "   surname_l surname_r       dob_l       dob_r  city_l      city_r  \\\n",
       "2       None    Taylor  2015-10-29  2015-07-31  London      London   \n",
       "1       None    Taylor  2015-10-29  2016-01-27  London      London   \n",
       "0       None    Taylor  2015-10-29  2015-10-29  London        None   \n",
       "4     Taylor    Taylor  2015-07-31  2016-01-27  London      London   \n",
       "3     Taylor    Taylor  2015-07-31  2015-10-29  London        None   \n",
       "5     Taylor    Taylor  2016-01-27  2015-10-29  London        None   \n",
       "21    Watson    Watson  2008-03-23  2008-02-05  Bolton       tolon   \n",
       "20    Watson    Watson  2008-03-23  2008-01-19  Bolton      Bolton   \n",
       "19    Watson      None  2008-03-23  2008-03-23  Bolton       Blotn   \n",
       "18    Watson    Morris  2008-03-23  1983-07-20  Bolton  Birmingham   \n",
       "\n",
       "                           email_l                         email_r  \n",
       "2              hannah88@powers.com             hannah88@powers.com  \n",
       "1              hannah88@powers.com             hannah88@powers.com  \n",
       "0              hannah88@powers.com              hannah88opowersc@m  \n",
       "4              hannah88@powers.com             hannah88@powers.com  \n",
       "3              hannah88@powers.com              hannah88opowersc@m  \n",
       "5              hannah88@powers.com              hannah88opowersc@m  \n",
       "21  matthew78@ballard-mcdonald.net  matthew78@ballard-mcdonald.net  \n",
       "20  matthew78@ballard-mcdonald.net                            None  \n",
       "19  matthew78@ballard-mcdonald.net                            None  \n",
       "18  matthew78@ballard-mcdonald.net     emilysmith@irwin-medina.biz  "
      ]
     },
     "execution_count": 11,
     "metadata": {},
     "output_type": "execute_result"
    }
   ],
   "source": [
    "# Inspect main dataframe that contains the match scores\n",
    "cols_to_inspect = [\"tf_adjusted_match_prob\",\"unique_id_l\",\"unique_id_r\",\"group_l\", \"group_r\", \"surname_l\",\"surname_r\",\"dob_l\",\"dob_r\",\"city_l\",\"city_r\",\"email_l\",\"email_r\",]\n",
    "\n",
    "df_e.toPandas()[cols_to_inspect].sort_values([\"unique_id_l\", \"unique_id_r\"]).head(10)"
   ]
  },
  {
   "cell_type": "markdown",
   "metadata": {},
   "source": [
    "We can plot a histogram of the splink match probility.  This chart shows that, for the majority of record comparisons, the match score is estimated to be close to 0 or 1.  This indicates that there are few pairs of records where we are unsure whether it's a match or not."
   ]
  },
  {
   "cell_type": "code",
   "execution_count": 12,
   "metadata": {},
   "outputs": [
    {
     "data": {
      "application/vnd.vegalite.v4+json": {
       "$schema": "https://vega.github.io/schema/vega-lite/v4.8.1.json",
       "config": {
        "title": {
         "fontSize": 14
        },
        "view": {
         "continuousHeight": 300,
         "continuousWidth": 400
        }
       },
       "data": {
        "name": "data-1d97dabf0506b8a6531e5293b78b78aa"
       },
       "datasets": {
        "data-1d97dabf0506b8a6531e5293b78b78aa": [
         {
          "binwidth": 0.01,
          "count_rows": 570,
          "freqdensity": 57000,
          "normalised": 0.25299600532623173,
          "splink_score_bin_high": 0.01,
          "splink_score_bin_low": 0
         },
         {
          "binwidth": 0.01,
          "count_rows": 201,
          "freqdensity": 20100,
          "normalised": 0.08921438082556593,
          "splink_score_bin_high": 0.02,
          "splink_score_bin_low": 0.01
         },
         {
          "binwidth": 0.009999999999999998,
          "count_rows": 147,
          "freqdensity": 14700.000000000002,
          "normalised": 0.06524633821571241,
          "splink_score_bin_high": 0.03,
          "splink_score_bin_low": 0.02
         },
         {
          "binwidth": 0.010000000000000002,
          "count_rows": 0,
          "freqdensity": 0,
          "normalised": 0,
          "splink_score_bin_high": 0.04,
          "splink_score_bin_low": 0.03
         },
         {
          "binwidth": 0.010000000000000002,
          "count_rows": 163,
          "freqdensity": 16299.999999999996,
          "normalised": 0.0723479804704838,
          "splink_score_bin_high": 0.05,
          "splink_score_bin_low": 0.04
         },
         {
          "binwidth": 0.009999999999999995,
          "count_rows": 25,
          "freqdensity": 2500.0000000000014,
          "normalised": 0.011096316023080347,
          "splink_score_bin_high": 0.06,
          "splink_score_bin_low": 0.05
         },
         {
          "binwidth": 0.010000000000000009,
          "count_rows": 0,
          "freqdensity": 0,
          "normalised": 0,
          "splink_score_bin_high": 0.07,
          "splink_score_bin_low": 0.06
         },
         {
          "binwidth": 0.009999999999999995,
          "count_rows": 0,
          "freqdensity": 0,
          "normalised": 0,
          "splink_score_bin_high": 0.08,
          "splink_score_bin_low": 0.07
         },
         {
          "binwidth": 0.009999999999999995,
          "count_rows": 0,
          "freqdensity": 0,
          "normalised": 0,
          "splink_score_bin_high": 0.09,
          "splink_score_bin_low": 0.08
         },
         {
          "binwidth": 0.010000000000000009,
          "count_rows": 0,
          "freqdensity": 0,
          "normalised": 0,
          "splink_score_bin_high": 0.1,
          "splink_score_bin_low": 0.09
         },
         {
          "binwidth": 0.009999999999999995,
          "count_rows": 28,
          "freqdensity": 2800.0000000000014,
          "normalised": 0.012427873945849988,
          "splink_score_bin_high": 0.11,
          "splink_score_bin_low": 0.1
         },
         {
          "binwidth": 0.009999999999999995,
          "count_rows": 24,
          "freqdensity": 2400.0000000000014,
          "normalised": 0.010652463382157133,
          "splink_score_bin_high": 0.12,
          "splink_score_bin_low": 0.11
         },
         {
          "binwidth": 0.010000000000000009,
          "count_rows": 52,
          "freqdensity": 5199.999999999995,
          "normalised": 0.023080337328007086,
          "splink_score_bin_high": 0.13,
          "splink_score_bin_low": 0.12
         },
         {
          "binwidth": 0.010000000000000009,
          "count_rows": 2,
          "freqdensity": 199.99999999999983,
          "normalised": 0.0008877052818464264,
          "splink_score_bin_high": 0.14,
          "splink_score_bin_low": 0.13
         },
         {
          "binwidth": 0.009999999999999981,
          "count_rows": 0,
          "freqdensity": 0,
          "normalised": 0,
          "splink_score_bin_high": 0.15,
          "splink_score_bin_low": 0.14
         },
         {
          "binwidth": 0.010000000000000009,
          "count_rows": 0,
          "freqdensity": 0,
          "normalised": 0,
          "splink_score_bin_high": 0.16,
          "splink_score_bin_low": 0.15
         },
         {
          "binwidth": 0.010000000000000009,
          "count_rows": 0,
          "freqdensity": 0,
          "normalised": 0,
          "splink_score_bin_high": 0.17,
          "splink_score_bin_low": 0.16
         },
         {
          "binwidth": 0.009999999999999981,
          "count_rows": 0,
          "freqdensity": 0,
          "normalised": 0,
          "splink_score_bin_high": 0.18,
          "splink_score_bin_low": 0.17
         },
         {
          "binwidth": 0.010000000000000009,
          "count_rows": 0,
          "freqdensity": 0,
          "normalised": 0,
          "splink_score_bin_high": 0.19,
          "splink_score_bin_low": 0.18
         },
         {
          "binwidth": 0.010000000000000009,
          "count_rows": 0,
          "freqdensity": 0,
          "normalised": 0,
          "splink_score_bin_high": 0.2,
          "splink_score_bin_low": 0.19
         },
         {
          "binwidth": 0.009999999999999981,
          "count_rows": 2,
          "freqdensity": 200.00000000000037,
          "normalised": 0.0008877052818464288,
          "splink_score_bin_high": 0.21,
          "splink_score_bin_low": 0.2
         },
         {
          "binwidth": 0.010000000000000009,
          "count_rows": 34,
          "freqdensity": 3399.999999999997,
          "normalised": 0.015090989791389248,
          "splink_score_bin_high": 0.22,
          "splink_score_bin_low": 0.21
         },
         {
          "binwidth": 0.010000000000000009,
          "count_rows": 0,
          "freqdensity": 0,
          "normalised": 0,
          "splink_score_bin_high": 0.23,
          "splink_score_bin_low": 0.22
         },
         {
          "binwidth": 0.009999999999999981,
          "count_rows": 0,
          "freqdensity": 0,
          "normalised": 0,
          "splink_score_bin_high": 0.24,
          "splink_score_bin_low": 0.23
         },
         {
          "binwidth": 0.010000000000000009,
          "count_rows": 0,
          "freqdensity": 0,
          "normalised": 0,
          "splink_score_bin_high": 0.25,
          "splink_score_bin_low": 0.24
         },
         {
          "binwidth": 0.010000000000000009,
          "count_rows": 6,
          "freqdensity": 599.9999999999994,
          "normalised": 0.002663115845539279,
          "splink_score_bin_high": 0.26,
          "splink_score_bin_low": 0.25
         },
         {
          "binwidth": 0.010000000000000009,
          "count_rows": 0,
          "freqdensity": 0,
          "normalised": 0,
          "splink_score_bin_high": 0.27,
          "splink_score_bin_low": 0.26
         },
         {
          "binwidth": 0.010000000000000009,
          "count_rows": 0,
          "freqdensity": 0,
          "normalised": 0,
          "splink_score_bin_high": 0.28,
          "splink_score_bin_low": 0.27
         },
         {
          "binwidth": 0.009999999999999953,
          "count_rows": 0,
          "freqdensity": 0,
          "normalised": 0,
          "splink_score_bin_high": 0.29,
          "splink_score_bin_low": 0.28
         },
         {
          "binwidth": 0.010000000000000009,
          "count_rows": 0,
          "freqdensity": 0,
          "normalised": 0,
          "splink_score_bin_high": 0.3,
          "splink_score_bin_low": 0.29
         },
         {
          "binwidth": 0.010000000000000009,
          "count_rows": 2,
          "freqdensity": 199.99999999999983,
          "normalised": 0.0008877052818464264,
          "splink_score_bin_high": 0.31,
          "splink_score_bin_low": 0.3
         },
         {
          "binwidth": 0.010000000000000009,
          "count_rows": 0,
          "freqdensity": 0,
          "normalised": 0,
          "splink_score_bin_high": 0.32,
          "splink_score_bin_low": 0.31
         },
         {
          "binwidth": 0.010000000000000009,
          "count_rows": 0,
          "freqdensity": 0,
          "normalised": 0,
          "splink_score_bin_high": 0.33,
          "splink_score_bin_low": 0.32
         },
         {
          "binwidth": 0.010000000000000009,
          "count_rows": 0,
          "freqdensity": 0,
          "normalised": 0,
          "splink_score_bin_high": 0.34,
          "splink_score_bin_low": 0.33
         },
         {
          "binwidth": 0.009999999999999953,
          "count_rows": 0,
          "freqdensity": 0,
          "normalised": 0,
          "splink_score_bin_high": 0.35,
          "splink_score_bin_low": 0.34
         },
         {
          "binwidth": 0.010000000000000009,
          "count_rows": 0,
          "freqdensity": 0,
          "normalised": 0,
          "splink_score_bin_high": 0.36,
          "splink_score_bin_low": 0.35
         },
         {
          "binwidth": 0.010000000000000009,
          "count_rows": 0,
          "freqdensity": 0,
          "normalised": 0,
          "splink_score_bin_high": 0.37,
          "splink_score_bin_low": 0.36
         },
         {
          "binwidth": 0.010000000000000009,
          "count_rows": 1,
          "freqdensity": 99.99999999999991,
          "normalised": 0.0004438526409232132,
          "splink_score_bin_high": 0.38,
          "splink_score_bin_low": 0.37
         },
         {
          "binwidth": 0.010000000000000009,
          "count_rows": 0,
          "freqdensity": 0,
          "normalised": 0,
          "splink_score_bin_high": 0.39,
          "splink_score_bin_low": 0.38
         },
         {
          "binwidth": 0.010000000000000009,
          "count_rows": 0,
          "freqdensity": 0,
          "normalised": 0,
          "splink_score_bin_high": 0.4,
          "splink_score_bin_low": 0.39
         },
         {
          "binwidth": 0.009999999999999953,
          "count_rows": 0,
          "freqdensity": 0,
          "normalised": 0,
          "splink_score_bin_high": 0.41,
          "splink_score_bin_low": 0.4
         },
         {
          "binwidth": 0.010000000000000009,
          "count_rows": 0,
          "freqdensity": 0,
          "normalised": 0,
          "splink_score_bin_high": 0.42,
          "splink_score_bin_low": 0.41
         },
         {
          "binwidth": 0.010000000000000009,
          "count_rows": 5,
          "freqdensity": 499.99999999999955,
          "normalised": 0.002219263204616066,
          "splink_score_bin_high": 0.43,
          "splink_score_bin_low": 0.42
         },
         {
          "binwidth": 0.010000000000000009,
          "count_rows": 12,
          "freqdensity": 1199.9999999999989,
          "normalised": 0.005326231691078558,
          "splink_score_bin_high": 0.44,
          "splink_score_bin_low": 0.43
         },
         {
          "binwidth": 0.010000000000000009,
          "count_rows": 1,
          "freqdensity": 99.99999999999991,
          "normalised": 0.0004438526409232132,
          "splink_score_bin_high": 0.45,
          "splink_score_bin_low": 0.44
         },
         {
          "binwidth": 0.010000000000000009,
          "count_rows": 0,
          "freqdensity": 0,
          "normalised": 0,
          "splink_score_bin_high": 0.46,
          "splink_score_bin_low": 0.45
         },
         {
          "binwidth": 0.009999999999999953,
          "count_rows": 0,
          "freqdensity": 0,
          "normalised": 0,
          "splink_score_bin_high": 0.47,
          "splink_score_bin_low": 0.46
         },
         {
          "binwidth": 0.010000000000000009,
          "count_rows": 0,
          "freqdensity": 0,
          "normalised": 0,
          "splink_score_bin_high": 0.48,
          "splink_score_bin_low": 0.47
         },
         {
          "binwidth": 0.010000000000000009,
          "count_rows": 1,
          "freqdensity": 99.99999999999991,
          "normalised": 0.0004438526409232132,
          "splink_score_bin_high": 0.49,
          "splink_score_bin_low": 0.48
         },
         {
          "binwidth": 0.010000000000000009,
          "count_rows": 0,
          "freqdensity": 0,
          "normalised": 0,
          "splink_score_bin_high": 0.5,
          "splink_score_bin_low": 0.49
         },
         {
          "binwidth": 0.010000000000000009,
          "count_rows": 0,
          "freqdensity": 0,
          "normalised": 0,
          "splink_score_bin_high": 0.51,
          "splink_score_bin_low": 0.5
         },
         {
          "binwidth": 0.010000000000000009,
          "count_rows": 1,
          "freqdensity": 99.99999999999991,
          "normalised": 0.0004438526409232132,
          "splink_score_bin_high": 0.52,
          "splink_score_bin_low": 0.51
         },
         {
          "binwidth": 0.010000000000000009,
          "count_rows": 1,
          "freqdensity": 99.99999999999991,
          "normalised": 0.0004438526409232132,
          "splink_score_bin_high": 0.53,
          "splink_score_bin_low": 0.52
         },
         {
          "binwidth": 0.010000000000000009,
          "count_rows": 0,
          "freqdensity": 0,
          "normalised": 0,
          "splink_score_bin_high": 0.54,
          "splink_score_bin_low": 0.53
         },
         {
          "binwidth": 0.010000000000000009,
          "count_rows": 0,
          "freqdensity": 0,
          "normalised": 0,
          "splink_score_bin_high": 0.55,
          "splink_score_bin_low": 0.54
         },
         {
          "binwidth": 0.010000000000000009,
          "count_rows": 8,
          "freqdensity": 799.9999999999993,
          "normalised": 0.0035508211273857057,
          "splink_score_bin_high": 0.56,
          "splink_score_bin_low": 0.55
         },
         {
          "binwidth": 0.009999999999999898,
          "count_rows": 0,
          "freqdensity": 0,
          "normalised": 0,
          "splink_score_bin_high": 0.57,
          "splink_score_bin_low": 0.56
         },
         {
          "binwidth": 0.010000000000000009,
          "count_rows": 0,
          "freqdensity": 0,
          "normalised": 0,
          "splink_score_bin_high": 0.58,
          "splink_score_bin_low": 0.57
         },
         {
          "binwidth": 0.010000000000000009,
          "count_rows": 0,
          "freqdensity": 0,
          "normalised": 0,
          "splink_score_bin_high": 0.59,
          "splink_score_bin_low": 0.58
         },
         {
          "binwidth": 0.010000000000000009,
          "count_rows": 0,
          "freqdensity": 0,
          "normalised": 0,
          "splink_score_bin_high": 0.6,
          "splink_score_bin_low": 0.59
         },
         {
          "binwidth": 0.010000000000000009,
          "count_rows": 2,
          "freqdensity": 199.99999999999983,
          "normalised": 0.0008877052818464264,
          "splink_score_bin_high": 0.61,
          "splink_score_bin_low": 0.6
         },
         {
          "binwidth": 0.010000000000000009,
          "count_rows": 1,
          "freqdensity": 99.99999999999991,
          "normalised": 0.0004438526409232132,
          "splink_score_bin_high": 0.62,
          "splink_score_bin_low": 0.61
         },
         {
          "binwidth": 0.010000000000000009,
          "count_rows": 0,
          "freqdensity": 0,
          "normalised": 0,
          "splink_score_bin_high": 0.63,
          "splink_score_bin_low": 0.62
         },
         {
          "binwidth": 0.010000000000000009,
          "count_rows": 0,
          "freqdensity": 0,
          "normalised": 0,
          "splink_score_bin_high": 0.64,
          "splink_score_bin_low": 0.63
         },
         {
          "binwidth": 0.010000000000000009,
          "count_rows": 2,
          "freqdensity": 199.99999999999983,
          "normalised": 0.0008877052818464264,
          "splink_score_bin_high": 0.65,
          "splink_score_bin_low": 0.64
         },
         {
          "binwidth": 0.010000000000000009,
          "count_rows": 0,
          "freqdensity": 0,
          "normalised": 0,
          "splink_score_bin_high": 0.66,
          "splink_score_bin_low": 0.65
         },
         {
          "binwidth": 0.010000000000000009,
          "count_rows": 0,
          "freqdensity": 0,
          "normalised": 0,
          "splink_score_bin_high": 0.67,
          "splink_score_bin_low": 0.66
         },
         {
          "binwidth": 0.010000000000000009,
          "count_rows": 1,
          "freqdensity": 99.99999999999991,
          "normalised": 0.0004438526409232132,
          "splink_score_bin_high": 0.68,
          "splink_score_bin_low": 0.67
         },
         {
          "binwidth": 0.009999999999999898,
          "count_rows": 2,
          "freqdensity": 200.00000000000205,
          "normalised": 0.0008877052818464363,
          "splink_score_bin_high": 0.69,
          "splink_score_bin_low": 0.68
         },
         {
          "binwidth": 0.010000000000000009,
          "count_rows": 1,
          "freqdensity": 99.99999999999991,
          "normalised": 0.0004438526409232132,
          "splink_score_bin_high": 0.7,
          "splink_score_bin_low": 0.69
         },
         {
          "binwidth": 0.010000000000000009,
          "count_rows": 2,
          "freqdensity": 199.99999999999983,
          "normalised": 0.0008877052818464264,
          "splink_score_bin_high": 0.71,
          "splink_score_bin_low": 0.7
         },
         {
          "binwidth": 0.010000000000000009,
          "count_rows": 2,
          "freqdensity": 199.99999999999983,
          "normalised": 0.0008877052818464264,
          "splink_score_bin_high": 0.72,
          "splink_score_bin_low": 0.71
         },
         {
          "binwidth": 0.010000000000000009,
          "count_rows": 3,
          "freqdensity": 299.9999999999997,
          "normalised": 0.0013315579227696395,
          "splink_score_bin_high": 0.73,
          "splink_score_bin_low": 0.72
         },
         {
          "binwidth": 0.010000000000000009,
          "count_rows": 6,
          "freqdensity": 599.9999999999994,
          "normalised": 0.002663115845539279,
          "splink_score_bin_high": 0.74,
          "splink_score_bin_low": 0.73
         },
         {
          "binwidth": 0.010000000000000009,
          "count_rows": 2,
          "freqdensity": 199.99999999999983,
          "normalised": 0.0008877052818464264,
          "splink_score_bin_high": 0.75,
          "splink_score_bin_low": 0.74
         },
         {
          "binwidth": 0.010000000000000009,
          "count_rows": 14,
          "freqdensity": 1399.9999999999989,
          "normalised": 0.006213936972924985,
          "splink_score_bin_high": 0.76,
          "splink_score_bin_low": 0.75
         },
         {
          "binwidth": 0.010000000000000009,
          "count_rows": 0,
          "freqdensity": 0,
          "normalised": 0,
          "splink_score_bin_high": 0.77,
          "splink_score_bin_low": 0.76
         },
         {
          "binwidth": 0.010000000000000009,
          "count_rows": 0,
          "freqdensity": 0,
          "normalised": 0,
          "splink_score_bin_high": 0.78,
          "splink_score_bin_low": 0.77
         },
         {
          "binwidth": 0.010000000000000009,
          "count_rows": 12,
          "freqdensity": 1199.9999999999989,
          "normalised": 0.005326231691078558,
          "splink_score_bin_high": 0.79,
          "splink_score_bin_low": 0.78
         },
         {
          "binwidth": 0.010000000000000009,
          "count_rows": 0,
          "freqdensity": 0,
          "normalised": 0,
          "splink_score_bin_high": 0.8,
          "splink_score_bin_low": 0.79
         },
         {
          "binwidth": 0.010000000000000009,
          "count_rows": 0,
          "freqdensity": 0,
          "normalised": 0,
          "splink_score_bin_high": 0.81,
          "splink_score_bin_low": 0.8
         },
         {
          "binwidth": 0.009999999999999898,
          "count_rows": 1,
          "freqdensity": 100.00000000000102,
          "normalised": 0.00044385264092321815,
          "splink_score_bin_high": 0.82,
          "splink_score_bin_low": 0.81
         },
         {
          "binwidth": 0.010000000000000009,
          "count_rows": 1,
          "freqdensity": 99.99999999999991,
          "normalised": 0.0004438526409232132,
          "splink_score_bin_high": 0.83,
          "splink_score_bin_low": 0.82
         },
         {
          "binwidth": 0.010000000000000009,
          "count_rows": 1,
          "freqdensity": 99.99999999999991,
          "normalised": 0.0004438526409232132,
          "splink_score_bin_high": 0.84,
          "splink_score_bin_low": 0.83
         },
         {
          "binwidth": 0.010000000000000009,
          "count_rows": 1,
          "freqdensity": 99.99999999999991,
          "normalised": 0.0004438526409232132,
          "splink_score_bin_high": 0.85,
          "splink_score_bin_low": 0.84
         },
         {
          "binwidth": 0.010000000000000009,
          "count_rows": 1,
          "freqdensity": 99.99999999999991,
          "normalised": 0.0004438526409232132,
          "splink_score_bin_high": 0.86,
          "splink_score_bin_low": 0.85
         },
         {
          "binwidth": 0.010000000000000009,
          "count_rows": 12,
          "freqdensity": 1199.9999999999989,
          "normalised": 0.005326231691078558,
          "splink_score_bin_high": 0.87,
          "splink_score_bin_low": 0.86
         },
         {
          "binwidth": 0.010000000000000009,
          "count_rows": 1,
          "freqdensity": 99.99999999999991,
          "normalised": 0.0004438526409232132,
          "splink_score_bin_high": 0.88,
          "splink_score_bin_low": 0.87
         },
         {
          "binwidth": 0.010000000000000009,
          "count_rows": 11,
          "freqdensity": 1099.999999999999,
          "normalised": 0.004882379050155346,
          "splink_score_bin_high": 0.89,
          "splink_score_bin_low": 0.88
         },
         {
          "binwidth": 0.010000000000000009,
          "count_rows": 12,
          "freqdensity": 1199.9999999999989,
          "normalised": 0.005326231691078558,
          "splink_score_bin_high": 0.9,
          "splink_score_bin_low": 0.89
         },
         {
          "binwidth": 0.010000000000000009,
          "count_rows": 7,
          "freqdensity": 699.9999999999994,
          "normalised": 0.0031069684864624926,
          "splink_score_bin_high": 0.91,
          "splink_score_bin_low": 0.9
         },
         {
          "binwidth": 0.010000000000000009,
          "count_rows": 4,
          "freqdensity": 399.99999999999966,
          "normalised": 0.0017754105636928529,
          "splink_score_bin_high": 0.92,
          "splink_score_bin_low": 0.91
         },
         {
          "binwidth": 0.010000000000000009,
          "count_rows": 3,
          "freqdensity": 299.9999999999997,
          "normalised": 0.0013315579227696395,
          "splink_score_bin_high": 0.93,
          "splink_score_bin_low": 0.92
         },
         {
          "binwidth": 0.009999999999999898,
          "count_rows": 5,
          "freqdensity": 500.0000000000051,
          "normalised": 0.002219263204616091,
          "splink_score_bin_high": 0.94,
          "splink_score_bin_low": 0.93
         },
         {
          "binwidth": 0.010000000000000009,
          "count_rows": 14,
          "freqdensity": 1399.9999999999989,
          "normalised": 0.006213936972924985,
          "splink_score_bin_high": 0.95,
          "splink_score_bin_low": 0.94
         },
         {
          "binwidth": 0.010000000000000009,
          "count_rows": 32,
          "freqdensity": 3199.9999999999973,
          "normalised": 0.014203284509542823,
          "splink_score_bin_high": 0.96,
          "splink_score_bin_low": 0.95
         },
         {
          "binwidth": 0.010000000000000009,
          "count_rows": 1,
          "freqdensity": 99.99999999999991,
          "normalised": 0.0004438526409232132,
          "splink_score_bin_high": 0.97,
          "splink_score_bin_low": 0.96
         },
         {
          "binwidth": 0.010000000000000009,
          "count_rows": 8,
          "freqdensity": 799.9999999999993,
          "normalised": 0.0035508211273857057,
          "splink_score_bin_high": 0.98,
          "splink_score_bin_low": 0.97
         },
         {
          "binwidth": 0.010000000000000009,
          "count_rows": 31,
          "freqdensity": 3099.9999999999973,
          "normalised": 0.01375943186861961,
          "splink_score_bin_high": 0.99,
          "splink_score_bin_low": 0.98
         },
         {
          "binwidth": 0.010000000000000009,
          "count_rows": 771,
          "freqdensity": 77099.99999999993,
          "normalised": 0.3422103861517974,
          "splink_score_bin_high": 1,
          "splink_score_bin_low": 0.99
         }
        ]
       },
       "encoding": {
        "tooltip": [
         {
          "field": "count_rows",
          "title": "count",
          "type": "quantitative"
         }
        ],
        "x": {
         "axis": {
          "title": "splink score"
         },
         "bin": "binned",
         "field": "splink_score_bin_low",
         "type": "quantitative"
        },
        "x2": {
         "field": "splink_score_bin_high"
        },
        "y": {
         "axis": {
          "title": "probability density"
         },
         "field": "normalised",
         "type": "quantitative"
        }
       },
       "height": 200,
       "mark": "bar",
       "title": "Histogram of splink scores",
       "width": 700
      },
      "image/png": "[encoded data removed]",
      "text/plain": [
       "<VegaLite 4 object>\n",
       "\n",
       "If you see this message, it means the renderer has not been properly enabled\n",
       "for the frontend that you are using. For more information, see\n",
       "https://altair-viz.github.io/user_guide/troubleshooting.html\n"
      ]
     },
     "execution_count": 12,
     "metadata": {},
     "output_type": "execute_result"
    }
   ],
   "source": [
    "from splink.diagnostics import splink_score_histogram\n",
    "splink_score_histogram(df_e, spark, 100)"
   ]
  },
  {
   "cell_type": "markdown",
   "metadata": {},
   "source": [
    "The `params` property of the `linker` is an object that contains a lot of diagnostic information about how the match probability was computed.  The following cells demonstrate some of its functionality"
   ]
  },
  {
   "cell_type": "code",
   "execution_count": 13,
   "metadata": {},
   "outputs": [
    {
     "data": {
      "application/vnd.vegalite.v4+json": {
       "$schema": "https://vega.github.io/schema/vega-lite/v4.json",
       "config": {
        "header": {
         "title": null
        },
        "title": {
         "anchor": "middle",
         "offset": 10
        },
        "view": {
         "continuousHeight": 300,
         "continuousWidth": 400,
         "height": 300,
         "width": 400
        }
       },
       "data": {
        "name": "data-794529fbd9114d397924d32b6eee045b"
       },
       "datasets": {
        "data-794529fbd9114d397924d32b6eee045b": [
         {
          "bayes_factor": 0.1622471755091012,
          "column_name": "surname",
          "gamma_column_name": "gamma_surname",
          "gamma_index": 0,
          "level_name": "level_0",
          "level_proportion": 0.6109874690862493,
          "log2_bayes_factor": -2.6237347316982733,
          "m_probability": 0.1605747640132904,
          "max_gamma_index": 2,
          "num_levels": 3,
          "u_probability": 0.9896921996295894
         },
         {
          "bayes_factor": 52.543142934429625,
          "column_name": "surname",
          "gamma_column_name": "gamma_surname",
          "gamma_index": 1,
          "level_name": "level_1",
          "level_proportion": 0.07031091441928512,
          "log2_bayes_factor": 5.715430594565235,
          "m_probability": 0.1505279392004013,
          "max_gamma_index": 2,
          "num_levels": 3,
          "u_probability": 0.002864844598052504
         },
         {
          "bayes_factor": 92.55695354873998,
          "column_name": "surname",
          "gamma_column_name": "gamma_surname",
          "gamma_index": 2,
          "level_name": "level_2",
          "level_proportion": 0.3187016233006669,
          "log2_bayes_factor": 6.532269474755677,
          "m_probability": 0.6888973116874695,
          "max_gamma_index": 2,
          "num_levels": 3,
          "u_probability": 0.007442955772358042
         },
         {
          "bayes_factor": 0.4174131841784876,
          "column_name": "dob",
          "gamma_column_name": "gamma_dob",
          "gamma_index": 0,
          "level_name": "level_0",
          "level_proportion": 0.7311815713081355,
          "log2_bayes_factor": -1.2604519255143634,
          "m_probability": 0.4158672094345093,
          "max_gamma_index": 1,
          "num_levels": 2,
          "u_probability": 0.9962962963256157
         },
         {
          "bayes_factor": 157.71585470119936,
          "column_name": "dob",
          "gamma_column_name": "gamma_dob",
          "gamma_index": 1,
          "level_name": "level_1",
          "level_proportion": 0.26881842869186445,
          "log2_bayes_factor": 7.301183886992904,
          "m_probability": 0.5841327905654907,
          "max_gamma_index": 1,
          "num_levels": 2,
          "u_probability": 0.003703703674384289
         },
         {
          "bayes_factor": 0.4054828597512743,
          "column_name": "city",
          "gamma_column_name": "gamma_city",
          "gamma_index": 0,
          "level_name": "level_0",
          "level_proportion": 0.6606476826448348,
          "log2_bayes_factor": -1.3022871636124422,
          "m_probability": 0.36774128675460815,
          "max_gamma_index": 1,
          "num_levels": 2,
          "u_probability": 0.9069219028892688
         },
         {
          "bayes_factor": 6.792776527148159,
          "column_name": "city",
          "gamma_column_name": "gamma_city",
          "gamma_index": 1,
          "level_name": "level_1",
          "level_proportion": 0.33935231735516524,
          "log2_bayes_factor": 2.764001392316944,
          "m_probability": 0.6322587132453918,
          "max_gamma_index": 1,
          "num_levels": 2,
          "u_probability": 0.09307809711073121
         },
         {
          "bayes_factor": 0.349537991501482,
          "column_name": "email",
          "gamma_column_name": "gamma_email",
          "gamma_index": 0,
          "level_name": "level_0",
          "level_proportion": 0.700036280696167,
          "log2_bayes_factor": -1.516478823343871,
          "m_probability": 0.3481152653694153,
          "max_gamma_index": 1,
          "num_levels": 2,
          "u_probability": 0.9959296952930489
         },
         {
          "bayes_factor": 160.15624911749518,
          "column_name": "email",
          "gamma_column_name": "gamma_email",
          "gamma_index": 1,
          "level_name": "level_1",
          "level_proportion": 0.2999637193038331,
          "log2_bayes_factor": 7.323336281330525,
          "m_probability": 0.6518847346305847,
          "max_gamma_index": 1,
          "num_levels": 2,
          "u_probability": 0.00407030470695117
         }
        ]
       },
       "hconcat": [
        {
         "encoding": {
          "color": {
           "value": "red"
          },
          "row": {
           "field": "column_name",
           "header": {
            "labelAlign": "left",
            "labelAnchor": "middle",
            "labelAngle": 0
           },
           "sort": {
            "field": "gamma_index"
           },
           "type": "nominal"
          },
          "tooltip": [
           {
            "field": "column_name",
            "type": "nominal"
           },
           {
            "field": "level_name",
            "type": "ordinal"
           },
           {
            "field": "u_probability",
            "format": ".4f",
            "type": "quantitative"
           },
           {
            "field": "bayes_factor",
            "format": ".4f",
            "type": "quantitative"
           },
           {
            "field": "level_proportion",
            "format": ".2%",
            "title": "Percentage of record comparisons in this level",
            "type": "nominal"
           },
           {
            "field": "log2_bayes_factor",
            "format": ".4f",
            "type": "quantitative"
           }
          ],
          "x": {
           "axis": {
            "title": "proportion"
           },
           "field": "u_probability",
           "type": "quantitative"
          },
          "y": {
           "axis": {
            "title": null
           },
           "field": "level_name",
           "type": "nominal"
          }
         },
         "height": 50,
         "mark": "bar",
         "resolve": {
          "scale": {
           "y": "independent"
          }
         },
         "title": {
          "fontWeight": "normal",
          "text": "Non-matches"
         },
         "transform": [
          {
           "filter": "(datum.bayes_factor != 'unnecessary filter2 due to vega lite issue 4680')"
          }
         ],
         "width": 150
        },
        {
         "encoding": {
          "color": {
           "value": "green"
          },
          "row": {
           "field": "column_name",
           "header": {
            "labels": false
           },
           "sort": {
            "field": "gamma_index"
           },
           "type": "nominal"
          },
          "tooltip": [
           {
            "field": "column_name",
            "type": "nominal"
           },
           {
            "field": "level_name",
            "type": "ordinal"
           },
           {
            "field": "m_probability",
            "format": ".4f",
            "type": "quantitative"
           },
           {
            "field": "bayes_factor",
            "format": ".4f",
            "type": "quantitative"
           },
           {
            "field": "level_proportion",
            "format": ".2%",
            "title": "Percentage of record comparisons in this level",
            "type": "nominal"
           },
           {
            "field": "log2_bayes_factor",
            "format": ".4f",
            "type": "quantitative"
           }
          ],
          "x": {
           "axis": {
            "title": "proportion"
           },
           "field": "m_probability",
           "type": "quantitative"
          },
          "y": {
           "axis": {
            "title": null
           },
           "field": "level_name",
           "type": "nominal"
          }
         },
         "height": 50,
         "mark": "bar",
         "resolve": {
          "scale": {
           "y": "independent"
          }
         },
         "title": {
          "fontWeight": "normal",
          "text": "Matches"
         },
         "transform": [
          {
           "filter": "(datum.bayes_factor != 'unnecessary filter due to vega lite issue 4680')"
          }
         ],
         "width": 150
        }
       ],
       "title": {
        "subtitle": "Estimated proportion of matches λ =  0.457",
        "text": "Probability distributions of non-matches and matches "
       },
       "transform": []
      },
      "image/png": "[encoded data removed]",
      "text/plain": [
       "<VegaLite 4 object>\n",
       "\n",
       "If you see this message, it means the renderer has not been properly enabled\n",
       "for the frontend that you are using. For more information, see\n",
       "https://altair-viz.github.io/user_guide/troubleshooting.html\n"
      ]
     },
     "execution_count": 13,
     "metadata": {},
     "output_type": "execute_result"
    }
   ],
   "source": [
    "model = linker.model\n",
    "model.probability_distribution_chart()"
   ]
  },
  {
   "cell_type": "markdown",
   "metadata": {},
   "source": [
    "An alternative representation of the parameters displays them in terms of the effect different values in the comparison vectors have on the match probability:"
   ]
  },
  {
   "cell_type": "code",
   "execution_count": 14,
   "metadata": {},
   "outputs": [
    {
     "data": {
      "application/vnd.vegalite.v4+json": {
       "$schema": "https://vega.github.io/schema/vega-lite/v4.json",
       "config": {
        "header": {
         "title": null
        },
        "mark": {
         "tooltip": null
        },
        "title": {
         "anchor": "middle"
        },
        "view": {
         "continuousHeight": 300,
         "continuousWidth": 400,
         "height": 300,
         "width": 400
        }
       },
       "data": {
        "name": "data-794529fbd9114d397924d32b6eee045b"
       },
       "datasets": {
        "data-794529fbd9114d397924d32b6eee045b": [
         {
          "bayes_factor": 0.1622471755091012,
          "column_name": "surname",
          "gamma_column_name": "gamma_surname",
          "gamma_index": 0,
          "level_name": "level_0",
          "level_proportion": 0.6109874690862493,
          "log2_bayes_factor": -2.6237347316982733,
          "m_probability": 0.1605747640132904,
          "max_gamma_index": 2,
          "num_levels": 3,
          "u_probability": 0.9896921996295894
         },
         {
          "bayes_factor": 52.543142934429625,
          "column_name": "surname",
          "gamma_column_name": "gamma_surname",
          "gamma_index": 1,
          "level_name": "level_1",
          "level_proportion": 0.07031091441928512,
          "log2_bayes_factor": 5.715430594565235,
          "m_probability": 0.1505279392004013,
          "max_gamma_index": 2,
          "num_levels": 3,
          "u_probability": 0.002864844598052504
         },
         {
          "bayes_factor": 92.55695354873998,
          "column_name": "surname",
          "gamma_column_name": "gamma_surname",
          "gamma_index": 2,
          "level_name": "level_2",
          "level_proportion": 0.3187016233006669,
          "log2_bayes_factor": 6.532269474755677,
          "m_probability": 0.6888973116874695,
          "max_gamma_index": 2,
          "num_levels": 3,
          "u_probability": 0.007442955772358042
         },
         {
          "bayes_factor": 0.4174131841784876,
          "column_name": "dob",
          "gamma_column_name": "gamma_dob",
          "gamma_index": 0,
          "level_name": "level_0",
          "level_proportion": 0.7311815713081355,
          "log2_bayes_factor": -1.2604519255143634,
          "m_probability": 0.4158672094345093,
          "max_gamma_index": 1,
          "num_levels": 2,
          "u_probability": 0.9962962963256157
         },
         {
          "bayes_factor": 157.71585470119936,
          "column_name": "dob",
          "gamma_column_name": "gamma_dob",
          "gamma_index": 1,
          "level_name": "level_1",
          "level_proportion": 0.26881842869186445,
          "log2_bayes_factor": 7.301183886992904,
          "m_probability": 0.5841327905654907,
          "max_gamma_index": 1,
          "num_levels": 2,
          "u_probability": 0.003703703674384289
         },
         {
          "bayes_factor": 0.4054828597512743,
          "column_name": "city",
          "gamma_column_name": "gamma_city",
          "gamma_index": 0,
          "level_name": "level_0",
          "level_proportion": 0.6606476826448348,
          "log2_bayes_factor": -1.3022871636124422,
          "m_probability": 0.36774128675460815,
          "max_gamma_index": 1,
          "num_levels": 2,
          "u_probability": 0.9069219028892688
         },
         {
          "bayes_factor": 6.792776527148159,
          "column_name": "city",
          "gamma_column_name": "gamma_city",
          "gamma_index": 1,
          "level_name": "level_1",
          "level_proportion": 0.33935231735516524,
          "log2_bayes_factor": 2.764001392316944,
          "m_probability": 0.6322587132453918,
          "max_gamma_index": 1,
          "num_levels": 2,
          "u_probability": 0.09307809711073121
         },
         {
          "bayes_factor": 0.349537991501482,
          "column_name": "email",
          "gamma_column_name": "gamma_email",
          "gamma_index": 0,
          "level_name": "level_0",
          "level_proportion": 0.700036280696167,
          "log2_bayes_factor": -1.516478823343871,
          "m_probability": 0.3481152653694153,
          "max_gamma_index": 1,
          "num_levels": 2,
          "u_probability": 0.9959296952930489
         },
         {
          "bayes_factor": 160.15624911749518,
          "column_name": "email",
          "gamma_column_name": "gamma_email",
          "gamma_index": 1,
          "level_name": "level_1",
          "level_proportion": 0.2999637193038331,
          "log2_bayes_factor": 7.323336281330525,
          "m_probability": 0.6518847346305847,
          "max_gamma_index": 1,
          "num_levels": 2,
          "u_probability": 0.00407030470695117
         }
        ]
       },
       "encoding": {
        "color": {
         "field": "log2_bayes_factor",
         "scale": {
          "domain": [
           -10,
           0,
           10
          ],
          "range": [
           "red",
           "orange",
           "green"
          ]
         },
         "type": "quantitative"
        },
        "row": {
         "field": "column_name",
         "header": {
          "labelAlign": "left",
          "labelAnchor": "middle",
          "labelAngle": 0
         },
         "sort": {
          "field": "gamma_index"
         },
         "type": "nominal"
        },
        "tooltip": [
         {
          "field": "column_name",
          "type": "nominal"
         },
         {
          "field": "level_name",
          "type": "ordinal"
         },
         {
          "field": "m_probability",
          "format": ".4f",
          "type": "quantitative"
         },
         {
          "field": "bayes_factor",
          "format": ".4f",
          "type": "quantitative"
         },
         {
          "field": "level_proportion",
          "format": ".2%",
          "title": "Percentage of record comparisons in this level",
          "type": "nominal"
         },
         {
          "field": "log2_bayes_factor",
          "format": ".4f",
          "title": "log2(Bayes factor, K = m/u)",
          "type": "quantitative"
         }
        ],
        "x": {
         "axis": {
          "title": "log2(Bayes factor, K = m/u)",
          "values": [
           -10,
           -5,
           0,
           5,
           10
          ]
         },
         "field": "log2_bayes_factor",
         "scale": {
          "domain": [
           -10,
           10
          ]
         },
         "type": "quantitative"
        },
        "y": {
         "axis": {
          "title": null
         },
         "field": "level_name",
         "type": "nominal"
        }
       },
       "height": 50,
       "mark": {
        "clip": true,
        "type": "bar"
       },
       "resolve": {
        "scale": {
         "y": "independent"
        }
       },
       "title": "Influence of comparison vector values on match probability"
      },
      "image/png": "[encoded data removed]",
      "text/plain": [
       "<VegaLite 4 object>\n",
       "\n",
       "If you see this message, it means the renderer has not been properly enabled\n",
       "for the frontend that you are using. For more information, see\n",
       "https://altair-viz.github.io/user_guide/troubleshooting.html\n"
      ]
     },
     "execution_count": 14,
     "metadata": {},
     "output_type": "execute_result"
    }
   ],
   "source": [
    "model.bayes_factor_chart()"
   ]
  },
  {
   "cell_type": "code",
   "execution_count": 15,
   "metadata": {},
   "outputs": [],
   "source": [
    "# If charts aren't displaying correctly in your notebook, you can write them to a file (by default splink_charts.html)\n",
    "model.all_charts_write_html_file(filename=\"splink_charts.html\", overwrite=True)"
   ]
  },
  {
   "cell_type": "markdown",
   "metadata": {},
   "source": [
    "You can also generate a report which explains how the match probability was computed for an individual comparison row.  \n",
    "\n",
    "Note that you need to convert the row to a dictionary for this to work"
   ]
  },
  {
   "cell_type": "code",
   "execution_count": 16,
   "metadata": {},
   "outputs": [
    {
     "data": {
      "text/html": [
       "<div>\n",
       "<style scoped>\n",
       "    .dataframe tbody tr th:only-of-type {\n",
       "        vertical-align: middle;\n",
       "    }\n",
       "\n",
       "    .dataframe tbody tr th {\n",
       "        vertical-align: top;\n",
       "    }\n",
       "\n",
       "    .dataframe thead th {\n",
       "        text-align: right;\n",
       "    }\n",
       "</style>\n",
       "<table border=\"1\" class=\"dataframe\">\n",
       "  <thead>\n",
       "    <tr style=\"text-align: right;\">\n",
       "      <th></th>\n",
       "      <th>tf_adjusted_match_prob</th>\n",
       "      <th>match_probability</th>\n",
       "      <th>unique_id_l</th>\n",
       "      <th>unique_id_r</th>\n",
       "      <th>surname_l</th>\n",
       "      <th>surname_r</th>\n",
       "      <th>gamma_surname</th>\n",
       "      <th>dob_l</th>\n",
       "      <th>dob_r</th>\n",
       "      <th>gamma_dob</th>\n",
       "      <th>city_l</th>\n",
       "      <th>city_r</th>\n",
       "      <th>gamma_city</th>\n",
       "      <th>email_l</th>\n",
       "      <th>email_r</th>\n",
       "      <th>gamma_email</th>\n",
       "      <th>group_l</th>\n",
       "      <th>group_r</th>\n",
       "    </tr>\n",
       "  </thead>\n",
       "  <tbody>\n",
       "    <tr>\n",
       "      <th>449</th>\n",
       "      <td>0.008006</td>\n",
       "      <td>0.008006</td>\n",
       "      <td>147</td>\n",
       "      <td>730</td>\n",
       "      <td>Taylr</td>\n",
       "      <td>Lawrence</td>\n",
       "      <td>0</td>\n",
       "      <td>2017-11-24</td>\n",
       "      <td>2016-12-25</td>\n",
       "      <td>0</td>\n",
       "      <td>noLdo</td>\n",
       "      <td>Stoke-on-ernt</td>\n",
       "      <td>0</td>\n",
       "      <td>coltonray@lee.com</td>\n",
       "      <td>barbarapace@manning.org</td>\n",
       "      <td>0</td>\n",
       "      <td>26</td>\n",
       "      <td>125</td>\n",
       "    </tr>\n",
       "  </tbody>\n",
       "</table>\n",
       "</div>"
      ],
      "text/plain": [
       "     tf_adjusted_match_prob  match_probability  unique_id_l  unique_id_r  \\\n",
       "449                0.008006           0.008006          147          730   \n",
       "\n",
       "    surname_l surname_r  gamma_surname       dob_l       dob_r  gamma_dob  \\\n",
       "449     Taylr  Lawrence              0  2017-11-24  2016-12-25          0   \n",
       "\n",
       "    city_l         city_r  gamma_city            email_l  \\\n",
       "449  noLdo  Stoke-on-ernt           0  coltonray@lee.com   \n",
       "\n",
       "                     email_r  gamma_email  group_l  group_r  \n",
       "449  barbarapace@manning.org            0       26      125  "
      ]
     },
     "metadata": {},
     "output_type": "display_data"
    },
    {
     "name": "stdout",
     "output_type": "stream",
     "text": [
      "\n",
      "Initial probability of match (prior) = λ = 0.4568\n",
      "------\n",
      "Comparison of surname.  Values are:                \n",
      "surname_l:                                         Taylr\n",
      "surname_r:                                         Lawrence\n",
      "Comparison has:                                    3 levels\n",
      "Level for this comparison:                         gamma_surname = 0\n",
      "m probability = P(level|match):                    0.1606\n",
      "u probability = P(level|non-match):                0.9897\n",
      "Bayes factor = m/u:                                0.1622\n",
      "New probability of match (updated belief):         0.12\n",
      "\n",
      "------\n",
      "Comparison of dob.  Values are:                    \n",
      "dob_l:                                             2017-11-24\n",
      "dob_r:                                             2016-12-25\n",
      "Comparison has:                                    2 levels\n",
      "Level for this comparison:                         gamma_dob = 0\n",
      "m probability = P(level|match):                    0.4159\n",
      "u probability = P(level|non-match):                0.9963\n",
      "Bayes factor = m/u:                                0.4174\n",
      "New probability of match (updated belief):         0.05387\n",
      "\n",
      "------\n",
      "Comparison of city.  Values are:                   \n",
      "city_l:                                            noLdo\n",
      "city_r:                                            Stoke-on-ernt\n",
      "Comparison has:                                    2 levels\n",
      "Level for this comparison:                         gamma_city = 0\n",
      "m probability = P(level|match):                    0.3677\n",
      "u probability = P(level|non-match):                0.9069\n",
      "Bayes factor = m/u:                                0.4055\n",
      "New probability of match (updated belief):         0.02257\n",
      "\n",
      "------\n",
      "Comparison of email.  Values are:                  \n",
      "email_l:                                           coltonray@lee.com\n",
      "email_r:                                           barbarapace@manning.org\n",
      "Comparison has:                                    2 levels\n",
      "Level for this comparison:                         gamma_email = 0\n",
      "m probability = P(level|match):                    0.3481\n",
      "u probability = P(level|non-match):                0.9959\n",
      "Bayes factor = m/u:                                0.3495\n",
      "New probability of match (updated belief):         0.008006\n",
      "\n",
      "\n",
      "Final probability of match = 0.008006\n",
      "\n",
      "Reminder:\n",
      "\n",
      "The m probability for a given level is the proportion of matches which are in this level.\n",
      "We would generally expect the highest similarity level to have the largest proportion of matches.\n",
      "For example, we would expect first name field to match exactly amongst most matching records, except where nicknames, aliases or typos have occurred.\n",
      "For a comparison column that changes through time, like address, we may expect a lower proportion of comparisons to be in the highest similarity level.\n",
      "\n",
      "The u probability for a given level is the proportion of non-matches which are in this level.\n",
      "We would generally expect the lowest similarity level to have the highest proportion of non-matches, but the magnitude depends on the cardinality of the field.\n",
      "For example, we would expect that in the vast majority of non-matching records, the date of birth field would not match.  However, we would expect it to be common for gender to match amongst non-matches.\n",
      "\n"
     ]
    }
   ],
   "source": [
    "from splink.intuition import intuition_report\n",
    "\n",
    "sample = df_e.toPandas().sample(1)\n",
    "row_dict = sample.to_dict(orient=\"records\")[0]\n",
    "display(sample)\n",
    "print(intuition_report(row_dict, model))"
   ]
  },
  {
   "cell_type": "markdown",
   "metadata": {},
   "source": [
    "## Step 6: Measure accuracy of results \n",
    "\n",
    "If you have labelled data, Splink contains routines to compute various accuracy statistics.\n",
    "\n",
    "The labelled data should look like this:\n",
    "\n",
    "| unique_id_l | unique_id_r | clerical_match_score |\n",
    "|:------------|:------------|---------------------:|\n",
    "| id1         | id2         |                  0.9 |\n",
    "| id1         | id3         |                  0.1 |\n",
    "\n",
    "Since we have labelled data, in this noteboko I create this table from the 'group' field of the original data\n",
    "\n"
   ]
  },
  {
   "cell_type": "markdown",
   "metadata": {},
   "source": [
    "**Note: We will fine that the overall accuracy of these results is low because our blocking rule eliminates a large percentage of true matches**"
   ]
  },
  {
   "cell_type": "code",
   "execution_count": 17,
   "metadata": {},
   "outputs": [
    {
     "data": {
      "text/html": [
       "<div>\n",
       "<style scoped>\n",
       "    .dataframe tbody tr th:only-of-type {\n",
       "        vertical-align: middle;\n",
       "    }\n",
       "\n",
       "    .dataframe tbody tr th {\n",
       "        vertical-align: top;\n",
       "    }\n",
       "\n",
       "    .dataframe thead th {\n",
       "        text-align: right;\n",
       "    }\n",
       "</style>\n",
       "<table border=\"1\" class=\"dataframe\">\n",
       "  <thead>\n",
       "    <tr style=\"text-align: right;\">\n",
       "      <th></th>\n",
       "      <th>unique_id_l</th>\n",
       "      <th>unique_id_r</th>\n",
       "      <th>clerical_match_score</th>\n",
       "    </tr>\n",
       "  </thead>\n",
       "  <tbody>\n",
       "    <tr>\n",
       "      <th>3</th>\n",
       "      <td>527</td>\n",
       "      <td>340</td>\n",
       "      <td>0.0</td>\n",
       "    </tr>\n",
       "    <tr>\n",
       "      <th>4</th>\n",
       "      <td>527</td>\n",
       "      <td>158</td>\n",
       "      <td>0.0</td>\n",
       "    </tr>\n",
       "    <tr>\n",
       "      <th>8</th>\n",
       "      <td>527</td>\n",
       "      <td>9</td>\n",
       "      <td>0.0</td>\n",
       "    </tr>\n",
       "    <tr>\n",
       "      <th>12</th>\n",
       "      <td>527</td>\n",
       "      <td>57</td>\n",
       "      <td>0.0</td>\n",
       "    </tr>\n",
       "    <tr>\n",
       "      <th>14</th>\n",
       "      <td>527</td>\n",
       "      <td>221</td>\n",
       "      <td>0.0</td>\n",
       "    </tr>\n",
       "  </tbody>\n",
       "</table>\n",
       "</div>"
      ],
      "text/plain": [
       "    unique_id_l  unique_id_r  clerical_match_score\n",
       "3           527          340                   0.0\n",
       "4           527          158                   0.0\n",
       "8           527            9                   0.0\n",
       "12          527           57                   0.0\n",
       "14          527          221                   0.0"
      ]
     },
     "execution_count": 17,
     "metadata": {},
     "output_type": "execute_result"
    }
   ],
   "source": [
    "cols = ['unique_id', 'group']\n",
    "dfpd_l = df.toPandas().sample(300)[cols]\n",
    "dfpd_l[\"join_col\"] = 1\n",
    "dfpd_r = dfpd_l.copy()\n",
    "labels = dfpd_l.merge(dfpd_r, on = \"join_col\", suffixes=('_l', '_r'))\n",
    "labels = labels[labels[\"unique_id_r\"]< labels[\"unique_id_l\"]]\n",
    "labels[\"clerical_match_score\"] = (labels[\"group_l\"] == labels[\"group_r\"]).astype(float)\n",
    "labels = labels.drop([\"group_l\", \"group_r\", \"join_col\"], axis=1)\n",
    "labels.head()"
   ]
  },
  {
   "cell_type": "code",
   "execution_count": 18,
   "metadata": {},
   "outputs": [
    {
     "name": "stdout",
     "output_type": "stream",
     "text": [
      "+-----------+-----------+--------------------+----------------------+-----------------+\n",
      "|unique_id_l|unique_id_r|clerical_match_score|tf_adjusted_match_prob|found_by_blocking|\n",
      "+-----------+-----------+--------------------+----------------------+-----------------+\n",
      "|        108|          0|                 0.0|                   0.0|            false|\n",
      "|        197|          0|                 0.0|                   0.0|            false|\n",
      "|         24|          0|                 0.0|                   0.0|            false|\n",
      "|        275|          0|                 0.0|                   0.0|            false|\n",
      "|        312|          0|                 0.0|                   0.0|            false|\n",
      "|        324|          0|                 0.0|                   0.0|            false|\n",
      "|         34|          0|                 0.0|                   0.0|            false|\n",
      "|        364|          0|                 0.0|                   0.0|            false|\n",
      "|        378|          0|                 0.0|                   0.0|            false|\n",
      "|        399|          0|                 0.0|                   0.0|            false|\n",
      "|        409|          0|                 0.0|                   0.0|            false|\n",
      "|        423|          0|                 0.0|                   0.0|            false|\n",
      "|        501|          0|                 0.0|                   0.0|            false|\n",
      "|        505|          0|                 0.0|                   0.0|            false|\n",
      "|        528|          0|                 0.0|                   0.0|            false|\n",
      "|        572|          0|                 0.0|                   0.0|            false|\n",
      "|        593|          0|                 0.0|                   0.0|            false|\n",
      "|        598|          0|                 0.0|                   0.0|            false|\n",
      "|        641|          0|                 0.0|                   0.0|            false|\n",
      "|        753|          0|                 0.0|                   0.0|            false|\n",
      "+-----------+-----------+--------------------+----------------------+-----------------+\n",
      "only showing top 20 rows\n",
      "\n"
     ]
    }
   ],
   "source": [
    "from splink.truth import labels_with_splink_scores, roc_chart, precision_recall_chart\n",
    "labels_sp = spark.createDataFrame(labels)\n",
    "labels_and_scores = labels_with_splink_scores(labels_sp, df_e, \"unique_id\", spark)\n",
    "labels_and_scores.show()"
   ]
  },
  {
   "cell_type": "code",
   "execution_count": 19,
   "metadata": {},
   "outputs": [
    {
     "data": {
      "text/html": [
       "<div>\n",
       "<style scoped>\n",
       "    .dataframe tbody tr th:only-of-type {\n",
       "        vertical-align: middle;\n",
       "    }\n",
       "\n",
       "    .dataframe tbody tr th {\n",
       "        vertical-align: top;\n",
       "    }\n",
       "\n",
       "    .dataframe thead th {\n",
       "        text-align: right;\n",
       "    }\n",
       "</style>\n",
       "<table border=\"1\" class=\"dataframe\">\n",
       "  <thead>\n",
       "    <tr style=\"text-align: right;\">\n",
       "      <th></th>\n",
       "      <th>unique_id_l</th>\n",
       "      <th>unique_id_r</th>\n",
       "      <th>clerical_match_score</th>\n",
       "      <th>tf_adjusted_match_prob</th>\n",
       "      <th>found_by_blocking</th>\n",
       "    </tr>\n",
       "  </thead>\n",
       "  <tbody>\n",
       "    <tr>\n",
       "      <th>19676</th>\n",
       "      <td>6</td>\n",
       "      <td>4</td>\n",
       "      <td>1.0</td>\n",
       "      <td>0.000000</td>\n",
       "      <td>False</td>\n",
       "    </tr>\n",
       "    <tr>\n",
       "      <th>26961</th>\n",
       "      <td>671</td>\n",
       "      <td>668</td>\n",
       "      <td>1.0</td>\n",
       "      <td>0.000000</td>\n",
       "      <td>False</td>\n",
       "    </tr>\n",
       "    <tr>\n",
       "      <th>43949</th>\n",
       "      <td>691</td>\n",
       "      <td>692</td>\n",
       "      <td>1.0</td>\n",
       "      <td>0.999998</td>\n",
       "      <td>True</td>\n",
       "    </tr>\n",
       "    <tr>\n",
       "      <th>41026</th>\n",
       "      <td>252</td>\n",
       "      <td>258</td>\n",
       "      <td>1.0</td>\n",
       "      <td>1.000000</td>\n",
       "      <td>True</td>\n",
       "    </tr>\n",
       "    <tr>\n",
       "      <th>42454</th>\n",
       "      <td>462</td>\n",
       "      <td>455</td>\n",
       "      <td>1.0</td>\n",
       "      <td>0.000000</td>\n",
       "      <td>False</td>\n",
       "    </tr>\n",
       "    <tr>\n",
       "      <th>14838</th>\n",
       "      <td>507</td>\n",
       "      <td>502</td>\n",
       "      <td>1.0</td>\n",
       "      <td>0.000000</td>\n",
       "      <td>False</td>\n",
       "    </tr>\n",
       "    <tr>\n",
       "      <th>44175</th>\n",
       "      <td>749</td>\n",
       "      <td>751</td>\n",
       "      <td>1.0</td>\n",
       "      <td>0.999977</td>\n",
       "      <td>True</td>\n",
       "    </tr>\n",
       "    <tr>\n",
       "      <th>16397</th>\n",
       "      <td>794</td>\n",
       "      <td>792</td>\n",
       "      <td>1.0</td>\n",
       "      <td>0.000000</td>\n",
       "      <td>False</td>\n",
       "    </tr>\n",
       "    <tr>\n",
       "      <th>39331</th>\n",
       "      <td>976</td>\n",
       "      <td>980</td>\n",
       "      <td>1.0</td>\n",
       "      <td>1.000000</td>\n",
       "      <td>True</td>\n",
       "    </tr>\n",
       "    <tr>\n",
       "      <th>28100</th>\n",
       "      <td>0</td>\n",
       "      <td>3</td>\n",
       "      <td>1.0</td>\n",
       "      <td>0.978881</td>\n",
       "      <td>True</td>\n",
       "    </tr>\n",
       "  </tbody>\n",
       "</table>\n",
       "</div>"
      ],
      "text/plain": [
       "       unique_id_l  unique_id_r  clerical_match_score  tf_adjusted_match_prob  \\\n",
       "19676            6            4                   1.0                0.000000   \n",
       "26961          671          668                   1.0                0.000000   \n",
       "43949          691          692                   1.0                0.999998   \n",
       "41026          252          258                   1.0                1.000000   \n",
       "42454          462          455                   1.0                0.000000   \n",
       "14838          507          502                   1.0                0.000000   \n",
       "44175          749          751                   1.0                0.999977   \n",
       "16397          794          792                   1.0                0.000000   \n",
       "39331          976          980                   1.0                1.000000   \n",
       "28100            0            3                   1.0                0.978881   \n",
       "\n",
       "       found_by_blocking  \n",
       "19676              False  \n",
       "26961              False  \n",
       "43949               True  \n",
       "41026               True  \n",
       "42454              False  \n",
       "14838              False  \n",
       "44175               True  \n",
       "16397              False  \n",
       "39331               True  \n",
       "28100               True  "
      ]
     },
     "execution_count": 19,
     "metadata": {},
     "output_type": "execute_result"
    }
   ],
   "source": [
    "labels_and_scores_pd = labels_and_scores.toPandas()\n",
    "f1 = labels_and_scores_pd[\"clerical_match_score\"] == 1.0\n",
    "labels_and_scores_pd[f1].sample(10)"
   ]
  },
  {
   "cell_type": "code",
   "execution_count": 20,
   "metadata": {},
   "outputs": [
    {
     "data": {
      "application/vnd.vegalite.v4+json": {
       "$schema": "https://vega.github.io/schema/vega-lite/v4.8.1.json",
       "config": {
        "view": {
         "continuousHeight": 300,
         "continuousWidth": 400
        }
       },
       "data": {
        "name": "data-fadd0e93e9546856cbc745a99e65285d",
        "values": [
         {
          "FN": 0,
          "FN_rate": 0,
          "FP": 44573,
          "FP_rate": 1,
          "N": 44573,
          "N_rate": 0.9938238573021182,
          "P": 277,
          "P_rate": 0.006176142697881829,
          "TN": 0,
          "TN_rate": 0,
          "TP": 277,
          "TP_rate": 1,
          "precision": 0.006176142697881829,
          "recall": 1,
          "row_count": 44850,
          "truth_threshold": 0
         },
         {
          "FN": 183,
          "FN_rate": 0.6606498194945848,
          "FP": 112,
          "FP_rate": 0.002512731922912974,
          "N": 44573,
          "N_rate": 0.9938238573021182,
          "P": 277,
          "P_rate": 0.006176142697881829,
          "TN": 44461,
          "TN_rate": 0.997487268077087,
          "TP": 94,
          "TP_rate": 0.33935018050541516,
          "precision": 0.4563106796116505,
          "recall": 0.33935018050541516,
          "row_count": 44850,
          "truth_threshold": 0.008005885741349656
         },
         {
          "FN": 183,
          "FN_rate": 0.6606498194945848,
          "FP": 72,
          "FP_rate": 0.0016153276647297692,
          "N": 44573,
          "N_rate": 0.9938238573021182,
          "P": 277,
          "P_rate": 0.006176142697881829,
          "TN": 44501,
          "TN_rate": 0.9983846723352703,
          "TP": 94,
          "TP_rate": 0.33935018050541516,
          "precision": 0.5662650602409639,
          "recall": 0.33935018050541516,
          "row_count": 44850,
          "truth_threshold": 0.019515008363309695
         },
         {
          "FN": 183,
          "FN_rate": 0.6606498194945848,
          "FP": 44,
          "FP_rate": 0.0009871446840015257,
          "N": 44573,
          "N_rate": 0.9938238573021182,
          "P": 277,
          "P_rate": 0.006176142697881829,
          "TN": 44529,
          "TN_rate": 0.9990128553159985,
          "TP": 94,
          "TP_rate": 0.33935018050541516,
          "precision": 0.6811594202898551,
          "recall": 0.33935018050541516,
          "row_count": 44850,
          "truth_threshold": 0.02256796881087154
         },
         {
          "FN": 183,
          "FN_rate": 0.6606498194945848,
          "FP": 27,
          "FP_rate": 0.0006057478742736635,
          "N": 44573,
          "N_rate": 0.9938238573021182,
          "P": 277,
          "P_rate": 0.006176142697881829,
          "TN": 44546,
          "TN_rate": 0.9993942521257263,
          "TP": 94,
          "TP_rate": 0.33935018050541516,
          "precision": 0.7768595041322314,
          "recall": 0.33935018050541516,
          "row_count": 44850,
          "truth_threshold": 0.04233222765391316
         },
         {
          "FN": 183,
          "FN_rate": 0.6606498194945848,
          "FP": 23,
          "FP_rate": 0.0005160074484553429,
          "N": 44573,
          "N_rate": 0.9938238573021182,
          "P": 277,
          "P_rate": 0.006176142697881829,
          "TN": 44550,
          "TN_rate": 0.9994839925515446,
          "TP": 94,
          "TP_rate": 0.33935018050541516,
          "precision": 0.8034188034188035,
          "recall": 0.33935018050541516,
          "row_count": 44850,
          "truth_threshold": 0.04738496651963196
         },
         {
          "FN": 183,
          "FN_rate": 0.6606498194945848,
          "FP": 17,
          "FP_rate": 0.00038139680972786217,
          "N": 44573,
          "N_rate": 0.9938238573021182,
          "P": 277,
          "P_rate": 0.006176142697881829,
          "TN": 44556,
          "TN_rate": 0.9996186031902722,
          "TP": 94,
          "TP_rate": 0.33935018050541516,
          "precision": 0.8468468468468469,
          "recall": 0.33935018050541516,
          "row_count": 44850,
          "truth_threshold": 0.0538743709267089
         },
         {
          "FN": 183,
          "FN_rate": 0.6606498194945848,
          "FP": 11,
          "FP_rate": 0.0002467861710003814,
          "N": 44573,
          "N_rate": 0.9938238573021182,
          "P": 277,
          "P_rate": 0.006176142697881829,
          "TN": 44562,
          "TN_rate": 0.9997532138289996,
          "TP": 94,
          "TP_rate": 0.33935018050541516,
          "precision": 0.8952380952380953,
          "recall": 0.33935018050541516,
          "row_count": 44850,
          "truth_threshold": 0.10926905492806017
         },
         {
          "FN": 184,
          "FN_rate": 0.6642599277978339,
          "FP": 9,
          "FP_rate": 0.00020191595809122115,
          "N": 44573,
          "N_rate": 0.9938238573021182,
          "P": 277,
          "P_rate": 0.006176142697881829,
          "TN": 44564,
          "TN_rate": 0.9997980840419087,
          "TP": 93,
          "TP_rate": 0.33574007220216606,
          "precision": 0.9117647058823529,
          "recall": 0.33574007220216606,
          "row_count": 44850,
          "truth_threshold": 0.1122651895563347
         },
         {
          "FN": 184,
          "FN_rate": 0.6642599277978339,
          "FP": 7,
          "FP_rate": 0.00015704574518206089,
          "N": 44573,
          "N_rate": 0.9938238573021182,
          "P": 277,
          "P_rate": 0.006176142697881829,
          "TN": 44566,
          "TN_rate": 0.999842954254818,
          "TP": 93,
          "TP_rate": 0.33574007220216606,
          "precision": 0.93,
          "recall": 0.33574007220216606,
          "row_count": 44850,
          "truth_threshold": 0.12457922117782654
         },
         {
          "FN": 185,
          "FN_rate": 0.6678700361010831,
          "FP": 1,
          "FP_rate": 2.2435106454580127e-05,
          "N": 44573,
          "N_rate": 0.9938238573021182,
          "P": 277,
          "P_rate": 0.006176142697881829,
          "TN": 44572,
          "TN_rate": 0.9999775648935454,
          "TP": 92,
          "TP_rate": 0.33212996389891697,
          "precision": 0.989247311827957,
          "recall": 0.33212996389891697,
          "row_count": 44850,
          "truth_threshold": 0.43802659641886604
         },
         {
          "FN": 186,
          "FN_rate": 0.6714801444043321,
          "FP": 1,
          "FP_rate": 2.2435106454580127e-05,
          "N": 44573,
          "N_rate": 0.9938238573021182,
          "P": 277,
          "P_rate": 0.006176142697881829,
          "TN": 44572,
          "TN_rate": 0.9999775648935454,
          "TP": 91,
          "TP_rate": 0.3285198555956679,
          "precision": 0.9891304347826086,
          "recall": 0.3285198555956679,
          "row_count": 44850,
          "truth_threshold": 0.6482524733594688
         },
         {
          "FN": 187,
          "FN_rate": 0.6750902527075813,
          "FP": 1,
          "FP_rate": 2.2435106454580127e-05,
          "N": 44573,
          "N_rate": 0.9938238573021182,
          "P": 277,
          "P_rate": 0.006176142697881829,
          "TN": 44572,
          "TN_rate": 0.9999775648935454,
          "TP": 90,
          "TP_rate": 0.3249097472924188,
          "precision": 0.989010989010989,
          "recall": 0.3249097472924188,
          "row_count": 44850,
          "truth_threshold": 0.700919570459801
         },
         {
          "FN": 188,
          "FN_rate": 0.6787003610108303,
          "FP": 1,
          "FP_rate": 2.2435106454580127e-05,
          "N": 44573,
          "N_rate": 0.9938238573021182,
          "P": 277,
          "P_rate": 0.006176142697881829,
          "TN": 44572,
          "TN_rate": 0.9999775648935454,
          "TP": 89,
          "TP_rate": 0.3212996389891697,
          "precision": 0.9888888888888889,
          "recall": 0.3212996389891697,
          "row_count": 44850,
          "truth_threshold": 0.7175407454767015
         },
         {
          "FN": 189,
          "FN_rate": 0.6823104693140795,
          "FP": 1,
          "FP_rate": 2.2435106454580127e-05,
          "N": 44573,
          "N_rate": 0.9938238573021182,
          "P": 277,
          "P_rate": 0.006176142697881829,
          "TN": 44572,
          "TN_rate": 0.9999775648935454,
          "TP": 88,
          "TP_rate": 0.3176895306859206,
          "precision": 0.9887640449438202,
          "recall": 0.3176895306859206,
          "row_count": 44850,
          "truth_threshold": 0.7232676890687341
         },
         {
          "FN": 190,
          "FN_rate": 0.6859205776173285,
          "FP": 1,
          "FP_rate": 2.2435106454580127e-05,
          "N": 44573,
          "N_rate": 0.9938238573021182,
          "P": 277,
          "P_rate": 0.006176142697881829,
          "TN": 44572,
          "TN_rate": 0.9999775648935454,
          "TP": 87,
          "TP_rate": 0.3140794223826715,
          "precision": 0.9886363636363636,
          "recall": 0.3140794223826715,
          "row_count": 44850,
          "truth_threshold": 0.7814973008843084
         },
         {
          "FN": 190,
          "FN_rate": 0.6859205776173285,
          "FP": 0,
          "FP_rate": 0,
          "N": 44573,
          "N_rate": 0.9938238573021182,
          "P": 277,
          "P_rate": 0.006176142697881829,
          "TN": 44573,
          "TN_rate": 1,
          "TP": 87,
          "TP_rate": 0.3140794223826715,
          "precision": 1,
          "recall": 0.3140794223826715,
          "row_count": 44850,
          "truth_threshold": 0.7871368635274931
         },
         {
          "FN": 191,
          "FN_rate": 0.6895306859205776,
          "FP": 0,
          "FP_rate": 0,
          "N": 44573,
          "N_rate": 0.9938238573021182,
          "P": 277,
          "P_rate": 0.006176142697881829,
          "TN": 44573,
          "TN_rate": 1,
          "TP": 86,
          "TP_rate": 0.3104693140794224,
          "precision": 1,
          "recall": 0.3104693140794224,
          "row_count": 44850,
          "truth_threshold": 0.819659643633585
         },
         {
          "FN": 192,
          "FN_rate": 0.6931407942238267,
          "FP": 0,
          "FP_rate": 0,
          "N": 44573,
          "N_rate": 0.9938238573021182,
          "P": 277,
          "P_rate": 0.006176142697881829,
          "TN": 44573,
          "TN_rate": 1,
          "TP": 85,
          "TP_rate": 0.30685920577617326,
          "precision": 1,
          "recall": 0.30685920577617326,
          "row_count": 44850,
          "truth_threshold": 0.8820379135793481
         },
         {
          "FN": 194,
          "FN_rate": 0.7003610108303249,
          "FP": 0,
          "FP_rate": 0,
          "N": 44573,
          "N_rate": 0.9938238573021182,
          "P": 277,
          "P_rate": 0.006176142697881829,
          "TN": 44573,
          "TN_rate": 1,
          "TP": 83,
          "TP_rate": 0.2996389891696751,
          "precision": 1,
          "recall": 0.2996389891696751,
          "row_count": 44850,
          "truth_threshold": 0.897161543000156
         },
         {
          "FN": 195,
          "FN_rate": 0.703971119133574,
          "FP": 0,
          "FP_rate": 0,
          "N": 44573,
          "N_rate": 0.9938238573021182,
          "P": 277,
          "P_rate": 0.006176142697881829,
          "TN": 44573,
          "TN_rate": 1,
          "TP": 82,
          "TP_rate": 0.296028880866426,
          "precision": 1,
          "recall": 0.296028880866426,
          "row_count": 44850,
          "truth_threshold": 0.9011821733325686
         },
         {
          "FN": 196,
          "FN_rate": 0.7075812274368231,
          "FP": 0,
          "FP_rate": 0,
          "N": 44573,
          "N_rate": 0.9938238573021182,
          "P": 277,
          "P_rate": 0.006176142697881829,
          "TN": 44573,
          "TN_rate": 1,
          "TP": 81,
          "TP_rate": 0.2924187725631769,
          "precision": 1,
          "recall": 0.2924187725631769,
          "row_count": 44850,
          "truth_threshold": 0.9230567435653377
         },
         {
          "FN": 197,
          "FN_rate": 0.7111913357400722,
          "FP": 0,
          "FP_rate": 0,
          "N": 44573,
          "N_rate": 0.9938238573021182,
          "P": 277,
          "P_rate": 0.006176142697881829,
          "TN": 44573,
          "TN_rate": 1,
          "TP": 80,
          "TP_rate": 0.2888086642599278,
          "precision": 1,
          "recall": 0.2888086642599278,
          "row_count": 44850,
          "truth_threshold": 0.9529495112953407
         },
         {
          "FN": 198,
          "FN_rate": 0.7148014440433214,
          "FP": 0,
          "FP_rate": 0,
          "N": 44573,
          "N_rate": 0.9938238573021182,
          "P": 277,
          "P_rate": 0.006176142697881829,
          "TN": 44573,
          "TN_rate": 1,
          "TP": 79,
          "TP_rate": 0.2851985559566787,
          "precision": 1,
          "recall": 0.2851985559566787,
          "row_count": 44850,
          "truth_threshold": 0.9555852872297984
         },
         {
          "FN": 199,
          "FN_rate": 0.7184115523465704,
          "FP": 0,
          "FP_rate": 0,
          "N": 44573,
          "N_rate": 0.9938238573021182,
          "P": 277,
          "P_rate": 0.006176142697881829,
          "TN": 44573,
          "TN_rate": 1,
          "TP": 78,
          "TP_rate": 0.2815884476534296,
          "precision": 1,
          "recall": 0.2815884476534296,
          "row_count": 44850,
          "truth_threshold": 0.9579681579010922
         },
         {
          "FN": 201,
          "FN_rate": 0.7256317689530686,
          "FP": 0,
          "FP_rate": 0,
          "N": 44573,
          "N_rate": 0.9938238573021182,
          "P": 277,
          "P_rate": 0.006176142697881829,
          "TN": 44573,
          "TN_rate": 1,
          "TP": 76,
          "TP_rate": 0.2743682310469314,
          "precision": 1,
          "recall": 0.2743682310469314,
          "row_count": 44850,
          "truth_threshold": 0.9748780066244155
         },
         {
          "FN": 202,
          "FN_rate": 0.7292418772563177,
          "FP": 0,
          "FP_rate": 0,
          "N": 44573,
          "N_rate": 0.9938238573021182,
          "P": 277,
          "P_rate": 0.006176142697881829,
          "TN": 44573,
          "TN_rate": 1,
          "TP": 75,
          "TP_rate": 0.27075812274368233,
          "precision": 1,
          "recall": 0.27075812274368233,
          "row_count": 44850,
          "truth_threshold": 0.9788811565652088
         },
         {
          "FN": 203,
          "FN_rate": 0.7328519855595668,
          "FP": 0,
          "FP_rate": 0,
          "N": 44573,
          "N_rate": 0.9938238573021182,
          "P": 277,
          "P_rate": 0.006176142697881829,
          "TN": 44573,
          "TN_rate": 1,
          "TP": 74,
          "TP_rate": 0.26714801444043323,
          "precision": 1,
          "recall": 0.26714801444043323,
          "row_count": 44850,
          "truth_threshold": 0.9817417434468446
         },
         {
          "FN": 204,
          "FN_rate": 0.7364620938628159,
          "FP": 0,
          "FP_rate": 0,
          "N": 44573,
          "N_rate": 0.9938238573021182,
          "P": 277,
          "P_rate": 0.006176142697881829,
          "TN": 44573,
          "TN_rate": 1,
          "TP": 73,
          "TP_rate": 0.26353790613718414,
          "precision": 1,
          "recall": 0.26353790613718414,
          "row_count": 44850,
          "truth_threshold": 0.9821123052190399
         },
         {
          "FN": 206,
          "FN_rate": 0.7436823104693141,
          "FP": 0,
          "FP_rate": 0,
          "N": 44573,
          "N_rate": 0.9938238573021182,
          "P": 277,
          "P_rate": 0.006176142697881829,
          "TN": 44573,
          "TN_rate": 1,
          "TP": 71,
          "TP_rate": 0.2563176895306859,
          "precision": 1,
          "recall": 0.2563176895306859,
          "row_count": 44850,
          "truth_threshold": 0.9825200070289045
         },
         {
          "FN": 207,
          "FN_rate": 0.7472924187725631,
          "FP": 0,
          "FP_rate": 0,
          "N": 44573,
          "N_rate": 0.9938238573021182,
          "P": 277,
          "P_rate": 0.006176142697881829,
          "TN": 44573,
          "TN_rate": 1,
          "TP": 70,
          "TP_rate": 0.2527075812274368,
          "precision": 1,
          "recall": 0.2527075812274368,
          "row_count": 44850,
          "truth_threshold": 0.9878871591922173
         },
         {
          "FN": 208,
          "FN_rate": 0.7509025270758123,
          "FP": 0,
          "FP_rate": 0,
          "N": 44573,
          "N_rate": 0.9938238573021182,
          "P": 277,
          "P_rate": 0.006176142697881829,
          "TN": 44573,
          "TN_rate": 1,
          "TP": 69,
          "TP_rate": 0.2490974729241877,
          "precision": 1,
          "recall": 0.2490974729241877,
          "row_count": 44850,
          "truth_threshold": 0.99204515712463
         },
         {
          "FN": 210,
          "FN_rate": 0.7581227436823105,
          "FP": 0,
          "FP_rate": 0,
          "N": 44573,
          "N_rate": 0.9938238573021182,
          "P": 277,
          "P_rate": 0.006176142697881829,
          "TN": 44573,
          "TN_rate": 1,
          "TP": 67,
          "TP_rate": 0.24187725631768953,
          "precision": 1,
          "recall": 0.24187725631768953,
          "row_count": 44850,
          "truth_threshold": 0.9958628866624961
         },
         {
          "FN": 211,
          "FN_rate": 0.7617328519855595,
          "FP": 0,
          "FP_rate": 0,
          "N": 44573,
          "N_rate": 0.9938238573021182,
          "P": 277,
          "P_rate": 0.006176142697881829,
          "TN": 44573,
          "TN_rate": 1,
          "TP": 66,
          "TP_rate": 0.23826714801444043,
          "precision": 1,
          "recall": 0.23826714801444043,
          "row_count": 44850,
          "truth_threshold": 0.9962917963426939
         },
         {
          "FN": 212,
          "FN_rate": 0.7653429602888087,
          "FP": 0,
          "FP_rate": 0,
          "N": 44573,
          "N_rate": 0.9938238573021182,
          "P": 277,
          "P_rate": 0.006176142697881829,
          "TN": 44573,
          "TN_rate": 1,
          "TP": 65,
          "TP_rate": 0.23465703971119134,
          "precision": 1,
          "recall": 0.23465703971119134,
          "row_count": 44850,
          "truth_threshold": 0.9971620743933263
         },
         {
          "FN": 213,
          "FN_rate": 0.7689530685920578,
          "FP": 0,
          "FP_rate": 0,
          "N": 44573,
          "N_rate": 0.9938238573021182,
          "P": 277,
          "P_rate": 0.006176142697881829,
          "TN": 44573,
          "TN_rate": 1,
          "TP": 64,
          "TP_rate": 0.23104693140794225,
          "precision": 1,
          "recall": 0.23104693140794225,
          "row_count": 44850,
          "truth_threshold": 0.998033306023784
         },
         {
          "FN": 215,
          "FN_rate": 0.776173285198556,
          "FP": 0,
          "FP_rate": 0,
          "N": 44573,
          "N_rate": 0.9938238573021182,
          "P": 277,
          "P_rate": 0.006176142697881829,
          "TN": 44573,
          "TN_rate": 1,
          "TP": 62,
          "TP_rate": 0.22382671480144403,
          "precision": 1,
          "recall": 0.22382671480144403,
          "row_count": 44850,
          "truth_threshold": 0.9989883924632611
         },
         {
          "FN": 216,
          "FN_rate": 0.779783393501805,
          "FP": 0,
          "FP_rate": 0,
          "N": 44573,
          "N_rate": 0.9938238573021182,
          "P": 277,
          "P_rate": 0.006176142697881829,
          "TN": 44573,
          "TN_rate": 1,
          "TP": 61,
          "TP_rate": 0.22021660649819494,
          "precision": 1,
          "recall": 0.22021660649819494,
          "row_count": 44850,
          "truth_threshold": 0.9992863318830055
         },
         {
          "FN": 217,
          "FN_rate": 0.7833935018050542,
          "FP": 0,
          "FP_rate": 0,
          "N": 44573,
          "N_rate": 0.9938238573021182,
          "P": 277,
          "P_rate": 0.006176142697881829,
          "TN": 44573,
          "TN_rate": 1,
          "TP": 60,
          "TP_rate": 0.21660649819494585,
          "precision": 1,
          "recall": 0.21660649819494585,
          "row_count": 44850,
          "truth_threshold": 0.9993847367915697
         },
         {
          "FN": 218,
          "FN_rate": 0.7870036101083032,
          "FP": 0,
          "FP_rate": 0,
          "N": 44573,
          "N_rate": 0.9938238573021182,
          "P": 277,
          "P_rate": 0.006176142697881829,
          "TN": 44573,
          "TN_rate": 1,
          "TP": 59,
          "TP_rate": 0.21299638989169675,
          "precision": 1,
          "recall": 0.21299638989169675,
          "row_count": 44850,
          "truth_threshold": 0.9996461719101959
         },
         {
          "FN": 219,
          "FN_rate": 0.7906137184115524,
          "FP": 0,
          "FP_rate": 0,
          "N": 44573,
          "N_rate": 0.9938238573021182,
          "P": 277,
          "P_rate": 0.006176142697881829,
          "TN": 44573,
          "TN_rate": 1,
          "TP": 58,
          "TP_rate": 0.20938628158844766,
          "precision": 1,
          "recall": 0.20938628158844766,
          "row_count": 44850,
          "truth_threshold": 0.9996615170652973
         },
         {
          "FN": 221,
          "FN_rate": 0.7978339350180506,
          "FP": 0,
          "FP_rate": 0,
          "N": 44573,
          "N_rate": 0.9938238573021182,
          "P": 277,
          "P_rate": 0.006176142697881829,
          "TN": 44573,
          "TN_rate": 1,
          "TP": 56,
          "TP_rate": 0.20216606498194944,
          "precision": 1,
          "recall": 0.20216606498194944,
          "row_count": 44850,
          "truth_threshold": 0.999791506632185
         },
         {
          "FN": 222,
          "FN_rate": 0.8014440433212996,
          "FP": 0,
          "FP_rate": 0,
          "N": 44573,
          "N_rate": 0.9938238573021182,
          "P": 277,
          "P_rate": 0.006176142697881829,
          "TN": 44573,
          "TN_rate": 1,
          "TP": 55,
          "TP_rate": 0.19855595667870035,
          "precision": 1,
          "recall": 0.19855595667870035,
          "row_count": 44850,
          "truth_threshold": 0.9998475634406833
         },
         {
          "FN": 223,
          "FN_rate": 0.8050541516245487,
          "FP": 0,
          "FP_rate": 0,
          "N": 44573,
          "N_rate": 0.9938238573021182,
          "P": 277,
          "P_rate": 0.006176142697881829,
          "TN": 44573,
          "TN_rate": 1,
          "TP": 54,
          "TP_rate": 0.19494584837545126,
          "precision": 1,
          "recall": 0.19494584837545126,
          "row_count": 44850,
          "truth_threshold": 0.9998693443157252
         },
         {
          "FN": 224,
          "FN_rate": 0.8086642599277978,
          "FP": 0,
          "FP_rate": 0,
          "N": 44573,
          "N_rate": 0.9938238573021182,
          "P": 277,
          "P_rate": 0.006176142697881829,
          "TN": 44573,
          "TN_rate": 1,
          "TP": 53,
          "TP_rate": 0.19133574007220217,
          "precision": 1,
          "recall": 0.19133574007220217,
          "row_count": 44850,
          "truth_threshold": 0.999875758779237
         },
         {
          "FN": 227,
          "FN_rate": 0.8194945848375451,
          "FP": 0,
          "FP_rate": 0,
          "N": 44573,
          "N_rate": 0.9938238573021182,
          "P": 277,
          "P_rate": 0.006176142697881829,
          "TN": 44573,
          "TN_rate": 1,
          "TP": 50,
          "TP_rate": 0.18050541516245489,
          "precision": 1,
          "recall": 0.18050541516245489,
          "row_count": 44850,
          "truth_threshold": 0.9998838905066334
         },
         {
          "FN": 231,
          "FN_rate": 0.8339350180505415,
          "FP": 0,
          "FP_rate": 0,
          "N": 44573,
          "N_rate": 0.9938238573021182,
          "P": 277,
          "P_rate": 0.006176142697881829,
          "TN": 44573,
          "TN_rate": 1,
          "TP": 46,
          "TP_rate": 0.16606498194945848,
          "precision": 1,
          "recall": 0.16606498194945848,
          "row_count": 44850,
          "truth_threshold": 0.9999234471202758
         },
         {
          "FN": 232,
          "FN_rate": 0.8375451263537906,
          "FP": 0,
          "FP_rate": 0,
          "N": 44573,
          "N_rate": 0.9938238573021182,
          "P": 277,
          "P_rate": 0.006176142697881829,
          "TN": 44573,
          "TN_rate": 1,
          "TP": 45,
          "TP_rate": 0.1624548736462094,
          "precision": 1,
          "recall": 0.1624548736462094,
          "row_count": 44850,
          "truth_threshold": 0.9999675499489359
         },
         {
          "FN": 233,
          "FN_rate": 0.8411552346570397,
          "FP": 0,
          "FP_rate": 0,
          "N": 44573,
          "N_rate": 0.9938238573021182,
          "P": 277,
          "P_rate": 0.006176142697881829,
          "TN": 44573,
          "TN_rate": 1,
          "TP": 44,
          "TP_rate": 0.1588447653429603,
          "precision": 1,
          "recall": 0.1588447653429603,
          "row_count": 44850,
          "truth_threshold": 0.9999710554458401
         },
         {
          "FN": 234,
          "FN_rate": 0.8447653429602888,
          "FP": 0,
          "FP_rate": 0,
          "N": 44573,
          "N_rate": 0.9938238573021182,
          "P": 277,
          "P_rate": 0.006176142697881829,
          "TN": 44573,
          "TN_rate": 1,
          "TP": 43,
          "TP_rate": 0.1552346570397112,
          "precision": 1,
          "recall": 0.1552346570397112,
          "row_count": 44850,
          "truth_threshold": 0.9999755821999118
         },
         {
          "FN": 235,
          "FN_rate": 0.8483754512635379,
          "FP": 0,
          "FP_rate": 0,
          "N": 44573,
          "N_rate": 0.9938238573021182,
          "P": 277,
          "P_rate": 0.006176142697881829,
          "TN": 44573,
          "TN_rate": 1,
          "TP": 42,
          "TP_rate": 0.15162454873646208,
          "precision": 1,
          "recall": 0.15162454873646208,
          "row_count": 44850,
          "truth_threshold": 0.9999765770646256
         },
         {
          "FN": 236,
          "FN_rate": 0.851985559566787,
          "FP": 0,
          "FP_rate": 0,
          "N": 44573,
          "N_rate": 0.9938238573021182,
          "P": 277,
          "P_rate": 0.006176142697881829,
          "TN": 44573,
          "TN_rate": 1,
          "TP": 41,
          "TP_rate": 0.148014440433213,
          "precision": 1,
          "recall": 0.148014440433213,
          "row_count": 44850,
          "truth_threshold": 0.9999774323052809
         },
         {
          "FN": 238,
          "FN_rate": 0.8592057761732852,
          "FP": 0,
          "FP_rate": 0,
          "N": 44573,
          "N_rate": 0.9938238573021182,
          "P": 277,
          "P_rate": 0.006176142697881829,
          "TN": 44573,
          "TN_rate": 1,
          "TP": 39,
          "TP_rate": 0.1407942238267148,
          "precision": 1,
          "recall": 0.1407942238267148,
          "row_count": 44850,
          "truth_threshold": 0.9999798642373942
         },
         {
          "FN": 239,
          "FN_rate": 0.8628158844765343,
          "FP": 0,
          "FP_rate": 0,
          "N": 44573,
          "N_rate": 0.9938238573021182,
          "P": 277,
          "P_rate": 0.006176142697881829,
          "TN": 44573,
          "TN_rate": 1,
          "TP": 38,
          "TP_rate": 0.1371841155234657,
          "precision": 1,
          "recall": 0.1371841155234657,
          "row_count": 44850,
          "truth_threshold": 0.9999947846879792
         },
         {
          "FN": 240,
          "FN_rate": 0.8664259927797834,
          "FP": 0,
          "FP_rate": 0,
          "N": 44573,
          "N_rate": 0.9938238573021182,
          "P": 277,
          "P_rate": 0.006176142697881829,
          "TN": 44573,
          "TN_rate": 1,
          "TP": 37,
          "TP_rate": 0.13357400722021662,
          "precision": 1,
          "recall": 0.13357400722021662,
          "row_count": 44850,
          "truth_threshold": 0.9999972850590507
         },
         {
          "FN": 242,
          "FN_rate": 0.8736462093862816,
          "FP": 0,
          "FP_rate": 0,
          "N": 44573,
          "N_rate": 0.9938238573021182,
          "P": 277,
          "P_rate": 0.006176142697881829,
          "TN": 44573,
          "TN_rate": 1,
          "TP": 35,
          "TP_rate": 0.1263537906137184,
          "precision": 1,
          "recall": 0.1263537906137184,
          "row_count": 44850,
          "truth_threshold": 0.9999979279411457
         },
         {
          "FN": 243,
          "FN_rate": 0.8772563176895307,
          "FP": 0,
          "FP_rate": 0,
          "N": 44573,
          "N_rate": 0.9938238573021182,
          "P": 277,
          "P_rate": 0.006176142697881829,
          "TN": 44573,
          "TN_rate": 1,
          "TP": 34,
          "TP_rate": 0.12274368231046931,
          "precision": 1,
          "recall": 0.12274368231046931,
          "row_count": 44850,
          "truth_threshold": 0.9999981465219263
         },
         {
          "FN": 244,
          "FN_rate": 0.8808664259927798,
          "FP": 0,
          "FP_rate": 0,
          "N": 44573,
          "N_rate": 0.9938238573021182,
          "P": 277,
          "P_rate": 0.006176142697881829,
          "TN": 44573,
          "TN_rate": 1,
          "TP": 33,
          "TP_rate": 0.11913357400722022,
          "precision": 1,
          "recall": 0.11913357400722022,
          "row_count": 44850,
          "truth_threshold": 0.9999985395310919
         },
         {
          "FN": 245,
          "FN_rate": 0.8844765342960289,
          "FP": 0,
          "FP_rate": 0,
          "N": 44573,
          "N_rate": 0.9938238573021182,
          "P": 277,
          "P_rate": 0.006176142697881829,
          "TN": 44573,
          "TN_rate": 1,
          "TP": 32,
          "TP_rate": 0.11552346570397112,
          "precision": 1,
          "recall": 0.11552346570397112,
          "row_count": 44850,
          "truth_threshold": 0.9999987291329362
         },
         {
          "FN": 246,
          "FN_rate": 0.8880866425992779,
          "FP": 0,
          "FP_rate": 0,
          "N": 44573,
          "N_rate": 0.9938238573021182,
          "P": 277,
          "P_rate": 0.006176142697881829,
          "TN": 44573,
          "TN_rate": 1,
          "TP": 31,
          "TP_rate": 0.11191335740072202,
          "precision": 1,
          "recall": 0.11191335740072202,
          "row_count": 44850,
          "truth_threshold": 0.9999991038633833
         },
         {
          "FN": 247,
          "FN_rate": 0.8916967509025271,
          "FP": 0,
          "FP_rate": 0,
          "N": 44573,
          "N_rate": 0.9938238573021182,
          "P": 277,
          "P_rate": 0.006176142697881829,
          "TN": 44573,
          "TN_rate": 1,
          "TP": 30,
          "TP_rate": 0.10830324909747292,
          "precision": 1,
          "recall": 0.10830324909747292,
          "row_count": 44850,
          "truth_threshold": 0.9999992583962933
         },
         {
          "FN": 248,
          "FN_rate": 0.8953068592057761,
          "FP": 0,
          "FP_rate": 0,
          "N": 44573,
          "N_rate": 0.9938238573021182,
          "P": 277,
          "P_rate": 0.006176142697881829,
          "TN": 44573,
          "TN_rate": 1,
          "TP": 29,
          "TP_rate": 0.10469314079422383,
          "precision": 1,
          "recall": 0.10469314079422383,
          "row_count": 44850,
          "truth_threshold": 0.999999479840321
         },
         {
          "FN": 249,
          "FN_rate": 0.8989169675090253,
          "FP": 0,
          "FP_rate": 0,
          "N": 44573,
          "N_rate": 0.9938238573021182,
          "P": 277,
          "P_rate": 0.006176142697881829,
          "TN": 44573,
          "TN_rate": 1,
          "TP": 28,
          "TP_rate": 0.10108303249097472,
          "precision": 1,
          "recall": 0.10108303249097472,
          "row_count": 44850,
          "truth_threshold": 0.9999995185144477
         },
         {
          "FN": 250,
          "FN_rate": 0.9025270758122743,
          "FP": 0,
          "FP_rate": 0,
          "N": 44573,
          "N_rate": 0.9938238573021182,
          "P": 277,
          "P_rate": 0.006176142697881829,
          "TN": 44573,
          "TN_rate": 1,
          "TP": 27,
          "TP_rate": 0.09747292418772563,
          "precision": 1,
          "recall": 0.09747292418772563,
          "row_count": 44850,
          "truth_threshold": 0.9999995964977337
         },
         {
          "FN": 251,
          "FN_rate": 0.9061371841155235,
          "FP": 0,
          "FP_rate": 0,
          "N": 44573,
          "N_rate": 0.9938238573021182,
          "P": 277,
          "P_rate": 0.006176142697881829,
          "TN": 44573,
          "TN_rate": 1,
          "TP": 26,
          "TP_rate": 0.09386281588447654,
          "precision": 1,
          "recall": 0.09386281588447654,
          "row_count": 44850,
          "truth_threshold": 0.9999996365836237
         },
         {
          "FN": 252,
          "FN_rate": 0.9097472924187726,
          "FP": 0,
          "FP_rate": 0,
          "N": 44573,
          "N_rate": 0.9938238573021182,
          "P": 277,
          "P_rate": 0.006176142697881829,
          "TN": 44573,
          "TN_rate": 1,
          "TP": 25,
          "TP_rate": 0.09025270758122744,
          "precision": 1,
          "recall": 0.09025270758122744,
          "row_count": 44850,
          "truth_threshold": 0.9999996711405423
         },
         {
          "FN": 254,
          "FN_rate": 0.9169675090252708,
          "FP": 0,
          "FP_rate": 0,
          "N": 44573,
          "N_rate": 0.9938238573021182,
          "P": 277,
          "P_rate": 0.006176142697881829,
          "TN": 44573,
          "TN_rate": 1,
          "TP": 23,
          "TP_rate": 0.08303249097472924,
          "precision": 1,
          "recall": 0.08303249097472924,
          "row_count": 44850,
          "truth_threshold": 0.9999997985085625
         },
         {
          "FN": 255,
          "FN_rate": 0.9205776173285198,
          "FP": 0,
          "FP_rate": 0,
          "N": 44573,
          "N_rate": 0.9938238573021182,
          "P": 277,
          "P_rate": 0.006176142697881829,
          "TN": 44573,
          "TN_rate": 1,
          "TP": 22,
          "TP_rate": 0.07942238267148015,
          "precision": 1,
          "recall": 0.07942238267148015,
          "row_count": 44850,
          "truth_threshold": 0.9999998080926334
         },
         {
          "FN": 256,
          "FN_rate": 0.924187725631769,
          "FP": 0,
          "FP_rate": 0,
          "N": 44573,
          "N_rate": 0.9938238573021182,
          "P": 277,
          "P_rate": 0.006176142697881829,
          "TN": 44573,
          "TN_rate": 1,
          "TP": 21,
          "TP_rate": 0.07581227436823104,
          "precision": 1,
          "recall": 0.07581227436823104,
          "row_count": 44850,
          "truth_threshold": 0.9999998192678282
         },
         {
          "FN": 258,
          "FN_rate": 0.9314079422382672,
          "FP": 0,
          "FP_rate": 0,
          "N": 44573,
          "N_rate": 0.9938238573021182,
          "P": 277,
          "P_rate": 0.006176142697881829,
          "TN": 44573,
          "TN_rate": 1,
          "TP": 19,
          "TP_rate": 0.06859205776173286,
          "precision": 1,
          "recall": 0.06859205776173286,
          "row_count": 44850,
          "truth_threshold": 0.9999999578711785
         },
         {
          "FN": 259,
          "FN_rate": 0.9350180505415162,
          "FP": 0,
          "FP_rate": 0,
          "N": 44573,
          "N_rate": 0.9938238573021182,
          "P": 277,
          "P_rate": 0.006176142697881829,
          "TN": 44573,
          "TN_rate": 1,
          "TP": 18,
          "TP_rate": 0.06498194945848375,
          "precision": 1,
          "recall": 0.06498194945848375,
          "row_count": 44850,
          "truth_threshold": 0.9999999829318497
         },
         {
          "FN": 261,
          "FN_rate": 0.9422382671480144,
          "FP": 0,
          "FP_rate": 0,
          "N": 44573,
          "N_rate": 0.9938238573021182,
          "P": 277,
          "P_rate": 0.006176142697881829,
          "TN": 44573,
          "TN_rate": 1,
          "TP": 16,
          "TP_rate": 0.05776173285198556,
          "precision": 1,
          "recall": 0.05776173285198556,
          "row_count": 44850,
          "truth_threshold": 0.999999984093455
         },
         {
          "FN": 262,
          "FN_rate": 0.9458483754512635,
          "FP": 0,
          "FP_rate": 0,
          "N": 44573,
          "N_rate": 0.9938238573021182,
          "P": 277,
          "P_rate": 0.006176142697881829,
          "TN": 44573,
          "TN_rate": 1,
          "TP": 15,
          "TP_rate": 0.05415162454873646,
          "precision": 1,
          "recall": 0.05415162454873646,
          "row_count": 44850,
          "truth_threshold": 0.9999999851383847
         },
         {
          "FN": 263,
          "FN_rate": 0.9494584837545126,
          "FP": 0,
          "FP_rate": 0,
          "N": 44573,
          "N_rate": 0.9938238573021182,
          "P": 277,
          "P_rate": 0.006176142697881829,
          "TN": 44573,
          "TN_rate": 1,
          "TP": 14,
          "TP_rate": 0.05054151624548736,
          "precision": 1,
          "recall": 0.05054151624548736,
          "row_count": 44850,
          "truth_threshold": 0.9999999993312164
         },
         {
          "FN": 264,
          "FN_rate": 0.9530685920577617,
          "FP": 0,
          "FP_rate": 0,
          "N": 44573,
          "N_rate": 0.9938238573021182,
          "P": 277,
          "P_rate": 0.006176142697881829,
          "TN": 44573,
          "TN_rate": 1,
          "TP": 13,
          "TP_rate": 0.04693140794223827,
          "precision": 1,
          "recall": 0.04693140794223827,
          "row_count": 44850,
          "truth_threshold": 0.9999999993444502
         },
         {
          "FN": 265,
          "FN_rate": 0.9566787003610109,
          "FP": 0,
          "FP_rate": 0,
          "N": 44573,
          "N_rate": 0.9938238573021182,
          "P": 277,
          "P_rate": 0.006176142697881829,
          "TN": 44573,
          "TN_rate": 1,
          "TP": 12,
          "TP_rate": 0.04332129963898917,
          "precision": 1,
          "recall": 0.04332129963898917,
          "row_count": 44850,
          "truth_threshold": 0.9999999997431498
         },
         {
          "FN": 266,
          "FN_rate": 0.9602888086642599,
          "FP": 0,
          "FP_rate": 0,
          "N": 44573,
          "N_rate": 0.9938238573021182,
          "P": 277,
          "P_rate": 0.006176142697881829,
          "TN": 44573,
          "TN_rate": 1,
          "TP": 11,
          "TP_rate": 0.039711191335740074,
          "precision": 1,
          "recall": 0.039711191335740074,
          "row_count": 44850,
          "truth_threshold": 0.9999999998536437
         },
         {
          "FN": 267,
          "FN_rate": 0.9638989169675091,
          "FP": 0,
          "FP_rate": 0,
          "N": 44573,
          "N_rate": 0.9938238573021182,
          "P": 277,
          "P_rate": 0.006176142697881829,
          "TN": 44573,
          "TN_rate": 1,
          "TP": 10,
          "TP_rate": 0.036101083032490974,
          "precision": 1,
          "recall": 0.036101083032490974,
          "row_count": 44850,
          "truth_threshold": 0.9999999998863914
         },
         {
          "FN": 268,
          "FN_rate": 0.9675090252707581,
          "FP": 0,
          "FP_rate": 0,
          "N": 44573,
          "N_rate": 0.9938238573021182,
          "P": 277,
          "P_rate": 0.006176142697881829,
          "TN": 44573,
          "TN_rate": 1,
          "TP": 9,
          "TP_rate": 0.032490974729241874,
          "precision": 1,
          "recall": 0.032490974729241874,
          "row_count": 44850,
          "truth_threshold": 0.9999999998934281
         },
         {
          "FN": 269,
          "FN_rate": 0.9711191335740073,
          "FP": 0,
          "FP_rate": 0,
          "N": 44573,
          "N_rate": 0.9938238573021182,
          "P": 277,
          "P_rate": 0.006176142697881829,
          "TN": 44573,
          "TN_rate": 1,
          "TP": 8,
          "TP_rate": 0.02888086642599278,
          "precision": 1,
          "recall": 0.02888086642599278,
          "row_count": 44850,
          "truth_threshold": 0.9999999999097965
         },
         {
          "FN": 270,
          "FN_rate": 0.9747292418772563,
          "FP": 0,
          "FP_rate": 0,
          "N": 44573,
          "N_rate": 0.9938238573021182,
          "P": 277,
          "P_rate": 0.006176142697881829,
          "TN": 44573,
          "TN_rate": 1,
          "TP": 7,
          "TP_rate": 0.02527075812274368,
          "precision": 1,
          "recall": 0.02527075812274368,
          "row_count": 44850,
          "truth_threshold": 0.9999999999153192
         },
         {
          "FN": 272,
          "FN_rate": 0.9819494584837545,
          "FP": 0,
          "FP_rate": 0,
          "N": 44573,
          "N_rate": 0.9938238573021182,
          "P": 277,
          "P_rate": 0.006176142697881829,
          "TN": 44573,
          "TN_rate": 1,
          "TP": 5,
          "TP_rate": 0.018050541516245487,
          "precision": 1,
          "recall": 0.018050541516245487,
          "row_count": 44850,
          "truth_threshold": 0.9999999999513524
         },
         {
          "FN": 273,
          "FN_rate": 0.9855595667870036,
          "FP": 0,
          "FP_rate": 0,
          "N": 44573,
          "N_rate": 0.9938238573021182,
          "P": 277,
          "P_rate": 0.006176142697881829,
          "TN": 44573,
          "TN_rate": 1,
          "TP": 4,
          "TP_rate": 0.01444043321299639,
          "precision": 1,
          "recall": 0.01444043321299639,
          "row_count": 44850,
          "truth_threshold": 0.9999999999845393
         },
         {
          "FN": 274,
          "FN_rate": 0.9891696750902527,
          "FP": 0,
          "FP_rate": 0,
          "N": 44573,
          "N_rate": 0.9938238573021182,
          "P": 277,
          "P_rate": 0.006176142697881829,
          "TN": 44573,
          "TN_rate": 1,
          "TP": 3,
          "TP_rate": 0.010830324909747292,
          "precision": 1,
          "recall": 0.010830324909747292,
          "row_count": 44850,
          "truth_threshold": 0.9999999999858834
         },
         {
          "FN": 275,
          "FN_rate": 0.9927797833935018,
          "FP": 0,
          "FP_rate": 0,
          "N": 44573,
          "N_rate": 0.9938238573021182,
          "P": 277,
          "P_rate": 0.006176142697881829,
          "TN": 44573,
          "TN_rate": 1,
          "TP": 2,
          "TP_rate": 0.007220216606498195,
          "precision": 1,
          "recall": 0.007220216606498195,
          "row_count": 44850,
          "truth_threshold": 0.9999999999883677
         },
         {
          "FN": 276,
          "FN_rate": 0.9963898916967509,
          "FP": 0,
          "FP_rate": 0,
          "N": 44573,
          "N_rate": 0.9938238573021182,
          "P": 277,
          "P_rate": 0.006176142697881829,
          "TN": 44573,
          "TN_rate": 1,
          "TP": 1,
          "TP_rate": 0.0036101083032490976,
          "precision": 1,
          "recall": 0.0036101083032490976,
          "row_count": 44850,
          "truth_threshold": 0.9999999999901139
         }
        ]
       },
       "encoding": {
        "tooltip": [
         {
          "field": "truth_threshold",
          "type": "quantitative"
         },
         {
          "field": "FP_rate",
          "type": "quantitative"
         },
         {
          "field": "TP_rate",
          "type": "quantitative"
         },
         {
          "field": "TP",
          "type": "quantitative"
         },
         {
          "field": "TN",
          "type": "quantitative"
         },
         {
          "field": "FP",
          "type": "quantitative"
         },
         {
          "field": "FN",
          "type": "quantitative"
         },
         {
          "field": "precision",
          "type": "quantitative"
         },
         {
          "field": "recall",
          "type": "quantitative"
         }
        ],
        "x": {
         "field": "FP_rate",
         "scale": {
          "domain": [
           0,
           0.0037690978843694612
          ]
         },
         "sort": [
          "truth_threshold"
         ],
         "title": "False Positive Rate amongst clerically reviewed records",
         "type": "quantitative"
        },
        "y": {
         "field": "TP_rate",
         "sort": [
          "truth_threshold"
         ],
         "title": "True Positive Rate amongst clerically reviewed records",
         "type": "quantitative"
        }
       },
       "height": 400,
       "mark": {
        "clip": true,
        "point": true,
        "type": "line"
       },
       "selection": {
        "selector076": {
         "bind": "scales",
         "encodings": [
          "x"
         ],
         "type": "interval"
        }
       },
       "title": "Receiver operating characteristic curve",
       "width": 400
      },
      "image/png": "[encoded data removed]",
      "text/plain": [
       "<VegaLite 4 object>\n",
       "\n",
       "If you see this message, it means the renderer has not been properly enabled\n",
       "for the frontend that you are using. For more information, see\n",
       "https://altair-viz.github.io/user_guide/troubleshooting.html\n"
      ]
     },
     "execution_count": 20,
     "metadata": {},
     "output_type": "execute_result"
    }
   ],
   "source": [
    "from splink.truth import labels_with_splink_scores, roc_chart, precision_recall_chart\n",
    "\n",
    "\n",
    "roc_chart(labels_and_scores, spark)"
   ]
  },
  {
   "cell_type": "code",
   "execution_count": 21,
   "metadata": {},
   "outputs": [
    {
     "data": {
      "application/vnd.vegalite.v4+json": {
       "$schema": "https://vega.github.io/schema/vega-lite/v4.8.1.json",
       "config": {
        "view": {
         "continuousHeight": 300,
         "continuousWidth": 400
        }
       },
       "data": {
        "name": "data-fadd0e93e9546856cbc745a99e65285d",
        "values": [
         {
          "FN": 0,
          "FN_rate": 0,
          "FP": 44573,
          "FP_rate": 1,
          "N": 44573,
          "N_rate": 0.9938238573021182,
          "P": 277,
          "P_rate": 0.006176142697881829,
          "TN": 0,
          "TN_rate": 0,
          "TP": 277,
          "TP_rate": 1,
          "precision": 0.006176142697881829,
          "recall": 1,
          "row_count": 44850,
          "truth_threshold": 0
         },
         {
          "FN": 183,
          "FN_rate": 0.6606498194945848,
          "FP": 112,
          "FP_rate": 0.002512731922912974,
          "N": 44573,
          "N_rate": 0.9938238573021182,
          "P": 277,
          "P_rate": 0.006176142697881829,
          "TN": 44461,
          "TN_rate": 0.997487268077087,
          "TP": 94,
          "TP_rate": 0.33935018050541516,
          "precision": 0.4563106796116505,
          "recall": 0.33935018050541516,
          "row_count": 44850,
          "truth_threshold": 0.008005885741349656
         },
         {
          "FN": 183,
          "FN_rate": 0.6606498194945848,
          "FP": 72,
          "FP_rate": 0.0016153276647297692,
          "N": 44573,
          "N_rate": 0.9938238573021182,
          "P": 277,
          "P_rate": 0.006176142697881829,
          "TN": 44501,
          "TN_rate": 0.9983846723352703,
          "TP": 94,
          "TP_rate": 0.33935018050541516,
          "precision": 0.5662650602409639,
          "recall": 0.33935018050541516,
          "row_count": 44850,
          "truth_threshold": 0.019515008363309695
         },
         {
          "FN": 183,
          "FN_rate": 0.6606498194945848,
          "FP": 44,
          "FP_rate": 0.0009871446840015257,
          "N": 44573,
          "N_rate": 0.9938238573021182,
          "P": 277,
          "P_rate": 0.006176142697881829,
          "TN": 44529,
          "TN_rate": 0.9990128553159985,
          "TP": 94,
          "TP_rate": 0.33935018050541516,
          "precision": 0.6811594202898551,
          "recall": 0.33935018050541516,
          "row_count": 44850,
          "truth_threshold": 0.02256796881087154
         },
         {
          "FN": 183,
          "FN_rate": 0.6606498194945848,
          "FP": 27,
          "FP_rate": 0.0006057478742736635,
          "N": 44573,
          "N_rate": 0.9938238573021182,
          "P": 277,
          "P_rate": 0.006176142697881829,
          "TN": 44546,
          "TN_rate": 0.9993942521257263,
          "TP": 94,
          "TP_rate": 0.33935018050541516,
          "precision": 0.7768595041322314,
          "recall": 0.33935018050541516,
          "row_count": 44850,
          "truth_threshold": 0.04233222765391316
         },
         {
          "FN": 183,
          "FN_rate": 0.6606498194945848,
          "FP": 23,
          "FP_rate": 0.0005160074484553429,
          "N": 44573,
          "N_rate": 0.9938238573021182,
          "P": 277,
          "P_rate": 0.006176142697881829,
          "TN": 44550,
          "TN_rate": 0.9994839925515446,
          "TP": 94,
          "TP_rate": 0.33935018050541516,
          "precision": 0.8034188034188035,
          "recall": 0.33935018050541516,
          "row_count": 44850,
          "truth_threshold": 0.04738496651963196
         },
         {
          "FN": 183,
          "FN_rate": 0.6606498194945848,
          "FP": 17,
          "FP_rate": 0.00038139680972786217,
          "N": 44573,
          "N_rate": 0.9938238573021182,
          "P": 277,
          "P_rate": 0.006176142697881829,
          "TN": 44556,
          "TN_rate": 0.9996186031902722,
          "TP": 94,
          "TP_rate": 0.33935018050541516,
          "precision": 0.8468468468468469,
          "recall": 0.33935018050541516,
          "row_count": 44850,
          "truth_threshold": 0.0538743709267089
         },
         {
          "FN": 183,
          "FN_rate": 0.6606498194945848,
          "FP": 11,
          "FP_rate": 0.0002467861710003814,
          "N": 44573,
          "N_rate": 0.9938238573021182,
          "P": 277,
          "P_rate": 0.006176142697881829,
          "TN": 44562,
          "TN_rate": 0.9997532138289996,
          "TP": 94,
          "TP_rate": 0.33935018050541516,
          "precision": 0.8952380952380953,
          "recall": 0.33935018050541516,
          "row_count": 44850,
          "truth_threshold": 0.10926905492806017
         },
         {
          "FN": 184,
          "FN_rate": 0.6642599277978339,
          "FP": 9,
          "FP_rate": 0.00020191595809122115,
          "N": 44573,
          "N_rate": 0.9938238573021182,
          "P": 277,
          "P_rate": 0.006176142697881829,
          "TN": 44564,
          "TN_rate": 0.9997980840419087,
          "TP": 93,
          "TP_rate": 0.33574007220216606,
          "precision": 0.9117647058823529,
          "recall": 0.33574007220216606,
          "row_count": 44850,
          "truth_threshold": 0.1122651895563347
         },
         {
          "FN": 184,
          "FN_rate": 0.6642599277978339,
          "FP": 7,
          "FP_rate": 0.00015704574518206089,
          "N": 44573,
          "N_rate": 0.9938238573021182,
          "P": 277,
          "P_rate": 0.006176142697881829,
          "TN": 44566,
          "TN_rate": 0.999842954254818,
          "TP": 93,
          "TP_rate": 0.33574007220216606,
          "precision": 0.93,
          "recall": 0.33574007220216606,
          "row_count": 44850,
          "truth_threshold": 0.12457922117782654
         },
         {
          "FN": 185,
          "FN_rate": 0.6678700361010831,
          "FP": 1,
          "FP_rate": 2.2435106454580127e-05,
          "N": 44573,
          "N_rate": 0.9938238573021182,
          "P": 277,
          "P_rate": 0.006176142697881829,
          "TN": 44572,
          "TN_rate": 0.9999775648935454,
          "TP": 92,
          "TP_rate": 0.33212996389891697,
          "precision": 0.989247311827957,
          "recall": 0.33212996389891697,
          "row_count": 44850,
          "truth_threshold": 0.43802659641886604
         },
         {
          "FN": 186,
          "FN_rate": 0.6714801444043321,
          "FP": 1,
          "FP_rate": 2.2435106454580127e-05,
          "N": 44573,
          "N_rate": 0.9938238573021182,
          "P": 277,
          "P_rate": 0.006176142697881829,
          "TN": 44572,
          "TN_rate": 0.9999775648935454,
          "TP": 91,
          "TP_rate": 0.3285198555956679,
          "precision": 0.9891304347826086,
          "recall": 0.3285198555956679,
          "row_count": 44850,
          "truth_threshold": 0.6482524733594688
         },
         {
          "FN": 187,
          "FN_rate": 0.6750902527075813,
          "FP": 1,
          "FP_rate": 2.2435106454580127e-05,
          "N": 44573,
          "N_rate": 0.9938238573021182,
          "P": 277,
          "P_rate": 0.006176142697881829,
          "TN": 44572,
          "TN_rate": 0.9999775648935454,
          "TP": 90,
          "TP_rate": 0.3249097472924188,
          "precision": 0.989010989010989,
          "recall": 0.3249097472924188,
          "row_count": 44850,
          "truth_threshold": 0.700919570459801
         },
         {
          "FN": 188,
          "FN_rate": 0.6787003610108303,
          "FP": 1,
          "FP_rate": 2.2435106454580127e-05,
          "N": 44573,
          "N_rate": 0.9938238573021182,
          "P": 277,
          "P_rate": 0.006176142697881829,
          "TN": 44572,
          "TN_rate": 0.9999775648935454,
          "TP": 89,
          "TP_rate": 0.3212996389891697,
          "precision": 0.9888888888888889,
          "recall": 0.3212996389891697,
          "row_count": 44850,
          "truth_threshold": 0.7175407454767015
         },
         {
          "FN": 189,
          "FN_rate": 0.6823104693140795,
          "FP": 1,
          "FP_rate": 2.2435106454580127e-05,
          "N": 44573,
          "N_rate": 0.9938238573021182,
          "P": 277,
          "P_rate": 0.006176142697881829,
          "TN": 44572,
          "TN_rate": 0.9999775648935454,
          "TP": 88,
          "TP_rate": 0.3176895306859206,
          "precision": 0.9887640449438202,
          "recall": 0.3176895306859206,
          "row_count": 44850,
          "truth_threshold": 0.7232676890687341
         },
         {
          "FN": 190,
          "FN_rate": 0.6859205776173285,
          "FP": 1,
          "FP_rate": 2.2435106454580127e-05,
          "N": 44573,
          "N_rate": 0.9938238573021182,
          "P": 277,
          "P_rate": 0.006176142697881829,
          "TN": 44572,
          "TN_rate": 0.9999775648935454,
          "TP": 87,
          "TP_rate": 0.3140794223826715,
          "precision": 0.9886363636363636,
          "recall": 0.3140794223826715,
          "row_count": 44850,
          "truth_threshold": 0.7814973008843084
         },
         {
          "FN": 190,
          "FN_rate": 0.6859205776173285,
          "FP": 0,
          "FP_rate": 0,
          "N": 44573,
          "N_rate": 0.9938238573021182,
          "P": 277,
          "P_rate": 0.006176142697881829,
          "TN": 44573,
          "TN_rate": 1,
          "TP": 87,
          "TP_rate": 0.3140794223826715,
          "precision": 1,
          "recall": 0.3140794223826715,
          "row_count": 44850,
          "truth_threshold": 0.7871368635274931
         },
         {
          "FN": 191,
          "FN_rate": 0.6895306859205776,
          "FP": 0,
          "FP_rate": 0,
          "N": 44573,
          "N_rate": 0.9938238573021182,
          "P": 277,
          "P_rate": 0.006176142697881829,
          "TN": 44573,
          "TN_rate": 1,
          "TP": 86,
          "TP_rate": 0.3104693140794224,
          "precision": 1,
          "recall": 0.3104693140794224,
          "row_count": 44850,
          "truth_threshold": 0.819659643633585
         },
         {
          "FN": 192,
          "FN_rate": 0.6931407942238267,
          "FP": 0,
          "FP_rate": 0,
          "N": 44573,
          "N_rate": 0.9938238573021182,
          "P": 277,
          "P_rate": 0.006176142697881829,
          "TN": 44573,
          "TN_rate": 1,
          "TP": 85,
          "TP_rate": 0.30685920577617326,
          "precision": 1,
          "recall": 0.30685920577617326,
          "row_count": 44850,
          "truth_threshold": 0.8820379135793481
         },
         {
          "FN": 194,
          "FN_rate": 0.7003610108303249,
          "FP": 0,
          "FP_rate": 0,
          "N": 44573,
          "N_rate": 0.9938238573021182,
          "P": 277,
          "P_rate": 0.006176142697881829,
          "TN": 44573,
          "TN_rate": 1,
          "TP": 83,
          "TP_rate": 0.2996389891696751,
          "precision": 1,
          "recall": 0.2996389891696751,
          "row_count": 44850,
          "truth_threshold": 0.897161543000156
         },
         {
          "FN": 195,
          "FN_rate": 0.703971119133574,
          "FP": 0,
          "FP_rate": 0,
          "N": 44573,
          "N_rate": 0.9938238573021182,
          "P": 277,
          "P_rate": 0.006176142697881829,
          "TN": 44573,
          "TN_rate": 1,
          "TP": 82,
          "TP_rate": 0.296028880866426,
          "precision": 1,
          "recall": 0.296028880866426,
          "row_count": 44850,
          "truth_threshold": 0.9011821733325686
         },
         {
          "FN": 196,
          "FN_rate": 0.7075812274368231,
          "FP": 0,
          "FP_rate": 0,
          "N": 44573,
          "N_rate": 0.9938238573021182,
          "P": 277,
          "P_rate": 0.006176142697881829,
          "TN": 44573,
          "TN_rate": 1,
          "TP": 81,
          "TP_rate": 0.2924187725631769,
          "precision": 1,
          "recall": 0.2924187725631769,
          "row_count": 44850,
          "truth_threshold": 0.9230567435653377
         },
         {
          "FN": 197,
          "FN_rate": 0.7111913357400722,
          "FP": 0,
          "FP_rate": 0,
          "N": 44573,
          "N_rate": 0.9938238573021182,
          "P": 277,
          "P_rate": 0.006176142697881829,
          "TN": 44573,
          "TN_rate": 1,
          "TP": 80,
          "TP_rate": 0.2888086642599278,
          "precision": 1,
          "recall": 0.2888086642599278,
          "row_count": 44850,
          "truth_threshold": 0.9529495112953407
         },
         {
          "FN": 198,
          "FN_rate": 0.7148014440433214,
          "FP": 0,
          "FP_rate": 0,
          "N": 44573,
          "N_rate": 0.9938238573021182,
          "P": 277,
          "P_rate": 0.006176142697881829,
          "TN": 44573,
          "TN_rate": 1,
          "TP": 79,
          "TP_rate": 0.2851985559566787,
          "precision": 1,
          "recall": 0.2851985559566787,
          "row_count": 44850,
          "truth_threshold": 0.9555852872297984
         },
         {
          "FN": 199,
          "FN_rate": 0.7184115523465704,
          "FP": 0,
          "FP_rate": 0,
          "N": 44573,
          "N_rate": 0.9938238573021182,
          "P": 277,
          "P_rate": 0.006176142697881829,
          "TN": 44573,
          "TN_rate": 1,
          "TP": 78,
          "TP_rate": 0.2815884476534296,
          "precision": 1,
          "recall": 0.2815884476534296,
          "row_count": 44850,
          "truth_threshold": 0.9579681579010922
         },
         {
          "FN": 201,
          "FN_rate": 0.7256317689530686,
          "FP": 0,
          "FP_rate": 0,
          "N": 44573,
          "N_rate": 0.9938238573021182,
          "P": 277,
          "P_rate": 0.006176142697881829,
          "TN": 44573,
          "TN_rate": 1,
          "TP": 76,
          "TP_rate": 0.2743682310469314,
          "precision": 1,
          "recall": 0.2743682310469314,
          "row_count": 44850,
          "truth_threshold": 0.9748780066244155
         },
         {
          "FN": 202,
          "FN_rate": 0.7292418772563177,
          "FP": 0,
          "FP_rate": 0,
          "N": 44573,
          "N_rate": 0.9938238573021182,
          "P": 277,
          "P_rate": 0.006176142697881829,
          "TN": 44573,
          "TN_rate": 1,
          "TP": 75,
          "TP_rate": 0.27075812274368233,
          "precision": 1,
          "recall": 0.27075812274368233,
          "row_count": 44850,
          "truth_threshold": 0.9788811565652088
         },
         {
          "FN": 203,
          "FN_rate": 0.7328519855595668,
          "FP": 0,
          "FP_rate": 0,
          "N": 44573,
          "N_rate": 0.9938238573021182,
          "P": 277,
          "P_rate": 0.006176142697881829,
          "TN": 44573,
          "TN_rate": 1,
          "TP": 74,
          "TP_rate": 0.26714801444043323,
          "precision": 1,
          "recall": 0.26714801444043323,
          "row_count": 44850,
          "truth_threshold": 0.9817417434468446
         },
         {
          "FN": 204,
          "FN_rate": 0.7364620938628159,
          "FP": 0,
          "FP_rate": 0,
          "N": 44573,
          "N_rate": 0.9938238573021182,
          "P": 277,
          "P_rate": 0.006176142697881829,
          "TN": 44573,
          "TN_rate": 1,
          "TP": 73,
          "TP_rate": 0.26353790613718414,
          "precision": 1,
          "recall": 0.26353790613718414,
          "row_count": 44850,
          "truth_threshold": 0.9821123052190399
         },
         {
          "FN": 206,
          "FN_rate": 0.7436823104693141,
          "FP": 0,
          "FP_rate": 0,
          "N": 44573,
          "N_rate": 0.9938238573021182,
          "P": 277,
          "P_rate": 0.006176142697881829,
          "TN": 44573,
          "TN_rate": 1,
          "TP": 71,
          "TP_rate": 0.2563176895306859,
          "precision": 1,
          "recall": 0.2563176895306859,
          "row_count": 44850,
          "truth_threshold": 0.9825200070289045
         },
         {
          "FN": 207,
          "FN_rate": 0.7472924187725631,
          "FP": 0,
          "FP_rate": 0,
          "N": 44573,
          "N_rate": 0.9938238573021182,
          "P": 277,
          "P_rate": 0.006176142697881829,
          "TN": 44573,
          "TN_rate": 1,
          "TP": 70,
          "TP_rate": 0.2527075812274368,
          "precision": 1,
          "recall": 0.2527075812274368,
          "row_count": 44850,
          "truth_threshold": 0.9878871591922173
         },
         {
          "FN": 208,
          "FN_rate": 0.7509025270758123,
          "FP": 0,
          "FP_rate": 0,
          "N": 44573,
          "N_rate": 0.9938238573021182,
          "P": 277,
          "P_rate": 0.006176142697881829,
          "TN": 44573,
          "TN_rate": 1,
          "TP": 69,
          "TP_rate": 0.2490974729241877,
          "precision": 1,
          "recall": 0.2490974729241877,
          "row_count": 44850,
          "truth_threshold": 0.99204515712463
         },
         {
          "FN": 210,
          "FN_rate": 0.7581227436823105,
          "FP": 0,
          "FP_rate": 0,
          "N": 44573,
          "N_rate": 0.9938238573021182,
          "P": 277,
          "P_rate": 0.006176142697881829,
          "TN": 44573,
          "TN_rate": 1,
          "TP": 67,
          "TP_rate": 0.24187725631768953,
          "precision": 1,
          "recall": 0.24187725631768953,
          "row_count": 44850,
          "truth_threshold": 0.9958628866624961
         },
         {
          "FN": 211,
          "FN_rate": 0.7617328519855595,
          "FP": 0,
          "FP_rate": 0,
          "N": 44573,
          "N_rate": 0.9938238573021182,
          "P": 277,
          "P_rate": 0.006176142697881829,
          "TN": 44573,
          "TN_rate": 1,
          "TP": 66,
          "TP_rate": 0.23826714801444043,
          "precision": 1,
          "recall": 0.23826714801444043,
          "row_count": 44850,
          "truth_threshold": 0.9962917963426939
         },
         {
          "FN": 212,
          "FN_rate": 0.7653429602888087,
          "FP": 0,
          "FP_rate": 0,
          "N": 44573,
          "N_rate": 0.9938238573021182,
          "P": 277,
          "P_rate": 0.006176142697881829,
          "TN": 44573,
          "TN_rate": 1,
          "TP": 65,
          "TP_rate": 0.23465703971119134,
          "precision": 1,
          "recall": 0.23465703971119134,
          "row_count": 44850,
          "truth_threshold": 0.9971620743933263
         },
         {
          "FN": 213,
          "FN_rate": 0.7689530685920578,
          "FP": 0,
          "FP_rate": 0,
          "N": 44573,
          "N_rate": 0.9938238573021182,
          "P": 277,
          "P_rate": 0.006176142697881829,
          "TN": 44573,
          "TN_rate": 1,
          "TP": 64,
          "TP_rate": 0.23104693140794225,
          "precision": 1,
          "recall": 0.23104693140794225,
          "row_count": 44850,
          "truth_threshold": 0.998033306023784
         },
         {
          "FN": 215,
          "FN_rate": 0.776173285198556,
          "FP": 0,
          "FP_rate": 0,
          "N": 44573,
          "N_rate": 0.9938238573021182,
          "P": 277,
          "P_rate": 0.006176142697881829,
          "TN": 44573,
          "TN_rate": 1,
          "TP": 62,
          "TP_rate": 0.22382671480144403,
          "precision": 1,
          "recall": 0.22382671480144403,
          "row_count": 44850,
          "truth_threshold": 0.9989883924632611
         },
         {
          "FN": 216,
          "FN_rate": 0.779783393501805,
          "FP": 0,
          "FP_rate": 0,
          "N": 44573,
          "N_rate": 0.9938238573021182,
          "P": 277,
          "P_rate": 0.006176142697881829,
          "TN": 44573,
          "TN_rate": 1,
          "TP": 61,
          "TP_rate": 0.22021660649819494,
          "precision": 1,
          "recall": 0.22021660649819494,
          "row_count": 44850,
          "truth_threshold": 0.9992863318830055
         },
         {
          "FN": 217,
          "FN_rate": 0.7833935018050542,
          "FP": 0,
          "FP_rate": 0,
          "N": 44573,
          "N_rate": 0.9938238573021182,
          "P": 277,
          "P_rate": 0.006176142697881829,
          "TN": 44573,
          "TN_rate": 1,
          "TP": 60,
          "TP_rate": 0.21660649819494585,
          "precision": 1,
          "recall": 0.21660649819494585,
          "row_count": 44850,
          "truth_threshold": 0.9993847367915697
         },
         {
          "FN": 218,
          "FN_rate": 0.7870036101083032,
          "FP": 0,
          "FP_rate": 0,
          "N": 44573,
          "N_rate": 0.9938238573021182,
          "P": 277,
          "P_rate": 0.006176142697881829,
          "TN": 44573,
          "TN_rate": 1,
          "TP": 59,
          "TP_rate": 0.21299638989169675,
          "precision": 1,
          "recall": 0.21299638989169675,
          "row_count": 44850,
          "truth_threshold": 0.9996461719101959
         },
         {
          "FN": 219,
          "FN_rate": 0.7906137184115524,
          "FP": 0,
          "FP_rate": 0,
          "N": 44573,
          "N_rate": 0.9938238573021182,
          "P": 277,
          "P_rate": 0.006176142697881829,
          "TN": 44573,
          "TN_rate": 1,
          "TP": 58,
          "TP_rate": 0.20938628158844766,
          "precision": 1,
          "recall": 0.20938628158844766,
          "row_count": 44850,
          "truth_threshold": 0.9996615170652973
         },
         {
          "FN": 221,
          "FN_rate": 0.7978339350180506,
          "FP": 0,
          "FP_rate": 0,
          "N": 44573,
          "N_rate": 0.9938238573021182,
          "P": 277,
          "P_rate": 0.006176142697881829,
          "TN": 44573,
          "TN_rate": 1,
          "TP": 56,
          "TP_rate": 0.20216606498194944,
          "precision": 1,
          "recall": 0.20216606498194944,
          "row_count": 44850,
          "truth_threshold": 0.999791506632185
         },
         {
          "FN": 222,
          "FN_rate": 0.8014440433212996,
          "FP": 0,
          "FP_rate": 0,
          "N": 44573,
          "N_rate": 0.9938238573021182,
          "P": 277,
          "P_rate": 0.006176142697881829,
          "TN": 44573,
          "TN_rate": 1,
          "TP": 55,
          "TP_rate": 0.19855595667870035,
          "precision": 1,
          "recall": 0.19855595667870035,
          "row_count": 44850,
          "truth_threshold": 0.9998475634406833
         },
         {
          "FN": 223,
          "FN_rate": 0.8050541516245487,
          "FP": 0,
          "FP_rate": 0,
          "N": 44573,
          "N_rate": 0.9938238573021182,
          "P": 277,
          "P_rate": 0.006176142697881829,
          "TN": 44573,
          "TN_rate": 1,
          "TP": 54,
          "TP_rate": 0.19494584837545126,
          "precision": 1,
          "recall": 0.19494584837545126,
          "row_count": 44850,
          "truth_threshold": 0.9998693443157252
         },
         {
          "FN": 224,
          "FN_rate": 0.8086642599277978,
          "FP": 0,
          "FP_rate": 0,
          "N": 44573,
          "N_rate": 0.9938238573021182,
          "P": 277,
          "P_rate": 0.006176142697881829,
          "TN": 44573,
          "TN_rate": 1,
          "TP": 53,
          "TP_rate": 0.19133574007220217,
          "precision": 1,
          "recall": 0.19133574007220217,
          "row_count": 44850,
          "truth_threshold": 0.999875758779237
         },
         {
          "FN": 227,
          "FN_rate": 0.8194945848375451,
          "FP": 0,
          "FP_rate": 0,
          "N": 44573,
          "N_rate": 0.9938238573021182,
          "P": 277,
          "P_rate": 0.006176142697881829,
          "TN": 44573,
          "TN_rate": 1,
          "TP": 50,
          "TP_rate": 0.18050541516245489,
          "precision": 1,
          "recall": 0.18050541516245489,
          "row_count": 44850,
          "truth_threshold": 0.9998838905066334
         },
         {
          "FN": 231,
          "FN_rate": 0.8339350180505415,
          "FP": 0,
          "FP_rate": 0,
          "N": 44573,
          "N_rate": 0.9938238573021182,
          "P": 277,
          "P_rate": 0.006176142697881829,
          "TN": 44573,
          "TN_rate": 1,
          "TP": 46,
          "TP_rate": 0.16606498194945848,
          "precision": 1,
          "recall": 0.16606498194945848,
          "row_count": 44850,
          "truth_threshold": 0.9999234471202758
         },
         {
          "FN": 232,
          "FN_rate": 0.8375451263537906,
          "FP": 0,
          "FP_rate": 0,
          "N": 44573,
          "N_rate": 0.9938238573021182,
          "P": 277,
          "P_rate": 0.006176142697881829,
          "TN": 44573,
          "TN_rate": 1,
          "TP": 45,
          "TP_rate": 0.1624548736462094,
          "precision": 1,
          "recall": 0.1624548736462094,
          "row_count": 44850,
          "truth_threshold": 0.9999675499489359
         },
         {
          "FN": 233,
          "FN_rate": 0.8411552346570397,
          "FP": 0,
          "FP_rate": 0,
          "N": 44573,
          "N_rate": 0.9938238573021182,
          "P": 277,
          "P_rate": 0.006176142697881829,
          "TN": 44573,
          "TN_rate": 1,
          "TP": 44,
          "TP_rate": 0.1588447653429603,
          "precision": 1,
          "recall": 0.1588447653429603,
          "row_count": 44850,
          "truth_threshold": 0.9999710554458401
         },
         {
          "FN": 234,
          "FN_rate": 0.8447653429602888,
          "FP": 0,
          "FP_rate": 0,
          "N": 44573,
          "N_rate": 0.9938238573021182,
          "P": 277,
          "P_rate": 0.006176142697881829,
          "TN": 44573,
          "TN_rate": 1,
          "TP": 43,
          "TP_rate": 0.1552346570397112,
          "precision": 1,
          "recall": 0.1552346570397112,
          "row_count": 44850,
          "truth_threshold": 0.9999755821999118
         },
         {
          "FN": 235,
          "FN_rate": 0.8483754512635379,
          "FP": 0,
          "FP_rate": 0,
          "N": 44573,
          "N_rate": 0.9938238573021182,
          "P": 277,
          "P_rate": 0.006176142697881829,
          "TN": 44573,
          "TN_rate": 1,
          "TP": 42,
          "TP_rate": 0.15162454873646208,
          "precision": 1,
          "recall": 0.15162454873646208,
          "row_count": 44850,
          "truth_threshold": 0.9999765770646256
         },
         {
          "FN": 236,
          "FN_rate": 0.851985559566787,
          "FP": 0,
          "FP_rate": 0,
          "N": 44573,
          "N_rate": 0.9938238573021182,
          "P": 277,
          "P_rate": 0.006176142697881829,
          "TN": 44573,
          "TN_rate": 1,
          "TP": 41,
          "TP_rate": 0.148014440433213,
          "precision": 1,
          "recall": 0.148014440433213,
          "row_count": 44850,
          "truth_threshold": 0.9999774323052809
         },
         {
          "FN": 238,
          "FN_rate": 0.8592057761732852,
          "FP": 0,
          "FP_rate": 0,
          "N": 44573,
          "N_rate": 0.9938238573021182,
          "P": 277,
          "P_rate": 0.006176142697881829,
          "TN": 44573,
          "TN_rate": 1,
          "TP": 39,
          "TP_rate": 0.1407942238267148,
          "precision": 1,
          "recall": 0.1407942238267148,
          "row_count": 44850,
          "truth_threshold": 0.9999798642373942
         },
         {
          "FN": 239,
          "FN_rate": 0.8628158844765343,
          "FP": 0,
          "FP_rate": 0,
          "N": 44573,
          "N_rate": 0.9938238573021182,
          "P": 277,
          "P_rate": 0.006176142697881829,
          "TN": 44573,
          "TN_rate": 1,
          "TP": 38,
          "TP_rate": 0.1371841155234657,
          "precision": 1,
          "recall": 0.1371841155234657,
          "row_count": 44850,
          "truth_threshold": 0.9999947846879792
         },
         {
          "FN": 240,
          "FN_rate": 0.8664259927797834,
          "FP": 0,
          "FP_rate": 0,
          "N": 44573,
          "N_rate": 0.9938238573021182,
          "P": 277,
          "P_rate": 0.006176142697881829,
          "TN": 44573,
          "TN_rate": 1,
          "TP": 37,
          "TP_rate": 0.13357400722021662,
          "precision": 1,
          "recall": 0.13357400722021662,
          "row_count": 44850,
          "truth_threshold": 0.9999972850590507
         },
         {
          "FN": 242,
          "FN_rate": 0.8736462093862816,
          "FP": 0,
          "FP_rate": 0,
          "N": 44573,
          "N_rate": 0.9938238573021182,
          "P": 277,
          "P_rate": 0.006176142697881829,
          "TN": 44573,
          "TN_rate": 1,
          "TP": 35,
          "TP_rate": 0.1263537906137184,
          "precision": 1,
          "recall": 0.1263537906137184,
          "row_count": 44850,
          "truth_threshold": 0.9999979279411457
         },
         {
          "FN": 243,
          "FN_rate": 0.8772563176895307,
          "FP": 0,
          "FP_rate": 0,
          "N": 44573,
          "N_rate": 0.9938238573021182,
          "P": 277,
          "P_rate": 0.006176142697881829,
          "TN": 44573,
          "TN_rate": 1,
          "TP": 34,
          "TP_rate": 0.12274368231046931,
          "precision": 1,
          "recall": 0.12274368231046931,
          "row_count": 44850,
          "truth_threshold": 0.9999981465219263
         },
         {
          "FN": 244,
          "FN_rate": 0.8808664259927798,
          "FP": 0,
          "FP_rate": 0,
          "N": 44573,
          "N_rate": 0.9938238573021182,
          "P": 277,
          "P_rate": 0.006176142697881829,
          "TN": 44573,
          "TN_rate": 1,
          "TP": 33,
          "TP_rate": 0.11913357400722022,
          "precision": 1,
          "recall": 0.11913357400722022,
          "row_count": 44850,
          "truth_threshold": 0.9999985395310919
         },
         {
          "FN": 245,
          "FN_rate": 0.8844765342960289,
          "FP": 0,
          "FP_rate": 0,
          "N": 44573,
          "N_rate": 0.9938238573021182,
          "P": 277,
          "P_rate": 0.006176142697881829,
          "TN": 44573,
          "TN_rate": 1,
          "TP": 32,
          "TP_rate": 0.11552346570397112,
          "precision": 1,
          "recall": 0.11552346570397112,
          "row_count": 44850,
          "truth_threshold": 0.9999987291329362
         },
         {
          "FN": 246,
          "FN_rate": 0.8880866425992779,
          "FP": 0,
          "FP_rate": 0,
          "N": 44573,
          "N_rate": 0.9938238573021182,
          "P": 277,
          "P_rate": 0.006176142697881829,
          "TN": 44573,
          "TN_rate": 1,
          "TP": 31,
          "TP_rate": 0.11191335740072202,
          "precision": 1,
          "recall": 0.11191335740072202,
          "row_count": 44850,
          "truth_threshold": 0.9999991038633833
         },
         {
          "FN": 247,
          "FN_rate": 0.8916967509025271,
          "FP": 0,
          "FP_rate": 0,
          "N": 44573,
          "N_rate": 0.9938238573021182,
          "P": 277,
          "P_rate": 0.006176142697881829,
          "TN": 44573,
          "TN_rate": 1,
          "TP": 30,
          "TP_rate": 0.10830324909747292,
          "precision": 1,
          "recall": 0.10830324909747292,
          "row_count": 44850,
          "truth_threshold": 0.9999992583962933
         },
         {
          "FN": 248,
          "FN_rate": 0.8953068592057761,
          "FP": 0,
          "FP_rate": 0,
          "N": 44573,
          "N_rate": 0.9938238573021182,
          "P": 277,
          "P_rate": 0.006176142697881829,
          "TN": 44573,
          "TN_rate": 1,
          "TP": 29,
          "TP_rate": 0.10469314079422383,
          "precision": 1,
          "recall": 0.10469314079422383,
          "row_count": 44850,
          "truth_threshold": 0.999999479840321
         },
         {
          "FN": 249,
          "FN_rate": 0.8989169675090253,
          "FP": 0,
          "FP_rate": 0,
          "N": 44573,
          "N_rate": 0.9938238573021182,
          "P": 277,
          "P_rate": 0.006176142697881829,
          "TN": 44573,
          "TN_rate": 1,
          "TP": 28,
          "TP_rate": 0.10108303249097472,
          "precision": 1,
          "recall": 0.10108303249097472,
          "row_count": 44850,
          "truth_threshold": 0.9999995185144477
         },
         {
          "FN": 250,
          "FN_rate": 0.9025270758122743,
          "FP": 0,
          "FP_rate": 0,
          "N": 44573,
          "N_rate": 0.9938238573021182,
          "P": 277,
          "P_rate": 0.006176142697881829,
          "TN": 44573,
          "TN_rate": 1,
          "TP": 27,
          "TP_rate": 0.09747292418772563,
          "precision": 1,
          "recall": 0.09747292418772563,
          "row_count": 44850,
          "truth_threshold": 0.9999995964977337
         },
         {
          "FN": 251,
          "FN_rate": 0.9061371841155235,
          "FP": 0,
          "FP_rate": 0,
          "N": 44573,
          "N_rate": 0.9938238573021182,
          "P": 277,
          "P_rate": 0.006176142697881829,
          "TN": 44573,
          "TN_rate": 1,
          "TP": 26,
          "TP_rate": 0.09386281588447654,
          "precision": 1,
          "recall": 0.09386281588447654,
          "row_count": 44850,
          "truth_threshold": 0.9999996365836237
         },
         {
          "FN": 252,
          "FN_rate": 0.9097472924187726,
          "FP": 0,
          "FP_rate": 0,
          "N": 44573,
          "N_rate": 0.9938238573021182,
          "P": 277,
          "P_rate": 0.006176142697881829,
          "TN": 44573,
          "TN_rate": 1,
          "TP": 25,
          "TP_rate": 0.09025270758122744,
          "precision": 1,
          "recall": 0.09025270758122744,
          "row_count": 44850,
          "truth_threshold": 0.9999996711405423
         },
         {
          "FN": 254,
          "FN_rate": 0.9169675090252708,
          "FP": 0,
          "FP_rate": 0,
          "N": 44573,
          "N_rate": 0.9938238573021182,
          "P": 277,
          "P_rate": 0.006176142697881829,
          "TN": 44573,
          "TN_rate": 1,
          "TP": 23,
          "TP_rate": 0.08303249097472924,
          "precision": 1,
          "recall": 0.08303249097472924,
          "row_count": 44850,
          "truth_threshold": 0.9999997985085625
         },
         {
          "FN": 255,
          "FN_rate": 0.9205776173285198,
          "FP": 0,
          "FP_rate": 0,
          "N": 44573,
          "N_rate": 0.9938238573021182,
          "P": 277,
          "P_rate": 0.006176142697881829,
          "TN": 44573,
          "TN_rate": 1,
          "TP": 22,
          "TP_rate": 0.07942238267148015,
          "precision": 1,
          "recall": 0.07942238267148015,
          "row_count": 44850,
          "truth_threshold": 0.9999998080926334
         },
         {
          "FN": 256,
          "FN_rate": 0.924187725631769,
          "FP": 0,
          "FP_rate": 0,
          "N": 44573,
          "N_rate": 0.9938238573021182,
          "P": 277,
          "P_rate": 0.006176142697881829,
          "TN": 44573,
          "TN_rate": 1,
          "TP": 21,
          "TP_rate": 0.07581227436823104,
          "precision": 1,
          "recall": 0.07581227436823104,
          "row_count": 44850,
          "truth_threshold": 0.9999998192678282
         },
         {
          "FN": 258,
          "FN_rate": 0.9314079422382672,
          "FP": 0,
          "FP_rate": 0,
          "N": 44573,
          "N_rate": 0.9938238573021182,
          "P": 277,
          "P_rate": 0.006176142697881829,
          "TN": 44573,
          "TN_rate": 1,
          "TP": 19,
          "TP_rate": 0.06859205776173286,
          "precision": 1,
          "recall": 0.06859205776173286,
          "row_count": 44850,
          "truth_threshold": 0.9999999578711785
         },
         {
          "FN": 259,
          "FN_rate": 0.9350180505415162,
          "FP": 0,
          "FP_rate": 0,
          "N": 44573,
          "N_rate": 0.9938238573021182,
          "P": 277,
          "P_rate": 0.006176142697881829,
          "TN": 44573,
          "TN_rate": 1,
          "TP": 18,
          "TP_rate": 0.06498194945848375,
          "precision": 1,
          "recall": 0.06498194945848375,
          "row_count": 44850,
          "truth_threshold": 0.9999999829318497
         },
         {
          "FN": 261,
          "FN_rate": 0.9422382671480144,
          "FP": 0,
          "FP_rate": 0,
          "N": 44573,
          "N_rate": 0.9938238573021182,
          "P": 277,
          "P_rate": 0.006176142697881829,
          "TN": 44573,
          "TN_rate": 1,
          "TP": 16,
          "TP_rate": 0.05776173285198556,
          "precision": 1,
          "recall": 0.05776173285198556,
          "row_count": 44850,
          "truth_threshold": 0.999999984093455
         },
         {
          "FN": 262,
          "FN_rate": 0.9458483754512635,
          "FP": 0,
          "FP_rate": 0,
          "N": 44573,
          "N_rate": 0.9938238573021182,
          "P": 277,
          "P_rate": 0.006176142697881829,
          "TN": 44573,
          "TN_rate": 1,
          "TP": 15,
          "TP_rate": 0.05415162454873646,
          "precision": 1,
          "recall": 0.05415162454873646,
          "row_count": 44850,
          "truth_threshold": 0.9999999851383847
         },
         {
          "FN": 263,
          "FN_rate": 0.9494584837545126,
          "FP": 0,
          "FP_rate": 0,
          "N": 44573,
          "N_rate": 0.9938238573021182,
          "P": 277,
          "P_rate": 0.006176142697881829,
          "TN": 44573,
          "TN_rate": 1,
          "TP": 14,
          "TP_rate": 0.05054151624548736,
          "precision": 1,
          "recall": 0.05054151624548736,
          "row_count": 44850,
          "truth_threshold": 0.9999999993312164
         },
         {
          "FN": 264,
          "FN_rate": 0.9530685920577617,
          "FP": 0,
          "FP_rate": 0,
          "N": 44573,
          "N_rate": 0.9938238573021182,
          "P": 277,
          "P_rate": 0.006176142697881829,
          "TN": 44573,
          "TN_rate": 1,
          "TP": 13,
          "TP_rate": 0.04693140794223827,
          "precision": 1,
          "recall": 0.04693140794223827,
          "row_count": 44850,
          "truth_threshold": 0.9999999993444502
         },
         {
          "FN": 265,
          "FN_rate": 0.9566787003610109,
          "FP": 0,
          "FP_rate": 0,
          "N": 44573,
          "N_rate": 0.9938238573021182,
          "P": 277,
          "P_rate": 0.006176142697881829,
          "TN": 44573,
          "TN_rate": 1,
          "TP": 12,
          "TP_rate": 0.04332129963898917,
          "precision": 1,
          "recall": 0.04332129963898917,
          "row_count": 44850,
          "truth_threshold": 0.9999999997431498
         },
         {
          "FN": 266,
          "FN_rate": 0.9602888086642599,
          "FP": 0,
          "FP_rate": 0,
          "N": 44573,
          "N_rate": 0.9938238573021182,
          "P": 277,
          "P_rate": 0.006176142697881829,
          "TN": 44573,
          "TN_rate": 1,
          "TP": 11,
          "TP_rate": 0.039711191335740074,
          "precision": 1,
          "recall": 0.039711191335740074,
          "row_count": 44850,
          "truth_threshold": 0.9999999998536437
         },
         {
          "FN": 267,
          "FN_rate": 0.9638989169675091,
          "FP": 0,
          "FP_rate": 0,
          "N": 44573,
          "N_rate": 0.9938238573021182,
          "P": 277,
          "P_rate": 0.006176142697881829,
          "TN": 44573,
          "TN_rate": 1,
          "TP": 10,
          "TP_rate": 0.036101083032490974,
          "precision": 1,
          "recall": 0.036101083032490974,
          "row_count": 44850,
          "truth_threshold": 0.9999999998863914
         },
         {
          "FN": 268,
          "FN_rate": 0.9675090252707581,
          "FP": 0,
          "FP_rate": 0,
          "N": 44573,
          "N_rate": 0.9938238573021182,
          "P": 277,
          "P_rate": 0.006176142697881829,
          "TN": 44573,
          "TN_rate": 1,
          "TP": 9,
          "TP_rate": 0.032490974729241874,
          "precision": 1,
          "recall": 0.032490974729241874,
          "row_count": 44850,
          "truth_threshold": 0.9999999998934281
         },
         {
          "FN": 269,
          "FN_rate": 0.9711191335740073,
          "FP": 0,
          "FP_rate": 0,
          "N": 44573,
          "N_rate": 0.9938238573021182,
          "P": 277,
          "P_rate": 0.006176142697881829,
          "TN": 44573,
          "TN_rate": 1,
          "TP": 8,
          "TP_rate": 0.02888086642599278,
          "precision": 1,
          "recall": 0.02888086642599278,
          "row_count": 44850,
          "truth_threshold": 0.9999999999097965
         },
         {
          "FN": 270,
          "FN_rate": 0.9747292418772563,
          "FP": 0,
          "FP_rate": 0,
          "N": 44573,
          "N_rate": 0.9938238573021182,
          "P": 277,
          "P_rate": 0.006176142697881829,
          "TN": 44573,
          "TN_rate": 1,
          "TP": 7,
          "TP_rate": 0.02527075812274368,
          "precision": 1,
          "recall": 0.02527075812274368,
          "row_count": 44850,
          "truth_threshold": 0.9999999999153192
         },
         {
          "FN": 272,
          "FN_rate": 0.9819494584837545,
          "FP": 0,
          "FP_rate": 0,
          "N": 44573,
          "N_rate": 0.9938238573021182,
          "P": 277,
          "P_rate": 0.006176142697881829,
          "TN": 44573,
          "TN_rate": 1,
          "TP": 5,
          "TP_rate": 0.018050541516245487,
          "precision": 1,
          "recall": 0.018050541516245487,
          "row_count": 44850,
          "truth_threshold": 0.9999999999513524
         },
         {
          "FN": 273,
          "FN_rate": 0.9855595667870036,
          "FP": 0,
          "FP_rate": 0,
          "N": 44573,
          "N_rate": 0.9938238573021182,
          "P": 277,
          "P_rate": 0.006176142697881829,
          "TN": 44573,
          "TN_rate": 1,
          "TP": 4,
          "TP_rate": 0.01444043321299639,
          "precision": 1,
          "recall": 0.01444043321299639,
          "row_count": 44850,
          "truth_threshold": 0.9999999999845393
         },
         {
          "FN": 274,
          "FN_rate": 0.9891696750902527,
          "FP": 0,
          "FP_rate": 0,
          "N": 44573,
          "N_rate": 0.9938238573021182,
          "P": 277,
          "P_rate": 0.006176142697881829,
          "TN": 44573,
          "TN_rate": 1,
          "TP": 3,
          "TP_rate": 0.010830324909747292,
          "precision": 1,
          "recall": 0.010830324909747292,
          "row_count": 44850,
          "truth_threshold": 0.9999999999858834
         },
         {
          "FN": 275,
          "FN_rate": 0.9927797833935018,
          "FP": 0,
          "FP_rate": 0,
          "N": 44573,
          "N_rate": 0.9938238573021182,
          "P": 277,
          "P_rate": 0.006176142697881829,
          "TN": 44573,
          "TN_rate": 1,
          "TP": 2,
          "TP_rate": 0.007220216606498195,
          "precision": 1,
          "recall": 0.007220216606498195,
          "row_count": 44850,
          "truth_threshold": 0.9999999999883677
         },
         {
          "FN": 276,
          "FN_rate": 0.9963898916967509,
          "FP": 0,
          "FP_rate": 0,
          "N": 44573,
          "N_rate": 0.9938238573021182,
          "P": 277,
          "P_rate": 0.006176142697881829,
          "TN": 44573,
          "TN_rate": 1,
          "TP": 1,
          "TP_rate": 0.0036101083032490976,
          "precision": 1,
          "recall": 0.0036101083032490976,
          "row_count": 44850,
          "truth_threshold": 0.9999999999901139
         }
        ]
       },
       "encoding": {
        "tooltip": [
         {
          "field": "truth_threshold",
          "type": "quantitative"
         },
         {
          "field": "FP_rate",
          "type": "quantitative"
         },
         {
          "field": "TP_rate",
          "type": "quantitative"
         },
         {
          "field": "TP",
          "type": "quantitative"
         },
         {
          "field": "TN",
          "type": "quantitative"
         },
         {
          "field": "FP",
          "type": "quantitative"
         },
         {
          "field": "FN",
          "type": "quantitative"
         },
         {
          "field": "precision",
          "type": "quantitative"
         },
         {
          "field": "recall",
          "type": "quantitative"
         }
        ],
        "x": {
         "field": "recall",
         "sort": [
          "-recall"
         ],
         "title": "Recall",
         "type": "quantitative"
        },
        "y": {
         "field": "precision",
         "sort": [
          "-precision"
         ],
         "title": "Precision",
         "type": "quantitative"
        }
       },
       "height": 400,
       "mark": {
        "clip": true,
        "point": true,
        "type": "line"
       },
       "title": "Precision-recall curve",
       "width": 400
      },
      "image/png": "[encoded data removed]",
      "text/plain": [
       "<VegaLite 4 object>\n",
       "\n",
       "If you see this message, it means the renderer has not been properly enabled\n",
       "for the frontend that you are using. For more information, see\n",
       "https://altair-viz.github.io/user_guide/troubleshooting.html\n"
      ]
     },
     "execution_count": 21,
     "metadata": {},
     "output_type": "execute_result"
    }
   ],
   "source": [
    "precision_recall_chart(labels_and_scores, spark)"
   ]
  },
  {
   "cell_type": "markdown",
   "metadata": {},
   "source": [
    "## Step 7: Use graphframes to resolve links into groups"
   ]
  },
  {
   "cell_type": "code",
   "execution_count": 22,
   "metadata": {},
   "outputs": [
    {
     "data": {
      "text/html": [
       "<div>\n",
       "<style scoped>\n",
       "    .dataframe tbody tr th:only-of-type {\n",
       "        vertical-align: middle;\n",
       "    }\n",
       "\n",
       "    .dataframe tbody tr th {\n",
       "        vertical-align: top;\n",
       "    }\n",
       "\n",
       "    .dataframe thead th {\n",
       "        text-align: right;\n",
       "    }\n",
       "</style>\n",
       "<table border=\"1\" class=\"dataframe\">\n",
       "  <thead>\n",
       "    <tr style=\"text-align: right;\">\n",
       "      <th></th>\n",
       "      <th>estimated_group</th>\n",
       "      <th>unique_id</th>\n",
       "      <th>first_name</th>\n",
       "      <th>surname</th>\n",
       "      <th>dob</th>\n",
       "      <th>city</th>\n",
       "      <th>email</th>\n",
       "      <th>group</th>\n",
       "    </tr>\n",
       "  </thead>\n",
       "  <tbody>\n",
       "    <tr>\n",
       "      <th>0</th>\n",
       "      <td>0</td>\n",
       "      <td>2</td>\n",
       "      <td>Julia</td>\n",
       "      <td>Taylor</td>\n",
       "      <td>2016-01-27</td>\n",
       "      <td>London</td>\n",
       "      <td>hannah88@powers.com</td>\n",
       "      <td>0</td>\n",
       "    </tr>\n",
       "    <tr>\n",
       "      <th>1</th>\n",
       "      <td>0</td>\n",
       "      <td>0</td>\n",
       "      <td>Julia</td>\n",
       "      <td>None</td>\n",
       "      <td>2015-10-29</td>\n",
       "      <td>London</td>\n",
       "      <td>hannah88@powers.com</td>\n",
       "      <td>0</td>\n",
       "    </tr>\n",
       "    <tr>\n",
       "      <th>2</th>\n",
       "      <td>0</td>\n",
       "      <td>1</td>\n",
       "      <td>Julia</td>\n",
       "      <td>Taylor</td>\n",
       "      <td>2015-07-31</td>\n",
       "      <td>London</td>\n",
       "      <td>hannah88@powers.com</td>\n",
       "      <td>0</td>\n",
       "    </tr>\n",
       "    <tr>\n",
       "      <th>3</th>\n",
       "      <td>3</td>\n",
       "      <td>3</td>\n",
       "      <td>Julia</td>\n",
       "      <td>Taylor</td>\n",
       "      <td>2015-10-29</td>\n",
       "      <td>None</td>\n",
       "      <td>hannah88opowersc@m</td>\n",
       "      <td>0</td>\n",
       "    </tr>\n",
       "    <tr>\n",
       "      <th>4</th>\n",
       "      <td>5</td>\n",
       "      <td>9</td>\n",
       "      <td>Noah</td>\n",
       "      <td>Watson</td>\n",
       "      <td>2008-01-19</td>\n",
       "      <td>Bolton</td>\n",
       "      <td>None</td>\n",
       "      <td>1</td>\n",
       "    </tr>\n",
       "    <tr>\n",
       "      <th>5</th>\n",
       "      <td>5</td>\n",
       "      <td>7</td>\n",
       "      <td>Noah</td>\n",
       "      <td>Watson</td>\n",
       "      <td>2008-02-05</td>\n",
       "      <td>tolon</td>\n",
       "      <td>matthew78@ballard-mcdonald.net</td>\n",
       "      <td>1</td>\n",
       "    </tr>\n",
       "    <tr>\n",
       "      <th>6</th>\n",
       "      <td>5</td>\n",
       "      <td>5</td>\n",
       "      <td>Noah</td>\n",
       "      <td>Watson</td>\n",
       "      <td>2008-03-23</td>\n",
       "      <td>Bolton</td>\n",
       "      <td>matthew78@ballard-mcdonald.net</td>\n",
       "      <td>1</td>\n",
       "    </tr>\n",
       "    <tr>\n",
       "      <th>7</th>\n",
       "      <td>6</td>\n",
       "      <td>8</td>\n",
       "      <td>Watson</td>\n",
       "      <td>Noah</td>\n",
       "      <td>2008-06-15</td>\n",
       "      <td>Bolton</td>\n",
       "      <td>matthew78@ballard-mcdonald.net</td>\n",
       "      <td>1</td>\n",
       "    </tr>\n",
       "    <tr>\n",
       "      <th>8</th>\n",
       "      <td>6</td>\n",
       "      <td>6</td>\n",
       "      <td>Watson</td>\n",
       "      <td>Noah</td>\n",
       "      <td>2008-03-23</td>\n",
       "      <td>None</td>\n",
       "      <td>matthew78@ballard-mcdonald.net</td>\n",
       "      <td>1</td>\n",
       "    </tr>\n",
       "    <tr>\n",
       "      <th>9</th>\n",
       "      <td>6</td>\n",
       "      <td>10</td>\n",
       "      <td>Watson</td>\n",
       "      <td>Noah</td>\n",
       "      <td>2008-03-23</td>\n",
       "      <td>Bolton</td>\n",
       "      <td>matthbw78eallard-mcdonald.net</td>\n",
       "      <td>1</td>\n",
       "    </tr>\n",
       "    <tr>\n",
       "      <th>10</th>\n",
       "      <td>11</td>\n",
       "      <td>11</td>\n",
       "      <td>Watson</td>\n",
       "      <td>Noah</td>\n",
       "      <td>2008-01-21</td>\n",
       "      <td>Bolno</td>\n",
       "      <td>matthea78@bwllar-mcdonald.net</td>\n",
       "      <td>1</td>\n",
       "    </tr>\n",
       "    <tr>\n",
       "      <th>11</th>\n",
       "      <td>12</td>\n",
       "      <td>12</td>\n",
       "      <td>Noah</td>\n",
       "      <td>None</td>\n",
       "      <td>2008-03-23</td>\n",
       "      <td>Blotn</td>\n",
       "      <td>None</td>\n",
       "      <td>1</td>\n",
       "    </tr>\n",
       "    <tr>\n",
       "      <th>12</th>\n",
       "      <td>16</td>\n",
       "      <td>17</td>\n",
       "      <td>Amelia</td>\n",
       "      <td>Alexander</td>\n",
       "      <td>1983-04-30</td>\n",
       "      <td>Glasgow</td>\n",
       "      <td>icampbeal@lllen-lews.org</td>\n",
       "      <td>3</td>\n",
       "    </tr>\n",
       "    <tr>\n",
       "      <th>13</th>\n",
       "      <td>16</td>\n",
       "      <td>16</td>\n",
       "      <td>Amelia</td>\n",
       "      <td>Alexander</td>\n",
       "      <td>1983-05-19</td>\n",
       "      <td>Glaogw</td>\n",
       "      <td>None</td>\n",
       "      <td>3</td>\n",
       "    </tr>\n",
       "    <tr>\n",
       "      <th>14</th>\n",
       "      <td>16</td>\n",
       "      <td>18</td>\n",
       "      <td>Amelia</td>\n",
       "      <td>Alexander</td>\n",
       "      <td>1983-05-19</td>\n",
       "      <td>Glasgow</td>\n",
       "      <td>icampbell@allen-lewis.org</td>\n",
       "      <td>3</td>\n",
       "    </tr>\n",
       "    <tr>\n",
       "      <th>15</th>\n",
       "      <td>21</td>\n",
       "      <td>21</td>\n",
       "      <td>Oliver</td>\n",
       "      <td>Connolly</td>\n",
       "      <td>1972-03-08</td>\n",
       "      <td>Plymouth</td>\n",
       "      <td>None</td>\n",
       "      <td>4</td>\n",
       "    </tr>\n",
       "    <tr>\n",
       "      <th>16</th>\n",
       "      <td>24</td>\n",
       "      <td>24</td>\n",
       "      <td>Thompson</td>\n",
       "      <td>Ollie</td>\n",
       "      <td>1996-03-22</td>\n",
       "      <td>None</td>\n",
       "      <td>jefferyduke@brown-salazar.org</td>\n",
       "      <td>5</td>\n",
       "    </tr>\n",
       "    <tr>\n",
       "      <th>17</th>\n",
       "      <td>27</td>\n",
       "      <td>28</td>\n",
       "      <td>Matilda</td>\n",
       "      <td>None</td>\n",
       "      <td>1983-04-30</td>\n",
       "      <td>London</td>\n",
       "      <td>patricia47@davis.com</td>\n",
       "      <td>6</td>\n",
       "    </tr>\n",
       "    <tr>\n",
       "      <th>18</th>\n",
       "      <td>27</td>\n",
       "      <td>30</td>\n",
       "      <td>Matilda</td>\n",
       "      <td>Harris</td>\n",
       "      <td>1983-03-03</td>\n",
       "      <td>London</td>\n",
       "      <td>patricia47@davis.com</td>\n",
       "      <td>6</td>\n",
       "    </tr>\n",
       "    <tr>\n",
       "      <th>19</th>\n",
       "      <td>27</td>\n",
       "      <td>27</td>\n",
       "      <td>Matilda</td>\n",
       "      <td>Hsrir</td>\n",
       "      <td>1983-04-30</td>\n",
       "      <td>London</td>\n",
       "      <td>patrcio47@davis.cam</td>\n",
       "      <td>6</td>\n",
       "    </tr>\n",
       "    <tr>\n",
       "      <th>20</th>\n",
       "      <td>29</td>\n",
       "      <td>29</td>\n",
       "      <td>Harris</td>\n",
       "      <td>Matilda</td>\n",
       "      <td>1983-04-30</td>\n",
       "      <td>London</td>\n",
       "      <td>patricia47@davis.com</td>\n",
       "      <td>6</td>\n",
       "    </tr>\n",
       "    <tr>\n",
       "      <th>21</th>\n",
       "      <td>29</td>\n",
       "      <td>31</td>\n",
       "      <td>Harris</td>\n",
       "      <td>Matilda</td>\n",
       "      <td>1983-05-24</td>\n",
       "      <td>London</td>\n",
       "      <td>None</td>\n",
       "      <td>6</td>\n",
       "    </tr>\n",
       "    <tr>\n",
       "      <th>22</th>\n",
       "      <td>32</td>\n",
       "      <td>32</td>\n",
       "      <td>Baxter</td>\n",
       "      <td>Aria</td>\n",
       "      <td>1992-09-07</td>\n",
       "      <td>London</td>\n",
       "      <td>christineshepherd@allen.com</td>\n",
       "      <td>7</td>\n",
       "    </tr>\n",
       "    <tr>\n",
       "      <th>23</th>\n",
       "      <td>32</td>\n",
       "      <td>34</td>\n",
       "      <td>Baxter</td>\n",
       "      <td>Aria</td>\n",
       "      <td>1992-09-30</td>\n",
       "      <td>London</td>\n",
       "      <td>christineshepherd@allen.com</td>\n",
       "      <td>7</td>\n",
       "    </tr>\n",
       "    <tr>\n",
       "      <th>24</th>\n",
       "      <td>33</td>\n",
       "      <td>33</td>\n",
       "      <td>Aria</td>\n",
       "      <td>Baxter</td>\n",
       "      <td>1992-09-07</td>\n",
       "      <td>London</td>\n",
       "      <td>christineshepherd@allen.com</td>\n",
       "      <td>7</td>\n",
       "    </tr>\n",
       "    <tr>\n",
       "      <th>25</th>\n",
       "      <td>33</td>\n",
       "      <td>36</td>\n",
       "      <td>Aria</td>\n",
       "      <td>Baxter</td>\n",
       "      <td>1992-09-07</td>\n",
       "      <td>London</td>\n",
       "      <td>christineshepherd@allen.com</td>\n",
       "      <td>7</td>\n",
       "    </tr>\n",
       "    <tr>\n",
       "      <th>26</th>\n",
       "      <td>33</td>\n",
       "      <td>35</td>\n",
       "      <td>Aria</td>\n",
       "      <td>Baxter</td>\n",
       "      <td>1992-09-07</td>\n",
       "      <td>London</td>\n",
       "      <td>christineshepherd@allen.com</td>\n",
       "      <td>7</td>\n",
       "    </tr>\n",
       "    <tr>\n",
       "      <th>27</th>\n",
       "      <td>38</td>\n",
       "      <td>42</td>\n",
       "      <td>Olivia</td>\n",
       "      <td>Andrews</td>\n",
       "      <td>2009-01-23</td>\n",
       "      <td>London</td>\n",
       "      <td>hesterkuot@taylrr-fitzgeraldcom</td>\n",
       "      <td>9</td>\n",
       "    </tr>\n",
       "    <tr>\n",
       "      <th>28</th>\n",
       "      <td>38</td>\n",
       "      <td>40</td>\n",
       "      <td>Olivia</td>\n",
       "      <td>Andrews</td>\n",
       "      <td>2009-03-24</td>\n",
       "      <td>London</td>\n",
       "      <td>hesterkurt@taylor-fitzgerald.com</td>\n",
       "      <td>9</td>\n",
       "    </tr>\n",
       "    <tr>\n",
       "      <th>29</th>\n",
       "      <td>38</td>\n",
       "      <td>38</td>\n",
       "      <td>Olivia</td>\n",
       "      <td>Andrews</td>\n",
       "      <td>2009-01-23</td>\n",
       "      <td>None</td>\n",
       "      <td>hesterkurt@taylor-fitzgerald.com</td>\n",
       "      <td>9</td>\n",
       "    </tr>\n",
       "  </tbody>\n",
       "</table>\n",
       "</div>"
      ],
      "text/plain": [
       "    estimated_group  unique_id first_name    surname         dob      city  \\\n",
       "0                 0          2     Julia      Taylor  2016-01-27    London   \n",
       "1                 0          0     Julia        None  2015-10-29    London   \n",
       "2                 0          1     Julia      Taylor  2015-07-31    London   \n",
       "3                 3          3     Julia      Taylor  2015-10-29      None   \n",
       "4                 5          9      Noah      Watson  2008-01-19    Bolton   \n",
       "5                 5          7      Noah      Watson  2008-02-05     tolon   \n",
       "6                 5          5      Noah      Watson  2008-03-23    Bolton   \n",
       "7                 6          8     Watson      Noah   2008-06-15    Bolton   \n",
       "8                 6          6     Watson      Noah   2008-03-23      None   \n",
       "9                 6         10     Watson      Noah   2008-03-23    Bolton   \n",
       "10               11         11     Watson      Noah   2008-01-21     Bolno   \n",
       "11               12         12      Noah        None  2008-03-23     Blotn   \n",
       "12               16         17    Amelia   Alexander  1983-04-30   Glasgow   \n",
       "13               16         16    Amelia   Alexander  1983-05-19    Glaogw   \n",
       "14               16         18    Amelia   Alexander  1983-05-19   Glasgow   \n",
       "15               21         21    Oliver    Connolly  1972-03-08  Plymouth   \n",
       "16               24         24   Thompson     Ollie   1996-03-22      None   \n",
       "17               27         28   Matilda        None  1983-04-30    London   \n",
       "18               27         30   Matilda      Harris  1983-03-03    London   \n",
       "19               27         27   Matilda       Hsrir  1983-04-30    London   \n",
       "20               29         29     Harris   Matilda   1983-04-30    London   \n",
       "21               29         31     Harris   Matilda   1983-05-24    London   \n",
       "22               32         32     Baxter      Aria   1992-09-07    London   \n",
       "23               32         34     Baxter      Aria   1992-09-30    London   \n",
       "24               33         33      Aria      Baxter  1992-09-07    London   \n",
       "25               33         36      Aria      Baxter  1992-09-07    London   \n",
       "26               33         35      Aria      Baxter  1992-09-07    London   \n",
       "27               38         42    Olivia     Andrews  2009-01-23    London   \n",
       "28               38         40    Olivia     Andrews  2009-03-24    London   \n",
       "29               38         38    Olivia     Andrews  2009-01-23      None   \n",
       "\n",
       "                               email  group  \n",
       "0                hannah88@powers.com      0  \n",
       "1                hannah88@powers.com      0  \n",
       "2                hannah88@powers.com      0  \n",
       "3                 hannah88opowersc@m      0  \n",
       "4                               None      1  \n",
       "5     matthew78@ballard-mcdonald.net      1  \n",
       "6     matthew78@ballard-mcdonald.net      1  \n",
       "7     matthew78@ballard-mcdonald.net      1  \n",
       "8     matthew78@ballard-mcdonald.net      1  \n",
       "9      matthbw78eallard-mcdonald.net      1  \n",
       "10     matthea78@bwllar-mcdonald.net      1  \n",
       "11                              None      1  \n",
       "12          icampbeal@lllen-lews.org      3  \n",
       "13                              None      3  \n",
       "14         icampbell@allen-lewis.org      3  \n",
       "15                              None      4  \n",
       "16     jefferyduke@brown-salazar.org      5  \n",
       "17              patricia47@davis.com      6  \n",
       "18              patricia47@davis.com      6  \n",
       "19               patrcio47@davis.cam      6  \n",
       "20              patricia47@davis.com      6  \n",
       "21                              None      6  \n",
       "22       christineshepherd@allen.com      7  \n",
       "23       christineshepherd@allen.com      7  \n",
       "24       christineshepherd@allen.com      7  \n",
       "25       christineshepherd@allen.com      7  \n",
       "26       christineshepherd@allen.com      7  \n",
       "27   hesterkuot@taylrr-fitzgeraldcom      9  \n",
       "28  hesterkurt@taylor-fitzgerald.com      9  \n",
       "29  hesterkurt@taylor-fitzgerald.com      9  "
      ]
     },
     "execution_count": 22,
     "metadata": {},
     "output_type": "execute_result"
    }
   ],
   "source": [
    "from graphframes import GraphFrame\n",
    "\n",
    "\n",
    "df_e.createOrReplaceTempView(\"df_e\")\n",
    "sql = \"\"\"\n",
    "select unique_id_l as id\n",
    "from df_e\n",
    "union\n",
    "select unique_id_r as id\n",
    "from df_e\n",
    "\"\"\"\n",
    "nodes = spark.sql(sql)\n",
    "\n",
    "sql = \"\"\"\n",
    "select\n",
    "unique_id_l as src,\n",
    "unique_id_r as dst,\n",
    "tf_adjusted_match_prob\n",
    "from df_e\n",
    "where tf_adjusted_match_prob > 0.99\n",
    "\"\"\"\n",
    "edges = spark.sql(sql)\n",
    "\n",
    "g = GraphFrame(nodes, edges)\n",
    "\n",
    "cc = g.connectedComponents()\n",
    "\n",
    "cc.createOrReplaceTempView(\"cc\")\n",
    "df.createOrReplaceTempView(\"df\")\n",
    "sql = \"\"\"\n",
    "select cc.component as estimated_group, df.*\n",
    "from cc\n",
    "left join\n",
    "df \n",
    "on cc.id = df.unique_id\n",
    "order by group, estimated_group\n",
    "\"\"\"\n",
    "results = spark.sql(sql)\n",
    "results.toPandas().head(30)"
   ]
  },
  {
   "cell_type": "code",
   "execution_count": null,
   "metadata": {},
   "outputs": [],
   "source": []
  }
 ],
 "metadata": {
  "kernelspec": {
   "display_name": "Python 3",
   "language": "python",
   "name": "python3"
  },
  "language_info": {
   "codemirror_mode": {
    "name": "ipython",
    "version": 3
   },
   "file_extension": ".py",
   "mimetype": "text/x-python",
   "name": "python",
   "nbconvert_exporter": "python",
   "pygments_lexer": "ipython3",
   "version": "3.8.3"
  }
 },
 "nbformat": 4,
 "nbformat_minor": 4
}
