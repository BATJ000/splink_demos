{
 "cells": [
  {
   "cell_type": "markdown",
   "metadata": {},
   "source": [
    "## Splink deduplication demo \n",
    "\n",
    "In this demo we de-duplicate a dataset.  The dataset is small (1000) rows to enable the tutorial to be run interactively, but readers should imaging the true dataset is large (millions of rows).\n",
    "\n",
    "This is a comprehensive example in which we demonstrate the full range of functionality of Splink, and how it is intended to be used.  A quickstart notebook is provided elsewhere.\n",
    "\n",
    "Note that various outputs are printed interactively using e.g. `spark_dataframe.show()`.  This is for instructional purposes only - it degrades performance and shouldn't be used in a production setting."
   ]
  },
  {
   "cell_type": "markdown",
   "metadata": {},
   "source": [
    "## Step 1:  Imports and setup\n",
    "\n",
    "The following is just boilerplate code that sets up the Spark session and sets some other non-essential configuration options"
   ]
  },
  {
   "cell_type": "code",
   "execution_count": 1,
   "metadata": {},
   "outputs": [],
   "source": [
    "import pandas as pd \n",
    "pd.options.display.max_columns = 500\n",
    "pd.options.display.max_rows = 100"
   ]
  },
  {
   "cell_type": "code",
   "execution_count": 2,
   "metadata": {},
   "outputs": [],
   "source": [
    "import logging \n",
    "logging.basicConfig()  # Means logs will print in Jupyter Lab\n",
    "\n",
    "# Set to DEBUG if you want splink to log the SQL statements it's executing under the hood\n",
    "logging.getLogger(\"splink\").setLevel(logging.INFO)"
   ]
  },
  {
   "cell_type": "code",
   "execution_count": 3,
   "metadata": {},
   "outputs": [],
   "source": [
    "from utility_functions.demo_utils import get_spark\n",
    "spark = get_spark() # See utility_functions/demo_utils.py for how to set up Spark"
   ]
  },
  {
   "cell_type": "markdown",
   "metadata": {},
   "source": [
    "## Step 2:  Read in data"
   ]
  },
  {
   "cell_type": "markdown",
   "metadata": {},
   "source": [
    "Note that the `group` column is the truth - rows which share the same value refer to the same person.  In the real world, we wouldn't have this field because this is the truth - the label which Splink is trying to estimate."
   ]
  },
  {
   "cell_type": "code",
   "execution_count": 4,
   "metadata": {},
   "outputs": [
    {
     "name": "stdout",
     "output_type": "stream",
     "text": [
      "+---------+----------+-------+----------+------+--------------------+-----+\n",
      "|unique_id|first_name|surname|       dob|  city|               email|group|\n",
      "+---------+----------+-------+----------+------+--------------------+-----+\n",
      "|        0|    Robert|   Alan|1971-06-24|  null| robert255@smith.net|    0|\n",
      "|        1|    Robert|  Allen|1971-05-24|  null| roberta25@smith.net|    0|\n",
      "|        2|       Rob|  Allen|1971-06-24|London| roberta25@smith.net|    0|\n",
      "|        3|    Robert|   Alen|1971-06-24| Lonon|                null|    0|\n",
      "|        4|     Grace|   null|1997-04-26|  Hull|grace.kelly52@jon...|    1|\n",
      "+---------+----------+-------+----------+------+--------------------+-----+\n",
      "only showing top 5 rows\n",
      "\n"
     ]
    }
   ],
   "source": [
    "df = spark.read.csv(\"data/fake_1000.csv\", header=True)\n",
    "df.show(5)"
   ]
  },
  {
   "cell_type": "markdown",
   "metadata": {},
   "source": [
    "## Step 3:  Profile the data\n",
    "\n",
    "Understanding your data through the use of summary statistics is critical. \n",
    "\n",
    "For the purposes of data linking, one of the most important attributes of your data is cardinality.  Fields like date of birth which have a large number of unique values (high cardinality) are more useful than fields with low cardinality like gender.\n",
    "\n",
    "Another important attribute is skew, which can occur:\n",
    "- because values (like a first name of John) occur more frequently in the real world\n",
    "- due to data quality issues (such as a large number of date of birth fields containing the value '1970-01-01' due errors in date parsing)\n",
    "\n",
    "In general Splink will produce less accurate predictions when you have skew, especially in the case of extreme skew.  So, for example, different name frequences (John vs Robin) shouldn't cause a huge problem, but if you have 30,000 distinct dates of birth, but half of the values are '1970-01-01' Splink is unlikely to produce accuate predictions of match probability.\n",
    "\n",
    "It is imperative, therefore, that data quality issues are addressed prior to using Splink.  Note that Splink will correctly deal with nulls, so suspicious values should usually be nulled out.\n",
    "\n",
    "Splink provides a profiling tool to for you to visually inspect value frequencies, which we can see as follows:\n",
    "\n",
    "In the caes of our test dataset, there is a moderate level of skew, partcularly on the first_name, surname and city columns.  We can see most of our fields have high cardinality.\n",
    "\n",
    "We also observe that misspellings are common across most fields."
   ]
  },
  {
   "cell_type": "code",
   "execution_count": 5,
   "metadata": {},
   "outputs": [],
   "source": [
    "from splink.profile import column_value_frequencies_chart"
   ]
  },
  {
   "cell_type": "code",
   "execution_count": 6,
   "metadata": {},
   "outputs": [
    {
     "data": {
      "application/vnd.vegalite.v4+json": {
       "$schema": "https://vega.github.io/schema/vega-lite/v4.8.1.json",
       "config": {
        "view": {
         "continuousHeight": 300,
         "continuousWidth": 400
        }
       },
       "vconcat": [
        {
         "hconcat": [
          {
           "data": {
            "values": [
             {
              "group_name": "first_name",
              "percentile_ex_nulls": 1,
              "percentile_inc_nulls": 1,
              "sum_tokens_in_value_count_group": 28,
              "total_non_null_rows": 831,
              "total_rows_inc_nulls": 1000,
              "value_count": 28
             },
             {
              "percentile_ex_nulls": 0.9663056558363418,
              "percentile_inc_nulls": 0.972,
              "proportion_of_non_null_rows": 0.03369434416365824,
              "sum_tokens_in_value_count_group": 28,
              "total_non_null_rows": 831,
              "total_rows_inc_nulls": 1000,
              "value_count": 28
             },
             {
              "percentile_ex_nulls": 0.9470517448856799,
              "percentile_inc_nulls": 0.956,
              "proportion_of_non_null_rows": 0.019253910950661854,
              "sum_tokens_in_value_count_group": 16,
              "total_non_null_rows": 831,
              "total_rows_inc_nulls": 1000,
              "value_count": 16
             },
             {
              "percentile_ex_nulls": 0.9290012033694344,
              "percentile_inc_nulls": 0.9410000000000001,
              "proportion_of_non_null_rows": 0.018050541516245487,
              "sum_tokens_in_value_count_group": 15,
              "total_non_null_rows": 831,
              "total_rows_inc_nulls": 1000,
              "value_count": 15
             },
             {
              "percentile_ex_nulls": 0.9121540312876053,
              "percentile_inc_nulls": 0.927,
              "proportion_of_non_null_rows": 0.01684717208182912,
              "sum_tokens_in_value_count_group": 14,
              "total_non_null_rows": 831,
              "total_rows_inc_nulls": 1000,
              "value_count": 14
             },
             {
              "percentile_ex_nulls": 0.8965102286401926,
              "percentile_inc_nulls": 0.914,
              "proportion_of_non_null_rows": 0.015643802647412757,
              "sum_tokens_in_value_count_group": 13,
              "total_non_null_rows": 831,
              "total_rows_inc_nulls": 1000,
              "value_count": 13
             },
             {
              "percentile_ex_nulls": 0.8820697954271961,
              "percentile_inc_nulls": 0.902,
              "proportion_of_non_null_rows": 0.01444043321299639,
              "sum_tokens_in_value_count_group": 12,
              "total_non_null_rows": 831,
              "total_rows_inc_nulls": 1000,
              "value_count": 12
             },
             {
              "percentile_ex_nulls": 0.8423586040914561,
              "percentile_inc_nulls": 0.869,
              "proportion_of_non_null_rows": 0.039711191335740074,
              "sum_tokens_in_value_count_group": 33,
              "total_non_null_rows": 831,
              "total_rows_inc_nulls": 1000,
              "value_count": 11
             },
             {
              "percentile_ex_nulls": 0.8182912154031288,
              "percentile_inc_nulls": 0.849,
              "proportion_of_non_null_rows": 0.024067388688327317,
              "sum_tokens_in_value_count_group": 20,
              "total_non_null_rows": 831,
              "total_rows_inc_nulls": 1000,
              "value_count": 10
             },
             {
              "percentile_ex_nulls": 0.7641395908543923,
              "percentile_inc_nulls": 0.804,
              "proportion_of_non_null_rows": 0.05415162454873646,
              "sum_tokens_in_value_count_group": 45,
              "total_non_null_rows": 831,
              "total_rows_inc_nulls": 1000,
              "value_count": 9
             },
             {
              "percentile_ex_nulls": 0.7352587244283995,
              "percentile_inc_nulls": 0.78,
              "proportion_of_non_null_rows": 0.02888086642599278,
              "sum_tokens_in_value_count_group": 24,
              "total_non_null_rows": 831,
              "total_rows_inc_nulls": 1000,
              "value_count": 8
             },
             {
              "percentile_ex_nulls": 0.7015643802647413,
              "percentile_inc_nulls": 0.752,
              "proportion_of_non_null_rows": 0.03369434416365824,
              "sum_tokens_in_value_count_group": 28,
              "total_non_null_rows": 831,
              "total_rows_inc_nulls": 1000,
              "value_count": 7
             },
             {
              "percentile_ex_nulls": 0.6293622141997594,
              "percentile_inc_nulls": 0.692,
              "proportion_of_non_null_rows": 0.07220216606498195,
              "sum_tokens_in_value_count_group": 60,
              "total_non_null_rows": 831,
              "total_rows_inc_nulls": 1000,
              "value_count": 6
             },
             {
              "percentile_ex_nulls": 0.5391095066185319,
              "percentile_inc_nulls": 0.617,
              "proportion_of_non_null_rows": 0.09025270758122744,
              "sum_tokens_in_value_count_group": 75,
              "total_non_null_rows": 831,
              "total_rows_inc_nulls": 1000,
              "value_count": 5
             },
             {
              "percentile_ex_nulls": 0.42358604091456076,
              "percentile_inc_nulls": 0.521,
              "proportion_of_non_null_rows": 0.11552346570397112,
              "sum_tokens_in_value_count_group": 96,
              "total_non_null_rows": 831,
              "total_rows_inc_nulls": 1000,
              "value_count": 4
             },
             {
              "percentile_ex_nulls": 0.3369434416365824,
              "percentile_inc_nulls": 0.44899999999999995,
              "proportion_of_non_null_rows": 0.08664259927797834,
              "sum_tokens_in_value_count_group": 72,
              "total_non_null_rows": 831,
              "total_rows_inc_nulls": 1000,
              "value_count": 3
             },
             {
              "percentile_ex_nulls": 0.2382671480144405,
              "percentile_inc_nulls": 0.367,
              "proportion_of_non_null_rows": 0.098676293622142,
              "sum_tokens_in_value_count_group": 82,
              "total_non_null_rows": 831,
              "total_rows_inc_nulls": 1000,
              "value_count": 2
             },
             {
              "percentile_ex_nulls": 0,
              "percentile_inc_nulls": 0.16900000000000004,
              "proportion_of_non_null_rows": 0.23826714801444043,
              "sum_tokens_in_value_count_group": 198,
              "total_non_null_rows": 831,
              "total_rows_inc_nulls": 1000,
              "value_count": 1
             }
            ]
           },
           "encoding": {
            "tooltip": [
             {
              "field": "value_count",
              "type": "quantitative"
             },
             {
              "field": "percentile_ex_nulls",
              "type": "quantitative"
             },
             {
              "field": "percentile_inc_nulls",
              "type": "quantitative"
             },
             {
              "field": "total_non_null_rows",
              "type": "quantitative"
             },
             {
              "field": "total_rows_inc_nulls",
              "type": "quantitative"
             },
             {
              "field": "proportion_of_non_null_rows",
              "type": "quantitative"
             }
            ],
            "x": {
             "field": "percentile_ex_nulls",
             "sort": "descending",
             "title": "Percentile",
             "type": "quantitative"
            },
            "y": {
             "field": "value_count",
             "title": "Count of values",
             "type": "quantitative"
            }
           },
           "mark": {
            "interpolate": "step-after",
            "type": "line"
           },
           "title": {
            "subtitle": "Of the 1000 rows in the df, 831 (16.9%) are null for this column",
            "text": "Distribution of counts of values in column first_name"
           }
          },
          {
           "data": {
            "values": [
             {
              "total_non_null_rows": 831,
              "total_rows_inc_nulls": 1000,
              "value": "Oliver",
              "value_count": 28
             },
             {
              "total_non_null_rows": 831,
              "total_rows_inc_nulls": 1000,
              "value": "Jacob",
              "value_count": 16
             },
             {
              "total_non_null_rows": 831,
              "total_rows_inc_nulls": 1000,
              "value": "Freddie",
              "value_count": 15
             },
             {
              "total_non_null_rows": 831,
              "total_rows_inc_nulls": 1000,
              "value": "Olivia",
              "value_count": 14
             },
             {
              "total_non_null_rows": 831,
              "total_rows_inc_nulls": 1000,
              "value": "James",
              "value_count": 13
             },
             {
              "total_non_null_rows": 831,
              "total_rows_inc_nulls": 1000,
              "value": "George",
              "value_count": 12
             },
             {
              "total_non_null_rows": 831,
              "total_rows_inc_nulls": 1000,
              "value": "Elizabeth",
              "value_count": 11
             },
             {
              "total_non_null_rows": 831,
              "total_rows_inc_nulls": 1000,
              "value": "Alfie",
              "value_count": 11
             },
             {
              "total_non_null_rows": 831,
              "total_rows_inc_nulls": 1000,
              "value": "Jessica",
              "value_count": 11
             },
             {
              "total_non_null_rows": 831,
              "total_rows_inc_nulls": 1000,
              "value": "Theodore",
              "value_count": 10
             },
             {
              "total_non_null_rows": 831,
              "total_rows_inc_nulls": 1000,
              "value": "Logan",
              "value_count": 10
             },
             {
              "total_non_null_rows": 831,
              "total_rows_inc_nulls": 1000,
              "value": "Henry",
              "value_count": 9
             },
             {
              "total_non_null_rows": 831,
              "total_rows_inc_nulls": 1000,
              "value": "Isla",
              "value_count": 9
             },
             {
              "total_non_null_rows": 831,
              "total_rows_inc_nulls": 1000,
              "value": "Harry",
              "value_count": 9
             },
             {
              "total_non_null_rows": 831,
              "total_rows_inc_nulls": 1000,
              "value": "Amelia",
              "value_count": 9
             },
             {
              "total_non_null_rows": 831,
              "total_rows_inc_nulls": 1000,
              "value": "Mason",
              "value_count": 9
             },
             {
              "total_non_null_rows": 831,
              "total_rows_inc_nulls": 1000,
              "value": "Lola",
              "value_count": 8
             },
             {
              "total_non_null_rows": 831,
              "total_rows_inc_nulls": 1000,
              "value": "Isabelle",
              "value_count": 8
             },
             {
              "total_non_null_rows": 831,
              "total_rows_inc_nulls": 1000,
              "value": "Jayden",
              "value_count": 8
             },
             {
              "total_non_null_rows": 831,
              "total_rows_inc_nulls": 1000,
              "value": "Scarlett",
              "value_count": 7
             }
            ]
           },
           "encoding": {
            "tooltip": [
             {
              "field": "value",
              "type": "nominal"
             },
             {
              "field": "value_count",
              "type": "quantitative"
             },
             {
              "field": "total_non_null_rows",
              "type": "quantitative"
             },
             {
              "field": "total_rows_inc_nulls",
              "type": "quantitative"
             }
            ],
            "x": {
             "field": "value",
             "sort": "-y",
             "title": null,
             "type": "nominal"
            },
            "y": {
             "field": "value_count",
             "title": "Value count",
             "type": "quantitative"
            }
           },
           "mark": "bar",
           "title": "Top 20 values by value count"
          },
          {
           "data": {
            "values": [
             {
              "total_non_null_rows": 831,
              "total_rows_inc_nulls": 1000,
              "value": "eTheodroe",
              "value_count": 1
             },
             {
              "total_non_null_rows": 831,
              "total_rows_inc_nulls": 1000,
              "value": "Icsac",
              "value_count": 1
             },
             {
              "total_non_null_rows": 831,
              "total_rows_inc_nulls": 1000,
              "value": "Oievr",
              "value_count": 1
             },
             {
              "total_non_null_rows": 831,
              "total_rows_inc_nulls": 1000,
              "value": "Harr",
              "value_count": 1
             },
             {
              "total_non_null_rows": 831,
              "total_rows_inc_nulls": 1000,
              "value": "Molly",
              "value_count": 1
             },
             {
              "total_non_null_rows": 831,
              "total_rows_inc_nulls": 1000,
              "value": "Eloilt",
              "value_count": 1
             },
             {
              "total_non_null_rows": 831,
              "total_rows_inc_nulls": 1000,
              "value": "iElliot",
              "value_count": 1
             },
             {
              "total_non_null_rows": 831,
              "total_rows_inc_nulls": 1000,
              "value": "Fdedrie",
              "value_count": 1
             },
             {
              "total_non_null_rows": 831,
              "total_rows_inc_nulls": 1000,
              "value": "David",
              "value_count": 1
             },
             {
              "total_non_null_rows": 831,
              "total_rows_inc_nulls": 1000,
              "value": "Nicholson",
              "value_count": 1
             }
            ]
           },
           "encoding": {
            "tooltip": [
             {
              "field": "value",
              "type": "nominal"
             },
             {
              "field": "value_count",
              "type": "quantitative"
             },
             {
              "field": "total_non_null_rows",
              "type": "quantitative"
             },
             {
              "field": "total_rows_inc_nulls",
              "type": "quantitative"
             }
            ],
            "x": {
             "field": "value",
             "sort": "-y",
             "title": null,
             "type": "nominal"
            },
            "y": {
             "field": "value_count",
             "scale": {
              "domain": [
               0,
               28
              ]
             },
             "title": "Value count",
             "type": "quantitative"
            }
           },
           "mark": "bar",
           "title": "Bottom 10 values by value count"
          }
         ]
        },
        {
         "hconcat": [
          {
           "data": {
            "values": [
             {
              "group_name": "dob",
              "percentile_ex_nulls": 1,
              "percentile_inc_nulls": 1,
              "sum_tokens_in_value_count_group": 90,
              "total_non_null_rows": 1000,
              "total_rows_inc_nulls": 1000,
              "value_count": 6
             },
             {
              "percentile_ex_nulls": 0.91,
              "percentile_inc_nulls": 0.91,
              "proportion_of_non_null_rows": 0.09,
              "sum_tokens_in_value_count_group": 90,
              "total_non_null_rows": 1000,
              "total_rows_inc_nulls": 1000,
              "value_count": 6
             },
             {
              "percentile_ex_nulls": 0.8049999999999999,
              "percentile_inc_nulls": 0.8049999999999999,
              "proportion_of_non_null_rows": 0.105,
              "sum_tokens_in_value_count_group": 105,
              "total_non_null_rows": 1000,
              "total_rows_inc_nulls": 1000,
              "value_count": 5
             },
             {
              "percentile_ex_nulls": 0.653,
              "percentile_inc_nulls": 0.653,
              "proportion_of_non_null_rows": 0.152,
              "sum_tokens_in_value_count_group": 152,
              "total_non_null_rows": 1000,
              "total_rows_inc_nulls": 1000,
              "value_count": 4
             },
             {
              "percentile_ex_nulls": 0.509,
              "percentile_inc_nulls": 0.509,
              "proportion_of_non_null_rows": 0.144,
              "sum_tokens_in_value_count_group": 144,
              "total_non_null_rows": 1000,
              "total_rows_inc_nulls": 1000,
              "value_count": 3
             },
             {
              "percentile_ex_nulls": 0.377,
              "percentile_inc_nulls": 0.377,
              "proportion_of_non_null_rows": 0.132,
              "sum_tokens_in_value_count_group": 132,
              "total_non_null_rows": 1000,
              "total_rows_inc_nulls": 1000,
              "value_count": 2
             },
             {
              "percentile_ex_nulls": 0,
              "percentile_inc_nulls": 0,
              "proportion_of_non_null_rows": 0.377,
              "sum_tokens_in_value_count_group": 377,
              "total_non_null_rows": 1000,
              "total_rows_inc_nulls": 1000,
              "value_count": 1
             }
            ]
           },
           "encoding": {
            "tooltip": [
             {
              "field": "value_count",
              "type": "quantitative"
             },
             {
              "field": "percentile_ex_nulls",
              "type": "quantitative"
             },
             {
              "field": "percentile_inc_nulls",
              "type": "quantitative"
             },
             {
              "field": "total_non_null_rows",
              "type": "quantitative"
             },
             {
              "field": "total_rows_inc_nulls",
              "type": "quantitative"
             },
             {
              "field": "proportion_of_non_null_rows",
              "type": "quantitative"
             }
            ],
            "x": {
             "field": "percentile_ex_nulls",
             "sort": "descending",
             "title": "Percentile",
             "type": "quantitative"
            },
            "y": {
             "field": "value_count",
             "title": "Count of values",
             "type": "quantitative"
            }
           },
           "mark": {
            "interpolate": "step-after",
            "type": "line"
           },
           "title": {
            "subtitle": "Of the 1000 rows in the df, 1000 (0.0%) are null for this column",
            "text": "Distribution of counts of values in column dob"
           }
          },
          {
           "data": {
            "values": [
             {
              "total_non_null_rows": 1000,
              "total_rows_inc_nulls": 1000,
              "value": "2008-02-23",
              "value_count": 6
             },
             {
              "total_non_null_rows": 1000,
              "total_rows_inc_nulls": 1000,
              "value": "1972-06-12",
              "value_count": 6
             },
             {
              "total_non_null_rows": 1000,
              "total_rows_inc_nulls": 1000,
              "value": "2011-05-26",
              "value_count": 6
             },
             {
              "total_non_null_rows": 1000,
              "total_rows_inc_nulls": 1000,
              "value": "1973-03-23",
              "value_count": 6
             },
             {
              "total_non_null_rows": 1000,
              "total_rows_inc_nulls": 1000,
              "value": "2002-09-15",
              "value_count": 6
             },
             {
              "total_non_null_rows": 1000,
              "total_rows_inc_nulls": 1000,
              "value": "1990-03-08",
              "value_count": 6
             },
             {
              "total_non_null_rows": 1000,
              "total_rows_inc_nulls": 1000,
              "value": "2006-12-21",
              "value_count": 6
             },
             {
              "total_non_null_rows": 1000,
              "total_rows_inc_nulls": 1000,
              "value": "1983-11-06",
              "value_count": 6
             },
             {
              "total_non_null_rows": 1000,
              "total_rows_inc_nulls": 1000,
              "value": "1995-06-21",
              "value_count": 6
             },
             {
              "total_non_null_rows": 1000,
              "total_rows_inc_nulls": 1000,
              "value": "2000-04-03",
              "value_count": 6
             },
             {
              "total_non_null_rows": 1000,
              "total_rows_inc_nulls": 1000,
              "value": "2017-01-11",
              "value_count": 6
             },
             {
              "total_non_null_rows": 1000,
              "total_rows_inc_nulls": 1000,
              "value": "2010-06-22",
              "value_count": 6
             },
             {
              "total_non_null_rows": 1000,
              "total_rows_inc_nulls": 1000,
              "value": "1991-04-12",
              "value_count": 6
             },
             {
              "total_non_null_rows": 1000,
              "total_rows_inc_nulls": 1000,
              "value": "1973-09-29",
              "value_count": 6
             },
             {
              "total_non_null_rows": 1000,
              "total_rows_inc_nulls": 1000,
              "value": "2009-07-06",
              "value_count": 6
             },
             {
              "total_non_null_rows": 1000,
              "total_rows_inc_nulls": 1000,
              "value": "1980-06-29",
              "value_count": 5
             },
             {
              "total_non_null_rows": 1000,
              "total_rows_inc_nulls": 1000,
              "value": "1974-11-17",
              "value_count": 5
             },
             {
              "total_non_null_rows": 1000,
              "total_rows_inc_nulls": 1000,
              "value": "2013-10-15",
              "value_count": 5
             },
             {
              "total_non_null_rows": 1000,
              "total_rows_inc_nulls": 1000,
              "value": "1970-12-17",
              "value_count": 5
             },
             {
              "total_non_null_rows": 1000,
              "total_rows_inc_nulls": 1000,
              "value": "1983-03-16",
              "value_count": 5
             }
            ]
           },
           "encoding": {
            "tooltip": [
             {
              "field": "value",
              "type": "nominal"
             },
             {
              "field": "value_count",
              "type": "quantitative"
             },
             {
              "field": "total_non_null_rows",
              "type": "quantitative"
             },
             {
              "field": "total_rows_inc_nulls",
              "type": "quantitative"
             }
            ],
            "x": {
             "field": "value",
             "sort": "-y",
             "title": null,
             "type": "nominal"
            },
            "y": {
             "field": "value_count",
             "title": "Value count",
             "type": "quantitative"
            }
           },
           "mark": "bar",
           "title": "Top 20 values by value count"
          },
          {
           "data": {
            "values": [
             {
              "total_non_null_rows": 1000,
              "total_rows_inc_nulls": 1000,
              "value": "1981-10-11",
              "value_count": 1
             },
             {
              "total_non_null_rows": 1000,
              "total_rows_inc_nulls": 1000,
              "value": "1994-01-02",
              "value_count": 1
             },
             {
              "total_non_null_rows": 1000,
              "total_rows_inc_nulls": 1000,
              "value": "1991-04-05",
              "value_count": 1
             },
             {
              "total_non_null_rows": 1000,
              "total_rows_inc_nulls": 1000,
              "value": "1984-10-03",
              "value_count": 1
             },
             {
              "total_non_null_rows": 1000,
              "total_rows_inc_nulls": 1000,
              "value": "1978-09-18",
              "value_count": 1
             },
             {
              "total_non_null_rows": 1000,
              "total_rows_inc_nulls": 1000,
              "value": "2010-01-02",
              "value_count": 1
             },
             {
              "total_non_null_rows": 1000,
              "total_rows_inc_nulls": 1000,
              "value": "1978-04-01",
              "value_count": 1
             },
             {
              "total_non_null_rows": 1000,
              "total_rows_inc_nulls": 1000,
              "value": "1988-05-27",
              "value_count": 1
             },
             {
              "total_non_null_rows": 1000,
              "total_rows_inc_nulls": 1000,
              "value": "1973-10-27",
              "value_count": 1
             },
             {
              "total_non_null_rows": 1000,
              "total_rows_inc_nulls": 1000,
              "value": "1990-03-07",
              "value_count": 1
             }
            ]
           },
           "encoding": {
            "tooltip": [
             {
              "field": "value",
              "type": "nominal"
             },
             {
              "field": "value_count",
              "type": "quantitative"
             },
             {
              "field": "total_non_null_rows",
              "type": "quantitative"
             },
             {
              "field": "total_rows_inc_nulls",
              "type": "quantitative"
             }
            ],
            "x": {
             "field": "value",
             "sort": "-y",
             "title": null,
             "type": "nominal"
            },
            "y": {
             "field": "value_count",
             "scale": {
              "domain": [
               0,
               6
              ]
             },
             "title": "Value count",
             "type": "quantitative"
            }
           },
           "mark": "bar",
           "title": "Bottom 10 values by value count"
          }
         ]
        },
        {
         "hconcat": [
          {
           "data": {
            "values": [
             {
              "group_name": "surname",
              "percentile_ex_nulls": 1,
              "percentile_inc_nulls": 1,
              "sum_tokens_in_value_count_group": 23,
              "total_non_null_rows": 819,
              "total_rows_inc_nulls": 1000,
              "value_count": 23
             },
             {
              "percentile_ex_nulls": 0.9719169719169719,
              "percentile_inc_nulls": 0.977,
              "proportion_of_non_null_rows": 0.028083028083028084,
              "sum_tokens_in_value_count_group": 23,
              "total_non_null_rows": 819,
              "total_rows_inc_nulls": 1000,
              "value_count": 23
             },
             {
              "percentile_ex_nulls": 0.9377289377289377,
              "percentile_inc_nulls": 0.949,
              "proportion_of_non_null_rows": 0.03418803418803419,
              "sum_tokens_in_value_count_group": 28,
              "total_non_null_rows": 819,
              "total_rows_inc_nulls": 1000,
              "value_count": 14
             },
             {
              "percentile_ex_nulls": 0.905982905982906,
              "percentile_inc_nulls": 0.923,
              "proportion_of_non_null_rows": 0.031746031746031744,
              "sum_tokens_in_value_count_group": 26,
              "total_non_null_rows": 819,
              "total_rows_inc_nulls": 1000,
              "value_count": 13
             },
             {
              "percentile_ex_nulls": 0.8913308913308913,
              "percentile_inc_nulls": 0.911,
              "proportion_of_non_null_rows": 0.014652014652014652,
              "sum_tokens_in_value_count_group": 12,
              "total_non_null_rows": 819,
              "total_rows_inc_nulls": 1000,
              "value_count": 12
             },
             {
              "percentile_ex_nulls": 0.8778998778998779,
              "percentile_inc_nulls": 0.9,
              "proportion_of_non_null_rows": 0.013431013431013432,
              "sum_tokens_in_value_count_group": 11,
              "total_non_null_rows": 819,
              "total_rows_inc_nulls": 1000,
              "value_count": 11
             },
             {
              "percentile_ex_nulls": 0.8534798534798534,
              "percentile_inc_nulls": 0.88,
              "proportion_of_non_null_rows": 0.02442002442002442,
              "sum_tokens_in_value_count_group": 20,
              "total_non_null_rows": 819,
              "total_rows_inc_nulls": 1000,
              "value_count": 10
             },
             {
              "percentile_ex_nulls": 0.8315018315018314,
              "percentile_inc_nulls": 0.862,
              "proportion_of_non_null_rows": 0.02197802197802198,
              "sum_tokens_in_value_count_group": 18,
              "total_non_null_rows": 819,
              "total_rows_inc_nulls": 1000,
              "value_count": 9
             },
             {
              "percentile_ex_nulls": 0.7728937728937729,
              "percentile_inc_nulls": 0.8140000000000001,
              "proportion_of_non_null_rows": 0.05860805860805861,
              "sum_tokens_in_value_count_group": 48,
              "total_non_null_rows": 819,
              "total_rows_inc_nulls": 1000,
              "value_count": 8
             },
             {
              "percentile_ex_nulls": 0.7216117216117216,
              "percentile_inc_nulls": 0.772,
              "proportion_of_non_null_rows": 0.05128205128205128,
              "sum_tokens_in_value_count_group": 42,
              "total_non_null_rows": 819,
              "total_rows_inc_nulls": 1000,
              "value_count": 7
             },
             {
              "percentile_ex_nulls": 0.663003663003663,
              "percentile_inc_nulls": 0.724,
              "proportion_of_non_null_rows": 0.05860805860805861,
              "sum_tokens_in_value_count_group": 48,
              "total_non_null_rows": 819,
              "total_rows_inc_nulls": 1000,
              "value_count": 6
             },
             {
              "percentile_ex_nulls": 0.6080586080586081,
              "percentile_inc_nulls": 0.679,
              "proportion_of_non_null_rows": 0.054945054945054944,
              "sum_tokens_in_value_count_group": 45,
              "total_non_null_rows": 819,
              "total_rows_inc_nulls": 1000,
              "value_count": 5
             },
             {
              "percentile_ex_nulls": 0.5054945054945055,
              "percentile_inc_nulls": 0.595,
              "proportion_of_non_null_rows": 0.10256410256410256,
              "sum_tokens_in_value_count_group": 84,
              "total_non_null_rows": 819,
              "total_rows_inc_nulls": 1000,
              "value_count": 4
             },
             {
              "percentile_ex_nulls": 0.39560439560439564,
              "percentile_inc_nulls": 0.505,
              "proportion_of_non_null_rows": 0.10989010989010989,
              "sum_tokens_in_value_count_group": 90,
              "total_non_null_rows": 819,
              "total_rows_inc_nulls": 1000,
              "value_count": 3
             },
             {
              "percentile_ex_nulls": 0.28815628815628813,
              "percentile_inc_nulls": 0.41700000000000004,
              "proportion_of_non_null_rows": 0.10744810744810745,
              "sum_tokens_in_value_count_group": 88,
              "total_non_null_rows": 819,
              "total_rows_inc_nulls": 1000,
              "value_count": 2
             },
             {
              "percentile_ex_nulls": 0,
              "percentile_inc_nulls": 0.18100000000000005,
              "proportion_of_non_null_rows": 0.28815628815628813,
              "sum_tokens_in_value_count_group": 236,
              "total_non_null_rows": 819,
              "total_rows_inc_nulls": 1000,
              "value_count": 1
             }
            ]
           },
           "encoding": {
            "tooltip": [
             {
              "field": "value_count",
              "type": "quantitative"
             },
             {
              "field": "percentile_ex_nulls",
              "type": "quantitative"
             },
             {
              "field": "percentile_inc_nulls",
              "type": "quantitative"
             },
             {
              "field": "total_non_null_rows",
              "type": "quantitative"
             },
             {
              "field": "total_rows_inc_nulls",
              "type": "quantitative"
             },
             {
              "field": "proportion_of_non_null_rows",
              "type": "quantitative"
             }
            ],
            "x": {
             "field": "percentile_ex_nulls",
             "sort": "descending",
             "title": "Percentile",
             "type": "quantitative"
            },
            "y": {
             "field": "value_count",
             "title": "Count of values",
             "type": "quantitative"
            }
           },
           "mark": {
            "interpolate": "step-after",
            "type": "line"
           },
           "title": {
            "subtitle": "Of the 1000 rows in the df, 819 (18.1%) are null for this column",
            "text": "Distribution of counts of values in column surname"
           }
          },
          {
           "data": {
            "values": [
             {
              "total_non_null_rows": 819,
              "total_rows_inc_nulls": 1000,
              "value": "Jones",
              "value_count": 23
             },
             {
              "total_non_null_rows": 819,
              "total_rows_inc_nulls": 1000,
              "value": "Davies",
              "value_count": 14
             },
             {
              "total_non_null_rows": 819,
              "total_rows_inc_nulls": 1000,
              "value": "Taylor",
              "value_count": 14
             },
             {
              "total_non_null_rows": 819,
              "total_rows_inc_nulls": 1000,
              "value": "Campbell",
              "value_count": 13
             },
             {
              "total_non_null_rows": 819,
              "total_rows_inc_nulls": 1000,
              "value": "Hall",
              "value_count": 13
             },
             {
              "total_non_null_rows": 819,
              "total_rows_inc_nulls": 1000,
              "value": "Morgan",
              "value_count": 12
             },
             {
              "total_non_null_rows": 819,
              "total_rows_inc_nulls": 1000,
              "value": "Smith",
              "value_count": 11
             },
             {
              "total_non_null_rows": 819,
              "total_rows_inc_nulls": 1000,
              "value": "King",
              "value_count": 10
             },
             {
              "total_non_null_rows": 819,
              "total_rows_inc_nulls": 1000,
              "value": "Russell",
              "value_count": 10
             },
             {
              "total_non_null_rows": 819,
              "total_rows_inc_nulls": 1000,
              "value": "Dixon",
              "value_count": 9
             },
             {
              "total_non_null_rows": 819,
              "total_rows_inc_nulls": 1000,
              "value": "Wright",
              "value_count": 9
             },
             {
              "total_non_null_rows": 819,
              "total_rows_inc_nulls": 1000,
              "value": "Kaur",
              "value_count": 8
             },
             {
              "total_non_null_rows": 819,
              "total_rows_inc_nulls": 1000,
              "value": "Lee",
              "value_count": 8
             },
             {
              "total_non_null_rows": 819,
              "total_rows_inc_nulls": 1000,
              "value": "May",
              "value_count": 8
             },
             {
              "total_non_null_rows": 819,
              "total_rows_inc_nulls": 1000,
              "value": "Williams",
              "value_count": 8
             },
             {
              "total_non_null_rows": 819,
              "total_rows_inc_nulls": 1000,
              "value": "Fox",
              "value_count": 8
             },
             {
              "total_non_null_rows": 819,
              "total_rows_inc_nulls": 1000,
              "value": "Edwards",
              "value_count": 8
             },
             {
              "total_non_null_rows": 819,
              "total_rows_inc_nulls": 1000,
              "value": "Brown",
              "value_count": 7
             },
             {
              "total_non_null_rows": 819,
              "total_rows_inc_nulls": 1000,
              "value": "Atkinson",
              "value_count": 7
             },
             {
              "total_non_null_rows": 819,
              "total_rows_inc_nulls": 1000,
              "value": "Hughes",
              "value_count": 7
             }
            ]
           },
           "encoding": {
            "tooltip": [
             {
              "field": "value",
              "type": "nominal"
             },
             {
              "field": "value_count",
              "type": "quantitative"
             },
             {
              "field": "total_non_null_rows",
              "type": "quantitative"
             },
             {
              "field": "total_rows_inc_nulls",
              "type": "quantitative"
             }
            ],
            "x": {
             "field": "value",
             "sort": "-y",
             "title": null,
             "type": "nominal"
            },
            "y": {
             "field": "value_count",
             "title": "Value count",
             "type": "quantitative"
            }
           },
           "mark": "bar",
           "title": "Top 20 values by value count"
          },
          {
           "data": {
            "values": [
             {
              "total_non_null_rows": 819,
              "total_rows_inc_nulls": 1000,
              "value": "pMurphy",
              "value_count": 1
             },
             {
              "total_non_null_rows": 819,
              "total_rows_inc_nulls": 1000,
              "value": "Bailey",
              "value_count": 1
             },
             {
              "total_non_null_rows": 819,
              "total_rows_inc_nulls": 1000,
              "value": "Gorodon",
              "value_count": 1
             },
             {
              "total_non_null_rows": 819,
              "total_rows_inc_nulls": 1000,
              "value": "Eavns",
              "value_count": 1
             },
             {
              "total_non_null_rows": 819,
              "total_rows_inc_nulls": 1000,
              "value": "Writhg",
              "value_count": 1
             },
             {
              "total_non_null_rows": 819,
              "total_rows_inc_nulls": 1000,
              "value": "Pcire",
              "value_count": 1
             },
             {
              "total_non_null_rows": 819,
              "total_rows_inc_nulls": 1000,
              "value": "hhS",
              "value_count": 1
             },
             {
              "total_non_null_rows": 819,
              "total_rows_inc_nulls": 1000,
              "value": "Breyr",
              "value_count": 1
             },
             {
              "total_non_null_rows": 819,
              "total_rows_inc_nulls": 1000,
              "value": "Hguehes",
              "value_count": 1
             },
             {
              "total_non_null_rows": 819,
              "total_rows_inc_nulls": 1000,
              "value": "Parker",
              "value_count": 1
             }
            ]
           },
           "encoding": {
            "tooltip": [
             {
              "field": "value",
              "type": "nominal"
             },
             {
              "field": "value_count",
              "type": "quantitative"
             },
             {
              "field": "total_non_null_rows",
              "type": "quantitative"
             },
             {
              "field": "total_rows_inc_nulls",
              "type": "quantitative"
             }
            ],
            "x": {
             "field": "value",
             "sort": "-y",
             "title": null,
             "type": "nominal"
            },
            "y": {
             "field": "value_count",
             "scale": {
              "domain": [
               0,
               23
              ]
             },
             "title": "Value count",
             "type": "quantitative"
            }
           },
           "mark": "bar",
           "title": "Bottom 10 values by value count"
          }
         ]
        },
        {
         "hconcat": [
          {
           "data": {
            "values": [
             {
              "group_name": "city",
              "percentile_ex_nulls": 1,
              "percentile_inc_nulls": 1,
              "sum_tokens_in_value_count_group": 173,
              "total_non_null_rows": 813,
              "total_rows_inc_nulls": 1000,
              "value_count": 173
             },
             {
              "percentile_ex_nulls": 0.7872078720787208,
              "percentile_inc_nulls": 0.827,
              "proportion_of_non_null_rows": 0.21279212792127922,
              "sum_tokens_in_value_count_group": 173,
              "total_non_null_rows": 813,
              "total_rows_inc_nulls": 1000,
              "value_count": 173
             },
             {
              "percentile_ex_nulls": 0.7380073800738007,
              "percentile_inc_nulls": 0.787,
              "proportion_of_non_null_rows": 0.04920049200492005,
              "sum_tokens_in_value_count_group": 40,
              "total_non_null_rows": 813,
              "total_rows_inc_nulls": 1000,
              "value_count": 40
             },
             {
              "percentile_ex_nulls": 0.6974169741697417,
              "percentile_inc_nulls": 0.754,
              "proportion_of_non_null_rows": 0.04059040590405904,
              "sum_tokens_in_value_count_group": 33,
              "total_non_null_rows": 813,
              "total_rows_inc_nulls": 1000,
              "value_count": 33
             },
             {
              "percentile_ex_nulls": 0.6715867158671587,
              "percentile_inc_nulls": 0.733,
              "proportion_of_non_null_rows": 0.025830258302583026,
              "sum_tokens_in_value_count_group": 21,
              "total_non_null_rows": 813,
              "total_rows_inc_nulls": 1000,
              "value_count": 21
             },
             {
              "percentile_ex_nulls": 0.6494464944649446,
              "percentile_inc_nulls": 0.7150000000000001,
              "proportion_of_non_null_rows": 0.02214022140221402,
              "sum_tokens_in_value_count_group": 18,
              "total_non_null_rows": 813,
              "total_rows_inc_nulls": 1000,
              "value_count": 18
             },
             {
              "percentile_ex_nulls": 0.6076260762607626,
              "percentile_inc_nulls": 0.681,
              "proportion_of_non_null_rows": 0.041820418204182044,
              "sum_tokens_in_value_count_group": 34,
              "total_non_null_rows": 813,
              "total_rows_inc_nulls": 1000,
              "value_count": 17
             },
             {
              "percentile_ex_nulls": 0.5682656826568266,
              "percentile_inc_nulls": 0.649,
              "proportion_of_non_null_rows": 0.03936039360393604,
              "sum_tokens_in_value_count_group": 32,
              "total_non_null_rows": 813,
              "total_rows_inc_nulls": 1000,
              "value_count": 16
             },
             {
              "percentile_ex_nulls": 0.5166051660516605,
              "percentile_inc_nulls": 0.607,
              "proportion_of_non_null_rows": 0.05166051660516605,
              "sum_tokens_in_value_count_group": 42,
              "total_non_null_rows": 813,
              "total_rows_inc_nulls": 1000,
              "value_count": 14
             },
             {
              "percentile_ex_nulls": 0.48462484624846247,
              "percentile_inc_nulls": 0.581,
              "proportion_of_non_null_rows": 0.03198031980319803,
              "sum_tokens_in_value_count_group": 26,
              "total_non_null_rows": 813,
              "total_rows_inc_nulls": 1000,
              "value_count": 13
             },
             {
              "percentile_ex_nulls": 0.44034440344403447,
              "percentile_inc_nulls": 0.5449999999999999,
              "proportion_of_non_null_rows": 0.04428044280442804,
              "sum_tokens_in_value_count_group": 36,
              "total_non_null_rows": 813,
              "total_rows_inc_nulls": 1000,
              "value_count": 12
             },
             {
              "percentile_ex_nulls": 0.41574415744157445,
              "percentile_inc_nulls": 0.525,
              "proportion_of_non_null_rows": 0.024600246002460024,
              "sum_tokens_in_value_count_group": 20,
              "total_non_null_rows": 813,
              "total_rows_inc_nulls": 1000,
              "value_count": 10
             },
             {
              "percentile_ex_nulls": 0.3936039360393604,
              "percentile_inc_nulls": 0.507,
              "proportion_of_non_null_rows": 0.02214022140221402,
              "sum_tokens_in_value_count_group": 18,
              "total_non_null_rows": 813,
              "total_rows_inc_nulls": 1000,
              "value_count": 9
             },
             {
              "percentile_ex_nulls": 0.3640836408364083,
              "percentile_inc_nulls": 0.483,
              "proportion_of_non_null_rows": 0.02952029520295203,
              "sum_tokens_in_value_count_group": 24,
              "total_non_null_rows": 813,
              "total_rows_inc_nulls": 1000,
              "value_count": 8
             },
             {
              "percentile_ex_nulls": 0.3124231242312423,
              "percentile_inc_nulls": 0.44099999999999995,
              "proportion_of_non_null_rows": 0.05166051660516605,
              "sum_tokens_in_value_count_group": 42,
              "total_non_null_rows": 813,
              "total_rows_inc_nulls": 1000,
              "value_count": 7
             },
             {
              "percentile_ex_nulls": 0.28290282902829034,
              "percentile_inc_nulls": 0.41700000000000004,
              "proportion_of_non_null_rows": 0.02952029520295203,
              "sum_tokens_in_value_count_group": 24,
              "total_non_null_rows": 813,
              "total_rows_inc_nulls": 1000,
              "value_count": 6
             },
             {
              "percentile_ex_nulls": 0.2583025830258303,
              "percentile_inc_nulls": 0.397,
              "proportion_of_non_null_rows": 0.024600246002460024,
              "sum_tokens_in_value_count_group": 20,
              "total_non_null_rows": 813,
              "total_rows_inc_nulls": 1000,
              "value_count": 5
             },
             {
              "percentile_ex_nulls": 0.24354243542435428,
              "percentile_inc_nulls": 0.385,
              "proportion_of_non_null_rows": 0.014760147601476014,
              "sum_tokens_in_value_count_group": 12,
              "total_non_null_rows": 813,
              "total_rows_inc_nulls": 1000,
              "value_count": 4
             },
             {
              "percentile_ex_nulls": 0.22878228782287824,
              "percentile_inc_nulls": 0.373,
              "proportion_of_non_null_rows": 0.014760147601476014,
              "sum_tokens_in_value_count_group": 12,
              "total_non_null_rows": 813,
              "total_rows_inc_nulls": 1000,
              "value_count": 3
             },
             {
              "percentile_ex_nulls": 0.1968019680196802,
              "percentile_inc_nulls": 0.347,
              "proportion_of_non_null_rows": 0.03198031980319803,
              "sum_tokens_in_value_count_group": 26,
              "total_non_null_rows": 813,
              "total_rows_inc_nulls": 1000,
              "value_count": 2
             },
             {
              "percentile_ex_nulls": 0,
              "percentile_inc_nulls": 0.18700000000000006,
              "proportion_of_non_null_rows": 0.1968019680196802,
              "sum_tokens_in_value_count_group": 160,
              "total_non_null_rows": 813,
              "total_rows_inc_nulls": 1000,
              "value_count": 1
             }
            ]
           },
           "encoding": {
            "tooltip": [
             {
              "field": "value_count",
              "type": "quantitative"
             },
             {
              "field": "percentile_ex_nulls",
              "type": "quantitative"
             },
             {
              "field": "percentile_inc_nulls",
              "type": "quantitative"
             },
             {
              "field": "total_non_null_rows",
              "type": "quantitative"
             },
             {
              "field": "total_rows_inc_nulls",
              "type": "quantitative"
             },
             {
              "field": "proportion_of_non_null_rows",
              "type": "quantitative"
             }
            ],
            "x": {
             "field": "percentile_ex_nulls",
             "sort": "descending",
             "title": "Percentile",
             "type": "quantitative"
            },
            "y": {
             "field": "value_count",
             "title": "Count of values",
             "type": "quantitative"
            }
           },
           "mark": {
            "interpolate": "step-after",
            "type": "line"
           },
           "title": {
            "subtitle": "Of the 1000 rows in the df, 813 (18.7%) are null for this column",
            "text": "Distribution of counts of values in column city"
           }
          },
          {
           "data": {
            "values": [
             {
              "total_non_null_rows": 813,
              "total_rows_inc_nulls": 1000,
              "value": "London",
              "value_count": 173
             },
             {
              "total_non_null_rows": 813,
              "total_rows_inc_nulls": 1000,
              "value": "Birmingham",
              "value_count": 40
             },
             {
              "total_non_null_rows": 813,
              "total_rows_inc_nulls": 1000,
              "value": "Liverpool",
              "value_count": 33
             },
             {
              "total_non_null_rows": 813,
              "total_rows_inc_nulls": 1000,
              "value": "Coventry",
              "value_count": 21
             },
             {
              "total_non_null_rows": 813,
              "total_rows_inc_nulls": 1000,
              "value": "Newcastle-upon-Tyne",
              "value_count": 18
             },
             {
              "total_non_null_rows": 813,
              "total_rows_inc_nulls": 1000,
              "value": "Leeds",
              "value_count": 17
             },
             {
              "total_non_null_rows": 813,
              "total_rows_inc_nulls": 1000,
              "value": "Manchester",
              "value_count": 17
             },
             {
              "total_non_null_rows": 813,
              "total_rows_inc_nulls": 1000,
              "value": "Bristol",
              "value_count": 16
             },
             {
              "total_non_null_rows": 813,
              "total_rows_inc_nulls": 1000,
              "value": "Aberdeen",
              "value_count": 16
             },
             {
              "total_non_null_rows": 813,
              "total_rows_inc_nulls": 1000,
              "value": "Southend-on-Sea",
              "value_count": 14
             },
             {
              "total_non_null_rows": 813,
              "total_rows_inc_nulls": 1000,
              "value": "Salford",
              "value_count": 14
             },
             {
              "total_non_null_rows": 813,
              "total_rows_inc_nulls": 1000,
              "value": "Portsmouth",
              "value_count": 14
             },
             {
              "total_non_null_rows": 813,
              "total_rows_inc_nulls": 1000,
              "value": "Swansea",
              "value_count": 13
             },
             {
              "total_non_null_rows": 813,
              "total_rows_inc_nulls": 1000,
              "value": "Kingston-upon-Hull",
              "value_count": 13
             },
             {
              "total_non_null_rows": 813,
              "total_rows_inc_nulls": 1000,
              "value": "Reading",
              "value_count": 12
             },
             {
              "total_non_null_rows": 813,
              "total_rows_inc_nulls": 1000,
              "value": "Cardiff",
              "value_count": 12
             },
             {
              "total_non_null_rows": 813,
              "total_rows_inc_nulls": 1000,
              "value": "Plymouth",
              "value_count": 12
             },
             {
              "total_non_null_rows": 813,
              "total_rows_inc_nulls": 1000,
              "value": "Swindon",
              "value_count": 10
             },
             {
              "total_non_null_rows": 813,
              "total_rows_inc_nulls": 1000,
              "value": "Huddersfield",
              "value_count": 10
             },
             {
              "total_non_null_rows": 813,
              "total_rows_inc_nulls": 1000,
              "value": "Bradford",
              "value_count": 9
             }
            ]
           },
           "encoding": {
            "tooltip": [
             {
              "field": "value",
              "type": "nominal"
             },
             {
              "field": "value_count",
              "type": "quantitative"
             },
             {
              "field": "total_non_null_rows",
              "type": "quantitative"
             },
             {
              "field": "total_rows_inc_nulls",
              "type": "quantitative"
             }
            ],
            "x": {
             "field": "value",
             "sort": "-y",
             "title": null,
             "type": "nominal"
            },
            "y": {
             "field": "value_count",
             "title": "Value count",
             "type": "quantitative"
            }
           },
           "mark": "bar",
           "title": "Top 20 values by value count"
          },
          {
           "data": {
            "values": [
             {
              "total_non_null_rows": 813,
              "total_rows_inc_nulls": 1000,
              "value": "Pootsmruth",
              "value_count": 1
             },
             {
              "total_non_null_rows": 813,
              "total_rows_inc_nulls": 1000,
              "value": "Anberden",
              "value_count": 1
             },
             {
              "total_non_null_rows": 813,
              "total_rows_inc_nulls": 1000,
              "value": "Lunton",
              "value_count": 1
             },
             {
              "total_non_null_rows": 813,
              "total_rows_inc_nulls": 1000,
              "value": "Snawseaa",
              "value_count": 1
             },
             {
              "total_non_null_rows": 813,
              "total_rows_inc_nulls": 1000,
              "value": "Brritsol",
              "value_count": 1
             },
             {
              "total_non_null_rows": 813,
              "total_rows_inc_nulls": 1000,
              "value": "fTelford",
              "value_count": 1
             },
             {
              "total_non_null_rows": 813,
              "total_rows_inc_nulls": 1000,
              "value": "LondoLn",
              "value_count": 1
             },
             {
              "total_non_null_rows": 813,
              "total_rows_inc_nulls": 1000,
              "value": "LeicestLe",
              "value_count": 1
             },
             {
              "total_non_null_rows": 813,
              "total_rows_inc_nulls": 1000,
              "value": "Loonon",
              "value_count": 1
             },
             {
              "total_non_null_rows": 813,
              "total_rows_inc_nulls": 1000,
              "value": "Petberborough",
              "value_count": 1
             }
            ]
           },
           "encoding": {
            "tooltip": [
             {
              "field": "value",
              "type": "nominal"
             },
             {
              "field": "value_count",
              "type": "quantitative"
             },
             {
              "field": "total_non_null_rows",
              "type": "quantitative"
             },
             {
              "field": "total_rows_inc_nulls",
              "type": "quantitative"
             }
            ],
            "x": {
             "field": "value",
             "sort": "-y",
             "title": null,
             "type": "nominal"
            },
            "y": {
             "field": "value_count",
             "scale": {
              "domain": [
               0,
               173
              ]
             },
             "title": "Value count",
             "type": "quantitative"
            }
           },
           "mark": "bar",
           "title": "Bottom 10 values by value count"
          }
         ]
        },
        {
         "hconcat": [
          {
           "data": {
            "values": [
             {
              "group_name": "email",
              "percentile_ex_nulls": 1,
              "percentile_inc_nulls": 1,
              "sum_tokens_in_value_count_group": 30,
              "total_non_null_rows": 789,
              "total_rows_inc_nulls": 1000,
              "value_count": 6
             },
             {
              "percentile_ex_nulls": 0.9619771863117871,
              "percentile_inc_nulls": 0.97,
              "proportion_of_non_null_rows": 0.03802281368821293,
              "sum_tokens_in_value_count_group": 30,
              "total_non_null_rows": 789,
              "total_rows_inc_nulls": 1000,
              "value_count": 6
             },
             {
              "percentile_ex_nulls": 0.8479087452471483,
              "percentile_inc_nulls": 0.88,
              "proportion_of_non_null_rows": 0.11406844106463879,
              "sum_tokens_in_value_count_group": 90,
              "total_non_null_rows": 789,
              "total_rows_inc_nulls": 1000,
              "value_count": 5
             },
             {
              "percentile_ex_nulls": 0.6653992395437263,
              "percentile_inc_nulls": 0.736,
              "proportion_of_non_null_rows": 0.18250950570342206,
              "sum_tokens_in_value_count_group": 144,
              "total_non_null_rows": 789,
              "total_rows_inc_nulls": 1000,
              "value_count": 4
             },
             {
              "percentile_ex_nulls": 0.47148288973384034,
              "percentile_inc_nulls": 0.583,
              "proportion_of_non_null_rows": 0.19391634980988592,
              "sum_tokens_in_value_count_group": 153,
              "total_non_null_rows": 789,
              "total_rows_inc_nulls": 1000,
              "value_count": 3
             },
             {
              "percentile_ex_nulls": 0.32446134347275035,
              "percentile_inc_nulls": 0.46699999999999997,
              "proportion_of_non_null_rows": 0.14702154626108999,
              "sum_tokens_in_value_count_group": 116,
              "total_non_null_rows": 789,
              "total_rows_inc_nulls": 1000,
              "value_count": 2
             },
             {
              "percentile_ex_nulls": 0,
              "percentile_inc_nulls": 0.21099999999999997,
              "proportion_of_non_null_rows": 0.3244613434727503,
              "sum_tokens_in_value_count_group": 256,
              "total_non_null_rows": 789,
              "total_rows_inc_nulls": 1000,
              "value_count": 1
             }
            ]
           },
           "encoding": {
            "tooltip": [
             {
              "field": "value_count",
              "type": "quantitative"
             },
             {
              "field": "percentile_ex_nulls",
              "type": "quantitative"
             },
             {
              "field": "percentile_inc_nulls",
              "type": "quantitative"
             },
             {
              "field": "total_non_null_rows",
              "type": "quantitative"
             },
             {
              "field": "total_rows_inc_nulls",
              "type": "quantitative"
             },
             {
              "field": "proportion_of_non_null_rows",
              "type": "quantitative"
             }
            ],
            "x": {
             "field": "percentile_ex_nulls",
             "sort": "descending",
             "title": "Percentile",
             "type": "quantitative"
            },
            "y": {
             "field": "value_count",
             "title": "Count of values",
             "type": "quantitative"
            }
           },
           "mark": {
            "interpolate": "step-after",
            "type": "line"
           },
           "title": {
            "subtitle": "Of the 1000 rows in the df, 789 (21.1%) are null for this column",
            "text": "Distribution of counts of values in column email"
           }
          },
          {
           "data": {
            "values": [
             {
              "total_non_null_rows": 789,
              "total_rows_inc_nulls": 1000,
              "value": "omoore64@randall.com",
              "value_count": 6
             },
             {
              "total_non_null_rows": 789,
              "total_rows_inc_nulls": 1000,
              "value": "j.williams@levine-johnson.com",
              "value_count": 6
             },
             {
              "total_non_null_rows": 789,
              "total_rows_inc_nulls": 1000,
              "value": "fb@nelson.com",
              "value_count": 6
             },
             {
              "total_non_null_rows": 789,
              "total_rows_inc_nulls": 1000,
              "value": "jessica.miller@johnson.com",
              "value_count": 6
             },
             {
              "total_non_null_rows": 789,
              "total_rows_inc_nulls": 1000,
              "value": "iwilkinson@bush.com",
              "value_count": 6
             },
             {
              "total_non_null_rows": 789,
              "total_rows_inc_nulls": 1000,
              "value": "elizataylor@marshall.com",
              "value_count": 5
             },
             {
              "total_non_null_rows": 789,
              "total_rows_inc_nulls": 1000,
              "value": "r.cole1@ramirez-anthony.com",
              "value_count": 5
             },
             {
              "total_non_null_rows": 789,
              "total_rows_inc_nulls": 1000,
              "value": "dh@powell.net",
              "value_count": 5
             },
             {
              "total_non_null_rows": 789,
              "total_rows_inc_nulls": 1000,
              "value": "riley.k@zavala.com",
              "value_count": 5
             },
             {
              "total_non_null_rows": 789,
              "total_rows_inc_nulls": 1000,
              "value": "hollythomson3@levine-jones.com",
              "value_count": 5
             },
             {
              "total_non_null_rows": 789,
              "total_rows_inc_nulls": 1000,
              "value": "jacob.a83@clark.com",
              "value_count": 5
             },
             {
              "total_non_null_rows": 789,
              "total_rows_inc_nulls": 1000,
              "value": "e.b30@little.biz",
              "value_count": 5
             },
             {
              "total_non_null_rows": 789,
              "total_rows_inc_nulls": 1000,
              "value": "lrobinson@wolf.org",
              "value_count": 5
             },
             {
              "total_non_null_rows": 789,
              "total_rows_inc_nulls": 1000,
              "value": "ohughes@page-kim.info",
              "value_count": 5
             },
             {
              "total_non_null_rows": 789,
              "total_rows_inc_nulls": 1000,
              "value": "james.d@merritt-scott.com",
              "value_count": 5
             },
             {
              "total_non_null_rows": 789,
              "total_rows_inc_nulls": 1000,
              "value": "a.s@humphrey.com",
              "value_count": 5
             },
             {
              "total_non_null_rows": 789,
              "total_rows_inc_nulls": 1000,
              "value": "noahh78@diaz-clark.com",
              "value_count": 5
             },
             {
              "total_non_null_rows": 789,
              "total_rows_inc_nulls": 1000,
              "value": "lily.robinson73@peterson.biz",
              "value_count": 5
             },
             {
              "total_non_null_rows": 789,
              "total_rows_inc_nulls": 1000,
              "value": "l.armstrong@reyes-campbell.net",
              "value_count": 5
             },
             {
              "total_non_null_rows": 789,
              "total_rows_inc_nulls": 1000,
              "value": "leahrussell@charles.net",
              "value_count": 5
             }
            ]
           },
           "encoding": {
            "tooltip": [
             {
              "field": "value",
              "type": "nominal"
             },
             {
              "field": "value_count",
              "type": "quantitative"
             },
             {
              "field": "total_non_null_rows",
              "type": "quantitative"
             },
             {
              "field": "total_rows_inc_nulls",
              "type": "quantitative"
             }
            ],
            "x": {
             "field": "value",
             "sort": "-y",
             "title": null,
             "type": "nominal"
            },
            "y": {
             "field": "value_count",
             "title": "Value count",
             "type": "quantitative"
            }
           },
           "mark": "bar",
           "title": "Top 20 values by value count"
          },
          {
           "data": {
            "values": [
             {
              "total_non_null_rows": 789,
              "total_rows_inc_nulls": 1000,
              "value": "o.griffiths90@reyes-coleman.com",
              "value_count": 1
             },
             {
              "total_non_null_rows": 789,
              "total_rows_inc_nulls": 1000,
              "value": "j.lee86@ro6berson.com",
              "value_count": 1
             },
             {
              "total_non_null_rows": 789,
              "total_rows_inc_nulls": 1000,
              "value": "charlottej68@lee-taylor.org",
              "value_count": 1
             },
             {
              "total_non_null_rows": 789,
              "total_rows_inc_nulls": 1000,
              "value": "e.e@ay.cod",
              "value_count": 1
             },
             {
              "total_non_null_rows": 789,
              "total_rows_inc_nulls": 1000,
              "value": "dracdonald@rivers-glass.biz",
              "value_count": 1
             },
             {
              "total_non_null_rows": 789,
              "total_rows_inc_nulls": 1000,
              "value": "lucas.harrington@com",
              "value_count": 1
             },
             {
              "total_non_null_rows": 789,
              "total_rows_inc_nulls": 1000,
              "value": "l.feruson46@sahh.com",
              "value_count": 1
             },
             {
              "total_non_null_rows": 789,
              "total_rows_inc_nulls": 1000,
              "value": "hsimmons@roberts.com",
              "value_count": 1
             },
             {
              "total_non_null_rows": 789,
              "total_rows_inc_nulls": 1000,
              "value": "lbrooks9@omiller.org",
              "value_count": 1
             },
             {
              "total_non_null_rows": 789,
              "total_rows_inc_nulls": 1000,
              "value": "lolat86@bishop-giles.om",
              "value_count": 1
             }
            ]
           },
           "encoding": {
            "tooltip": [
             {
              "field": "value",
              "type": "nominal"
             },
             {
              "field": "value_count",
              "type": "quantitative"
             },
             {
              "field": "total_non_null_rows",
              "type": "quantitative"
             },
             {
              "field": "total_rows_inc_nulls",
              "type": "quantitative"
             }
            ],
            "x": {
             "field": "value",
             "sort": "-y",
             "title": null,
             "type": "nominal"
            },
            "y": {
             "field": "value_count",
             "scale": {
              "domain": [
               0,
               6
              ]
             },
             "title": "Value count",
             "type": "quantitative"
            }
           },
           "mark": "bar",
           "title": "Bottom 10 values by value count"
          }
         ]
        }
       ]
      },
      "image/png": "[encoded data removed]",
      "text/plain": [
       "<VegaLite 4 object>\n",
       "\n",
       "If you see this message, it means the renderer has not been properly enabled\n",
       "for the frontend that you are using. For more information, see\n",
       "https://altair-viz.github.io/user_guide/troubleshooting.html\n"
      ]
     },
     "execution_count": 6,
     "metadata": {},
     "output_type": "execute_result"
    }
   ],
   "source": [
    "import altair as alt\n",
    "alt.renderers.enable('mimetype')\n",
    "column_value_frequencies_chart(['first_name', \"surname\", \"dob\", \"city\", \"email\"], df, spark)"
   ]
  },
  {
   "cell_type": "markdown",
   "metadata": {},
   "source": [
    "In this step, with real world data, we would do quite a bit of data cleaning work to do things like standarise names (eg. making them all upper case, splitting out multiple names), cleaning up dates, etc.  Some useful functions are available in `[splink_data_standardisation](https://github.com/moj-analytical-services/splink_data_standardisation)`\n",
    "\n",
    "This will be different for every dataset, but the aim is to make it as easy as possible for Splink to spot similarities and difference between fields.\n",
    "\n",
    "Now that we understand the data, we are ready to start using Splink."
   ]
  },
  {
   "cell_type": "markdown",
   "metadata": {},
   "source": [
    "## Step 3: Decide on a blocking approach\n",
    "\n",
    "In most large datasets, it will be computationally intractable to compare every row with every other row.  We can use a technique called blocking to dramatically reduce the number of comparisons by comparing only records that adhere to certain rules, such as that the first name and date of birth must be equal .  Blocking is described further [here](https://toolkit.data.gov.au/Data_Linking_Information_Series_Sheet_4:_Probabilistic_linking.html).\n",
    "\n",
    "The above profling charts are useful to understand which blocking rules may be effective.  For example, we can see that that the forename 'George' is the most prevalant in the dataset, occurring 22 times.  If we block on forename, $\\frac{n\\left(n-1\\right)}2$ comparisons will be generated amongst Georges, with each instance being compared to each other.  This is probably viable in terms of the number of comparisons generated.  On the other hand, London appears over 250 times, and so blocking on city would generate a very large number of comparisons where both records had city = London.  \n",
    "\n",
    "Whilst blocking this is useful in reducing record comparisons, the problem is that its rare to find a blocking rule which eliminates enough record comparisons, and does not eliminate true matches (i.e. which has perfect recall).  \n",
    "\n",
    "The solution to this problem is generally to use several different blocking rules -s o for example, to generate record comparisons based on either the rule that first name must be equal, or that surname must be equal.  This means that the blocking approach will only eliminate true comparisons when both first and surname match, which will happen much less often than either one individually.\n",
    "\n",
    "Unfortuantely, it is theoretically invalid to estimate the Fellegi Sunter model on comparisons generated from multiple blocking rules, becauase it breaks the assumption of conditional independece.\n",
    "\n",
    "The recommended approach is to estimate different models, one for each blocking rule, and combine the results. \n",
    "\n",
    "We will demonstrate how to combined models in a separate notebook.  In this notebook we demonstrate how to run the model for a single rule"
   ]
  },
  {
   "cell_type": "markdown",
   "metadata": {},
   "source": [
    "## Step 4:  Configure splink using the `settings` object\n",
    "\n",
    "`splink` configuration options are stored in a settings dictionary.  This dictionary allows significant customisation, and can therefore get quite complex.  \n",
    "\n",
    "💥 We provide an tool for helping to author valid settings dictionaries, which includes tooltips and autocomplete, which you can find [here](http://robinlinacre.com/splink_settings_editor/).\n",
    "\n",
    "Customisation overrides default values built into splink.  For the purposes of this demo, we will specify a simple settings dictionary, which means we will be relying on these sensible defaults.\n",
    "\n",
    "To help with authoring and validation of the settings dictionary, we have written a [json schema](https://json-schema.org/), which can be found [here](https://github.com/moj-analytical-services/splink/blob/master/splink/files/settings_jsonschema.json).  \n",
    "\n",
    "\n"
   ]
  },
  {
   "cell_type": "code",
   "execution_count": 7,
   "metadata": {},
   "outputs": [],
   "source": [
    "settings = {\n",
    "    \"link_type\": \"dedupe_only\",\n",
    "    \"blocking_rules\": [\n",
    "        \"l.first_name = r.first_name\"\n",
    "    ],\n",
    "    \"comparison_columns\": [\n",
    "        {\n",
    "            \"col_name\": \"surname\",\n",
    "            \"num_levels\": 3,\n",
    "            \"term_frequency_adjustments\": True\n",
    "        },\n",
    "        {\n",
    "            \"col_name\": \"dob\"\n",
    "        },\n",
    "        {\n",
    "            \"col_name\": \"city\",\n",
    "            \"term_frequency_adjustments\": True\n",
    "        },\n",
    "        {\n",
    "            \"col_name\": \"email\"\n",
    "        }\n",
    "    ],\n",
    "    \"additional_columns_to_retain\": [\"group\"],\n",
    "    \"em_convergence\": 0.01\n",
    "}"
   ]
  },
  {
   "cell_type": "markdown",
   "metadata": {},
   "source": [
    "In words, this setting dictionary says:\n",
    "- We are performing a deduplication task (the other options are `link_only`, or `link_and_dedupe`)\n",
    "- We are going generate comparisons subject to the blocking rules contained in the specified array - in this case, only generate comparisons where the forename matches\n",
    "- When comparing records, we will use information from the `surname`, `dob`, `city` and `email` columns to compute a match score.\n",
    "- For `surname` string comparison will have three levels:\n",
    "    - Level 2: Strings are (almost) exactly the same\n",
    "    - Level 1: Strings are similar \n",
    "    - Level 0: No match\n",
    "- We will make adjustments for term frequencies on the `surname` columns\n",
    "- We will retain the `group` column in the results even though this is not used as part of comparisons.  This is a labelled dataset and `group` contains the true match - i.e. where group matches, the records pertain to the same person\n",
    "- Consider the algorithm to have converged when no parameter changes by more than 0.01 between iterations"
   ]
  },
  {
   "cell_type": "markdown",
   "metadata": {},
   "source": [
    "## Step 3:  Estimate u probabilities directly\n",
    "\n",
    "The u probabilities are the probabilities that fields will match given the records do not match.  So, for example, a 'month of birth' column would be expected to match around 1/12 of the time amongst non-matching records\n",
    "\n",
    "For many datasets, the probability that two records selected at random will match is almost zero.  A sample of such pairs of records should therefore almost exclusively contain non-matches.  \n",
    "\n",
    "We can therefore simply assume this dataset contains non-matches only, and directly estimate u probabilities.\n"
   ]
  },
  {
   "cell_type": "code",
   "execution_count": 8,
   "metadata": {},
   "outputs": [],
   "source": [
    "from splink.estimate import estimate_u_values\n",
    "settings_with_u = estimate_u_values(settings, df, spark, fix_u_probabilities=True)"
   ]
  },
  {
   "cell_type": "code",
   "execution_count": 9,
   "metadata": {},
   "outputs": [
    {
     "name": "stdout",
     "output_type": "stream",
     "text": [
      "{'additional_columns_to_retain': ['group'],\n",
      " 'blocking_rules': ['l.first_name = r.first_name'],\n",
      " 'comparison_columns': [{'col_name': 'surname',\n",
      "                         'fix_u_probabilities': True,\n",
      "                         'num_levels': 3,\n",
      "                         'term_frequency_adjustments': True,\n",
      "                         'u_probabilities': [0.9911783337593079,\n",
      "                                             0.003931683488190174,\n",
      "                                             0.004889975767582655]},\n",
      "                        {'col_name': 'dob',\n",
      "                         'fix_u_probabilities': True,\n",
      "                         'u_probabilities': [0.998252272605896,\n",
      "                                             0.0017477477667853236]},\n",
      "                        {'col_name': 'city',\n",
      "                         'fix_u_probabilities': True,\n",
      "                         'term_frequency_adjustments': True,\n",
      "                         'u_probabilities': [0.9448524117469788,\n",
      "                                             0.05514756962656975]},\n",
      "                        {'col_name': 'email',\n",
      "                         'fix_u_probabilities': True,\n",
      "                         'u_probabilities': [0.9978061318397522,\n",
      "                                             0.002193871419876814]}],\n",
      " 'em_convergence': 0.01,\n",
      " 'link_type': 'dedupe_only'}\n"
     ]
    }
   ],
   "source": [
    "from pprint import pprint\n",
    "pprint(settings_with_u)"
   ]
  },
  {
   "cell_type": "markdown",
   "metadata": {},
   "source": [
    "## Step 4:  Estimate match scores using the Expectation Maximisation algorithm\n",
    "\n",
    "\n",
    "Columns are assumed to be strings by default.  See the 'comparison vector settings' notebook for details of configuration options.\n",
    "\n"
   ]
  },
  {
   "cell_type": "code",
   "execution_count": 10,
   "metadata": {},
   "outputs": [
    {
     "name": "stderr",
     "output_type": "stream",
     "text": [
      "INFO:splink.iterate:Iteration 0 complete\n",
      "INFO:splink.model:The maximum change in parameters was 0.3899992346763611 for key dob, level 0\n",
      "INFO:splink.iterate:Iteration 1 complete\n",
      "INFO:splink.model:The maximum change in parameters was 0.08630186319351196 for key email, level 0\n",
      "INFO:splink.iterate:Iteration 2 complete\n",
      "INFO:splink.model:The maximum change in parameters was 0.02830803394317627 for key email, level 0\n",
      "INFO:splink.iterate:Iteration 3 complete\n",
      "INFO:splink.model:The maximum change in parameters was 0.009583204984664917 for key email, level 0\n",
      "INFO:splink.iterate:EM algorithm has converged\n"
     ]
    }
   ],
   "source": [
    "from splink import Splink\n",
    "\n",
    "linker = Splink(settings_with_u, df, spark)\n",
    "df_e = linker.get_scored_comparisons()"
   ]
  },
  {
   "cell_type": "markdown",
   "metadata": {},
   "source": [
    "## Step 5: Inspect results \n",
    "\n"
   ]
  },
  {
   "cell_type": "code",
   "execution_count": 11,
   "metadata": {},
   "outputs": [
    {
     "data": {
      "text/html": [
       "<div>\n",
       "<style scoped>\n",
       "    .dataframe tbody tr th:only-of-type {\n",
       "        vertical-align: middle;\n",
       "    }\n",
       "\n",
       "    .dataframe tbody tr th {\n",
       "        vertical-align: top;\n",
       "    }\n",
       "\n",
       "    .dataframe thead th {\n",
       "        text-align: right;\n",
       "    }\n",
       "</style>\n",
       "<table border=\"1\" class=\"dataframe\">\n",
       "  <thead>\n",
       "    <tr style=\"text-align: right;\">\n",
       "      <th></th>\n",
       "      <th>tf_adjusted_match_prob</th>\n",
       "      <th>unique_id_l</th>\n",
       "      <th>unique_id_r</th>\n",
       "      <th>group_l</th>\n",
       "      <th>group_r</th>\n",
       "      <th>surname_l</th>\n",
       "      <th>surname_r</th>\n",
       "      <th>dob_l</th>\n",
       "      <th>dob_r</th>\n",
       "      <th>city_l</th>\n",
       "      <th>city_r</th>\n",
       "      <th>email_l</th>\n",
       "      <th>email_r</th>\n",
       "    </tr>\n",
       "  </thead>\n",
       "  <tbody>\n",
       "    <tr>\n",
       "      <th>1</th>\n",
       "      <td>0.009696</td>\n",
       "      <td>0</td>\n",
       "      <td>1</td>\n",
       "      <td>0</td>\n",
       "      <td>0</td>\n",
       "      <td>Alan</td>\n",
       "      <td>Allen</td>\n",
       "      <td>1971-06-24</td>\n",
       "      <td>1971-05-24</td>\n",
       "      <td>None</td>\n",
       "      <td>None</td>\n",
       "      <td>robert255@smith.net</td>\n",
       "      <td>roberta25@smith.net</td>\n",
       "    </tr>\n",
       "    <tr>\n",
       "      <th>0</th>\n",
       "      <td>0.901435</td>\n",
       "      <td>0</td>\n",
       "      <td>3</td>\n",
       "      <td>0</td>\n",
       "      <td>0</td>\n",
       "      <td>Alan</td>\n",
       "      <td>Alen</td>\n",
       "      <td>1971-06-24</td>\n",
       "      <td>1971-06-24</td>\n",
       "      <td>None</td>\n",
       "      <td>Lonon</td>\n",
       "      <td>robert255@smith.net</td>\n",
       "      <td>None</td>\n",
       "    </tr>\n",
       "    <tr>\n",
       "      <th>2</th>\n",
       "      <td>0.955966</td>\n",
       "      <td>1</td>\n",
       "      <td>3</td>\n",
       "      <td>0</td>\n",
       "      <td>0</td>\n",
       "      <td>Allen</td>\n",
       "      <td>Alen</td>\n",
       "      <td>1971-05-24</td>\n",
       "      <td>1971-06-24</td>\n",
       "      <td>None</td>\n",
       "      <td>Lonon</td>\n",
       "      <td>roberta25@smith.net</td>\n",
       "      <td>None</td>\n",
       "    </tr>\n",
       "    <tr>\n",
       "      <th>166</th>\n",
       "      <td>0.230355</td>\n",
       "      <td>100</td>\n",
       "      <td>330</td>\n",
       "      <td>28</td>\n",
       "      <td>88</td>\n",
       "      <td>None</td>\n",
       "      <td>Richards</td>\n",
       "      <td>2009-08-25</td>\n",
       "      <td>2014-07-10</td>\n",
       "      <td>None</td>\n",
       "      <td>None</td>\n",
       "      <td>e.e@day.com</td>\n",
       "      <td>None</td>\n",
       "    </tr>\n",
       "    <tr>\n",
       "      <th>165</th>\n",
       "      <td>0.110372</td>\n",
       "      <td>100</td>\n",
       "      <td>331</td>\n",
       "      <td>28</td>\n",
       "      <td>88</td>\n",
       "      <td>None</td>\n",
       "      <td>None</td>\n",
       "      <td>2009-08-25</td>\n",
       "      <td>2024-07-07</td>\n",
       "      <td>None</td>\n",
       "      <td>Manchester</td>\n",
       "      <td>e.e@day.com</td>\n",
       "      <td>e.richards16@finley.ifo</td>\n",
       "    </tr>\n",
       "    <tr>\n",
       "      <th>164</th>\n",
       "      <td>0.110372</td>\n",
       "      <td>100</td>\n",
       "      <td>333</td>\n",
       "      <td>28</td>\n",
       "      <td>88</td>\n",
       "      <td>None</td>\n",
       "      <td>Richards</td>\n",
       "      <td>2009-08-25</td>\n",
       "      <td>2014-07-10</td>\n",
       "      <td>None</td>\n",
       "      <td>Mancester</td>\n",
       "      <td>e.e@day.com</td>\n",
       "      <td>e.richards16@finley.info</td>\n",
       "    </tr>\n",
       "    <tr>\n",
       "      <th>176</th>\n",
       "      <td>1.000000</td>\n",
       "      <td>101</td>\n",
       "      <td>102</td>\n",
       "      <td>29</td>\n",
       "      <td>29</td>\n",
       "      <td>Griffiths</td>\n",
       "      <td>None</td>\n",
       "      <td>2008-05-07</td>\n",
       "      <td>2008-05-07</td>\n",
       "      <td>Plymouth</td>\n",
       "      <td>Plymouth</td>\n",
       "      <td>a.griffiths@garner-bridges.com</td>\n",
       "      <td>a.griffiths@garner-bridges.com</td>\n",
       "    </tr>\n",
       "    <tr>\n",
       "      <th>175</th>\n",
       "      <td>0.909812</td>\n",
       "      <td>101</td>\n",
       "      <td>103</td>\n",
       "      <td>29</td>\n",
       "      <td>29</td>\n",
       "      <td>Griffiths</td>\n",
       "      <td>Griffihs</td>\n",
       "      <td>2008-05-07</td>\n",
       "      <td>2009-04-07</td>\n",
       "      <td>Plymouth</td>\n",
       "      <td>Plyoutm</td>\n",
       "      <td>a.griffiths@garner-bridges.com</td>\n",
       "      <td>None</td>\n",
       "    </tr>\n",
       "    <tr>\n",
       "      <th>174</th>\n",
       "      <td>1.000000</td>\n",
       "      <td>101</td>\n",
       "      <td>105</td>\n",
       "      <td>29</td>\n",
       "      <td>29</td>\n",
       "      <td>Griffiths</td>\n",
       "      <td>Griffiths</td>\n",
       "      <td>2008-05-07</td>\n",
       "      <td>2008-05-07</td>\n",
       "      <td>Plymouth</td>\n",
       "      <td>Plymouth</td>\n",
       "      <td>a.griffiths@garner-bridges.com</td>\n",
       "      <td>a.griffiths@garner-bridges.com</td>\n",
       "    </tr>\n",
       "    <tr>\n",
       "      <th>173</th>\n",
       "      <td>0.010856</td>\n",
       "      <td>101</td>\n",
       "      <td>149</td>\n",
       "      <td>29</td>\n",
       "      <td>40</td>\n",
       "      <td>Griffiths</td>\n",
       "      <td>eKelly</td>\n",
       "      <td>2008-05-07</td>\n",
       "      <td>2010-10-09</td>\n",
       "      <td>Plymouth</td>\n",
       "      <td>Birmimghan</td>\n",
       "      <td>a.griffiths@garner-bridges.com</td>\n",
       "      <td>None</td>\n",
       "    </tr>\n",
       "  </tbody>\n",
       "</table>\n",
       "</div>"
      ],
      "text/plain": [
       "     tf_adjusted_match_prob unique_id_l unique_id_r group_l group_r  \\\n",
       "1                  0.009696           0           1       0       0   \n",
       "0                  0.901435           0           3       0       0   \n",
       "2                  0.955966           1           3       0       0   \n",
       "166                0.230355         100         330      28      88   \n",
       "165                0.110372         100         331      28      88   \n",
       "164                0.110372         100         333      28      88   \n",
       "176                1.000000         101         102      29      29   \n",
       "175                0.909812         101         103      29      29   \n",
       "174                1.000000         101         105      29      29   \n",
       "173                0.010856         101         149      29      40   \n",
       "\n",
       "     surname_l  surname_r       dob_l       dob_r    city_l      city_r  \\\n",
       "1         Alan      Allen  1971-06-24  1971-05-24      None        None   \n",
       "0         Alan       Alen  1971-06-24  1971-06-24      None       Lonon   \n",
       "2        Allen       Alen  1971-05-24  1971-06-24      None       Lonon   \n",
       "166       None   Richards  2009-08-25  2014-07-10      None        None   \n",
       "165       None       None  2009-08-25  2024-07-07      None  Manchester   \n",
       "164       None   Richards  2009-08-25  2014-07-10      None   Mancester   \n",
       "176  Griffiths       None  2008-05-07  2008-05-07  Plymouth    Plymouth   \n",
       "175  Griffiths   Griffihs  2008-05-07  2009-04-07  Plymouth     Plyoutm   \n",
       "174  Griffiths  Griffiths  2008-05-07  2008-05-07  Plymouth    Plymouth   \n",
       "173  Griffiths     eKelly  2008-05-07  2010-10-09  Plymouth  Birmimghan   \n",
       "\n",
       "                            email_l                         email_r  \n",
       "1               robert255@smith.net             roberta25@smith.net  \n",
       "0               robert255@smith.net                            None  \n",
       "2               roberta25@smith.net                            None  \n",
       "166                     e.e@day.com                            None  \n",
       "165                     e.e@day.com         e.richards16@finley.ifo  \n",
       "164                     e.e@day.com        e.richards16@finley.info  \n",
       "176  a.griffiths@garner-bridges.com  a.griffiths@garner-bridges.com  \n",
       "175  a.griffiths@garner-bridges.com                            None  \n",
       "174  a.griffiths@garner-bridges.com  a.griffiths@garner-bridges.com  \n",
       "173  a.griffiths@garner-bridges.com                            None  "
      ]
     },
     "execution_count": 11,
     "metadata": {},
     "output_type": "execute_result"
    }
   ],
   "source": [
    "# Inspect main dataframe that contains the match scores\n",
    "cols_to_inspect = [\"tf_adjusted_match_prob\",\"unique_id_l\",\"unique_id_r\",\"group_l\", \"group_r\", \"surname_l\",\"surname_r\",\"dob_l\",\"dob_r\",\"city_l\",\"city_r\",\"email_l\",\"email_r\",]\n",
    "\n",
    "df_e.toPandas()[cols_to_inspect].sort_values([\"unique_id_l\", \"unique_id_r\"]).head(10)"
   ]
  },
  {
   "cell_type": "markdown",
   "metadata": {},
   "source": [
    "We can plot a histogram of the splink match probility.  This chart shows that, for the majority of record comparisons, the match score is estimated to be close to 0 or 1.  This indicates that there are few pairs of records where we are unsure whether it's a match or not."
   ]
  },
  {
   "cell_type": "code",
   "execution_count": 12,
   "metadata": {},
   "outputs": [
    {
     "data": {
      "application/vnd.vegalite.v4+json": {
       "$schema": "https://vega.github.io/schema/vega-lite/v4.8.1.json",
       "config": {
        "title": {
         "fontSize": 14
        },
        "view": {
         "continuousHeight": 300,
         "continuousWidth": 400
        }
       },
       "data": {
        "name": "data-417dcdc424daf897dca8595220a6af73"
       },
       "datasets": {
        "data-417dcdc424daf897dca8595220a6af73": [
         {
          "binwidth": 0.01,
          "count_rows": 580,
          "freqdensity": 58000,
          "normalised": 0.29029029029029035,
          "splink_score_bin_high": 0.01,
          "splink_score_bin_low": 0
         },
         {
          "binwidth": 0.01,
          "count_rows": 202,
          "freqdensity": 20200,
          "normalised": 0.10110110110110111,
          "splink_score_bin_high": 0.02,
          "splink_score_bin_low": 0.01
         },
         {
          "binwidth": 0.009999999999999998,
          "count_rows": 87,
          "freqdensity": 8700.000000000002,
          "normalised": 0.04354354354354356,
          "splink_score_bin_high": 0.03,
          "splink_score_bin_low": 0.02
         },
         {
          "binwidth": 0.010000000000000002,
          "count_rows": 4,
          "freqdensity": 399.99999999999994,
          "normalised": 0.002002002002002002,
          "splink_score_bin_high": 0.04,
          "splink_score_bin_low": 0.03
         },
         {
          "binwidth": 0.010000000000000002,
          "count_rows": 6,
          "freqdensity": 599.9999999999999,
          "normalised": 0.003003003003003003,
          "splink_score_bin_high": 0.05,
          "splink_score_bin_low": 0.04
         },
         {
          "binwidth": 0.009999999999999995,
          "count_rows": 202,
          "freqdensity": 20200.00000000001,
          "normalised": 0.10110110110110117,
          "splink_score_bin_high": 0.06,
          "splink_score_bin_low": 0.05
         },
         {
          "binwidth": 0.010000000000000009,
          "count_rows": 1,
          "freqdensity": 99.99999999999991,
          "normalised": 0.0005005005005005002,
          "splink_score_bin_high": 0.07,
          "splink_score_bin_low": 0.06
         },
         {
          "binwidth": 0.009999999999999995,
          "count_rows": 0,
          "freqdensity": 0,
          "normalised": 0,
          "splink_score_bin_high": 0.08,
          "splink_score_bin_low": 0.07
         },
         {
          "binwidth": 0.009999999999999995,
          "count_rows": 1,
          "freqdensity": 100.00000000000006,
          "normalised": 0.0005005005005005008,
          "splink_score_bin_high": 0.09,
          "splink_score_bin_low": 0.08
         },
         {
          "binwidth": 0.010000000000000009,
          "count_rows": 7,
          "freqdensity": 699.9999999999994,
          "normalised": 0.0035035035035035013,
          "splink_score_bin_high": 0.1,
          "splink_score_bin_low": 0.09
         },
         {
          "binwidth": 0.009999999999999995,
          "count_rows": 0,
          "freqdensity": 0,
          "normalised": 0,
          "splink_score_bin_high": 0.11,
          "splink_score_bin_low": 0.1
         },
         {
          "binwidth": 0.009999999999999995,
          "count_rows": 103,
          "freqdensity": 10300.000000000005,
          "normalised": 0.05155155155155158,
          "splink_score_bin_high": 0.12,
          "splink_score_bin_low": 0.11
         },
         {
          "binwidth": 0.010000000000000009,
          "count_rows": 80,
          "freqdensity": 7999.999999999993,
          "normalised": 0.04004004004004001,
          "splink_score_bin_high": 0.13,
          "splink_score_bin_low": 0.12
         },
         {
          "binwidth": 0.010000000000000009,
          "count_rows": 12,
          "freqdensity": 1199.9999999999989,
          "normalised": 0.006006006006006002,
          "splink_score_bin_high": 0.14,
          "splink_score_bin_low": 0.13
         },
         {
          "binwidth": 0.009999999999999981,
          "count_rows": 0,
          "freqdensity": 0,
          "normalised": 0,
          "splink_score_bin_high": 0.15,
          "splink_score_bin_low": 0.14
         },
         {
          "binwidth": 0.010000000000000009,
          "count_rows": 0,
          "freqdensity": 0,
          "normalised": 0,
          "splink_score_bin_high": 0.16,
          "splink_score_bin_low": 0.15
         },
         {
          "binwidth": 0.010000000000000009,
          "count_rows": 0,
          "freqdensity": 0,
          "normalised": 0,
          "splink_score_bin_high": 0.17,
          "splink_score_bin_low": 0.16
         },
         {
          "binwidth": 0.009999999999999981,
          "count_rows": 0,
          "freqdensity": 0,
          "normalised": 0,
          "splink_score_bin_high": 0.18,
          "splink_score_bin_low": 0.17
         },
         {
          "binwidth": 0.010000000000000009,
          "count_rows": 0,
          "freqdensity": 0,
          "normalised": 0,
          "splink_score_bin_high": 0.19,
          "splink_score_bin_low": 0.18
         },
         {
          "binwidth": 0.010000000000000009,
          "count_rows": 0,
          "freqdensity": 0,
          "normalised": 0,
          "splink_score_bin_high": 0.2,
          "splink_score_bin_low": 0.19
         },
         {
          "binwidth": 0.009999999999999981,
          "count_rows": 0,
          "freqdensity": 0,
          "normalised": 0,
          "splink_score_bin_high": 0.21,
          "splink_score_bin_low": 0.2
         },
         {
          "binwidth": 0.010000000000000009,
          "count_rows": 0,
          "freqdensity": 0,
          "normalised": 0,
          "splink_score_bin_high": 0.22,
          "splink_score_bin_low": 0.21
         },
         {
          "binwidth": 0.010000000000000009,
          "count_rows": 0,
          "freqdensity": 0,
          "normalised": 0,
          "splink_score_bin_high": 0.23,
          "splink_score_bin_low": 0.22
         },
         {
          "binwidth": 0.009999999999999981,
          "count_rows": 75,
          "freqdensity": 7500.000000000015,
          "normalised": 0.037537537537537614,
          "splink_score_bin_high": 0.24,
          "splink_score_bin_low": 0.23
         },
         {
          "binwidth": 0.010000000000000009,
          "count_rows": 0,
          "freqdensity": 0,
          "normalised": 0,
          "splink_score_bin_high": 0.25,
          "splink_score_bin_low": 0.24
         },
         {
          "binwidth": 0.010000000000000009,
          "count_rows": 0,
          "freqdensity": 0,
          "normalised": 0,
          "splink_score_bin_high": 0.26,
          "splink_score_bin_low": 0.25
         },
         {
          "binwidth": 0.010000000000000009,
          "count_rows": 0,
          "freqdensity": 0,
          "normalised": 0,
          "splink_score_bin_high": 0.27,
          "splink_score_bin_low": 0.26
         },
         {
          "binwidth": 0.010000000000000009,
          "count_rows": 0,
          "freqdensity": 0,
          "normalised": 0,
          "splink_score_bin_high": 0.28,
          "splink_score_bin_low": 0.27
         },
         {
          "binwidth": 0.009999999999999953,
          "count_rows": 2,
          "freqdensity": 200.00000000000094,
          "normalised": 0.0010010010010010058,
          "splink_score_bin_high": 0.29,
          "splink_score_bin_low": 0.28
         },
         {
          "binwidth": 0.010000000000000009,
          "count_rows": 0,
          "freqdensity": 0,
          "normalised": 0,
          "splink_score_bin_high": 0.3,
          "splink_score_bin_low": 0.29
         },
         {
          "binwidth": 0.010000000000000009,
          "count_rows": 4,
          "freqdensity": 399.99999999999966,
          "normalised": 0.0020020020020020007,
          "splink_score_bin_high": 0.31,
          "splink_score_bin_low": 0.3
         },
         {
          "binwidth": 0.010000000000000009,
          "count_rows": 0,
          "freqdensity": 0,
          "normalised": 0,
          "splink_score_bin_high": 0.32,
          "splink_score_bin_low": 0.31
         },
         {
          "binwidth": 0.010000000000000009,
          "count_rows": 1,
          "freqdensity": 99.99999999999991,
          "normalised": 0.0005005005005005002,
          "splink_score_bin_high": 0.33,
          "splink_score_bin_low": 0.32
         },
         {
          "binwidth": 0.010000000000000009,
          "count_rows": 0,
          "freqdensity": 0,
          "normalised": 0,
          "splink_score_bin_high": 0.34,
          "splink_score_bin_low": 0.33
         },
         {
          "binwidth": 0.009999999999999953,
          "count_rows": 0,
          "freqdensity": 0,
          "normalised": 0,
          "splink_score_bin_high": 0.35,
          "splink_score_bin_low": 0.34
         },
         {
          "binwidth": 0.010000000000000009,
          "count_rows": 0,
          "freqdensity": 0,
          "normalised": 0,
          "splink_score_bin_high": 0.36,
          "splink_score_bin_low": 0.35
         },
         {
          "binwidth": 0.010000000000000009,
          "count_rows": 0,
          "freqdensity": 0,
          "normalised": 0,
          "splink_score_bin_high": 0.37,
          "splink_score_bin_low": 0.36
         },
         {
          "binwidth": 0.010000000000000009,
          "count_rows": 0,
          "freqdensity": 0,
          "normalised": 0,
          "splink_score_bin_high": 0.38,
          "splink_score_bin_low": 0.37
         },
         {
          "binwidth": 0.010000000000000009,
          "count_rows": 0,
          "freqdensity": 0,
          "normalised": 0,
          "splink_score_bin_high": 0.39,
          "splink_score_bin_low": 0.38
         },
         {
          "binwidth": 0.010000000000000009,
          "count_rows": 0,
          "freqdensity": 0,
          "normalised": 0,
          "splink_score_bin_high": 0.4,
          "splink_score_bin_low": 0.39
         },
         {
          "binwidth": 0.009999999999999953,
          "count_rows": 0,
          "freqdensity": 0,
          "normalised": 0,
          "splink_score_bin_high": 0.41,
          "splink_score_bin_low": 0.4
         },
         {
          "binwidth": 0.010000000000000009,
          "count_rows": 0,
          "freqdensity": 0,
          "normalised": 0,
          "splink_score_bin_high": 0.42,
          "splink_score_bin_low": 0.41
         },
         {
          "binwidth": 0.010000000000000009,
          "count_rows": 0,
          "freqdensity": 0,
          "normalised": 0,
          "splink_score_bin_high": 0.43,
          "splink_score_bin_low": 0.42
         },
         {
          "binwidth": 0.010000000000000009,
          "count_rows": 0,
          "freqdensity": 0,
          "normalised": 0,
          "splink_score_bin_high": 0.44,
          "splink_score_bin_low": 0.43
         },
         {
          "binwidth": 0.010000000000000009,
          "count_rows": 5,
          "freqdensity": 499.99999999999955,
          "normalised": 0.0025025025025025007,
          "splink_score_bin_high": 0.45,
          "splink_score_bin_low": 0.44
         },
         {
          "binwidth": 0.010000000000000009,
          "count_rows": 0,
          "freqdensity": 0,
          "normalised": 0,
          "splink_score_bin_high": 0.46,
          "splink_score_bin_low": 0.45
         },
         {
          "binwidth": 0.009999999999999953,
          "count_rows": 2,
          "freqdensity": 200.00000000000094,
          "normalised": 0.0010010010010010058,
          "splink_score_bin_high": 0.47,
          "splink_score_bin_low": 0.46
         },
         {
          "binwidth": 0.010000000000000009,
          "count_rows": 2,
          "freqdensity": 199.99999999999983,
          "normalised": 0.0010010010010010003,
          "splink_score_bin_high": 0.48,
          "splink_score_bin_low": 0.47
         },
         {
          "binwidth": 0.010000000000000009,
          "count_rows": 0,
          "freqdensity": 0,
          "normalised": 0,
          "splink_score_bin_high": 0.49,
          "splink_score_bin_low": 0.48
         },
         {
          "binwidth": 0.010000000000000009,
          "count_rows": 0,
          "freqdensity": 0,
          "normalised": 0,
          "splink_score_bin_high": 0.5,
          "splink_score_bin_low": 0.49
         },
         {
          "binwidth": 0.010000000000000009,
          "count_rows": 0,
          "freqdensity": 0,
          "normalised": 0,
          "splink_score_bin_high": 0.51,
          "splink_score_bin_low": 0.5
         },
         {
          "binwidth": 0.010000000000000009,
          "count_rows": 0,
          "freqdensity": 0,
          "normalised": 0,
          "splink_score_bin_high": 0.52,
          "splink_score_bin_low": 0.51
         },
         {
          "binwidth": 0.010000000000000009,
          "count_rows": 1,
          "freqdensity": 99.99999999999991,
          "normalised": 0.0005005005005005002,
          "splink_score_bin_high": 0.53,
          "splink_score_bin_low": 0.52
         },
         {
          "binwidth": 0.010000000000000009,
          "count_rows": 0,
          "freqdensity": 0,
          "normalised": 0,
          "splink_score_bin_high": 0.54,
          "splink_score_bin_low": 0.53
         },
         {
          "binwidth": 0.010000000000000009,
          "count_rows": 0,
          "freqdensity": 0,
          "normalised": 0,
          "splink_score_bin_high": 0.55,
          "splink_score_bin_low": 0.54
         },
         {
          "binwidth": 0.010000000000000009,
          "count_rows": 0,
          "freqdensity": 0,
          "normalised": 0,
          "splink_score_bin_high": 0.56,
          "splink_score_bin_low": 0.55
         },
         {
          "binwidth": 0.009999999999999898,
          "count_rows": 0,
          "freqdensity": 0,
          "normalised": 0,
          "splink_score_bin_high": 0.57,
          "splink_score_bin_low": 0.56
         },
         {
          "binwidth": 0.010000000000000009,
          "count_rows": 2,
          "freqdensity": 199.99999999999983,
          "normalised": 0.0010010010010010003,
          "splink_score_bin_high": 0.58,
          "splink_score_bin_low": 0.57
         },
         {
          "binwidth": 0.010000000000000009,
          "count_rows": 0,
          "freqdensity": 0,
          "normalised": 0,
          "splink_score_bin_high": 0.59,
          "splink_score_bin_low": 0.58
         },
         {
          "binwidth": 0.010000000000000009,
          "count_rows": 2,
          "freqdensity": 199.99999999999983,
          "normalised": 0.0010010010010010003,
          "splink_score_bin_high": 0.6,
          "splink_score_bin_low": 0.59
         },
         {
          "binwidth": 0.010000000000000009,
          "count_rows": 0,
          "freqdensity": 0,
          "normalised": 0,
          "splink_score_bin_high": 0.61,
          "splink_score_bin_low": 0.6
         },
         {
          "binwidth": 0.010000000000000009,
          "count_rows": 0,
          "freqdensity": 0,
          "normalised": 0,
          "splink_score_bin_high": 0.62,
          "splink_score_bin_low": 0.61
         },
         {
          "binwidth": 0.010000000000000009,
          "count_rows": 0,
          "freqdensity": 0,
          "normalised": 0,
          "splink_score_bin_high": 0.63,
          "splink_score_bin_low": 0.62
         },
         {
          "binwidth": 0.010000000000000009,
          "count_rows": 0,
          "freqdensity": 0,
          "normalised": 0,
          "splink_score_bin_high": 0.64,
          "splink_score_bin_low": 0.63
         },
         {
          "binwidth": 0.010000000000000009,
          "count_rows": 0,
          "freqdensity": 0,
          "normalised": 0,
          "splink_score_bin_high": 0.65,
          "splink_score_bin_low": 0.64
         },
         {
          "binwidth": 0.010000000000000009,
          "count_rows": 0,
          "freqdensity": 0,
          "normalised": 0,
          "splink_score_bin_high": 0.66,
          "splink_score_bin_low": 0.65
         },
         {
          "binwidth": 0.010000000000000009,
          "count_rows": 8,
          "freqdensity": 799.9999999999993,
          "normalised": 0.004004004004004001,
          "splink_score_bin_high": 0.67,
          "splink_score_bin_low": 0.66
         },
         {
          "binwidth": 0.010000000000000009,
          "count_rows": 2,
          "freqdensity": 199.99999999999983,
          "normalised": 0.0010010010010010003,
          "splink_score_bin_high": 0.68,
          "splink_score_bin_low": 0.67
         },
         {
          "binwidth": 0.009999999999999898,
          "count_rows": 6,
          "freqdensity": 600.0000000000061,
          "normalised": 0.003003003003003034,
          "splink_score_bin_high": 0.69,
          "splink_score_bin_low": 0.68
         },
         {
          "binwidth": 0.010000000000000009,
          "count_rows": 2,
          "freqdensity": 199.99999999999983,
          "normalised": 0.0010010010010010003,
          "splink_score_bin_high": 0.7,
          "splink_score_bin_low": 0.69
         },
         {
          "binwidth": 0.010000000000000009,
          "count_rows": 0,
          "freqdensity": 0,
          "normalised": 0,
          "splink_score_bin_high": 0.71,
          "splink_score_bin_low": 0.7
         },
         {
          "binwidth": 0.010000000000000009,
          "count_rows": 0,
          "freqdensity": 0,
          "normalised": 0,
          "splink_score_bin_high": 0.72,
          "splink_score_bin_low": 0.71
         },
         {
          "binwidth": 0.010000000000000009,
          "count_rows": 0,
          "freqdensity": 0,
          "normalised": 0,
          "splink_score_bin_high": 0.73,
          "splink_score_bin_low": 0.72
         },
         {
          "binwidth": 0.010000000000000009,
          "count_rows": 1,
          "freqdensity": 99.99999999999991,
          "normalised": 0.0005005005005005002,
          "splink_score_bin_high": 0.74,
          "splink_score_bin_low": 0.73
         },
         {
          "binwidth": 0.010000000000000009,
          "count_rows": 6,
          "freqdensity": 599.9999999999994,
          "normalised": 0.003003003003003001,
          "splink_score_bin_high": 0.75,
          "splink_score_bin_low": 0.74
         },
         {
          "binwidth": 0.010000000000000009,
          "count_rows": 2,
          "freqdensity": 199.99999999999983,
          "normalised": 0.0010010010010010003,
          "splink_score_bin_high": 0.76,
          "splink_score_bin_low": 0.75
         },
         {
          "binwidth": 0.010000000000000009,
          "count_rows": 0,
          "freqdensity": 0,
          "normalised": 0,
          "splink_score_bin_high": 0.77,
          "splink_score_bin_low": 0.76
         },
         {
          "binwidth": 0.010000000000000009,
          "count_rows": 0,
          "freqdensity": 0,
          "normalised": 0,
          "splink_score_bin_high": 0.78,
          "splink_score_bin_low": 0.77
         },
         {
          "binwidth": 0.010000000000000009,
          "count_rows": 0,
          "freqdensity": 0,
          "normalised": 0,
          "splink_score_bin_high": 0.79,
          "splink_score_bin_low": 0.78
         },
         {
          "binwidth": 0.010000000000000009,
          "count_rows": 3,
          "freqdensity": 299.9999999999997,
          "normalised": 0.0015015015015015004,
          "splink_score_bin_high": 0.8,
          "splink_score_bin_low": 0.79
         },
         {
          "binwidth": 0.010000000000000009,
          "count_rows": 13,
          "freqdensity": 1299.9999999999989,
          "normalised": 0.006506506506506502,
          "splink_score_bin_high": 0.81,
          "splink_score_bin_low": 0.8
         },
         {
          "binwidth": 0.009999999999999898,
          "count_rows": 1,
          "freqdensity": 100.00000000000102,
          "normalised": 0.0005005005005005057,
          "splink_score_bin_high": 0.82,
          "splink_score_bin_low": 0.81
         },
         {
          "binwidth": 0.010000000000000009,
          "count_rows": 2,
          "freqdensity": 199.99999999999983,
          "normalised": 0.0010010010010010003,
          "splink_score_bin_high": 0.83,
          "splink_score_bin_low": 0.82
         },
         {
          "binwidth": 0.010000000000000009,
          "count_rows": 5,
          "freqdensity": 499.99999999999955,
          "normalised": 0.0025025025025025007,
          "splink_score_bin_high": 0.84,
          "splink_score_bin_low": 0.83
         },
         {
          "binwidth": 0.010000000000000009,
          "count_rows": 5,
          "freqdensity": 499.99999999999955,
          "normalised": 0.0025025025025025007,
          "splink_score_bin_high": 0.85,
          "splink_score_bin_low": 0.84
         },
         {
          "binwidth": 0.010000000000000009,
          "count_rows": 2,
          "freqdensity": 199.99999999999983,
          "normalised": 0.0010010010010010003,
          "splink_score_bin_high": 0.86,
          "splink_score_bin_low": 0.85
         },
         {
          "binwidth": 0.010000000000000009,
          "count_rows": 5,
          "freqdensity": 499.99999999999955,
          "normalised": 0.0025025025025025007,
          "splink_score_bin_high": 0.87,
          "splink_score_bin_low": 0.86
         },
         {
          "binwidth": 0.010000000000000009,
          "count_rows": 2,
          "freqdensity": 199.99999999999983,
          "normalised": 0.0010010010010010003,
          "splink_score_bin_high": 0.88,
          "splink_score_bin_low": 0.87
         },
         {
          "binwidth": 0.010000000000000009,
          "count_rows": 4,
          "freqdensity": 399.99999999999966,
          "normalised": 0.0020020020020020007,
          "splink_score_bin_high": 0.89,
          "splink_score_bin_low": 0.88
         },
         {
          "binwidth": 0.010000000000000009,
          "count_rows": 17,
          "freqdensity": 1699.9999999999984,
          "normalised": 0.008508508508508502,
          "splink_score_bin_high": 0.9,
          "splink_score_bin_low": 0.89
         },
         {
          "binwidth": 0.010000000000000009,
          "count_rows": 12,
          "freqdensity": 1199.9999999999989,
          "normalised": 0.006006006006006002,
          "splink_score_bin_high": 0.91,
          "splink_score_bin_low": 0.9
         },
         {
          "binwidth": 0.010000000000000009,
          "count_rows": 3,
          "freqdensity": 299.9999999999997,
          "normalised": 0.0015015015015015004,
          "splink_score_bin_high": 0.92,
          "splink_score_bin_low": 0.91
         },
         {
          "binwidth": 0.010000000000000009,
          "count_rows": 8,
          "freqdensity": 799.9999999999993,
          "normalised": 0.004004004004004001,
          "splink_score_bin_high": 0.93,
          "splink_score_bin_low": 0.92
         },
         {
          "binwidth": 0.009999999999999898,
          "count_rows": 2,
          "freqdensity": 200.00000000000205,
          "normalised": 0.0010010010010010114,
          "splink_score_bin_high": 0.94,
          "splink_score_bin_low": 0.93
         },
         {
          "binwidth": 0.010000000000000009,
          "count_rows": 1,
          "freqdensity": 99.99999999999991,
          "normalised": 0.0005005005005005002,
          "splink_score_bin_high": 0.95,
          "splink_score_bin_low": 0.94
         },
         {
          "binwidth": 0.010000000000000009,
          "count_rows": 34,
          "freqdensity": 3399.999999999997,
          "normalised": 0.017017017017017005,
          "splink_score_bin_high": 0.96,
          "splink_score_bin_low": 0.95
         },
         {
          "binwidth": 0.010000000000000009,
          "count_rows": 1,
          "freqdensity": 99.99999999999991,
          "normalised": 0.0005005005005005002,
          "splink_score_bin_high": 0.97,
          "splink_score_bin_low": 0.96
         },
         {
          "binwidth": 0.010000000000000009,
          "count_rows": 35,
          "freqdensity": 3499.999999999997,
          "normalised": 0.017517517517517504,
          "splink_score_bin_high": 0.98,
          "splink_score_bin_low": 0.97
         },
         {
          "binwidth": 0.010000000000000009,
          "count_rows": 37,
          "freqdensity": 3699.999999999997,
          "normalised": 0.018518518518518504,
          "splink_score_bin_high": 0.99,
          "splink_score_bin_low": 0.98
         },
         {
          "binwidth": 0.010000000000000009,
          "count_rows": 398,
          "freqdensity": 39799.99999999996,
          "normalised": 0.19919919919919904,
          "splink_score_bin_high": 1,
          "splink_score_bin_low": 0.99
         }
        ]
       },
       "encoding": {
        "tooltip": [
         {
          "field": "count_rows",
          "title": "count",
          "type": "quantitative"
         }
        ],
        "x": {
         "axis": {
          "title": "splink score"
         },
         "bin": "binned",
         "field": "splink_score_bin_low",
         "type": "quantitative"
        },
        "x2": {
         "field": "splink_score_bin_high"
        },
        "y": {
         "axis": {
          "title": "probability density"
         },
         "field": "normalised",
         "type": "quantitative"
        }
       },
       "height": 200,
       "mark": "bar",
       "selection": {
        "selector076": {
         "bind": "scales",
         "encodings": [
          "y"
         ],
         "type": "interval"
        }
       },
       "title": {
        "subtitle": "Use mousewheeel to zoom",
        "text": "Histogram of splink scores"
       },
       "width": 700
      },
      "image/png": "[encoded data removed]",
      "text/plain": [
       "<VegaLite 4 object>\n",
       "\n",
       "If you see this message, it means the renderer has not been properly enabled\n",
       "for the frontend that you are using. For more information, see\n",
       "https://altair-viz.github.io/user_guide/troubleshooting.html\n"
      ]
     },
     "execution_count": 12,
     "metadata": {},
     "output_type": "execute_result"
    }
   ],
   "source": [
    "from splink.diagnostics import splink_score_histogram\n",
    "splink_score_histogram(df_e, spark, 100)"
   ]
  },
  {
   "cell_type": "markdown",
   "metadata": {},
   "source": [
    "The `params` property of the `linker` is an object that contains a lot of diagnostic information about how the match probability was computed.  The following cells demonstrate some of its functionality"
   ]
  },
  {
   "cell_type": "code",
   "execution_count": 13,
   "metadata": {},
   "outputs": [
    {
     "data": {
      "application/vnd.vegalite.v4+json": {
       "$schema": "https://vega.github.io/schema/vega-lite/v4.json",
       "config": {
        "header": {
         "title": null
        },
        "title": {
         "anchor": "middle",
         "offset": 10
        },
        "view": {
         "continuousHeight": 300,
         "continuousWidth": 400,
         "height": 300,
         "width": 400
        }
       },
       "data": {
        "name": "data-3a8b4ea4338d76dfe24747b15fc95399"
       },
       "datasets": {
        "data-3a8b4ea4338d76dfe24747b15fc95399": [
         {
          "bayes_factor": 0.07891464050846975,
          "column_name": "surname",
          "gamma_column_name": "gamma_surname",
          "gamma_index": 0,
          "level_name": "level_0",
          "level_proportion": 0.6863204158813075,
          "log2_bayes_factor": -3.6635632110879337,
          "m_probability": 0.0782184824347496,
          "max_gamma_index": 2,
          "num_levels": 3,
          "u_probability": 0.9911783406826086
         },
         {
          "bayes_factor": 72.53574732243173,
          "column_name": "surname",
          "gamma_column_name": "gamma_surname",
          "gamma_index": 1,
          "level_name": "level_1",
          "level_proportion": 0.0978493896291879,
          "log2_bayes_factor": 6.180620259320347,
          "m_probability": 0.28518760204315186,
          "max_gamma_index": 2,
          "num_levels": 3,
          "u_probability": 0.0039316835156526665
         },
         {
          "bayes_factor": 130.1834535965362,
          "column_name": "surname",
          "gamma_column_name": "gamma_surname",
          "gamma_index": 2,
          "level_name": "level_2",
          "level_proportion": 0.2158302019532562,
          "log2_bayes_factor": 7.0244022824319305,
          "m_probability": 0.6365939378738403,
          "max_gamma_index": 2,
          "num_levels": 3,
          "u_probability": 0.004889975801738742
         },
         {
          "bayes_factor": 0.5970163892667157,
          "column_name": "dob",
          "gamma_column_name": "gamma_dob",
          "gamma_index": 0,
          "level_name": "level_0",
          "level_proportion": 0.8639221055720187,
          "log2_bayes_factor": -0.7441575580551298,
          "m_probability": 0.5959729552268982,
          "max_gamma_index": 1,
          "num_levels": 2,
          "u_probability": 0.998252252268821
         },
         {
          "bayes_factor": 231.17013248981357,
          "column_name": "dob",
          "gamma_column_name": "gamma_dob",
          "gamma_index": 1,
          "level_name": "level_1",
          "level_proportion": 0.13607790437965017,
          "log2_bayes_factor": 7.852811201400792,
          "m_probability": 0.4040270745754242,
          "max_gamma_index": 1,
          "num_levels": 2,
          "u_probability": 0.001747747731179016
         },
         {
          "bayes_factor": 0.46466673703423494,
          "column_name": "city",
          "gamma_column_name": "gamma_city",
          "gamma_index": 0,
          "level_name": "level_0",
          "level_proportion": 0.7759507297862778,
          "log2_bayes_factor": -1.1057317210379174,
          "m_probability": 0.43904149532318115,
          "max_gamma_index": 1,
          "num_levels": 2,
          "u_probability": 0.9448524293462267
         },
         {
          "bayes_factor": 10.17195314365923,
          "column_name": "city",
          "gamma_column_name": "gamma_city",
          "gamma_index": 1,
          "level_name": "level_1",
          "level_proportion": 0.22404927021372228,
          "log2_bayes_factor": 3.3465248163766077,
          "m_probability": 0.5609585046768188,
          "max_gamma_index": 1,
          "num_levels": 2,
          "u_probability": 0.0551475706537733
         },
         {
          "bayes_factor": 0.4145173228813695,
          "column_name": "email",
          "gamma_column_name": "gamma_email",
          "gamma_index": 0,
          "level_name": "level_0",
          "level_proportion": 0.8027291486352504,
          "log2_bayes_factor": -1.2704957009761506,
          "m_probability": 0.4136079251766205,
          "max_gamma_index": 1,
          "num_levels": 2,
          "u_probability": 0.9978061285872744
         },
         {
          "bayes_factor": 267.28645135002876,
          "column_name": "email",
          "gamma_column_name": "gamma_email",
          "gamma_index": 1,
          "level_name": "level_1",
          "level_proportion": 0.1972708613164185,
          "log2_bayes_factor": 8.062242899538582,
          "m_probability": 0.5863921046257019,
          "max_gamma_index": 1,
          "num_levels": 2,
          "u_probability": 0.002193871412725607
         }
        ]
       },
       "hconcat": [
        {
         "encoding": {
          "color": {
           "value": "red"
          },
          "row": {
           "field": "column_name",
           "header": {
            "labelAlign": "left",
            "labelAnchor": "middle",
            "labelAngle": 0
           },
           "sort": {
            "field": "gamma_index"
           },
           "type": "nominal"
          },
          "tooltip": [
           {
            "field": "column_name",
            "type": "nominal"
           },
           {
            "field": "level_name",
            "type": "ordinal"
           },
           {
            "field": "u_probability",
            "format": ".4f",
            "type": "quantitative"
           },
           {
            "field": "bayes_factor",
            "format": ".4f",
            "type": "quantitative"
           },
           {
            "field": "level_proportion",
            "format": ".2%",
            "title": "Percentage of record comparisons in this level",
            "type": "nominal"
           },
           {
            "field": "log2_bayes_factor",
            "format": ".4f",
            "type": "quantitative"
           }
          ],
          "x": {
           "axis": {
            "title": "proportion"
           },
           "field": "u_probability",
           "type": "quantitative"
          },
          "y": {
           "axis": {
            "title": null
           },
           "field": "level_name",
           "type": "nominal"
          }
         },
         "height": 50,
         "mark": "bar",
         "resolve": {
          "scale": {
           "y": "independent"
          }
         },
         "title": {
          "fontWeight": "normal",
          "text": "Non-matches"
         },
         "transform": [
          {
           "filter": "(datum.bayes_factor != 'unnecessary filter2 due to vega lite issue 4680')"
          }
         ],
         "width": 150
        },
        {
         "encoding": {
          "color": {
           "value": "green"
          },
          "row": {
           "field": "column_name",
           "header": {
            "labels": false
           },
           "sort": {
            "field": "gamma_index"
           },
           "type": "nominal"
          },
          "tooltip": [
           {
            "field": "column_name",
            "type": "nominal"
           },
           {
            "field": "level_name",
            "type": "ordinal"
           },
           {
            "field": "m_probability",
            "format": ".4f",
            "type": "quantitative"
           },
           {
            "field": "bayes_factor",
            "format": ".4f",
            "type": "quantitative"
           },
           {
            "field": "level_proportion",
            "format": ".2%",
            "title": "Percentage of record comparisons in this level",
            "type": "nominal"
           },
           {
            "field": "log2_bayes_factor",
            "format": ".4f",
            "type": "quantitative"
           }
          ],
          "x": {
           "axis": {
            "title": "proportion"
           },
           "field": "m_probability",
           "type": "quantitative"
          },
          "y": {
           "axis": {
            "title": null
           },
           "field": "level_name",
           "type": "nominal"
          }
         },
         "height": 50,
         "mark": "bar",
         "resolve": {
          "scale": {
           "y": "independent"
          }
         },
         "title": {
          "fontWeight": "normal",
          "text": "Matches"
         },
         "transform": [
          {
           "filter": "(datum.bayes_factor != 'unnecessary filter due to vega lite issue 4680')"
          }
         ],
         "width": 150
        }
       ],
       "title": {
        "subtitle": "Estimated proportion of matches λ =  0.334",
        "text": "Probability distributions of non-matches and matches "
       },
       "transform": []
      },
      "image/png": "[encoded data removed]",
      "text/plain": [
       "<VegaLite 4 object>\n",
       "\n",
       "If you see this message, it means the renderer has not been properly enabled\n",
       "for the frontend that you are using. For more information, see\n",
       "https://altair-viz.github.io/user_guide/troubleshooting.html\n"
      ]
     },
     "execution_count": 13,
     "metadata": {},
     "output_type": "execute_result"
    }
   ],
   "source": [
    "model = linker.model\n",
    "model.probability_distribution_chart()"
   ]
  },
  {
   "cell_type": "markdown",
   "metadata": {},
   "source": [
    "An alternative representation of the parameters displays them in terms of the effect different values in the comparison vectors have on the match probability:"
   ]
  },
  {
   "cell_type": "code",
   "execution_count": 14,
   "metadata": {},
   "outputs": [
    {
     "data": {
      "application/vnd.vegalite.v4+json": {
       "$schema": "https://vega.github.io/schema/vega-lite/v4.json",
       "config": {
        "header": {
         "title": null
        },
        "mark": {
         "tooltip": null
        },
        "title": {
         "anchor": "middle"
        },
        "view": {
         "continuousHeight": 300,
         "continuousWidth": 400,
         "height": 300,
         "width": 400
        }
       },
       "data": {
        "name": "data-3a8b4ea4338d76dfe24747b15fc95399"
       },
       "datasets": {
        "data-3a8b4ea4338d76dfe24747b15fc95399": [
         {
          "bayes_factor": 0.07891464050846975,
          "column_name": "surname",
          "gamma_column_name": "gamma_surname",
          "gamma_index": 0,
          "level_name": "level_0",
          "level_proportion": 0.6863204158813075,
          "log2_bayes_factor": -3.6635632110879337,
          "m_probability": 0.0782184824347496,
          "max_gamma_index": 2,
          "num_levels": 3,
          "u_probability": 0.9911783406826086
         },
         {
          "bayes_factor": 72.53574732243173,
          "column_name": "surname",
          "gamma_column_name": "gamma_surname",
          "gamma_index": 1,
          "level_name": "level_1",
          "level_proportion": 0.0978493896291879,
          "log2_bayes_factor": 6.180620259320347,
          "m_probability": 0.28518760204315186,
          "max_gamma_index": 2,
          "num_levels": 3,
          "u_probability": 0.0039316835156526665
         },
         {
          "bayes_factor": 130.1834535965362,
          "column_name": "surname",
          "gamma_column_name": "gamma_surname",
          "gamma_index": 2,
          "level_name": "level_2",
          "level_proportion": 0.2158302019532562,
          "log2_bayes_factor": 7.0244022824319305,
          "m_probability": 0.6365939378738403,
          "max_gamma_index": 2,
          "num_levels": 3,
          "u_probability": 0.004889975801738742
         },
         {
          "bayes_factor": 0.5970163892667157,
          "column_name": "dob",
          "gamma_column_name": "gamma_dob",
          "gamma_index": 0,
          "level_name": "level_0",
          "level_proportion": 0.8639221055720187,
          "log2_bayes_factor": -0.7441575580551298,
          "m_probability": 0.5959729552268982,
          "max_gamma_index": 1,
          "num_levels": 2,
          "u_probability": 0.998252252268821
         },
         {
          "bayes_factor": 231.17013248981357,
          "column_name": "dob",
          "gamma_column_name": "gamma_dob",
          "gamma_index": 1,
          "level_name": "level_1",
          "level_proportion": 0.13607790437965017,
          "log2_bayes_factor": 7.852811201400792,
          "m_probability": 0.4040270745754242,
          "max_gamma_index": 1,
          "num_levels": 2,
          "u_probability": 0.001747747731179016
         },
         {
          "bayes_factor": 0.46466673703423494,
          "column_name": "city",
          "gamma_column_name": "gamma_city",
          "gamma_index": 0,
          "level_name": "level_0",
          "level_proportion": 0.7759507297862778,
          "log2_bayes_factor": -1.1057317210379174,
          "m_probability": 0.43904149532318115,
          "max_gamma_index": 1,
          "num_levels": 2,
          "u_probability": 0.9448524293462267
         },
         {
          "bayes_factor": 10.17195314365923,
          "column_name": "city",
          "gamma_column_name": "gamma_city",
          "gamma_index": 1,
          "level_name": "level_1",
          "level_proportion": 0.22404927021372228,
          "log2_bayes_factor": 3.3465248163766077,
          "m_probability": 0.5609585046768188,
          "max_gamma_index": 1,
          "num_levels": 2,
          "u_probability": 0.0551475706537733
         },
         {
          "bayes_factor": 0.4145173228813695,
          "column_name": "email",
          "gamma_column_name": "gamma_email",
          "gamma_index": 0,
          "level_name": "level_0",
          "level_proportion": 0.8027291486352504,
          "log2_bayes_factor": -1.2704957009761506,
          "m_probability": 0.4136079251766205,
          "max_gamma_index": 1,
          "num_levels": 2,
          "u_probability": 0.9978061285872744
         },
         {
          "bayes_factor": 267.28645135002876,
          "column_name": "email",
          "gamma_column_name": "gamma_email",
          "gamma_index": 1,
          "level_name": "level_1",
          "level_proportion": 0.1972708613164185,
          "log2_bayes_factor": 8.062242899538582,
          "m_probability": 0.5863921046257019,
          "max_gamma_index": 1,
          "num_levels": 2,
          "u_probability": 0.002193871412725607
         }
        ]
       },
       "encoding": {
        "color": {
         "field": "log2_bayes_factor",
         "scale": {
          "domain": [
           -10,
           0,
           10
          ],
          "range": [
           "red",
           "orange",
           "green"
          ]
         },
         "type": "quantitative"
        },
        "row": {
         "field": "column_name",
         "header": {
          "labelAlign": "left",
          "labelAnchor": "middle",
          "labelAngle": 0
         },
         "sort": {
          "field": "gamma_index"
         },
         "type": "nominal"
        },
        "tooltip": [
         {
          "field": "column_name",
          "type": "nominal"
         },
         {
          "field": "level_name",
          "type": "ordinal"
         },
         {
          "field": "m_probability",
          "format": ".4f",
          "type": "quantitative"
         },
         {
          "field": "bayes_factor",
          "format": ".4f",
          "type": "quantitative"
         },
         {
          "field": "level_proportion",
          "format": ".2%",
          "title": "Percentage of record comparisons in this level",
          "type": "nominal"
         },
         {
          "field": "log2_bayes_factor",
          "format": ".4f",
          "title": "log2(Bayes factor, K = m/u)",
          "type": "quantitative"
         }
        ],
        "x": {
         "axis": {
          "title": "log2(Bayes factor, K = m/u)",
          "values": [
           -10,
           -5,
           0,
           5,
           10
          ]
         },
         "field": "log2_bayes_factor",
         "scale": {
          "domain": [
           -10,
           10
          ]
         },
         "type": "quantitative"
        },
        "y": {
         "axis": {
          "title": null
         },
         "field": "level_name",
         "type": "nominal"
        }
       },
       "height": 50,
       "mark": {
        "clip": true,
        "type": "bar"
       },
       "resolve": {
        "scale": {
         "y": "independent"
        }
       },
       "selection": {
        "selector076": {
         "bind": "scales",
         "encodings": [
          "x"
         ],
         "type": "interval"
        }
       },
       "title": {
        "subtitle": "Use mousewheeel to zoom",
        "text": "Influence of comparison vector values on match probability"
       }
      },
      "image/png": "[encoded data removed]",
      "text/plain": [
       "<VegaLite 4 object>\n",
       "\n",
       "If you see this message, it means the renderer has not been properly enabled\n",
       "for the frontend that you are using. For more information, see\n",
       "https://altair-viz.github.io/user_guide/troubleshooting.html\n"
      ]
     },
     "execution_count": 14,
     "metadata": {},
     "output_type": "execute_result"
    }
   ],
   "source": [
    "model.bayes_factor_chart()"
   ]
  },
  {
   "cell_type": "code",
   "execution_count": 15,
   "metadata": {},
   "outputs": [],
   "source": [
    "# If charts aren't displaying correctly in your notebook, you can write them to a file (by default splink_charts.html)\n",
    "model.all_charts_write_html_file(filename=\"splink_charts.html\", overwrite=True)"
   ]
  },
  {
   "cell_type": "markdown",
   "metadata": {},
   "source": [
    "You can also generate a report which explains how the match probability was computed for an individual comparison row.  \n",
    "\n",
    "Note that you need to convert the row to a dictionary for this to work"
   ]
  },
  {
   "cell_type": "code",
   "execution_count": 16,
   "metadata": {},
   "outputs": [
    {
     "data": {
      "text/html": [
       "<div>\n",
       "<style scoped>\n",
       "    .dataframe tbody tr th:only-of-type {\n",
       "        vertical-align: middle;\n",
       "    }\n",
       "\n",
       "    .dataframe tbody tr th {\n",
       "        vertical-align: top;\n",
       "    }\n",
       "\n",
       "    .dataframe thead th {\n",
       "        text-align: right;\n",
       "    }\n",
       "</style>\n",
       "<table border=\"1\" class=\"dataframe\">\n",
       "  <thead>\n",
       "    <tr style=\"text-align: right;\">\n",
       "      <th></th>\n",
       "      <th>tf_adjusted_match_prob</th>\n",
       "      <th>match_probability</th>\n",
       "      <th>unique_id_l</th>\n",
       "      <th>unique_id_r</th>\n",
       "      <th>surname_l</th>\n",
       "      <th>surname_r</th>\n",
       "      <th>gamma_surname</th>\n",
       "      <th>dob_l</th>\n",
       "      <th>dob_r</th>\n",
       "      <th>gamma_dob</th>\n",
       "      <th>city_l</th>\n",
       "      <th>city_r</th>\n",
       "      <th>gamma_city</th>\n",
       "      <th>email_l</th>\n",
       "      <th>email_r</th>\n",
       "      <th>gamma_email</th>\n",
       "      <th>group_l</th>\n",
       "      <th>group_r</th>\n",
       "    </tr>\n",
       "  </thead>\n",
       "  <tbody>\n",
       "    <tr>\n",
       "      <th>175</th>\n",
       "      <td>0.909812</td>\n",
       "      <td>0.909812</td>\n",
       "      <td>101</td>\n",
       "      <td>103</td>\n",
       "      <td>Griffiths</td>\n",
       "      <td>Griffihs</td>\n",
       "      <td>1</td>\n",
       "      <td>2008-05-07</td>\n",
       "      <td>2009-04-07</td>\n",
       "      <td>0</td>\n",
       "      <td>Plymouth</td>\n",
       "      <td>Plyoutm</td>\n",
       "      <td>0</td>\n",
       "      <td>a.griffiths@garner-bridges.com</td>\n",
       "      <td>None</td>\n",
       "      <td>-1</td>\n",
       "      <td>29</td>\n",
       "      <td>29</td>\n",
       "    </tr>\n",
       "  </tbody>\n",
       "</table>\n",
       "</div>"
      ],
      "text/plain": [
       "     tf_adjusted_match_prob  match_probability unique_id_l unique_id_r  \\\n",
       "175                0.909812           0.909812         101         103   \n",
       "\n",
       "     surname_l surname_r  gamma_surname       dob_l       dob_r  gamma_dob  \\\n",
       "175  Griffiths  Griffihs              1  2008-05-07  2009-04-07          0   \n",
       "\n",
       "       city_l   city_r  gamma_city                         email_l email_r  \\\n",
       "175  Plymouth  Plyoutm           0  a.griffiths@garner-bridges.com    None   \n",
       "\n",
       "     gamma_email group_l group_r  \n",
       "175           -1      29      29  "
      ]
     },
     "metadata": {},
     "output_type": "display_data"
    },
    {
     "name": "stdout",
     "output_type": "stream",
     "text": [
      "\n",
      "Initial probability of match (prior) = λ = 0.3339\n",
      "------\n",
      "Comparison of surname.  Values are:                \n",
      "surname_l:                                         Griffiths\n",
      "surname_r:                                         Griffihs\n",
      "Comparison has:                                    3 levels\n",
      "Level for this comparison:                         gamma_surname = 1\n",
      "m probability = P(level|match):                    0.2852\n",
      "u probability = P(level|non-match):                0.003932\n",
      "Bayes factor = m/u:                                72.54\n",
      "New probability of match (updated belief):         0.9732\n",
      "\n",
      "------\n",
      "Comparison of dob.  Values are:                    \n",
      "dob_l:                                             2008-05-07\n",
      "dob_r:                                             2009-04-07\n",
      "Comparison has:                                    2 levels\n",
      "Level for this comparison:                         gamma_dob = 0\n",
      "m probability = P(level|match):                    0.596\n",
      "u probability = P(level|non-match):                0.9983\n",
      "Bayes factor = m/u:                                0.597\n",
      "New probability of match (updated belief):         0.956\n",
      "\n",
      "------\n",
      "Comparison of city.  Values are:                   \n",
      "city_l:                                            Plymouth\n",
      "city_r:                                            Plyoutm\n",
      "Comparison has:                                    2 levels\n",
      "Level for this comparison:                         gamma_city = 0\n",
      "m probability = P(level|match):                    0.439\n",
      "u probability = P(level|non-match):                0.9449\n",
      "Bayes factor = m/u:                                0.4647\n",
      "New probability of match (updated belief):         0.9098\n",
      "\n",
      "------\n",
      "Comparison of email.  Values are:                  \n",
      "email_l:                                           a.griffiths@garner-bridges.com\n",
      "email_r:                                           None\n",
      "Comparison has:                                    2 levels\n",
      "Level for this comparison:                         gamma_email = -1\n",
      "m probability = P(level|match):                    1\n",
      "u probability = P(level|non-match):                1\n",
      "Bayes factor = m/u:                                1\n",
      "New probability of match (updated belief):         0.9098\n",
      "\n",
      "\n",
      "Final probability of match = 0.9098\n",
      "\n",
      "Reminder:\n",
      "\n",
      "The m probability for a given level is the proportion of matches which are in this level.\n",
      "We would generally expect the highest similarity level to have the largest proportion of matches.\n",
      "For example, we would expect first name field to match exactly amongst most matching records, except where nicknames, aliases or typos have occurred.\n",
      "For a comparison column that changes through time, like address, we may expect a lower proportion of comparisons to be in the highest similarity level.\n",
      "\n",
      "The u probability for a given level is the proportion of non-matches which are in this level.\n",
      "We would generally expect the lowest similarity level to have the highest proportion of non-matches, but the magnitude depends on the cardinality of the field.\n",
      "For example, we would expect that in the vast majority of non-matching records, the date of birth field would not match.  However, we would expect it to be common for gender to match amongst non-matches.\n",
      "\n"
     ]
    }
   ],
   "source": [
    "from splink.intuition import intuition_report\n",
    "\n",
    "sample = df_e.toPandas().sample(1)\n",
    "row_dict = sample.to_dict(orient=\"records\")[0]\n",
    "display(sample)\n",
    "print(intuition_report(row_dict, model))"
   ]
  },
  {
   "cell_type": "markdown",
   "metadata": {},
   "source": [
    "You can also create a visual representation of this intuition report as a waterfall chart. \n",
    "\n",
    "This uses the Bayes factor to show the relative influence on the final match probability of the λ parameter, and each comparison column for an individual comparison row.\n",
    "\n",
    "Columns that have no influence on the match score (due to missing data) are not shown."
   ]
  },
  {
   "cell_type": "code",
   "execution_count": 17,
   "metadata": {},
   "outputs": [
    {
     "data": {
      "application/vnd.vegalite.v4+json": {
       "$schema": "https://vega.github.io/schema/vega-lite/v4.8.1.json",
       "config": {
        "view": {
         "continuousHeight": 300,
         "continuousWidth": 400
        }
       },
       "data": {
        "name": "data-95f4202776af3f6737c774485749c59e"
       },
       "datasets": {
        "data-95f4202776af3f6737c774485749c59e": [
         {
          "bayes_factor": 0.501327011202626,
          "column_name": "Prior lambda",
          "gamma_column_name": "nan",
          "gamma_index": "nan",
          "index": 0,
          "level_name": "nan",
          "level_proportion": "nan",
          "log2_bayes_factor": -0.9961761271180992,
          "m_probability": "nan",
          "max_gamma_index": "nan",
          "num_levels": "nan",
          "u_probability": "nan",
          "value_l": "nan",
          "value_r": "nan"
         },
         {
          "bayes_factor": 72.53574732243173,
          "column_name": "surname",
          "gamma_column_name": "gamma_surname",
          "gamma_index": 1,
          "index": 1,
          "level_name": "level_1",
          "level_proportion": 0.0978493896291879,
          "log2_bayes_factor": 6.180620259320347,
          "m_probability": 0.28518760204315186,
          "max_gamma_index": 2,
          "num_levels": 3,
          "u_probability": 0.0039316835156526665,
          "value_l": "Griffiths",
          "value_r": "Griffihs"
         },
         {
          "bayes_factor": 0.46466673703423494,
          "column_name": "city",
          "gamma_column_name": "gamma_city",
          "gamma_index": 0,
          "index": 2,
          "level_name": "level_0",
          "level_proportion": 0.7759507297862778,
          "log2_bayes_factor": -1.1057317210379174,
          "m_probability": 0.43904149532318115,
          "max_gamma_index": 1,
          "num_levels": 2,
          "u_probability": 0.9448524293462267,
          "value_l": "Plymouth",
          "value_r": "Plyoutm"
         },
         {
          "bayes_factor": 0.5970163892667157,
          "column_name": "dob",
          "gamma_column_name": "gamma_dob",
          "gamma_index": 0,
          "index": 3,
          "level_name": "level_0",
          "level_proportion": 0.8639221055720187,
          "log2_bayes_factor": -0.7441575580551298,
          "m_probability": 0.5959729552268982,
          "max_gamma_index": 1,
          "num_levels": 2,
          "u_probability": 0.998252252268821,
          "value_l": "2008-05-07",
          "value_r": "2009-04-07"
         },
         {
          "bayes_factor": 1,
          "column_name": "email",
          "gamma_column_name": "gamma_email",
          "gamma_index": -1,
          "index": 4,
          "level_name": "level_-1",
          "level_proportion": 1,
          "log2_bayes_factor": 0,
          "m_probability": 1,
          "max_gamma_index": 1,
          "num_levels": 2,
          "u_probability": 1,
          "value_l": "a.griffiths@garner-bridges.com",
          "value_r": "None"
         },
         {
          "bayes_factor": 10.087906143626613,
          "column_name": "Final score",
          "gamma_column_name": "nan",
          "gamma_index": "nan",
          "index": 5,
          "level_name": "nan",
          "level_proportion": "nan",
          "log2_bayes_factor": 3.3345548531092,
          "m_probability": "nan",
          "max_gamma_index": "nan",
          "num_levels": "nan",
          "u_probability": "nan",
          "value_l": "nan",
          "value_r": "nan"
         }
        ]
       },
       "height": 450,
       "layer": [
        {
         "layer": [
          {
           "encoding": {
            "color": {
             "value": "black"
            },
            "size": {
             "value": 0.5
            },
            "y": {
             "field": "zero",
             "type": "quantitative"
            }
           },
           "mark": "rule"
          },
          {
           "encoding": {
            "color": {
             "condition": {
              "test": "(datum.log2_bayes_factor < 0)",
              "value": "red"
             },
             "value": "green"
            },
            "opacity": {
             "condition": {
              "test": "datum.column_name == 'Prior lambda' || datum.column_name == 'Final score'",
              "value": 1
             },
             "value": 0.5
            },
            "tooltip": [
             {
              "field": "column_name",
              "title": "Comparison column",
              "type": "nominal"
             },
             {
              "field": "value_l",
              "title": "Value (L)",
              "type": "nominal"
             },
             {
              "field": "value_r",
              "title": "Value (R)",
              "type": "nominal"
             },
             {
              "field": "gamma_index",
              "title": "Gamma level",
              "type": "nominal"
             },
             {
              "field": "max_gamma_index",
              "title": "Max gamma level",
              "type": "nominal"
             },
             {
              "field": "bayes_factor",
              "format": ".3r",
              "title": "Bayes factor",
              "type": "quantitative"
             },
             {
              "field": "log2_bayes_factor",
              "format": ".3r",
              "title": "log2(Bayes factor)",
              "type": "quantitative"
             },
             {
              "field": "prob",
              "format": ".3r",
              "title": "Adjusted match score",
              "type": "quantitative"
             }
            ],
            "x": {
             "axis": {
              "grid": true,
              "labelAlign": "center",
              "labelAngle": -20,
              "labelExpr": "datum.value == 'Prior lambda' || datum.value == 'Final score' ? '' : datum.value",
              "labelPadding": 10,
              "tickBand": "extent",
              "title": "Column"
             },
             "field": "column_name",
             "sort": null,
             "type": "nominal"
            },
            "y": {
             "axis": {
              "grid": false,
              "orient": "left",
              "title": "log2(Bayes factor)"
             },
             "field": "previous_sum",
             "type": "quantitative"
            },
            "y2": {
             "field": "sum"
            }
           },
           "mark": {
            "type": "bar",
            "width": 60
           }
          },
          {
           "encoding": {
            "color": {
             "value": "white"
            },
            "text": {
             "condition": {
              "field": "log2_bayes_factor",
              "format": ".2f",
              "test": "abs(datum.log2_bayes_factor) > 1",
              "type": "nominal"
             },
             "value": ""
            },
            "x": {
             "axis": {
              "labelAngle": 0,
              "title": "Column"
             },
             "field": "column_name",
             "sort": null,
             "type": "nominal"
            },
            "y": {
             "axis": {
              "orient": "left"
             },
             "field": "center",
             "type": "quantitative"
            }
           },
           "mark": {
            "fontWeight": "bold",
            "type": "text"
           }
          },
          {
           "encoding": {
            "color": {
             "value": "black"
            },
            "text": {
             "condition": {
              "field": "top_label",
              "test": "abs(datum.log2_bayes_factor) > 1",
              "type": "nominal"
             },
             "value": ""
            },
            "x": {
             "axis": {
              "labelAngle": 0,
              "title": "Column"
             },
             "field": "column_name",
             "sort": null,
             "type": "nominal"
            },
            "y": {
             "field": "sum_top",
             "type": "quantitative"
            }
           },
           "mark": {
            "baseline": "bottom",
            "dy": -5,
            "fontWeight": "bold",
            "type": "text"
           }
          },
          {
           "encoding": {
            "color": {
             "value": "black"
            },
            "text": {
             "condition": {
              "field": "bottom_label",
              "test": "abs(datum.log2_bayes_factor) > 1",
              "type": "nominal"
             },
             "value": ""
            },
            "x": {
             "axis": {
              "labelAngle": 0,
              "title": "Column"
             },
             "field": "column_name",
             "sort": null,
             "type": "nominal"
            },
            "y": {
             "field": "sum_bottom",
             "type": "quantitative"
            }
           },
           "mark": {
            "baseline": "top",
            "dy": 5,
            "fontWeight": "bold",
            "type": "text"
           }
          }
         ]
        },
        {
         "encoding": {
          "x": {
           "axis": {
            "labelAngle": 0,
            "title": "Column"
           },
           "field": "column_name",
           "sort": null,
           "type": "nominal"
          },
          "x2": {
           "field": "lead"
          },
          "y": {
           "axis": {
            "labelExpr": "format(1 / (1 + pow(2, -1*datum.value)), '.2r')",
            "orient": "right",
            "title": "Probability"
           },
           "field": "sum",
           "scale": {
            "zero": false
           },
           "type": "quantitative"
          }
         },
         "mark": {
          "color": "black",
          "strokeWidth": 2,
          "type": "rule",
          "x2Offset": 30,
          "xOffset": -30
         }
        }
       ],
       "resolve": {
        "axis": {
         "y": "independent"
        }
       },
       "title": {
        "subtitle": "How each comparison column contributes to the final match score",
        "text": "Bayes factor intuition chart"
       },
       "transform": [
        {
         "filter": "(datum.bayes_factor !== 1.0)"
        },
        {
         "frame": [
          null,
          0
         ],
         "window": [
          {
           "as": "sum",
           "field": "log2_bayes_factor",
           "op": "sum"
          },
          {
           "as": "lead",
           "field": "column_name",
           "op": "lead"
          }
         ]
        },
        {
         "as": "sum",
         "calculate": "datum.column_name === \"Final score\" ? datum.sum - datum.log2_bayes_factor : datum.sum"
        },
        {
         "as": "lead",
         "calculate": "datum.lead === null ? datum.column_name : datum.lead"
        },
        {
         "as": "previous_sum",
         "calculate": "datum.column_name === \"Final score\" || datum.column_name === \"Prior lambda\" ? 0 : datum.sum - datum.log2_bayes_factor"
        },
        {
         "as": "top_label",
         "calculate": "datum.sum > datum.previous_sum ? datum.column_name : \"\""
        },
        {
         "as": "bottom_label",
         "calculate": "datum.sum < datum.previous_sum ? datum.column_name : \"\""
        },
        {
         "as": "sum_top",
         "calculate": "datum.sum > datum.previous_sum ? datum.sum : datum.previous_sum"
        },
        {
         "as": "sum_bottom",
         "calculate": "datum.sum < datum.previous_sum ? datum.sum : datum.previous_sum"
        },
        {
         "as": "center",
         "calculate": "(datum.sum + datum.previous_sum) / 2"
        },
        {
         "as": "text_log2_bayes_factor",
         "calculate": "(datum.log2_bayes_factor > 0 ? \"+\" : \"\") + datum.log2_bayes_factor"
        },
        {
         "as": "dy",
         "calculate": "datum.sum < datum.previous_sum ? 4 : -4"
        },
        {
         "as": "baseline",
         "calculate": "datum.sum < datum.previous_sum ? \"top\" : \"bottom\""
        },
        {
         "as": "prob",
         "calculate": "1. / (1 + pow(2, -1.*datum.sum))"
        },
        {
         "as": "zero",
         "calculate": "0*datum.sum"
        }
       ],
       "width": {
        "step": 75
       }
      },
      "image/png": "[encoded data removed]",
      "text/plain": [
       "<VegaLite 4 object>\n",
       "\n",
       "If you see this message, it means the renderer has not been properly enabled\n",
       "for the frontend that you are using. For more information, see\n",
       "https://altair-viz.github.io/user_guide/troubleshooting.html\n"
      ]
     },
     "execution_count": 17,
     "metadata": {},
     "output_type": "execute_result"
    }
   ],
   "source": [
    "from splink.intuition import bayes_factor_intuition_chart\n",
    "\n",
    "bayes_factor_intuition_chart(row_dict, model)"
   ]
  },
  {
   "cell_type": "markdown",
   "metadata": {},
   "source": [
    "## Step 6: Measure accuracy of results \n",
    "\n",
    "If you have labelled data, Splink contains routines to compute various accuracy statistics.\n",
    "\n",
    "The labelled data should look like this:\n",
    "\n",
    "| unique_id_l | unique_id_r | clerical_match_score |\n",
    "|:------------|:------------|---------------------:|\n",
    "| id1         | id2         |                  0.9 |\n",
    "| id1         | id3         |                  0.1 |\n",
    "\n",
    "Since we have labelled data, in this noteboko I create this table from the 'group' field of the original data\n",
    "\n"
   ]
  },
  {
   "cell_type": "markdown",
   "metadata": {},
   "source": [
    "**Note: We will fine that the overall accuracy of these results is low because our blocking rule eliminates a large percentage of true matches**"
   ]
  },
  {
   "cell_type": "code",
   "execution_count": 18,
   "metadata": {},
   "outputs": [
    {
     "data": {
      "text/html": [
       "<div>\n",
       "<style scoped>\n",
       "    .dataframe tbody tr th:only-of-type {\n",
       "        vertical-align: middle;\n",
       "    }\n",
       "\n",
       "    .dataframe tbody tr th {\n",
       "        vertical-align: top;\n",
       "    }\n",
       "\n",
       "    .dataframe thead th {\n",
       "        text-align: right;\n",
       "    }\n",
       "</style>\n",
       "<table border=\"1\" class=\"dataframe\">\n",
       "  <thead>\n",
       "    <tr style=\"text-align: right;\">\n",
       "      <th></th>\n",
       "      <th>unique_id_l</th>\n",
       "      <th>unique_id_r</th>\n",
       "      <th>clerical_match_score</th>\n",
       "    </tr>\n",
       "  </thead>\n",
       "  <tbody>\n",
       "    <tr>\n",
       "      <th>1</th>\n",
       "      <td>814</td>\n",
       "      <td>274</td>\n",
       "      <td>0.0</td>\n",
       "    </tr>\n",
       "    <tr>\n",
       "      <th>3</th>\n",
       "      <td>814</td>\n",
       "      <td>606</td>\n",
       "      <td>0.0</td>\n",
       "    </tr>\n",
       "    <tr>\n",
       "      <th>4</th>\n",
       "      <td>814</td>\n",
       "      <td>657</td>\n",
       "      <td>0.0</td>\n",
       "    </tr>\n",
       "    <tr>\n",
       "      <th>6</th>\n",
       "      <td>814</td>\n",
       "      <td>812</td>\n",
       "      <td>0.0</td>\n",
       "    </tr>\n",
       "    <tr>\n",
       "      <th>7</th>\n",
       "      <td>814</td>\n",
       "      <td>620</td>\n",
       "      <td>0.0</td>\n",
       "    </tr>\n",
       "  </tbody>\n",
       "</table>\n",
       "</div>"
      ],
      "text/plain": [
       "  unique_id_l unique_id_r  clerical_match_score\n",
       "1         814         274                   0.0\n",
       "3         814         606                   0.0\n",
       "4         814         657                   0.0\n",
       "6         814         812                   0.0\n",
       "7         814         620                   0.0"
      ]
     },
     "execution_count": 18,
     "metadata": {},
     "output_type": "execute_result"
    }
   ],
   "source": [
    "cols = ['unique_id', 'group']\n",
    "dfpd_l = df.toPandas().sample(300)[cols]\n",
    "dfpd_l[\"join_col\"] = 1\n",
    "dfpd_r = dfpd_l.copy()\n",
    "labels = dfpd_l.merge(dfpd_r, on = \"join_col\", suffixes=('_l', '_r'))\n",
    "labels = labels[labels[\"unique_id_r\"]< labels[\"unique_id_l\"]]\n",
    "labels[\"clerical_match_score\"] = (labels[\"group_l\"] == labels[\"group_r\"]).astype(float)\n",
    "labels = labels.drop([\"group_l\", \"group_r\", \"join_col\"], axis=1)\n",
    "labels.head()"
   ]
  },
  {
   "cell_type": "code",
   "execution_count": 19,
   "metadata": {},
   "outputs": [
    {
     "name": "stdout",
     "output_type": "stream",
     "text": [
      "+-----------+-----------+--------------------+----------------------+-----------------+\n",
      "|unique_id_l|unique_id_r|clerical_match_score|tf_adjusted_match_prob|found_by_blocking|\n",
      "+-----------+-----------+--------------------+----------------------+-----------------+\n",
      "|         21|        109|                 0.0|                   0.0|            false|\n",
      "|        265|        109|                 0.0|                   0.0|            false|\n",
      "|        353|        109|                 0.0|                   0.0|            false|\n",
      "|        356|        109|                 0.0|                   0.0|            false|\n",
      "|        372|        109|                 0.0|                   0.0|            false|\n",
      "|        388|        109|                 0.0|                   0.0|            false|\n",
      "|        438|        109|                 0.0|                   0.0|            false|\n",
      "|        445|        109|                 0.0|                   0.0|            false|\n",
      "|        452|        109|                 0.0|                   0.0|            false|\n",
      "|        458|        109|                 0.0|                   0.0|            false|\n",
      "|        495|        109|                 0.0|                   0.0|            false|\n",
      "|        500|        109|                 0.0|                   0.0|            false|\n",
      "|        501|        109|                 0.0|                   0.0|            false|\n",
      "|        514|        109|                 0.0|                   0.0|            false|\n",
      "|        520|        109|                 0.0|                   0.0|            false|\n",
      "|        563|        109|                 0.0|                   0.0|            false|\n",
      "|        582|        109|                 0.0|                   0.0|            false|\n",
      "|        591|        109|                 0.0|                   0.0|            false|\n",
      "|        634|        109|                 0.0|                   0.0|            false|\n",
      "|         68|        109|                 0.0|                   0.0|            false|\n",
      "+-----------+-----------+--------------------+----------------------+-----------------+\n",
      "only showing top 20 rows\n",
      "\n"
     ]
    }
   ],
   "source": [
    "from splink.truth import labels_with_splink_scores, roc_chart, precision_recall_chart\n",
    "labels_sp = spark.createDataFrame(labels)\n",
    "labels_and_scores = labels_with_splink_scores(labels_sp, df_e, \"unique_id\", spark)\n",
    "labels_and_scores.show()"
   ]
  },
  {
   "cell_type": "code",
   "execution_count": 20,
   "metadata": {},
   "outputs": [
    {
     "data": {
      "text/html": [
       "<div>\n",
       "<style scoped>\n",
       "    .dataframe tbody tr th:only-of-type {\n",
       "        vertical-align: middle;\n",
       "    }\n",
       "\n",
       "    .dataframe tbody tr th {\n",
       "        vertical-align: top;\n",
       "    }\n",
       "\n",
       "    .dataframe thead th {\n",
       "        text-align: right;\n",
       "    }\n",
       "</style>\n",
       "<table border=\"1\" class=\"dataframe\">\n",
       "  <thead>\n",
       "    <tr style=\"text-align: right;\">\n",
       "      <th></th>\n",
       "      <th>unique_id_l</th>\n",
       "      <th>unique_id_r</th>\n",
       "      <th>clerical_match_score</th>\n",
       "      <th>tf_adjusted_match_prob</th>\n",
       "      <th>found_by_blocking</th>\n",
       "    </tr>\n",
       "  </thead>\n",
       "  <tbody>\n",
       "    <tr>\n",
       "      <th>21176</th>\n",
       "      <td>536</td>\n",
       "      <td>534</td>\n",
       "      <td>1.0</td>\n",
       "      <td>0.000000</td>\n",
       "      <td>False</td>\n",
       "    </tr>\n",
       "    <tr>\n",
       "      <th>44316</th>\n",
       "      <td>711</td>\n",
       "      <td>707</td>\n",
       "      <td>1.0</td>\n",
       "      <td>0.000000</td>\n",
       "      <td>False</td>\n",
       "    </tr>\n",
       "    <tr>\n",
       "      <th>39531</th>\n",
       "      <td>145</td>\n",
       "      <td>144</td>\n",
       "      <td>1.0</td>\n",
       "      <td>0.000000</td>\n",
       "      <td>False</td>\n",
       "    </tr>\n",
       "    <tr>\n",
       "      <th>31624</th>\n",
       "      <td>429</td>\n",
       "      <td>427</td>\n",
       "      <td>1.0</td>\n",
       "      <td>0.000000</td>\n",
       "      <td>False</td>\n",
       "    </tr>\n",
       "    <tr>\n",
       "      <th>26163</th>\n",
       "      <td>442</td>\n",
       "      <td>445</td>\n",
       "      <td>1.0</td>\n",
       "      <td>0.999885</td>\n",
       "      <td>True</td>\n",
       "    </tr>\n",
       "    <tr>\n",
       "      <th>11107</th>\n",
       "      <td>903</td>\n",
       "      <td>902</td>\n",
       "      <td>1.0</td>\n",
       "      <td>0.000000</td>\n",
       "      <td>False</td>\n",
       "    </tr>\n",
       "    <tr>\n",
       "      <th>28000</th>\n",
       "      <td>866</td>\n",
       "      <td>864</td>\n",
       "      <td>1.0</td>\n",
       "      <td>0.000000</td>\n",
       "      <td>False</td>\n",
       "    </tr>\n",
       "    <tr>\n",
       "      <th>35806</th>\n",
       "      <td>293</td>\n",
       "      <td>291</td>\n",
       "      <td>1.0</td>\n",
       "      <td>0.000000</td>\n",
       "      <td>False</td>\n",
       "    </tr>\n",
       "    <tr>\n",
       "      <th>36614</th>\n",
       "      <td>385</td>\n",
       "      <td>387</td>\n",
       "      <td>1.0</td>\n",
       "      <td>1.000000</td>\n",
       "      <td>True</td>\n",
       "    </tr>\n",
       "    <tr>\n",
       "      <th>17339</th>\n",
       "      <td>147</td>\n",
       "      <td>145</td>\n",
       "      <td>1.0</td>\n",
       "      <td>0.000000</td>\n",
       "      <td>False</td>\n",
       "    </tr>\n",
       "  </tbody>\n",
       "</table>\n",
       "</div>"
      ],
      "text/plain": [
       "      unique_id_l unique_id_r  clerical_match_score  tf_adjusted_match_prob  \\\n",
       "21176         536         534                   1.0                0.000000   \n",
       "44316         711         707                   1.0                0.000000   \n",
       "39531         145         144                   1.0                0.000000   \n",
       "31624         429         427                   1.0                0.000000   \n",
       "26163         442         445                   1.0                0.999885   \n",
       "11107         903         902                   1.0                0.000000   \n",
       "28000         866         864                   1.0                0.000000   \n",
       "35806         293         291                   1.0                0.000000   \n",
       "36614         385         387                   1.0                1.000000   \n",
       "17339         147         145                   1.0                0.000000   \n",
       "\n",
       "       found_by_blocking  \n",
       "21176              False  \n",
       "44316              False  \n",
       "39531              False  \n",
       "31624              False  \n",
       "26163               True  \n",
       "11107              False  \n",
       "28000              False  \n",
       "35806              False  \n",
       "36614               True  \n",
       "17339              False  "
      ]
     },
     "execution_count": 20,
     "metadata": {},
     "output_type": "execute_result"
    }
   ],
   "source": [
    "labels_and_scores_pd = labels_and_scores.toPandas()\n",
    "f1 = labels_and_scores_pd[\"clerical_match_score\"] == 1.0\n",
    "labels_and_scores_pd[f1].sample(10)"
   ]
  },
  {
   "cell_type": "code",
   "execution_count": 21,
   "metadata": {},
   "outputs": [
    {
     "data": {
      "application/vnd.vegalite.v4+json": {
       "$schema": "https://vega.github.io/schema/vega-lite/v4.8.1.json",
       "config": {
        "view": {
         "continuousHeight": 300,
         "continuousWidth": 400
        }
       },
       "data": {
        "name": "data-fadd0e93e9546856cbc745a99e65285d",
        "values": [
         {
          "FN": 0,
          "FN_rate": 0,
          "FP": 44667,
          "FP_rate": 1,
          "N": 44667,
          "N_rate": 0.9959197324414716,
          "P": 183,
          "P_rate": 0.004080267558528428,
          "TN": 0,
          "TN_rate": 0,
          "TP": 183,
          "TP_rate": 1,
          "precision": 0.004080267558528428,
          "recall": 1,
          "row_count": 44850,
          "truth_threshold": 0
         },
         {
          "FN": 136,
          "FN_rate": 0.7431693989071039,
          "FP": 95,
          "FP_rate": 0.002126849799628361,
          "N": 44667,
          "N_rate": 0.9959197324414716,
          "P": 183,
          "P_rate": 0.004080267558528428,
          "TN": 44572,
          "TN_rate": 0.9978731502003716,
          "TP": 47,
          "TP_rate": 0.2568306010928962,
          "precision": 0.33098591549295775,
          "recall": 0.2568306010928962,
          "row_count": 44850,
          "truth_threshold": 0.00452874569139509
         },
         {
          "FN": 136,
          "FN_rate": 0.7431693989071039,
          "FP": 64,
          "FP_rate": 0.0014328251281706852,
          "N": 44667,
          "N_rate": 0.9959197324414716,
          "P": 183,
          "P_rate": 0.004080267558528428,
          "TN": 44603,
          "TN_rate": 0.9985671748718293,
          "TP": 47,
          "TP_rate": 0.2568306010928962,
          "precision": 0.42342342342342343,
          "recall": 0.2568306010928962,
          "row_count": 44850,
          "truth_threshold": 0.009695636347287344
         },
         {
          "FN": 136,
          "FN_rate": 0.7431693989071039,
          "FP": 51,
          "FP_rate": 0.0011417825240110147,
          "N": 44667,
          "N_rate": 0.9959197324414716,
          "P": 183,
          "P_rate": 0.004080267558528428,
          "TN": 44616,
          "TN_rate": 0.998858217475989,
          "TP": 47,
          "TP_rate": 0.2568306010928962,
          "precision": 0.47959183673469385,
          "recall": 0.2568306010928962,
          "row_count": 44850,
          "truth_threshold": 0.010855906337295178
         },
         {
          "FN": 136,
          "FN_rate": 0.7431693989071039,
          "FP": 37,
          "FP_rate": 0.0008283520272236774,
          "N": 44667,
          "N_rate": 0.9959197324414716,
          "P": 183,
          "P_rate": 0.004080267558528428,
          "TN": 44630,
          "TN_rate": 0.9991716479727764,
          "TP": 47,
          "TP_rate": 0.2568306010928962,
          "precision": 0.5595238095238095,
          "recall": 0.2568306010928962,
          "row_count": 44850,
          "truth_threshold": 0.023074193112825325
         },
         {
          "FN": 136,
          "FN_rate": 0.7431693989071039,
          "FP": 34,
          "FP_rate": 0.0007611883493406766,
          "N": 44667,
          "N_rate": 0.9959197324414716,
          "P": 183,
          "P_rate": 0.004080267558528428,
          "TN": 44633,
          "TN_rate": 0.9992388116506593,
          "TP": 47,
          "TP_rate": 0.2568306010928962,
          "precision": 0.5802469135802469,
          "recall": 0.2568306010928962,
          "row_count": 44850,
          "truth_threshold": 0.042072918165910134
         },
         {
          "FN": 136,
          "FN_rate": 0.7431693989071039,
          "FP": 33,
          "FP_rate": 0.0007388004567130096,
          "N": 44667,
          "N_rate": 0.9959197324414716,
          "P": 183,
          "P_rate": 0.004080267558528428,
          "TN": 44634,
          "TN_rate": 0.999261199543287,
          "TP": 47,
          "TP_rate": 0.2568306010928962,
          "precision": 0.5875,
          "recall": 0.2568306010928962,
          "row_count": 44850,
          "truth_threshold": 0.05450672303301802
         },
         {
          "FN": 137,
          "FN_rate": 0.7486338797814208,
          "FP": 18,
          "FP_rate": 0.00040298206729800525,
          "N": 44667,
          "N_rate": 0.9959197324414716,
          "P": 183,
          "P_rate": 0.004080267558528428,
          "TN": 44649,
          "TN_rate": 0.999597017932702,
          "TP": 46,
          "TP_rate": 0.25136612021857924,
          "precision": 0.71875,
          "recall": 0.25136612021857924,
          "row_count": 44850,
          "truth_threshold": 0.059991574909238586
         },
         {
          "FN": 137,
          "FN_rate": 0.7486338797814208,
          "FP": 17,
          "FP_rate": 0.0003805941746703383,
          "N": 44667,
          "N_rate": 0.9959197324414716,
          "P": 183,
          "P_rate": 0.004080267558528428,
          "TN": 44650,
          "TN_rate": 0.9996194058253297,
          "TP": 46,
          "TP_rate": 0.25136612021857924,
          "precision": 0.7301587301587301,
          "recall": 0.25136612021857924,
          "row_count": 44850,
          "truth_threshold": 0.08191121322438148
         },
         {
          "FN": 138,
          "FN_rate": 0.7540983606557377,
          "FP": 17,
          "FP_rate": 0.0003805941746703383,
          "N": 44667,
          "N_rate": 0.9959197324414716,
          "P": 183,
          "P_rate": 0.004080267558528428,
          "TN": 44650,
          "TN_rate": 0.9996194058253297,
          "TP": 45,
          "TP_rate": 0.2459016393442623,
          "precision": 0.7258064516129032,
          "recall": 0.2459016393442623,
          "row_count": 44850,
          "truth_threshold": 0.09580528431779164
         },
         {
          "FN": 138,
          "FN_rate": 0.7540983606557377,
          "FP": 16,
          "FP_rate": 0.0003582062820426713,
          "N": 44667,
          "N_rate": 0.9959197324414716,
          "P": 183,
          "P_rate": 0.004080267558528428,
          "TN": 44651,
          "TN_rate": 0.9996417937179574,
          "TP": 45,
          "TP_rate": 0.2459016393442623,
          "precision": 0.7377049180327869,
          "recall": 0.2459016393442623,
          "row_count": 44850,
          "truth_threshold": 0.1103719036930914
         },
         {
          "FN": 139,
          "FN_rate": 0.7595628415300546,
          "FP": 12,
          "FP_rate": 0.0002686547115320035,
          "N": 44667,
          "N_rate": 0.9959197324414716,
          "P": 183,
          "P_rate": 0.004080267558528428,
          "TN": 44655,
          "TN_rate": 0.999731345288468,
          "TP": 44,
          "TP_rate": 0.24043715846994534,
          "precision": 0.7857142857142857,
          "recall": 0.24043715846994534,
          "row_count": 44850,
          "truth_threshold": 0.12209465111308242
         },
         {
          "FN": 139,
          "FN_rate": 0.7595628415300546,
          "FP": 4,
          "FP_rate": 8.955157051066783e-05,
          "N": 44667,
          "N_rate": 0.9959197324414716,
          "P": 183,
          "P_rate": 0.004080267558528428,
          "TN": 44663,
          "TN_rate": 0.9999104484294893,
          "TP": 44,
          "TP_rate": 0.24043715846994534,
          "precision": 0.9166666666666666,
          "recall": 0.24043715846994534,
          "row_count": 44850,
          "truth_threshold": 0.133420947177862
         },
         {
          "FN": 139,
          "FN_rate": 0.7595628415300546,
          "FP": 2,
          "FP_rate": 4.477578525533391e-05,
          "N": 44667,
          "N_rate": 0.9959197324414716,
          "P": 183,
          "P_rate": 0.004080267558528428,
          "TN": 44665,
          "TN_rate": 0.9999552242147447,
          "TP": 44,
          "TP_rate": 0.24043715846994534,
          "precision": 0.9565217391304348,
          "recall": 0.24043715846994534,
          "row_count": 44850,
          "truth_threshold": 0.23035506829599467
         },
         {
          "FN": 141,
          "FN_rate": 0.7704918032786885,
          "FP": 0,
          "FP_rate": 0,
          "N": 44667,
          "N_rate": 0.9959197324414716,
          "P": 183,
          "P_rate": 0.004080267558528428,
          "TN": 44667,
          "TN_rate": 1,
          "TP": 42,
          "TP_rate": 0.22950819672131148,
          "precision": 1,
          "recall": 0.22950819672131148,
          "row_count": 44850,
          "truth_threshold": 0.3239635034122834
         },
         {
          "FN": 142,
          "FN_rate": 0.7759562841530054,
          "FP": 0,
          "FP_rate": 0,
          "N": 44667,
          "N_rate": 0.9959197324414716,
          "P": 183,
          "P_rate": 0.004080267558528428,
          "TN": 44667,
          "TN_rate": 1,
          "TP": 41,
          "TP_rate": 0.22404371584699453,
          "precision": 1,
          "recall": 0.22404371584699453,
          "row_count": 44850,
          "truth_threshold": 0.6831990401393857
         },
         {
          "FN": 145,
          "FN_rate": 0.7923497267759563,
          "FP": 0,
          "FP_rate": 0,
          "N": 44667,
          "N_rate": 0.9959197324414716,
          "P": 183,
          "P_rate": 0.004080267558528428,
          "TN": 44667,
          "TN_rate": 1,
          "TP": 38,
          "TP_rate": 0.20765027322404372,
          "precision": 1,
          "recall": 0.20765027322404372,
          "row_count": 44850,
          "truth_threshold": 0.8387765513111795
         },
         {
          "FN": 147,
          "FN_rate": 0.8032786885245902,
          "FP": 0,
          "FP_rate": 0,
          "N": 44667,
          "N_rate": 0.9959197324414716,
          "P": 183,
          "P_rate": 0.004080267558528428,
          "TN": 44667,
          "TN_rate": 1,
          "TP": 36,
          "TP_rate": 0.19672131147540983,
          "precision": 1,
          "recall": 0.19672131147540983,
          "row_count": 44850,
          "truth_threshold": 0.8413475542725717
         },
         {
          "FN": 148,
          "FN_rate": 0.8087431693989071,
          "FP": 0,
          "FP_rate": 0,
          "N": 44667,
          "N_rate": 0.9959197324414716,
          "P": 183,
          "P_rate": 0.004080267558528428,
          "TN": 44667,
          "TN_rate": 1,
          "TP": 35,
          "TP_rate": 0.1912568306010929,
          "precision": 1,
          "recall": 0.1912568306010929,
          "row_count": 44850,
          "truth_threshold": 0.8790475173062154
         },
         {
          "FN": 149,
          "FN_rate": 0.8142076502732241,
          "FP": 0,
          "FP_rate": 0,
          "N": 44667,
          "N_rate": 0.9959197324414716,
          "P": 183,
          "P_rate": 0.004080267558528428,
          "TN": 44667,
          "TN_rate": 1,
          "TP": 34,
          "TP_rate": 0.18579234972677597,
          "precision": 1,
          "recall": 0.18579234972677597,
          "row_count": 44850,
          "truth_threshold": 0.9559664981906162
         },
         {
          "FN": 150,
          "FN_rate": 0.819672131147541,
          "FP": 0,
          "FP_rate": 0,
          "N": 44667,
          "N_rate": 0.9959197324414716,
          "P": 183,
          "P_rate": 0.004080267558528428,
          "TN": 44667,
          "TN_rate": 1,
          "TP": 33,
          "TP_rate": 0.18032786885245902,
          "precision": 1,
          "recall": 0.18032786885245902,
          "row_count": 44850,
          "truth_threshold": 0.9571224079622066
         },
         {
          "FN": 151,
          "FN_rate": 0.825136612021858,
          "FP": 0,
          "FP_rate": 0,
          "N": 44667,
          "N_rate": 0.9959197324414716,
          "P": 183,
          "P_rate": 0.004080267558528428,
          "TN": 44667,
          "TN_rate": 1,
          "TP": 32,
          "TP_rate": 0.17486338797814208,
          "precision": 1,
          "recall": 0.17486338797814208,
          "row_count": 44850,
          "truth_threshold": 0.9738033724216435
         },
         {
          "FN": 153,
          "FN_rate": 0.8360655737704918,
          "FP": 0,
          "FP_rate": 0,
          "N": 44667,
          "N_rate": 0.9959197324414716,
          "P": 183,
          "P_rate": 0.004080267558528428,
          "TN": 44667,
          "TN_rate": 1,
          "TP": 30,
          "TP_rate": 0.16393442622950818,
          "precision": 1,
          "recall": 0.16393442622950818,
          "row_count": 44850,
          "truth_threshold": 0.9817688181549115
         },
         {
          "FN": 154,
          "FN_rate": 0.8415300546448088,
          "FP": 0,
          "FP_rate": 0,
          "N": 44667,
          "N_rate": 0.9959197324414716,
          "P": 183,
          "P_rate": 0.004080267558528428,
          "TN": 44667,
          "TN_rate": 1,
          "TP": 29,
          "TP_rate": 0.15846994535519127,
          "precision": 1,
          "recall": 0.15846994535519127,
          "row_count": 44850,
          "truth_threshold": 0.9871655899340783
         },
         {
          "FN": 155,
          "FN_rate": 0.8469945355191257,
          "FP": 0,
          "FP_rate": 0,
          "N": 44667,
          "N_rate": 0.9959197324414716,
          "P": 183,
          "P_rate": 0.004080267558528428,
          "TN": 44667,
          "TN_rate": 1,
          "TP": 28,
          "TP_rate": 0.15300546448087432,
          "precision": 1,
          "recall": 0.15300546448087432,
          "row_count": 44850,
          "truth_threshold": 0.9876541614136367
         },
         {
          "FN": 156,
          "FN_rate": 0.8524590163934426,
          "FP": 0,
          "FP_rate": 0,
          "N": 44667,
          "N_rate": 0.9959197324414716,
          "P": 183,
          "P_rate": 0.004080267558528428,
          "TN": 44667,
          "TN_rate": 1,
          "TP": 27,
          "TP_rate": 0.14754098360655737,
          "precision": 1,
          "recall": 0.14754098360655737,
          "row_count": 44850,
          "truth_threshold": 0.9914450822926767
         },
         {
          "FN": 157,
          "FN_rate": 0.8579234972677595,
          "FP": 0,
          "FP_rate": 0,
          "N": 44667,
          "N_rate": 0.9959197324414716,
          "P": 183,
          "P_rate": 0.004080267558528428,
          "TN": 44667,
          "TN_rate": 1,
          "TP": 26,
          "TP_rate": 0.14207650273224043,
          "precision": 1,
          "recall": 0.14207650273224043,
          "row_count": 44850,
          "truth_threshold": 0.9935428683365419
         },
         {
          "FN": 159,
          "FN_rate": 0.8688524590163934,
          "FP": 0,
          "FP_rate": 0,
          "N": 44667,
          "N_rate": 0.9959197324414716,
          "P": 183,
          "P_rate": 0.004080267558528428,
          "TN": 44667,
          "TN_rate": 1,
          "TP": 24,
          "TP_rate": 0.13114754098360656,
          "precision": 1,
          "recall": 0.13114754098360656,
          "row_count": 44850,
          "truth_threshold": 0.9976111719484397
         },
         {
          "FN": 160,
          "FN_rate": 0.8743169398907104,
          "FP": 0,
          "FP_rate": 0,
          "N": 44667,
          "N_rate": 0.9959197324414716,
          "P": 183,
          "P_rate": 0.004080267558528428,
          "TN": 44667,
          "TN_rate": 1,
          "TP": 23,
          "TP_rate": 0.12568306010928962,
          "precision": 1,
          "recall": 0.12568306010928962,
          "row_count": 44850,
          "truth_threshold": 0.998639405698705
         },
         {
          "FN": 161,
          "FN_rate": 0.8797814207650273,
          "FP": 0,
          "FP_rate": 0,
          "N": 44667,
          "N_rate": 0.9959197324414716,
          "P": 183,
          "P_rate": 0.004080267558528428,
          "TN": 44667,
          "TN_rate": 1,
          "TP": 22,
          "TP_rate": 0.12021857923497267,
          "precision": 1,
          "recall": 0.12021857923497267,
          "row_count": 44850,
          "truth_threshold": 0.998678029459452
         },
         {
          "FN": 162,
          "FN_rate": 0.8852459016393442,
          "FP": 0,
          "FP_rate": 0,
          "N": 44667,
          "N_rate": 0.9959197324414716,
          "P": 183,
          "P_rate": 0.004080267558528428,
          "TN": 44667,
          "TN_rate": 1,
          "TP": 21,
          "TP_rate": 0.11475409836065574,
          "precision": 1,
          "recall": 0.11475409836065574,
          "row_count": 44850,
          "truth_threshold": 0.9993865150495752
         },
         {
          "FN": 163,
          "FN_rate": 0.8907103825136612,
          "FP": 0,
          "FP_rate": 0,
          "N": 44667,
          "N_rate": 0.9959197324414716,
          "P": 183,
          "P_rate": 0.004080267558528428,
          "TN": 44667,
          "TN_rate": 1,
          "TP": 20,
          "TP_rate": 0.1092896174863388,
          "precision": 1,
          "recall": 0.1092896174863388,
          "row_count": 44850,
          "truth_threshold": 0.999724271158884
         },
         {
          "FN": 165,
          "FN_rate": 0.9016393442622951,
          "FP": 0,
          "FP_rate": 0,
          "N": 44667,
          "N_rate": 0.9959197324414716,
          "P": 183,
          "P_rate": 0.004080267558528428,
          "TN": 44667,
          "TN_rate": 1,
          "TP": 18,
          "TP_rate": 0.09836065573770492,
          "precision": 1,
          "recall": 0.09836065573770492,
          "row_count": 44850,
          "truth_threshold": 0.9998276986140742
         },
         {
          "FN": 166,
          "FN_rate": 0.907103825136612,
          "FP": 0,
          "FP_rate": 0,
          "N": 44667,
          "N_rate": 0.9959197324414716,
          "P": 183,
          "P_rate": 0.004080267558528428,
          "TN": 44667,
          "TN_rate": 1,
          "TP": 17,
          "TP_rate": 0.09289617486338798,
          "precision": 1,
          "recall": 0.09289617486338798,
          "row_count": 44850,
          "truth_threshold": 0.9998684355840987
         },
         {
          "FN": 167,
          "FN_rate": 0.912568306010929,
          "FP": 0,
          "FP_rate": 0,
          "N": 44667,
          "N_rate": 0.9959197324414716,
          "P": 183,
          "P_rate": 0.004080267558528428,
          "TN": 44667,
          "TN_rate": 1,
          "TP": 16,
          "TP_rate": 0.08743169398907104,
          "precision": 1,
          "recall": 0.08743169398907104,
          "row_count": 44850,
          "truth_threshold": 0.999885187991764
         },
         {
          "FN": 169,
          "FN_rate": 0.9234972677595629,
          "FP": 0,
          "FP_rate": 0,
          "N": 44667,
          "N_rate": 0.9959197324414716,
          "P": 183,
          "P_rate": 0.004080267558528428,
          "TN": 44667,
          "TN_rate": 1,
          "TP": 14,
          "TP_rate": 0.07650273224043716,
          "precision": 1,
          "recall": 0.07650273224043716,
          "row_count": 44850,
          "truth_threshold": 0.9999305298123696
         },
         {
          "FN": 170,
          "FN_rate": 0.9289617486338798,
          "FP": 0,
          "FP_rate": 0,
          "N": 44667,
          "N_rate": 0.9959197324414716,
          "P": 183,
          "P_rate": 0.004080267558528428,
          "TN": 44667,
          "TN_rate": 1,
          "TP": 13,
          "TP_rate": 0.07103825136612021,
          "precision": 1,
          "recall": 0.07103825136612021,
          "row_count": 44850,
          "truth_threshold": 0.9999479546145419
         },
         {
          "FN": 171,
          "FN_rate": 0.9344262295081968,
          "FP": 0,
          "FP_rate": 0,
          "N": 44667,
          "N_rate": 0.9959197324414716,
          "P": 183,
          "P_rate": 0.004080267558528428,
          "TN": 44667,
          "TN_rate": 1,
          "TP": 12,
          "TP_rate": 0.06557377049180328,
          "precision": 1,
          "recall": 0.06557377049180328,
          "row_count": 44850,
          "truth_threshold": 0.9999734832063818
         },
         {
          "FN": 172,
          "FN_rate": 0.9398907103825137,
          "FP": 0,
          "FP_rate": 0,
          "N": 44667,
          "N_rate": 0.9959197324414716,
          "P": 183,
          "P_rate": 0.004080267558528428,
          "TN": 44667,
          "TN_rate": 1,
          "TP": 11,
          "TP_rate": 0.060109289617486336,
          "precision": 1,
          "recall": 0.060109289617486336,
          "row_count": 44850,
          "truth_threshold": 0.9999835336506385
         },
         {
          "FN": 173,
          "FN_rate": 0.9453551912568307,
          "FP": 0,
          "FP_rate": 0,
          "N": 44667,
          "N_rate": 0.9959197324414716,
          "P": 183,
          "P_rate": 0.004080267558528428,
          "TN": 44667,
          "TN_rate": 1,
          "TP": 10,
          "TP_rate": 0.0546448087431694,
          "precision": 1,
          "recall": 0.0546448087431694,
          "row_count": 44850,
          "truth_threshold": 0.9999941083888154
         },
         {
          "FN": 174,
          "FN_rate": 0.9508196721311475,
          "FP": 0,
          "FP_rate": 0,
          "N": 44667,
          "N_rate": 0.9959197324414716,
          "P": 183,
          "P_rate": 0.004080267558528428,
          "TN": 44667,
          "TN_rate": 1,
          "TP": 9,
          "TP_rate": 0.04918032786885246,
          "precision": 1,
          "recall": 0.04918032786885246,
          "row_count": 44850,
          "truth_threshold": 0.999996636114562
         },
         {
          "FN": 175,
          "FN_rate": 0.9562841530054644,
          "FP": 0,
          "FP_rate": 0,
          "N": 44667,
          "N_rate": 0.9959197324414716,
          "P": 183,
          "P_rate": 0.004080267558528428,
          "TN": 44667,
          "TN_rate": 1,
          "TP": 8,
          "TP_rate": 0.04371584699453552,
          "precision": 1,
          "recall": 0.04371584699453552,
          "row_count": 44850,
          "truth_threshold": 0.9999992753252622
         },
         {
          "FN": 176,
          "FN_rate": 0.9617486338797814,
          "FP": 0,
          "FP_rate": 0,
          "N": 44667,
          "N_rate": 0.9959197324414716,
          "P": 183,
          "P_rate": 0.004080267558528428,
          "TN": 44667,
          "TN_rate": 1,
          "TP": 7,
          "TP_rate": 0.03825136612021858,
          "precision": 1,
          "recall": 0.03825136612021858,
          "row_count": 44850,
          "truth_threshold": 0.9999992877110914
         },
         {
          "FN": 177,
          "FN_rate": 0.9672131147540983,
          "FP": 0,
          "FP_rate": 0,
          "N": 44667,
          "N_rate": 0.9959197324414716,
          "P": 183,
          "P_rate": 0.004080267558528428,
          "TN": 44667,
          "TN_rate": 1,
          "TP": 6,
          "TP_rate": 0.03278688524590164,
          "precision": 1,
          "recall": 0.03278688524590164,
          "row_count": 44850,
          "truth_threshold": 0.9999996632676236
         },
         {
          "FN": 178,
          "FN_rate": 0.9726775956284153,
          "FP": 0,
          "FP_rate": 0,
          "N": 44667,
          "N_rate": 0.9959197324414716,
          "P": 183,
          "P_rate": 0.004080267558528428,
          "TN": 44667,
          "TN_rate": 1,
          "TP": 5,
          "TP_rate": 0.0273224043715847,
          "precision": 1,
          "recall": 0.0273224043715847,
          "row_count": 44850,
          "truth_threshold": 0.9999997143504726
         },
         {
          "FN": 179,
          "FN_rate": 0.9781420765027322,
          "FP": 0,
          "FP_rate": 0,
          "N": 44667,
          "N_rate": 0.9959197324414716,
          "P": 183,
          "P_rate": 0.004080267558528428,
          "TN": 44667,
          "TN_rate": 1,
          "TP": 4,
          "TP_rate": 0.02185792349726776,
          "precision": 1,
          "recall": 0.02185792349726776,
          "row_count": 44850,
          "truth_threshold": 0.9999999124411738
         },
         {
          "FN": 180,
          "FN_rate": 0.9836065573770492,
          "FP": 0,
          "FP_rate": 0,
          "N": 44667,
          "N_rate": 0.9959197324414716,
          "P": 183,
          "P_rate": 0.004080267558528428,
          "TN": 44667,
          "TN_rate": 1,
          "TP": 3,
          "TP_rate": 0.01639344262295082,
          "precision": 1,
          "recall": 0.01639344262295082,
          "row_count": 44850,
          "truth_threshold": 0.9999999788610996
         },
         {
          "FN": 181,
          "FN_rate": 0.9890710382513661,
          "FP": 0,
          "FP_rate": 0,
          "N": 44667,
          "N_rate": 0.9959197324414716,
          "P": 183,
          "P_rate": 0.004080267558528428,
          "TN": 44667,
          "TN_rate": 1,
          "TP": 2,
          "TP_rate": 0.01092896174863388,
          "precision": 1,
          "recall": 0.01092896174863388,
          "row_count": 44850,
          "truth_threshold": 0.9999999987401813
         },
         {
          "FN": 182,
          "FN_rate": 0.994535519125683,
          "FP": 0,
          "FP_rate": 0,
          "N": 44667,
          "N_rate": 0.9959197324414716,
          "P": 183,
          "P_rate": 0.004080267558528428,
          "TN": 44667,
          "TN_rate": 1,
          "TP": 1,
          "TP_rate": 0.00546448087431694,
          "precision": 1,
          "recall": 0.00546448087431694,
          "row_count": 44850,
          "truth_threshold": 0.9999999999999999
         }
        ]
       },
       "encoding": {
        "tooltip": [
         {
          "field": "truth_threshold",
          "type": "quantitative"
         },
         {
          "field": "FP_rate",
          "type": "quantitative"
         },
         {
          "field": "TP_rate",
          "type": "quantitative"
         },
         {
          "field": "TP",
          "type": "quantitative"
         },
         {
          "field": "TN",
          "type": "quantitative"
         },
         {
          "field": "FP",
          "type": "quantitative"
         },
         {
          "field": "FN",
          "type": "quantitative"
         },
         {
          "field": "precision",
          "type": "quantitative"
         },
         {
          "field": "recall",
          "type": "quantitative"
         }
        ],
        "x": {
         "field": "FP_rate",
         "scale": {
          "domain": [
           0,
           0.0031902746994425415
          ]
         },
         "sort": [
          "truth_threshold"
         ],
         "title": "False Positive Rate amongst clerically reviewed records",
         "type": "quantitative"
        },
        "y": {
         "field": "TP_rate",
         "sort": [
          "truth_threshold"
         ],
         "title": "True Positive Rate amongst clerically reviewed records",
         "type": "quantitative"
        }
       },
       "height": 400,
       "mark": {
        "clip": true,
        "point": true,
        "type": "line"
       },
       "selection": {
        "selector076": {
         "bind": "scales",
         "encodings": [
          "x"
         ],
         "type": "interval"
        }
       },
       "title": "Receiver operating characteristic curve",
       "width": 400
      },
      "image/png": "[encoded data removed]",
      "text/plain": [
       "<VegaLite 4 object>\n",
       "\n",
       "If you see this message, it means the renderer has not been properly enabled\n",
       "for the frontend that you are using. For more information, see\n",
       "https://altair-viz.github.io/user_guide/troubleshooting.html\n"
      ]
     },
     "execution_count": 21,
     "metadata": {},
     "output_type": "execute_result"
    }
   ],
   "source": [
    "from splink.truth import labels_with_splink_scores, roc_chart, precision_recall_chart\n",
    "\n",
    "\n",
    "roc_chart(labels_and_scores, spark)"
   ]
  },
  {
   "cell_type": "code",
   "execution_count": 22,
   "metadata": {},
   "outputs": [
    {
     "data": {
      "application/vnd.vegalite.v4+json": {
       "$schema": "https://vega.github.io/schema/vega-lite/v4.8.1.json",
       "config": {
        "view": {
         "continuousHeight": 300,
         "continuousWidth": 400
        }
       },
       "data": {
        "name": "data-fadd0e93e9546856cbc745a99e65285d",
        "values": [
         {
          "FN": 0,
          "FN_rate": 0,
          "FP": 44667,
          "FP_rate": 1,
          "N": 44667,
          "N_rate": 0.9959197324414716,
          "P": 183,
          "P_rate": 0.004080267558528428,
          "TN": 0,
          "TN_rate": 0,
          "TP": 183,
          "TP_rate": 1,
          "precision": 0.004080267558528428,
          "recall": 1,
          "row_count": 44850,
          "truth_threshold": 0
         },
         {
          "FN": 136,
          "FN_rate": 0.7431693989071039,
          "FP": 95,
          "FP_rate": 0.002126849799628361,
          "N": 44667,
          "N_rate": 0.9959197324414716,
          "P": 183,
          "P_rate": 0.004080267558528428,
          "TN": 44572,
          "TN_rate": 0.9978731502003716,
          "TP": 47,
          "TP_rate": 0.2568306010928962,
          "precision": 0.33098591549295775,
          "recall": 0.2568306010928962,
          "row_count": 44850,
          "truth_threshold": 0.00452874569139509
         },
         {
          "FN": 136,
          "FN_rate": 0.7431693989071039,
          "FP": 64,
          "FP_rate": 0.0014328251281706852,
          "N": 44667,
          "N_rate": 0.9959197324414716,
          "P": 183,
          "P_rate": 0.004080267558528428,
          "TN": 44603,
          "TN_rate": 0.9985671748718293,
          "TP": 47,
          "TP_rate": 0.2568306010928962,
          "precision": 0.42342342342342343,
          "recall": 0.2568306010928962,
          "row_count": 44850,
          "truth_threshold": 0.009695636347287344
         },
         {
          "FN": 136,
          "FN_rate": 0.7431693989071039,
          "FP": 51,
          "FP_rate": 0.0011417825240110147,
          "N": 44667,
          "N_rate": 0.9959197324414716,
          "P": 183,
          "P_rate": 0.004080267558528428,
          "TN": 44616,
          "TN_rate": 0.998858217475989,
          "TP": 47,
          "TP_rate": 0.2568306010928962,
          "precision": 0.47959183673469385,
          "recall": 0.2568306010928962,
          "row_count": 44850,
          "truth_threshold": 0.010855906337295178
         },
         {
          "FN": 136,
          "FN_rate": 0.7431693989071039,
          "FP": 37,
          "FP_rate": 0.0008283520272236774,
          "N": 44667,
          "N_rate": 0.9959197324414716,
          "P": 183,
          "P_rate": 0.004080267558528428,
          "TN": 44630,
          "TN_rate": 0.9991716479727764,
          "TP": 47,
          "TP_rate": 0.2568306010928962,
          "precision": 0.5595238095238095,
          "recall": 0.2568306010928962,
          "row_count": 44850,
          "truth_threshold": 0.023074193112825325
         },
         {
          "FN": 136,
          "FN_rate": 0.7431693989071039,
          "FP": 34,
          "FP_rate": 0.0007611883493406766,
          "N": 44667,
          "N_rate": 0.9959197324414716,
          "P": 183,
          "P_rate": 0.004080267558528428,
          "TN": 44633,
          "TN_rate": 0.9992388116506593,
          "TP": 47,
          "TP_rate": 0.2568306010928962,
          "precision": 0.5802469135802469,
          "recall": 0.2568306010928962,
          "row_count": 44850,
          "truth_threshold": 0.042072918165910134
         },
         {
          "FN": 136,
          "FN_rate": 0.7431693989071039,
          "FP": 33,
          "FP_rate": 0.0007388004567130096,
          "N": 44667,
          "N_rate": 0.9959197324414716,
          "P": 183,
          "P_rate": 0.004080267558528428,
          "TN": 44634,
          "TN_rate": 0.999261199543287,
          "TP": 47,
          "TP_rate": 0.2568306010928962,
          "precision": 0.5875,
          "recall": 0.2568306010928962,
          "row_count": 44850,
          "truth_threshold": 0.05450672303301802
         },
         {
          "FN": 137,
          "FN_rate": 0.7486338797814208,
          "FP": 18,
          "FP_rate": 0.00040298206729800525,
          "N": 44667,
          "N_rate": 0.9959197324414716,
          "P": 183,
          "P_rate": 0.004080267558528428,
          "TN": 44649,
          "TN_rate": 0.999597017932702,
          "TP": 46,
          "TP_rate": 0.25136612021857924,
          "precision": 0.71875,
          "recall": 0.25136612021857924,
          "row_count": 44850,
          "truth_threshold": 0.059991574909238586
         },
         {
          "FN": 137,
          "FN_rate": 0.7486338797814208,
          "FP": 17,
          "FP_rate": 0.0003805941746703383,
          "N": 44667,
          "N_rate": 0.9959197324414716,
          "P": 183,
          "P_rate": 0.004080267558528428,
          "TN": 44650,
          "TN_rate": 0.9996194058253297,
          "TP": 46,
          "TP_rate": 0.25136612021857924,
          "precision": 0.7301587301587301,
          "recall": 0.25136612021857924,
          "row_count": 44850,
          "truth_threshold": 0.08191121322438148
         },
         {
          "FN": 138,
          "FN_rate": 0.7540983606557377,
          "FP": 17,
          "FP_rate": 0.0003805941746703383,
          "N": 44667,
          "N_rate": 0.9959197324414716,
          "P": 183,
          "P_rate": 0.004080267558528428,
          "TN": 44650,
          "TN_rate": 0.9996194058253297,
          "TP": 45,
          "TP_rate": 0.2459016393442623,
          "precision": 0.7258064516129032,
          "recall": 0.2459016393442623,
          "row_count": 44850,
          "truth_threshold": 0.09580528431779164
         },
         {
          "FN": 138,
          "FN_rate": 0.7540983606557377,
          "FP": 16,
          "FP_rate": 0.0003582062820426713,
          "N": 44667,
          "N_rate": 0.9959197324414716,
          "P": 183,
          "P_rate": 0.004080267558528428,
          "TN": 44651,
          "TN_rate": 0.9996417937179574,
          "TP": 45,
          "TP_rate": 0.2459016393442623,
          "precision": 0.7377049180327869,
          "recall": 0.2459016393442623,
          "row_count": 44850,
          "truth_threshold": 0.1103719036930914
         },
         {
          "FN": 139,
          "FN_rate": 0.7595628415300546,
          "FP": 12,
          "FP_rate": 0.0002686547115320035,
          "N": 44667,
          "N_rate": 0.9959197324414716,
          "P": 183,
          "P_rate": 0.004080267558528428,
          "TN": 44655,
          "TN_rate": 0.999731345288468,
          "TP": 44,
          "TP_rate": 0.24043715846994534,
          "precision": 0.7857142857142857,
          "recall": 0.24043715846994534,
          "row_count": 44850,
          "truth_threshold": 0.12209465111308242
         },
         {
          "FN": 139,
          "FN_rate": 0.7595628415300546,
          "FP": 4,
          "FP_rate": 8.955157051066783e-05,
          "N": 44667,
          "N_rate": 0.9959197324414716,
          "P": 183,
          "P_rate": 0.004080267558528428,
          "TN": 44663,
          "TN_rate": 0.9999104484294893,
          "TP": 44,
          "TP_rate": 0.24043715846994534,
          "precision": 0.9166666666666666,
          "recall": 0.24043715846994534,
          "row_count": 44850,
          "truth_threshold": 0.133420947177862
         },
         {
          "FN": 139,
          "FN_rate": 0.7595628415300546,
          "FP": 2,
          "FP_rate": 4.477578525533391e-05,
          "N": 44667,
          "N_rate": 0.9959197324414716,
          "P": 183,
          "P_rate": 0.004080267558528428,
          "TN": 44665,
          "TN_rate": 0.9999552242147447,
          "TP": 44,
          "TP_rate": 0.24043715846994534,
          "precision": 0.9565217391304348,
          "recall": 0.24043715846994534,
          "row_count": 44850,
          "truth_threshold": 0.23035506829599467
         },
         {
          "FN": 141,
          "FN_rate": 0.7704918032786885,
          "FP": 0,
          "FP_rate": 0,
          "N": 44667,
          "N_rate": 0.9959197324414716,
          "P": 183,
          "P_rate": 0.004080267558528428,
          "TN": 44667,
          "TN_rate": 1,
          "TP": 42,
          "TP_rate": 0.22950819672131148,
          "precision": 1,
          "recall": 0.22950819672131148,
          "row_count": 44850,
          "truth_threshold": 0.3239635034122834
         },
         {
          "FN": 142,
          "FN_rate": 0.7759562841530054,
          "FP": 0,
          "FP_rate": 0,
          "N": 44667,
          "N_rate": 0.9959197324414716,
          "P": 183,
          "P_rate": 0.004080267558528428,
          "TN": 44667,
          "TN_rate": 1,
          "TP": 41,
          "TP_rate": 0.22404371584699453,
          "precision": 1,
          "recall": 0.22404371584699453,
          "row_count": 44850,
          "truth_threshold": 0.6831990401393857
         },
         {
          "FN": 145,
          "FN_rate": 0.7923497267759563,
          "FP": 0,
          "FP_rate": 0,
          "N": 44667,
          "N_rate": 0.9959197324414716,
          "P": 183,
          "P_rate": 0.004080267558528428,
          "TN": 44667,
          "TN_rate": 1,
          "TP": 38,
          "TP_rate": 0.20765027322404372,
          "precision": 1,
          "recall": 0.20765027322404372,
          "row_count": 44850,
          "truth_threshold": 0.8387765513111795
         },
         {
          "FN": 147,
          "FN_rate": 0.8032786885245902,
          "FP": 0,
          "FP_rate": 0,
          "N": 44667,
          "N_rate": 0.9959197324414716,
          "P": 183,
          "P_rate": 0.004080267558528428,
          "TN": 44667,
          "TN_rate": 1,
          "TP": 36,
          "TP_rate": 0.19672131147540983,
          "precision": 1,
          "recall": 0.19672131147540983,
          "row_count": 44850,
          "truth_threshold": 0.8413475542725717
         },
         {
          "FN": 148,
          "FN_rate": 0.8087431693989071,
          "FP": 0,
          "FP_rate": 0,
          "N": 44667,
          "N_rate": 0.9959197324414716,
          "P": 183,
          "P_rate": 0.004080267558528428,
          "TN": 44667,
          "TN_rate": 1,
          "TP": 35,
          "TP_rate": 0.1912568306010929,
          "precision": 1,
          "recall": 0.1912568306010929,
          "row_count": 44850,
          "truth_threshold": 0.8790475173062154
         },
         {
          "FN": 149,
          "FN_rate": 0.8142076502732241,
          "FP": 0,
          "FP_rate": 0,
          "N": 44667,
          "N_rate": 0.9959197324414716,
          "P": 183,
          "P_rate": 0.004080267558528428,
          "TN": 44667,
          "TN_rate": 1,
          "TP": 34,
          "TP_rate": 0.18579234972677597,
          "precision": 1,
          "recall": 0.18579234972677597,
          "row_count": 44850,
          "truth_threshold": 0.9559664981906162
         },
         {
          "FN": 150,
          "FN_rate": 0.819672131147541,
          "FP": 0,
          "FP_rate": 0,
          "N": 44667,
          "N_rate": 0.9959197324414716,
          "P": 183,
          "P_rate": 0.004080267558528428,
          "TN": 44667,
          "TN_rate": 1,
          "TP": 33,
          "TP_rate": 0.18032786885245902,
          "precision": 1,
          "recall": 0.18032786885245902,
          "row_count": 44850,
          "truth_threshold": 0.9571224079622066
         },
         {
          "FN": 151,
          "FN_rate": 0.825136612021858,
          "FP": 0,
          "FP_rate": 0,
          "N": 44667,
          "N_rate": 0.9959197324414716,
          "P": 183,
          "P_rate": 0.004080267558528428,
          "TN": 44667,
          "TN_rate": 1,
          "TP": 32,
          "TP_rate": 0.17486338797814208,
          "precision": 1,
          "recall": 0.17486338797814208,
          "row_count": 44850,
          "truth_threshold": 0.9738033724216435
         },
         {
          "FN": 153,
          "FN_rate": 0.8360655737704918,
          "FP": 0,
          "FP_rate": 0,
          "N": 44667,
          "N_rate": 0.9959197324414716,
          "P": 183,
          "P_rate": 0.004080267558528428,
          "TN": 44667,
          "TN_rate": 1,
          "TP": 30,
          "TP_rate": 0.16393442622950818,
          "precision": 1,
          "recall": 0.16393442622950818,
          "row_count": 44850,
          "truth_threshold": 0.9817688181549115
         },
         {
          "FN": 154,
          "FN_rate": 0.8415300546448088,
          "FP": 0,
          "FP_rate": 0,
          "N": 44667,
          "N_rate": 0.9959197324414716,
          "P": 183,
          "P_rate": 0.004080267558528428,
          "TN": 44667,
          "TN_rate": 1,
          "TP": 29,
          "TP_rate": 0.15846994535519127,
          "precision": 1,
          "recall": 0.15846994535519127,
          "row_count": 44850,
          "truth_threshold": 0.9871655899340783
         },
         {
          "FN": 155,
          "FN_rate": 0.8469945355191257,
          "FP": 0,
          "FP_rate": 0,
          "N": 44667,
          "N_rate": 0.9959197324414716,
          "P": 183,
          "P_rate": 0.004080267558528428,
          "TN": 44667,
          "TN_rate": 1,
          "TP": 28,
          "TP_rate": 0.15300546448087432,
          "precision": 1,
          "recall": 0.15300546448087432,
          "row_count": 44850,
          "truth_threshold": 0.9876541614136367
         },
         {
          "FN": 156,
          "FN_rate": 0.8524590163934426,
          "FP": 0,
          "FP_rate": 0,
          "N": 44667,
          "N_rate": 0.9959197324414716,
          "P": 183,
          "P_rate": 0.004080267558528428,
          "TN": 44667,
          "TN_rate": 1,
          "TP": 27,
          "TP_rate": 0.14754098360655737,
          "precision": 1,
          "recall": 0.14754098360655737,
          "row_count": 44850,
          "truth_threshold": 0.9914450822926767
         },
         {
          "FN": 157,
          "FN_rate": 0.8579234972677595,
          "FP": 0,
          "FP_rate": 0,
          "N": 44667,
          "N_rate": 0.9959197324414716,
          "P": 183,
          "P_rate": 0.004080267558528428,
          "TN": 44667,
          "TN_rate": 1,
          "TP": 26,
          "TP_rate": 0.14207650273224043,
          "precision": 1,
          "recall": 0.14207650273224043,
          "row_count": 44850,
          "truth_threshold": 0.9935428683365419
         },
         {
          "FN": 159,
          "FN_rate": 0.8688524590163934,
          "FP": 0,
          "FP_rate": 0,
          "N": 44667,
          "N_rate": 0.9959197324414716,
          "P": 183,
          "P_rate": 0.004080267558528428,
          "TN": 44667,
          "TN_rate": 1,
          "TP": 24,
          "TP_rate": 0.13114754098360656,
          "precision": 1,
          "recall": 0.13114754098360656,
          "row_count": 44850,
          "truth_threshold": 0.9976111719484397
         },
         {
          "FN": 160,
          "FN_rate": 0.8743169398907104,
          "FP": 0,
          "FP_rate": 0,
          "N": 44667,
          "N_rate": 0.9959197324414716,
          "P": 183,
          "P_rate": 0.004080267558528428,
          "TN": 44667,
          "TN_rate": 1,
          "TP": 23,
          "TP_rate": 0.12568306010928962,
          "precision": 1,
          "recall": 0.12568306010928962,
          "row_count": 44850,
          "truth_threshold": 0.998639405698705
         },
         {
          "FN": 161,
          "FN_rate": 0.8797814207650273,
          "FP": 0,
          "FP_rate": 0,
          "N": 44667,
          "N_rate": 0.9959197324414716,
          "P": 183,
          "P_rate": 0.004080267558528428,
          "TN": 44667,
          "TN_rate": 1,
          "TP": 22,
          "TP_rate": 0.12021857923497267,
          "precision": 1,
          "recall": 0.12021857923497267,
          "row_count": 44850,
          "truth_threshold": 0.998678029459452
         },
         {
          "FN": 162,
          "FN_rate": 0.8852459016393442,
          "FP": 0,
          "FP_rate": 0,
          "N": 44667,
          "N_rate": 0.9959197324414716,
          "P": 183,
          "P_rate": 0.004080267558528428,
          "TN": 44667,
          "TN_rate": 1,
          "TP": 21,
          "TP_rate": 0.11475409836065574,
          "precision": 1,
          "recall": 0.11475409836065574,
          "row_count": 44850,
          "truth_threshold": 0.9993865150495752
         },
         {
          "FN": 163,
          "FN_rate": 0.8907103825136612,
          "FP": 0,
          "FP_rate": 0,
          "N": 44667,
          "N_rate": 0.9959197324414716,
          "P": 183,
          "P_rate": 0.004080267558528428,
          "TN": 44667,
          "TN_rate": 1,
          "TP": 20,
          "TP_rate": 0.1092896174863388,
          "precision": 1,
          "recall": 0.1092896174863388,
          "row_count": 44850,
          "truth_threshold": 0.999724271158884
         },
         {
          "FN": 165,
          "FN_rate": 0.9016393442622951,
          "FP": 0,
          "FP_rate": 0,
          "N": 44667,
          "N_rate": 0.9959197324414716,
          "P": 183,
          "P_rate": 0.004080267558528428,
          "TN": 44667,
          "TN_rate": 1,
          "TP": 18,
          "TP_rate": 0.09836065573770492,
          "precision": 1,
          "recall": 0.09836065573770492,
          "row_count": 44850,
          "truth_threshold": 0.9998276986140742
         },
         {
          "FN": 166,
          "FN_rate": 0.907103825136612,
          "FP": 0,
          "FP_rate": 0,
          "N": 44667,
          "N_rate": 0.9959197324414716,
          "P": 183,
          "P_rate": 0.004080267558528428,
          "TN": 44667,
          "TN_rate": 1,
          "TP": 17,
          "TP_rate": 0.09289617486338798,
          "precision": 1,
          "recall": 0.09289617486338798,
          "row_count": 44850,
          "truth_threshold": 0.9998684355840987
         },
         {
          "FN": 167,
          "FN_rate": 0.912568306010929,
          "FP": 0,
          "FP_rate": 0,
          "N": 44667,
          "N_rate": 0.9959197324414716,
          "P": 183,
          "P_rate": 0.004080267558528428,
          "TN": 44667,
          "TN_rate": 1,
          "TP": 16,
          "TP_rate": 0.08743169398907104,
          "precision": 1,
          "recall": 0.08743169398907104,
          "row_count": 44850,
          "truth_threshold": 0.999885187991764
         },
         {
          "FN": 169,
          "FN_rate": 0.9234972677595629,
          "FP": 0,
          "FP_rate": 0,
          "N": 44667,
          "N_rate": 0.9959197324414716,
          "P": 183,
          "P_rate": 0.004080267558528428,
          "TN": 44667,
          "TN_rate": 1,
          "TP": 14,
          "TP_rate": 0.07650273224043716,
          "precision": 1,
          "recall": 0.07650273224043716,
          "row_count": 44850,
          "truth_threshold": 0.9999305298123696
         },
         {
          "FN": 170,
          "FN_rate": 0.9289617486338798,
          "FP": 0,
          "FP_rate": 0,
          "N": 44667,
          "N_rate": 0.9959197324414716,
          "P": 183,
          "P_rate": 0.004080267558528428,
          "TN": 44667,
          "TN_rate": 1,
          "TP": 13,
          "TP_rate": 0.07103825136612021,
          "precision": 1,
          "recall": 0.07103825136612021,
          "row_count": 44850,
          "truth_threshold": 0.9999479546145419
         },
         {
          "FN": 171,
          "FN_rate": 0.9344262295081968,
          "FP": 0,
          "FP_rate": 0,
          "N": 44667,
          "N_rate": 0.9959197324414716,
          "P": 183,
          "P_rate": 0.004080267558528428,
          "TN": 44667,
          "TN_rate": 1,
          "TP": 12,
          "TP_rate": 0.06557377049180328,
          "precision": 1,
          "recall": 0.06557377049180328,
          "row_count": 44850,
          "truth_threshold": 0.9999734832063818
         },
         {
          "FN": 172,
          "FN_rate": 0.9398907103825137,
          "FP": 0,
          "FP_rate": 0,
          "N": 44667,
          "N_rate": 0.9959197324414716,
          "P": 183,
          "P_rate": 0.004080267558528428,
          "TN": 44667,
          "TN_rate": 1,
          "TP": 11,
          "TP_rate": 0.060109289617486336,
          "precision": 1,
          "recall": 0.060109289617486336,
          "row_count": 44850,
          "truth_threshold": 0.9999835336506385
         },
         {
          "FN": 173,
          "FN_rate": 0.9453551912568307,
          "FP": 0,
          "FP_rate": 0,
          "N": 44667,
          "N_rate": 0.9959197324414716,
          "P": 183,
          "P_rate": 0.004080267558528428,
          "TN": 44667,
          "TN_rate": 1,
          "TP": 10,
          "TP_rate": 0.0546448087431694,
          "precision": 1,
          "recall": 0.0546448087431694,
          "row_count": 44850,
          "truth_threshold": 0.9999941083888154
         },
         {
          "FN": 174,
          "FN_rate": 0.9508196721311475,
          "FP": 0,
          "FP_rate": 0,
          "N": 44667,
          "N_rate": 0.9959197324414716,
          "P": 183,
          "P_rate": 0.004080267558528428,
          "TN": 44667,
          "TN_rate": 1,
          "TP": 9,
          "TP_rate": 0.04918032786885246,
          "precision": 1,
          "recall": 0.04918032786885246,
          "row_count": 44850,
          "truth_threshold": 0.999996636114562
         },
         {
          "FN": 175,
          "FN_rate": 0.9562841530054644,
          "FP": 0,
          "FP_rate": 0,
          "N": 44667,
          "N_rate": 0.9959197324414716,
          "P": 183,
          "P_rate": 0.004080267558528428,
          "TN": 44667,
          "TN_rate": 1,
          "TP": 8,
          "TP_rate": 0.04371584699453552,
          "precision": 1,
          "recall": 0.04371584699453552,
          "row_count": 44850,
          "truth_threshold": 0.9999992753252622
         },
         {
          "FN": 176,
          "FN_rate": 0.9617486338797814,
          "FP": 0,
          "FP_rate": 0,
          "N": 44667,
          "N_rate": 0.9959197324414716,
          "P": 183,
          "P_rate": 0.004080267558528428,
          "TN": 44667,
          "TN_rate": 1,
          "TP": 7,
          "TP_rate": 0.03825136612021858,
          "precision": 1,
          "recall": 0.03825136612021858,
          "row_count": 44850,
          "truth_threshold": 0.9999992877110914
         },
         {
          "FN": 177,
          "FN_rate": 0.9672131147540983,
          "FP": 0,
          "FP_rate": 0,
          "N": 44667,
          "N_rate": 0.9959197324414716,
          "P": 183,
          "P_rate": 0.004080267558528428,
          "TN": 44667,
          "TN_rate": 1,
          "TP": 6,
          "TP_rate": 0.03278688524590164,
          "precision": 1,
          "recall": 0.03278688524590164,
          "row_count": 44850,
          "truth_threshold": 0.9999996632676236
         },
         {
          "FN": 178,
          "FN_rate": 0.9726775956284153,
          "FP": 0,
          "FP_rate": 0,
          "N": 44667,
          "N_rate": 0.9959197324414716,
          "P": 183,
          "P_rate": 0.004080267558528428,
          "TN": 44667,
          "TN_rate": 1,
          "TP": 5,
          "TP_rate": 0.0273224043715847,
          "precision": 1,
          "recall": 0.0273224043715847,
          "row_count": 44850,
          "truth_threshold": 0.9999997143504726
         },
         {
          "FN": 179,
          "FN_rate": 0.9781420765027322,
          "FP": 0,
          "FP_rate": 0,
          "N": 44667,
          "N_rate": 0.9959197324414716,
          "P": 183,
          "P_rate": 0.004080267558528428,
          "TN": 44667,
          "TN_rate": 1,
          "TP": 4,
          "TP_rate": 0.02185792349726776,
          "precision": 1,
          "recall": 0.02185792349726776,
          "row_count": 44850,
          "truth_threshold": 0.9999999124411738
         },
         {
          "FN": 180,
          "FN_rate": 0.9836065573770492,
          "FP": 0,
          "FP_rate": 0,
          "N": 44667,
          "N_rate": 0.9959197324414716,
          "P": 183,
          "P_rate": 0.004080267558528428,
          "TN": 44667,
          "TN_rate": 1,
          "TP": 3,
          "TP_rate": 0.01639344262295082,
          "precision": 1,
          "recall": 0.01639344262295082,
          "row_count": 44850,
          "truth_threshold": 0.9999999788610996
         },
         {
          "FN": 181,
          "FN_rate": 0.9890710382513661,
          "FP": 0,
          "FP_rate": 0,
          "N": 44667,
          "N_rate": 0.9959197324414716,
          "P": 183,
          "P_rate": 0.004080267558528428,
          "TN": 44667,
          "TN_rate": 1,
          "TP": 2,
          "TP_rate": 0.01092896174863388,
          "precision": 1,
          "recall": 0.01092896174863388,
          "row_count": 44850,
          "truth_threshold": 0.9999999987401813
         },
         {
          "FN": 182,
          "FN_rate": 0.994535519125683,
          "FP": 0,
          "FP_rate": 0,
          "N": 44667,
          "N_rate": 0.9959197324414716,
          "P": 183,
          "P_rate": 0.004080267558528428,
          "TN": 44667,
          "TN_rate": 1,
          "TP": 1,
          "TP_rate": 0.00546448087431694,
          "precision": 1,
          "recall": 0.00546448087431694,
          "row_count": 44850,
          "truth_threshold": 0.9999999999999999
         }
        ]
       },
       "encoding": {
        "tooltip": [
         {
          "field": "truth_threshold",
          "type": "quantitative"
         },
         {
          "field": "FP_rate",
          "type": "quantitative"
         },
         {
          "field": "TP_rate",
          "type": "quantitative"
         },
         {
          "field": "TP",
          "type": "quantitative"
         },
         {
          "field": "TN",
          "type": "quantitative"
         },
         {
          "field": "FP",
          "type": "quantitative"
         },
         {
          "field": "FN",
          "type": "quantitative"
         },
         {
          "field": "precision",
          "type": "quantitative"
         },
         {
          "field": "recall",
          "type": "quantitative"
         }
        ],
        "x": {
         "field": "recall",
         "sort": [
          "-recall"
         ],
         "title": "Recall",
         "type": "quantitative"
        },
        "y": {
         "field": "precision",
         "sort": [
          "-precision"
         ],
         "title": "Precision",
         "type": "quantitative"
        }
       },
       "height": 400,
       "mark": {
        "clip": true,
        "point": true,
        "type": "line"
       },
       "title": "Precision-recall curve",
       "width": 400
      },
      "image/png": "[encoded data removed]",
      "text/plain": [
       "<VegaLite 4 object>\n",
       "\n",
       "If you see this message, it means the renderer has not been properly enabled\n",
       "for the frontend that you are using. For more information, see\n",
       "https://altair-viz.github.io/user_guide/troubleshooting.html\n"
      ]
     },
     "execution_count": 22,
     "metadata": {},
     "output_type": "execute_result"
    }
   ],
   "source": [
    "precision_recall_chart(labels_and_scores, spark)"
   ]
  },
  {
   "cell_type": "markdown",
   "metadata": {},
   "source": [
    "## Step 7: Use graphframes to resolve links into groups"
   ]
  },
  {
   "cell_type": "code",
   "execution_count": 23,
   "metadata": {},
   "outputs": [
    {
     "data": {
      "text/html": [
       "<div>\n",
       "<style scoped>\n",
       "    .dataframe tbody tr th:only-of-type {\n",
       "        vertical-align: middle;\n",
       "    }\n",
       "\n",
       "    .dataframe tbody tr th {\n",
       "        vertical-align: top;\n",
       "    }\n",
       "\n",
       "    .dataframe thead th {\n",
       "        text-align: right;\n",
       "    }\n",
       "</style>\n",
       "<table border=\"1\" class=\"dataframe\">\n",
       "  <thead>\n",
       "    <tr style=\"text-align: right;\">\n",
       "      <th></th>\n",
       "      <th>estimated_group</th>\n",
       "      <th>unique_id</th>\n",
       "      <th>first_name</th>\n",
       "      <th>surname</th>\n",
       "      <th>dob</th>\n",
       "      <th>city</th>\n",
       "      <th>email</th>\n",
       "      <th>group</th>\n",
       "    </tr>\n",
       "  </thead>\n",
       "  <tbody>\n",
       "    <tr>\n",
       "      <th>0</th>\n",
       "      <td>0</td>\n",
       "      <td>1</td>\n",
       "      <td>Robert</td>\n",
       "      <td>Allen</td>\n",
       "      <td>1971-05-24</td>\n",
       "      <td>None</td>\n",
       "      <td>roberta25@smith.net</td>\n",
       "      <td>0</td>\n",
       "    </tr>\n",
       "    <tr>\n",
       "      <th>1</th>\n",
       "      <td>17179869198</td>\n",
       "      <td>3</td>\n",
       "      <td>Robert</td>\n",
       "      <td>Alen</td>\n",
       "      <td>1971-06-24</td>\n",
       "      <td>Lonon</td>\n",
       "      <td>None</td>\n",
       "      <td>0</td>\n",
       "    </tr>\n",
       "    <tr>\n",
       "      <th>2</th>\n",
       "      <td>25769803776</td>\n",
       "      <td>0</td>\n",
       "      <td>Robert</td>\n",
       "      <td>Alan</td>\n",
       "      <td>1971-06-24</td>\n",
       "      <td>None</td>\n",
       "      <td>robert255@smith.net</td>\n",
       "      <td>0</td>\n",
       "    </tr>\n",
       "    <tr>\n",
       "      <th>3</th>\n",
       "      <td>8589934626</td>\n",
       "      <td>5</td>\n",
       "      <td>Grace</td>\n",
       "      <td>Kelly</td>\n",
       "      <td>1991-04-26</td>\n",
       "      <td>None</td>\n",
       "      <td>grace.kelly52@jones.com</td>\n",
       "      <td>1</td>\n",
       "    </tr>\n",
       "    <tr>\n",
       "      <th>4</th>\n",
       "      <td>51539607578</td>\n",
       "      <td>4</td>\n",
       "      <td>Grace</td>\n",
       "      <td>None</td>\n",
       "      <td>1997-04-26</td>\n",
       "      <td>Hull</td>\n",
       "      <td>grace.kelly52@jones.com</td>\n",
       "      <td>1</td>\n",
       "    </tr>\n",
       "    <tr>\n",
       "      <th>5</th>\n",
       "      <td>34359738390</td>\n",
       "      <td>385</td>\n",
       "      <td>Lottie</td>\n",
       "      <td>Davis</td>\n",
       "      <td>1972-06-12</td>\n",
       "      <td>None</td>\n",
       "      <td>lottie.d7@morgan-pierce.com</td>\n",
       "      <td>100</td>\n",
       "    </tr>\n",
       "    <tr>\n",
       "      <th>6</th>\n",
       "      <td>34359738390</td>\n",
       "      <td>386</td>\n",
       "      <td>Lottie</td>\n",
       "      <td>Davis</td>\n",
       "      <td>1972-06-12</td>\n",
       "      <td>StSockton-on-Tees</td>\n",
       "      <td>lottie.d7@morgan-pierce.com</td>\n",
       "      <td>100</td>\n",
       "    </tr>\n",
       "    <tr>\n",
       "      <th>7</th>\n",
       "      <td>34359738390</td>\n",
       "      <td>387</td>\n",
       "      <td>Lottie</td>\n",
       "      <td>Davis</td>\n",
       "      <td>1972-06-12</td>\n",
       "      <td>Stockton-onsTee-</td>\n",
       "      <td>None</td>\n",
       "      <td>100</td>\n",
       "    </tr>\n",
       "    <tr>\n",
       "      <th>8</th>\n",
       "      <td>26</td>\n",
       "      <td>391</td>\n",
       "      <td>Isaac</td>\n",
       "      <td>None</td>\n",
       "      <td>1991-05-06</td>\n",
       "      <td>Lodon</td>\n",
       "      <td>isaac.james@smich.tom</td>\n",
       "      <td>101</td>\n",
       "    </tr>\n",
       "    <tr>\n",
       "      <th>9</th>\n",
       "      <td>60129542170</td>\n",
       "      <td>393</td>\n",
       "      <td>Isaac</td>\n",
       "      <td>James</td>\n",
       "      <td>1991-05-06</td>\n",
       "      <td>London</td>\n",
       "      <td>None</td>\n",
       "      <td>101</td>\n",
       "    </tr>\n",
       "    <tr>\n",
       "      <th>10</th>\n",
       "      <td>27</td>\n",
       "      <td>395</td>\n",
       "      <td>Evie</td>\n",
       "      <td>Davidson</td>\n",
       "      <td>1982-07-18</td>\n",
       "      <td>Leeds</td>\n",
       "      <td>evied62@bishop.info</td>\n",
       "      <td>102</td>\n",
       "    </tr>\n",
       "    <tr>\n",
       "      <th>11</th>\n",
       "      <td>27</td>\n",
       "      <td>397</td>\n",
       "      <td>Evie</td>\n",
       "      <td>None</td>\n",
       "      <td>1982-07-18</td>\n",
       "      <td>Leeds</td>\n",
       "      <td>evied62@bishop.info</td>\n",
       "      <td>102</td>\n",
       "    </tr>\n",
       "    <tr>\n",
       "      <th>12</th>\n",
       "      <td>27</td>\n",
       "      <td>396</td>\n",
       "      <td>Evie</td>\n",
       "      <td>Davidson</td>\n",
       "      <td>1982-07-19</td>\n",
       "      <td>Leeds</td>\n",
       "      <td>evied62@bishop.info</td>\n",
       "      <td>102</td>\n",
       "    </tr>\n",
       "    <tr>\n",
       "      <th>13</th>\n",
       "      <td>51539607577</td>\n",
       "      <td>394</td>\n",
       "      <td>Evie</td>\n",
       "      <td>None</td>\n",
       "      <td>1992-08-14</td>\n",
       "      <td>Leeds</td>\n",
       "      <td>evieed62@bishop.info</td>\n",
       "      <td>102</td>\n",
       "    </tr>\n",
       "    <tr>\n",
       "      <th>14</th>\n",
       "      <td>8589934616</td>\n",
       "      <td>398</td>\n",
       "      <td>James</td>\n",
       "      <td>Dixon</td>\n",
       "      <td>1991-04-12</td>\n",
       "      <td>London</td>\n",
       "      <td>None</td>\n",
       "      <td>103</td>\n",
       "    </tr>\n",
       "    <tr>\n",
       "      <th>15</th>\n",
       "      <td>8589934616</td>\n",
       "      <td>400</td>\n",
       "      <td>James</td>\n",
       "      <td>Dixon</td>\n",
       "      <td>1991-04-12</td>\n",
       "      <td>None</td>\n",
       "      <td>james.d@merritot-scott.com</td>\n",
       "      <td>103</td>\n",
       "    </tr>\n",
       "    <tr>\n",
       "      <th>16</th>\n",
       "      <td>8589934616</td>\n",
       "      <td>401</td>\n",
       "      <td>James</td>\n",
       "      <td>Dixon</td>\n",
       "      <td>1991-04-12</td>\n",
       "      <td>None</td>\n",
       "      <td>james.d@merritt-scott.com</td>\n",
       "      <td>103</td>\n",
       "    </tr>\n",
       "    <tr>\n",
       "      <th>17</th>\n",
       "      <td>8589934616</td>\n",
       "      <td>403</td>\n",
       "      <td>James</td>\n",
       "      <td>Dixon</td>\n",
       "      <td>1991-04-12</td>\n",
       "      <td>None</td>\n",
       "      <td>james.d@merritt-scott.com</td>\n",
       "      <td>103</td>\n",
       "    </tr>\n",
       "    <tr>\n",
       "      <th>18</th>\n",
       "      <td>8589934616</td>\n",
       "      <td>402</td>\n",
       "      <td>James</td>\n",
       "      <td>Dixon</td>\n",
       "      <td>1991-04-12</td>\n",
       "      <td>Loodnon</td>\n",
       "      <td>james.d@merritt-scott.com</td>\n",
       "      <td>103</td>\n",
       "    </tr>\n",
       "    <tr>\n",
       "      <th>19</th>\n",
       "      <td>8589934617</td>\n",
       "      <td>399</td>\n",
       "      <td>Dixon</td>\n",
       "      <td>James</td>\n",
       "      <td>1991-04-12</td>\n",
       "      <td>None</td>\n",
       "      <td>james.d@merritt-scott.com</td>\n",
       "      <td>103</td>\n",
       "    </tr>\n",
       "    <tr>\n",
       "      <th>20</th>\n",
       "      <td>60129542171</td>\n",
       "      <td>407</td>\n",
       "      <td>Lexi</td>\n",
       "      <td>Cooe</td>\n",
       "      <td>1996-10-16</td>\n",
       "      <td>Sundarlend</td>\n",
       "      <td>l.cooke@thompson-williams.info</td>\n",
       "      <td>104</td>\n",
       "    </tr>\n",
       "    <tr>\n",
       "      <th>21</th>\n",
       "      <td>42949672989</td>\n",
       "      <td>408</td>\n",
       "      <td>Harry</td>\n",
       "      <td>Martin</td>\n",
       "      <td>2003-07-22</td>\n",
       "      <td>Derby</td>\n",
       "      <td>hm24@miller-roman.om</td>\n",
       "      <td>105</td>\n",
       "    </tr>\n",
       "    <tr>\n",
       "      <th>22</th>\n",
       "      <td>28</td>\n",
       "      <td>411</td>\n",
       "      <td>Emily</td>\n",
       "      <td>Atkinson</td>\n",
       "      <td>2008-05-05</td>\n",
       "      <td>None</td>\n",
       "      <td>emilya@roberts.com</td>\n",
       "      <td>106</td>\n",
       "    </tr>\n",
       "    <tr>\n",
       "      <th>23</th>\n",
       "      <td>28</td>\n",
       "      <td>409</td>\n",
       "      <td>Emily</td>\n",
       "      <td>Atkinson</td>\n",
       "      <td>2017-05-03</td>\n",
       "      <td>London</td>\n",
       "      <td>emilya@roberts.com</td>\n",
       "      <td>106</td>\n",
       "    </tr>\n",
       "    <tr>\n",
       "      <th>24</th>\n",
       "      <td>25769803807</td>\n",
       "      <td>414</td>\n",
       "      <td>Poppy</td>\n",
       "      <td>None</td>\n",
       "      <td>1973-01-16</td>\n",
       "      <td>None</td>\n",
       "      <td>poppy.owen71@diaz.com</td>\n",
       "      <td>107</td>\n",
       "    </tr>\n",
       "    <tr>\n",
       "      <th>25</th>\n",
       "      <td>25769803808</td>\n",
       "      <td>417</td>\n",
       "      <td>Florence</td>\n",
       "      <td>Brown</td>\n",
       "      <td>2002-02-24</td>\n",
       "      <td>London</td>\n",
       "      <td>fb@reose.cem</td>\n",
       "      <td>108</td>\n",
       "    </tr>\n",
       "    <tr>\n",
       "      <th>26</th>\n",
       "      <td>25769803808</td>\n",
       "      <td>419</td>\n",
       "      <td>Florence</td>\n",
       "      <td>Brown</td>\n",
       "      <td>1992-02-28</td>\n",
       "      <td>London</td>\n",
       "      <td>fb@reese.com</td>\n",
       "      <td>108</td>\n",
       "    </tr>\n",
       "    <tr>\n",
       "      <th>27</th>\n",
       "      <td>34359738392</td>\n",
       "      <td>415</td>\n",
       "      <td>Brown</td>\n",
       "      <td>Florence</td>\n",
       "      <td>2002-02-25</td>\n",
       "      <td>London</td>\n",
       "      <td>fb@reese.com</td>\n",
       "      <td>108</td>\n",
       "    </tr>\n",
       "    <tr>\n",
       "      <th>28</th>\n",
       "      <td>34359738393</td>\n",
       "      <td>418</td>\n",
       "      <td>Brown</td>\n",
       "      <td>Florence</td>\n",
       "      <td>1993-03-01</td>\n",
       "      <td>Loonon</td>\n",
       "      <td>f@b@reese.com</td>\n",
       "      <td>108</td>\n",
       "    </tr>\n",
       "    <tr>\n",
       "      <th>29</th>\n",
       "      <td>25769803809</td>\n",
       "      <td>420</td>\n",
       "      <td>Scarlett</td>\n",
       "      <td>Cunningam</td>\n",
       "      <td>2016-01-09</td>\n",
       "      <td>London</td>\n",
       "      <td>s.cunningham@pineda.com</td>\n",
       "      <td>109</td>\n",
       "    </tr>\n",
       "  </tbody>\n",
       "</table>\n",
       "</div>"
      ],
      "text/plain": [
       "    estimated_group unique_id first_name    surname         dob  \\\n",
       "0                 0         1     Robert      Allen  1971-05-24   \n",
       "1       17179869198         3     Robert       Alen  1971-06-24   \n",
       "2       25769803776         0     Robert       Alan  1971-06-24   \n",
       "3        8589934626         5      Grace      Kelly  1991-04-26   \n",
       "4       51539607578         4      Grace       None  1997-04-26   \n",
       "5       34359738390       385     Lottie      Davis  1972-06-12   \n",
       "6       34359738390       386     Lottie      Davis  1972-06-12   \n",
       "7       34359738390       387     Lottie      Davis  1972-06-12   \n",
       "8                26       391      Isaac       None  1991-05-06   \n",
       "9       60129542170       393      Isaac      James  1991-05-06   \n",
       "10               27       395       Evie   Davidson  1982-07-18   \n",
       "11               27       397       Evie       None  1982-07-18   \n",
       "12               27       396       Evie   Davidson  1982-07-19   \n",
       "13      51539607577       394       Evie       None  1992-08-14   \n",
       "14       8589934616       398      James      Dixon  1991-04-12   \n",
       "15       8589934616       400      James      Dixon  1991-04-12   \n",
       "16       8589934616       401      James      Dixon  1991-04-12   \n",
       "17       8589934616       403      James      Dixon  1991-04-12   \n",
       "18       8589934616       402      James      Dixon  1991-04-12   \n",
       "19       8589934617       399      Dixon      James  1991-04-12   \n",
       "20      60129542171       407       Lexi       Cooe  1996-10-16   \n",
       "21      42949672989       408      Harry     Martin  2003-07-22   \n",
       "22               28       411      Emily   Atkinson  2008-05-05   \n",
       "23               28       409      Emily   Atkinson  2017-05-03   \n",
       "24      25769803807       414      Poppy       None  1973-01-16   \n",
       "25      25769803808       417   Florence      Brown  2002-02-24   \n",
       "26      25769803808       419   Florence      Brown  1992-02-28   \n",
       "27      34359738392       415      Brown   Florence  2002-02-25   \n",
       "28      34359738393       418      Brown   Florence  1993-03-01   \n",
       "29      25769803809       420   Scarlett  Cunningam  2016-01-09   \n",
       "\n",
       "                 city                           email group  \n",
       "0                None             roberta25@smith.net     0  \n",
       "1               Lonon                            None     0  \n",
       "2                None             robert255@smith.net     0  \n",
       "3                None         grace.kelly52@jones.com     1  \n",
       "4                Hull         grace.kelly52@jones.com     1  \n",
       "5                None     lottie.d7@morgan-pierce.com   100  \n",
       "6   StSockton-on-Tees     lottie.d7@morgan-pierce.com   100  \n",
       "7    Stockton-onsTee-                            None   100  \n",
       "8               Lodon           isaac.james@smich.tom   101  \n",
       "9              London                            None   101  \n",
       "10              Leeds             evied62@bishop.info   102  \n",
       "11              Leeds             evied62@bishop.info   102  \n",
       "12              Leeds             evied62@bishop.info   102  \n",
       "13              Leeds            evieed62@bishop.info   102  \n",
       "14             London                            None   103  \n",
       "15               None      james.d@merritot-scott.com   103  \n",
       "16               None       james.d@merritt-scott.com   103  \n",
       "17               None       james.d@merritt-scott.com   103  \n",
       "18            Loodnon       james.d@merritt-scott.com   103  \n",
       "19               None       james.d@merritt-scott.com   103  \n",
       "20         Sundarlend  l.cooke@thompson-williams.info   104  \n",
       "21              Derby            hm24@miller-roman.om   105  \n",
       "22               None              emilya@roberts.com   106  \n",
       "23             London              emilya@roberts.com   106  \n",
       "24               None           poppy.owen71@diaz.com   107  \n",
       "25             London                    fb@reose.cem   108  \n",
       "26             London                    fb@reese.com   108  \n",
       "27             London                    fb@reese.com   108  \n",
       "28             Loonon                   f@b@reese.com   108  \n",
       "29             London         s.cunningham@pineda.com   109  "
      ]
     },
     "execution_count": 23,
     "metadata": {},
     "output_type": "execute_result"
    }
   ],
   "source": [
    "from graphframes import GraphFrame\n",
    "\n",
    "\n",
    "df_e.createOrReplaceTempView(\"df_e\")\n",
    "sql = \"\"\"\n",
    "select unique_id_l as id\n",
    "from df_e\n",
    "union\n",
    "select unique_id_r as id\n",
    "from df_e\n",
    "\"\"\"\n",
    "nodes = spark.sql(sql)\n",
    "\n",
    "sql = \"\"\"\n",
    "select\n",
    "unique_id_l as src,\n",
    "unique_id_r as dst,\n",
    "tf_adjusted_match_prob\n",
    "from df_e\n",
    "where tf_adjusted_match_prob > 0.99\n",
    "\"\"\"\n",
    "edges = spark.sql(sql)\n",
    "\n",
    "g = GraphFrame(nodes, edges)\n",
    "\n",
    "cc = g.connectedComponents()\n",
    "\n",
    "cc.createOrReplaceTempView(\"cc\")\n",
    "df.createOrReplaceTempView(\"df\")\n",
    "sql = \"\"\"\n",
    "select cc.component as estimated_group, df.*\n",
    "from cc\n",
    "left join\n",
    "df \n",
    "on cc.id = df.unique_id\n",
    "order by group, estimated_group\n",
    "\"\"\"\n",
    "results = spark.sql(sql)\n",
    "results.toPandas().head(30)"
   ]
  },
  {
   "cell_type": "code",
   "execution_count": null,
   "metadata": {},
   "outputs": [],
   "source": []
  }
 ],
 "metadata": {
  "kernelspec": {
   "display_name": "Python 3",
   "language": "python",
   "name": "python3"
  },
  "language_info": {
   "codemirror_mode": {
    "name": "ipython",
    "version": 3
   },
   "file_extension": ".py",
   "mimetype": "text/x-python",
   "name": "python",
   "nbconvert_exporter": "python",
   "pygments_lexer": "ipython3",
   "version": "3.8.3"
  }
 },
 "nbformat": 4,
 "nbformat_minor": 4
}
