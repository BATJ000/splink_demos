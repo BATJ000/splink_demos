{
 "cells": [
  {
   "cell_type": "code",
   "execution_count": null,
   "metadata": {},
   "outputs": [],
   "source": [
    "import pandas as pd \n",
    "pd.options.display.max_columns = 500\n",
    "pd.options.display.max_rows = 100"
   ]
  },
  {
   "cell_type": "code",
   "execution_count": null,
   "metadata": {},
   "outputs": [],
   "source": [
    "import logging \n",
    "logging.basicConfig()  # Means logs will print in Jupyter Lab"
   ]
  },
  {
   "cell_type": "code",
   "execution_count": null,
   "metadata": {},
   "outputs": [],
   "source": [
    "from utility_functions.demo_utils import get_spark\n",
    "spark = get_spark() # See utility_functions/demo_utils.py for how to set up Spark"
   ]
  },
  {
   "cell_type": "code",
   "execution_count": null,
   "metadata": {},
   "outputs": [],
   "source": [
    "## splink_graph functionality\n",
    "import splink_graph\n",
    "from splink_graph.splink_graph import subgraph_stats\n",
    "from splink_graph.splink_graph import _graphharmoniser\n",
    "from pyspark.sql import functions as f\n",
    "import pyspark\n",
    "import os\n"
   ]
  },
  {
   "cell_type": "code",
   "execution_count": null,
   "metadata": {},
   "outputs": [],
   "source": [
    "if (pyspark.__version__).startswith(\"3\"):\n",
    "    os.environ[\"ARROW_PRE_0_15_IPC_FORMAT\"] = \"0\"\n",
    "    print(\"Spark 3.x detected. ARROW_PRE_0_15_IPC_FORMAT is set to \",os.environ[\"ARROW_PRE_0_15_IPC_FORMAT\"])\n",
    "else:\n",
    "    print(\"Spark 2.x detected. ARROW_PRE_0_15_IPC_FORMAT is set to 1\")"
   ]
  },
  {
   "cell_type": "code",
   "execution_count": null,
   "metadata": {},
   "outputs": [],
   "source": [
    "spark.version"
   ]
  },
  {
   "cell_type": "code",
   "execution_count": null,
   "metadata": {},
   "outputs": [],
   "source": [
    "df_e = spark.read.parquet(\"data/graph/df_e.parquet\")\n",
    "cc = spark.read.parquet(\"data/graph/cc.parquet\")\n",
    "edges = spark.read.parquet(\"data/graph/edges.parquet\")"
   ]
  },
  {
   "cell_type": "code",
   "execution_count": null,
   "metadata": {},
   "outputs": [],
   "source": [
    "\n",
    "edges.printSchema()\n",
    "cc.printSchema()\n"
   ]
  },
  {
   "cell_type": "code",
   "execution_count": null,
   "metadata": {},
   "outputs": [],
   "source": [
    "edgesinfo =(df_e.withColumn( \"info\",\n",
    "            f.to_json(f.struct(\"surname_l\",\"dob_l\",\"city_l\",\"email_l\",\"group_l\",\n",
    "                              \"surname_r\",\"dob_r\",\"city_r\",\"email_r\",\"group_r\"))).\n",
    "            select(\"tf_adjusted_match_prob\",\"match_probability\",\"unique_id_l\",\"unique_id_r\",\"info\").\n",
    "            withColumnRenamed(\"unique_id_l\",\"src\").withColumnRenamed(\"unique_id_r\",\"dst\"))\n",
    "\n",
    "\n",
    "\n",
    "edgesinfo = _graphharmoniser(edgesinfo,\"src\",\"dst\")\n",
    "edges = _graphharmoniser(edges,\"src\",\"dst\")\n"
   ]
  },
  {
   "cell_type": "code",
   "execution_count": null,
   "metadata": {},
   "outputs": [],
   "source": [
    "#edge_df = edges.join(edgesinfo,  (f.col(\"source\") == f.col(\"unique_id_l\") ) &\n",
    "#                                   (f.col(\"target\") == f.col(\"unique_id_r\"))"
   ]
  },
  {
   "cell_type": "code",
   "execution_count": null,
   "metadata": {},
   "outputs": [],
   "source": [
    "edge_df = (edges.alias('a').join(cc.alias('b'),f.col(\"a.src\")==f.col(\"b.id\")).drop(\"id\"))\n",
    "edge_df = edge_df.withColumn(\"distance\" ,1.01 - f.col(\"tf_adjusted_match_prob\"))"
   ]
  },
  {
   "cell_type": "code",
   "execution_count": null,
   "metadata": {},
   "outputs": [],
   "source": [
    "sgs = subgraph_stats(edge_df,\"component\", \"tf_adjusted_match_prob\",\n",
    "               src=\"src\", dst=\"dst\")"
   ]
  },
  {
   "cell_type": "code",
   "execution_count": null,
   "metadata": {},
   "outputs": [],
   "source": [
    "sgs.show(2)"
   ]
  },
  {
   "cell_type": "code",
   "execution_count": null,
   "metadata": {},
   "outputs": [],
   "source": [
    "#in case of error \n",
    "#RuntimeError: Arrow legacy IPC format is not supported in PySpark, please unset ARROW_PRE_0_15_IPC_FORMAT\n",
    "#please uncomment the line below and execute the cell again!\n",
    "#os.environ[\"ARROW_PRE_0_15_IPC_FORMAT\"] = \"1\"\n",
    "\n",
    "from splink_graph.vectorised import diameter_radius_transitivity\n",
    "drt = diameter_radius_transitivity(edge_df,\"src\", \"dst\")\n"
   ]
  },
  {
   "cell_type": "code",
   "execution_count": null,
   "metadata": {},
   "outputs": [],
   "source": [
    "drt.show()"
   ]
  },
  {
   "cell_type": "code",
   "execution_count": null,
   "metadata": {},
   "outputs": [],
   "source": [
    "graphstats = sgs.join(drt,on=\"component\")\n",
    "graphstats.sort(graphstats.nodecount.desc(),graphstats.transitivity.asc()).\\\n",
    "drop(\"graphhash\",\"nodes\",\"sq_clustcoeff\").show(5)\n",
    "\n"
   ]
  },
  {
   "cell_type": "code",
   "execution_count": null,
   "metadata": {},
   "outputs": [],
   "source": [
    "from splink_graph.vectorised import edgebetweeness\n",
    "\n",
    "ebdf = edgebetweeness(edge_df, src=\"src\", dst=\"dst\")\n",
    "ebdf = _graphharmoniser(ebdf,\"src\",\"dst\")\n",
    "ebdf.show(10)\n",
    "\n",
    "\n"
   ]
  },
  {
   "cell_type": "code",
   "execution_count": null,
   "metadata": {},
   "outputs": [],
   "source": [
    "edge_eb_df= edge_df.join(ebdf, ['src','dst','component'])"
   ]
  },
  {
   "cell_type": "code",
   "execution_count": null,
   "metadata": {},
   "outputs": [],
   "source": [
    "edge_eb_df.show(5)\n",
    "edge_eb_df.count()"
   ]
  },
  {
   "cell_type": "code",
   "execution_count": null,
   "metadata": {},
   "outputs": [],
   "source": [
    "# network visualisation prep"
   ]
  },
  {
   "cell_type": "code",
   "execution_count": null,
   "metadata": {},
   "outputs": [],
   "source": [
    "# prepare edges"
   ]
  },
  {
   "cell_type": "code",
   "execution_count": null,
   "metadata": {},
   "outputs": [],
   "source": [
    "edge_df_for_viz = edge_eb_df.join(edgesinfo,['src','dst','tf_adjusted_match_prob'])\n",
    "edge_df_for_viz = edge_df_for_viz.withColumnRenamed(\"src\",\"source\").\\\n",
    "                  withColumnRenamed(\"dst\",\"target\").\\\n",
    "                  withColumnRenamed(\"eb\",\"value\").\\\n",
    "                  withColumnRenamed(\"info\",\"comparison\")\n",
    "edge_df_for_viz.show(1,truncate=False,vertical=True)"
   ]
  },
  {
   "cell_type": "code",
   "execution_count": null,
   "metadata": {},
   "outputs": [],
   "source": []
  },
  {
   "cell_type": "code",
   "execution_count": null,
   "metadata": {},
   "outputs": [],
   "source": [
    "# prepare nodes for visualisation\n",
    "from splink_graph.vectorised import eigencentrality\n",
    "node_eigen_centrality = eigencentrality(edge_df,component=\"component\", distance=\"distance\",\n",
    "               src=\"src\", dst=\"dst\")\n",
    "\n",
    "node_eigen_centrality.show(5)"
   ]
  },
  {
   "cell_type": "code",
   "execution_count": null,
   "metadata": {},
   "outputs": [],
   "source": [
    "df_nodes = cc.withColumnRenamed(\"id\",\"index\").withColumnRenamed(\"component\",\"group\")\n",
    "df_nodes = df_nodes.withColumn(\"name\",f.col(\"index\"))\n",
    "node_df_for_viz = df_nodes.join(node_eigen_centrality,(df_nodes.index==node_eigen_centrality.node)).drop(\"node\")\n",
    "node_df_for_viz.show(2)"
   ]
  },
  {
   "cell_type": "code",
   "execution_count": null,
   "metadata": {},
   "outputs": [],
   "source": [
    "# choose components to visualise\n",
    "\n",
    "\n",
    "comp_list = graphstats.sort(graphstats.nodecount.desc(),graphstats.tri_clustcoeff.asc()).\\\n",
    "limit(3).select(\"component\").rdd.flatMap(list).collect()\n",
    "\n",
    "comp_list_str=\"(\"+(','.join(str(x) for x in comp_list))+\")\"\n",
    "comp_list_str"
   ]
  },
  {
   "cell_type": "code",
   "execution_count": null,
   "metadata": {},
   "outputs": [],
   "source": [
    "df_nodes_pd = node_df_for_viz.filter(f\" group IN {comp_list_str} \").toPandas()\n",
    "df_edges_pd = edge_df_for_viz.filter(f\" component IN {comp_list_str} \").toPandas()\n",
    "edge_fields = [\"source\", \"target\", \"value\",\"comparison\"]\n",
    "node_fields = [\"name\", \"group\", \"index\",\"eigen_centrality\"]"
   ]
  },
  {
   "cell_type": "code",
   "execution_count": null,
   "metadata": {},
   "outputs": [],
   "source": [
    "\n",
    "import json\n",
    "with open(\"data/graph/force_template.vg.json\") as f:\n",
    "    vl = json.load(f)\n",
    "\n"
   ]
  },
  {
   "cell_type": "code",
   "execution_count": null,
   "metadata": {},
   "outputs": [],
   "source": [
    "vl['data'][0] = {\n",
    "    \"name\": \"node-data\",\n",
    "    \"values\": df_nodes_pd[node_fields].to_dict(orient='records'),\n",
    "\n",
    "}\n",
    "\n",
    "vl['data'][1] = {\n",
    "    \"name\": \"link-data\",\n",
    "    \"values\":  df_edges_pd[edge_fields].to_dict(orient='records')\n",
    "}\n",
    "\n",
    "vl['width'] = 1200\n",
    "vl['height'] = 600"
   ]
  },
  {
   "cell_type": "code",
   "execution_count": null,
   "metadata": {},
   "outputs": [],
   "source": [
    "%%javascript\n",
    "    var script = document.createElement('script');\n",
    "    script.type = 'text/javascript';\n",
    "    script.src = '//cdn.jsdelivr.net/npm/vega@5';\n",
    "    document.head.appendChild(script);\n",
    "    \n",
    "    var script = document.createElement('script');\n",
    "    script.type = 'text/javascript';\n",
    "    script.src = '//cdn.jsdelivr.net/npm/vega-embed@6';\n",
    "    document.head.appendChild(script);\n",
    "\n"
   ]
  },
  {
   "cell_type": "code",
   "execution_count": null,
   "metadata": {},
   "outputs": [],
   "source": [
    "\n",
    "\n",
    "from IPython.display import Javascript\n",
    "script = f\"\"\"\n",
    "var spec = `{json.dumps(vl)}`\n",
    "spec= JSON.parse(spec)\n",
    "debugger;\n",
    "vegaEmbed(element, spec).then(function(result) {{\n",
    "  }}).catch(console.error);  \n",
    "\"\"\"\n",
    "\n"
   ]
  },
  {
   "cell_type": "code",
   "execution_count": null,
   "metadata": {},
   "outputs": [],
   "source": [
    "\n",
    "\n",
    "Javascript(script)\n",
    "\n"
   ]
  },
  {
   "cell_type": "code",
   "execution_count": null,
   "metadata": {},
   "outputs": [],
   "source": []
  },
  {
   "cell_type": "code",
   "execution_count": null,
   "metadata": {},
   "outputs": [],
   "source": [
    "type((df_edges_pd[edge_fields].to_dict(orient='records'))[0])"
   ]
  },
  {
   "cell_type": "code",
   "execution_count": null,
   "metadata": {},
   "outputs": [],
   "source": []
  }
 ],
 "metadata": {
  "kernelspec": {
   "display_name": "data_linkage",
   "language": "python",
   "name": "data_linkage"
  },
  "language_info": {
   "codemirror_mode": {
    "name": "ipython",
    "version": 3
   },
   "file_extension": ".py",
   "mimetype": "text/x-python",
   "name": "python",
   "nbconvert_exporter": "python",
   "pygments_lexer": "ipython3",
   "version": "3.7.6"
  }
 },
 "nbformat": 4,
 "nbformat_minor": 5
}
