{
 "cells": [
  {
   "cell_type": "code",
   "execution_count": 1,
   "id": "attempted-newman",
   "metadata": {},
   "outputs": [],
   "source": [
    "import pandas as pd \n",
    "pd.options.display.max_columns = 500\n",
    "pd.options.display.max_rows = 100"
   ]
  },
  {
   "cell_type": "code",
   "execution_count": 2,
   "id": "worth-sympathy",
   "metadata": {},
   "outputs": [],
   "source": [
    "import logging \n",
    "logging.basicConfig()  # Means logs will print in Jupyter Lab"
   ]
  },
  {
   "cell_type": "code",
   "execution_count": 3,
   "id": "pleased-blend",
   "metadata": {},
   "outputs": [],
   "source": [
    "from utility_functions.demo_utils import get_spark\n",
    "spark = get_spark() # See utility_functions/demo_utils.py for how to set up Spark"
   ]
  },
  {
   "cell_type": "code",
   "execution_count": 4,
   "id": "infrared-alberta",
   "metadata": {},
   "outputs": [],
   "source": [
    "## splink_graph functionality\n",
    "import splink_graph\n",
    "from splink_graph.splink_graph import subgraph_stats\n",
    "from splink_graph.splink_graph import _graphharmoniser\n",
    "from pyspark.sql import functions as f\n",
    "import os\n"
   ]
  },
  {
   "cell_type": "code",
   "execution_count": 26,
   "id": "operational-submission",
   "metadata": {},
   "outputs": [
    {
     "name": "stdout",
     "output_type": "stream",
     "text": [
      "Spark 3.x detected. ARROW_PRE_0_15_IPC_FORMAT is set to  0\n"
     ]
    }
   ],
   "source": [
    "if (spark.version).startswith(\"3\"):\n",
    "    os.environ[\"ARROW_PRE_0_15_IPC_FORMAT\"] = \"0\"\n",
    "    print(\"Spark 3.x detected. ARROW_PRE_0_15_IPC_FORMAT is set to \",os.environ[\"ARROW_PRE_0_15_IPC_FORMAT\"])"
   ]
  },
  {
   "cell_type": "code",
   "execution_count": 27,
   "id": "aggressive-lafayette",
   "metadata": {},
   "outputs": [
    {
     "data": {
      "text/plain": [
       "'3.0.2'"
      ]
     },
     "execution_count": 27,
     "metadata": {},
     "output_type": "execute_result"
    }
   ],
   "source": [
    "spark.version"
   ]
  },
  {
   "cell_type": "code",
   "execution_count": 28,
   "id": "planned-drawing",
   "metadata": {},
   "outputs": [],
   "source": [
    "df_e = spark.read.parquet(\"data/graph/df_e.parquet\")\n",
    "cc = spark.read.parquet(\"data/graph/cc.parquet\")\n",
    "edges = spark.read.parquet(\"data/graph/edges.parquet\")"
   ]
  },
  {
   "cell_type": "code",
   "execution_count": 29,
   "id": "useful-programmer",
   "metadata": {},
   "outputs": [
    {
     "name": "stdout",
     "output_type": "stream",
     "text": [
      "root\n",
      " |-- src: string (nullable = true)\n",
      " |-- dst: string (nullable = true)\n",
      " |-- tf_adjusted_match_prob: double (nullable = true)\n",
      "\n",
      "root\n",
      " |-- id: string (nullable = true)\n",
      " |-- component: long (nullable = true)\n",
      "\n"
     ]
    }
   ],
   "source": [
    "\n",
    "edges.printSchema()\n",
    "cc.printSchema()\n"
   ]
  },
  {
   "cell_type": "code",
   "execution_count": 30,
   "id": "loaded-television",
   "metadata": {},
   "outputs": [],
   "source": [
    "edgesinfo =(df_e.withColumn( \"info\",\n",
    "            f.to_json(f.struct(\"surname_l\",\"dob_l\",\"city_l\",\"email_l\",\"group_l\",\n",
    "                              \"surname_r\",\"dob_r\",\"city_r\",\"email_r\",\"group_r\"))).\n",
    "            select(\"tf_adjusted_match_prob\",\"match_probability\",\"unique_id_l\",\"unique_id_r\",\"info\").\n",
    "            withColumnRenamed(\"unique_id_l\",\"src\").withColumnRenamed(\"unique_id_r\",\"dst\"))\n",
    "\n",
    "\n",
    "\n",
    "edgesinfo = _graphharmoniser(edgesinfo,\"src\",\"dst\")\n",
    "edges = _graphharmoniser(edges,\"src\",\"dst\")\n"
   ]
  },
  {
   "cell_type": "code",
   "execution_count": 31,
   "id": "naked-potential",
   "metadata": {},
   "outputs": [],
   "source": [
    "#edge_df = edges.join(edgesinfo,  (f.col(\"source\") == f.col(\"unique_id_l\") ) &\n",
    "#                                   (f.col(\"target\") == f.col(\"unique_id_r\"))"
   ]
  },
  {
   "cell_type": "code",
   "execution_count": 32,
   "id": "conditional-inclusion",
   "metadata": {},
   "outputs": [],
   "source": [
    "edge_df = (edges.alias('a').join(cc.alias('b'),f.col(\"a.src\")==f.col(\"b.id\")).drop(\"id\"))\n",
    "edge_df = edge_df.withColumn(\"distance\" ,1.01 - f.col(\"tf_adjusted_match_prob\"))"
   ]
  },
  {
   "cell_type": "code",
   "execution_count": 33,
   "id": "macro-egypt",
   "metadata": {},
   "outputs": [],
   "source": [
    "sgs = subgraph_stats(edge_df,\"component\", \"tf_adjusted_match_prob\",\n",
    "               src=\"src\", dst=\"dst\")"
   ]
  },
  {
   "cell_type": "code",
   "execution_count": 34,
   "id": "italian-detective",
   "metadata": {},
   "outputs": [
    {
     "name": "stdout",
     "output_type": "stream",
     "text": [
      "+---------+---------------+---------+---------+-------+\n",
      "|component|          nodes|nodecount|edgecount|density|\n",
      "+---------+---------------+---------+---------+-------+\n",
      "|       12|[226, 227, 228]|        3|        3|    1.0|\n",
      "|       28|     [409, 411]|        2|        1|    1.0|\n",
      "+---------+---------------+---------+---------+-------+\n",
      "only showing top 2 rows\n",
      "\n"
     ]
    }
   ],
   "source": [
    "sgs.show(2)"
   ]
  },
  {
   "cell_type": "code",
   "execution_count": 35,
   "id": "imported-audit",
   "metadata": {},
   "outputs": [],
   "source": [
    "\n",
    "from splink_graph.vectorised import diameter_radius_transitivity\n",
    "drt = diameter_radius_transitivity(edge_df,\"src\", \"dst\")\n"
   ]
  },
  {
   "cell_type": "code",
   "execution_count": 36,
   "id": "dominant-finding",
   "metadata": {},
   "outputs": [
    {
     "name": "stdout",
     "output_type": "stream",
     "text": [
      "+-----------+--------+------+------------+--------------+-------------+--------------------+\n",
      "|  component|diameter|radius|transitivity|tri_clustcoeff|sq_clustcoeff|           graphhash|\n",
      "+-----------+--------+------+------------+--------------+-------------+--------------------+\n",
      "|         12|       1|     1|         1.0|           1.0|          0.0|7d2c307dbd866960f...|\n",
      "|         28|       1|     1|         0.0|           0.0|          0.0|2148f1da1ac29711e...|\n",
      "|         29|       1|     1|         1.0|           1.0|          0.0|7d2c307dbd866960f...|\n",
      "|         30|       2|     1|         0.6|         0.583|          0.0|0db442538bb6dc81d...|\n",
      "|         33|       1|     1|         0.0|           0.0|          0.0|2148f1da1ac29711e...|\n",
      "|         42|       1|     1|         0.0|           0.0|          0.0|2148f1da1ac29711e...|\n",
      "|         67|       1|     1|         1.0|           1.0|          0.0|7d2c307dbd866960f...|\n",
      "| 8589934628|       1|     1|         1.0|           1.0|          0.0|7d2c307dbd866960f...|\n",
      "| 8589934658|       1|     1|         1.0|           1.0|          0.0|7d2c307dbd866960f...|\n",
      "| 8589934662|       1|     1|         0.0|           0.0|          0.0|2148f1da1ac29711e...|\n",
      "|17179869184|       2|     1|         0.0|           0.0|          0.0|0f43d8cdd43b0b787...|\n",
      "|17179869192|       1|     1|         1.0|           1.0|          0.0|7d2c307dbd866960f...|\n",
      "|17179869227|       3|     2|         0.0|           0.0|          0.0|ee902cfa5889b4b91...|\n",
      "|17179869228|       1|     1|         0.0|           0.0|          0.0|2148f1da1ac29711e...|\n",
      "|17179869237|       2|     1|         0.6|         0.583|          0.0|0db442538bb6dc81d...|\n",
      "|25769803780|       1|     1|         0.0|           0.0|          0.0|2148f1da1ac29711e...|\n",
      "|25769803791|       1|     1|         0.0|           0.0|          0.0|2148f1da1ac29711e...|\n",
      "|25769803792|       1|     1|         0.0|           0.0|          0.0|2148f1da1ac29711e...|\n",
      "|25769803829|       1|     1|         0.0|           0.0|          0.0|2148f1da1ac29711e...|\n",
      "|25769803834|       2|     1|         0.0|           0.0|          0.0|0f43d8cdd43b0b787...|\n",
      "+-----------+--------+------+------------+--------------+-------------+--------------------+\n",
      "only showing top 20 rows\n",
      "\n"
     ]
    }
   ],
   "source": [
    "drt.show()"
   ]
  },
  {
   "cell_type": "code",
   "execution_count": 37,
   "id": "together-cargo",
   "metadata": {},
   "outputs": [
    {
     "name": "stdout",
     "output_type": "stream",
     "text": [
      "+-----------+---------+---------+-------+--------+------+------------+--------------+\n",
      "|  component|nodecount|edgecount|density|diameter|radius|transitivity|tri_clustcoeff|\n",
      "+-----------+---------+---------+-------+--------+------+------------+--------------+\n",
      "|         72|        6|       11|  0.733|       2|     1|        0.75|         0.867|\n",
      "|         61|        5|        4|    0.4|       2|     1|         0.0|           0.0|\n",
      "|17179869220|        5|        5|    0.5|       3|     2|       0.429|         0.333|\n",
      "|25769803812|        5|        7|    0.7|       2|     1|         0.6|           0.8|\n",
      "|         38|        5|        8|    0.8|       2|     1|       0.789|         0.867|\n",
      "| 8589934671|        5|        9|    0.9|       2|     1|       0.875|           0.9|\n",
      "| 8589934629|        5|        9|    0.9|       2|     1|       0.875|           0.9|\n",
      "| 8589934616|        5|       10|    1.0|       1|     1|         1.0|           1.0|\n",
      "|         51|        5|       10|    1.0|       1|     1|         1.0|           1.0|\n",
      "| 8589934665|        5|       10|    1.0|       1|     1|         1.0|           1.0|\n",
      "|          3|        5|       10|    1.0|       1|     1|         1.0|           1.0|\n",
      "|         54|        4|        3|    0.5|       3|     2|         0.0|           0.0|\n",
      "|17179869227|        4|        3|    0.5|       3|     2|         0.0|           0.0|\n",
      "|         22|        4|        4|  0.667|       2|     1|         0.6|         0.583|\n",
      "| 8589934612|        4|        4|  0.667|       2|     1|         0.6|         0.583|\n",
      "|         13|        4|        4|  0.667|       2|     1|         0.6|         0.583|\n",
      "|17179869230|        4|        4|  0.667|       2|     1|         0.6|         0.583|\n",
      "|25769803851|        4|        4|  0.667|       2|     1|         0.6|         0.583|\n",
      "| 8589934615|        4|        4|  0.667|       2|     1|         0.6|         0.583|\n",
      "|17179869237|        4|        4|  0.667|       2|     1|         0.6|         0.583|\n",
      "+-----------+---------+---------+-------+--------+------+------------+--------------+\n",
      "only showing top 20 rows\n",
      "\n"
     ]
    }
   ],
   "source": [
    "graphstats = sgs.join(drt,on=\"component\")\n",
    "graphstats.sort(graphstats.nodecount.desc(),graphstats.transitivity.asc()).drop(\"graphhash\",\"nodes\",\"sq_clustcoeff\").show()\n",
    "\n"
   ]
  },
  {
   "cell_type": "code",
   "execution_count": 38,
   "id": "social-advocacy",
   "metadata": {},
   "outputs": [
    {
     "name": "stdout",
     "output_type": "stream",
     "text": [
      "+----------+----------+---+---+\n",
      "|        eb| component|src|dst|\n",
      "+----------+----------+---+---+\n",
      "|0.33333334|        12|226|227|\n",
      "|0.33333334|        12|226|228|\n",
      "|0.33333334|        12|227|228|\n",
      "|       1.0|        28|409|411|\n",
      "|0.33333334|        29| 37| 39|\n",
      "|0.33333334|        29| 37| 43|\n",
      "|0.33333334|        29| 39| 43|\n",
      "|0.33333334|        30|434|435|\n",
      "|0.16666667|        30|433|434|\n",
      "|0.33333334|        30|433|435|\n",
      "|       0.5|        30|432|435|\n",
      "|       1.0|        33|467|468|\n",
      "|       1.0|        42|511|513|\n",
      "|0.33333334|        67|895|897|\n",
      "|0.33333334|        67|894|895|\n",
      "|0.33333334|        67|894|897|\n",
      "|0.33333334|8589934628|521|523|\n",
      "|0.33333334|8589934628|521|525|\n",
      "|0.33333334|8589934628|523|525|\n",
      "|0.33333334|8589934658|853|854|\n",
      "+----------+----------+---+---+\n",
      "only showing top 20 rows\n",
      "\n"
     ]
    }
   ],
   "source": [
    "from splink_graph.vectorised import edgebetweeness\n",
    "\n",
    "ebdf = edgebetweeness(edge_df, src=\"src\", dst=\"dst\")\n",
    "ebdf = _graphharmoniser(ebdf,\"src\",\"dst\")\n",
    "ebdf.show()\n",
    "\n",
    "\n"
   ]
  },
  {
   "cell_type": "code",
   "execution_count": 39,
   "id": "magnetic-volume",
   "metadata": {},
   "outputs": [
    {
     "name": "stdout",
     "output_type": "stream",
     "text": [
      "+----+-------------------+\n",
      "|node|   eigen_centrality|\n",
      "+----+-------------------+\n",
      "| 226| 0.5773502691896258|\n",
      "| 227| 0.5773502691896258|\n",
      "| 228| 0.5773502691896258|\n",
      "| 409| 0.7071067811865476|\n",
      "| 411| 0.7071067811865476|\n",
      "|  37| 0.5773502691896258|\n",
      "|  39| 0.5773502691896258|\n",
      "|  43| 0.5773502691896258|\n",
      "| 434| 0.5227204550943347|\n",
      "| 435| 0.6116286437343044|\n",
      "| 433| 0.5227204550943347|\n",
      "| 432|0.28184579793865727|\n",
      "| 467| 0.7071067811865476|\n",
      "| 468| 0.7071067811865476|\n",
      "| 511| 0.7071067811865476|\n",
      "| 513| 0.7071067811865476|\n",
      "| 895| 0.5773502691896258|\n",
      "| 897| 0.5773502691896258|\n",
      "| 894| 0.5773502691896258|\n",
      "| 521| 0.5773502691896258|\n",
      "+----+-------------------+\n",
      "only showing top 20 rows\n",
      "\n"
     ]
    }
   ],
   "source": [
    "from splink_graph.vectorised import eigencentrality\n",
    "node_eigen_centrality = eigencentrality(edge_df,component=\"component\", distance=\"distance\",\n",
    "               src=\"src\", dst=\"dst\")\n",
    "\n",
    "node_eigen_centrality.show()"
   ]
  },
  {
   "cell_type": "code",
   "execution_count": null,
   "id": "acceptable-petersburg",
   "metadata": {},
   "outputs": [],
   "source": []
  }
 ],
 "metadata": {
  "kernelspec": {
   "display_name": "Python 3",
   "language": "python",
   "name": "python3"
  },
  "language_info": {
   "codemirror_mode": {
    "name": "ipython",
    "version": 3
   },
   "file_extension": ".py",
   "mimetype": "text/x-python",
   "name": "python",
   "nbconvert_exporter": "python",
   "pygments_lexer": "ipython3",
   "version": "3.8.8"
  }
 },
 "nbformat": 4,
 "nbformat_minor": 5
}
