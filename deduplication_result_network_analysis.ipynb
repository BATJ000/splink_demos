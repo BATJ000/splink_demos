{
 "cells": [
  {
   "cell_type": "code",
   "execution_count": 1,
   "metadata": {},
   "outputs": [],
   "source": [
    "import pandas as pd \n",
    "pd.options.display.max_columns = 500\n",
    "pd.options.display.max_rows = 100"
   ]
  },
  {
   "cell_type": "code",
   "execution_count": 2,
   "metadata": {},
   "outputs": [],
   "source": [
    "import logging \n",
    "logging.basicConfig()  # Means logs will print in Jupyter Lab"
   ]
  },
  {
   "cell_type": "code",
   "execution_count": 3,
   "metadata": {},
   "outputs": [],
   "source": [
    "from utility_functions.demo_utils import get_spark\n",
    "spark = get_spark() # See utility_functions/demo_utils.py for how to set up Spark"
   ]
  },
  {
   "cell_type": "code",
   "execution_count": 4,
   "metadata": {},
   "outputs": [],
   "source": [
    "## splink_graph functionality\n",
    "import splink_graph\n",
    "from splink_graph.splink_graph import subgraph_stats\n",
    "from splink_graph.splink_graph import _graphharmoniser\n",
    "from pyspark.sql import functions as f\n",
    "import pyspark\n",
    "import os\n"
   ]
  },
  {
   "cell_type": "code",
   "execution_count": 5,
   "metadata": {},
   "outputs": [
    {
     "name": "stdout",
     "output_type": "stream",
     "text": [
      "Spark 2.x detected. ARROW_PRE_0_15_IPC_FORMAT is set to 1\n"
     ]
    }
   ],
   "source": [
    "if (pyspark.__version__).startswith(\"3\"):\n",
    "    os.environ[\"ARROW_PRE_0_15_IPC_FORMAT\"] = \"0\"\n",
    "    print(\"Spark 3.x detected. ARROW_PRE_0_15_IPC_FORMAT is set to \",os.environ[\"ARROW_PRE_0_15_IPC_FORMAT\"])\n",
    "else:\n",
    "    print(\"Spark 2.x detected. ARROW_PRE_0_15_IPC_FORMAT is set to 1\")"
   ]
  },
  {
   "cell_type": "code",
   "execution_count": 6,
   "metadata": {},
   "outputs": [
    {
     "data": {
      "text/plain": [
       "'2.4.5'"
      ]
     },
     "execution_count": 6,
     "metadata": {},
     "output_type": "execute_result"
    }
   ],
   "source": [
    "spark.version"
   ]
  },
  {
   "cell_type": "code",
   "execution_count": 7,
   "metadata": {},
   "outputs": [],
   "source": [
    "df_e = spark.read.parquet(\"data/graph/df_e.parquet\")\n",
    "cc = spark.read.parquet(\"data/graph/cc.parquet\")\n",
    "edges = spark.read.parquet(\"data/graph/edges.parquet\")"
   ]
  },
  {
   "cell_type": "code",
   "execution_count": 8,
   "metadata": {},
   "outputs": [
    {
     "name": "stdout",
     "output_type": "stream",
     "text": [
      "root\n",
      " |-- src: string (nullable = true)\n",
      " |-- dst: string (nullable = true)\n",
      " |-- tf_adjusted_match_prob: double (nullable = true)\n",
      "\n",
      "root\n",
      " |-- id: string (nullable = true)\n",
      " |-- component: long (nullable = true)\n",
      "\n"
     ]
    }
   ],
   "source": [
    "\n",
    "edges.printSchema()\n",
    "cc.printSchema()\n"
   ]
  },
  {
   "cell_type": "code",
   "execution_count": 9,
   "metadata": {},
   "outputs": [],
   "source": [
    "edgesinfo =(df_e.withColumn( \"info\",\n",
    "            f.to_json(f.struct(\"surname_l\",\"dob_l\",\"city_l\",\"email_l\",\"group_l\",\n",
    "                              \"surname_r\",\"dob_r\",\"city_r\",\"email_r\",\"group_r\"))).\n",
    "            select(\"tf_adjusted_match_prob\",\"match_probability\",\"unique_id_l\",\"unique_id_r\",\"info\").\n",
    "            withColumnRenamed(\"unique_id_l\",\"src\").withColumnRenamed(\"unique_id_r\",\"dst\"))\n",
    "\n",
    "\n",
    "\n",
    "edgesinfo = _graphharmoniser(edgesinfo,\"src\",\"dst\")\n",
    "edges = _graphharmoniser(edges,\"src\",\"dst\")\n"
   ]
  },
  {
   "cell_type": "code",
   "execution_count": 10,
   "metadata": {},
   "outputs": [],
   "source": [
    "#edge_df = edges.join(edgesinfo,  (f.col(\"source\") == f.col(\"unique_id_l\") ) &\n",
    "#                                   (f.col(\"target\") == f.col(\"unique_id_r\"))"
   ]
  },
  {
   "cell_type": "code",
   "execution_count": 11,
   "metadata": {},
   "outputs": [],
   "source": [
    "edge_df = (edges.alias('a').join(cc.alias('b'),f.col(\"a.src\")==f.col(\"b.id\")).drop(\"id\"))\n",
    "edge_df = edge_df.withColumn(\"distance\" ,1.01 - f.col(\"tf_adjusted_match_prob\"))"
   ]
  },
  {
   "cell_type": "code",
   "execution_count": 12,
   "metadata": {},
   "outputs": [],
   "source": [
    "sgs = subgraph_stats(edge_df,\"component\", \"tf_adjusted_match_prob\",\n",
    "               src=\"src\", dst=\"dst\")"
   ]
  },
  {
   "cell_type": "code",
   "execution_count": 13,
   "metadata": {},
   "outputs": [
    {
     "name": "stdout",
     "output_type": "stream",
     "text": [
      "+---------+---------------+---------+---------+-------+\n",
      "|component|          nodes|nodecount|edgecount|density|\n",
      "+---------+---------------+---------+---------+-------+\n",
      "|       12|[226, 227, 228]|        3|        3|    1.0|\n",
      "|       28|     [409, 411]|        2|        1|    1.0|\n",
      "+---------+---------------+---------+---------+-------+\n",
      "only showing top 2 rows\n",
      "\n"
     ]
    }
   ],
   "source": [
    "sgs.show(2)"
   ]
  },
  {
   "cell_type": "code",
   "execution_count": 14,
   "metadata": {},
   "outputs": [],
   "source": [
    "#in case of error \n",
    "#RuntimeError: Arrow legacy IPC format is not supported in PySpark, please unset ARROW_PRE_0_15_IPC_FORMAT\n",
    "#please uncomment the line below and execute the cell again!\n",
    "#os.environ[\"ARROW_PRE_0_15_IPC_FORMAT\"] = \"0\"\n",
    "\n",
    "from splink_graph.vectorised import diameter_radius_transitivity\n",
    "drt = diameter_radius_transitivity(edge_df,\"src\", \"dst\")\n"
   ]
  },
  {
   "cell_type": "code",
   "execution_count": 15,
   "metadata": {},
   "outputs": [
    {
     "name": "stdout",
     "output_type": "stream",
     "text": [
      "+-----------+--------+------+------------+--------------+-------------+--------------------+\n",
      "|  component|diameter|radius|transitivity|tri_clustcoeff|sq_clustcoeff|           graphhash|\n",
      "+-----------+--------+------+------------+--------------+-------------+--------------------+\n",
      "|         12|       1|     1|         1.0|           1.0|          0.0|7d2c307dbd866960f...|\n",
      "|         28|       1|     1|         0.0|           0.0|          0.0|2148f1da1ac29711e...|\n",
      "|         29|       1|     1|         1.0|           1.0|          0.0|7d2c307dbd866960f...|\n",
      "|         30|       2|     1|         0.6|         0.583|          0.0|0db442538bb6dc81d...|\n",
      "|         33|       1|     1|         0.0|           0.0|          0.0|2148f1da1ac29711e...|\n",
      "|         42|       1|     1|         0.0|           0.0|          0.0|2148f1da1ac29711e...|\n",
      "|         67|       1|     1|         1.0|           1.0|          0.0|7d2c307dbd866960f...|\n",
      "| 8589934628|       1|     1|         1.0|           1.0|          0.0|7d2c307dbd866960f...|\n",
      "| 8589934658|       1|     1|         1.0|           1.0|          0.0|7d2c307dbd866960f...|\n",
      "| 8589934662|       1|     1|         0.0|           0.0|          0.0|2148f1da1ac29711e...|\n",
      "|17179869184|       2|     1|         0.0|           0.0|          0.0|0f43d8cdd43b0b787...|\n",
      "|17179869192|       1|     1|         1.0|           1.0|          0.0|7d2c307dbd866960f...|\n",
      "|17179869227|       3|     2|         0.0|           0.0|          0.0|ee902cfa5889b4b91...|\n",
      "|17179869228|       1|     1|         0.0|           0.0|          0.0|2148f1da1ac29711e...|\n",
      "|17179869237|       2|     1|         0.6|         0.583|          0.0|0db442538bb6dc81d...|\n",
      "|25769803780|       1|     1|         0.0|           0.0|          0.0|2148f1da1ac29711e...|\n",
      "|25769803791|       1|     1|         0.0|           0.0|          0.0|2148f1da1ac29711e...|\n",
      "|25769803792|       1|     1|         0.0|           0.0|          0.0|2148f1da1ac29711e...|\n",
      "|25769803829|       1|     1|         0.0|           0.0|          0.0|2148f1da1ac29711e...|\n",
      "|25769803834|       2|     1|         0.0|           0.0|          0.0|0f43d8cdd43b0b787...|\n",
      "+-----------+--------+------+------------+--------------+-------------+--------------------+\n",
      "only showing top 20 rows\n",
      "\n"
     ]
    }
   ],
   "source": [
    "drt.show()"
   ]
  },
  {
   "cell_type": "code",
   "execution_count": 16,
   "metadata": {},
   "outputs": [
    {
     "name": "stdout",
     "output_type": "stream",
     "text": [
      "+-----------+---------+---------+-------+--------+------+------------+--------------+\n",
      "|  component|nodecount|edgecount|density|diameter|radius|transitivity|tri_clustcoeff|\n",
      "+-----------+---------+---------+-------+--------+------+------------+--------------+\n",
      "|         72|        6|       11|  0.733|       2|     1|        0.75|         0.867|\n",
      "|         61|        5|        4|    0.4|       2|     1|         0.0|           0.0|\n",
      "|17179869220|        5|        5|    0.5|       3|     2|       0.429|         0.333|\n",
      "|25769803812|        5|        7|    0.7|       2|     1|         0.6|           0.8|\n",
      "|         38|        5|        8|    0.8|       2|     1|       0.789|         0.867|\n",
      "+-----------+---------+---------+-------+--------+------+------------+--------------+\n",
      "only showing top 5 rows\n",
      "\n"
     ]
    }
   ],
   "source": [
    "graphstats = sgs.join(drt,on=\"component\")\n",
    "graphstats.sort(graphstats.nodecount.desc(),graphstats.transitivity.asc()).\\\n",
    "drop(\"graphhash\",\"nodes\",\"sq_clustcoeff\").show(5)\n",
    "\n"
   ]
  },
  {
   "cell_type": "code",
   "execution_count": 17,
   "metadata": {},
   "outputs": [
    {
     "name": "stdout",
     "output_type": "stream",
     "text": [
      "+----------+---------+---+---+\n",
      "|        eb|component|src|dst|\n",
      "+----------+---------+---+---+\n",
      "|0.33333334|       12|226|227|\n",
      "|0.33333334|       12|226|228|\n",
      "|0.33333334|       12|227|228|\n",
      "|       1.0|       28|409|411|\n",
      "|0.33333334|       29| 37| 39|\n",
      "|0.33333334|       29| 37| 43|\n",
      "|0.33333334|       29| 39| 43|\n",
      "|0.33333334|       30|434|435|\n",
      "|0.16666667|       30|433|434|\n",
      "|0.33333334|       30|433|435|\n",
      "+----------+---------+---+---+\n",
      "only showing top 10 rows\n",
      "\n"
     ]
    }
   ],
   "source": [
    "from splink_graph.vectorised import edgebetweeness\n",
    "\n",
    "ebdf = edgebetweeness(edge_df, src=\"src\", dst=\"dst\")\n",
    "ebdf = _graphharmoniser(ebdf,\"src\",\"dst\")\n",
    "ebdf.show(10)\n",
    "\n",
    "\n"
   ]
  },
  {
   "cell_type": "code",
   "execution_count": 18,
   "metadata": {},
   "outputs": [],
   "source": [
    "edge_eb_df= edge_df.join(ebdf, ['src','dst','component'])"
   ]
  },
  {
   "cell_type": "code",
   "execution_count": 19,
   "metadata": {},
   "outputs": [
    {
     "name": "stdout",
     "output_type": "stream",
     "text": [
      "+---+---+-----------+----------------------+--------------------+----------+\n",
      "|src|dst|  component|tf_adjusted_match_prob|            distance|        eb|\n",
      "+---+---+-----------+----------------------+--------------------+----------+\n",
      "|101|105|          1|    0.9999999999999999| 0.01000000000000012|0.33333334|\n",
      "|110|112|          3|    0.9999735636657863| 0.01002643633421374|       0.1|\n",
      "|129|130| 8589934594|    0.9999999999961988| 0.01000000000380119|0.33333334|\n",
      "|157|158|          6|    0.9999999383933627|0.010000061606637356|       1.0|\n",
      "|161|163|17179869185|    0.9999677183140464|0.010032281685953603|0.33333334|\n",
      "+---+---+-----------+----------------------+--------------------+----------+\n",
      "only showing top 5 rows\n",
      "\n"
     ]
    },
    {
     "data": {
      "text/plain": [
       "398"
      ]
     },
     "execution_count": 19,
     "metadata": {},
     "output_type": "execute_result"
    }
   ],
   "source": [
    "edge_eb_df.show(5)\n",
    "edge_eb_df.count()"
   ]
  },
  {
   "cell_type": "code",
   "execution_count": 31,
   "metadata": {},
   "outputs": [],
   "source": [
    "# network visualisation prep"
   ]
  },
  {
   "cell_type": "code",
   "execution_count": null,
   "metadata": {},
   "outputs": [],
   "source": [
    "# prepare edges"
   ]
  },
  {
   "cell_type": "code",
   "execution_count": 21,
   "metadata": {},
   "outputs": [
    {
     "name": "stdout",
     "output_type": "stream",
     "text": [
      "-RECORD 0-------------------------------------------------------------------------------------------------------------------------------------------------------------------------------------------------------------------------------------------------------------------------\n",
      " source                 | 101                                                                                                                                                                                                                                                     \n",
      " target                 | 105                                                                                                                                                                                                                                                     \n",
      " tf_adjusted_match_prob | 0.9999999999999999                                                                                                                                                                                                                                      \n",
      " component              | 1                                                                                                                                                                                                                                                       \n",
      " distance               | 0.01000000000000012                                                                                                                                                                                                                                     \n",
      " value                  | 0.33333334                                                                                                                                                                                                                                              \n",
      " match_probability      | 0.999999975621326                                                                                                                                                                                                                                       \n",
      " info                   | {\"surname_l\":\"Griffiths\",\"dob_l\":\"2008-05-07\",\"city_l\":\"Plymouth\",\"email_l\":\"a.griffiths@garner-bridges.com\",\"group_l\":\"29\",\"surname_r\":\"Griffiths\",\"dob_r\":\"2008-05-07\",\"city_r\":\"Plymouth\",\"email_r\":\"a.griffiths@garner-bridges.com\",\"group_r\":\"29\"} \n",
      "only showing top 1 row\n",
      "\n"
     ]
    }
   ],
   "source": [
    "edge_df_for_viz = edge_eb_df.join(edgesinfo,['src','dst','tf_adjusted_match_prob'])\n",
    "edge_df_for_viz = edge_df_for_viz.withColumnRenamed(\"src\",\"source\").\\\n",
    "                  withColumnRenamed(\"dst\",\"target\").\\\n",
    "                  withColumnRenamed(\"eb\",\"value\")\n",
    "edge_df_for_viz.show(1,truncate=False,vertical=True)"
   ]
  },
  {
   "cell_type": "code",
   "execution_count": null,
   "metadata": {},
   "outputs": [],
   "source": []
  },
  {
   "cell_type": "code",
   "execution_count": 22,
   "metadata": {},
   "outputs": [
    {
     "name": "stdout",
     "output_type": "stream",
     "text": [
      "+----+------------------+\n",
      "|node|  eigen_centrality|\n",
      "+----+------------------+\n",
      "| 226|0.5773502691896258|\n",
      "| 227|0.5773502691896258|\n",
      "| 228|0.5773502691896258|\n",
      "| 409|0.7071067811865476|\n",
      "| 411|0.7071067811865476|\n",
      "+----+------------------+\n",
      "only showing top 5 rows\n",
      "\n"
     ]
    }
   ],
   "source": [
    "# prepare nodes for visualisation\n",
    "from splink_graph.vectorised import eigencentrality\n",
    "node_eigen_centrality = eigencentrality(edge_df,component=\"component\", distance=\"distance\",\n",
    "               src=\"src\", dst=\"dst\")\n",
    "\n",
    "node_eigen_centrality.show(5)"
   ]
  },
  {
   "cell_type": "code",
   "execution_count": 23,
   "metadata": {},
   "outputs": [
    {
     "name": "stdout",
     "output_type": "stream",
     "text": [
      "+-----+-----+----+------------------+\n",
      "|index|group|name|  eigen_centrality|\n",
      "+-----+-----+----+------------------+\n",
      "|  226|   12| 226|0.5773502691896258|\n",
      "|  227|   12| 227|0.5773502691896258|\n",
      "+-----+-----+----+------------------+\n",
      "only showing top 2 rows\n",
      "\n"
     ]
    }
   ],
   "source": [
    "df_nodes = cc.withColumnRenamed(\"id\",\"index\").withColumnRenamed(\"component\",\"group\")\n",
    "df_nodes = df_nodes.withColumn(\"name\",f.col(\"index\"))\n",
    "node_df_for_viz = df_nodes.join(node_eigen_centrality,(df_nodes.index==node_eigen_centrality.node)).drop(\"node\")\n",
    "node_df_for_viz.show(2)"
   ]
  },
  {
   "cell_type": "code",
   "execution_count": 24,
   "metadata": {},
   "outputs": [
    {
     "data": {
      "text/plain": [
       "'(72,61,17179869220,25769803812,38)'"
      ]
     },
     "execution_count": 24,
     "metadata": {},
     "output_type": "execute_result"
    }
   ],
   "source": [
    "# choose components to visualise\n",
    "\n",
    "\n",
    "comp_list = graphstats.sort(graphstats.nodecount.desc(),graphstats.transitivity.asc()).\\\n",
    "limit(5).select(\"component\").rdd.flatMap(list).collect()\n",
    "\n",
    "comp_list_str=\"(\"+(','.join(str(x) for x in comp_list))+\")\"\n",
    "comp_list_str"
   ]
  },
  {
   "cell_type": "code",
   "execution_count": 25,
   "metadata": {},
   "outputs": [],
   "source": [
    "df_nodes_pd = node_df_for_viz.filter(f\" group IN {comp_list_str} \").toPandas()\n",
    "df_edges_pd = edge_df_for_viz.filter(f\" component IN {comp_list_str} \").toPandas()\n",
    "edge_fields = [\"source\", \"target\", \"value\",]\n",
    "node_fields = [\"name\", \"group\", \"index\",]"
   ]
  },
  {
   "cell_type": "code",
   "execution_count": 26,
   "metadata": {},
   "outputs": [],
   "source": [
    "\n",
    "import json\n",
    "with open(\"data/graph/force_template.vg.json\") as f:\n",
    "    vl = json.load(f)\n",
    "\n"
   ]
  },
  {
   "cell_type": "code",
   "execution_count": 27,
   "metadata": {},
   "outputs": [],
   "source": [
    "vl['data'][0] = {\n",
    "    \"name\": \"node-data\",\n",
    "    \"values\": df_nodes_pd[node_fields].to_dict(orient='records'),\n",
    "\n",
    "}\n",
    "\n",
    "vl['data'][1] = {\n",
    "    \"name\": \"link-data\",\n",
    "    \"values\":  df_edges_pd[edge_fields].to_dict(orient='records')\n",
    "}\n",
    "\n",
    "vl['width'] = 1200\n",
    "vl['height'] = 600"
   ]
  },
  {
   "cell_type": "code",
   "execution_count": 28,
   "metadata": {},
   "outputs": [
    {
     "data": {
      "application/javascript": [
       "    var script = document.createElement('script');\n",
       "    script.type = 'text/javascript';\n",
       "    script.src = '//cdn.jsdelivr.net/npm/vega@5';\n",
       "    document.head.appendChild(script);\n",
       "    \n",
       "    var script = document.createElement('script');\n",
       "    script.type = 'text/javascript';\n",
       "    script.src = '//cdn.jsdelivr.net/npm/vega-embed@6';\n",
       "    document.head.appendChild(script);\n",
       "\n"
      ],
      "text/plain": [
       "<IPython.core.display.Javascript object>"
      ]
     },
     "metadata": {},
     "output_type": "display_data"
    }
   ],
   "source": [
    "\n",
    "%%javascript\n",
    "    var script = document.createElement('script');\n",
    "    script.type = 'text/javascript';\n",
    "    script.src = '//cdn.jsdelivr.net/npm/vega@5';\n",
    "    document.head.appendChild(script);\n",
    "    \n",
    "    var script = document.createElement('script');\n",
    "    script.type = 'text/javascript';\n",
    "    script.src = '//cdn.jsdelivr.net/npm/vega-embed@6';\n",
    "    document.head.appendChild(script);\n",
    "\n"
   ]
  },
  {
   "cell_type": "code",
   "execution_count": 29,
   "metadata": {},
   "outputs": [],
   "source": [
    "\n",
    "\n",
    "from IPython.display import Javascript\n",
    "script = f\"\"\"\n",
    "var spec = `{json.dumps(vl)}`\n",
    "spec= JSON.parse(spec)\n",
    "debugger;\n",
    "vegaEmbed(element, spec).then(function(result) {{\n",
    "  }}).catch(console.error);  \n",
    "\"\"\"\n",
    "\n"
   ]
  },
  {
   "cell_type": "code",
   "execution_count": 30,
   "metadata": {},
   "outputs": [
    {
     "data": {
      "application/javascript": [
       "\n",
       "var spec = `{\"$schema\": \"https://vega.github.io/schema/vega/v5.json\", \"description\": \"A node-link diagram with force-directed layout, depicting character co-occurrence in the novel Les Mis\\u00e9rables.\", \"width\": 1200, \"height\": 600, \"padding\": 0, \"autosize\": \"none\", \"signals\": [{\"name\": \"cx\", \"update\": \"width / 2\"}, {\"name\": \"cy\", \"update\": \"height / 2\"}, {\"name\": \"nodeRadius\", \"value\": 10, \"bind\": {\"input\": \"range\", \"min\": 1, \"max\": 50, \"step\": 1}}, {\"name\": \"nodeCharge\", \"value\": -3, \"bind\": {\"input\": \"range\", \"min\": -2000, \"max\": 100, \"step\": 1}}, {\"name\": \"linkDistance\", \"value\": 83, \"bind\": {\"input\": \"range\", \"min\": 1, \"max\": 300, \"step\": 1}}, {\"name\": \"static\", \"value\": false, \"bind\": {\"input\": \"checkbox\"}}, {\"description\": \"State variable for active node fix status.\", \"name\": \"fix\", \"value\": false, \"on\": [{\"events\": \"symbol:mouseout[!event.buttons], window:mouseup\", \"update\": \"false\"}, {\"events\": \"symbol:mouseover\", \"update\": \"fix || true\"}, {\"events\": \"[symbol:mousedown, window:mouseup] > window:mousemove!\", \"update\": \"xy()\", \"force\": true}]}, {\"description\": \"Graph node most recently interacted with.\", \"name\": \"node\", \"value\": null, \"on\": [{\"events\": \"symbol:mouseover\", \"update\": \"fix === true ? item() : node\"}]}, {\"description\": \"Flag to restart Force simulation upon data changes.\", \"name\": \"restart\", \"value\": false, \"on\": [{\"events\": {\"signal\": \"fix\"}, \"update\": \"fix && fix.length\"}]}], \"data\": [{\"name\": \"node-data\", \"values\": [{\"name\": \"442\", \"group\": 25769803812, \"index\": \"442\"}, {\"name\": \"444\", \"group\": 25769803812, \"index\": \"444\"}, {\"name\": \"445\", \"group\": 25769803812, \"index\": \"445\"}, {\"name\": \"439\", \"group\": 25769803812, \"index\": \"439\"}, {\"name\": \"441\", \"group\": 25769803812, \"index\": \"441\"}, {\"name\": \"798\", \"group\": 61, \"index\": \"798\"}, {\"name\": \"799\", \"group\": 61, \"index\": \"799\"}, {\"name\": \"800\", \"group\": 61, \"index\": \"800\"}, {\"name\": \"802\", \"group\": 61, \"index\": \"802\"}, {\"name\": \"804\", \"group\": 61, \"index\": \"804\"}, {\"name\": \"575\", \"group\": 17179869220, \"index\": \"575\"}, {\"name\": \"576\", \"group\": 17179869220, \"index\": \"576\"}, {\"name\": \"577\", \"group\": 17179869220, \"index\": \"577\"}, {\"name\": \"579\", \"group\": 17179869220, \"index\": \"579\"}, {\"name\": \"580\", \"group\": 17179869220, \"index\": \"580\"}, {\"name\": \"494\", \"group\": 38, \"index\": \"494\"}, {\"name\": \"495\", \"group\": 38, \"index\": \"495\"}, {\"name\": \"496\", \"group\": 38, \"index\": \"496\"}, {\"name\": \"497\", \"group\": 38, \"index\": \"497\"}, {\"name\": \"493\", \"group\": 38, \"index\": \"493\"}, {\"name\": \"940\", \"group\": 72, \"index\": \"940\"}, {\"name\": \"941\", \"group\": 72, \"index\": \"941\"}, {\"name\": \"943\", \"group\": 72, \"index\": \"943\"}, {\"name\": \"939\", \"group\": 72, \"index\": \"939\"}, {\"name\": \"938\", \"group\": 72, \"index\": \"938\"}, {\"name\": \"937\", \"group\": 72, \"index\": \"937\"}]}, {\"name\": \"link-data\", \"values\": [{\"source\": \"938\", \"target\": \"939\", \"value\": 0.06666667014360428}, {\"source\": \"938\", \"target\": \"940\", \"value\": 0.06666667014360428}, {\"source\": \"441\", \"target\": \"442\", \"value\": 0.10000000149011612}, {\"source\": \"575\", \"target\": \"579\", \"value\": 0.4000000059604645}, {\"source\": \"577\", \"target\": \"579\", \"value\": 0.20000000298023224}, {\"source\": \"941\", \"target\": \"943\", \"value\": 0.20000000298023224}, {\"source\": \"495\", \"target\": \"496\", \"value\": 0.10000000149011612}, {\"source\": \"575\", \"target\": \"576\", \"value\": 0.4000000059604645}, {\"source\": \"798\", \"target\": \"802\", \"value\": 0.4000000059604645}, {\"source\": \"939\", \"target\": \"940\", \"value\": 0.06666667014360428}, {\"source\": \"439\", \"target\": \"441\", \"value\": 0.20000000298023224}, {\"source\": \"439\", \"target\": \"442\", \"value\": 0.20000000298023224}, {\"source\": \"441\", \"target\": \"444\", \"value\": 0.20000000298023224}, {\"source\": \"442\", \"target\": \"445\", \"value\": 0.20000000298023224}, {\"source\": \"494\", \"target\": \"495\", \"value\": 0.20000000298023224}, {\"source\": \"575\", \"target\": \"577\", \"value\": 0.20000000298023224}, {\"source\": \"579\", \"target\": \"580\", \"value\": 0.4000000059604645}, {\"source\": \"939\", \"target\": \"941\", \"value\": 0.20000000298023224}, {\"source\": \"940\", \"target\": \"941\", \"value\": 0.06666667014360428}, {\"source\": \"441\", \"target\": \"445\", \"value\": 0.20000000298023224}, {\"source\": \"493\", \"target\": \"495\", \"value\": 0.30000001192092896}, {\"source\": \"493\", \"target\": \"496\", \"value\": 0.10000000149011612}, {\"source\": \"798\", \"target\": \"799\", \"value\": 0.4000000059604645}, {\"source\": \"798\", \"target\": \"800\", \"value\": 0.4000000059604645}, {\"source\": \"937\", \"target\": \"940\", \"value\": 0.06666667014360428}, {\"source\": \"937\", \"target\": \"943\", \"value\": 0.06666667014360428}, {\"source\": \"494\", \"target\": \"496\", \"value\": 0.10000000149011612}, {\"source\": \"495\", \"target\": \"497\", \"value\": 0.20000000298023224}, {\"source\": \"938\", \"target\": \"941\", \"value\": 0.20000000298023224}, {\"source\": \"940\", \"target\": \"943\", \"value\": 0.06666667014360428}, {\"source\": \"442\", \"target\": \"444\", \"value\": 0.20000000298023224}, {\"source\": \"494\", \"target\": \"497\", \"value\": 0.10000000149011612}, {\"source\": \"496\", \"target\": \"497\", \"value\": 0.10000000149011612}, {\"source\": \"798\", \"target\": \"804\", \"value\": 0.4000000059604645}, {\"source\": \"937\", \"target\": \"941\", \"value\": 0.20000000298023224}]}], \"scales\": [{\"name\": \"color\", \"type\": \"ordinal\", \"domain\": {\"data\": \"node-data\", \"field\": \"group\"}, \"range\": {\"scheme\": \"category20c\"}}, {\"name\": \"link_color\", \"type\": \"linear\", \"domain\": {\"data\": \"link-data\", \"field\": \"value\"}, \"range\": {\"scheme\": \"yelloworangered\"}}], \"marks\": [{\"name\": \"nodes\", \"type\": \"symbol\", \"zindex\": 1, \"from\": {\"data\": \"node-data\"}, \"on\": [{\"trigger\": \"fix\", \"modify\": \"node\", \"values\": \"fix === true ? {fx: node.x, fy: node.y} : {fx: fix[0], fy: fix[1]}\"}, {\"trigger\": \"!fix\", \"modify\": \"node\", \"values\": \"{fx: null, fy: null}\"}], \"encode\": {\"enter\": {\"fill\": {\"scale\": \"color\", \"field\": \"group\"}, \"stroke\": {\"value\": \"white\"}, \"tooltip\": {\"signal\": \"datum\"}}, \"update\": {\"size\": {\"signal\": \"2 * nodeRadius * nodeRadius\"}, \"cursor\": {\"value\": \"pointer\"}}}, \"transform\": [{\"type\": \"force\", \"iterations\": 300, \"restart\": {\"signal\": \"restart\"}, \"static\": {\"signal\": \"static\"}, \"signal\": \"force\", \"forces\": [{\"force\": \"center\", \"x\": {\"signal\": \"cx\"}, \"y\": {\"signal\": \"cy\"}}, {\"force\": \"collide\", \"radius\": {\"signal\": \"nodeRadius\"}}, {\"force\": \"nbody\", \"strength\": {\"signal\": \"nodeCharge\"}}, {\"force\": \"link\", \"id\": \"datum.name\", \"links\": \"link-data\", \"distance\": {\"signal\": \"linkDistance\"}}]}]}, {\"type\": \"path\", \"from\": {\"data\": \"link-data\"}, \"interactive\": true, \"encode\": {\"update\": {\"stroke\": {\"scale\": \"link_color\", \"field\": \"value\"}, \"tooltip\": {\"signal\": \"datum.comparison\"}, \"strokeWidth\": {\"value\": 2}}}, \"transform\": [{\"type\": \"linkpath\", \"require\": {\"signal\": \"force\"}, \"shape\": \"line\", \"sourceX\": \"datum.source.x\", \"sourceY\": \"datum.source.y\", \"targetX\": \"datum.target.x\", \"targetY\": \"datum.target.y\"}]}, {\"type\": \"text\", \"from\": {\"data\": \"nodes\"}, \"interactive\": false, \"zindex\": 2, \"encode\": {\"enter\": {\"align\": {\"value\": \"center\"}, \"baseline\": {\"value\": \"middle\"}, \"fontSize\": {\"value\": 2}, \"fontWeight\": {\"value\": \"bold\"}, \"text\": {\"field\": \"datum.name\"}}, \"update\": {\"x\": {\"field\": \"x\"}, \"y\": {\"field\": \"y\"}}}}]}`\n",
       "spec= JSON.parse(spec)\n",
       "debugger;\n",
       "vegaEmbed(element, spec).then(function(result) {\n",
       "  }).catch(console.error);  \n"
      ],
      "text/plain": [
       "<IPython.core.display.Javascript object>"
      ]
     },
     "execution_count": 30,
     "metadata": {},
     "output_type": "execute_result"
    }
   ],
   "source": [
    "\n",
    "\n",
    "Javascript(script)\n",
    "\n"
   ]
  },
  {
   "cell_type": "code",
   "execution_count": null,
   "metadata": {},
   "outputs": [],
   "source": []
  }
 ],
 "metadata": {
  "kernelspec": {
   "display_name": "Python 3",
   "language": "python",
   "name": "python3"
  },
  "language_info": {
   "codemirror_mode": {
    "name": "ipython",
    "version": 3
   },
   "file_extension": ".py",
   "mimetype": "text/x-python",
   "name": "python",
   "nbconvert_exporter": "python",
   "pygments_lexer": "ipython3",
   "version": "3.7.4"
  }
 },
 "nbformat": 4,
 "nbformat_minor": 5
}
